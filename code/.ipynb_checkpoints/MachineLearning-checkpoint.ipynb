{
 "cells": [
  {
   "cell_type": "markdown",
   "metadata": {},
   "source": [
    "# Machine Learning\n",
    "\n",
    "First of all, let's import all the modules that we will use. "
   ]
  },
  {
   "cell_type": "code",
   "execution_count": 97,
   "metadata": {},
   "outputs": [],
   "source": [
    "##Imports needed plugins\n",
    "\n",
    "import pandas as pd\n",
    "import itertools\n",
    "import numpy as np\n",
    "import matplotlib.pyplot as plt\n",
    "import datetime as dt \n",
    "import plotly.express as px\n",
    "import plotly.graph_objects as go\n",
    "import warnings\n",
    "import seaborn as sns\n",
    "import pydotplus\n",
    "\n",
    "from sklearn.tree import DecisionTreeClassifier\n",
    "from sklearn.ensemble import RandomForestClassifier\n",
    "from sklearn.metrics import confusion_matrix\n",
    "from sklearn.linear_model import LinearRegression\n",
    "from sklearn.preprocessing import LabelEncoder, OneHotEncoder\n",
    "from sklearn.model_selection import train_test_split\n",
    "from sklearn.linear_model import LogisticRegressionCV\n",
    "from sklearn.metrics import recall_score\n",
    "from sklearn.externals.six import StringIO  \n",
    "from IPython.display import Image \n",
    "from sklearn.tree import export_graphviz\n",
    "from IPython.display import SVG\n",
    "from graphviz import Source\n",
    "from IPython.display import display\n",
    "\n",
    "#!pip install pydotplus\n",
    "#!pip install graphviz\n",
    "\n",
    "sns.set_style(\"darkgrid\")\n",
    "warnings.filterwarnings(\"ignore\")"
   ]
  },
  {
   "cell_type": "markdown",
   "metadata": {},
   "source": [
    "We will now import the dataset."
   ]
  },
  {
   "cell_type": "code",
   "execution_count": 28,
   "metadata": {},
   "outputs": [
    {
     "data": {
      "text/html": [
       "<div>\n",
       "<style scoped>\n",
       "    .dataframe tbody tr th:only-of-type {\n",
       "        vertical-align: middle;\n",
       "    }\n",
       "\n",
       "    .dataframe tbody tr th {\n",
       "        vertical-align: top;\n",
       "    }\n",
       "\n",
       "    .dataframe thead th {\n",
       "        text-align: right;\n",
       "    }\n",
       "</style>\n",
       "<table border=\"1\" class=\"dataframe\">\n",
       "  <thead>\n",
       "    <tr style=\"text-align: right;\">\n",
       "      <th></th>\n",
       "      <th>Port Name</th>\n",
       "      <th>State</th>\n",
       "      <th>Port Code</th>\n",
       "      <th>Border</th>\n",
       "      <th>Date</th>\n",
       "      <th>Measure</th>\n",
       "      <th>Value</th>\n",
       "      <th>Year</th>\n",
       "      <th>Month</th>\n",
       "      <th>position</th>\n",
       "      <th>latitude</th>\n",
       "      <th>longitude</th>\n",
       "    </tr>\n",
       "  </thead>\n",
       "  <tbody>\n",
       "    <tr>\n",
       "      <th>0</th>\n",
       "      <td>Warroad</td>\n",
       "      <td>Minnesota</td>\n",
       "      <td>3423</td>\n",
       "      <td>US-Canada Border</td>\n",
       "      <td>2019-06-01</td>\n",
       "      <td>Personal Vehicle Passengers</td>\n",
       "      <td>19459</td>\n",
       "      <td>2019</td>\n",
       "      <td>6</td>\n",
       "      <td>(48.905266, -95.314404)</td>\n",
       "      <td>48.905266</td>\n",
       "      <td>-95.314404</td>\n",
       "    </tr>\n",
       "    <tr>\n",
       "      <th>1</th>\n",
       "      <td>Warroad</td>\n",
       "      <td>Minnesota</td>\n",
       "      <td>3423</td>\n",
       "      <td>US-Canada Border</td>\n",
       "      <td>2019-06-01</td>\n",
       "      <td>Pedestrians</td>\n",
       "      <td>2</td>\n",
       "      <td>2019</td>\n",
       "      <td>6</td>\n",
       "      <td>(48.905266, -95.314404)</td>\n",
       "      <td>48.905266</td>\n",
       "      <td>-95.314404</td>\n",
       "    </tr>\n",
       "    <tr>\n",
       "      <th>2</th>\n",
       "      <td>Warroad</td>\n",
       "      <td>Minnesota</td>\n",
       "      <td>3423</td>\n",
       "      <td>US-Canada Border</td>\n",
       "      <td>2019-06-01</td>\n",
       "      <td>Bus Passengers</td>\n",
       "      <td>63</td>\n",
       "      <td>2019</td>\n",
       "      <td>6</td>\n",
       "      <td>(48.905266, -95.314404)</td>\n",
       "      <td>48.905266</td>\n",
       "      <td>-95.314404</td>\n",
       "    </tr>\n",
       "    <tr>\n",
       "      <th>3</th>\n",
       "      <td>Roseau</td>\n",
       "      <td>Minnesota</td>\n",
       "      <td>3426</td>\n",
       "      <td>US-Canada Border</td>\n",
       "      <td>2019-06-01</td>\n",
       "      <td>Personal Vehicle Passengers</td>\n",
       "      <td>7385</td>\n",
       "      <td>2019</td>\n",
       "      <td>6</td>\n",
       "      <td>(48.7710371, -95.7697882)</td>\n",
       "      <td>48.771037</td>\n",
       "      <td>-95.769788</td>\n",
       "    </tr>\n",
       "    <tr>\n",
       "      <th>4</th>\n",
       "      <td>Roseau</td>\n",
       "      <td>Minnesota</td>\n",
       "      <td>3426</td>\n",
       "      <td>US-Canada Border</td>\n",
       "      <td>2019-06-01</td>\n",
       "      <td>Bus Passengers</td>\n",
       "      <td>118</td>\n",
       "      <td>2019</td>\n",
       "      <td>6</td>\n",
       "      <td>(48.7710371, -95.7697882)</td>\n",
       "      <td>48.771037</td>\n",
       "      <td>-95.769788</td>\n",
       "    </tr>\n",
       "  </tbody>\n",
       "</table>\n",
       "</div>"
      ],
      "text/plain": [
       "  Port Name      State  Port Code            Border        Date  \\\n",
       "0   Warroad  Minnesota       3423  US-Canada Border  2019-06-01   \n",
       "1   Warroad  Minnesota       3423  US-Canada Border  2019-06-01   \n",
       "2   Warroad  Minnesota       3423  US-Canada Border  2019-06-01   \n",
       "3    Roseau  Minnesota       3426  US-Canada Border  2019-06-01   \n",
       "4    Roseau  Minnesota       3426  US-Canada Border  2019-06-01   \n",
       "\n",
       "                       Measure  Value  Year  Month                   position  \\\n",
       "0  Personal Vehicle Passengers  19459  2019      6    (48.905266, -95.314404)   \n",
       "1                  Pedestrians      2  2019      6    (48.905266, -95.314404)   \n",
       "2               Bus Passengers     63  2019      6    (48.905266, -95.314404)   \n",
       "3  Personal Vehicle Passengers   7385  2019      6  (48.7710371, -95.7697882)   \n",
       "4               Bus Passengers    118  2019      6  (48.7710371, -95.7697882)   \n",
       "\n",
       "    latitude  longitude  \n",
       "0  48.905266 -95.314404  \n",
       "1  48.905266 -95.314404  \n",
       "2  48.905266 -95.314404  \n",
       "3  48.771037 -95.769788  \n",
       "4  48.771037 -95.769788  "
      ]
     },
     "execution_count": 28,
     "metadata": {},
     "output_type": "execute_result"
    }
   ],
   "source": [
    "# Import the data\n",
    "data = pd.read_csv(\"../data/DataWithLocationCleaned.csv.gz\")\n",
    "df = data.copy()\n",
    "\n",
    "# Create a list of ports\n",
    "ports = nozero['Port Name'].unique()\n",
    "nozero.head()"
   ]
  },
  {
   "cell_type": "code",
   "execution_count": 30,
   "metadata": {},
   "outputs": [
    {
     "data": {
      "text/html": [
       "<div>\n",
       "<style scoped>\n",
       "    .dataframe tbody tr th:only-of-type {\n",
       "        vertical-align: middle;\n",
       "    }\n",
       "\n",
       "    .dataframe tbody tr th {\n",
       "        vertical-align: top;\n",
       "    }\n",
       "\n",
       "    .dataframe thead th {\n",
       "        text-align: right;\n",
       "    }\n",
       "</style>\n",
       "<table border=\"1\" class=\"dataframe\">\n",
       "  <thead>\n",
       "    <tr style=\"text-align: right;\">\n",
       "      <th></th>\n",
       "      <th>Port Name</th>\n",
       "      <th>State</th>\n",
       "      <th>Port Code</th>\n",
       "      <th>Border</th>\n",
       "      <th>Date</th>\n",
       "      <th>Measure</th>\n",
       "      <th>Value</th>\n",
       "      <th>Year</th>\n",
       "      <th>Month</th>\n",
       "      <th>position</th>\n",
       "      <th>latitude</th>\n",
       "      <th>longitude</th>\n",
       "    </tr>\n",
       "  </thead>\n",
       "  <tbody>\n",
       "    <tr>\n",
       "      <th>0</th>\n",
       "      <td>Warroad</td>\n",
       "      <td>Minnesota</td>\n",
       "      <td>3423</td>\n",
       "      <td>US-Canada Border</td>\n",
       "      <td>2019-06-01</td>\n",
       "      <td>Personal Vehicle Passengers</td>\n",
       "      <td>19459</td>\n",
       "      <td>2019</td>\n",
       "      <td>6</td>\n",
       "      <td>(48.905266, -95.314404)</td>\n",
       "      <td>48.905266</td>\n",
       "      <td>-95.314404</td>\n",
       "    </tr>\n",
       "    <tr>\n",
       "      <th>1</th>\n",
       "      <td>Warroad</td>\n",
       "      <td>Minnesota</td>\n",
       "      <td>3423</td>\n",
       "      <td>US-Canada Border</td>\n",
       "      <td>2019-06-01</td>\n",
       "      <td>Pedestrians</td>\n",
       "      <td>2</td>\n",
       "      <td>2019</td>\n",
       "      <td>6</td>\n",
       "      <td>(48.905266, -95.314404)</td>\n",
       "      <td>48.905266</td>\n",
       "      <td>-95.314404</td>\n",
       "    </tr>\n",
       "    <tr>\n",
       "      <th>2</th>\n",
       "      <td>Warroad</td>\n",
       "      <td>Minnesota</td>\n",
       "      <td>3423</td>\n",
       "      <td>US-Canada Border</td>\n",
       "      <td>2019-06-01</td>\n",
       "      <td>Bus Passengers</td>\n",
       "      <td>63</td>\n",
       "      <td>2019</td>\n",
       "      <td>6</td>\n",
       "      <td>(48.905266, -95.314404)</td>\n",
       "      <td>48.905266</td>\n",
       "      <td>-95.314404</td>\n",
       "    </tr>\n",
       "    <tr>\n",
       "      <th>3</th>\n",
       "      <td>Roseau</td>\n",
       "      <td>Minnesota</td>\n",
       "      <td>3426</td>\n",
       "      <td>US-Canada Border</td>\n",
       "      <td>2019-06-01</td>\n",
       "      <td>Personal Vehicle Passengers</td>\n",
       "      <td>7385</td>\n",
       "      <td>2019</td>\n",
       "      <td>6</td>\n",
       "      <td>(48.7710371, -95.7697882)</td>\n",
       "      <td>48.7710371</td>\n",
       "      <td>-95.7697882</td>\n",
       "    </tr>\n",
       "    <tr>\n",
       "      <th>4</th>\n",
       "      <td>Roseau</td>\n",
       "      <td>Minnesota</td>\n",
       "      <td>3426</td>\n",
       "      <td>US-Canada Border</td>\n",
       "      <td>2019-06-01</td>\n",
       "      <td>Bus Passengers</td>\n",
       "      <td>118</td>\n",
       "      <td>2019</td>\n",
       "      <td>6</td>\n",
       "      <td>(48.7710371, -95.7697882)</td>\n",
       "      <td>48.7710371</td>\n",
       "      <td>-95.7697882</td>\n",
       "    </tr>\n",
       "  </tbody>\n",
       "</table>\n",
       "</div>"
      ],
      "text/plain": [
       "  Port Name      State  Port Code            Border        Date  \\\n",
       "0   Warroad  Minnesota       3423  US-Canada Border  2019-06-01   \n",
       "1   Warroad  Minnesota       3423  US-Canada Border  2019-06-01   \n",
       "2   Warroad  Minnesota       3423  US-Canada Border  2019-06-01   \n",
       "3    Roseau  Minnesota       3426  US-Canada Border  2019-06-01   \n",
       "4    Roseau  Minnesota       3426  US-Canada Border  2019-06-01   \n",
       "\n",
       "                       Measure  Value  Year  Month                   position  \\\n",
       "0  Personal Vehicle Passengers  19459  2019      6    (48.905266, -95.314404)   \n",
       "1                  Pedestrians      2  2019      6    (48.905266, -95.314404)   \n",
       "2               Bus Passengers     63  2019      6    (48.905266, -95.314404)   \n",
       "3  Personal Vehicle Passengers   7385  2019      6  (48.7710371, -95.7697882)   \n",
       "4               Bus Passengers    118  2019      6  (48.7710371, -95.7697882)   \n",
       "\n",
       "     latitude    longitude  \n",
       "0   48.905266   -95.314404  \n",
       "1   48.905266   -95.314404  \n",
       "2   48.905266   -95.314404  \n",
       "3  48.7710371  -95.7697882  \n",
       "4  48.7710371  -95.7697882  "
      ]
     },
     "execution_count": 30,
     "metadata": {},
     "output_type": "execute_result"
    }
   ],
   "source": [
    "# Add lagitude and longitude\n",
    "# Create one dataFrame for persons and one only for traffic\n",
    "def getlat(x):\n",
    "    lat = x.partition(',')[0][1:]\n",
    "    if lat[0] == \"'\":\n",
    "        lat = lat[1:-1]\n",
    "    return lat\n",
    "\n",
    "def getlong(x):\n",
    "    lat = x.partition(',')[2]\n",
    "    if lat[1] == \"'\":\n",
    "        lat = lat[2:-2]\n",
    "    else:\n",
    "        lat = lat[1:-1]\n",
    "    return lat\n",
    "\n",
    "df['latitude'] = df['position'].apply(lambda x: getlat(x))\n",
    "df['longitude'] = df['position'].apply(lambda x: getlong(x))\n",
    "persons = df[df['Measure'].isin(['Bus Passengers','Pedestrians','Personal Vehicle Passengers','Train Passengers'])].reset_index().drop(columns=['index'])\n",
    "nozero = persons[persons['Value'] != 0]\n",
    "ports = df['Port Name'].unique()\n",
    "nozero.head()"
   ]
  },
  {
   "cell_type": "markdown",
   "metadata": {},
   "source": [
    "Now that we have the data ready, we will work on regression.\n"
   ]
  },
  {
   "cell_type": "markdown",
   "metadata": {},
   "source": [
    "# Logistic regression\n",
    "\n",
    "Let's define some functions in order to use them later on.\n"
   ]
  },
  {
   "cell_type": "code",
   "execution_count": 235,
   "metadata": {},
   "outputs": [],
   "source": [
    "def logistic(X,y,baseRate):\n",
    "    X_train, X_test, y_train, y_test = train_test_split(X, y, test_size=0.2, random_state=42)\n",
    "    LR = LogisticRegressionCV(solver='lbfgs', cv=5, max_iter=1000)\n",
    "    LR.fit(X_train,y_train)\n",
    "    test_score = LR.score(X_test, y_test)\n",
    "    train_score = LR.score(X_train,y_train)\n",
    "    print(\"train_score :\",train_score,\"test_score =\",test_score)\n",
    "    return [train_score,test_score,confusion_matrix(y_train, LR.predict(X_train)),baseRate]\n",
    "\n",
    "def encodeOneHot(z,f,i):\n",
    "    test = z\n",
    "    baseRate = pd.qcut(test['Value'],q = i, duplicates = 'drop').value_counts()\n",
    "    print(\"Base rate :\",baseRate.max()/baseRate.sum())\n",
    "    print()\n",
    "    test['quant'] = pd.qcut(test['Value'],q = i, duplicates = 'drop')\n",
    "    print(\"intervals for y:\")\n",
    "    print(test['quant'].value_counts())\n",
    "    print()\n",
    "    le = LabelEncoder()\n",
    "    y = le.fit_transform(test[\"quant\"])\n",
    "    y.shape\n",
    "    one_hot = OneHotEncoder(categories=\"auto\")\n",
    "    categoricals = []\n",
    "    features = f.copy()\n",
    "    for feature in f:\n",
    "        if feature in ['Measure','State','Border']:\n",
    "            categoricals.append(feature)\n",
    "            features.remove(feature)\n",
    "              \n",
    "    cat_to_onehot = one_hot.fit_transform(test[categoricals]).toarray()\n",
    "    cat_to_onehot = pd.DataFrame(cat_to_onehot)\n",
    "    X = pd.concat((test[features].reset_index(drop=True),cat_to_onehot.reset_index(drop=True)),axis=1)\n",
    "    return logistic(X,y,baseRate.max()/baseRate.sum())\n",
    "\n",
    "def  computeLogistic(dataset,ports,f,i):\n",
    "    if (len(f) == 0):\n",
    "        return\n",
    "    Zone = dataset[dataset['Port Name'].isin(ports)].reset_index(drop=True)\n",
    "    return encodeOneHot(Zone,f,i)\n"
   ]
  },
  {
   "cell_type": "markdown",
   "metadata": {},
   "source": [
    "## Find a good number of intervals\n",
    "\n",
    "We will test what is the best number of intervals to use for the logistic regression between 2 and 9.\n"
   ]
  },
  {
   "cell_type": "code",
   "execution_count": 210,
   "metadata": {},
   "outputs": [
    {
     "name": "stdout",
     "output_type": "stream",
     "text": [
      "Base rate : 0.5000396699460489\n",
      "\n",
      "intervalls for y:\n",
      "(0.999, 2394.0]        37815\n",
      "(2394.0, 4447374.0]    37809\n",
      "Name: quant, dtype: int64\n",
      "\n",
      "train_score : 0.8219144118084596 test_score = 0.8216859504132231\n",
      "Base rate : 0.3335977996403258\n",
      "\n",
      "intervalls for y:\n",
      "(0.999, 501.0]            25228\n",
      "(11238.333, 4447374.0]    25208\n",
      "(501.0, 11238.333]        25188\n",
      "Name: quant, dtype: int64\n",
      "\n",
      "train_score : 0.6876807881122002 test_score = 0.691107438016529\n",
      "Base rate : 0.2500925632074474\n",
      "\n",
      "intervalls for y:\n",
      "(0.999, 190.0]          18913\n",
      "(32053.0, 4447374.0]    18906\n",
      "(2394.0, 32053.0]       18903\n",
      "(190.0, 2394.0]         18902\n",
      "Name: quant, dtype: int64\n",
      "\n",
      "train_score : 0.5725053306666226 test_score = 0.5818181818181818\n",
      "Base rate : 0.20034645086216016\n",
      "\n",
      "intervalls for y:\n",
      "(0.999, 103.0]          15151\n",
      "(57873.4, 4447374.0]    15125\n",
      "(6087.8, 57873.4]       15125\n",
      "(948.0, 6087.8]         15118\n",
      "(103.0, 948.0]          15105\n",
      "Name: quant, dtype: int64\n",
      "\n",
      "train_score : 0.5242731284814625 test_score = 0.5268099173553719\n",
      "Base rate : 0.16703691949645616\n",
      "\n",
      "intervalls for y:\n",
      "(0.999, 68.0]           12632\n",
      "(84647.0, 4447374.0]    12604\n",
      "(11238.333, 84647.0]    12604\n",
      "(2394.0, 11238.333]     12601\n",
      "(68.0, 501.0]           12596\n",
      "(501.0, 2394.0]         12587\n",
      "Name: quant, dtype: int64\n",
      "\n",
      "train_score : 0.46094976776475644 test_score = 0.46261157024793387\n",
      "Base rate : 0.14404157410345922\n",
      "\n",
      "intervalls for y:\n",
      "(0.999, 54.0]              10893\n",
      "(114406.857, 4447374.0]    10804\n",
      "(20888.857, 114406.857]    10803\n",
      "(4713.429, 20888.857]      10803\n",
      "(1243.0, 4713.429]         10802\n",
      "(288.0, 1243.0]            10788\n",
      "(54.0, 288.0]              10731\n",
      "Name: quant, dtype: int64\n",
      "\n",
      "train_score : 0.405130663316749 test_score = 0.40826446280991735\n",
      "Base rate : 0.12650745794985718\n",
      "\n",
      "intervalls for y:\n",
      "(0.999, 45.0]              9567\n",
      "(142958.375, 4447374.0]    9453\n",
      "(32053.0, 142958.375]      9453\n",
      "(7484.0, 32053.0]          9452\n",
      "(740.0, 2394.0]            9452\n",
      "(2394.0, 7484.0]           9451\n",
      "(190.0, 740.0]             9450\n",
      "(45.0, 190.0]              9346\n",
      "Name: quant, dtype: int64\n",
      "\n",
      "train_score : 0.38083274103704196 test_score = 0.38783471074380166\n",
      "Base rate : 0.11221305405691315\n",
      "\n",
      "intervalls for y:\n",
      "(0.999, 39.0]              8486\n",
      "(173084.889, 4447374.0]    8403\n",
      "(45657.556, 173084.889]    8403\n",
      "(4075.778, 11238.333]      8403\n",
      "(11238.333, 45657.556]     8402\n",
      "(1437.0, 4075.778]         8398\n",
      "(140.0, 501.0]             8392\n",
      "(501.0, 1437.0]            8387\n",
      "(39.0, 140.0]              8350\n",
      "Name: quant, dtype: int64\n",
      "\n",
      "train_score : 0.3437412188631217 test_score = 0.343603305785124\n"
     ]
    }
   ],
   "source": [
    "test = []\n",
    "for i in range(2,10):\n",
    "    test.append([i,computeLogistic(nozero,ports,['Measure','Port Code','State','latitude','longitude'],i)])"
   ]
  },
  {
   "cell_type": "code",
   "execution_count": 211,
   "metadata": {},
   "outputs": [
    {
     "name": "stdout",
     "output_type": "stream",
     "text": [
      "[[2, 0.8219144118084596, 0.8216859504132231, 0.5000396699460489], [3, 0.6876807881122002, 0.691107438016529, 0.3335977996403258], [4, 0.5725053306666226, 0.5818181818181818, 0.2500925632074474], [5, 0.5242731284814625, 0.5268099173553719, 0.20034645086216016], [6, 0.46094976776475644, 0.46261157024793387, 0.16703691949645616], [7, 0.405130663316749, 0.40826446280991735, 0.14404157410345922], [8, 0.38083274103704196, 0.38783471074380166, 0.12650745794985718], [9, 0.3437412188631217, 0.343603305785124, 0.11221305405691315]]\n"
     ]
    }
   ],
   "source": [
    "intervalls_testError = []\n",
    "for i in range(0,len(test)):\n",
    "    intervalls_testError.append([test[i][0],test[i][1][0],test[i][1][1],test[i][1][3]])\n",
    "print(intervalls_testError)"
   ]
  },
  {
   "cell_type": "code",
   "execution_count": 311,
   "metadata": {},
   "outputs": [
    {
     "data": {
      "text/html": [
       "<div>\n",
       "<style scoped>\n",
       "    .dataframe tbody tr th:only-of-type {\n",
       "        vertical-align: middle;\n",
       "    }\n",
       "\n",
       "    .dataframe tbody tr th {\n",
       "        vertical-align: top;\n",
       "    }\n",
       "\n",
       "    .dataframe thead th {\n",
       "        text-align: right;\n",
       "    }\n",
       "</style>\n",
       "<table border=\"1\" class=\"dataframe\">\n",
       "  <thead>\n",
       "    <tr style=\"text-align: right;\">\n",
       "      <th></th>\n",
       "      <th>intervalls</th>\n",
       "      <th>train_error</th>\n",
       "      <th>testerror</th>\n",
       "      <th>baserate</th>\n",
       "      <th>diff</th>\n",
       "    </tr>\n",
       "  </thead>\n",
       "  <tbody>\n",
       "    <tr>\n",
       "      <th>0</th>\n",
       "      <td>2</td>\n",
       "      <td>0.821914</td>\n",
       "      <td>0.821686</td>\n",
       "      <td>0.500040</td>\n",
       "      <td>0.321646</td>\n",
       "    </tr>\n",
       "    <tr>\n",
       "      <th>1</th>\n",
       "      <td>3</td>\n",
       "      <td>0.687681</td>\n",
       "      <td>0.691107</td>\n",
       "      <td>0.333598</td>\n",
       "      <td>0.357510</td>\n",
       "    </tr>\n",
       "    <tr>\n",
       "      <th>2</th>\n",
       "      <td>4</td>\n",
       "      <td>0.572505</td>\n",
       "      <td>0.581818</td>\n",
       "      <td>0.250093</td>\n",
       "      <td>0.331726</td>\n",
       "    </tr>\n",
       "    <tr>\n",
       "      <th>3</th>\n",
       "      <td>5</td>\n",
       "      <td>0.524273</td>\n",
       "      <td>0.526810</td>\n",
       "      <td>0.200346</td>\n",
       "      <td>0.326463</td>\n",
       "    </tr>\n",
       "    <tr>\n",
       "      <th>4</th>\n",
       "      <td>6</td>\n",
       "      <td>0.460950</td>\n",
       "      <td>0.462612</td>\n",
       "      <td>0.167037</td>\n",
       "      <td>0.295575</td>\n",
       "    </tr>\n",
       "    <tr>\n",
       "      <th>5</th>\n",
       "      <td>7</td>\n",
       "      <td>0.405131</td>\n",
       "      <td>0.408264</td>\n",
       "      <td>0.144042</td>\n",
       "      <td>0.264223</td>\n",
       "    </tr>\n",
       "    <tr>\n",
       "      <th>6</th>\n",
       "      <td>8</td>\n",
       "      <td>0.380833</td>\n",
       "      <td>0.387835</td>\n",
       "      <td>0.126507</td>\n",
       "      <td>0.261327</td>\n",
       "    </tr>\n",
       "    <tr>\n",
       "      <th>7</th>\n",
       "      <td>9</td>\n",
       "      <td>0.343741</td>\n",
       "      <td>0.343603</td>\n",
       "      <td>0.112213</td>\n",
       "      <td>0.231390</td>\n",
       "    </tr>\n",
       "  </tbody>\n",
       "</table>\n",
       "</div>"
      ],
      "text/plain": [
       "   intervalls  train_error  testerror  baserate      diff\n",
       "0           2     0.821914   0.821686  0.500040  0.321646\n",
       "1           3     0.687681   0.691107  0.333598  0.357510\n",
       "2           4     0.572505   0.581818  0.250093  0.331726\n",
       "3           5     0.524273   0.526810  0.200346  0.326463\n",
       "4           6     0.460950   0.462612  0.167037  0.295575\n",
       "5           7     0.405131   0.408264  0.144042  0.264223\n",
       "6           8     0.380833   0.387835  0.126507  0.261327\n",
       "7           9     0.343741   0.343603  0.112213  0.231390"
      ]
     },
     "execution_count": 311,
     "metadata": {},
     "output_type": "execute_result"
    }
   ],
   "source": [
    "intervalls_testError = pd.DataFrame(intervalls_testError)\n",
    "intervalls_testError = intervalls_testError.rename(columns={0:\"intervalls_testErrors\",1: \"train_error\",2:\"testerror\",3:\"baserate\"})\n",
    "intervalls_testError['diff'] = intervalls_testError['testerror']-intervalls_testError['baserate']\n",
    "intervalls_testError"
   ]
  },
  {
   "cell_type": "markdown",
   "metadata": {},
   "source": [
    "We will now plot our results on a graph to better visualise them.\n"
   ]
  },
  {
   "cell_type": "code",
   "execution_count": 313,
   "metadata": {},
   "outputs": [
    {
     "data": {
      "text/plain": [
       "<matplotlib.axes._subplots.AxesSubplot at 0x1a41f55208>"
      ]
     },
     "execution_count": 313,
     "metadata": {},
     "output_type": "execute_result"
    },
    {
     "data": {
      "image/png": "[encoded data removed]",
      "text/plain": [
       "<Figure size 432x288 with 1 Axes>"
      ]
     },
     "metadata": {},
     "output_type": "display_data"
    }
   ],
   "source": [
    "intervalls_testError.plot(x=\"intervalls\", y=[\"baserate\",\"testerror\",\"diff\"])"
   ]
  },
  {
   "cell_type": "markdown",
   "metadata": {},
   "source": [
    "We can see that 5 intervals is a good compromise between performance and sufficient number of observations in each interval.\n"
   ]
  },
  {
   "cell_type": "markdown",
   "metadata": {},
   "source": [
    "## Find the best combinations of parameters\n",
    "\n",
    "Now that we know using 5 intervals gives us the best results we have to find what parameters give us the best prediction.\n"
   ]
  },
  {
   "cell_type": "code",
   "execution_count": 214,
   "metadata": {},
   "outputs": [
    {
     "name": "stdout",
     "output_type": "stream",
     "text": [
      "Base rate : 0.20034645086216016\n",
      "\n",
      "intervalls for y:\n",
      "(0.999, 103.0]          15151\n",
      "(57873.4, 4447374.0]    15125\n",
      "(6087.8, 57873.4]       15125\n",
      "(948.0, 6087.8]         15118\n",
      "(103.0, 948.0]          15105\n",
      "Name: quant, dtype: int64\n",
      "\n",
      "train_score : 0.36977470701995074 test_score = 0.3703801652892562\n"
     ]
    }
   ],
   "source": [
    "L1 = computeLogistic(nozero,ports,['Measure'],5)"
   ]
  },
  {
   "cell_type": "code",
   "execution_count": 215,
   "metadata": {
    "scrolled": true
   },
   "outputs": [
    {
     "name": "stdout",
     "output_type": "stream",
     "text": [
      "Base rate : 0.20034645086216016\n",
      "\n",
      "intervalls for y:\n",
      "(0.999, 103.0]          15151\n",
      "(57873.4, 4447374.0]    15125\n",
      "(6087.8, 57873.4]       15125\n",
      "(948.0, 6087.8]         15118\n",
      "(103.0, 948.0]          15105\n",
      "Name: quant, dtype: int64\n",
      "\n",
      "train_score : 0.245888361791104 test_score = 0.23735537190082645\n"
     ]
    }
   ],
   "source": [
    "L2 = computeLogistic(nozero,ports,['Port Code'],5)"
   ]
  },
  {
   "cell_type": "code",
   "execution_count": 216,
   "metadata": {},
   "outputs": [
    {
     "name": "stdout",
     "output_type": "stream",
     "text": [
      "Base rate : 0.20034645086216016\n",
      "\n",
      "intervalls for y:\n",
      "(0.999, 103.0]          15151\n",
      "(57873.4, 4447374.0]    15125\n",
      "(6087.8, 57873.4]       15125\n",
      "(948.0, 6087.8]         15118\n",
      "(103.0, 948.0]          15105\n",
      "Name: quant, dtype: int64\n",
      "\n",
      "train_score : 0.44347840460172894 test_score = 0.4432396694214876\n"
     ]
    }
   ],
   "source": [
    "L3 = computeLogistic(nozero,ports,['Measure','Port Code'],5)"
   ]
  },
  {
   "cell_type": "code",
   "execution_count": 217,
   "metadata": {},
   "outputs": [
    {
     "name": "stdout",
     "output_type": "stream",
     "text": [
      "Base rate : 0.20034645086216016\n",
      "\n",
      "intervalls for y:\n",
      "(0.999, 103.0]          15151\n",
      "(57873.4, 4447374.0]    15125\n",
      "(6087.8, 57873.4]       15125\n",
      "(948.0, 6087.8]         15118\n",
      "(103.0, 948.0]          15105\n",
      "Name: quant, dtype: int64\n",
      "\n",
      "train_score : 0.44362716739119656 test_score = 0.44502479338842976\n"
     ]
    }
   ],
   "source": [
    "L4 = computeLogistic(nozero,ports,['Measure','Port Code','Month'],5)"
   ]
  },
  {
   "cell_type": "code",
   "execution_count": 218,
   "metadata": {},
   "outputs": [
    {
     "name": "stdout",
     "output_type": "stream",
     "text": [
      "Base rate : 0.20034645086216016\n",
      "\n",
      "intervalls for y:\n",
      "(0.999, 103.0]          15151\n",
      "(57873.4, 4447374.0]    15125\n",
      "(6087.8, 57873.4]       15125\n",
      "(948.0, 6087.8]         15118\n",
      "(103.0, 948.0]          15105\n",
      "Name: quant, dtype: int64\n",
      "\n",
      "train_score : 0.45207358799319 test_score = 0.45269421487603306\n"
     ]
    }
   ],
   "source": [
    "L5 = computeLogistic(nozero,ports,['Measure','Port Code','Year'],5)\n"
   ]
  },
  {
   "cell_type": "code",
   "execution_count": 219,
   "metadata": {},
   "outputs": [
    {
     "name": "stdout",
     "output_type": "stream",
     "text": [
      "Base rate : 0.20034645086216016\n",
      "\n",
      "intervalls for y:\n",
      "(0.999, 103.0]          15151\n",
      "(57873.4, 4447374.0]    15125\n",
      "(6087.8, 57873.4]       15125\n",
      "(948.0, 6087.8]         15118\n",
      "(103.0, 948.0]          15105\n",
      "Name: quant, dtype: int64\n",
      "\n",
      "train_score : 0.4442387477478967 test_score = 0.44469421487603306\n"
     ]
    }
   ],
   "source": [
    "L6 = computeLogistic(nozero,ports,['Measure','Port Code','Year','Month'],5)"
   ]
  },
  {
   "cell_type": "code",
   "execution_count": 220,
   "metadata": {},
   "outputs": [
    {
     "name": "stdout",
     "output_type": "stream",
     "text": [
      "Base rate : 0.20034645086216016\n",
      "\n",
      "intervalls for y:\n",
      "(0.999, 103.0]          15151\n",
      "(57873.4, 4447374.0]    15125\n",
      "(6087.8, 57873.4]       15125\n",
      "(948.0, 6087.8]         15118\n",
      "(103.0, 948.0]          15105\n",
      "Name: quant, dtype: int64\n",
      "\n",
      "train_score : 0.5192151936395643 test_score = 0.5215206611570248\n"
     ]
    }
   ],
   "source": [
    "L7 = computeLogistic(nozero,ports,['Measure','Port Code','State'],5)"
   ]
  },
  {
   "cell_type": "code",
   "execution_count": 221,
   "metadata": {},
   "outputs": [
    {
     "name": "stdout",
     "output_type": "stream",
     "text": [
      "Base rate : 0.20034645086216016\n",
      "\n",
      "intervalls for y:\n",
      "(0.999, 103.0]          15151\n",
      "(57873.4, 4447374.0]    15125\n",
      "(6087.8, 57873.4]       15125\n",
      "(948.0, 6087.8]         15118\n",
      "(103.0, 948.0]          15105\n",
      "Name: quant, dtype: int64\n",
      "\n",
      "train_score : 0.5241574240896544 test_score = 0.5265454545454545\n"
     ]
    }
   ],
   "source": [
    "L8 = computeLogistic(nozero,ports,['Measure','Port Code','State','latitude'],5)"
   ]
  },
  {
   "cell_type": "code",
   "execution_count": 222,
   "metadata": {},
   "outputs": [
    {
     "name": "stdout",
     "output_type": "stream",
     "text": [
      "Base rate : 0.20034645086216016\n",
      "\n",
      "intervalls for y:\n",
      "(0.999, 103.0]          15151\n",
      "(57873.4, 4447374.0]    15125\n",
      "(6087.8, 57873.4]       15125\n",
      "(948.0, 6087.8]         15118\n",
      "(103.0, 948.0]          15105\n",
      "Name: quant, dtype: int64\n",
      "\n",
      "train_score : 0.5242731284814625 test_score = 0.5268099173553719\n"
     ]
    }
   ],
   "source": [
    "L9 = computeLogistic(nozero,ports,['Measure','Port Code','State','latitude','longitude'],5)"
   ]
  },
  {
   "cell_type": "code",
   "execution_count": 223,
   "metadata": {},
   "outputs": [
    {
     "name": "stdout",
     "output_type": "stream",
     "text": [
      "Base rate : 0.20034645086216016\n",
      "\n",
      "intervalls for y:\n",
      "(0.999, 103.0]          15151\n",
      "(57873.4, 4447374.0]    15125\n",
      "(6087.8, 57873.4]       15125\n",
      "(948.0, 6087.8]         15118\n",
      "(103.0, 948.0]          15105\n",
      "Name: quant, dtype: int64\n",
      "\n",
      "train_score : 0.5279591398204929 test_score = 0.5302479338842975\n"
     ]
    }
   ],
   "source": [
    "L10 = computeLogistic(nozero,ports,['Measure','Port Code','State','latitude','longitude','Border'],5)"
   ]
  },
  {
   "cell_type": "code",
   "execution_count": 224,
   "metadata": {},
   "outputs": [
    {
     "name": "stdout",
     "output_type": "stream",
     "text": [
      "Base rate : 0.20034645086216016\n",
      "\n",
      "intervalls for y:\n",
      "(0.999, 103.0]          15151\n",
      "(57873.4, 4447374.0]    15125\n",
      "(6087.8, 57873.4]       15125\n",
      "(948.0, 6087.8]         15118\n",
      "(103.0, 948.0]          15105\n",
      "Name: quant, dtype: int64\n",
      "\n",
      "train_score : 0.5219425114464702 test_score = 0.5254214876033058\n"
     ]
    }
   ],
   "source": [
    "L11 = computeLogistic(nozero,ports,['Measure','Port Code','State','Year','latitude','longitude'],5)"
   ]
  },
  {
   "cell_type": "code",
   "execution_count": 225,
   "metadata": {},
   "outputs": [
    {
     "name": "stdout",
     "output_type": "stream",
     "text": [
      "Base rate : 0.20034645086216016\n",
      "\n",
      "intervalls for y:\n",
      "(0.999, 103.0]          15151\n",
      "(57873.4, 4447374.0]    15125\n",
      "(6087.8, 57873.4]       15125\n",
      "(948.0, 6087.8]         15118\n",
      "(103.0, 948.0]          15105\n",
      "Name: quant, dtype: int64\n",
      "\n",
      "train_score : 0.5339096513991967 test_score = 0.5409586776859504\n"
     ]
    }
   ],
   "source": [
    "L12 = computeLogistic(nozero.sort_values(by=['Date']).reset_index(drop=True),ports,['Measure','Port Code','State','latitude','longitude','Border'],5)"
   ]
  },
  {
   "cell_type": "markdown",
   "metadata": {},
   "source": [
    " The best combinations (L10) of parameters are 'Measure','Port Code','State','latitude','longitude','Border' for a test score of 0.53."
   ]
  },
  {
   "cell_type": "markdown",
   "metadata": {},
   "source": [
    "If we order by \"Date\" we can improve our model by 1%"
   ]
  },
  {
   "cell_type": "markdown",
   "metadata": {},
   "source": [
    "We now plot the confusion matrix for L10:\n"
   ]
  },
  {
   "cell_type": "code",
   "execution_count": 228,
   "metadata": {},
   "outputs": [
    {
     "data": {
      "text/plain": [
       "array([[ 9006,  2836,    17,   105,   127],\n",
       "       [ 4187,  5752,   548,  1153,   405],\n",
       "       [ 2815,  2786,  2419,  2203,  1903],\n",
       "       [  887,  1993,   944,  4954,  3419],\n",
       "       [   44,   532,    86,  1208, 10170]])"
      ]
     },
     "execution_count": 228,
     "metadata": {},
     "output_type": "execute_result"
    }
   ],
   "source": [
    "#Plot the confusion matrix for l10\n",
    "L12[2]"
   ]
  },
  {
   "cell_type": "code",
   "execution_count": 321,
   "metadata": {},
   "outputs": [
    {
     "data": {
      "text/plain": [
       "<matplotlib.axes._subplots.AxesSubplot at 0x1a20aae978>"
      ]
     },
     "execution_count": 321,
     "metadata": {},
     "output_type": "execute_result"
    },
    {
     "data": {
      "image/png": "[encoded data removed]",
      "text/plain": [
       "<Figure size 648x504 with 2 Axes>"
      ]
     },
     "metadata": {},
     "output_type": "display_data"
    }
   ],
   "source": [
    "plt.subplots(figsize=(9,7))\n",
    "sns.heatmap(L12[2], annot=True,fmt='g',linewidths=5)"
   ]
  },
  {
   "cell_type": "markdown",
   "metadata": {},
   "source": [
    "## Logistic regression on ports\n",
    "\n",
    "Let's now perform a logistic regression on a single port at a time. In order to make sure we have enough data for the regression, we will only keep the port which have 800 or more values not equal to 0.\n"
   ]
  },
  {
   "cell_type": "code",
   "execution_count": 237,
   "metadata": {},
   "outputs": [
    {
     "name": "stdout",
     "output_type": "stream",
     "text": [
      "Base rate : 0.20039486673247778\n",
      "\n",
      "intervalls for y:\n",
      "(14014.0, 49762.0]    203\n",
      "(500.8, 1297.6]       203\n",
      "(0.999, 88.4]         203\n",
      "(1297.6, 14014.0]     202\n",
      "(88.4, 500.8]         202\n",
      "Name: quant, dtype: int64\n",
      "\n",
      "train_score : 0.6493827160493827 test_score = 0.6896551724137931\n",
      "Base rate : 0.2\n",
      "\n",
      "intervalls for y:\n",
      "(650030.8, 2473401.0]    173\n",
      "(74705.0, 650030.8]      173\n",
      "(16619.6, 74705.0]       173\n",
      "(917.4, 16619.6]         173\n",
      "(359.999, 917.4]         173\n",
      "Name: quant, dtype: int64\n",
      "\n",
      "train_score : 0.6213872832369942 test_score = 0.6242774566473989\n",
      "Base rate : 0.2\n",
      "\n",
      "intervalls for y:\n",
      "(110083.2, 307761.0]    224\n",
      "(4109.4, 110083.2]      224\n",
      "(2459.4, 4109.4]        224\n",
      "(305.4, 2459.4]         224\n",
      "(2.999, 305.4]          224\n",
      "Name: quant, dtype: int64\n",
      "\n",
      "train_score : 0.6004464285714286 test_score = 0.5848214285714286\n",
      "Base rate : 0.200734394124847\n",
      "\n",
      "intervalls for y:\n",
      "(118028.4, 1507021.0]    164\n",
      "(1465.6, 2250.0]         164\n",
      "(3.999, 939.2]           164\n",
      "(939.2, 1465.6]          163\n",
      "(2250.0, 118028.4]       162\n",
      "Name: quant, dtype: int64\n",
      "\n",
      "train_score : 0.40735068912710565 test_score = 0.3780487804878049\n",
      "Base rate : 0.20169082125603865\n",
      "\n",
      "intervalls for y:\n",
      "(1.999, 81.0]         167\n",
      "(34216.6, 90973.0]    166\n",
      "(472.8, 1986.4]       166\n",
      "(1986.4, 34216.6]     165\n",
      "(81.0, 472.8]         164\n",
      "Name: quant, dtype: int64\n",
      "\n",
      "train_score : 0.5906344410876133 test_score = 0.6204819277108434\n",
      "Base rate : 0.2018348623853211\n",
      "\n",
      "intervalls for y:\n",
      "(18.0, 45.0]         198\n",
      "(0.999, 18.0]        197\n",
      "(5934.0, 24225.0]    196\n",
      "(174.0, 5934.0]      196\n",
      "(45.0, 174.0]        194\n",
      "Name: quant, dtype: int64\n",
      "\n",
      "train_score : 0.5102040816326531 test_score = 0.5177664974619289\n",
      "Base rate : 0.20047449584816132\n",
      "\n",
      "intervalls for y:\n",
      "(6716.6, 12796.0]    169\n",
      "(154.0, 462.0]       169\n",
      "(15.4, 154.0]        169\n",
      "(0.999, 15.4]        169\n",
      "(462.0, 6716.6]      167\n",
      "Name: quant, dtype: int64\n",
      "\n",
      "train_score : 0.712166172106825 test_score = 0.7337278106508875\n",
      "Base rate : 0.20103092783505155\n",
      "\n",
      "intervalls for y:\n",
      "(109.999, 3061.0]        195\n",
      "(507620.0, 1208445.0]    194\n",
      "(30249.0, 507620.0]      194\n",
      "(9302.4, 30249.0]        194\n",
      "(3061.0, 9302.4]         193\n",
      "Name: quant, dtype: int64\n",
      "\n",
      "train_score : 0.7036082474226805 test_score = 0.634020618556701\n",
      "Base rate : 0.20217391304347826\n",
      "\n",
      "intervalls for y:\n",
      "(0.999, 34.0]         186\n",
      "(16045.8, 45092.0]    184\n",
      "(524.4, 16045.8]      184\n",
      "(34.0, 75.0]          184\n",
      "(75.0, 524.4]         182\n",
      "Name: quant, dtype: int64\n",
      "\n",
      "train_score : 0.5 test_score = 0.5380434782608695\n",
      "Base rate : 0.20235546038543897\n",
      "\n",
      "intervalls for y:\n",
      "(0.999, 33.0]        189\n",
      "(7797.2, 37884.0]    187\n",
      "(33.0, 54.0]         187\n",
      "(106.0, 7797.2]      186\n",
      "(54.0, 106.0]        185\n",
      "Name: quant, dtype: int64\n",
      "\n",
      "train_score : 0.5153949129852744 test_score = 0.4919786096256685\n",
      "Base rate : 0.21192758253461128\n",
      "\n",
      "intervalls for y:\n",
      "(1.999, 56.0]          199\n",
      "(62708.8, 194875.0]    188\n",
      "(8202.0, 62708.8]      188\n",
      "(70.2, 8202.0]         187\n",
      "(56.0, 70.2]           177\n",
      "Name: quant, dtype: int64\n",
      "\n",
      "train_score : 0.6884154460719041 test_score = 0.6808510638297872\n",
      "Base rate : 0.2007125890736342\n",
      "\n",
      "intervalls for y:\n",
      "(88774.0, 286101.0]    169\n",
      "(2.999, 509.2]         169\n",
      "(7412.2, 88774.0]      168\n",
      "(3050.8, 7412.2]       168\n",
      "(509.2, 3050.8]        168\n",
      "Name: quant, dtype: int64\n",
      "\n",
      "train_score : 0.5988112927191679 test_score = 0.6094674556213018\n",
      "Base rate : 0.20070838252656434\n",
      "\n",
      "intervalls for y:\n",
      "(141409.4, 443797.0]    170\n",
      "(132.999, 3269.4]       170\n",
      "(33269.4, 141409.4]     169\n",
      "(19767.4, 33269.4]      169\n",
      "(3269.4, 19767.4]       169\n",
      "Name: quant, dtype: int64\n",
      "\n",
      "train_score : 0.6011816838995568 test_score = 0.6\n",
      "Base rate : 0.20449438202247192\n",
      "\n",
      "intervalls for y:\n",
      "(0.999, 350.0]          182\n",
      "(126540.6, 305945.0]    178\n",
      "(6329.8, 126540.6]      178\n",
      "(1245.0, 6329.8]        177\n",
      "(350.0, 1245.0]         175\n",
      "Name: quant, dtype: int64\n",
      "\n",
      "train_score : 0.6039325842696629 test_score = 0.5561797752808989\n",
      "Base rate : 0.2\n",
      "\n",
      "intervalls for y:\n",
      "(988571.4, 2024496.0]    169\n",
      "(406080.2, 988571.4]     169\n",
      "(277004.6, 406080.2]     169\n",
      "(70506.2, 277004.6]      169\n",
      "(13910.999, 70506.2]     169\n",
      "Name: quant, dtype: int64\n",
      "\n",
      "train_score : 0.5961538461538461 test_score = 0.6094674556213018\n",
      "Base rate : 0.20094562647754138\n",
      "\n",
      "intervalls for y:\n",
      "(1749.999, 44340.0]      170\n",
      "(943719.0, 2805201.0]    169\n",
      "(207469.0, 943719.0]     169\n",
      "(161314.0, 207469.0]     169\n",
      "(44340.0, 161314.0]      169\n",
      "Name: quant, dtype: int64\n",
      "\n",
      "train_score : 0.6183431952662722 test_score = 0.5294117647058824\n",
      "Base rate : 0.20039100684261973\n",
      "\n",
      "intervalls for y:\n",
      "(1629945.4, 4447374.0]    205\n",
      "(36076.2, 595876.2]       205\n",
      "(0.999, 9551.4]           205\n",
      "(595876.2, 1629945.4]     204\n",
      "(9551.4, 36076.2]         204\n",
      "Name: quant, dtype: int64\n",
      "\n",
      "train_score : 0.726161369193154 test_score = 0.7170731707317073\n",
      "Base rate : 0.20159680638722555\n",
      "\n",
      "intervalls for y:\n",
      "(56.999, 612.0]         202\n",
      "(472493.0, 929284.0]    201\n",
      "(61310.2, 472493.0]     200\n",
      "(2884.4, 61310.2]       200\n",
      "(612.0, 2884.4]         199\n",
      "Name: quant, dtype: int64\n",
      "\n",
      "train_score : 0.6754057428214731 test_score = 0.7014925373134329\n",
      "Base rate : 0.2007042253521127\n",
      "\n",
      "intervalls for y:\n",
      "(888526.8, 1768766.0]    171\n",
      "(76.999, 5120.6]         171\n",
      "(270732.4, 888526.8]     170\n",
      "(192063.0, 270732.4]     170\n",
      "(5120.6, 192063.0]       170\n",
      "Name: quant, dtype: int64\n",
      "\n",
      "train_score : 0.6079295154185022 test_score = 0.5730994152046783\n",
      "Base rate : 0.21271393643031786\n",
      "\n",
      "intervalls for y:\n",
      "(69.0, 104.0]         174\n",
      "(1.999, 69.0]         165\n",
      "(24543.8, 78621.0]    164\n",
      "(208.2, 24543.8]      163\n",
      "(104.0, 208.2]        152\n",
      "Name: quant, dtype: int64\n",
      "\n",
      "train_score : 0.5474006116207951 test_score = 0.5548780487804879\n",
      "Base rate : 0.20217917675544794\n",
      "\n",
      "intervalls for y:\n",
      "(0.999, 21.0]           167\n",
      "(145412.0, 371405.0]    165\n",
      "(7202.0, 145412.0]      165\n",
      "(2470.0, 7202.0]        165\n",
      "(21.0, 2470.0]          164\n",
      "Name: quant, dtype: int64\n",
      "\n",
      "train_score : 0.6045454545454545 test_score = 0.5903614457831325\n",
      "Base rate : 0.20089686098654708\n",
      "\n",
      "intervalls for y:\n",
      "(3.999, 304.0]          224\n",
      "(146493.8, 550685.0]    223\n",
      "(22781.6, 146493.8]     223\n",
      "(3135.6, 22781.6]       223\n",
      "(304.0, 3135.6]         222\n",
      "Name: quant, dtype: int64\n",
      "\n",
      "train_score : 0.6995515695067265 test_score = 0.7130044843049327\n",
      "Base rate : 0.20035460992907803\n",
      "\n",
      "intervalls for y:\n",
      "(822124.4, 2523598.0]    226\n",
      "(24471.4, 68399.8]       226\n",
      "(362.999, 3538.4]        226\n",
      "(68399.8, 822124.4]      225\n",
      "(3538.4, 24471.4]        225\n",
      "Name: quant, dtype: int64\n",
      "\n",
      "train_score : 0.6574279379157428 test_score = 0.6283185840707964\n",
      "Base rate : 0.20074812967581046\n",
      "\n",
      "intervalls for y:\n",
      "(68957.6, 156527.0]    161\n",
      "(0.999, 215.4]         161\n",
      "(9785.0, 68957.6]      160\n",
      "(1023.8, 9785.0]       160\n",
      "(215.4, 1023.8]        160\n",
      "Name: quant, dtype: int64\n",
      "\n",
      "train_score : 0.4539781591263651 test_score = 0.45962732919254656\n",
      "Base rate : 0.2017220172201722\n",
      "\n",
      "intervalls for y:\n",
      "(9.999, 1524.0]        164\n",
      "(60614.8, 148151.0]    163\n",
      "(16137.8, 24376.0]     163\n",
      "(24376.0, 60614.8]     162\n",
      "(1524.0, 16137.8]      161\n",
      "Name: quant, dtype: int64\n",
      "\n",
      "train_score : 0.5984615384615385 test_score = 0.6073619631901841\n",
      "Base rate : 0.20212765957446807\n",
      "\n",
      "intervalls for y:\n",
      "(381.0, 495.0]        228\n",
      "(43.999, 381.0]       227\n",
      "(10714.4, 41536.0]    226\n",
      "(727.4, 10714.4]      225\n",
      "(495.0, 727.4]        222\n",
      "Name: quant, dtype: int64\n",
      "\n",
      "train_score : 0.4611973392461197 test_score = 0.48672566371681414\n",
      "Base rate : 0.201246660730187\n",
      "\n",
      "intervalls for y:\n",
      "(18.999, 562.0]        226\n",
      "(54103.2, 217294.0]    225\n",
      "(711.8, 1528.2]        225\n",
      "(1528.2, 54103.2]      224\n",
      "(562.0, 711.8]         223\n",
      "Name: quant, dtype: int64\n",
      "\n",
      "train_score : 0.6224944320712695 test_score = 0.6266666666666667\n",
      "Base rate : 0.20047449584816132\n",
      "\n",
      "intervalls for y:\n",
      "(273003.4, 787244.0]    169\n",
      "(52237.8, 92570.0]      169\n",
      "(269.999, 1758.4]       169\n",
      "(92570.0, 273003.4]     168\n",
      "(1758.4, 52237.8]       168\n",
      "Name: quant, dtype: int64\n",
      "\n",
      "train_score : 0.6038575667655787 test_score = 0.591715976331361\n",
      "Base rate : 0.2011904761904762\n",
      "\n",
      "intervalls for y:\n",
      "(27.999, 858.0]        169\n",
      "(76690.4, 159352.0]    168\n",
      "(8953.0, 76690.4]      168\n",
      "(4229.4, 8953.0]       168\n",
      "(858.0, 4229.4]        167\n",
      "Name: quant, dtype: int64\n",
      "\n",
      "train_score : 0.5714285714285714 test_score = 0.5833333333333334\n",
      "Base rate : 0.20222634508348794\n",
      "\n",
      "intervalls for y:\n",
      "(9.999, 300.0]           218\n",
      "(611223.4, 1895352.0]    216\n",
      "(15157.8, 353870.0]      216\n",
      "(353870.0, 611223.4]     215\n",
      "(300.0, 15157.8]         213\n",
      "Name: quant, dtype: int64\n",
      "\n"
     ]
    },
    {
     "name": "stdout",
     "output_type": "stream",
     "text": [
      "train_score : 0.6682134570765661 test_score = 0.6620370370370371\n",
      "Base rate : 0.20024721878862795\n",
      "\n",
      "intervalls for y:\n",
      "(460055.6, 797199.0]    162\n",
      "(259895.8, 460055.6]    162\n",
      "(101.6, 180451.6]       162\n",
      "(0.999, 101.6]          162\n",
      "(180451.6, 259895.8]    161\n",
      "Name: quant, dtype: int64\n",
      "\n",
      "train_score : 0.6058732612055642 test_score = 0.5740740740740741\n",
      "Base rate : 0.20884289746001883\n",
      "\n",
      "intervalls for y:\n",
      "(15.999, 133.0]         222\n",
      "(459547.4, 898363.0]    213\n",
      "(983.2, 8768.0]         213\n",
      "(8768.0, 459547.4]      212\n",
      "(133.0, 983.2]          203\n",
      "Name: quant, dtype: int64\n",
      "\n",
      "train_score : 0.5823529411764706 test_score = 0.568075117370892\n",
      "Base rate : 0.21422222222222223\n",
      "\n",
      "intervalls for y:\n",
      "(5.999, 42.0]            241\n",
      "(686050.8, 1252553.0]    225\n",
      "(127240.2, 686050.8]     225\n",
      "(18992.2, 127240.2]      225\n",
      "(42.0, 18992.2]          209\n",
      "Name: quant, dtype: int64\n",
      "\n",
      "train_score : 0.7133333333333334 test_score = 0.7155555555555555\n",
      "Base rate : 0.20024875621890548\n",
      "\n",
      "intervalls for y:\n",
      "(2097779.0, 3755585.0]    161\n",
      "(744292.8, 2097779.0]     161\n",
      "(69681.0, 569282.0]       161\n",
      "(3738.999, 69681.0]       161\n",
      "(569282.0, 744292.8]      160\n",
      "Name: quant, dtype: int64\n",
      "\n",
      "train_score : 0.6080870917573873 test_score = 0.5652173913043478\n",
      "Base rate : 0.20062047569803515\n",
      "\n",
      "intervalls for y:\n",
      "(146798.0, 342450.0]    194\n",
      "(0.999, 374.6]          194\n",
      "(47149.8, 146798.0]     193\n",
      "(1049.6, 47149.8]       193\n",
      "(374.6, 1049.6]         193\n",
      "Name: quant, dtype: int64\n",
      "\n",
      "train_score : 0.6442432082794308 test_score = 0.6701030927835051\n",
      "Base rate : 0.20216606498194944\n",
      "\n",
      "intervalls for y:\n",
      "(0.999, 160.0]       224\n",
      "(9260.2, 54394.0]    222\n",
      "(205.8, 414.0]       222\n",
      "(414.0, 9260.2]      221\n",
      "(160.0, 205.8]       219\n",
      "Name: quant, dtype: int64\n",
      "\n",
      "train_score : 0.5124153498871332 test_score = 0.5135135135135135\n",
      "Base rate : 0.20059288537549408\n",
      "\n",
      "intervalls for y:\n",
      "(113415.0, 394999.0]    203\n",
      "(1057.4, 2910.0]        203\n",
      "(3.999, 237.6]          203\n",
      "(237.6, 1057.4]         202\n",
      "(2910.0, 113415.0]      201\n",
      "Name: quant, dtype: int64\n",
      "\n",
      "train_score : 0.5822002472187886 test_score = 0.5024630541871922\n",
      "Base rate : 0.20454545454545456\n",
      "\n",
      "intervalls for y:\n",
      "(0.999, 24.0]          171\n",
      "(50567.0, 164064.0]    167\n",
      "(1068.0, 50567.0]      167\n",
      "(345.0, 1068.0]        167\n",
      "(24.0, 345.0]          164\n",
      "Name: quant, dtype: int64\n",
      "\n",
      "train_score : 0.5898203592814372 test_score = 0.6607142857142857\n",
      "Base rate : 0.2077338129496403\n",
      "\n",
      "intervalls for y:\n",
      "(0.999, 36.0]          231\n",
      "(13393.6, 122250.0]    223\n",
      "(443.6, 13393.6]       222\n",
      "(88.4, 443.6]          222\n",
      "(36.0, 88.4]           214\n",
      "Name: quant, dtype: int64\n",
      "\n",
      "train_score : 0.4544431946006749 test_score = 0.45739910313901344\n",
      "Base rate : 0.20216606498194944\n",
      "\n",
      "intervalls for y:\n",
      "(84.0, 220.0]          168\n",
      "(0.999, 84.0]          167\n",
      "(77015.0, 180613.0]    166\n",
      "(1110.0, 77015.0]      166\n",
      "(220.0, 1110.0]        164\n",
      "Name: quant, dtype: int64\n",
      "\n",
      "train_score : 0.40512048192771083 test_score = 0.3772455089820359\n",
      "Base rate : 0.20504731861198738\n",
      "\n",
      "intervalls for y:\n",
      "(42.0, 75.0]          195\n",
      "(0.999, 42.0]         193\n",
      "(30335.0, 89650.0]    190\n",
      "(252.0, 30335.0]      190\n",
      "(75.0, 252.0]         183\n",
      "Name: quant, dtype: int64\n",
      "\n",
      "train_score : 0.5092105263157894 test_score = 0.5497382198952879\n",
      "Base rate : 0.20588235294117646\n",
      "\n",
      "intervalls for y:\n",
      "(28.4, 48.0]         189\n",
      "(76.2, 5599.0]       184\n",
      "(0.999, 28.4]        184\n",
      "(5599.0, 35176.0]    183\n",
      "(48.0, 76.2]         178\n",
      "Name: quant, dtype: int64\n",
      "\n",
      "train_score : 0.4032697547683924 test_score = 0.3858695652173913\n",
      "Base rate : 0.2013888888888889\n",
      "\n",
      "intervalls for y:\n",
      "(43.999, 1239.0]        174\n",
      "(289806.0, 922461.0]    173\n",
      "(10509.8, 289806.0]     173\n",
      "(4505.2, 10509.8]       172\n",
      "(1239.0, 4505.2]        172\n",
      "Name: quant, dtype: int64\n",
      "\n",
      "train_score : 0.5991316931982634 test_score = 0.5433526011560693\n",
      "Base rate : 0.21445497630331753\n",
      "\n",
      "intervalls for y:\n",
      "(26.999, 93.0]          181\n",
      "(130785.6, 709612.0]    169\n",
      "(12816.0, 130785.6]     169\n",
      "(3081.4, 12816.0]       168\n",
      "(93.0, 3081.4]          157\n",
      "Name: quant, dtype: int64\n",
      "\n",
      "train_score : 0.605925925925926 test_score = 0.6449704142011834\n",
      "Base rate : 0.20092592592592592\n",
      "\n",
      "intervalls for y:\n",
      "(196.0, 466.0]        217\n",
      "(75.8, 196.0]         217\n",
      "(23658.0, 52956.0]    216\n",
      "(0.999, 75.8]         216\n",
      "(466.0, 23658.0]      214\n",
      "Name: quant, dtype: int64\n",
      "\n",
      "train_score : 0.5428240740740741 test_score = 0.5694444444444444\n",
      "Base rate : 0.2008888888888889\n",
      "\n",
      "intervalls for y:\n",
      "(0.999, 165.0]         226\n",
      "(33265.2, 106348.0]    225\n",
      "(933.4, 33265.2]       225\n",
      "(275.8, 933.4]         225\n",
      "(165.0, 275.8]         224\n",
      "Name: quant, dtype: int64\n",
      "\n",
      "train_score : 0.4922222222222222 test_score = 0.48444444444444446\n",
      "Base rate : 0.2\n",
      "\n",
      "intervalls for y:\n",
      "(17839.8, 59961.0]    166\n",
      "(595.8, 17839.8]      166\n",
      "(148.6, 595.8]        166\n",
      "(52.8, 148.6]         166\n",
      "(0.999, 52.8]         166\n",
      "Name: quant, dtype: int64\n",
      "\n",
      "train_score : 0.5120481927710844 test_score = 0.5060240963855421\n"
     ]
    }
   ],
   "source": [
    "#We create a list of \"goods\" port : these port will have more than 800 values not equal to 0.\n",
    "error_port= []\n",
    "for port in ports:\n",
    "    if (nozero[(nozero['Port Name'] == port)].shape[0]>800):\n",
    "        error_port.append([port,computeLogistic(nozero,[port],['Measure','Port Code','State','latitude','longitude','Border'],5)])"
   ]
  },
  {
   "cell_type": "code",
   "execution_count": 238,
   "metadata": {},
   "outputs": [],
   "source": [
    "port_localisation = []\n",
    "for i in range(0,len(error_port)):\n",
    "    port_localisation.append([error_port[i][0],error_port[i][1][0],error_port[i][1][1]])"
   ]
  },
  {
   "cell_type": "markdown",
   "metadata": {},
   "source": [
    "Plot the test_score of every of these ports on the map of the USA"
   ]
  },
  {
   "cell_type": "code",
   "execution_count": 283,
   "metadata": {},
   "outputs": [
    {
     "data": {
      "application/vnd.plotly.v1+json": {
       "config": {
        "plotlyServerURL": "https://plot.ly"
       },
       "data": [
        {
         "lat": [
          "48.905266",
          "42.3315509",
          "48.9950874",
          "48.9853824",
          "48.9376147",
          "48.9987931",
          "48.9996344",
          "48.9881108",
          "44.9953505",
          "45.0094923",
          "44.979486",
          "45.00042985",
          "26.4070669",
          "29.9883766",
          "27.5199841",
          "26.3530256",
          "31.7600372",
          "28.7091433",
          "25.9140256",
          "44.881314",
          "44.928106",
          "44.982541",
          "43.0761171",
          "31.8559384",
          "31.8303365",
          "48.9958637",
          "48.614892",
          "31.46223",
          "31.8819798",
          "31.3402134",
          "32.4934395",
          "32.6753413",
          "32.560058",
          "32.5520013",
          "32.5833711",
          "48.999904",
          "45.189032",
          "46.1251286",
          "45.6239358",
          "47.355571",
          "47.157506",
          "45.5634002",
          "42.9815877",
          "46.490586",
          "48.7124408",
          "48.9970672",
          "48.9991329"
         ],
         "locationmode": "USA-states",
         "lon": [
          "-95.314404",
          "-83.0466403",
          "-122.269080593315",
          "-123.077974",
          "-119.4361687",
          "-118.2241779",
          "-117.8310975",
          "-122.7435757",
          "-72.6731285931857",
          "-71.7961053",
          "-73.1054065",
          "-72.1064356198873",
          "-99.0055462",
          "-104.2336552",
          "-99.4953764",
          "-98.216445",
          "-106.487287",
          "-100.4995214",
          "-97.4890856",
          "-74.2656165",
          "-74.892082",
          "-73.377564",
          "-78.9928794",
          "-106.6391577",
          "-107.6385256",
          "-102.5496127",
          "-93.352057",
          "-109.59394273101",
          "-112.8153361",
          "-110.9360818",
          "-114.7737551",
          "-115.3887997",
          "-116.9361338",
          "-117.0430813",
          "-116.6285217",
          "-116.180196",
          "-67.2781424",
          "-67.8407944",
          "-70.2545117",
          "-68.321915",
          "-67.935333",
          "-67.429721",
          "-82.440466",
          "-84.359269",
          "-94.600171",
          "-111.9625745",
          "-115.0565577"
         ],
         "marker": {
          "autocolorscale": false,
          "cmax": 0.7337278106508875,
          "cmin": 0,
          "color": [
           0.6896551724137931,
           0.6242774566473989,
           0.5848214285714286,
           0.3780487804878049,
           0.6204819277108434,
           0.5177664974619289,
           0.7337278106508875,
           0.634020618556701,
           0.5380434782608695,
           0.4919786096256685,
           0.6808510638297872,
           0.6094674556213018,
           0.6,
           0.5561797752808989,
           0.6094674556213018,
           0.5294117647058824,
           0.7170731707317073,
           0.7014925373134329,
           0.5730994152046783,
           0.5548780487804879,
           0.5903614457831325,
           0.7130044843049327,
           0.6283185840707964,
           0.45962732919254656,
           0.6073619631901841,
           0.48672566371681414,
           0.6266666666666667,
           0.591715976331361,
           0.5833333333333334,
           0.6620370370370371,
           0.5740740740740741,
           0.568075117370892,
           0.7155555555555555,
           0.5652173913043478,
           0.6701030927835051,
           0.5135135135135135,
           0.5024630541871922,
           0.6607142857142857,
           0.45739910313901344,
           0.3772455089820359,
           0.5497382198952879,
           0.3858695652173913,
           0.5433526011560693,
           0.6449704142011834,
           0.5694444444444444,
           0.48444444444444446,
           0.5060240963855421
          ],
          "colorbar": {
           "title": {
            "text": "Test_score"
           }
          },
          "colorscale": [
           [
            0,
            "rgb(255,245,240)"
           ],
           [
            0.125,
            "rgb(254,224,210)"
           ],
           [
            0.25,
            "rgb(252,187,161)"
           ],
           [
            0.375,
            "rgb(252,146,114)"
           ],
           [
            0.5,
            "rgb(251,106,74)"
           ],
           [
            0.625,
            "rgb(239,59,44)"
           ],
           [
            0.75,
            "rgb(203,24,29)"
           ],
           [
            0.875,
            "rgb(165,15,21)"
           ],
           [
            1,
            "rgb(103,0,13)"
           ]
          ],
          "line": {
           "color": "rgba(102, 102, 102)",
           "width": 1
          },
          "opacity": 0.8,
          "reversescale": true,
          "size": 10,
          "symbol": "square"
         },
         "mode": "markers",
         "text": [
          "Warroad<br>Test Score: 0.6896551724137931",
          "Detroit<br>Test Score: 0.6242774566473989",
          "Sumas<br>Test Score: 0.5848214285714286",
          "Point Roberts<br>Test Score: 0.3780487804878049",
          "Oroville<br>Test Score: 0.6204819277108434",
          "Laurier<br>Test Score: 0.5177664974619289",
          "Frontier<br>Test Score: 0.7337278106508875",
          "Blaine<br>Test Score: 0.634020618556701",
          "Richford<br>Test Score: 0.5380434782608695",
          "Norton<br>Test Score: 0.4919786096256685",
          "Highgate Springs-Alburg<br>Test Score: 0.6808510638297872",
          "Derby Line<br>Test Score: 0.6094674556213018",
          "Roma<br>Test Score: 0.6",
          "Presidio<br>Test Score: 0.5561797752808989",
          "Laredo<br>Test Score: 0.6094674556213018",
          "Hidalgo<br>Test Score: 0.5294117647058824",
          "El Paso<br>Test Score: 0.7170731707317073",
          "Eagle Pass<br>Test Score: 0.7014925373134329",
          "Brownsville<br>Test Score: 0.5730994152046783",
          "Trout River<br>Test Score: 0.5548780487804879",
          "Massena<br>Test Score: 0.5903614457831325",
          "Champlain-Rouses Point<br>Test Score: 0.7130044843049327",
          "Buffalo-Niagara Falls<br>Test Score: 0.6283185840707964",
          "Santa Teresa<br>Test Score: 0.45962732919254656",
          "Columbus<br>Test Score: 0.6073619631901841",
          "Portal<br>Test Score: 0.48672566371681414",
          "International Falls-Ranier<br>Test Score: 0.6266666666666667",
          "Douglas<br>Test Score: 0.591715976331361",
          "Lukeville<br>Test Score: 0.5833333333333334",
          "Nogales<br>Test Score: 0.6620370370370371",
          "San Luis<br>Test Score: 0.5740740740740741",
          "Calexico East<br>Test Score: 0.568075117370892",
          "Otay Mesa<br>Test Score: 0.7155555555555555",
          "San Ysidro<br>Test Score: 0.5652173913043478",
          "Tecate<br>Test Score: 0.6701030927835051",
          "Eastport_ID<br>Test Score: 0.5135135135135135",
          "Calais<br>Test Score: 0.5024630541871922",
          "Houlton<br>Test Score: 0.6607142857142857",
          "Jackman<br>Test Score: 0.45739910313901344",
          "Madawaska<br>Test Score: 0.3772455089820359",
          "Van Buren<br>Test Score: 0.5497382198952879",
          "Vanceboro<br>Test Score: 0.3858695652173913",
          "Port Huron<br>Test Score: 0.5433526011560693",
          "Sault Sainte Marie<br>Test Score: 0.6449704142011834",
          "Baudette<br>Test Score: 0.5694444444444444",
          "Sweetgrass<br>Test Score: 0.48444444444444446",
          "Roosville<br>Test Score: 0.5060240963855421"
         ],
         "type": "scattergeo"
        }
       ],
       "layout": {
        "geo": {
         "countrycolor": "rgb(217, 217, 217)",
         "countrywidth": 0.5,
         "landcolor": "rgb(250, 250, 250)",
         "projection": {
          "type": "albers usa"
         },
         "scope": "usa",
         "showland": true,
         "subunitcolor": "rgb(217, 217, 217)",
         "subunitwidth": 0.5
        },
        "template": {
         "data": {
          "bar": [
           {
            "error_x": {
             "color": "#2a3f5f"
            },
            "error_y": {
             "color": "#2a3f5f"
            },
            "marker": {
             "line": {
              "color": "#E5ECF6",
              "width": 0.5
             }
            },
            "type": "bar"
           }
          ],
          "barpolar": [
           {
            "marker": {
             "line": {
              "color": "#E5ECF6",
              "width": 0.5
             }
            },
            "type": "barpolar"
           }
          ],
          "carpet": [
           {
            "aaxis": {
             "endlinecolor": "#2a3f5f",
             "gridcolor": "white",
             "linecolor": "white",
             "minorgridcolor": "white",
             "startlinecolor": "#2a3f5f"
            },
            "baxis": {
             "endlinecolor": "#2a3f5f",
             "gridcolor": "white",
             "linecolor": "white",
             "minorgridcolor": "white",
             "startlinecolor": "#2a3f5f"
            },
            "type": "carpet"
           }
          ],
          "choropleth": [
           {
            "colorbar": {
             "outlinewidth": 0,
             "ticks": ""
            },
            "type": "choropleth"
           }
          ],
          "contour": [
           {
            "colorbar": {
             "outlinewidth": 0,
             "ticks": ""
            },
            "colorscale": [
             [
              0,
              "#0d0887"
             ],
             [
              0.1111111111111111,
              "#46039f"
             ],
             [
              0.2222222222222222,
              "#7201a8"
             ],
             [
              0.3333333333333333,
              "#9c179e"
             ],
             [
              0.4444444444444444,
              "#bd3786"
             ],
             [
              0.5555555555555556,
              "#d8576b"
             ],
             [
              0.6666666666666666,
              "#ed7953"
             ],
             [
              0.7777777777777778,
              "#fb9f3a"
             ],
             [
              0.8888888888888888,
              "#fdca26"
             ],
             [
              1,
              "#f0f921"
             ]
            ],
            "type": "contour"
           }
          ],
          "contourcarpet": [
           {
            "colorbar": {
             "outlinewidth": 0,
             "ticks": ""
            },
            "type": "contourcarpet"
           }
          ],
          "heatmap": [
           {
            "colorbar": {
             "outlinewidth": 0,
             "ticks": ""
            },
            "colorscale": [
             [
              0,
              "#0d0887"
             ],
             [
              0.1111111111111111,
              "#46039f"
             ],
             [
              0.2222222222222222,
              "#7201a8"
             ],
             [
              0.3333333333333333,
              "#9c179e"
             ],
             [
              0.4444444444444444,
              "#bd3786"
             ],
             [
              0.5555555555555556,
              "#d8576b"
             ],
             [
              0.6666666666666666,
              "#ed7953"
             ],
             [
              0.7777777777777778,
              "#fb9f3a"
             ],
             [
              0.8888888888888888,
              "#fdca26"
             ],
             [
              1,
              "#f0f921"
             ]
            ],
            "type": "heatmap"
           }
          ],
          "heatmapgl": [
           {
            "colorbar": {
             "outlinewidth": 0,
             "ticks": ""
            },
            "colorscale": [
             [
              0,
              "#0d0887"
             ],
             [
              0.1111111111111111,
              "#46039f"
             ],
             [
              0.2222222222222222,
              "#7201a8"
             ],
             [
              0.3333333333333333,
              "#9c179e"
             ],
             [
              0.4444444444444444,
              "#bd3786"
             ],
             [
              0.5555555555555556,
              "#d8576b"
             ],
             [
              0.6666666666666666,
              "#ed7953"
             ],
             [
              0.7777777777777778,
              "#fb9f3a"
             ],
             [
              0.8888888888888888,
              "#fdca26"
             ],
             [
              1,
              "#f0f921"
             ]
            ],
            "type": "heatmapgl"
           }
          ],
          "histogram": [
           {
            "marker": {
             "colorbar": {
              "outlinewidth": 0,
              "ticks": ""
             }
            },
            "type": "histogram"
           }
          ],
          "histogram2d": [
           {
            "colorbar": {
             "outlinewidth": 0,
             "ticks": ""
            },
            "colorscale": [
             [
              0,
              "#0d0887"
             ],
             [
              0.1111111111111111,
              "#46039f"
             ],
             [
              0.2222222222222222,
              "#7201a8"
             ],
             [
              0.3333333333333333,
              "#9c179e"
             ],
             [
              0.4444444444444444,
              "#bd3786"
             ],
             [
              0.5555555555555556,
              "#d8576b"
             ],
             [
              0.6666666666666666,
              "#ed7953"
             ],
             [
              0.7777777777777778,
              "#fb9f3a"
             ],
             [
              0.8888888888888888,
              "#fdca26"
             ],
             [
              1,
              "#f0f921"
             ]
            ],
            "type": "histogram2d"
           }
          ],
          "histogram2dcontour": [
           {
            "colorbar": {
             "outlinewidth": 0,
             "ticks": ""
            },
            "colorscale": [
             [
              0,
              "#0d0887"
             ],
             [
              0.1111111111111111,
              "#46039f"
             ],
             [
              0.2222222222222222,
              "#7201a8"
             ],
             [
              0.3333333333333333,
              "#9c179e"
             ],
             [
              0.4444444444444444,
              "#bd3786"
             ],
             [
              0.5555555555555556,
              "#d8576b"
             ],
             [
              0.6666666666666666,
              "#ed7953"
             ],
             [
              0.7777777777777778,
              "#fb9f3a"
             ],
             [
              0.8888888888888888,
              "#fdca26"
             ],
             [
              1,
              "#f0f921"
             ]
            ],
            "type": "histogram2dcontour"
           }
          ],
          "mesh3d": [
           {
            "colorbar": {
             "outlinewidth": 0,
             "ticks": ""
            },
            "type": "mesh3d"
           }
          ],
          "parcoords": [
           {
            "line": {
             "colorbar": {
              "outlinewidth": 0,
              "ticks": ""
             }
            },
            "type": "parcoords"
           }
          ],
          "pie": [
           {
            "automargin": true,
            "type": "pie"
           }
          ],
          "scatter": [
           {
            "marker": {
             "colorbar": {
              "outlinewidth": 0,
              "ticks": ""
             }
            },
            "type": "scatter"
           }
          ],
          "scatter3d": [
           {
            "line": {
             "colorbar": {
              "outlinewidth": 0,
              "ticks": ""
             }
            },
            "marker": {
             "colorbar": {
              "outlinewidth": 0,
              "ticks": ""
             }
            },
            "type": "scatter3d"
           }
          ],
          "scattercarpet": [
           {
            "marker": {
             "colorbar": {
              "outlinewidth": 0,
              "ticks": ""
             }
            },
            "type": "scattercarpet"
           }
          ],
          "scattergeo": [
           {
            "marker": {
             "colorbar": {
              "outlinewidth": 0,
              "ticks": ""
             }
            },
            "type": "scattergeo"
           }
          ],
          "scattergl": [
           {
            "marker": {
             "colorbar": {
              "outlinewidth": 0,
              "ticks": ""
             }
            },
            "type": "scattergl"
           }
          ],
          "scattermapbox": [
           {
            "marker": {
             "colorbar": {
              "outlinewidth": 0,
              "ticks": ""
             }
            },
            "type": "scattermapbox"
           }
          ],
          "scatterpolar": [
           {
            "marker": {
             "colorbar": {
              "outlinewidth": 0,
              "ticks": ""
             }
            },
            "type": "scatterpolar"
           }
          ],
          "scatterpolargl": [
           {
            "marker": {
             "colorbar": {
              "outlinewidth": 0,
              "ticks": ""
             }
            },
            "type": "scatterpolargl"
           }
          ],
          "scatterternary": [
           {
            "marker": {
             "colorbar": {
              "outlinewidth": 0,
              "ticks": ""
             }
            },
            "type": "scatterternary"
           }
          ],
          "surface": [
           {
            "colorbar": {
             "outlinewidth": 0,
             "ticks": ""
            },
            "colorscale": [
             [
              0,
              "#0d0887"
             ],
             [
              0.1111111111111111,
              "#46039f"
             ],
             [
              0.2222222222222222,
              "#7201a8"
             ],
             [
              0.3333333333333333,
              "#9c179e"
             ],
             [
              0.4444444444444444,
              "#bd3786"
             ],
             [
              0.5555555555555556,
              "#d8576b"
             ],
             [
              0.6666666666666666,
              "#ed7953"
             ],
             [
              0.7777777777777778,
              "#fb9f3a"
             ],
             [
              0.8888888888888888,
              "#fdca26"
             ],
             [
              1,
              "#f0f921"
             ]
            ],
            "type": "surface"
           }
          ],
          "table": [
           {
            "cells": {
             "fill": {
              "color": "#EBF0F8"
             },
             "line": {
              "color": "white"
             }
            },
            "header": {
             "fill": {
              "color": "#C8D4E3"
             },
             "line": {
              "color": "white"
             }
            },
            "type": "table"
           }
          ]
         },
         "layout": {
          "annotationdefaults": {
           "arrowcolor": "#2a3f5f",
           "arrowhead": 0,
           "arrowwidth": 1
          },
          "coloraxis": {
           "colorbar": {
            "outlinewidth": 0,
            "ticks": ""
           }
          },
          "colorscale": {
           "diverging": [
            [
             0,
             "#8e0152"
            ],
            [
             0.1,
             "#c51b7d"
            ],
            [
             0.2,
             "#de77ae"
            ],
            [
             0.3,
             "#f1b6da"
            ],
            [
             0.4,
             "#fde0ef"
            ],
            [
             0.5,
             "#f7f7f7"
            ],
            [
             0.6,
             "#e6f5d0"
            ],
            [
             0.7,
             "#b8e186"
            ],
            [
             0.8,
             "#7fbc41"
            ],
            [
             0.9,
             "#4d9221"
            ],
            [
             1,
             "#276419"
            ]
           ],
           "sequential": [
            [
             0,
             "#0d0887"
            ],
            [
             0.1111111111111111,
             "#46039f"
            ],
            [
             0.2222222222222222,
             "#7201a8"
            ],
            [
             0.3333333333333333,
             "#9c179e"
            ],
            [
             0.4444444444444444,
             "#bd3786"
            ],
            [
             0.5555555555555556,
             "#d8576b"
            ],
            [
             0.6666666666666666,
             "#ed7953"
            ],
            [
             0.7777777777777778,
             "#fb9f3a"
            ],
            [
             0.8888888888888888,
             "#fdca26"
            ],
            [
             1,
             "#f0f921"
            ]
           ],
           "sequentialminus": [
            [
             0,
             "#0d0887"
            ],
            [
             0.1111111111111111,
             "#46039f"
            ],
            [
             0.2222222222222222,
             "#7201a8"
            ],
            [
             0.3333333333333333,
             "#9c179e"
            ],
            [
             0.4444444444444444,
             "#bd3786"
            ],
            [
             0.5555555555555556,
             "#d8576b"
            ],
            [
             0.6666666666666666,
             "#ed7953"
            ],
            [
             0.7777777777777778,
             "#fb9f3a"
            ],
            [
             0.8888888888888888,
             "#fdca26"
            ],
            [
             1,
             "#f0f921"
            ]
           ]
          },
          "colorway": [
           "#636efa",
           "#EF553B",
           "#00cc96",
           "#ab63fa",
           "#FFA15A",
           "#19d3f3",
           "#FF6692",
           "#B6E880",
           "#FF97FF",
           "#FECB52"
          ],
          "font": {
           "color": "#2a3f5f"
          },
          "geo": {
           "bgcolor": "white",
           "lakecolor": "white",
           "landcolor": "#E5ECF6",
           "showlakes": true,
           "showland": true,
           "subunitcolor": "white"
          },
          "hoverlabel": {
           "align": "left"
          },
          "hovermode": "closest",
          "mapbox": {
           "style": "light"
          },
          "paper_bgcolor": "white",
          "plot_bgcolor": "#E5ECF6",
          "polar": {
           "angularaxis": {
            "gridcolor": "white",
            "linecolor": "white",
            "ticks": ""
           },
           "bgcolor": "#E5ECF6",
           "radialaxis": {
            "gridcolor": "white",
            "linecolor": "white",
            "ticks": ""
           }
          },
          "scene": {
           "xaxis": {
            "backgroundcolor": "#E5ECF6",
            "gridcolor": "white",
            "gridwidth": 2,
            "linecolor": "white",
            "showbackground": true,
            "ticks": "",
            "zerolinecolor": "white"
           },
           "yaxis": {
            "backgroundcolor": "#E5ECF6",
            "gridcolor": "white",
            "gridwidth": 2,
            "linecolor": "white",
            "showbackground": true,
            "ticks": "",
            "zerolinecolor": "white"
           },
           "zaxis": {
            "backgroundcolor": "#E5ECF6",
            "gridcolor": "white",
            "gridwidth": 2,
            "linecolor": "white",
            "showbackground": true,
            "ticks": "",
            "zerolinecolor": "white"
           }
          },
          "shapedefaults": {
           "line": {
            "color": "#2a3f5f"
           }
          },
          "ternary": {
           "aaxis": {
            "gridcolor": "white",
            "linecolor": "white",
            "ticks": ""
           },
           "baxis": {
            "gridcolor": "white",
            "linecolor": "white",
            "ticks": ""
           },
           "bgcolor": "#E5ECF6",
           "caxis": {
            "gridcolor": "white",
            "linecolor": "white",
            "ticks": ""
           }
          },
          "title": {
           "x": 0.05
          },
          "xaxis": {
           "automargin": true,
           "gridcolor": "white",
           "linecolor": "white",
           "ticks": "",
           "title": {
            "standoff": 15
           },
           "zerolinecolor": "white",
           "zerolinewidth": 2
          },
          "yaxis": {
           "automargin": true,
           "gridcolor": "white",
           "linecolor": "white",
           "ticks": "",
           "title": {
            "standoff": 15
           },
           "zerolinecolor": "white",
           "zerolinewidth": 2
          }
         }
        },
        "title": {
         "text": "Test_score / port "
        }
       }
      },
      "text/html": [
       "<div>\n",
       "        \n",
       "        \n",
       "            <div id=\"9ced7c61-23e8-453a-9321-230eb2a4a7b3\" class=\"plotly-graph-div\" style=\"height:525px; width:100%;\"></div>\n",
       "            <script type=\"text/javascript\">\n",
       "                require([\"plotly\"], function(Plotly) {\n",
       "                    window.PLOTLYENV=window.PLOTLYENV || {};\n",
       "                    \n",
       "                if (document.getElementById(\"9ced7c61-23e8-453a-9321-230eb2a4a7b3\")) {\n",
       "                    Plotly.newPlot(\n",
       "                        '9ced7c61-23e8-453a-9321-230eb2a4a7b3',\n",
       "                        [{\"lat\": [\"48.905266\", \"42.3315509\", \"48.9950874\", \"48.9853824\", \"48.9376147\", \"48.9987931\", \"48.9996344\", \"48.9881108\", \"44.9953505\", \"45.0094923\", \"44.979486\", \"45.00042985\", \"26.4070669\", \"29.9883766\", \"27.5199841\", \"26.3530256\", \"31.7600372\", \"28.7091433\", \"25.9140256\", \"44.881314\", \"44.928106\", \"44.982541\", \"43.0761171\", \"31.8559384\", \"31.8303365\", \"48.9958637\", \"48.614892\", \"31.46223\", \"31.8819798\", \"31.3402134\", \"32.4934395\", \"32.6753413\", \"32.560058\", \"32.5520013\", \"32.5833711\", \"48.999904\", \"45.189032\", \"46.1251286\", \"45.6239358\", \"47.355571\", \"47.157506\", \"45.5634002\", \"42.9815877\", \"46.490586\", \"48.7124408\", \"48.9970672\", \"48.9991329\"], \"locationmode\": \"USA-states\", \"lon\": [\"-95.314404\", \"-83.0466403\", \"-122.269080593315\", \"-123.077974\", \"-119.4361687\", \"-118.2241779\", \"-117.8310975\", \"-122.7435757\", \"-72.6731285931857\", \"-71.7961053\", \"-73.1054065\", \"-72.1064356198873\", \"-99.0055462\", \"-104.2336552\", \"-99.4953764\", \"-98.216445\", \"-106.487287\", \"-100.4995214\", \"-97.4890856\", \"-74.2656165\", \"-74.892082\", \"-73.377564\", \"-78.9928794\", \"-106.6391577\", \"-107.6385256\", \"-102.5496127\", \"-93.352057\", \"-109.59394273101\", \"-112.8153361\", \"-110.9360818\", \"-114.7737551\", \"-115.3887997\", \"-116.9361338\", \"-117.0430813\", \"-116.6285217\", \"-116.180196\", \"-67.2781424\", \"-67.8407944\", \"-70.2545117\", \"-68.321915\", \"-67.935333\", \"-67.429721\", \"-82.440466\", \"-84.359269\", \"-94.600171\", \"-111.9625745\", \"-115.0565577\"], \"marker\": {\"autocolorscale\": false, \"cmax\": 0.7337278106508875, \"cmin\": 0, \"color\": [0.6896551724137931, 0.6242774566473989, 0.5848214285714286, 0.3780487804878049, 0.6204819277108434, 0.5177664974619289, 0.7337278106508875, 0.634020618556701, 0.5380434782608695, 0.4919786096256685, 0.6808510638297872, 0.6094674556213018, 0.6, 0.5561797752808989, 0.6094674556213018, 0.5294117647058824, 0.7170731707317073, 0.7014925373134329, 0.5730994152046783, 0.5548780487804879, 0.5903614457831325, 0.7130044843049327, 0.6283185840707964, 0.45962732919254656, 0.6073619631901841, 0.48672566371681414, 0.6266666666666667, 0.591715976331361, 0.5833333333333334, 0.6620370370370371, 0.5740740740740741, 0.568075117370892, 0.7155555555555555, 0.5652173913043478, 0.6701030927835051, 0.5135135135135135, 0.5024630541871922, 0.6607142857142857, 0.45739910313901344, 0.3772455089820359, 0.5497382198952879, 0.3858695652173913, 0.5433526011560693, 0.6449704142011834, 0.5694444444444444, 0.48444444444444446, 0.5060240963855421], \"colorbar\": {\"title\": {\"text\": \"Test_score\"}}, \"colorscale\": [[0.0, \"rgb(255,245,240)\"], [0.125, \"rgb(254,224,210)\"], [0.25, \"rgb(252,187,161)\"], [0.375, \"rgb(252,146,114)\"], [0.5, \"rgb(251,106,74)\"], [0.625, \"rgb(239,59,44)\"], [0.75, \"rgb(203,24,29)\"], [0.875, \"rgb(165,15,21)\"], [1.0, \"rgb(103,0,13)\"]], \"line\": {\"color\": \"rgba(102, 102, 102)\", \"width\": 1}, \"opacity\": 0.8, \"reversescale\": true, \"size\": 10, \"symbol\": \"square\"}, \"mode\": \"markers\", \"text\": [\"Warroad<br>Test Score: 0.6896551724137931\", \"Detroit<br>Test Score: 0.6242774566473989\", \"Sumas<br>Test Score: 0.5848214285714286\", \"Point Roberts<br>Test Score: 0.3780487804878049\", \"Oroville<br>Test Score: 0.6204819277108434\", \"Laurier<br>Test Score: 0.5177664974619289\", \"Frontier<br>Test Score: 0.7337278106508875\", \"Blaine<br>Test Score: 0.634020618556701\", \"Richford<br>Test Score: 0.5380434782608695\", \"Norton<br>Test Score: 0.4919786096256685\", \"Highgate Springs-Alburg<br>Test Score: 0.6808510638297872\", \"Derby Line<br>Test Score: 0.6094674556213018\", \"Roma<br>Test Score: 0.6\", \"Presidio<br>Test Score: 0.5561797752808989\", \"Laredo<br>Test Score: 0.6094674556213018\", \"Hidalgo<br>Test Score: 0.5294117647058824\", \"El Paso<br>Test Score: 0.7170731707317073\", \"Eagle Pass<br>Test Score: 0.7014925373134329\", \"Brownsville<br>Test Score: 0.5730994152046783\", \"Trout River<br>Test Score: 0.5548780487804879\", \"Massena<br>Test Score: 0.5903614457831325\", \"Champlain-Rouses Point<br>Test Score: 0.7130044843049327\", \"Buffalo-Niagara Falls<br>Test Score: 0.6283185840707964\", \"Santa Teresa<br>Test Score: 0.45962732919254656\", \"Columbus<br>Test Score: 0.6073619631901841\", \"Portal<br>Test Score: 0.48672566371681414\", \"International Falls-Ranier<br>Test Score: 0.6266666666666667\", \"Douglas<br>Test Score: 0.591715976331361\", \"Lukeville<br>Test Score: 0.5833333333333334\", \"Nogales<br>Test Score: 0.6620370370370371\", \"San Luis<br>Test Score: 0.5740740740740741\", \"Calexico East<br>Test Score: 0.568075117370892\", \"Otay Mesa<br>Test Score: 0.7155555555555555\", \"San Ysidro<br>Test Score: 0.5652173913043478\", \"Tecate<br>Test Score: 0.6701030927835051\", \"Eastport_ID<br>Test Score: 0.5135135135135135\", \"Calais<br>Test Score: 0.5024630541871922\", \"Houlton<br>Test Score: 0.6607142857142857\", \"Jackman<br>Test Score: 0.45739910313901344\", \"Madawaska<br>Test Score: 0.3772455089820359\", \"Van Buren<br>Test Score: 0.5497382198952879\", \"Vanceboro<br>Test Score: 0.3858695652173913\", \"Port Huron<br>Test Score: 0.5433526011560693\", \"Sault Sainte Marie<br>Test Score: 0.6449704142011834\", \"Baudette<br>Test Score: 0.5694444444444444\", \"Sweetgrass<br>Test Score: 0.48444444444444446\", \"Roosville<br>Test Score: 0.5060240963855421\"], \"type\": \"scattergeo\"}],\n",
       "                        {\"geo\": {\"countrycolor\": \"rgb(217, 217, 217)\", \"countrywidth\": 0.5, \"landcolor\": \"rgb(250, 250, 250)\", \"projection\": {\"type\": \"albers usa\"}, \"scope\": \"usa\", \"showland\": true, \"subunitcolor\": \"rgb(217, 217, 217)\", \"subunitwidth\": 0.5}, \"template\": {\"data\": {\"bar\": [{\"error_x\": {\"color\": \"#2a3f5f\"}, \"error_y\": {\"color\": \"#2a3f5f\"}, \"marker\": {\"line\": {\"color\": \"#E5ECF6\", \"width\": 0.5}}, \"type\": \"bar\"}], \"barpolar\": [{\"marker\": {\"line\": {\"color\": \"#E5ECF6\", \"width\": 0.5}}, \"type\": \"barpolar\"}], \"carpet\": [{\"aaxis\": {\"endlinecolor\": \"#2a3f5f\", \"gridcolor\": \"white\", \"linecolor\": \"white\", \"minorgridcolor\": \"white\", \"startlinecolor\": \"#2a3f5f\"}, \"baxis\": {\"endlinecolor\": \"#2a3f5f\", \"gridcolor\": \"white\", \"linecolor\": \"white\", \"minorgridcolor\": \"white\", \"startlinecolor\": \"#2a3f5f\"}, \"type\": \"carpet\"}], \"choropleth\": [{\"colorbar\": {\"outlinewidth\": 0, \"ticks\": \"\"}, \"type\": \"choropleth\"}], \"contour\": [{\"colorbar\": {\"outlinewidth\": 0, \"ticks\": \"\"}, \"colorscale\": [[0.0, \"#0d0887\"], [0.1111111111111111, \"#46039f\"], [0.2222222222222222, \"#7201a8\"], [0.3333333333333333, \"#9c179e\"], [0.4444444444444444, \"#bd3786\"], [0.5555555555555556, \"#d8576b\"], [0.6666666666666666, \"#ed7953\"], [0.7777777777777778, \"#fb9f3a\"], [0.8888888888888888, \"#fdca26\"], [1.0, \"#f0f921\"]], \"type\": \"contour\"}], \"contourcarpet\": [{\"colorbar\": {\"outlinewidth\": 0, \"ticks\": \"\"}, \"type\": \"contourcarpet\"}], \"heatmap\": [{\"colorbar\": {\"outlinewidth\": 0, \"ticks\": \"\"}, \"colorscale\": [[0.0, \"#0d0887\"], [0.1111111111111111, \"#46039f\"], [0.2222222222222222, \"#7201a8\"], [0.3333333333333333, \"#9c179e\"], [0.4444444444444444, \"#bd3786\"], [0.5555555555555556, \"#d8576b\"], [0.6666666666666666, \"#ed7953\"], [0.7777777777777778, \"#fb9f3a\"], [0.8888888888888888, \"#fdca26\"], [1.0, \"#f0f921\"]], \"type\": \"heatmap\"}], \"heatmapgl\": [{\"colorbar\": {\"outlinewidth\": 0, \"ticks\": \"\"}, \"colorscale\": [[0.0, \"#0d0887\"], [0.1111111111111111, \"#46039f\"], [0.2222222222222222, \"#7201a8\"], [0.3333333333333333, \"#9c179e\"], [0.4444444444444444, \"#bd3786\"], [0.5555555555555556, \"#d8576b\"], [0.6666666666666666, \"#ed7953\"], [0.7777777777777778, \"#fb9f3a\"], [0.8888888888888888, \"#fdca26\"], [1.0, \"#f0f921\"]], \"type\": \"heatmapgl\"}], \"histogram\": [{\"marker\": {\"colorbar\": {\"outlinewidth\": 0, \"ticks\": \"\"}}, \"type\": \"histogram\"}], \"histogram2d\": [{\"colorbar\": {\"outlinewidth\": 0, \"ticks\": \"\"}, \"colorscale\": [[0.0, \"#0d0887\"], [0.1111111111111111, \"#46039f\"], [0.2222222222222222, \"#7201a8\"], [0.3333333333333333, \"#9c179e\"], [0.4444444444444444, \"#bd3786\"], [0.5555555555555556, \"#d8576b\"], [0.6666666666666666, \"#ed7953\"], [0.7777777777777778, \"#fb9f3a\"], [0.8888888888888888, \"#fdca26\"], [1.0, \"#f0f921\"]], \"type\": \"histogram2d\"}], \"histogram2dcontour\": [{\"colorbar\": {\"outlinewidth\": 0, \"ticks\": \"\"}, \"colorscale\": [[0.0, \"#0d0887\"], [0.1111111111111111, \"#46039f\"], [0.2222222222222222, \"#7201a8\"], [0.3333333333333333, \"#9c179e\"], [0.4444444444444444, \"#bd3786\"], [0.5555555555555556, \"#d8576b\"], [0.6666666666666666, \"#ed7953\"], [0.7777777777777778, \"#fb9f3a\"], [0.8888888888888888, \"#fdca26\"], [1.0, \"#f0f921\"]], \"type\": \"histogram2dcontour\"}], \"mesh3d\": [{\"colorbar\": {\"outlinewidth\": 0, \"ticks\": \"\"}, \"type\": \"mesh3d\"}], \"parcoords\": [{\"line\": {\"colorbar\": {\"outlinewidth\": 0, \"ticks\": \"\"}}, \"type\": \"parcoords\"}], \"pie\": [{\"automargin\": true, \"type\": \"pie\"}], \"scatter\": [{\"marker\": {\"colorbar\": {\"outlinewidth\": 0, \"ticks\": \"\"}}, \"type\": \"scatter\"}], \"scatter3d\": [{\"line\": {\"colorbar\": {\"outlinewidth\": 0, \"ticks\": \"\"}}, \"marker\": {\"colorbar\": {\"outlinewidth\": 0, \"ticks\": \"\"}}, \"type\": \"scatter3d\"}], \"scattercarpet\": [{\"marker\": {\"colorbar\": {\"outlinewidth\": 0, \"ticks\": \"\"}}, \"type\": \"scattercarpet\"}], \"scattergeo\": [{\"marker\": {\"colorbar\": {\"outlinewidth\": 0, \"ticks\": \"\"}}, \"type\": \"scattergeo\"}], \"scattergl\": [{\"marker\": {\"colorbar\": {\"outlinewidth\": 0, \"ticks\": \"\"}}, \"type\": \"scattergl\"}], \"scattermapbox\": [{\"marker\": {\"colorbar\": {\"outlinewidth\": 0, \"ticks\": \"\"}}, \"type\": \"scattermapbox\"}], \"scatterpolar\": [{\"marker\": {\"colorbar\": {\"outlinewidth\": 0, \"ticks\": \"\"}}, \"type\": \"scatterpolar\"}], \"scatterpolargl\": [{\"marker\": {\"colorbar\": {\"outlinewidth\": 0, \"ticks\": \"\"}}, \"type\": \"scatterpolargl\"}], \"scatterternary\": [{\"marker\": {\"colorbar\": {\"outlinewidth\": 0, \"ticks\": \"\"}}, \"type\": \"scatterternary\"}], \"surface\": [{\"colorbar\": {\"outlinewidth\": 0, \"ticks\": \"\"}, \"colorscale\": [[0.0, \"#0d0887\"], [0.1111111111111111, \"#46039f\"], [0.2222222222222222, \"#7201a8\"], [0.3333333333333333, \"#9c179e\"], [0.4444444444444444, \"#bd3786\"], [0.5555555555555556, \"#d8576b\"], [0.6666666666666666, \"#ed7953\"], [0.7777777777777778, \"#fb9f3a\"], [0.8888888888888888, \"#fdca26\"], [1.0, \"#f0f921\"]], \"type\": \"surface\"}], \"table\": [{\"cells\": {\"fill\": {\"color\": \"#EBF0F8\"}, \"line\": {\"color\": \"white\"}}, \"header\": {\"fill\": {\"color\": \"#C8D4E3\"}, \"line\": {\"color\": \"white\"}}, \"type\": \"table\"}]}, \"layout\": {\"annotationdefaults\": {\"arrowcolor\": \"#2a3f5f\", \"arrowhead\": 0, \"arrowwidth\": 1}, \"coloraxis\": {\"colorbar\": {\"outlinewidth\": 0, \"ticks\": \"\"}}, \"colorscale\": {\"diverging\": [[0, \"#8e0152\"], [0.1, \"#c51b7d\"], [0.2, \"#de77ae\"], [0.3, \"#f1b6da\"], [0.4, \"#fde0ef\"], [0.5, \"#f7f7f7\"], [0.6, \"#e6f5d0\"], [0.7, \"#b8e186\"], [0.8, \"#7fbc41\"], [0.9, \"#4d9221\"], [1, \"#276419\"]], \"sequential\": [[0.0, \"#0d0887\"], [0.1111111111111111, \"#46039f\"], [0.2222222222222222, \"#7201a8\"], [0.3333333333333333, \"#9c179e\"], [0.4444444444444444, \"#bd3786\"], [0.5555555555555556, \"#d8576b\"], [0.6666666666666666, \"#ed7953\"], [0.7777777777777778, \"#fb9f3a\"], [0.8888888888888888, \"#fdca26\"], [1.0, \"#f0f921\"]], \"sequentialminus\": [[0.0, \"#0d0887\"], [0.1111111111111111, \"#46039f\"], [0.2222222222222222, \"#7201a8\"], [0.3333333333333333, \"#9c179e\"], [0.4444444444444444, \"#bd3786\"], [0.5555555555555556, \"#d8576b\"], [0.6666666666666666, \"#ed7953\"], [0.7777777777777778, \"#fb9f3a\"], [0.8888888888888888, \"#fdca26\"], [1.0, \"#f0f921\"]]}, \"colorway\": [\"#636efa\", \"#EF553B\", \"#00cc96\", \"#ab63fa\", \"#FFA15A\", \"#19d3f3\", \"#FF6692\", \"#B6E880\", \"#FF97FF\", \"#FECB52\"], \"font\": {\"color\": \"#2a3f5f\"}, \"geo\": {\"bgcolor\": \"white\", \"lakecolor\": \"white\", \"landcolor\": \"#E5ECF6\", \"showlakes\": true, \"showland\": true, \"subunitcolor\": \"white\"}, \"hoverlabel\": {\"align\": \"left\"}, \"hovermode\": \"closest\", \"mapbox\": {\"style\": \"light\"}, \"paper_bgcolor\": \"white\", \"plot_bgcolor\": \"#E5ECF6\", \"polar\": {\"angularaxis\": {\"gridcolor\": \"white\", \"linecolor\": \"white\", \"ticks\": \"\"}, \"bgcolor\": \"#E5ECF6\", \"radialaxis\": {\"gridcolor\": \"white\", \"linecolor\": \"white\", \"ticks\": \"\"}}, \"scene\": {\"xaxis\": {\"backgroundcolor\": \"#E5ECF6\", \"gridcolor\": \"white\", \"gridwidth\": 2, \"linecolor\": \"white\", \"showbackground\": true, \"ticks\": \"\", \"zerolinecolor\": \"white\"}, \"yaxis\": {\"backgroundcolor\": \"#E5ECF6\", \"gridcolor\": \"white\", \"gridwidth\": 2, \"linecolor\": \"white\", \"showbackground\": true, \"ticks\": \"\", \"zerolinecolor\": \"white\"}, \"zaxis\": {\"backgroundcolor\": \"#E5ECF6\", \"gridcolor\": \"white\", \"gridwidth\": 2, \"linecolor\": \"white\", \"showbackground\": true, \"ticks\": \"\", \"zerolinecolor\": \"white\"}}, \"shapedefaults\": {\"line\": {\"color\": \"#2a3f5f\"}}, \"ternary\": {\"aaxis\": {\"gridcolor\": \"white\", \"linecolor\": \"white\", \"ticks\": \"\"}, \"baxis\": {\"gridcolor\": \"white\", \"linecolor\": \"white\", \"ticks\": \"\"}, \"bgcolor\": \"#E5ECF6\", \"caxis\": {\"gridcolor\": \"white\", \"linecolor\": \"white\", \"ticks\": \"\"}}, \"title\": {\"x\": 0.05}, \"xaxis\": {\"automargin\": true, \"gridcolor\": \"white\", \"linecolor\": \"white\", \"ticks\": \"\", \"title\": {\"standoff\": 15}, \"zerolinecolor\": \"white\", \"zerolinewidth\": 2}, \"yaxis\": {\"automargin\": true, \"gridcolor\": \"white\", \"linecolor\": \"white\", \"ticks\": \"\", \"title\": {\"standoff\": 15}, \"zerolinecolor\": \"white\", \"zerolinewidth\": 2}}}, \"title\": {\"text\": \"Test_score / port \"}},\n",
       "                        {\"responsive\": true}\n",
       "                    ).then(function(){\n",
       "                            \n",
       "var gd = document.getElementById('9ced7c61-23e8-453a-9321-230eb2a4a7b3');\n",
       "var x = new MutationObserver(function (mutations, observer) {{\n",
       "        var display = window.getComputedStyle(gd).display;\n",
       "        if (!display || display === 'none') {{\n",
       "            console.log([gd, 'removed!']);\n",
       "            Plotly.purge(gd);\n",
       "            observer.disconnect();\n",
       "        }}\n",
       "}});\n",
       "\n",
       "// Listen for the removal of the full notebook cells\n",
       "var notebookContainer = gd.closest('#notebook-container');\n",
       "if (notebookContainer) {{\n",
       "    x.observe(notebookContainer, {childList: true});\n",
       "}}\n",
       "\n",
       "// Listen for the clearing of the current output cell\n",
       "var outputEl = gd.closest('.output');\n",
       "if (outputEl) {{\n",
       "    x.observe(outputEl, {childList: true});\n",
       "}}\n",
       "\n",
       "                        })\n",
       "                };\n",
       "                });\n",
       "            </script>\n",
       "        </div>"
      ]
     },
     "metadata": {},
     "output_type": "display_data"
    }
   ],
   "source": [
    "port_localisation =  pd.DataFrame(data = port_localisation,columns = ['Port Name','Train Score','Test Score'])\n",
    "ps = nozero[['Port Name','latitude']].drop_duplicates().set_index('Port Name')\n",
    "port_localisation['latitude'] = port_localisation['Port Name'].apply(lambda x : ', '.join(ps.loc[x].values.flatten()))\n",
    "ps = nozero[['Port Name','longitude']].drop_duplicates().set_index('Port Name')\n",
    "port_localisation['longitude'] = port_localisation['Port Name'].apply(lambda x : ', '.join(ps.loc[x].values.flatten()))\n",
    "port_localisation['text'] = port_localisation['Port Name'] + '<br>Test Score: ' + (port_localisation['Test Score']).astype(str)\n",
    "\n",
    "\n",
    "\n",
    "fig = go.Figure(data=go.Scattergeo(\n",
    "        locationmode = 'USA-states',\n",
    "        lon = port_localisation['longitude'],\n",
    "        lat = port_localisation['latitude'],\n",
    "        text = port_localisation['text'],\n",
    "        mode = 'markers',\n",
    "        marker = dict(\n",
    "            size = 10,\n",
    "            opacity = 0.8,\n",
    "            reversescale = True,\n",
    "            autocolorscale = False,\n",
    "            symbol = 'square',\n",
    "            line = dict(\n",
    "                width=1,\n",
    "                color='rgba(102, 102, 102)'\n",
    "            ),\n",
    "            colorscale = 'Reds',\n",
    "            cmin = 0,\n",
    "            color = port_localisation['Test Score'],\n",
    "            cmax = port_localisation['Test Score'].max(),\n",
    "            colorbar_title=\"Test_score\"\n",
    "        )))\n",
    "\n",
    "fig.update_layout(\n",
    "        title = 'Test_score / port ',\n",
    "        geo = dict(\n",
    "            scope='usa',\n",
    "            projection_type='albers usa',\n",
    "            showland = True,\n",
    "            landcolor = \"rgb(250, 250, 250)\",\n",
    "            subunitcolor = \"rgb(217, 217, 217)\",\n",
    "            countrycolor = \"rgb(217, 217, 217)\",\n",
    "            countrywidth = 0.5,\n",
    "            subunitwidth = 0.5\n",
    "        ),\n",
    "    )\n",
    "fig.show()"
   ]
  },
  {
   "cell_type": "markdown",
   "metadata": {},
   "source": [
    "# Linear Regression"
   ]
  },
  {
   "cell_type": "markdown",
   "metadata": {},
   "source": [
    "TO DO : Create a linear regression with the logValue for y. (see notebook linear_regression)"
   ]
  },
  {
   "cell_type": "code",
   "execution_count": 240,
   "metadata": {},
   "outputs": [],
   "source": [
    "y = np.log(nozero['Value'])"
   ]
  },
  {
   "cell_type": "code",
   "execution_count": 241,
   "metadata": {
    "inputHidden": false,
    "outputHidden": false
   },
   "outputs": [
    {
     "data": {
      "text/plain": [
       "0    9.876065\n",
       "1    0.693147\n",
       "2    4.143135\n",
       "3    8.907206\n",
       "4    4.770685\n",
       "Name: Value, dtype: float64"
      ]
     },
     "execution_count": 241,
     "metadata": {},
     "output_type": "execute_result"
    }
   ],
   "source": [
    "y.head()"
   ]
  },
  {
   "cell_type": "code",
   "execution_count": 242,
   "metadata": {
    "scrolled": true
   },
   "outputs": [
    {
     "data": {
      "text/plain": [
       "<matplotlib.axes._subplots.AxesSubplot at 0x1a2ce1a5f8>"
      ]
     },
     "execution_count": 242,
     "metadata": {},
     "output_type": "execute_result"
    },
    {
     "data": {
      "image/png": "[encoded data removed]",
      "text/plain": [
       "<Figure size 432x288 with 1 Axes>"
      ]
     },
     "metadata": {},
     "output_type": "display_data"
    }
   ],
   "source": [
    "y.hist()"
   ]
  },
  {
   "cell_type": "code",
   "execution_count": 250,
   "metadata": {},
   "outputs": [],
   "source": [
    "def linear(X,y):\n",
    "    X_train, X_test, y_train, y_test = train_test_split(X, y, test_size=0.2, random_state=42)\n",
    "    iowa_model = LinearRegression()\n",
    "    iowa_model.fit(X_train,y_train)\n",
    "    test_score = iowa_model.score(X_test, y_test)\n",
    "    train_score = iowa_model.score(X_train,y_train)\n",
    "    print(\"train_score :\",train_score,\"test_score =\",test_score)\n",
    "    return test_score\n",
    "    \n",
    "def linearRegression(f):\n",
    "    one_hot = OneHotEncoder(categories=\"auto\")\n",
    "    categoricals = []\n",
    "    features = f.copy()\n",
    "    for feature in f:\n",
    "        if feature in ['Measure','State','Border']:\n",
    "            categoricals.append(feature)\n",
    "            features.remove(feature)\n",
    "    cat_to_onehot = one_hot.fit_transform(nozero[categoricals]).toarray()\n",
    "    cat_to_onehot = pd.DataFrame(cat_to_onehot)\n",
    "    X = pd.concat((nozero[features].reset_index(drop=True),cat_to_onehot.reset_index(drop=True)),axis=1)\n",
    "    \n",
    "    return linear(X,y)"
   ]
  },
  {
   "cell_type": "code",
   "execution_count": 258,
   "metadata": {
    "inputHidden": false,
    "outputHidden": false
   },
   "outputs": [],
   "source": [
    "f = ['Measure','Port Code','State','latitude','longitude','Border','Year','Month']\n",
    "def computelinReg(f):\n",
    "    listcomb = []\n",
    "    Regrtestsore = []\n",
    "    for i in range(len(f)+1):\n",
    "        for combination in itertools.combinations(f, i): \n",
    "            listcomb.append(combination)\n",
    "    \n",
    "    listcomb.pop(0)\n",
    "    for i in range(len(listcomb)):\n",
    "        Regrtestsore.append(linearRegression(list(listcomb[i])))\n",
    "        print(listcomb[i])\n",
    "    \n",
    "    return max(Regrtestsore)\n",
    "                            \n",
    "        "
   ]
  },
  {
   "cell_type": "code",
   "execution_count": 259,
   "metadata": {
    "inputHidden": false,
    "outputHidden": false
   },
   "outputs": [
    {
     "name": "stdout",
     "output_type": "stream",
     "text": [
      "train_score : 0.31713169497016247 test_score = 0.3194818281776598\n",
      "('Measure',)\n",
      "train_score : 3.1647639479048806e-05 test_score = -0.00019640457376812745\n",
      "('Port Code',)\n",
      "train_score : 0.22760714701601714 test_score = 0.22410809410580365\n",
      "('State',)\n",
      "train_score : 0.19204121877931335 test_score = 0.2008728726678648\n",
      "('latitude',)\n",
      "train_score : 0.0008821294520792167 test_score = -2.2039726945699556e-06\n",
      "('longitude',)\n",
      "train_score : 0.17216572426493848 test_score = 0.17810289849263838\n",
      "('Border',)\n",
      "train_score : 0.00014723688697881876 test_score = 0.00010451223034135815\n",
      "('Year',)\n",
      "train_score : 0.00023127588218485595 test_score = -0.0006270221770359186\n",
      "('Month',)\n",
      "train_score : 0.3188335685729843 test_score = 0.3222994348852525\n",
      "('Measure', 'Port Code')\n",
      "train_score : 0.6024890795984463 test_score = 0.6029395467324877\n",
      "('Measure', 'State')\n",
      "train_score : 0.542015379243356 test_score = 0.552702637017613\n",
      "('Measure', 'latitude')\n",
      "train_score : 0.3172079579648347 test_score = 0.31949105993824944\n",
      "('Measure', 'longitude')\n",
      "train_score : 0.5149847411670248 test_score = 0.5221397935923279\n",
      "('Measure', 'Border')\n",
      "train_score : 0.3183874313883528 test_score = 0.32056013115725146\n",
      "('Measure', 'Year')\n",
      "train_score : 0.31730430995862424 test_score = 0.31933279263375003\n",
      "('Measure', 'Month')\n",
      "train_score : 0.23232897869791855 test_score = 0.22762899347857346\n",
      "('Port Code', 'State')\n",
      "train_score : 0.1953116925539783 test_score = 0.20261829766179618\n",
      "('Port Code', 'latitude')\n",
      "train_score : 0.0014989060348044037 test_score = 0.0012248996776255128\n",
      "('Port Code', 'longitude')\n",
      "train_score : 0.1723703089726205 test_score = 0.178760302672629\n",
      "('Port Code', 'Border')\n",
      "train_score : 0.0001805312709401985 test_score = -8.558014563675442e-05\n",
      "('Port Code', 'Year')\n",
      "train_score : 0.0002627914300731282 test_score = -0.0008109623798613353\n",
      "('Port Code', 'Month')\n",
      "train_score : 0.22977463317423408 test_score = 0.22741760182349488\n",
      "('State', 'latitude')\n",
      "train_score : 0.22973363605244543 test_score = 0.22530858599513537\n",
      "('State', 'longitude')\n",
      "train_score : 0.2276012110593123 test_score = 0.22402453471944472\n",
      "('State', 'Border')\n",
      "train_score : 0.2277600319960904 test_score = 0.22419272305749394\n",
      "('State', 'Year')\n",
      "train_score : 0.22782763351440416 test_score = 0.22368991218985013\n",
      "('State', 'Month')\n",
      "train_score : 0.1931807917828765 test_score = 0.20141541414012762\n",
      "('latitude', 'longitude')\n",
      "train_score : 0.19250147329199674 test_score = 0.20108131208814514\n",
      "('latitude', 'Border')\n",
      "train_score : 0.19225227689548297 test_score = 0.20108176553690393\n",
      "('latitude', 'Year')\n",
      "train_score : 0.19228089424487582 test_score = 0.2004393548902208\n",
      "('latitude', 'Month')\n",
      "train_score : 0.17951172137642513 test_score = 0.18757314232559918\n",
      "('longitude', 'Border')\n",
      "train_score : 0.0010443803133985963 test_score = 0.00011158433239155662\n",
      "('longitude', 'Year')\n",
      "train_score : 0.0011112943981318457 test_score = -0.0006152609635194928\n",
      "('longitude', 'Month')\n",
      "train_score : 0.17240388045685828 test_score = 0.1782896821793648\n",
      "('Border', 'Year')\n",
      "train_score : 0.17239393480826481 test_score = 0.17765760594633062\n",
      "('Border', 'Month')\n",
      "train_score : 0.0003697066240905267 test_score = -0.0005089488917691121\n",
      "('Year', 'Month')\n",
      "train_score : 0.6094301199288181 test_score = 0.6086046513573706\n",
      "('Measure', 'Port Code', 'State')\n",
      "train_score : 0.5421140153229774 test_score = 0.5527092821462559\n",
      "('Measure', 'Port Code', 'latitude')\n",
      "train_score : 0.32222785354748373 test_score = 0.32521400758255203\n",
      "('Measure', 'Port Code', 'longitude')\n",
      "train_score : 0.5195870017998372 test_score = 0.527690240732377\n",
      "('Measure', 'Port Code', 'Border')\n",
      "train_score : 0.32004427181489037 test_score = 0.323211179906837\n",
      "('Measure', 'Port Code', 'Year')\n",
      "train_score : 0.31898832285106493 test_score = 0.3220129836280853\n",
      "('Measure', 'Port Code', 'Month')\n",
      "train_score : 0.603747568386868 test_score = 0.604859339704451\n",
      "('Measure', 'State', 'latitude')\n",
      "train_score : 0.6081265233633533 test_score = 0.6080438492240339\n",
      "('Measure', 'State', 'longitude')\n",
      "train_score : 0.6024645493047387 test_score = 0.6029578823327072\n",
      "('Measure', 'State', 'Border')\n",
      "train_score : 0.6038565649310192 test_score = 0.6043093840546897\n",
      "('Measure', 'State', 'Year')\n",
      "train_score : 0.6026233717631595 test_score = 0.6029773207478781\n",
      "('Measure', 'State', 'Month')\n",
      "train_score : 0.5422546938925461 test_score = 0.5528395139582503\n",
      "('Measure', 'latitude', 'longitude')\n",
      "train_score : 0.5421961099905033 test_score = 0.5526864089733757\n",
      "('Measure', 'latitude', 'Border')\n",
      "train_score : 0.543549440354177 test_score = 0.5541317831649772\n",
      "('Measure', 'latitude', 'Year')\n",
      "train_score : 0.5421878572756094 test_score = 0.5526012609683505\n",
      "('Measure', 'latitude', 'Month')\n",
      "train_score : 0.528109528266282 test_score = 0.5366750355216524\n",
      "('Measure', 'longitude', 'Border')\n",
      "train_score : 0.31845576190457137 test_score = 0.3204318181234921\n",
      "('Measure', 'longitude', 'Year')\n",
      "train_score : 0.31736132753337276 test_score = 0.3192151932871301\n",
      "('Measure', 'longitude', 'Month')\n",
      "train_score : 0.5165836771258394 test_score = 0.5235340707282101\n",
      "('Measure', 'Border', 'Year')\n",
      "train_score : 0.5151498464233455 test_score = 0.52203941340837\n",
      "('Measure', 'Border', 'Month')\n",
      "train_score : 0.31852037215811047 test_score = 0.3202849790035033\n",
      "('Measure', 'Year', 'Month')\n",
      "train_score : 0.23510863023677098 test_score = 0.2317509754122843\n",
      "('Port Code', 'State', 'latitude')\n",
      "train_score : 0.2334399026537041 test_score = 0.22833111899448577\n",
      "('Port Code', 'State', 'longitude')\n",
      "train_score : 0.23232897869791855 test_score = 0.22762899347857324\n",
      "('Port Code', 'State', 'Border')\n",
      "train_score : 0.23251847018372562 test_score = 0.22785496745205513\n",
      "('Port Code', 'State', 'Year')\n",
      "train_score : 0.23254139359726203 test_score = 0.2273466540945268\n",
      "('Port Code', 'State', 'Month')\n",
      "train_score : 0.19550302905138195 test_score = 0.20274817142780632\n",
      "('Port Code', 'latitude', 'longitude')\n",
      "train_score : 0.1953214912191943 test_score = 0.20263069749263374\n",
      "('Port Code', 'latitude', 'Border')\n",
      "train_score : 0.1955442427608235 test_score = 0.2028487294551724\n",
      "('Port Code', 'latitude', 'Year')\n",
      "train_score : 0.19555012177373732 test_score = 0.20220724852471647\n",
      "('Port Code', 'latitude', 'Month')\n",
      "train_score : 0.18573363740158488 test_score = 0.19209378592853754\n",
      "('Port Code', 'longitude', 'Border')\n",
      "train_score : 0.0016642393738248717 test_score = 0.001334034886517399\n",
      "('Port Code', 'longitude', 'Year')\n",
      "train_score : 0.0017269709221851004 test_score = 0.0006013522101097069\n",
      "('Port Code', 'longitude', 'Month')\n",
      "train_score : 0.1726034428813782 test_score = 0.17893587282329104\n",
      "('Port Code', 'Border', 'Year')\n",
      "train_score : 0.17259884910296652 test_score = 0.17831092891143496\n",
      "('Port Code', 'Border', 'Month')\n",
      "train_score : 0.00040281819288956466 test_score = -0.0006964951171044564\n",
      "('Port Code', 'Year', 'Month')\n",
      "train_score : 0.23736063073172564 test_score = 0.23477944100507153\n",
      "('State', 'latitude', 'longitude')\n",
      "train_score : 0.229774633174234 test_score = 0.22741760182349488\n",
      "('State', 'latitude', 'Border')\n",
      "train_score : 0.22997170339030062 test_score = 0.2276874253761204\n",
      "('State', 'latitude', 'Year')\n",
      "train_score : 0.2299908612674807 test_score = 0.22709020922397705\n",
      "('State', 'latitude', 'Month')\n",
      "train_score : 0.22973363605244543 test_score = 0.22530858599513537\n",
      "('State', 'longitude', 'Border')\n",
      "train_score : 0.2298655246500937 test_score = 0.22548141408146094\n",
      "('State', 'longitude', 'Year')\n",
      "train_score : 0.22994167598102552 test_score = 0.22500544724182225\n",
      "('State', 'longitude', 'Month')\n",
      "train_score : 0.2277600319960904 test_score = 0.22419272305749394\n",
      "('State', 'Border', 'Year')\n",
      "train_score : 0.22782421593902635 test_score = 0.22366085758335222\n",
      "('State', 'Border', 'Month')\n",
      "train_score : 0.22796654054369359 test_score = 0.22387626317709883\n",
      "('State', 'Year', 'Month')\n",
      "train_score : 0.1932166814535604 test_score = 0.201439795982439\n",
      "('latitude', 'longitude', 'Border')\n",
      "train_score : 0.19341231415099513 test_score = 0.20163032225229882\n",
      "('latitude', 'longitude', 'Year')\n",
      "train_score : 0.19341803119236578 test_score = 0.20098488924450922\n",
      "('latitude', 'longitude', 'Month')\n",
      "train_score : 0.19271740485461963 test_score = 0.20128776329775389\n",
      "('latitude', 'Border', 'Year')\n",
      "train_score : 0.19273967687361038 test_score = 0.20064965078020147\n",
      "('latitude', 'Border', 'Month')\n",
      "train_score : 0.1924812142160196 test_score = 0.20064683522692772\n",
      "('latitude', 'Year', 'Month')\n"
     ]
    },
    {
     "name": "stdout",
     "output_type": "stream",
     "text": [
      "train_score : 0.17970283686490818 test_score = 0.18773239580659984\n",
      "('longitude', 'Border', 'Year')\n",
      "train_score : 0.17974610060018403 test_score = 0.1871326032342897\n",
      "('longitude', 'Border', 'Month')\n",
      "train_score : 0.0012643215672722974 test_score = -0.0004974058189235464\n",
      "('longitude', 'Year', 'Month')\n",
      "train_score : 0.17262095742978056 test_score = 0.1778449092568064\n",
      "('Border', 'Year', 'Month')\n",
      "train_score : 0.6112646353075574 test_score = 0.6111368953359011\n",
      "('Measure', 'Port Code', 'State', 'latitude')\n",
      "train_score : 0.6130405539566293 test_score = 0.612120890633139\n",
      "('Measure', 'Port Code', 'State', 'longitude')\n",
      "train_score : 0.6094301199288181 test_score = 0.6086046513573706\n",
      "('Measure', 'Port Code', 'State', 'Border')\n",
      "train_score : 0.6109473913139553 test_score = 0.6100521229498761\n",
      "('Measure', 'Port Code', 'State', 'Year')\n",
      "train_score : 0.6095581149112093 test_score = 0.6086357505737026\n",
      "('Measure', 'Port Code', 'State', 'Month')\n",
      "train_score : 0.5422617254878181 test_score = 0.5528631924018069\n",
      "('Measure', 'Port Code', 'latitude', 'longitude')\n",
      "train_score : 0.542217378620959 test_score = 0.5526923031576477\n",
      "('Measure', 'Port Code', 'latitude', 'Border')\n",
      "train_score : 0.5436560991043793 test_score = 0.5541454417390976\n",
      "('Measure', 'Port Code', 'latitude', 'Year')\n",
      "train_score : 0.5422862646555427 test_score = 0.5526108893436561\n",
      "('Measure', 'Port Code', 'latitude', 'Month')\n",
      "train_score : 0.5290501814546595 test_score = 0.5373672886730189\n",
      "('Measure', 'Port Code', 'longitude', 'Border')\n",
      "train_score : 0.3235191089587104 test_score = 0.3261375268944182\n",
      "('Measure', 'Port Code', 'longitude', 'Year')\n",
      "train_score : 0.3223805088810918 test_score = 0.3249137369036781\n",
      "('Measure', 'Port Code', 'longitude', 'Month')\n",
      "train_score : 0.521138858758811 test_score = 0.5289998998781471\n",
      "('Measure', 'Port Code', 'Border', 'Year')\n",
      "train_score : 0.5197525891789293 test_score = 0.5275524960520017\n",
      "('Measure', 'Port Code', 'Border', 'Month')\n",
      "train_score : 0.32017840338148007 test_score = 0.32292689161051036\n",
      "('Measure', 'Port Code', 'Year', 'Month')\n",
      "train_score : 0.6168779602246999 test_score = 0.6183980235416813\n",
      "('Measure', 'State', 'latitude', 'longitude')\n",
      "train_score : 0.603747568386868 test_score = 0.604859339704451\n",
      "('Measure', 'State', 'latitude', 'Border')\n",
      "train_score : 0.6052209665833801 test_score = 0.6063482133690383\n",
      "('Measure', 'State', 'latitude', 'Year')\n",
      "train_score : 0.6038789441608987 test_score = 0.6048550087902207\n",
      "('Measure', 'State', 'latitude', 'Month')\n",
      "train_score : 0.6081265233633533 test_score = 0.6080438492240338\n",
      "('Measure', 'State', 'longitude', 'Border')\n",
      "train_score : 0.60941974511714 test_score = 0.609301167982615\n",
      "('Measure', 'State', 'longitude', 'Year')\n",
      "train_score : 0.6082480116669324 test_score = 0.6080528722197656\n",
      "('Measure', 'State', 'longitude', 'Month')\n",
      "train_score : 0.6038565649310192 test_score = 0.6043093840546896\n",
      "('Measure', 'State', 'Border', 'Year')\n",
      "train_score : 0.6026233717631595 test_score = 0.6029773207478784\n",
      "('Measure', 'State', 'Border', 'Month')\n",
      "train_score : 0.6039670426873668 test_score = 0.6042938803913362\n",
      "('Measure', 'State', 'Year', 'Month')\n",
      "train_score : 0.5422623837638938 test_score = 0.5528063133203338\n",
      "('Measure', 'latitude', 'longitude', 'Border')\n",
      "train_score : 0.543813483031724 test_score = 0.5542798573327005\n",
      "('Measure', 'latitude', 'longitude', 'Year')\n",
      "train_score : 0.5424264768005922 test_score = 0.5527384088647265\n",
      "('Measure', 'latitude', 'longitude', 'Month')\n",
      "train_score : 0.5437386401578124 test_score = 0.5541118765915197\n",
      "('Measure', 'latitude', 'Border', 'Year')\n",
      "train_score : 0.5423680721210336 test_score = 0.5525854964607417\n",
      "('Measure', 'latitude', 'Border', 'Month')\n",
      "train_score : 0.5436974841809821 test_score = 0.5540150481054107\n",
      "('Measure', 'latitude', 'Year', 'Month')\n",
      "train_score : 0.5295517416431098 test_score = 0.5379547647919063\n",
      "('Measure', 'longitude', 'Border', 'Year')\n",
      "train_score : 0.5282792732123212 test_score = 0.536563405455434\n",
      "('Measure', 'longitude', 'Border', 'Month')\n",
      "train_score : 0.31858827901937836 test_score = 0.3201575569145496\n",
      "('Measure', 'longitude', 'Year', 'Month')\n",
      "train_score : 0.5167231049864972 test_score = 0.5233989482593707\n",
      "('Measure', 'Border', 'Year', 'Month')\n",
      "train_score : 0.24079449647173112 test_score = 0.23764493501639428\n",
      "('Port Code', 'State', 'latitude', 'longitude')\n",
      "train_score : 0.23510863023677075 test_score = 0.23175097541228398\n",
      "('Port Code', 'State', 'latitude', 'Border')\n",
      "train_score : 0.2353657289004384 test_score = 0.2320774399267147\n",
      "('Port Code', 'State', 'latitude', 'Year')\n",
      "train_score : 0.23532219466235457 test_score = 0.23145362947412465\n",
      "('Port Code', 'State', 'latitude', 'Month')\n",
      "train_score : 0.23343990265370396 test_score = 0.22833111899448577\n",
      "('Port Code', 'State', 'longitude', 'Border')\n",
      "train_score : 0.23361217169761084 test_score = 0.22854022697139686\n",
      "('Port Code', 'State', 'longitude', 'Year')\n",
      "train_score : 0.23364741450575954 test_score = 0.2280523408273134\n",
      "('Port Code', 'State', 'longitude', 'Month')\n",
      "train_score : 0.23251847018372584 test_score = 0.22785496745205527\n",
      "('Port Code', 'State', 'Border', 'Year')\n",
      "train_score : 0.23254139359726167 test_score = 0.22734665409452726\n",
      "('Port Code', 'State', 'Border', 'Month')\n",
      "train_score : 0.23272123849070694 test_score = 0.22756808405614304\n",
      "('Port Code', 'State', 'Year', 'Month')\n",
      "train_score : 0.19560312127735768 test_score = 0.20279047161385533\n",
      "('Port Code', 'latitude', 'longitude', 'Border')\n",
      "train_score : 0.19572877676560407 test_score = 0.202979631006436\n",
      "('Port Code', 'latitude', 'longitude', 'Year')\n",
      "train_score : 0.19574263029776007 test_score = 0.20234163156521798\n",
      "('Port Code', 'latitude', 'longitude', 'Month')\n",
      "train_score : 0.19555378981163207 test_score = 0.20286195900531476\n",
      "('Port Code', 'latitude', 'Border', 'Year')\n",
      "train_score : 0.19556012675154688 test_score = 0.2022200222897266\n",
      "('Port Code', 'latitude', 'Border', 'Month')\n",
      "train_score : 0.19577142428984362 test_score = 0.20243580788965707\n",
      "('Port Code', 'latitude', 'Year', 'Month')\n",
      "train_score : 0.18591537992217622 test_score = 0.192276728581103\n",
      "('Port Code', 'longitude', 'Border', 'Year')\n",
      "train_score : 0.18597192102317806 test_score = 0.19169562751989289\n",
      "('Port Code', 'longitude', 'Border', 'Month')\n",
      "train_score : 0.0018830125363662462 test_score = 0.0007150368905118887\n",
      "('Port Code', 'longitude', 'Year', 'Month')\n",
      "train_score : 0.17282095488604488 test_score = 0.17848731560926523\n",
      "('Port Code', 'Border', 'Year', 'Month')\n",
      "train_score : 0.23736063073172553 test_score = 0.23477944100507162\n",
      "('State', 'latitude', 'longitude', 'Border')\n",
      "train_score : 0.2375832753246503 test_score = 0.23508175747365634\n",
      "('State', 'latitude', 'longitude', 'Year')\n",
      "train_score : 0.2375623961104979 test_score = 0.2344518561255532\n",
      "('State', 'latitude', 'longitude', 'Month')\n",
      "train_score : 0.22997170339030062 test_score = 0.2276874253761203\n",
      "('State', 'latitude', 'Border', 'Year')\n",
      "train_score : 0.2299908612674807 test_score = 0.22709020922397713\n",
      "('State', 'latitude', 'Border', 'Month')\n",
      "train_score : 0.23017802646312627 test_score = 0.22735508055887677\n",
      "('State', 'latitude', 'Year', 'Month')\n",
      "train_score : 0.2298655246500937 test_score = 0.22548141408146116\n",
      "('State', 'longitude', 'Border', 'Year')\n",
      "train_score : 0.22994167598102566 test_score = 0.22500544724182225\n",
      "('State', 'longitude', 'Border', 'Month')\n",
      "train_score : 0.23006563959956872 test_score = 0.22517438921323196\n",
      "('State', 'longitude', 'Year', 'Month')\n",
      "train_score : 0.22796654054369359 test_score = 0.22387626317709883\n",
      "('State', 'Border', 'Year', 'Month')\n",
      "train_score : 0.19345031854774275 test_score = 0.20165728501366312\n",
      "('latitude', 'longitude', 'Border', 'Year')\n",
      "train_score : 0.19345405043214348 test_score = 0.20100910909550984\n",
      "('latitude', 'longitude', 'Border', 'Month')\n",
      "train_score : 0.19363834016094705 test_score = 0.20119875532583142\n",
      "('latitude', 'longitude', 'Year', 'Month')\n",
      "train_score : 0.1929447724189075 test_score = 0.20085490115476812\n",
      "('latitude', 'Border', 'Year', 'Month')\n",
      "train_score : 0.17992709017203434 test_score = 0.187291677180641\n",
      "('longitude', 'Border', 'Year', 'Month')\n",
      "train_score : 0.621456494315969 test_score = 0.6222877222800932\n",
      "('Measure', 'Port Code', 'State', 'latitude', 'longitude')\n",
      "train_score : 0.6112646353075575 test_score = 0.611136895335901\n",
      "('Measure', 'Port Code', 'State', 'latitude', 'Border')\n"
     ]
    },
    {
     "name": "stdout",
     "output_type": "stream",
     "text": [
      "train_score : 0.6129299840438396 test_score = 0.6127771492876681\n",
      "('Measure', 'Port Code', 'State', 'latitude', 'Year')\n",
      "train_score : 0.6113934569223034 test_score = 0.6111588803909065\n",
      "('Measure', 'Port Code', 'State', 'latitude', 'Month')\n",
      "train_score : 0.6130405539566293 test_score = 0.612120890633139\n",
      "('Measure', 'Port Code', 'State', 'longitude', 'Border')\n",
      "train_score : 0.6144754223662299 test_score = 0.6134842573120788\n",
      "('Measure', 'Port Code', 'State', 'longitude', 'Year')\n",
      "train_score : 0.6131615296755069 test_score = 0.6121511651769747\n",
      "('Measure', 'Port Code', 'State', 'longitude', 'Month')\n",
      "train_score : 0.6109473913139553 test_score = 0.6100521229498761\n",
      "('Measure', 'Port Code', 'State', 'Border', 'Year')\n",
      "train_score : 0.6095581149112094 test_score = 0.6086357505737026\n",
      "('Measure', 'Port Code', 'State', 'Border', 'Month')\n",
      "train_score : 0.6110544034554514 test_score = 0.6100609369610758\n",
      "('Measure', 'Port Code', 'State', 'Year', 'Month')\n",
      "train_score : 0.5422658777016995 test_score = 0.5528314445524002\n",
      "('Measure', 'Port Code', 'latitude', 'longitude', 'Border')\n",
      "train_score : 0.5438221511100582 test_score = 0.554304057752444\n",
      "('Measure', 'Port Code', 'latitude', 'longitude', 'Year')\n",
      "train_score : 0.5424334644634923 test_score = 0.5527608940045847\n",
      "('Measure', 'Port Code', 'latitude', 'longitude', 'Month')\n",
      "train_score : 0.5437626785735796 test_score = 0.5541222408650548\n",
      "('Measure', 'Port Code', 'latitude', 'Border', 'Year')\n",
      "train_score : 0.5423893072917039 test_score = 0.5525928510758669\n",
      "('Measure', 'Port Code', 'latitude', 'Border', 'Month')\n",
      "train_score : 0.543803859809999 test_score = 0.554031562427115\n",
      "('Measure', 'Port Code', 'latitude', 'Year', 'Month')\n",
      "train_score : 0.5304750482337586 test_score = 0.5386622344698248\n",
      "('Measure', 'Port Code', 'longitude', 'Border', 'Year')\n",
      "train_score : 0.5292205129966785 test_score = 0.5372697912530746\n",
      "('Measure', 'Port Code', 'longitude', 'Border', 'Month')\n",
      "train_score : 0.3236506111830968 test_score = 0.32584105765917293\n",
      "('Measure', 'Port Code', 'longitude', 'Year', 'Month')\n",
      "train_score : 0.5212803751648136 test_score = 0.528851208973725\n",
      "('Measure', 'Port Code', 'Border', 'Year', 'Month')\n",
      "train_score : 0.6168779602247 test_score = 0.6183980235416813\n",
      "('Measure', 'State', 'latitude', 'longitude', 'Border')\n",
      "train_score : 0.6184553223189584 test_score = 0.6200040816176079\n",
      "('Measure', 'State', 'latitude', 'longitude', 'Year')\n",
      "train_score : 0.6169943722056792 test_score = 0.6183836605523261\n",
      "('Measure', 'State', 'latitude', 'longitude', 'Month')\n",
      "train_score : 0.6052209665833801 test_score = 0.6063482133690383\n",
      "('Measure', 'State', 'latitude', 'Border', 'Year')\n",
      "train_score : 0.6038789441608987 test_score = 0.6048550087902207\n",
      "('Measure', 'State', 'latitude', 'Border', 'Month')\n",
      "train_score : 0.6053314176706341 test_score = 0.6063233806929826\n",
      "('Measure', 'State', 'latitude', 'Year', 'Month')\n",
      "train_score : 0.6094197451171399 test_score = 0.6093011679826149\n",
      "('Measure', 'State', 'longitude', 'Border', 'Year')\n",
      "train_score : 0.6082480116669324 test_score = 0.6080528722197656\n",
      "('Measure', 'State', 'longitude', 'Border', 'Month')\n",
      "train_score : 0.6095223979572371 test_score = 0.6092912848937434\n",
      "('Measure', 'State', 'longitude', 'Year', 'Month')\n",
      "train_score : 0.6039670426873668 test_score = 0.6042938803913362\n",
      "('Measure', 'State', 'Border', 'Year', 'Month')\n",
      "train_score : 0.5438190454712932 test_score = 0.5542500252524498\n",
      "('Measure', 'latitude', 'longitude', 'Border', 'Year')\n",
      "train_score : 0.5424341472251437 test_score = 0.5527052924151017\n",
      "('Measure', 'latitude', 'longitude', 'Border', 'Month')\n",
      "train_score : 0.5439606567629558 test_score = 0.554163439154029\n",
      "('Measure', 'latitude', 'longitude', 'Year', 'Month')\n",
      "train_score : 0.5438861291981949 test_score = 0.5539956857248384\n",
      "('Measure', 'latitude', 'Border', 'Year', 'Month')\n",
      "train_score : 0.529697925770416 test_score = 0.5378296526073649\n",
      "('Measure', 'longitude', 'Border', 'Year', 'Month')\n",
      "train_score : 0.24079449647173112 test_score = 0.2376449350163944\n",
      "('Port Code', 'State', 'latitude', 'longitude', 'Border')\n",
      "train_score : 0.24106486138395264 test_score = 0.2379923890042147\n",
      "('Port Code', 'State', 'latitude', 'longitude', 'Year')\n",
      "train_score : 0.2409958710664013 test_score = 0.2373408450580254\n",
      "('Port Code', 'State', 'latitude', 'longitude', 'Month')\n",
      "train_score : 0.2353657289004385 test_score = 0.23207743992671528\n",
      "('Port Code', 'State', 'latitude', 'Border', 'Year')\n",
      "train_score : 0.2353221946623547 test_score = 0.23145362947412487\n",
      "('Port Code', 'State', 'latitude', 'Border', 'Month')\n",
      "train_score : 0.2355680314774039 test_score = 0.23177456980410382\n",
      "('Port Code', 'State', 'latitude', 'Year', 'Month')\n",
      "train_score : 0.23361217169761084 test_score = 0.22854022697139686\n",
      "('Port Code', 'State', 'longitude', 'Border', 'Year')\n",
      "train_score : 0.23364741450575932 test_score = 0.22805234082731374\n",
      "('Port Code', 'State', 'longitude', 'Border', 'Month')\n",
      "train_score : 0.23381062671139966 test_score = 0.22825710918571496\n",
      "('Port Code', 'State', 'longitude', 'Year', 'Month')\n",
      "train_score : 0.23272123849070694 test_score = 0.22756808405614315\n",
      "('Port Code', 'State', 'Border', 'Year', 'Month')\n",
      "train_score : 0.19582490172173161 test_score = 0.20301907988289936\n",
      "('Port Code', 'latitude', 'longitude', 'Border', 'Year')\n",
      "train_score : 0.19584265970592019 test_score = 0.20238591235616055\n",
      "('Port Code', 'latitude', 'longitude', 'Border', 'Month')\n",
      "train_score : 0.19595724757406352 test_score = 0.20257083549181887\n",
      "('Port Code', 'latitude', 'longitude', 'Year', 'Month')\n",
      "train_score : 0.1957811762904409 test_score = 0.20244937521676865\n",
      "('Port Code', 'latitude', 'Border', 'Year', 'Month')\n",
      "train_score : 0.18614370525924195 test_score = 0.19187646103040645\n",
      "('Port Code', 'longitude', 'Border', 'Year', 'Month')\n",
      "train_score : 0.2375832753246503 test_score = 0.23508175747365612\n",
      "('State', 'latitude', 'longitude', 'Border', 'Year')\n",
      "train_score : 0.2375623961104979 test_score = 0.2344518561255532\n",
      "('State', 'latitude', 'longitude', 'Border', 'Month')\n",
      "train_score : 0.23777484662270332 test_score = 0.23474973190781734\n",
      "('State', 'latitude', 'longitude', 'Year', 'Month')\n",
      "train_score : 0.23017802646312627 test_score = 0.22735508055887665\n",
      "('State', 'latitude', 'Border', 'Year', 'Month')\n",
      "train_score : 0.23006563959956872 test_score = 0.22517438921323232\n",
      "('State', 'longitude', 'Border', 'Year', 'Month')\n",
      "train_score : 0.19367642281575137 test_score = 0.20122553277776892\n",
      "('latitude', 'longitude', 'Border', 'Year', 'Month')\n",
      "train_score : 0.621456494315969 test_score = 0.6222877222800931\n",
      "('Measure', 'Port Code', 'State', 'latitude', 'longitude', 'Border')\n",
      "train_score : 0.6231787089821649 test_score = 0.6240081257053469\n",
      "('Measure', 'Port Code', 'State', 'latitude', 'longitude', 'Year')\n",
      "train_score : 0.621572517125226 test_score = 0.6222938735888603\n",
      "('Measure', 'Port Code', 'State', 'latitude', 'longitude', 'Month')\n",
      "train_score : 0.6129299840438396 test_score = 0.6127771492876684\n",
      "('Measure', 'Port Code', 'State', 'latitude', 'Border', 'Year')\n",
      "train_score : 0.6113934569223034 test_score = 0.6111588803909067\n",
      "('Measure', 'Port Code', 'State', 'latitude', 'Border', 'Month')\n",
      "train_score : 0.6130368037758834 test_score = 0.6127759348683274\n",
      "('Measure', 'Port Code', 'State', 'latitude', 'Year', 'Month')\n",
      "train_score : 0.6144754223662299 test_score = 0.6134842573120788\n",
      "('Measure', 'Port Code', 'State', 'longitude', 'Border', 'Year')\n",
      "train_score : 0.6131615296755069 test_score = 0.6121511651769749\n",
      "('Measure', 'Port Code', 'State', 'longitude', 'Border', 'Month')\n",
      "train_score : 0.6145766285221452 test_score = 0.6134934271123285\n",
      "('Measure', 'Port Code', 'State', 'longitude', 'Year', 'Month')\n",
      "train_score : 0.6110544034554514 test_score = 0.6100609369610758\n",
      "('Measure', 'Port Code', 'State', 'Border', 'Year', 'Month')\n",
      "train_score : 0.5438244089026321 test_score = 0.5542799402016885\n",
      "('Measure', 'Port Code', 'latitude', 'longitude', 'Border', 'Year')\n",
      "train_score : 0.5424376129015962 test_score = 0.5527294812528316\n",
      "('Measure', 'Port Code', 'latitude', 'longitude', 'Border', 'Month')\n",
      "train_score : 0.5439692665893258 test_score = 0.5541864329499396\n",
      "('Measure', 'Port Code', 'latitude', 'longitude', 'Year', 'Month')\n",
      "train_score : 0.5439101128246442 test_score = 0.554007460164083\n",
      "('Measure', 'Port Code', 'latitude', 'Border', 'Year', 'Month')\n"
     ]
    },
    {
     "name": "stdout",
     "output_type": "stream",
     "text": [
      "train_score : 0.5306219089817064 test_score = 0.538549913343746\n",
      "('Measure', 'Port Code', 'longitude', 'Border', 'Year', 'Month')\n",
      "train_score : 0.6184553223189584 test_score = 0.6200040816176078\n",
      "('Measure', 'State', 'latitude', 'longitude', 'Border', 'Year')\n",
      "train_score : 0.6169943722056792 test_score = 0.6183836605523259\n",
      "('Measure', 'State', 'latitude', 'longitude', 'Border', 'Month')\n",
      "train_score : 0.6185513810093297 test_score = 0.6199707758013993\n",
      "('Measure', 'State', 'latitude', 'longitude', 'Year', 'Month')\n",
      "train_score : 0.6053314176706341 test_score = 0.6063233806929826\n",
      "('Measure', 'State', 'latitude', 'Border', 'Year', 'Month')\n",
      "train_score : 0.6095223979572371 test_score = 0.6092912848937434\n",
      "('Measure', 'State', 'longitude', 'Border', 'Year', 'Month')\n",
      "train_score : 0.5439662187848433 test_score = 0.554133649849563\n",
      "('Measure', 'latitude', 'longitude', 'Border', 'Year', 'Month')\n",
      "train_score : 0.24106486138395264 test_score = 0.2379923890042147\n",
      "('Port Code', 'State', 'latitude', 'longitude', 'Border', 'Year')\n",
      "train_score : 0.2409958710664013 test_score = 0.23734084505802489\n",
      "('Port Code', 'State', 'latitude', 'longitude', 'Border', 'Month')\n",
      "train_score : 0.2412550096816608 test_score = 0.23768338349070184\n",
      "('Port Code', 'State', 'latitude', 'longitude', 'Year', 'Month')\n",
      "train_score : 0.23556803147740377 test_score = 0.2317745698041036\n",
      "('Port Code', 'State', 'latitude', 'Border', 'Year', 'Month')\n",
      "train_score : 0.23381062671139966 test_score = 0.2282571091857154\n",
      "('Port Code', 'State', 'longitude', 'Border', 'Year', 'Month')\n",
      "train_score : 0.19605340970512308 test_score = 0.20261217110154195\n",
      "('Port Code', 'latitude', 'longitude', 'Border', 'Year', 'Month')\n",
      "train_score : 0.23777484662270332 test_score = 0.23474973190781742\n",
      "('State', 'latitude', 'longitude', 'Border', 'Year', 'Month')\n",
      "train_score : 0.6231787089821649 test_score = 0.6240081257053474\n",
      "('Measure', 'Port Code', 'State', 'latitude', 'longitude', 'Border', 'Year')\n",
      "train_score : 0.6215725171252261 test_score = 0.6222938735888607\n",
      "('Measure', 'Port Code', 'State', 'latitude', 'longitude', 'Border', 'Month')\n",
      "train_score : 0.6232735320921903 test_score = 0.6239931424793632\n",
      "('Measure', 'Port Code', 'State', 'latitude', 'longitude', 'Year', 'Month')\n",
      "train_score : 0.6130368037758834 test_score = 0.6127759348683275\n",
      "('Measure', 'Port Code', 'State', 'latitude', 'Border', 'Year', 'Month')\n",
      "train_score : 0.6145766285221452 test_score = 0.6134934271123287\n",
      "('Measure', 'Port Code', 'State', 'longitude', 'Border', 'Year', 'Month')\n",
      "train_score : 0.5439715340656733 test_score = 0.5541624845287147\n",
      "('Measure', 'Port Code', 'latitude', 'longitude', 'Border', 'Year', 'Month')\n",
      "train_score : 0.6185513810093297 test_score = 0.6199707758013993\n",
      "('Measure', 'State', 'latitude', 'longitude', 'Border', 'Year', 'Month')\n",
      "train_score : 0.24125500968166066 test_score = 0.23768338349070173\n",
      "('Port Code', 'State', 'latitude', 'longitude', 'Border', 'Year', 'Month')\n",
      "train_score : 0.6232735320921904 test_score = 0.6239931424793634\n",
      "('Measure', 'Port Code', 'State', 'latitude', 'longitude', 'Border', 'Year', 'Month')\n"
     ]
    },
    {
     "data": {
      "text/plain": [
       "0.6240081257053474"
      ]
     },
     "execution_count": 259,
     "metadata": {},
     "output_type": "execute_result"
    }
   ],
   "source": [
    "computelinReg(f)"
   ]
  },
  {
   "cell_type": "markdown",
   "metadata": {},
   "source": [
    "# Decision Tree"
   ]
  },
  {
   "cell_type": "code",
   "execution_count": 260,
   "metadata": {},
   "outputs": [],
   "source": [
    "X = nozero[[\"Year\",\"Month\", \"Port Code\"]]\n",
    "y = nozero[\"y\"]"
   ]
  },
  {
   "cell_type": "code",
   "execution_count": 261,
   "metadata": {},
   "outputs": [],
   "source": [
    "# one-hot encoding for Border\n",
    "one_hot = OneHotEncoder(categories=\"auto\")\n",
    "cat_to_onehot = one_hot.fit_transform(nozero[[\"Border\"]]).toarray()\n",
    "cat_to_onehot = pd.DataFrame(cat_to_onehot)\n",
    "cat_to_onehot.shape\n",
    "cat_to_onehot = cat_to_onehot.rename(columns={0: \"Canada Border\", 1: \"Mexico Border\"})"
   ]
  },
  {
   "cell_type": "code",
   "execution_count": 262,
   "metadata": {},
   "outputs": [],
   "source": [
    "# one-hot encoding for Measure\n",
    "one_hot1 = OneHotEncoder(categories=\"auto\")\n",
    "cat_to_onehot1 = one_hot1.fit_transform(nozero[[\"Measure\"]]).toarray()\n",
    "cat_to_onehot1 = pd.DataFrame(cat_to_onehot1)\n",
    "cat_to_onehot1.shape\n",
    "cat_to_onehot1 = cat_to_onehot1.rename(columns={0: \"Bus Passengers\", 1: \"Pedestrians\",2: \"Personal Vehicle Passengers\", 3: \"Train Passengers\"})"
   ]
  },
  {
   "cell_type": "code",
   "execution_count": 263,
   "metadata": {},
   "outputs": [],
   "source": [
    "# one-hot encoding for State\n",
    "one_hot2 = OneHotEncoder(categories=\"auto\")\n",
    "cat_to_onehot2 = one_hot2.fit_transform(nozero[[\"State\"]]).toarray()\n",
    "cat_to_onehot2 = pd.DataFrame(cat_to_onehot2)\n",
    "cat_to_onehot2.shape\n",
    "cat_to_onehot2 = cat_to_onehot2.rename(columns={5: \"Michigan\", 9: \"New York\"})"
   ]
  },
  {
   "cell_type": "code",
   "execution_count": 264,
   "metadata": {},
   "outputs": [],
   "source": [
    "OH_list = [X.reset_index(drop=True),cat_to_onehot.reset_index(drop=True),cat_to_onehot1.reset_index(drop=True), cat_to_onehot2.reset_index(drop=True)]"
   ]
  },
  {
   "cell_type": "code",
   "execution_count": 265,
   "metadata": {},
   "outputs": [
    {
     "data": {
      "text/plain": [
       "(75624, 23)"
      ]
     },
     "execution_count": 265,
     "metadata": {},
     "output_type": "execute_result"
    }
   ],
   "source": [
    "X = pd.concat((OH_list), axis=1, join='inner')\n",
    "\n",
    "X.shape"
   ]
  },
  {
   "cell_type": "code",
   "execution_count": 266,
   "metadata": {},
   "outputs": [],
   "source": [
    "from sklearn.model_selection import train_test_split\n",
    "X_train, X_test, y_train, y_test = train_test_split(X, y, test_size=0.2, random_state=72)"
   ]
  },
  {
   "cell_type": "code",
   "execution_count": 267,
   "metadata": {},
   "outputs": [],
   "source": [
    "clf = DecisionTreeClassifier(criterion='entropy')"
   ]
  },
  {
   "cell_type": "code",
   "execution_count": 268,
   "metadata": {},
   "outputs": [
    {
     "data": {
      "text/plain": [
       "DecisionTreeClassifier(class_weight=None, criterion='entropy', max_depth=None,\n",
       "                       max_features=None, max_leaf_nodes=None,\n",
       "                       min_impurity_decrease=0.0, min_impurity_split=None,\n",
       "                       min_samples_leaf=1, min_samples_split=2,\n",
       "                       min_weight_fraction_leaf=0.0, presort=False,\n",
       "                       random_state=None, splitter='best')"
      ]
     },
     "execution_count": 268,
     "metadata": {},
     "output_type": "execute_result"
    }
   ],
   "source": [
    "clf.fit(X_train, y_train)"
   ]
  },
  {
   "cell_type": "code",
   "execution_count": 269,
   "metadata": {},
   "outputs": [
    {
     "data": {
      "text/plain": [
       "0.8427768595041323"
      ]
     },
     "execution_count": 269,
     "metadata": {},
     "output_type": "execute_result"
    }
   ],
   "source": [
    "# test accuracy\n",
    "clf.score(X_test,y_test)"
   ]
  },
  {
   "cell_type": "code",
   "execution_count": 270,
   "metadata": {},
   "outputs": [
    {
     "data": {
      "text/plain": [
       "31"
      ]
     },
     "execution_count": 270,
     "metadata": {},
     "output_type": "execute_result"
    }
   ],
   "source": [
    "# depth of the decision tree\n",
    "clf.get_depth()"
   ]
  },
  {
   "cell_type": "code",
   "execution_count": 271,
   "metadata": {},
   "outputs": [],
   "source": [
    "scores = []\n",
    "for d in range(1, 21):\n",
    "    clf = DecisionTreeClassifier(criterion='entropy', max_depth=d)\n",
    "    clf.fit(X_train, y_train)\n",
    "    scores.append(clf.score(X_test, y_test))"
   ]
  },
  {
   "cell_type": "code",
   "execution_count": 272,
   "metadata": {},
   "outputs": [
    {
     "data": {
      "text/plain": [
       "Text(0.5, 0, 'depth')"
      ]
     },
     "execution_count": 272,
     "metadata": {},
     "output_type": "execute_result"
    },
    {
     "data": {
      "image/png": "[encoded data removed]",
      "text/plain": [
       "<Figure size 432x288 with 1 Axes>"
      ]
     },
     "metadata": {},
     "output_type": "display_data"
    }
   ],
   "source": [
    "plt.plot(scores)\n",
    "plt.ylabel('accuracy', fontsize=15)\n",
    "plt.xlabel('depth', fontsize=15)"
   ]
  },
  {
   "cell_type": "code",
   "execution_count": 273,
   "metadata": {},
   "outputs": [
    {
     "data": {
      "text/plain": [
       "17"
      ]
     },
     "execution_count": 273,
     "metadata": {},
     "output_type": "execute_result"
    }
   ],
   "source": [
    "# best depth\n",
    "np.argmax(scores)"
   ]
  },
  {
   "cell_type": "code",
   "execution_count": 274,
   "metadata": {},
   "outputs": [
    {
     "data": {
      "text/plain": [
       "[('Port Code', 0.3412278061938925),\n",
       " ('Personal Vehicle Passengers', 0.31489357972080084),\n",
       " ('Canada Border', 0.15645587215588505),\n",
       " ('Pedestrians', 0.11001497143236279),\n",
       " ('New York', 0.04038193512339266),\n",
       " ('Train Passengers', 0.02520478588691937),\n",
       " (6, 0.0118210494867468),\n",
       " ('Year', 0.0),\n",
       " ('Month', 0.0),\n",
       " ('Mexico Border', 0.0),\n",
       " ('Bus Passengers', 0.0),\n",
       " (0, 0.0),\n",
       " (1, 0.0),\n",
       " (2, 0.0),\n",
       " (3, 0.0),\n",
       " (4, 0.0),\n",
       " ('Michigan', 0.0),\n",
       " (7, 0.0),\n",
       " (8, 0.0),\n",
       " (10, 0.0),\n",
       " (11, 0.0),\n",
       " (12, 0.0),\n",
       " (13, 0.0)]"
      ]
     },
     "execution_count": 274,
     "metadata": {},
     "output_type": "execute_result"
    }
   ],
   "source": [
    "# feature importances for best classifier\n",
    "clf = DecisionTreeClassifier(criterion='entropy', max_depth=4)\n",
    "clf.fit(X_train, y_train)\n",
    "clf.feature_importances_\n",
    "sorted(zip(X_train.columns, clf.feature_importances_), key=lambda x: x[1], reverse=True)"
   ]
  },
  {
   "cell_type": "code",
   "execution_count": 275,
   "metadata": {},
   "outputs": [
    {
     "data": {
      "image/svg+xml": [
       "<svg height=\"528pt\" viewBox=\"0.00 0.00 4309.54 528.00\" width=\"4310pt\" xmlns=\"http://www.w3.org/2000/svg\" xmlns:xlink=\"http://www.w3.org/1999/xlink\">\n",
       "<g class=\"graph\" id=\"graph0\" transform=\"scale(1 1) rotate(0) translate(4 524)\">\n",
       "<title>Tree</title>\n",
       "<polygon fill=\"white\" points=\"-4,4 -4,-524 4305.54,-524 4305.54,4 -4,4\" stroke=\"transparent\"/>\n",
       "<!-- 0 -->\n",
       "<g class=\"node\" id=\"node1\">\n",
       "<title>0</title>\n",
       "<polygon fill=\"#ffffff\" points=\"2387.31,-520 2044.23,-520 2044.23,-442 2387.31,-442 2387.31,-520\" stroke=\"black\"/>\n",
       "<text font-family=\"Times,serif\" font-size=\"14.00\" text-anchor=\"middle\" x=\"2215.77\" y=\"-504.8\">Personal Vehicle Passengers &lt;= 0.5</text>\n",
       "<text font-family=\"Times,serif\" font-size=\"14.00\" text-anchor=\"middle\" x=\"2215.77\" y=\"-490.8\">entropy = 3.0</text>\n",
       "<text font-family=\"Times,serif\" font-size=\"14.00\" text-anchor=\"middle\" x=\"2215.77\" y=\"-476.8\">samples = 60499</text>\n",
       "<text font-family=\"Times,serif\" font-size=\"14.00\" text-anchor=\"middle\" x=\"2215.77\" y=\"-462.8\">value = [7738, 7472, 7503, 7559, 7555, 7631, 7496, 7545]</text>\n",
       "<text font-family=\"Times,serif\" font-size=\"14.00\" text-anchor=\"middle\" x=\"2215.77\" y=\"-448.8\">class = 0</text>\n",
       "</g>\n",
       "<!-- 1 -->\n",
       "<g class=\"node\" id=\"node2\">\n",
       "<title>1</title>\n",
       "<polygon fill=\"#fefcfb\" points=\"1861.31,-406 1518.23,-406 1518.23,-328 1861.31,-328 1861.31,-406\" stroke=\"black\"/>\n",
       "<text font-family=\"Times,serif\" font-size=\"14.00\" text-anchor=\"middle\" x=\"1689.77\" y=\"-390.8\">Canada Border &lt;= 0.5</text>\n",
       "<text font-family=\"Times,serif\" font-size=\"14.00\" text-anchor=\"middle\" x=\"1689.77\" y=\"-376.8\">entropy = 2.847</text>\n",
       "<text font-family=\"Times,serif\" font-size=\"14.00\" text-anchor=\"middle\" x=\"1689.77\" y=\"-362.8\">samples = 36644</text>\n",
       "<text font-family=\"Times,serif\" font-size=\"14.00\" text-anchor=\"middle\" x=\"1689.77\" y=\"-348.8\">value = [7723, 7099, 6464, 4385, 3715, 3030, 2235, 1993]</text>\n",
       "<text font-family=\"Times,serif\" font-size=\"14.00\" text-anchor=\"middle\" x=\"1689.77\" y=\"-334.8\">class = 0</text>\n",
       "</g>\n",
       "<!-- 0&#45;&gt;1 -->\n",
       "<g class=\"edge\" id=\"edge1\">\n",
       "<title>0-&gt;1</title>\n",
       "<path d=\"M2043.9,-443.4C1988.77,-431.67 1927.54,-418.63 1871.71,-406.74\" fill=\"none\" stroke=\"black\"/>\n",
       "<polygon fill=\"black\" points=\"1872.22,-403.27 1861.71,-404.61 1870.77,-410.12 1872.22,-403.27\" stroke=\"black\"/>\n",
       "<text font-family=\"Times,serif\" font-size=\"14.00\" text-anchor=\"middle\" x=\"1875.32\" y=\"-421.38\">True</text>\n",
       "</g>\n",
       "<!-- 16 -->\n",
       "<g class=\"node\" id=\"node17\">\n",
       "<title>16</title>\n",
       "<polygon fill=\"#fffcfd\" points=\"2908.81,-406 2586.73,-406 2586.73,-328 2908.81,-328 2908.81,-406\" stroke=\"black\"/>\n",
       "<text font-family=\"Times,serif\" font-size=\"14.00\" text-anchor=\"middle\" x=\"2747.77\" y=\"-390.8\">Port Code &lt;= 3009.5</text>\n",
       "<text font-family=\"Times,serif\" font-size=\"14.00\" text-anchor=\"middle\" x=\"2747.77\" y=\"-376.8\">entropy = 2.537</text>\n",
       "<text font-family=\"Times,serif\" font-size=\"14.00\" text-anchor=\"middle\" x=\"2747.77\" y=\"-362.8\">samples = 23855</text>\n",
       "<text font-family=\"Times,serif\" font-size=\"14.00\" text-anchor=\"middle\" x=\"2747.77\" y=\"-348.8\">value = [15, 373, 1039, 3174, 3840, 4601, 5261, 5552]</text>\n",
       "<text font-family=\"Times,serif\" font-size=\"14.00\" text-anchor=\"middle\" x=\"2747.77\" y=\"-334.8\">class = 7</text>\n",
       "</g>\n",
       "<!-- 0&#45;&gt;16 -->\n",
       "<g class=\"edge\" id=\"edge16\">\n",
       "<title>0-&gt;16</title>\n",
       "<path d=\"M2387.39,-443.87C2447.94,-431.12 2515.99,-416.8 2576.51,-404.05\" fill=\"none\" stroke=\"black\"/>\n",
       "<polygon fill=\"black\" points=\"2577.48,-407.43 2586.54,-401.94 2576.04,-400.58 2577.48,-407.43\" stroke=\"black\"/>\n",
       "<text font-family=\"Times,serif\" font-size=\"14.00\" text-anchor=\"middle\" x=\"2572.89\" y=\"-418.68\">False</text>\n",
       "</g>\n",
       "<!-- 2 -->\n",
       "<g class=\"node\" id=\"node3\">\n",
       "<title>2</title>\n",
       "<polygon fill=\"#fffdfd\" points=\"997.31,-292 668.23,-292 668.23,-214 997.31,-214 997.31,-292\" stroke=\"black\"/>\n",
       "<text font-family=\"Times,serif\" font-size=\"14.00\" text-anchor=\"middle\" x=\"832.77\" y=\"-276.8\">Pedestrians &lt;= 0.5</text>\n",
       "<text font-family=\"Times,serif\" font-size=\"14.00\" text-anchor=\"middle\" x=\"832.77\" y=\"-262.8\">entropy = 2.921</text>\n",
       "<text font-family=\"Times,serif\" font-size=\"14.00\" text-anchor=\"middle\" x=\"832.77\" y=\"-248.8\">samples = 10983</text>\n",
       "<text font-family=\"Times,serif\" font-size=\"14.00\" text-anchor=\"middle\" x=\"832.77\" y=\"-234.8\">value = [640, 800, 1390, 1326, 1327, 1840, 1713, 1947]</text>\n",
       "<text font-family=\"Times,serif\" font-size=\"14.00\" text-anchor=\"middle\" x=\"832.77\" y=\"-220.8\">class = 7</text>\n",
       "</g>\n",
       "<!-- 1&#45;&gt;2 -->\n",
       "<g class=\"edge\" id=\"edge2\">\n",
       "<title>1-&gt;2</title>\n",
       "<path d=\"M1518.14,-343.57C1369.98,-324.21 1156.86,-296.36 1007.73,-276.87\" fill=\"none\" stroke=\"black\"/>\n",
       "<polygon fill=\"black\" points=\"1007.92,-273.36 997.55,-275.54 1007.02,-280.3 1007.92,-273.36\" stroke=\"black\"/>\n",
       "</g>\n",
       "<!-- 9 -->\n",
       "<g class=\"node\" id=\"node10\">\n",
       "<title>9</title>\n",
       "<polygon fill=\"#fefaf7\" points=\"1850.79,-292 1528.74,-292 1528.74,-214 1850.79,-214 1850.79,-292\" stroke=\"black\"/>\n",
       "<text font-family=\"Times,serif\" font-size=\"14.00\" text-anchor=\"middle\" x=\"1689.77\" y=\"-276.8\">Pedestrians &lt;= 0.5</text>\n",
       "<text font-family=\"Times,serif\" font-size=\"14.00\" text-anchor=\"middle\" x=\"1689.77\" y=\"-262.8\">entropy = 2.493</text>\n",
       "<text font-family=\"Times,serif\" font-size=\"14.00\" text-anchor=\"middle\" x=\"1689.77\" y=\"-248.8\">samples = 25661</text>\n",
       "<text font-family=\"Times,serif\" font-size=\"14.00\" text-anchor=\"middle\" x=\"1689.77\" y=\"-234.8\">value = [7083, 6299, 5074, 3059, 2388, 1190, 522, 46]</text>\n",
       "<text font-family=\"Times,serif\" font-size=\"14.00\" text-anchor=\"middle\" x=\"1689.77\" y=\"-220.8\">class = 0</text>\n",
       "</g>\n",
       "<!-- 1&#45;&gt;9 -->\n",
       "<g class=\"edge\" id=\"edge9\">\n",
       "<title>1-&gt;9</title>\n",
       "<path d=\"M1689.77,-327.77C1689.77,-319.57 1689.77,-310.8 1689.77,-302.28\" fill=\"none\" stroke=\"black\"/>\n",
       "<polygon fill=\"black\" points=\"1693.27,-302.06 1689.77,-292.06 1686.27,-302.06 1693.27,-302.06\" stroke=\"black\"/>\n",
       "</g>\n",
       "<!-- 3 -->\n",
       "<g class=\"node\" id=\"node4\">\n",
       "<title>3</title>\n",
       "<polygon fill=\"#f3fdf2\" points=\"543.81,-178 263.73,-178 263.73,-100 543.81,-100 543.81,-178\" stroke=\"black\"/>\n",
       "<text font-family=\"Times,serif\" font-size=\"14.00\" text-anchor=\"middle\" x=\"403.77\" y=\"-162.8\">Train Passengers &lt;= 0.5</text>\n",
       "<text font-family=\"Times,serif\" font-size=\"14.00\" text-anchor=\"middle\" x=\"403.77\" y=\"-148.8\">entropy = 2.747</text>\n",
       "<text font-family=\"Times,serif\" font-size=\"14.00\" text-anchor=\"middle\" x=\"403.77\" y=\"-134.8\">samples = 5369</text>\n",
       "<text font-family=\"Times,serif\" font-size=\"14.00\" text-anchor=\"middle\" x=\"403.77\" y=\"-120.8\">value = [606, 620, 1240, 960, 548, 838, 553, 4]</text>\n",
       "<text font-family=\"Times,serif\" font-size=\"14.00\" text-anchor=\"middle\" x=\"403.77\" y=\"-106.8\">class = 2</text>\n",
       "</g>\n",
       "<!-- 2&#45;&gt;3 -->\n",
       "<g class=\"edge\" id=\"edge3\">\n",
       "<title>2-&gt;3</title>\n",
       "<path d=\"M686.93,-213.93C644.02,-202.72 597.02,-190.45 553.85,-179.18\" fill=\"none\" stroke=\"black\"/>\n",
       "<polygon fill=\"black\" points=\"554.69,-175.78 544.13,-176.64 552.92,-182.56 554.69,-175.78\" stroke=\"black\"/>\n",
       "</g>\n",
       "<!-- 6 -->\n",
       "<g class=\"node\" id=\"node7\">\n",
       "<title>6</title>\n",
       "<polygon fill=\"#fadce6\" points=\"983.29,-178 682.24,-178 682.24,-100 983.29,-100 983.29,-178\" stroke=\"black\"/>\n",
       "<text font-family=\"Times,serif\" font-size=\"14.00\" text-anchor=\"middle\" x=\"832.77\" y=\"-162.8\">Port Code &lt;= 2603.5</text>\n",
       "<text font-family=\"Times,serif\" font-size=\"14.00\" text-anchor=\"middle\" x=\"832.77\" y=\"-148.8\">entropy = 2.439</text>\n",
       "<text font-family=\"Times,serif\" font-size=\"14.00\" text-anchor=\"middle\" x=\"832.77\" y=\"-134.8\">samples = 5614</text>\n",
       "<text font-family=\"Times,serif\" font-size=\"14.00\" text-anchor=\"middle\" x=\"832.77\" y=\"-120.8\">value = [34, 180, 150, 366, 779, 1002, 1160, 1943]</text>\n",
       "<text font-family=\"Times,serif\" font-size=\"14.00\" text-anchor=\"middle\" x=\"832.77\" y=\"-106.8\">class = 7</text>\n",
       "</g>\n",
       "<!-- 2&#45;&gt;6 -->\n",
       "<g class=\"edge\" id=\"edge6\">\n",
       "<title>2-&gt;6</title>\n",
       "<path d=\"M832.77,-213.77C832.77,-205.57 832.77,-196.8 832.77,-188.28\" fill=\"none\" stroke=\"black\"/>\n",
       "<polygon fill=\"black\" points=\"836.27,-188.06 832.77,-178.06 829.27,-188.06 836.27,-188.06\" stroke=\"black\"/>\n",
       "</g>\n",
       "<!-- 4 -->\n",
       "<g class=\"node\" id=\"node5\">\n",
       "<title>4</title>\n",
       "<polygon fill=\"#fcfffe\" points=\"273.31,-64 0.23,-64 0.23,0 273.31,0 273.31,-64\" stroke=\"black\"/>\n",
       "<text font-family=\"Times,serif\" font-size=\"14.00\" text-anchor=\"middle\" x=\"136.77\" y=\"-48.8\">entropy = 2.686</text>\n",
       "<text font-family=\"Times,serif\" font-size=\"14.00\" text-anchor=\"middle\" x=\"136.77\" y=\"-34.8\">samples = 4306</text>\n",
       "<text font-family=\"Times,serif\" font-size=\"14.00\" text-anchor=\"middle\" x=\"136.77\" y=\"-20.8\">value = [210, 375, 862, 916, 548, 838, 553, 4]</text>\n",
       "<text font-family=\"Times,serif\" font-size=\"14.00\" text-anchor=\"middle\" x=\"136.77\" y=\"-6.8\">class = 3</text>\n",
       "</g>\n",
       "<!-- 3&#45;&gt;4 -->\n",
       "<g class=\"edge\" id=\"edge4\">\n",
       "<title>3-&gt;4</title>\n",
       "<path d=\"M307,-99.94C280.28,-89.44 251.44,-78.09 225.22,-67.78\" fill=\"none\" stroke=\"black\"/>\n",
       "<polygon fill=\"black\" points=\"226.27,-64.44 215.69,-64.04 223.71,-70.95 226.27,-64.44\" stroke=\"black\"/>\n",
       "</g>\n",
       "<!-- 5 -->\n",
       "<g class=\"node\" id=\"node6\">\n",
       "<title>5</title>\n",
       "<polygon fill=\"#fefcfa\" points=\"515.81,-64 291.73,-64 291.73,0 515.81,0 515.81,-64\" stroke=\"black\"/>\n",
       "<text font-family=\"Times,serif\" font-size=\"14.00\" text-anchor=\"middle\" x=\"403.77\" y=\"-48.8\">entropy = 1.739</text>\n",
       "<text font-family=\"Times,serif\" font-size=\"14.00\" text-anchor=\"middle\" x=\"403.77\" y=\"-34.8\">samples = 1063</text>\n",
       "<text font-family=\"Times,serif\" font-size=\"14.00\" text-anchor=\"middle\" x=\"403.77\" y=\"-20.8\">value = [396, 245, 378, 44, 0, 0, 0, 0]</text>\n",
       "<text font-family=\"Times,serif\" font-size=\"14.00\" text-anchor=\"middle\" x=\"403.77\" y=\"-6.8\">class = 0</text>\n",
       "</g>\n",
       "<!-- 3&#45;&gt;5 -->\n",
       "<g class=\"edge\" id=\"edge5\">\n",
       "<title>3-&gt;5</title>\n",
       "<path d=\"M403.77,-99.8C403.77,-91.46 403.77,-82.6 403.77,-74.15\" fill=\"none\" stroke=\"black\"/>\n",
       "<polygon fill=\"black\" points=\"407.27,-74.12 403.77,-64.12 400.27,-74.12 407.27,-74.12\" stroke=\"black\"/>\n",
       "</g>\n",
       "<!-- 7 -->\n",
       "<g class=\"node\" id=\"node8\">\n",
       "<title>7</title>\n",
       "<polygon fill=\"#fcecf1\" points=\"821.29,-64 534.24,-64 534.24,0 821.29,0 821.29,-64\" stroke=\"black\"/>\n",
       "<text font-family=\"Times,serif\" font-size=\"14.00\" text-anchor=\"middle\" x=\"677.77\" y=\"-48.8\">entropy = 2.358</text>\n",
       "<text font-family=\"Times,serif\" font-size=\"14.00\" text-anchor=\"middle\" x=\"677.77\" y=\"-34.8\">samples = 4949</text>\n",
       "<text font-family=\"Times,serif\" font-size=\"14.00\" text-anchor=\"middle\" x=\"677.77\" y=\"-20.8\">value = [10, 41, 92, 366, 779, 1002, 1143, 1516]</text>\n",
       "<text font-family=\"Times,serif\" font-size=\"14.00\" text-anchor=\"middle\" x=\"677.77\" y=\"-6.8\">class = 7</text>\n",
       "</g>\n",
       "<!-- 6&#45;&gt;7 -->\n",
       "<g class=\"edge\" id=\"edge7\">\n",
       "<title>6-&gt;7</title>\n",
       "<path d=\"M776.37,-99.8C761.9,-89.99 746.37,-79.47 732.01,-69.74\" fill=\"none\" stroke=\"black\"/>\n",
       "<polygon fill=\"black\" points=\"733.95,-66.83 723.7,-64.12 730.02,-72.62 733.95,-66.83\" stroke=\"black\"/>\n",
       "</g>\n",
       "<!-- 8 -->\n",
       "<g class=\"node\" id=\"node9\">\n",
       "<title>8</title>\n",
       "<polygon fill=\"#f193b2\" points=\"1063.81,-64 839.73,-64 839.73,0 1063.81,0 1063.81,-64\" stroke=\"black\"/>\n",
       "<text font-family=\"Times,serif\" font-size=\"14.00\" text-anchor=\"middle\" x=\"951.77\" y=\"-48.8\">entropy = 1.498</text>\n",
       "<text font-family=\"Times,serif\" font-size=\"14.00\" text-anchor=\"middle\" x=\"951.77\" y=\"-34.8\">samples = 665</text>\n",
       "<text font-family=\"Times,serif\" font-size=\"14.00\" text-anchor=\"middle\" x=\"951.77\" y=\"-20.8\">value = [24, 139, 58, 0, 0, 0, 17, 427]</text>\n",
       "<text font-family=\"Times,serif\" font-size=\"14.00\" text-anchor=\"middle\" x=\"951.77\" y=\"-6.8\">class = 7</text>\n",
       "</g>\n",
       "<!-- 6&#45;&gt;8 -->\n",
       "<g class=\"edge\" id=\"edge8\">\n",
       "<title>6-&gt;8</title>\n",
       "<path d=\"M876.07,-99.8C886.76,-90.36 898.21,-80.25 908.89,-70.84\" fill=\"none\" stroke=\"black\"/>\n",
       "<polygon fill=\"black\" points=\"911.32,-73.36 916.5,-64.12 906.69,-68.11 911.32,-73.36\" stroke=\"black\"/>\n",
       "</g>\n",
       "<!-- 10 -->\n",
       "<g class=\"node\" id=\"node11\">\n",
       "<title>10</title>\n",
       "<polygon fill=\"#fcfef5\" points=\"1689.79,-178 1367.74,-178 1367.74,-100 1689.79,-100 1689.79,-178\" stroke=\"black\"/>\n",
       "<text font-family=\"Times,serif\" font-size=\"14.00\" text-anchor=\"middle\" x=\"1528.77\" y=\"-162.8\">New York &lt;= 0.5</text>\n",
       "<text font-family=\"Times,serif\" font-size=\"14.00\" text-anchor=\"middle\" x=\"1528.77\" y=\"-148.8\">entropy = 2.569</text>\n",
       "<text font-family=\"Times,serif\" font-size=\"14.00\" text-anchor=\"middle\" x=\"1528.77\" y=\"-134.8\">samples = 17088</text>\n",
       "<text font-family=\"Times,serif\" font-size=\"14.00\" text-anchor=\"middle\" x=\"1528.77\" y=\"-120.8\">value = [2923, 4609, 3980, 2112, 1926, 1047, 448, 43]</text>\n",
       "<text font-family=\"Times,serif\" font-size=\"14.00\" text-anchor=\"middle\" x=\"1528.77\" y=\"-106.8\">class = 1</text>\n",
       "</g>\n",
       "<!-- 9&#45;&gt;10 -->\n",
       "<g class=\"edge\" id=\"edge10\">\n",
       "<title>9-&gt;10</title>\n",
       "<path d=\"M1634.81,-213.77C1620.95,-204.13 1605.97,-193.7 1591.75,-183.81\" fill=\"none\" stroke=\"black\"/>\n",
       "<polygon fill=\"black\" points=\"1593.69,-180.9 1583.48,-178.06 1589.69,-186.64 1593.69,-180.9\" stroke=\"black\"/>\n",
       "</g>\n",
       "<!-- 13 -->\n",
       "<g class=\"node\" id=\"node14\">\n",
       "<title>13</title>\n",
       "<polygon fill=\"#f6d2b8\" points=\"1995.31,-178 1708.23,-178 1708.23,-100 1995.31,-100 1995.31,-178\" stroke=\"black\"/>\n",
       "<text font-family=\"Times,serif\" font-size=\"14.00\" text-anchor=\"middle\" x=\"1851.77\" y=\"-162.8\">New York &lt;= 0.5</text>\n",
       "<text font-family=\"Times,serif\" font-size=\"14.00\" text-anchor=\"middle\" x=\"1851.77\" y=\"-148.8\">entropy = 2.087</text>\n",
       "<text font-family=\"Times,serif\" font-size=\"14.00\" text-anchor=\"middle\" x=\"1851.77\" y=\"-134.8\">samples = 8573</text>\n",
       "<text font-family=\"Times,serif\" font-size=\"14.00\" text-anchor=\"middle\" x=\"1851.77\" y=\"-120.8\">value = [4160, 1690, 1094, 947, 462, 143, 74, 3]</text>\n",
       "<text font-family=\"Times,serif\" font-size=\"14.00\" text-anchor=\"middle\" x=\"1851.77\" y=\"-106.8\">class = 0</text>\n",
       "</g>\n",
       "<!-- 9&#45;&gt;13 -->\n",
       "<g class=\"edge\" id=\"edge13\">\n",
       "<title>9-&gt;13</title>\n",
       "<path d=\"M1745.07,-213.77C1759.01,-204.13 1774.09,-193.7 1788.4,-183.81\" fill=\"none\" stroke=\"black\"/>\n",
       "<polygon fill=\"black\" points=\"1790.48,-186.62 1796.72,-178.06 1786.5,-180.87 1790.48,-186.62\" stroke=\"black\"/>\n",
       "</g>\n",
       "<!-- 11 -->\n",
       "<g class=\"node\" id=\"node12\">\n",
       "<title>11</title>\n",
       "<polygon fill=\"#fcfef6\" points=\"1390.81,-64 1082.73,-64 1082.73,0 1390.81,0 1390.81,-64\" stroke=\"black\"/>\n",
       "<text font-family=\"Times,serif\" font-size=\"14.00\" text-anchor=\"middle\" x=\"1236.77\" y=\"-48.8\">entropy = 2.461</text>\n",
       "<text font-family=\"Times,serif\" font-size=\"14.00\" text-anchor=\"middle\" x=\"1236.77\" y=\"-34.8\">samples = 15208</text>\n",
       "<text font-family=\"Times,serif\" font-size=\"14.00\" text-anchor=\"middle\" x=\"1236.77\" y=\"-20.8\">value = [2899, 4331, 3788, 1822, 1365, 771, 231, 1]</text>\n",
       "<text font-family=\"Times,serif\" font-size=\"14.00\" text-anchor=\"middle\" x=\"1236.77\" y=\"-6.8\">class = 1</text>\n",
       "</g>\n",
       "<!-- 10&#45;&gt;11 -->\n",
       "<g class=\"edge\" id=\"edge11\">\n",
       "<title>10-&gt;11</title>\n",
       "<path d=\"M1422.94,-99.94C1393.46,-89.35 1361.62,-77.9 1332.75,-67.51\" fill=\"none\" stroke=\"black\"/>\n",
       "<polygon fill=\"black\" points=\"1333.67,-64.13 1323.08,-64.04 1331.3,-70.71 1333.67,-64.13\" stroke=\"black\"/>\n",
       "</g>\n",
       "<!-- 12 -->\n",
       "<g class=\"node\" id=\"node13\">\n",
       "<title>12</title>\n",
       "<polygon fill=\"#ddeefb\" points=\"1682.31,-64 1409.23,-64 1409.23,0 1682.31,0 1682.31,-64\" stroke=\"black\"/>\n",
       "<text font-family=\"Times,serif\" font-size=\"14.00\" text-anchor=\"middle\" x=\"1545.77\" y=\"-48.8\">entropy = 2.649</text>\n",
       "<text font-family=\"Times,serif\" font-size=\"14.00\" text-anchor=\"middle\" x=\"1545.77\" y=\"-34.8\">samples = 1880</text>\n",
       "<text font-family=\"Times,serif\" font-size=\"14.00\" text-anchor=\"middle\" x=\"1545.77\" y=\"-20.8\">value = [24, 278, 192, 290, 561, 276, 217, 42]</text>\n",
       "<text font-family=\"Times,serif\" font-size=\"14.00\" text-anchor=\"middle\" x=\"1545.77\" y=\"-6.8\">class = 4</text>\n",
       "</g>\n",
       "<!-- 10&#45;&gt;12 -->\n",
       "<g class=\"edge\" id=\"edge12\">\n",
       "<title>10-&gt;12</title>\n",
       "<path d=\"M1534.95,-99.8C1536.3,-91.46 1537.74,-82.6 1539.11,-74.15\" fill=\"none\" stroke=\"black\"/>\n",
       "<polygon fill=\"black\" points=\"1542.59,-74.55 1540.73,-64.12 1535.68,-73.43 1542.59,-74.55\" stroke=\"black\"/>\n",
       "</g>\n",
       "<!-- 14 -->\n",
       "<g class=\"node\" id=\"node15\">\n",
       "<title>14</title>\n",
       "<polygon fill=\"#f5d1b6\" points=\"1966.81,-64 1700.73,-64 1700.73,0 1966.81,0 1966.81,-64\" stroke=\"black\"/>\n",
       "<text font-family=\"Times,serif\" font-size=\"14.00\" text-anchor=\"middle\" x=\"1833.77\" y=\"-48.8\">entropy = 1.975</text>\n",
       "<text font-family=\"Times,serif\" font-size=\"14.00\" text-anchor=\"middle\" x=\"1833.77\" y=\"-34.8\">samples = 7673</text>\n",
       "<text font-family=\"Times,serif\" font-size=\"14.00\" text-anchor=\"middle\" x=\"1833.77\" y=\"-20.8\">value = [3785, 1521, 978, 929, 435, 25, 0, 0]</text>\n",
       "<text font-family=\"Times,serif\" font-size=\"14.00\" text-anchor=\"middle\" x=\"1833.77\" y=\"-6.8\">class = 0</text>\n",
       "</g>\n",
       "<!-- 13&#45;&gt;14 -->\n",
       "<g class=\"edge\" id=\"edge14\">\n",
       "<title>13-&gt;14</title>\n",
       "<path d=\"M1845.22,-99.8C1843.79,-91.46 1842.27,-82.6 1840.82,-74.15\" fill=\"none\" stroke=\"black\"/>\n",
       "<polygon fill=\"black\" points=\"1844.24,-73.38 1839.1,-64.12 1837.34,-74.56 1844.24,-73.38\" stroke=\"black\"/>\n",
       "</g>\n",
       "<!-- 15 -->\n",
       "<g class=\"node\" id=\"node16\">\n",
       "<title>15</title>\n",
       "<polygon fill=\"#f8dbc7\" points=\"2236.28,-64 1985.26,-64 1985.26,0 2236.28,0 2236.28,-64\" stroke=\"black\"/>\n",
       "<text font-family=\"Times,serif\" font-size=\"14.00\" text-anchor=\"middle\" x=\"2110.77\" y=\"-48.8\">entropy = 2.333</text>\n",
       "<text font-family=\"Times,serif\" font-size=\"14.00\" text-anchor=\"middle\" x=\"2110.77\" y=\"-34.8\">samples = 900</text>\n",
       "<text font-family=\"Times,serif\" font-size=\"14.00\" text-anchor=\"middle\" x=\"2110.77\" y=\"-20.8\">value = [375, 169, 116, 18, 27, 118, 74, 3]</text>\n",
       "<text font-family=\"Times,serif\" font-size=\"14.00\" text-anchor=\"middle\" x=\"2110.77\" y=\"-6.8\">class = 0</text>\n",
       "</g>\n",
       "<!-- 13&#45;&gt;15 -->\n",
       "<g class=\"edge\" id=\"edge15\">\n",
       "<title>13-&gt;15</title>\n",
       "<path d=\"M1945.64,-99.94C1971.44,-89.48 1999.29,-78.19 2024.63,-67.92\" fill=\"none\" stroke=\"black\"/>\n",
       "<polygon fill=\"black\" points=\"2026.26,-71.04 2034.21,-64.04 2023.63,-64.55 2026.26,-71.04\" stroke=\"black\"/>\n",
       "</g>\n",
       "<!-- 17 -->\n",
       "<g class=\"node\" id=\"node18\">\n",
       "<title>17</title>\n",
       "<polygon fill=\"#fbdde7\" points=\"2880.79,-292 2614.74,-292 2614.74,-214 2880.79,-214 2880.79,-292\" stroke=\"black\"/>\n",
       "<text font-family=\"Times,serif\" font-size=\"14.00\" text-anchor=\"middle\" x=\"2747.77\" y=\"-276.8\">Port Code &lt;= 702.5</text>\n",
       "<text font-family=\"Times,serif\" font-size=\"14.00\" text-anchor=\"middle\" x=\"2747.77\" y=\"-262.8\">entropy = 1.811</text>\n",
       "<text font-family=\"Times,serif\" font-size=\"14.00\" text-anchor=\"middle\" x=\"2747.77\" y=\"-248.8\">samples = 11222</text>\n",
       "<text font-family=\"Times,serif\" font-size=\"14.00\" text-anchor=\"middle\" x=\"2747.77\" y=\"-234.8\">value = [2, 5, 7, 112, 675, 1950, 3586, 4885]</text>\n",
       "<text font-family=\"Times,serif\" font-size=\"14.00\" text-anchor=\"middle\" x=\"2747.77\" y=\"-220.8\">class = 7</text>\n",
       "</g>\n",
       "<!-- 16&#45;&gt;17 -->\n",
       "<g class=\"edge\" id=\"edge17\">\n",
       "<title>16-&gt;17</title>\n",
       "<path d=\"M2747.77,-327.77C2747.77,-319.57 2747.77,-310.8 2747.77,-302.28\" fill=\"none\" stroke=\"black\"/>\n",
       "<polygon fill=\"black\" points=\"2751.27,-302.06 2747.77,-292.06 2744.27,-302.06 2751.27,-302.06\" stroke=\"black\"/>\n",
       "</g>\n",
       "<!-- 24 -->\n",
       "<g class=\"node\" id=\"node25\">\n",
       "<title>24</title>\n",
       "<polygon fill=\"#fdfeff\" points=\"3717.31,-292 3402.23,-292 3402.23,-214 3717.31,-214 3717.31,-292\" stroke=\"black\"/>\n",
       "<text font-family=\"Times,serif\" font-size=\"14.00\" text-anchor=\"middle\" x=\"3559.77\" y=\"-276.8\">Port Code &lt;= 3517.0</text>\n",
       "<text font-family=\"Times,serif\" font-size=\"14.00\" text-anchor=\"middle\" x=\"3559.77\" y=\"-262.8\">entropy = 2.533</text>\n",
       "<text font-family=\"Times,serif\" font-size=\"14.00\" text-anchor=\"middle\" x=\"3559.77\" y=\"-248.8\">samples = 12633</text>\n",
       "<text font-family=\"Times,serif\" font-size=\"14.00\" text-anchor=\"middle\" x=\"3559.77\" y=\"-234.8\">value = [13, 368, 1032, 3062, 3165, 2651, 1675, 667]</text>\n",
       "<text font-family=\"Times,serif\" font-size=\"14.00\" text-anchor=\"middle\" x=\"3559.77\" y=\"-220.8\">class = 4</text>\n",
       "</g>\n",
       "<!-- 16&#45;&gt;24 -->\n",
       "<g class=\"edge\" id=\"edge24\">\n",
       "<title>16-&gt;24</title>\n",
       "<path d=\"M2909.16,-343.74C3048.96,-324.46 3250.43,-296.67 3392.04,-277.13\" fill=\"none\" stroke=\"black\"/>\n",
       "<polygon fill=\"black\" points=\"3392.7,-280.58 3402.13,-275.74 3391.75,-273.64 3392.7,-280.58\" stroke=\"black\"/>\n",
       "</g>\n",
       "<!-- 18 -->\n",
       "<g class=\"node\" id=\"node19\">\n",
       "<title>18</title>\n",
       "<polygon fill=\"#faf9fe\" points=\"2738.81,-178 2486.73,-178 2486.73,-100 2738.81,-100 2738.81,-178\" stroke=\"black\"/>\n",
       "<text font-family=\"Times,serif\" font-size=\"14.00\" text-anchor=\"middle\" x=\"2612.77\" y=\"-162.8\">Port Code &lt;= 211.5</text>\n",
       "<text font-family=\"Times,serif\" font-size=\"14.00\" text-anchor=\"middle\" x=\"2612.77\" y=\"-148.8\">entropy = 1.752</text>\n",
       "<text font-family=\"Times,serif\" font-size=\"14.00\" text-anchor=\"middle\" x=\"2612.77\" y=\"-134.8\">samples = 3805</text>\n",
       "<text font-family=\"Times,serif\" font-size=\"14.00\" text-anchor=\"middle\" x=\"2612.77\" y=\"-120.8\">value = [0, 4, 5, 56, 445, 1584, 1513, 198]</text>\n",
       "<text font-family=\"Times,serif\" font-size=\"14.00\" text-anchor=\"middle\" x=\"2612.77\" y=\"-106.8\">class = 5</text>\n",
       "</g>\n",
       "<!-- 17&#45;&gt;18 -->\n",
       "<g class=\"edge\" id=\"edge18\">\n",
       "<title>17-&gt;18</title>\n",
       "<path d=\"M2701.69,-213.77C2690.39,-204.4 2678.2,-194.29 2666.58,-184.64\" fill=\"none\" stroke=\"black\"/>\n",
       "<polygon fill=\"black\" points=\"2668.57,-181.75 2658.64,-178.06 2664.1,-187.14 2668.57,-181.75\" stroke=\"black\"/>\n",
       "</g>\n",
       "<!-- 21 -->\n",
       "<g class=\"node\" id=\"node22\">\n",
       "<title>21</title>\n",
       "<polygon fill=\"#f29eba\" points=\"3009.81,-178 2757.73,-178 2757.73,-100 3009.81,-100 3009.81,-178\" stroke=\"black\"/>\n",
       "<text font-family=\"Times,serif\" font-size=\"14.00\" text-anchor=\"middle\" x=\"2883.77\" y=\"-162.8\">Port Code &lt;= 2605.0</text>\n",
       "<text font-family=\"Times,serif\" font-size=\"14.00\" text-anchor=\"middle\" x=\"2883.77\" y=\"-148.8\">entropy = 1.363</text>\n",
       "<text font-family=\"Times,serif\" font-size=\"14.00\" text-anchor=\"middle\" x=\"2883.77\" y=\"-134.8\">samples = 7417</text>\n",
       "<text font-family=\"Times,serif\" font-size=\"14.00\" text-anchor=\"middle\" x=\"2883.77\" y=\"-120.8\">value = [2, 1, 2, 56, 230, 366, 2073, 4687]</text>\n",
       "<text font-family=\"Times,serif\" font-size=\"14.00\" text-anchor=\"middle\" x=\"2883.77\" y=\"-106.8\">class = 7</text>\n",
       "</g>\n",
       "<!-- 17&#45;&gt;21 -->\n",
       "<g class=\"edge\" id=\"edge21\">\n",
       "<title>17-&gt;21</title>\n",
       "<path d=\"M2794.19,-213.77C2805.57,-204.4 2817.85,-194.29 2829.56,-184.64\" fill=\"none\" stroke=\"black\"/>\n",
       "<polygon fill=\"black\" points=\"2832.06,-187.12 2837.55,-178.06 2827.61,-181.71 2832.06,-187.12\" stroke=\"black\"/>\n",
       "</g>\n",
       "<!-- 19 -->\n",
       "<g class=\"node\" id=\"node20\">\n",
       "<title>19</title>\n",
       "<polygon fill=\"#ded8fa\" points=\"2506.79,-64 2254.74,-64 2254.74,0 2506.79,0 2506.79,-64\" stroke=\"black\"/>\n",
       "<text font-family=\"Times,serif\" font-size=\"14.00\" text-anchor=\"middle\" x=\"2380.77\" y=\"-48.8\">entropy = 1.773</text>\n",
       "<text font-family=\"Times,serif\" font-size=\"14.00\" text-anchor=\"middle\" x=\"2380.77\" y=\"-34.8\">samples = 3390</text>\n",
       "<text font-family=\"Times,serif\" font-size=\"14.00\" text-anchor=\"middle\" x=\"2380.77\" y=\"-20.8\">value = [0, 4, 5, 56, 445, 1574, 1128, 178]</text>\n",
       "<text font-family=\"Times,serif\" font-size=\"14.00\" text-anchor=\"middle\" x=\"2380.77\" y=\"-6.8\">class = 5</text>\n",
       "</g>\n",
       "<!-- 18&#45;&gt;19 -->\n",
       "<g class=\"edge\" id=\"edge19\">\n",
       "<title>18-&gt;19</title>\n",
       "<path d=\"M2528.68,-99.94C2505.77,-89.58 2481.07,-78.39 2458.52,-68.19\" fill=\"none\" stroke=\"black\"/>\n",
       "<polygon fill=\"black\" points=\"2459.9,-64.97 2449.34,-64.04 2457.01,-71.35 2459.9,-64.97\" stroke=\"black\"/>\n",
       "</g>\n",
       "<!-- 20 -->\n",
       "<g class=\"node\" id=\"node21\">\n",
       "<title>20</title>\n",
       "<polygon fill=\"#da48e7\" points=\"2728.31,-64 2525.23,-64 2525.23,0 2728.31,0 2728.31,-64\" stroke=\"black\"/>\n",
       "<text font-family=\"Times,serif\" font-size=\"14.00\" text-anchor=\"middle\" x=\"2626.77\" y=\"-48.8\">entropy = 0.441</text>\n",
       "<text font-family=\"Times,serif\" font-size=\"14.00\" text-anchor=\"middle\" x=\"2626.77\" y=\"-34.8\">samples = 415</text>\n",
       "<text font-family=\"Times,serif\" font-size=\"14.00\" text-anchor=\"middle\" x=\"2626.77\" y=\"-20.8\">value = [0, 0, 0, 0, 0, 10, 385, 20]</text>\n",
       "<text font-family=\"Times,serif\" font-size=\"14.00\" text-anchor=\"middle\" x=\"2626.77\" y=\"-6.8\">class = 6</text>\n",
       "</g>\n",
       "<!-- 18&#45;&gt;20 -->\n",
       "<g class=\"edge\" id=\"edge20\">\n",
       "<title>18-&gt;20</title>\n",
       "<path d=\"M2617.86,-99.8C2618.97,-91.46 2620.16,-82.6 2621.28,-74.15\" fill=\"none\" stroke=\"black\"/>\n",
       "<polygon fill=\"black\" points=\"2624.77,-74.49 2622.62,-64.12 2617.83,-73.57 2624.77,-74.49\" stroke=\"black\"/>\n",
       "</g>\n",
       "<!-- 22 -->\n",
       "<g class=\"node\" id=\"node23\">\n",
       "<title>22</title>\n",
       "<polygon fill=\"#f29db9\" points=\"2992.31,-64 2747.23,-64 2747.23,0 2992.31,0 2992.31,-64\" stroke=\"black\"/>\n",
       "<text font-family=\"Times,serif\" font-size=\"14.00\" text-anchor=\"middle\" x=\"2869.77\" y=\"-48.8\">entropy = 1.164</text>\n",
       "<text font-family=\"Times,serif\" font-size=\"14.00\" text-anchor=\"middle\" x=\"2869.77\" y=\"-34.8\">samples = 6370</text>\n",
       "<text font-family=\"Times,serif\" font-size=\"14.00\" text-anchor=\"middle\" x=\"2869.77\" y=\"-20.8\">value = [2, 0, 2, 26, 37, 197, 1959, 4147]</text>\n",
       "<text font-family=\"Times,serif\" font-size=\"14.00\" text-anchor=\"middle\" x=\"2869.77\" y=\"-6.8\">class = 7</text>\n",
       "</g>\n",
       "<!-- 21&#45;&gt;22 -->\n",
       "<g class=\"edge\" id=\"edge22\">\n",
       "<title>21-&gt;22</title>\n",
       "<path d=\"M2878.67,-99.8C2877.56,-91.46 2876.38,-82.6 2875.26,-74.15\" fill=\"none\" stroke=\"black\"/>\n",
       "<polygon fill=\"black\" points=\"2878.71,-73.57 2873.92,-64.12 2871.77,-74.49 2878.71,-73.57\" stroke=\"black\"/>\n",
       "</g>\n",
       "<!-- 23 -->\n",
       "<g class=\"node\" id=\"node24\">\n",
       "<title>23</title>\n",
       "<polygon fill=\"#f4afc6\" points=\"3248.79,-64 3010.74,-64 3010.74,0 3248.79,0 3248.79,-64\" stroke=\"black\"/>\n",
       "<text font-family=\"Times,serif\" font-size=\"14.00\" text-anchor=\"middle\" x=\"3129.77\" y=\"-48.8\">entropy = 1.872</text>\n",
       "<text font-family=\"Times,serif\" font-size=\"14.00\" text-anchor=\"middle\" x=\"3129.77\" y=\"-34.8\">samples = 1047</text>\n",
       "<text font-family=\"Times,serif\" font-size=\"14.00\" text-anchor=\"middle\" x=\"3129.77\" y=\"-20.8\">value = [0, 1, 0, 30, 193, 169, 114, 540]</text>\n",
       "<text font-family=\"Times,serif\" font-size=\"14.00\" text-anchor=\"middle\" x=\"3129.77\" y=\"-6.8\">class = 7</text>\n",
       "</g>\n",
       "<!-- 21&#45;&gt;23 -->\n",
       "<g class=\"edge\" id=\"edge23\">\n",
       "<title>21-&gt;23</title>\n",
       "<path d=\"M2972.93,-99.94C2997.33,-89.53 3023.65,-78.29 3047.64,-68.06\" fill=\"none\" stroke=\"black\"/>\n",
       "<polygon fill=\"black\" points=\"3049.23,-71.18 3057.06,-64.04 3046.49,-64.74 3049.23,-71.18\" stroke=\"black\"/>\n",
       "</g>\n",
       "<!-- 25 -->\n",
       "<g class=\"node\" id=\"node26\">\n",
       "<title>25</title>\n",
       "<polygon fill=\"#fdfeff\" points=\"3713.79,-178 3405.74,-178 3405.74,-100 3713.79,-100 3713.79,-178\" stroke=\"black\"/>\n",
       "<text font-family=\"Times,serif\" font-size=\"14.00\" text-anchor=\"middle\" x=\"3559.77\" y=\"-162.8\">Port Code &lt;= 3403.5</text>\n",
       "<text font-family=\"Times,serif\" font-size=\"14.00\" text-anchor=\"middle\" x=\"3559.77\" y=\"-148.8\">entropy = 2.376</text>\n",
       "<text font-family=\"Times,serif\" font-size=\"14.00\" text-anchor=\"middle\" x=\"3559.77\" y=\"-134.8\">samples = 11493</text>\n",
       "<text font-family=\"Times,serif\" font-size=\"14.00\" text-anchor=\"middle\" x=\"3559.77\" y=\"-120.8\">value = [13, 368, 1032, 3061, 3165, 2587, 1186, 81]</text>\n",
       "<text font-family=\"Times,serif\" font-size=\"14.00\" text-anchor=\"middle\" x=\"3559.77\" y=\"-106.8\">class = 4</text>\n",
       "</g>\n",
       "<!-- 24&#45;&gt;25 -->\n",
       "<g class=\"edge\" id=\"edge25\">\n",
       "<title>24-&gt;25</title>\n",
       "<path d=\"M3559.77,-213.77C3559.77,-205.57 3559.77,-196.8 3559.77,-188.28\" fill=\"none\" stroke=\"black\"/>\n",
       "<polygon fill=\"black\" points=\"3563.27,-188.06 3559.77,-178.06 3556.27,-188.06 3563.27,-188.06\" stroke=\"black\"/>\n",
       "</g>\n",
       "<!-- 28 -->\n",
       "<g class=\"node\" id=\"node29\">\n",
       "<title>28</title>\n",
       "<polygon fill=\"#fbe1ea\" points=\"4083.81,-178 3873.73,-178 3873.73,-100 4083.81,-100 4083.81,-178\" stroke=\"black\"/>\n",
       "<text font-family=\"Times,serif\" font-size=\"14.00\" text-anchor=\"middle\" x=\"3978.77\" y=\"-162.8\">6 &lt;= 0.5</text>\n",
       "<text font-family=\"Times,serif\" font-size=\"14.00\" text-anchor=\"middle\" x=\"3978.77\" y=\"-148.8\">entropy = 1.259</text>\n",
       "<text font-family=\"Times,serif\" font-size=\"14.00\" text-anchor=\"middle\" x=\"3978.77\" y=\"-134.8\">samples = 1140</text>\n",
       "<text font-family=\"Times,serif\" font-size=\"14.00\" text-anchor=\"middle\" x=\"3978.77\" y=\"-120.8\">value = [0, 0, 0, 1, 0, 64, 489, 586]</text>\n",
       "<text font-family=\"Times,serif\" font-size=\"14.00\" text-anchor=\"middle\" x=\"3978.77\" y=\"-106.8\">class = 7</text>\n",
       "</g>\n",
       "<!-- 24&#45;&gt;28 -->\n",
       "<g class=\"edge\" id=\"edge28\">\n",
       "<title>24-&gt;28</title>\n",
       "<path d=\"M3702.21,-213.93C3754.81,-199.87 3813.72,-184.12 3863.6,-170.78\" fill=\"none\" stroke=\"black\"/>\n",
       "<polygon fill=\"black\" points=\"3864.7,-174.11 3873.46,-168.15 3862.89,-167.35 3864.7,-174.11\" stroke=\"black\"/>\n",
       "</g>\n",
       "<!-- 26 -->\n",
       "<g class=\"node\" id=\"node27\">\n",
       "<title>26</title>\n",
       "<polygon fill=\"#f6f5fe\" points=\"3568.31,-64 3267.23,-64 3267.23,0 3568.31,0 3568.31,-64\" stroke=\"black\"/>\n",
       "<text font-family=\"Times,serif\" font-size=\"14.00\" text-anchor=\"middle\" x=\"3417.77\" y=\"-48.8\">entropy = 2.473</text>\n",
       "<text font-family=\"Times,serif\" font-size=\"14.00\" text-anchor=\"middle\" x=\"3417.77\" y=\"-34.8\">samples = 6813</text>\n",
       "<text font-family=\"Times,serif\" font-size=\"14.00\" text-anchor=\"middle\" x=\"3417.77\" y=\"-20.8\">value = [13, 253, 648, 1421, 1536, 1810, 1051, 81]</text>\n",
       "<text font-family=\"Times,serif\" font-size=\"14.00\" text-anchor=\"middle\" x=\"3417.77\" y=\"-6.8\">class = 5</text>\n",
       "</g>\n",
       "<!-- 25&#45;&gt;26 -->\n",
       "<g class=\"edge\" id=\"edge26\">\n",
       "<title>25-&gt;26</title>\n",
       "<path d=\"M3508.1,-99.8C3495.09,-90.18 3481.14,-79.86 3468.2,-70.29\" fill=\"none\" stroke=\"black\"/>\n",
       "<polygon fill=\"black\" points=\"3469.97,-67.25 3459.85,-64.12 3465.81,-72.88 3469.97,-67.25\" stroke=\"black\"/>\n",
       "</g>\n",
       "<!-- 27 -->\n",
       "<g class=\"node\" id=\"node28\">\n",
       "<title>27</title>\n",
       "<polygon fill=\"#feffff\" points=\"3859.29,-64 3586.24,-64 3586.24,0 3859.29,0 3859.29,-64\" stroke=\"black\"/>\n",
       "<text font-family=\"Times,serif\" font-size=\"14.00\" text-anchor=\"middle\" x=\"3722.77\" y=\"-48.8\">entropy = 2.065</text>\n",
       "<text font-family=\"Times,serif\" font-size=\"14.00\" text-anchor=\"middle\" x=\"3722.77\" y=\"-34.8\">samples = 4680</text>\n",
       "<text font-family=\"Times,serif\" font-size=\"14.00\" text-anchor=\"middle\" x=\"3722.77\" y=\"-20.8\">value = [0, 115, 384, 1640, 1629, 777, 135, 0]</text>\n",
       "<text font-family=\"Times,serif\" font-size=\"14.00\" text-anchor=\"middle\" x=\"3722.77\" y=\"-6.8\">class = 3</text>\n",
       "</g>\n",
       "<!-- 25&#45;&gt;27 -->\n",
       "<g class=\"edge\" id=\"edge27\">\n",
       "<title>25-&gt;27</title>\n",
       "<path d=\"M3619.08,-99.8C3634.29,-89.99 3650.63,-79.47 3665.73,-69.74\" fill=\"none\" stroke=\"black\"/>\n",
       "<polygon fill=\"black\" points=\"3667.95,-72.47 3674.46,-64.12 3664.16,-66.59 3667.95,-72.47\" stroke=\"black\"/>\n",
       "</g>\n",
       "<!-- 29 -->\n",
       "<g class=\"node\" id=\"node30\">\n",
       "<title>29</title>\n",
       "<polygon fill=\"#ea608e\" points=\"4080.29,-64 3877.24,-64 3877.24,0 4080.29,0 4080.29,-64\" stroke=\"black\"/>\n",
       "<text font-family=\"Times,serif\" font-size=\"14.00\" text-anchor=\"middle\" x=\"3978.77\" y=\"-48.8\">entropy = 0.647</text>\n",
       "<text font-family=\"Times,serif\" font-size=\"14.00\" text-anchor=\"middle\" x=\"3978.77\" y=\"-34.8\">samples = 684</text>\n",
       "<text font-family=\"Times,serif\" font-size=\"14.00\" text-anchor=\"middle\" x=\"3978.77\" y=\"-20.8\">value = [0, 0, 0, 0, 0, 0, 113, 571]</text>\n",
       "<text font-family=\"Times,serif\" font-size=\"14.00\" text-anchor=\"middle\" x=\"3978.77\" y=\"-6.8\">class = 7</text>\n",
       "</g>\n",
       "<!-- 28&#45;&gt;29 -->\n",
       "<g class=\"edge\" id=\"edge29\">\n",
       "<title>28-&gt;29</title>\n",
       "<path d=\"M3978.77,-99.8C3978.77,-91.46 3978.77,-82.6 3978.77,-74.15\" fill=\"none\" stroke=\"black\"/>\n",
       "<polygon fill=\"black\" points=\"3982.27,-74.12 3978.77,-64.12 3975.27,-74.12 3982.27,-74.12\" stroke=\"black\"/>\n",
       "</g>\n",
       "<!-- 30 -->\n",
       "<g class=\"node\" id=\"node31\">\n",
       "<title>30</title>\n",
       "<polygon fill=\"#df61ea\" points=\"4301.31,-64 4098.23,-64 4098.23,0 4301.31,0 4301.31,-64\" stroke=\"black\"/>\n",
       "<text font-family=\"Times,serif\" font-size=\"14.00\" text-anchor=\"middle\" x=\"4199.77\" y=\"-48.8\">entropy = 0.808</text>\n",
       "<text font-family=\"Times,serif\" font-size=\"14.00\" text-anchor=\"middle\" x=\"4199.77\" y=\"-34.8\">samples = 456</text>\n",
       "<text font-family=\"Times,serif\" font-size=\"14.00\" text-anchor=\"middle\" x=\"4199.77\" y=\"-20.8\">value = [0, 0, 0, 1, 0, 64, 376, 15]</text>\n",
       "<text font-family=\"Times,serif\" font-size=\"14.00\" text-anchor=\"middle\" x=\"4199.77\" y=\"-6.8\">class = 6</text>\n",
       "</g>\n",
       "<!-- 28&#45;&gt;30 -->\n",
       "<g class=\"edge\" id=\"edge30\">\n",
       "<title>28-&gt;30</title>\n",
       "<path d=\"M4058.87,-99.94C4080.59,-89.62 4104.02,-78.49 4125.41,-68.33\" fill=\"none\" stroke=\"black\"/>\n",
       "<polygon fill=\"black\" points=\"4126.92,-71.49 4134.45,-64.04 4123.91,-65.17 4126.92,-71.49\" stroke=\"black\"/>\n",
       "</g>\n",
       "</g>\n",
       "</svg>"
      ],
      "text/plain": [
       "<IPython.core.display.SVG object>"
      ]
     },
     "metadata": {},
     "output_type": "display_data"
    }
   ],
   "source": [
    "graph = Source(export_graphviz(clf, out_file=None\n",
    "   , feature_names=X_train.columns, class_names=['0','1','2','3','4','5','6','7'] \n",
    "   , filled = True))\n",
    "display(SVG(graph.pipe(format='svg')))"
   ]
  },
  {
   "cell_type": "code",
   "execution_count": 276,
   "metadata": {},
   "outputs": [
    {
     "name": "stderr",
     "output_type": "stream",
     "text": [
      "No handles with labels found to put in legend.\n"
     ]
    },
    {
     "data": {
      "image/png": "[encoded data removed]",
      "text/plain": [
       "<Figure size 432x288 with 1 Axes>"
      ]
     },
     "metadata": {},
     "output_type": "display_data"
    }
   ],
   "source": [
    "# Creating a bar plot\n",
    "sns.barplot(x=X_train.columns, y=clf.feature_importances_)\n",
    "# Add labels to your graph\n",
    "plt.xlabel('Feature Importance Score')\n",
    "plt.ylabel('Features')\n",
    "plt.title(\"Visualizing Important Features\")\n",
    "plt.legend()\n",
    "plt.xticks(rotation=90)\n",
    "plt.show()"
   ]
  },
  {
   "cell_type": "markdown",
   "metadata": {},
   "source": [
    "# Random Forest"
   ]
  },
  {
   "cell_type": "code",
   "execution_count": 277,
   "metadata": {},
   "outputs": [],
   "source": [
    "rfc = RandomForestClassifier(n_jobs=2, random_state=0)"
   ]
  },
  {
   "cell_type": "code",
   "execution_count": 278,
   "metadata": {},
   "outputs": [
    {
     "data": {
      "text/plain": [
       "RandomForestClassifier(bootstrap=True, class_weight=None, criterion='gini',\n",
       "                       max_depth=None, max_features='auto', max_leaf_nodes=None,\n",
       "                       min_impurity_decrease=0.0, min_impurity_split=None,\n",
       "                       min_samples_leaf=1, min_samples_split=2,\n",
       "                       min_weight_fraction_leaf=0.0, n_estimators=10, n_jobs=2,\n",
       "                       oob_score=False, random_state=0, verbose=0,\n",
       "                       warm_start=False)"
      ]
     },
     "execution_count": 278,
     "metadata": {},
     "output_type": "execute_result"
    }
   ],
   "source": [
    "rfc.fit(X_train, y_train)"
   ]
  },
  {
   "cell_type": "code",
   "execution_count": 279,
   "metadata": {},
   "outputs": [
    {
     "data": {
      "text/plain": [
       "0.8140826446280992"
      ]
     },
     "execution_count": 279,
     "metadata": {},
     "output_type": "execute_result"
    }
   ],
   "source": [
    "rfc.score(X_test,y_test)"
   ]
  },
  {
   "cell_type": "code",
   "execution_count": 280,
   "metadata": {},
   "outputs": [
    {
     "data": {
      "text/plain": [
       "[('Port Code', 0.4526912808478184),\n",
       " ('Year', 0.19423157761971385),\n",
       " ('Month', 0.13048534246482207),\n",
       " ('Personal Vehicle Passengers', 0.04711473785913091),\n",
       " ('Pedestrians', 0.029995245408123882),\n",
       " ('Train Passengers', 0.022561634693132403),\n",
       " ('Bus Passengers', 0.02002063300852332),\n",
       " ('Canada Border', 0.014808660642150534),\n",
       " ('Mexico Border', 0.013252371489596909),\n",
       " ('Michigan', 0.008223942231524884),\n",
       " ('New York', 0.0074645922850854005),\n",
       " (10, 0.00736913285281412),\n",
       " (8, 0.007069002937286932),\n",
       " (11, 0.006725899817687346),\n",
       " (12, 0.00559335254604905),\n",
       " (3, 0.005011420667143395),\n",
       " (6, 0.004552518857821523),\n",
       " (13, 0.0044530280528223155),\n",
       " (7, 0.0040967337681384955),\n",
       " (4, 0.0040787213927645175),\n",
       " (0, 0.003601231309793324),\n",
       " (2, 0.003457537797353505),\n",
       " (1, 0.003141401450702919)]"
      ]
     },
     "execution_count": 280,
     "metadata": {},
     "output_type": "execute_result"
    }
   ],
   "source": [
    "sorted(zip(X_train.columns, rfc.feature_importances_), key=lambda x: x[1], reverse=True)"
   ]
  },
  {
   "cell_type": "code",
   "execution_count": 281,
   "metadata": {},
   "outputs": [
    {
     "name": "stderr",
     "output_type": "stream",
     "text": [
      "No handles with labels found to put in legend.\n"
     ]
    },
    {
     "data": {
      "image/png": "[encoded data removed]",
      "text/plain": [
       "<Figure size 432x288 with 1 Axes>"
      ]
     },
     "metadata": {},
     "output_type": "display_data"
    }
   ],
   "source": [
    "sns.barplot(x=rfc.feature_importances_,y=X_train.columns)\n",
    "# Add labels to your graph\n",
    "plt.xlabel('Feature Importance Score')\n",
    "plt.ylabel('Features')\n",
    "plt.title(\"Visualizing Important Features\")\n",
    "plt.legend()\n",
    "plt.xticks(rotation=90)\n",
    "plt.show()"
   ]
  }
 ],
 "metadata": {
  "kernel_info": {
   "name": "python3"
  },
  "kernelspec": {
   "display_name": "Python 3",
   "language": "python",
   "name": "python3"
  },
  "language_info": {
   "codemirror_mode": {
    "name": "ipython",
    "version": 3
   },
   "file_extension": ".py",
   "mimetype": "text/x-python",
   "name": "python",
   "nbconvert_exporter": "python",
   "pygments_lexer": "ipython3",
   "version": "3.7.3"
  },
  "nteract": {
   "version": "0.15.0"
  }
 },
 "nbformat": 4,
 "nbformat_minor": 2
}
