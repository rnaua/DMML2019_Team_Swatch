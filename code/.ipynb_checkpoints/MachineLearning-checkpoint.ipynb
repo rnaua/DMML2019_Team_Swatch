{
 "cells": [
  {
   "cell_type": "markdown",
   "metadata": {},
   "source": [
    "# Machine Learning"
   ]
  },
  {
   "cell_type": "markdown",
   "metadata": {},
   "source": [
    "First of all, let's import all the modules that we will use."
   ]
  },
  {
   "cell_type": "code",
   "execution_count": 3,
   "metadata": {},
   "outputs": [],
   "source": [
    "##Imports needed plugins\n",
    "\n",
    "import pandas as pd\n",
    "import numpy as np\n",
    "import matplotlib.pyplot as plt\n",
    "import datetime as dt \n",
    "import plotly.express as px\n",
    "import plotly.graph_objects as go\n",
    "from sklearn.metrics import confusion_matrix\n",
    "from itertools import combinations \n",
    "from sklearn.linear_model import LinearRegression\n",
    "from sklearn.preprocessing import LabelEncoder, OneHotEncoder\n",
    "from sklearn.model_selection import train_test_split\n",
    "from sklearn.linear_model import LogisticRegressionCV\n",
    "from sklearn.metrics import recall_score\n",
    "import warnings\n",
    "import seaborn as sns\n",
    "warnings.filterwarnings(\"ignore\", category=FutureWarning)"
   ]
  },
  {
   "cell_type": "markdown",
   "metadata": {},
   "source": [
    "We will now import the dataset."
   ]
  },
  {
   "cell_type": "code",
   "execution_count": 4,
   "metadata": {},
   "outputs": [],
   "source": [
    "# Import the data\n",
    "data = pd.read_csv(\"../data/DataWithLocationCleaned.csv.gz\")\n",
    "df = data.copy()"
   ]
  },
  {
   "cell_type": "code",
   "execution_count": 5,
   "metadata": {},
   "outputs": [
    {
     "data": {
      "text/html": [
       "<div>\n",
       "<style scoped>\n",
       "    .dataframe tbody tr th:only-of-type {\n",
       "        vertical-align: middle;\n",
       "    }\n",
       "\n",
       "    .dataframe tbody tr th {\n",
       "        vertical-align: top;\n",
       "    }\n",
       "\n",
       "    .dataframe thead th {\n",
       "        text-align: right;\n",
       "    }\n",
       "</style>\n",
       "<table border=\"1\" class=\"dataframe\">\n",
       "  <thead>\n",
       "    <tr style=\"text-align: right;\">\n",
       "      <th></th>\n",
       "      <th>Port Name</th>\n",
       "      <th>State</th>\n",
       "      <th>Port Code</th>\n",
       "      <th>Border</th>\n",
       "      <th>Date</th>\n",
       "      <th>Measure</th>\n",
       "      <th>Value</th>\n",
       "      <th>Year</th>\n",
       "      <th>Month</th>\n",
       "      <th>position</th>\n",
       "    </tr>\n",
       "  </thead>\n",
       "  <tbody>\n",
       "    <tr>\n",
       "      <td>0</td>\n",
       "      <td>Warroad</td>\n",
       "      <td>Minnesota</td>\n",
       "      <td>3423</td>\n",
       "      <td>US-Canada Border</td>\n",
       "      <td>2019-06-01</td>\n",
       "      <td>Truck Containers Full</td>\n",
       "      <td>133</td>\n",
       "      <td>2019</td>\n",
       "      <td>6</td>\n",
       "      <td>(48.905266, -95.314404)</td>\n",
       "    </tr>\n",
       "    <tr>\n",
       "      <td>1</td>\n",
       "      <td>Warroad</td>\n",
       "      <td>Minnesota</td>\n",
       "      <td>3423</td>\n",
       "      <td>US-Canada Border</td>\n",
       "      <td>2019-06-01</td>\n",
       "      <td>Truck Containers Empty</td>\n",
       "      <td>298</td>\n",
       "      <td>2019</td>\n",
       "      <td>6</td>\n",
       "      <td>(48.905266, -95.314404)</td>\n",
       "    </tr>\n",
       "    <tr>\n",
       "      <td>2</td>\n",
       "      <td>Warroad</td>\n",
       "      <td>Minnesota</td>\n",
       "      <td>3423</td>\n",
       "      <td>US-Canada Border</td>\n",
       "      <td>2019-06-01</td>\n",
       "      <td>Personal Vehicles</td>\n",
       "      <td>10383</td>\n",
       "      <td>2019</td>\n",
       "      <td>6</td>\n",
       "      <td>(48.905266, -95.314404)</td>\n",
       "    </tr>\n",
       "    <tr>\n",
       "      <td>3</td>\n",
       "      <td>Warroad</td>\n",
       "      <td>Minnesota</td>\n",
       "      <td>3423</td>\n",
       "      <td>US-Canada Border</td>\n",
       "      <td>2019-06-01</td>\n",
       "      <td>Personal Vehicle Passengers</td>\n",
       "      <td>19459</td>\n",
       "      <td>2019</td>\n",
       "      <td>6</td>\n",
       "      <td>(48.905266, -95.314404)</td>\n",
       "    </tr>\n",
       "    <tr>\n",
       "      <td>4</td>\n",
       "      <td>Warroad</td>\n",
       "      <td>Minnesota</td>\n",
       "      <td>3423</td>\n",
       "      <td>US-Canada Border</td>\n",
       "      <td>2019-06-01</td>\n",
       "      <td>Pedestrians</td>\n",
       "      <td>2</td>\n",
       "      <td>2019</td>\n",
       "      <td>6</td>\n",
       "      <td>(48.905266, -95.314404)</td>\n",
       "    </tr>\n",
       "  </tbody>\n",
       "</table>\n",
       "</div>"
      ],
      "text/plain": [
       "  Port Name      State  Port Code            Border        Date  \\\n",
       "0   Warroad  Minnesota       3423  US-Canada Border  2019-06-01   \n",
       "1   Warroad  Minnesota       3423  US-Canada Border  2019-06-01   \n",
       "2   Warroad  Minnesota       3423  US-Canada Border  2019-06-01   \n",
       "3   Warroad  Minnesota       3423  US-Canada Border  2019-06-01   \n",
       "4   Warroad  Minnesota       3423  US-Canada Border  2019-06-01   \n",
       "\n",
       "                       Measure  Value  Year  Month                 position  \n",
       "0        Truck Containers Full    133  2019      6  (48.905266, -95.314404)  \n",
       "1       Truck Containers Empty    298  2019      6  (48.905266, -95.314404)  \n",
       "2            Personal Vehicles  10383  2019      6  (48.905266, -95.314404)  \n",
       "3  Personal Vehicle Passengers  19459  2019      6  (48.905266, -95.314404)  \n",
       "4                  Pedestrians      2  2019      6  (48.905266, -95.314404)  "
      ]
     },
     "execution_count": 5,
     "metadata": {},
     "output_type": "execute_result"
    }
   ],
   "source": [
    "df.head()"
   ]
  },
  {
   "cell_type": "markdown",
   "metadata": {},
   "source": [
    "We create 2 dataFrames for the people and for the traffic."
   ]
  },
  {
   "cell_type": "code",
   "execution_count": 6,
   "metadata": {},
   "outputs": [
    {
     "data": {
      "text/html": [
       "<div>\n",
       "<style scoped>\n",
       "    .dataframe tbody tr th:only-of-type {\n",
       "        vertical-align: middle;\n",
       "    }\n",
       "\n",
       "    .dataframe tbody tr th {\n",
       "        vertical-align: top;\n",
       "    }\n",
       "\n",
       "    .dataframe thead th {\n",
       "        text-align: right;\n",
       "    }\n",
       "</style>\n",
       "<table border=\"1\" class=\"dataframe\">\n",
       "  <thead>\n",
       "    <tr style=\"text-align: right;\">\n",
       "      <th></th>\n",
       "      <th>Port Name</th>\n",
       "      <th>State</th>\n",
       "      <th>Port Code</th>\n",
       "      <th>Border</th>\n",
       "      <th>Date</th>\n",
       "      <th>Measure</th>\n",
       "      <th>Value</th>\n",
       "      <th>Year</th>\n",
       "      <th>Month</th>\n",
       "      <th>position</th>\n",
       "      <th>latitude</th>\n",
       "      <th>longitude</th>\n",
       "    </tr>\n",
       "  </thead>\n",
       "  <tbody>\n",
       "    <tr>\n",
       "      <td>0</td>\n",
       "      <td>Warroad</td>\n",
       "      <td>Minnesota</td>\n",
       "      <td>3423</td>\n",
       "      <td>US-Canada Border</td>\n",
       "      <td>2019-06-01</td>\n",
       "      <td>Personal Vehicle Passengers</td>\n",
       "      <td>19459</td>\n",
       "      <td>2019</td>\n",
       "      <td>6</td>\n",
       "      <td>(48.905266, -95.314404)</td>\n",
       "      <td>48.905266</td>\n",
       "      <td>-95.314404</td>\n",
       "    </tr>\n",
       "    <tr>\n",
       "      <td>1</td>\n",
       "      <td>Warroad</td>\n",
       "      <td>Minnesota</td>\n",
       "      <td>3423</td>\n",
       "      <td>US-Canada Border</td>\n",
       "      <td>2019-06-01</td>\n",
       "      <td>Pedestrians</td>\n",
       "      <td>2</td>\n",
       "      <td>2019</td>\n",
       "      <td>6</td>\n",
       "      <td>(48.905266, -95.314404)</td>\n",
       "      <td>48.905266</td>\n",
       "      <td>-95.314404</td>\n",
       "    </tr>\n",
       "    <tr>\n",
       "      <td>2</td>\n",
       "      <td>Warroad</td>\n",
       "      <td>Minnesota</td>\n",
       "      <td>3423</td>\n",
       "      <td>US-Canada Border</td>\n",
       "      <td>2019-06-01</td>\n",
       "      <td>Bus Passengers</td>\n",
       "      <td>63</td>\n",
       "      <td>2019</td>\n",
       "      <td>6</td>\n",
       "      <td>(48.905266, -95.314404)</td>\n",
       "      <td>48.905266</td>\n",
       "      <td>-95.314404</td>\n",
       "    </tr>\n",
       "    <tr>\n",
       "      <td>3</td>\n",
       "      <td>Roseau</td>\n",
       "      <td>Minnesota</td>\n",
       "      <td>3426</td>\n",
       "      <td>US-Canada Border</td>\n",
       "      <td>2019-06-01</td>\n",
       "      <td>Personal Vehicle Passengers</td>\n",
       "      <td>7385</td>\n",
       "      <td>2019</td>\n",
       "      <td>6</td>\n",
       "      <td>(48.7710371, -95.7697882)</td>\n",
       "      <td>48.7710371</td>\n",
       "      <td>-95.7697882</td>\n",
       "    </tr>\n",
       "    <tr>\n",
       "      <td>4</td>\n",
       "      <td>Roseau</td>\n",
       "      <td>Minnesota</td>\n",
       "      <td>3426</td>\n",
       "      <td>US-Canada Border</td>\n",
       "      <td>2019-06-01</td>\n",
       "      <td>Bus Passengers</td>\n",
       "      <td>118</td>\n",
       "      <td>2019</td>\n",
       "      <td>6</td>\n",
       "      <td>(48.7710371, -95.7697882)</td>\n",
       "      <td>48.7710371</td>\n",
       "      <td>-95.7697882</td>\n",
       "    </tr>\n",
       "  </tbody>\n",
       "</table>\n",
       "</div>"
      ],
      "text/plain": [
       "  Port Name      State  Port Code            Border        Date  \\\n",
       "0   Warroad  Minnesota       3423  US-Canada Border  2019-06-01   \n",
       "1   Warroad  Minnesota       3423  US-Canada Border  2019-06-01   \n",
       "2   Warroad  Minnesota       3423  US-Canada Border  2019-06-01   \n",
       "3    Roseau  Minnesota       3426  US-Canada Border  2019-06-01   \n",
       "4    Roseau  Minnesota       3426  US-Canada Border  2019-06-01   \n",
       "\n",
       "                       Measure  Value  Year  Month                   position  \\\n",
       "0  Personal Vehicle Passengers  19459  2019      6    (48.905266, -95.314404)   \n",
       "1                  Pedestrians      2  2019      6    (48.905266, -95.314404)   \n",
       "2               Bus Passengers     63  2019      6    (48.905266, -95.314404)   \n",
       "3  Personal Vehicle Passengers   7385  2019      6  (48.7710371, -95.7697882)   \n",
       "4               Bus Passengers    118  2019      6  (48.7710371, -95.7697882)   \n",
       "\n",
       "     latitude    longitude  \n",
       "0   48.905266   -95.314404  \n",
       "1   48.905266   -95.314404  \n",
       "2   48.905266   -95.314404  \n",
       "3  48.7710371  -95.7697882  \n",
       "4  48.7710371  -95.7697882  "
      ]
     },
     "execution_count": 6,
     "metadata": {},
     "output_type": "execute_result"
    }
   ],
   "source": [
    "# Add lagitude and longitude\n",
    "# Create one dataFrame for persons and one only for traffic\n",
    "def getlat(x):\n",
    "    lat = x.partition(',')[0][1:]\n",
    "    if lat[0] == \"'\":\n",
    "        lat = lat[1:-1]\n",
    "    return lat\n",
    "\n",
    "def getlong(x):\n",
    "    lat = x.partition(',')[2]\n",
    "    if lat[1] == \"'\":\n",
    "        lat = lat[2:-2]\n",
    "    else:\n",
    "        lat = lat[1:-1]\n",
    "    return lat\n",
    "\n",
    "df['latitude'] = df['position'].apply(lambda x: getlat(x))\n",
    "df['longitude'] = df['position'].apply(lambda x: getlong(x))\n",
    "persons = df[df['Measure'].isin(['Bus Passengers','Pedestrians','Personal Vehicle Passengers','Train Passengers'])].reset_index().drop(columns=['index'])\n",
    "traffic = df[~df['Measure'].isin(['Bus Passengers','Pedestrians','Personal Vehicle Passengers','Train Passengers'])].reset_index().drop(columns=['index'])\n",
    "nozero = persons[persons['Value'] != 0]\n",
    "ports = df['Port Name'].unique()\n",
    "persons.head()"
   ]
  },
  {
   "cell_type": "markdown",
   "metadata": {},
   "source": [
    "Now that we have the data ready, we will work on regression."
   ]
  },
  {
   "cell_type": "markdown",
   "metadata": {},
   "source": [
    "# Logistic regression"
   ]
  },
  {
   "cell_type": "markdown",
   "metadata": {},
   "source": [
    "Let's define some functions in order to use them later on."
   ]
  },
  {
   "cell_type": "code",
   "execution_count": 7,
   "metadata": {},
   "outputs": [],
   "source": [
    "def logistic(X,y,baseRate):\n",
    "    X_train, X_test, y_train, y_test = train_test_split(X, y, test_size=0.2, random_state=42)\n",
    "    LR = LogisticRegressionCV(solver='lbfgs', cv=5, max_iter=1000)\n",
    "    LR.fit(X_train,y_train)\n",
    "    test_score = LR.score(X_test, y_test)\n",
    "    train_score = LR.score(X_train,y_train)\n",
    "    print(\"train_score :\",train_score,\"test_score =\",test_score)\n",
    "    return [train_score,test_score,confusion_matrix(y_train, LR.predict(X_train)),baseRate]\n",
    "\n",
    "def encodeOneHot(z,f,i):\n",
    "    test = z\n",
    "    baseRate = pd.qcut(test['Value'],q = i, duplicates = 'drop').value_counts()\n",
    "    print(\"Base rate :\",baseRate.max()/baseRate.sum())\n",
    "    print()\n",
    "    test['quant'] = pd.qcut(test['Value'],q = i, duplicates = 'drop')\n",
    "    print(i,\" intervals for y:\")\n",
    "    print(test['quant'].value_counts())\n",
    "    print()\n",
    "    le = LabelEncoder()\n",
    "    y = le.fit_transform(test[\"quant\"])\n",
    "    one_hot = OneHotEncoder(categories=\"auto\")\n",
    "    \n",
    "    categoricals = []\n",
    "    for feature in f:\n",
    "        if feature in ['Measure','State','Border']:\n",
    "            f.remove(feature)\n",
    "            categoricals.append(feature)\n",
    "            \n",
    "    cat_to_onehot = one_hot.fit_transform(test[categoricals]).toarray()\n",
    "    cat_to_onehot = pd.DataFrame(cat_to_onehot)\n",
    "    X = pd.concat((test[f],cat_to_onehot),axis=1)\n",
    "    return logistic(X,y,baseRate.max()/baseRate.sum())\n",
    "\n",
    "def  computeLogistic(dataset,ports,f,i):\n",
    "    if (len(f) == 0):\n",
    "        return\n",
    "    Zone = dataset[dataset['Port Name'].isin(ports)].reset_index(drop=True)\n",
    "    return encodeOneHot(Zone,f,i)\n"
   ]
  },
  {
   "cell_type": "markdown",
   "metadata": {},
   "source": [
    "We will now compute a logistic regression on all values (persons and ports), with all variables and 8 intervals"
   ]
  },
  {
   "cell_type": "code",
   "execution_count": 15,
   "metadata": {},
   "outputs": [
    {
     "name": "stdout",
     "output_type": "stream",
     "text": [
      "Base rate : 0.37606668331453275\n",
      "\n",
      "8  intervals for y:\n",
      "(-0.001, 11.0]          43673\n",
      "(62918.0, 4447374.0]    14516\n",
      "(6943.0, 62918.0]       14516\n",
      "(1193.0, 6943.0]        14516\n",
      "(156.0, 1193.0]         14503\n",
      "(11.0, 156.0]           14407\n",
      "Name: quant, dtype: int64\n",
      "\n",
      "train_score : 0.5315056402307758 test_score = 0.5317518405304172\n"
     ]
    }
   ],
   "source": [
    "#Logistic regression on persons with all variables\n",
    "persons_logistic = computeLogistic(persons,ports,['Measure','Port Code','Month','Year','State','latitude','longitude','Border'],8)"
   ]
  },
  {
   "cell_type": "markdown",
   "metadata": {},
   "source": [
    "We can see that the intervals are biaised, therefore the results are not relevant. \n",
    "\n",
    "As we have seen in our EDA, we'll take only non-null values."
   ]
  },
  {
   "cell_type": "markdown",
   "metadata": {},
   "source": [
    "## Find a good number of intervals"
   ]
  },
  {
   "cell_type": "markdown",
   "metadata": {},
   "source": [
    "We will test what is the best number of intervals to use for the logistic regression between 2 and 9."
   ]
  },
  {
   "cell_type": "code",
   "execution_count": 16,
   "metadata": {},
   "outputs": [
    {
     "name": "stdout",
     "output_type": "stream",
     "text": [
      "Base rate : 0.5000396699460489\n",
      "\n",
      "2  intervals for y:\n",
      "(0.999, 2394.0]        37815\n",
      "(2394.0, 4447374.0]    37809\n",
      "Name: quant, dtype: int64\n",
      "\n",
      "train_score : 0.811434899750409 test_score = 0.8111735537190082\n",
      "Base rate : 0.3335977996403258\n",
      "\n",
      "3  intervals for y:\n",
      "(0.999, 501.0]            25228\n",
      "(11238.333, 4447374.0]    25208\n",
      "(501.0, 11238.333]        25188\n",
      "Name: quant, dtype: int64\n",
      "\n",
      "train_score : 0.6941106464569662 test_score = 0.6981818181818182\n",
      "Base rate : 0.2500925632074474\n",
      "\n",
      "4  intervals for y:\n",
      "(0.999, 190.0]          18913\n",
      "(32053.0, 4447374.0]    18906\n",
      "(2394.0, 32053.0]       18903\n",
      "(190.0, 2394.0]         18902\n",
      "Name: quant, dtype: int64\n",
      "\n",
      "train_score : 0.5266863915106035 test_score = 0.5356033057851239\n",
      "Base rate : 0.20034645086216016\n",
      "\n",
      "5  intervals for y:\n",
      "(0.999, 103.0]          15151\n",
      "(57873.4, 4447374.0]    15125\n",
      "(6087.8, 57873.4]       15125\n",
      "(948.0, 6087.8]         15118\n",
      "(103.0, 948.0]          15105\n",
      "Name: quant, dtype: int64\n",
      "\n",
      "train_score : 0.5206532339377511 test_score = 0.5223140495867769\n",
      "Base rate : 0.16703691949645616\n",
      "\n",
      "6  intervals for y:\n",
      "(0.999, 68.0]           12632\n",
      "(84647.0, 4447374.0]    12604\n",
      "(11238.333, 84647.0]    12604\n",
      "(2394.0, 11238.333]     12601\n",
      "(68.0, 501.0]           12596\n",
      "(501.0, 2394.0]         12587\n",
      "Name: quant, dtype: int64\n",
      "\n",
      "train_score : 0.4656936478288897 test_score = 0.46664462809917356\n",
      "Base rate : 0.14404157410345922\n",
      "\n",
      "7  intervals for y:\n",
      "(0.999, 54.0]              10893\n",
      "(114406.857, 4447374.0]    10804\n",
      "(20888.857, 114406.857]    10803\n",
      "(4713.429, 20888.857]      10803\n",
      "(1243.0, 4713.429]         10802\n",
      "(288.0, 1243.0]            10788\n",
      "(54.0, 288.0]              10731\n",
      "Name: quant, dtype: int64\n",
      "\n",
      "train_score : 0.4099737185738607 test_score = 0.4141487603305785\n",
      "Base rate : 0.12650745794985718\n",
      "\n",
      "8  intervals for y:\n",
      "(0.999, 45.0]              9567\n",
      "(142958.375, 4447374.0]    9453\n",
      "(32053.0, 142958.375]      9453\n",
      "(7484.0, 32053.0]          9452\n",
      "(740.0, 2394.0]            9452\n",
      "(2394.0, 7484.0]           9451\n",
      "(190.0, 740.0]             9450\n",
      "(45.0, 190.0]              9346\n",
      "Name: quant, dtype: int64\n",
      "\n",
      "train_score : 0.3808823286335311 test_score = 0.38188429752066116\n",
      "Base rate : 0.11221305405691315\n",
      "\n",
      "9  intervals for y:\n",
      "(0.999, 39.0]              8486\n",
      "(173084.889, 4447374.0]    8403\n",
      "(45657.556, 173084.889]    8403\n",
      "(4075.778, 11238.333]      8403\n",
      "(11238.333, 45657.556]     8402\n",
      "(1437.0, 4075.778]         8398\n",
      "(140.0, 501.0]             8392\n",
      "(501.0, 1437.0]            8387\n",
      "(39.0, 140.0]              8350\n",
      "Name: quant, dtype: int64\n",
      "\n",
      "train_score : 0.3406667878807914 test_score = 0.3426776859504132\n"
     ]
    }
   ],
   "source": [
    "test = []\n",
    "for i in range(2,10):\n",
    "    test.append([i,computeLogistic(nozero,ports,['Measure','Port Code','State','latitude','longitude'],i)])"
   ]
  },
  {
   "cell_type": "code",
   "execution_count": 17,
   "metadata": {},
   "outputs": [
    {
     "name": "stdout",
     "output_type": "stream",
     "text": [
      "[[2, 0.811434899750409, 0.8111735537190082, 0.5000396699460489], [3, 0.6941106464569662, 0.6981818181818182, 0.3335977996403258], [4, 0.5266863915106035, 0.5356033057851239, 0.2500925632074474], [5, 0.5206532339377511, 0.5223140495867769, 0.20034645086216016], [6, 0.4656936478288897, 0.46664462809917356, 0.16703691949645616], [7, 0.4099737185738607, 0.4141487603305785, 0.14404157410345922], [8, 0.3808823286335311, 0.38188429752066116, 0.12650745794985718], [9, 0.3406667878807914, 0.3426776859504132, 0.11221305405691315]]\n"
     ]
    }
   ],
   "source": [
    "intervalls_testError = []\n",
    "for i in range(0,len(test)):\n",
    "    intervalls_testError.append([test[i][0],test[i][1][0],test[i][1][1],test[i][1][3]])\n",
    "print(intervalls_testError)"
   ]
  },
  {
   "cell_type": "code",
   "execution_count": 20,
   "metadata": {},
   "outputs": [
    {
     "data": {
      "text/html": [
       "<div>\n",
       "<style scoped>\n",
       "    .dataframe tbody tr th:only-of-type {\n",
       "        vertical-align: middle;\n",
       "    }\n",
       "\n",
       "    .dataframe tbody tr th {\n",
       "        vertical-align: top;\n",
       "    }\n",
       "\n",
       "    .dataframe thead th {\n",
       "        text-align: right;\n",
       "    }\n",
       "</style>\n",
       "<table border=\"1\" class=\"dataframe\">\n",
       "  <thead>\n",
       "    <tr style=\"text-align: right;\">\n",
       "      <th></th>\n",
       "      <th>intervals</th>\n",
       "      <th>train_error</th>\n",
       "      <th>testerror</th>\n",
       "      <th>baserate</th>\n",
       "      <th>diff</th>\n",
       "    </tr>\n",
       "  </thead>\n",
       "  <tbody>\n",
       "    <tr>\n",
       "      <td>0</td>\n",
       "      <td>2</td>\n",
       "      <td>0.811435</td>\n",
       "      <td>0.811174</td>\n",
       "      <td>0.500040</td>\n",
       "      <td>0.311134</td>\n",
       "    </tr>\n",
       "    <tr>\n",
       "      <td>1</td>\n",
       "      <td>3</td>\n",
       "      <td>0.694111</td>\n",
       "      <td>0.698182</td>\n",
       "      <td>0.333598</td>\n",
       "      <td>0.364584</td>\n",
       "    </tr>\n",
       "    <tr>\n",
       "      <td>2</td>\n",
       "      <td>4</td>\n",
       "      <td>0.526686</td>\n",
       "      <td>0.535603</td>\n",
       "      <td>0.250093</td>\n",
       "      <td>0.285511</td>\n",
       "    </tr>\n",
       "    <tr>\n",
       "      <td>3</td>\n",
       "      <td>5</td>\n",
       "      <td>0.520653</td>\n",
       "      <td>0.522314</td>\n",
       "      <td>0.200346</td>\n",
       "      <td>0.321968</td>\n",
       "    </tr>\n",
       "    <tr>\n",
       "      <td>4</td>\n",
       "      <td>6</td>\n",
       "      <td>0.465694</td>\n",
       "      <td>0.466645</td>\n",
       "      <td>0.167037</td>\n",
       "      <td>0.299608</td>\n",
       "    </tr>\n",
       "    <tr>\n",
       "      <td>5</td>\n",
       "      <td>7</td>\n",
       "      <td>0.409974</td>\n",
       "      <td>0.414149</td>\n",
       "      <td>0.144042</td>\n",
       "      <td>0.270107</td>\n",
       "    </tr>\n",
       "    <tr>\n",
       "      <td>6</td>\n",
       "      <td>8</td>\n",
       "      <td>0.380882</td>\n",
       "      <td>0.381884</td>\n",
       "      <td>0.126507</td>\n",
       "      <td>0.255377</td>\n",
       "    </tr>\n",
       "    <tr>\n",
       "      <td>7</td>\n",
       "      <td>9</td>\n",
       "      <td>0.340667</td>\n",
       "      <td>0.342678</td>\n",
       "      <td>0.112213</td>\n",
       "      <td>0.230465</td>\n",
       "    </tr>\n",
       "  </tbody>\n",
       "</table>\n",
       "</div>"
      ],
      "text/plain": [
       "   intervals  train_error  testerror  baserate      diff\n",
       "0          2     0.811435   0.811174  0.500040  0.311134\n",
       "1          3     0.694111   0.698182  0.333598  0.364584\n",
       "2          4     0.526686   0.535603  0.250093  0.285511\n",
       "3          5     0.520653   0.522314  0.200346  0.321968\n",
       "4          6     0.465694   0.466645  0.167037  0.299608\n",
       "5          7     0.409974   0.414149  0.144042  0.270107\n",
       "6          8     0.380882   0.381884  0.126507  0.255377\n",
       "7          9     0.340667   0.342678  0.112213  0.230465"
      ]
     },
     "execution_count": 20,
     "metadata": {},
     "output_type": "execute_result"
    }
   ],
   "source": [
    "intervalls_testError = pd.DataFrame(intervalls_testError)\n",
    "intervalls_testError = intervalls_testError.rename(columns={0:\"intervals\",1: \"train_error\",2:\"testerror\",3:\"baserate\"})\n",
    "intervalls_testError['diff'] = intervalls_testError['testerror']-intervalls_testError['baserate']\n",
    "intervalls_testError"
   ]
  },
  {
   "cell_type": "markdown",
   "metadata": {},
   "source": [
    "We will now plot our results on a graph to better visualise them."
   ]
  },
  {
   "cell_type": "code",
   "execution_count": 21,
   "metadata": {},
   "outputs": [
    {
     "data": {
      "text/plain": [
       "<matplotlib.axes._subplots.AxesSubplot at 0x296bfaa5668>"
      ]
     },
     "execution_count": 21,
     "metadata": {},
     "output_type": "execute_result"
    },
    {
     "data": {
      "image/png": "[encoded data removed]",
      "text/plain": [
       "<Figure size 432x288 with 1 Axes>"
      ]
     },
     "metadata": {
      "needs_background": "light"
     },
     "output_type": "display_data"
    }
   ],
   "source": [
    "intervalls_testError.plot(x=\"intervals\", y=[\"baserate\",\"testerror\",\"diff\"])"
   ]
  },
  {
   "cell_type": "markdown",
   "metadata": {},
   "source": [
    "We can see that 5 intervals is a good compromise between performance and sufficient number of observations in each interval."
   ]
  },
  {
   "cell_type": "markdown",
   "metadata": {},
   "source": [
    "## Find the best combinations of parameters"
   ]
  },
  {
   "cell_type": "markdown",
   "metadata": {},
   "source": [
    "Now that we know using 5 intervals gives us the best results we have to find what parameters give us the best prediction."
   ]
  },
  {
   "cell_type": "code",
   "execution_count": 22,
   "metadata": {},
   "outputs": [
    {
     "name": "stdout",
     "output_type": "stream",
     "text": [
      "Base rate : 0.20034645086216016\n",
      "\n",
      "5  intervals for y:\n",
      "(0.999, 103.0]          15151\n",
      "(57873.4, 4447374.0]    15125\n",
      "(6087.8, 57873.4]       15125\n",
      "(948.0, 6087.8]         15118\n",
      "(103.0, 948.0]          15105\n",
      "Name: quant, dtype: int64\n",
      "\n",
      "train_score : 0.36977470701995074 test_score = 0.3703801652892562\n"
     ]
    }
   ],
   "source": [
    "L1 = computeLogistic(nozero,ports,['Measure'],5)"
   ]
  },
  {
   "cell_type": "code",
   "execution_count": 23,
   "metadata": {
    "scrolled": true
   },
   "outputs": [
    {
     "name": "stdout",
     "output_type": "stream",
     "text": [
      "Base rate : 0.20034645086216016\n",
      "\n",
      "5  intervals for y:\n",
      "(0.999, 103.0]          15151\n",
      "(57873.4, 4447374.0]    15125\n",
      "(6087.8, 57873.4]       15125\n",
      "(948.0, 6087.8]         15118\n",
      "(103.0, 948.0]          15105\n",
      "Name: quant, dtype: int64\n",
      "\n",
      "train_score : 0.245888361791104 test_score = 0.23735537190082645\n"
     ]
    }
   ],
   "source": [
    "L2 = computeLogistic(nozero,ports,['Port Code'],5)"
   ]
  },
  {
   "cell_type": "code",
   "execution_count": 24,
   "metadata": {},
   "outputs": [
    {
     "name": "stdout",
     "output_type": "stream",
     "text": [
      "Base rate : 0.20034645086216016\n",
      "\n",
      "5  intervals for y:\n",
      "(0.999, 103.0]          15151\n",
      "(57873.4, 4447374.0]    15125\n",
      "(6087.8, 57873.4]       15125\n",
      "(948.0, 6087.8]         15118\n",
      "(103.0, 948.0]          15105\n",
      "Name: quant, dtype: int64\n",
      "\n",
      "train_score : 0.44321393742045323 test_score = 0.4446280991735537\n"
     ]
    }
   ],
   "source": [
    "L3 = computeLogistic(nozero,ports,['Measure','Port Code'],5)"
   ]
  },
  {
   "cell_type": "code",
   "execution_count": 25,
   "metadata": {},
   "outputs": [
    {
     "name": "stdout",
     "output_type": "stream",
     "text": [
      "Base rate : 0.20034645086216016\n",
      "\n",
      "5  intervals for y:\n",
      "(0.999, 103.0]          15151\n",
      "(57873.4, 4447374.0]    15125\n",
      "(6087.8, 57873.4]       15125\n",
      "(948.0, 6087.8]         15118\n",
      "(103.0, 948.0]          15105\n",
      "Name: quant, dtype: int64\n",
      "\n",
      "train_score : 0.4428998826426883 test_score = 0.44436363636363635\n"
     ]
    }
   ],
   "source": [
    "L4 = computeLogistic(nozero,ports,['Measure','Port Code','Month'],5)"
   ]
  },
  {
   "cell_type": "code",
   "execution_count": 57,
   "metadata": {},
   "outputs": [
    {
     "name": "stdout",
     "output_type": "stream",
     "text": [
      "Base rate : 0.20034645086216016\n",
      "\n",
      "intervalls for y:\n",
      "(0.999, 103.0]          15151\n",
      "(57873.4, 4447374.0]    15125\n",
      "(6087.8, 57873.4]       15125\n",
      "(948.0, 6087.8]         15118\n",
      "(103.0, 948.0]          15105\n",
      "Name: quant, dtype: int64\n",
      "\n",
      "train_score : 0.45207358799319 test_score = 0.45269421487603306\n"
     ]
    }
   ],
   "source": [
    "L5 = computeLogistic(nozero,ports,['Measure','Port Code','Year'],5)\n"
   ]
  },
  {
   "cell_type": "code",
   "execution_count": 26,
   "metadata": {},
   "outputs": [
    {
     "name": "stdout",
     "output_type": "stream",
     "text": [
      "Base rate : 0.20034645086216016\n",
      "\n",
      "5  intervals for y:\n",
      "(0.999, 103.0]          15151\n",
      "(57873.4, 4447374.0]    15125\n",
      "(6087.8, 57873.4]       15125\n",
      "(948.0, 6087.8]         15118\n",
      "(103.0, 948.0]          15105\n",
      "Name: quant, dtype: int64\n",
      "\n",
      "train_score : 0.4442222185490669 test_score = 0.44469421487603306\n"
     ]
    }
   ],
   "source": [
    "L6 = computeLogistic(nozero,ports,['Measure','Port Code','Year','Month'],5)"
   ]
  },
  {
   "cell_type": "code",
   "execution_count": 27,
   "metadata": {},
   "outputs": [
    {
     "name": "stdout",
     "output_type": "stream",
     "text": [
      "Base rate : 0.20034645086216016\n",
      "\n",
      "5  intervals for y:\n",
      "(0.999, 103.0]          15151\n",
      "(57873.4, 4447374.0]    15125\n",
      "(6087.8, 57873.4]       15125\n",
      "(948.0, 6087.8]         15118\n",
      "(103.0, 948.0]          15105\n",
      "Name: quant, dtype: int64\n",
      "\n",
      "train_score : 0.5137770872245823 test_score = 0.5170247933884298\n"
     ]
    }
   ],
   "source": [
    "L7 = computeLogistic(nozero,ports,['Measure','Port Code','State'],5)"
   ]
  },
  {
   "cell_type": "code",
   "execution_count": 28,
   "metadata": {},
   "outputs": [
    {
     "name": "stdout",
     "output_type": "stream",
     "text": [
      "Base rate : 0.20034645086216016\n",
      "\n",
      "5  intervals for y:\n",
      "(0.999, 103.0]          15151\n",
      "(57873.4, 4447374.0]    15125\n",
      "(6087.8, 57873.4]       15125\n",
      "(948.0, 6087.8]         15118\n",
      "(103.0, 948.0]          15105\n",
      "Name: quant, dtype: int64\n",
      "\n",
      "train_score : 0.5386700606621597 test_score = 0.5434710743801653\n"
     ]
    }
   ],
   "source": [
    "L8 = computeLogistic(nozero,ports,['Measure','Port Code','State','latitude'],5)"
   ]
  },
  {
   "cell_type": "code",
   "execution_count": 61,
   "metadata": {},
   "outputs": [
    {
     "name": "stdout",
     "output_type": "stream",
     "text": [
      "Base rate : 0.20034645086216016\n",
      "\n",
      "intervalls for y:\n",
      "(0.999, 103.0]          15151\n",
      "(57873.4, 4447374.0]    15125\n",
      "(6087.8, 57873.4]       15125\n",
      "(948.0, 6087.8]         15118\n",
      "(103.0, 948.0]          15105\n",
      "Name: quant, dtype: int64\n",
      "\n",
      "train_score : 0.5242731284814625 test_score = 0.5268099173553719\n"
     ]
    }
   ],
   "source": [
    "L9 = computeLogistic(nozero,ports,['Measure','Port Code','State','latitude','longitude'],5)"
   ]
  },
  {
   "cell_type": "code",
   "execution_count": 8,
   "metadata": {},
   "outputs": [
    {
     "name": "stdout",
     "output_type": "stream",
     "text": [
      "Base rate : 0.20034645086216016\n",
      "\n",
      "5  intervals for y:\n",
      "(0.999, 103.0]          15151\n",
      "(57873.4, 4447374.0]    15125\n",
      "(6087.8, 57873.4]       15125\n",
      "(948.0, 6087.8]         15118\n",
      "(103.0, 948.0]          15105\n",
      "Name: quant, dtype: int64\n",
      "\n",
      "train_score : 0.5220582158382783 test_score = 0.523900826446281\n"
     ]
    }
   ],
   "source": [
    "L10 = computeLogistic(nozero,ports,['Measure','Port Code','State','latitude','longitude','Border'],5)"
   ]
  },
  {
   "cell_type": "code",
   "execution_count": 30,
   "metadata": {},
   "outputs": [
    {
     "name": "stdout",
     "output_type": "stream",
     "text": [
      "Base rate : 0.20034645086216016\n",
      "\n",
      "5  intervals for y:\n",
      "(0.999, 103.0]          15151\n",
      "(57873.4, 4447374.0]    15125\n",
      "(6087.8, 57873.4]       15125\n",
      "(948.0, 6087.8]         15118\n",
      "(103.0, 948.0]          15105\n",
      "Name: quant, dtype: int64\n",
      "\n",
      "train_score : 0.5258434023702871 test_score = 0.5284628099173554\n"
     ]
    }
   ],
   "source": [
    "L11 = computeLogistic(nozero,ports,['Measure','Port Code','State','Year','latitude','longitude'],5)"
   ]
  },
  {
   "cell_type": "markdown",
   "metadata": {},
   "source": [
    "The best combinations (L10) of parameters are ['Measure','Port Code','State','latitude','longitude','Border'] for a test score of 0.53\n"
   ]
  },
  {
   "cell_type": "code",
   "execution_count": 33,
   "metadata": {},
   "outputs": [
    {
     "name": "stdout",
     "output_type": "stream",
     "text": [
      "Base rate : 0.20034645086216016\n",
      "\n",
      "5  intervals for y:\n",
      "(0.999, 103.0]          15151\n",
      "(57873.4, 4447374.0]    15125\n",
      "(6087.8, 57873.4]       15125\n",
      "(948.0, 6087.8]         15118\n",
      "(103.0, 948.0]          15105\n",
      "Name: quant, dtype: int64\n",
      "\n",
      "train_score : 0.52071935073307 test_score = 0.5302479338842975\n"
     ]
    }
   ],
   "source": [
    "L12 = computeLogistic(nozero.sort_values(by=['Date']).reset_index(drop=True),ports,['Measure','Port Code','State','latitude','longitude','Border'],5)"
   ]
  },
  {
   "cell_type": "markdown",
   "metadata": {},
   "source": [
    "Sorting the values by Date that doesn't help to improve our test score."
   ]
  },
  {
   "cell_type": "markdown",
   "metadata": {},
   "source": [
    "We now plot the confusion matrix for L10:"
   ]
  },
  {
   "cell_type": "code",
   "execution_count": 9,
   "metadata": {},
   "outputs": [
    {
     "data": {
      "text/plain": [
       "array([[ 9006,  2688,   107,   137,   127],\n",
       "       [ 4170,  5078,  1654,   770,   423],\n",
       "       [ 2828,  1734,  4206,  1206,  2178],\n",
       "       [  894,   821,  3616,  2723,  4067],\n",
       "       [   39,   125,   451,   880, 10571]], dtype=int64)"
      ]
     },
     "execution_count": 9,
     "metadata": {},
     "output_type": "execute_result"
    }
   ],
   "source": [
    "#Plot the confusion matrix for l10\n",
    "L10[2]"
   ]
  },
  {
   "cell_type": "markdown",
   "metadata": {},
   "source": [
    "## Logistic regression on ports"
   ]
  },
  {
   "cell_type": "markdown",
   "metadata": {},
   "source": [
    "Let's now perform a logistic regression on a single port at a time. In order to make sure we have enough data for the regression, we will only keep the port which have 800 or more values not equal to 0."
   ]
  },
  {
   "cell_type": "code",
   "execution_count": 21,
   "metadata": {},
   "outputs": [
    {
     "name": "stdout",
     "output_type": "stream",
     "text": [
      "Base rate : 0.20039486673247778\n",
      "\n",
      "5  intervals for y:\n",
      "(14014.0, 49762.0]    203\n",
      "(500.8, 1297.6]       203\n",
      "(0.999, 88.4]         203\n",
      "(1297.6, 14014.0]     202\n",
      "(88.4, 500.8]         202\n",
      "Name: quant, dtype: int64\n",
      "\n",
      "train_score : 0.6851851851851852 test_score = 0.6699507389162561\n",
      "Base rate : 0.2\n",
      "\n",
      "5  intervals for y:\n",
      "(650030.8, 2473401.0]    173\n",
      "(74705.0, 650030.8]      173\n",
      "(16619.6, 74705.0]       173\n",
      "(917.4, 16619.6]         173\n",
      "(359.999, 917.4]         173\n",
      "Name: quant, dtype: int64\n",
      "\n",
      "train_score : 0.8063583815028902 test_score = 0.8034682080924855\n",
      "Base rate : 0.2\n",
      "\n",
      "5  intervals for y:\n",
      "(110083.2, 307761.0]    224\n",
      "(4109.4, 110083.2]      224\n",
      "(2459.4, 4109.4]        224\n",
      "(305.4, 2459.4]         224\n",
      "(2.999, 305.4]          224\n",
      "Name: quant, dtype: int64\n",
      "\n",
      "train_score : 0.625 test_score = 0.6383928571428571\n",
      "Base rate : 0.200734394124847\n",
      "\n",
      "5  intervals for y:\n",
      "(118028.4, 1507021.0]    164\n",
      "(1465.6, 2250.0]         164\n",
      "(3.999, 939.2]           164\n",
      "(939.2, 1465.6]          163\n",
      "(2250.0, 118028.4]       162\n",
      "Name: quant, dtype: int64\n",
      "\n",
      "train_score : 0.45329249617151607 test_score = 0.3780487804878049\n",
      "Base rate : 0.20169082125603865\n",
      "\n",
      "5  intervals for y:\n",
      "(1.999, 81.0]         167\n",
      "(34216.6, 90973.0]    166\n",
      "(472.8, 1986.4]       166\n",
      "(1986.4, 34216.6]     165\n",
      "(81.0, 472.8]         164\n",
      "Name: quant, dtype: int64\n",
      "\n",
      "train_score : 0.6329305135951662 test_score = 0.5903614457831325\n",
      "Base rate : 0.2018348623853211\n",
      "\n",
      "5  intervals for y:\n",
      "(18.0, 45.0]         198\n",
      "(0.999, 18.0]        197\n",
      "(5934.0, 24225.0]    196\n",
      "(174.0, 5934.0]      196\n",
      "(45.0, 174.0]        194\n",
      "Name: quant, dtype: int64\n",
      "\n",
      "train_score : 0.6135204081632653 test_score = 0.583756345177665\n",
      "Base rate : 0.20047449584816132\n",
      "\n",
      "5  intervals for y:\n",
      "(6716.6, 12796.0]    169\n",
      "(154.0, 462.0]       169\n",
      "(15.4, 154.0]        169\n",
      "(0.999, 15.4]        169\n",
      "(462.0, 6716.6]      167\n",
      "Name: quant, dtype: int64\n",
      "\n",
      "train_score : 0.712166172106825 test_score = 0.7337278106508875\n",
      "Base rate : 0.20103092783505155\n",
      "\n",
      "5  intervals for y:\n",
      "(109.999, 3061.0]        195\n",
      "(507620.0, 1208445.0]    194\n",
      "(30249.0, 507620.0]      194\n",
      "(9302.4, 30249.0]        194\n",
      "(3061.0, 9302.4]         193\n",
      "Name: quant, dtype: int64\n",
      "\n",
      "train_score : 0.7139175257731959 test_score = 0.654639175257732\n",
      "Base rate : 0.20217391304347826\n",
      "\n",
      "5  intervals for y:\n",
      "(0.999, 34.0]         186\n",
      "(16045.8, 45092.0]    184\n",
      "(524.4, 16045.8]      184\n",
      "(34.0, 75.0]          184\n",
      "(75.0, 524.4]         182\n",
      "Name: quant, dtype: int64\n",
      "\n",
      "train_score : 0.6032608695652174 test_score = 0.625\n",
      "Base rate : 0.20235546038543897\n",
      "\n",
      "5  intervals for y:\n",
      "(0.999, 33.0]        189\n",
      "(7797.2, 37884.0]    187\n",
      "(33.0, 54.0]         187\n",
      "(106.0, 7797.2]      186\n",
      "(54.0, 106.0]        185\n",
      "Name: quant, dtype: int64\n",
      "\n",
      "train_score : 0.6947791164658634 test_score = 0.6417112299465241\n",
      "Base rate : 0.21192758253461128\n",
      "\n",
      "5  intervals for y:\n",
      "(1.999, 56.0]          199\n",
      "(62708.8, 194875.0]    188\n",
      "(8202.0, 62708.8]      188\n",
      "(70.2, 8202.0]         187\n",
      "(56.0, 70.2]           177\n",
      "Name: quant, dtype: int64\n",
      "\n",
      "train_score : 0.7057256990679095 test_score = 0.7127659574468085\n",
      "Base rate : 0.2007125890736342\n",
      "\n",
      "5  intervals for y:\n",
      "(88774.0, 286101.0]    169\n",
      "(2.999, 509.2]         169\n",
      "(7412.2, 88774.0]      168\n",
      "(3050.8, 7412.2]       168\n",
      "(509.2, 3050.8]        168\n",
      "Name: quant, dtype: int64\n",
      "\n",
      "train_score : 0.787518573551263 test_score = 0.7455621301775148\n",
      "Base rate : 0.20070838252656434\n",
      "\n",
      "5  intervals for y:\n",
      "(141409.4, 443797.0]    170\n",
      "(132.999, 3269.4]       170\n",
      "(33269.4, 141409.4]     169\n",
      "(19767.4, 33269.4]      169\n",
      "(3269.4, 19767.4]       169\n",
      "Name: quant, dtype: int64\n",
      "\n",
      "train_score : 0.8183161004431314 test_score = 0.7941176470588235\n",
      "Base rate : 0.20449438202247192\n",
      "\n",
      "5  intervals for y:\n",
      "(0.999, 350.0]          182\n",
      "(126540.6, 305945.0]    178\n",
      "(6329.8, 126540.6]      178\n",
      "(1245.0, 6329.8]        177\n",
      "(350.0, 1245.0]         175\n",
      "Name: quant, dtype: int64\n",
      "\n",
      "train_score : 0.776685393258427 test_score = 0.7696629213483146\n",
      "Base rate : 0.2\n",
      "\n",
      "5  intervals for y:\n",
      "(988571.4, 2024496.0]    169\n",
      "(406080.2, 988571.4]     169\n",
      "(277004.6, 406080.2]     169\n",
      "(70506.2, 277004.6]      169\n",
      "(13910.999, 70506.2]     169\n",
      "Name: quant, dtype: int64\n",
      "\n",
      "train_score : 0.7189349112426036 test_score = 0.7692307692307693\n",
      "Base rate : 0.20094562647754138\n",
      "\n",
      "5  intervals for y:\n",
      "(1749.999, 44340.0]      170\n",
      "(943719.0, 2805201.0]    169\n",
      "(207469.0, 943719.0]     169\n",
      "(161314.0, 207469.0]     169\n",
      "(44340.0, 161314.0]      169\n",
      "Name: quant, dtype: int64\n",
      "\n",
      "train_score : 0.834319526627219 test_score = 0.7764705882352941\n",
      "Base rate : 0.20039100684261973\n",
      "\n",
      "5  intervals for y:\n",
      "(1629945.4, 4447374.0]    205\n",
      "(36076.2, 595876.2]       205\n",
      "(0.999, 9551.4]           205\n",
      "(595876.2, 1629945.4]     204\n",
      "(9551.4, 36076.2]         204\n",
      "Name: quant, dtype: int64\n",
      "\n",
      "train_score : 0.7457212713936431 test_score = 0.7219512195121951\n",
      "Base rate : 0.20159680638722555\n",
      "\n",
      "5  intervals for y:\n",
      "(56.999, 612.0]         202\n",
      "(472493.0, 929284.0]    201\n",
      "(61310.2, 472493.0]     200\n",
      "(2884.4, 61310.2]       200\n",
      "(612.0, 2884.4]         199\n",
      "Name: quant, dtype: int64\n",
      "\n",
      "train_score : 0.787765293383271 test_score = 0.7810945273631841\n",
      "Base rate : 0.2007042253521127\n",
      "\n",
      "5  intervals for y:\n",
      "(888526.8, 1768766.0]    171\n",
      "(76.999, 5120.6]         171\n",
      "(270732.4, 888526.8]     170\n",
      "(192063.0, 270732.4]     170\n",
      "(5120.6, 192063.0]       170\n",
      "Name: quant, dtype: int64\n",
      "\n",
      "train_score : 0.7870778267254038 test_score = 0.7953216374269005\n",
      "Base rate : 0.21271393643031786\n",
      "\n",
      "5  intervals for y:\n",
      "(69.0, 104.0]         174\n",
      "(1.999, 69.0]         165\n",
      "(24543.8, 78621.0]    164\n",
      "(208.2, 24543.8]      163\n",
      "(104.0, 208.2]        152\n",
      "Name: quant, dtype: int64\n",
      "\n",
      "train_score : 0.6207951070336392 test_score = 0.6402439024390244\n",
      "Base rate : 0.20217917675544794\n",
      "\n",
      "5  intervals for y:\n",
      "(0.999, 21.0]           167\n",
      "(145412.0, 371405.0]    165\n",
      "(7202.0, 145412.0]      165\n",
      "(2470.0, 7202.0]        165\n",
      "(21.0, 2470.0]          164\n",
      "Name: quant, dtype: int64\n",
      "\n",
      "train_score : 0.7257575757575757 test_score = 0.6746987951807228\n",
      "Base rate : 0.20089686098654708\n",
      "\n",
      "5  intervals for y:\n",
      "(3.999, 304.0]          224\n",
      "(146493.8, 550685.0]    223\n",
      "(22781.6, 146493.8]     223\n",
      "(3135.6, 22781.6]       223\n",
      "(304.0, 3135.6]         222\n",
      "Name: quant, dtype: int64\n",
      "\n",
      "train_score : 0.7006726457399103 test_score = 0.7130044843049327\n",
      "Base rate : 0.20035460992907803\n",
      "\n",
      "5  intervals for y:\n",
      "(822124.4, 2523598.0]    226\n",
      "(24471.4, 68399.8]       226\n",
      "(362.999, 3538.4]        226\n",
      "(68399.8, 822124.4]      225\n",
      "(3538.4, 24471.4]        225\n",
      "Name: quant, dtype: int64\n",
      "\n",
      "train_score : 0.7150776053215078 test_score = 0.672566371681416\n",
      "Base rate : 0.20074812967581046\n",
      "\n",
      "5  intervals for y:\n",
      "(68957.6, 156527.0]    161\n",
      "(0.999, 215.4]         161\n",
      "(9785.0, 68957.6]      160\n",
      "(1023.8, 9785.0]       160\n",
      "(215.4, 1023.8]        160\n",
      "Name: quant, dtype: int64\n",
      "\n",
      "train_score : 0.516380655226209 test_score = 0.5031055900621118\n",
      "Base rate : 0.2017220172201722\n",
      "\n",
      "5  intervals for y:\n",
      "(9.999, 1524.0]        164\n",
      "(60614.8, 148151.0]    163\n",
      "(16137.8, 24376.0]     163\n",
      "(24376.0, 60614.8]     162\n",
      "(1524.0, 16137.8]      161\n",
      "Name: quant, dtype: int64\n",
      "\n",
      "train_score : 0.6276923076923077 test_score = 0.6257668711656442\n",
      "Base rate : 0.20212765957446807\n",
      "\n",
      "5  intervals for y:\n",
      "(381.0, 495.0]        228\n",
      "(43.999, 381.0]       227\n",
      "(10714.4, 41536.0]    226\n",
      "(727.4, 10714.4]      225\n",
      "(495.0, 727.4]        222\n",
      "Name: quant, dtype: int64\n",
      "\n",
      "train_score : 0.5432372505543237 test_score = 0.5442477876106194\n",
      "Base rate : 0.201246660730187\n",
      "\n",
      "5  intervals for y:\n",
      "(18.999, 562.0]        226\n",
      "(54103.2, 217294.0]    225\n",
      "(711.8, 1528.2]        225\n",
      "(1528.2, 54103.2]      224\n",
      "(562.0, 711.8]         223\n",
      "Name: quant, dtype: int64\n",
      "\n",
      "train_score : 0.6224944320712695 test_score = 0.6266666666666667\n",
      "Base rate : 0.20047449584816132\n",
      "\n",
      "5  intervals for y:\n",
      "(273003.4, 787244.0]    169\n",
      "(52237.8, 92570.0]      169\n",
      "(269.999, 1758.4]       169\n",
      "(92570.0, 273003.4]     168\n",
      "(1758.4, 52237.8]       168\n",
      "Name: quant, dtype: int64\n",
      "\n",
      "train_score : 0.7195845697329377 test_score = 0.6982248520710059\n",
      "Base rate : 0.2011904761904762\n",
      "\n",
      "5  intervals for y:\n",
      "(27.999, 858.0]        169\n",
      "(76690.4, 159352.0]    168\n",
      "(8953.0, 76690.4]      168\n",
      "(4229.4, 8953.0]       168\n",
      "(858.0, 4229.4]        167\n",
      "Name: quant, dtype: int64\n",
      "\n",
      "train_score : 0.6309523809523809 test_score = 0.5952380952380952\n",
      "Base rate : 0.20222634508348794\n",
      "\n",
      "5  intervals for y:\n",
      "(9.999, 300.0]           218\n",
      "(611223.4, 1895352.0]    216\n",
      "(15157.8, 353870.0]      216\n",
      "(353870.0, 611223.4]     215\n",
      "(300.0, 15157.8]         213\n",
      "Name: quant, dtype: int64\n",
      "\n"
     ]
    },
    {
     "name": "stdout",
     "output_type": "stream",
     "text": [
      "train_score : 0.7679814385150812 test_score = 0.8055555555555556\n",
      "Base rate : 0.20024721878862795\n",
      "\n",
      "5  intervals for y:\n",
      "(460055.6, 797199.0]    162\n",
      "(259895.8, 460055.6]    162\n",
      "(101.6, 180451.6]       162\n",
      "(0.999, 101.6]          162\n",
      "(180451.6, 259895.8]    161\n",
      "Name: quant, dtype: int64\n",
      "\n",
      "train_score : 0.5873261205564142 test_score = 0.6111111111111112\n",
      "Base rate : 0.20884289746001883\n",
      "\n",
      "5  intervals for y:\n",
      "(15.999, 133.0]         222\n",
      "(459547.4, 898363.0]    213\n",
      "(983.2, 8768.0]         213\n",
      "(8768.0, 459547.4]      212\n",
      "(133.0, 983.2]          203\n",
      "Name: quant, dtype: int64\n",
      "\n",
      "train_score : 0.6517647058823529 test_score = 0.6572769953051644\n",
      "Base rate : 0.21422222222222223\n",
      "\n",
      "5  intervals for y:\n",
      "(5.999, 42.0]            241\n",
      "(686050.8, 1252553.0]    225\n",
      "(127240.2, 686050.8]     225\n",
      "(18992.2, 127240.2]      225\n",
      "(42.0, 18992.2]          209\n",
      "Name: quant, dtype: int64\n",
      "\n",
      "train_score : 0.8066666666666666 test_score = 0.7955555555555556\n",
      "Base rate : 0.20024875621890548\n",
      "\n",
      "5  intervals for y:\n",
      "(2097779.0, 3755585.0]    161\n",
      "(744292.8, 2097779.0]     161\n",
      "(69681.0, 569282.0]       161\n",
      "(3738.999, 69681.0]       161\n",
      "(569282.0, 744292.8]      160\n",
      "Name: quant, dtype: int64\n",
      "\n",
      "train_score : 0.7636080870917574 test_score = 0.7142857142857143\n",
      "Base rate : 0.20062047569803515\n",
      "\n",
      "5  intervals for y:\n",
      "(146798.0, 342450.0]    194\n",
      "(0.999, 374.6]          194\n",
      "(47149.8, 146798.0]     193\n",
      "(1049.6, 47149.8]       193\n",
      "(374.6, 1049.6]         193\n",
      "Name: quant, dtype: int64\n",
      "\n",
      "train_score : 0.7438551099611902 test_score = 0.7577319587628866\n",
      "Base rate : 0.20216606498194944\n",
      "\n",
      "5  intervals for y:\n",
      "(0.999, 160.0]       224\n",
      "(9260.2, 54394.0]    222\n",
      "(205.8, 414.0]       222\n",
      "(414.0, 9260.2]      221\n",
      "(160.0, 205.8]       219\n",
      "Name: quant, dtype: int64\n",
      "\n",
      "train_score : 0.5677200902934537 test_score = 0.5585585585585585\n",
      "Base rate : 0.20059288537549408\n",
      "\n",
      "5  intervals for y:\n",
      "(113415.0, 394999.0]    203\n",
      "(1057.4, 2910.0]        203\n",
      "(3.999, 237.6]          203\n",
      "(237.6, 1057.4]         202\n",
      "(2910.0, 113415.0]      201\n",
      "Name: quant, dtype: int64\n",
      "\n",
      "train_score : 0.6007416563658838 test_score = 0.5517241379310345\n",
      "Base rate : 0.20454545454545456\n",
      "\n",
      "5  intervals for y:\n",
      "(0.999, 24.0]          171\n",
      "(50567.0, 164064.0]    167\n",
      "(1068.0, 50567.0]      167\n",
      "(345.0, 1068.0]        167\n",
      "(24.0, 345.0]          164\n",
      "Name: quant, dtype: int64\n",
      "\n",
      "train_score : 0.6407185628742516 test_score = 0.6607142857142857\n",
      "Base rate : 0.2077338129496403\n",
      "\n",
      "5  intervals for y:\n",
      "(0.999, 36.0]          231\n",
      "(13393.6, 122250.0]    223\n",
      "(443.6, 13393.6]       222\n",
      "(88.4, 443.6]          222\n",
      "(36.0, 88.4]           214\n",
      "Name: quant, dtype: int64\n",
      "\n",
      "train_score : 0.5815523059617548 test_score = 0.672645739910314\n",
      "Base rate : 0.20216606498194944\n",
      "\n",
      "5  intervals for y:\n",
      "(84.0, 220.0]          168\n",
      "(0.999, 84.0]          167\n",
      "(77015.0, 180613.0]    166\n",
      "(1110.0, 77015.0]      166\n",
      "(220.0, 1110.0]        164\n",
      "Name: quant, dtype: int64\n",
      "\n",
      "train_score : 0.6370481927710844 test_score = 0.6047904191616766\n",
      "Base rate : 0.20504731861198738\n",
      "\n",
      "5  intervals for y:\n",
      "(42.0, 75.0]          195\n",
      "(0.999, 42.0]         193\n",
      "(30335.0, 89650.0]    190\n",
      "(252.0, 30335.0]      190\n",
      "(75.0, 252.0]         183\n",
      "Name: quant, dtype: int64\n",
      "\n",
      "train_score : 0.45263157894736844 test_score = 0.4397905759162304\n",
      "Base rate : 0.20588235294117646\n",
      "\n",
      "5  intervals for y:\n",
      "(28.4, 48.0]         189\n",
      "(76.2, 5599.0]       184\n",
      "(0.999, 28.4]        184\n",
      "(5599.0, 35176.0]    183\n",
      "(48.0, 76.2]         178\n",
      "Name: quant, dtype: int64\n",
      "\n",
      "train_score : 0.6008174386920981 test_score = 0.5597826086956522\n",
      "Base rate : 0.2013888888888889\n",
      "\n",
      "5  intervals for y:\n",
      "(43.999, 1239.0]        174\n",
      "(289806.0, 922461.0]    173\n",
      "(10509.8, 289806.0]     173\n",
      "(4505.2, 10509.8]       172\n",
      "(1239.0, 4505.2]        172\n",
      "Name: quant, dtype: int64\n",
      "\n",
      "train_score : 0.7221418234442837 test_score = 0.7109826589595376\n",
      "Base rate : 0.21445497630331753\n",
      "\n",
      "5  intervals for y:\n",
      "(26.999, 93.0]          181\n",
      "(130785.6, 709612.0]    169\n",
      "(12816.0, 130785.6]     169\n",
      "(3081.4, 12816.0]       168\n",
      "(93.0, 3081.4]          157\n",
      "Name: quant, dtype: int64\n",
      "\n",
      "train_score : 0.6814814814814815 test_score = 0.7100591715976331\n",
      "Base rate : 0.20092592592592592\n",
      "\n",
      "5  intervals for y:\n",
      "(196.0, 466.0]        217\n",
      "(75.8, 196.0]         217\n",
      "(23658.0, 52956.0]    216\n",
      "(0.999, 75.8]         216\n",
      "(466.0, 23658.0]      214\n",
      "Name: quant, dtype: int64\n",
      "\n",
      "train_score : 0.5243055555555556 test_score = 0.5509259259259259\n",
      "Base rate : 0.2008888888888889\n",
      "\n",
      "5  intervals for y:\n",
      "(0.999, 165.0]         226\n",
      "(33265.2, 106348.0]    225\n",
      "(933.4, 33265.2]       225\n",
      "(275.8, 933.4]         225\n",
      "(165.0, 275.8]         224\n",
      "Name: quant, dtype: int64\n",
      "\n",
      "train_score : 0.6688888888888889 test_score = 0.6711111111111111\n",
      "Base rate : 0.2\n",
      "\n",
      "5  intervals for y:\n",
      "(17839.8, 59961.0]    166\n",
      "(595.8, 17839.8]      166\n",
      "(148.6, 595.8]        166\n",
      "(52.8, 148.6]         166\n",
      "(0.999, 52.8]         166\n",
      "Name: quant, dtype: int64\n",
      "\n",
      "train_score : 0.6400602409638554 test_score = 0.6024096385542169\n"
     ]
    }
   ],
   "source": [
    "#We create a list of \"goods\" port : these port will have more than 800 values not equal to 0.\n",
    "error_port= []\n",
    "for port in ports:\n",
    "    if (nozero[(nozero['Port Name'] == port)].shape[0]>800):\n",
    "        error_port.append([port,computeLogistic(nozero,[port],['Measure','Port Code','State','latitude','Year','Month','longitude','Border'],5)])"
   ]
  },
  {
   "cell_type": "code",
   "execution_count": 23,
   "metadata": {},
   "outputs": [],
   "source": [
    "port_localisation = []\n",
    "for i in range(0,len(error_port)):\n",
    "    port_localisation.append([error_port[i][0],error_port[i][1][0],error_port[i][1][1]])"
   ]
  },
  {
   "cell_type": "markdown",
   "metadata": {},
   "source": [
    "Plot the test_score of every of these ports on the map of the USA"
   ]
  },
  {
   "cell_type": "code",
   "execution_count": 24,
   "metadata": {},
   "outputs": [
    {
     "data": {
      "application/vnd.plotly.v1+json": {
       "config": {
        "plotlyServerURL": "https://plot.ly"
       },
       "data": [
        {
         "lat": [
          "48.905266",
          "42.3315509",
          "48.9950874",
          "48.9853824",
          "48.9376147",
          "48.9987931",
          "48.9996344",
          "48.9881108",
          "44.9953505",
          "45.0094923",
          "44.979486",
          "45.00042985",
          "26.4070669",
          "29.9883766",
          "27.5199841",
          "26.3530256",
          "31.7600372",
          "28.7091433",
          "25.9140256",
          "44.881314",
          "44.928106",
          "44.982541",
          "43.0761171",
          "31.8559384",
          "31.8303365",
          "48.9958637",
          "48.614892",
          "31.46223",
          "31.8819798",
          "31.3402134",
          "32.4934395",
          "32.6753413",
          "32.560058",
          "32.5520013",
          "32.5833711",
          "48.999904",
          "45.189032",
          "46.1251286",
          "45.6239358",
          "47.355571",
          "47.157506",
          "45.5634002",
          "42.9815877",
          "46.490586",
          "48.7124408",
          "48.9970672",
          "48.9991329"
         ],
         "locationmode": "USA-states",
         "lon": [
          "-95.314404",
          "-83.0466403",
          "-122.269080593315",
          "-123.077974",
          "-119.4361687",
          "-118.2241779",
          "-117.8310975",
          "-122.7435757",
          "-72.6731285931857",
          "-71.7961053",
          "-73.1054065",
          "-72.1064356198873",
          "-99.0055462",
          "-104.2336552",
          "-99.4953764",
          "-98.216445",
          "-106.487287",
          "-100.4995214",
          "-97.4890856",
          "-74.2656165",
          "-74.892082",
          "-73.377564",
          "-78.9928794",
          "-106.6391577",
          "-107.6385256",
          "-102.5496127",
          "-93.352057",
          "-109.59394273101",
          "-112.8153361",
          "-110.9360818",
          "-114.7737551",
          "-115.3887997",
          "-116.9361338",
          "-117.0430813",
          "-116.6285217",
          "-116.180196",
          "-67.2781424",
          "-67.8407944",
          "-70.2545117",
          "-68.321915",
          "-67.935333",
          "-67.429721",
          "-82.440466",
          "-84.359269",
          "-94.600171",
          "-111.9625745",
          "-115.0565577"
         ],
         "marker": {
          "autocolorscale": false,
          "cmax": 0.8055555555555556,
          "cmin": 0,
          "color": [
           0.6699507389162561,
           0.8034682080924855,
           0.6383928571428571,
           0.3780487804878049,
           0.5903614457831325,
           0.583756345177665,
           0.7337278106508875,
           0.654639175257732,
           0.625,
           0.6417112299465241,
           0.7127659574468085,
           0.7455621301775148,
           0.7941176470588235,
           0.7696629213483146,
           0.7692307692307693,
           0.7764705882352941,
           0.7219512195121951,
           0.7810945273631841,
           0.7953216374269005,
           0.6402439024390244,
           0.6746987951807228,
           0.7130044843049327,
           0.672566371681416,
           0.5031055900621118,
           0.6257668711656442,
           0.5442477876106194,
           0.6266666666666667,
           0.6982248520710059,
           0.5952380952380952,
           0.8055555555555556,
           0.6111111111111112,
           0.6572769953051644,
           0.7955555555555556,
           0.7142857142857143,
           0.7577319587628866,
           0.5585585585585585,
           0.5517241379310345,
           0.6607142857142857,
           0.672645739910314,
           0.6047904191616766,
           0.4397905759162304,
           0.5597826086956522,
           0.7109826589595376,
           0.7100591715976331,
           0.5509259259259259,
           0.6711111111111111,
           0.6024096385542169
          ],
          "colorbar": {
           "title": {
            "text": "Incoming flights<br>February 2011"
           }
          },
          "colorscale": [
           [
            0,
            "rgb(247,252,245)"
           ],
           [
            0.125,
            "rgb(229,245,224)"
           ],
           [
            0.25,
            "rgb(199,233,192)"
           ],
           [
            0.375,
            "rgb(161,217,155)"
           ],
           [
            0.5,
            "rgb(116,196,118)"
           ],
           [
            0.625,
            "rgb(65,171,93)"
           ],
           [
            0.75,
            "rgb(35,139,69)"
           ],
           [
            0.875,
            "rgb(0,109,44)"
           ],
           [
            1,
            "rgb(0,68,27)"
           ]
          ],
          "line": {
           "color": "rgba(102, 102, 102)",
           "width": 1
          },
          "opacity": 0.8,
          "reversescale": true,
          "size": 10,
          "symbol": "square"
         },
         "mode": "markers",
         "text": [
          "Warroad<br>Test Score: 0.6699507389162561",
          "Detroit<br>Test Score: 0.8034682080924855",
          "Sumas<br>Test Score: 0.6383928571428571",
          "Point Roberts<br>Test Score: 0.3780487804878049",
          "Oroville<br>Test Score: 0.5903614457831325",
          "Laurier<br>Test Score: 0.583756345177665",
          "Frontier<br>Test Score: 0.7337278106508875",
          "Blaine<br>Test Score: 0.654639175257732",
          "Richford<br>Test Score: 0.625",
          "Norton<br>Test Score: 0.6417112299465241",
          "Highgate Springs-Alburg<br>Test Score: 0.7127659574468085",
          "Derby Line<br>Test Score: 0.7455621301775148",
          "Roma<br>Test Score: 0.7941176470588235",
          "Presidio<br>Test Score: 0.7696629213483146",
          "Laredo<br>Test Score: 0.7692307692307693",
          "Hidalgo<br>Test Score: 0.7764705882352941",
          "El Paso<br>Test Score: 0.7219512195121951",
          "Eagle Pass<br>Test Score: 0.7810945273631841",
          "Brownsville<br>Test Score: 0.7953216374269005",
          "Trout River<br>Test Score: 0.6402439024390244",
          "Massena<br>Test Score: 0.6746987951807228",
          "Champlain-Rouses Point<br>Test Score: 0.7130044843049327",
          "Buffalo-Niagara Falls<br>Test Score: 0.672566371681416",
          "Santa Teresa<br>Test Score: 0.5031055900621118",
          "Columbus<br>Test Score: 0.6257668711656442",
          "Portal<br>Test Score: 0.5442477876106194",
          "International Falls-Ranier<br>Test Score: 0.6266666666666667",
          "Douglas<br>Test Score: 0.6982248520710059",
          "Lukeville<br>Test Score: 0.5952380952380952",
          "Nogales<br>Test Score: 0.8055555555555556",
          "San Luis<br>Test Score: 0.6111111111111112",
          "Calexico East<br>Test Score: 0.6572769953051644",
          "Otay Mesa<br>Test Score: 0.7955555555555556",
          "San Ysidro<br>Test Score: 0.7142857142857143",
          "Tecate<br>Test Score: 0.7577319587628866",
          "Eastport_ID<br>Test Score: 0.5585585585585585",
          "Calais<br>Test Score: 0.5517241379310345",
          "Houlton<br>Test Score: 0.6607142857142857",
          "Jackman<br>Test Score: 0.672645739910314",
          "Madawaska<br>Test Score: 0.6047904191616766",
          "Van Buren<br>Test Score: 0.4397905759162304",
          "Vanceboro<br>Test Score: 0.5597826086956522",
          "Port Huron<br>Test Score: 0.7109826589595376",
          "Sault Sainte Marie<br>Test Score: 0.7100591715976331",
          "Baudette<br>Test Score: 0.5509259259259259",
          "Sweetgrass<br>Test Score: 0.6711111111111111",
          "Roosville<br>Test Score: 0.6024096385542169"
         ],
         "type": "scattergeo"
        }
       ],
       "layout": {
        "geo": {
         "countrycolor": "rgb(217, 217, 217)",
         "countrywidth": 0.5,
         "landcolor": "rgb(250, 250, 250)",
         "projection": {
          "type": "albers usa"
         },
         "scope": "usa",
         "showland": true,
         "subunitcolor": "rgb(217, 217, 217)",
         "subunitwidth": 0.5
        },
        "template": {
         "data": {
          "bar": [
           {
            "error_x": {
             "color": "#2a3f5f"
            },
            "error_y": {
             "color": "#2a3f5f"
            },
            "marker": {
             "line": {
              "color": "#E5ECF6",
              "width": 0.5
             }
            },
            "type": "bar"
           }
          ],
          "barpolar": [
           {
            "marker": {
             "line": {
              "color": "#E5ECF6",
              "width": 0.5
             }
            },
            "type": "barpolar"
           }
          ],
          "carpet": [
           {
            "aaxis": {
             "endlinecolor": "#2a3f5f",
             "gridcolor": "white",
             "linecolor": "white",
             "minorgridcolor": "white",
             "startlinecolor": "#2a3f5f"
            },
            "baxis": {
             "endlinecolor": "#2a3f5f",
             "gridcolor": "white",
             "linecolor": "white",
             "minorgridcolor": "white",
             "startlinecolor": "#2a3f5f"
            },
            "type": "carpet"
           }
          ],
          "choropleth": [
           {
            "colorbar": {
             "outlinewidth": 0,
             "ticks": ""
            },
            "type": "choropleth"
           }
          ],
          "contour": [
           {
            "colorbar": {
             "outlinewidth": 0,
             "ticks": ""
            },
            "colorscale": [
             [
              0,
              "#0d0887"
             ],
             [
              0.1111111111111111,
              "#46039f"
             ],
             [
              0.2222222222222222,
              "#7201a8"
             ],
             [
              0.3333333333333333,
              "#9c179e"
             ],
             [
              0.4444444444444444,
              "#bd3786"
             ],
             [
              0.5555555555555556,
              "#d8576b"
             ],
             [
              0.6666666666666666,
              "#ed7953"
             ],
             [
              0.7777777777777778,
              "#fb9f3a"
             ],
             [
              0.8888888888888888,
              "#fdca26"
             ],
             [
              1,
              "#f0f921"
             ]
            ],
            "type": "contour"
           }
          ],
          "contourcarpet": [
           {
            "colorbar": {
             "outlinewidth": 0,
             "ticks": ""
            },
            "type": "contourcarpet"
           }
          ],
          "heatmap": [
           {
            "colorbar": {
             "outlinewidth": 0,
             "ticks": ""
            },
            "colorscale": [
             [
              0,
              "#0d0887"
             ],
             [
              0.1111111111111111,
              "#46039f"
             ],
             [
              0.2222222222222222,
              "#7201a8"
             ],
             [
              0.3333333333333333,
              "#9c179e"
             ],
             [
              0.4444444444444444,
              "#bd3786"
             ],
             [
              0.5555555555555556,
              "#d8576b"
             ],
             [
              0.6666666666666666,
              "#ed7953"
             ],
             [
              0.7777777777777778,
              "#fb9f3a"
             ],
             [
              0.8888888888888888,
              "#fdca26"
             ],
             [
              1,
              "#f0f921"
             ]
            ],
            "type": "heatmap"
           }
          ],
          "heatmapgl": [
           {
            "colorbar": {
             "outlinewidth": 0,
             "ticks": ""
            },
            "colorscale": [
             [
              0,
              "#0d0887"
             ],
             [
              0.1111111111111111,
              "#46039f"
             ],
             [
              0.2222222222222222,
              "#7201a8"
             ],
             [
              0.3333333333333333,
              "#9c179e"
             ],
             [
              0.4444444444444444,
              "#bd3786"
             ],
             [
              0.5555555555555556,
              "#d8576b"
             ],
             [
              0.6666666666666666,
              "#ed7953"
             ],
             [
              0.7777777777777778,
              "#fb9f3a"
             ],
             [
              0.8888888888888888,
              "#fdca26"
             ],
             [
              1,
              "#f0f921"
             ]
            ],
            "type": "heatmapgl"
           }
          ],
          "histogram": [
           {
            "marker": {
             "colorbar": {
              "outlinewidth": 0,
              "ticks": ""
             }
            },
            "type": "histogram"
           }
          ],
          "histogram2d": [
           {
            "colorbar": {
             "outlinewidth": 0,
             "ticks": ""
            },
            "colorscale": [
             [
              0,
              "#0d0887"
             ],
             [
              0.1111111111111111,
              "#46039f"
             ],
             [
              0.2222222222222222,
              "#7201a8"
             ],
             [
              0.3333333333333333,
              "#9c179e"
             ],
             [
              0.4444444444444444,
              "#bd3786"
             ],
             [
              0.5555555555555556,
              "#d8576b"
             ],
             [
              0.6666666666666666,
              "#ed7953"
             ],
             [
              0.7777777777777778,
              "#fb9f3a"
             ],
             [
              0.8888888888888888,
              "#fdca26"
             ],
             [
              1,
              "#f0f921"
             ]
            ],
            "type": "histogram2d"
           }
          ],
          "histogram2dcontour": [
           {
            "colorbar": {
             "outlinewidth": 0,
             "ticks": ""
            },
            "colorscale": [
             [
              0,
              "#0d0887"
             ],
             [
              0.1111111111111111,
              "#46039f"
             ],
             [
              0.2222222222222222,
              "#7201a8"
             ],
             [
              0.3333333333333333,
              "#9c179e"
             ],
             [
              0.4444444444444444,
              "#bd3786"
             ],
             [
              0.5555555555555556,
              "#d8576b"
             ],
             [
              0.6666666666666666,
              "#ed7953"
             ],
             [
              0.7777777777777778,
              "#fb9f3a"
             ],
             [
              0.8888888888888888,
              "#fdca26"
             ],
             [
              1,
              "#f0f921"
             ]
            ],
            "type": "histogram2dcontour"
           }
          ],
          "mesh3d": [
           {
            "colorbar": {
             "outlinewidth": 0,
             "ticks": ""
            },
            "type": "mesh3d"
           }
          ],
          "parcoords": [
           {
            "line": {
             "colorbar": {
              "outlinewidth": 0,
              "ticks": ""
             }
            },
            "type": "parcoords"
           }
          ],
          "pie": [
           {
            "automargin": true,
            "type": "pie"
           }
          ],
          "scatter": [
           {
            "marker": {
             "colorbar": {
              "outlinewidth": 0,
              "ticks": ""
             }
            },
            "type": "scatter"
           }
          ],
          "scatter3d": [
           {
            "line": {
             "colorbar": {
              "outlinewidth": 0,
              "ticks": ""
             }
            },
            "marker": {
             "colorbar": {
              "outlinewidth": 0,
              "ticks": ""
             }
            },
            "type": "scatter3d"
           }
          ],
          "scattercarpet": [
           {
            "marker": {
             "colorbar": {
              "outlinewidth": 0,
              "ticks": ""
             }
            },
            "type": "scattercarpet"
           }
          ],
          "scattergeo": [
           {
            "marker": {
             "colorbar": {
              "outlinewidth": 0,
              "ticks": ""
             }
            },
            "type": "scattergeo"
           }
          ],
          "scattergl": [
           {
            "marker": {
             "colorbar": {
              "outlinewidth": 0,
              "ticks": ""
             }
            },
            "type": "scattergl"
           }
          ],
          "scattermapbox": [
           {
            "marker": {
             "colorbar": {
              "outlinewidth": 0,
              "ticks": ""
             }
            },
            "type": "scattermapbox"
           }
          ],
          "scatterpolar": [
           {
            "marker": {
             "colorbar": {
              "outlinewidth": 0,
              "ticks": ""
             }
            },
            "type": "scatterpolar"
           }
          ],
          "scatterpolargl": [
           {
            "marker": {
             "colorbar": {
              "outlinewidth": 0,
              "ticks": ""
             }
            },
            "type": "scatterpolargl"
           }
          ],
          "scatterternary": [
           {
            "marker": {
             "colorbar": {
              "outlinewidth": 0,
              "ticks": ""
             }
            },
            "type": "scatterternary"
           }
          ],
          "surface": [
           {
            "colorbar": {
             "outlinewidth": 0,
             "ticks": ""
            },
            "colorscale": [
             [
              0,
              "#0d0887"
             ],
             [
              0.1111111111111111,
              "#46039f"
             ],
             [
              0.2222222222222222,
              "#7201a8"
             ],
             [
              0.3333333333333333,
              "#9c179e"
             ],
             [
              0.4444444444444444,
              "#bd3786"
             ],
             [
              0.5555555555555556,
              "#d8576b"
             ],
             [
              0.6666666666666666,
              "#ed7953"
             ],
             [
              0.7777777777777778,
              "#fb9f3a"
             ],
             [
              0.8888888888888888,
              "#fdca26"
             ],
             [
              1,
              "#f0f921"
             ]
            ],
            "type": "surface"
           }
          ],
          "table": [
           {
            "cells": {
             "fill": {
              "color": "#EBF0F8"
             },
             "line": {
              "color": "white"
             }
            },
            "header": {
             "fill": {
              "color": "#C8D4E3"
             },
             "line": {
              "color": "white"
             }
            },
            "type": "table"
           }
          ]
         },
         "layout": {
          "annotationdefaults": {
           "arrowcolor": "#2a3f5f",
           "arrowhead": 0,
           "arrowwidth": 1
          },
          "coloraxis": {
           "colorbar": {
            "outlinewidth": 0,
            "ticks": ""
           }
          },
          "colorscale": {
           "diverging": [
            [
             0,
             "#8e0152"
            ],
            [
             0.1,
             "#c51b7d"
            ],
            [
             0.2,
             "#de77ae"
            ],
            [
             0.3,
             "#f1b6da"
            ],
            [
             0.4,
             "#fde0ef"
            ],
            [
             0.5,
             "#f7f7f7"
            ],
            [
             0.6,
             "#e6f5d0"
            ],
            [
             0.7,
             "#b8e186"
            ],
            [
             0.8,
             "#7fbc41"
            ],
            [
             0.9,
             "#4d9221"
            ],
            [
             1,
             "#276419"
            ]
           ],
           "sequential": [
            [
             0,
             "#0d0887"
            ],
            [
             0.1111111111111111,
             "#46039f"
            ],
            [
             0.2222222222222222,
             "#7201a8"
            ],
            [
             0.3333333333333333,
             "#9c179e"
            ],
            [
             0.4444444444444444,
             "#bd3786"
            ],
            [
             0.5555555555555556,
             "#d8576b"
            ],
            [
             0.6666666666666666,
             "#ed7953"
            ],
            [
             0.7777777777777778,
             "#fb9f3a"
            ],
            [
             0.8888888888888888,
             "#fdca26"
            ],
            [
             1,
             "#f0f921"
            ]
           ],
           "sequentialminus": [
            [
             0,
             "#0d0887"
            ],
            [
             0.1111111111111111,
             "#46039f"
            ],
            [
             0.2222222222222222,
             "#7201a8"
            ],
            [
             0.3333333333333333,
             "#9c179e"
            ],
            [
             0.4444444444444444,
             "#bd3786"
            ],
            [
             0.5555555555555556,
             "#d8576b"
            ],
            [
             0.6666666666666666,
             "#ed7953"
            ],
            [
             0.7777777777777778,
             "#fb9f3a"
            ],
            [
             0.8888888888888888,
             "#fdca26"
            ],
            [
             1,
             "#f0f921"
            ]
           ]
          },
          "colorway": [
           "#636efa",
           "#EF553B",
           "#00cc96",
           "#ab63fa",
           "#FFA15A",
           "#19d3f3",
           "#FF6692",
           "#B6E880",
           "#FF97FF",
           "#FECB52"
          ],
          "font": {
           "color": "#2a3f5f"
          },
          "geo": {
           "bgcolor": "white",
           "lakecolor": "white",
           "landcolor": "#E5ECF6",
           "showlakes": true,
           "showland": true,
           "subunitcolor": "white"
          },
          "hoverlabel": {
           "align": "left"
          },
          "hovermode": "closest",
          "mapbox": {
           "style": "light"
          },
          "paper_bgcolor": "white",
          "plot_bgcolor": "#E5ECF6",
          "polar": {
           "angularaxis": {
            "gridcolor": "white",
            "linecolor": "white",
            "ticks": ""
           },
           "bgcolor": "#E5ECF6",
           "radialaxis": {
            "gridcolor": "white",
            "linecolor": "white",
            "ticks": ""
           }
          },
          "scene": {
           "xaxis": {
            "backgroundcolor": "#E5ECF6",
            "gridcolor": "white",
            "gridwidth": 2,
            "linecolor": "white",
            "showbackground": true,
            "ticks": "",
            "zerolinecolor": "white"
           },
           "yaxis": {
            "backgroundcolor": "#E5ECF6",
            "gridcolor": "white",
            "gridwidth": 2,
            "linecolor": "white",
            "showbackground": true,
            "ticks": "",
            "zerolinecolor": "white"
           },
           "zaxis": {
            "backgroundcolor": "#E5ECF6",
            "gridcolor": "white",
            "gridwidth": 2,
            "linecolor": "white",
            "showbackground": true,
            "ticks": "",
            "zerolinecolor": "white"
           }
          },
          "shapedefaults": {
           "line": {
            "color": "#2a3f5f"
           }
          },
          "ternary": {
           "aaxis": {
            "gridcolor": "white",
            "linecolor": "white",
            "ticks": ""
           },
           "baxis": {
            "gridcolor": "white",
            "linecolor": "white",
            "ticks": ""
           },
           "bgcolor": "#E5ECF6",
           "caxis": {
            "gridcolor": "white",
            "linecolor": "white",
            "ticks": ""
           }
          },
          "title": {
           "x": 0.05
          },
          "xaxis": {
           "automargin": true,
           "gridcolor": "white",
           "linecolor": "white",
           "ticks": "",
           "title": {
            "standoff": 15
           },
           "zerolinecolor": "white",
           "zerolinewidth": 2
          },
          "yaxis": {
           "automargin": true,
           "gridcolor": "white",
           "linecolor": "white",
           "ticks": "",
           "title": {
            "standoff": 15
           },
           "zerolinecolor": "white",
           "zerolinewidth": 2
          }
         }
        },
        "title": {
         "text": "Most trafficked US airports<br>(Hover for airport names)"
        }
       }
      },
      "text/html": [
       "<div>\n",
       "        \n",
       "        \n",
       "            <div id=\"5863e8df-e24a-46e3-9677-8f8841231dc8\" class=\"plotly-graph-div\" style=\"height:525px; width:100%;\"></div>\n",
       "            <script type=\"text/javascript\">\n",
       "                require([\"plotly\"], function(Plotly) {\n",
       "                    window.PLOTLYENV=window.PLOTLYENV || {};\n",
       "                    \n",
       "                if (document.getElementById(\"5863e8df-e24a-46e3-9677-8f8841231dc8\")) {\n",
       "                    Plotly.newPlot(\n",
       "                        '5863e8df-e24a-46e3-9677-8f8841231dc8',\n",
       "                        [{\"lat\": [\"48.905266\", \"42.3315509\", \"48.9950874\", \"48.9853824\", \"48.9376147\", \"48.9987931\", \"48.9996344\", \"48.9881108\", \"44.9953505\", \"45.0094923\", \"44.979486\", \"45.00042985\", \"26.4070669\", \"29.9883766\", \"27.5199841\", \"26.3530256\", \"31.7600372\", \"28.7091433\", \"25.9140256\", \"44.881314\", \"44.928106\", \"44.982541\", \"43.0761171\", \"31.8559384\", \"31.8303365\", \"48.9958637\", \"48.614892\", \"31.46223\", \"31.8819798\", \"31.3402134\", \"32.4934395\", \"32.6753413\", \"32.560058\", \"32.5520013\", \"32.5833711\", \"48.999904\", \"45.189032\", \"46.1251286\", \"45.6239358\", \"47.355571\", \"47.157506\", \"45.5634002\", \"42.9815877\", \"46.490586\", \"48.7124408\", \"48.9970672\", \"48.9991329\"], \"locationmode\": \"USA-states\", \"lon\": [\"-95.314404\", \"-83.0466403\", \"-122.269080593315\", \"-123.077974\", \"-119.4361687\", \"-118.2241779\", \"-117.8310975\", \"-122.7435757\", \"-72.6731285931857\", \"-71.7961053\", \"-73.1054065\", \"-72.1064356198873\", \"-99.0055462\", \"-104.2336552\", \"-99.4953764\", \"-98.216445\", \"-106.487287\", \"-100.4995214\", \"-97.4890856\", \"-74.2656165\", \"-74.892082\", \"-73.377564\", \"-78.9928794\", \"-106.6391577\", \"-107.6385256\", \"-102.5496127\", \"-93.352057\", \"-109.59394273101\", \"-112.8153361\", \"-110.9360818\", \"-114.7737551\", \"-115.3887997\", \"-116.9361338\", \"-117.0430813\", \"-116.6285217\", \"-116.180196\", \"-67.2781424\", \"-67.8407944\", \"-70.2545117\", \"-68.321915\", \"-67.935333\", \"-67.429721\", \"-82.440466\", \"-84.359269\", \"-94.600171\", \"-111.9625745\", \"-115.0565577\"], \"marker\": {\"autocolorscale\": false, \"cmax\": 0.8055555555555556, \"cmin\": 0, \"color\": [0.6699507389162561, 0.8034682080924855, 0.6383928571428571, 0.3780487804878049, 0.5903614457831325, 0.583756345177665, 0.7337278106508875, 0.654639175257732, 0.625, 0.6417112299465241, 0.7127659574468085, 0.7455621301775148, 0.7941176470588235, 0.7696629213483146, 0.7692307692307693, 0.7764705882352941, 0.7219512195121951, 0.7810945273631841, 0.7953216374269005, 0.6402439024390244, 0.6746987951807228, 0.7130044843049327, 0.672566371681416, 0.5031055900621118, 0.6257668711656442, 0.5442477876106194, 0.6266666666666667, 0.6982248520710059, 0.5952380952380952, 0.8055555555555556, 0.6111111111111112, 0.6572769953051644, 0.7955555555555556, 0.7142857142857143, 0.7577319587628866, 0.5585585585585585, 0.5517241379310345, 0.6607142857142857, 0.672645739910314, 0.6047904191616766, 0.4397905759162304, 0.5597826086956522, 0.7109826589595376, 0.7100591715976331, 0.5509259259259259, 0.6711111111111111, 0.6024096385542169], \"colorbar\": {\"title\": {\"text\": \"Incoming flights<br>February 2011\"}}, \"colorscale\": [[0.0, \"rgb(247,252,245)\"], [0.125, \"rgb(229,245,224)\"], [0.25, \"rgb(199,233,192)\"], [0.375, \"rgb(161,217,155)\"], [0.5, \"rgb(116,196,118)\"], [0.625, \"rgb(65,171,93)\"], [0.75, \"rgb(35,139,69)\"], [0.875, \"rgb(0,109,44)\"], [1.0, \"rgb(0,68,27)\"]], \"line\": {\"color\": \"rgba(102, 102, 102)\", \"width\": 1}, \"opacity\": 0.8, \"reversescale\": true, \"size\": 10, \"symbol\": \"square\"}, \"mode\": \"markers\", \"text\": [\"Warroad<br>Test Score: 0.6699507389162561\", \"Detroit<br>Test Score: 0.8034682080924855\", \"Sumas<br>Test Score: 0.6383928571428571\", \"Point Roberts<br>Test Score: 0.3780487804878049\", \"Oroville<br>Test Score: 0.5903614457831325\", \"Laurier<br>Test Score: 0.583756345177665\", \"Frontier<br>Test Score: 0.7337278106508875\", \"Blaine<br>Test Score: 0.654639175257732\", \"Richford<br>Test Score: 0.625\", \"Norton<br>Test Score: 0.6417112299465241\", \"Highgate Springs-Alburg<br>Test Score: 0.7127659574468085\", \"Derby Line<br>Test Score: 0.7455621301775148\", \"Roma<br>Test Score: 0.7941176470588235\", \"Presidio<br>Test Score: 0.7696629213483146\", \"Laredo<br>Test Score: 0.7692307692307693\", \"Hidalgo<br>Test Score: 0.7764705882352941\", \"El Paso<br>Test Score: 0.7219512195121951\", \"Eagle Pass<br>Test Score: 0.7810945273631841\", \"Brownsville<br>Test Score: 0.7953216374269005\", \"Trout River<br>Test Score: 0.6402439024390244\", \"Massena<br>Test Score: 0.6746987951807228\", \"Champlain-Rouses Point<br>Test Score: 0.7130044843049327\", \"Buffalo-Niagara Falls<br>Test Score: 0.672566371681416\", \"Santa Teresa<br>Test Score: 0.5031055900621118\", \"Columbus<br>Test Score: 0.6257668711656442\", \"Portal<br>Test Score: 0.5442477876106194\", \"International Falls-Ranier<br>Test Score: 0.6266666666666667\", \"Douglas<br>Test Score: 0.6982248520710059\", \"Lukeville<br>Test Score: 0.5952380952380952\", \"Nogales<br>Test Score: 0.8055555555555556\", \"San Luis<br>Test Score: 0.6111111111111112\", \"Calexico East<br>Test Score: 0.6572769953051644\", \"Otay Mesa<br>Test Score: 0.7955555555555556\", \"San Ysidro<br>Test Score: 0.7142857142857143\", \"Tecate<br>Test Score: 0.7577319587628866\", \"Eastport_ID<br>Test Score: 0.5585585585585585\", \"Calais<br>Test Score: 0.5517241379310345\", \"Houlton<br>Test Score: 0.6607142857142857\", \"Jackman<br>Test Score: 0.672645739910314\", \"Madawaska<br>Test Score: 0.6047904191616766\", \"Van Buren<br>Test Score: 0.4397905759162304\", \"Vanceboro<br>Test Score: 0.5597826086956522\", \"Port Huron<br>Test Score: 0.7109826589595376\", \"Sault Sainte Marie<br>Test Score: 0.7100591715976331\", \"Baudette<br>Test Score: 0.5509259259259259\", \"Sweetgrass<br>Test Score: 0.6711111111111111\", \"Roosville<br>Test Score: 0.6024096385542169\"], \"type\": \"scattergeo\"}],\n",
       "                        {\"geo\": {\"countrycolor\": \"rgb(217, 217, 217)\", \"countrywidth\": 0.5, \"landcolor\": \"rgb(250, 250, 250)\", \"projection\": {\"type\": \"albers usa\"}, \"scope\": \"usa\", \"showland\": true, \"subunitcolor\": \"rgb(217, 217, 217)\", \"subunitwidth\": 0.5}, \"template\": {\"data\": {\"bar\": [{\"error_x\": {\"color\": \"#2a3f5f\"}, \"error_y\": {\"color\": \"#2a3f5f\"}, \"marker\": {\"line\": {\"color\": \"#E5ECF6\", \"width\": 0.5}}, \"type\": \"bar\"}], \"barpolar\": [{\"marker\": {\"line\": {\"color\": \"#E5ECF6\", \"width\": 0.5}}, \"type\": \"barpolar\"}], \"carpet\": [{\"aaxis\": {\"endlinecolor\": \"#2a3f5f\", \"gridcolor\": \"white\", \"linecolor\": \"white\", \"minorgridcolor\": \"white\", \"startlinecolor\": \"#2a3f5f\"}, \"baxis\": {\"endlinecolor\": \"#2a3f5f\", \"gridcolor\": \"white\", \"linecolor\": \"white\", \"minorgridcolor\": \"white\", \"startlinecolor\": \"#2a3f5f\"}, \"type\": \"carpet\"}], \"choropleth\": [{\"colorbar\": {\"outlinewidth\": 0, \"ticks\": \"\"}, \"type\": \"choropleth\"}], \"contour\": [{\"colorbar\": {\"outlinewidth\": 0, \"ticks\": \"\"}, \"colorscale\": [[0.0, \"#0d0887\"], [0.1111111111111111, \"#46039f\"], [0.2222222222222222, \"#7201a8\"], [0.3333333333333333, \"#9c179e\"], [0.4444444444444444, \"#bd3786\"], [0.5555555555555556, \"#d8576b\"], [0.6666666666666666, \"#ed7953\"], [0.7777777777777778, \"#fb9f3a\"], [0.8888888888888888, \"#fdca26\"], [1.0, \"#f0f921\"]], \"type\": \"contour\"}], \"contourcarpet\": [{\"colorbar\": {\"outlinewidth\": 0, \"ticks\": \"\"}, \"type\": \"contourcarpet\"}], \"heatmap\": [{\"colorbar\": {\"outlinewidth\": 0, \"ticks\": \"\"}, \"colorscale\": [[0.0, \"#0d0887\"], [0.1111111111111111, \"#46039f\"], [0.2222222222222222, \"#7201a8\"], [0.3333333333333333, \"#9c179e\"], [0.4444444444444444, \"#bd3786\"], [0.5555555555555556, \"#d8576b\"], [0.6666666666666666, \"#ed7953\"], [0.7777777777777778, \"#fb9f3a\"], [0.8888888888888888, \"#fdca26\"], [1.0, \"#f0f921\"]], \"type\": \"heatmap\"}], \"heatmapgl\": [{\"colorbar\": {\"outlinewidth\": 0, \"ticks\": \"\"}, \"colorscale\": [[0.0, \"#0d0887\"], [0.1111111111111111, \"#46039f\"], [0.2222222222222222, \"#7201a8\"], [0.3333333333333333, \"#9c179e\"], [0.4444444444444444, \"#bd3786\"], [0.5555555555555556, \"#d8576b\"], [0.6666666666666666, \"#ed7953\"], [0.7777777777777778, \"#fb9f3a\"], [0.8888888888888888, \"#fdca26\"], [1.0, \"#f0f921\"]], \"type\": \"heatmapgl\"}], \"histogram\": [{\"marker\": {\"colorbar\": {\"outlinewidth\": 0, \"ticks\": \"\"}}, \"type\": \"histogram\"}], \"histogram2d\": [{\"colorbar\": {\"outlinewidth\": 0, \"ticks\": \"\"}, \"colorscale\": [[0.0, \"#0d0887\"], [0.1111111111111111, \"#46039f\"], [0.2222222222222222, \"#7201a8\"], [0.3333333333333333, \"#9c179e\"], [0.4444444444444444, \"#bd3786\"], [0.5555555555555556, \"#d8576b\"], [0.6666666666666666, \"#ed7953\"], [0.7777777777777778, \"#fb9f3a\"], [0.8888888888888888, \"#fdca26\"], [1.0, \"#f0f921\"]], \"type\": \"histogram2d\"}], \"histogram2dcontour\": [{\"colorbar\": {\"outlinewidth\": 0, \"ticks\": \"\"}, \"colorscale\": [[0.0, \"#0d0887\"], [0.1111111111111111, \"#46039f\"], [0.2222222222222222, \"#7201a8\"], [0.3333333333333333, \"#9c179e\"], [0.4444444444444444, \"#bd3786\"], [0.5555555555555556, \"#d8576b\"], [0.6666666666666666, \"#ed7953\"], [0.7777777777777778, \"#fb9f3a\"], [0.8888888888888888, \"#fdca26\"], [1.0, \"#f0f921\"]], \"type\": \"histogram2dcontour\"}], \"mesh3d\": [{\"colorbar\": {\"outlinewidth\": 0, \"ticks\": \"\"}, \"type\": \"mesh3d\"}], \"parcoords\": [{\"line\": {\"colorbar\": {\"outlinewidth\": 0, \"ticks\": \"\"}}, \"type\": \"parcoords\"}], \"pie\": [{\"automargin\": true, \"type\": \"pie\"}], \"scatter\": [{\"marker\": {\"colorbar\": {\"outlinewidth\": 0, \"ticks\": \"\"}}, \"type\": \"scatter\"}], \"scatter3d\": [{\"line\": {\"colorbar\": {\"outlinewidth\": 0, \"ticks\": \"\"}}, \"marker\": {\"colorbar\": {\"outlinewidth\": 0, \"ticks\": \"\"}}, \"type\": \"scatter3d\"}], \"scattercarpet\": [{\"marker\": {\"colorbar\": {\"outlinewidth\": 0, \"ticks\": \"\"}}, \"type\": \"scattercarpet\"}], \"scattergeo\": [{\"marker\": {\"colorbar\": {\"outlinewidth\": 0, \"ticks\": \"\"}}, \"type\": \"scattergeo\"}], \"scattergl\": [{\"marker\": {\"colorbar\": {\"outlinewidth\": 0, \"ticks\": \"\"}}, \"type\": \"scattergl\"}], \"scattermapbox\": [{\"marker\": {\"colorbar\": {\"outlinewidth\": 0, \"ticks\": \"\"}}, \"type\": \"scattermapbox\"}], \"scatterpolar\": [{\"marker\": {\"colorbar\": {\"outlinewidth\": 0, \"ticks\": \"\"}}, \"type\": \"scatterpolar\"}], \"scatterpolargl\": [{\"marker\": {\"colorbar\": {\"outlinewidth\": 0, \"ticks\": \"\"}}, \"type\": \"scatterpolargl\"}], \"scatterternary\": [{\"marker\": {\"colorbar\": {\"outlinewidth\": 0, \"ticks\": \"\"}}, \"type\": \"scatterternary\"}], \"surface\": [{\"colorbar\": {\"outlinewidth\": 0, \"ticks\": \"\"}, \"colorscale\": [[0.0, \"#0d0887\"], [0.1111111111111111, \"#46039f\"], [0.2222222222222222, \"#7201a8\"], [0.3333333333333333, \"#9c179e\"], [0.4444444444444444, \"#bd3786\"], [0.5555555555555556, \"#d8576b\"], [0.6666666666666666, \"#ed7953\"], [0.7777777777777778, \"#fb9f3a\"], [0.8888888888888888, \"#fdca26\"], [1.0, \"#f0f921\"]], \"type\": \"surface\"}], \"table\": [{\"cells\": {\"fill\": {\"color\": \"#EBF0F8\"}, \"line\": {\"color\": \"white\"}}, \"header\": {\"fill\": {\"color\": \"#C8D4E3\"}, \"line\": {\"color\": \"white\"}}, \"type\": \"table\"}]}, \"layout\": {\"annotationdefaults\": {\"arrowcolor\": \"#2a3f5f\", \"arrowhead\": 0, \"arrowwidth\": 1}, \"coloraxis\": {\"colorbar\": {\"outlinewidth\": 0, \"ticks\": \"\"}}, \"colorscale\": {\"diverging\": [[0, \"#8e0152\"], [0.1, \"#c51b7d\"], [0.2, \"#de77ae\"], [0.3, \"#f1b6da\"], [0.4, \"#fde0ef\"], [0.5, \"#f7f7f7\"], [0.6, \"#e6f5d0\"], [0.7, \"#b8e186\"], [0.8, \"#7fbc41\"], [0.9, \"#4d9221\"], [1, \"#276419\"]], \"sequential\": [[0.0, \"#0d0887\"], [0.1111111111111111, \"#46039f\"], [0.2222222222222222, \"#7201a8\"], [0.3333333333333333, \"#9c179e\"], [0.4444444444444444, \"#bd3786\"], [0.5555555555555556, \"#d8576b\"], [0.6666666666666666, \"#ed7953\"], [0.7777777777777778, \"#fb9f3a\"], [0.8888888888888888, \"#fdca26\"], [1.0, \"#f0f921\"]], \"sequentialminus\": [[0.0, \"#0d0887\"], [0.1111111111111111, \"#46039f\"], [0.2222222222222222, \"#7201a8\"], [0.3333333333333333, \"#9c179e\"], [0.4444444444444444, \"#bd3786\"], [0.5555555555555556, \"#d8576b\"], [0.6666666666666666, \"#ed7953\"], [0.7777777777777778, \"#fb9f3a\"], [0.8888888888888888, \"#fdca26\"], [1.0, \"#f0f921\"]]}, \"colorway\": [\"#636efa\", \"#EF553B\", \"#00cc96\", \"#ab63fa\", \"#FFA15A\", \"#19d3f3\", \"#FF6692\", \"#B6E880\", \"#FF97FF\", \"#FECB52\"], \"font\": {\"color\": \"#2a3f5f\"}, \"geo\": {\"bgcolor\": \"white\", \"lakecolor\": \"white\", \"landcolor\": \"#E5ECF6\", \"showlakes\": true, \"showland\": true, \"subunitcolor\": \"white\"}, \"hoverlabel\": {\"align\": \"left\"}, \"hovermode\": \"closest\", \"mapbox\": {\"style\": \"light\"}, \"paper_bgcolor\": \"white\", \"plot_bgcolor\": \"#E5ECF6\", \"polar\": {\"angularaxis\": {\"gridcolor\": \"white\", \"linecolor\": \"white\", \"ticks\": \"\"}, \"bgcolor\": \"#E5ECF6\", \"radialaxis\": {\"gridcolor\": \"white\", \"linecolor\": \"white\", \"ticks\": \"\"}}, \"scene\": {\"xaxis\": {\"backgroundcolor\": \"#E5ECF6\", \"gridcolor\": \"white\", \"gridwidth\": 2, \"linecolor\": \"white\", \"showbackground\": true, \"ticks\": \"\", \"zerolinecolor\": \"white\"}, \"yaxis\": {\"backgroundcolor\": \"#E5ECF6\", \"gridcolor\": \"white\", \"gridwidth\": 2, \"linecolor\": \"white\", \"showbackground\": true, \"ticks\": \"\", \"zerolinecolor\": \"white\"}, \"zaxis\": {\"backgroundcolor\": \"#E5ECF6\", \"gridcolor\": \"white\", \"gridwidth\": 2, \"linecolor\": \"white\", \"showbackground\": true, \"ticks\": \"\", \"zerolinecolor\": \"white\"}}, \"shapedefaults\": {\"line\": {\"color\": \"#2a3f5f\"}}, \"ternary\": {\"aaxis\": {\"gridcolor\": \"white\", \"linecolor\": \"white\", \"ticks\": \"\"}, \"baxis\": {\"gridcolor\": \"white\", \"linecolor\": \"white\", \"ticks\": \"\"}, \"bgcolor\": \"#E5ECF6\", \"caxis\": {\"gridcolor\": \"white\", \"linecolor\": \"white\", \"ticks\": \"\"}}, \"title\": {\"x\": 0.05}, \"xaxis\": {\"automargin\": true, \"gridcolor\": \"white\", \"linecolor\": \"white\", \"ticks\": \"\", \"title\": {\"standoff\": 15}, \"zerolinecolor\": \"white\", \"zerolinewidth\": 2}, \"yaxis\": {\"automargin\": true, \"gridcolor\": \"white\", \"linecolor\": \"white\", \"ticks\": \"\", \"title\": {\"standoff\": 15}, \"zerolinecolor\": \"white\", \"zerolinewidth\": 2}}}, \"title\": {\"text\": \"Most trafficked US airports<br>(Hover for airport names)\"}},\n",
       "                        {\"responsive\": true}\n",
       "                    ).then(function(){\n",
       "                            \n",
       "var gd = document.getElementById('5863e8df-e24a-46e3-9677-8f8841231dc8');\n",
       "var x = new MutationObserver(function (mutations, observer) {{\n",
       "        var display = window.getComputedStyle(gd).display;\n",
       "        if (!display || display === 'none') {{\n",
       "            console.log([gd, 'removed!']);\n",
       "            Plotly.purge(gd);\n",
       "            observer.disconnect();\n",
       "        }}\n",
       "}});\n",
       "\n",
       "// Listen for the removal of the full notebook cells\n",
       "var notebookContainer = gd.closest('#notebook-container');\n",
       "if (notebookContainer) {{\n",
       "    x.observe(notebookContainer, {childList: true});\n",
       "}}\n",
       "\n",
       "// Listen for the clearing of the current output cell\n",
       "var outputEl = gd.closest('.output');\n",
       "if (outputEl) {{\n",
       "    x.observe(outputEl, {childList: true});\n",
       "}}\n",
       "\n",
       "                        })\n",
       "                };\n",
       "                });\n",
       "            </script>\n",
       "        </div>"
      ]
     },
     "metadata": {},
     "output_type": "display_data"
    }
   ],
   "source": [
    "port_localisation =  pd.DataFrame(data = port_localisation,columns = ['Port Name','Train Score','Test Score'])\n",
    "ps = nozero[['Port Name','latitude']].drop_duplicates().set_index('Port Name')\n",
    "port_localisation['latitude'] = port_localisation['Port Name'].apply(lambda x : ', '.join(ps.loc[x].values.flatten()))\n",
    "ps = nozero[['Port Name','longitude']].drop_duplicates().set_index('Port Name')\n",
    "port_localisation['longitude'] = port_localisation['Port Name'].apply(lambda x : ', '.join(ps.loc[x].values.flatten()))\n",
    "port_localisation['text'] = port_localisation['Port Name'] + '<br>Test Score: ' + (port_localisation['Test Score']).astype(str)\n",
    "\n",
    "\n",
    "\n",
    "fig = go.Figure(data=go.Scattergeo(\n",
    "        locationmode = 'USA-states',\n",
    "        lon = port_localisation['longitude'],\n",
    "        lat = port_localisation['latitude'],\n",
    "        text = port_localisation['text'],\n",
    "        mode = 'markers',\n",
    "        marker = dict(\n",
    "            size = 10,\n",
    "            opacity = 0.8,\n",
    "            reversescale = True,\n",
    "            autocolorscale = False,\n",
    "            symbol = 'square',\n",
    "            line = dict(\n",
    "                width=1,\n",
    "                color='rgba(102, 102, 102)'\n",
    "            ),\n",
    "            colorscale = 'Greens',\n",
    "            cmin = 0,\n",
    "            color = port_localisation['Test Score'],\n",
    "            cmax = port_localisation['Test Score'].max(),\n",
    "            colorbar_title=\"Incoming flights<br>February 2011\"\n",
    "        )))\n",
    "\n",
    "fig.update_layout(\n",
    "        title = 'Most trafficked US airports<br>(Hover for airport names)',\n",
    "        geo = dict(\n",
    "            scope='usa',\n",
    "            projection_type='albers usa',\n",
    "            showland = True,\n",
    "            landcolor = \"rgb(250, 250, 250)\",\n",
    "            subunitcolor = \"rgb(217, 217, 217)\",\n",
    "            countrycolor = \"rgb(217, 217, 217)\",\n",
    "            countrywidth = 0.5,\n",
    "            subunitwidth = 0.5\n",
    "        ),\n",
    "    )\n",
    "fig.show()"
   ]
  },
  {
   "cell_type": "markdown",
   "metadata": {},
   "source": [
    "# Linear Regression"
   ]
  },
  {
   "cell_type": "markdown",
   "metadata": {},
   "source": [
    "TO DO : Create a linear regression with the logValue for y. (see notebook linear_regression)"
   ]
  },
  {
   "cell_type": "code",
   "execution_count": 44,
   "metadata": {},
   "outputs": [
    {
     "data": {
      "text/html": [
       "<div>\n",
       "<style scoped>\n",
       "    .dataframe tbody tr th:only-of-type {\n",
       "        vertical-align: middle;\n",
       "    }\n",
       "\n",
       "    .dataframe tbody tr th {\n",
       "        vertical-align: top;\n",
       "    }\n",
       "\n",
       "    .dataframe thead th {\n",
       "        text-align: right;\n",
       "    }\n",
       "</style>\n",
       "<table border=\"1\" class=\"dataframe\">\n",
       "  <thead>\n",
       "    <tr style=\"text-align: right;\">\n",
       "      <th></th>\n",
       "      <th>Port Name</th>\n",
       "      <th>State</th>\n",
       "      <th>Port Code</th>\n",
       "      <th>Border</th>\n",
       "      <th>Date</th>\n",
       "      <th>Measure</th>\n",
       "      <th>Value</th>\n",
       "      <th>Year</th>\n",
       "      <th>Month</th>\n",
       "      <th>position</th>\n",
       "      <th>latitude</th>\n",
       "      <th>longitude</th>\n",
       "    </tr>\n",
       "  </thead>\n",
       "  <tbody>\n",
       "    <tr>\n",
       "      <td>0</td>\n",
       "      <td>Warroad</td>\n",
       "      <td>Minnesota</td>\n",
       "      <td>3423</td>\n",
       "      <td>US-Canada Border</td>\n",
       "      <td>2019-06-01</td>\n",
       "      <td>Personal Vehicle Passengers</td>\n",
       "      <td>19459</td>\n",
       "      <td>2019</td>\n",
       "      <td>6</td>\n",
       "      <td>(48.905266, -95.314404)</td>\n",
       "      <td>48.905266</td>\n",
       "      <td>-95.314404</td>\n",
       "    </tr>\n",
       "    <tr>\n",
       "      <td>1</td>\n",
       "      <td>Warroad</td>\n",
       "      <td>Minnesota</td>\n",
       "      <td>3423</td>\n",
       "      <td>US-Canada Border</td>\n",
       "      <td>2019-06-01</td>\n",
       "      <td>Pedestrians</td>\n",
       "      <td>2</td>\n",
       "      <td>2019</td>\n",
       "      <td>6</td>\n",
       "      <td>(48.905266, -95.314404)</td>\n",
       "      <td>48.905266</td>\n",
       "      <td>-95.314404</td>\n",
       "    </tr>\n",
       "    <tr>\n",
       "      <td>2</td>\n",
       "      <td>Warroad</td>\n",
       "      <td>Minnesota</td>\n",
       "      <td>3423</td>\n",
       "      <td>US-Canada Border</td>\n",
       "      <td>2019-06-01</td>\n",
       "      <td>Bus Passengers</td>\n",
       "      <td>63</td>\n",
       "      <td>2019</td>\n",
       "      <td>6</td>\n",
       "      <td>(48.905266, -95.314404)</td>\n",
       "      <td>48.905266</td>\n",
       "      <td>-95.314404</td>\n",
       "    </tr>\n",
       "    <tr>\n",
       "      <td>3</td>\n",
       "      <td>Roseau</td>\n",
       "      <td>Minnesota</td>\n",
       "      <td>3426</td>\n",
       "      <td>US-Canada Border</td>\n",
       "      <td>2019-06-01</td>\n",
       "      <td>Personal Vehicle Passengers</td>\n",
       "      <td>7385</td>\n",
       "      <td>2019</td>\n",
       "      <td>6</td>\n",
       "      <td>(48.7710371, -95.7697882)</td>\n",
       "      <td>48.7710371</td>\n",
       "      <td>-95.7697882</td>\n",
       "    </tr>\n",
       "    <tr>\n",
       "      <td>4</td>\n",
       "      <td>Roseau</td>\n",
       "      <td>Minnesota</td>\n",
       "      <td>3426</td>\n",
       "      <td>US-Canada Border</td>\n",
       "      <td>2019-06-01</td>\n",
       "      <td>Bus Passengers</td>\n",
       "      <td>118</td>\n",
       "      <td>2019</td>\n",
       "      <td>6</td>\n",
       "      <td>(48.7710371, -95.7697882)</td>\n",
       "      <td>48.7710371</td>\n",
       "      <td>-95.7697882</td>\n",
       "    </tr>\n",
       "  </tbody>\n",
       "</table>\n",
       "</div>"
      ],
      "text/plain": [
       "  Port Name      State  Port Code            Border        Date  \\\n",
       "0   Warroad  Minnesota       3423  US-Canada Border  2019-06-01   \n",
       "1   Warroad  Minnesota       3423  US-Canada Border  2019-06-01   \n",
       "2   Warroad  Minnesota       3423  US-Canada Border  2019-06-01   \n",
       "3    Roseau  Minnesota       3426  US-Canada Border  2019-06-01   \n",
       "4    Roseau  Minnesota       3426  US-Canada Border  2019-06-01   \n",
       "\n",
       "                       Measure  Value  Year  Month                   position  \\\n",
       "0  Personal Vehicle Passengers  19459  2019      6    (48.905266, -95.314404)   \n",
       "1                  Pedestrians      2  2019      6    (48.905266, -95.314404)   \n",
       "2               Bus Passengers     63  2019      6    (48.905266, -95.314404)   \n",
       "3  Personal Vehicle Passengers   7385  2019      6  (48.7710371, -95.7697882)   \n",
       "4               Bus Passengers    118  2019      6  (48.7710371, -95.7697882)   \n",
       "\n",
       "     latitude    longitude  \n",
       "0   48.905266   -95.314404  \n",
       "1   48.905266   -95.314404  \n",
       "2   48.905266   -95.314404  \n",
       "3  48.7710371  -95.7697882  \n",
       "4  48.7710371  -95.7697882  "
      ]
     },
     "execution_count": 44,
     "metadata": {},
     "output_type": "execute_result"
    }
   ],
   "source": [
    "nozero.head()"
   ]
  },
  {
   "cell_type": "code",
   "execution_count": 57,
   "metadata": {},
   "outputs": [],
   "source": [
    "El_Paso = nozero[nozero['Port Name']== 'El Paso']"
   ]
  },
  {
   "cell_type": "code",
   "execution_count": 58,
   "metadata": {},
   "outputs": [],
   "source": [
    "y = np.log(nozero['Value'])"
   ]
  },
  {
   "cell_type": "code",
   "execution_count": 59,
   "metadata": {},
   "outputs": [
    {
     "data": {
      "text/plain": [
       "0    9.876065\n",
       "1    0.693147\n",
       "2    4.143135\n",
       "3    8.907206\n",
       "4    4.770685\n",
       "Name: Value, dtype: float64"
      ]
     },
     "execution_count": 59,
     "metadata": {},
     "output_type": "execute_result"
    }
   ],
   "source": [
    "y.head()"
   ]
  },
  {
   "cell_type": "code",
   "execution_count": 60,
   "metadata": {},
   "outputs": [
    {
     "data": {
      "text/plain": [
       "<matplotlib.axes._subplots.AxesSubplot at 0x2ca35264c88>"
      ]
     },
     "execution_count": 60,
     "metadata": {},
     "output_type": "execute_result"
    },
    {
     "data": {
      "image/png": "[encoded data removed]",
      "text/plain": [
       "<Figure size 432x288 with 1 Axes>"
      ]
     },
     "metadata": {
      "needs_background": "light"
     },
     "output_type": "display_data"
    }
   ],
   "source": [
    "y.hist()"
   ]
  },
  {
   "cell_type": "code",
   "execution_count": 67,
   "metadata": {},
   "outputs": [],
   "source": [
    "def linear(X,y):\n",
    "    X_train, X_test, y_train, y_test = train_test_split(X, y, test_size=0.2, random_state=42)\n",
    "    iowa_model = LinearRegression()\n",
    "    iowa_model.fit(X_train,y_train)\n",
    "    test_score = iowa_model.score(X_test, y_test)\n",
    "    train_score = iowa_model.score(X_train,y_train)\n",
    "    return print(\"train_score :\",train_score,\"test_score =\",test_score)\n",
    "    \n",
    "def linearRegression(f):\n",
    "    one_hot = OneHotEncoder(categories=\"auto\")\n",
    "    cat_to_onehot = 0\n",
    "    if (('Measure' in f)&('State' in f)):\n",
    "        f.remove('Measure')\n",
    "        f.remove('State')\n",
    "        cat_to_onehot = one_hot.fit_transform(nozero[[\"Measure\",\"State\"]]).toarray()\n",
    "        cat_to_onehot = pd.DataFrame(cat_to_onehot)\n",
    "        X = nozero[f]\n",
    "        X = pd.concat((X,cat_to_onehot),axis=1)\n",
    "        X_train, X_test, y_train, y_test = train_test_split(X, y, test_size=0.2, random_state=42)\n",
    "        return linear(X,y)\n",
    "    if (('Measure' in f)):\n",
    "        f.remove('Measure')\n",
    "        cat_to_onehot = one_hot.fit_transform(nozero[[\"Measure\"]]).toarray()\n",
    "        cat_to_onehot = pd.DataFrame(cat_to_onehot)\n",
    "        X = nozero[f]\n",
    "        X = pd.concat((X,cat_to_onehot),axis=1)\n",
    "        X_train, X_test, y_train, y_test = train_test_split(X, y, test_size=0.2, random_state=42)\n",
    "        return linear(X,y)\n",
    "    if (('State' in f)):\n",
    "        f.remove('State')\n",
    "        cat_to_onehot = one_hot.fit_transform(nozero[[\"State\"]]).toarray()\n",
    "        cat_to_onehot = pd.DataFrame(cat_to_onehot)\n",
    "        X = nozero[f]\n",
    "        X = pd.concat((X,cat_to_onehot),axis=1)\n",
    "        return linear(X,y)\n",
    "    else:\n",
    "        X = nozero[f]\n",
    "        return linear(X,y)"
   ]
  },
  {
   "cell_type": "code",
   "execution_count": 56,
   "metadata": {},
   "outputs": [],
   "source": [
    "#X_train, X_test, y_train, y_test = train_test_split(El_Paso[['longitude']], y, test_size=0.2, random_state=42)\n",
    "#iowa_model = LinearRegression()\n",
    "#iowa_model.fit(X_train,y_train)\n",
    "#test_score = iowa_model.score(X_test, y_test)\n",
    "#train_score = iowa_model.score(X_train,y_train)\n",
    "#print(\"train_score :\",train_score,\"test_score =\",test_score)"
   ]
  },
  {
   "cell_type": "code",
   "execution_count": 68,
   "metadata": {},
   "outputs": [
    {
     "ename": "ValueError",
     "evalue": "Found input variables with inconsistent numbers of samples: [102328, 75624]",
     "output_type": "error",
     "traceback": [
      "\u001b[1;31m---------------------------------------------------------------------------\u001b[0m",
      "\u001b[1;31mValueError\u001b[0m                                Traceback (most recent call last)",
      "\u001b[1;32m<ipython-input-68-0780160098a3>\u001b[0m in \u001b[0;36m<module>\u001b[1;34m\u001b[0m\n\u001b[1;32m----> 1\u001b[1;33m \u001b[0mlinearRegression\u001b[0m\u001b[1;33m(\u001b[0m\u001b[1;33m[\u001b[0m\u001b[1;34m'Measure'\u001b[0m\u001b[1;33m,\u001b[0m\u001b[1;34m'Port Code'\u001b[0m\u001b[1;33m,\u001b[0m\u001b[1;34m'State'\u001b[0m\u001b[1;33m,\u001b[0m\u001b[1;34m'latitude'\u001b[0m\u001b[1;33m,\u001b[0m\u001b[1;34m'longitude'\u001b[0m\u001b[1;33m,\u001b[0m\u001b[1;34m'Border'\u001b[0m\u001b[1;33m]\u001b[0m\u001b[1;33m)\u001b[0m\u001b[1;33m\u001b[0m\u001b[1;33m\u001b[0m\u001b[0m\n\u001b[0m",
      "\u001b[1;32m<ipython-input-67-168ada9f6614>\u001b[0m in \u001b[0;36mlinearRegression\u001b[1;34m(f)\u001b[0m\n\u001b[0;32m     17\u001b[0m         \u001b[0mX\u001b[0m \u001b[1;33m=\u001b[0m \u001b[0mnozero\u001b[0m\u001b[1;33m[\u001b[0m\u001b[0mf\u001b[0m\u001b[1;33m]\u001b[0m\u001b[1;33m\u001b[0m\u001b[1;33m\u001b[0m\u001b[0m\n\u001b[0;32m     18\u001b[0m         \u001b[0mX\u001b[0m \u001b[1;33m=\u001b[0m \u001b[0mpd\u001b[0m\u001b[1;33m.\u001b[0m\u001b[0mconcat\u001b[0m\u001b[1;33m(\u001b[0m\u001b[1;33m(\u001b[0m\u001b[0mX\u001b[0m\u001b[1;33m,\u001b[0m\u001b[0mcat_to_onehot\u001b[0m\u001b[1;33m)\u001b[0m\u001b[1;33m,\u001b[0m\u001b[0maxis\u001b[0m\u001b[1;33m=\u001b[0m\u001b[1;36m1\u001b[0m\u001b[1;33m)\u001b[0m\u001b[1;33m\u001b[0m\u001b[1;33m\u001b[0m\u001b[0m\n\u001b[1;32m---> 19\u001b[1;33m         \u001b[0mX_train\u001b[0m\u001b[1;33m,\u001b[0m \u001b[0mX_test\u001b[0m\u001b[1;33m,\u001b[0m \u001b[0my_train\u001b[0m\u001b[1;33m,\u001b[0m \u001b[0my_test\u001b[0m \u001b[1;33m=\u001b[0m \u001b[0mtrain_test_split\u001b[0m\u001b[1;33m(\u001b[0m\u001b[0mX\u001b[0m\u001b[1;33m,\u001b[0m \u001b[0my\u001b[0m\u001b[1;33m,\u001b[0m \u001b[0mtest_size\u001b[0m\u001b[1;33m=\u001b[0m\u001b[1;36m0.2\u001b[0m\u001b[1;33m,\u001b[0m \u001b[0mrandom_state\u001b[0m\u001b[1;33m=\u001b[0m\u001b[1;36m42\u001b[0m\u001b[1;33m)\u001b[0m\u001b[1;33m\u001b[0m\u001b[1;33m\u001b[0m\u001b[0m\n\u001b[0m\u001b[0;32m     20\u001b[0m         \u001b[1;32mreturn\u001b[0m \u001b[0mlinear\u001b[0m\u001b[1;33m(\u001b[0m\u001b[0mX\u001b[0m\u001b[1;33m,\u001b[0m\u001b[0my\u001b[0m\u001b[1;33m)\u001b[0m\u001b[1;33m\u001b[0m\u001b[1;33m\u001b[0m\u001b[0m\n\u001b[0;32m     21\u001b[0m     \u001b[1;32mif\u001b[0m \u001b[1;33m(\u001b[0m\u001b[1;33m(\u001b[0m\u001b[1;34m'Measure'\u001b[0m \u001b[1;32min\u001b[0m \u001b[0mf\u001b[0m\u001b[1;33m)\u001b[0m\u001b[1;33m)\u001b[0m\u001b[1;33m:\u001b[0m\u001b[1;33m\u001b[0m\u001b[1;33m\u001b[0m\u001b[0m\n",
      "\u001b[1;32mC:\\ProgramData\\Anaconda3\\lib\\site-packages\\sklearn\\model_selection\\_split.py\u001b[0m in \u001b[0;36mtrain_test_split\u001b[1;34m(*arrays, **options)\u001b[0m\n\u001b[0;32m   2094\u001b[0m         \u001b[1;32mraise\u001b[0m \u001b[0mTypeError\u001b[0m\u001b[1;33m(\u001b[0m\u001b[1;34m\"Invalid parameters passed: %s\"\u001b[0m \u001b[1;33m%\u001b[0m \u001b[0mstr\u001b[0m\u001b[1;33m(\u001b[0m\u001b[0moptions\u001b[0m\u001b[1;33m)\u001b[0m\u001b[1;33m)\u001b[0m\u001b[1;33m\u001b[0m\u001b[1;33m\u001b[0m\u001b[0m\n\u001b[0;32m   2095\u001b[0m \u001b[1;33m\u001b[0m\u001b[0m\n\u001b[1;32m-> 2096\u001b[1;33m     \u001b[0marrays\u001b[0m \u001b[1;33m=\u001b[0m \u001b[0mindexable\u001b[0m\u001b[1;33m(\u001b[0m\u001b[1;33m*\u001b[0m\u001b[0marrays\u001b[0m\u001b[1;33m)\u001b[0m\u001b[1;33m\u001b[0m\u001b[1;33m\u001b[0m\u001b[0m\n\u001b[0m\u001b[0;32m   2097\u001b[0m \u001b[1;33m\u001b[0m\u001b[0m\n\u001b[0;32m   2098\u001b[0m     \u001b[0mn_samples\u001b[0m \u001b[1;33m=\u001b[0m \u001b[0m_num_samples\u001b[0m\u001b[1;33m(\u001b[0m\u001b[0marrays\u001b[0m\u001b[1;33m[\u001b[0m\u001b[1;36m0\u001b[0m\u001b[1;33m]\u001b[0m\u001b[1;33m)\u001b[0m\u001b[1;33m\u001b[0m\u001b[1;33m\u001b[0m\u001b[0m\n",
      "\u001b[1;32mC:\\ProgramData\\Anaconda3\\lib\\site-packages\\sklearn\\utils\\validation.py\u001b[0m in \u001b[0;36mindexable\u001b[1;34m(*iterables)\u001b[0m\n\u001b[0;32m    228\u001b[0m         \u001b[1;32melse\u001b[0m\u001b[1;33m:\u001b[0m\u001b[1;33m\u001b[0m\u001b[1;33m\u001b[0m\u001b[0m\n\u001b[0;32m    229\u001b[0m             \u001b[0mresult\u001b[0m\u001b[1;33m.\u001b[0m\u001b[0mappend\u001b[0m\u001b[1;33m(\u001b[0m\u001b[0mnp\u001b[0m\u001b[1;33m.\u001b[0m\u001b[0marray\u001b[0m\u001b[1;33m(\u001b[0m\u001b[0mX\u001b[0m\u001b[1;33m)\u001b[0m\u001b[1;33m)\u001b[0m\u001b[1;33m\u001b[0m\u001b[1;33m\u001b[0m\u001b[0m\n\u001b[1;32m--> 230\u001b[1;33m     \u001b[0mcheck_consistent_length\u001b[0m\u001b[1;33m(\u001b[0m\u001b[1;33m*\u001b[0m\u001b[0mresult\u001b[0m\u001b[1;33m)\u001b[0m\u001b[1;33m\u001b[0m\u001b[1;33m\u001b[0m\u001b[0m\n\u001b[0m\u001b[0;32m    231\u001b[0m     \u001b[1;32mreturn\u001b[0m \u001b[0mresult\u001b[0m\u001b[1;33m\u001b[0m\u001b[1;33m\u001b[0m\u001b[0m\n\u001b[0;32m    232\u001b[0m \u001b[1;33m\u001b[0m\u001b[0m\n",
      "\u001b[1;32mC:\\ProgramData\\Anaconda3\\lib\\site-packages\\sklearn\\utils\\validation.py\u001b[0m in \u001b[0;36mcheck_consistent_length\u001b[1;34m(*arrays)\u001b[0m\n\u001b[0;32m    203\u001b[0m     \u001b[1;32mif\u001b[0m \u001b[0mlen\u001b[0m\u001b[1;33m(\u001b[0m\u001b[0muniques\u001b[0m\u001b[1;33m)\u001b[0m \u001b[1;33m>\u001b[0m \u001b[1;36m1\u001b[0m\u001b[1;33m:\u001b[0m\u001b[1;33m\u001b[0m\u001b[1;33m\u001b[0m\u001b[0m\n\u001b[0;32m    204\u001b[0m         raise ValueError(\"Found input variables with inconsistent numbers of\"\n\u001b[1;32m--> 205\u001b[1;33m                          \" samples: %r\" % [int(l) for l in lengths])\n\u001b[0m\u001b[0;32m    206\u001b[0m \u001b[1;33m\u001b[0m\u001b[0m\n\u001b[0;32m    207\u001b[0m \u001b[1;33m\u001b[0m\u001b[0m\n",
      "\u001b[1;31mValueError\u001b[0m: Found input variables with inconsistent numbers of samples: [102328, 75624]"
     ]
    }
   ],
   "source": [
    "linearRegression(['Measure','Port Code','State','latitude','longitude','Border'])"
   ]
  },
  {
   "cell_type": "code",
   "execution_count": null,
   "metadata": {},
   "outputs": [],
   "source": []
  }
 ],
 "metadata": {
  "kernelspec": {
   "display_name": "Python 3",
   "language": "python",
   "name": "python3"
  },
  "language_info": {
   "codemirror_mode": {
    "name": "ipython",
    "version": 3
   },
   "file_extension": ".py",
   "mimetype": "text/x-python",
   "name": "python",
   "nbconvert_exporter": "python",
   "pygments_lexer": "ipython3",
   "version": "3.7.3"
  }
 },
 "nbformat": 4,
 "nbformat_minor": 2
}
