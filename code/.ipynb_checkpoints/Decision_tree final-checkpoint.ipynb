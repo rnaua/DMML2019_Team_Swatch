{
 "cells": [
  {
   "cell_type": "markdown",
   "metadata": {},
   "source": [
    "## Decision tree\n"
   ]
  },
  {
   "cell_type": "code",
   "execution_count": 1,
   "metadata": {
    "inputHidden": false,
    "outputHidden": false
   },
   "outputs": [],
   "source": [
    "import pandas as pd"
   ]
  },
  {
   "cell_type": "code",
   "execution_count": 2,
   "metadata": {
    "inputHidden": false,
    "outputHidden": false
   },
   "outputs": [],
   "source": [
    "df= pd.read_csv(\"../Data/DataWithLocationCleaned.csv.gz\")"
   ]
  },
  {
   "cell_type": "code",
   "execution_count": 3,
   "metadata": {
    "inputHidden": false,
    "outputHidden": false
   },
   "outputs": [],
   "source": [
    "import matplotlib.pyplot as plt\n",
    "%matplotlib inline\n",
    "import numpy as np\n",
    "import pandas as pd\n",
    "import seaborn as sns\n",
    "import warnings\n",
    "from sklearn.tree import DecisionTreeClassifier\n",
    "from sklearn.ensemble import RandomForestClassifier\n",
    "from sklearn.preprocessing import LabelEncoder, OneHotEncoder\n",
    "\n",
    "sns.set_style(\"darkgrid\")\n",
    "warnings.filterwarnings('ignore')"
   ]
  },
  {
   "cell_type": "code",
   "execution_count": 4,
   "metadata": {
    "inputHidden": false,
    "outputHidden": false
   },
   "outputs": [
    {
     "data": {
      "text/html": [
       "<div>\n",
       "<style scoped>\n",
       "    .dataframe tbody tr th:only-of-type {\n",
       "        vertical-align: middle;\n",
       "    }\n",
       "\n",
       "    .dataframe tbody tr th {\n",
       "        vertical-align: top;\n",
       "    }\n",
       "\n",
       "    .dataframe thead th {\n",
       "        text-align: right;\n",
       "    }\n",
       "</style>\n",
       "<table border=\"1\" class=\"dataframe\">\n",
       "  <thead>\n",
       "    <tr style=\"text-align: right;\">\n",
       "      <th></th>\n",
       "      <th>Port Name</th>\n",
       "      <th>State</th>\n",
       "      <th>Port Code</th>\n",
       "      <th>Border</th>\n",
       "      <th>Date</th>\n",
       "      <th>Measure</th>\n",
       "      <th>Value</th>\n",
       "      <th>Year</th>\n",
       "      <th>Month</th>\n",
       "      <th>position</th>\n",
       "    </tr>\n",
       "  </thead>\n",
       "  <tbody>\n",
       "    <tr>\n",
       "      <th>0</th>\n",
       "      <td>Warroad</td>\n",
       "      <td>Minnesota</td>\n",
       "      <td>3423</td>\n",
       "      <td>US-Canada Border</td>\n",
       "      <td>2019-06-01</td>\n",
       "      <td>Truck Containers Full</td>\n",
       "      <td>133</td>\n",
       "      <td>2019</td>\n",
       "      <td>6</td>\n",
       "      <td>(48.905266, -95.314404)</td>\n",
       "    </tr>\n",
       "    <tr>\n",
       "      <th>1</th>\n",
       "      <td>Warroad</td>\n",
       "      <td>Minnesota</td>\n",
       "      <td>3423</td>\n",
       "      <td>US-Canada Border</td>\n",
       "      <td>2019-06-01</td>\n",
       "      <td>Truck Containers Empty</td>\n",
       "      <td>298</td>\n",
       "      <td>2019</td>\n",
       "      <td>6</td>\n",
       "      <td>(48.905266, -95.314404)</td>\n",
       "    </tr>\n",
       "    <tr>\n",
       "      <th>2</th>\n",
       "      <td>Warroad</td>\n",
       "      <td>Minnesota</td>\n",
       "      <td>3423</td>\n",
       "      <td>US-Canada Border</td>\n",
       "      <td>2019-06-01</td>\n",
       "      <td>Personal Vehicles</td>\n",
       "      <td>10383</td>\n",
       "      <td>2019</td>\n",
       "      <td>6</td>\n",
       "      <td>(48.905266, -95.314404)</td>\n",
       "    </tr>\n",
       "    <tr>\n",
       "      <th>3</th>\n",
       "      <td>Warroad</td>\n",
       "      <td>Minnesota</td>\n",
       "      <td>3423</td>\n",
       "      <td>US-Canada Border</td>\n",
       "      <td>2019-06-01</td>\n",
       "      <td>Personal Vehicle Passengers</td>\n",
       "      <td>19459</td>\n",
       "      <td>2019</td>\n",
       "      <td>6</td>\n",
       "      <td>(48.905266, -95.314404)</td>\n",
       "    </tr>\n",
       "    <tr>\n",
       "      <th>4</th>\n",
       "      <td>Warroad</td>\n",
       "      <td>Minnesota</td>\n",
       "      <td>3423</td>\n",
       "      <td>US-Canada Border</td>\n",
       "      <td>2019-06-01</td>\n",
       "      <td>Pedestrians</td>\n",
       "      <td>2</td>\n",
       "      <td>2019</td>\n",
       "      <td>6</td>\n",
       "      <td>(48.905266, -95.314404)</td>\n",
       "    </tr>\n",
       "  </tbody>\n",
       "</table>\n",
       "</div>"
      ],
      "text/plain": [
       "  Port Name      State  Port Code            Border        Date  \\\n",
       "0   Warroad  Minnesota       3423  US-Canada Border  2019-06-01   \n",
       "1   Warroad  Minnesota       3423  US-Canada Border  2019-06-01   \n",
       "2   Warroad  Minnesota       3423  US-Canada Border  2019-06-01   \n",
       "3   Warroad  Minnesota       3423  US-Canada Border  2019-06-01   \n",
       "4   Warroad  Minnesota       3423  US-Canada Border  2019-06-01   \n",
       "\n",
       "                       Measure  Value  Year  Month                 position  \n",
       "0        Truck Containers Full    133  2019      6  (48.905266, -95.314404)  \n",
       "1       Truck Containers Empty    298  2019      6  (48.905266, -95.314404)  \n",
       "2            Personal Vehicles  10383  2019      6  (48.905266, -95.314404)  \n",
       "3  Personal Vehicle Passengers  19459  2019      6  (48.905266, -95.314404)  \n",
       "4                  Pedestrians      2  2019      6  (48.905266, -95.314404)  "
      ]
     },
     "execution_count": 4,
     "metadata": {},
     "output_type": "execute_result"
    }
   ],
   "source": [
    "df.head()"
   ]
  },
  {
   "cell_type": "code",
   "execution_count": 5,
   "metadata": {
    "inputHidden": false,
    "outputHidden": false
   },
   "outputs": [
    {
     "data": {
      "text/plain": [
       "Port Name            object\n",
       "State                object\n",
       "Port Code             int64\n",
       "Border               object\n",
       "Date         datetime64[ns]\n",
       "Measure              object\n",
       "Value                 int64\n",
       "Year                  int64\n",
       "Month                 int64\n",
       "position             object\n",
       "dtype: object"
      ]
     },
     "execution_count": 5,
     "metadata": {},
     "output_type": "execute_result"
    }
   ],
   "source": [
    "# correct Date types \n",
    "df['Date'] = pd.to_datetime(df['Date'])\n",
    "df.dtypes\n"
   ]
  },
  {
   "cell_type": "code",
   "execution_count": 6,
   "metadata": {
    "inputHidden": false,
    "outputHidden": false
   },
   "outputs": [],
   "source": [
    "# Add columns latitude and longitude to be consistant with Arnaud\n",
    "# Create one dataFrame for people's counting measure\n",
    "def getlat(x):\n",
    "    lat = x.partition(',')[0][1:]\n",
    "    if lat[0] == \"'\":\n",
    "        lat = lat[1:-1]\n",
    "    return lat\n",
    "\n",
    "def getlong(x):\n",
    "    lat = x.partition(',')[2]\n",
    "    if lat[1] == \"'\":\n",
    "        lat = lat[2:-2]\n",
    "    else:\n",
    "        lat = lat[1:-1]\n",
    "    return lat\n",
    "\n",
    "df['latitude'] = df['position'].apply(lambda x: getlat(x))\n",
    "df['longitude'] = df['position'].apply(lambda x: getlong(x))\n"
   ]
  },
  {
   "cell_type": "code",
   "execution_count": 7,
   "metadata": {
    "inputHidden": false,
    "outputHidden": false
   },
   "outputs": [
    {
     "data": {
      "text/plain": [
       "(116131, 12)"
      ]
     },
     "execution_count": 7,
     "metadata": {},
     "output_type": "execute_result"
    }
   ],
   "source": [
    "\n",
    "persons = df[df['Measure'].isin(['Bus Passengers','Pedestrians','Personal Vehicle Passengers','Train Passengers'])].reset_index().drop(columns=['index'])\n",
    "\n",
    "persons.shape\n"
   ]
  },
  {
   "cell_type": "code",
   "execution_count": 8,
   "metadata": {
    "inputHidden": false,
    "outputHidden": false
   },
   "outputs": [
    {
     "data": {
      "text/html": [
       "<div>\n",
       "<style scoped>\n",
       "    .dataframe tbody tr th:only-of-type {\n",
       "        vertical-align: middle;\n",
       "    }\n",
       "\n",
       "    .dataframe tbody tr th {\n",
       "        vertical-align: top;\n",
       "    }\n",
       "\n",
       "    .dataframe thead th {\n",
       "        text-align: right;\n",
       "    }\n",
       "</style>\n",
       "<table border=\"1\" class=\"dataframe\">\n",
       "  <thead>\n",
       "    <tr style=\"text-align: right;\">\n",
       "      <th></th>\n",
       "      <th>Port Code</th>\n",
       "      <th>Value</th>\n",
       "      <th>Year</th>\n",
       "      <th>Month</th>\n",
       "    </tr>\n",
       "    <tr>\n",
       "      <th>Port Name</th>\n",
       "      <th></th>\n",
       "      <th></th>\n",
       "      <th></th>\n",
       "      <th></th>\n",
       "    </tr>\n",
       "  </thead>\n",
       "  <tbody>\n",
       "    <tr>\n",
       "      <th>San Ysidro</th>\n",
       "      <td>2736872</td>\n",
       "      <td>820753587</td>\n",
       "      <td>2193570</td>\n",
       "      <td>7033</td>\n",
       "    </tr>\n",
       "    <tr>\n",
       "      <th>El Paso</th>\n",
       "      <td>2709456</td>\n",
       "      <td>813405376</td>\n",
       "      <td>2264184</td>\n",
       "      <td>7260</td>\n",
       "    </tr>\n",
       "    <tr>\n",
       "      <th>Laredo</th>\n",
       "      <td>2518272</td>\n",
       "      <td>435119695</td>\n",
       "      <td>2193570</td>\n",
       "      <td>7033</td>\n",
       "    </tr>\n",
       "    <tr>\n",
       "      <th>Hidalgo</th>\n",
       "      <td>2519365</td>\n",
       "      <td>406092835</td>\n",
       "      <td>2193570</td>\n",
       "      <td>7033</td>\n",
       "    </tr>\n",
       "    <tr>\n",
       "      <th>Calexico</th>\n",
       "      <td>2648174</td>\n",
       "      <td>401463611</td>\n",
       "      <td>2122956</td>\n",
       "      <td>6806</td>\n",
       "    </tr>\n",
       "  </tbody>\n",
       "</table>\n",
       "</div>"
      ],
      "text/plain": [
       "            Port Code      Value     Year  Month\n",
       "Port Name                                       \n",
       "San Ysidro    2736872  820753587  2193570   7033\n",
       "El Paso       2709456  813405376  2264184   7260\n",
       "Laredo        2518272  435119695  2193570   7033\n",
       "Hidalgo       2519365  406092835  2193570   7033\n",
       "Calexico      2648174  401463611  2122956   6806"
      ]
     },
     "execution_count": 8,
     "metadata": {},
     "output_type": "execute_result"
    }
   ],
   "source": [
    "#just a plus\n",
    "# NOT RELEVANT but maybe for Arnaud on the map\n",
    "persons.groupby(['Port Name']).sum().sort_values(['Value'],ascending=False).head()\n",
    "\n"
   ]
  },
  {
   "cell_type": "code",
   "execution_count": 9,
   "metadata": {
    "inputHidden": false,
    "outputHidden": false,
    "scrolled": true
   },
   "outputs": [
    {
     "data": {
      "text/plain": [
       "Port Name    0\n",
       "State        0\n",
       "Port Code    0\n",
       "Border       0\n",
       "Date         0\n",
       "Measure      0\n",
       "Value        0\n",
       "Year         0\n",
       "Month        0\n",
       "position     0\n",
       "latitude     0\n",
       "longitude    0\n",
       "dtype: int64"
      ]
     },
     "execution_count": 9,
     "metadata": {},
     "output_type": "execute_result"
    }
   ],
   "source": [
    "# just testing\n",
    "# NOT RELEVANT\n",
    "persons.isnull().sum()"
   ]
  },
  {
   "cell_type": "code",
   "execution_count": 10,
   "metadata": {
    "inputHidden": false,
    "outputHidden": false
   },
   "outputs": [
    {
     "data": {
      "text/plain": [
       "count    1.161310e+05\n",
       "mean     5.778344e+04\n",
       "std      2.366958e+05\n",
       "min      0.000000e+00\n",
       "25%      0.000000e+00\n",
       "50%      1.560000e+02\n",
       "75%      6.943000e+03\n",
       "max      4.447374e+06\n",
       "Name: Value, dtype: float64"
      ]
     },
     "execution_count": 10,
     "metadata": {},
     "output_type": "execute_result"
    }
   ],
   "source": [
    "# just checking values...\n",
    "# NOT RELEVANT\n",
    "persons['Value'].describe()"
   ]
  },
  {
   "cell_type": "code",
   "execution_count": 11,
   "metadata": {
    "inputHidden": false,
    "outputHidden": false
   },
   "outputs": [
    {
     "data": {
      "text/plain": [
       "(75624, 12)"
      ]
     },
     "execution_count": 11,
     "metadata": {},
     "output_type": "execute_result"
    }
   ],
   "source": [
    "nozero = persons[persons['Value'] != 0]\n",
    "nozero.shape"
   ]
  },
  {
   "cell_type": "code",
   "execution_count": 12,
   "metadata": {
    "inputHidden": false,
    "outputHidden": false
   },
   "outputs": [
    {
     "name": "stdout",
     "output_type": "stream",
     "text": [
      "intervalls for y:\n",
      "(0.999, 45.0]              9567\n",
      "(142958.375, 4447374.0]    9453\n",
      "(32053.0, 142958.375]      9453\n",
      "(7484.0, 32053.0]          9452\n",
      "(740.0, 2394.0]            9452\n",
      "(2394.0, 7484.0]           9451\n",
      "(190.0, 740.0]             9450\n",
      "(45.0, 190.0]              9346\n",
      "Name: quant, dtype: int64\n",
      "\n"
     ]
    }
   ],
   "source": [
    "nozero['quant'] = pd.qcut(nozero['Value'],q = 8, duplicates = 'drop')\n",
    "print(\"intervalls for y:\")\n",
    "print(nozero['quant'].value_counts())\n",
    "print()\n",
    "le = LabelEncoder()\n",
    "nozero['y'] = le.fit_transform(nozero[\"quant\"])"
   ]
  },
  {
   "cell_type": "code",
   "execution_count": 13,
   "metadata": {
    "inputHidden": false,
    "outputHidden": false
   },
   "outputs": [
    {
     "data": {
      "text/html": [
       "<div>\n",
       "<style scoped>\n",
       "    .dataframe tbody tr th:only-of-type {\n",
       "        vertical-align: middle;\n",
       "    }\n",
       "\n",
       "    .dataframe tbody tr th {\n",
       "        vertical-align: top;\n",
       "    }\n",
       "\n",
       "    .dataframe thead th {\n",
       "        text-align: right;\n",
       "    }\n",
       "</style>\n",
       "<table border=\"1\" class=\"dataframe\">\n",
       "  <thead>\n",
       "    <tr style=\"text-align: right;\">\n",
       "      <th></th>\n",
       "      <th>Port Name</th>\n",
       "      <th>State</th>\n",
       "      <th>Port Code</th>\n",
       "      <th>Border</th>\n",
       "      <th>Date</th>\n",
       "      <th>Measure</th>\n",
       "      <th>Value</th>\n",
       "      <th>Year</th>\n",
       "      <th>Month</th>\n",
       "      <th>position</th>\n",
       "      <th>latitude</th>\n",
       "      <th>longitude</th>\n",
       "      <th>quant</th>\n",
       "      <th>y</th>\n",
       "    </tr>\n",
       "  </thead>\n",
       "  <tbody>\n",
       "    <tr>\n",
       "      <th>90369</th>\n",
       "      <td>El Paso</td>\n",
       "      <td>Texas</td>\n",
       "      <td>2402</td>\n",
       "      <td>US-Mexico Border</td>\n",
       "      <td>2001-03-01</td>\n",
       "      <td>Personal Vehicle Passengers</td>\n",
       "      <td>4447374</td>\n",
       "      <td>2001</td>\n",
       "      <td>3</td>\n",
       "      <td>(31.7600372, -106.487287)</td>\n",
       "      <td>31.7600372</td>\n",
       "      <td>-106.487287</td>\n",
       "      <td>(142958.375, 4447374.0]</td>\n",
       "      <td>7</td>\n",
       "    </tr>\n",
       "    <tr>\n",
       "      <th>93325</th>\n",
       "      <td>El Paso</td>\n",
       "      <td>Texas</td>\n",
       "      <td>2402</td>\n",
       "      <td>US-Mexico Border</td>\n",
       "      <td>2000-08-01</td>\n",
       "      <td>Personal Vehicle Passengers</td>\n",
       "      <td>4291774</td>\n",
       "      <td>2000</td>\n",
       "      <td>8</td>\n",
       "      <td>(31.7600372, -106.487287)</td>\n",
       "      <td>31.7600372</td>\n",
       "      <td>-106.487287</td>\n",
       "      <td>(142958.375, 4447374.0]</td>\n",
       "      <td>7</td>\n",
       "    </tr>\n",
       "    <tr>\n",
       "      <th>90890</th>\n",
       "      <td>El Paso</td>\n",
       "      <td>Texas</td>\n",
       "      <td>2402</td>\n",
       "      <td>US-Mexico Border</td>\n",
       "      <td>2001-02-01</td>\n",
       "      <td>Personal Vehicle Passengers</td>\n",
       "      <td>4281175</td>\n",
       "      <td>2001</td>\n",
       "      <td>2</td>\n",
       "      <td>(31.7600372, -106.487287)</td>\n",
       "      <td>31.7600372</td>\n",
       "      <td>-106.487287</td>\n",
       "      <td>(142958.375, 4447374.0]</td>\n",
       "      <td>7</td>\n",
       "    </tr>\n",
       "    <tr>\n",
       "      <th>90034</th>\n",
       "      <td>El Paso</td>\n",
       "      <td>Texas</td>\n",
       "      <td>2402</td>\n",
       "      <td>US-Mexico Border</td>\n",
       "      <td>2001-04-01</td>\n",
       "      <td>Personal Vehicle Passengers</td>\n",
       "      <td>4252128</td>\n",
       "      <td>2001</td>\n",
       "      <td>4</td>\n",
       "      <td>(31.7600372, -106.487287)</td>\n",
       "      <td>31.7600372</td>\n",
       "      <td>-106.487287</td>\n",
       "      <td>(142958.375, 4447374.0]</td>\n",
       "      <td>7</td>\n",
       "    </tr>\n",
       "    <tr>\n",
       "      <th>93966</th>\n",
       "      <td>El Paso</td>\n",
       "      <td>Texas</td>\n",
       "      <td>2402</td>\n",
       "      <td>US-Mexico Border</td>\n",
       "      <td>2000-06-01</td>\n",
       "      <td>Personal Vehicle Passengers</td>\n",
       "      <td>4235244</td>\n",
       "      <td>2000</td>\n",
       "      <td>6</td>\n",
       "      <td>(31.7600372, -106.487287)</td>\n",
       "      <td>31.7600372</td>\n",
       "      <td>-106.487287</td>\n",
       "      <td>(142958.375, 4447374.0]</td>\n",
       "      <td>7</td>\n",
       "    </tr>\n",
       "  </tbody>\n",
       "</table>\n",
       "</div>"
      ],
      "text/plain": [
       "      Port Name  State  Port Code            Border       Date  \\\n",
       "90369   El Paso  Texas       2402  US-Mexico Border 2001-03-01   \n",
       "93325   El Paso  Texas       2402  US-Mexico Border 2000-08-01   \n",
       "90890   El Paso  Texas       2402  US-Mexico Border 2001-02-01   \n",
       "90034   El Paso  Texas       2402  US-Mexico Border 2001-04-01   \n",
       "93966   El Paso  Texas       2402  US-Mexico Border 2000-06-01   \n",
       "\n",
       "                           Measure    Value  Year  Month  \\\n",
       "90369  Personal Vehicle Passengers  4447374  2001      3   \n",
       "93325  Personal Vehicle Passengers  4291774  2000      8   \n",
       "90890  Personal Vehicle Passengers  4281175  2001      2   \n",
       "90034  Personal Vehicle Passengers  4252128  2001      4   \n",
       "93966  Personal Vehicle Passengers  4235244  2000      6   \n",
       "\n",
       "                        position    latitude    longitude  \\\n",
       "90369  (31.7600372, -106.487287)  31.7600372  -106.487287   \n",
       "93325  (31.7600372, -106.487287)  31.7600372  -106.487287   \n",
       "90890  (31.7600372, -106.487287)  31.7600372  -106.487287   \n",
       "90034  (31.7600372, -106.487287)  31.7600372  -106.487287   \n",
       "93966  (31.7600372, -106.487287)  31.7600372  -106.487287   \n",
       "\n",
       "                         quant  y  \n",
       "90369  (142958.375, 4447374.0]  7  \n",
       "93325  (142958.375, 4447374.0]  7  \n",
       "90890  (142958.375, 4447374.0]  7  \n",
       "90034  (142958.375, 4447374.0]  7  \n",
       "93966  (142958.375, 4447374.0]  7  "
      ]
     },
     "execution_count": 13,
     "metadata": {},
     "output_type": "execute_result"
    }
   ],
   "source": [
    "# check categories...\n",
    "# NOT RELEVANT\n",
    "nozero.sort_values(['Value'],ascending=False).head()"
   ]
  },
  {
   "cell_type": "code",
   "execution_count": 14,
   "metadata": {
    "inputHidden": false,
    "outputHidden": false
   },
   "outputs": [],
   "source": [
    "# CONCLUSION ON WHY WE USED THOSE TECHNIQUES\n",
    "# observations de base totale dans persons: 116131\n",
    "# observations en enlevant les ports qui ont moins que 1100 VALUE: 10147 et 9 ports\n",
    "# observations en enlevant aléatoirement la moitié des données dans la première catégorie: 86870 \n"
   ]
  },
  {
   "cell_type": "code",
   "execution_count": 15,
   "metadata": {
    "inputHidden": false,
    "outputHidden": false
   },
   "outputs": [
    {
     "data": {
      "text/plain": [
       "(75624, 3)"
      ]
     },
     "execution_count": 15,
     "metadata": {},
     "output_type": "execute_result"
    }
   ],
   "source": [
    "#features but possibly add lat, long, measure\n",
    "X = nozero[[\"Year\",\"Month\", \"Port Code\"]]\n",
    "y = nozero[\"y\"]\n",
    "X.shape"
   ]
  },
  {
   "cell_type": "code",
   "execution_count": 16,
   "metadata": {
    "inputHidden": false,
    "outputHidden": false
   },
   "outputs": [
    {
     "data": {
      "text/plain": [
       "Year         0\n",
       "Month        0\n",
       "Port Code    0\n",
       "dtype: int64"
      ]
     },
     "execution_count": 16,
     "metadata": {},
     "output_type": "execute_result"
    }
   ],
   "source": [
    "X.isnull().sum()"
   ]
  },
  {
   "cell_type": "code",
   "execution_count": 17,
   "metadata": {
    "inputHidden": false,
    "outputHidden": false
   },
   "outputs": [
    {
     "data": {
      "text/html": [
       "<div>\n",
       "<style scoped>\n",
       "    .dataframe tbody tr th:only-of-type {\n",
       "        vertical-align: middle;\n",
       "    }\n",
       "\n",
       "    .dataframe tbody tr th {\n",
       "        vertical-align: top;\n",
       "    }\n",
       "\n",
       "    .dataframe thead th {\n",
       "        text-align: right;\n",
       "    }\n",
       "</style>\n",
       "<table border=\"1\" class=\"dataframe\">\n",
       "  <thead>\n",
       "    <tr style=\"text-align: right;\">\n",
       "      <th></th>\n",
       "      <th>Year</th>\n",
       "      <th>Month</th>\n",
       "      <th>Port Code</th>\n",
       "    </tr>\n",
       "  </thead>\n",
       "  <tbody>\n",
       "    <tr>\n",
       "      <th>0</th>\n",
       "      <td>2019</td>\n",
       "      <td>6</td>\n",
       "      <td>3423</td>\n",
       "    </tr>\n",
       "    <tr>\n",
       "      <th>1</th>\n",
       "      <td>2019</td>\n",
       "      <td>6</td>\n",
       "      <td>3423</td>\n",
       "    </tr>\n",
       "    <tr>\n",
       "      <th>2</th>\n",
       "      <td>2019</td>\n",
       "      <td>6</td>\n",
       "      <td>3423</td>\n",
       "    </tr>\n",
       "    <tr>\n",
       "      <th>3</th>\n",
       "      <td>2019</td>\n",
       "      <td>6</td>\n",
       "      <td>3426</td>\n",
       "    </tr>\n",
       "    <tr>\n",
       "      <th>4</th>\n",
       "      <td>2019</td>\n",
       "      <td>6</td>\n",
       "      <td>3426</td>\n",
       "    </tr>\n",
       "  </tbody>\n",
       "</table>\n",
       "</div>"
      ],
      "text/plain": [
       "   Year  Month  Port Code\n",
       "0  2019      6       3423\n",
       "1  2019      6       3423\n",
       "2  2019      6       3423\n",
       "3  2019      6       3426\n",
       "4  2019      6       3426"
      ]
     },
     "execution_count": 17,
     "metadata": {},
     "output_type": "execute_result"
    }
   ],
   "source": [
    "X.head()"
   ]
  },
  {
   "cell_type": "code",
   "execution_count": 18,
   "metadata": {
    "inputHidden": false,
    "outputHidden": false
   },
   "outputs": [
    {
     "data": {
      "text/plain": [
       "0    5\n",
       "1    0\n",
       "2    1\n",
       "3    4\n",
       "4    1\n",
       "Name: y, dtype: int64"
      ]
     },
     "execution_count": 18,
     "metadata": {},
     "output_type": "execute_result"
    }
   ],
   "source": [
    "y = y.astype('int')\n",
    "y.head()\n"
   ]
  },
  {
   "cell_type": "code",
   "execution_count": 19,
   "metadata": {
    "inputHidden": false,
    "outputHidden": false
   },
   "outputs": [
    {
     "data": {
      "text/plain": [
       "(75624,)"
      ]
     },
     "execution_count": 19,
     "metadata": {},
     "output_type": "execute_result"
    }
   ],
   "source": [
    "y.shape"
   ]
  },
  {
   "cell_type": "code",
   "execution_count": 20,
   "metadata": {
    "inputHidden": false,
    "outputHidden": false
   },
   "outputs": [
    {
     "data": {
      "text/plain": [
       "(75624, 14)"
      ]
     },
     "execution_count": 20,
     "metadata": {},
     "output_type": "execute_result"
    }
   ],
   "source": [
    "nozero.shape"
   ]
  },
  {
   "cell_type": "code",
   "execution_count": 21,
   "metadata": {
    "inputHidden": false,
    "outputHidden": false
   },
   "outputs": [
    {
     "data": {
      "text/html": [
       "<div>\n",
       "<style scoped>\n",
       "    .dataframe tbody tr th:only-of-type {\n",
       "        vertical-align: middle;\n",
       "    }\n",
       "\n",
       "    .dataframe tbody tr th {\n",
       "        vertical-align: top;\n",
       "    }\n",
       "\n",
       "    .dataframe thead th {\n",
       "        text-align: right;\n",
       "    }\n",
       "</style>\n",
       "<table border=\"1\" class=\"dataframe\">\n",
       "  <thead>\n",
       "    <tr style=\"text-align: right;\">\n",
       "      <th></th>\n",
       "      <th>index</th>\n",
       "      <th>Port Name</th>\n",
       "      <th>State</th>\n",
       "      <th>Port Code</th>\n",
       "      <th>Border</th>\n",
       "      <th>Date</th>\n",
       "      <th>Measure</th>\n",
       "      <th>Value</th>\n",
       "      <th>Year</th>\n",
       "      <th>Month</th>\n",
       "      <th>position</th>\n",
       "      <th>latitude</th>\n",
       "      <th>longitude</th>\n",
       "      <th>quant</th>\n",
       "      <th>y</th>\n",
       "    </tr>\n",
       "  </thead>\n",
       "  <tbody>\n",
       "    <tr>\n",
       "      <th>0</th>\n",
       "      <td>0</td>\n",
       "      <td>Warroad</td>\n",
       "      <td>Minnesota</td>\n",
       "      <td>3423</td>\n",
       "      <td>US-Canada Border</td>\n",
       "      <td>2019-06-01</td>\n",
       "      <td>Personal Vehicle Passengers</td>\n",
       "      <td>19459</td>\n",
       "      <td>2019</td>\n",
       "      <td>6</td>\n",
       "      <td>(48.905266, -95.314404)</td>\n",
       "      <td>48.905266</td>\n",
       "      <td>-95.314404</td>\n",
       "      <td>(7484.0, 32053.0]</td>\n",
       "      <td>5</td>\n",
       "    </tr>\n",
       "    <tr>\n",
       "      <th>1</th>\n",
       "      <td>1</td>\n",
       "      <td>Warroad</td>\n",
       "      <td>Minnesota</td>\n",
       "      <td>3423</td>\n",
       "      <td>US-Canada Border</td>\n",
       "      <td>2019-06-01</td>\n",
       "      <td>Pedestrians</td>\n",
       "      <td>2</td>\n",
       "      <td>2019</td>\n",
       "      <td>6</td>\n",
       "      <td>(48.905266, -95.314404)</td>\n",
       "      <td>48.905266</td>\n",
       "      <td>-95.314404</td>\n",
       "      <td>(0.999, 45.0]</td>\n",
       "      <td>0</td>\n",
       "    </tr>\n",
       "    <tr>\n",
       "      <th>2</th>\n",
       "      <td>2</td>\n",
       "      <td>Warroad</td>\n",
       "      <td>Minnesota</td>\n",
       "      <td>3423</td>\n",
       "      <td>US-Canada Border</td>\n",
       "      <td>2019-06-01</td>\n",
       "      <td>Bus Passengers</td>\n",
       "      <td>63</td>\n",
       "      <td>2019</td>\n",
       "      <td>6</td>\n",
       "      <td>(48.905266, -95.314404)</td>\n",
       "      <td>48.905266</td>\n",
       "      <td>-95.314404</td>\n",
       "      <td>(45.0, 190.0]</td>\n",
       "      <td>1</td>\n",
       "    </tr>\n",
       "    <tr>\n",
       "      <th>3</th>\n",
       "      <td>3</td>\n",
       "      <td>Roseau</td>\n",
       "      <td>Minnesota</td>\n",
       "      <td>3426</td>\n",
       "      <td>US-Canada Border</td>\n",
       "      <td>2019-06-01</td>\n",
       "      <td>Personal Vehicle Passengers</td>\n",
       "      <td>7385</td>\n",
       "      <td>2019</td>\n",
       "      <td>6</td>\n",
       "      <td>(48.7710371, -95.7697882)</td>\n",
       "      <td>48.7710371</td>\n",
       "      <td>-95.7697882</td>\n",
       "      <td>(2394.0, 7484.0]</td>\n",
       "      <td>4</td>\n",
       "    </tr>\n",
       "    <tr>\n",
       "      <th>4</th>\n",
       "      <td>4</td>\n",
       "      <td>Roseau</td>\n",
       "      <td>Minnesota</td>\n",
       "      <td>3426</td>\n",
       "      <td>US-Canada Border</td>\n",
       "      <td>2019-06-01</td>\n",
       "      <td>Bus Passengers</td>\n",
       "      <td>118</td>\n",
       "      <td>2019</td>\n",
       "      <td>6</td>\n",
       "      <td>(48.7710371, -95.7697882)</td>\n",
       "      <td>48.7710371</td>\n",
       "      <td>-95.7697882</td>\n",
       "      <td>(45.0, 190.0]</td>\n",
       "      <td>1</td>\n",
       "    </tr>\n",
       "    <tr>\n",
       "      <th>5</th>\n",
       "      <td>5</td>\n",
       "      <td>Detroit</td>\n",
       "      <td>Michigan</td>\n",
       "      <td>3801</td>\n",
       "      <td>US-Canada Border</td>\n",
       "      <td>2019-06-01</td>\n",
       "      <td>Personal Vehicle Passengers</td>\n",
       "      <td>599521</td>\n",
       "      <td>2019</td>\n",
       "      <td>6</td>\n",
       "      <td>(42.3315509, -83.0466403)</td>\n",
       "      <td>42.3315509</td>\n",
       "      <td>-83.0466403</td>\n",
       "      <td>(142958.375, 4447374.0]</td>\n",
       "      <td>7</td>\n",
       "    </tr>\n",
       "    <tr>\n",
       "      <th>6</th>\n",
       "      <td>6</td>\n",
       "      <td>Detroit</td>\n",
       "      <td>Michigan</td>\n",
       "      <td>3801</td>\n",
       "      <td>US-Canada Border</td>\n",
       "      <td>2019-06-01</td>\n",
       "      <td>Bus Passengers</td>\n",
       "      <td>6274</td>\n",
       "      <td>2019</td>\n",
       "      <td>6</td>\n",
       "      <td>(42.3315509, -83.0466403)</td>\n",
       "      <td>42.3315509</td>\n",
       "      <td>-83.0466403</td>\n",
       "      <td>(2394.0, 7484.0]</td>\n",
       "      <td>4</td>\n",
       "    </tr>\n",
       "    <tr>\n",
       "      <th>7</th>\n",
       "      <td>7</td>\n",
       "      <td>Del Rio</td>\n",
       "      <td>Texas</td>\n",
       "      <td>2302</td>\n",
       "      <td>US-Mexico Border</td>\n",
       "      <td>2019-06-01</td>\n",
       "      <td>Pedestrians</td>\n",
       "      <td>14898</td>\n",
       "      <td>2019</td>\n",
       "      <td>6</td>\n",
       "      <td>(29.3627296, -100.896761)</td>\n",
       "      <td>29.3627296</td>\n",
       "      <td>-100.896761</td>\n",
       "      <td>(7484.0, 32053.0]</td>\n",
       "      <td>5</td>\n",
       "    </tr>\n",
       "    <tr>\n",
       "      <th>8</th>\n",
       "      <td>8</td>\n",
       "      <td>Del Rio</td>\n",
       "      <td>Texas</td>\n",
       "      <td>2302</td>\n",
       "      <td>US-Mexico Border</td>\n",
       "      <td>2019-06-01</td>\n",
       "      <td>Personal Vehicle Passengers</td>\n",
       "      <td>238721</td>\n",
       "      <td>2019</td>\n",
       "      <td>6</td>\n",
       "      <td>(29.3627296, -100.896761)</td>\n",
       "      <td>29.3627296</td>\n",
       "      <td>-100.896761</td>\n",
       "      <td>(142958.375, 4447374.0]</td>\n",
       "      <td>7</td>\n",
       "    </tr>\n",
       "    <tr>\n",
       "      <th>9</th>\n",
       "      <td>9</td>\n",
       "      <td>Anacortes</td>\n",
       "      <td>Washington</td>\n",
       "      <td>3010</td>\n",
       "      <td>US-Canada Border</td>\n",
       "      <td>2019-06-01</td>\n",
       "      <td>Personal Vehicle Passengers</td>\n",
       "      <td>8348</td>\n",
       "      <td>2019</td>\n",
       "      <td>6</td>\n",
       "      <td>(48.5020123, -122.6237356)</td>\n",
       "      <td>48.5020123</td>\n",
       "      <td>-122.6237356</td>\n",
       "      <td>(7484.0, 32053.0]</td>\n",
       "      <td>5</td>\n",
       "    </tr>\n",
       "  </tbody>\n",
       "</table>\n",
       "</div>"
      ],
      "text/plain": [
       "   index  Port Name       State  Port Code            Border       Date  \\\n",
       "0      0    Warroad   Minnesota       3423  US-Canada Border 2019-06-01   \n",
       "1      1    Warroad   Minnesota       3423  US-Canada Border 2019-06-01   \n",
       "2      2    Warroad   Minnesota       3423  US-Canada Border 2019-06-01   \n",
       "3      3     Roseau   Minnesota       3426  US-Canada Border 2019-06-01   \n",
       "4      4     Roseau   Minnesota       3426  US-Canada Border 2019-06-01   \n",
       "5      5    Detroit    Michigan       3801  US-Canada Border 2019-06-01   \n",
       "6      6    Detroit    Michigan       3801  US-Canada Border 2019-06-01   \n",
       "7      7    Del Rio       Texas       2302  US-Mexico Border 2019-06-01   \n",
       "8      8    Del Rio       Texas       2302  US-Mexico Border 2019-06-01   \n",
       "9      9  Anacortes  Washington       3010  US-Canada Border 2019-06-01   \n",
       "\n",
       "                       Measure   Value  Year  Month  \\\n",
       "0  Personal Vehicle Passengers   19459  2019      6   \n",
       "1                  Pedestrians       2  2019      6   \n",
       "2               Bus Passengers      63  2019      6   \n",
       "3  Personal Vehicle Passengers    7385  2019      6   \n",
       "4               Bus Passengers     118  2019      6   \n",
       "5  Personal Vehicle Passengers  599521  2019      6   \n",
       "6               Bus Passengers    6274  2019      6   \n",
       "7                  Pedestrians   14898  2019      6   \n",
       "8  Personal Vehicle Passengers  238721  2019      6   \n",
       "9  Personal Vehicle Passengers    8348  2019      6   \n",
       "\n",
       "                     position    latitude     longitude  \\\n",
       "0     (48.905266, -95.314404)   48.905266    -95.314404   \n",
       "1     (48.905266, -95.314404)   48.905266    -95.314404   \n",
       "2     (48.905266, -95.314404)   48.905266    -95.314404   \n",
       "3   (48.7710371, -95.7697882)  48.7710371   -95.7697882   \n",
       "4   (48.7710371, -95.7697882)  48.7710371   -95.7697882   \n",
       "5   (42.3315509, -83.0466403)  42.3315509   -83.0466403   \n",
       "6   (42.3315509, -83.0466403)  42.3315509   -83.0466403   \n",
       "7   (29.3627296, -100.896761)  29.3627296   -100.896761   \n",
       "8   (29.3627296, -100.896761)  29.3627296   -100.896761   \n",
       "9  (48.5020123, -122.6237356)  48.5020123  -122.6237356   \n",
       "\n",
       "                     quant  y  \n",
       "0        (7484.0, 32053.0]  5  \n",
       "1            (0.999, 45.0]  0  \n",
       "2            (45.0, 190.0]  1  \n",
       "3         (2394.0, 7484.0]  4  \n",
       "4            (45.0, 190.0]  1  \n",
       "5  (142958.375, 4447374.0]  7  \n",
       "6         (2394.0, 7484.0]  4  \n",
       "7        (7484.0, 32053.0]  5  \n",
       "8  (142958.375, 4447374.0]  7  \n",
       "9        (7484.0, 32053.0]  5  "
      ]
     },
     "execution_count": 21,
     "metadata": {},
     "output_type": "execute_result"
    }
   ],
   "source": [
    "nozero.reset_index().head(10)"
   ]
  },
  {
   "cell_type": "code",
   "execution_count": 22,
   "metadata": {
    "inputHidden": false,
    "outputHidden": false
   },
   "outputs": [],
   "source": [
    "# one-hot encoding for Border\n",
    "one_hot = OneHotEncoder(categories=\"auto\")\n",
    "cat_to_onehot = one_hot.fit_transform(nozero[[\"Border\"]]).toarray()\n",
    "cat_to_onehot = pd.DataFrame(cat_to_onehot)\n",
    "cat_to_onehot.shape\n",
    "cat_to_onehot = cat_to_onehot.rename(columns={0: \"Canada Border\", 1: \"Mexico Border\"})"
   ]
  },
  {
   "cell_type": "code",
   "execution_count": 23,
   "metadata": {
    "inputHidden": false,
    "outputHidden": false
   },
   "outputs": [],
   "source": [
    "# one-hot encoding for Measure\n",
    "one_hot1 = OneHotEncoder(categories=\"auto\")\n",
    "cat_to_onehot1 = one_hot1.fit_transform(nozero[[\"Measure\"]]).toarray()\n",
    "cat_to_onehot1 = pd.DataFrame(cat_to_onehot1)\n",
    "cat_to_onehot1.shape\n",
    "cat_to_onehot1 = cat_to_onehot1.rename(columns={0: \"Bus Passengers\", 1: \"Pedestrians\",2: \"Personal Vehicle Passengers\", 3: \"Train Passengers\"})"
   ]
  },
  {
   "cell_type": "code",
   "execution_count": 24,
   "metadata": {
    "inputHidden": false,
    "outputHidden": false
   },
   "outputs": [],
   "source": [
    "# one-hot encoding for State\n",
    "one_hot2 = OneHotEncoder(categories=\"auto\")\n",
    "cat_to_onehot2 = one_hot2.fit_transform(nozero[[\"State\"]]).toarray()\n",
    "cat_to_onehot2 = pd.DataFrame(cat_to_onehot2)\n",
    "cat_to_onehot2.shape\n",
    "cat_to_onehot2 = cat_to_onehot2.rename(columns={5: \"Michigan\", 9: \"New York\"})"
   ]
  },
  {
   "cell_type": "code",
   "execution_count": 25,
   "metadata": {
    "inputHidden": false,
    "outputHidden": false
   },
   "outputs": [],
   "source": [
    "OH_list = [X.reset_index(drop=True),cat_to_onehot.reset_index(drop=True),cat_to_onehot1.reset_index(drop=True), cat_to_onehot2.reset_index(drop=True)]"
   ]
  },
  {
   "cell_type": "code",
   "execution_count": 26,
   "metadata": {
    "inputHidden": false,
    "outputHidden": false
   },
   "outputs": [
    {
     "data": {
      "text/plain": [
       "(75624, 23)"
      ]
     },
     "execution_count": 26,
     "metadata": {},
     "output_type": "execute_result"
    }
   ],
   "source": [
    "X = pd.concat((OH_list), axis=1, join='inner')\n",
    "\n",
    "X.shape"
   ]
  },
  {
   "cell_type": "code",
   "execution_count": 27,
   "metadata": {
    "inputHidden": false,
    "outputHidden": false
   },
   "outputs": [
    {
     "data": {
      "text/plain": [
       "Year                           0\n",
       "Month                          0\n",
       "Port Code                      0\n",
       "Canada Border                  0\n",
       "Mexico Border                  0\n",
       "Bus Passengers                 0\n",
       "Pedestrians                    0\n",
       "Personal Vehicle Passengers    0\n",
       "Train Passengers               0\n",
       "0                              0\n",
       "1                              0\n",
       "2                              0\n",
       "3                              0\n",
       "4                              0\n",
       "Michigan                       0\n",
       "6                              0\n",
       "7                              0\n",
       "8                              0\n",
       "New York                       0\n",
       "10                             0\n",
       "11                             0\n",
       "12                             0\n",
       "13                             0\n",
       "dtype: int64"
      ]
     },
     "execution_count": 27,
     "metadata": {},
     "output_type": "execute_result"
    }
   ],
   "source": [
    "X.isnull().sum()"
   ]
  },
  {
   "cell_type": "code",
   "execution_count": 28,
   "metadata": {
    "inputHidden": false,
    "outputHidden": false
   },
   "outputs": [],
   "source": [
    "#X = X.rename(columns={0: \"Canada Border\", 1: \"Mexico Border\"})\n",
    "#X.head()\n"
   ]
  },
  {
   "cell_type": "code",
   "execution_count": 29,
   "metadata": {
    "inputHidden": false,
    "outputHidden": false
   },
   "outputs": [],
   "source": [
    "from sklearn.model_selection import train_test_split\n",
    "X_train, X_test, y_train, y_test = train_test_split(X, y, test_size=0.2, random_state=72)"
   ]
  },
  {
   "cell_type": "code",
   "execution_count": 30,
   "metadata": {
    "inputHidden": false,
    "outputHidden": false
   },
   "outputs": [],
   "source": [
    "clf = DecisionTreeClassifier(criterion='entropy')"
   ]
  },
  {
   "cell_type": "code",
   "execution_count": 31,
   "metadata": {
    "inputHidden": false,
    "outputHidden": false
   },
   "outputs": [
    {
     "data": {
      "text/plain": [
       "DecisionTreeClassifier(class_weight=None, criterion='entropy', max_depth=None,\n",
       "                       max_features=None, max_leaf_nodes=None,\n",
       "                       min_impurity_decrease=0.0, min_impurity_split=None,\n",
       "                       min_samples_leaf=1, min_samples_split=2,\n",
       "                       min_weight_fraction_leaf=0.0, presort=False,\n",
       "                       random_state=None, splitter='best')"
      ]
     },
     "execution_count": 31,
     "metadata": {},
     "output_type": "execute_result"
    }
   ],
   "source": [
    "clf.fit(X_train, y_train)"
   ]
  },
  {
   "cell_type": "code",
   "execution_count": 32,
   "metadata": {
    "inputHidden": false,
    "outputHidden": false
   },
   "outputs": [
    {
     "data": {
      "text/plain": [
       "0.8429752066115702"
      ]
     },
     "execution_count": 32,
     "metadata": {},
     "output_type": "execute_result"
    }
   ],
   "source": [
    "# test accuracy\n",
    "clf.score(X_test,y_test)"
   ]
  },
  {
   "cell_type": "code",
   "execution_count": 33,
   "metadata": {
    "inputHidden": false,
    "outputHidden": false
   },
   "outputs": [
    {
     "data": {
      "text/plain": [
       "31"
      ]
     },
     "execution_count": 33,
     "metadata": {},
     "output_type": "execute_result"
    }
   ],
   "source": [
    "# depth of the decision tree\n",
    "clf.get_depth()"
   ]
  },
  {
   "cell_type": "markdown",
   "metadata": {},
   "source": [
    "Tuning depth of the tree:"
   ]
  },
  {
   "cell_type": "code",
   "execution_count": 34,
   "metadata": {
    "inputHidden": false,
    "outputHidden": false
   },
   "outputs": [],
   "source": [
    "scores = []\n",
    "for d in range(1, 21):\n",
    "    clf = DecisionTreeClassifier(criterion='entropy', max_depth=d)\n",
    "    clf.fit(X_train, y_train)\n",
    "    scores.append(clf.score(X_test, y_test))"
   ]
  },
  {
   "cell_type": "code",
   "execution_count": 35,
   "metadata": {
    "inputHidden": false,
    "outputHidden": false
   },
   "outputs": [
    {
     "data": {
      "text/plain": [
       "Text(0.5, 0, 'depth')"
      ]
     },
     "execution_count": 35,
     "metadata": {},
     "output_type": "execute_result"
    },
    {
     "data": {
      "image/png": "[encoded data removed]",
      "text/plain": [
       "<Figure size 432x288 with 1 Axes>"
      ]
     },
     "metadata": {
      "needs_background": "light"
     },
     "output_type": "display_data"
    }
   ],
   "source": [
    "plt.plot(scores)\n",
    "plt.ylabel('accuracy', fontsize=15)\n",
    "plt.xlabel('depth', fontsize=15)"
   ]
  },
  {
   "cell_type": "code",
   "execution_count": 36,
   "metadata": {
    "inputHidden": false,
    "outputHidden": false
   },
   "outputs": [
    {
     "data": {
      "text/plain": [
       "17"
      ]
     },
     "execution_count": 36,
     "metadata": {},
     "output_type": "execute_result"
    }
   ],
   "source": [
    "# best depth\n",
    "np.argmax(scores)"
   ]
  },
  {
   "cell_type": "markdown",
   "metadata": {},
   "source": [
    "Feature importance"
   ]
  },
  {
   "cell_type": "code",
   "execution_count": 37,
   "metadata": {
    "inputHidden": false,
    "outputHidden": false
   },
   "outputs": [
    {
     "data": {
      "text/plain": [
       "array([0.        , 0.        , 0.35304886, 0.15645587, 0.        ,\n",
       "       0.        , 0.11001497, 0.31489358, 0.02520479, 0.        ,\n",
       "       0.        , 0.        , 0.        , 0.        , 0.        ,\n",
       "       0.        , 0.        , 0.        , 0.04038194, 0.        ,\n",
       "       0.        , 0.        , 0.        ])"
      ]
     },
     "execution_count": 37,
     "metadata": {},
     "output_type": "execute_result"
    }
   ],
   "source": [
    "# feature importances for best classifier\n",
    "clf = DecisionTreeClassifier(criterion='entropy', max_depth=4)\n",
    "clf.fit(X_train, y_train)\n",
    "clf.feature_importances_"
   ]
  },
  {
   "cell_type": "code",
   "execution_count": 38,
   "metadata": {
    "inputHidden": false,
    "outputHidden": false
   },
   "outputs": [
    {
     "data": {
      "text/plain": [
       "[('Port Code', 0.35304885568063926),\n",
       " ('Personal Vehicle Passengers', 0.3148935797208009),\n",
       " ('Canada Border', 0.15645587215588508),\n",
       " ('Pedestrians', 0.1100149714323628),\n",
       " ('New York', 0.040381935123392665),\n",
       " ('Train Passengers', 0.025204785886919375),\n",
       " ('Year', 0.0),\n",
       " ('Month', 0.0),\n",
       " ('Mexico Border', 0.0),\n",
       " ('Bus Passengers', 0.0),\n",
       " (0, 0.0),\n",
       " (1, 0.0),\n",
       " (2, 0.0),\n",
       " (3, 0.0),\n",
       " (4, 0.0),\n",
       " ('Michigan', 0.0),\n",
       " (6, 0.0),\n",
       " (7, 0.0),\n",
       " (8, 0.0),\n",
       " (10, 0.0),\n",
       " (11, 0.0),\n",
       " (12, 0.0),\n",
       " (13, 0.0)]"
      ]
     },
     "execution_count": 38,
     "metadata": {},
     "output_type": "execute_result"
    }
   ],
   "source": [
    "sorted(zip(X_train.columns, clf.feature_importances_), key=lambda x: x[1], reverse=True)"
   ]
  },
  {
   "cell_type": "markdown",
   "metadata": {},
   "source": [
    "Visualizing the decision tree"
   ]
  },
  {
   "cell_type": "code",
   "execution_count": 39,
   "metadata": {
    "inputHidden": false,
    "outputHidden": false
   },
   "outputs": [],
   "source": [
    "#!pip install pydotplus\n",
    "#!pip install graphviz"
   ]
  },
  {
   "cell_type": "code",
   "execution_count": 40,
   "metadata": {
    "inputHidden": false,
    "outputHidden": false
   },
   "outputs": [
    {
     "data": {
      "image/svg+xml": [
       "<svg height=\"528pt\" viewBox=\"0.00 0.00 4309.28 528.00\" width=\"4309pt\" xmlns=\"http://www.w3.org/2000/svg\" xmlns:xlink=\"http://www.w3.org/1999/xlink\">\n",
       "<g class=\"graph\" id=\"graph0\" transform=\"scale(1 1) rotate(0) translate(4 524)\">\n",
       "<title>Tree</title>\n",
       "<polygon fill=\"white\" points=\"-4,4 -4,-524 4305.28,-524 4305.28,4 -4,4\" stroke=\"transparent\"/>\n",
       "<!-- 0 -->\n",
       "<g class=\"node\" id=\"node1\">\n",
       "<title>0</title>\n",
       "<polygon fill=\"#ffffff\" points=\"2387.31,-520 2044.23,-520 2044.23,-442 2387.31,-442 2387.31,-520\" stroke=\"black\"/>\n",
       "<text font-family=\"Times,serif\" font-size=\"14.00\" text-anchor=\"middle\" x=\"2215.77\" y=\"-504.8\">Personal Vehicle Passengers &lt;= 0.5</text>\n",
       "<text font-family=\"Times,serif\" font-size=\"14.00\" text-anchor=\"middle\" x=\"2215.77\" y=\"-490.8\">entropy = 3.0</text>\n",
       "<text font-family=\"Times,serif\" font-size=\"14.00\" text-anchor=\"middle\" x=\"2215.77\" y=\"-476.8\">samples = 60499</text>\n",
       "<text font-family=\"Times,serif\" font-size=\"14.00\" text-anchor=\"middle\" x=\"2215.77\" y=\"-462.8\">value = [7738, 7472, 7503, 7559, 7555, 7631, 7496, 7545]</text>\n",
       "<text font-family=\"Times,serif\" font-size=\"14.00\" text-anchor=\"middle\" x=\"2215.77\" y=\"-448.8\">class = 0</text>\n",
       "</g>\n",
       "<!-- 1 -->\n",
       "<g class=\"node\" id=\"node2\">\n",
       "<title>1</title>\n",
       "<polygon fill=\"#fefcfb\" points=\"1861.31,-406 1518.23,-406 1518.23,-328 1861.31,-328 1861.31,-406\" stroke=\"black\"/>\n",
       "<text font-family=\"Times,serif\" font-size=\"14.00\" text-anchor=\"middle\" x=\"1689.77\" y=\"-390.8\">Canada Border &lt;= 0.5</text>\n",
       "<text font-family=\"Times,serif\" font-size=\"14.00\" text-anchor=\"middle\" x=\"1689.77\" y=\"-376.8\">entropy = 2.847</text>\n",
       "<text font-family=\"Times,serif\" font-size=\"14.00\" text-anchor=\"middle\" x=\"1689.77\" y=\"-362.8\">samples = 36644</text>\n",
       "<text font-family=\"Times,serif\" font-size=\"14.00\" text-anchor=\"middle\" x=\"1689.77\" y=\"-348.8\">value = [7723, 7099, 6464, 4385, 3715, 3030, 2235, 1993]</text>\n",
       "<text font-family=\"Times,serif\" font-size=\"14.00\" text-anchor=\"middle\" x=\"1689.77\" y=\"-334.8\">class = 0</text>\n",
       "</g>\n",
       "<!-- 0&#45;&gt;1 -->\n",
       "<g class=\"edge\" id=\"edge1\">\n",
       "<title>0-&gt;1</title>\n",
       "<path d=\"M2043.9,-443.4C1988.77,-431.67 1927.54,-418.63 1871.71,-406.74\" fill=\"none\" stroke=\"black\"/>\n",
       "<polygon fill=\"black\" points=\"1872.22,-403.27 1861.71,-404.61 1870.77,-410.12 1872.22,-403.27\" stroke=\"black\"/>\n",
       "<text font-family=\"Times,serif\" font-size=\"14.00\" text-anchor=\"middle\" x=\"1875.32\" y=\"-421.38\">True</text>\n",
       "</g>\n",
       "<!-- 16 -->\n",
       "<g class=\"node\" id=\"node17\">\n",
       "<title>16</title>\n",
       "<polygon fill=\"#fffcfd\" points=\"2908.81,-406 2586.73,-406 2586.73,-328 2908.81,-328 2908.81,-406\" stroke=\"black\"/>\n",
       "<text font-family=\"Times,serif\" font-size=\"14.00\" text-anchor=\"middle\" x=\"2747.77\" y=\"-390.8\">Port Code &lt;= 3009.5</text>\n",
       "<text font-family=\"Times,serif\" font-size=\"14.00\" text-anchor=\"middle\" x=\"2747.77\" y=\"-376.8\">entropy = 2.537</text>\n",
       "<text font-family=\"Times,serif\" font-size=\"14.00\" text-anchor=\"middle\" x=\"2747.77\" y=\"-362.8\">samples = 23855</text>\n",
       "<text font-family=\"Times,serif\" font-size=\"14.00\" text-anchor=\"middle\" x=\"2747.77\" y=\"-348.8\">value = [15, 373, 1039, 3174, 3840, 4601, 5261, 5552]</text>\n",
       "<text font-family=\"Times,serif\" font-size=\"14.00\" text-anchor=\"middle\" x=\"2747.77\" y=\"-334.8\">class = 7</text>\n",
       "</g>\n",
       "<!-- 0&#45;&gt;16 -->\n",
       "<g class=\"edge\" id=\"edge16\">\n",
       "<title>0-&gt;16</title>\n",
       "<path d=\"M2387.39,-443.87C2447.94,-431.12 2515.99,-416.8 2576.51,-404.05\" fill=\"none\" stroke=\"black\"/>\n",
       "<polygon fill=\"black\" points=\"2577.48,-407.43 2586.54,-401.94 2576.04,-400.58 2577.48,-407.43\" stroke=\"black\"/>\n",
       "<text font-family=\"Times,serif\" font-size=\"14.00\" text-anchor=\"middle\" x=\"2572.89\" y=\"-418.68\">False</text>\n",
       "</g>\n",
       "<!-- 2 -->\n",
       "<g class=\"node\" id=\"node3\">\n",
       "<title>2</title>\n",
       "<polygon fill=\"#fffdfd\" points=\"997.31,-292 668.23,-292 668.23,-214 997.31,-214 997.31,-292\" stroke=\"black\"/>\n",
       "<text font-family=\"Times,serif\" font-size=\"14.00\" text-anchor=\"middle\" x=\"832.77\" y=\"-276.8\">Pedestrians &lt;= 0.5</text>\n",
       "<text font-family=\"Times,serif\" font-size=\"14.00\" text-anchor=\"middle\" x=\"832.77\" y=\"-262.8\">entropy = 2.921</text>\n",
       "<text font-family=\"Times,serif\" font-size=\"14.00\" text-anchor=\"middle\" x=\"832.77\" y=\"-248.8\">samples = 10983</text>\n",
       "<text font-family=\"Times,serif\" font-size=\"14.00\" text-anchor=\"middle\" x=\"832.77\" y=\"-234.8\">value = [640, 800, 1390, 1326, 1327, 1840, 1713, 1947]</text>\n",
       "<text font-family=\"Times,serif\" font-size=\"14.00\" text-anchor=\"middle\" x=\"832.77\" y=\"-220.8\">class = 7</text>\n",
       "</g>\n",
       "<!-- 1&#45;&gt;2 -->\n",
       "<g class=\"edge\" id=\"edge2\">\n",
       "<title>1-&gt;2</title>\n",
       "<path d=\"M1518.14,-343.57C1369.98,-324.21 1156.86,-296.36 1007.73,-276.87\" fill=\"none\" stroke=\"black\"/>\n",
       "<polygon fill=\"black\" points=\"1007.92,-273.36 997.55,-275.54 1007.02,-280.3 1007.92,-273.36\" stroke=\"black\"/>\n",
       "</g>\n",
       "<!-- 9 -->\n",
       "<g class=\"node\" id=\"node10\">\n",
       "<title>9</title>\n",
       "<polygon fill=\"#fefaf7\" points=\"1850.79,-292 1528.74,-292 1528.74,-214 1850.79,-214 1850.79,-292\" stroke=\"black\"/>\n",
       "<text font-family=\"Times,serif\" font-size=\"14.00\" text-anchor=\"middle\" x=\"1689.77\" y=\"-276.8\">Pedestrians &lt;= 0.5</text>\n",
       "<text font-family=\"Times,serif\" font-size=\"14.00\" text-anchor=\"middle\" x=\"1689.77\" y=\"-262.8\">entropy = 2.493</text>\n",
       "<text font-family=\"Times,serif\" font-size=\"14.00\" text-anchor=\"middle\" x=\"1689.77\" y=\"-248.8\">samples = 25661</text>\n",
       "<text font-family=\"Times,serif\" font-size=\"14.00\" text-anchor=\"middle\" x=\"1689.77\" y=\"-234.8\">value = [7083, 6299, 5074, 3059, 2388, 1190, 522, 46]</text>\n",
       "<text font-family=\"Times,serif\" font-size=\"14.00\" text-anchor=\"middle\" x=\"1689.77\" y=\"-220.8\">class = 0</text>\n",
       "</g>\n",
       "<!-- 1&#45;&gt;9 -->\n",
       "<g class=\"edge\" id=\"edge9\">\n",
       "<title>1-&gt;9</title>\n",
       "<path d=\"M1689.77,-327.77C1689.77,-319.57 1689.77,-310.8 1689.77,-302.28\" fill=\"none\" stroke=\"black\"/>\n",
       "<polygon fill=\"black\" points=\"1693.27,-302.06 1689.77,-292.06 1686.27,-302.06 1693.27,-302.06\" stroke=\"black\"/>\n",
       "</g>\n",
       "<!-- 3 -->\n",
       "<g class=\"node\" id=\"node4\">\n",
       "<title>3</title>\n",
       "<polygon fill=\"#f3fdf2\" points=\"543.81,-178 263.73,-178 263.73,-100 543.81,-100 543.81,-178\" stroke=\"black\"/>\n",
       "<text font-family=\"Times,serif\" font-size=\"14.00\" text-anchor=\"middle\" x=\"403.77\" y=\"-162.8\">Train Passengers &lt;= 0.5</text>\n",
       "<text font-family=\"Times,serif\" font-size=\"14.00\" text-anchor=\"middle\" x=\"403.77\" y=\"-148.8\">entropy = 2.747</text>\n",
       "<text font-family=\"Times,serif\" font-size=\"14.00\" text-anchor=\"middle\" x=\"403.77\" y=\"-134.8\">samples = 5369</text>\n",
       "<text font-family=\"Times,serif\" font-size=\"14.00\" text-anchor=\"middle\" x=\"403.77\" y=\"-120.8\">value = [606, 620, 1240, 960, 548, 838, 553, 4]</text>\n",
       "<text font-family=\"Times,serif\" font-size=\"14.00\" text-anchor=\"middle\" x=\"403.77\" y=\"-106.8\">class = 2</text>\n",
       "</g>\n",
       "<!-- 2&#45;&gt;3 -->\n",
       "<g class=\"edge\" id=\"edge3\">\n",
       "<title>2-&gt;3</title>\n",
       "<path d=\"M686.93,-213.93C644.02,-202.72 597.02,-190.45 553.85,-179.18\" fill=\"none\" stroke=\"black\"/>\n",
       "<polygon fill=\"black\" points=\"554.69,-175.78 544.13,-176.64 552.92,-182.56 554.69,-175.78\" stroke=\"black\"/>\n",
       "</g>\n",
       "<!-- 6 -->\n",
       "<g class=\"node\" id=\"node7\">\n",
       "<title>6</title>\n",
       "<polygon fill=\"#fadce6\" points=\"983.29,-178 682.24,-178 682.24,-100 983.29,-100 983.29,-178\" stroke=\"black\"/>\n",
       "<text font-family=\"Times,serif\" font-size=\"14.00\" text-anchor=\"middle\" x=\"832.77\" y=\"-162.8\">Port Code &lt;= 2603.5</text>\n",
       "<text font-family=\"Times,serif\" font-size=\"14.00\" text-anchor=\"middle\" x=\"832.77\" y=\"-148.8\">entropy = 2.439</text>\n",
       "<text font-family=\"Times,serif\" font-size=\"14.00\" text-anchor=\"middle\" x=\"832.77\" y=\"-134.8\">samples = 5614</text>\n",
       "<text font-family=\"Times,serif\" font-size=\"14.00\" text-anchor=\"middle\" x=\"832.77\" y=\"-120.8\">value = [34, 180, 150, 366, 779, 1002, 1160, 1943]</text>\n",
       "<text font-family=\"Times,serif\" font-size=\"14.00\" text-anchor=\"middle\" x=\"832.77\" y=\"-106.8\">class = 7</text>\n",
       "</g>\n",
       "<!-- 2&#45;&gt;6 -->\n",
       "<g class=\"edge\" id=\"edge6\">\n",
       "<title>2-&gt;6</title>\n",
       "<path d=\"M832.77,-213.77C832.77,-205.57 832.77,-196.8 832.77,-188.28\" fill=\"none\" stroke=\"black\"/>\n",
       "<polygon fill=\"black\" points=\"836.27,-188.06 832.77,-178.06 829.27,-188.06 836.27,-188.06\" stroke=\"black\"/>\n",
       "</g>\n",
       "<!-- 4 -->\n",
       "<g class=\"node\" id=\"node5\">\n",
       "<title>4</title>\n",
       "<polygon fill=\"#fcfffe\" points=\"273.31,-64 0.23,-64 0.23,0 273.31,0 273.31,-64\" stroke=\"black\"/>\n",
       "<text font-family=\"Times,serif\" font-size=\"14.00\" text-anchor=\"middle\" x=\"136.77\" y=\"-48.8\">entropy = 2.686</text>\n",
       "<text font-family=\"Times,serif\" font-size=\"14.00\" text-anchor=\"middle\" x=\"136.77\" y=\"-34.8\">samples = 4306</text>\n",
       "<text font-family=\"Times,serif\" font-size=\"14.00\" text-anchor=\"middle\" x=\"136.77\" y=\"-20.8\">value = [210, 375, 862, 916, 548, 838, 553, 4]</text>\n",
       "<text font-family=\"Times,serif\" font-size=\"14.00\" text-anchor=\"middle\" x=\"136.77\" y=\"-6.8\">class = 3</text>\n",
       "</g>\n",
       "<!-- 3&#45;&gt;4 -->\n",
       "<g class=\"edge\" id=\"edge4\">\n",
       "<title>3-&gt;4</title>\n",
       "<path d=\"M307,-99.94C280.28,-89.44 251.44,-78.09 225.22,-67.78\" fill=\"none\" stroke=\"black\"/>\n",
       "<polygon fill=\"black\" points=\"226.27,-64.44 215.69,-64.04 223.71,-70.95 226.27,-64.44\" stroke=\"black\"/>\n",
       "</g>\n",
       "<!-- 5 -->\n",
       "<g class=\"node\" id=\"node6\">\n",
       "<title>5</title>\n",
       "<polygon fill=\"#fefcfa\" points=\"515.81,-64 291.73,-64 291.73,0 515.81,0 515.81,-64\" stroke=\"black\"/>\n",
       "<text font-family=\"Times,serif\" font-size=\"14.00\" text-anchor=\"middle\" x=\"403.77\" y=\"-48.8\">entropy = 1.739</text>\n",
       "<text font-family=\"Times,serif\" font-size=\"14.00\" text-anchor=\"middle\" x=\"403.77\" y=\"-34.8\">samples = 1063</text>\n",
       "<text font-family=\"Times,serif\" font-size=\"14.00\" text-anchor=\"middle\" x=\"403.77\" y=\"-20.8\">value = [396, 245, 378, 44, 0, 0, 0, 0]</text>\n",
       "<text font-family=\"Times,serif\" font-size=\"14.00\" text-anchor=\"middle\" x=\"403.77\" y=\"-6.8\">class = 0</text>\n",
       "</g>\n",
       "<!-- 3&#45;&gt;5 -->\n",
       "<g class=\"edge\" id=\"edge5\">\n",
       "<title>3-&gt;5</title>\n",
       "<path d=\"M403.77,-99.8C403.77,-91.46 403.77,-82.6 403.77,-74.15\" fill=\"none\" stroke=\"black\"/>\n",
       "<polygon fill=\"black\" points=\"407.27,-74.12 403.77,-64.12 400.27,-74.12 407.27,-74.12\" stroke=\"black\"/>\n",
       "</g>\n",
       "<!-- 7 -->\n",
       "<g class=\"node\" id=\"node8\">\n",
       "<title>7</title>\n",
       "<polygon fill=\"#fcecf1\" points=\"821.29,-64 534.24,-64 534.24,0 821.29,0 821.29,-64\" stroke=\"black\"/>\n",
       "<text font-family=\"Times,serif\" font-size=\"14.00\" text-anchor=\"middle\" x=\"677.77\" y=\"-48.8\">entropy = 2.358</text>\n",
       "<text font-family=\"Times,serif\" font-size=\"14.00\" text-anchor=\"middle\" x=\"677.77\" y=\"-34.8\">samples = 4949</text>\n",
       "<text font-family=\"Times,serif\" font-size=\"14.00\" text-anchor=\"middle\" x=\"677.77\" y=\"-20.8\">value = [10, 41, 92, 366, 779, 1002, 1143, 1516]</text>\n",
       "<text font-family=\"Times,serif\" font-size=\"14.00\" text-anchor=\"middle\" x=\"677.77\" y=\"-6.8\">class = 7</text>\n",
       "</g>\n",
       "<!-- 6&#45;&gt;7 -->\n",
       "<g class=\"edge\" id=\"edge7\">\n",
       "<title>6-&gt;7</title>\n",
       "<path d=\"M776.37,-99.8C761.9,-89.99 746.37,-79.47 732.01,-69.74\" fill=\"none\" stroke=\"black\"/>\n",
       "<polygon fill=\"black\" points=\"733.95,-66.83 723.7,-64.12 730.02,-72.62 733.95,-66.83\" stroke=\"black\"/>\n",
       "</g>\n",
       "<!-- 8 -->\n",
       "<g class=\"node\" id=\"node9\">\n",
       "<title>8</title>\n",
       "<polygon fill=\"#f193b2\" points=\"1063.81,-64 839.73,-64 839.73,0 1063.81,0 1063.81,-64\" stroke=\"black\"/>\n",
       "<text font-family=\"Times,serif\" font-size=\"14.00\" text-anchor=\"middle\" x=\"951.77\" y=\"-48.8\">entropy = 1.498</text>\n",
       "<text font-family=\"Times,serif\" font-size=\"14.00\" text-anchor=\"middle\" x=\"951.77\" y=\"-34.8\">samples = 665</text>\n",
       "<text font-family=\"Times,serif\" font-size=\"14.00\" text-anchor=\"middle\" x=\"951.77\" y=\"-20.8\">value = [24, 139, 58, 0, 0, 0, 17, 427]</text>\n",
       "<text font-family=\"Times,serif\" font-size=\"14.00\" text-anchor=\"middle\" x=\"951.77\" y=\"-6.8\">class = 7</text>\n",
       "</g>\n",
       "<!-- 6&#45;&gt;8 -->\n",
       "<g class=\"edge\" id=\"edge8\">\n",
       "<title>6-&gt;8</title>\n",
       "<path d=\"M876.07,-99.8C886.76,-90.36 898.21,-80.25 908.89,-70.84\" fill=\"none\" stroke=\"black\"/>\n",
       "<polygon fill=\"black\" points=\"911.32,-73.36 916.5,-64.12 906.69,-68.11 911.32,-73.36\" stroke=\"black\"/>\n",
       "</g>\n",
       "<!-- 10 -->\n",
       "<g class=\"node\" id=\"node11\">\n",
       "<title>10</title>\n",
       "<polygon fill=\"#fcfef5\" points=\"1689.79,-178 1367.74,-178 1367.74,-100 1689.79,-100 1689.79,-178\" stroke=\"black\"/>\n",
       "<text font-family=\"Times,serif\" font-size=\"14.00\" text-anchor=\"middle\" x=\"1528.77\" y=\"-162.8\">New York &lt;= 0.5</text>\n",
       "<text font-family=\"Times,serif\" font-size=\"14.00\" text-anchor=\"middle\" x=\"1528.77\" y=\"-148.8\">entropy = 2.569</text>\n",
       "<text font-family=\"Times,serif\" font-size=\"14.00\" text-anchor=\"middle\" x=\"1528.77\" y=\"-134.8\">samples = 17088</text>\n",
       "<text font-family=\"Times,serif\" font-size=\"14.00\" text-anchor=\"middle\" x=\"1528.77\" y=\"-120.8\">value = [2923, 4609, 3980, 2112, 1926, 1047, 448, 43]</text>\n",
       "<text font-family=\"Times,serif\" font-size=\"14.00\" text-anchor=\"middle\" x=\"1528.77\" y=\"-106.8\">class = 1</text>\n",
       "</g>\n",
       "<!-- 9&#45;&gt;10 -->\n",
       "<g class=\"edge\" id=\"edge10\">\n",
       "<title>9-&gt;10</title>\n",
       "<path d=\"M1634.81,-213.77C1620.95,-204.13 1605.97,-193.7 1591.75,-183.81\" fill=\"none\" stroke=\"black\"/>\n",
       "<polygon fill=\"black\" points=\"1593.69,-180.9 1583.48,-178.06 1589.69,-186.64 1593.69,-180.9\" stroke=\"black\"/>\n",
       "</g>\n",
       "<!-- 13 -->\n",
       "<g class=\"node\" id=\"node14\">\n",
       "<title>13</title>\n",
       "<polygon fill=\"#f6d2b8\" points=\"1995.31,-178 1708.23,-178 1708.23,-100 1995.31,-100 1995.31,-178\" stroke=\"black\"/>\n",
       "<text font-family=\"Times,serif\" font-size=\"14.00\" text-anchor=\"middle\" x=\"1851.77\" y=\"-162.8\">New York &lt;= 0.5</text>\n",
       "<text font-family=\"Times,serif\" font-size=\"14.00\" text-anchor=\"middle\" x=\"1851.77\" y=\"-148.8\">entropy = 2.087</text>\n",
       "<text font-family=\"Times,serif\" font-size=\"14.00\" text-anchor=\"middle\" x=\"1851.77\" y=\"-134.8\">samples = 8573</text>\n",
       "<text font-family=\"Times,serif\" font-size=\"14.00\" text-anchor=\"middle\" x=\"1851.77\" y=\"-120.8\">value = [4160, 1690, 1094, 947, 462, 143, 74, 3]</text>\n",
       "<text font-family=\"Times,serif\" font-size=\"14.00\" text-anchor=\"middle\" x=\"1851.77\" y=\"-106.8\">class = 0</text>\n",
       "</g>\n",
       "<!-- 9&#45;&gt;13 -->\n",
       "<g class=\"edge\" id=\"edge13\">\n",
       "<title>9-&gt;13</title>\n",
       "<path d=\"M1745.07,-213.77C1759.01,-204.13 1774.09,-193.7 1788.4,-183.81\" fill=\"none\" stroke=\"black\"/>\n",
       "<polygon fill=\"black\" points=\"1790.48,-186.62 1796.72,-178.06 1786.5,-180.87 1790.48,-186.62\" stroke=\"black\"/>\n",
       "</g>\n",
       "<!-- 11 -->\n",
       "<g class=\"node\" id=\"node12\">\n",
       "<title>11</title>\n",
       "<polygon fill=\"#fcfef6\" points=\"1390.81,-64 1082.73,-64 1082.73,0 1390.81,0 1390.81,-64\" stroke=\"black\"/>\n",
       "<text font-family=\"Times,serif\" font-size=\"14.00\" text-anchor=\"middle\" x=\"1236.77\" y=\"-48.8\">entropy = 2.461</text>\n",
       "<text font-family=\"Times,serif\" font-size=\"14.00\" text-anchor=\"middle\" x=\"1236.77\" y=\"-34.8\">samples = 15208</text>\n",
       "<text font-family=\"Times,serif\" font-size=\"14.00\" text-anchor=\"middle\" x=\"1236.77\" y=\"-20.8\">value = [2899, 4331, 3788, 1822, 1365, 771, 231, 1]</text>\n",
       "<text font-family=\"Times,serif\" font-size=\"14.00\" text-anchor=\"middle\" x=\"1236.77\" y=\"-6.8\">class = 1</text>\n",
       "</g>\n",
       "<!-- 10&#45;&gt;11 -->\n",
       "<g class=\"edge\" id=\"edge11\">\n",
       "<title>10-&gt;11</title>\n",
       "<path d=\"M1422.94,-99.94C1393.46,-89.35 1361.62,-77.9 1332.75,-67.51\" fill=\"none\" stroke=\"black\"/>\n",
       "<polygon fill=\"black\" points=\"1333.67,-64.13 1323.08,-64.04 1331.3,-70.71 1333.67,-64.13\" stroke=\"black\"/>\n",
       "</g>\n",
       "<!-- 12 -->\n",
       "<g class=\"node\" id=\"node13\">\n",
       "<title>12</title>\n",
       "<polygon fill=\"#ddeefb\" points=\"1682.31,-64 1409.23,-64 1409.23,0 1682.31,0 1682.31,-64\" stroke=\"black\"/>\n",
       "<text font-family=\"Times,serif\" font-size=\"14.00\" text-anchor=\"middle\" x=\"1545.77\" y=\"-48.8\">entropy = 2.649</text>\n",
       "<text font-family=\"Times,serif\" font-size=\"14.00\" text-anchor=\"middle\" x=\"1545.77\" y=\"-34.8\">samples = 1880</text>\n",
       "<text font-family=\"Times,serif\" font-size=\"14.00\" text-anchor=\"middle\" x=\"1545.77\" y=\"-20.8\">value = [24, 278, 192, 290, 561, 276, 217, 42]</text>\n",
       "<text font-family=\"Times,serif\" font-size=\"14.00\" text-anchor=\"middle\" x=\"1545.77\" y=\"-6.8\">class = 4</text>\n",
       "</g>\n",
       "<!-- 10&#45;&gt;12 -->\n",
       "<g class=\"edge\" id=\"edge12\">\n",
       "<title>10-&gt;12</title>\n",
       "<path d=\"M1534.95,-99.8C1536.3,-91.46 1537.74,-82.6 1539.11,-74.15\" fill=\"none\" stroke=\"black\"/>\n",
       "<polygon fill=\"black\" points=\"1542.59,-74.55 1540.73,-64.12 1535.68,-73.43 1542.59,-74.55\" stroke=\"black\"/>\n",
       "</g>\n",
       "<!-- 14 -->\n",
       "<g class=\"node\" id=\"node15\">\n",
       "<title>14</title>\n",
       "<polygon fill=\"#f5d1b6\" points=\"1966.81,-64 1700.73,-64 1700.73,0 1966.81,0 1966.81,-64\" stroke=\"black\"/>\n",
       "<text font-family=\"Times,serif\" font-size=\"14.00\" text-anchor=\"middle\" x=\"1833.77\" y=\"-48.8\">entropy = 1.975</text>\n",
       "<text font-family=\"Times,serif\" font-size=\"14.00\" text-anchor=\"middle\" x=\"1833.77\" y=\"-34.8\">samples = 7673</text>\n",
       "<text font-family=\"Times,serif\" font-size=\"14.00\" text-anchor=\"middle\" x=\"1833.77\" y=\"-20.8\">value = [3785, 1521, 978, 929, 435, 25, 0, 0]</text>\n",
       "<text font-family=\"Times,serif\" font-size=\"14.00\" text-anchor=\"middle\" x=\"1833.77\" y=\"-6.8\">class = 0</text>\n",
       "</g>\n",
       "<!-- 13&#45;&gt;14 -->\n",
       "<g class=\"edge\" id=\"edge14\">\n",
       "<title>13-&gt;14</title>\n",
       "<path d=\"M1845.22,-99.8C1843.79,-91.46 1842.27,-82.6 1840.82,-74.15\" fill=\"none\" stroke=\"black\"/>\n",
       "<polygon fill=\"black\" points=\"1844.24,-73.38 1839.1,-64.12 1837.34,-74.56 1844.24,-73.38\" stroke=\"black\"/>\n",
       "</g>\n",
       "<!-- 15 -->\n",
       "<g class=\"node\" id=\"node16\">\n",
       "<title>15</title>\n",
       "<polygon fill=\"#f8dbc7\" points=\"2236.28,-64 1985.26,-64 1985.26,0 2236.28,0 2236.28,-64\" stroke=\"black\"/>\n",
       "<text font-family=\"Times,serif\" font-size=\"14.00\" text-anchor=\"middle\" x=\"2110.77\" y=\"-48.8\">entropy = 2.333</text>\n",
       "<text font-family=\"Times,serif\" font-size=\"14.00\" text-anchor=\"middle\" x=\"2110.77\" y=\"-34.8\">samples = 900</text>\n",
       "<text font-family=\"Times,serif\" font-size=\"14.00\" text-anchor=\"middle\" x=\"2110.77\" y=\"-20.8\">value = [375, 169, 116, 18, 27, 118, 74, 3]</text>\n",
       "<text font-family=\"Times,serif\" font-size=\"14.00\" text-anchor=\"middle\" x=\"2110.77\" y=\"-6.8\">class = 0</text>\n",
       "</g>\n",
       "<!-- 13&#45;&gt;15 -->\n",
       "<g class=\"edge\" id=\"edge15\">\n",
       "<title>13-&gt;15</title>\n",
       "<path d=\"M1945.64,-99.94C1971.44,-89.48 1999.29,-78.19 2024.63,-67.92\" fill=\"none\" stroke=\"black\"/>\n",
       "<polygon fill=\"black\" points=\"2026.26,-71.04 2034.21,-64.04 2023.63,-64.55 2026.26,-71.04\" stroke=\"black\"/>\n",
       "</g>\n",
       "<!-- 17 -->\n",
       "<g class=\"node\" id=\"node18\">\n",
       "<title>17</title>\n",
       "<polygon fill=\"#fbdde7\" points=\"2880.79,-292 2614.74,-292 2614.74,-214 2880.79,-214 2880.79,-292\" stroke=\"black\"/>\n",
       "<text font-family=\"Times,serif\" font-size=\"14.00\" text-anchor=\"middle\" x=\"2747.77\" y=\"-276.8\">Port Code &lt;= 702.5</text>\n",
       "<text font-family=\"Times,serif\" font-size=\"14.00\" text-anchor=\"middle\" x=\"2747.77\" y=\"-262.8\">entropy = 1.811</text>\n",
       "<text font-family=\"Times,serif\" font-size=\"14.00\" text-anchor=\"middle\" x=\"2747.77\" y=\"-248.8\">samples = 11222</text>\n",
       "<text font-family=\"Times,serif\" font-size=\"14.00\" text-anchor=\"middle\" x=\"2747.77\" y=\"-234.8\">value = [2, 5, 7, 112, 675, 1950, 3586, 4885]</text>\n",
       "<text font-family=\"Times,serif\" font-size=\"14.00\" text-anchor=\"middle\" x=\"2747.77\" y=\"-220.8\">class = 7</text>\n",
       "</g>\n",
       "<!-- 16&#45;&gt;17 -->\n",
       "<g class=\"edge\" id=\"edge17\">\n",
       "<title>16-&gt;17</title>\n",
       "<path d=\"M2747.77,-327.77C2747.77,-319.57 2747.77,-310.8 2747.77,-302.28\" fill=\"none\" stroke=\"black\"/>\n",
       "<polygon fill=\"black\" points=\"2751.27,-302.06 2747.77,-292.06 2744.27,-302.06 2751.27,-302.06\" stroke=\"black\"/>\n",
       "</g>\n",
       "<!-- 24 -->\n",
       "<g class=\"node\" id=\"node25\">\n",
       "<title>24</title>\n",
       "<polygon fill=\"#fdfeff\" points=\"3717.31,-292 3402.23,-292 3402.23,-214 3717.31,-214 3717.31,-292\" stroke=\"black\"/>\n",
       "<text font-family=\"Times,serif\" font-size=\"14.00\" text-anchor=\"middle\" x=\"3559.77\" y=\"-276.8\">Port Code &lt;= 3517.0</text>\n",
       "<text font-family=\"Times,serif\" font-size=\"14.00\" text-anchor=\"middle\" x=\"3559.77\" y=\"-262.8\">entropy = 2.533</text>\n",
       "<text font-family=\"Times,serif\" font-size=\"14.00\" text-anchor=\"middle\" x=\"3559.77\" y=\"-248.8\">samples = 12633</text>\n",
       "<text font-family=\"Times,serif\" font-size=\"14.00\" text-anchor=\"middle\" x=\"3559.77\" y=\"-234.8\">value = [13, 368, 1032, 3062, 3165, 2651, 1675, 667]</text>\n",
       "<text font-family=\"Times,serif\" font-size=\"14.00\" text-anchor=\"middle\" x=\"3559.77\" y=\"-220.8\">class = 4</text>\n",
       "</g>\n",
       "<!-- 16&#45;&gt;24 -->\n",
       "<g class=\"edge\" id=\"edge24\">\n",
       "<title>16-&gt;24</title>\n",
       "<path d=\"M2909.16,-343.74C3048.96,-324.46 3250.43,-296.67 3392.04,-277.13\" fill=\"none\" stroke=\"black\"/>\n",
       "<polygon fill=\"black\" points=\"3392.7,-280.58 3402.13,-275.74 3391.75,-273.64 3392.7,-280.58\" stroke=\"black\"/>\n",
       "</g>\n",
       "<!-- 18 -->\n",
       "<g class=\"node\" id=\"node19\">\n",
       "<title>18</title>\n",
       "<polygon fill=\"#faf9fe\" points=\"2738.81,-178 2486.73,-178 2486.73,-100 2738.81,-100 2738.81,-178\" stroke=\"black\"/>\n",
       "<text font-family=\"Times,serif\" font-size=\"14.00\" text-anchor=\"middle\" x=\"2612.77\" y=\"-162.8\">Port Code &lt;= 211.5</text>\n",
       "<text font-family=\"Times,serif\" font-size=\"14.00\" text-anchor=\"middle\" x=\"2612.77\" y=\"-148.8\">entropy = 1.752</text>\n",
       "<text font-family=\"Times,serif\" font-size=\"14.00\" text-anchor=\"middle\" x=\"2612.77\" y=\"-134.8\">samples = 3805</text>\n",
       "<text font-family=\"Times,serif\" font-size=\"14.00\" text-anchor=\"middle\" x=\"2612.77\" y=\"-120.8\">value = [0, 4, 5, 56, 445, 1584, 1513, 198]</text>\n",
       "<text font-family=\"Times,serif\" font-size=\"14.00\" text-anchor=\"middle\" x=\"2612.77\" y=\"-106.8\">class = 5</text>\n",
       "</g>\n",
       "<!-- 17&#45;&gt;18 -->\n",
       "<g class=\"edge\" id=\"edge18\">\n",
       "<title>17-&gt;18</title>\n",
       "<path d=\"M2701.69,-213.77C2690.39,-204.4 2678.2,-194.29 2666.58,-184.64\" fill=\"none\" stroke=\"black\"/>\n",
       "<polygon fill=\"black\" points=\"2668.57,-181.75 2658.64,-178.06 2664.1,-187.14 2668.57,-181.75\" stroke=\"black\"/>\n",
       "</g>\n",
       "<!-- 21 -->\n",
       "<g class=\"node\" id=\"node22\">\n",
       "<title>21</title>\n",
       "<polygon fill=\"#f29eba\" points=\"3009.81,-178 2757.73,-178 2757.73,-100 3009.81,-100 3009.81,-178\" stroke=\"black\"/>\n",
       "<text font-family=\"Times,serif\" font-size=\"14.00\" text-anchor=\"middle\" x=\"2883.77\" y=\"-162.8\">Port Code &lt;= 2605.0</text>\n",
       "<text font-family=\"Times,serif\" font-size=\"14.00\" text-anchor=\"middle\" x=\"2883.77\" y=\"-148.8\">entropy = 1.363</text>\n",
       "<text font-family=\"Times,serif\" font-size=\"14.00\" text-anchor=\"middle\" x=\"2883.77\" y=\"-134.8\">samples = 7417</text>\n",
       "<text font-family=\"Times,serif\" font-size=\"14.00\" text-anchor=\"middle\" x=\"2883.77\" y=\"-120.8\">value = [2, 1, 2, 56, 230, 366, 2073, 4687]</text>\n",
       "<text font-family=\"Times,serif\" font-size=\"14.00\" text-anchor=\"middle\" x=\"2883.77\" y=\"-106.8\">class = 7</text>\n",
       "</g>\n",
       "<!-- 17&#45;&gt;21 -->\n",
       "<g class=\"edge\" id=\"edge21\">\n",
       "<title>17-&gt;21</title>\n",
       "<path d=\"M2794.19,-213.77C2805.57,-204.4 2817.85,-194.29 2829.56,-184.64\" fill=\"none\" stroke=\"black\"/>\n",
       "<polygon fill=\"black\" points=\"2832.06,-187.12 2837.55,-178.06 2827.61,-181.71 2832.06,-187.12\" stroke=\"black\"/>\n",
       "</g>\n",
       "<!-- 19 -->\n",
       "<g class=\"node\" id=\"node20\">\n",
       "<title>19</title>\n",
       "<polygon fill=\"#ded8fa\" points=\"2506.79,-64 2254.74,-64 2254.74,0 2506.79,0 2506.79,-64\" stroke=\"black\"/>\n",
       "<text font-family=\"Times,serif\" font-size=\"14.00\" text-anchor=\"middle\" x=\"2380.77\" y=\"-48.8\">entropy = 1.773</text>\n",
       "<text font-family=\"Times,serif\" font-size=\"14.00\" text-anchor=\"middle\" x=\"2380.77\" y=\"-34.8\">samples = 3390</text>\n",
       "<text font-family=\"Times,serif\" font-size=\"14.00\" text-anchor=\"middle\" x=\"2380.77\" y=\"-20.8\">value = [0, 4, 5, 56, 445, 1574, 1128, 178]</text>\n",
       "<text font-family=\"Times,serif\" font-size=\"14.00\" text-anchor=\"middle\" x=\"2380.77\" y=\"-6.8\">class = 5</text>\n",
       "</g>\n",
       "<!-- 18&#45;&gt;19 -->\n",
       "<g class=\"edge\" id=\"edge19\">\n",
       "<title>18-&gt;19</title>\n",
       "<path d=\"M2528.68,-99.94C2505.77,-89.58 2481.07,-78.39 2458.52,-68.19\" fill=\"none\" stroke=\"black\"/>\n",
       "<polygon fill=\"black\" points=\"2459.9,-64.97 2449.34,-64.04 2457.01,-71.35 2459.9,-64.97\" stroke=\"black\"/>\n",
       "</g>\n",
       "<!-- 20 -->\n",
       "<g class=\"node\" id=\"node21\">\n",
       "<title>20</title>\n",
       "<polygon fill=\"#da48e7\" points=\"2728.31,-64 2525.23,-64 2525.23,0 2728.31,0 2728.31,-64\" stroke=\"black\"/>\n",
       "<text font-family=\"Times,serif\" font-size=\"14.00\" text-anchor=\"middle\" x=\"2626.77\" y=\"-48.8\">entropy = 0.441</text>\n",
       "<text font-family=\"Times,serif\" font-size=\"14.00\" text-anchor=\"middle\" x=\"2626.77\" y=\"-34.8\">samples = 415</text>\n",
       "<text font-family=\"Times,serif\" font-size=\"14.00\" text-anchor=\"middle\" x=\"2626.77\" y=\"-20.8\">value = [0, 0, 0, 0, 0, 10, 385, 20]</text>\n",
       "<text font-family=\"Times,serif\" font-size=\"14.00\" text-anchor=\"middle\" x=\"2626.77\" y=\"-6.8\">class = 6</text>\n",
       "</g>\n",
       "<!-- 18&#45;&gt;20 -->\n",
       "<g class=\"edge\" id=\"edge20\">\n",
       "<title>18-&gt;20</title>\n",
       "<path d=\"M2617.86,-99.8C2618.97,-91.46 2620.16,-82.6 2621.28,-74.15\" fill=\"none\" stroke=\"black\"/>\n",
       "<polygon fill=\"black\" points=\"2624.77,-74.49 2622.62,-64.12 2617.83,-73.57 2624.77,-74.49\" stroke=\"black\"/>\n",
       "</g>\n",
       "<!-- 22 -->\n",
       "<g class=\"node\" id=\"node23\">\n",
       "<title>22</title>\n",
       "<polygon fill=\"#f29db9\" points=\"2992.31,-64 2747.23,-64 2747.23,0 2992.31,0 2992.31,-64\" stroke=\"black\"/>\n",
       "<text font-family=\"Times,serif\" font-size=\"14.00\" text-anchor=\"middle\" x=\"2869.77\" y=\"-48.8\">entropy = 1.164</text>\n",
       "<text font-family=\"Times,serif\" font-size=\"14.00\" text-anchor=\"middle\" x=\"2869.77\" y=\"-34.8\">samples = 6370</text>\n",
       "<text font-family=\"Times,serif\" font-size=\"14.00\" text-anchor=\"middle\" x=\"2869.77\" y=\"-20.8\">value = [2, 0, 2, 26, 37, 197, 1959, 4147]</text>\n",
       "<text font-family=\"Times,serif\" font-size=\"14.00\" text-anchor=\"middle\" x=\"2869.77\" y=\"-6.8\">class = 7</text>\n",
       "</g>\n",
       "<!-- 21&#45;&gt;22 -->\n",
       "<g class=\"edge\" id=\"edge22\">\n",
       "<title>21-&gt;22</title>\n",
       "<path d=\"M2878.67,-99.8C2877.56,-91.46 2876.38,-82.6 2875.26,-74.15\" fill=\"none\" stroke=\"black\"/>\n",
       "<polygon fill=\"black\" points=\"2878.71,-73.57 2873.92,-64.12 2871.77,-74.49 2878.71,-73.57\" stroke=\"black\"/>\n",
       "</g>\n",
       "<!-- 23 -->\n",
       "<g class=\"node\" id=\"node24\">\n",
       "<title>23</title>\n",
       "<polygon fill=\"#f4afc6\" points=\"3248.79,-64 3010.74,-64 3010.74,0 3248.79,0 3248.79,-64\" stroke=\"black\"/>\n",
       "<text font-family=\"Times,serif\" font-size=\"14.00\" text-anchor=\"middle\" x=\"3129.77\" y=\"-48.8\">entropy = 1.872</text>\n",
       "<text font-family=\"Times,serif\" font-size=\"14.00\" text-anchor=\"middle\" x=\"3129.77\" y=\"-34.8\">samples = 1047</text>\n",
       "<text font-family=\"Times,serif\" font-size=\"14.00\" text-anchor=\"middle\" x=\"3129.77\" y=\"-20.8\">value = [0, 1, 0, 30, 193, 169, 114, 540]</text>\n",
       "<text font-family=\"Times,serif\" font-size=\"14.00\" text-anchor=\"middle\" x=\"3129.77\" y=\"-6.8\">class = 7</text>\n",
       "</g>\n",
       "<!-- 21&#45;&gt;23 -->\n",
       "<g class=\"edge\" id=\"edge23\">\n",
       "<title>21-&gt;23</title>\n",
       "<path d=\"M2972.93,-99.94C2997.33,-89.53 3023.65,-78.29 3047.64,-68.06\" fill=\"none\" stroke=\"black\"/>\n",
       "<polygon fill=\"black\" points=\"3049.23,-71.18 3057.06,-64.04 3046.49,-64.74 3049.23,-71.18\" stroke=\"black\"/>\n",
       "</g>\n",
       "<!-- 25 -->\n",
       "<g class=\"node\" id=\"node26\">\n",
       "<title>25</title>\n",
       "<polygon fill=\"#fdfeff\" points=\"3713.79,-178 3405.74,-178 3405.74,-100 3713.79,-100 3713.79,-178\" stroke=\"black\"/>\n",
       "<text font-family=\"Times,serif\" font-size=\"14.00\" text-anchor=\"middle\" x=\"3559.77\" y=\"-162.8\">Port Code &lt;= 3403.5</text>\n",
       "<text font-family=\"Times,serif\" font-size=\"14.00\" text-anchor=\"middle\" x=\"3559.77\" y=\"-148.8\">entropy = 2.376</text>\n",
       "<text font-family=\"Times,serif\" font-size=\"14.00\" text-anchor=\"middle\" x=\"3559.77\" y=\"-134.8\">samples = 11493</text>\n",
       "<text font-family=\"Times,serif\" font-size=\"14.00\" text-anchor=\"middle\" x=\"3559.77\" y=\"-120.8\">value = [13, 368, 1032, 3061, 3165, 2587, 1186, 81]</text>\n",
       "<text font-family=\"Times,serif\" font-size=\"14.00\" text-anchor=\"middle\" x=\"3559.77\" y=\"-106.8\">class = 4</text>\n",
       "</g>\n",
       "<!-- 24&#45;&gt;25 -->\n",
       "<g class=\"edge\" id=\"edge25\">\n",
       "<title>24-&gt;25</title>\n",
       "<path d=\"M3559.77,-213.77C3559.77,-205.57 3559.77,-196.8 3559.77,-188.28\" fill=\"none\" stroke=\"black\"/>\n",
       "<polygon fill=\"black\" points=\"3563.27,-188.06 3559.77,-178.06 3556.27,-188.06 3563.27,-188.06\" stroke=\"black\"/>\n",
       "</g>\n",
       "<!-- 28 -->\n",
       "<g class=\"node\" id=\"node29\">\n",
       "<title>28</title>\n",
       "<polygon fill=\"#fbe1ea\" points=\"4083.81,-178 3873.73,-178 3873.73,-100 4083.81,-100 4083.81,-178\" stroke=\"black\"/>\n",
       "<text font-family=\"Times,serif\" font-size=\"14.00\" text-anchor=\"middle\" x=\"3978.77\" y=\"-162.8\">Port Code &lt;= 3707.0</text>\n",
       "<text font-family=\"Times,serif\" font-size=\"14.00\" text-anchor=\"middle\" x=\"3978.77\" y=\"-148.8\">entropy = 1.259</text>\n",
       "<text font-family=\"Times,serif\" font-size=\"14.00\" text-anchor=\"middle\" x=\"3978.77\" y=\"-134.8\">samples = 1140</text>\n",
       "<text font-family=\"Times,serif\" font-size=\"14.00\" text-anchor=\"middle\" x=\"3978.77\" y=\"-120.8\">value = [0, 0, 0, 1, 0, 64, 489, 586]</text>\n",
       "<text font-family=\"Times,serif\" font-size=\"14.00\" text-anchor=\"middle\" x=\"3978.77\" y=\"-106.8\">class = 7</text>\n",
       "</g>\n",
       "<!-- 24&#45;&gt;28 -->\n",
       "<g class=\"edge\" id=\"edge28\">\n",
       "<title>24-&gt;28</title>\n",
       "<path d=\"M3702.21,-213.93C3754.81,-199.87 3813.72,-184.12 3863.6,-170.78\" fill=\"none\" stroke=\"black\"/>\n",
       "<polygon fill=\"black\" points=\"3864.7,-174.11 3873.46,-168.15 3862.89,-167.35 3864.7,-174.11\" stroke=\"black\"/>\n",
       "</g>\n",
       "<!-- 26 -->\n",
       "<g class=\"node\" id=\"node27\">\n",
       "<title>26</title>\n",
       "<polygon fill=\"#f6f5fe\" points=\"3568.31,-64 3267.23,-64 3267.23,0 3568.31,0 3568.31,-64\" stroke=\"black\"/>\n",
       "<text font-family=\"Times,serif\" font-size=\"14.00\" text-anchor=\"middle\" x=\"3417.77\" y=\"-48.8\">entropy = 2.473</text>\n",
       "<text font-family=\"Times,serif\" font-size=\"14.00\" text-anchor=\"middle\" x=\"3417.77\" y=\"-34.8\">samples = 6813</text>\n",
       "<text font-family=\"Times,serif\" font-size=\"14.00\" text-anchor=\"middle\" x=\"3417.77\" y=\"-20.8\">value = [13, 253, 648, 1421, 1536, 1810, 1051, 81]</text>\n",
       "<text font-family=\"Times,serif\" font-size=\"14.00\" text-anchor=\"middle\" x=\"3417.77\" y=\"-6.8\">class = 5</text>\n",
       "</g>\n",
       "<!-- 25&#45;&gt;26 -->\n",
       "<g class=\"edge\" id=\"edge26\">\n",
       "<title>25-&gt;26</title>\n",
       "<path d=\"M3508.1,-99.8C3495.09,-90.18 3481.14,-79.86 3468.2,-70.29\" fill=\"none\" stroke=\"black\"/>\n",
       "<polygon fill=\"black\" points=\"3469.97,-67.25 3459.85,-64.12 3465.81,-72.88 3469.97,-67.25\" stroke=\"black\"/>\n",
       "</g>\n",
       "<!-- 27 -->\n",
       "<g class=\"node\" id=\"node28\">\n",
       "<title>27</title>\n",
       "<polygon fill=\"#feffff\" points=\"3859.29,-64 3586.24,-64 3586.24,0 3859.29,0 3859.29,-64\" stroke=\"black\"/>\n",
       "<text font-family=\"Times,serif\" font-size=\"14.00\" text-anchor=\"middle\" x=\"3722.77\" y=\"-48.8\">entropy = 2.065</text>\n",
       "<text font-family=\"Times,serif\" font-size=\"14.00\" text-anchor=\"middle\" x=\"3722.77\" y=\"-34.8\">samples = 4680</text>\n",
       "<text font-family=\"Times,serif\" font-size=\"14.00\" text-anchor=\"middle\" x=\"3722.77\" y=\"-20.8\">value = [0, 115, 384, 1640, 1629, 777, 135, 0]</text>\n",
       "<text font-family=\"Times,serif\" font-size=\"14.00\" text-anchor=\"middle\" x=\"3722.77\" y=\"-6.8\">class = 3</text>\n",
       "</g>\n",
       "<!-- 25&#45;&gt;27 -->\n",
       "<g class=\"edge\" id=\"edge27\">\n",
       "<title>25-&gt;27</title>\n",
       "<path d=\"M3619.08,-99.8C3634.29,-89.99 3650.63,-79.47 3665.73,-69.74\" fill=\"none\" stroke=\"black\"/>\n",
       "<polygon fill=\"black\" points=\"3667.95,-72.47 3674.46,-64.12 3664.16,-66.59 3667.95,-72.47\" stroke=\"black\"/>\n",
       "</g>\n",
       "<!-- 29 -->\n",
       "<g class=\"node\" id=\"node30\">\n",
       "<title>29</title>\n",
       "<polygon fill=\"#df61ea\" points=\"4080.31,-64 3877.23,-64 3877.23,0 4080.31,0 4080.31,-64\" stroke=\"black\"/>\n",
       "<text font-family=\"Times,serif\" font-size=\"14.00\" text-anchor=\"middle\" x=\"3978.77\" y=\"-48.8\">entropy = 0.808</text>\n",
       "<text font-family=\"Times,serif\" font-size=\"14.00\" text-anchor=\"middle\" x=\"3978.77\" y=\"-34.8\">samples = 456</text>\n",
       "<text font-family=\"Times,serif\" font-size=\"14.00\" text-anchor=\"middle\" x=\"3978.77\" y=\"-20.8\">value = [0, 0, 0, 1, 0, 64, 376, 15]</text>\n",
       "<text font-family=\"Times,serif\" font-size=\"14.00\" text-anchor=\"middle\" x=\"3978.77\" y=\"-6.8\">class = 6</text>\n",
       "</g>\n",
       "<!-- 28&#45;&gt;29 -->\n",
       "<g class=\"edge\" id=\"edge29\">\n",
       "<title>28-&gt;29</title>\n",
       "<path d=\"M3978.77,-99.8C3978.77,-91.46 3978.77,-82.6 3978.77,-74.15\" fill=\"none\" stroke=\"black\"/>\n",
       "<polygon fill=\"black\" points=\"3982.27,-74.12 3978.77,-64.12 3975.27,-74.12 3982.27,-74.12\" stroke=\"black\"/>\n",
       "</g>\n",
       "<!-- 30 -->\n",
       "<g class=\"node\" id=\"node31\">\n",
       "<title>30</title>\n",
       "<polygon fill=\"#ea608e\" points=\"4301.29,-64 4098.24,-64 4098.24,0 4301.29,0 4301.29,-64\" stroke=\"black\"/>\n",
       "<text font-family=\"Times,serif\" font-size=\"14.00\" text-anchor=\"middle\" x=\"4199.77\" y=\"-48.8\">entropy = 0.647</text>\n",
       "<text font-family=\"Times,serif\" font-size=\"14.00\" text-anchor=\"middle\" x=\"4199.77\" y=\"-34.8\">samples = 684</text>\n",
       "<text font-family=\"Times,serif\" font-size=\"14.00\" text-anchor=\"middle\" x=\"4199.77\" y=\"-20.8\">value = [0, 0, 0, 0, 0, 0, 113, 571]</text>\n",
       "<text font-family=\"Times,serif\" font-size=\"14.00\" text-anchor=\"middle\" x=\"4199.77\" y=\"-6.8\">class = 7</text>\n",
       "</g>\n",
       "<!-- 28&#45;&gt;30 -->\n",
       "<g class=\"edge\" id=\"edge30\">\n",
       "<title>28-&gt;30</title>\n",
       "<path d=\"M4058.87,-99.94C4080.59,-89.62 4104.02,-78.49 4125.41,-68.33\" fill=\"none\" stroke=\"black\"/>\n",
       "<polygon fill=\"black\" points=\"4126.92,-71.49 4134.45,-64.04 4123.91,-65.17 4126.92,-71.49\" stroke=\"black\"/>\n",
       "</g>\n",
       "</g>\n",
       "</svg>"
      ],
      "text/plain": [
       "<IPython.core.display.SVG object>"
      ]
     },
     "metadata": {},
     "output_type": "display_data"
    }
   ],
   "source": [
    "from sklearn.externals.six import StringIO  \n",
    "from IPython.display import Image  \n",
    "from sklearn.tree import export_graphviz\n",
    "import pydotplus\n",
    "from IPython.display import SVG\n",
    "from graphviz import Source\n",
    "from IPython.display import display\n",
    "\n",
    "graph = Source(export_graphviz(clf, out_file=None\n",
    "   , feature_names=X_train.columns, class_names=['0','1','2','3','4','5','6','7'] \n",
    "   , filled = True))\n",
    "display(SVG(graph.pipe(format='svg')))"
   ]
  },
  {
   "cell_type": "code",
   "execution_count": 41,
   "metadata": {
    "inputHidden": false,
    "outputHidden": false
   },
   "outputs": [
    {
     "name": "stderr",
     "output_type": "stream",
     "text": [
      "No handles with labels found to put in legend.\n"
     ]
    },
    {
     "data": {
      "image/png": "[encoded data removed]",
      "text/plain": [
       "<Figure size 432x288 with 1 Axes>"
      ]
     },
     "metadata": {
      "needs_background": "light"
     },
     "output_type": "display_data"
    }
   ],
   "source": [
    "import matplotlib.pyplot as plt\n",
    "import seaborn as sns\n",
    "%matplotlib inline\n",
    "# Creating a bar plot\n",
    "sns.barplot(x=X_train.columns, y=clf.feature_importances_)\n",
    "# Add labels to your graph\n",
    "plt.xlabel('Feature Importance Score')\n",
    "plt.ylabel('Features')\n",
    "plt.title(\"Visualizing Important Features\")\n",
    "plt.legend()\n",
    "plt.xticks(rotation=90)\n",
    "plt.show()\n",
    "\n",
    "\n"
   ]
  },
  {
   "cell_type": "code",
   "execution_count": 42,
   "metadata": {
    "inputHidden": false,
    "outputHidden": false
   },
   "outputs": [],
   "source": [
    "# AVANT!\n",
    "# NOT RELEVANT\n",
    "#[('Port Code', 0.8211952279698288),\n",
    "#('Canada Border', 0.08627330116334954),\n",
    "#('Year', 0.0731548912786358),\n",
    "#('Month', 0.019376579588185828),\n",
    "#('Mexico Border', 0.0)]"
   ]
  },
  {
   "cell_type": "code",
   "execution_count": 43,
   "metadata": {
    "inputHidden": false,
    "outputHidden": false
   },
   "outputs": [],
   "source": []
  },
  {
   "cell_type": "code",
   "execution_count": 43,
   "metadata": {
    "inputHidden": false,
    "outputHidden": false
   },
   "outputs": [],
   "source": [
    "rfc = RandomForestClassifier(n_jobs=2, random_state=0)"
   ]
  },
  {
   "cell_type": "code",
   "execution_count": 44,
   "metadata": {
    "inputHidden": false,
    "outputHidden": false
   },
   "outputs": [
    {
     "data": {
      "text/plain": [
       "RandomForestClassifier(bootstrap=True, class_weight=None, criterion='gini',\n",
       "                       max_depth=None, max_features='auto', max_leaf_nodes=None,\n",
       "                       min_impurity_decrease=0.0, min_impurity_split=None,\n",
       "                       min_samples_leaf=1, min_samples_split=2,\n",
       "                       min_weight_fraction_leaf=0.0, n_estimators=10, n_jobs=2,\n",
       "                       oob_score=False, random_state=0, verbose=0,\n",
       "                       warm_start=False)"
      ]
     },
     "execution_count": 44,
     "metadata": {},
     "output_type": "execute_result"
    }
   ],
   "source": [
    "rfc.fit(X_train, y_train)"
   ]
  },
  {
   "cell_type": "code",
   "execution_count": 45,
   "metadata": {
    "inputHidden": false,
    "outputHidden": false
   },
   "outputs": [
    {
     "data": {
      "text/plain": [
       "0.8140826446280992"
      ]
     },
     "execution_count": 45,
     "metadata": {},
     "output_type": "execute_result"
    }
   ],
   "source": [
    "rfc.score(X_test,y_test)"
   ]
  },
  {
   "cell_type": "code",
   "execution_count": 46,
   "metadata": {
    "inputHidden": false,
    "outputHidden": false,
    "scrolled": true
   },
   "outputs": [
    {
     "data": {
      "text/plain": [
       "[('Port Code', 0.4526912808478184),\n",
       " ('Year', 0.19423157761971385),\n",
       " ('Month', 0.13048534246482207),\n",
       " ('Personal Vehicle Passengers', 0.04711473785913091),\n",
       " ('Pedestrians', 0.029995245408123882),\n",
       " ('Train Passengers', 0.022561634693132403),\n",
       " ('Bus Passengers', 0.02002063300852332),\n",
       " ('Canada Border', 0.014808660642150534),\n",
       " ('Mexico Border', 0.013252371489596909),\n",
       " ('Michigan', 0.008223942231524884),\n",
       " ('New York', 0.0074645922850854005),\n",
       " (10, 0.00736913285281412),\n",
       " (8, 0.007069002937286932),\n",
       " (11, 0.006725899817687346),\n",
       " (12, 0.00559335254604905),\n",
       " (3, 0.005011420667143395),\n",
       " (6, 0.004552518857821523),\n",
       " (13, 0.0044530280528223155),\n",
       " (7, 0.0040967337681384955),\n",
       " (4, 0.0040787213927645175),\n",
       " (0, 0.003601231309793324),\n",
       " (2, 0.003457537797353505),\n",
       " (1, 0.003141401450702919)]"
      ]
     },
     "execution_count": 46,
     "metadata": {},
     "output_type": "execute_result"
    }
   ],
   "source": [
    "sorted(zip(X_train.columns, rfc.feature_importances_), key=lambda x: x[1], reverse=True)"
   ]
  },
  {
   "cell_type": "code",
   "execution_count": 47,
   "metadata": {
    "inputHidden": false,
    "outputHidden": false,
    "scrolled": true
   },
   "outputs": [
    {
     "name": "stderr",
     "output_type": "stream",
     "text": [
      "No handles with labels found to put in legend.\n"
     ]
    },
    {
     "data": {
      "image/png": "[encoded data removed]",
      "text/plain": [
       "<Figure size 432x288 with 1 Axes>"
      ]
     },
     "metadata": {
      "needs_background": "light"
     },
     "output_type": "display_data"
    }
   ],
   "source": [
    "import matplotlib.pyplot as plt\n",
    "import seaborn as sns\n",
    "%matplotlib inline\n",
    "# Creating a bar plot\n",
    "sns.barplot(x=rfc.feature_importances_,y=X_train.columns)\n",
    "# Add labels to your graph\n",
    "plt.xlabel('Feature Importance Score')\n",
    "plt.ylabel('Features')\n",
    "plt.title(\"Visualizing Important Features\")\n",
    "plt.legend()\n",
    "plt.xticks(rotation=90)\n",
    "plt.show()"
   ]
  }
 ],
 "metadata": {
  "kernel_info": {
   "name": "python3"
  },
  "kernelspec": {
   "display_name": "Python 3",
   "language": "python",
   "name": "python3"
  },
  "language_info": {
   "codemirror_mode": {
    "name": "ipython",
    "version": 3
   },
   "file_extension": ".py",
   "mimetype": "text/x-python",
   "name": "python",
   "nbconvert_exporter": "python",
   "pygments_lexer": "ipython3",
   "version": "3.7.3"
  },
  "nteract": {
   "version": "0.15.0"
  }
 },
 "nbformat": 4,
 "nbformat_minor": 1
}
