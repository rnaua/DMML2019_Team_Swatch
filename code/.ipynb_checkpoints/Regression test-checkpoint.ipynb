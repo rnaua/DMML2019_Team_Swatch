{
 "cells": [
  {
   "cell_type": "code",
   "execution_count": 98,
   "metadata": {},
   "outputs": [],
   "source": [
    "import pandas as pd"
   ]
  },
  {
   "cell_type": "code",
   "execution_count": 99,
   "metadata": {},
   "outputs": [],
   "source": [
    "import matplotlib.pyplot as plt\n",
    "plt.style.use('classic')"
   ]
  },
  {
   "cell_type": "code",
   "execution_count": 100,
   "metadata": {},
   "outputs": [],
   "source": [
    "from sklearn.linear_model import LinearRegression"
   ]
  },
  {
   "cell_type": "code",
   "execution_count": 101,
   "metadata": {},
   "outputs": [],
   "source": [
    "data = pd.read_csv(\"../data/DataWithLocationCleaned.zip\")"
   ]
  },
  {
   "cell_type": "code",
   "execution_count": 102,
   "metadata": {},
   "outputs": [
    {
     "data": {
      "text/html": [
       "<div>\n",
       "<style scoped>\n",
       "    .dataframe tbody tr th:only-of-type {\n",
       "        vertical-align: middle;\n",
       "    }\n",
       "\n",
       "    .dataframe tbody tr th {\n",
       "        vertical-align: top;\n",
       "    }\n",
       "\n",
       "    .dataframe thead th {\n",
       "        text-align: right;\n",
       "    }\n",
       "</style>\n",
       "<table border=\"1\" class=\"dataframe\">\n",
       "  <thead>\n",
       "    <tr style=\"text-align: right;\">\n",
       "      <th></th>\n",
       "      <th>Port Name</th>\n",
       "      <th>State</th>\n",
       "      <th>Port Code</th>\n",
       "      <th>Border</th>\n",
       "      <th>Date</th>\n",
       "      <th>Measure</th>\n",
       "      <th>Value</th>\n",
       "      <th>position</th>\n",
       "    </tr>\n",
       "  </thead>\n",
       "  <tbody>\n",
       "    <tr>\n",
       "      <th>0</th>\n",
       "      <td>Warroad</td>\n",
       "      <td>Minnesota</td>\n",
       "      <td>3423</td>\n",
       "      <td>US-Canada Border</td>\n",
       "      <td>2019-06-01</td>\n",
       "      <td>Truck Containers Full</td>\n",
       "      <td>133</td>\n",
       "      <td>(48.905266, -95.314404)</td>\n",
       "    </tr>\n",
       "    <tr>\n",
       "      <th>1</th>\n",
       "      <td>Warroad</td>\n",
       "      <td>Minnesota</td>\n",
       "      <td>3423</td>\n",
       "      <td>US-Canada Border</td>\n",
       "      <td>2019-06-01</td>\n",
       "      <td>Truck Containers Empty</td>\n",
       "      <td>298</td>\n",
       "      <td>(48.905266, -95.314404)</td>\n",
       "    </tr>\n",
       "    <tr>\n",
       "      <th>2</th>\n",
       "      <td>Warroad</td>\n",
       "      <td>Minnesota</td>\n",
       "      <td>3423</td>\n",
       "      <td>US-Canada Border</td>\n",
       "      <td>2019-06-01</td>\n",
       "      <td>Personal Vehicles</td>\n",
       "      <td>10383</td>\n",
       "      <td>(48.905266, -95.314404)</td>\n",
       "    </tr>\n",
       "    <tr>\n",
       "      <th>3</th>\n",
       "      <td>Warroad</td>\n",
       "      <td>Minnesota</td>\n",
       "      <td>3423</td>\n",
       "      <td>US-Canada Border</td>\n",
       "      <td>2019-06-01</td>\n",
       "      <td>Personal Vehicle Passengers</td>\n",
       "      <td>19459</td>\n",
       "      <td>(48.905266, -95.314404)</td>\n",
       "    </tr>\n",
       "    <tr>\n",
       "      <th>4</th>\n",
       "      <td>Warroad</td>\n",
       "      <td>Minnesota</td>\n",
       "      <td>3423</td>\n",
       "      <td>US-Canada Border</td>\n",
       "      <td>2019-06-01</td>\n",
       "      <td>Pedestrians</td>\n",
       "      <td>2</td>\n",
       "      <td>(48.905266, -95.314404)</td>\n",
       "    </tr>\n",
       "  </tbody>\n",
       "</table>\n",
       "</div>"
      ],
      "text/plain": [
       "  Port Name      State  Port Code            Border        Date  \\\n",
       "0   Warroad  Minnesota       3423  US-Canada Border  2019-06-01   \n",
       "1   Warroad  Minnesota       3423  US-Canada Border  2019-06-01   \n",
       "2   Warroad  Minnesota       3423  US-Canada Border  2019-06-01   \n",
       "3   Warroad  Minnesota       3423  US-Canada Border  2019-06-01   \n",
       "4   Warroad  Minnesota       3423  US-Canada Border  2019-06-01   \n",
       "\n",
       "                       Measure  Value                 position  \n",
       "0        Truck Containers Full    133  (48.905266, -95.314404)  \n",
       "1       Truck Containers Empty    298  (48.905266, -95.314404)  \n",
       "2            Personal Vehicles  10383  (48.905266, -95.314404)  \n",
       "3  Personal Vehicle Passengers  19459  (48.905266, -95.314404)  \n",
       "4                  Pedestrians      2  (48.905266, -95.314404)  "
      ]
     },
     "execution_count": 102,
     "metadata": {},
     "output_type": "execute_result"
    }
   ],
   "source": [
    "data.head()"
   ]
  },
  {
   "cell_type": "code",
   "execution_count": 103,
   "metadata": {},
   "outputs": [],
   "source": [
    "data['Date'] = pd.to_datetime(data['Date'])"
   ]
  },
  {
   "cell_type": "code",
   "execution_count": 104,
   "metadata": {},
   "outputs": [
    {
     "data": {
      "text/html": [
       "<div>\n",
       "<style scoped>\n",
       "    .dataframe tbody tr th:only-of-type {\n",
       "        vertical-align: middle;\n",
       "    }\n",
       "\n",
       "    .dataframe tbody tr th {\n",
       "        vertical-align: top;\n",
       "    }\n",
       "\n",
       "    .dataframe thead th {\n",
       "        text-align: right;\n",
       "    }\n",
       "</style>\n",
       "<table border=\"1\" class=\"dataframe\">\n",
       "  <thead>\n",
       "    <tr style=\"text-align: right;\">\n",
       "      <th></th>\n",
       "      <th>Measure</th>\n",
       "      <th>Value</th>\n",
       "    </tr>\n",
       "  </thead>\n",
       "  <tbody>\n",
       "    <tr>\n",
       "      <th>0</th>\n",
       "      <td>Bus Passengers</td>\n",
       "      <td>143388212</td>\n",
       "    </tr>\n",
       "    <tr>\n",
       "      <th>1</th>\n",
       "      <td>Buses</td>\n",
       "      <td>8604318</td>\n",
       "    </tr>\n",
       "    <tr>\n",
       "      <th>2</th>\n",
       "      <td>Pedestrians</td>\n",
       "      <td>1056699751</td>\n",
       "    </tr>\n",
       "    <tr>\n",
       "      <th>3</th>\n",
       "      <td>Personal Vehicle Passengers</td>\n",
       "      <td>5504073464</td>\n",
       "    </tr>\n",
       "    <tr>\n",
       "      <th>4</th>\n",
       "      <td>Personal Vehicles</td>\n",
       "      <td>2584776249</td>\n",
       "    </tr>\n",
       "    <tr>\n",
       "      <th>5</th>\n",
       "      <td>Rail Containers Empty</td>\n",
       "      <td>21477185</td>\n",
       "    </tr>\n",
       "    <tr>\n",
       "      <th>6</th>\n",
       "      <td>Rail Containers Full</td>\n",
       "      <td>38891558</td>\n",
       "    </tr>\n",
       "    <tr>\n",
       "      <th>7</th>\n",
       "      <td>Train Passengers</td>\n",
       "      <td>6287351</td>\n",
       "    </tr>\n",
       "    <tr>\n",
       "      <th>8</th>\n",
       "      <td>Trains</td>\n",
       "      <td>912969</td>\n",
       "    </tr>\n",
       "    <tr>\n",
       "      <th>9</th>\n",
       "      <td>Truck Containers Empty</td>\n",
       "      <td>64852271</td>\n",
       "    </tr>\n",
       "    <tr>\n",
       "      <th>10</th>\n",
       "      <td>Truck Containers Full</td>\n",
       "      <td>179543288</td>\n",
       "    </tr>\n",
       "    <tr>\n",
       "      <th>11</th>\n",
       "      <td>Trucks</td>\n",
       "      <td>256762423</td>\n",
       "    </tr>\n",
       "  </tbody>\n",
       "</table>\n",
       "</div>"
      ],
      "text/plain": [
       "                        Measure       Value\n",
       "0                Bus Passengers   143388212\n",
       "1                         Buses     8604318\n",
       "2                   Pedestrians  1056699751\n",
       "3   Personal Vehicle Passengers  5504073464\n",
       "4             Personal Vehicles  2584776249\n",
       "5         Rail Containers Empty    21477185\n",
       "6          Rail Containers Full    38891558\n",
       "7              Train Passengers     6287351\n",
       "8                        Trains      912969\n",
       "9        Truck Containers Empty    64852271\n",
       "10        Truck Containers Full   179543288\n",
       "11                       Trucks   256762423"
      ]
     },
     "execution_count": 104,
     "metadata": {},
     "output_type": "execute_result"
    }
   ],
   "source": [
    "data.groupby(\"Measure\")[['Value']].sum().reset_index()"
   ]
  },
  {
   "cell_type": "code",
   "execution_count": 105,
   "metadata": {},
   "outputs": [],
   "source": [
    "#We can consider 2 types of regression, we will consider differents variables for each of this type: \n",
    "#          : 1) One for the traffic at the port\n",
    "#                  -> use only 'Buses' , 'Personal Vehicles' , 'Rail Containers Empty' , 'Rail Containers Full', 'Trains' , 'Truck Containers Empty' , 'Truck Containers Full' and 'Trucks'\n",
    "#          : 2) One for the number of persons crossing the port (\"immigration\")\n",
    "#                  -> use only 'Bus passengers', 'Pedestrians', 'Personal Vehicle Passengers' and 'Train Passengers'"
   ]
  },
  {
   "cell_type": "code",
   "execution_count": 106,
   "metadata": {},
   "outputs": [],
   "source": [
    "persons = data[data['Measure'].isin(['Bus Passengers','Pedestrians','Personal Vehicle Passengers','Train Passengers'])].reset_index().drop(columns=['index'])"
   ]
  },
  {
   "cell_type": "code",
   "execution_count": 107,
   "metadata": {
    "scrolled": false
   },
   "outputs": [
    {
     "data": {
      "text/html": [
       "<div>\n",
       "<style scoped>\n",
       "    .dataframe tbody tr th:only-of-type {\n",
       "        vertical-align: middle;\n",
       "    }\n",
       "\n",
       "    .dataframe tbody tr th {\n",
       "        vertical-align: top;\n",
       "    }\n",
       "\n",
       "    .dataframe thead th {\n",
       "        text-align: right;\n",
       "    }\n",
       "</style>\n",
       "<table border=\"1\" class=\"dataframe\">\n",
       "  <thead>\n",
       "    <tr style=\"text-align: right;\">\n",
       "      <th></th>\n",
       "      <th>Port Name</th>\n",
       "      <th>State</th>\n",
       "      <th>Port Code</th>\n",
       "      <th>Border</th>\n",
       "      <th>Date</th>\n",
       "      <th>Measure</th>\n",
       "      <th>Value</th>\n",
       "      <th>position</th>\n",
       "    </tr>\n",
       "  </thead>\n",
       "  <tbody>\n",
       "    <tr>\n",
       "      <th>0</th>\n",
       "      <td>Warroad</td>\n",
       "      <td>Minnesota</td>\n",
       "      <td>3423</td>\n",
       "      <td>US-Canada Border</td>\n",
       "      <td>2019-06-01</td>\n",
       "      <td>Personal Vehicle Passengers</td>\n",
       "      <td>19459</td>\n",
       "      <td>(48.905266, -95.314404)</td>\n",
       "    </tr>\n",
       "    <tr>\n",
       "      <th>1</th>\n",
       "      <td>Warroad</td>\n",
       "      <td>Minnesota</td>\n",
       "      <td>3423</td>\n",
       "      <td>US-Canada Border</td>\n",
       "      <td>2019-06-01</td>\n",
       "      <td>Pedestrians</td>\n",
       "      <td>2</td>\n",
       "      <td>(48.905266, -95.314404)</td>\n",
       "    </tr>\n",
       "    <tr>\n",
       "      <th>2</th>\n",
       "      <td>Warroad</td>\n",
       "      <td>Minnesota</td>\n",
       "      <td>3423</td>\n",
       "      <td>US-Canada Border</td>\n",
       "      <td>2019-06-01</td>\n",
       "      <td>Bus Passengers</td>\n",
       "      <td>63</td>\n",
       "      <td>(48.905266, -95.314404)</td>\n",
       "    </tr>\n",
       "    <tr>\n",
       "      <th>3</th>\n",
       "      <td>Roseau</td>\n",
       "      <td>Minnesota</td>\n",
       "      <td>3426</td>\n",
       "      <td>US-Canada Border</td>\n",
       "      <td>2019-06-01</td>\n",
       "      <td>Personal Vehicle Passengers</td>\n",
       "      <td>7385</td>\n",
       "      <td>(48.7710371, -95.7697882)</td>\n",
       "    </tr>\n",
       "    <tr>\n",
       "      <th>4</th>\n",
       "      <td>Roseau</td>\n",
       "      <td>Minnesota</td>\n",
       "      <td>3426</td>\n",
       "      <td>US-Canada Border</td>\n",
       "      <td>2019-06-01</td>\n",
       "      <td>Bus Passengers</td>\n",
       "      <td>118</td>\n",
       "      <td>(48.7710371, -95.7697882)</td>\n",
       "    </tr>\n",
       "  </tbody>\n",
       "</table>\n",
       "</div>"
      ],
      "text/plain": [
       "  Port Name      State  Port Code            Border       Date  \\\n",
       "0   Warroad  Minnesota       3423  US-Canada Border 2019-06-01   \n",
       "1   Warroad  Minnesota       3423  US-Canada Border 2019-06-01   \n",
       "2   Warroad  Minnesota       3423  US-Canada Border 2019-06-01   \n",
       "3    Roseau  Minnesota       3426  US-Canada Border 2019-06-01   \n",
       "4    Roseau  Minnesota       3426  US-Canada Border 2019-06-01   \n",
       "\n",
       "                       Measure  Value                   position  \n",
       "0  Personal Vehicle Passengers  19459    (48.905266, -95.314404)  \n",
       "1                  Pedestrians      2    (48.905266, -95.314404)  \n",
       "2               Bus Passengers     63    (48.905266, -95.314404)  \n",
       "3  Personal Vehicle Passengers   7385  (48.7710371, -95.7697882)  \n",
       "4               Bus Passengers    118  (48.7710371, -95.7697882)  "
      ]
     },
     "execution_count": 107,
     "metadata": {},
     "output_type": "execute_result"
    }
   ],
   "source": [
    "persons.head()"
   ]
  },
  {
   "cell_type": "code",
   "execution_count": 108,
   "metadata": {},
   "outputs": [],
   "source": [
    "traffic = data[~data['Measure'].isin(['Bus Passengers','Pedestrians','Personal Vehicle Passengers','Train Passengers'])].reset_index().drop(columns=['index'])"
   ]
  },
  {
   "cell_type": "code",
   "execution_count": 109,
   "metadata": {
    "scrolled": true
   },
   "outputs": [
    {
     "data": {
      "text/html": [
       "<div>\n",
       "<style scoped>\n",
       "    .dataframe tbody tr th:only-of-type {\n",
       "        vertical-align: middle;\n",
       "    }\n",
       "\n",
       "    .dataframe tbody tr th {\n",
       "        vertical-align: top;\n",
       "    }\n",
       "\n",
       "    .dataframe thead th {\n",
       "        text-align: right;\n",
       "    }\n",
       "</style>\n",
       "<table border=\"1\" class=\"dataframe\">\n",
       "  <thead>\n",
       "    <tr style=\"text-align: right;\">\n",
       "      <th></th>\n",
       "      <th>Port Name</th>\n",
       "      <th>State</th>\n",
       "      <th>Port Code</th>\n",
       "      <th>Border</th>\n",
       "      <th>Date</th>\n",
       "      <th>Measure</th>\n",
       "      <th>Value</th>\n",
       "      <th>position</th>\n",
       "    </tr>\n",
       "  </thead>\n",
       "  <tbody>\n",
       "    <tr>\n",
       "      <th>0</th>\n",
       "      <td>Warroad</td>\n",
       "      <td>Minnesota</td>\n",
       "      <td>3423</td>\n",
       "      <td>US-Canada Border</td>\n",
       "      <td>2019-06-01</td>\n",
       "      <td>Truck Containers Full</td>\n",
       "      <td>133</td>\n",
       "      <td>(48.905266, -95.314404)</td>\n",
       "    </tr>\n",
       "    <tr>\n",
       "      <th>1</th>\n",
       "      <td>Warroad</td>\n",
       "      <td>Minnesota</td>\n",
       "      <td>3423</td>\n",
       "      <td>US-Canada Border</td>\n",
       "      <td>2019-06-01</td>\n",
       "      <td>Truck Containers Empty</td>\n",
       "      <td>298</td>\n",
       "      <td>(48.905266, -95.314404)</td>\n",
       "    </tr>\n",
       "    <tr>\n",
       "      <th>2</th>\n",
       "      <td>Warroad</td>\n",
       "      <td>Minnesota</td>\n",
       "      <td>3423</td>\n",
       "      <td>US-Canada Border</td>\n",
       "      <td>2019-06-01</td>\n",
       "      <td>Personal Vehicles</td>\n",
       "      <td>10383</td>\n",
       "      <td>(48.905266, -95.314404)</td>\n",
       "    </tr>\n",
       "    <tr>\n",
       "      <th>3</th>\n",
       "      <td>Warroad</td>\n",
       "      <td>Minnesota</td>\n",
       "      <td>3423</td>\n",
       "      <td>US-Canada Border</td>\n",
       "      <td>2019-06-01</td>\n",
       "      <td>Buses</td>\n",
       "      <td>3</td>\n",
       "      <td>(48.905266, -95.314404)</td>\n",
       "    </tr>\n",
       "    <tr>\n",
       "      <th>4</th>\n",
       "      <td>Roseau</td>\n",
       "      <td>Minnesota</td>\n",
       "      <td>3426</td>\n",
       "      <td>US-Canada Border</td>\n",
       "      <td>2019-06-01</td>\n",
       "      <td>Trucks</td>\n",
       "      <td>290</td>\n",
       "      <td>(48.7710371, -95.7697882)</td>\n",
       "    </tr>\n",
       "  </tbody>\n",
       "</table>\n",
       "</div>"
      ],
      "text/plain": [
       "  Port Name      State  Port Code            Border       Date  \\\n",
       "0   Warroad  Minnesota       3423  US-Canada Border 2019-06-01   \n",
       "1   Warroad  Minnesota       3423  US-Canada Border 2019-06-01   \n",
       "2   Warroad  Minnesota       3423  US-Canada Border 2019-06-01   \n",
       "3   Warroad  Minnesota       3423  US-Canada Border 2019-06-01   \n",
       "4    Roseau  Minnesota       3426  US-Canada Border 2019-06-01   \n",
       "\n",
       "                  Measure  Value                   position  \n",
       "0   Truck Containers Full    133    (48.905266, -95.314404)  \n",
       "1  Truck Containers Empty    298    (48.905266, -95.314404)  \n",
       "2       Personal Vehicles  10383    (48.905266, -95.314404)  \n",
       "3                   Buses      3    (48.905266, -95.314404)  \n",
       "4                  Trucks    290  (48.7710371, -95.7697882)  "
      ]
     },
     "execution_count": 109,
     "metadata": {},
     "output_type": "execute_result"
    }
   ],
   "source": [
    "traffic.head()"
   ]
  },
  {
   "cell_type": "code",
   "execution_count": 110,
   "metadata": {},
   "outputs": [],
   "source": [
    "persons = persons[['Date','Value']]\n",
    "traffic = traffic[['Date','Value']]"
   ]
  },
  {
   "cell_type": "code",
   "execution_count": 111,
   "metadata": {
    "scrolled": false
   },
   "outputs": [
    {
     "data": {
      "text/html": [
       "<div>\n",
       "<style scoped>\n",
       "    .dataframe tbody tr th:only-of-type {\n",
       "        vertical-align: middle;\n",
       "    }\n",
       "\n",
       "    .dataframe tbody tr th {\n",
       "        vertical-align: top;\n",
       "    }\n",
       "\n",
       "    .dataframe thead th {\n",
       "        text-align: right;\n",
       "    }\n",
       "</style>\n",
       "<table border=\"1\" class=\"dataframe\">\n",
       "  <thead>\n",
       "    <tr style=\"text-align: right;\">\n",
       "      <th></th>\n",
       "      <th>Date</th>\n",
       "      <th>Value</th>\n",
       "    </tr>\n",
       "  </thead>\n",
       "  <tbody>\n",
       "    <tr>\n",
       "      <th>0</th>\n",
       "      <td>2019-06-01</td>\n",
       "      <td>19459</td>\n",
       "    </tr>\n",
       "    <tr>\n",
       "      <th>1</th>\n",
       "      <td>2019-06-01</td>\n",
       "      <td>2</td>\n",
       "    </tr>\n",
       "    <tr>\n",
       "      <th>2</th>\n",
       "      <td>2019-06-01</td>\n",
       "      <td>63</td>\n",
       "    </tr>\n",
       "    <tr>\n",
       "      <th>3</th>\n",
       "      <td>2019-06-01</td>\n",
       "      <td>7385</td>\n",
       "    </tr>\n",
       "    <tr>\n",
       "      <th>4</th>\n",
       "      <td>2019-06-01</td>\n",
       "      <td>118</td>\n",
       "    </tr>\n",
       "  </tbody>\n",
       "</table>\n",
       "</div>"
      ],
      "text/plain": [
       "        Date  Value\n",
       "0 2019-06-01  19459\n",
       "1 2019-06-01      2\n",
       "2 2019-06-01     63\n",
       "3 2019-06-01   7385\n",
       "4 2019-06-01    118"
      ]
     },
     "execution_count": 111,
     "metadata": {},
     "output_type": "execute_result"
    }
   ],
   "source": [
    "persons.head()"
   ]
  },
  {
   "cell_type": "code",
   "execution_count": 112,
   "metadata": {},
   "outputs": [
    {
     "data": {
      "text/html": [
       "<div>\n",
       "<style scoped>\n",
       "    .dataframe tbody tr th:only-of-type {\n",
       "        vertical-align: middle;\n",
       "    }\n",
       "\n",
       "    .dataframe tbody tr th {\n",
       "        vertical-align: top;\n",
       "    }\n",
       "\n",
       "    .dataframe thead th {\n",
       "        text-align: right;\n",
       "    }\n",
       "</style>\n",
       "<table border=\"1\" class=\"dataframe\">\n",
       "  <thead>\n",
       "    <tr style=\"text-align: right;\">\n",
       "      <th></th>\n",
       "      <th>Date</th>\n",
       "      <th>Value</th>\n",
       "    </tr>\n",
       "  </thead>\n",
       "  <tbody>\n",
       "    <tr>\n",
       "      <th>0</th>\n",
       "      <td>2019-06-01</td>\n",
       "      <td>133</td>\n",
       "    </tr>\n",
       "    <tr>\n",
       "      <th>1</th>\n",
       "      <td>2019-06-01</td>\n",
       "      <td>298</td>\n",
       "    </tr>\n",
       "    <tr>\n",
       "      <th>2</th>\n",
       "      <td>2019-06-01</td>\n",
       "      <td>10383</td>\n",
       "    </tr>\n",
       "    <tr>\n",
       "      <th>3</th>\n",
       "      <td>2019-06-01</td>\n",
       "      <td>3</td>\n",
       "    </tr>\n",
       "    <tr>\n",
       "      <th>4</th>\n",
       "      <td>2019-06-01</td>\n",
       "      <td>290</td>\n",
       "    </tr>\n",
       "  </tbody>\n",
       "</table>\n",
       "</div>"
      ],
      "text/plain": [
       "        Date  Value\n",
       "0 2019-06-01    133\n",
       "1 2019-06-01    298\n",
       "2 2019-06-01  10383\n",
       "3 2019-06-01      3\n",
       "4 2019-06-01    290"
      ]
     },
     "execution_count": 112,
     "metadata": {},
     "output_type": "execute_result"
    }
   ],
   "source": [
    "traffic.head()"
   ]
  },
  {
   "cell_type": "code",
   "execution_count": 113,
   "metadata": {},
   "outputs": [],
   "source": [
    "trafficMonth = traffic.groupby([traffic['Date'].dt.year.rename('year'), traffic['Date'].dt.month.rename('month')]).sum().reset_index()\n",
    "personsMonth = persons.groupby([persons['Date'].dt.year.rename('year'), persons['Date'].dt.month.rename('month')]).sum().reset_index()"
   ]
  },
  {
   "cell_type": "code",
   "execution_count": 114,
   "metadata": {},
   "outputs": [
    {
     "data": {
      "text/html": [
       "<div>\n",
       "<style scoped>\n",
       "    .dataframe tbody tr th:only-of-type {\n",
       "        vertical-align: middle;\n",
       "    }\n",
       "\n",
       "    .dataframe tbody tr th {\n",
       "        vertical-align: top;\n",
       "    }\n",
       "\n",
       "    .dataframe thead th {\n",
       "        text-align: right;\n",
       "    }\n",
       "</style>\n",
       "<table border=\"1\" class=\"dataframe\">\n",
       "  <thead>\n",
       "    <tr style=\"text-align: right;\">\n",
       "      <th></th>\n",
       "      <th>year</th>\n",
       "      <th>month</th>\n",
       "      <th>Value</th>\n",
       "    </tr>\n",
       "  </thead>\n",
       "  <tbody>\n",
       "    <tr>\n",
       "      <th>0</th>\n",
       "      <td>1996</td>\n",
       "      <td>1</td>\n",
       "      <td>8916714</td>\n",
       "    </tr>\n",
       "    <tr>\n",
       "      <th>1</th>\n",
       "      <td>1996</td>\n",
       "      <td>2</td>\n",
       "      <td>8788827</td>\n",
       "    </tr>\n",
       "    <tr>\n",
       "      <th>2</th>\n",
       "      <td>1996</td>\n",
       "      <td>3</td>\n",
       "      <td>9749151</td>\n",
       "    </tr>\n",
       "    <tr>\n",
       "      <th>3</th>\n",
       "      <td>1996</td>\n",
       "      <td>4</td>\n",
       "      <td>9478768</td>\n",
       "    </tr>\n",
       "    <tr>\n",
       "      <th>4</th>\n",
       "      <td>1996</td>\n",
       "      <td>5</td>\n",
       "      <td>10200276</td>\n",
       "    </tr>\n",
       "  </tbody>\n",
       "</table>\n",
       "</div>"
      ],
      "text/plain": [
       "   year  month     Value\n",
       "0  1996      1   8916714\n",
       "1  1996      2   8788827\n",
       "2  1996      3   9749151\n",
       "3  1996      4   9478768\n",
       "4  1996      5  10200276"
      ]
     },
     "execution_count": 114,
     "metadata": {},
     "output_type": "execute_result"
    }
   ],
   "source": [
    "trafficMonth.head()"
   ]
  },
  {
   "cell_type": "code",
   "execution_count": 115,
   "metadata": {},
   "outputs": [
    {
     "data": {
      "text/html": [
       "<div>\n",
       "<style scoped>\n",
       "    .dataframe tbody tr th:only-of-type {\n",
       "        vertical-align: middle;\n",
       "    }\n",
       "\n",
       "    .dataframe tbody tr th {\n",
       "        vertical-align: top;\n",
       "    }\n",
       "\n",
       "    .dataframe thead th {\n",
       "        text-align: right;\n",
       "    }\n",
       "</style>\n",
       "<table border=\"1\" class=\"dataframe\">\n",
       "  <thead>\n",
       "    <tr style=\"text-align: right;\">\n",
       "      <th></th>\n",
       "      <th>year</th>\n",
       "      <th>month</th>\n",
       "      <th>trafficValue</th>\n",
       "      <th>passengersValue</th>\n",
       "      <th>Total</th>\n",
       "    </tr>\n",
       "  </thead>\n",
       "  <tbody>\n",
       "    <tr>\n",
       "      <th>0</th>\n",
       "      <td>1996</td>\n",
       "      <td>1</td>\n",
       "      <td>8916714</td>\n",
       "      <td>23633628</td>\n",
       "      <td>32550342</td>\n",
       "    </tr>\n",
       "    <tr>\n",
       "      <th>1</th>\n",
       "      <td>1996</td>\n",
       "      <td>2</td>\n",
       "      <td>8788827</td>\n",
       "      <td>23423798</td>\n",
       "      <td>32212625</td>\n",
       "    </tr>\n",
       "    <tr>\n",
       "      <th>2</th>\n",
       "      <td>1996</td>\n",
       "      <td>3</td>\n",
       "      <td>9749151</td>\n",
       "      <td>25759922</td>\n",
       "      <td>35509073</td>\n",
       "    </tr>\n",
       "    <tr>\n",
       "      <th>3</th>\n",
       "      <td>1996</td>\n",
       "      <td>4</td>\n",
       "      <td>9478768</td>\n",
       "      <td>26211553</td>\n",
       "      <td>35690321</td>\n",
       "    </tr>\n",
       "    <tr>\n",
       "      <th>4</th>\n",
       "      <td>1996</td>\n",
       "      <td>5</td>\n",
       "      <td>10200276</td>\n",
       "      <td>27444210</td>\n",
       "      <td>37644486</td>\n",
       "    </tr>\n",
       "  </tbody>\n",
       "</table>\n",
       "</div>"
      ],
      "text/plain": [
       "   year  month  trafficValue  passengersValue     Total\n",
       "0  1996      1       8916714         23633628  32550342\n",
       "1  1996      2       8788827         23423798  32212625\n",
       "2  1996      3       9749151         25759922  35509073\n",
       "3  1996      4       9478768         26211553  35690321\n",
       "4  1996      5      10200276         27444210  37644486"
      ]
     },
     "execution_count": 115,
     "metadata": {},
     "output_type": "execute_result"
    }
   ],
   "source": [
    "regr = trafficMonth.rename(columns={'Value': 'trafficValue'})\n",
    "regr['passengersValue'] = personsMonth['Value']\n",
    "regr['Total'] = regr['passengersValue'] + regr['trafficValue']\n",
    "regr.head()"
   ]
  },
  {
   "cell_type": "code",
   "execution_count": 19,
   "metadata": {},
   "outputs": [
    {
     "data": {
      "text/plain": [
       "<matplotlib.axes._subplots.AxesSubplot at 0x10b383828>"
      ]
     },
     "execution_count": 19,
     "metadata": {},
     "output_type": "execute_result"
    },
    {
     "data": {
      "image/png": "[encoded data removed]",
      "text/plain": [
       "<Figure size 432x288 with 1 Axes>"
      ]
     },
     "metadata": {
      "needs_background": "light"
     },
     "output_type": "display_data"
    }
   ],
   "source": [
    "regr['trafficValue'].plot()"
   ]
  },
  {
   "cell_type": "code",
   "execution_count": 20,
   "metadata": {
    "scrolled": true
   },
   "outputs": [
    {
     "data": {
      "text/html": [
       "<div>\n",
       "<style scoped>\n",
       "    .dataframe tbody tr th:only-of-type {\n",
       "        vertical-align: middle;\n",
       "    }\n",
       "\n",
       "    .dataframe tbody tr th {\n",
       "        vertical-align: top;\n",
       "    }\n",
       "\n",
       "    .dataframe thead th {\n",
       "        text-align: right;\n",
       "    }\n",
       "</style>\n",
       "<table border=\"1\" class=\"dataframe\">\n",
       "  <thead>\n",
       "    <tr style=\"text-align: right;\">\n",
       "      <th></th>\n",
       "      <th>year</th>\n",
       "      <th>month</th>\n",
       "      <th>trafficValue</th>\n",
       "      <th>passengersValue</th>\n",
       "      <th>Total</th>\n",
       "    </tr>\n",
       "  </thead>\n",
       "  <tbody>\n",
       "    <tr>\n",
       "      <th>0</th>\n",
       "      <td>1996</td>\n",
       "      <td>1</td>\n",
       "      <td>8916714</td>\n",
       "      <td>23633628</td>\n",
       "      <td>32550342</td>\n",
       "    </tr>\n",
       "    <tr>\n",
       "      <th>1</th>\n",
       "      <td>1996</td>\n",
       "      <td>2</td>\n",
       "      <td>8788827</td>\n",
       "      <td>23423798</td>\n",
       "      <td>32212625</td>\n",
       "    </tr>\n",
       "    <tr>\n",
       "      <th>2</th>\n",
       "      <td>1996</td>\n",
       "      <td>3</td>\n",
       "      <td>9749151</td>\n",
       "      <td>25759922</td>\n",
       "      <td>35509073</td>\n",
       "    </tr>\n",
       "    <tr>\n",
       "      <th>3</th>\n",
       "      <td>1996</td>\n",
       "      <td>4</td>\n",
       "      <td>9478768</td>\n",
       "      <td>26211553</td>\n",
       "      <td>35690321</td>\n",
       "    </tr>\n",
       "    <tr>\n",
       "      <th>4</th>\n",
       "      <td>1996</td>\n",
       "      <td>5</td>\n",
       "      <td>10200276</td>\n",
       "      <td>27444210</td>\n",
       "      <td>37644486</td>\n",
       "    </tr>\n",
       "  </tbody>\n",
       "</table>\n",
       "</div>"
      ],
      "text/plain": [
       "   year  month  trafficValue  passengersValue     Total\n",
       "0  1996      1       8916714         23633628  32550342\n",
       "1  1996      2       8788827         23423798  32212625\n",
       "2  1996      3       9749151         25759922  35509073\n",
       "3  1996      4       9478768         26211553  35690321\n",
       "4  1996      5      10200276         27444210  37644486"
      ]
     },
     "execution_count": 20,
     "metadata": {},
     "output_type": "execute_result"
    }
   ],
   "source": [
    "regr.head()"
   ]
  },
  {
   "cell_type": "code",
   "execution_count": 21,
   "metadata": {},
   "outputs": [],
   "source": [
    "modelT = LinearRegression()\n",
    "modelP = LinearRegression()"
   ]
  },
  {
   "cell_type": "code",
   "execution_count": 28,
   "metadata": {},
   "outputs": [],
   "source": [
    "XT = regr[['month']]\n",
    "yT = regr['trafficValue']\n",
    "XP = regr[['year']]\n",
    "yP = regr['passengersValue']"
   ]
  },
  {
   "cell_type": "code",
   "execution_count": 29,
   "metadata": {},
   "outputs": [
    {
     "data": {
      "text/plain": [
       "LinearRegression(copy_X=True, fit_intercept=True, n_jobs=None, normalize=False)"
      ]
     },
     "execution_count": 29,
     "metadata": {},
     "output_type": "execute_result"
    }
   ],
   "source": [
    "modelT.fit(XT,yT)\n",
    "modelP.fit(XP,yP)"
   ]
  },
  {
   "cell_type": "code",
   "execution_count": 30,
   "metadata": {},
   "outputs": [],
   "source": [
    "predictionsT = modelT.predict(XT)\n",
    "predictionsP = modelP.predict(XP)"
   ]
  },
  {
   "cell_type": "code",
   "execution_count": 31,
   "metadata": {},
   "outputs": [
    {
     "data": {
      "image/png": "[encoded data removed]",
      "text/plain": [
       "<Figure size 432x288 with 1 Axes>"
      ]
     },
     "metadata": {
      "needs_background": "light"
     },
     "output_type": "display_data"
    }
   ],
   "source": [
    "%matplotlib inline\n",
    "import matplotlib.pyplot as plt\n",
    "\n",
    "plt.scatter(XT.iloc[:,0], yT)\n",
    "plt.plot(XT.iloc[:,0], predictionsT, 'r')\n",
    "plt.xlabel(XT.columns[0])\n",
    "plt.ylabel('Value')\n",
    "plt.show()"
   ]
  },
  {
   "cell_type": "code",
   "execution_count": 26,
   "metadata": {},
   "outputs": [
    {
     "data": {
      "image/png": "[encoded data removed]",
      "text/plain": [
       "<Figure size 432x288 with 1 Axes>"
      ]
     },
     "metadata": {
      "needs_background": "light"
     },
     "output_type": "display_data"
    }
   ],
   "source": [
    "%matplotlib inline\n",
    "import matplotlib.pyplot as plt\n",
    "\n",
    "plt.scatter(XP.iloc[:,0], yP)\n",
    "plt.plot(XP.iloc[:,0], predictionsP, 'r')\n",
    "plt.xlabel(XP.columns[0])\n",
    "plt.ylabel('Value')\n",
    "plt.show()"
   ]
  },
  {
   "cell_type": "code",
   "execution_count": 27,
   "metadata": {},
   "outputs": [],
   "source": [
    "%matplotlib inline\n",
    "import numpy as np\n",
    "import matplotlib.pyplot as plt\n",
    "from matplotlib import collections  as mc\n",
    "%load_ext autoreload\n",
    "%autoreload 2\n",
    "import pandas as pd \n",
    "import seaborn as sns\n",
    "from sklearn.preprocessing import LabelEncoder, OneHotEncoder\n",
    "sns.set_style(\"white\")"
   ]
  },
  {
   "cell_type": "code",
   "execution_count": 35,
   "metadata": {},
   "outputs": [],
   "source": [
    "import datetime as dt \n",
    "data['Date'] = pd.to_datetime(data['Date'])\n",
    "data['Date']=data['Date'].map(dt.datetime.toordinal)"
   ]
  },
  {
   "cell_type": "code",
   "execution_count": 46,
   "metadata": {},
   "outputs": [],
   "source": [
    "n = data.shape[0]\n",
    "X = data[[\"Date\"]]\n",
    "y = data[\"Value\"]"
   ]
  },
  {
   "cell_type": "code",
   "execution_count": 48,
   "metadata": {},
   "outputs": [
    {
     "data": {
      "image/png": "[encoded data removed]",
      "text/plain": [
       "<Figure size 432x288 with 1 Axes>"
      ]
     },
     "metadata": {
      "needs_background": "light"
     },
     "output_type": "display_data"
    }
   ],
   "source": [
    "model = LinearRegression()\n",
    "model.fit(X,y)\n",
    "predictions = model.predict(X)\n",
    "\n",
    "plt.scatter(X.iloc[:,0], y)\n",
    "plt.plot(X.iloc[:,0], predictions, 'r')\n",
    "plt.xlabel(X.columns[0])\n",
    "plt.ylabel('Value')\n",
    "plt.show()"
   ]
  },
  {
   "cell_type": "code",
   "execution_count": 61,
   "metadata": {},
   "outputs": [],
   "source": [
    "def series_to_supervised(data, n_in, n_out=1):\n",
    "    df = pd.DataFrame(data)\n",
    "    cols = list()\n",
    "    # input sequence (t-n, ... t-1)\n",
    "    for i in range(n_in, 0, -1):\n",
    "        cols.append(df.shift(i))\n",
    "    # forecast sequence (t, t+1, ... t+n)\n",
    "    for i in range(0, n_out):\n",
    "        cols.append(df.shift(-i))\n",
    "    # put it all together\n",
    "    agg = pd.concat(cols, axis=1)\n",
    "    # drop rows with NaN values\n",
    "    agg.dropna(inplace=True)\n",
    "    return agg.values"
   ]
  },
  {
   "cell_type": "code",
   "execution_count": 62,
   "metadata": {
    "scrolled": true
   },
   "outputs": [
    {
     "data": {
      "text/html": [
       "<div>\n",
       "<style scoped>\n",
       "    .dataframe tbody tr th:only-of-type {\n",
       "        vertical-align: middle;\n",
       "    }\n",
       "\n",
       "    .dataframe tbody tr th {\n",
       "        vertical-align: top;\n",
       "    }\n",
       "\n",
       "    .dataframe thead th {\n",
       "        text-align: right;\n",
       "    }\n",
       "</style>\n",
       "<table border=\"1\" class=\"dataframe\">\n",
       "  <thead>\n",
       "    <tr style=\"text-align: right;\">\n",
       "      <th></th>\n",
       "      <th>0</th>\n",
       "      <th>1</th>\n",
       "      <th>2</th>\n",
       "      <th>3</th>\n",
       "    </tr>\n",
       "  </thead>\n",
       "  <tbody>\n",
       "    <tr>\n",
       "      <th>0</th>\n",
       "      <td>2019-06-01 00:00:00</td>\n",
       "      <td>19459</td>\n",
       "      <td>2019-06-01 00:00:00</td>\n",
       "      <td>2</td>\n",
       "    </tr>\n",
       "    <tr>\n",
       "      <th>1</th>\n",
       "      <td>2019-06-01 00:00:00</td>\n",
       "      <td>2</td>\n",
       "      <td>2019-06-01 00:00:00</td>\n",
       "      <td>63</td>\n",
       "    </tr>\n",
       "    <tr>\n",
       "      <th>2</th>\n",
       "      <td>2019-06-01 00:00:00</td>\n",
       "      <td>63</td>\n",
       "      <td>2019-06-01 00:00:00</td>\n",
       "      <td>7385</td>\n",
       "    </tr>\n",
       "    <tr>\n",
       "      <th>3</th>\n",
       "      <td>2019-06-01 00:00:00</td>\n",
       "      <td>7385</td>\n",
       "      <td>2019-06-01 00:00:00</td>\n",
       "      <td>118</td>\n",
       "    </tr>\n",
       "    <tr>\n",
       "      <th>4</th>\n",
       "      <td>2019-06-01 00:00:00</td>\n",
       "      <td>118</td>\n",
       "      <td>2019-06-01 00:00:00</td>\n",
       "      <td>599521</td>\n",
       "    </tr>\n",
       "  </tbody>\n",
       "</table>\n",
       "</div>"
      ],
      "text/plain": [
       "                     0      1                    2       3\n",
       "0  2019-06-01 00:00:00  19459  2019-06-01 00:00:00       2\n",
       "1  2019-06-01 00:00:00      2  2019-06-01 00:00:00      63\n",
       "2  2019-06-01 00:00:00     63  2019-06-01 00:00:00    7385\n",
       "3  2019-06-01 00:00:00   7385  2019-06-01 00:00:00     118\n",
       "4  2019-06-01 00:00:00    118  2019-06-01 00:00:00  599521"
      ]
     },
     "execution_count": 62,
     "metadata": {},
     "output_type": "execute_result"
    }
   ],
   "source": [
    "pd.DataFrame(series_to_supervised(persons,1)).head()"
   ]
  },
  {
   "cell_type": "code",
   "execution_count": 141,
   "metadata": {},
   "outputs": [],
   "source": [
    "personsMonth = persons.groupby([persons['Date'].dt.year.rename('year'), persons['Date'].dt.month.rename('month')]).sum().reset_index()"
   ]
  },
  {
   "cell_type": "code",
   "execution_count": 142,
   "metadata": {},
   "outputs": [
    {
     "data": {
      "text/html": [
       "<div>\n",
       "<style scoped>\n",
       "    .dataframe tbody tr th:only-of-type {\n",
       "        vertical-align: middle;\n",
       "    }\n",
       "\n",
       "    .dataframe tbody tr th {\n",
       "        vertical-align: top;\n",
       "    }\n",
       "\n",
       "    .dataframe thead th {\n",
       "        text-align: right;\n",
       "    }\n",
       "</style>\n",
       "<table border=\"1\" class=\"dataframe\">\n",
       "  <thead>\n",
       "    <tr style=\"text-align: right;\">\n",
       "      <th></th>\n",
       "      <th>year</th>\n",
       "      <th>month</th>\n",
       "      <th>Value</th>\n",
       "    </tr>\n",
       "  </thead>\n",
       "  <tbody>\n",
       "    <tr>\n",
       "      <th>0</th>\n",
       "      <td>1996</td>\n",
       "      <td>1</td>\n",
       "      <td>23633628</td>\n",
       "    </tr>\n",
       "    <tr>\n",
       "      <th>1</th>\n",
       "      <td>1996</td>\n",
       "      <td>2</td>\n",
       "      <td>23423798</td>\n",
       "    </tr>\n",
       "    <tr>\n",
       "      <th>2</th>\n",
       "      <td>1996</td>\n",
       "      <td>3</td>\n",
       "      <td>25759922</td>\n",
       "    </tr>\n",
       "    <tr>\n",
       "      <th>3</th>\n",
       "      <td>1996</td>\n",
       "      <td>4</td>\n",
       "      <td>26211553</td>\n",
       "    </tr>\n",
       "    <tr>\n",
       "      <th>4</th>\n",
       "      <td>1996</td>\n",
       "      <td>5</td>\n",
       "      <td>27444210</td>\n",
       "    </tr>\n",
       "  </tbody>\n",
       "</table>\n",
       "</div>"
      ],
      "text/plain": [
       "   year  month     Value\n",
       "0  1996      1  23633628\n",
       "1  1996      2  23423798\n",
       "2  1996      3  25759922\n",
       "3  1996      4  26211553\n",
       "4  1996      5  27444210"
      ]
     },
     "execution_count": 142,
     "metadata": {},
     "output_type": "execute_result"
    }
   ],
   "source": [
    "personsMonth.head()"
   ]
  },
  {
   "cell_type": "code",
   "execution_count": 143,
   "metadata": {},
   "outputs": [],
   "source": [
    "personsMonth['yearMonth'] = pd.to_datetime(personsMonth['month'].astype(str) + ' ' + personsMonth['year'].astype(str))"
   ]
  },
  {
   "cell_type": "code",
   "execution_count": 144,
   "metadata": {},
   "outputs": [],
   "source": [
    "personsMonth['yearMonth']=personsMonth['yearMonth'].map(dt.datetime.toordinal)"
   ]
  },
  {
   "cell_type": "code",
   "execution_count": 145,
   "metadata": {},
   "outputs": [
    {
     "data": {
      "text/html": [
       "<div>\n",
       "<style scoped>\n",
       "    .dataframe tbody tr th:only-of-type {\n",
       "        vertical-align: middle;\n",
       "    }\n",
       "\n",
       "    .dataframe tbody tr th {\n",
       "        vertical-align: top;\n",
       "    }\n",
       "\n",
       "    .dataframe thead th {\n",
       "        text-align: right;\n",
       "    }\n",
       "</style>\n",
       "<table border=\"1\" class=\"dataframe\">\n",
       "  <thead>\n",
       "    <tr style=\"text-align: right;\">\n",
       "      <th></th>\n",
       "      <th>year</th>\n",
       "      <th>month</th>\n",
       "      <th>Value</th>\n",
       "      <th>yearMonth</th>\n",
       "    </tr>\n",
       "  </thead>\n",
       "  <tbody>\n",
       "    <tr>\n",
       "      <th>0</th>\n",
       "      <td>1996</td>\n",
       "      <td>1</td>\n",
       "      <td>23633628</td>\n",
       "      <td>728659</td>\n",
       "    </tr>\n",
       "    <tr>\n",
       "      <th>1</th>\n",
       "      <td>1996</td>\n",
       "      <td>2</td>\n",
       "      <td>23423798</td>\n",
       "      <td>728690</td>\n",
       "    </tr>\n",
       "    <tr>\n",
       "      <th>2</th>\n",
       "      <td>1996</td>\n",
       "      <td>3</td>\n",
       "      <td>25759922</td>\n",
       "      <td>728719</td>\n",
       "    </tr>\n",
       "    <tr>\n",
       "      <th>3</th>\n",
       "      <td>1996</td>\n",
       "      <td>4</td>\n",
       "      <td>26211553</td>\n",
       "      <td>728750</td>\n",
       "    </tr>\n",
       "    <tr>\n",
       "      <th>4</th>\n",
       "      <td>1996</td>\n",
       "      <td>5</td>\n",
       "      <td>27444210</td>\n",
       "      <td>728780</td>\n",
       "    </tr>\n",
       "  </tbody>\n",
       "</table>\n",
       "</div>"
      ],
      "text/plain": [
       "   year  month     Value  yearMonth\n",
       "0  1996      1  23633628     728659\n",
       "1  1996      2  23423798     728690\n",
       "2  1996      3  25759922     728719\n",
       "3  1996      4  26211553     728750\n",
       "4  1996      5  27444210     728780"
      ]
     },
     "execution_count": 145,
     "metadata": {},
     "output_type": "execute_result"
    }
   ],
   "source": [
    "personsMonth.head()"
   ]
  },
  {
   "cell_type": "code",
   "execution_count": 146,
   "metadata": {},
   "outputs": [
    {
     "data": {
      "image/png": "[encoded data removed]",
      "text/plain": [
       "<Figure size 640x480 with 1 Axes>"
      ]
     },
     "metadata": {},
     "output_type": "display_data"
    }
   ],
   "source": [
    "X = personsMonth[[\"yearMonth\"]]\n",
    "y = personsMonth[\"Value\"]\n",
    "\n",
    "model = LinearRegression()\n",
    "model.fit(X,y)\n",
    "predictions = model.predict(X)\n",
    "\n",
    "plt.scatter(X.iloc[:,0], y)\n",
    "plt.plot(X.iloc[:,0], predictions, 'r')\n",
    "plt.xlabel(X.columns[0])\n",
    "plt.ylabel('Value')\n",
    "plt.show()"
   ]
  },
  {
   "cell_type": "code",
   "execution_count": null,
   "metadata": {},
   "outputs": [],
   "source": []
  }
 ],
 "metadata": {
  "kernelspec": {
   "display_name": "Python 3",
   "language": "python",
   "name": "python3"
  },
  "language_info": {
   "codemirror_mode": {
    "name": "ipython",
    "version": 3
   },
   "file_extension": ".py",
   "mimetype": "text/x-python",
   "name": "python",
   "nbconvert_exporter": "python",
   "pygments_lexer": "ipython3",
   "version": "3.7.3"
  }
 },
 "nbformat": 4,
 "nbformat_minor": 2
}
