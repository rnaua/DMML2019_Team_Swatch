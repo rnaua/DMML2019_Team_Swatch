{
 "cells": [
  {
   "cell_type": "markdown",
   "metadata": {},
   "source": [
    "### EDA_Tanja\n",
    "Careful on:\n",
    "- \"Among the 'Measure' types, 'Personal Vehicle Passengers', 'Bus Passengers','Pedestrians' and 'Train Passengers' count people, whereas the others count vehicles.\"\n",
    "- tableau avec selon Border, les measures et les différentes somme de value?\n",
    "- data from 1996 to 2019"
   ]
  },
  {
   "cell_type": "code",
   "execution_count": 1,
   "metadata": {
    "inputHidden": false,
    "outputHidden": false
   },
   "outputs": [],
   "source": [
    "# import libraries\n",
    "import pandas as pd\n",
    "import numpy as np"
   ]
  },
  {
   "cell_type": "code",
   "execution_count": 2,
   "metadata": {
    "inputHidden": false,
    "outputHidden": false
   },
   "outputs": [],
   "source": [
    "# load cleaned data with positions\n",
    "df = pd.read_csv(\"../data/DataWithLocationCleaned.zip\")"
   ]
  },
  {
   "cell_type": "code",
   "execution_count": 5,
   "metadata": {
    "inputHidden": false,
    "outputHidden": false
   },
   "outputs": [
    {
     "data": {
      "text/plain": [
       "Port Name            object\n",
       "State                object\n",
       "Port Code             int64\n",
       "Border               object\n",
       "Date         datetime64[ns]\n",
       "Measure              object\n",
       "Value                 int64\n",
       "position             object\n",
       "dtype: object"
      ]
     },
     "execution_count": 5,
     "metadata": {},
     "output_type": "execute_result"
    }
   ],
   "source": [
    "# check if date is datetime\n",
    "df.dtypes\n",
    "# convert 'Date' to date format\n",
    "df['Date'] = pd.to_datetime(df['Date'])\n",
    "# recheck data type of 'Date'\n",
    "df.dtypes"
   ]
  },
  {
   "cell_type": "code",
   "execution_count": 6,
   "metadata": {
    "inputHidden": false,
    "outputHidden": false
   },
   "outputs": [
    {
     "name": "stdout",
     "output_type": "stream",
     "text": [
      "Measure types : 12\n"
     ]
    },
    {
     "data": {
      "text/plain": [
       "array(['Truck Containers Full', 'Truck Containers Empty',\n",
       "       'Personal Vehicles', 'Personal Vehicle Passengers', 'Pedestrians',\n",
       "       'Buses', 'Bus Passengers', 'Trucks', 'Trains', 'Train Passengers',\n",
       "       'Rail Containers Full', 'Rail Containers Empty'], dtype=object)"
      ]
     },
     "execution_count": 6,
     "metadata": {},
     "output_type": "execute_result"
    }
   ],
   "source": [
    "# check number of unique elements in 'Measure' \n",
    "print('Measure types : {}' .format(len(df['Measure'].unique())))\n",
    "df['Measure'].unique()"
   ]
  },
  {
   "cell_type": "code",
   "execution_count": 7,
   "metadata": {
    "inputHidden": false,
    "outputHidden": false
   },
   "outputs": [
    {
     "data": {
      "text/html": [
       "<div>\n",
       "<style scoped>\n",
       "    .dataframe tbody tr th:only-of-type {\n",
       "        vertical-align: middle;\n",
       "    }\n",
       "\n",
       "    .dataframe tbody tr th {\n",
       "        vertical-align: top;\n",
       "    }\n",
       "\n",
       "    .dataframe thead th {\n",
       "        text-align: right;\n",
       "    }\n",
       "</style>\n",
       "<table border=\"1\" class=\"dataframe\">\n",
       "  <thead>\n",
       "    <tr style=\"text-align: right;\">\n",
       "      <th></th>\n",
       "      <th>Value</th>\n",
       "    </tr>\n",
       "    <tr>\n",
       "      <th>Measure</th>\n",
       "      <th></th>\n",
       "    </tr>\n",
       "  </thead>\n",
       "  <tbody>\n",
       "    <tr>\n",
       "      <th>Bus Passengers</th>\n",
       "      <td>143388212</td>\n",
       "    </tr>\n",
       "    <tr>\n",
       "      <th>Buses</th>\n",
       "      <td>8604318</td>\n",
       "    </tr>\n",
       "    <tr>\n",
       "      <th>Pedestrians</th>\n",
       "      <td>1056699751</td>\n",
       "    </tr>\n",
       "    <tr>\n",
       "      <th>Personal Vehicle Passengers</th>\n",
       "      <td>5504073464</td>\n",
       "    </tr>\n",
       "    <tr>\n",
       "      <th>Personal Vehicles</th>\n",
       "      <td>2584776249</td>\n",
       "    </tr>\n",
       "    <tr>\n",
       "      <th>Rail Containers Empty</th>\n",
       "      <td>21477185</td>\n",
       "    </tr>\n",
       "    <tr>\n",
       "      <th>Rail Containers Full</th>\n",
       "      <td>38891558</td>\n",
       "    </tr>\n",
       "    <tr>\n",
       "      <th>Train Passengers</th>\n",
       "      <td>6287351</td>\n",
       "    </tr>\n",
       "    <tr>\n",
       "      <th>Trains</th>\n",
       "      <td>912969</td>\n",
       "    </tr>\n",
       "    <tr>\n",
       "      <th>Truck Containers Empty</th>\n",
       "      <td>64852271</td>\n",
       "    </tr>\n",
       "    <tr>\n",
       "      <th>Truck Containers Full</th>\n",
       "      <td>179543288</td>\n",
       "    </tr>\n",
       "    <tr>\n",
       "      <th>Trucks</th>\n",
       "      <td>256762423</td>\n",
       "    </tr>\n",
       "  </tbody>\n",
       "</table>\n",
       "</div>"
      ],
      "text/plain": [
       "                                  Value\n",
       "Measure                                \n",
       "Bus Passengers                143388212\n",
       "Buses                           8604318\n",
       "Pedestrians                  1056699751\n",
       "Personal Vehicle Passengers  5504073464\n",
       "Personal Vehicles            2584776249\n",
       "Rail Containers Empty          21477185\n",
       "Rail Containers Full           38891558\n",
       "Train Passengers                6287351\n",
       "Trains                           912969\n",
       "Truck Containers Empty         64852271\n",
       "Truck Containers Full         179543288\n",
       "Trucks                        256762423"
      ]
     },
     "execution_count": 7,
     "metadata": {},
     "output_type": "execute_result"
    }
   ],
   "source": [
    "# number of people or vehicles depending on the measure\n",
    "df_measure = df[['Measure','Value']].groupby('Measure').sum()\n",
    "df_measure"
   ]
  },
  {
   "cell_type": "code",
   "execution_count": 8,
   "metadata": {
    "inputHidden": false,
    "outputHidden": false
   },
   "outputs": [
    {
     "data": {
      "text/html": [
       "<div>\n",
       "<style scoped>\n",
       "    .dataframe tbody tr th:only-of-type {\n",
       "        vertical-align: middle;\n",
       "    }\n",
       "\n",
       "    .dataframe tbody tr th {\n",
       "        vertical-align: top;\n",
       "    }\n",
       "\n",
       "    .dataframe thead th {\n",
       "        text-align: right;\n",
       "    }\n",
       "</style>\n",
       "<table border=\"1\" class=\"dataframe\">\n",
       "  <thead>\n",
       "    <tr style=\"text-align: right;\">\n",
       "      <th></th>\n",
       "      <th>Value</th>\n",
       "    </tr>\n",
       "    <tr>\n",
       "      <th>Border</th>\n",
       "      <th></th>\n",
       "    </tr>\n",
       "  </thead>\n",
       "  <tbody>\n",
       "    <tr>\n",
       "      <th>US-Canada Border</th>\n",
       "      <td>2712940816</td>\n",
       "    </tr>\n",
       "    <tr>\n",
       "      <th>US-Mexico Border</th>\n",
       "      <td>7153328223</td>\n",
       "    </tr>\n",
       "  </tbody>\n",
       "</table>\n",
       "</div>"
      ],
      "text/plain": [
       "                       Value\n",
       "Border                      \n",
       "US-Canada Border  2712940816\n",
       "US-Mexico Border  7153328223"
      ]
     },
     "execution_count": 8,
     "metadata": {},
     "output_type": "execute_result"
    }
   ],
   "source": [
    "# number of people or vehicles depending on border\n",
    "df_measure = df[['Border','Value']].groupby(['Border']).sum()\n",
    "df_measure"
   ]
  },
  {
   "cell_type": "code",
   "execution_count": 9,
   "metadata": {
    "inputHidden": false,
    "outputHidden": false
   },
   "outputs": [],
   "source": [
    "# separate measure of people counting\n",
    "people = df[df['Measure'].isin(['Personal Vehicle Passengers', 'Bus Passengers','Pedestrians', 'Train Passengers'])]\n"
   ]
  },
  {
   "cell_type": "code",
   "execution_count": 10,
   "metadata": {
    "inputHidden": false,
    "outputHidden": false
   },
   "outputs": [
    {
     "data": {
      "text/html": [
       "<div>\n",
       "<style scoped>\n",
       "    .dataframe tbody tr th:only-of-type {\n",
       "        vertical-align: middle;\n",
       "    }\n",
       "\n",
       "    .dataframe tbody tr th {\n",
       "        vertical-align: top;\n",
       "    }\n",
       "\n",
       "    .dataframe thead th {\n",
       "        text-align: right;\n",
       "    }\n",
       "</style>\n",
       "<table border=\"1\" class=\"dataframe\">\n",
       "  <thead>\n",
       "    <tr style=\"text-align: right;\">\n",
       "      <th></th>\n",
       "      <th>Value</th>\n",
       "    </tr>\n",
       "    <tr>\n",
       "      <th>Border</th>\n",
       "      <th></th>\n",
       "    </tr>\n",
       "  </thead>\n",
       "  <tbody>\n",
       "    <tr>\n",
       "      <th>US-Canada Border</th>\n",
       "      <td>1645990588</td>\n",
       "    </tr>\n",
       "    <tr>\n",
       "      <th>US-Mexico Border</th>\n",
       "      <td>5064458190</td>\n",
       "    </tr>\n",
       "  </tbody>\n",
       "</table>\n",
       "</div>"
      ],
      "text/plain": [
       "                       Value\n",
       "Border                      \n",
       "US-Canada Border  1645990588\n",
       "US-Mexico Border  5064458190"
      ]
     },
     "execution_count": 10,
     "metadata": {},
     "output_type": "execute_result"
    }
   ],
   "source": [
    "# number of people depending on border\n",
    "df_people = people[['Border','Value']].groupby('Border').sum()\n",
    "df_people"
   ]
  },
  {
   "cell_type": "code",
   "execution_count": 13,
   "metadata": {
    "inputHidden": false,
    "outputHidden": false
   },
   "outputs": [
    {
     "data": {
      "text/plain": [
       "array([<matplotlib.axes._subplots.AxesSubplot object at 0x1173b9d68>],\n",
       "      dtype=object)"
      ]
     },
     "execution_count": 13,
     "metadata": {},
     "output_type": "execute_result"
    },
    {
     "data": {
      "image/png": "[encoded data removed]",
      "text/plain": [
       "<Figure size 360x360 with 1 Axes>"
      ]
     },
     "metadata": {},
     "output_type": "display_data"
    }
   ],
   "source": [
    "# piechart\n",
    "df_people_pie = pd.DataFrame({'Value': [1645990588,5064458190]},index=['US-Canada Border', 'US-Mexico Border'])\n",
    "df_people_pie.plot.pie( subplots=True, figsize=(5, 5))"
   ]
  },
  {
   "cell_type": "code",
   "execution_count": 12,
   "metadata": {
    "inputHidden": false,
    "outputHidden": false
   },
   "outputs": [
    {
     "data": {
      "image/png": "[encoded data removed]",
      "text/plain": [
       "<Figure size 432x288 with 1 Axes>"
      ]
     },
     "metadata": {},
     "output_type": "display_data"
    }
   ],
   "source": [
    "# better piechart\n",
    "# import useful library\n",
    "import matplotlib.pyplot as plt\n",
    "# set parameters\n",
    "Value_people = [1645990588,5064458190]\n",
    "my_labels = 'US-Canada Border', 'US-Mexico Border'\n",
    "plt.pie(Value_people,labels=my_labels,autopct='%1.1f%%')\n",
    "plt.title('Number of people crossing borders')\n",
    "plt.axis('equal')\n",
    "plt.show()"
   ]
  },
  {
   "cell_type": "code",
   "execution_count": 14,
   "metadata": {
    "inputHidden": false,
    "outputHidden": false
   },
   "outputs": [
    {
     "data": {
      "text/html": [
       "<div>\n",
       "<style scoped>\n",
       "    .dataframe tbody tr th:only-of-type {\n",
       "        vertical-align: middle;\n",
       "    }\n",
       "\n",
       "    .dataframe tbody tr th {\n",
       "        vertical-align: top;\n",
       "    }\n",
       "\n",
       "    .dataframe thead th {\n",
       "        text-align: right;\n",
       "    }\n",
       "</style>\n",
       "<table border=\"1\" class=\"dataframe\">\n",
       "  <thead>\n",
       "    <tr style=\"text-align: right;\">\n",
       "      <th></th>\n",
       "      <th></th>\n",
       "      <th>Value</th>\n",
       "    </tr>\n",
       "    <tr>\n",
       "      <th>Date</th>\n",
       "      <th>Border</th>\n",
       "      <th></th>\n",
       "    </tr>\n",
       "  </thead>\n",
       "  <tbody>\n",
       "    <tr>\n",
       "      <th rowspan=\"2\" valign=\"top\">1996-01-01</th>\n",
       "      <th>US-Canada Border</th>\n",
       "      <td>6329802</td>\n",
       "    </tr>\n",
       "    <tr>\n",
       "      <th>US-Mexico Border</th>\n",
       "      <td>17303826</td>\n",
       "    </tr>\n",
       "    <tr>\n",
       "      <th rowspan=\"2\" valign=\"top\">1996-02-01</th>\n",
       "      <th>US-Canada Border</th>\n",
       "      <td>6774801</td>\n",
       "    </tr>\n",
       "    <tr>\n",
       "      <th>US-Mexico Border</th>\n",
       "      <td>16648997</td>\n",
       "    </tr>\n",
       "    <tr>\n",
       "      <th rowspan=\"2\" valign=\"top\">1996-03-01</th>\n",
       "      <th>US-Canada Border</th>\n",
       "      <td>7188110</td>\n",
       "    </tr>\n",
       "    <tr>\n",
       "      <th>US-Mexico Border</th>\n",
       "      <td>18571812</td>\n",
       "    </tr>\n",
       "    <tr>\n",
       "      <th rowspan=\"2\" valign=\"top\">1996-04-01</th>\n",
       "      <th>US-Canada Border</th>\n",
       "      <td>8098225</td>\n",
       "    </tr>\n",
       "    <tr>\n",
       "      <th>US-Mexico Border</th>\n",
       "      <td>18113328</td>\n",
       "    </tr>\n",
       "    <tr>\n",
       "      <th rowspan=\"2\" valign=\"top\">1996-05-01</th>\n",
       "      <th>US-Canada Border</th>\n",
       "      <td>9171578</td>\n",
       "    </tr>\n",
       "    <tr>\n",
       "      <th>US-Mexico Border</th>\n",
       "      <td>18272632</td>\n",
       "    </tr>\n",
       "  </tbody>\n",
       "</table>\n",
       "</div>"
      ],
      "text/plain": [
       "                                Value\n",
       "Date       Border                    \n",
       "1996-01-01 US-Canada Border   6329802\n",
       "           US-Mexico Border  17303826\n",
       "1996-02-01 US-Canada Border   6774801\n",
       "           US-Mexico Border  16648997\n",
       "1996-03-01 US-Canada Border   7188110\n",
       "           US-Mexico Border  18571812\n",
       "1996-04-01 US-Canada Border   8098225\n",
       "           US-Mexico Border  18113328\n",
       "1996-05-01 US-Canada Border   9171578\n",
       "           US-Mexico Border  18272632"
      ]
     },
     "execution_count": 14,
     "metadata": {},
     "output_type": "execute_result"
    }
   ],
   "source": [
    "# consider people counting measure, sum value and set date as index\n",
    "df_date = people[['Date','Border','Value']].set_index('Date')\n",
    "# group by date and border\n",
    "df_date = df_date.groupby(['Date', 'Border']).sum()\n",
    "df_date.head(10)"
   ]
  },
  {
   "cell_type": "code",
   "execution_count": 15,
   "metadata": {
    "inputHidden": false,
    "outputHidden": false
   },
   "outputs": [
    {
     "data": {
      "text/plain": [
       "array([2019, 2018, 2017, 2016, 2015, 2014, 2013, 2012, 2011, 2010, 2009,\n",
       "       2008, 2007, 2006, 2005, 2004, 2003, 2002, 2001, 2000, 1999, 1998,\n",
       "       1997, 1996])"
      ]
     },
     "execution_count": 15,
     "metadata": {},
     "output_type": "execute_result"
    }
   ],
   "source": [
    "# check number of unique years\n",
    "years = df['Date'].map(lambda x : x.year).unique()\n",
    "years"
   ]
  },
  {
   "cell_type": "code",
   "execution_count": 16,
   "metadata": {
    "inputHidden": false,
    "outputHidden": false
   },
   "outputs": [
    {
     "data": {
      "text/html": [
       "<div>\n",
       "<style scoped>\n",
       "    .dataframe tbody tr th:only-of-type {\n",
       "        vertical-align: middle;\n",
       "    }\n",
       "\n",
       "    .dataframe tbody tr th {\n",
       "        vertical-align: top;\n",
       "    }\n",
       "\n",
       "    .dataframe thead th {\n",
       "        text-align: right;\n",
       "    }\n",
       "</style>\n",
       "<table border=\"1\" class=\"dataframe\">\n",
       "  <thead>\n",
       "    <tr style=\"text-align: right;\">\n",
       "      <th></th>\n",
       "      <th></th>\n",
       "      <th>Value</th>\n",
       "    </tr>\n",
       "    <tr>\n",
       "      <th>Date</th>\n",
       "      <th>Border</th>\n",
       "      <th></th>\n",
       "    </tr>\n",
       "  </thead>\n",
       "  <tbody>\n",
       "    <tr>\n",
       "      <th rowspan=\"2\" valign=\"top\">1996</th>\n",
       "      <th>US-Canada Border</th>\n",
       "      <td>105762398</td>\n",
       "    </tr>\n",
       "    <tr>\n",
       "      <th>US-Mexico Border</th>\n",
       "      <td>207586832</td>\n",
       "    </tr>\n",
       "    <tr>\n",
       "      <th rowspan=\"2\" valign=\"top\">1997</th>\n",
       "      <th>US-Canada Border</th>\n",
       "      <td>97570223</td>\n",
       "    </tr>\n",
       "    <tr>\n",
       "      <th>US-Mexico Border</th>\n",
       "      <td>261050472</td>\n",
       "    </tr>\n",
       "    <tr>\n",
       "      <th rowspan=\"2\" valign=\"top\">1998</th>\n",
       "      <th>US-Canada Border</th>\n",
       "      <td>93097261</td>\n",
       "    </tr>\n",
       "    <tr>\n",
       "      <th>US-Mexico Border</th>\n",
       "      <td>274125727</td>\n",
       "    </tr>\n",
       "    <tr>\n",
       "      <th rowspan=\"2\" valign=\"top\">1999</th>\n",
       "      <th>US-Canada Border</th>\n",
       "      <td>94573669</td>\n",
       "    </tr>\n",
       "    <tr>\n",
       "      <th>US-Mexico Border</th>\n",
       "      <td>293109831</td>\n",
       "    </tr>\n",
       "    <tr>\n",
       "      <th rowspan=\"2\" valign=\"top\">2000</th>\n",
       "      <th>US-Canada Border</th>\n",
       "      <td>95776909</td>\n",
       "    </tr>\n",
       "    <tr>\n",
       "      <th>US-Mexico Border</th>\n",
       "      <td>290368364</td>\n",
       "    </tr>\n",
       "  </tbody>\n",
       "</table>\n",
       "</div>"
      ],
      "text/plain": [
       "                           Value\n",
       "Date Border                     \n",
       "1996 US-Canada Border  105762398\n",
       "     US-Mexico Border  207586832\n",
       "1997 US-Canada Border   97570223\n",
       "     US-Mexico Border  261050472\n",
       "1998 US-Canada Border   93097261\n",
       "     US-Mexico Border  274125727\n",
       "1999 US-Canada Border   94573669\n",
       "     US-Mexico Border  293109831\n",
       "2000 US-Canada Border   95776909\n",
       "     US-Mexico Border  290368364"
      ]
     },
     "execution_count": 16,
     "metadata": {},
     "output_type": "execute_result"
    }
   ],
   "source": [
    "# consider people counting measure, sum value and set date.year as index\n",
    "df_date_year = people[['Date','Border','Value']].set_index('Date')\n",
    "df_date_year.index = pd.to_datetime(df_date_year.index)\n",
    "\n",
    "# group by date.year and border\n",
    "df_date_year = df_date_year.groupby([df_date_year.index.year, 'Border']).sum()\n",
    "df_date_year.head(10)\n",
    "\n",
    "\n",
    "\n",
    "\n"
   ]
  },
  {
   "cell_type": "code",
   "execution_count": null,
   "metadata": {
    "inputHidden": false,
    "outputHidden": false
   },
   "outputs": [],
   "source": [
    "# histogram\n",
    "# import useful library\n",
    "import matplotlib.pyplot as plt\n",
    "# set parameters\n",
    "x = df[['Value']]\n",
    "plt.hist(x, bins = 23)"
   ]
  },
  {
   "cell_type": "code",
   "execution_count": 17,
   "metadata": {
    "inputHidden": false,
    "outputHidden": false
   },
   "outputs": [
    {
     "ename": "ModuleNotFoundError",
     "evalue": "No module named 'plotly'",
     "output_type": "error",
     "traceback": [
      "\u001b[0;31m---------------------------------------------------------------------------\u001b[0m",
      "\u001b[0;31mModuleNotFoundError\u001b[0m                       Traceback (most recent call last)",
      "\u001b[0;32m<ipython-input-17-20dac13649d7>\u001b[0m in \u001b[0;36m<module>\u001b[0;34m\u001b[0m\n\u001b[0;32m----> 1\u001b[0;31m \u001b[0;32mimport\u001b[0m \u001b[0mplotly\u001b[0m\u001b[0;34m.\u001b[0m\u001b[0mgraph_objects\u001b[0m \u001b[0;32mas\u001b[0m \u001b[0mgo\u001b[0m\u001b[0;34m\u001b[0m\u001b[0;34m\u001b[0m\u001b[0m\n\u001b[0m\u001b[1;32m      2\u001b[0m \u001b[0mval_MEX\u001b[0m \u001b[0;34m=\u001b[0m \u001b[0mdf_date_year\u001b[0m\u001b[0;34m.\u001b[0m\u001b[0mloc\u001b[0m\u001b[0;34m(\u001b[0m\u001b[0maxis\u001b[0m\u001b[0;34m=\u001b[0m\u001b[0;36m0\u001b[0m\u001b[0;34m)\u001b[0m\u001b[0;34m[\u001b[0m\u001b[0;34m:\u001b[0m\u001b[0;34m,\u001b[0m\u001b[0;34m'US-Mexico Border'\u001b[0m\u001b[0;34m]\u001b[0m\u001b[0;34m.\u001b[0m\u001b[0mvalues\u001b[0m\u001b[0;34m.\u001b[0m\u001b[0mflatten\u001b[0m\u001b[0;34m(\u001b[0m\u001b[0;34m)\u001b[0m\u001b[0;34m.\u001b[0m\u001b[0mtolist\u001b[0m\u001b[0;34m(\u001b[0m\u001b[0;34m)\u001b[0m\u001b[0;34m\u001b[0m\u001b[0;34m\u001b[0m\u001b[0m\n\u001b[1;32m      3\u001b[0m \u001b[0mval_CAN\u001b[0m \u001b[0;34m=\u001b[0m \u001b[0mdf_date_year\u001b[0m\u001b[0;34m.\u001b[0m\u001b[0mloc\u001b[0m\u001b[0;34m(\u001b[0m\u001b[0maxis\u001b[0m\u001b[0;34m=\u001b[0m\u001b[0;36m0\u001b[0m\u001b[0;34m)\u001b[0m\u001b[0;34m[\u001b[0m\u001b[0;34m:\u001b[0m\u001b[0;34m,\u001b[0m\u001b[0;34m'US-Canada Border'\u001b[0m\u001b[0;34m]\u001b[0m\u001b[0;34m.\u001b[0m\u001b[0mvalues\u001b[0m\u001b[0;34m.\u001b[0m\u001b[0mflatten\u001b[0m\u001b[0;34m(\u001b[0m\u001b[0;34m)\u001b[0m\u001b[0;34m.\u001b[0m\u001b[0mtolist\u001b[0m\u001b[0;34m(\u001b[0m\u001b[0;34m)\u001b[0m\u001b[0;34m\u001b[0m\u001b[0;34m\u001b[0m\u001b[0m\n\u001b[1;32m      4\u001b[0m \u001b[0myrs\u001b[0m \u001b[0;34m=\u001b[0m \u001b[0mdf_date_year\u001b[0m\u001b[0;34m.\u001b[0m\u001b[0munstack\u001b[0m\u001b[0;34m(\u001b[0m\u001b[0mlevel\u001b[0m\u001b[0;34m=\u001b[0m\u001b[0;36m1\u001b[0m\u001b[0;34m)\u001b[0m\u001b[0;34m.\u001b[0m\u001b[0mindex\u001b[0m\u001b[0;34m.\u001b[0m\u001b[0mvalues\u001b[0m\u001b[0;34m\u001b[0m\u001b[0;34m\u001b[0m\u001b[0m\n\u001b[1;32m      5\u001b[0m \u001b[0;34m\u001b[0m\u001b[0m\n",
      "\u001b[0;31mModuleNotFoundError\u001b[0m: No module named 'plotly'"
     ]
    }
   ],
   "source": [
    "import plotly.graph_objects as go\n",
    "val_MEX = df_date_year.loc(axis=0)[:,'US-Mexico Border'].values.flatten().tolist()\n",
    "val_CAN = df_date_year.loc(axis=0)[:,'US-Canada Border'].values.flatten().tolist()\n",
    "yrs = df_date_year.unstack(level=1).index.values\n",
    "\n",
    "# Bar chart \n",
    "fig = go.Figure(go.Bar(x = yrs, y = val_MEX, name='US-Mexico Border'))\n",
    "fig.add_trace(go.Bar(x = yrs, y = val_CAN, name='US-Canada Border'))\n",
    "\n",
    "fig.update_layout(title = 'Total inbounds (people), by border and years', barmode='stack', xaxis={'categoryorder':'category ascending'})\n",
    "fig.show()"
   ]
  },
  {
   "cell_type": "code",
   "execution_count": 44,
   "metadata": {
    "inputHidden": false,
    "outputHidden": false
   },
   "outputs": [
    {
     "data": {
      "image/png": "[encoded data removed]",
      "text/plain": [
       "<Figure size 864x576 with 1 Axes>"
      ]
     },
     "metadata": {
      "needs_background": "light"
     },
     "output_type": "display_data"
    }
   ],
   "source": [
    "ax = df_date_year.hist(column='Value', bins=25, grid=False, figsize=(12,8), color='#86bf91', zorder=2, rwidth=0.9)\n",
    "\n",
    "ax = ax[0]\n",
    "for x in ax:\n",
    "\n",
    "    # Despine\n",
    "    x.spines['right'].set_visible(False)\n",
    "    x.spines['top'].set_visible(False)\n",
    "    x.spines['left'].set_visible(False)\n",
    "\n",
    "    # Switch off ticks\n",
    "    x.tick_params(axis=\"both\", which=\"both\", bottom=\"off\", top=\"off\", labelbottom=\"on\", left=\"off\", right=\"off\", labelleft=\"on\")\n",
    "\n",
    "    # Draw horizontal axis lines\n",
    "    vals = x.get_yticks()\n",
    "    for tick in vals:\n",
    "        x.axhline(y=tick, linestyle='dashed', alpha=0.4, color='#eeeeee', zorder=1)\n",
    "\n",
    "    # Remove title\n",
    "    x.set_title(\"\")\n",
    "\n",
    "    # Set x-axis label\n",
    "    x.set_xlabel(\"Years\", labelpad=20, weight='bold', size=12)\n",
    "\n",
    "    # Set y-axis label\n",
    "    x.set_ylabel(\"Values\", labelpad=20, weight='bold', size=12)\n",
    "\n",
    "   "
   ]
  },
  {
   "cell_type": "code",
   "execution_count": 13,
   "metadata": {
    "inputHidden": false,
    "outputHidden": false
   },
   "outputs": [
    {
     "data": {
      "text/html": [
       "<div>\n",
       "<style scoped>\n",
       "    .dataframe tbody tr th:only-of-type {\n",
       "        vertical-align: middle;\n",
       "    }\n",
       "\n",
       "    .dataframe tbody tr th {\n",
       "        vertical-align: top;\n",
       "    }\n",
       "\n",
       "    .dataframe thead th {\n",
       "        text-align: right;\n",
       "    }\n",
       "</style>\n",
       "<table border=\"1\" class=\"dataframe\">\n",
       "  <thead>\n",
       "    <tr style=\"text-align: right;\">\n",
       "      <th></th>\n",
       "      <th></th>\n",
       "      <th>Value</th>\n",
       "    </tr>\n",
       "    <tr>\n",
       "      <th>Date</th>\n",
       "      <th>Measure</th>\n",
       "      <th></th>\n",
       "    </tr>\n",
       "  </thead>\n",
       "  <tbody>\n",
       "    <tr>\n",
       "      <th rowspan=\"4\" valign=\"top\">1996-01-01</th>\n",
       "      <th>Bus Passengers</th>\n",
       "      <td>299911</td>\n",
       "    </tr>\n",
       "    <tr>\n",
       "      <th>Pedestrians</th>\n",
       "      <td>3138859</td>\n",
       "    </tr>\n",
       "    <tr>\n",
       "      <th>Personal Vehicle Passengers</th>\n",
       "      <td>20181055</td>\n",
       "    </tr>\n",
       "    <tr>\n",
       "      <th>Train Passengers</th>\n",
       "      <td>13803</td>\n",
       "    </tr>\n",
       "    <tr>\n",
       "      <th rowspan=\"4\" valign=\"top\">1996-02-01</th>\n",
       "      <th>Bus Passengers</th>\n",
       "      <td>320976</td>\n",
       "    </tr>\n",
       "    <tr>\n",
       "      <th>Pedestrians</th>\n",
       "      <td>2994503</td>\n",
       "    </tr>\n",
       "    <tr>\n",
       "      <th>Personal Vehicle Passengers</th>\n",
       "      <td>20095676</td>\n",
       "    </tr>\n",
       "    <tr>\n",
       "      <th>Train Passengers</th>\n",
       "      <td>12643</td>\n",
       "    </tr>\n",
       "    <tr>\n",
       "      <th rowspan=\"2\" valign=\"top\">1996-03-01</th>\n",
       "      <th>Bus Passengers</th>\n",
       "      <td>359668</td>\n",
       "    </tr>\n",
       "    <tr>\n",
       "      <th>Pedestrians</th>\n",
       "      <td>3508484</td>\n",
       "    </tr>\n",
       "  </tbody>\n",
       "</table>\n",
       "</div>"
      ],
      "text/plain": [
       "                                           Value\n",
       "Date       Measure                              \n",
       "1996-01-01 Bus Passengers                 299911\n",
       "           Pedestrians                   3138859\n",
       "           Personal Vehicle Passengers  20181055\n",
       "           Train Passengers                13803\n",
       "1996-02-01 Bus Passengers                 320976\n",
       "           Pedestrians                   2994503\n",
       "           Personal Vehicle Passengers  20095676\n",
       "           Train Passengers                12643\n",
       "1996-03-01 Bus Passengers                 359668\n",
       "           Pedestrians                   3508484"
      ]
     },
     "execution_count": 13,
     "metadata": {},
     "output_type": "execute_result"
    }
   ],
   "source": [
    "# consider people counting measure, sum values and set date as index\n",
    "df_dm = people[['Date','Measure','Value']].set_index('Date')\n",
    "\n",
    "# group by date.years and border\n",
    "df_dm = df_dm.groupby([df_dm.index,'Measure']).sum()\n",
    "df_dm.head(10)"
   ]
  },
  {
   "cell_type": "code",
   "execution_count": null,
   "metadata": {
    "inputHidden": false,
    "outputHidden": false
   },
   "outputs": [],
   "source": [
    "# histogram? \n",
    "# -> output 27"
   ]
  }
 ],
 "metadata": {
  "kernel_info": {
   "name": "python3"
  },
  "kernelspec": {
   "display_name": "Python 3",
   "language": "python",
   "name": "python3"
  },
  "language_info": {
   "codemirror_mode": {
    "name": "ipython",
    "version": 3
   },
   "file_extension": ".py",
   "mimetype": "text/x-python",
   "name": "python",
   "nbconvert_exporter": "python",
   "pygments_lexer": "ipython3",
   "version": "3.7.3"
  },
  "nteract": {
   "version": "0.15.0"
  }
 },
 "nbformat": 4,
 "nbformat_minor": 1
}
