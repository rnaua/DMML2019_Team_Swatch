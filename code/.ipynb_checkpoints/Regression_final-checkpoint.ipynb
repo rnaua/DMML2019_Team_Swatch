{
 "cells": [
  {
   "cell_type": "code",
   "execution_count": 1,
   "metadata": {},
   "outputs": [],
   "source": [
    "import pandas as pd\n",
    "import matplotlib.pyplot as plt\n",
    "import datetime as dt \n",
    "from sklearn.preprocessing import LabelEncoder, OneHotEncoder\n",
    "from sklearn.model_selection import train_test_split\n",
    "from sklearn.linear_model import LogisticRegressionCV\n",
    "import warnings\n",
    "warnings.filterwarnings(\"ignore\", category=FutureWarning)"
   ]
  },
  {
   "cell_type": "code",
   "execution_count": 2,
   "metadata": {},
   "outputs": [],
   "source": [
    "data = pd.read_csv(\"../data/DataWithLocationCleaned.csv.gz\")\n",
    "df = data.copy()"
   ]
  },
  {
   "cell_type": "code",
   "execution_count": 3,
   "metadata": {},
   "outputs": [],
   "source": [
    "df['Date'] = pd.to_datetime(df['Date'])"
   ]
  },
  {
   "cell_type": "code",
   "execution_count": 4,
   "metadata": {},
   "outputs": [
    {
     "data": {
      "text/html": [
       "<div>\n",
       "<style scoped>\n",
       "    .dataframe tbody tr th:only-of-type {\n",
       "        vertical-align: middle;\n",
       "    }\n",
       "\n",
       "    .dataframe tbody tr th {\n",
       "        vertical-align: top;\n",
       "    }\n",
       "\n",
       "    .dataframe thead th {\n",
       "        text-align: right;\n",
       "    }\n",
       "</style>\n",
       "<table border=\"1\" class=\"dataframe\">\n",
       "  <thead>\n",
       "    <tr style=\"text-align: right;\">\n",
       "      <th></th>\n",
       "      <th>Port Name</th>\n",
       "      <th>State</th>\n",
       "      <th>Port Code</th>\n",
       "      <th>Border</th>\n",
       "      <th>Date</th>\n",
       "      <th>Measure</th>\n",
       "      <th>Value</th>\n",
       "      <th>Year</th>\n",
       "      <th>Month</th>\n",
       "      <th>position</th>\n",
       "    </tr>\n",
       "  </thead>\n",
       "  <tbody>\n",
       "    <tr>\n",
       "      <th>0</th>\n",
       "      <td>Warroad</td>\n",
       "      <td>Minnesota</td>\n",
       "      <td>3423</td>\n",
       "      <td>US-Canada Border</td>\n",
       "      <td>2019-06-01</td>\n",
       "      <td>Personal Vehicle Passengers</td>\n",
       "      <td>19459</td>\n",
       "      <td>2019</td>\n",
       "      <td>6</td>\n",
       "      <td>(48.905266, -95.314404)</td>\n",
       "    </tr>\n",
       "    <tr>\n",
       "      <th>1</th>\n",
       "      <td>Warroad</td>\n",
       "      <td>Minnesota</td>\n",
       "      <td>3423</td>\n",
       "      <td>US-Canada Border</td>\n",
       "      <td>2019-06-01</td>\n",
       "      <td>Pedestrians</td>\n",
       "      <td>2</td>\n",
       "      <td>2019</td>\n",
       "      <td>6</td>\n",
       "      <td>(48.905266, -95.314404)</td>\n",
       "    </tr>\n",
       "    <tr>\n",
       "      <th>2</th>\n",
       "      <td>Warroad</td>\n",
       "      <td>Minnesota</td>\n",
       "      <td>3423</td>\n",
       "      <td>US-Canada Border</td>\n",
       "      <td>2019-06-01</td>\n",
       "      <td>Bus Passengers</td>\n",
       "      <td>63</td>\n",
       "      <td>2019</td>\n",
       "      <td>6</td>\n",
       "      <td>(48.905266, -95.314404)</td>\n",
       "    </tr>\n",
       "    <tr>\n",
       "      <th>3</th>\n",
       "      <td>Roseau</td>\n",
       "      <td>Minnesota</td>\n",
       "      <td>3426</td>\n",
       "      <td>US-Canada Border</td>\n",
       "      <td>2019-06-01</td>\n",
       "      <td>Personal Vehicle Passengers</td>\n",
       "      <td>7385</td>\n",
       "      <td>2019</td>\n",
       "      <td>6</td>\n",
       "      <td>(48.7710371, -95.7697882)</td>\n",
       "    </tr>\n",
       "    <tr>\n",
       "      <th>4</th>\n",
       "      <td>Roseau</td>\n",
       "      <td>Minnesota</td>\n",
       "      <td>3426</td>\n",
       "      <td>US-Canada Border</td>\n",
       "      <td>2019-06-01</td>\n",
       "      <td>Bus Passengers</td>\n",
       "      <td>118</td>\n",
       "      <td>2019</td>\n",
       "      <td>6</td>\n",
       "      <td>(48.7710371, -95.7697882)</td>\n",
       "    </tr>\n",
       "  </tbody>\n",
       "</table>\n",
       "</div>"
      ],
      "text/plain": [
       "  Port Name      State  Port Code            Border       Date  \\\n",
       "0   Warroad  Minnesota       3423  US-Canada Border 2019-06-01   \n",
       "1   Warroad  Minnesota       3423  US-Canada Border 2019-06-01   \n",
       "2   Warroad  Minnesota       3423  US-Canada Border 2019-06-01   \n",
       "3    Roseau  Minnesota       3426  US-Canada Border 2019-06-01   \n",
       "4    Roseau  Minnesota       3426  US-Canada Border 2019-06-01   \n",
       "\n",
       "                       Measure  Value  Year  Month                   position  \n",
       "0  Personal Vehicle Passengers  19459  2019      6    (48.905266, -95.314404)  \n",
       "1                  Pedestrians      2  2019      6    (48.905266, -95.314404)  \n",
       "2               Bus Passengers     63  2019      6    (48.905266, -95.314404)  \n",
       "3  Personal Vehicle Passengers   7385  2019      6  (48.7710371, -95.7697882)  \n",
       "4               Bus Passengers    118  2019      6  (48.7710371, -95.7697882)  "
      ]
     },
     "execution_count": 4,
     "metadata": {},
     "output_type": "execute_result"
    }
   ],
   "source": [
    "df = df[df['Measure'].isin(['Bus Passengers','Pedestrians','Personal Vehicle Passengers','Train Passengers'])].reset_index().drop(columns=['index'])\n",
    "ports = df['Port Name'].unique()\n",
    "df.head()"
   ]
  },
  {
   "cell_type": "code",
   "execution_count": 63,
   "metadata": {},
   "outputs": [
    {
     "data": {
      "application/vnd.plotly.v1+json": {
       "config": {
        "plotlyServerURL": "https://plot.ly"
       },
       "data": [
        {
         "lat": [
          "44.911752",
          "48.999904",
          "25.9140256",
          "26.0922991",
          "26.3530256",
          "26.3827771",
          "26.4070669",
          "27.5199841",
          "28.7091433",
          "29.1921092",
          "29.3627296",
          "29.9883766",
          "31.3402134",
          "31.342529",
          "31.46223",
          "31.471341",
          "31.4887016",
          "31.7600372",
          "31.8303365",
          "31.8559384",
          "31.8819798",
          "32.4934395",
          "32.54831535",
          "32.5520013",
          "32.560058",
          "32.5833711",
          "32.6753413",
          "32.6790572",
          "32.7248173",
          "35.9128415",
          "42.3315509",
          "42.9815877",
          "43.0761171",
          "43.6610277",
          "44.125494",
          "44.336127",
          "44.3864565",
          "44.694285",
          "44.881314",
          "44.928106",
          "44.979486",
          "44.982541",
          "44.9953505",
          "45.00042985",
          "45.008759",
          "45.0094923",
          "45.189032",
          "45.5634002",
          "45.6239358",
          "46.1251286",
          "46.427919",
          "46.490586",
          "46.7698261",
          "46.9034922",
          "46.908998",
          "47.0070211",
          "47.157506",
          "47.258728",
          "47.355571",
          "47.963776",
          "48.118146",
          "48.4346971",
          "48.4736934",
          "48.5020123",
          "48.5342662",
          "48.7124408",
          "48.7530787",
          "48.7710371",
          "48.792086",
          "48.813057",
          "48.8456288",
          "48.857088",
          "48.8582488",
          "48.8636212",
          "48.8764172",
          "48.888919",
          "48.8908464",
          "48.8956798",
          "48.905266",
          "48.9083386",
          "48.909464",
          "48.9107543",
          "48.923328",
          "48.9376147",
          "48.9444517",
          "48.94584",
          "48.9466041",
          "48.9521858",
          "48.9539222",
          "48.9600187",
          "48.9670097",
          "48.9708532",
          "48.9716708",
          "48.9779945",
          "48.9831558",
          "48.9853824",
          "48.9861027",
          "48.9881108",
          "48.9923978",
          "48.9933527",
          "48.9950874",
          "48.9958637",
          "48.9970672",
          "48.9975828",
          "48.9982855",
          "48.998612",
          "48.9987931",
          "48.998839",
          "48.9991329",
          "48.9996344",
          "55.3430696",
          "59.6226362",
          "62.66607",
          "nternational Falls",
          "leasant Camp"
         ],
         "locationmode": "USA-states",
         "lon": [
          "-66.985965",
          "-116.180196",
          "-97.4890856",
          "-97.9572242",
          "-98.216445",
          "-98.8205251",
          "-99.0055462",
          "-99.4953764",
          "-100.4995214",
          "-102.9485706",
          "-100.896761",
          "-104.2336552",
          "-110.9360818",
          "-109.936355674705",
          "-109.59394273101",
          "-106.151947",
          "-111.5420505",
          "-106.487287",
          "-107.6385256",
          "-106.6391577",
          "-112.8153361",
          "-114.7737551",
          "-116.974398450271",
          "-117.0430813",
          "-116.9361338",
          "-116.6285217",
          "-115.3887997",
          "-115.498703",
          "-114.7248614",
          "-96.8039141",
          "-83.0466403",
          "-82.440466",
          "-78.9928794",
          "-70.2548596",
          "-76.3304640631677",
          "-75.917931",
          "-68.2118570811003",
          "-75.486374",
          "-74.2656165",
          "-74.892082",
          "-73.1054065",
          "-73.377564",
          "-72.6731285931857",
          "-72.1064356198873",
          "-71.5067925",
          "-71.7961053",
          "-67.2781424",
          "-67.429721",
          "-70.2545117",
          "-67.8407944",
          "-67.844009",
          "-84.359269",
          "-67.8345688",
          "-96.7971257256983",
          "-67.826157",
          "-112.4546302",
          "-67.935333",
          "-68.589706",
          "-68.321915",
          "-89.6848121",
          "-123.4307413",
          "-112.6945072",
          "-118.4834362",
          "-122.6237356",
          "-123.0171242",
          "-94.600171",
          "-97.5532833",
          "-95.7697882",
          "-105.419948",
          "-100.060968",
          "-108.4048141",
          "-106.407904",
          "-96.8045602",
          "-117.3718881",
          "-104.5802366",
          "-103.008794",
          "-100.5445928",
          "-105.163013",
          "-95.314404",
          "-111.2530312",
          "-101.020712",
          "-103.7752713",
          "-97.918148",
          "-119.4361687",
          "-99.7109743",
          "-98.995961",
          "-122.4569315",
          "-99.3807545",
          "-103.4826921",
          "-101.632661",
          "-119.6407335",
          "-101.2823803",
          "-98.6917884",
          "-95.9428151",
          "-117.6371945",
          "-123.077974",
          "-97.5548",
          "-122.7435757",
          "-118.5080824",
          "-107.8323167",
          "-122.269080593315",
          "-102.5496127",
          "-111.9625745",
          "-112.788762",
          "-116.4979886",
          "-98.3648321",
          "-118.2241779",
          "-97.204893",
          "-115.0565577",
          "-117.8310975",
          "-131.6466819",
          "-135.4094368",
          "-141.141890269798",
          "Koochiching County, Minnesota, United State",
          "Skagway, Unorganized Borough, Alaska, United State"
         ],
         "marker": {
          "color": "crimson",
          "line": {
           "color": "rgb(20,20,20)",
           "width": 0.5
          },
          "size": [
           8.359844,
           10.449358,
           738.291532,
           170.706308,
           812.18567,
           80.42433,
           136.796068,
           870.23939,
           357.07261,
           0.11188,
           187.473706,
           78.983142,
           615.779562,
           41.404294,
           236.997368,
           57.79658,
           3.262672,
           1626.810752,
           50.684586,
           42.17857,
           51.695134,
           390.975136,
           4.689396,
           1641.507174,
           586.626348,
           126.760944,
           295.793376,
           802.927222,
           120.74263,
           1.033048,
           552.920844,
           198.815428,
           706.920938,
           1.580476,
           0.459208,
           75.216032,
           0.37968,
           30.242434,
           16.848452,
           98.105344,
           50.5235,
           142.093434,
           11.16497,
           62.41633,
           6.994516,
           6.210878,
           97.556548,
           4.272158,
           16.741054,
           33.213508,
           7.000202,
           111.341924,
           15.20834,
           1.876676,
           3.68212,
           0.191742,
           22.277134,
           19.342898,
           48.343494,
           26.089162,
           4.24013,
           14.843998,
           0.945016,
           2.339466,
           0.26535,
           18.091218,
           33.806294,
           3.781128,
           0.535982,
           7.087368,
           0.774324,
           0.396062,
           2.867422,
           2.984852,
           3.120566,
           2.815836,
           1.269254,
           0.212604,
           12.687522,
           0.074938,
           1.087006,
           1.196736,
           3.517938,
           23.869818,
           2.188794,
           0.552006,
           60.8169,
           1.099146,
           0.278092,
           1.623308,
           0.709416,
           1.038846,
           0.375318,
           0.542302,
           4.137794,
           75.762716,
           4.04542,
           367.894092,
           4.635972,
           0.633984,
           86.338434,
           10.223978,
           27.887546,
           2.518648,
           11.863708,
           1.278936,
           4.801696,
           1.839198,
           13.018704,
           4.234568,
           0.234996,
           14.082432,
           5.635924,
           49.121096,
           1.884704
          ],
          "sizemode": "area"
         },
         "text": [
          "Eastport_MA<br>Crossings: 4.179922 million",
          "Eastport_ID<br>Crossings: 5.224679 million",
          "Brownsville<br>Crossings: 369.145766 million",
          "Progreso<br>Crossings: 85.353154 million",
          "Hidalgo<br>Crossings: 406.092835 million",
          "Rio Grande City<br>Crossings: 40.212165 million",
          "Roma<br>Crossings: 68.398034 million",
          "Laredo<br>Crossings: 435.119695 million",
          "Eagle Pass<br>Crossings: 178.536305 million",
          "Boquillas<br>Crossings: 0.05594 million",
          "Del Rio<br>Crossings: 93.736853 million",
          "Presidio<br>Crossings: 39.491571 million",
          "Nogales<br>Crossings: 307.889781 million",
          "Naco<br>Crossings: 20.702147 million",
          "Douglas<br>Crossings: 118.498684 million",
          "Tornillo-Fabens<br>Crossings: 28.89829 million",
          "Sasabe<br>Crossings: 1.631336 million",
          "El Paso<br>Crossings: 813.405376 million",
          "Columbus<br>Crossings: 25.342293 million",
          "Santa Teresa<br>Crossings: 21.089285 million",
          "Lukeville<br>Crossings: 25.847567 million",
          "San Luis<br>Crossings: 195.487568 million",
          "Cross Border Xpress<br>Crossings: 2.344698 million",
          "San Ysidro<br>Crossings: 820.753587 million",
          "Otay Mesa<br>Crossings: 293.313174 million",
          "Tecate<br>Crossings: 63.380472 million",
          "Calexico East<br>Crossings: 147.896688 million",
          "Calexico<br>Crossings: 401.463611 million",
          "Andrade<br>Crossings: 60.371315 million",
          "Wildhorse<br>Crossings: 0.516524 million",
          "Detroit<br>Crossings: 276.460422 million",
          "Port Huron<br>Crossings: 99.407714 million",
          "Buffalo-Niagara Falls<br>Crossings: 353.460469 million",
          "Portland<br>Crossings: 0.790238 million",
          "Cape Vincent<br>Crossings: 0.229604 million",
          "Alexandria Bay<br>Crossings: 37.608016 million",
          "Bar Harbor<br>Crossings: 0.18984 million",
          "Ogdensburg<br>Crossings: 15.121217 million",
          "Trout River<br>Crossings: 8.424226 million",
          "Massena<br>Crossings: 49.052672 million",
          "Highgate Springs-Alburg<br>Crossings: 25.26175 million",
          "Champlain-Rouses Point<br>Crossings: 71.046717 million",
          "Richford<br>Crossings: 5.582485 million",
          "Derby Line<br>Crossings: 31.208165 million",
          "Beecher Falls<br>Crossings: 3.497258 million",
          "Norton<br>Crossings: 3.105439 million",
          "Calais<br>Crossings: 48.778274 million",
          "Vanceboro<br>Crossings: 2.136079 million",
          "Jackman<br>Crossings: 8.370527 million",
          "Houlton<br>Crossings: 16.606754 million",
          "Bridgewater<br>Crossings: 3.500101 million",
          "Sault Sainte Marie<br>Crossings: 55.670962 million",
          "Fort Fairfield<br>Crossings: 7.60417 million",
          "Northgate<br>Crossings: 0.938338 million",
          "Limestone<br>Crossings: 1.84106 million",
          "Willow Creek<br>Crossings: 0.095871 million",
          "Van Buren<br>Crossings: 11.138567 million",
          "Fort Kent<br>Crossings: 9.671449 million",
          "Madawaska<br>Crossings: 24.171747 million",
          "Grand Portage<br>Crossings: 13.044581 million",
          "Port Angeles<br>Crossings: 2.120065 million",
          "Piegan<br>Crossings: 7.421999 million",
          "Ferry<br>Crossings: 0.472508 million",
          "Anacortes<br>Crossings: 1.169733 million",
          "Friday Harbor<br>Crossings: 0.132675 million",
          "Baudette<br>Crossings: 9.045609 million",
          "Pembina<br>Crossings: 16.903147 million",
          "Roseau<br>Crossings: 1.890564 million",
          "Scobey<br>Crossings: 0.267991 million",
          "Dunseith<br>Crossings: 3.543684 million",
          "Turner<br>Crossings: 0.387162 million",
          "Opheim<br>Crossings: 0.198031 million",
          "Lancaster<br>Crossings: 1.433711 million",
          "Metaline Falls<br>Crossings: 1.492426 million",
          "Raymond<br>Crossings: 1.560283 million",
          "Noonan<br>Crossings: 1.407918 million",
          "Carbury<br>Crossings: 0.634627 million",
          "Whitetail<br>Crossings: 0.106302 million",
          "Warroad<br>Crossings: 6.343761 million",
          "Whitlash<br>Crossings: 0.037469 million",
          "Westhope<br>Crossings: 0.543503 million",
          "Fortuna<br>Crossings: 0.598368 million",
          "Walhalla<br>Crossings: 1.758969 million",
          "Oroville<br>Crossings: 11.934909 million",
          "St. John<br>Crossings: 1.094397 million",
          "Sarles<br>Crossings: 0.276003 million",
          "Lynden<br>Crossings: 30.40845 million",
          "Hansboro<br>Crossings: 0.549573 million",
          "Ambrose<br>Crossings: 0.139046 million",
          "Sherwood<br>Crossings: 0.811654 million",
          "Nighthawk<br>Crossings: 0.354708 million",
          "Antler<br>Crossings: 0.519423 million",
          "Hannah<br>Crossings: 0.187659 million",
          "Pinecreek<br>Crossings: 0.271151 million",
          "Boundary<br>Crossings: 2.068897 million",
          "Point Roberts<br>Crossings: 37.881358 million",
          "Neche<br>Crossings: 2.02271 million",
          "Blaine<br>Crossings: 183.947046 million",
          "Danville<br>Crossings: 2.317986 million",
          "Morgan<br>Crossings: 0.316992 million",
          "Sumas<br>Crossings: 43.169217 million",
          "Portal<br>Crossings: 5.111989 million",
          "Sweetgrass<br>Crossings: 13.943773 million",
          "Del Bonita<br>Crossings: 1.259324 million",
          "Porthill<br>Crossings: 5.931854 million",
          "Maida<br>Crossings: 0.639468 million",
          "Laurier<br>Crossings: 2.400848 million",
          "Noyes<br>Crossings: 0.919599 million",
          "Roosville<br>Crossings: 6.509352 million",
          "Frontier<br>Crossings: 2.117284 million",
          "Ketchikan<br>Crossings: 0.117498 million",
          "Skagway<br>Crossings: 7.041216 million",
          "Alcan<br>Crossings: 2.817962 million",
          "International Falls-Ranier<br>Crossings: 24.560548 million",
          "Dalton Cache<br>Crossings: 0.942352 million"
         ],
         "type": "scattergeo"
        }
       ],
       "layout": {
        "geo": {
         "landcolor": "rgb(217, 217, 217)",
         "scope": "usa"
        },
        "showlegend": false,
        "template": {
         "data": {
          "bar": [
           {
            "error_x": {
             "color": "#2a3f5f"
            },
            "error_y": {
             "color": "#2a3f5f"
            },
            "marker": {
             "line": {
              "color": "#E5ECF6",
              "width": 0.5
             }
            },
            "type": "bar"
           }
          ],
          "barpolar": [
           {
            "marker": {
             "line": {
              "color": "#E5ECF6",
              "width": 0.5
             }
            },
            "type": "barpolar"
           }
          ],
          "carpet": [
           {
            "aaxis": {
             "endlinecolor": "#2a3f5f",
             "gridcolor": "white",
             "linecolor": "white",
             "minorgridcolor": "white",
             "startlinecolor": "#2a3f5f"
            },
            "baxis": {
             "endlinecolor": "#2a3f5f",
             "gridcolor": "white",
             "linecolor": "white",
             "minorgridcolor": "white",
             "startlinecolor": "#2a3f5f"
            },
            "type": "carpet"
           }
          ],
          "choropleth": [
           {
            "colorbar": {
             "outlinewidth": 0,
             "ticks": ""
            },
            "type": "choropleth"
           }
          ],
          "contour": [
           {
            "colorbar": {
             "outlinewidth": 0,
             "ticks": ""
            },
            "colorscale": [
             [
              0,
              "#0d0887"
             ],
             [
              0.1111111111111111,
              "#46039f"
             ],
             [
              0.2222222222222222,
              "#7201a8"
             ],
             [
              0.3333333333333333,
              "#9c179e"
             ],
             [
              0.4444444444444444,
              "#bd3786"
             ],
             [
              0.5555555555555556,
              "#d8576b"
             ],
             [
              0.6666666666666666,
              "#ed7953"
             ],
             [
              0.7777777777777778,
              "#fb9f3a"
             ],
             [
              0.8888888888888888,
              "#fdca26"
             ],
             [
              1,
              "#f0f921"
             ]
            ],
            "type": "contour"
           }
          ],
          "contourcarpet": [
           {
            "colorbar": {
             "outlinewidth": 0,
             "ticks": ""
            },
            "type": "contourcarpet"
           }
          ],
          "heatmap": [
           {
            "colorbar": {
             "outlinewidth": 0,
             "ticks": ""
            },
            "colorscale": [
             [
              0,
              "#0d0887"
             ],
             [
              0.1111111111111111,
              "#46039f"
             ],
             [
              0.2222222222222222,
              "#7201a8"
             ],
             [
              0.3333333333333333,
              "#9c179e"
             ],
             [
              0.4444444444444444,
              "#bd3786"
             ],
             [
              0.5555555555555556,
              "#d8576b"
             ],
             [
              0.6666666666666666,
              "#ed7953"
             ],
             [
              0.7777777777777778,
              "#fb9f3a"
             ],
             [
              0.8888888888888888,
              "#fdca26"
             ],
             [
              1,
              "#f0f921"
             ]
            ],
            "type": "heatmap"
           }
          ],
          "heatmapgl": [
           {
            "colorbar": {
             "outlinewidth": 0,
             "ticks": ""
            },
            "colorscale": [
             [
              0,
              "#0d0887"
             ],
             [
              0.1111111111111111,
              "#46039f"
             ],
             [
              0.2222222222222222,
              "#7201a8"
             ],
             [
              0.3333333333333333,
              "#9c179e"
             ],
             [
              0.4444444444444444,
              "#bd3786"
             ],
             [
              0.5555555555555556,
              "#d8576b"
             ],
             [
              0.6666666666666666,
              "#ed7953"
             ],
             [
              0.7777777777777778,
              "#fb9f3a"
             ],
             [
              0.8888888888888888,
              "#fdca26"
             ],
             [
              1,
              "#f0f921"
             ]
            ],
            "type": "heatmapgl"
           }
          ],
          "histogram": [
           {
            "marker": {
             "colorbar": {
              "outlinewidth": 0,
              "ticks": ""
             }
            },
            "type": "histogram"
           }
          ],
          "histogram2d": [
           {
            "colorbar": {
             "outlinewidth": 0,
             "ticks": ""
            },
            "colorscale": [
             [
              0,
              "#0d0887"
             ],
             [
              0.1111111111111111,
              "#46039f"
             ],
             [
              0.2222222222222222,
              "#7201a8"
             ],
             [
              0.3333333333333333,
              "#9c179e"
             ],
             [
              0.4444444444444444,
              "#bd3786"
             ],
             [
              0.5555555555555556,
              "#d8576b"
             ],
             [
              0.6666666666666666,
              "#ed7953"
             ],
             [
              0.7777777777777778,
              "#fb9f3a"
             ],
             [
              0.8888888888888888,
              "#fdca26"
             ],
             [
              1,
              "#f0f921"
             ]
            ],
            "type": "histogram2d"
           }
          ],
          "histogram2dcontour": [
           {
            "colorbar": {
             "outlinewidth": 0,
             "ticks": ""
            },
            "colorscale": [
             [
              0,
              "#0d0887"
             ],
             [
              0.1111111111111111,
              "#46039f"
             ],
             [
              0.2222222222222222,
              "#7201a8"
             ],
             [
              0.3333333333333333,
              "#9c179e"
             ],
             [
              0.4444444444444444,
              "#bd3786"
             ],
             [
              0.5555555555555556,
              "#d8576b"
             ],
             [
              0.6666666666666666,
              "#ed7953"
             ],
             [
              0.7777777777777778,
              "#fb9f3a"
             ],
             [
              0.8888888888888888,
              "#fdca26"
             ],
             [
              1,
              "#f0f921"
             ]
            ],
            "type": "histogram2dcontour"
           }
          ],
          "mesh3d": [
           {
            "colorbar": {
             "outlinewidth": 0,
             "ticks": ""
            },
            "type": "mesh3d"
           }
          ],
          "parcoords": [
           {
            "line": {
             "colorbar": {
              "outlinewidth": 0,
              "ticks": ""
             }
            },
            "type": "parcoords"
           }
          ],
          "pie": [
           {
            "automargin": true,
            "type": "pie"
           }
          ],
          "scatter": [
           {
            "marker": {
             "colorbar": {
              "outlinewidth": 0,
              "ticks": ""
             }
            },
            "type": "scatter"
           }
          ],
          "scatter3d": [
           {
            "line": {
             "colorbar": {
              "outlinewidth": 0,
              "ticks": ""
             }
            },
            "marker": {
             "colorbar": {
              "outlinewidth": 0,
              "ticks": ""
             }
            },
            "type": "scatter3d"
           }
          ],
          "scattercarpet": [
           {
            "marker": {
             "colorbar": {
              "outlinewidth": 0,
              "ticks": ""
             }
            },
            "type": "scattercarpet"
           }
          ],
          "scattergeo": [
           {
            "marker": {
             "colorbar": {
              "outlinewidth": 0,
              "ticks": ""
             }
            },
            "type": "scattergeo"
           }
          ],
          "scattergl": [
           {
            "marker": {
             "colorbar": {
              "outlinewidth": 0,
              "ticks": ""
             }
            },
            "type": "scattergl"
           }
          ],
          "scattermapbox": [
           {
            "marker": {
             "colorbar": {
              "outlinewidth": 0,
              "ticks": ""
             }
            },
            "type": "scattermapbox"
           }
          ],
          "scatterpolar": [
           {
            "marker": {
             "colorbar": {
              "outlinewidth": 0,
              "ticks": ""
             }
            },
            "type": "scatterpolar"
           }
          ],
          "scatterpolargl": [
           {
            "marker": {
             "colorbar": {
              "outlinewidth": 0,
              "ticks": ""
             }
            },
            "type": "scatterpolargl"
           }
          ],
          "scatterternary": [
           {
            "marker": {
             "colorbar": {
              "outlinewidth": 0,
              "ticks": ""
             }
            },
            "type": "scatterternary"
           }
          ],
          "surface": [
           {
            "colorbar": {
             "outlinewidth": 0,
             "ticks": ""
            },
            "colorscale": [
             [
              0,
              "#0d0887"
             ],
             [
              0.1111111111111111,
              "#46039f"
             ],
             [
              0.2222222222222222,
              "#7201a8"
             ],
             [
              0.3333333333333333,
              "#9c179e"
             ],
             [
              0.4444444444444444,
              "#bd3786"
             ],
             [
              0.5555555555555556,
              "#d8576b"
             ],
             [
              0.6666666666666666,
              "#ed7953"
             ],
             [
              0.7777777777777778,
              "#fb9f3a"
             ],
             [
              0.8888888888888888,
              "#fdca26"
             ],
             [
              1,
              "#f0f921"
             ]
            ],
            "type": "surface"
           }
          ],
          "table": [
           {
            "cells": {
             "fill": {
              "color": "#EBF0F8"
             },
             "line": {
              "color": "white"
             }
            },
            "header": {
             "fill": {
              "color": "#C8D4E3"
             },
             "line": {
              "color": "white"
             }
            },
            "type": "table"
           }
          ]
         },
         "layout": {
          "annotationdefaults": {
           "arrowcolor": "#2a3f5f",
           "arrowhead": 0,
           "arrowwidth": 1
          },
          "coloraxis": {
           "colorbar": {
            "outlinewidth": 0,
            "ticks": ""
           }
          },
          "colorscale": {
           "diverging": [
            [
             0,
             "#8e0152"
            ],
            [
             0.1,
             "#c51b7d"
            ],
            [
             0.2,
             "#de77ae"
            ],
            [
             0.3,
             "#f1b6da"
            ],
            [
             0.4,
             "#fde0ef"
            ],
            [
             0.5,
             "#f7f7f7"
            ],
            [
             0.6,
             "#e6f5d0"
            ],
            [
             0.7,
             "#b8e186"
            ],
            [
             0.8,
             "#7fbc41"
            ],
            [
             0.9,
             "#4d9221"
            ],
            [
             1,
             "#276419"
            ]
           ],
           "sequential": [
            [
             0,
             "#0d0887"
            ],
            [
             0.1111111111111111,
             "#46039f"
            ],
            [
             0.2222222222222222,
             "#7201a8"
            ],
            [
             0.3333333333333333,
             "#9c179e"
            ],
            [
             0.4444444444444444,
             "#bd3786"
            ],
            [
             0.5555555555555556,
             "#d8576b"
            ],
            [
             0.6666666666666666,
             "#ed7953"
            ],
            [
             0.7777777777777778,
             "#fb9f3a"
            ],
            [
             0.8888888888888888,
             "#fdca26"
            ],
            [
             1,
             "#f0f921"
            ]
           ],
           "sequentialminus": [
            [
             0,
             "#0d0887"
            ],
            [
             0.1111111111111111,
             "#46039f"
            ],
            [
             0.2222222222222222,
             "#7201a8"
            ],
            [
             0.3333333333333333,
             "#9c179e"
            ],
            [
             0.4444444444444444,
             "#bd3786"
            ],
            [
             0.5555555555555556,
             "#d8576b"
            ],
            [
             0.6666666666666666,
             "#ed7953"
            ],
            [
             0.7777777777777778,
             "#fb9f3a"
            ],
            [
             0.8888888888888888,
             "#fdca26"
            ],
            [
             1,
             "#f0f921"
            ]
           ]
          },
          "colorway": [
           "#636efa",
           "#EF553B",
           "#00cc96",
           "#ab63fa",
           "#FFA15A",
           "#19d3f3",
           "#FF6692",
           "#B6E880",
           "#FF97FF",
           "#FECB52"
          ],
          "font": {
           "color": "#2a3f5f"
          },
          "geo": {
           "bgcolor": "white",
           "lakecolor": "white",
           "landcolor": "#E5ECF6",
           "showlakes": true,
           "showland": true,
           "subunitcolor": "white"
          },
          "hoverlabel": {
           "align": "left"
          },
          "hovermode": "closest",
          "mapbox": {
           "style": "light"
          },
          "paper_bgcolor": "white",
          "plot_bgcolor": "#E5ECF6",
          "polar": {
           "angularaxis": {
            "gridcolor": "white",
            "linecolor": "white",
            "ticks": ""
           },
           "bgcolor": "#E5ECF6",
           "radialaxis": {
            "gridcolor": "white",
            "linecolor": "white",
            "ticks": ""
           }
          },
          "scene": {
           "xaxis": {
            "backgroundcolor": "#E5ECF6",
            "gridcolor": "white",
            "gridwidth": 2,
            "linecolor": "white",
            "showbackground": true,
            "ticks": "",
            "zerolinecolor": "white"
           },
           "yaxis": {
            "backgroundcolor": "#E5ECF6",
            "gridcolor": "white",
            "gridwidth": 2,
            "linecolor": "white",
            "showbackground": true,
            "ticks": "",
            "zerolinecolor": "white"
           },
           "zaxis": {
            "backgroundcolor": "#E5ECF6",
            "gridcolor": "white",
            "gridwidth": 2,
            "linecolor": "white",
            "showbackground": true,
            "ticks": "",
            "zerolinecolor": "white"
           }
          },
          "shapedefaults": {
           "line": {
            "color": "#2a3f5f"
           }
          },
          "ternary": {
           "aaxis": {
            "gridcolor": "white",
            "linecolor": "white",
            "ticks": ""
           },
           "baxis": {
            "gridcolor": "white",
            "linecolor": "white",
            "ticks": ""
           },
           "bgcolor": "#E5ECF6",
           "caxis": {
            "gridcolor": "white",
            "linecolor": "white",
            "ticks": ""
           }
          },
          "title": {
           "x": 0.05
          },
          "xaxis": {
           "automargin": true,
           "gridcolor": "white",
           "linecolor": "white",
           "ticks": "",
           "title": {
            "standoff": 15
           },
           "zerolinecolor": "white",
           "zerolinewidth": 2
          },
          "yaxis": {
           "automargin": true,
           "gridcolor": "white",
           "linecolor": "white",
           "ticks": "",
           "title": {
            "standoff": 15
           },
           "zerolinecolor": "white",
           "zerolinewidth": 2
          }
         }
        },
        "title": {
         "text": "US Borders, total inbound persons since 1996<br>(Click legend to toggle traces)"
        }
       }
      },
      "text/html": [
       "<div>\n",
       "        \n",
       "        \n",
       "            <div id=\"583fdc03-18f4-4c11-9ffc-982b7210372b\" class=\"plotly-graph-div\" style=\"height:525px; width:100%;\"></div>\n",
       "            <script type=\"text/javascript\">\n",
       "                require([\"plotly\"], function(Plotly) {\n",
       "                    window.PLOTLYENV=window.PLOTLYENV || {};\n",
       "                    \n",
       "                if (document.getElementById(\"583fdc03-18f4-4c11-9ffc-982b7210372b\")) {\n",
       "                    Plotly.newPlot(\n",
       "                        '583fdc03-18f4-4c11-9ffc-982b7210372b',\n",
       "                        [{\"lat\": [\"44.911752\", \"48.999904\", \"25.9140256\", \"26.0922991\", \"26.3530256\", \"26.3827771\", \"26.4070669\", \"27.5199841\", \"28.7091433\", \"29.1921092\", \"29.3627296\", \"29.9883766\", \"31.3402134\", \"31.342529\", \"31.46223\", \"31.471341\", \"31.4887016\", \"31.7600372\", \"31.8303365\", \"31.8559384\", \"31.8819798\", \"32.4934395\", \"32.54831535\", \"32.5520013\", \"32.560058\", \"32.5833711\", \"32.6753413\", \"32.6790572\", \"32.7248173\", \"35.9128415\", \"42.3315509\", \"42.9815877\", \"43.0761171\", \"43.6610277\", \"44.125494\", \"44.336127\", \"44.3864565\", \"44.694285\", \"44.881314\", \"44.928106\", \"44.979486\", \"44.982541\", \"44.9953505\", \"45.00042985\", \"45.008759\", \"45.0094923\", \"45.189032\", \"45.5634002\", \"45.6239358\", \"46.1251286\", \"46.427919\", \"46.490586\", \"46.7698261\", \"46.9034922\", \"46.908998\", \"47.0070211\", \"47.157506\", \"47.258728\", \"47.355571\", \"47.963776\", \"48.118146\", \"48.4346971\", \"48.4736934\", \"48.5020123\", \"48.5342662\", \"48.7124408\", \"48.7530787\", \"48.7710371\", \"48.792086\", \"48.813057\", \"48.8456288\", \"48.857088\", \"48.8582488\", \"48.8636212\", \"48.8764172\", \"48.888919\", \"48.8908464\", \"48.8956798\", \"48.905266\", \"48.9083386\", \"48.909464\", \"48.9107543\", \"48.923328\", \"48.9376147\", \"48.9444517\", \"48.94584\", \"48.9466041\", \"48.9521858\", \"48.9539222\", \"48.9600187\", \"48.9670097\", \"48.9708532\", \"48.9716708\", \"48.9779945\", \"48.9831558\", \"48.9853824\", \"48.9861027\", \"48.9881108\", \"48.9923978\", \"48.9933527\", \"48.9950874\", \"48.9958637\", \"48.9970672\", \"48.9975828\", \"48.9982855\", \"48.998612\", \"48.9987931\", \"48.998839\", \"48.9991329\", \"48.9996344\", \"55.3430696\", \"59.6226362\", \"62.66607\", \"nternational Falls\", \"leasant Camp\"], \"locationmode\": \"USA-states\", \"lon\": [\"-66.985965\", \"-116.180196\", \"-97.4890856\", \"-97.9572242\", \"-98.216445\", \"-98.8205251\", \"-99.0055462\", \"-99.4953764\", \"-100.4995214\", \"-102.9485706\", \"-100.896761\", \"-104.2336552\", \"-110.9360818\", \"-109.936355674705\", \"-109.59394273101\", \"-106.151947\", \"-111.5420505\", \"-106.487287\", \"-107.6385256\", \"-106.6391577\", \"-112.8153361\", \"-114.7737551\", \"-116.974398450271\", \"-117.0430813\", \"-116.9361338\", \"-116.6285217\", \"-115.3887997\", \"-115.498703\", \"-114.7248614\", \"-96.8039141\", \"-83.0466403\", \"-82.440466\", \"-78.9928794\", \"-70.2548596\", \"-76.3304640631677\", \"-75.917931\", \"-68.2118570811003\", \"-75.486374\", \"-74.2656165\", \"-74.892082\", \"-73.1054065\", \"-73.377564\", \"-72.6731285931857\", \"-72.1064356198873\", \"-71.5067925\", \"-71.7961053\", \"-67.2781424\", \"-67.429721\", \"-70.2545117\", \"-67.8407944\", \"-67.844009\", \"-84.359269\", \"-67.8345688\", \"-96.7971257256983\", \"-67.826157\", \"-112.4546302\", \"-67.935333\", \"-68.589706\", \"-68.321915\", \"-89.6848121\", \"-123.4307413\", \"-112.6945072\", \"-118.4834362\", \"-122.6237356\", \"-123.0171242\", \"-94.600171\", \"-97.5532833\", \"-95.7697882\", \"-105.419948\", \"-100.060968\", \"-108.4048141\", \"-106.407904\", \"-96.8045602\", \"-117.3718881\", \"-104.5802366\", \"-103.008794\", \"-100.5445928\", \"-105.163013\", \"-95.314404\", \"-111.2530312\", \"-101.020712\", \"-103.7752713\", \"-97.918148\", \"-119.4361687\", \"-99.7109743\", \"-98.995961\", \"-122.4569315\", \"-99.3807545\", \"-103.4826921\", \"-101.632661\", \"-119.6407335\", \"-101.2823803\", \"-98.6917884\", \"-95.9428151\", \"-117.6371945\", \"-123.077974\", \"-97.5548\", \"-122.7435757\", \"-118.5080824\", \"-107.8323167\", \"-122.269080593315\", \"-102.5496127\", \"-111.9625745\", \"-112.788762\", \"-116.4979886\", \"-98.3648321\", \"-118.2241779\", \"-97.204893\", \"-115.0565577\", \"-117.8310975\", \"-131.6466819\", \"-135.4094368\", \"-141.141890269798\", \"Koochiching County, Minnesota, United State\", \"Skagway, Unorganized Borough, Alaska, United State\"], \"marker\": {\"color\": \"crimson\", \"line\": {\"color\": \"rgb(20,20,20)\", \"width\": 0.5}, \"size\": [8.359844, 10.449358, 738.291532, 170.706308, 812.18567, 80.42433, 136.796068, 870.23939, 357.07261, 0.11188, 187.473706, 78.983142, 615.779562, 41.404294, 236.997368, 57.79658, 3.262672, 1626.810752, 50.684586, 42.17857, 51.695134, 390.975136, 4.689396, 1641.507174, 586.626348, 126.760944, 295.793376, 802.927222, 120.74263, 1.033048, 552.920844, 198.815428, 706.920938, 1.580476, 0.459208, 75.216032, 0.37968, 30.242434, 16.848452, 98.105344, 50.5235, 142.093434, 11.16497, 62.41633, 6.994516, 6.210878, 97.556548, 4.272158, 16.741054, 33.213508, 7.000202, 111.341924, 15.20834, 1.876676, 3.68212, 0.191742, 22.277134, 19.342898, 48.343494, 26.089162, 4.24013, 14.843998, 0.945016, 2.339466, 0.26535, 18.091218, 33.806294, 3.781128, 0.535982, 7.087368, 0.774324, 0.396062, 2.867422, 2.984852, 3.120566, 2.815836, 1.269254, 0.212604, 12.687522, 0.074938, 1.087006, 1.196736, 3.517938, 23.869818, 2.188794, 0.552006, 60.8169, 1.099146, 0.278092, 1.623308, 0.709416, 1.038846, 0.375318, 0.542302, 4.137794, 75.762716, 4.04542, 367.894092, 4.635972, 0.633984, 86.338434, 10.223978, 27.887546, 2.518648, 11.863708, 1.278936, 4.801696, 1.839198, 13.018704, 4.234568, 0.234996, 14.082432, 5.635924, 49.121096, 1.884704], \"sizemode\": \"area\"}, \"text\": [\"Eastport_MA<br>Crossings: 4.179922 million\", \"Eastport_ID<br>Crossings: 5.224679 million\", \"Brownsville<br>Crossings: 369.145766 million\", \"Progreso<br>Crossings: 85.353154 million\", \"Hidalgo<br>Crossings: 406.092835 million\", \"Rio Grande City<br>Crossings: 40.212165 million\", \"Roma<br>Crossings: 68.398034 million\", \"Laredo<br>Crossings: 435.119695 million\", \"Eagle Pass<br>Crossings: 178.536305 million\", \"Boquillas<br>Crossings: 0.05594 million\", \"Del Rio<br>Crossings: 93.736853 million\", \"Presidio<br>Crossings: 39.491571 million\", \"Nogales<br>Crossings: 307.889781 million\", \"Naco<br>Crossings: 20.702147 million\", \"Douglas<br>Crossings: 118.498684 million\", \"Tornillo-Fabens<br>Crossings: 28.89829 million\", \"Sasabe<br>Crossings: 1.631336 million\", \"El Paso<br>Crossings: 813.405376 million\", \"Columbus<br>Crossings: 25.342293 million\", \"Santa Teresa<br>Crossings: 21.089285 million\", \"Lukeville<br>Crossings: 25.847567 million\", \"San Luis<br>Crossings: 195.487568 million\", \"Cross Border Xpress<br>Crossings: 2.344698 million\", \"San Ysidro<br>Crossings: 820.753587 million\", \"Otay Mesa<br>Crossings: 293.313174 million\", \"Tecate<br>Crossings: 63.380472 million\", \"Calexico East<br>Crossings: 147.896688 million\", \"Calexico<br>Crossings: 401.463611 million\", \"Andrade<br>Crossings: 60.371315 million\", \"Wildhorse<br>Crossings: 0.516524 million\", \"Detroit<br>Crossings: 276.460422 million\", \"Port Huron<br>Crossings: 99.407714 million\", \"Buffalo-Niagara Falls<br>Crossings: 353.460469 million\", \"Portland<br>Crossings: 0.790238 million\", \"Cape Vincent<br>Crossings: 0.229604 million\", \"Alexandria Bay<br>Crossings: 37.608016 million\", \"Bar Harbor<br>Crossings: 0.18984 million\", \"Ogdensburg<br>Crossings: 15.121217 million\", \"Trout River<br>Crossings: 8.424226 million\", \"Massena<br>Crossings: 49.052672 million\", \"Highgate Springs-Alburg<br>Crossings: 25.26175 million\", \"Champlain-Rouses Point<br>Crossings: 71.046717 million\", \"Richford<br>Crossings: 5.582485 million\", \"Derby Line<br>Crossings: 31.208165 million\", \"Beecher Falls<br>Crossings: 3.497258 million\", \"Norton<br>Crossings: 3.105439 million\", \"Calais<br>Crossings: 48.778274 million\", \"Vanceboro<br>Crossings: 2.136079 million\", \"Jackman<br>Crossings: 8.370527 million\", \"Houlton<br>Crossings: 16.606754 million\", \"Bridgewater<br>Crossings: 3.500101 million\", \"Sault Sainte Marie<br>Crossings: 55.670962 million\", \"Fort Fairfield<br>Crossings: 7.60417 million\", \"Northgate<br>Crossings: 0.938338 million\", \"Limestone<br>Crossings: 1.84106 million\", \"Willow Creek<br>Crossings: 0.095871 million\", \"Van Buren<br>Crossings: 11.138567 million\", \"Fort Kent<br>Crossings: 9.671449 million\", \"Madawaska<br>Crossings: 24.171747 million\", \"Grand Portage<br>Crossings: 13.044581 million\", \"Port Angeles<br>Crossings: 2.120065 million\", \"Piegan<br>Crossings: 7.421999 million\", \"Ferry<br>Crossings: 0.472508 million\", \"Anacortes<br>Crossings: 1.169733 million\", \"Friday Harbor<br>Crossings: 0.132675 million\", \"Baudette<br>Crossings: 9.045609 million\", \"Pembina<br>Crossings: 16.903147 million\", \"Roseau<br>Crossings: 1.890564 million\", \"Scobey<br>Crossings: 0.267991 million\", \"Dunseith<br>Crossings: 3.543684 million\", \"Turner<br>Crossings: 0.387162 million\", \"Opheim<br>Crossings: 0.198031 million\", \"Lancaster<br>Crossings: 1.433711 million\", \"Metaline Falls<br>Crossings: 1.492426 million\", \"Raymond<br>Crossings: 1.560283 million\", \"Noonan<br>Crossings: 1.407918 million\", \"Carbury<br>Crossings: 0.634627 million\", \"Whitetail<br>Crossings: 0.106302 million\", \"Warroad<br>Crossings: 6.343761 million\", \"Whitlash<br>Crossings: 0.037469 million\", \"Westhope<br>Crossings: 0.543503 million\", \"Fortuna<br>Crossings: 0.598368 million\", \"Walhalla<br>Crossings: 1.758969 million\", \"Oroville<br>Crossings: 11.934909 million\", \"St. John<br>Crossings: 1.094397 million\", \"Sarles<br>Crossings: 0.276003 million\", \"Lynden<br>Crossings: 30.40845 million\", \"Hansboro<br>Crossings: 0.549573 million\", \"Ambrose<br>Crossings: 0.139046 million\", \"Sherwood<br>Crossings: 0.811654 million\", \"Nighthawk<br>Crossings: 0.354708 million\", \"Antler<br>Crossings: 0.519423 million\", \"Hannah<br>Crossings: 0.187659 million\", \"Pinecreek<br>Crossings: 0.271151 million\", \"Boundary<br>Crossings: 2.068897 million\", \"Point Roberts<br>Crossings: 37.881358 million\", \"Neche<br>Crossings: 2.02271 million\", \"Blaine<br>Crossings: 183.947046 million\", \"Danville<br>Crossings: 2.317986 million\", \"Morgan<br>Crossings: 0.316992 million\", \"Sumas<br>Crossings: 43.169217 million\", \"Portal<br>Crossings: 5.111989 million\", \"Sweetgrass<br>Crossings: 13.943773 million\", \"Del Bonita<br>Crossings: 1.259324 million\", \"Porthill<br>Crossings: 5.931854 million\", \"Maida<br>Crossings: 0.639468 million\", \"Laurier<br>Crossings: 2.400848 million\", \"Noyes<br>Crossings: 0.919599 million\", \"Roosville<br>Crossings: 6.509352 million\", \"Frontier<br>Crossings: 2.117284 million\", \"Ketchikan<br>Crossings: 0.117498 million\", \"Skagway<br>Crossings: 7.041216 million\", \"Alcan<br>Crossings: 2.817962 million\", \"International Falls-Ranier<br>Crossings: 24.560548 million\", \"Dalton Cache<br>Crossings: 0.942352 million\"], \"type\": \"scattergeo\"}],\n",
       "                        {\"geo\": {\"landcolor\": \"rgb(217, 217, 217)\", \"scope\": \"usa\"}, \"showlegend\": false, \"template\": {\"data\": {\"bar\": [{\"error_x\": {\"color\": \"#2a3f5f\"}, \"error_y\": {\"color\": \"#2a3f5f\"}, \"marker\": {\"line\": {\"color\": \"#E5ECF6\", \"width\": 0.5}}, \"type\": \"bar\"}], \"barpolar\": [{\"marker\": {\"line\": {\"color\": \"#E5ECF6\", \"width\": 0.5}}, \"type\": \"barpolar\"}], \"carpet\": [{\"aaxis\": {\"endlinecolor\": \"#2a3f5f\", \"gridcolor\": \"white\", \"linecolor\": \"white\", \"minorgridcolor\": \"white\", \"startlinecolor\": \"#2a3f5f\"}, \"baxis\": {\"endlinecolor\": \"#2a3f5f\", \"gridcolor\": \"white\", \"linecolor\": \"white\", \"minorgridcolor\": \"white\", \"startlinecolor\": \"#2a3f5f\"}, \"type\": \"carpet\"}], \"choropleth\": [{\"colorbar\": {\"outlinewidth\": 0, \"ticks\": \"\"}, \"type\": \"choropleth\"}], \"contour\": [{\"colorbar\": {\"outlinewidth\": 0, \"ticks\": \"\"}, \"colorscale\": [[0.0, \"#0d0887\"], [0.1111111111111111, \"#46039f\"], [0.2222222222222222, \"#7201a8\"], [0.3333333333333333, \"#9c179e\"], [0.4444444444444444, \"#bd3786\"], [0.5555555555555556, \"#d8576b\"], [0.6666666666666666, \"#ed7953\"], [0.7777777777777778, \"#fb9f3a\"], [0.8888888888888888, \"#fdca26\"], [1.0, \"#f0f921\"]], \"type\": \"contour\"}], \"contourcarpet\": [{\"colorbar\": {\"outlinewidth\": 0, \"ticks\": \"\"}, \"type\": \"contourcarpet\"}], \"heatmap\": [{\"colorbar\": {\"outlinewidth\": 0, \"ticks\": \"\"}, \"colorscale\": [[0.0, \"#0d0887\"], [0.1111111111111111, \"#46039f\"], [0.2222222222222222, \"#7201a8\"], [0.3333333333333333, \"#9c179e\"], [0.4444444444444444, \"#bd3786\"], [0.5555555555555556, \"#d8576b\"], [0.6666666666666666, \"#ed7953\"], [0.7777777777777778, \"#fb9f3a\"], [0.8888888888888888, \"#fdca26\"], [1.0, \"#f0f921\"]], \"type\": \"heatmap\"}], \"heatmapgl\": [{\"colorbar\": {\"outlinewidth\": 0, \"ticks\": \"\"}, \"colorscale\": [[0.0, \"#0d0887\"], [0.1111111111111111, \"#46039f\"], [0.2222222222222222, \"#7201a8\"], [0.3333333333333333, \"#9c179e\"], [0.4444444444444444, \"#bd3786\"], [0.5555555555555556, \"#d8576b\"], [0.6666666666666666, \"#ed7953\"], [0.7777777777777778, \"#fb9f3a\"], [0.8888888888888888, \"#fdca26\"], [1.0, \"#f0f921\"]], \"type\": \"heatmapgl\"}], \"histogram\": [{\"marker\": {\"colorbar\": {\"outlinewidth\": 0, \"ticks\": \"\"}}, \"type\": \"histogram\"}], \"histogram2d\": [{\"colorbar\": {\"outlinewidth\": 0, \"ticks\": \"\"}, \"colorscale\": [[0.0, \"#0d0887\"], [0.1111111111111111, \"#46039f\"], [0.2222222222222222, \"#7201a8\"], [0.3333333333333333, \"#9c179e\"], [0.4444444444444444, \"#bd3786\"], [0.5555555555555556, \"#d8576b\"], [0.6666666666666666, \"#ed7953\"], [0.7777777777777778, \"#fb9f3a\"], [0.8888888888888888, \"#fdca26\"], [1.0, \"#f0f921\"]], \"type\": \"histogram2d\"}], \"histogram2dcontour\": [{\"colorbar\": {\"outlinewidth\": 0, \"ticks\": \"\"}, \"colorscale\": [[0.0, \"#0d0887\"], [0.1111111111111111, \"#46039f\"], [0.2222222222222222, \"#7201a8\"], [0.3333333333333333, \"#9c179e\"], [0.4444444444444444, \"#bd3786\"], [0.5555555555555556, \"#d8576b\"], [0.6666666666666666, \"#ed7953\"], [0.7777777777777778, \"#fb9f3a\"], [0.8888888888888888, \"#fdca26\"], [1.0, \"#f0f921\"]], \"type\": \"histogram2dcontour\"}], \"mesh3d\": [{\"colorbar\": {\"outlinewidth\": 0, \"ticks\": \"\"}, \"type\": \"mesh3d\"}], \"parcoords\": [{\"line\": {\"colorbar\": {\"outlinewidth\": 0, \"ticks\": \"\"}}, \"type\": \"parcoords\"}], \"pie\": [{\"automargin\": true, \"type\": \"pie\"}], \"scatter\": [{\"marker\": {\"colorbar\": {\"outlinewidth\": 0, \"ticks\": \"\"}}, \"type\": \"scatter\"}], \"scatter3d\": [{\"line\": {\"colorbar\": {\"outlinewidth\": 0, \"ticks\": \"\"}}, \"marker\": {\"colorbar\": {\"outlinewidth\": 0, \"ticks\": \"\"}}, \"type\": \"scatter3d\"}], \"scattercarpet\": [{\"marker\": {\"colorbar\": {\"outlinewidth\": 0, \"ticks\": \"\"}}, \"type\": \"scattercarpet\"}], \"scattergeo\": [{\"marker\": {\"colorbar\": {\"outlinewidth\": 0, \"ticks\": \"\"}}, \"type\": \"scattergeo\"}], \"scattergl\": [{\"marker\": {\"colorbar\": {\"outlinewidth\": 0, \"ticks\": \"\"}}, \"type\": \"scattergl\"}], \"scattermapbox\": [{\"marker\": {\"colorbar\": {\"outlinewidth\": 0, \"ticks\": \"\"}}, \"type\": \"scattermapbox\"}], \"scatterpolar\": [{\"marker\": {\"colorbar\": {\"outlinewidth\": 0, \"ticks\": \"\"}}, \"type\": \"scatterpolar\"}], \"scatterpolargl\": [{\"marker\": {\"colorbar\": {\"outlinewidth\": 0, \"ticks\": \"\"}}, \"type\": \"scatterpolargl\"}], \"scatterternary\": [{\"marker\": {\"colorbar\": {\"outlinewidth\": 0, \"ticks\": \"\"}}, \"type\": \"scatterternary\"}], \"surface\": [{\"colorbar\": {\"outlinewidth\": 0, \"ticks\": \"\"}, \"colorscale\": [[0.0, \"#0d0887\"], [0.1111111111111111, \"#46039f\"], [0.2222222222222222, \"#7201a8\"], [0.3333333333333333, \"#9c179e\"], [0.4444444444444444, \"#bd3786\"], [0.5555555555555556, \"#d8576b\"], [0.6666666666666666, \"#ed7953\"], [0.7777777777777778, \"#fb9f3a\"], [0.8888888888888888, \"#fdca26\"], [1.0, \"#f0f921\"]], \"type\": \"surface\"}], \"table\": [{\"cells\": {\"fill\": {\"color\": \"#EBF0F8\"}, \"line\": {\"color\": \"white\"}}, \"header\": {\"fill\": {\"color\": \"#C8D4E3\"}, \"line\": {\"color\": \"white\"}}, \"type\": \"table\"}]}, \"layout\": {\"annotationdefaults\": {\"arrowcolor\": \"#2a3f5f\", \"arrowhead\": 0, \"arrowwidth\": 1}, \"coloraxis\": {\"colorbar\": {\"outlinewidth\": 0, \"ticks\": \"\"}}, \"colorscale\": {\"diverging\": [[0, \"#8e0152\"], [0.1, \"#c51b7d\"], [0.2, \"#de77ae\"], [0.3, \"#f1b6da\"], [0.4, \"#fde0ef\"], [0.5, \"#f7f7f7\"], [0.6, \"#e6f5d0\"], [0.7, \"#b8e186\"], [0.8, \"#7fbc41\"], [0.9, \"#4d9221\"], [1, \"#276419\"]], \"sequential\": [[0.0, \"#0d0887\"], [0.1111111111111111, \"#46039f\"], [0.2222222222222222, \"#7201a8\"], [0.3333333333333333, \"#9c179e\"], [0.4444444444444444, \"#bd3786\"], [0.5555555555555556, \"#d8576b\"], [0.6666666666666666, \"#ed7953\"], [0.7777777777777778, \"#fb9f3a\"], [0.8888888888888888, \"#fdca26\"], [1.0, \"#f0f921\"]], \"sequentialminus\": [[0.0, \"#0d0887\"], [0.1111111111111111, \"#46039f\"], [0.2222222222222222, \"#7201a8\"], [0.3333333333333333, \"#9c179e\"], [0.4444444444444444, \"#bd3786\"], [0.5555555555555556, \"#d8576b\"], [0.6666666666666666, \"#ed7953\"], [0.7777777777777778, \"#fb9f3a\"], [0.8888888888888888, \"#fdca26\"], [1.0, \"#f0f921\"]]}, \"colorway\": [\"#636efa\", \"#EF553B\", \"#00cc96\", \"#ab63fa\", \"#FFA15A\", \"#19d3f3\", \"#FF6692\", \"#B6E880\", \"#FF97FF\", \"#FECB52\"], \"font\": {\"color\": \"#2a3f5f\"}, \"geo\": {\"bgcolor\": \"white\", \"lakecolor\": \"white\", \"landcolor\": \"#E5ECF6\", \"showlakes\": true, \"showland\": true, \"subunitcolor\": \"white\"}, \"hoverlabel\": {\"align\": \"left\"}, \"hovermode\": \"closest\", \"mapbox\": {\"style\": \"light\"}, \"paper_bgcolor\": \"white\", \"plot_bgcolor\": \"#E5ECF6\", \"polar\": {\"angularaxis\": {\"gridcolor\": \"white\", \"linecolor\": \"white\", \"ticks\": \"\"}, \"bgcolor\": \"#E5ECF6\", \"radialaxis\": {\"gridcolor\": \"white\", \"linecolor\": \"white\", \"ticks\": \"\"}}, \"scene\": {\"xaxis\": {\"backgroundcolor\": \"#E5ECF6\", \"gridcolor\": \"white\", \"gridwidth\": 2, \"linecolor\": \"white\", \"showbackground\": true, \"ticks\": \"\", \"zerolinecolor\": \"white\"}, \"yaxis\": {\"backgroundcolor\": \"#E5ECF6\", \"gridcolor\": \"white\", \"gridwidth\": 2, \"linecolor\": \"white\", \"showbackground\": true, \"ticks\": \"\", \"zerolinecolor\": \"white\"}, \"zaxis\": {\"backgroundcolor\": \"#E5ECF6\", \"gridcolor\": \"white\", \"gridwidth\": 2, \"linecolor\": \"white\", \"showbackground\": true, \"ticks\": \"\", \"zerolinecolor\": \"white\"}}, \"shapedefaults\": {\"line\": {\"color\": \"#2a3f5f\"}}, \"ternary\": {\"aaxis\": {\"gridcolor\": \"white\", \"linecolor\": \"white\", \"ticks\": \"\"}, \"baxis\": {\"gridcolor\": \"white\", \"linecolor\": \"white\", \"ticks\": \"\"}, \"bgcolor\": \"#E5ECF6\", \"caxis\": {\"gridcolor\": \"white\", \"linecolor\": \"white\", \"ticks\": \"\"}}, \"title\": {\"x\": 0.05}, \"xaxis\": {\"automargin\": true, \"gridcolor\": \"white\", \"linecolor\": \"white\", \"ticks\": \"\", \"title\": {\"standoff\": 15}, \"zerolinecolor\": \"white\", \"zerolinewidth\": 2}, \"yaxis\": {\"automargin\": true, \"gridcolor\": \"white\", \"linecolor\": \"white\", \"ticks\": \"\", \"title\": {\"standoff\": 15}, \"zerolinecolor\": \"white\", \"zerolinewidth\": 2}}}, \"title\": {\"text\": \"US Borders, total inbound persons since 1996<br>(Click legend to toggle traces)\"}},\n",
       "                        {\"responsive\": true}\n",
       "                    ).then(function(){\n",
       "                            \n",
       "var gd = document.getElementById('583fdc03-18f4-4c11-9ffc-982b7210372b');\n",
       "var x = new MutationObserver(function (mutations, observer) {{\n",
       "        var display = window.getComputedStyle(gd).display;\n",
       "        if (!display || display === 'none') {{\n",
       "            console.log([gd, 'removed!']);\n",
       "            Plotly.purge(gd);\n",
       "            observer.disconnect();\n",
       "        }}\n",
       "}});\n",
       "\n",
       "// Listen for the removal of the full notebook cells\n",
       "var notebookContainer = gd.closest('#notebook-container');\n",
       "if (notebookContainer) {{\n",
       "    x.observe(notebookContainer, {childList: true});\n",
       "}}\n",
       "\n",
       "// Listen for the clearing of the current output cell\n",
       "var outputEl = gd.closest('.output');\n",
       "if (outputEl) {{\n",
       "    x.observe(outputEl, {childList: true});\n",
       "}}\n",
       "\n",
       "                        })\n",
       "                };\n",
       "                });\n",
       "            </script>\n",
       "        </div>"
      ]
     },
     "metadata": {},
     "output_type": "display_data"
    }
   ],
   "source": [
    "## Plot the map of the USA with importance of ports.\n",
    "import plotly.express as px\n",
    "import plotly.graph_objects as go\n",
    "\n",
    "def getlat(x):\n",
    "    lat = x.partition(',')[0][1:]\n",
    "    if lat[0] == \"'\":\n",
    "        lat = lat[1:-1]\n",
    "    return lat\n",
    "\n",
    "def getlong(x):\n",
    "    lat = x.partition(',')[2]\n",
    "    if lat[1] == \"'\":\n",
    "        lat = lat[2:-2]\n",
    "    else:\n",
    "        lat = lat[1:-1]\n",
    "    return lat\n",
    "\n",
    "def plotMap(data):\n",
    "    \n",
    "    persons_location = data[['position','Value']].groupby('position').sum().reset_index()\n",
    "    persons_location['latitude'] = persons_location['position'].apply(lambda x: getlat(x))\n",
    "    persons_location['longitude'] = persons_location['position'].apply(lambda x: getlong(x))\n",
    "\n",
    "    ps = data[['Port Name','position']].drop_duplicates().set_index('position')\n",
    "    persons_location['Ports'] = persons_location.position.apply(lambda x : ', '.join(ps.loc[x].values.flatten()))\n",
    "    persons_location['text'] = persons_location['Ports'] + '<br>Crossings: ' + (persons_location['Value']/1e6).astype(str)+' million'\n",
    "\n",
    "    color = \"crimson\"\n",
    "    scale = 500000\n",
    "\n",
    "    fig = go.Figure()\n",
    "    fig.add_trace(go.Scattergeo(\n",
    "        locationmode = 'USA-states',\n",
    "        lon = persons_location['longitude'],\n",
    "        lat = persons_location['latitude'],\n",
    "        text = persons_location['text'],\n",
    "        marker = dict(\n",
    "            size = persons_location['Value']/scale,\n",
    "            color = color,\n",
    "            line_color='rgb(20,20,20)',\n",
    "            line_width=0.5,\n",
    "            sizemode = 'area')))\n",
    "\n",
    "    fig.update_layout(\n",
    "            title_text = 'US Borders, total inbound persons since 1996<br>(Click legend to toggle traces)',\n",
    "            showlegend = False,\n",
    "            geo = dict(\n",
    "                scope = 'usa',\n",
    "                landcolor = 'rgb(217, 217, 217)',\n",
    "            )\n",
    "        )\n",
    "\n",
    "    fig.show()\n",
    "    \n",
    "plotMap(df)"
   ]
  },
  {
   "cell_type": "code",
   "execution_count": 82,
   "metadata": {},
   "outputs": [],
   "source": [
    "def logistic(X,y):\n",
    "    X_train, X_test, y_train, y_test = train_test_split(X, y, test_size=0.2, random_state=42)\n",
    "    LR = LogisticRegressionCV(solver='lbfgs', cv=5, max_iter=1000)\n",
    "    LR.fit(X_train,y_train)\n",
    "    test_score = LR.score(X_test, y_test)\n",
    "    train_score = LR.score(X_train,y_train)\n",
    "    print(\"train_score :\",train_score,\"test_score =\",test_score)\n",
    "    return (train_score,test_score)\n",
    "\n",
    "def encodeOneHot(z,f,i):\n",
    "    test = z\n",
    "    \n",
    "    baseRate = pd.qcut(test['Value'],q = 8, duplicates = 'drop').value_counts()\n",
    "    print(\"Base rate :\",baseRate.max()/baseRate.sum())\n",
    "    test['quant'] = pd.qcut(test['Value'],q = i, duplicates = 'drop')\n",
    "    le = LabelEncoder()\n",
    "    y = le.fit_transform(test[\"quant\"])\n",
    "    one_hot = OneHotEncoder(categories=\"auto\")\n",
    "    if ('Measure' in f):\n",
    "        f.remove('Measure')\n",
    "        cat_to_onehot = one_hot.fit_transform(test[[\"Measure\"]]).toarray()\n",
    "        cat_to_onehot = pd.DataFrame(cat_to_onehot)\n",
    "        X = pd.concat((test[f],cat_to_onehot),axis=1)\n",
    "        logistic(X,y)\n",
    "    else :\n",
    "        X = test[f]\n",
    "        logistic(X,y)\n",
    "        \n",
    "def  computeLogistic(ports,f,i):\n",
    "    Zone = df[df['Port Name'].isin(ports)].reset_index(drop=True)\n",
    "    encodeOneHot(Zone,f,i)"
   ]
  },
  {
   "cell_type": "code",
   "execution_count": 74,
   "metadata": {},
   "outputs": [
    {
     "data": {
      "text/plain": [
       "1128"
      ]
     },
     "execution_count": 74,
     "metadata": {},
     "output_type": "execute_result"
    }
   ],
   "source": [
    "test = pd.qcut(df['Value'][df['Port Name']=='El Paso'],q = 8, duplicates = 'drop').value_counts()\n",
    "test.sum()"
   ]
  },
  {
   "cell_type": "code",
   "execution_count": 77,
   "metadata": {},
   "outputs": [
    {
     "name": "stdout",
     "output_type": "stream",
     "text": [
      "0.37606668331453275\n",
      "train_score : 0.49781494876431587 test_score = 0.49872992637878333\n"
     ]
    }
   ],
   "source": [
    "computeLogistic(ports,['Measure','Port Code','Month'],8)"
   ]
  },
  {
   "cell_type": "code",
   "execution_count": 78,
   "metadata": {},
   "outputs": [
    {
     "name": "stdout",
     "output_type": "stream",
     "text": [
      "0.25033768572714993\n",
      "train_score : 0.7972972972972973 test_score = 0.8\n"
     ]
    }
   ],
   "source": [
    "# Logistic regression on Zone3 (El paso + Hidalgo) with all features and 8 categories(intervals) for y\n",
    "computeLogistic(['El Paso','Hidalgo'],['Measure','Port Code','Month','Year'],8)"
   ]
  },
  {
   "cell_type": "code",
   "execution_count": 14,
   "metadata": {},
   "outputs": [
    {
     "name": "stdout",
     "output_type": "stream",
     "text": [
      "train_score : 0.5996621621621622 test_score = 0.5955056179775281\n"
     ]
    }
   ],
   "source": [
    "computeLogistic(['El Paso','Hidalgo'],['Measure','Month','Year','Month'],8)"
   ]
  },
  {
   "cell_type": "code",
   "execution_count": 17,
   "metadata": {},
   "outputs": [
    {
     "name": "stdout",
     "output_type": "stream",
     "text": [
      "train_score : 0.26745495495495497 test_score = 0.2606741573033708\n"
     ]
    }
   ],
   "source": [
    "computeLogistic(['El Paso','Hidalgo'],['Port Code','Month','Year'],8)"
   ]
  },
  {
   "cell_type": "code",
   "execution_count": 18,
   "metadata": {},
   "outputs": [
    {
     "name": "stdout",
     "output_type": "stream",
     "text": [
      "train_score : 0.7972972972972973 test_score = 0.8\n"
     ]
    }
   ],
   "source": [
    "computeLogistic(['El Paso','Hidalgo'],['Measure','Port Code','Year'],8)"
   ]
  },
  {
   "cell_type": "code",
   "execution_count": 19,
   "metadata": {},
   "outputs": [
    {
     "name": "stdout",
     "output_type": "stream",
     "text": [
      "train_score : 0.7933558558558559 test_score = 0.7932584269662921\n"
     ]
    }
   ],
   "source": [
    "computeLogistic(['El Paso','Hidalgo'],['Measure','Port Code','Month'],8)"
   ]
  },
  {
   "cell_type": "code",
   "execution_count": 36,
   "metadata": {},
   "outputs": [
    {
     "name": "stdout",
     "output_type": "stream",
     "text": [
      "for 2 intervals :\n",
      "train_score : 0.9921171171171171 test_score = 0.9910112359550561\n",
      "for 3 intervals :\n",
      "train_score : 0.8243243243243243 test_score = 0.8292134831460675\n",
      "for 4 intervals :\n",
      "train_score : 0.956081081081081 test_score = 0.950561797752809\n",
      "for 5 intervals :\n",
      "train_score : 0.7967342342342343 test_score = 0.802247191011236\n",
      "for 6 intervals :\n",
      "train_score : 0.6677927927927928 test_score = 0.6876404494382022\n",
      "for 7 intervals :\n",
      "train_score : 0.696509009009009 test_score = 0.701123595505618\n",
      "for 8 intervals :\n",
      "train_score : 0.7972972972972973 test_score = 0.8\n",
      "for 9 intervals :\n",
      "train_score : 0.5692567567567568 test_score = 0.5617977528089888\n",
      "for 10 intervals :\n",
      "train_score : 0.5957207207207207 test_score = 0.5910112359550562\n",
      "for 11 intervals :\n",
      "train_score : 0.46790540540540543 test_score = 0.4584269662921348\n",
      "for 12 intervals :\n",
      "train_score : 0.40371621621621623 test_score = 0.3887640449438202\n",
      "for 13 intervals :\n",
      "train_score : 0.46734234234234234 test_score = 0.45617977528089887\n",
      "for 14 intervals :\n",
      "train_score : 0.4650900900900901 test_score = 0.48089887640449436\n"
     ]
    }
   ],
   "source": [
    "x = 2\n",
    "train_err = []\n",
    "test_err = []\n",
    "while (x<15):\n",
    "    print(\"for\",x,\"intervals :\")\n",
    "    computeLogistic(['El Paso','Hidalgo'],['Measure','Port Code'],x)\n",
    "    x = x + 1"
   ]
  },
  {
   "cell_type": "markdown",
   "metadata": {},
   "source": [
    "As we increase the number of categories for y, the test_score decrease :\n",
    "    There is less luck to predict the correct category.\n",
    "    "
   ]
  },
  {
   "cell_type": "code",
   "execution_count": 89,
   "metadata": {
    "scrolled": true
   },
   "outputs": [
    {
     "name": "stdout",
     "output_type": "stream",
     "text": [
      "Warroad\n",
      "Base rate : 0.13197026022304834\n",
      "train_score : 0.586046511627907 test_score = 0.5324074074074074\n",
      "Roseau\n",
      "Not enough data!\n",
      "Detroit\n",
      "Not enough data!\n",
      "Del Rio\n",
      "Not enough data!\n",
      "Anacortes\n",
      "Not enough data!\n",
      "Sumas\n",
      "Base rate : 0.13120567375886524\n",
      "train_score : 0.5543237250554324 test_score = 0.5663716814159292\n",
      "Port Angeles\n",
      "Not enough data!\n",
      "Point Roberts\n",
      "Not enough data!\n",
      "Oroville\n",
      "Not enough data!\n",
      "Nighthawk\n",
      "Not enough data!\n",
      "Metaline Falls\n",
      "Not enough data!\n",
      "Lynden\n",
      "Not enough data!\n",
      "Laurier\n",
      "Not enough data!\n",
      "Frontier\n",
      "Not enough data!\n",
      "Friday Harbor\n",
      "Not enough data!\n",
      "Ferry\n",
      "Not enough data!\n",
      "Danville\n",
      "Not enough data!\n",
      "Boundary\n",
      "Not enough data!\n",
      "Blaine\n",
      "Not enough data!\n",
      "Richford\n",
      "Not enough data!\n",
      "Norton\n",
      "Not enough data!\n",
      "Highgate Springs-Alburg\n",
      "Not enough data!\n",
      "Derby Line\n",
      "Not enough data!\n",
      "Beecher Falls\n",
      "Not enough data!\n",
      "Tornillo-Fabens\n",
      "Not enough data!\n",
      "Roma\n",
      "Not enough data!\n",
      "Rio Grande City\n",
      "Not enough data!\n",
      "Progreso\n",
      "Not enough data!\n",
      "Presidio\n",
      "Not enough data!\n",
      "Laredo\n",
      "Not enough data!\n",
      "Hidalgo\n",
      "Not enough data!\n",
      "El Paso\n",
      "Base rate : 0.12677304964539007\n",
      "train_score : 0.7228381374722838 test_score = 0.6902654867256637\n",
      "Eagle Pass\n",
      "Base rate : 0.1262580054894785\n",
      "train_score : 0.6453089244851259 test_score = 0.6484018264840182\n",
      "Brownsville\n",
      "Not enough data!\n",
      "Boquillas\n",
      "Not enough data!\n",
      "Trout River\n",
      "Not enough data!\n",
      "Ogdensburg\n",
      "Not enough data!\n",
      "Massena\n",
      "Not enough data!\n",
      "Champlain-Rouses Point\n",
      "Base rate : 0.125\n",
      "train_score : 0.5742793791574279 test_score = 0.5530973451327433\n",
      "Cape Vincent\n",
      "Not enough data!\n",
      "Buffalo-Niagara Falls\n",
      "Base rate : 0.125\n",
      "train_score : 0.606430155210643 test_score = 0.5973451327433629\n",
      "Alexandria Bay\n",
      "Not enough data!\n",
      "Santa Teresa\n",
      "Not enough data!\n",
      "Columbus\n",
      "Not enough data!\n",
      "Westhope\n",
      "Not enough data!\n",
      "Walhalla\n",
      "Not enough data!\n",
      "St. John\n",
      "Not enough data!\n",
      "Sherwood\n",
      "Not enough data!\n",
      "Sarles\n",
      "Not enough data!\n",
      "Portal\n",
      "Base rate : 0.1276595744680851\n",
      "train_score : 0.4334811529933481 test_score = 0.3938053097345133\n",
      "Pembina\n",
      "Not enough data!\n",
      "Pinecreek\n",
      "Not enough data!\n",
      "Lancaster\n",
      "Not enough data!\n",
      "International Falls-Ranier\n",
      "Base rate : 0.1313220940550133\n",
      "train_score : 0.45615982241953384 test_score = 0.4646017699115044\n",
      "Grand Portage\n",
      "Not enough data!\n",
      "Dalton Cache\n",
      "Not enough data!\n",
      "Ketchikan\n",
      "Not enough data!\n",
      "Skagway\n",
      "Not enough data!\n",
      "Douglas\n",
      "Not enough data!\n",
      "Lukeville\n",
      "Not enough data!\n",
      "Naco\n",
      "Not enough data!\n",
      "Nogales\n",
      "Base rate : 0.12677304964539007\n",
      "train_score : 0.7427937915742794 test_score = 0.7256637168141593\n",
      "San Luis\n",
      "Not enough data!\n",
      "Sasabe\n",
      "Not enough data!\n",
      "Andrade\n",
      "Not enough data!\n",
      "Calexico\n",
      "Not enough data!\n",
      "Calexico East\n",
      "Base rate : 0.12943262411347517\n",
      "train_score : 0.39578713968957874 test_score = 0.415929203539823\n",
      "Cross Border Xpress\n",
      "Not enough data!\n",
      "Otay Mesa\n",
      "Base rate : 0.13398402839396628\n",
      "train_score : 0.6703662597114317 test_score = 0.672566371681416\n",
      "San Ysidro\n",
      "Not enough data!\n",
      "Tecate\n",
      "Not enough data!\n",
      "Eastport_ID\n",
      "Base rate : 0.13587921847246892\n",
      "train_score : 0.43444444444444447 test_score = 0.41150442477876104\n",
      "Porthill\n",
      "Not enough data!\n",
      "Bridgewater\n",
      "Not enough data!\n",
      "Calais\n",
      "Base rate : 0.13120567375886524\n",
      "train_score : 0.6352549889135255 test_score = 0.584070796460177\n",
      "Eastport_MA\n",
      "Not enough data!\n",
      "Fort Fairfield\n",
      "Not enough data!\n",
      "Fort Kent\n",
      "Not enough data!\n",
      "Houlton\n",
      "Not enough data!\n",
      "Jackman\n",
      "Base rate : 0.12688553682342502\n",
      "train_score : 0.5249722530521642 test_score = 0.4247787610619469\n",
      "Limestone\n",
      "Not enough data!\n",
      "Madawaska\n",
      "Not enough data!\n",
      "Van Buren\n",
      "Not enough data!\n",
      "Vanceboro\n",
      "Not enough data!\n",
      "Port Huron\n",
      "Not enough data!\n",
      "Sault Sainte Marie\n",
      "Not enough data!\n",
      "Baudette\n",
      "Base rate : 0.1262488646684832\n",
      "train_score : 0.42613636363636365 test_score = 0.3891402714932127\n",
      "Northgate\n",
      "Not enough data!\n",
      "Noonan\n",
      "Not enough data!\n",
      "Neche\n",
      "Not enough data!\n",
      "Maida\n",
      "Not enough data!\n",
      "Hansboro\n",
      "Not enough data!\n",
      "Hannah\n",
      "Not enough data!\n",
      "Fortuna\n",
      "Not enough data!\n",
      "Dunseith\n",
      "Not enough data!\n",
      "Carbury\n",
      "Not enough data!\n",
      "Antler\n",
      "Not enough data!\n",
      "Ambrose\n",
      "Not enough data!\n",
      "Willow Creek\n",
      "Not enough data!\n",
      "Wildhorse\n",
      "Not enough data!\n",
      "Whitlash\n",
      "Not enough data!\n",
      "Turner\n",
      "Not enough data!\n",
      "Sweetgrass\n",
      "Base rate : 0.12854609929078015\n",
      "train_score : 0.4866962305986696 test_score = 0.4690265486725664\n",
      "Scobey\n",
      "Not enough data!\n",
      "Roosville\n",
      "Not enough data!\n",
      "Alcan\n",
      "Not enough data!\n",
      "Raymond\n",
      "Not enough data!\n",
      "Piegan\n",
      "Not enough data!\n",
      "Opheim\n",
      "Not enough data!\n",
      "Morgan\n",
      "Not enough data!\n",
      "Del Bonita\n",
      "Not enough data!\n",
      "Portland\n",
      "Not enough data!\n",
      "Whitetail\n",
      "Not enough data!\n",
      "Noyes\n",
      "Not enough data!\n",
      "Bar Harbor\n",
      "Not enough data!\n"
     ]
    }
   ],
   "source": [
    "#Make logistic regression for all ports WITH more than 1000 observation WITH all features and 8 categories(intervals) for y.\n",
    "for port in ports:\n",
    "    print(port)\n",
    "    if (df[(df['Port Name'] == port) &(df['Value'] != 0)].shape[0]<1000):\n",
    "        print('Not enough data!')\n",
    "        continue\n",
    "    computeLogistic([port],['Measure','Month','Port Code','Year'],8)"
   ]
  },
  {
   "cell_type": "code",
   "execution_count": 24,
   "metadata": {},
   "outputs": [
    {
     "data": {
      "text/plain": [
       "1023"
      ]
     },
     "execution_count": 24,
     "metadata": {},
     "output_type": "execute_result"
    }
   ],
   "source": [
    "df[df['Port Name'] == \"Hannah\"].shape[0]"
   ]
  },
  {
   "cell_type": "code",
   "execution_count": 100,
   "metadata": {},
   "outputs": [
    {
     "name": "stdout",
     "output_type": "stream",
     "text": [
      "train_score : 0.9535452322738386 test_score = 0.9414634146341463\n"
     ]
    }
   ],
   "source": [
    "computeLogistic([\"Hannah\"],['Measure','Month','Year','Year'],8)"
   ]
  },
  {
   "cell_type": "markdown",
   "metadata": {},
   "source": [
    "The port : Hannah, has a very good test_score, even with 30 categories for Y."
   ]
  },
  {
   "cell_type": "code",
   "execution_count": 34,
   "metadata": {},
   "outputs": [
    {
     "data": {
      "text/plain": [
       "<matplotlib.axes._subplots.AxesSubplot at 0x1a221f1dd8>"
      ]
     },
     "execution_count": 34,
     "metadata": {},
     "output_type": "execute_result"
    },
    {
     "data": {
      "image/png": "[encoded data removed]",
      "text/plain": [
       "<Figure size 432x288 with 1 Axes>"
      ]
     },
     "metadata": {
      "needs_background": "light"
     },
     "output_type": "display_data"
    }
   ],
   "source": [
    "df[df['Port Name'] == \"Hannah\"]['Value'].hist(range=[0,10])"
   ]
  },
  {
   "cell_type": "markdown",
   "metadata": {},
   "source": [
    "This is because a big part of the value are == 0."
   ]
  },
  {
   "cell_type": "code",
   "execution_count": 13,
   "metadata": {},
   "outputs": [
    {
     "data": {
      "text/plain": [
       "<matplotlib.axes._subplots.AxesSubplot at 0x1a1b63dfd0>"
      ]
     },
     "execution_count": 13,
     "metadata": {},
     "output_type": "execute_result"
    },
    {
     "data": {
      "image/png": "[encoded data removed]",
      "text/plain": [
       "<Figure size 432x288 with 1 Axes>"
      ]
     },
     "metadata": {
      "needs_background": "light"
     },
     "output_type": "display_data"
    }
   ],
   "source": [
    "df[df['Port Name'] == \"Limestone\"]['Value'].hist(range=[0,1])"
   ]
  },
  {
   "cell_type": "code",
   "execution_count": 39,
   "metadata": {},
   "outputs": [
    {
     "data": {
      "text/plain": [
       "735"
      ]
     },
     "execution_count": 39,
     "metadata": {},
     "output_type": "execute_result"
    }
   ],
   "source": [
    "df[(df['Port Name'] == \"Hannah\")&(df['Value'] == 0)].shape[0]"
   ]
  },
  {
   "cell_type": "code",
   "execution_count": 48,
   "metadata": {},
   "outputs": [
    {
     "name": "stdout",
     "output_type": "stream",
     "text": [
      "train_score : 0.39458635150590926 test_score = 0.38871951219512196\n"
     ]
    }
   ],
   "source": [
    "computeLogistic(['Hidalgo','Presidio','Laredo'],['Measure','Month','Year'],8)"
   ]
  },
  {
   "cell_type": "code",
   "execution_count": 88,
   "metadata": {},
   "outputs": [
    {
     "name": "stdout",
     "output_type": "stream",
     "text": [
      "<itertools.combinations object at 0x1a1d95f7c8>\n",
      "('Measure', 'Month', 'Year')\n"
     ]
    }
   ],
   "source": [
    "import numpy as np\n",
    "from itertools import combinations \n",
    "  \n",
    "\n",
    "def computeLogistics(ports,f,i):\n",
    "    comb = combinations(f,3)\n",
    "    print(comb)\n",
    "    for i in list(comb):\n",
    "        print(i)\n",
    "        computeLogistics(['Hidalgo','Presidio','Laredo'],['Measure','Month','Year'],8)\n",
    "computeLogistics(['Hidalgo','Presidio','Laredo'],['Measure','Month','Year'],8)"
   ]
  },
  {
   "cell_type": "code",
   "execution_count": 92,
   "metadata": {},
   "outputs": [
    {
     "ename": "SyntaxError",
     "evalue": "invalid syntax (<ipython-input-92-2698b65ba5aa>, line 1)",
     "output_type": "error",
     "traceback": [
      "\u001b[0;36m  File \u001b[0;32m\"<ipython-input-92-2698b65ba5aa>\"\u001b[0;36m, line \u001b[0;32m1\u001b[0m\n\u001b[0;31m    interestings = df[df['Value'] != 0].shape[0]<1000.reset_index(drop=True)\u001b[0m\n\u001b[0m                                                                ^\u001b[0m\n\u001b[0;31mSyntaxError\u001b[0m\u001b[0;31m:\u001b[0m invalid syntax\n"
     ]
    }
   ],
   "source": [
    "interestings = df[df['Value'] != 0].shape[0]\n",
    "                  df['Value'] != 0)].shape[0]<1000"
   ]
  },
  {
   "cell_type": "code",
   "execution_count": 87,
   "metadata": {},
   "outputs": [
    {
     "data": {
      "text/html": [
       "<div>\n",
       "<style scoped>\n",
       "    .dataframe tbody tr th:only-of-type {\n",
       "        vertical-align: middle;\n",
       "    }\n",
       "\n",
       "    .dataframe tbody tr th {\n",
       "        vertical-align: top;\n",
       "    }\n",
       "\n",
       "    .dataframe thead th {\n",
       "        text-align: right;\n",
       "    }\n",
       "</style>\n",
       "<table border=\"1\" class=\"dataframe\">\n",
       "  <thead>\n",
       "    <tr style=\"text-align: right;\">\n",
       "      <th></th>\n",
       "      <th>Port Name</th>\n",
       "      <th>State</th>\n",
       "      <th>Port Code</th>\n",
       "      <th>Border</th>\n",
       "      <th>Date</th>\n",
       "      <th>Measure</th>\n",
       "      <th>Value</th>\n",
       "      <th>Year</th>\n",
       "      <th>Month</th>\n",
       "      <th>position</th>\n",
       "    </tr>\n",
       "  </thead>\n",
       "  <tbody>\n",
       "    <tr>\n",
       "      <th>0</th>\n",
       "      <td>Warroad</td>\n",
       "      <td>Minnesota</td>\n",
       "      <td>3423</td>\n",
       "      <td>US-Canada Border</td>\n",
       "      <td>2019-06-01</td>\n",
       "      <td>Personal Vehicle Passengers</td>\n",
       "      <td>19459</td>\n",
       "      <td>2019</td>\n",
       "      <td>6</td>\n",
       "      <td>(48.905266, -95.314404)</td>\n",
       "    </tr>\n",
       "    <tr>\n",
       "      <th>1</th>\n",
       "      <td>Warroad</td>\n",
       "      <td>Minnesota</td>\n",
       "      <td>3423</td>\n",
       "      <td>US-Canada Border</td>\n",
       "      <td>2019-06-01</td>\n",
       "      <td>Pedestrians</td>\n",
       "      <td>2</td>\n",
       "      <td>2019</td>\n",
       "      <td>6</td>\n",
       "      <td>(48.905266, -95.314404)</td>\n",
       "    </tr>\n",
       "    <tr>\n",
       "      <th>2</th>\n",
       "      <td>Warroad</td>\n",
       "      <td>Minnesota</td>\n",
       "      <td>3423</td>\n",
       "      <td>US-Canada Border</td>\n",
       "      <td>2019-06-01</td>\n",
       "      <td>Bus Passengers</td>\n",
       "      <td>63</td>\n",
       "      <td>2019</td>\n",
       "      <td>6</td>\n",
       "      <td>(48.905266, -95.314404)</td>\n",
       "    </tr>\n",
       "    <tr>\n",
       "      <th>3</th>\n",
       "      <td>Roseau</td>\n",
       "      <td>Minnesota</td>\n",
       "      <td>3426</td>\n",
       "      <td>US-Canada Border</td>\n",
       "      <td>2019-06-01</td>\n",
       "      <td>Personal Vehicle Passengers</td>\n",
       "      <td>7385</td>\n",
       "      <td>2019</td>\n",
       "      <td>6</td>\n",
       "      <td>(48.7710371, -95.7697882)</td>\n",
       "    </tr>\n",
       "    <tr>\n",
       "      <th>4</th>\n",
       "      <td>Roseau</td>\n",
       "      <td>Minnesota</td>\n",
       "      <td>3426</td>\n",
       "      <td>US-Canada Border</td>\n",
       "      <td>2019-06-01</td>\n",
       "      <td>Bus Passengers</td>\n",
       "      <td>118</td>\n",
       "      <td>2019</td>\n",
       "      <td>6</td>\n",
       "      <td>(48.7710371, -95.7697882)</td>\n",
       "    </tr>\n",
       "    <tr>\n",
       "      <th>5</th>\n",
       "      <td>Detroit</td>\n",
       "      <td>Michigan</td>\n",
       "      <td>3801</td>\n",
       "      <td>US-Canada Border</td>\n",
       "      <td>2019-06-01</td>\n",
       "      <td>Personal Vehicle Passengers</td>\n",
       "      <td>599521</td>\n",
       "      <td>2019</td>\n",
       "      <td>6</td>\n",
       "      <td>(42.3315509, -83.0466403)</td>\n",
       "    </tr>\n",
       "    <tr>\n",
       "      <th>6</th>\n",
       "      <td>Detroit</td>\n",
       "      <td>Michigan</td>\n",
       "      <td>3801</td>\n",
       "      <td>US-Canada Border</td>\n",
       "      <td>2019-06-01</td>\n",
       "      <td>Bus Passengers</td>\n",
       "      <td>6274</td>\n",
       "      <td>2019</td>\n",
       "      <td>6</td>\n",
       "      <td>(42.3315509, -83.0466403)</td>\n",
       "    </tr>\n",
       "    <tr>\n",
       "      <th>7</th>\n",
       "      <td>Del Rio</td>\n",
       "      <td>Texas</td>\n",
       "      <td>2302</td>\n",
       "      <td>US-Mexico Border</td>\n",
       "      <td>2019-06-01</td>\n",
       "      <td>Pedestrians</td>\n",
       "      <td>14898</td>\n",
       "      <td>2019</td>\n",
       "      <td>6</td>\n",
       "      <td>(29.3627296, -100.896761)</td>\n",
       "    </tr>\n",
       "    <tr>\n",
       "      <th>8</th>\n",
       "      <td>Del Rio</td>\n",
       "      <td>Texas</td>\n",
       "      <td>2302</td>\n",
       "      <td>US-Mexico Border</td>\n",
       "      <td>2019-06-01</td>\n",
       "      <td>Personal Vehicle Passengers</td>\n",
       "      <td>238721</td>\n",
       "      <td>2019</td>\n",
       "      <td>6</td>\n",
       "      <td>(29.3627296, -100.896761)</td>\n",
       "    </tr>\n",
       "    <tr>\n",
       "      <th>9</th>\n",
       "      <td>Anacortes</td>\n",
       "      <td>Washington</td>\n",
       "      <td>3010</td>\n",
       "      <td>US-Canada Border</td>\n",
       "      <td>2019-06-01</td>\n",
       "      <td>Personal Vehicle Passengers</td>\n",
       "      <td>8348</td>\n",
       "      <td>2019</td>\n",
       "      <td>6</td>\n",
       "      <td>(48.5020123, -122.6237356)</td>\n",
       "    </tr>\n",
       "    <tr>\n",
       "      <th>10</th>\n",
       "      <td>Sumas</td>\n",
       "      <td>Washington</td>\n",
       "      <td>3009</td>\n",
       "      <td>US-Canada Border</td>\n",
       "      <td>2019-06-01</td>\n",
       "      <td>Train Passengers</td>\n",
       "      <td>30</td>\n",
       "      <td>2019</td>\n",
       "      <td>6</td>\n",
       "      <td>(48.9950874, -122.269080593315)</td>\n",
       "    </tr>\n",
       "    <tr>\n",
       "      <th>11</th>\n",
       "      <td>Sumas</td>\n",
       "      <td>Washington</td>\n",
       "      <td>3009</td>\n",
       "      <td>US-Canada Border</td>\n",
       "      <td>2019-06-01</td>\n",
       "      <td>Personal Vehicle Passengers</td>\n",
       "      <td>135620</td>\n",
       "      <td>2019</td>\n",
       "      <td>6</td>\n",
       "      <td>(48.9950874, -122.269080593315)</td>\n",
       "    </tr>\n",
       "    <tr>\n",
       "      <th>12</th>\n",
       "      <td>Sumas</td>\n",
       "      <td>Washington</td>\n",
       "      <td>3009</td>\n",
       "      <td>US-Canada Border</td>\n",
       "      <td>2019-06-01</td>\n",
       "      <td>Pedestrians</td>\n",
       "      <td>5515</td>\n",
       "      <td>2019</td>\n",
       "      <td>6</td>\n",
       "      <td>(48.9950874, -122.269080593315)</td>\n",
       "    </tr>\n",
       "    <tr>\n",
       "      <th>13</th>\n",
       "      <td>Sumas</td>\n",
       "      <td>Washington</td>\n",
       "      <td>3009</td>\n",
       "      <td>US-Canada Border</td>\n",
       "      <td>2019-06-01</td>\n",
       "      <td>Bus Passengers</td>\n",
       "      <td>413</td>\n",
       "      <td>2019</td>\n",
       "      <td>6</td>\n",
       "      <td>(48.9950874, -122.269080593315)</td>\n",
       "    </tr>\n",
       "    <tr>\n",
       "      <th>14</th>\n",
       "      <td>Port Angeles</td>\n",
       "      <td>Washington</td>\n",
       "      <td>3007</td>\n",
       "      <td>US-Canada Border</td>\n",
       "      <td>2019-06-01</td>\n",
       "      <td>Personal Vehicle Passengers</td>\n",
       "      <td>18227</td>\n",
       "      <td>2019</td>\n",
       "      <td>6</td>\n",
       "      <td>(48.118146, -123.4307413)</td>\n",
       "    </tr>\n",
       "    <tr>\n",
       "      <th>15</th>\n",
       "      <td>Port Angeles</td>\n",
       "      <td>Washington</td>\n",
       "      <td>3007</td>\n",
       "      <td>US-Canada Border</td>\n",
       "      <td>2019-06-01</td>\n",
       "      <td>Bus Passengers</td>\n",
       "      <td>156</td>\n",
       "      <td>2019</td>\n",
       "      <td>6</td>\n",
       "      <td>(48.118146, -123.4307413)</td>\n",
       "    </tr>\n",
       "    <tr>\n",
       "      <th>16</th>\n",
       "      <td>Point Roberts</td>\n",
       "      <td>Washington</td>\n",
       "      <td>3017</td>\n",
       "      <td>US-Canada Border</td>\n",
       "      <td>2019-06-01</td>\n",
       "      <td>Personal Vehicle Passengers</td>\n",
       "      <td>134013</td>\n",
       "      <td>2019</td>\n",
       "      <td>6</td>\n",
       "      <td>(48.9853824, -123.077974)</td>\n",
       "    </tr>\n",
       "    <tr>\n",
       "      <th>17</th>\n",
       "      <td>Point Roberts</td>\n",
       "      <td>Washington</td>\n",
       "      <td>3017</td>\n",
       "      <td>US-Canada Border</td>\n",
       "      <td>2019-06-01</td>\n",
       "      <td>Pedestrians</td>\n",
       "      <td>3109</td>\n",
       "      <td>2019</td>\n",
       "      <td>6</td>\n",
       "      <td>(48.9853824, -123.077974)</td>\n",
       "    </tr>\n",
       "    <tr>\n",
       "      <th>18</th>\n",
       "      <td>Point Roberts</td>\n",
       "      <td>Washington</td>\n",
       "      <td>3017</td>\n",
       "      <td>US-Canada Border</td>\n",
       "      <td>2019-06-01</td>\n",
       "      <td>Bus Passengers</td>\n",
       "      <td>624</td>\n",
       "      <td>2019</td>\n",
       "      <td>6</td>\n",
       "      <td>(48.9853824, -123.077974)</td>\n",
       "    </tr>\n",
       "    <tr>\n",
       "      <th>19</th>\n",
       "      <td>Oroville</td>\n",
       "      <td>Washington</td>\n",
       "      <td>3019</td>\n",
       "      <td>US-Canada Border</td>\n",
       "      <td>2019-06-01</td>\n",
       "      <td>Personal Vehicle Passengers</td>\n",
       "      <td>36210</td>\n",
       "      <td>2019</td>\n",
       "      <td>6</td>\n",
       "      <td>(48.9376147, -119.4361687)</td>\n",
       "    </tr>\n",
       "    <tr>\n",
       "      <th>20</th>\n",
       "      <td>Oroville</td>\n",
       "      <td>Washington</td>\n",
       "      <td>3019</td>\n",
       "      <td>US-Canada Border</td>\n",
       "      <td>2019-06-01</td>\n",
       "      <td>Pedestrians</td>\n",
       "      <td>472</td>\n",
       "      <td>2019</td>\n",
       "      <td>6</td>\n",
       "      <td>(48.9376147, -119.4361687)</td>\n",
       "    </tr>\n",
       "    <tr>\n",
       "      <th>21</th>\n",
       "      <td>Oroville</td>\n",
       "      <td>Washington</td>\n",
       "      <td>3019</td>\n",
       "      <td>US-Canada Border</td>\n",
       "      <td>2019-06-01</td>\n",
       "      <td>Bus Passengers</td>\n",
       "      <td>201</td>\n",
       "      <td>2019</td>\n",
       "      <td>6</td>\n",
       "      <td>(48.9376147, -119.4361687)</td>\n",
       "    </tr>\n",
       "    <tr>\n",
       "      <th>22</th>\n",
       "      <td>Nighthawk</td>\n",
       "      <td>Washington</td>\n",
       "      <td>3011</td>\n",
       "      <td>US-Canada Border</td>\n",
       "      <td>2019-06-01</td>\n",
       "      <td>Personal Vehicle Passengers</td>\n",
       "      <td>1110</td>\n",
       "      <td>2019</td>\n",
       "      <td>6</td>\n",
       "      <td>(48.9670097, -119.6407335)</td>\n",
       "    </tr>\n",
       "    <tr>\n",
       "      <th>23</th>\n",
       "      <td>Nighthawk</td>\n",
       "      <td>Washington</td>\n",
       "      <td>3011</td>\n",
       "      <td>US-Canada Border</td>\n",
       "      <td>2019-06-01</td>\n",
       "      <td>Pedestrians</td>\n",
       "      <td>2</td>\n",
       "      <td>2019</td>\n",
       "      <td>6</td>\n",
       "      <td>(48.9670097, -119.6407335)</td>\n",
       "    </tr>\n",
       "    <tr>\n",
       "      <th>24</th>\n",
       "      <td>Metaline Falls</td>\n",
       "      <td>Washington</td>\n",
       "      <td>3025</td>\n",
       "      <td>US-Canada Border</td>\n",
       "      <td>2019-06-01</td>\n",
       "      <td>Personal Vehicle Passengers</td>\n",
       "      <td>4863</td>\n",
       "      <td>2019</td>\n",
       "      <td>6</td>\n",
       "      <td>(48.8636212, -117.3718881)</td>\n",
       "    </tr>\n",
       "    <tr>\n",
       "      <th>25</th>\n",
       "      <td>Metaline Falls</td>\n",
       "      <td>Washington</td>\n",
       "      <td>3025</td>\n",
       "      <td>US-Canada Border</td>\n",
       "      <td>2019-06-01</td>\n",
       "      <td>Pedestrians</td>\n",
       "      <td>1</td>\n",
       "      <td>2019</td>\n",
       "      <td>6</td>\n",
       "      <td>(48.8636212, -117.3718881)</td>\n",
       "    </tr>\n",
       "    <tr>\n",
       "      <th>26</th>\n",
       "      <td>Metaline Falls</td>\n",
       "      <td>Washington</td>\n",
       "      <td>3025</td>\n",
       "      <td>US-Canada Border</td>\n",
       "      <td>2019-06-01</td>\n",
       "      <td>Bus Passengers</td>\n",
       "      <td>202</td>\n",
       "      <td>2019</td>\n",
       "      <td>6</td>\n",
       "      <td>(48.8636212, -117.3718881)</td>\n",
       "    </tr>\n",
       "    <tr>\n",
       "      <th>27</th>\n",
       "      <td>Lynden</td>\n",
       "      <td>Washington</td>\n",
       "      <td>3023</td>\n",
       "      <td>US-Canada Border</td>\n",
       "      <td>2019-06-01</td>\n",
       "      <td>Personal Vehicle Passengers</td>\n",
       "      <td>105375</td>\n",
       "      <td>2019</td>\n",
       "      <td>6</td>\n",
       "      <td>(48.9466041, -122.4569315)</td>\n",
       "    </tr>\n",
       "    <tr>\n",
       "      <th>28</th>\n",
       "      <td>Lynden</td>\n",
       "      <td>Washington</td>\n",
       "      <td>3023</td>\n",
       "      <td>US-Canada Border</td>\n",
       "      <td>2019-06-01</td>\n",
       "      <td>Pedestrians</td>\n",
       "      <td>100</td>\n",
       "      <td>2019</td>\n",
       "      <td>6</td>\n",
       "      <td>(48.9466041, -122.4569315)</td>\n",
       "    </tr>\n",
       "    <tr>\n",
       "      <th>29</th>\n",
       "      <td>Lynden</td>\n",
       "      <td>Washington</td>\n",
       "      <td>3023</td>\n",
       "      <td>US-Canada Border</td>\n",
       "      <td>2019-06-01</td>\n",
       "      <td>Bus Passengers</td>\n",
       "      <td>139</td>\n",
       "      <td>2019</td>\n",
       "      <td>6</td>\n",
       "      <td>(48.9466041, -122.4569315)</td>\n",
       "    </tr>\n",
       "    <tr>\n",
       "      <th>...</th>\n",
       "      <td>...</td>\n",
       "      <td>...</td>\n",
       "      <td>...</td>\n",
       "      <td>...</td>\n",
       "      <td>...</td>\n",
       "      <td>...</td>\n",
       "      <td>...</td>\n",
       "      <td>...</td>\n",
       "      <td>...</td>\n",
       "      <td>...</td>\n",
       "    </tr>\n",
       "    <tr>\n",
       "      <th>75594</th>\n",
       "      <td>Whitlash</td>\n",
       "      <td>Montana</td>\n",
       "      <td>3321</td>\n",
       "      <td>US-Canada Border</td>\n",
       "      <td>1996-01-01</td>\n",
       "      <td>Personal Vehicle Passengers</td>\n",
       "      <td>123</td>\n",
       "      <td>1996</td>\n",
       "      <td>1</td>\n",
       "      <td>(48.9083386, -111.2530312)</td>\n",
       "    </tr>\n",
       "    <tr>\n",
       "      <th>75595</th>\n",
       "      <td>Metaline Falls</td>\n",
       "      <td>Washington</td>\n",
       "      <td>3025</td>\n",
       "      <td>US-Canada Border</td>\n",
       "      <td>1996-01-01</td>\n",
       "      <td>Bus Passengers</td>\n",
       "      <td>266</td>\n",
       "      <td>1996</td>\n",
       "      <td>1</td>\n",
       "      <td>(48.8636212, -117.3718881)</td>\n",
       "    </tr>\n",
       "    <tr>\n",
       "      <th>75596</th>\n",
       "      <td>Houlton</td>\n",
       "      <td>Maine</td>\n",
       "      <td>106</td>\n",
       "      <td>US-Canada Border</td>\n",
       "      <td>1996-01-01</td>\n",
       "      <td>Bus Passengers</td>\n",
       "      <td>249</td>\n",
       "      <td>1996</td>\n",
       "      <td>1</td>\n",
       "      <td>(46.1251286, -67.8407944)</td>\n",
       "    </tr>\n",
       "    <tr>\n",
       "      <th>75597</th>\n",
       "      <td>Noyes</td>\n",
       "      <td>Minnesota</td>\n",
       "      <td>3402</td>\n",
       "      <td>US-Canada Border</td>\n",
       "      <td>1996-01-01</td>\n",
       "      <td>Pedestrians</td>\n",
       "      <td>1</td>\n",
       "      <td>1996</td>\n",
       "      <td>1</td>\n",
       "      <td>(48.998839, -97.204893)</td>\n",
       "    </tr>\n",
       "    <tr>\n",
       "      <th>75598</th>\n",
       "      <td>Sweetgrass</td>\n",
       "      <td>Montana</td>\n",
       "      <td>3310</td>\n",
       "      <td>US-Canada Border</td>\n",
       "      <td>1996-01-01</td>\n",
       "      <td>Train Passengers</td>\n",
       "      <td>108</td>\n",
       "      <td>1996</td>\n",
       "      <td>1</td>\n",
       "      <td>(48.9970672, -111.9625745)</td>\n",
       "    </tr>\n",
       "    <tr>\n",
       "      <th>75599</th>\n",
       "      <td>Eastport_ID</td>\n",
       "      <td>Idaho</td>\n",
       "      <td>3302</td>\n",
       "      <td>US-Canada Border</td>\n",
       "      <td>1996-01-01</td>\n",
       "      <td>Bus Passengers</td>\n",
       "      <td>640</td>\n",
       "      <td>1996</td>\n",
       "      <td>1</td>\n",
       "      <td>('48.999904', '-116.180196')</td>\n",
       "    </tr>\n",
       "    <tr>\n",
       "      <th>75600</th>\n",
       "      <td>Richford</td>\n",
       "      <td>Vermont</td>\n",
       "      <td>203</td>\n",
       "      <td>US-Canada Border</td>\n",
       "      <td>1996-01-01</td>\n",
       "      <td>Train Passengers</td>\n",
       "      <td>52</td>\n",
       "      <td>1996</td>\n",
       "      <td>1</td>\n",
       "      <td>(44.9953505, -72.6731285931857)</td>\n",
       "    </tr>\n",
       "    <tr>\n",
       "      <th>75601</th>\n",
       "      <td>Norton</td>\n",
       "      <td>Vermont</td>\n",
       "      <td>211</td>\n",
       "      <td>US-Canada Border</td>\n",
       "      <td>1996-01-01</td>\n",
       "      <td>Bus Passengers</td>\n",
       "      <td>62</td>\n",
       "      <td>1996</td>\n",
       "      <td>1</td>\n",
       "      <td>(45.0094923, -71.7961053)</td>\n",
       "    </tr>\n",
       "    <tr>\n",
       "      <th>75602</th>\n",
       "      <td>Highgate Springs-Alburg</td>\n",
       "      <td>Vermont</td>\n",
       "      <td>212</td>\n",
       "      <td>US-Canada Border</td>\n",
       "      <td>1996-01-01</td>\n",
       "      <td>Pedestrians</td>\n",
       "      <td>8</td>\n",
       "      <td>1996</td>\n",
       "      <td>1</td>\n",
       "      <td>(44.979486, -73.1054065)</td>\n",
       "    </tr>\n",
       "    <tr>\n",
       "      <th>75603</th>\n",
       "      <td>Andrade</td>\n",
       "      <td>California</td>\n",
       "      <td>2502</td>\n",
       "      <td>US-Mexico Border</td>\n",
       "      <td>1996-01-01</td>\n",
       "      <td>Personal Vehicle Passengers</td>\n",
       "      <td>165128</td>\n",
       "      <td>1996</td>\n",
       "      <td>1</td>\n",
       "      <td>(32.7248173, -114.7248614)</td>\n",
       "    </tr>\n",
       "    <tr>\n",
       "      <th>75604</th>\n",
       "      <td>Madawaska</td>\n",
       "      <td>Maine</td>\n",
       "      <td>109</td>\n",
       "      <td>US-Canada Border</td>\n",
       "      <td>1996-01-01</td>\n",
       "      <td>Pedestrians</td>\n",
       "      <td>716</td>\n",
       "      <td>1996</td>\n",
       "      <td>1</td>\n",
       "      <td>(47.355571, -68.321915)</td>\n",
       "    </tr>\n",
       "    <tr>\n",
       "      <th>75605</th>\n",
       "      <td>Brownsville</td>\n",
       "      <td>Texas</td>\n",
       "      <td>2301</td>\n",
       "      <td>US-Mexico Border</td>\n",
       "      <td>1996-01-01</td>\n",
       "      <td>Pedestrians</td>\n",
       "      <td>283000</td>\n",
       "      <td>1996</td>\n",
       "      <td>1</td>\n",
       "      <td>(25.9140256, -97.4890856)</td>\n",
       "    </tr>\n",
       "    <tr>\n",
       "      <th>75606</th>\n",
       "      <td>Noyes</td>\n",
       "      <td>Minnesota</td>\n",
       "      <td>3402</td>\n",
       "      <td>US-Canada Border</td>\n",
       "      <td>1996-01-01</td>\n",
       "      <td>Personal Vehicle Passengers</td>\n",
       "      <td>3636</td>\n",
       "      <td>1996</td>\n",
       "      <td>1</td>\n",
       "      <td>(48.998839, -97.204893)</td>\n",
       "    </tr>\n",
       "    <tr>\n",
       "      <th>75607</th>\n",
       "      <td>Lukeville</td>\n",
       "      <td>Arizona</td>\n",
       "      <td>2602</td>\n",
       "      <td>US-Mexico Border</td>\n",
       "      <td>1996-01-01</td>\n",
       "      <td>Personal Vehicle Passengers</td>\n",
       "      <td>57942</td>\n",
       "      <td>1996</td>\n",
       "      <td>1</td>\n",
       "      <td>(31.8819798, -112.8153361)</td>\n",
       "    </tr>\n",
       "    <tr>\n",
       "      <th>75608</th>\n",
       "      <td>Scobey</td>\n",
       "      <td>Montana</td>\n",
       "      <td>3309</td>\n",
       "      <td>US-Canada Border</td>\n",
       "      <td>1996-01-01</td>\n",
       "      <td>Personal Vehicle Passengers</td>\n",
       "      <td>907</td>\n",
       "      <td>1996</td>\n",
       "      <td>1</td>\n",
       "      <td>(48.792086, -105.419948)</td>\n",
       "    </tr>\n",
       "    <tr>\n",
       "      <th>75609</th>\n",
       "      <td>Massena</td>\n",
       "      <td>New York</td>\n",
       "      <td>704</td>\n",
       "      <td>US-Canada Border</td>\n",
       "      <td>1996-01-01</td>\n",
       "      <td>Bus Passengers</td>\n",
       "      <td>8083</td>\n",
       "      <td>1996</td>\n",
       "      <td>1</td>\n",
       "      <td>(44.928106, -74.892082)</td>\n",
       "    </tr>\n",
       "    <tr>\n",
       "      <th>75610</th>\n",
       "      <td>Neche</td>\n",
       "      <td>North Dakota</td>\n",
       "      <td>3404</td>\n",
       "      <td>US-Canada Border</td>\n",
       "      <td>1996-01-01</td>\n",
       "      <td>Personal Vehicle Passengers</td>\n",
       "      <td>6677</td>\n",
       "      <td>1996</td>\n",
       "      <td>1</td>\n",
       "      <td>(48.9861027, -97.5548)</td>\n",
       "    </tr>\n",
       "    <tr>\n",
       "      <th>75611</th>\n",
       "      <td>Jackman</td>\n",
       "      <td>Maine</td>\n",
       "      <td>104</td>\n",
       "      <td>US-Canada Border</td>\n",
       "      <td>1996-01-01</td>\n",
       "      <td>Bus Passengers</td>\n",
       "      <td>527</td>\n",
       "      <td>1996</td>\n",
       "      <td>1</td>\n",
       "      <td>(45.6239358, -70.2545117)</td>\n",
       "    </tr>\n",
       "    <tr>\n",
       "      <th>75612</th>\n",
       "      <td>Madawaska</td>\n",
       "      <td>Maine</td>\n",
       "      <td>109</td>\n",
       "      <td>US-Canada Border</td>\n",
       "      <td>1996-01-01</td>\n",
       "      <td>Train Passengers</td>\n",
       "      <td>104</td>\n",
       "      <td>1996</td>\n",
       "      <td>1</td>\n",
       "      <td>(47.355571, -68.321915)</td>\n",
       "    </tr>\n",
       "    <tr>\n",
       "      <th>75613</th>\n",
       "      <td>Laurier</td>\n",
       "      <td>Washington</td>\n",
       "      <td>3016</td>\n",
       "      <td>US-Canada Border</td>\n",
       "      <td>1996-01-01</td>\n",
       "      <td>Train Passengers</td>\n",
       "      <td>66</td>\n",
       "      <td>1996</td>\n",
       "      <td>1</td>\n",
       "      <td>(48.9987931, -118.2241779)</td>\n",
       "    </tr>\n",
       "    <tr>\n",
       "      <th>75614</th>\n",
       "      <td>Buffalo-Niagara Falls</td>\n",
       "      <td>New York</td>\n",
       "      <td>901</td>\n",
       "      <td>US-Canada Border</td>\n",
       "      <td>1996-01-01</td>\n",
       "      <td>Personal Vehicle Passengers</td>\n",
       "      <td>893376</td>\n",
       "      <td>1996</td>\n",
       "      <td>1</td>\n",
       "      <td>(43.0761171, -78.9928794)</td>\n",
       "    </tr>\n",
       "    <tr>\n",
       "      <th>75615</th>\n",
       "      <td>Sault Sainte Marie</td>\n",
       "      <td>Michigan</td>\n",
       "      <td>3803</td>\n",
       "      <td>US-Canada Border</td>\n",
       "      <td>1996-01-01</td>\n",
       "      <td>Bus Passengers</td>\n",
       "      <td>9020</td>\n",
       "      <td>1996</td>\n",
       "      <td>1</td>\n",
       "      <td>(46.490586, -84.359269)</td>\n",
       "    </tr>\n",
       "    <tr>\n",
       "      <th>75616</th>\n",
       "      <td>Presidio</td>\n",
       "      <td>Texas</td>\n",
       "      <td>2403</td>\n",
       "      <td>US-Mexico Border</td>\n",
       "      <td>1996-01-01</td>\n",
       "      <td>Pedestrians</td>\n",
       "      <td>645</td>\n",
       "      <td>1996</td>\n",
       "      <td>1</td>\n",
       "      <td>(29.9883766, -104.2336552)</td>\n",
       "    </tr>\n",
       "    <tr>\n",
       "      <th>75617</th>\n",
       "      <td>Fortuna</td>\n",
       "      <td>North Dakota</td>\n",
       "      <td>3417</td>\n",
       "      <td>US-Canada Border</td>\n",
       "      <td>1996-01-01</td>\n",
       "      <td>Bus Passengers</td>\n",
       "      <td>568</td>\n",
       "      <td>1996</td>\n",
       "      <td>1</td>\n",
       "      <td>(48.9107543, -103.7752713)</td>\n",
       "    </tr>\n",
       "    <tr>\n",
       "      <th>75618</th>\n",
       "      <td>St. John</td>\n",
       "      <td>North Dakota</td>\n",
       "      <td>3405</td>\n",
       "      <td>US-Canada Border</td>\n",
       "      <td>1996-01-01</td>\n",
       "      <td>Personal Vehicle Passengers</td>\n",
       "      <td>3278</td>\n",
       "      <td>1996</td>\n",
       "      <td>1</td>\n",
       "      <td>(48.9444517, -99.7109743)</td>\n",
       "    </tr>\n",
       "    <tr>\n",
       "      <th>75619</th>\n",
       "      <td>Antler</td>\n",
       "      <td>North Dakota</td>\n",
       "      <td>3413</td>\n",
       "      <td>US-Canada Border</td>\n",
       "      <td>1996-01-01</td>\n",
       "      <td>Personal Vehicle Passengers</td>\n",
       "      <td>1576</td>\n",
       "      <td>1996</td>\n",
       "      <td>1</td>\n",
       "      <td>(48.9708532, -101.2823803)</td>\n",
       "    </tr>\n",
       "    <tr>\n",
       "      <th>75620</th>\n",
       "      <td>Detroit</td>\n",
       "      <td>Michigan</td>\n",
       "      <td>3801</td>\n",
       "      <td>US-Canada Border</td>\n",
       "      <td>2019-06-01</td>\n",
       "      <td>Train Passengers</td>\n",
       "      <td>486</td>\n",
       "      <td>2019</td>\n",
       "      <td>6</td>\n",
       "      <td>(42.3315509, -83.0466403)</td>\n",
       "    </tr>\n",
       "    <tr>\n",
       "      <th>75621</th>\n",
       "      <td>Fort Kent</td>\n",
       "      <td>Maine</td>\n",
       "      <td>110</td>\n",
       "      <td>US-Canada Border</td>\n",
       "      <td>2019-06-01</td>\n",
       "      <td>Pedestrians</td>\n",
       "      <td>101</td>\n",
       "      <td>2019</td>\n",
       "      <td>6</td>\n",
       "      <td>(47.258728, -68.589706)</td>\n",
       "    </tr>\n",
       "    <tr>\n",
       "      <th>75622</th>\n",
       "      <td>Roma</td>\n",
       "      <td>Texas</td>\n",
       "      <td>2310</td>\n",
       "      <td>US-Mexico Border</td>\n",
       "      <td>2019-06-01</td>\n",
       "      <td>Pedestrians</td>\n",
       "      <td>22414</td>\n",
       "      <td>2019</td>\n",
       "      <td>6</td>\n",
       "      <td>(26.4070669, -99.0055462)</td>\n",
       "    </tr>\n",
       "    <tr>\n",
       "      <th>75623</th>\n",
       "      <td>Santa Teresa</td>\n",
       "      <td>New Mexico</td>\n",
       "      <td>2408</td>\n",
       "      <td>US-Mexico Border</td>\n",
       "      <td>2019-06-01</td>\n",
       "      <td>Pedestrians</td>\n",
       "      <td>16846</td>\n",
       "      <td>2019</td>\n",
       "      <td>6</td>\n",
       "      <td>(31.8559384, -106.6391577)</td>\n",
       "    </tr>\n",
       "  </tbody>\n",
       "</table>\n",
       "<p>75624 rows × 10 columns</p>\n",
       "</div>"
      ],
      "text/plain": [
       "                     Port Name         State  Port Code            Border  \\\n",
       "0                      Warroad     Minnesota       3423  US-Canada Border   \n",
       "1                      Warroad     Minnesota       3423  US-Canada Border   \n",
       "2                      Warroad     Minnesota       3423  US-Canada Border   \n",
       "3                       Roseau     Minnesota       3426  US-Canada Border   \n",
       "4                       Roseau     Minnesota       3426  US-Canada Border   \n",
       "5                      Detroit      Michigan       3801  US-Canada Border   \n",
       "6                      Detroit      Michigan       3801  US-Canada Border   \n",
       "7                      Del Rio         Texas       2302  US-Mexico Border   \n",
       "8                      Del Rio         Texas       2302  US-Mexico Border   \n",
       "9                    Anacortes    Washington       3010  US-Canada Border   \n",
       "10                       Sumas    Washington       3009  US-Canada Border   \n",
       "11                       Sumas    Washington       3009  US-Canada Border   \n",
       "12                       Sumas    Washington       3009  US-Canada Border   \n",
       "13                       Sumas    Washington       3009  US-Canada Border   \n",
       "14                Port Angeles    Washington       3007  US-Canada Border   \n",
       "15                Port Angeles    Washington       3007  US-Canada Border   \n",
       "16               Point Roberts    Washington       3017  US-Canada Border   \n",
       "17               Point Roberts    Washington       3017  US-Canada Border   \n",
       "18               Point Roberts    Washington       3017  US-Canada Border   \n",
       "19                    Oroville    Washington       3019  US-Canada Border   \n",
       "20                    Oroville    Washington       3019  US-Canada Border   \n",
       "21                    Oroville    Washington       3019  US-Canada Border   \n",
       "22                   Nighthawk    Washington       3011  US-Canada Border   \n",
       "23                   Nighthawk    Washington       3011  US-Canada Border   \n",
       "24              Metaline Falls    Washington       3025  US-Canada Border   \n",
       "25              Metaline Falls    Washington       3025  US-Canada Border   \n",
       "26              Metaline Falls    Washington       3025  US-Canada Border   \n",
       "27                      Lynden    Washington       3023  US-Canada Border   \n",
       "28                      Lynden    Washington       3023  US-Canada Border   \n",
       "29                      Lynden    Washington       3023  US-Canada Border   \n",
       "...                        ...           ...        ...               ...   \n",
       "75594                 Whitlash       Montana       3321  US-Canada Border   \n",
       "75595           Metaline Falls    Washington       3025  US-Canada Border   \n",
       "75596                  Houlton         Maine        106  US-Canada Border   \n",
       "75597                    Noyes     Minnesota       3402  US-Canada Border   \n",
       "75598               Sweetgrass       Montana       3310  US-Canada Border   \n",
       "75599              Eastport_ID         Idaho       3302  US-Canada Border   \n",
       "75600                 Richford       Vermont        203  US-Canada Border   \n",
       "75601                   Norton       Vermont        211  US-Canada Border   \n",
       "75602  Highgate Springs-Alburg       Vermont        212  US-Canada Border   \n",
       "75603                  Andrade    California       2502  US-Mexico Border   \n",
       "75604                Madawaska         Maine        109  US-Canada Border   \n",
       "75605              Brownsville         Texas       2301  US-Mexico Border   \n",
       "75606                    Noyes     Minnesota       3402  US-Canada Border   \n",
       "75607                Lukeville       Arizona       2602  US-Mexico Border   \n",
       "75608                   Scobey       Montana       3309  US-Canada Border   \n",
       "75609                  Massena      New York        704  US-Canada Border   \n",
       "75610                    Neche  North Dakota       3404  US-Canada Border   \n",
       "75611                  Jackman         Maine        104  US-Canada Border   \n",
       "75612                Madawaska         Maine        109  US-Canada Border   \n",
       "75613                  Laurier    Washington       3016  US-Canada Border   \n",
       "75614    Buffalo-Niagara Falls      New York        901  US-Canada Border   \n",
       "75615       Sault Sainte Marie      Michigan       3803  US-Canada Border   \n",
       "75616                 Presidio         Texas       2403  US-Mexico Border   \n",
       "75617                  Fortuna  North Dakota       3417  US-Canada Border   \n",
       "75618                 St. John  North Dakota       3405  US-Canada Border   \n",
       "75619                   Antler  North Dakota       3413  US-Canada Border   \n",
       "75620                  Detroit      Michigan       3801  US-Canada Border   \n",
       "75621                Fort Kent         Maine        110  US-Canada Border   \n",
       "75622                     Roma         Texas       2310  US-Mexico Border   \n",
       "75623             Santa Teresa    New Mexico       2408  US-Mexico Border   \n",
       "\n",
       "            Date                      Measure   Value  Year  Month  \\\n",
       "0     2019-06-01  Personal Vehicle Passengers   19459  2019      6   \n",
       "1     2019-06-01                  Pedestrians       2  2019      6   \n",
       "2     2019-06-01               Bus Passengers      63  2019      6   \n",
       "3     2019-06-01  Personal Vehicle Passengers    7385  2019      6   \n",
       "4     2019-06-01               Bus Passengers     118  2019      6   \n",
       "5     2019-06-01  Personal Vehicle Passengers  599521  2019      6   \n",
       "6     2019-06-01               Bus Passengers    6274  2019      6   \n",
       "7     2019-06-01                  Pedestrians   14898  2019      6   \n",
       "8     2019-06-01  Personal Vehicle Passengers  238721  2019      6   \n",
       "9     2019-06-01  Personal Vehicle Passengers    8348  2019      6   \n",
       "10    2019-06-01             Train Passengers      30  2019      6   \n",
       "11    2019-06-01  Personal Vehicle Passengers  135620  2019      6   \n",
       "12    2019-06-01                  Pedestrians    5515  2019      6   \n",
       "13    2019-06-01               Bus Passengers     413  2019      6   \n",
       "14    2019-06-01  Personal Vehicle Passengers   18227  2019      6   \n",
       "15    2019-06-01               Bus Passengers     156  2019      6   \n",
       "16    2019-06-01  Personal Vehicle Passengers  134013  2019      6   \n",
       "17    2019-06-01                  Pedestrians    3109  2019      6   \n",
       "18    2019-06-01               Bus Passengers     624  2019      6   \n",
       "19    2019-06-01  Personal Vehicle Passengers   36210  2019      6   \n",
       "20    2019-06-01                  Pedestrians     472  2019      6   \n",
       "21    2019-06-01               Bus Passengers     201  2019      6   \n",
       "22    2019-06-01  Personal Vehicle Passengers    1110  2019      6   \n",
       "23    2019-06-01                  Pedestrians       2  2019      6   \n",
       "24    2019-06-01  Personal Vehicle Passengers    4863  2019      6   \n",
       "25    2019-06-01                  Pedestrians       1  2019      6   \n",
       "26    2019-06-01               Bus Passengers     202  2019      6   \n",
       "27    2019-06-01  Personal Vehicle Passengers  105375  2019      6   \n",
       "28    2019-06-01                  Pedestrians     100  2019      6   \n",
       "29    2019-06-01               Bus Passengers     139  2019      6   \n",
       "...          ...                          ...     ...   ...    ...   \n",
       "75594 1996-01-01  Personal Vehicle Passengers     123  1996      1   \n",
       "75595 1996-01-01               Bus Passengers     266  1996      1   \n",
       "75596 1996-01-01               Bus Passengers     249  1996      1   \n",
       "75597 1996-01-01                  Pedestrians       1  1996      1   \n",
       "75598 1996-01-01             Train Passengers     108  1996      1   \n",
       "75599 1996-01-01               Bus Passengers     640  1996      1   \n",
       "75600 1996-01-01             Train Passengers      52  1996      1   \n",
       "75601 1996-01-01               Bus Passengers      62  1996      1   \n",
       "75602 1996-01-01                  Pedestrians       8  1996      1   \n",
       "75603 1996-01-01  Personal Vehicle Passengers  165128  1996      1   \n",
       "75604 1996-01-01                  Pedestrians     716  1996      1   \n",
       "75605 1996-01-01                  Pedestrians  283000  1996      1   \n",
       "75606 1996-01-01  Personal Vehicle Passengers    3636  1996      1   \n",
       "75607 1996-01-01  Personal Vehicle Passengers   57942  1996      1   \n",
       "75608 1996-01-01  Personal Vehicle Passengers     907  1996      1   \n",
       "75609 1996-01-01               Bus Passengers    8083  1996      1   \n",
       "75610 1996-01-01  Personal Vehicle Passengers    6677  1996      1   \n",
       "75611 1996-01-01               Bus Passengers     527  1996      1   \n",
       "75612 1996-01-01             Train Passengers     104  1996      1   \n",
       "75613 1996-01-01             Train Passengers      66  1996      1   \n",
       "75614 1996-01-01  Personal Vehicle Passengers  893376  1996      1   \n",
       "75615 1996-01-01               Bus Passengers    9020  1996      1   \n",
       "75616 1996-01-01                  Pedestrians     645  1996      1   \n",
       "75617 1996-01-01               Bus Passengers     568  1996      1   \n",
       "75618 1996-01-01  Personal Vehicle Passengers    3278  1996      1   \n",
       "75619 1996-01-01  Personal Vehicle Passengers    1576  1996      1   \n",
       "75620 2019-06-01             Train Passengers     486  2019      6   \n",
       "75621 2019-06-01                  Pedestrians     101  2019      6   \n",
       "75622 2019-06-01                  Pedestrians   22414  2019      6   \n",
       "75623 2019-06-01                  Pedestrians   16846  2019      6   \n",
       "\n",
       "                              position  \n",
       "0              (48.905266, -95.314404)  \n",
       "1              (48.905266, -95.314404)  \n",
       "2              (48.905266, -95.314404)  \n",
       "3            (48.7710371, -95.7697882)  \n",
       "4            (48.7710371, -95.7697882)  \n",
       "5            (42.3315509, -83.0466403)  \n",
       "6            (42.3315509, -83.0466403)  \n",
       "7            (29.3627296, -100.896761)  \n",
       "8            (29.3627296, -100.896761)  \n",
       "9           (48.5020123, -122.6237356)  \n",
       "10     (48.9950874, -122.269080593315)  \n",
       "11     (48.9950874, -122.269080593315)  \n",
       "12     (48.9950874, -122.269080593315)  \n",
       "13     (48.9950874, -122.269080593315)  \n",
       "14           (48.118146, -123.4307413)  \n",
       "15           (48.118146, -123.4307413)  \n",
       "16           (48.9853824, -123.077974)  \n",
       "17           (48.9853824, -123.077974)  \n",
       "18           (48.9853824, -123.077974)  \n",
       "19          (48.9376147, -119.4361687)  \n",
       "20          (48.9376147, -119.4361687)  \n",
       "21          (48.9376147, -119.4361687)  \n",
       "22          (48.9670097, -119.6407335)  \n",
       "23          (48.9670097, -119.6407335)  \n",
       "24          (48.8636212, -117.3718881)  \n",
       "25          (48.8636212, -117.3718881)  \n",
       "26          (48.8636212, -117.3718881)  \n",
       "27          (48.9466041, -122.4569315)  \n",
       "28          (48.9466041, -122.4569315)  \n",
       "29          (48.9466041, -122.4569315)  \n",
       "...                                ...  \n",
       "75594       (48.9083386, -111.2530312)  \n",
       "75595       (48.8636212, -117.3718881)  \n",
       "75596        (46.1251286, -67.8407944)  \n",
       "75597          (48.998839, -97.204893)  \n",
       "75598       (48.9970672, -111.9625745)  \n",
       "75599     ('48.999904', '-116.180196')  \n",
       "75600  (44.9953505, -72.6731285931857)  \n",
       "75601        (45.0094923, -71.7961053)  \n",
       "75602         (44.979486, -73.1054065)  \n",
       "75603       (32.7248173, -114.7248614)  \n",
       "75604          (47.355571, -68.321915)  \n",
       "75605        (25.9140256, -97.4890856)  \n",
       "75606          (48.998839, -97.204893)  \n",
       "75607       (31.8819798, -112.8153361)  \n",
       "75608         (48.792086, -105.419948)  \n",
       "75609          (44.928106, -74.892082)  \n",
       "75610           (48.9861027, -97.5548)  \n",
       "75611        (45.6239358, -70.2545117)  \n",
       "75612          (47.355571, -68.321915)  \n",
       "75613       (48.9987931, -118.2241779)  \n",
       "75614        (43.0761171, -78.9928794)  \n",
       "75615          (46.490586, -84.359269)  \n",
       "75616       (29.9883766, -104.2336552)  \n",
       "75617       (48.9107543, -103.7752713)  \n",
       "75618        (48.9444517, -99.7109743)  \n",
       "75619       (48.9708532, -101.2823803)  \n",
       "75620        (42.3315509, -83.0466403)  \n",
       "75621          (47.258728, -68.589706)  \n",
       "75622        (26.4070669, -99.0055462)  \n",
       "75623       (31.8559384, -106.6391577)  \n",
       "\n",
       "[75624 rows x 10 columns]"
      ]
     },
     "execution_count": 87,
     "metadata": {},
     "output_type": "execute_result"
    }
   ],
   "source": [
    "interestings"
   ]
  },
  {
   "cell_type": "code",
   "execution_count": 88,
   "metadata": {},
   "outputs": [
    {
     "data": {
      "application/vnd.plotly.v1+json": {
       "config": {
        "plotlyServerURL": "https://plot.ly"
       },
       "data": [
        {
         "lat": [
          "44.911752",
          "48.999904",
          "25.9140256",
          "26.0922991",
          "26.3530256",
          "26.3827771",
          "26.4070669",
          "27.5199841",
          "28.7091433",
          "29.1921092",
          "29.3627296",
          "29.9883766",
          "31.3402134",
          "31.342529",
          "31.46223",
          "31.471341",
          "31.4887016",
          "31.7600372",
          "31.8303365",
          "31.8559384",
          "31.8819798",
          "32.4934395",
          "32.54831535",
          "32.5520013",
          "32.560058",
          "32.5833711",
          "32.6753413",
          "32.6790572",
          "32.7248173",
          "35.9128415",
          "42.3315509",
          "42.9815877",
          "43.0761171",
          "43.6610277",
          "44.125494",
          "44.336127",
          "44.3864565",
          "44.694285",
          "44.881314",
          "44.928106",
          "44.979486",
          "44.982541",
          "44.9953505",
          "45.00042985",
          "45.008759",
          "45.0094923",
          "45.189032",
          "45.5634002",
          "45.6239358",
          "46.1251286",
          "46.427919",
          "46.490586",
          "46.7698261",
          "46.9034922",
          "46.908998",
          "47.0070211",
          "47.157506",
          "47.258728",
          "47.355571",
          "47.963776",
          "48.118146",
          "48.4346971",
          "48.4736934",
          "48.5020123",
          "48.5342662",
          "48.7124408",
          "48.7530787",
          "48.7710371",
          "48.792086",
          "48.813057",
          "48.8456288",
          "48.857088",
          "48.8582488",
          "48.8636212",
          "48.8764172",
          "48.888919",
          "48.8908464",
          "48.8956798",
          "48.905266",
          "48.9083386",
          "48.909464",
          "48.9107543",
          "48.923328",
          "48.9376147",
          "48.9444517",
          "48.94584",
          "48.9466041",
          "48.9521858",
          "48.9539222",
          "48.9600187",
          "48.9670097",
          "48.9708532",
          "48.9716708",
          "48.9779945",
          "48.9831558",
          "48.9853824",
          "48.9861027",
          "48.9881108",
          "48.9923978",
          "48.9933527",
          "48.9950874",
          "48.9958637",
          "48.9970672",
          "48.9975828",
          "48.9982855",
          "48.998612",
          "48.9987931",
          "48.998839",
          "48.9991329",
          "48.9996344",
          "55.3430696",
          "59.6226362",
          "62.66607",
          "nternational Falls",
          "leasant Camp"
         ],
         "locationmode": "USA-states",
         "lon": [
          "-66.985965",
          "-116.180196",
          "-97.4890856",
          "-97.9572242",
          "-98.216445",
          "-98.8205251",
          "-99.0055462",
          "-99.4953764",
          "-100.4995214",
          "-102.9485706",
          "-100.896761",
          "-104.2336552",
          "-110.9360818",
          "-109.936355674705",
          "-109.59394273101",
          "-106.151947",
          "-111.5420505",
          "-106.487287",
          "-107.6385256",
          "-106.6391577",
          "-112.8153361",
          "-114.7737551",
          "-116.974398450271",
          "-117.0430813",
          "-116.9361338",
          "-116.6285217",
          "-115.3887997",
          "-115.498703",
          "-114.7248614",
          "-96.8039141",
          "-83.0466403",
          "-82.440466",
          "-78.9928794",
          "-70.2548596",
          "-76.3304640631677",
          "-75.917931",
          "-68.2118570811003",
          "-75.486374",
          "-74.2656165",
          "-74.892082",
          "-73.1054065",
          "-73.377564",
          "-72.6731285931857",
          "-72.1064356198873",
          "-71.5067925",
          "-71.7961053",
          "-67.2781424",
          "-67.429721",
          "-70.2545117",
          "-67.8407944",
          "-67.844009",
          "-84.359269",
          "-67.8345688",
          "-96.7971257256983",
          "-67.826157",
          "-112.4546302",
          "-67.935333",
          "-68.589706",
          "-68.321915",
          "-89.6848121",
          "-123.4307413",
          "-112.6945072",
          "-118.4834362",
          "-122.6237356",
          "-123.0171242",
          "-94.600171",
          "-97.5532833",
          "-95.7697882",
          "-105.419948",
          "-100.060968",
          "-108.4048141",
          "-106.407904",
          "-96.8045602",
          "-117.3718881",
          "-104.5802366",
          "-103.008794",
          "-100.5445928",
          "-105.163013",
          "-95.314404",
          "-111.2530312",
          "-101.020712",
          "-103.7752713",
          "-97.918148",
          "-119.4361687",
          "-99.7109743",
          "-98.995961",
          "-122.4569315",
          "-99.3807545",
          "-103.4826921",
          "-101.632661",
          "-119.6407335",
          "-101.2823803",
          "-98.6917884",
          "-95.9428151",
          "-117.6371945",
          "-123.077974",
          "-97.5548",
          "-122.7435757",
          "-118.5080824",
          "-107.8323167",
          "-122.269080593315",
          "-102.5496127",
          "-111.9625745",
          "-112.788762",
          "-116.4979886",
          "-98.3648321",
          "-118.2241779",
          "-97.204893",
          "-115.0565577",
          "-117.8310975",
          "-131.6466819",
          "-135.4094368",
          "-141.141890269798",
          "Koochiching County, Minnesota, United State",
          "Skagway, Unorganized Borough, Alaska, United State"
         ],
         "marker": {
          "color": "crimson",
          "line": {
           "color": "rgb(20,20,20)",
           "width": 0.5
          },
          "size": [
           8.359844,
           10.449358,
           738.291532,
           170.706308,
           812.18567,
           80.42433,
           136.796068,
           870.23939,
           357.07261,
           0.11188,
           187.473706,
           78.983142,
           615.779562,
           41.404294,
           236.997368,
           57.79658,
           3.262672,
           1626.810752,
           50.684586,
           42.17857,
           51.695134,
           390.975136,
           4.689396,
           1641.507174,
           586.626348,
           126.760944,
           295.793376,
           802.927222,
           120.74263,
           1.033048,
           552.920844,
           198.815428,
           706.920938,
           1.580476,
           0.459208,
           75.216032,
           0.37968,
           30.242434,
           16.848452,
           98.105344,
           50.5235,
           142.093434,
           11.16497,
           62.41633,
           6.994516,
           6.210878,
           97.556548,
           4.272158,
           16.741054,
           33.213508,
           7.000202,
           111.341924,
           15.20834,
           1.876676,
           3.68212,
           0.191742,
           22.277134,
           19.342898,
           48.343494,
           26.089162,
           4.24013,
           14.843998,
           0.945016,
           2.339466,
           0.26535,
           18.091218,
           33.806294,
           3.781128,
           0.535982,
           7.087368,
           0.774324,
           0.396062,
           2.867422,
           2.984852,
           3.120566,
           2.815836,
           1.269254,
           0.212604,
           12.687522,
           0.074938,
           1.087006,
           1.196736,
           3.517938,
           23.869818,
           2.188794,
           0.552006,
           60.8169,
           1.099146,
           0.278092,
           1.623308,
           0.709416,
           1.038846,
           0.375318,
           0.542302,
           4.137794,
           75.762716,
           4.04542,
           367.894092,
           4.635972,
           0.633984,
           86.338434,
           10.223978,
           27.887546,
           2.518648,
           11.863708,
           1.278936,
           4.801696,
           1.839198,
           13.018704,
           4.234568,
           0.234996,
           14.082432,
           5.635924,
           49.121096,
           1.884704
          ],
          "sizemode": "area"
         },
         "text": [
          "Eastport_MA<br>Crossings: 4.179922 million",
          "Eastport_ID<br>Crossings: 5.224679 million",
          "Brownsville<br>Crossings: 369.145766 million",
          "Progreso<br>Crossings: 85.353154 million",
          "Hidalgo<br>Crossings: 406.092835 million",
          "Rio Grande City<br>Crossings: 40.212165 million",
          "Roma<br>Crossings: 68.398034 million",
          "Laredo<br>Crossings: 435.119695 million",
          "Eagle Pass<br>Crossings: 178.536305 million",
          "Boquillas<br>Crossings: 0.05594 million",
          "Del Rio<br>Crossings: 93.736853 million",
          "Presidio<br>Crossings: 39.491571 million",
          "Nogales<br>Crossings: 307.889781 million",
          "Naco<br>Crossings: 20.702147 million",
          "Douglas<br>Crossings: 118.498684 million",
          "Tornillo-Fabens<br>Crossings: 28.89829 million",
          "Sasabe<br>Crossings: 1.631336 million",
          "El Paso<br>Crossings: 813.405376 million",
          "Columbus<br>Crossings: 25.342293 million",
          "Santa Teresa<br>Crossings: 21.089285 million",
          "Lukeville<br>Crossings: 25.847567 million",
          "San Luis<br>Crossings: 195.487568 million",
          "Cross Border Xpress<br>Crossings: 2.344698 million",
          "San Ysidro<br>Crossings: 820.753587 million",
          "Otay Mesa<br>Crossings: 293.313174 million",
          "Tecate<br>Crossings: 63.380472 million",
          "Calexico East<br>Crossings: 147.896688 million",
          "Calexico<br>Crossings: 401.463611 million",
          "Andrade<br>Crossings: 60.371315 million",
          "Wildhorse<br>Crossings: 0.516524 million",
          "Detroit<br>Crossings: 276.460422 million",
          "Port Huron<br>Crossings: 99.407714 million",
          "Buffalo-Niagara Falls<br>Crossings: 353.460469 million",
          "Portland<br>Crossings: 0.790238 million",
          "Cape Vincent<br>Crossings: 0.229604 million",
          "Alexandria Bay<br>Crossings: 37.608016 million",
          "Bar Harbor<br>Crossings: 0.18984 million",
          "Ogdensburg<br>Crossings: 15.121217 million",
          "Trout River<br>Crossings: 8.424226 million",
          "Massena<br>Crossings: 49.052672 million",
          "Highgate Springs-Alburg<br>Crossings: 25.26175 million",
          "Champlain-Rouses Point<br>Crossings: 71.046717 million",
          "Richford<br>Crossings: 5.582485 million",
          "Derby Line<br>Crossings: 31.208165 million",
          "Beecher Falls<br>Crossings: 3.497258 million",
          "Norton<br>Crossings: 3.105439 million",
          "Calais<br>Crossings: 48.778274 million",
          "Vanceboro<br>Crossings: 2.136079 million",
          "Jackman<br>Crossings: 8.370527 million",
          "Houlton<br>Crossings: 16.606754 million",
          "Bridgewater<br>Crossings: 3.500101 million",
          "Sault Sainte Marie<br>Crossings: 55.670962 million",
          "Fort Fairfield<br>Crossings: 7.60417 million",
          "Northgate<br>Crossings: 0.938338 million",
          "Limestone<br>Crossings: 1.84106 million",
          "Willow Creek<br>Crossings: 0.095871 million",
          "Van Buren<br>Crossings: 11.138567 million",
          "Fort Kent<br>Crossings: 9.671449 million",
          "Madawaska<br>Crossings: 24.171747 million",
          "Grand Portage<br>Crossings: 13.044581 million",
          "Port Angeles<br>Crossings: 2.120065 million",
          "Piegan<br>Crossings: 7.421999 million",
          "Ferry<br>Crossings: 0.472508 million",
          "Anacortes<br>Crossings: 1.169733 million",
          "Friday Harbor<br>Crossings: 0.132675 million",
          "Baudette<br>Crossings: 9.045609 million",
          "Pembina<br>Crossings: 16.903147 million",
          "Roseau<br>Crossings: 1.890564 million",
          "Scobey<br>Crossings: 0.267991 million",
          "Dunseith<br>Crossings: 3.543684 million",
          "Turner<br>Crossings: 0.387162 million",
          "Opheim<br>Crossings: 0.198031 million",
          "Lancaster<br>Crossings: 1.433711 million",
          "Metaline Falls<br>Crossings: 1.492426 million",
          "Raymond<br>Crossings: 1.560283 million",
          "Noonan<br>Crossings: 1.407918 million",
          "Carbury<br>Crossings: 0.634627 million",
          "Whitetail<br>Crossings: 0.106302 million",
          "Warroad<br>Crossings: 6.343761 million",
          "Whitlash<br>Crossings: 0.037469 million",
          "Westhope<br>Crossings: 0.543503 million",
          "Fortuna<br>Crossings: 0.598368 million",
          "Walhalla<br>Crossings: 1.758969 million",
          "Oroville<br>Crossings: 11.934909 million",
          "St. John<br>Crossings: 1.094397 million",
          "Sarles<br>Crossings: 0.276003 million",
          "Lynden<br>Crossings: 30.40845 million",
          "Hansboro<br>Crossings: 0.549573 million",
          "Ambrose<br>Crossings: 0.139046 million",
          "Sherwood<br>Crossings: 0.811654 million",
          "Nighthawk<br>Crossings: 0.354708 million",
          "Antler<br>Crossings: 0.519423 million",
          "Hannah<br>Crossings: 0.187659 million",
          "Pinecreek<br>Crossings: 0.271151 million",
          "Boundary<br>Crossings: 2.068897 million",
          "Point Roberts<br>Crossings: 37.881358 million",
          "Neche<br>Crossings: 2.02271 million",
          "Blaine<br>Crossings: 183.947046 million",
          "Danville<br>Crossings: 2.317986 million",
          "Morgan<br>Crossings: 0.316992 million",
          "Sumas<br>Crossings: 43.169217 million",
          "Portal<br>Crossings: 5.111989 million",
          "Sweetgrass<br>Crossings: 13.943773 million",
          "Del Bonita<br>Crossings: 1.259324 million",
          "Porthill<br>Crossings: 5.931854 million",
          "Maida<br>Crossings: 0.639468 million",
          "Laurier<br>Crossings: 2.400848 million",
          "Noyes<br>Crossings: 0.919599 million",
          "Roosville<br>Crossings: 6.509352 million",
          "Frontier<br>Crossings: 2.117284 million",
          "Ketchikan<br>Crossings: 0.117498 million",
          "Skagway<br>Crossings: 7.041216 million",
          "Alcan<br>Crossings: 2.817962 million",
          "International Falls-Ranier<br>Crossings: 24.560548 million",
          "Dalton Cache<br>Crossings: 0.942352 million"
         ],
         "type": "scattergeo"
        }
       ],
       "layout": {
        "geo": {
         "landcolor": "rgb(217, 217, 217)",
         "scope": "usa"
        },
        "showlegend": false,
        "template": {
         "data": {
          "bar": [
           {
            "error_x": {
             "color": "#2a3f5f"
            },
            "error_y": {
             "color": "#2a3f5f"
            },
            "marker": {
             "line": {
              "color": "#E5ECF6",
              "width": 0.5
             }
            },
            "type": "bar"
           }
          ],
          "barpolar": [
           {
            "marker": {
             "line": {
              "color": "#E5ECF6",
              "width": 0.5
             }
            },
            "type": "barpolar"
           }
          ],
          "carpet": [
           {
            "aaxis": {
             "endlinecolor": "#2a3f5f",
             "gridcolor": "white",
             "linecolor": "white",
             "minorgridcolor": "white",
             "startlinecolor": "#2a3f5f"
            },
            "baxis": {
             "endlinecolor": "#2a3f5f",
             "gridcolor": "white",
             "linecolor": "white",
             "minorgridcolor": "white",
             "startlinecolor": "#2a3f5f"
            },
            "type": "carpet"
           }
          ],
          "choropleth": [
           {
            "colorbar": {
             "outlinewidth": 0,
             "ticks": ""
            },
            "type": "choropleth"
           }
          ],
          "contour": [
           {
            "colorbar": {
             "outlinewidth": 0,
             "ticks": ""
            },
            "colorscale": [
             [
              0,
              "#0d0887"
             ],
             [
              0.1111111111111111,
              "#46039f"
             ],
             [
              0.2222222222222222,
              "#7201a8"
             ],
             [
              0.3333333333333333,
              "#9c179e"
             ],
             [
              0.4444444444444444,
              "#bd3786"
             ],
             [
              0.5555555555555556,
              "#d8576b"
             ],
             [
              0.6666666666666666,
              "#ed7953"
             ],
             [
              0.7777777777777778,
              "#fb9f3a"
             ],
             [
              0.8888888888888888,
              "#fdca26"
             ],
             [
              1,
              "#f0f921"
             ]
            ],
            "type": "contour"
           }
          ],
          "contourcarpet": [
           {
            "colorbar": {
             "outlinewidth": 0,
             "ticks": ""
            },
            "type": "contourcarpet"
           }
          ],
          "heatmap": [
           {
            "colorbar": {
             "outlinewidth": 0,
             "ticks": ""
            },
            "colorscale": [
             [
              0,
              "#0d0887"
             ],
             [
              0.1111111111111111,
              "#46039f"
             ],
             [
              0.2222222222222222,
              "#7201a8"
             ],
             [
              0.3333333333333333,
              "#9c179e"
             ],
             [
              0.4444444444444444,
              "#bd3786"
             ],
             [
              0.5555555555555556,
              "#d8576b"
             ],
             [
              0.6666666666666666,
              "#ed7953"
             ],
             [
              0.7777777777777778,
              "#fb9f3a"
             ],
             [
              0.8888888888888888,
              "#fdca26"
             ],
             [
              1,
              "#f0f921"
             ]
            ],
            "type": "heatmap"
           }
          ],
          "heatmapgl": [
           {
            "colorbar": {
             "outlinewidth": 0,
             "ticks": ""
            },
            "colorscale": [
             [
              0,
              "#0d0887"
             ],
             [
              0.1111111111111111,
              "#46039f"
             ],
             [
              0.2222222222222222,
              "#7201a8"
             ],
             [
              0.3333333333333333,
              "#9c179e"
             ],
             [
              0.4444444444444444,
              "#bd3786"
             ],
             [
              0.5555555555555556,
              "#d8576b"
             ],
             [
              0.6666666666666666,
              "#ed7953"
             ],
             [
              0.7777777777777778,
              "#fb9f3a"
             ],
             [
              0.8888888888888888,
              "#fdca26"
             ],
             [
              1,
              "#f0f921"
             ]
            ],
            "type": "heatmapgl"
           }
          ],
          "histogram": [
           {
            "marker": {
             "colorbar": {
              "outlinewidth": 0,
              "ticks": ""
             }
            },
            "type": "histogram"
           }
          ],
          "histogram2d": [
           {
            "colorbar": {
             "outlinewidth": 0,
             "ticks": ""
            },
            "colorscale": [
             [
              0,
              "#0d0887"
             ],
             [
              0.1111111111111111,
              "#46039f"
             ],
             [
              0.2222222222222222,
              "#7201a8"
             ],
             [
              0.3333333333333333,
              "#9c179e"
             ],
             [
              0.4444444444444444,
              "#bd3786"
             ],
             [
              0.5555555555555556,
              "#d8576b"
             ],
             [
              0.6666666666666666,
              "#ed7953"
             ],
             [
              0.7777777777777778,
              "#fb9f3a"
             ],
             [
              0.8888888888888888,
              "#fdca26"
             ],
             [
              1,
              "#f0f921"
             ]
            ],
            "type": "histogram2d"
           }
          ],
          "histogram2dcontour": [
           {
            "colorbar": {
             "outlinewidth": 0,
             "ticks": ""
            },
            "colorscale": [
             [
              0,
              "#0d0887"
             ],
             [
              0.1111111111111111,
              "#46039f"
             ],
             [
              0.2222222222222222,
              "#7201a8"
             ],
             [
              0.3333333333333333,
              "#9c179e"
             ],
             [
              0.4444444444444444,
              "#bd3786"
             ],
             [
              0.5555555555555556,
              "#d8576b"
             ],
             [
              0.6666666666666666,
              "#ed7953"
             ],
             [
              0.7777777777777778,
              "#fb9f3a"
             ],
             [
              0.8888888888888888,
              "#fdca26"
             ],
             [
              1,
              "#f0f921"
             ]
            ],
            "type": "histogram2dcontour"
           }
          ],
          "mesh3d": [
           {
            "colorbar": {
             "outlinewidth": 0,
             "ticks": ""
            },
            "type": "mesh3d"
           }
          ],
          "parcoords": [
           {
            "line": {
             "colorbar": {
              "outlinewidth": 0,
              "ticks": ""
             }
            },
            "type": "parcoords"
           }
          ],
          "pie": [
           {
            "automargin": true,
            "type": "pie"
           }
          ],
          "scatter": [
           {
            "marker": {
             "colorbar": {
              "outlinewidth": 0,
              "ticks": ""
             }
            },
            "type": "scatter"
           }
          ],
          "scatter3d": [
           {
            "line": {
             "colorbar": {
              "outlinewidth": 0,
              "ticks": ""
             }
            },
            "marker": {
             "colorbar": {
              "outlinewidth": 0,
              "ticks": ""
             }
            },
            "type": "scatter3d"
           }
          ],
          "scattercarpet": [
           {
            "marker": {
             "colorbar": {
              "outlinewidth": 0,
              "ticks": ""
             }
            },
            "type": "scattercarpet"
           }
          ],
          "scattergeo": [
           {
            "marker": {
             "colorbar": {
              "outlinewidth": 0,
              "ticks": ""
             }
            },
            "type": "scattergeo"
           }
          ],
          "scattergl": [
           {
            "marker": {
             "colorbar": {
              "outlinewidth": 0,
              "ticks": ""
             }
            },
            "type": "scattergl"
           }
          ],
          "scattermapbox": [
           {
            "marker": {
             "colorbar": {
              "outlinewidth": 0,
              "ticks": ""
             }
            },
            "type": "scattermapbox"
           }
          ],
          "scatterpolar": [
           {
            "marker": {
             "colorbar": {
              "outlinewidth": 0,
              "ticks": ""
             }
            },
            "type": "scatterpolar"
           }
          ],
          "scatterpolargl": [
           {
            "marker": {
             "colorbar": {
              "outlinewidth": 0,
              "ticks": ""
             }
            },
            "type": "scatterpolargl"
           }
          ],
          "scatterternary": [
           {
            "marker": {
             "colorbar": {
              "outlinewidth": 0,
              "ticks": ""
             }
            },
            "type": "scatterternary"
           }
          ],
          "surface": [
           {
            "colorbar": {
             "outlinewidth": 0,
             "ticks": ""
            },
            "colorscale": [
             [
              0,
              "#0d0887"
             ],
             [
              0.1111111111111111,
              "#46039f"
             ],
             [
              0.2222222222222222,
              "#7201a8"
             ],
             [
              0.3333333333333333,
              "#9c179e"
             ],
             [
              0.4444444444444444,
              "#bd3786"
             ],
             [
              0.5555555555555556,
              "#d8576b"
             ],
             [
              0.6666666666666666,
              "#ed7953"
             ],
             [
              0.7777777777777778,
              "#fb9f3a"
             ],
             [
              0.8888888888888888,
              "#fdca26"
             ],
             [
              1,
              "#f0f921"
             ]
            ],
            "type": "surface"
           }
          ],
          "table": [
           {
            "cells": {
             "fill": {
              "color": "#EBF0F8"
             },
             "line": {
              "color": "white"
             }
            },
            "header": {
             "fill": {
              "color": "#C8D4E3"
             },
             "line": {
              "color": "white"
             }
            },
            "type": "table"
           }
          ]
         },
         "layout": {
          "annotationdefaults": {
           "arrowcolor": "#2a3f5f",
           "arrowhead": 0,
           "arrowwidth": 1
          },
          "coloraxis": {
           "colorbar": {
            "outlinewidth": 0,
            "ticks": ""
           }
          },
          "colorscale": {
           "diverging": [
            [
             0,
             "#8e0152"
            ],
            [
             0.1,
             "#c51b7d"
            ],
            [
             0.2,
             "#de77ae"
            ],
            [
             0.3,
             "#f1b6da"
            ],
            [
             0.4,
             "#fde0ef"
            ],
            [
             0.5,
             "#f7f7f7"
            ],
            [
             0.6,
             "#e6f5d0"
            ],
            [
             0.7,
             "#b8e186"
            ],
            [
             0.8,
             "#7fbc41"
            ],
            [
             0.9,
             "#4d9221"
            ],
            [
             1,
             "#276419"
            ]
           ],
           "sequential": [
            [
             0,
             "#0d0887"
            ],
            [
             0.1111111111111111,
             "#46039f"
            ],
            [
             0.2222222222222222,
             "#7201a8"
            ],
            [
             0.3333333333333333,
             "#9c179e"
            ],
            [
             0.4444444444444444,
             "#bd3786"
            ],
            [
             0.5555555555555556,
             "#d8576b"
            ],
            [
             0.6666666666666666,
             "#ed7953"
            ],
            [
             0.7777777777777778,
             "#fb9f3a"
            ],
            [
             0.8888888888888888,
             "#fdca26"
            ],
            [
             1,
             "#f0f921"
            ]
           ],
           "sequentialminus": [
            [
             0,
             "#0d0887"
            ],
            [
             0.1111111111111111,
             "#46039f"
            ],
            [
             0.2222222222222222,
             "#7201a8"
            ],
            [
             0.3333333333333333,
             "#9c179e"
            ],
            [
             0.4444444444444444,
             "#bd3786"
            ],
            [
             0.5555555555555556,
             "#d8576b"
            ],
            [
             0.6666666666666666,
             "#ed7953"
            ],
            [
             0.7777777777777778,
             "#fb9f3a"
            ],
            [
             0.8888888888888888,
             "#fdca26"
            ],
            [
             1,
             "#f0f921"
            ]
           ]
          },
          "colorway": [
           "#636efa",
           "#EF553B",
           "#00cc96",
           "#ab63fa",
           "#FFA15A",
           "#19d3f3",
           "#FF6692",
           "#B6E880",
           "#FF97FF",
           "#FECB52"
          ],
          "font": {
           "color": "#2a3f5f"
          },
          "geo": {
           "bgcolor": "white",
           "lakecolor": "white",
           "landcolor": "#E5ECF6",
           "showlakes": true,
           "showland": true,
           "subunitcolor": "white"
          },
          "hoverlabel": {
           "align": "left"
          },
          "hovermode": "closest",
          "mapbox": {
           "style": "light"
          },
          "paper_bgcolor": "white",
          "plot_bgcolor": "#E5ECF6",
          "polar": {
           "angularaxis": {
            "gridcolor": "white",
            "linecolor": "white",
            "ticks": ""
           },
           "bgcolor": "#E5ECF6",
           "radialaxis": {
            "gridcolor": "white",
            "linecolor": "white",
            "ticks": ""
           }
          },
          "scene": {
           "xaxis": {
            "backgroundcolor": "#E5ECF6",
            "gridcolor": "white",
            "gridwidth": 2,
            "linecolor": "white",
            "showbackground": true,
            "ticks": "",
            "zerolinecolor": "white"
           },
           "yaxis": {
            "backgroundcolor": "#E5ECF6",
            "gridcolor": "white",
            "gridwidth": 2,
            "linecolor": "white",
            "showbackground": true,
            "ticks": "",
            "zerolinecolor": "white"
           },
           "zaxis": {
            "backgroundcolor": "#E5ECF6",
            "gridcolor": "white",
            "gridwidth": 2,
            "linecolor": "white",
            "showbackground": true,
            "ticks": "",
            "zerolinecolor": "white"
           }
          },
          "shapedefaults": {
           "line": {
            "color": "#2a3f5f"
           }
          },
          "ternary": {
           "aaxis": {
            "gridcolor": "white",
            "linecolor": "white",
            "ticks": ""
           },
           "baxis": {
            "gridcolor": "white",
            "linecolor": "white",
            "ticks": ""
           },
           "bgcolor": "#E5ECF6",
           "caxis": {
            "gridcolor": "white",
            "linecolor": "white",
            "ticks": ""
           }
          },
          "title": {
           "x": 0.05
          },
          "xaxis": {
           "automargin": true,
           "gridcolor": "white",
           "linecolor": "white",
           "ticks": "",
           "title": {
            "standoff": 15
           },
           "zerolinecolor": "white",
           "zerolinewidth": 2
          },
          "yaxis": {
           "automargin": true,
           "gridcolor": "white",
           "linecolor": "white",
           "ticks": "",
           "title": {
            "standoff": 15
           },
           "zerolinecolor": "white",
           "zerolinewidth": 2
          }
         }
        },
        "title": {
         "text": "US Borders, total inbound persons since 1996<br>(Click legend to toggle traces)"
        }
       }
      },
      "text/html": [
       "<div>\n",
       "        \n",
       "        \n",
       "            <div id=\"0869691b-ec11-4858-b287-761397192d37\" class=\"plotly-graph-div\" style=\"height:525px; width:100%;\"></div>\n",
       "            <script type=\"text/javascript\">\n",
       "                require([\"plotly\"], function(Plotly) {\n",
       "                    window.PLOTLYENV=window.PLOTLYENV || {};\n",
       "                    \n",
       "                if (document.getElementById(\"0869691b-ec11-4858-b287-761397192d37\")) {\n",
       "                    Plotly.newPlot(\n",
       "                        '0869691b-ec11-4858-b287-761397192d37',\n",
       "                        [{\"lat\": [\"44.911752\", \"48.999904\", \"25.9140256\", \"26.0922991\", \"26.3530256\", \"26.3827771\", \"26.4070669\", \"27.5199841\", \"28.7091433\", \"29.1921092\", \"29.3627296\", \"29.9883766\", \"31.3402134\", \"31.342529\", \"31.46223\", \"31.471341\", \"31.4887016\", \"31.7600372\", \"31.8303365\", \"31.8559384\", \"31.8819798\", \"32.4934395\", \"32.54831535\", \"32.5520013\", \"32.560058\", \"32.5833711\", \"32.6753413\", \"32.6790572\", \"32.7248173\", \"35.9128415\", \"42.3315509\", \"42.9815877\", \"43.0761171\", \"43.6610277\", \"44.125494\", \"44.336127\", \"44.3864565\", \"44.694285\", \"44.881314\", \"44.928106\", \"44.979486\", \"44.982541\", \"44.9953505\", \"45.00042985\", \"45.008759\", \"45.0094923\", \"45.189032\", \"45.5634002\", \"45.6239358\", \"46.1251286\", \"46.427919\", \"46.490586\", \"46.7698261\", \"46.9034922\", \"46.908998\", \"47.0070211\", \"47.157506\", \"47.258728\", \"47.355571\", \"47.963776\", \"48.118146\", \"48.4346971\", \"48.4736934\", \"48.5020123\", \"48.5342662\", \"48.7124408\", \"48.7530787\", \"48.7710371\", \"48.792086\", \"48.813057\", \"48.8456288\", \"48.857088\", \"48.8582488\", \"48.8636212\", \"48.8764172\", \"48.888919\", \"48.8908464\", \"48.8956798\", \"48.905266\", \"48.9083386\", \"48.909464\", \"48.9107543\", \"48.923328\", \"48.9376147\", \"48.9444517\", \"48.94584\", \"48.9466041\", \"48.9521858\", \"48.9539222\", \"48.9600187\", \"48.9670097\", \"48.9708532\", \"48.9716708\", \"48.9779945\", \"48.9831558\", \"48.9853824\", \"48.9861027\", \"48.9881108\", \"48.9923978\", \"48.9933527\", \"48.9950874\", \"48.9958637\", \"48.9970672\", \"48.9975828\", \"48.9982855\", \"48.998612\", \"48.9987931\", \"48.998839\", \"48.9991329\", \"48.9996344\", \"55.3430696\", \"59.6226362\", \"62.66607\", \"nternational Falls\", \"leasant Camp\"], \"locationmode\": \"USA-states\", \"lon\": [\"-66.985965\", \"-116.180196\", \"-97.4890856\", \"-97.9572242\", \"-98.216445\", \"-98.8205251\", \"-99.0055462\", \"-99.4953764\", \"-100.4995214\", \"-102.9485706\", \"-100.896761\", \"-104.2336552\", \"-110.9360818\", \"-109.936355674705\", \"-109.59394273101\", \"-106.151947\", \"-111.5420505\", \"-106.487287\", \"-107.6385256\", \"-106.6391577\", \"-112.8153361\", \"-114.7737551\", \"-116.974398450271\", \"-117.0430813\", \"-116.9361338\", \"-116.6285217\", \"-115.3887997\", \"-115.498703\", \"-114.7248614\", \"-96.8039141\", \"-83.0466403\", \"-82.440466\", \"-78.9928794\", \"-70.2548596\", \"-76.3304640631677\", \"-75.917931\", \"-68.2118570811003\", \"-75.486374\", \"-74.2656165\", \"-74.892082\", \"-73.1054065\", \"-73.377564\", \"-72.6731285931857\", \"-72.1064356198873\", \"-71.5067925\", \"-71.7961053\", \"-67.2781424\", \"-67.429721\", \"-70.2545117\", \"-67.8407944\", \"-67.844009\", \"-84.359269\", \"-67.8345688\", \"-96.7971257256983\", \"-67.826157\", \"-112.4546302\", \"-67.935333\", \"-68.589706\", \"-68.321915\", \"-89.6848121\", \"-123.4307413\", \"-112.6945072\", \"-118.4834362\", \"-122.6237356\", \"-123.0171242\", \"-94.600171\", \"-97.5532833\", \"-95.7697882\", \"-105.419948\", \"-100.060968\", \"-108.4048141\", \"-106.407904\", \"-96.8045602\", \"-117.3718881\", \"-104.5802366\", \"-103.008794\", \"-100.5445928\", \"-105.163013\", \"-95.314404\", \"-111.2530312\", \"-101.020712\", \"-103.7752713\", \"-97.918148\", \"-119.4361687\", \"-99.7109743\", \"-98.995961\", \"-122.4569315\", \"-99.3807545\", \"-103.4826921\", \"-101.632661\", \"-119.6407335\", \"-101.2823803\", \"-98.6917884\", \"-95.9428151\", \"-117.6371945\", \"-123.077974\", \"-97.5548\", \"-122.7435757\", \"-118.5080824\", \"-107.8323167\", \"-122.269080593315\", \"-102.5496127\", \"-111.9625745\", \"-112.788762\", \"-116.4979886\", \"-98.3648321\", \"-118.2241779\", \"-97.204893\", \"-115.0565577\", \"-117.8310975\", \"-131.6466819\", \"-135.4094368\", \"-141.141890269798\", \"Koochiching County, Minnesota, United State\", \"Skagway, Unorganized Borough, Alaska, United State\"], \"marker\": {\"color\": \"crimson\", \"line\": {\"color\": \"rgb(20,20,20)\", \"width\": 0.5}, \"size\": [8.359844, 10.449358, 738.291532, 170.706308, 812.18567, 80.42433, 136.796068, 870.23939, 357.07261, 0.11188, 187.473706, 78.983142, 615.779562, 41.404294, 236.997368, 57.79658, 3.262672, 1626.810752, 50.684586, 42.17857, 51.695134, 390.975136, 4.689396, 1641.507174, 586.626348, 126.760944, 295.793376, 802.927222, 120.74263, 1.033048, 552.920844, 198.815428, 706.920938, 1.580476, 0.459208, 75.216032, 0.37968, 30.242434, 16.848452, 98.105344, 50.5235, 142.093434, 11.16497, 62.41633, 6.994516, 6.210878, 97.556548, 4.272158, 16.741054, 33.213508, 7.000202, 111.341924, 15.20834, 1.876676, 3.68212, 0.191742, 22.277134, 19.342898, 48.343494, 26.089162, 4.24013, 14.843998, 0.945016, 2.339466, 0.26535, 18.091218, 33.806294, 3.781128, 0.535982, 7.087368, 0.774324, 0.396062, 2.867422, 2.984852, 3.120566, 2.815836, 1.269254, 0.212604, 12.687522, 0.074938, 1.087006, 1.196736, 3.517938, 23.869818, 2.188794, 0.552006, 60.8169, 1.099146, 0.278092, 1.623308, 0.709416, 1.038846, 0.375318, 0.542302, 4.137794, 75.762716, 4.04542, 367.894092, 4.635972, 0.633984, 86.338434, 10.223978, 27.887546, 2.518648, 11.863708, 1.278936, 4.801696, 1.839198, 13.018704, 4.234568, 0.234996, 14.082432, 5.635924, 49.121096, 1.884704], \"sizemode\": \"area\"}, \"text\": [\"Eastport_MA<br>Crossings: 4.179922 million\", \"Eastport_ID<br>Crossings: 5.224679 million\", \"Brownsville<br>Crossings: 369.145766 million\", \"Progreso<br>Crossings: 85.353154 million\", \"Hidalgo<br>Crossings: 406.092835 million\", \"Rio Grande City<br>Crossings: 40.212165 million\", \"Roma<br>Crossings: 68.398034 million\", \"Laredo<br>Crossings: 435.119695 million\", \"Eagle Pass<br>Crossings: 178.536305 million\", \"Boquillas<br>Crossings: 0.05594 million\", \"Del Rio<br>Crossings: 93.736853 million\", \"Presidio<br>Crossings: 39.491571 million\", \"Nogales<br>Crossings: 307.889781 million\", \"Naco<br>Crossings: 20.702147 million\", \"Douglas<br>Crossings: 118.498684 million\", \"Tornillo-Fabens<br>Crossings: 28.89829 million\", \"Sasabe<br>Crossings: 1.631336 million\", \"El Paso<br>Crossings: 813.405376 million\", \"Columbus<br>Crossings: 25.342293 million\", \"Santa Teresa<br>Crossings: 21.089285 million\", \"Lukeville<br>Crossings: 25.847567 million\", \"San Luis<br>Crossings: 195.487568 million\", \"Cross Border Xpress<br>Crossings: 2.344698 million\", \"San Ysidro<br>Crossings: 820.753587 million\", \"Otay Mesa<br>Crossings: 293.313174 million\", \"Tecate<br>Crossings: 63.380472 million\", \"Calexico East<br>Crossings: 147.896688 million\", \"Calexico<br>Crossings: 401.463611 million\", \"Andrade<br>Crossings: 60.371315 million\", \"Wildhorse<br>Crossings: 0.516524 million\", \"Detroit<br>Crossings: 276.460422 million\", \"Port Huron<br>Crossings: 99.407714 million\", \"Buffalo-Niagara Falls<br>Crossings: 353.460469 million\", \"Portland<br>Crossings: 0.790238 million\", \"Cape Vincent<br>Crossings: 0.229604 million\", \"Alexandria Bay<br>Crossings: 37.608016 million\", \"Bar Harbor<br>Crossings: 0.18984 million\", \"Ogdensburg<br>Crossings: 15.121217 million\", \"Trout River<br>Crossings: 8.424226 million\", \"Massena<br>Crossings: 49.052672 million\", \"Highgate Springs-Alburg<br>Crossings: 25.26175 million\", \"Champlain-Rouses Point<br>Crossings: 71.046717 million\", \"Richford<br>Crossings: 5.582485 million\", \"Derby Line<br>Crossings: 31.208165 million\", \"Beecher Falls<br>Crossings: 3.497258 million\", \"Norton<br>Crossings: 3.105439 million\", \"Calais<br>Crossings: 48.778274 million\", \"Vanceboro<br>Crossings: 2.136079 million\", \"Jackman<br>Crossings: 8.370527 million\", \"Houlton<br>Crossings: 16.606754 million\", \"Bridgewater<br>Crossings: 3.500101 million\", \"Sault Sainte Marie<br>Crossings: 55.670962 million\", \"Fort Fairfield<br>Crossings: 7.60417 million\", \"Northgate<br>Crossings: 0.938338 million\", \"Limestone<br>Crossings: 1.84106 million\", \"Willow Creek<br>Crossings: 0.095871 million\", \"Van Buren<br>Crossings: 11.138567 million\", \"Fort Kent<br>Crossings: 9.671449 million\", \"Madawaska<br>Crossings: 24.171747 million\", \"Grand Portage<br>Crossings: 13.044581 million\", \"Port Angeles<br>Crossings: 2.120065 million\", \"Piegan<br>Crossings: 7.421999 million\", \"Ferry<br>Crossings: 0.472508 million\", \"Anacortes<br>Crossings: 1.169733 million\", \"Friday Harbor<br>Crossings: 0.132675 million\", \"Baudette<br>Crossings: 9.045609 million\", \"Pembina<br>Crossings: 16.903147 million\", \"Roseau<br>Crossings: 1.890564 million\", \"Scobey<br>Crossings: 0.267991 million\", \"Dunseith<br>Crossings: 3.543684 million\", \"Turner<br>Crossings: 0.387162 million\", \"Opheim<br>Crossings: 0.198031 million\", \"Lancaster<br>Crossings: 1.433711 million\", \"Metaline Falls<br>Crossings: 1.492426 million\", \"Raymond<br>Crossings: 1.560283 million\", \"Noonan<br>Crossings: 1.407918 million\", \"Carbury<br>Crossings: 0.634627 million\", \"Whitetail<br>Crossings: 0.106302 million\", \"Warroad<br>Crossings: 6.343761 million\", \"Whitlash<br>Crossings: 0.037469 million\", \"Westhope<br>Crossings: 0.543503 million\", \"Fortuna<br>Crossings: 0.598368 million\", \"Walhalla<br>Crossings: 1.758969 million\", \"Oroville<br>Crossings: 11.934909 million\", \"St. John<br>Crossings: 1.094397 million\", \"Sarles<br>Crossings: 0.276003 million\", \"Lynden<br>Crossings: 30.40845 million\", \"Hansboro<br>Crossings: 0.549573 million\", \"Ambrose<br>Crossings: 0.139046 million\", \"Sherwood<br>Crossings: 0.811654 million\", \"Nighthawk<br>Crossings: 0.354708 million\", \"Antler<br>Crossings: 0.519423 million\", \"Hannah<br>Crossings: 0.187659 million\", \"Pinecreek<br>Crossings: 0.271151 million\", \"Boundary<br>Crossings: 2.068897 million\", \"Point Roberts<br>Crossings: 37.881358 million\", \"Neche<br>Crossings: 2.02271 million\", \"Blaine<br>Crossings: 183.947046 million\", \"Danville<br>Crossings: 2.317986 million\", \"Morgan<br>Crossings: 0.316992 million\", \"Sumas<br>Crossings: 43.169217 million\", \"Portal<br>Crossings: 5.111989 million\", \"Sweetgrass<br>Crossings: 13.943773 million\", \"Del Bonita<br>Crossings: 1.259324 million\", \"Porthill<br>Crossings: 5.931854 million\", \"Maida<br>Crossings: 0.639468 million\", \"Laurier<br>Crossings: 2.400848 million\", \"Noyes<br>Crossings: 0.919599 million\", \"Roosville<br>Crossings: 6.509352 million\", \"Frontier<br>Crossings: 2.117284 million\", \"Ketchikan<br>Crossings: 0.117498 million\", \"Skagway<br>Crossings: 7.041216 million\", \"Alcan<br>Crossings: 2.817962 million\", \"International Falls-Ranier<br>Crossings: 24.560548 million\", \"Dalton Cache<br>Crossings: 0.942352 million\"], \"type\": \"scattergeo\"}],\n",
       "                        {\"geo\": {\"landcolor\": \"rgb(217, 217, 217)\", \"scope\": \"usa\"}, \"showlegend\": false, \"template\": {\"data\": {\"bar\": [{\"error_x\": {\"color\": \"#2a3f5f\"}, \"error_y\": {\"color\": \"#2a3f5f\"}, \"marker\": {\"line\": {\"color\": \"#E5ECF6\", \"width\": 0.5}}, \"type\": \"bar\"}], \"barpolar\": [{\"marker\": {\"line\": {\"color\": \"#E5ECF6\", \"width\": 0.5}}, \"type\": \"barpolar\"}], \"carpet\": [{\"aaxis\": {\"endlinecolor\": \"#2a3f5f\", \"gridcolor\": \"white\", \"linecolor\": \"white\", \"minorgridcolor\": \"white\", \"startlinecolor\": \"#2a3f5f\"}, \"baxis\": {\"endlinecolor\": \"#2a3f5f\", \"gridcolor\": \"white\", \"linecolor\": \"white\", \"minorgridcolor\": \"white\", \"startlinecolor\": \"#2a3f5f\"}, \"type\": \"carpet\"}], \"choropleth\": [{\"colorbar\": {\"outlinewidth\": 0, \"ticks\": \"\"}, \"type\": \"choropleth\"}], \"contour\": [{\"colorbar\": {\"outlinewidth\": 0, \"ticks\": \"\"}, \"colorscale\": [[0.0, \"#0d0887\"], [0.1111111111111111, \"#46039f\"], [0.2222222222222222, \"#7201a8\"], [0.3333333333333333, \"#9c179e\"], [0.4444444444444444, \"#bd3786\"], [0.5555555555555556, \"#d8576b\"], [0.6666666666666666, \"#ed7953\"], [0.7777777777777778, \"#fb9f3a\"], [0.8888888888888888, \"#fdca26\"], [1.0, \"#f0f921\"]], \"type\": \"contour\"}], \"contourcarpet\": [{\"colorbar\": {\"outlinewidth\": 0, \"ticks\": \"\"}, \"type\": \"contourcarpet\"}], \"heatmap\": [{\"colorbar\": {\"outlinewidth\": 0, \"ticks\": \"\"}, \"colorscale\": [[0.0, \"#0d0887\"], [0.1111111111111111, \"#46039f\"], [0.2222222222222222, \"#7201a8\"], [0.3333333333333333, \"#9c179e\"], [0.4444444444444444, \"#bd3786\"], [0.5555555555555556, \"#d8576b\"], [0.6666666666666666, \"#ed7953\"], [0.7777777777777778, \"#fb9f3a\"], [0.8888888888888888, \"#fdca26\"], [1.0, \"#f0f921\"]], \"type\": \"heatmap\"}], \"heatmapgl\": [{\"colorbar\": {\"outlinewidth\": 0, \"ticks\": \"\"}, \"colorscale\": [[0.0, \"#0d0887\"], [0.1111111111111111, \"#46039f\"], [0.2222222222222222, \"#7201a8\"], [0.3333333333333333, \"#9c179e\"], [0.4444444444444444, \"#bd3786\"], [0.5555555555555556, \"#d8576b\"], [0.6666666666666666, \"#ed7953\"], [0.7777777777777778, \"#fb9f3a\"], [0.8888888888888888, \"#fdca26\"], [1.0, \"#f0f921\"]], \"type\": \"heatmapgl\"}], \"histogram\": [{\"marker\": {\"colorbar\": {\"outlinewidth\": 0, \"ticks\": \"\"}}, \"type\": \"histogram\"}], \"histogram2d\": [{\"colorbar\": {\"outlinewidth\": 0, \"ticks\": \"\"}, \"colorscale\": [[0.0, \"#0d0887\"], [0.1111111111111111, \"#46039f\"], [0.2222222222222222, \"#7201a8\"], [0.3333333333333333, \"#9c179e\"], [0.4444444444444444, \"#bd3786\"], [0.5555555555555556, \"#d8576b\"], [0.6666666666666666, \"#ed7953\"], [0.7777777777777778, \"#fb9f3a\"], [0.8888888888888888, \"#fdca26\"], [1.0, \"#f0f921\"]], \"type\": \"histogram2d\"}], \"histogram2dcontour\": [{\"colorbar\": {\"outlinewidth\": 0, \"ticks\": \"\"}, \"colorscale\": [[0.0, \"#0d0887\"], [0.1111111111111111, \"#46039f\"], [0.2222222222222222, \"#7201a8\"], [0.3333333333333333, \"#9c179e\"], [0.4444444444444444, \"#bd3786\"], [0.5555555555555556, \"#d8576b\"], [0.6666666666666666, \"#ed7953\"], [0.7777777777777778, \"#fb9f3a\"], [0.8888888888888888, \"#fdca26\"], [1.0, \"#f0f921\"]], \"type\": \"histogram2dcontour\"}], \"mesh3d\": [{\"colorbar\": {\"outlinewidth\": 0, \"ticks\": \"\"}, \"type\": \"mesh3d\"}], \"parcoords\": [{\"line\": {\"colorbar\": {\"outlinewidth\": 0, \"ticks\": \"\"}}, \"type\": \"parcoords\"}], \"pie\": [{\"automargin\": true, \"type\": \"pie\"}], \"scatter\": [{\"marker\": {\"colorbar\": {\"outlinewidth\": 0, \"ticks\": \"\"}}, \"type\": \"scatter\"}], \"scatter3d\": [{\"line\": {\"colorbar\": {\"outlinewidth\": 0, \"ticks\": \"\"}}, \"marker\": {\"colorbar\": {\"outlinewidth\": 0, \"ticks\": \"\"}}, \"type\": \"scatter3d\"}], \"scattercarpet\": [{\"marker\": {\"colorbar\": {\"outlinewidth\": 0, \"ticks\": \"\"}}, \"type\": \"scattercarpet\"}], \"scattergeo\": [{\"marker\": {\"colorbar\": {\"outlinewidth\": 0, \"ticks\": \"\"}}, \"type\": \"scattergeo\"}], \"scattergl\": [{\"marker\": {\"colorbar\": {\"outlinewidth\": 0, \"ticks\": \"\"}}, \"type\": \"scattergl\"}], \"scattermapbox\": [{\"marker\": {\"colorbar\": {\"outlinewidth\": 0, \"ticks\": \"\"}}, \"type\": \"scattermapbox\"}], \"scatterpolar\": [{\"marker\": {\"colorbar\": {\"outlinewidth\": 0, \"ticks\": \"\"}}, \"type\": \"scatterpolar\"}], \"scatterpolargl\": [{\"marker\": {\"colorbar\": {\"outlinewidth\": 0, \"ticks\": \"\"}}, \"type\": \"scatterpolargl\"}], \"scatterternary\": [{\"marker\": {\"colorbar\": {\"outlinewidth\": 0, \"ticks\": \"\"}}, \"type\": \"scatterternary\"}], \"surface\": [{\"colorbar\": {\"outlinewidth\": 0, \"ticks\": \"\"}, \"colorscale\": [[0.0, \"#0d0887\"], [0.1111111111111111, \"#46039f\"], [0.2222222222222222, \"#7201a8\"], [0.3333333333333333, \"#9c179e\"], [0.4444444444444444, \"#bd3786\"], [0.5555555555555556, \"#d8576b\"], [0.6666666666666666, \"#ed7953\"], [0.7777777777777778, \"#fb9f3a\"], [0.8888888888888888, \"#fdca26\"], [1.0, \"#f0f921\"]], \"type\": \"surface\"}], \"table\": [{\"cells\": {\"fill\": {\"color\": \"#EBF0F8\"}, \"line\": {\"color\": \"white\"}}, \"header\": {\"fill\": {\"color\": \"#C8D4E3\"}, \"line\": {\"color\": \"white\"}}, \"type\": \"table\"}]}, \"layout\": {\"annotationdefaults\": {\"arrowcolor\": \"#2a3f5f\", \"arrowhead\": 0, \"arrowwidth\": 1}, \"coloraxis\": {\"colorbar\": {\"outlinewidth\": 0, \"ticks\": \"\"}}, \"colorscale\": {\"diverging\": [[0, \"#8e0152\"], [0.1, \"#c51b7d\"], [0.2, \"#de77ae\"], [0.3, \"#f1b6da\"], [0.4, \"#fde0ef\"], [0.5, \"#f7f7f7\"], [0.6, \"#e6f5d0\"], [0.7, \"#b8e186\"], [0.8, \"#7fbc41\"], [0.9, \"#4d9221\"], [1, \"#276419\"]], \"sequential\": [[0.0, \"#0d0887\"], [0.1111111111111111, \"#46039f\"], [0.2222222222222222, \"#7201a8\"], [0.3333333333333333, \"#9c179e\"], [0.4444444444444444, \"#bd3786\"], [0.5555555555555556, \"#d8576b\"], [0.6666666666666666, \"#ed7953\"], [0.7777777777777778, \"#fb9f3a\"], [0.8888888888888888, \"#fdca26\"], [1.0, \"#f0f921\"]], \"sequentialminus\": [[0.0, \"#0d0887\"], [0.1111111111111111, \"#46039f\"], [0.2222222222222222, \"#7201a8\"], [0.3333333333333333, \"#9c179e\"], [0.4444444444444444, \"#bd3786\"], [0.5555555555555556, \"#d8576b\"], [0.6666666666666666, \"#ed7953\"], [0.7777777777777778, \"#fb9f3a\"], [0.8888888888888888, \"#fdca26\"], [1.0, \"#f0f921\"]]}, \"colorway\": [\"#636efa\", \"#EF553B\", \"#00cc96\", \"#ab63fa\", \"#FFA15A\", \"#19d3f3\", \"#FF6692\", \"#B6E880\", \"#FF97FF\", \"#FECB52\"], \"font\": {\"color\": \"#2a3f5f\"}, \"geo\": {\"bgcolor\": \"white\", \"lakecolor\": \"white\", \"landcolor\": \"#E5ECF6\", \"showlakes\": true, \"showland\": true, \"subunitcolor\": \"white\"}, \"hoverlabel\": {\"align\": \"left\"}, \"hovermode\": \"closest\", \"mapbox\": {\"style\": \"light\"}, \"paper_bgcolor\": \"white\", \"plot_bgcolor\": \"#E5ECF6\", \"polar\": {\"angularaxis\": {\"gridcolor\": \"white\", \"linecolor\": \"white\", \"ticks\": \"\"}, \"bgcolor\": \"#E5ECF6\", \"radialaxis\": {\"gridcolor\": \"white\", \"linecolor\": \"white\", \"ticks\": \"\"}}, \"scene\": {\"xaxis\": {\"backgroundcolor\": \"#E5ECF6\", \"gridcolor\": \"white\", \"gridwidth\": 2, \"linecolor\": \"white\", \"showbackground\": true, \"ticks\": \"\", \"zerolinecolor\": \"white\"}, \"yaxis\": {\"backgroundcolor\": \"#E5ECF6\", \"gridcolor\": \"white\", \"gridwidth\": 2, \"linecolor\": \"white\", \"showbackground\": true, \"ticks\": \"\", \"zerolinecolor\": \"white\"}, \"zaxis\": {\"backgroundcolor\": \"#E5ECF6\", \"gridcolor\": \"white\", \"gridwidth\": 2, \"linecolor\": \"white\", \"showbackground\": true, \"ticks\": \"\", \"zerolinecolor\": \"white\"}}, \"shapedefaults\": {\"line\": {\"color\": \"#2a3f5f\"}}, \"ternary\": {\"aaxis\": {\"gridcolor\": \"white\", \"linecolor\": \"white\", \"ticks\": \"\"}, \"baxis\": {\"gridcolor\": \"white\", \"linecolor\": \"white\", \"ticks\": \"\"}, \"bgcolor\": \"#E5ECF6\", \"caxis\": {\"gridcolor\": \"white\", \"linecolor\": \"white\", \"ticks\": \"\"}}, \"title\": {\"x\": 0.05}, \"xaxis\": {\"automargin\": true, \"gridcolor\": \"white\", \"linecolor\": \"white\", \"ticks\": \"\", \"title\": {\"standoff\": 15}, \"zerolinecolor\": \"white\", \"zerolinewidth\": 2}, \"yaxis\": {\"automargin\": true, \"gridcolor\": \"white\", \"linecolor\": \"white\", \"ticks\": \"\", \"title\": {\"standoff\": 15}, \"zerolinecolor\": \"white\", \"zerolinewidth\": 2}}}, \"title\": {\"text\": \"US Borders, total inbound persons since 1996<br>(Click legend to toggle traces)\"}},\n",
       "                        {\"responsive\": true}\n",
       "                    ).then(function(){\n",
       "                            \n",
       "var gd = document.getElementById('0869691b-ec11-4858-b287-761397192d37');\n",
       "var x = new MutationObserver(function (mutations, observer) {{\n",
       "        var display = window.getComputedStyle(gd).display;\n",
       "        if (!display || display === 'none') {{\n",
       "            console.log([gd, 'removed!']);\n",
       "            Plotly.purge(gd);\n",
       "            observer.disconnect();\n",
       "        }}\n",
       "}});\n",
       "\n",
       "// Listen for the removal of the full notebook cells\n",
       "var notebookContainer = gd.closest('#notebook-container');\n",
       "if (notebookContainer) {{\n",
       "    x.observe(notebookContainer, {childList: true});\n",
       "}}\n",
       "\n",
       "// Listen for the clearing of the current output cell\n",
       "var outputEl = gd.closest('.output');\n",
       "if (outputEl) {{\n",
       "    x.observe(outputEl, {childList: true});\n",
       "}}\n",
       "\n",
       "                        })\n",
       "                };\n",
       "                });\n",
       "            </script>\n",
       "        </div>"
      ]
     },
     "metadata": {},
     "output_type": "display_data"
    }
   ],
   "source": [
    "plotMap(interestings)"
   ]
  },
  {
   "cell_type": "code",
   "execution_count": null,
   "metadata": {},
   "outputs": [],
   "source": []
  }
 ],
 "metadata": {
  "kernelspec": {
   "display_name": "Python 3",
   "language": "python",
   "name": "python3"
  },
  "language_info": {
   "codemirror_mode": {
    "name": "ipython",
    "version": 3
   },
   "file_extension": ".py",
   "mimetype": "text/x-python",
   "name": "python",
   "nbconvert_exporter": "python",
   "pygments_lexer": "ipython3",
   "version": "3.7.3"
  }
 },
 "nbformat": 4,
 "nbformat_minor": 2
}
