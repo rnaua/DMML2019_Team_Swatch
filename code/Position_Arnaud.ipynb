{
  "cells": [
    {
      "cell_type": "markdown",
      "source": [
        "<a href=\"https://colab.research.google.com/github/rnaua/DMML2019_Team_Swatch/blob/master/EDA.ipynb\" target=\"_parent\"><img src=\"https://colab.research.google.com/assets/colab-badge.svg\" alt=\"Open In Colab\"/></a>"
      ],
      "metadata": {
        "colab_type": "text",
        "id": "view-in-github"
      }
    },
    {
      "cell_type": "code",
      "source": [
        "from geopy.geocoders import Nominatim"
      ],
      "outputs": [],
      "execution_count": 9,
      "metadata": {}
    },
    {
      "cell_type": "code",
      "source": [
        "import pandas as pd"
      ],
      "outputs": [],
      "execution_count": 10,
      "metadata": {
        "colab": {},
        "colab_type": "code",
        "id": "uF5qzdvufHU3"
      }
    },
    {
      "cell_type": "code",
      "source": [
        "data = pd.read_csv(\"../data/Border_Crossing_Entry_Data.zip\")"
      ],
      "outputs": [],
      "execution_count": 11,
      "metadata": {}
    },
    {
      "cell_type": "code",
      "source": [
        "data.head()"
      ],
      "outputs": [
        {
          "output_type": "execute_result",
          "execution_count": 12,
          "data": {
            "text/html": [
              "<div>\n",
              "<style scoped>\n",
              "    .dataframe tbody tr th:only-of-type {\n",
              "        vertical-align: middle;\n",
              "    }\n",
              "\n",
              "    .dataframe tbody tr th {\n",
              "        vertical-align: top;\n",
              "    }\n",
              "\n",
              "    .dataframe thead th {\n",
              "        text-align: right;\n",
              "    }\n",
              "</style>\n",
              "<table border=\"1\" class=\"dataframe\">\n",
              "  <thead>\n",
              "    <tr style=\"text-align: right;\">\n",
              "      <th></th>\n",
              "      <th>Port Name</th>\n",
              "      <th>State</th>\n",
              "      <th>Port Code</th>\n",
              "      <th>Border</th>\n",
              "      <th>Date</th>\n",
              "      <th>Measure</th>\n",
              "      <th>Value</th>\n",
              "    </tr>\n",
              "  </thead>\n",
              "  <tbody>\n",
              "    <tr>\n",
              "      <th>0</th>\n",
              "      <td>Warroad</td>\n",
              "      <td>Minnesota</td>\n",
              "      <td>3423</td>\n",
              "      <td>US-Canada Border</td>\n",
              "      <td>06/01/2019 12:00:00 AM</td>\n",
              "      <td>Truck Containers Full</td>\n",
              "      <td>133</td>\n",
              "    </tr>\n",
              "    <tr>\n",
              "      <th>1</th>\n",
              "      <td>Warroad</td>\n",
              "      <td>Minnesota</td>\n",
              "      <td>3423</td>\n",
              "      <td>US-Canada Border</td>\n",
              "      <td>06/01/2019 12:00:00 AM</td>\n",
              "      <td>Truck Containers Empty</td>\n",
              "      <td>298</td>\n",
              "    </tr>\n",
              "    <tr>\n",
              "      <th>2</th>\n",
              "      <td>Warroad</td>\n",
              "      <td>Minnesota</td>\n",
              "      <td>3423</td>\n",
              "      <td>US-Canada Border</td>\n",
              "      <td>06/01/2019 12:00:00 AM</td>\n",
              "      <td>Personal Vehicles</td>\n",
              "      <td>10383</td>\n",
              "    </tr>\n",
              "    <tr>\n",
              "      <th>3</th>\n",
              "      <td>Warroad</td>\n",
              "      <td>Minnesota</td>\n",
              "      <td>3423</td>\n",
              "      <td>US-Canada Border</td>\n",
              "      <td>06/01/2019 12:00:00 AM</td>\n",
              "      <td>Personal Vehicle Passengers</td>\n",
              "      <td>19459</td>\n",
              "    </tr>\n",
              "    <tr>\n",
              "      <th>4</th>\n",
              "      <td>Warroad</td>\n",
              "      <td>Minnesota</td>\n",
              "      <td>3423</td>\n",
              "      <td>US-Canada Border</td>\n",
              "      <td>06/01/2019 12:00:00 AM</td>\n",
              "      <td>Pedestrians</td>\n",
              "      <td>2</td>\n",
              "    </tr>\n",
              "  </tbody>\n",
              "</table>\n",
              "</div>"
            ],
            "text/plain": [
              "  Port Name      State  Port Code            Border                    Date  \\\n",
              "0   Warroad  Minnesota       3423  US-Canada Border  06/01/2019 12:00:00 AM   \n",
              "1   Warroad  Minnesota       3423  US-Canada Border  06/01/2019 12:00:00 AM   \n",
              "2   Warroad  Minnesota       3423  US-Canada Border  06/01/2019 12:00:00 AM   \n",
              "3   Warroad  Minnesota       3423  US-Canada Border  06/01/2019 12:00:00 AM   \n",
              "4   Warroad  Minnesota       3423  US-Canada Border  06/01/2019 12:00:00 AM   \n",
              "\n",
              "                       Measure  Value  \n",
              "0        Truck Containers Full    133  \n",
              "1       Truck Containers Empty    298  \n",
              "2            Personal Vehicles  10383  \n",
              "3  Personal Vehicle Passengers  19459  \n",
              "4                  Pedestrians      2  "
            ]
          },
          "metadata": {}
        }
      ],
      "execution_count": 12,
      "metadata": {}
    },
    {
      "cell_type": "markdown",
      "source": [
        "We'll add a new column with coordoonates of the ports. These coordoonates will allow to plot the port on a map."
      ],
      "metadata": {}
    },
    {
      "cell_type": "markdown",
      "source": [
        "We create a new locator with geopy"
      ],
      "metadata": {}
    },
    {
      "cell_type": "code",
      "source": [
        "locator = Nominatim(user_agent=\"myGeocoder\")"
      ],
      "outputs": [],
      "execution_count": 13,
      "metadata": {}
    },
    {
      "cell_type": "code",
      "source": [
        "nom = Nominatim(user_agent=\"myGeocoder\",timeout=2)"
      ],
      "outputs": [],
      "execution_count": 14,
      "metadata": {}
    },
    {
      "cell_type": "markdown",
      "source": [
        "Create an array with all the names of the port\n",
        "and add \",USA\" at the end of every port names to make sure to find the one in the USA."
      ],
      "metadata": {}
    },
    {
      "cell_type": "code",
      "source": [
        "data['test'] = data['Port Name'] + \",\" + data['State']\n",
        "lieux = data['test'].map(lambda x : x).unique()\n",
        "lieux = lieux + \",USA\"\n",
        "lieux"
      ],
      "outputs": [
        {
          "output_type": "execute_result",
          "execution_count": 35,
          "data": {
            "text/plain": [
              "array(['Warroad,Minnesota,USA', 'Roseau,Minnesota,USA',\n",
              "       'Detroit,Michigan,USA', 'Del Rio,Texas,USA',\n",
              "       'Anacortes,Washington,USA', 'Sumas,Washington,USA',\n",
              "       'Port Angeles,Washington,USA', 'Point Roberts,Washington,USA',\n",
              "       'Oroville,Washington,USA', 'Nighthawk,Washington,USA',\n",
              "       'Metaline Falls,Washington,USA', 'Lynden,Washington,USA',\n",
              "       'Laurier,Washington,USA', 'Frontier,Washington,USA',\n",
              "       'Friday Harbor,Washington,USA', 'Ferry,Washington,USA',\n",
              "       'Danville,Washington,USA', 'Boundary,Washington,USA',\n",
              "       'Blaine,Washington,USA', 'Richford,Vermont,USA',\n",
              "       'Norton,Vermont,USA', 'Highgate Springs-Alburg,Vermont,USA',\n",
              "       'Derby Line,Vermont,USA', 'Beecher Falls,Vermont,USA',\n",
              "       'Tornillo-Fabens,Texas,USA', 'Roma,Texas,USA',\n",
              "       'Rio Grande City,Texas,USA', 'Progreso,Texas,USA',\n",
              "       'Presidio,Texas,USA', 'Laredo,Texas,USA', 'Hidalgo,Texas,USA',\n",
              "       'El Paso,Texas,USA', 'Eagle Pass,Texas,USA',\n",
              "       'Brownsville,Texas,USA', 'Boquillas,Texas,USA',\n",
              "       'Toledo-Sandusky,Ohio,USA', 'Trout River,New York,USA',\n",
              "       'Ogdensburg,New York,USA', 'Massena,New York,USA',\n",
              "       'Champlain-Rouses Point,New York,USA', 'Cape Vincent,New York,USA',\n",
              "       'Buffalo-Niagara Falls,New York,USA',\n",
              "       'Alexandria Bay,New York,USA', 'Santa Teresa,New Mexico,USA',\n",
              "       'Columbus,New Mexico,USA', 'Westhope,North Dakota,USA',\n",
              "       'Walhalla,North Dakota,USA', 'St. John,North Dakota,USA',\n",
              "       'Sherwood,North Dakota,USA', 'Sarles,North Dakota,USA',\n",
              "       'Portal,North Dakota,USA', 'Pembina,North Dakota,USA',\n",
              "       'Pinecreek,Minnesota,USA', 'Lancaster,Minnesota,USA',\n",
              "       'International Falls-Ranier,Minnesota,USA',\n",
              "       'Grand Portage,Minnesota,USA', 'Alcan,Alaska,USA',\n",
              "       'Dalton Cache,Alaska,USA', 'Ketchikan,Alaska,USA',\n",
              "       'Skagway,Alaska,USA', 'Douglas,Arizona,USA',\n",
              "       'Lukeville,Arizona,USA', 'Naco,Arizona,USA', 'Nogales,Arizona,USA',\n",
              "       'San Luis,Arizona,USA', 'Sasabe,Arizona,USA',\n",
              "       'Andrade,California,USA', 'Calexico,California,USA',\n",
              "       'Calexico East,California,USA',\n",
              "       'Cross Border Xpress,California,USA', 'Otay Mesa,California,USA',\n",
              "       'San Ysidro,California,USA', 'Tecate,California,USA',\n",
              "       'Eastport,Idaho,USA', 'Porthill,Idaho,USA',\n",
              "       'Bridgewater,Maine,USA', 'Calais,Maine,USA', 'Eastport,Maine,USA',\n",
              "       'Fort Fairfield,Maine,USA', 'Fort Kent,Maine,USA',\n",
              "       'Houlton,Maine,USA', 'Jackman,Maine,USA', 'Limestone,Maine,USA',\n",
              "       'Madawaska,Maine,USA', 'Van Buren,Maine,USA',\n",
              "       'Vanceboro,Maine,USA', 'Algonac,Michigan,USA',\n",
              "       'Port Huron,Michigan,USA', 'Sault Sainte Marie,Michigan,USA',\n",
              "       'Baudette,Minnesota,USA', 'Northgate,North Dakota,USA',\n",
              "       'Noonan,North Dakota,USA', 'Neche,North Dakota,USA',\n",
              "       'Maida,North Dakota,USA', 'Hansboro,North Dakota,USA',\n",
              "       'Hannah,North Dakota,USA', 'Fortuna,North Dakota,USA',\n",
              "       'Dunseith,North Dakota,USA', 'Carbury,North Dakota,USA',\n",
              "       'Antler,North Dakota,USA', 'Ambrose,North Dakota,USA',\n",
              "       'Willow Creek,Montana,USA', 'Wildhorse,Montana,USA',\n",
              "       'Whitlash,Montana,USA', 'Turner,Montana,USA',\n",
              "       'Sweetgrass,Montana,USA', 'Scobey,Montana,USA',\n",
              "       'Roosville,Montana,USA', 'Raymond,Montana,USA',\n",
              "       'Piegan,Montana,USA', 'Opheim,Montana,USA', 'Morgan,Montana,USA',\n",
              "       'Del Bonita,Montana,USA', 'Portland,Maine,USA',\n",
              "       'Whitetail,Montana,USA', 'Bar Harbor,Maine,USA',\n",
              "       'Noyes,Minnesota,USA'], dtype=object)"
            ]
          },
          "metadata": {}
        }
      ],
      "execution_count": 35,
      "metadata": {}
    },
    {
      "cell_type": "markdown",
      "source": [
        "Find the geocode of every port and store them in a dictionnary."
      ],
      "metadata": {}
    },
    {
      "cell_type": "code",
      "source": [
        "coordoonates = {}\n",
        "\n",
        "def do_geocode(address):\n",
        "    try:\n",
        "        return nom.geocode(address)\n",
        "    except:\n",
        "        return do_geocode(address)\n",
        "    \n",
        "for lieu in lieux:\n",
        "    coordoonates[lieu] = do_geocode(lieu)\n",
        "    print(do_geocode(lieu))"
      ],
      "outputs": [
        {
          "output_type": "stream",
          "name": "stdout",
          "text": [
            "Warroad, Roseau County, Minnesota, United States\n",
            "Roseau County, Minnesota, United States of America\n",
            "Detroit, Wayne County, Michigan, United States of America\n",
            "Del Rio, Val Verde County, Texas, United States of America\n",
            "Anacortes, Skagit County, Washington, United States\n",
            "Sumas, Whatcom County, Washington, 98295, United States\n",
            "Port Angeles, Clallam County, Washington, 98362, United States of America\n",
            "Point Roberts, Whatcom County, Washington, 98281, United States\n",
            "Oroville, Okanogan County, Washington, United States\n",
            "Nighthawk, Okanogan County, Washington, United States\n",
            "Metaline Falls, Pend Oreille County, Washington, United States\n",
            "Lynden, Whatcom County, Washington, United States\n",
            "Laurier, Ferry County, Washington, 99146, United States\n",
            "Frontier, Stevens County, Washington, United States\n",
            "Friday Harbor, San Juan County, Washington, 98250, United States\n",
            "Ferry County, Washington, United States\n",
            "Danville, Ferry County, Washington, 99121, United States\n",
            "Boundary, Stevens County, Washington, United States\n",
            "Blaine, Whatcom County, Washington, United States of America\n",
            "Richford, Franklin County, Vermont, United States\n",
            "Norton, Essex County, Vermont, 05907, United States\n",
            "Highgate Springs, Franklin County, Vermont, 05460, United States\n",
            "Derby Line, Derby, Orleans County, Vermont, United States\n",
            "Beecher Falls, Essex County, Vermont, 05902, United States of America\n",
            "Island Tornillo Road, Sanchez Colonia, El Paso County, Texas, 79838, United States of America\n",
            "Roma, Starr County, Texas, United States\n",
            "Rio Grande City, Starr County, Texas, United States\n",
            "Progreso, Hidalgo County, Texas, 78579, United States\n",
            "Presidio County, Texas, United States\n",
            "Laredo, Webb County, Texas, United States of America\n",
            "Hidalgo County, Texas, United States\n",
            "El Paso, El Paso County, Texas, United States of America\n",
            "Eagle Pass, Maverick County, Texas, 78852, United States of America\n",
            "Brownsville, Cameron County, Texas, United States of America\n",
            "Boquillas Crossing, Rio Grande Village, Brewster County, Texas, United States\n",
            "Sandusky, Erie County, Ohio, 44870, United States of America\n",
            "Trout River, Franklin County, New York, 12926, United States\n",
            "Ogdensburg, Saint Lawrence County, New York, 13669-2208, United States of America\n",
            "Massena, Saint Lawrence County, New York, 13662, United States\n",
            "Champlain Street, Rouses Point, Clinton County, New York, 12979, United States\n",
            "Cape Vincent, Jefferson County, New York, United States\n",
            "Buffalo Avenue, Niagara Falls, Niagara County, New York, 14304, United States\n",
            "Alexandria Bay, Jefferson County, New York, United States\n",
            "Santa Teresa, Doña Ana County, New Mexico, 88008, United States\n",
            "Columbus, Luna County, New Mexico, 88029, United States\n",
            "Westhope, Bottineau County, North Dakota, United States\n",
            "Walhalla, Pembina County, North Dakota, United States\n",
            "St. John, Rolette County, North Dakota, United States\n",
            "Sherwood, Renville County, North Dakota, United States\n",
            "Sarles, Cavalier County, North Dakota, United States\n",
            "Portal, Burke County, North Dakota, United States\n",
            "Pembina County, North Dakota, United States\n",
            "Pinecreek, Roseau County, Minnesota, United States of America\n",
            "Lancaster, Kittson County, Minnesota, United States of America\n",
            "None\n",
            "Grand Portage, Cook County, Minnesota, 55605, United States\n",
            "Alcan Border, Unorganized Borough, Alaska, United States\n",
            "None\n",
            "Ketchikan, Ketchikan Gateway, Alaska, 99901, United States\n",
            "Skagway, Unorganized Borough, Alaska, 99840, United States\n",
            "Douglas, Cochise County, Arizona, United States\n",
            "Lukeville, Pima County, Arizona, United States of America\n",
            "Naco, International Road, Naco, Cochise County, Arizona, 85620, United States\n",
            "Nogales, Santa Cruz County, Arizona, 85621, United States\n",
            "San Luis, Yuma County, Arizona, United States\n",
            "Sasabe, Pima County, Arizona, 85633, United States\n",
            "Andrade, Imperial County, California, 93383, United States\n",
            "Calexico, Imperial County, California, 92231, United States\n",
            "Calexico East, 1699, CA 7, Imperial County, California, 92231, United States\n",
            "Cross Border Xpress, US Border Patrol Road;Johnson Road, Park Haven, San Ysidro, San Diego, San Diego County, California, 92173, United States of America\n",
            "Otay Mesa, San Diego, San Diego County, California, 92179, United States\n",
            "San Ysidro, San Diego, San Diego County, California, 92173, United States\n",
            "Tecate, San Diego County, California, 91980, United States\n",
            "Eastport, Boundary County, Idaho, 83826, United States\n",
            "Porthill, Boundary County, Idaho, 83853, United States\n",
            "Bridgewater, Aroostook County, Maine, United States\n",
            "Calais, Washington County, Maine, 04619, United States of America\n",
            "Eastport, Washington County, Maine, 04631, United States of America\n",
            "Fort Fairfield, Aroostook County, Maine, 04742, United States\n",
            "Fort Kent, Fort Kent Township, Aroostook County, Maine, 04743, United States\n",
            "Houlton, Aroostook County, Maine, 04730, United States\n",
            "Jackman, Somerset County, Maine, 04945, United States\n",
            "Limestone, Aroostook County, Maine, United States\n",
            "Madawaska, Madawaska Township, Aroostook County, Maine, 04756, United States\n",
            "Van Buren, Van Buren Township, Aroostook County, Maine, 04785, United States\n",
            "Vanceboro, Washington County, Maine, 04491, United States\n",
            "Algonac, Saint Clair County, Michigan, United States\n",
            "Port Huron, Saint Clair County, Michigan, 48060, United States of America\n",
            "Sault Ste. Marie, Chippewa County, Michigan, 49783-3602, United States\n",
            "Baudette, Lake of the Woods County, Minnesota, United States of America\n",
            "n, Northport, Fargo, Cass County, North Dakota, United States of America\n",
            "Noonan, Divide County, North Dakota, United States\n",
            "Neche, Pembina County, North Dakota, United States\n",
            "Maida, Cavalier County, North Dakota, United States\n",
            "Hansboro, Towner County, North Dakota, United States\n",
            "Hannah, Cavalier County, North Dakota, United States\n",
            "Fortuna, Divide County, North Dakota, United States\n",
            "Dunseith, Rolette County, North Dakota, United States\n",
            "Carbury, Bottineau County, North Dakota, United States\n",
            "Antler, Bottineau County, North Dakota, United States\n",
            "Ambrose, Divide County, North Dakota, United States\n",
            "Willow Creek, Lewis and Clark County, Montana, United States\n",
            "Wildhorse, Lincoln County, Oklahoma, United States\n",
            "Whitlash, Liberty County, Montana, 59545, United States\n",
            "Turner, Blaine County, Montana, 59542, United States\n",
            "Sweet Grass, Toole County, Montana, 59484, United States\n",
            "Scobey, Daniels County, Montana, 59263, United States\n",
            "Roosville, Lincoln County, Montana, United States\n",
            "Raymond, Sheridan County, Montana, 59256, United States\n",
            "Piegan, Glacier County, Montana, United States\n",
            "Opheim, Valley County, Montana, United States\n",
            "Morgan, Phillips County, Montana, United States\n",
            "Del Bonita, Glacier County, Montana, United States\n",
            "Portland, Cumberland County, Maine, United States of America\n",
            "Whitetail, Daniels County, Montana, 59276, United States\n",
            "Bar Harbor, Hancock County, Maine, United States of America\n",
            "Noyes, Kittson County, Minnesota, 56740, United States\n"
          ]
        }
      ],
      "execution_count": 36,
      "metadata": {
        "scrolled": true
      }
    },
    {
      "cell_type": "code",
      "source": [
        "print(coordoonates)"
      ],
      "outputs": [
        {
          "output_type": "stream",
          "name": "stdout",
          "text": [
            "{'Warroad,Minnesota,USA': Location(Warroad, Roseau County, Minnesota, United States, (48.905266, -95.314404, 0.0)), 'Roseau,Minnesota,USA': Location(Roseau County, Minnesota, United States of America, (48.7710371, -95.7697882, 0.0)), 'Detroit,Michigan,USA': Location(Detroit, Wayne County, Michigan, United States of America, (42.3315509, -83.0466403, 0.0)), 'Del Rio,Texas,USA': Location(Del Rio, Val Verde County, Texas, United States of America, (29.3627296, -100.896761, 0.0)), 'Anacortes,Washington,USA': Location(Anacortes, Skagit County, Washington, United States, (48.5020123, -122.6237356, 0.0)), 'Sumas,Washington,USA': Location(Sumas, Whatcom County, Washington, 98295, United States, (48.9950874, -122.269080593315, 0.0)), 'Port Angeles,Washington,USA': Location(Port Angeles, Clallam County, Washington, 98362, United States of America, (48.118146, -123.4307413, 0.0)), 'Point Roberts,Washington,USA': Location(Point Roberts, Whatcom County, Washington, 98281, United States, (48.9853824, -123.077974, 0.0)), 'Oroville,Washington,USA': Location(Oroville, Okanogan County, Washington, United States, (48.9376147, -119.4361687, 0.0)), 'Nighthawk,Washington,USA': Location(Nighthawk, Okanogan County, Washington, United States, (48.9670097, -119.6407335, 0.0)), 'Metaline Falls,Washington,USA': Location(Metaline Falls, Pend Oreille County, Washington, United States, (48.8636212, -117.3718881, 0.0)), 'Lynden,Washington,USA': Location(Lynden, Whatcom County, Washington, United States, (48.9466041, -122.4569315, 0.0)), 'Laurier,Washington,USA': Location(Laurier, Ferry County, Washington, 99146, United States, (48.9987931, -118.2241779, 0.0)), 'Frontier,Washington,USA': Location(Frontier, Stevens County, Washington, United States, (48.9996344, -117.8310975, 0.0)), 'Friday Harbor,Washington,USA': Location(Friday Harbor, San Juan County, Washington, 98250, United States, (48.5342662, -123.0171242, 0.0)), 'Ferry,Washington,USA': Location(Ferry County, Washington, United States, (48.4736934, -118.4834362, 0.0)), 'Danville,Washington,USA': Location(Danville, Ferry County, Washington, 99121, United States, (48.9923978, -118.5080824, 0.0)), 'Boundary,Washington,USA': Location(Boundary, Stevens County, Washington, United States, (48.9831558, -117.6371945, 0.0)), 'Blaine,Washington,USA': Location(Blaine, Whatcom County, Washington, United States of America, (48.9881108, -122.7435757, 0.0)), 'Richford,Vermont,USA': Location(Richford, Franklin County, Vermont, United States, (44.9953505, -72.6731285931857, 0.0)), 'Norton,Vermont,USA': Location(Norton, Essex County, Vermont, 05907, United States, (45.0094923, -71.7961053, 0.0)), 'Highgate Springs-Alburg,Vermont,USA': Location(Highgate Springs, Franklin County, Vermont, 05460, United States, (44.979486, -73.1054065, 0.0)), 'Derby Line,Vermont,USA': Location(Derby Line, Derby, Orleans County, Vermont, United States, (45.00042985, -72.1064356198873, 0.0)), 'Beecher Falls,Vermont,USA': Location(Beecher Falls, Essex County, Vermont, 05902, United States of America, (45.008759, -71.5067925, 0.0)), 'Tornillo-Fabens,Texas,USA': Location(Island Tornillo Road, Sanchez Colonia, El Paso County, Texas, 79838, United States of America, (31.471341, -106.151947, 0.0)), 'Roma,Texas,USA': Location(Roma, Starr County, Texas, United States, (26.4070669, -99.0055462, 0.0)), 'Rio Grande City,Texas,USA': Location(Rio Grande City, Starr County, Texas, United States, (26.3827771, -98.8205251, 0.0)), 'Progreso,Texas,USA': Location(Progreso, Hidalgo County, Texas, 78579, United States, (26.0922991, -97.9572242, 0.0)), 'Presidio,Texas,USA': Location(Presidio County, Texas, United States, (29.9883766, -104.2336552, 0.0)), 'Laredo,Texas,USA': Location(Laredo, Webb County, Texas, United States of America, (27.5199841, -99.4953764, 0.0)), 'Hidalgo,Texas,USA': Location(Hidalgo County, Texas, United States, (26.3530256, -98.216445, 0.0)), 'El Paso,Texas,USA': Location(El Paso, El Paso County, Texas, United States of America, (31.7600372, -106.487287, 0.0)), 'Eagle Pass,Texas,USA': Location(Eagle Pass, Maverick County, Texas, 78852, United States of America, (28.7091433, -100.4995214, 0.0)), 'Brownsville,Texas,USA': Location(Brownsville, Cameron County, Texas, United States of America, (25.9140256, -97.4890856, 0.0)), 'Boquillas,Texas,USA': Location(Boquillas Crossing, Rio Grande Village, Brewster County, Texas, United States, (29.1921092, -102.9485706, 0.0)), 'Toledo-Sandusky,Ohio,USA': Location(Sandusky, Erie County, Ohio, 44870, United States of America, (41.4489397, -82.7079605, 0.0)), 'Trout River,New York,USA': Location(Trout River, Franklin County, New York, 12926, United States, (44.881314, -74.2656165, 0.0)), 'Ogdensburg,New York,USA': Location(Ogdensburg, Saint Lawrence County, New York, 13669-2208, United States of America, (44.694285, -75.486374, 0.0)), 'Massena,New York,USA': Location(Massena, Saint Lawrence County, New York, 13662, United States, (44.928106, -74.892082, 0.0)), 'Champlain-Rouses Point,New York,USA': Location(Champlain Street, Rouses Point, Clinton County, New York, 12979, United States, (44.982541, -73.377564, 0.0)), 'Cape Vincent,New York,USA': Location(Cape Vincent, Jefferson County, New York, United States, (44.125494, -76.3304640631677, 0.0)), 'Buffalo-Niagara Falls,New York,USA': Location(Buffalo Avenue, Niagara Falls, Niagara County, New York, 14304, United States, (43.0761171, -78.9928794, 0.0)), 'Alexandria Bay,New York,USA': Location(Alexandria Bay, Jefferson County, New York, United States, (44.336127, -75.917931, 0.0)), 'Santa Teresa,New Mexico,USA': Location(Santa Teresa, Doña Ana County, New Mexico, 88008, United States, (31.8559384, -106.6391577, 0.0)), 'Columbus,New Mexico,USA': Location(Columbus, Luna County, New Mexico, 88029, United States, (31.8303365, -107.6385256, 0.0)), 'Westhope,North Dakota,USA': Location(Westhope, Bottineau County, North Dakota, United States, (48.909464, -101.020712, 0.0)), 'Walhalla,North Dakota,USA': Location(Walhalla, Pembina County, North Dakota, United States, (48.923328, -97.918148, 0.0)), 'St. John,North Dakota,USA': Location(St. John, Rolette County, North Dakota, United States, (48.9444517, -99.7109743, 0.0)), 'Sherwood,North Dakota,USA': Location(Sherwood, Renville County, North Dakota, United States, (48.9600187, -101.632661, 0.0)), 'Sarles,North Dakota,USA': Location(Sarles, Cavalier County, North Dakota, United States, (48.94584, -98.995961, 0.0)), 'Portal,North Dakota,USA': Location(Portal, Burke County, North Dakota, United States, (48.9958637, -102.5496127, 0.0)), 'Pembina,North Dakota,USA': Location(Pembina County, North Dakota, United States, (48.7530787, -97.5532833, 0.0)), 'Pinecreek,Minnesota,USA': Location(Pinecreek, Roseau County, Minnesota, United States of America, (48.9779945, -95.9428151, 0.0)), 'Lancaster,Minnesota,USA': Location(Lancaster, Kittson County, Minnesota, United States of America, (48.8582488, -96.8045602, 0.0)), 'International Falls-Ranier,Minnesota,USA': None, 'Grand Portage,Minnesota,USA': Location(Grand Portage, Cook County, Minnesota, 55605, United States, (47.963776, -89.6848121, 0.0)), 'Alcan,Alaska,USA': Location(Alcan Border, Unorganized Borough, Alaska, United States, (62.66607, -141.141890269798, 0.0)), 'Dalton Cache,Alaska,USA': None, 'Ketchikan,Alaska,USA': Location(Ketchikan, Ketchikan Gateway, Alaska, 99901, United States, (55.3430696, -131.6466819, 0.0)), 'Skagway,Alaska,USA': Location(Skagway, Unorganized Borough, Alaska, 99840, United States, (59.6226362, -135.4094368, 0.0)), 'Douglas,Arizona,USA': Location(Douglas, Cochise County, Arizona, United States, (31.46223, -109.59394273101, 0.0)), 'Lukeville,Arizona,USA': Location(Lukeville, Pima County, Arizona, United States of America, (31.8819798, -112.8153361, 0.0)), 'Naco,Arizona,USA': Location(Naco, International Road, Naco, Cochise County, Arizona, 85620, United States, (31.342529, -109.936355674705, 0.0)), 'Nogales,Arizona,USA': Location(Nogales, Santa Cruz County, Arizona, 85621, United States, (31.3402134, -110.9360818, 0.0)), 'San Luis,Arizona,USA': Location(San Luis, Yuma County, Arizona, United States, (32.4934395, -114.7737551, 0.0)), 'Sasabe,Arizona,USA': Location(Sasabe, Pima County, Arizona, 85633, United States, (31.4887016, -111.5420505, 0.0)), 'Andrade,California,USA': Location(Andrade, Imperial County, California, 93383, United States, (32.7248173, -114.7248614, 0.0)), 'Calexico,California,USA': Location(Calexico, Imperial County, California, 92231, United States, (32.6790572, -115.498703, 0.0)), 'Calexico East,California,USA': Location(Calexico East, 1699, CA 7, Imperial County, California, 92231, United States, (32.6753413, -115.3887997, 0.0)), 'Cross Border Xpress,California,USA': Location(Cross Border Xpress, US Border Patrol Road;Johnson Road, Park Haven, San Ysidro, San Diego, San Diego County, California, 92173, United States of America, (32.54831535, -116.974398450271, 0.0)), 'Otay Mesa,California,USA': Location(Otay Mesa, San Diego, San Diego County, California, 92179, United States, (32.560058, -116.9361338, 0.0)), 'San Ysidro,California,USA': Location(San Ysidro, San Diego, San Diego County, California, 92173, United States, (32.5520013, -117.0430813, 0.0)), 'Tecate,California,USA': Location(Tecate, San Diego County, California, 91980, United States, (32.5833711, -116.6285217, 0.0)), 'Eastport,Idaho,USA': Location(Eastport, Boundary County, Idaho, 83826, United States, (48.99982, -116.1813567, 0.0)), 'Porthill,Idaho,USA': Location(Porthill, Boundary County, Idaho, 83853, United States, (48.9982855, -116.4979886, 0.0)), 'Bridgewater,Maine,USA': Location(Bridgewater, Aroostook County, Maine, United States, (46.427919, -67.844009, 0.0)), 'Calais,Maine,USA': Location(Calais, Washington County, Maine, 04619, United States of America, (45.189032, -67.2781424, 0.0)), 'Eastport,Maine,USA': Location(Eastport, Washington County, Maine, 04631, United States of America, (44.906469, -66.990509, 0.0)), 'Fort Fairfield,Maine,USA': Location(Fort Fairfield, Aroostook County, Maine, 04742, United States, (46.7698261, -67.8345688, 0.0)), 'Fort Kent,Maine,USA': Location(Fort Kent, Fort Kent Township, Aroostook County, Maine, 04743, United States, (47.258728, -68.589706, 0.0)), 'Houlton,Maine,USA': Location(Houlton, Aroostook County, Maine, 04730, United States, (46.1251286, -67.8407944, 0.0)), 'Jackman,Maine,USA': Location(Jackman, Somerset County, Maine, 04945, United States, (45.6239358, -70.2545117, 0.0)), 'Limestone,Maine,USA': Location(Limestone, Aroostook County, Maine, United States, (46.908998, -67.826157, 0.0)), 'Madawaska,Maine,USA': Location(Madawaska, Madawaska Township, Aroostook County, Maine, 04756, United States, (47.355571, -68.321915, 0.0)), 'Van Buren,Maine,USA': Location(Van Buren, Van Buren Township, Aroostook County, Maine, 04785, United States, (47.157506, -67.935333, 0.0)), 'Vanceboro,Maine,USA': Location(Vanceboro, Washington County, Maine, 04491, United States, (45.5634002, -67.429721, 0.0)), 'Algonac,Michigan,USA': Location(Algonac, Saint Clair County, Michigan, United States, (42.6183675, -82.531018, 0.0)), 'Port Huron,Michigan,USA': Location(Port Huron, Saint Clair County, Michigan, 48060, United States of America, (42.9815877, -82.440466, 0.0)), 'Sault Sainte Marie,Michigan,USA': Location(Sault Ste. Marie, Chippewa County, Michigan, 49783-3602, United States, (46.490586, -84.359269, 0.0)), 'Baudette,Minnesota,USA': Location(Baudette, Lake of the Woods County, Minnesota, United States of America, (48.7124408, -94.600171, 0.0)), 'Northgate,North Dakota,USA': Location(n, Northport, Fargo, Cass County, North Dakota, United States of America, (46.9034922, -96.7971257256983, 0.0)), 'Noonan,North Dakota,USA': Location(Noonan, Divide County, North Dakota, United States, (48.888919, -103.008794, 0.0)), 'Neche,North Dakota,USA': Location(Neche, Pembina County, North Dakota, United States, (48.9861027, -97.5548, 0.0)), 'Maida,North Dakota,USA': Location(Maida, Cavalier County, North Dakota, United States, (48.998612, -98.3648321, 0.0)), 'Hansboro,North Dakota,USA': Location(Hansboro, Towner County, North Dakota, United States, (48.9521858, -99.3807545, 0.0)), 'Hannah,North Dakota,USA': Location(Hannah, Cavalier County, North Dakota, United States, (48.9716708, -98.6917884, 0.0)), 'Fortuna,North Dakota,USA': Location(Fortuna, Divide County, North Dakota, United States, (48.9107543, -103.7752713, 0.0)), 'Dunseith,North Dakota,USA': Location(Dunseith, Rolette County, North Dakota, United States, (48.813057, -100.060968, 0.0)), 'Carbury,North Dakota,USA': Location(Carbury, Bottineau County, North Dakota, United States, (48.8908464, -100.5445928, 0.0)), 'Antler,North Dakota,USA': Location(Antler, Bottineau County, North Dakota, United States, (48.9708532, -101.2823803, 0.0)), 'Ambrose,North Dakota,USA': Location(Ambrose, Divide County, North Dakota, United States, (48.9539222, -103.4826921, 0.0)), 'Willow Creek,Montana,USA': Location(Willow Creek, Lewis and Clark County, Montana, United States, (47.0070211, -112.4546302, 0.0)), 'Wildhorse,Montana,USA': Location(Wildhorse, Lincoln County, Oklahoma, United States, (35.9128415, -96.8039141, 0.0)), 'Whitlash,Montana,USA': Location(Whitlash, Liberty County, Montana, 59545, United States, (48.9083386, -111.2530312, 0.0)), 'Turner,Montana,USA': Location(Turner, Blaine County, Montana, 59542, United States, (48.8456288, -108.4048141, 0.0)), 'Sweetgrass,Montana,USA': Location(Sweet Grass, Toole County, Montana, 59484, United States, (48.9970672, -111.9625745, 0.0)), 'Scobey,Montana,USA': Location(Scobey, Daniels County, Montana, 59263, United States, (48.792086, -105.419948, 0.0)), 'Roosville,Montana,USA': Location(Roosville, Lincoln County, Montana, United States, (48.9991329, -115.0565577, 0.0)), 'Raymond,Montana,USA': Location(Raymond, Sheridan County, Montana, 59256, United States, (48.8764172, -104.5802366, 0.0)), 'Piegan,Montana,USA': Location(Piegan, Glacier County, Montana, United States, (48.4346971, -112.6945072, 0.0)), 'Opheim,Montana,USA': Location(Opheim, Valley County, Montana, United States, (48.857088, -106.407904, 0.0)), 'Morgan,Montana,USA': Location(Morgan, Phillips County, Montana, United States, (48.9933527, -107.8323167, 0.0)), 'Del Bonita,Montana,USA': Location(Del Bonita, Glacier County, Montana, United States, (48.9975828, -112.788762, 0.0)), 'Portland,Maine,USA': Location(Portland, Cumberland County, Maine, United States of America, (43.6610277, -70.2548596, 0.0)), 'Whitetail,Montana,USA': Location(Whitetail, Daniels County, Montana, 59276, United States, (48.8956798, -105.163013, 0.0)), 'Bar Harbor,Maine,USA': Location(Bar Harbor, Hancock County, Maine, United States of America, (44.3864565, -68.2118570811003, 0.0)), 'Noyes,Minnesota,USA': Location(Noyes, Kittson County, Minnesota, 56740, United States, (48.998839, -97.204893, 0.0))}\n"
          ]
        }
      ],
      "execution_count": 37,
      "metadata": {}
    },
    {
      "cell_type": "markdown",
      "source": [
        "Compute a new dictionnary with the exact name of the port (whitout USA at the end) and the coordoonates."
      ],
      "metadata": {}
    },
    {
      "cell_type": "code",
      "source": [
        "portAndCoordoonates = {}\n",
        "for key in coordoonates:\n",
        "    k = key.split(',', 1)[0]\n",
        "    \n",
        "    if coordoonates[key] is None:\n",
        "        portAndCoordoonates[k] = None\n",
        "    else:\n",
        "        portAndCoordoonates[k] = (coordoonates[key].latitude,coordoonates[key].longitude)\n",
        "print(portAndCoordoonates)"
      ],
      "outputs": [
        {
          "output_type": "stream",
          "name": "stdout",
          "text": [
            "{'Warroad': (48.905266, -95.314404), 'Roseau': (48.7710371, -95.7697882), 'Detroit': (42.3315509, -83.0466403), 'Del Rio': (29.3627296, -100.896761), 'Anacortes': (48.5020123, -122.6237356), 'Sumas': (48.9950874, -122.269080593315), 'Port Angeles': (48.118146, -123.4307413), 'Point Roberts': (48.9853824, -123.077974), 'Oroville': (48.9376147, -119.4361687), 'Nighthawk': (48.9670097, -119.6407335), 'Metaline Falls': (48.8636212, -117.3718881), 'Lynden': (48.9466041, -122.4569315), 'Laurier': (48.9987931, -118.2241779), 'Frontier': (48.9996344, -117.8310975), 'Friday Harbor': (48.5342662, -123.0171242), 'Ferry': (48.4736934, -118.4834362), 'Danville': (48.9923978, -118.5080824), 'Boundary': (48.9831558, -117.6371945), 'Blaine': (48.9881108, -122.7435757), 'Richford': (44.9953505, -72.6731285931857), 'Norton': (45.0094923, -71.7961053), 'Highgate Springs-Alburg': (44.979486, -73.1054065), 'Derby Line': (45.00042985, -72.1064356198873), 'Beecher Falls': (45.008759, -71.5067925), 'Tornillo-Fabens': (31.471341, -106.151947), 'Roma': (26.4070669, -99.0055462), 'Rio Grande City': (26.3827771, -98.8205251), 'Progreso': (26.0922991, -97.9572242), 'Presidio': (29.9883766, -104.2336552), 'Laredo': (27.5199841, -99.4953764), 'Hidalgo': (26.3530256, -98.216445), 'El Paso': (31.7600372, -106.487287), 'Eagle Pass': (28.7091433, -100.4995214), 'Brownsville': (25.9140256, -97.4890856), 'Boquillas': (29.1921092, -102.9485706), 'Toledo-Sandusky': (41.4489397, -82.7079605), 'Trout River': (44.881314, -74.2656165), 'Ogdensburg': (44.694285, -75.486374), 'Massena': (44.928106, -74.892082), 'Champlain-Rouses Point': (44.982541, -73.377564), 'Cape Vincent': (44.125494, -76.3304640631677), 'Buffalo-Niagara Falls': (43.0761171, -78.9928794), 'Alexandria Bay': (44.336127, -75.917931), 'Santa Teresa': (31.8559384, -106.6391577), 'Columbus': (31.8303365, -107.6385256), 'Westhope': (48.909464, -101.020712), 'Walhalla': (48.923328, -97.918148), 'St. John': (48.9444517, -99.7109743), 'Sherwood': (48.9600187, -101.632661), 'Sarles': (48.94584, -98.995961), 'Portal': (48.9958637, -102.5496127), 'Pembina': (48.7530787, -97.5532833), 'Pinecreek': (48.9779945, -95.9428151), 'Lancaster': (48.8582488, -96.8045602), 'International Falls-Ranier': None, 'Grand Portage': (47.963776, -89.6848121), 'Alcan': (62.66607, -141.141890269798), 'Dalton Cache': None, 'Ketchikan': (55.3430696, -131.6466819), 'Skagway': (59.6226362, -135.4094368), 'Douglas': (31.46223, -109.59394273101), 'Lukeville': (31.8819798, -112.8153361), 'Naco': (31.342529, -109.936355674705), 'Nogales': (31.3402134, -110.9360818), 'San Luis': (32.4934395, -114.7737551), 'Sasabe': (31.4887016, -111.5420505), 'Andrade': (32.7248173, -114.7248614), 'Calexico': (32.6790572, -115.498703), 'Calexico East': (32.6753413, -115.3887997), 'Cross Border Xpress': (32.54831535, -116.974398450271), 'Otay Mesa': (32.560058, -116.9361338), 'San Ysidro': (32.5520013, -117.0430813), 'Tecate': (32.5833711, -116.6285217), 'Eastport': (44.906469, -66.990509), 'Porthill': (48.9982855, -116.4979886), 'Bridgewater': (46.427919, -67.844009), 'Calais': (45.189032, -67.2781424), 'Fort Fairfield': (46.7698261, -67.8345688), 'Fort Kent': (47.258728, -68.589706), 'Houlton': (46.1251286, -67.8407944), 'Jackman': (45.6239358, -70.2545117), 'Limestone': (46.908998, -67.826157), 'Madawaska': (47.355571, -68.321915), 'Van Buren': (47.157506, -67.935333), 'Vanceboro': (45.5634002, -67.429721), 'Algonac': (42.6183675, -82.531018), 'Port Huron': (42.9815877, -82.440466), 'Sault Sainte Marie': (46.490586, -84.359269), 'Baudette': (48.7124408, -94.600171), 'Northgate': (46.9034922, -96.7971257256983), 'Noonan': (48.888919, -103.008794), 'Neche': (48.9861027, -97.5548), 'Maida': (48.998612, -98.3648321), 'Hansboro': (48.9521858, -99.3807545), 'Hannah': (48.9716708, -98.6917884), 'Fortuna': (48.9107543, -103.7752713), 'Dunseith': (48.813057, -100.060968), 'Carbury': (48.8908464, -100.5445928), 'Antler': (48.9708532, -101.2823803), 'Ambrose': (48.9539222, -103.4826921), 'Willow Creek': (47.0070211, -112.4546302), 'Wildhorse': (35.9128415, -96.8039141), 'Whitlash': (48.9083386, -111.2530312), 'Turner': (48.8456288, -108.4048141), 'Sweetgrass': (48.9970672, -111.9625745), 'Scobey': (48.792086, -105.419948), 'Roosville': (48.9991329, -115.0565577), 'Raymond': (48.8764172, -104.5802366), 'Piegan': (48.4346971, -112.6945072), 'Opheim': (48.857088, -106.407904), 'Morgan': (48.9933527, -107.8323167), 'Del Bonita': (48.9975828, -112.788762), 'Portland': (43.6610277, -70.2548596), 'Whitetail': (48.8956798, -105.163013), 'Bar Harbor': (44.3864565, -68.2118570811003), 'Noyes': (48.998839, -97.204893)}\n"
          ]
        }
      ],
      "execution_count": 43,
      "metadata": {}
    },
    {
      "cell_type": "markdown",
      "source": [
        "Check missing values in the ports coordoonates"
      ],
      "metadata": {}
    },
    {
      "cell_type": "code",
      "source": [
        "missings = []\n",
        "for key in portAndCoordoonates:\n",
        "    if portAndCoordoonates[key] is None:\n",
        "        missings.append(key)\n",
        "print(missings)"
      ],
      "outputs": [
        {
          "output_type": "stream",
          "name": "stdout",
          "text": [
            "['International Falls-Ranier', 'Dalton Cache']\n"
          ]
        }
      ],
      "execution_count": 44,
      "metadata": {
        "scrolled": false
      }
    },
    {
      "cell_type": "markdown",
      "source": [
        "We see that these 5 ports have no coordoonates. We'll add them manually."
      ],
      "metadata": {}
    },
    {
      "cell_type": "code",
      "source": [
        "\n",
        "portAndCoordoonates['International Falls-Ranier'] = do_geocode(\"International Falls,USA\")\n",
        "portAndCoordoonates['Dalton Cache'] = do_geocode(\"Pleasant Camp\")\n",
        "\n",
        "print(portAndCoordoonates)"
      ],
      "outputs": [
        {
          "output_type": "stream",
          "name": "stdout",
          "text": [
            "{'Warroad': (48.905266, -95.314404), 'Roseau': (48.7710371, -95.7697882), 'Detroit': (42.3315509, -83.0466403), 'Del Rio': (29.3627296, -100.896761), 'Anacortes': (48.5020123, -122.6237356), 'Sumas': (48.9950874, -122.269080593315), 'Port Angeles': (48.118146, -123.4307413), 'Point Roberts': (48.9853824, -123.077974), 'Oroville': (48.9376147, -119.4361687), 'Nighthawk': (48.9670097, -119.6407335), 'Metaline Falls': (48.8636212, -117.3718881), 'Lynden': (48.9466041, -122.4569315), 'Laurier': (48.9987931, -118.2241779), 'Frontier': (48.9996344, -117.8310975), 'Friday Harbor': (48.5342662, -123.0171242), 'Ferry': (48.4736934, -118.4834362), 'Danville': (48.9923978, -118.5080824), 'Boundary': (48.9831558, -117.6371945), 'Blaine': (48.9881108, -122.7435757), 'Richford': (44.9953505, -72.6731285931857), 'Norton': (45.0094923, -71.7961053), 'Highgate Springs-Alburg': (44.979486, -73.1054065), 'Derby Line': (45.00042985, -72.1064356198873), 'Beecher Falls': (45.008759, -71.5067925), 'Tornillo-Fabens': (31.471341, -106.151947), 'Roma': (26.4070669, -99.0055462), 'Rio Grande City': (26.3827771, -98.8205251), 'Progreso': (26.0922991, -97.9572242), 'Presidio': (29.9883766, -104.2336552), 'Laredo': (27.5199841, -99.4953764), 'Hidalgo': (26.3530256, -98.216445), 'El Paso': (31.7600372, -106.487287), 'Eagle Pass': (28.7091433, -100.4995214), 'Brownsville': (25.9140256, -97.4890856), 'Boquillas': (29.1921092, -102.9485706), 'Toledo-Sandusky': (41.4489397, -82.7079605), 'Trout River': (44.881314, -74.2656165), 'Ogdensburg': (44.694285, -75.486374), 'Massena': (44.928106, -74.892082), 'Champlain-Rouses Point': (44.982541, -73.377564), 'Cape Vincent': (44.125494, -76.3304640631677), 'Buffalo-Niagara Falls': (43.0761171, -78.9928794), 'Alexandria Bay': (44.336127, -75.917931), 'Santa Teresa': (31.8559384, -106.6391577), 'Columbus': (31.8303365, -107.6385256), 'Westhope': (48.909464, -101.020712), 'Walhalla': (48.923328, -97.918148), 'St. John': (48.9444517, -99.7109743), 'Sherwood': (48.9600187, -101.632661), 'Sarles': (48.94584, -98.995961), 'Portal': (48.9958637, -102.5496127), 'Pembina': (48.7530787, -97.5532833), 'Pinecreek': (48.9779945, -95.9428151), 'Lancaster': (48.8582488, -96.8045602), 'International Falls-Ranier': Location(International Falls, Koochiching County, Minnesota, United States, (48.601049, -93.410982, 0.0)), 'Grand Portage': (47.963776, -89.6848121), 'Alcan': (62.66607, -141.141890269798), 'Dalton Cache': Location(Pleasant Camp, Skagway, Unorganized Borough, Alaska, United States, (59.6353807, -135.3000451, 0.0)), 'Ketchikan': (55.3430696, -131.6466819), 'Skagway': (59.6226362, -135.4094368), 'Douglas': (31.46223, -109.59394273101), 'Lukeville': (31.8819798, -112.8153361), 'Naco': (31.342529, -109.936355674705), 'Nogales': (31.3402134, -110.9360818), 'San Luis': (32.4934395, -114.7737551), 'Sasabe': (31.4887016, -111.5420505), 'Andrade': (32.7248173, -114.7248614), 'Calexico': (32.6790572, -115.498703), 'Calexico East': (32.6753413, -115.3887997), 'Cross Border Xpress': (32.54831535, -116.974398450271), 'Otay Mesa': (32.560058, -116.9361338), 'San Ysidro': (32.5520013, -117.0430813), 'Tecate': (32.5833711, -116.6285217), 'Eastport': (44.906469, -66.990509), 'Porthill': (48.9982855, -116.4979886), 'Bridgewater': (46.427919, -67.844009), 'Calais': (45.189032, -67.2781424), 'Fort Fairfield': (46.7698261, -67.8345688), 'Fort Kent': (47.258728, -68.589706), 'Houlton': (46.1251286, -67.8407944), 'Jackman': (45.6239358, -70.2545117), 'Limestone': (46.908998, -67.826157), 'Madawaska': (47.355571, -68.321915), 'Van Buren': (47.157506, -67.935333), 'Vanceboro': (45.5634002, -67.429721), 'Algonac': (42.6183675, -82.531018), 'Port Huron': (42.9815877, -82.440466), 'Sault Sainte Marie': (46.490586, -84.359269), 'Baudette': (48.7124408, -94.600171), 'Northgate': (46.9034922, -96.7971257256983), 'Noonan': (48.888919, -103.008794), 'Neche': (48.9861027, -97.5548), 'Maida': (48.998612, -98.3648321), 'Hansboro': (48.9521858, -99.3807545), 'Hannah': (48.9716708, -98.6917884), 'Fortuna': (48.9107543, -103.7752713), 'Dunseith': (48.813057, -100.060968), 'Carbury': (48.8908464, -100.5445928), 'Antler': (48.9708532, -101.2823803), 'Ambrose': (48.9539222, -103.4826921), 'Willow Creek': (47.0070211, -112.4546302), 'Wildhorse': (35.9128415, -96.8039141), 'Whitlash': (48.9083386, -111.2530312), 'Turner': (48.8456288, -108.4048141), 'Sweetgrass': (48.9970672, -111.9625745), 'Scobey': (48.792086, -105.419948), 'Roosville': (48.9991329, -115.0565577), 'Raymond': (48.8764172, -104.5802366), 'Piegan': (48.4346971, -112.6945072), 'Opheim': (48.857088, -106.407904), 'Morgan': (48.9933527, -107.8323167), 'Del Bonita': (48.9975828, -112.788762), 'Portland': (43.6610277, -70.2548596), 'Whitetail': (48.8956798, -105.163013), 'Bar Harbor': (44.3864565, -68.2118570811003), 'Noyes': (48.998839, -97.204893)}\n"
          ]
        }
      ],
      "execution_count": 45,
      "metadata": {}
    },
    {
      "cell_type": "markdown",
      "source": [
        "Add the Coordoonates to the data as a new column"
      ],
      "metadata": {}
    },
    {
      "cell_type": "code",
      "source": [
        "data[\"position\"] = data['Port Name'].apply(lambda loc:portAndCoordoonates[loc])"
      ],
      "outputs": [],
      "execution_count": 46,
      "metadata": {}
    },
    {
      "cell_type": "code",
      "source": [
        "data.head()"
      ],
      "outputs": [
        {
          "output_type": "execute_result",
          "execution_count": 47,
          "data": {
            "text/html": [
              "<div>\n",
              "<style scoped>\n",
              "    .dataframe tbody tr th:only-of-type {\n",
              "        vertical-align: middle;\n",
              "    }\n",
              "\n",
              "    .dataframe tbody tr th {\n",
              "        vertical-align: top;\n",
              "    }\n",
              "\n",
              "    .dataframe thead th {\n",
              "        text-align: right;\n",
              "    }\n",
              "</style>\n",
              "<table border=\"1\" class=\"dataframe\">\n",
              "  <thead>\n",
              "    <tr style=\"text-align: right;\">\n",
              "      <th></th>\n",
              "      <th>Port Name</th>\n",
              "      <th>State</th>\n",
              "      <th>Port Code</th>\n",
              "      <th>Border</th>\n",
              "      <th>Date</th>\n",
              "      <th>Measure</th>\n",
              "      <th>Value</th>\n",
              "      <th>test</th>\n",
              "      <th>position</th>\n",
              "    </tr>\n",
              "  </thead>\n",
              "  <tbody>\n",
              "    <tr>\n",
              "      <th>0</th>\n",
              "      <td>Warroad</td>\n",
              "      <td>Minnesota</td>\n",
              "      <td>3423</td>\n",
              "      <td>US-Canada Border</td>\n",
              "      <td>06/01/2019 12:00:00 AM</td>\n",
              "      <td>Truck Containers Full</td>\n",
              "      <td>133</td>\n",
              "      <td>Warroad,Minnesota</td>\n",
              "      <td>(48.905266, -95.314404)</td>\n",
              "    </tr>\n",
              "    <tr>\n",
              "      <th>1</th>\n",
              "      <td>Warroad</td>\n",
              "      <td>Minnesota</td>\n",
              "      <td>3423</td>\n",
              "      <td>US-Canada Border</td>\n",
              "      <td>06/01/2019 12:00:00 AM</td>\n",
              "      <td>Truck Containers Empty</td>\n",
              "      <td>298</td>\n",
              "      <td>Warroad,Minnesota</td>\n",
              "      <td>(48.905266, -95.314404)</td>\n",
              "    </tr>\n",
              "    <tr>\n",
              "      <th>2</th>\n",
              "      <td>Warroad</td>\n",
              "      <td>Minnesota</td>\n",
              "      <td>3423</td>\n",
              "      <td>US-Canada Border</td>\n",
              "      <td>06/01/2019 12:00:00 AM</td>\n",
              "      <td>Personal Vehicles</td>\n",
              "      <td>10383</td>\n",
              "      <td>Warroad,Minnesota</td>\n",
              "      <td>(48.905266, -95.314404)</td>\n",
              "    </tr>\n",
              "    <tr>\n",
              "      <th>3</th>\n",
              "      <td>Warroad</td>\n",
              "      <td>Minnesota</td>\n",
              "      <td>3423</td>\n",
              "      <td>US-Canada Border</td>\n",
              "      <td>06/01/2019 12:00:00 AM</td>\n",
              "      <td>Personal Vehicle Passengers</td>\n",
              "      <td>19459</td>\n",
              "      <td>Warroad,Minnesota</td>\n",
              "      <td>(48.905266, -95.314404)</td>\n",
              "    </tr>\n",
              "    <tr>\n",
              "      <th>4</th>\n",
              "      <td>Warroad</td>\n",
              "      <td>Minnesota</td>\n",
              "      <td>3423</td>\n",
              "      <td>US-Canada Border</td>\n",
              "      <td>06/01/2019 12:00:00 AM</td>\n",
              "      <td>Pedestrians</td>\n",
              "      <td>2</td>\n",
              "      <td>Warroad,Minnesota</td>\n",
              "      <td>(48.905266, -95.314404)</td>\n",
              "    </tr>\n",
              "  </tbody>\n",
              "</table>\n",
              "</div>"
            ],
            "text/plain": [
              "  Port Name      State  Port Code            Border                    Date  \\\n",
              "0   Warroad  Minnesota       3423  US-Canada Border  06/01/2019 12:00:00 AM   \n",
              "1   Warroad  Minnesota       3423  US-Canada Border  06/01/2019 12:00:00 AM   \n",
              "2   Warroad  Minnesota       3423  US-Canada Border  06/01/2019 12:00:00 AM   \n",
              "3   Warroad  Minnesota       3423  US-Canada Border  06/01/2019 12:00:00 AM   \n",
              "4   Warroad  Minnesota       3423  US-Canada Border  06/01/2019 12:00:00 AM   \n",
              "\n",
              "                       Measure  Value               test  \\\n",
              "0        Truck Containers Full    133  Warroad,Minnesota   \n",
              "1       Truck Containers Empty    298  Warroad,Minnesota   \n",
              "2            Personal Vehicles  10383  Warroad,Minnesota   \n",
              "3  Personal Vehicle Passengers  19459  Warroad,Minnesota   \n",
              "4                  Pedestrians      2  Warroad,Minnesota   \n",
              "\n",
              "                  position  \n",
              "0  (48.905266, -95.314404)  \n",
              "1  (48.905266, -95.314404)  \n",
              "2  (48.905266, -95.314404)  \n",
              "3  (48.905266, -95.314404)  \n",
              "4  (48.905266, -95.314404)  "
            ]
          },
          "metadata": {}
        }
      ],
      "execution_count": 47,
      "metadata": {}
    },
    {
      "cell_type": "markdown",
      "source": [
        "Check if data are still missing"
      ],
      "metadata": {}
    },
    {
      "cell_type": "code",
      "source": [
        "data.isnull().sum()"
      ],
      "outputs": [
        {
          "output_type": "execute_result",
          "execution_count": 48,
          "data": {
            "text/plain": [
              "Port Name    0\n",
              "State        0\n",
              "Port Code    0\n",
              "Border       0\n",
              "Date         0\n",
              "Measure      0\n",
              "Value        0\n",
              "test         0\n",
              "position     0\n",
              "dtype: int64"
            ]
          },
          "metadata": {}
        }
      ],
      "execution_count": 48,
      "metadata": {}
    },
    {
      "cell_type": "markdown",
      "source": [
        "Export the data with the position"
      ],
      "metadata": {}
    },
    {
      "cell_type": "code",
      "source": [
        "export_csv = data.to_csv ('/../data/data_with_position.csv', index = None, header=True) #Don't forget to add '.csv' at the end of the path"
      ],
      "outputs": [
        {
          "output_type": "error",
          "ename": "PermissionError",
          "evalue": "[Errno 13] Permission denied: '/../data/data_with_position.csv'",
          "traceback": [
            "\u001b[0;31m---------------------------------------------------------------------------\u001b[0m",
            "\u001b[0;31mPermissionError\u001b[0m                           Traceback (most recent call last)",
            "\u001b[0;32m<ipython-input-51-d26a3c161869>\u001b[0m in \u001b[0;36m<module>\u001b[0;34m\u001b[0m\n\u001b[0;32m----> 1\u001b[0;31m \u001b[0mexport_csv\u001b[0m \u001b[0;34m=\u001b[0m \u001b[0mdata\u001b[0m\u001b[0;34m.\u001b[0m\u001b[0mto_csv\u001b[0m \u001b[0;34m(\u001b[0m\u001b[0;34m'/../data/data_with_position.csv'\u001b[0m\u001b[0;34m,\u001b[0m \u001b[0mindex\u001b[0m \u001b[0;34m=\u001b[0m \u001b[0;32mNone\u001b[0m\u001b[0;34m,\u001b[0m \u001b[0mheader\u001b[0m\u001b[0;34m=\u001b[0m\u001b[0;32mTrue\u001b[0m\u001b[0;34m)\u001b[0m \u001b[0;31m#Don't forget to add '.csv' at the end of the path\u001b[0m\u001b[0;34m\u001b[0m\u001b[0;34m\u001b[0m\u001b[0m\n\u001b[0m",
            "\u001b[0;32m~/anaconda3/lib/python3.7/site-packages/pandas/core/generic.py\u001b[0m in \u001b[0;36mto_csv\u001b[0;34m(self, path_or_buf, sep, na_rep, float_format, columns, header, index, index_label, mode, encoding, compression, quoting, quotechar, line_terminator, chunksize, tupleize_cols, date_format, doublequote, escapechar, decimal)\u001b[0m\n\u001b[1;32m   3018\u001b[0m                                  \u001b[0mdoublequote\u001b[0m\u001b[0;34m=\u001b[0m\u001b[0mdoublequote\u001b[0m\u001b[0;34m,\u001b[0m\u001b[0;34m\u001b[0m\u001b[0;34m\u001b[0m\u001b[0m\n\u001b[1;32m   3019\u001b[0m                                  escapechar=escapechar, decimal=decimal)\n\u001b[0;32m-> 3020\u001b[0;31m         \u001b[0mformatter\u001b[0m\u001b[0;34m.\u001b[0m\u001b[0msave\u001b[0m\u001b[0;34m(\u001b[0m\u001b[0;34m)\u001b[0m\u001b[0;34m\u001b[0m\u001b[0;34m\u001b[0m\u001b[0m\n\u001b[0m\u001b[1;32m   3021\u001b[0m \u001b[0;34m\u001b[0m\u001b[0m\n\u001b[1;32m   3022\u001b[0m         \u001b[0;32mif\u001b[0m \u001b[0mpath_or_buf\u001b[0m \u001b[0;32mis\u001b[0m \u001b[0;32mNone\u001b[0m\u001b[0;34m:\u001b[0m\u001b[0;34m\u001b[0m\u001b[0;34m\u001b[0m\u001b[0m\n",
            "\u001b[0;32m~/anaconda3/lib/python3.7/site-packages/pandas/io/formats/csvs.py\u001b[0m in \u001b[0;36msave\u001b[0;34m(self)\u001b[0m\n\u001b[1;32m    155\u001b[0m             f, handles = _get_handle(self.path_or_buf, self.mode,\n\u001b[1;32m    156\u001b[0m                                      \u001b[0mencoding\u001b[0m\u001b[0;34m=\u001b[0m\u001b[0mself\u001b[0m\u001b[0;34m.\u001b[0m\u001b[0mencoding\u001b[0m\u001b[0;34m,\u001b[0m\u001b[0;34m\u001b[0m\u001b[0;34m\u001b[0m\u001b[0m\n\u001b[0;32m--> 157\u001b[0;31m                                      compression=self.compression)\n\u001b[0m\u001b[1;32m    158\u001b[0m             \u001b[0mclose\u001b[0m \u001b[0;34m=\u001b[0m \u001b[0;32mTrue\u001b[0m\u001b[0;34m\u001b[0m\u001b[0;34m\u001b[0m\u001b[0m\n\u001b[1;32m    159\u001b[0m \u001b[0;34m\u001b[0m\u001b[0m\n",
            "\u001b[0;32m~/anaconda3/lib/python3.7/site-packages/pandas/io/common.py\u001b[0m in \u001b[0;36m_get_handle\u001b[0;34m(path_or_buf, mode, encoding, compression, memory_map, is_text)\u001b[0m\n\u001b[1;32m    422\u001b[0m         \u001b[0;32melif\u001b[0m \u001b[0mencoding\u001b[0m\u001b[0;34m:\u001b[0m\u001b[0;34m\u001b[0m\u001b[0;34m\u001b[0m\u001b[0m\n\u001b[1;32m    423\u001b[0m             \u001b[0;31m# Python 3 and encoding\u001b[0m\u001b[0;34m\u001b[0m\u001b[0;34m\u001b[0m\u001b[0;34m\u001b[0m\u001b[0m\n\u001b[0;32m--> 424\u001b[0;31m             \u001b[0mf\u001b[0m \u001b[0;34m=\u001b[0m \u001b[0mopen\u001b[0m\u001b[0;34m(\u001b[0m\u001b[0mpath_or_buf\u001b[0m\u001b[0;34m,\u001b[0m \u001b[0mmode\u001b[0m\u001b[0;34m,\u001b[0m \u001b[0mencoding\u001b[0m\u001b[0;34m=\u001b[0m\u001b[0mencoding\u001b[0m\u001b[0;34m,\u001b[0m \u001b[0mnewline\u001b[0m\u001b[0;34m=\u001b[0m\u001b[0;34m\"\"\u001b[0m\u001b[0;34m)\u001b[0m\u001b[0;34m\u001b[0m\u001b[0;34m\u001b[0m\u001b[0m\n\u001b[0m\u001b[1;32m    425\u001b[0m         \u001b[0;32melif\u001b[0m \u001b[0mis_text\u001b[0m\u001b[0;34m:\u001b[0m\u001b[0;34m\u001b[0m\u001b[0;34m\u001b[0m\u001b[0m\n\u001b[1;32m    426\u001b[0m             \u001b[0;31m# Python 3 and no explicit encoding\u001b[0m\u001b[0;34m\u001b[0m\u001b[0;34m\u001b[0m\u001b[0;34m\u001b[0m\u001b[0m\n",
            "\u001b[0;31mPermissionError\u001b[0m: [Errno 13] Permission denied: '/../data/data_with_position.csv'"
          ]
        }
      ],
      "execution_count": 51,
      "metadata": {}
    },
    {
      "cell_type": "code",
      "source": [],
      "outputs": [],
      "execution_count": null,
      "metadata": {}
    }
  ],
  "metadata": {
    "colab": {
      "include_colab_link": true,
      "name": "Untitled4.ipynb",
      "provenance": []
    },
    "kernel_info": {
      "name": "python3"
    },
    "kernelspec": {
      "name": "python3",
      "language": "python",
      "display_name": "Python 3"
    },
    "language_info": {
      "name": "python",
      "version": "3.7.3",
      "mimetype": "text/x-python",
      "codemirror_mode": {
        "name": "ipython",
        "version": 3
      },
      "pygments_lexer": "ipython3",
      "nbconvert_exporter": "python",
      "file_extension": ".py"
    },
    "nteract": {
      "version": "0.15.0"
    }
  },
  "nbformat": 4,
  "nbformat_minor": 1
}