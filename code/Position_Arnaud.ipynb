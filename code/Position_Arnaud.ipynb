{
  "cells": [
    {
      "cell_type": "markdown",
      "source": [
        "<a href=\"https://colab.research.google.com/github/rnaua/DMML2019_Team_Swatch/blob/master/EDA.ipynb\" target=\"_parent\"><img src=\"https://colab.research.google.com/assets/colab-badge.svg\" alt=\"Open In Colab\"/></a>"
      ],
      "metadata": {
        "colab_type": "text",
        "id": "view-in-github"
      }
    },
    {
      "cell_type": "code",
      "source": [
        "from geopy.geocoders import Nominatim"
      ],
      "outputs": [],
      "execution_count": 1,
      "metadata": {}
    },
    {
      "cell_type": "code",
      "source": [
        "import pandas as pd"
      ],
      "outputs": [],
      "execution_count": 2,
      "metadata": {
        "colab": {},
        "colab_type": "code",
        "id": "uF5qzdvufHU3"
      }
    },
    {
      "cell_type": "code",
      "source": [
        "data = pd.read_csv(\"../data/Border_Crossing_Entry_Data.zip\")"
      ],
      "outputs": [],
      "execution_count": 3,
      "metadata": {}
    },
    {
      "cell_type": "code",
      "source": [
        "data.head()"
      ],
      "outputs": [
        {
          "output_type": "execute_result",
          "execution_count": 4,
          "data": {
            "text/html": [
              "<div>\n",
              "<style scoped>\n",
              "    .dataframe tbody tr th:only-of-type {\n",
              "        vertical-align: middle;\n",
              "    }\n",
              "\n",
              "    .dataframe tbody tr th {\n",
              "        vertical-align: top;\n",
              "    }\n",
              "\n",
              "    .dataframe thead th {\n",
              "        text-align: right;\n",
              "    }\n",
              "</style>\n",
              "<table border=\"1\" class=\"dataframe\">\n",
              "  <thead>\n",
              "    <tr style=\"text-align: right;\">\n",
              "      <th></th>\n",
              "      <th>Port Name</th>\n",
              "      <th>State</th>\n",
              "      <th>Port Code</th>\n",
              "      <th>Border</th>\n",
              "      <th>Date</th>\n",
              "      <th>Measure</th>\n",
              "      <th>Value</th>\n",
              "    </tr>\n",
              "  </thead>\n",
              "  <tbody>\n",
              "    <tr>\n",
              "      <th>0</th>\n",
              "      <td>Warroad</td>\n",
              "      <td>Minnesota</td>\n",
              "      <td>3423</td>\n",
              "      <td>US-Canada Border</td>\n",
              "      <td>06/01/2019 12:00:00 AM</td>\n",
              "      <td>Truck Containers Full</td>\n",
              "      <td>133</td>\n",
              "    </tr>\n",
              "    <tr>\n",
              "      <th>1</th>\n",
              "      <td>Warroad</td>\n",
              "      <td>Minnesota</td>\n",
              "      <td>3423</td>\n",
              "      <td>US-Canada Border</td>\n",
              "      <td>06/01/2019 12:00:00 AM</td>\n",
              "      <td>Truck Containers Empty</td>\n",
              "      <td>298</td>\n",
              "    </tr>\n",
              "    <tr>\n",
              "      <th>2</th>\n",
              "      <td>Warroad</td>\n",
              "      <td>Minnesota</td>\n",
              "      <td>3423</td>\n",
              "      <td>US-Canada Border</td>\n",
              "      <td>06/01/2019 12:00:00 AM</td>\n",
              "      <td>Personal Vehicles</td>\n",
              "      <td>10383</td>\n",
              "    </tr>\n",
              "    <tr>\n",
              "      <th>3</th>\n",
              "      <td>Warroad</td>\n",
              "      <td>Minnesota</td>\n",
              "      <td>3423</td>\n",
              "      <td>US-Canada Border</td>\n",
              "      <td>06/01/2019 12:00:00 AM</td>\n",
              "      <td>Personal Vehicle Passengers</td>\n",
              "      <td>19459</td>\n",
              "    </tr>\n",
              "    <tr>\n",
              "      <th>4</th>\n",
              "      <td>Warroad</td>\n",
              "      <td>Minnesota</td>\n",
              "      <td>3423</td>\n",
              "      <td>US-Canada Border</td>\n",
              "      <td>06/01/2019 12:00:00 AM</td>\n",
              "      <td>Pedestrians</td>\n",
              "      <td>2</td>\n",
              "    </tr>\n",
              "  </tbody>\n",
              "</table>\n",
              "</div>"
            ],
            "text/plain": [
              "  Port Name      State  Port Code            Border                    Date  \\\n",
              "0   Warroad  Minnesota       3423  US-Canada Border  06/01/2019 12:00:00 AM   \n",
              "1   Warroad  Minnesota       3423  US-Canada Border  06/01/2019 12:00:00 AM   \n",
              "2   Warroad  Minnesota       3423  US-Canada Border  06/01/2019 12:00:00 AM   \n",
              "3   Warroad  Minnesota       3423  US-Canada Border  06/01/2019 12:00:00 AM   \n",
              "4   Warroad  Minnesota       3423  US-Canada Border  06/01/2019 12:00:00 AM   \n",
              "\n",
              "                       Measure  Value  \n",
              "0        Truck Containers Full    133  \n",
              "1       Truck Containers Empty    298  \n",
              "2            Personal Vehicles  10383  \n",
              "3  Personal Vehicle Passengers  19459  \n",
              "4                  Pedestrians      2  "
            ]
          },
          "metadata": {}
        }
      ],
      "execution_count": 4,
      "metadata": {}
    },
    {
      "cell_type": "markdown",
      "source": [
        "We'll add a new column with coordoonates of the ports. These coordoonates will allow to plot the port on a map."
      ],
      "metadata": {}
    },
    {
      "cell_type": "markdown",
      "source": [
        "We create a new locator with geopy"
      ],
      "metadata": {}
    },
    {
      "cell_type": "code",
      "source": [
        "locator = Nominatim(user_agent=\"myGeocoder\")"
      ],
      "outputs": [],
      "execution_count": 5,
      "metadata": {}
    },
    {
      "cell_type": "code",
      "source": [
        "nom = Nominatim(user_agent=\"myGeocoder\",timeout=2)"
      ],
      "outputs": [],
      "execution_count": 6,
      "metadata": {}
    },
    {
      "cell_type": "markdown",
      "source": [
        "Create an array with all the names of the port\n",
        "and add \",USA\" at the end of every port names to make sure to find the one in the USA."
      ],
      "metadata": {}
    },
    {
      "cell_type": "code",
      "source": [
        "lieux = data['Port Name'].map(lambda x : x).unique()\n",
        "lieux = lieux + \",USA\"\n",
        "lieux"
      ],
      "outputs": [
        {
          "output_type": "execute_result",
          "execution_count": 7,
          "data": {
            "text/plain": [
              "array(['Warroad,USA', 'Roseau,USA', 'Detroit,USA', 'Del Rio,USA',\n",
              "       'Anacortes,USA', 'Sumas,USA', 'Port Angeles,USA',\n",
              "       'Point Roberts,USA', 'Oroville,USA', 'Nighthawk,USA',\n",
              "       'Metaline Falls,USA', 'Lynden,USA', 'Laurier,USA', 'Frontier,USA',\n",
              "       'Friday Harbor,USA', 'Ferry,USA', 'Danville,USA', 'Boundary,USA',\n",
              "       'Blaine,USA', 'Richford,USA', 'Norton,USA',\n",
              "       'Highgate Springs-Alburg,USA', 'Derby Line,USA',\n",
              "       'Beecher Falls,USA', 'Tornillo-Fabens,USA', 'Roma,USA',\n",
              "       'Rio Grande City,USA', 'Progreso,USA', 'Presidio,USA',\n",
              "       'Laredo,USA', 'Hidalgo,USA', 'El Paso,USA', 'Eagle Pass,USA',\n",
              "       'Brownsville,USA', 'Boquillas,USA', 'Toledo-Sandusky,USA',\n",
              "       'Trout River,USA', 'Ogdensburg,USA', 'Massena,USA',\n",
              "       'Champlain-Rouses Point,USA', 'Cape Vincent,USA',\n",
              "       'Buffalo-Niagara Falls,USA', 'Alexandria Bay,USA',\n",
              "       'Santa Teresa,USA', 'Columbus,USA', 'Westhope,USA', 'Walhalla,USA',\n",
              "       'St. John,USA', 'Sherwood,USA', 'Sarles,USA', 'Portal,USA',\n",
              "       'Pembina,USA', 'Pinecreek,USA', 'Lancaster,USA',\n",
              "       'International Falls-Ranier,USA', 'Grand Portage,USA', 'Alcan,USA',\n",
              "       'Dalton Cache,USA', 'Ketchikan,USA', 'Skagway,USA', 'Douglas,USA',\n",
              "       'Lukeville,USA', 'Naco,USA', 'Nogales,USA', 'San Luis,USA',\n",
              "       'Sasabe,USA', 'Andrade,USA', 'Calexico,USA', 'Calexico East,USA',\n",
              "       'Cross Border Xpress,USA', 'Otay Mesa,USA', 'San Ysidro,USA',\n",
              "       'Tecate,USA', 'Eastport,USA', 'Porthill,USA', 'Bridgewater,USA',\n",
              "       'Calais,USA', 'Fort Fairfield,USA', 'Fort Kent,USA', 'Houlton,USA',\n",
              "       'Jackman,USA', 'Limestone,USA', 'Madawaska,USA', 'Van Buren,USA',\n",
              "       'Vanceboro,USA', 'Algonac,USA', 'Port Huron,USA',\n",
              "       'Sault Sainte Marie,USA', 'Baudette,USA', 'Northgate,USA',\n",
              "       'Noonan,USA', 'Neche,USA', 'Maida,USA', 'Hansboro,USA',\n",
              "       'Hannah,USA', 'Fortuna,USA', 'Dunseith,USA', 'Carbury,USA',\n",
              "       'Antler,USA', 'Ambrose,USA', 'Willow Creek,USA', 'Wildhorse,USA',\n",
              "       'Whitlash,USA', 'Turner,USA', 'Sweetgrass,USA', 'Scobey,USA',\n",
              "       'Roosville,USA', 'Raymond,USA', 'Piegan,USA', 'Opheim,USA',\n",
              "       'Morgan,USA', 'Del Bonita,USA', 'Portland,USA', 'Whitetail,USA',\n",
              "       'Bar Harbor,USA', 'Noyes,USA'], dtype=object)"
            ]
          },
          "metadata": {}
        }
      ],
      "execution_count": 7,
      "metadata": {}
    },
    {
      "cell_type": "markdown",
      "source": [
        "Find the geocode of every port and store them in a dictionnary."
      ],
      "metadata": {}
    },
    {
      "cell_type": "code",
      "source": [
        "coordoonates = {}\n",
        "\n",
        "def do_geocode(address):\n",
        "    try:\n",
        "        return nom.geocode(address)\n",
        "    except:\n",
        "        return do_geocode(address)\n",
        "    \n",
        "for lieu in lieux:\n",
        "    coordoonates[lieu] = do_geocode(lieu)\n",
        "    print(do_geocode(lieu))"
      ],
      "outputs": [
        {
          "output_type": "stream",
          "name": "stdout",
          "text": [
            "Warroad, Roseau County, Minnesota, United States\n",
            "Roseau County, Minnesota, United States of America\n",
            "Detroit, Wayne County, Michigan, United States of America\n",
            "Del Rio, Val Verde County, Texas, United States of America\n",
            "Anacortes, Skagit County, Washington, United States\n",
            "Sumas, Whatcom County, Washington, 98295, United States\n",
            "Port Angeles, Clallam County, Washington, 98362, United States of America\n",
            "Point Roberts, Whatcom County, Washington, 98281, United States\n",
            "Oroville, Butte County, California, United States\n",
            "Nighthawk, Douglas County, Colorado, United States\n",
            "Metaline Falls, Pend Oreille County, Washington, United States\n",
            "Lynden, Whatcom County, Washington, United States\n",
            "Laurier, Ferry County, Washington, 99146, United States\n",
            "Frontier County, Nebraska, United States\n",
            "Friday Harbor, San Juan County, Washington, 98250, United States\n",
            "Ferry County, Washington, United States\n",
            "Danville, Vermilion County, Illinois, United States\n",
            "Boundary County, Idaho, United States of America\n",
            "None\n",
            "Richford, Franklin County, Vermont, United States\n",
            "Norton County, Kansas, United States\n",
            "Highgate Springs, Jefferson County, Kentucky, 40220, United States\n",
            "Derby Line, Derby, Orleans County, Vermont, United States\n",
            "Beecher Falls, Essex County, Vermont, 05902, United States of America\n",
            "Island Tornillo Road, Sanchez Colonia, El Paso County, Texas, 79838, United States of America\n",
            "Roma, Starr County, Texas, United States\n",
            "Rio Grande City, Starr County, Texas, United States\n",
            "Progreso, Hidalgo County, Texas, 78579, United States\n",
            "Presidio, Presidio County, Texas, United States\n",
            "Laredo, Webb County, Texas, United States of America\n",
            "Hidalgo County, New Mexico, United States\n",
            "El Paso, El Paso County, Texas, United States of America\n",
            "Eagle Pass, Maverick County, Texas, 78852, United States of America\n",
            "Brownsville, Cameron County, Texas, United States of America\n",
            "Boquillas, Tubac, Santa Cruz County, Arizona, 85646, United States\n",
            "Sandusky, Erie County, Ohio, 44870, United States of America\n",
            "Trout River, Duval County, Florida, 32218-4436, United States\n",
            "Ogdensburg, Saint Lawrence County, New York, 13669-2208, United States of America\n",
            "Massena, Cass County, Iowa, 50853, United States\n",
            "Champlain Street, Rouses Point, Clinton County, New York, 12979, United States\n",
            "Cape Vincent, Jefferson County, New York, United States\n",
            "Buffalo Avenue, Niagara Falls, Niagara County, New York, 14304, United States\n",
            "Alexandria Bay, Jefferson County, New York, United States\n",
            "Santa Teresa, Santa Teresa LRT Access, San Jose, Santa Clara County, California, 95119, United States of America\n",
            "Columbus, Franklin County, Ohio, United States of America\n",
            "Westhope, Bottineau County, North Dakota, United States\n",
            "Walhalla, Oconee County, South Carolina, 29691, United States of America\n",
            "Saint John, Saint Thomas - Saint John District, United States Virgin Islands, United States\n",
            "Sherwood, Pulaski County, Arkansas, 72120, United States\n",
            "Sarles, Cavalier County, North Dakota, United States\n",
            "El Portal, Mariposa County, California, 95318, United States\n",
            "Pembina County, North Dakota, United States\n",
            "Pinecreek, Jefferson County, Pennsylvania, 15825, United States\n",
            "Lancaster, Lancaster County, Pennsylvania, United States of America\n",
            "None\n",
            "Grand Portage, Cook County, Minnesota, 55605, United States\n",
            "Alcan Border, Unorganized Borough, Alaska, United States\n",
            "None\n",
            "Ketchikan, Ketchikan Gateway, Alaska, 99901, United States\n",
            "Skagway, Unorganized Borough, Alaska, 99840, United States\n",
            "Douglas County, Illinois, United States\n",
            "Lukeville, Pima County, Arizona, United States of America\n",
            "Naco, International Road, Naco, Cochise County, Arizona, 85620, United States\n",
            "Nogales, Santa Cruz County, Arizona, 85621, United States\n",
            "San Luis, Yuma County, Arizona, United States\n",
            "Sasabe, Pima County, Arizona, 85633, United States\n",
            "Andrade, Imperial County, California, 93383, United States\n",
            "Calexico, Imperial County, California, 92231, United States\n",
            "Calexico East, 1699, CA 7, Imperial County, California, 92231, United States\n",
            "Cross Border Xpress, US Border Patrol Road;Johnson Road, Park Haven, San Ysidro, San Diego, San Diego County, California, 92173, United States of America\n",
            "Otay Mesa, San Diego, San Diego County, California, 92179, United States\n",
            "San Ysidro, San Diego, San Diego County, California, 92173, United States\n",
            "Tecate, San Diego County, California, 91980, United States\n",
            "Eastport, Suffolk County, New York, 11941, United States\n",
            "Porthill, Boundary County, Idaho, 83853, United States\n",
            "Bridgewater, Plymouth County, Massachusetts, United States of America\n",
            "Calais, Washington County, Maine, 04619, United States of America\n",
            "Fort Fairfield, Aroostook County, Maine, 04742, United States\n",
            "Fort Kent, Fort Kent Township, Aroostook County, Maine, 04743, United States\n",
            "Houlton, Aroostook County, Maine, 04730, United States\n",
            "Jackman, Clark County, Nevada, United States\n",
            "Limestone County, Alabama, United States\n",
            "Madawaska, Madawaska Township, Aroostook County, Maine, 04756, United States\n",
            "None\n",
            "Vanceboro, Washington County, Maine, 04491, United States\n",
            "Algonac, Saint Clair County, Michigan, United States\n",
            "Port Huron, Saint Clair County, Michigan, 48060, United States\n",
            "Sault Ste. Marie, Chippewa County, Michigan, 49783-3602, United States\n",
            "Baudette, Lake of the Woods County, Minnesota, United States\n",
            "Northgate, Colerain Township, Hamilton County, Ohio, United States of America\n",
            "Noonan, Medina County, Texas, United States\n",
            "Neche, Pembina County, North Dakota, United States\n",
            "Maida, Cavalier County, North Dakota, United States\n",
            "Hansboro, Towner County, North Dakota, United States\n",
            "Hannah, Centre County, Pennsylvania, United States\n",
            "Fortuna, Humboldt County, California, United States\n",
            "Dunseith, Rolette County, North Dakota, United States\n",
            "Carbury, Bottineau County, North Dakota, United States\n",
            "Antler, McDowell County, West Virginia, 24842, United States\n",
            "Ambrose, Modoc County, California, United States\n",
            "Willow Creek, Humboldt County, California, 95573, United States\n",
            "Wildhorse, Lincoln County, Oklahoma, United States\n",
            "Whitlash, Liberty County, Montana, 59545, United States\n",
            "None\n",
            "Sweetgrass, Dacono, Weld County, Colorado, 80514-8502, United States\n",
            "Scobey, Daniels County, Montana, 59263, United States\n",
            "Roosville, Lincoln County, Montana, United States\n",
            "Raymond, Rockingham County, New Hampshire, 03077, United States\n",
            "Piegan, Glacier County, Montana, United States\n",
            "Opheim, Valley County, Montana, United States\n",
            "Morgan County, Illinois, United States\n",
            "Del Bonita, Glacier County, Montana, United States\n",
            "Portland, Multnomah County, Oregon, United States of America\n",
            "Whitetail, Otero County, New Mexico, United States\n",
            "Bar Harbor, Hancock County, Maine, United States of America\n",
            "Noyes, Kittson County, Minnesota, 56740, United States\n"
          ]
        }
      ],
      "execution_count": 8,
      "metadata": {
        "scrolled": true
      }
    },
    {
      "cell_type": "code",
      "source": [
        "print(coordoonates)"
      ],
      "outputs": [
        {
          "output_type": "stream",
          "name": "stdout",
          "text": [
            "{'Warroad,USA': Location(Warroad, Roseau County, Minnesota, United States, (48.905266, -95.314404, 0.0)), 'Roseau,USA': Location(Roseau County, Minnesota, United States of America, (48.7710371, -95.7697882, 0.0)), 'Detroit,USA': Location(Detroit, Wayne County, Michigan, United States of America, (42.3315509, -83.0466403, 0.0)), 'Del Rio,USA': Location(Del Rio, Val Verde County, Texas, United States of America, (29.3627296, -100.896761, 0.0)), 'Anacortes,USA': Location(Anacortes, Skagit County, Washington, United States, (48.5020123, -122.6237356, 0.0)), 'Sumas,USA': Location(Sumas, Whatcom County, Washington, 98295, United States, (48.9950874, -122.269080593315, 0.0)), 'Port Angeles,USA': Location(Port Angeles, Clallam County, Washington, 98362, United States of America, (48.118146, -123.4307413, 0.0)), 'Point Roberts,USA': Location(Point Roberts, Whatcom County, Washington, 98281, United States, (48.9853824, -123.077974, 0.0)), 'Oroville,USA': Location(Oroville, Butte County, California, United States, (39.5137752, -121.556359, 0.0)), 'Nighthawk,USA': Location(Nighthawk, Douglas County, Colorado, United States, (39.3547118, -105.1694349, 0.0)), 'Metaline Falls,USA': Location(Metaline Falls, Pend Oreille County, Washington, United States, (48.8636212, -117.3718881, 0.0)), 'Lynden,USA': Location(Lynden, Whatcom County, Washington, United States, (48.9466041, -122.4569315, 0.0)), 'Laurier,USA': Location(Laurier, Ferry County, Washington, 99146, United States, (48.9987931, -118.2241779, 0.0)), 'Frontier,USA': Location(Frontier County, Nebraska, United States, (40.5520473, -100.4230266, 0.0)), 'Friday Harbor,USA': Location(Friday Harbor, San Juan County, Washington, 98250, United States, (48.5342662, -123.0171242, 0.0)), 'Ferry,USA': Location(Ferry County, Washington, United States, (48.4736934, -118.4834362, 0.0)), 'Danville,USA': Location(Danville, Vermilion County, Illinois, United States, (40.125222, -87.6304614, 0.0)), 'Boundary,USA': Location(Boundary County, Idaho, United States of America, (48.7846346, -116.4339511, 0.0)), 'Blaine,USA': None, 'Richford,USA': Location(Richford, Franklin County, Vermont, United States, (44.997339, -72.671814, 0.0)), 'Norton,USA': Location(Norton County, Kansas, United States, (39.7944702, -99.9100033, 0.0)), 'Highgate Springs-Alburg,USA': Location(Highgate Springs, Jefferson County, Kentucky, 40220, United States, (38.2153479, -85.6402383, 0.0)), 'Derby Line,USA': Location(Derby Line, Derby, Orleans County, Vermont, United States, (45.00042985, -72.1064356198873, 0.0)), 'Beecher Falls,USA': Location(Beecher Falls, Essex County, Vermont, 05902, United States of America, (45.008759, -71.5067925, 0.0)), 'Tornillo-Fabens,USA': Location(Island Tornillo Road, Sanchez Colonia, El Paso County, Texas, 79838, United States of America, (31.471341, -106.151947, 0.0)), 'Roma,USA': Location(Roma, Starr County, Texas, United States, (26.4070669, -99.0055462, 0.0)), 'Rio Grande City,USA': Location(Rio Grande City, Starr County, Texas, United States, (26.3827771, -98.8205251, 0.0)), 'Progreso,USA': Location(Progreso, Hidalgo County, Texas, 78579, United States, (26.0922991, -97.9572242, 0.0)), 'Presidio,USA': Location(Presidio, Presidio County, Texas, United States, (29.5608984, -104.3716924, 0.0)), 'Laredo,USA': Location(Laredo, Webb County, Texas, United States of America, (27.5199841, -99.4953764, 0.0)), 'Hidalgo,USA': Location(Hidalgo County, New Mexico, United States, (31.801493, -108.7598468, 0.0)), 'El Paso,USA': Location(El Paso, El Paso County, Texas, United States of America, (31.7600372, -106.487287, 0.0)), 'Eagle Pass,USA': Location(Eagle Pass, Maverick County, Texas, 78852, United States of America, (28.7091433, -100.4995214, 0.0)), 'Brownsville,USA': Location(Brownsville, Cameron County, Texas, United States of America, (25.9140256, -97.4890856, 0.0)), 'Boquillas,USA': Location(Boquillas, Tubac, Santa Cruz County, Arizona, 85646, United States, (31.6195712, -111.0571462, 0.0)), 'Toledo-Sandusky,USA': Location(Sandusky, Erie County, Ohio, 44870, United States of America, (41.4489397, -82.7079605, 0.0)), 'Trout River,USA': Location(Trout River, Duval County, Florida, 32218-4436, United States, (30.418363, -81.709894, 0.0)), 'Ogdensburg,USA': Location(Ogdensburg, Saint Lawrence County, New York, 13669-2208, United States of America, (44.694285, -75.486374, 0.0)), 'Massena,USA': Location(Massena, Cass County, Iowa, 50853, United States, (41.2541538, -94.7683113, 0.0)), 'Champlain-Rouses Point,USA': Location(Champlain Street, Rouses Point, Clinton County, New York, 12979, United States, (44.982541, -73.377564, 0.0)), 'Cape Vincent,USA': Location(Cape Vincent, Jefferson County, New York, United States, (44.125494, -76.3304640631677, 0.0)), 'Buffalo-Niagara Falls,USA': Location(Buffalo Avenue, Niagara Falls, Niagara County, New York, 14304, United States, (43.0761171, -78.9928794, 0.0)), 'Alexandria Bay,USA': Location(Alexandria Bay, Jefferson County, New York, United States, (44.336127, -75.917931, 0.0)), 'Santa Teresa,USA': Location(Santa Teresa, Santa Teresa LRT Access, San Jose, Santa Clara County, California, 95119, United States of America, (37.236659, -121.7891188, 0.0)), 'Columbus,USA': Location(Columbus, Franklin County, Ohio, United States of America, (39.9622601, -83.0007065, 0.0)), 'Westhope,USA': Location(Westhope, Bottineau County, North Dakota, United States, (48.909464, -101.020712, 0.0)), 'Walhalla,USA': Location(Walhalla, Oconee County, South Carolina, 29691, United States of America, (34.7648176, -83.0640417, 0.0)), 'St. John,USA': Location(Saint John, Saint Thomas - Saint John District, United States Virgin Islands, United States, (18.3355244, -64.7549846644977, 0.0)), 'Sherwood,USA': Location(Sherwood, Pulaski County, Arkansas, 72120, United States, (34.8150907, -92.2243153, 0.0)), 'Sarles,USA': Location(Sarles, Cavalier County, North Dakota, United States, (48.94584, -98.995961, 0.0)), 'Portal,USA': Location(El Portal, Mariposa County, California, 95318, United States, (37.6746526, -119.7840681, 0.0)), 'Pembina,USA': Location(Pembina County, North Dakota, United States, (48.7530787, -97.5532833, 0.0)), 'Pinecreek,USA': Location(Pinecreek, Jefferson County, Pennsylvania, 15825, United States, (41.1592302, -79.0586474, 0.0)), 'Lancaster,USA': Location(Lancaster, Lancaster County, Pennsylvania, United States of America, (40.03813, -76.3056686, 0.0)), 'International Falls-Ranier,USA': None, 'Grand Portage,USA': Location(Grand Portage, Cook County, Minnesota, 55605, United States, (47.963776, -89.6848121, 0.0)), 'Alcan,USA': Location(Alcan Border, Unorganized Borough, Alaska, United States, (62.66607, -141.141890269798, 0.0)), 'Dalton Cache,USA': None, 'Ketchikan,USA': Location(Ketchikan, Ketchikan Gateway, Alaska, 99901, United States, (55.3430696, -131.6466819, 0.0)), 'Skagway,USA': Location(Skagway, Unorganized Borough, Alaska, 99840, United States, (59.4556265, -135.3117463, 0.0)), 'Douglas,USA': Location(Douglas County, Illinois, United States, (39.7628415, -88.2170516, 0.0)), 'Lukeville,USA': Location(Lukeville, Pima County, Arizona, United States of America, (31.8819798, -112.8153361, 0.0)), 'Naco,USA': Location(Naco, International Road, Naco, Cochise County, Arizona, 85620, United States, (31.342529, -109.936355674705, 0.0)), 'Nogales,USA': Location(Nogales, Santa Cruz County, Arizona, 85621, United States, (31.3402134, -110.9360818, 0.0)), 'San Luis,USA': Location(San Luis, Yuma County, Arizona, United States, (32.4934395, -114.7737551, 0.0)), 'Sasabe,USA': Location(Sasabe, Pima County, Arizona, 85633, United States, (31.4887016, -111.5420505, 0.0)), 'Andrade,USA': Location(Andrade, Imperial County, California, 93383, United States, (32.7248173, -114.7248614, 0.0)), 'Calexico,USA': Location(Calexico, Imperial County, California, 92231, United States, (32.6790572, -115.498703, 0.0)), 'Calexico East,USA': Location(Calexico East, 1699, CA 7, Imperial County, California, 92231, United States, (32.6753413, -115.3887997, 0.0)), 'Cross Border Xpress,USA': Location(Cross Border Xpress, US Border Patrol Road;Johnson Road, Park Haven, San Ysidro, San Diego, San Diego County, California, 92173, United States of America, (32.54831535, -116.974398450271, 0.0)), 'Otay Mesa,USA': Location(Otay Mesa, San Diego, San Diego County, California, 92179, United States, (32.560058, -116.9361338, 0.0)), 'San Ysidro,USA': Location(San Ysidro, San Diego, San Diego County, California, 92173, United States, (32.5520013, -117.0430813, 0.0)), 'Tecate,USA': Location(Tecate, San Diego County, California, 91980, United States, (32.5833711, -116.6285217, 0.0)), 'Eastport,USA': Location(Eastport, Suffolk County, New York, 11941, United States, (40.8441033, -72.7200324802622, 0.0)), 'Porthill,USA': Location(Porthill, Boundary County, Idaho, 83853, United States, (48.9982855, -116.4979886, 0.0)), 'Bridgewater,USA': Location(Bridgewater, Plymouth County, Massachusetts, United States of America, (41.9903787, -70.9750426, 0.0)), 'Calais,USA': Location(Calais, Washington County, Maine, 04619, United States of America, (45.189032, -67.2781424, 0.0)), 'Fort Fairfield,USA': Location(Fort Fairfield, Aroostook County, Maine, 04742, United States, (46.7698261, -67.8345688, 0.0)), 'Fort Kent,USA': Location(Fort Kent, Fort Kent Township, Aroostook County, Maine, 04743, United States, (47.258728, -68.589706, 0.0)), 'Houlton,USA': Location(Houlton, Aroostook County, Maine, 04730, United States, (46.1251286, -67.8407944, 0.0)), 'Jackman,USA': Location(Jackman, Clark County, Nevada, United States, (36.6421951, -114.540263, 0.0)), 'Limestone,USA': Location(Limestone County, Alabama, United States, (34.8342463, -86.9901321, 0.0)), 'Madawaska,USA': Location(Madawaska, Madawaska Township, Aroostook County, Maine, 04756, United States, (47.355571, -68.321915, 0.0)), 'Van Buren,USA': None, 'Vanceboro,USA': Location(Vanceboro, Washington County, Maine, 04491, United States, (45.5634002, -67.429721, 0.0)), 'Algonac,USA': Location(Algonac, Saint Clair County, Michigan, United States, (42.6183675, -82.531018, 0.0)), 'Port Huron,USA': Location(Port Huron, Saint Clair County, Michigan, 48060, United States, (42.9815877, -82.440466, 0.0)), 'Sault Sainte Marie,USA': Location(Sault Ste. Marie, Chippewa County, Michigan, 49783-3602, United States, (46.490586, -84.359269, 0.0)), 'Baudette,USA': Location(Baudette, Lake of the Woods County, Minnesota, United States, (48.712474, -94.59993, 0.0)), 'Northgate,USA': Location(Northgate, Colerain Township, Hamilton County, Ohio, United States of America, (39.25679175, -84.5898822999136, 0.0)), 'Noonan,USA': Location(Noonan, Medina County, Texas, United States, (29.2691257, -98.9019727, 0.0)), 'Neche,USA': Location(Neche, Pembina County, North Dakota, United States, (48.9861027, -97.5548, 0.0)), 'Maida,USA': Location(Maida, Cavalier County, North Dakota, United States, (48.998612, -98.3648321, 0.0)), 'Hansboro,USA': Location(Hansboro, Towner County, North Dakota, United States, (48.9521858, -99.3807545, 0.0)), 'Hannah,USA': Location(Hannah, Centre County, Pennsylvania, United States, (40.7672819, -78.0975086, 0.0)), 'Fortuna,USA': Location(Fortuna, Humboldt County, California, United States, (40.597407, -124.156034, 0.0)), 'Dunseith,USA': Location(Dunseith, Rolette County, North Dakota, United States, (48.813057, -100.060968, 0.0)), 'Carbury,USA': Location(Carbury, Bottineau County, North Dakota, United States, (48.8908464, -100.5445928, 0.0)), 'Antler,USA': Location(Antler, McDowell County, West Virginia, 24842, United States, (37.4534463, -81.6237191, 0.0)), 'Ambrose,USA': Location(Ambrose, Modoc County, California, United States, (41.5018331, -120.981359, 0.0)), 'Willow Creek,USA': Location(Willow Creek, Humboldt County, California, 95573, United States, (40.9395774, -123.6314412, 0.0)), 'Wildhorse,USA': Location(Wildhorse, Lincoln County, Oklahoma, United States, (35.9128415, -96.8039141, 0.0)), 'Whitlash,USA': Location(Whitlash, Liberty County, Montana, 59545, United States, (48.9083386, -111.2530312, 0.0)), 'Turner,USA': None, 'Sweetgrass,USA': Location(Sweetgrass, Dacono, Weld County, Colorado, 80514-8502, United States, (40.0473326, -104.9649339, 0.0)), 'Scobey,USA': Location(Scobey, Daniels County, Montana, 59263, United States, (48.792086, -105.419948, 0.0)), 'Roosville,USA': Location(Roosville, Lincoln County, Montana, United States, (48.9991329, -115.0565577, 0.0)), 'Raymond,USA': Location(Raymond, Rockingham County, New Hampshire, 03077, United States, (43.0361961, -71.1833951, 0.0)), 'Piegan,USA': Location(Piegan, Glacier County, Montana, United States, (48.4346971, -112.6945072, 0.0)), 'Opheim,USA': Location(Opheim, Valley County, Montana, United States, (48.857088, -106.407904, 0.0)), 'Morgan,USA': Location(Morgan County, Illinois, United States, (39.7062265, -90.190335, 0.0)), 'Del Bonita,USA': Location(Del Bonita, Glacier County, Montana, United States, (48.9975828, -112.788762, 0.0)), 'Portland,USA': Location(Portland, Multnomah County, Oregon, United States of America, (45.5202471, -122.6741949, 0.0)), 'Whitetail,USA': Location(Whitetail, Otero County, New Mexico, United States, (33.2289775, -105.5558186, 0.0)), 'Bar Harbor,USA': Location(Bar Harbor, Hancock County, Maine, United States of America, (44.3864565, -68.2118570811003, 0.0)), 'Noyes,USA': Location(Noyes, Kittson County, Minnesota, 56740, United States, (48.998839, -97.204893, 0.0))}\n"
          ]
        }
      ],
      "execution_count": 9,
      "metadata": {}
    },
    {
      "cell_type": "markdown",
      "source": [
        "Compute a new dictionnary with the exact name of the port (whitout USA at the end) and the coordoonates."
      ],
      "metadata": {}
    },
    {
      "cell_type": "code",
      "source": [
        "portAndCoordoonates = {}\n",
        "for key in coordoonates:\n",
        "    if coordoonates[key] is None:\n",
        "        portAndCoordoonates[key[:-4]] = None\n",
        "    else:\n",
        "        portAndCoordoonates[key[:-4]] = (coordoonates[key].latitude,coordoonates[key].longitude)\n",
        "print(portAndCoordoonates)"
      ],
      "outputs": [
        {
          "output_type": "stream",
          "name": "stdout",
          "text": [
            "{'Warroad': (48.905266, -95.314404), 'Roseau': (48.7710371, -95.7697882), 'Detroit': (42.3315509, -83.0466403), 'Del Rio': (29.3627296, -100.896761), 'Anacortes': (48.5020123, -122.6237356), 'Sumas': (48.9950874, -122.269080593315), 'Port Angeles': (48.118146, -123.4307413), 'Point Roberts': (48.9853824, -123.077974), 'Oroville': (39.5137752, -121.556359), 'Nighthawk': (39.3547118, -105.1694349), 'Metaline Falls': (48.8636212, -117.3718881), 'Lynden': (48.9466041, -122.4569315), 'Laurier': (48.9987931, -118.2241779), 'Frontier': (40.5520473, -100.4230266), 'Friday Harbor': (48.5342662, -123.0171242), 'Ferry': (48.4736934, -118.4834362), 'Danville': (40.125222, -87.6304614), 'Boundary': (48.7846346, -116.4339511), 'Blaine': None, 'Richford': (44.997339, -72.671814), 'Norton': (39.7944702, -99.9100033), 'Highgate Springs-Alburg': (38.2153479, -85.6402383), 'Derby Line': (45.00042985, -72.1064356198873), 'Beecher Falls': (45.008759, -71.5067925), 'Tornillo-Fabens': (31.471341, -106.151947), 'Roma': (26.4070669, -99.0055462), 'Rio Grande City': (26.3827771, -98.8205251), 'Progreso': (26.0922991, -97.9572242), 'Presidio': (29.5608984, -104.3716924), 'Laredo': (27.5199841, -99.4953764), 'Hidalgo': (31.801493, -108.7598468), 'El Paso': (31.7600372, -106.487287), 'Eagle Pass': (28.7091433, -100.4995214), 'Brownsville': (25.9140256, -97.4890856), 'Boquillas': (31.6195712, -111.0571462), 'Toledo-Sandusky': (41.4489397, -82.7079605), 'Trout River': (30.418363, -81.709894), 'Ogdensburg': (44.694285, -75.486374), 'Massena': (41.2541538, -94.7683113), 'Champlain-Rouses Point': (44.982541, -73.377564), 'Cape Vincent': (44.125494, -76.3304640631677), 'Buffalo-Niagara Falls': (43.0761171, -78.9928794), 'Alexandria Bay': (44.336127, -75.917931), 'Santa Teresa': (37.236659, -121.7891188), 'Columbus': (39.9622601, -83.0007065), 'Westhope': (48.909464, -101.020712), 'Walhalla': (34.7648176, -83.0640417), 'St. John': (18.3355244, -64.7549846644977), 'Sherwood': (34.8150907, -92.2243153), 'Sarles': (48.94584, -98.995961), 'Portal': (37.6746526, -119.7840681), 'Pembina': (48.7530787, -97.5532833), 'Pinecreek': (41.1592302, -79.0586474), 'Lancaster': (40.03813, -76.3056686), 'International Falls-Ranier': None, 'Grand Portage': (47.963776, -89.6848121), 'Alcan': (62.66607, -141.141890269798), 'Dalton Cache': None, 'Ketchikan': (55.3430696, -131.6466819), 'Skagway': (59.4556265, -135.3117463), 'Douglas': (39.7628415, -88.2170516), 'Lukeville': (31.8819798, -112.8153361), 'Naco': (31.342529, -109.936355674705), 'Nogales': (31.3402134, -110.9360818), 'San Luis': (32.4934395, -114.7737551), 'Sasabe': (31.4887016, -111.5420505), 'Andrade': (32.7248173, -114.7248614), 'Calexico': (32.6790572, -115.498703), 'Calexico East': (32.6753413, -115.3887997), 'Cross Border Xpress': (32.54831535, -116.974398450271), 'Otay Mesa': (32.560058, -116.9361338), 'San Ysidro': (32.5520013, -117.0430813), 'Tecate': (32.5833711, -116.6285217), 'Eastport': (40.8441033, -72.7200324802622), 'Porthill': (48.9982855, -116.4979886), 'Bridgewater': (41.9903787, -70.9750426), 'Calais': (45.189032, -67.2781424), 'Fort Fairfield': (46.7698261, -67.8345688), 'Fort Kent': (47.258728, -68.589706), 'Houlton': (46.1251286, -67.8407944), 'Jackman': (36.6421951, -114.540263), 'Limestone': (34.8342463, -86.9901321), 'Madawaska': (47.355571, -68.321915), 'Van Buren': None, 'Vanceboro': (45.5634002, -67.429721), 'Algonac': (42.6183675, -82.531018), 'Port Huron': (42.9815877, -82.440466), 'Sault Sainte Marie': (46.490586, -84.359269), 'Baudette': (48.712474, -94.59993), 'Northgate': (39.25679175, -84.5898822999136), 'Noonan': (29.2691257, -98.9019727), 'Neche': (48.9861027, -97.5548), 'Maida': (48.998612, -98.3648321), 'Hansboro': (48.9521858, -99.3807545), 'Hannah': (40.7672819, -78.0975086), 'Fortuna': (40.597407, -124.156034), 'Dunseith': (48.813057, -100.060968), 'Carbury': (48.8908464, -100.5445928), 'Antler': (37.4534463, -81.6237191), 'Ambrose': (41.5018331, -120.981359), 'Willow Creek': (40.9395774, -123.6314412), 'Wildhorse': (35.9128415, -96.8039141), 'Whitlash': (48.9083386, -111.2530312), 'Turner': None, 'Sweetgrass': (40.0473326, -104.9649339), 'Scobey': (48.792086, -105.419948), 'Roosville': (48.9991329, -115.0565577), 'Raymond': (43.0361961, -71.1833951), 'Piegan': (48.4346971, -112.6945072), 'Opheim': (48.857088, -106.407904), 'Morgan': (39.7062265, -90.190335), 'Del Bonita': (48.9975828, -112.788762), 'Portland': (45.5202471, -122.6741949), 'Whitetail': (33.2289775, -105.5558186), 'Bar Harbor': (44.3864565, -68.2118570811003), 'Noyes': (48.998839, -97.204893)}\n"
          ]
        }
      ],
      "execution_count": 10,
      "metadata": {}
    },
    {
      "cell_type": "markdown",
      "source": [
        "Check missing values in the ports coordoonates"
      ],
      "metadata": {}
    },
    {
      "cell_type": "code",
      "source": [
        "missings = []\n",
        "for key in portAndCoordoonates:\n",
        "    if portAndCoordoonates[key] is None:\n",
        "        missings.append(key)\n",
        "print(missings)"
      ],
      "outputs": [
        {
          "output_type": "stream",
          "name": "stdout",
          "text": [
            "['Blaine', 'International Falls-Ranier', 'Dalton Cache', 'Van Buren', 'Turner']\n"
          ]
        }
      ],
      "execution_count": 11,
      "metadata": {
        "scrolled": false
      }
    },
    {
      "cell_type": "markdown",
      "source": [
        "We see that these 5 ports have no coordoonates. We'll add them manually."
      ],
      "metadata": {}
    },
    {
      "cell_type": "code",
      "source": [
        "portAndCoordoonates['Blaine']  = do_geocode(\"Blaine, Washington\")\n",
        "portAndCoordoonates['International Falls-Ranier'] = do_geocode(\"International Falls,USA\")\n",
        "portAndCoordoonates['Dalton Cache'] = do_geocode(\"Pleasant Camp\")\n",
        "portAndCoordoonates['Van Buren'] = (\"47.16207\",\"-67.94271\")\n",
        "portAndCoordoonates['Turner'] = (\"48.84361\",\"108.40599\")"
      ],
      "outputs": [],
      "execution_count": 12,
      "metadata": {}
    },
    {
      "cell_type": "markdown",
      "source": [
        "Add the Coordoonates to the data as a new column"
      ],
      "metadata": {}
    },
    {
      "cell_type": "code",
      "source": [
        "data[\"position\"] = data['Port Name'].apply(lambda loc:portAndCoordoonates[loc])"
      ],
      "outputs": [],
      "execution_count": 18,
      "metadata": {}
    },
    {
      "cell_type": "code",
      "source": [
        "data.head()"
      ],
      "outputs": [
        {
          "output_type": "execute_result",
          "execution_count": 19,
          "data": {
            "text/html": [
              "<div>\n",
              "<style scoped>\n",
              "    .dataframe tbody tr th:only-of-type {\n",
              "        vertical-align: middle;\n",
              "    }\n",
              "\n",
              "    .dataframe tbody tr th {\n",
              "        vertical-align: top;\n",
              "    }\n",
              "\n",
              "    .dataframe thead th {\n",
              "        text-align: right;\n",
              "    }\n",
              "</style>\n",
              "<table border=\"1\" class=\"dataframe\">\n",
              "  <thead>\n",
              "    <tr style=\"text-align: right;\">\n",
              "      <th></th>\n",
              "      <th>Port Name</th>\n",
              "      <th>State</th>\n",
              "      <th>Port Code</th>\n",
              "      <th>Border</th>\n",
              "      <th>Date</th>\n",
              "      <th>Measure</th>\n",
              "      <th>Value</th>\n",
              "      <th>position</th>\n",
              "    </tr>\n",
              "  </thead>\n",
              "  <tbody>\n",
              "    <tr>\n",
              "      <th>0</th>\n",
              "      <td>Warroad</td>\n",
              "      <td>Minnesota</td>\n",
              "      <td>3423</td>\n",
              "      <td>US-Canada Border</td>\n",
              "      <td>06/01/2019 12:00:00 AM</td>\n",
              "      <td>Truck Containers Full</td>\n",
              "      <td>133</td>\n",
              "      <td>(48.905266, -95.314404)</td>\n",
              "    </tr>\n",
              "    <tr>\n",
              "      <th>1</th>\n",
              "      <td>Warroad</td>\n",
              "      <td>Minnesota</td>\n",
              "      <td>3423</td>\n",
              "      <td>US-Canada Border</td>\n",
              "      <td>06/01/2019 12:00:00 AM</td>\n",
              "      <td>Truck Containers Empty</td>\n",
              "      <td>298</td>\n",
              "      <td>(48.905266, -95.314404)</td>\n",
              "    </tr>\n",
              "    <tr>\n",
              "      <th>2</th>\n",
              "      <td>Warroad</td>\n",
              "      <td>Minnesota</td>\n",
              "      <td>3423</td>\n",
              "      <td>US-Canada Border</td>\n",
              "      <td>06/01/2019 12:00:00 AM</td>\n",
              "      <td>Personal Vehicles</td>\n",
              "      <td>10383</td>\n",
              "      <td>(48.905266, -95.314404)</td>\n",
              "    </tr>\n",
              "    <tr>\n",
              "      <th>3</th>\n",
              "      <td>Warroad</td>\n",
              "      <td>Minnesota</td>\n",
              "      <td>3423</td>\n",
              "      <td>US-Canada Border</td>\n",
              "      <td>06/01/2019 12:00:00 AM</td>\n",
              "      <td>Personal Vehicle Passengers</td>\n",
              "      <td>19459</td>\n",
              "      <td>(48.905266, -95.314404)</td>\n",
              "    </tr>\n",
              "    <tr>\n",
              "      <th>4</th>\n",
              "      <td>Warroad</td>\n",
              "      <td>Minnesota</td>\n",
              "      <td>3423</td>\n",
              "      <td>US-Canada Border</td>\n",
              "      <td>06/01/2019 12:00:00 AM</td>\n",
              "      <td>Pedestrians</td>\n",
              "      <td>2</td>\n",
              "      <td>(48.905266, -95.314404)</td>\n",
              "    </tr>\n",
              "  </tbody>\n",
              "</table>\n",
              "</div>"
            ],
            "text/plain": [
              "  Port Name      State  Port Code            Border                    Date  \\\n",
              "0   Warroad  Minnesota       3423  US-Canada Border  06/01/2019 12:00:00 AM   \n",
              "1   Warroad  Minnesota       3423  US-Canada Border  06/01/2019 12:00:00 AM   \n",
              "2   Warroad  Minnesota       3423  US-Canada Border  06/01/2019 12:00:00 AM   \n",
              "3   Warroad  Minnesota       3423  US-Canada Border  06/01/2019 12:00:00 AM   \n",
              "4   Warroad  Minnesota       3423  US-Canada Border  06/01/2019 12:00:00 AM   \n",
              "\n",
              "                       Measure  Value                 position  \n",
              "0        Truck Containers Full    133  (48.905266, -95.314404)  \n",
              "1       Truck Containers Empty    298  (48.905266, -95.314404)  \n",
              "2            Personal Vehicles  10383  (48.905266, -95.314404)  \n",
              "3  Personal Vehicle Passengers  19459  (48.905266, -95.314404)  \n",
              "4                  Pedestrians      2  (48.905266, -95.314404)  "
            ]
          },
          "metadata": {}
        }
      ],
      "execution_count": 19,
      "metadata": {}
    },
    {
      "cell_type": "markdown",
      "source": [
        "Check if data are still missing"
      ],
      "metadata": {}
    },
    {
      "cell_type": "code",
      "source": [
        "data.isnull().sum()"
      ],
      "outputs": [
        {
          "output_type": "execute_result",
          "execution_count": 20,
          "data": {
            "text/plain": [
              "Port Name    0\n",
              "State        0\n",
              "Port Code    0\n",
              "Border       0\n",
              "Date         0\n",
              "Measure      0\n",
              "Value        0\n",
              "position     0\n",
              "dtype: int64"
            ]
          },
          "metadata": {}
        }
      ],
      "execution_count": 20,
      "metadata": {}
    },
    {
      "cell_type": "markdown",
      "source": [
        "Export the data with the position"
      ],
      "metadata": {}
    },
    {
      "cell_type": "code",
      "source": [
        "export_csv = data.to_csv (r'/Users/Arnaud/Desktop/data_with_position.csv', index = None, header=True) #Don't forget to add '.csv' at the end of the path"
      ],
      "outputs": [],
      "execution_count": 21,
      "metadata": {}
    }
  ],
  "metadata": {
    "colab": {
      "include_colab_link": true,
      "name": "Untitled4.ipynb",
      "provenance": []
    },
    "kernelspec": {
      "name": "python3",
      "language": "python",
      "display_name": "Python 3"
    },
    "language_info": {
      "name": "python",
      "version": "3.7.3",
      "mimetype": "text/x-python",
      "codemirror_mode": {
        "name": "ipython",
        "version": 3
      },
      "pygments_lexer": "ipython3",
      "nbconvert_exporter": "python",
      "file_extension": ".py"
    },
    "kernel_info": {
      "name": "python3"
    },
    "nteract": {
      "version": "0.15.0"
    }
  },
  "nbformat": 4,
  "nbformat_minor": 1
}