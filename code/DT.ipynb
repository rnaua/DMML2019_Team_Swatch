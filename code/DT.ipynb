{
  "cells": [
    {
      "cell_type": "markdown",
      "source": [
        "DT with more observations"
      ],
      "metadata": {}
    },
    {
      "cell_type": "code",
      "source": [
        "import pandas as pd"
      ],
      "outputs": [],
      "execution_count": 45,
      "metadata": {
        "collapsed": false,
        "outputHidden": false,
        "inputHidden": false
      }
    },
    {
      "cell_type": "code",
      "source": [
        "df= pd.read_csv(\"/Users/tanjamarkotic/Desktop/DMML2019_Team_Swatch/data/DataWithLocationCleaned.csv.gz\")"
      ],
      "outputs": [],
      "execution_count": 46,
      "metadata": {
        "collapsed": false,
        "outputHidden": false,
        "inputHidden": false
      }
    },
    {
      "cell_type": "code",
      "source": [
        "import matplotlib.pyplot as plt\n",
        "%matplotlib inline\n",
        "import numpy as np\n",
        "import pandas as pd\n",
        "import seaborn as sns\n",
        "sns.set_style(\"darkgrid\")\n",
        "from sklearn.tree import DecisionTreeClassifier\n",
        "from sklearn.preprocessing import LabelEncoder, OneHotEncoder"
      ],
      "outputs": [],
      "execution_count": 47,
      "metadata": {
        "collapsed": false,
        "outputHidden": false,
        "inputHidden": false
      }
    },
    {
      "cell_type": "code",
      "source": [
        "df.head()"
      ],
      "outputs": [
        {
          "output_type": "execute_result",
          "execution_count": 48,
          "data": {
            "text/plain": [
              "  Port Name      State  Port Code            Border        Date  \\\n",
              "0   Warroad  Minnesota       3423  US-Canada Border  2019-06-01   \n",
              "1   Warroad  Minnesota       3423  US-Canada Border  2019-06-01   \n",
              "2   Warroad  Minnesota       3423  US-Canada Border  2019-06-01   \n",
              "3   Warroad  Minnesota       3423  US-Canada Border  2019-06-01   \n",
              "4   Warroad  Minnesota       3423  US-Canada Border  2019-06-01   \n",
              "\n",
              "                       Measure  Value  Year  Month                 position  \n",
              "0        Truck Containers Full    133  2019      6  (48.905266, -95.314404)  \n",
              "1       Truck Containers Empty    298  2019      6  (48.905266, -95.314404)  \n",
              "2            Personal Vehicles  10383  2019      6  (48.905266, -95.314404)  \n",
              "3  Personal Vehicle Passengers  19459  2019      6  (48.905266, -95.314404)  \n",
              "4                  Pedestrians      2  2019      6  (48.905266, -95.314404)  "
            ],
            "text/html": [
              "<div>\n",
              "<style scoped>\n",
              "    .dataframe tbody tr th:only-of-type {\n",
              "        vertical-align: middle;\n",
              "    }\n",
              "\n",
              "    .dataframe tbody tr th {\n",
              "        vertical-align: top;\n",
              "    }\n",
              "\n",
              "    .dataframe thead th {\n",
              "        text-align: right;\n",
              "    }\n",
              "</style>\n",
              "<table border=\"1\" class=\"dataframe\">\n",
              "  <thead>\n",
              "    <tr style=\"text-align: right;\">\n",
              "      <th></th>\n",
              "      <th>Port Name</th>\n",
              "      <th>State</th>\n",
              "      <th>Port Code</th>\n",
              "      <th>Border</th>\n",
              "      <th>Date</th>\n",
              "      <th>Measure</th>\n",
              "      <th>Value</th>\n",
              "      <th>Year</th>\n",
              "      <th>Month</th>\n",
              "      <th>position</th>\n",
              "    </tr>\n",
              "  </thead>\n",
              "  <tbody>\n",
              "    <tr>\n",
              "      <th>0</th>\n",
              "      <td>Warroad</td>\n",
              "      <td>Minnesota</td>\n",
              "      <td>3423</td>\n",
              "      <td>US-Canada Border</td>\n",
              "      <td>2019-06-01</td>\n",
              "      <td>Truck Containers Full</td>\n",
              "      <td>133</td>\n",
              "      <td>2019</td>\n",
              "      <td>6</td>\n",
              "      <td>(48.905266, -95.314404)</td>\n",
              "    </tr>\n",
              "    <tr>\n",
              "      <th>1</th>\n",
              "      <td>Warroad</td>\n",
              "      <td>Minnesota</td>\n",
              "      <td>3423</td>\n",
              "      <td>US-Canada Border</td>\n",
              "      <td>2019-06-01</td>\n",
              "      <td>Truck Containers Empty</td>\n",
              "      <td>298</td>\n",
              "      <td>2019</td>\n",
              "      <td>6</td>\n",
              "      <td>(48.905266, -95.314404)</td>\n",
              "    </tr>\n",
              "    <tr>\n",
              "      <th>2</th>\n",
              "      <td>Warroad</td>\n",
              "      <td>Minnesota</td>\n",
              "      <td>3423</td>\n",
              "      <td>US-Canada Border</td>\n",
              "      <td>2019-06-01</td>\n",
              "      <td>Personal Vehicles</td>\n",
              "      <td>10383</td>\n",
              "      <td>2019</td>\n",
              "      <td>6</td>\n",
              "      <td>(48.905266, -95.314404)</td>\n",
              "    </tr>\n",
              "    <tr>\n",
              "      <th>3</th>\n",
              "      <td>Warroad</td>\n",
              "      <td>Minnesota</td>\n",
              "      <td>3423</td>\n",
              "      <td>US-Canada Border</td>\n",
              "      <td>2019-06-01</td>\n",
              "      <td>Personal Vehicle Passengers</td>\n",
              "      <td>19459</td>\n",
              "      <td>2019</td>\n",
              "      <td>6</td>\n",
              "      <td>(48.905266, -95.314404)</td>\n",
              "    </tr>\n",
              "    <tr>\n",
              "      <th>4</th>\n",
              "      <td>Warroad</td>\n",
              "      <td>Minnesota</td>\n",
              "      <td>3423</td>\n",
              "      <td>US-Canada Border</td>\n",
              "      <td>2019-06-01</td>\n",
              "      <td>Pedestrians</td>\n",
              "      <td>2</td>\n",
              "      <td>2019</td>\n",
              "      <td>6</td>\n",
              "      <td>(48.905266, -95.314404)</td>\n",
              "    </tr>\n",
              "  </tbody>\n",
              "</table>\n",
              "</div>"
            ]
          },
          "metadata": {}
        }
      ],
      "execution_count": 48,
      "metadata": {
        "collapsed": false,
        "outputHidden": false,
        "inputHidden": false
      }
    },
    {
      "cell_type": "code",
      "source": [
        "# checking types\n",
        "df.dtypes"
      ],
      "outputs": [
        {
          "output_type": "execute_result",
          "execution_count": 49,
          "data": {
            "text/plain": [
              "Port Name    object\n",
              "State        object\n",
              "Port Code     int64\n",
              "Border       object\n",
              "Date         object\n",
              "Measure      object\n",
              "Value         int64\n",
              "Year          int64\n",
              "Month         int64\n",
              "position     object\n",
              "dtype: object"
            ]
          },
          "metadata": {}
        }
      ],
      "execution_count": 49,
      "metadata": {
        "collapsed": false,
        "outputHidden": false,
        "inputHidden": false
      }
    },
    {
      "cell_type": "code",
      "source": [
        "df = df[df['Measure'].isin(['Bus Passengers','Pedestrians','Personal Vehicle Passengers','Train Passengers'])]\n",
        "df = df.reset_index(drop=True)\n",
        "df.shape"
      ],
      "outputs": [
        {
          "output_type": "execute_result",
          "execution_count": 50,
          "data": {
            "text/plain": [
              "(116131, 10)"
            ]
          },
          "metadata": {}
        }
      ],
      "execution_count": 50,
      "metadata": {
        "collapsed": false,
        "outputHidden": false,
        "inputHidden": false
      }
    },
    {
      "cell_type": "code",
      "source": [
        "df.shape"
      ],
      "outputs": [
        {
          "output_type": "execute_result",
          "execution_count": 51,
          "data": {
            "text/plain": [
              "(116131, 10)"
            ]
          },
          "metadata": {}
        }
      ],
      "execution_count": 51,
      "metadata": {
        "collapsed": false,
        "outputHidden": false,
        "inputHidden": false
      }
    },
    {
      "cell_type": "code",
      "source": [
        "total = df.copy()"
      ],
      "outputs": [],
      "execution_count": 52,
      "metadata": {
        "collapsed": false,
        "outputHidden": false,
        "inputHidden": false
      }
    },
    {
      "cell_type": "code",
      "source": [
        "total['quant'] = pd.qcut(df['Value'],q = 8, duplicates = 'drop')\n",
        "print(\"intervalls for y:\")\n",
        "print(total['quant'].value_counts())\n",
        "print()\n",
        "le = LabelEncoder()\n",
        "total['y'] = le.fit_transform(total[\"quant\"])"
      ],
      "outputs": [
        {
          "output_type": "stream",
          "name": "stdout",
          "text": [
            "intervalls for y:\n",
            "(-0.001, 11.0]          43673\n",
            "(62918.0, 4447374.0]    14516\n",
            "(6943.0, 62918.0]       14516\n",
            "(1193.0, 6943.0]        14516\n",
            "(156.0, 1193.0]         14503\n",
            "(11.0, 156.0]           14407\n",
            "Name: quant, dtype: int64\n",
            "\n"
          ]
        }
      ],
      "execution_count": 53,
      "metadata": {
        "collapsed": false,
        "outputHidden": false,
        "inputHidden": false
      }
    },
    {
      "cell_type": "code",
      "source": [
        "#other option to get balanced classes by removing half of the observation in first interval\n",
        "total = total.drop(total[total['y'] == 0].sample(frac=.67).index)"
      ],
      "outputs": [],
      "execution_count": 54,
      "metadata": {
        "collapsed": false,
        "outputHidden": false,
        "inputHidden": false
      }
    },
    {
      "cell_type": "code",
      "source": [
        "total.shape"
      ],
      "outputs": [
        {
          "output_type": "execute_result",
          "execution_count": 55,
          "data": {
            "text/plain": [
              "(86870, 12)"
            ]
          },
          "metadata": {}
        }
      ],
      "execution_count": 55,
      "metadata": {
        "collapsed": false,
        "outputHidden": false,
        "inputHidden": false
      }
    },
    {
      "cell_type": "code",
      "source": [
        "total['quant'].value_counts()"
      ],
      "outputs": [
        {
          "output_type": "execute_result",
          "execution_count": 56,
          "data": {
            "text/plain": [
              "(62918.0, 4447374.0]    14516\n",
              "(6943.0, 62918.0]       14516\n",
              "(1193.0, 6943.0]        14516\n",
              "(156.0, 1193.0]         14503\n",
              "(-0.001, 11.0]          14412\n",
              "(11.0, 156.0]           14407\n",
              "Name: quant, dtype: int64"
            ]
          },
          "metadata": {}
        }
      ],
      "execution_count": 56,
      "metadata": {
        "collapsed": false,
        "outputHidden": false,
        "inputHidden": false
      }
    },
    {
      "cell_type": "code",
      "source": [
        "# check categories...\n",
        "total.sort_values(['Value'],ascending=False).head()"
      ],
      "outputs": [
        {
          "output_type": "execute_result",
          "execution_count": 57,
          "data": {
            "text/plain": [
              "      Port Name  State  Port Code            Border        Date  \\\n",
              "90369   El Paso  Texas       2402  US-Mexico Border  2001-03-01   \n",
              "93325   El Paso  Texas       2402  US-Mexico Border  2000-08-01   \n",
              "90890   El Paso  Texas       2402  US-Mexico Border  2001-02-01   \n",
              "90034   El Paso  Texas       2402  US-Mexico Border  2001-04-01   \n",
              "93966   El Paso  Texas       2402  US-Mexico Border  2000-06-01   \n",
              "\n",
              "                           Measure    Value  Year  Month  \\\n",
              "90369  Personal Vehicle Passengers  4447374  2001      3   \n",
              "93325  Personal Vehicle Passengers  4291774  2000      8   \n",
              "90890  Personal Vehicle Passengers  4281175  2001      2   \n",
              "90034  Personal Vehicle Passengers  4252128  2001      4   \n",
              "93966  Personal Vehicle Passengers  4235244  2000      6   \n",
              "\n",
              "                        position                 quant  y  \n",
              "90369  (31.7600372, -106.487287)  (62918.0, 4447374.0]  5  \n",
              "93325  (31.7600372, -106.487287)  (62918.0, 4447374.0]  5  \n",
              "90890  (31.7600372, -106.487287)  (62918.0, 4447374.0]  5  \n",
              "90034  (31.7600372, -106.487287)  (62918.0, 4447374.0]  5  \n",
              "93966  (31.7600372, -106.487287)  (62918.0, 4447374.0]  5  "
            ],
            "text/html": [
              "<div>\n",
              "<style scoped>\n",
              "    .dataframe tbody tr th:only-of-type {\n",
              "        vertical-align: middle;\n",
              "    }\n",
              "\n",
              "    .dataframe tbody tr th {\n",
              "        vertical-align: top;\n",
              "    }\n",
              "\n",
              "    .dataframe thead th {\n",
              "        text-align: right;\n",
              "    }\n",
              "</style>\n",
              "<table border=\"1\" class=\"dataframe\">\n",
              "  <thead>\n",
              "    <tr style=\"text-align: right;\">\n",
              "      <th></th>\n",
              "      <th>Port Name</th>\n",
              "      <th>State</th>\n",
              "      <th>Port Code</th>\n",
              "      <th>Border</th>\n",
              "      <th>Date</th>\n",
              "      <th>Measure</th>\n",
              "      <th>Value</th>\n",
              "      <th>Year</th>\n",
              "      <th>Month</th>\n",
              "      <th>position</th>\n",
              "      <th>quant</th>\n",
              "      <th>y</th>\n",
              "    </tr>\n",
              "  </thead>\n",
              "  <tbody>\n",
              "    <tr>\n",
              "      <th>90369</th>\n",
              "      <td>El Paso</td>\n",
              "      <td>Texas</td>\n",
              "      <td>2402</td>\n",
              "      <td>US-Mexico Border</td>\n",
              "      <td>2001-03-01</td>\n",
              "      <td>Personal Vehicle Passengers</td>\n",
              "      <td>4447374</td>\n",
              "      <td>2001</td>\n",
              "      <td>3</td>\n",
              "      <td>(31.7600372, -106.487287)</td>\n",
              "      <td>(62918.0, 4447374.0]</td>\n",
              "      <td>5</td>\n",
              "    </tr>\n",
              "    <tr>\n",
              "      <th>93325</th>\n",
              "      <td>El Paso</td>\n",
              "      <td>Texas</td>\n",
              "      <td>2402</td>\n",
              "      <td>US-Mexico Border</td>\n",
              "      <td>2000-08-01</td>\n",
              "      <td>Personal Vehicle Passengers</td>\n",
              "      <td>4291774</td>\n",
              "      <td>2000</td>\n",
              "      <td>8</td>\n",
              "      <td>(31.7600372, -106.487287)</td>\n",
              "      <td>(62918.0, 4447374.0]</td>\n",
              "      <td>5</td>\n",
              "    </tr>\n",
              "    <tr>\n",
              "      <th>90890</th>\n",
              "      <td>El Paso</td>\n",
              "      <td>Texas</td>\n",
              "      <td>2402</td>\n",
              "      <td>US-Mexico Border</td>\n",
              "      <td>2001-02-01</td>\n",
              "      <td>Personal Vehicle Passengers</td>\n",
              "      <td>4281175</td>\n",
              "      <td>2001</td>\n",
              "      <td>2</td>\n",
              "      <td>(31.7600372, -106.487287)</td>\n",
              "      <td>(62918.0, 4447374.0]</td>\n",
              "      <td>5</td>\n",
              "    </tr>\n",
              "    <tr>\n",
              "      <th>90034</th>\n",
              "      <td>El Paso</td>\n",
              "      <td>Texas</td>\n",
              "      <td>2402</td>\n",
              "      <td>US-Mexico Border</td>\n",
              "      <td>2001-04-01</td>\n",
              "      <td>Personal Vehicle Passengers</td>\n",
              "      <td>4252128</td>\n",
              "      <td>2001</td>\n",
              "      <td>4</td>\n",
              "      <td>(31.7600372, -106.487287)</td>\n",
              "      <td>(62918.0, 4447374.0]</td>\n",
              "      <td>5</td>\n",
              "    </tr>\n",
              "    <tr>\n",
              "      <th>93966</th>\n",
              "      <td>El Paso</td>\n",
              "      <td>Texas</td>\n",
              "      <td>2402</td>\n",
              "      <td>US-Mexico Border</td>\n",
              "      <td>2000-06-01</td>\n",
              "      <td>Personal Vehicle Passengers</td>\n",
              "      <td>4235244</td>\n",
              "      <td>2000</td>\n",
              "      <td>6</td>\n",
              "      <td>(31.7600372, -106.487287)</td>\n",
              "      <td>(62918.0, 4447374.0]</td>\n",
              "      <td>5</td>\n",
              "    </tr>\n",
              "  </tbody>\n",
              "</table>\n",
              "</div>"
            ]
          },
          "metadata": {}
        }
      ],
      "execution_count": 57,
      "metadata": {
        "collapsed": false,
        "outputHidden": false,
        "inputHidden": false
      }
    },
    {
      "cell_type": "code",
      "source": [
        "total = total.reset_index()\n",
        "total.head()"
      ],
      "outputs": [
        {
          "output_type": "execute_result",
          "execution_count": 73,
          "data": {
            "text/plain": [
              "   index Port Name      State  Port Code            Border        Date  \\\n",
              "0      0   Warroad  Minnesota       3423  US-Canada Border  2019-06-01   \n",
              "1      2   Warroad  Minnesota       3423  US-Canada Border  2019-06-01   \n",
              "2      3    Roseau  Minnesota       3426  US-Canada Border  2019-06-01   \n",
              "3      4    Roseau  Minnesota       3426  US-Canada Border  2019-06-01   \n",
              "4      5   Detroit   Michigan       3801  US-Canada Border  2019-06-01   \n",
              "\n",
              "                       Measure   Value  Year  Month  \\\n",
              "0  Personal Vehicle Passengers   19459  2019      6   \n",
              "1               Bus Passengers      63  2019      6   \n",
              "2  Personal Vehicle Passengers    7385  2019      6   \n",
              "3               Bus Passengers     118  2019      6   \n",
              "4  Personal Vehicle Passengers  599521  2019      6   \n",
              "\n",
              "                    position                 quant  y  \n",
              "0    (48.905266, -95.314404)     (6943.0, 62918.0]  4  \n",
              "1    (48.905266, -95.314404)         (11.0, 156.0]  1  \n",
              "2  (48.7710371, -95.7697882)     (6943.0, 62918.0]  4  \n",
              "3  (48.7710371, -95.7697882)         (11.0, 156.0]  1  \n",
              "4  (42.3315509, -83.0466403)  (62918.0, 4447374.0]  5  "
            ],
            "text/html": [
              "<div>\n",
              "<style scoped>\n",
              "    .dataframe tbody tr th:only-of-type {\n",
              "        vertical-align: middle;\n",
              "    }\n",
              "\n",
              "    .dataframe tbody tr th {\n",
              "        vertical-align: top;\n",
              "    }\n",
              "\n",
              "    .dataframe thead th {\n",
              "        text-align: right;\n",
              "    }\n",
              "</style>\n",
              "<table border=\"1\" class=\"dataframe\">\n",
              "  <thead>\n",
              "    <tr style=\"text-align: right;\">\n",
              "      <th></th>\n",
              "      <th>index</th>\n",
              "      <th>Port Name</th>\n",
              "      <th>State</th>\n",
              "      <th>Port Code</th>\n",
              "      <th>Border</th>\n",
              "      <th>Date</th>\n",
              "      <th>Measure</th>\n",
              "      <th>Value</th>\n",
              "      <th>Year</th>\n",
              "      <th>Month</th>\n",
              "      <th>position</th>\n",
              "      <th>quant</th>\n",
              "      <th>y</th>\n",
              "    </tr>\n",
              "  </thead>\n",
              "  <tbody>\n",
              "    <tr>\n",
              "      <th>0</th>\n",
              "      <td>0</td>\n",
              "      <td>Warroad</td>\n",
              "      <td>Minnesota</td>\n",
              "      <td>3423</td>\n",
              "      <td>US-Canada Border</td>\n",
              "      <td>2019-06-01</td>\n",
              "      <td>Personal Vehicle Passengers</td>\n",
              "      <td>19459</td>\n",
              "      <td>2019</td>\n",
              "      <td>6</td>\n",
              "      <td>(48.905266, -95.314404)</td>\n",
              "      <td>(6943.0, 62918.0]</td>\n",
              "      <td>4</td>\n",
              "    </tr>\n",
              "    <tr>\n",
              "      <th>1</th>\n",
              "      <td>2</td>\n",
              "      <td>Warroad</td>\n",
              "      <td>Minnesota</td>\n",
              "      <td>3423</td>\n",
              "      <td>US-Canada Border</td>\n",
              "      <td>2019-06-01</td>\n",
              "      <td>Bus Passengers</td>\n",
              "      <td>63</td>\n",
              "      <td>2019</td>\n",
              "      <td>6</td>\n",
              "      <td>(48.905266, -95.314404)</td>\n",
              "      <td>(11.0, 156.0]</td>\n",
              "      <td>1</td>\n",
              "    </tr>\n",
              "    <tr>\n",
              "      <th>2</th>\n",
              "      <td>3</td>\n",
              "      <td>Roseau</td>\n",
              "      <td>Minnesota</td>\n",
              "      <td>3426</td>\n",
              "      <td>US-Canada Border</td>\n",
              "      <td>2019-06-01</td>\n",
              "      <td>Personal Vehicle Passengers</td>\n",
              "      <td>7385</td>\n",
              "      <td>2019</td>\n",
              "      <td>6</td>\n",
              "      <td>(48.7710371, -95.7697882)</td>\n",
              "      <td>(6943.0, 62918.0]</td>\n",
              "      <td>4</td>\n",
              "    </tr>\n",
              "    <tr>\n",
              "      <th>3</th>\n",
              "      <td>4</td>\n",
              "      <td>Roseau</td>\n",
              "      <td>Minnesota</td>\n",
              "      <td>3426</td>\n",
              "      <td>US-Canada Border</td>\n",
              "      <td>2019-06-01</td>\n",
              "      <td>Bus Passengers</td>\n",
              "      <td>118</td>\n",
              "      <td>2019</td>\n",
              "      <td>6</td>\n",
              "      <td>(48.7710371, -95.7697882)</td>\n",
              "      <td>(11.0, 156.0]</td>\n",
              "      <td>1</td>\n",
              "    </tr>\n",
              "    <tr>\n",
              "      <th>4</th>\n",
              "      <td>5</td>\n",
              "      <td>Detroit</td>\n",
              "      <td>Michigan</td>\n",
              "      <td>3801</td>\n",
              "      <td>US-Canada Border</td>\n",
              "      <td>2019-06-01</td>\n",
              "      <td>Personal Vehicle Passengers</td>\n",
              "      <td>599521</td>\n",
              "      <td>2019</td>\n",
              "      <td>6</td>\n",
              "      <td>(42.3315509, -83.0466403)</td>\n",
              "      <td>(62918.0, 4447374.0]</td>\n",
              "      <td>5</td>\n",
              "    </tr>\n",
              "  </tbody>\n",
              "</table>\n",
              "</div>"
            ]
          },
          "metadata": {}
        }
      ],
      "execution_count": 73,
      "metadata": {
        "collapsed": false,
        "outputHidden": false,
        "inputHidden": false
      }
    },
    {
      "cell_type": "code",
      "source": [
        "#features but possibly add lat, long, measure\n",
        "X = total[[\"Year\",\"Month\", \"Port Code\"]]\n",
        "y = total[\"y\"]\n",
        "X.shape"
      ],
      "outputs": [
        {
          "output_type": "execute_result",
          "execution_count": 74,
          "data": {
            "text/plain": [
              "(86870, 3)"
            ]
          },
          "metadata": {}
        }
      ],
      "execution_count": 74,
      "metadata": {
        "collapsed": false,
        "outputHidden": false,
        "inputHidden": false
      }
    },
    {
      "cell_type": "code",
      "source": [
        "X.isnull().sum()"
      ],
      "outputs": [
        {
          "output_type": "execute_result",
          "execution_count": 75,
          "data": {
            "text/plain": [
              "Year         0\n",
              "Month        0\n",
              "Port Code    0\n",
              "dtype: int64"
            ]
          },
          "metadata": {}
        }
      ],
      "execution_count": 75,
      "metadata": {
        "collapsed": false,
        "outputHidden": false,
        "inputHidden": false
      }
    },
    {
      "cell_type": "code",
      "source": [
        "y.isnull().sum()"
      ],
      "outputs": [
        {
          "output_type": "execute_result",
          "execution_count": 76,
          "data": {
            "text/plain": [
              "0"
            ]
          },
          "metadata": {}
        }
      ],
      "execution_count": 76,
      "metadata": {
        "collapsed": false,
        "outputHidden": false,
        "inputHidden": false
      }
    },
    {
      "cell_type": "code",
      "source": [
        "X.head()"
      ],
      "outputs": [
        {
          "output_type": "execute_result",
          "execution_count": 77,
          "data": {
            "text/plain": [
              "   Year  Month  Port Code\n",
              "0  2019      6       3423\n",
              "1  2019      6       3423\n",
              "2  2019      6       3426\n",
              "3  2019      6       3426\n",
              "4  2019      6       3801"
            ],
            "text/html": [
              "<div>\n",
              "<style scoped>\n",
              "    .dataframe tbody tr th:only-of-type {\n",
              "        vertical-align: middle;\n",
              "    }\n",
              "\n",
              "    .dataframe tbody tr th {\n",
              "        vertical-align: top;\n",
              "    }\n",
              "\n",
              "    .dataframe thead th {\n",
              "        text-align: right;\n",
              "    }\n",
              "</style>\n",
              "<table border=\"1\" class=\"dataframe\">\n",
              "  <thead>\n",
              "    <tr style=\"text-align: right;\">\n",
              "      <th></th>\n",
              "      <th>Year</th>\n",
              "      <th>Month</th>\n",
              "      <th>Port Code</th>\n",
              "    </tr>\n",
              "  </thead>\n",
              "  <tbody>\n",
              "    <tr>\n",
              "      <th>0</th>\n",
              "      <td>2019</td>\n",
              "      <td>6</td>\n",
              "      <td>3423</td>\n",
              "    </tr>\n",
              "    <tr>\n",
              "      <th>1</th>\n",
              "      <td>2019</td>\n",
              "      <td>6</td>\n",
              "      <td>3423</td>\n",
              "    </tr>\n",
              "    <tr>\n",
              "      <th>2</th>\n",
              "      <td>2019</td>\n",
              "      <td>6</td>\n",
              "      <td>3426</td>\n",
              "    </tr>\n",
              "    <tr>\n",
              "      <th>3</th>\n",
              "      <td>2019</td>\n",
              "      <td>6</td>\n",
              "      <td>3426</td>\n",
              "    </tr>\n",
              "    <tr>\n",
              "      <th>4</th>\n",
              "      <td>2019</td>\n",
              "      <td>6</td>\n",
              "      <td>3801</td>\n",
              "    </tr>\n",
              "  </tbody>\n",
              "</table>\n",
              "</div>"
            ]
          },
          "metadata": {}
        }
      ],
      "execution_count": 77,
      "metadata": {
        "collapsed": false,
        "outputHidden": false,
        "inputHidden": false
      }
    },
    {
      "cell_type": "code",
      "source": [
        "y = y.astype('int')\n",
        "y.head()"
      ],
      "outputs": [
        {
          "output_type": "execute_result",
          "execution_count": 78,
          "data": {
            "text/plain": [
              "0    4\n",
              "1    1\n",
              "2    4\n",
              "3    1\n",
              "4    5\n",
              "Name: y, dtype: int64"
            ]
          },
          "metadata": {}
        }
      ],
      "execution_count": 78,
      "metadata": {
        "collapsed": false,
        "outputHidden": false,
        "inputHidden": false
      }
    },
    {
      "cell_type": "code",
      "source": [
        "# one-hot encoding for Border\n",
        "one_hot = OneHotEncoder(categories=\"auto\")\n",
        "cat_to_onehot = one_hot.fit_transform(total[[\"Border\"]]).toarray()\n",
        "cat_to_onehot = pd.DataFrame(cat_to_onehot)\n",
        "cat_to_onehot.shape"
      ],
      "outputs": [
        {
          "output_type": "execute_result",
          "execution_count": 79,
          "data": {
            "text/plain": [
              "(86870, 2)"
            ]
          },
          "metadata": {}
        }
      ],
      "execution_count": 79,
      "metadata": {
        "collapsed": false,
        "outputHidden": false,
        "inputHidden": false
      }
    },
    {
      "cell_type": "code",
      "source": [
        "X = pd.concat((X, cat_to_onehot), axis=1, join='inner')\n",
        "\n",
        "X.shape"
      ],
      "outputs": [
        {
          "output_type": "execute_result",
          "execution_count": 80,
          "data": {
            "text/plain": [
              "(86870, 5)"
            ]
          },
          "metadata": {}
        }
      ],
      "execution_count": 80,
      "metadata": {
        "collapsed": false,
        "outputHidden": false,
        "inputHidden": false
      }
    },
    {
      "cell_type": "code",
      "source": [
        "X.isnull().sum()"
      ],
      "outputs": [
        {
          "output_type": "execute_result",
          "execution_count": 81,
          "data": {
            "text/plain": [
              "Year         0\n",
              "Month        0\n",
              "Port Code    0\n",
              "0            0\n",
              "1            0\n",
              "dtype: int64"
            ]
          },
          "metadata": {}
        }
      ],
      "execution_count": 81,
      "metadata": {
        "collapsed": false,
        "outputHidden": false,
        "inputHidden": false
      }
    },
    {
      "cell_type": "code",
      "source": [
        "X = X.rename(columns={0: \"Canada Border\", 1: \"Mexico Border\"})\n",
        "X.head()"
      ],
      "outputs": [
        {
          "output_type": "execute_result",
          "execution_count": 82,
          "data": {
            "text/plain": [
              "   Year  Month  Port Code  Canada Border  Mexico Border\n",
              "0  2019      6       3423            1.0            0.0\n",
              "1  2019      6       3423            1.0            0.0\n",
              "2  2019      6       3426            1.0            0.0\n",
              "3  2019      6       3426            1.0            0.0\n",
              "4  2019      6       3801            1.0            0.0"
            ],
            "text/html": [
              "<div>\n",
              "<style scoped>\n",
              "    .dataframe tbody tr th:only-of-type {\n",
              "        vertical-align: middle;\n",
              "    }\n",
              "\n",
              "    .dataframe tbody tr th {\n",
              "        vertical-align: top;\n",
              "    }\n",
              "\n",
              "    .dataframe thead th {\n",
              "        text-align: right;\n",
              "    }\n",
              "</style>\n",
              "<table border=\"1\" class=\"dataframe\">\n",
              "  <thead>\n",
              "    <tr style=\"text-align: right;\">\n",
              "      <th></th>\n",
              "      <th>Year</th>\n",
              "      <th>Month</th>\n",
              "      <th>Port Code</th>\n",
              "      <th>Canada Border</th>\n",
              "      <th>Mexico Border</th>\n",
              "    </tr>\n",
              "  </thead>\n",
              "  <tbody>\n",
              "    <tr>\n",
              "      <th>0</th>\n",
              "      <td>2019</td>\n",
              "      <td>6</td>\n",
              "      <td>3423</td>\n",
              "      <td>1.0</td>\n",
              "      <td>0.0</td>\n",
              "    </tr>\n",
              "    <tr>\n",
              "      <th>1</th>\n",
              "      <td>2019</td>\n",
              "      <td>6</td>\n",
              "      <td>3423</td>\n",
              "      <td>1.0</td>\n",
              "      <td>0.0</td>\n",
              "    </tr>\n",
              "    <tr>\n",
              "      <th>2</th>\n",
              "      <td>2019</td>\n",
              "      <td>6</td>\n",
              "      <td>3426</td>\n",
              "      <td>1.0</td>\n",
              "      <td>0.0</td>\n",
              "    </tr>\n",
              "    <tr>\n",
              "      <th>3</th>\n",
              "      <td>2019</td>\n",
              "      <td>6</td>\n",
              "      <td>3426</td>\n",
              "      <td>1.0</td>\n",
              "      <td>0.0</td>\n",
              "    </tr>\n",
              "    <tr>\n",
              "      <th>4</th>\n",
              "      <td>2019</td>\n",
              "      <td>6</td>\n",
              "      <td>3801</td>\n",
              "      <td>1.0</td>\n",
              "      <td>0.0</td>\n",
              "    </tr>\n",
              "  </tbody>\n",
              "</table>\n",
              "</div>"
            ]
          },
          "metadata": {}
        }
      ],
      "execution_count": 82,
      "metadata": {
        "collapsed": false,
        "outputHidden": false,
        "inputHidden": false
      }
    },
    {
      "cell_type": "code",
      "source": [
        "from sklearn.model_selection import train_test_split\n",
        "X_train, X_test, y_train, y_test = train_test_split(X, y, test_size=0.2, random_state=72)"
      ],
      "outputs": [],
      "execution_count": 83,
      "metadata": {
        "collapsed": false,
        "outputHidden": false,
        "inputHidden": false
      }
    },
    {
      "cell_type": "code",
      "source": [
        "clf = DecisionTreeClassifier(criterion='entropy')"
      ],
      "outputs": [],
      "execution_count": 84,
      "metadata": {
        "collapsed": false,
        "outputHidden": false,
        "inputHidden": false
      }
    },
    {
      "cell_type": "code",
      "source": [
        "clf.fit(X_train, y_train)"
      ],
      "outputs": [
        {
          "output_type": "execute_result",
          "execution_count": 85,
          "data": {
            "text/plain": [
              "DecisionTreeClassifier(class_weight=None, criterion='entropy', max_depth=None,\n",
              "                       max_features=None, max_leaf_nodes=None,\n",
              "                       min_impurity_decrease=0.0, min_impurity_split=None,\n",
              "                       min_samples_leaf=1, min_samples_split=2,\n",
              "                       min_weight_fraction_leaf=0.0, presort=False,\n",
              "                       random_state=None, splitter='best')"
            ]
          },
          "metadata": {}
        }
      ],
      "execution_count": 85,
      "metadata": {
        "collapsed": false,
        "outputHidden": false,
        "inputHidden": false
      }
    },
    {
      "cell_type": "code",
      "source": [
        "# test accuracy\n",
        "clf.score(X_test,y_test)"
      ],
      "outputs": [
        {
          "output_type": "execute_result",
          "execution_count": 86,
          "data": {
            "text/plain": [
              "0.19022677564176355"
            ]
          },
          "metadata": {}
        }
      ],
      "execution_count": 86,
      "metadata": {
        "collapsed": false,
        "outputHidden": false,
        "inputHidden": false
      }
    },
    {
      "cell_type": "code",
      "source": [
        "# depth of the decision tree\n",
        "clf.get_depth()"
      ],
      "outputs": [
        {
          "output_type": "execute_result",
          "execution_count": 87,
          "data": {
            "text/plain": [
              "30"
            ]
          },
          "metadata": {}
        }
      ],
      "execution_count": 87,
      "metadata": {
        "collapsed": false,
        "outputHidden": false,
        "inputHidden": false
      }
    },
    {
      "cell_type": "code",
      "source": [
        "scores = []\n",
        "for d in range(1, 21):\n",
        "    clf = DecisionTreeClassifier(criterion='entropy', max_depth=d)\n",
        "    clf.fit(X_train, y_train)\n",
        "    scores.append(clf.score(X_test, y_test))"
      ],
      "outputs": [],
      "execution_count": 88,
      "metadata": {
        "collapsed": false,
        "outputHidden": false,
        "inputHidden": false
      }
    },
    {
      "cell_type": "code",
      "source": [
        "plt.plot(scores)\n",
        "plt.ylabel('accuracy', fontsize=15)\n",
        "plt.xlabel('depth', fontsize=15)"
      ],
      "outputs": [
        {
          "output_type": "execute_result",
          "execution_count": 89,
          "data": {
            "text/plain": [
              "Text(0.5, 0, 'depth')"
            ]
          },
          "metadata": {}
        },
        {
          "output_type": "display_data",
          "data": {
            "text/plain": [
              "<Figure size 432x288 with 1 Axes>"
            ],
            "image/png": "[encoded data removed]"
          },
          "metadata": {}
        }
      ],
      "execution_count": 89,
      "metadata": {
        "collapsed": false,
        "outputHidden": false,
        "inputHidden": false
      }
    },
    {
      "cell_type": "code",
      "source": [
        "# best depth\n",
        "np.argmax(scores)"
      ],
      "outputs": [
        {
          "output_type": "execute_result",
          "execution_count": 90,
          "data": {
            "text/plain": [
              "9"
            ]
          },
          "metadata": {}
        }
      ],
      "execution_count": 90,
      "metadata": {
        "collapsed": false,
        "outputHidden": false,
        "inputHidden": false
      }
    },
    {
      "cell_type": "code",
      "source": [
        "# feature importances for best classifier\n",
        "clf = DecisionTreeClassifier(criterion='entropy', max_depth=4)\n",
        "clf.fit(X_train, y_train)\n",
        "clf.feature_importances_"
      ],
      "outputs": [
        {
          "output_type": "execute_result",
          "execution_count": 91,
          "data": {
            "text/plain": [
              "array([0.0082885 , 0.        , 0.56680311, 0.42490839, 0.        ])"
            ]
          },
          "metadata": {}
        }
      ],
      "execution_count": 91,
      "metadata": {
        "collapsed": false,
        "outputHidden": false,
        "inputHidden": false
      }
    },
    {
      "cell_type": "code",
      "source": [
        "sorted(zip(X_train.columns, clf.feature_importances_), key=lambda x: x[1], reverse=True)"
      ],
      "outputs": [
        {
          "output_type": "execute_result",
          "execution_count": 92,
          "data": {
            "text/plain": [
              "[('Port Code', 0.5668031092306279),\n",
              " ('Canada Border', 0.42490839298599115),\n",
              " ('Year', 0.008288497783380876),\n",
              " ('Month', 0.0),\n",
              " ('Mexico Border', 0.0)]"
            ]
          },
          "metadata": {}
        }
      ],
      "execution_count": 92,
      "metadata": {
        "collapsed": false,
        "outputHidden": false,
        "inputHidden": false
      }
    },
    {
      "cell_type": "code",
      "source": [
        "from sklearn.externals.six import StringIO  \n",
        "from IPython.display import Image  \n",
        "from sklearn.tree import export_graphviz\n",
        "import pydotplus\n",
        "from IPython.display import SVG\n",
        "from graphviz import Source\n",
        "from IPython.display import display\n",
        "\n",
        "graph = Source(export_graphviz(clf, out_file=None\n",
        "   , feature_names=X_train.columns, class_names=['0','1','2','3','4','5','6','7'] \n",
        "   , filled = True))\n",
        "display(SVG(graph.pipe(format='svg')))"
      ],
      "outputs": [
        {
          "output_type": "display_data",
          "data": {
            "text/plain": [
              "<IPython.core.display.SVG object>"
            ],
            "image/svg+xml": [
              "<svg height=\"528pt\" viewBox=\"0.00 0.00 3883.04 528.00\" width=\"3883pt\" xmlns=\"http://www.w3.org/2000/svg\" xmlns:xlink=\"http://www.w3.org/1999/xlink\">\n",
              "<g class=\"graph\" id=\"graph0\" transform=\"scale(1 1) rotate(0) translate(4 524)\">\n",
              "<title>Tree</title>\n",
              "<polygon fill=\"white\" points=\"-4,4 -4,-524 3879.04,-524 3879.04,4 -4,4\" stroke=\"transparent\"/>\n",
              "<!-- 0 -->\n",
              "<g class=\"node\" id=\"node1\">\n",
              "<title>0</title>\n",
              "<polygon fill=\"#ffffff\" points=\"1995.22,-520 1683.32,-520 1683.32,-442 1995.22,-442 1995.22,-520\" stroke=\"black\"/>\n",
              "<text font-family=\"Times,serif\" font-size=\"14.00\" text-anchor=\"middle\" x=\"1839.27\" y=\"-504.8\">Canada Border &lt;= 0.5</text>\n",
              "<text font-family=\"Times,serif\" font-size=\"14.00\" text-anchor=\"middle\" x=\"1839.27\" y=\"-490.8\">entropy = 2.585</text>\n",
              "<text font-family=\"Times,serif\" font-size=\"14.00\" text-anchor=\"middle\" x=\"1839.27\" y=\"-476.8\">samples = 69496</text>\n",
              "<text font-family=\"Times,serif\" font-size=\"14.00\" text-anchor=\"middle\" x=\"1839.27\" y=\"-462.8\">value = [11511, 11573, 11615, 11586, 11620, 11591]</text>\n",
              "<text font-family=\"Times,serif\" font-size=\"14.00\" text-anchor=\"middle\" x=\"1839.27\" y=\"-448.8\">class = 4</text>\n",
              "</g>\n",
              "<!-- 1 -->\n",
              "<g class=\"node\" id=\"node2\">\n",
              "<title>1</title>\n",
              "<polygon fill=\"#f8c6e3\" points=\"1550.79,-406 1277.74,-406 1277.74,-328 1550.79,-328 1550.79,-406\" stroke=\"black\"/>\n",
              "<text font-family=\"Times,serif\" font-size=\"14.00\" text-anchor=\"middle\" x=\"1414.27\" y=\"-390.8\">Port Code &lt;= 2504.5</text>\n",
              "<text font-family=\"Times,serif\" font-size=\"14.00\" text-anchor=\"middle\" x=\"1414.27\" y=\"-376.8\">entropy = 2.274</text>\n",
              "<text font-family=\"Times,serif\" font-size=\"14.00\" text-anchor=\"middle\" x=\"1414.27\" y=\"-362.8\">samples = 18228</text>\n",
              "<text font-family=\"Times,serif\" font-size=\"14.00\" text-anchor=\"middle\" x=\"1414.27\" y=\"-348.8\">value = [1765, 1128, 1988, 2235, 3438, 7674]</text>\n",
              "<text font-family=\"Times,serif\" font-size=\"14.00\" text-anchor=\"middle\" x=\"1414.27\" y=\"-334.8\">class = 5</text>\n",
              "</g>\n",
              "<!-- 0&#45;&gt;1 -->\n",
              "<g class=\"edge\" id=\"edge1\">\n",
              "<title>0-&gt;1</title>\n",
              "<path d=\"M1694.79,-441.93C1651.5,-430.52 1604,-418 1560.59,-406.56\" fill=\"none\" stroke=\"black\"/>\n",
              "<polygon fill=\"black\" points=\"1561.38,-403.15 1550.82,-403.98 1559.59,-409.92 1561.38,-403.15\" stroke=\"black\"/>\n",
              "<text font-family=\"Times,serif\" font-size=\"14.00\" text-anchor=\"middle\" x=\"1563.41\" y=\"-421.38\">True</text>\n",
              "</g>\n",
              "<!-- 16 -->\n",
              "<g class=\"node\" id=\"node17\">\n",
              "<title>16</title>\n",
              "<polygon fill=\"#fdfffc\" points=\"2437.31,-406 2157.23,-406 2157.23,-328 2437.31,-328 2437.31,-406\" stroke=\"black\"/>\n",
              "<text font-family=\"Times,serif\" font-size=\"14.00\" text-anchor=\"middle\" x=\"2297.27\" y=\"-390.8\">Port Code &lt;= 3024.0</text>\n",
              "<text font-family=\"Times,serif\" font-size=\"14.00\" text-anchor=\"middle\" x=\"2297.27\" y=\"-376.8\">entropy = 2.53</text>\n",
              "<text font-family=\"Times,serif\" font-size=\"14.00\" text-anchor=\"middle\" x=\"2297.27\" y=\"-362.8\">samples = 51268</text>\n",
              "<text font-family=\"Times,serif\" font-size=\"14.00\" text-anchor=\"middle\" x=\"2297.27\" y=\"-348.8\">value = [9746, 10445, 9627, 9351, 8182, 3917]</text>\n",
              "<text font-family=\"Times,serif\" font-size=\"14.00\" text-anchor=\"middle\" x=\"2297.27\" y=\"-334.8\">class = 1</text>\n",
              "</g>\n",
              "<!-- 0&#45;&gt;16 -->\n",
              "<g class=\"edge\" id=\"edge16\">\n",
              "<title>0-&gt;16</title>\n",
              "<path d=\"M1994.97,-441.93C2044.09,-429.91 2098.26,-416.67 2147,-404.75\" fill=\"none\" stroke=\"black\"/>\n",
              "<polygon fill=\"black\" points=\"2148.11,-408.08 2156.99,-402.3 2146.45,-401.28 2148.11,-408.08\" stroke=\"black\"/>\n",
              "<text font-family=\"Times,serif\" font-size=\"14.00\" text-anchor=\"middle\" x=\"2144.02\" y=\"-419.47\">False</text>\n",
              "</g>\n",
              "<!-- 2 -->\n",
              "<g class=\"node\" id=\"node3\">\n",
              "<title>2</title>\n",
              "<polygon fill=\"#f6bbdd\" points=\"862.31,-292 596.23,-292 596.23,-214 862.31,-214 862.31,-292\" stroke=\"black\"/>\n",
              "<text font-family=\"Times,serif\" font-size=\"14.00\" text-anchor=\"middle\" x=\"729.27\" y=\"-276.8\">Port Code &lt;= 2456.0</text>\n",
              "<text font-family=\"Times,serif\" font-size=\"14.00\" text-anchor=\"middle\" x=\"729.27\" y=\"-262.8\">entropy = 2.134</text>\n",
              "<text font-family=\"Times,serif\" font-size=\"14.00\" text-anchor=\"middle\" x=\"729.27\" y=\"-248.8\">samples = 11348</text>\n",
              "<text font-family=\"Times,serif\" font-size=\"14.00\" text-anchor=\"middle\" x=\"729.27\" y=\"-234.8\">value = [1247, 242, 1072, 1465, 2074, 5248]</text>\n",
              "<text font-family=\"Times,serif\" font-size=\"14.00\" text-anchor=\"middle\" x=\"729.27\" y=\"-220.8\">class = 5</text>\n",
              "</g>\n",
              "<!-- 1&#45;&gt;2 -->\n",
              "<g class=\"edge\" id=\"edge2\">\n",
              "<title>1-&gt;2</title>\n",
              "<path d=\"M1277.71,-343.67C1160.31,-324.48 991.56,-296.89 872.32,-277.39\" fill=\"none\" stroke=\"black\"/>\n",
              "<polygon fill=\"black\" points=\"872.81,-273.92 862.38,-275.76 871.68,-280.83 872.81,-273.92\" stroke=\"black\"/>\n",
              "</g>\n",
              "<!-- 9 -->\n",
              "<g class=\"node\" id=\"node10\">\n",
              "<title>9</title>\n",
              "<polygon fill=\"#fad9ec\" points=\"1536.81,-292 1291.73,-292 1291.73,-214 1536.81,-214 1536.81,-292\" stroke=\"black\"/>\n",
              "<text font-family=\"Times,serif\" font-size=\"14.00\" text-anchor=\"middle\" x=\"1414.27\" y=\"-276.8\">Port Code &lt;= 2607.0</text>\n",
              "<text font-family=\"Times,serif\" font-size=\"14.00\" text-anchor=\"middle\" x=\"1414.27\" y=\"-262.8\">entropy = 2.396</text>\n",
              "<text font-family=\"Times,serif\" font-size=\"14.00\" text-anchor=\"middle\" x=\"1414.27\" y=\"-248.8\">samples = 6880</text>\n",
              "<text font-family=\"Times,serif\" font-size=\"14.00\" text-anchor=\"middle\" x=\"1414.27\" y=\"-234.8\">value = [518, 886, 916, 770, 1364, 2426]</text>\n",
              "<text font-family=\"Times,serif\" font-size=\"14.00\" text-anchor=\"middle\" x=\"1414.27\" y=\"-220.8\">class = 5</text>\n",
              "</g>\n",
              "<!-- 1&#45;&gt;9 -->\n",
              "<g class=\"edge\" id=\"edge9\">\n",
              "<title>1-&gt;9</title>\n",
              "<path d=\"M1414.27,-327.77C1414.27,-319.57 1414.27,-310.8 1414.27,-302.28\" fill=\"none\" stroke=\"black\"/>\n",
              "<polygon fill=\"black\" points=\"1417.77,-302.06 1414.27,-292.06 1410.77,-302.06 1417.77,-302.06\" stroke=\"black\"/>\n",
              "</g>\n",
              "<!-- 3 -->\n",
              "<g class=\"node\" id=\"node4\">\n",
              "<title>3</title>\n",
              "<polygon fill=\"#f8cae5\" points=\"501.81,-178 242.73,-178 242.73,-100 501.81,-100 501.81,-178\" stroke=\"black\"/>\n",
              "<text font-family=\"Times,serif\" font-size=\"14.00\" text-anchor=\"middle\" x=\"372.27\" y=\"-162.8\">Port Code &lt;= 2402.5</text>\n",
              "<text font-family=\"Times,serif\" font-size=\"14.00\" text-anchor=\"middle\" x=\"372.27\" y=\"-148.8\">entropy = 2.206</text>\n",
              "<text font-family=\"Times,serif\" font-size=\"14.00\" text-anchor=\"middle\" x=\"372.27\" y=\"-134.8\">samples = 9369</text>\n",
              "<text font-family=\"Times,serif\" font-size=\"14.00\" text-anchor=\"middle\" x=\"372.27\" y=\"-120.8\">value = [994, 202, 1012, 1354, 1903, 3904]</text>\n",
              "<text font-family=\"Times,serif\" font-size=\"14.00\" text-anchor=\"middle\" x=\"372.27\" y=\"-106.8\">class = 5</text>\n",
              "</g>\n",
              "<!-- 2&#45;&gt;3 -->\n",
              "<g class=\"edge\" id=\"edge3\">\n",
              "<title>2-&gt;3</title>\n",
              "<path d=\"M607.91,-213.93C574.19,-203.35 537.43,-191.81 503.18,-181.07\" fill=\"none\" stroke=\"black\"/>\n",
              "<polygon fill=\"black\" points=\"504.19,-177.72 493.6,-178.06 502.09,-184.4 504.19,-177.72\" stroke=\"black\"/>\n",
              "</g>\n",
              "<!-- 6 -->\n",
              "<g class=\"node\" id=\"node7\">\n",
              "<title>6</title>\n",
              "<polygon fill=\"#ef82c1\" points=\"840.78,-178 617.76,-178 617.76,-100 840.78,-100 840.78,-178\" stroke=\"black\"/>\n",
              "<text font-family=\"Times,serif\" font-size=\"14.00\" text-anchor=\"middle\" x=\"729.27\" y=\"-162.8\">Year &lt;= 2007.5</text>\n",
              "<text font-family=\"Times,serif\" font-size=\"14.00\" text-anchor=\"middle\" x=\"729.27\" y=\"-148.8\">entropy = 1.564</text>\n",
              "<text font-family=\"Times,serif\" font-size=\"14.00\" text-anchor=\"middle\" x=\"729.27\" y=\"-134.8\">samples = 1979</text>\n",
              "<text font-family=\"Times,serif\" font-size=\"14.00\" text-anchor=\"middle\" x=\"729.27\" y=\"-120.8\">value = [253, 40, 60, 111, 171, 1344]</text>\n",
              "<text font-family=\"Times,serif\" font-size=\"14.00\" text-anchor=\"middle\" x=\"729.27\" y=\"-106.8\">class = 5</text>\n",
              "</g>\n",
              "<!-- 2&#45;&gt;6 -->\n",
              "<g class=\"edge\" id=\"edge6\">\n",
              "<title>2-&gt;6</title>\n",
              "<path d=\"M729.27,-213.77C729.27,-205.57 729.27,-196.8 729.27,-188.28\" fill=\"none\" stroke=\"black\"/>\n",
              "<polygon fill=\"black\" points=\"732.77,-188.06 729.27,-178.06 725.77,-188.06 732.77,-188.06\" stroke=\"black\"/>\n",
              "</g>\n",
              "<!-- 4 -->\n",
              "<g class=\"node\" id=\"node5\">\n",
              "<title>4</title>\n",
              "<polygon fill=\"#f5b4da\" points=\"238.31,-64 0.23,-64 0.23,0 238.31,0 238.31,-64\" stroke=\"black\"/>\n",
              "<text font-family=\"Times,serif\" font-size=\"14.00\" text-anchor=\"middle\" x=\"119.27\" y=\"-48.8\">entropy = 2.016</text>\n",
              "<text font-family=\"Times,serif\" font-size=\"14.00\" text-anchor=\"middle\" x=\"119.27\" y=\"-34.8\">samples = 6563</text>\n",
              "<text font-family=\"Times,serif\" font-size=\"14.00\" text-anchor=\"middle\" x=\"119.27\" y=\"-20.8\">value = [618, 80, 539, 769, 1273, 3284]</text>\n",
              "<text font-family=\"Times,serif\" font-size=\"14.00\" text-anchor=\"middle\" x=\"119.27\" y=\"-6.8\">class = 5</text>\n",
              "</g>\n",
              "<!-- 3&#45;&gt;4 -->\n",
              "<g class=\"edge\" id=\"edge4\">\n",
              "<title>3-&gt;4</title>\n",
              "<path d=\"M280.57,-99.94C255.37,-89.48 228.16,-78.19 203.41,-67.92\" fill=\"none\" stroke=\"black\"/>\n",
              "<polygon fill=\"black\" points=\"204.63,-64.64 194.05,-64.04 201.94,-71.1 204.63,-64.64\" stroke=\"black\"/>\n",
              "</g>\n",
              "<!-- 5 -->\n",
              "<g class=\"node\" id=\"node6\">\n",
              "<title>5</title>\n",
              "<polygon fill=\"#fefeff\" points=\"487.81,-64 256.73,-64 256.73,0 487.81,0 487.81,-64\" stroke=\"black\"/>\n",
              "<text font-family=\"Times,serif\" font-size=\"14.00\" text-anchor=\"middle\" x=\"372.27\" y=\"-48.8\">entropy = 2.455</text>\n",
              "<text font-family=\"Times,serif\" font-size=\"14.00\" text-anchor=\"middle\" x=\"372.27\" y=\"-34.8\">samples = 2806</text>\n",
              "<text font-family=\"Times,serif\" font-size=\"14.00\" text-anchor=\"middle\" x=\"372.27\" y=\"-20.8\">value = [376, 122, 473, 585, 630, 620]</text>\n",
              "<text font-family=\"Times,serif\" font-size=\"14.00\" text-anchor=\"middle\" x=\"372.27\" y=\"-6.8\">class = 4</text>\n",
              "</g>\n",
              "<!-- 3&#45;&gt;5 -->\n",
              "<g class=\"edge\" id=\"edge5\">\n",
              "<title>3-&gt;5</title>\n",
              "<path d=\"M372.27,-99.8C372.27,-91.46 372.27,-82.6 372.27,-74.15\" fill=\"none\" stroke=\"black\"/>\n",
              "<polygon fill=\"black\" points=\"375.77,-74.12 372.27,-64.12 368.77,-74.12 375.77,-74.12\" stroke=\"black\"/>\n",
              "</g>\n",
              "<!-- 7 -->\n",
              "<g class=\"node\" id=\"node8\">\n",
              "<title>7</title>\n",
              "<polygon fill=\"#ee81c1\" points=\"709.81,-64 506.73,-64 506.73,0 709.81,0 709.81,-64\" stroke=\"black\"/>\n",
              "<text font-family=\"Times,serif\" font-size=\"14.00\" text-anchor=\"middle\" x=\"608.27\" y=\"-48.8\">entropy = 1.585</text>\n",
              "<text font-family=\"Times,serif\" font-size=\"14.00\" text-anchor=\"middle\" x=\"608.27\" y=\"-34.8\">samples = 1072</text>\n",
              "<text font-family=\"Times,serif\" font-size=\"14.00\" text-anchor=\"middle\" x=\"608.27\" y=\"-20.8\">value = [132, 39, 59, 76, 35, 731]</text>\n",
              "<text font-family=\"Times,serif\" font-size=\"14.00\" text-anchor=\"middle\" x=\"608.27\" y=\"-6.8\">class = 5</text>\n",
              "</g>\n",
              "<!-- 6&#45;&gt;7 -->\n",
              "<g class=\"edge\" id=\"edge7\">\n",
              "<title>6-&gt;7</title>\n",
              "<path d=\"M685.24,-99.8C674.37,-90.36 662.72,-80.25 651.87,-70.84\" fill=\"none\" stroke=\"black\"/>\n",
              "<polygon fill=\"black\" points=\"653.97,-68.03 644.13,-64.12 649.39,-73.31 653.97,-68.03\" stroke=\"black\"/>\n",
              "</g>\n",
              "<!-- 8 -->\n",
              "<g class=\"node\" id=\"node9\">\n",
              "<title>8</title>\n",
              "<polygon fill=\"#ef85c2\" points=\"924.31,-64 728.23,-64 728.23,0 924.31,0 924.31,-64\" stroke=\"black\"/>\n",
              "<text font-family=\"Times,serif\" font-size=\"14.00\" text-anchor=\"middle\" x=\"826.27\" y=\"-48.8\">entropy = 1.383</text>\n",
              "<text font-family=\"Times,serif\" font-size=\"14.00\" text-anchor=\"middle\" x=\"826.27\" y=\"-34.8\">samples = 907</text>\n",
              "<text font-family=\"Times,serif\" font-size=\"14.00\" text-anchor=\"middle\" x=\"826.27\" y=\"-20.8\">value = [121, 1, 1, 35, 136, 613]</text>\n",
              "<text font-family=\"Times,serif\" font-size=\"14.00\" text-anchor=\"middle\" x=\"826.27\" y=\"-6.8\">class = 5</text>\n",
              "</g>\n",
              "<!-- 6&#45;&gt;8 -->\n",
              "<g class=\"edge\" id=\"edge8\">\n",
              "<title>6-&gt;8</title>\n",
              "<path d=\"M764.56,-99.8C773.03,-90.63 782.07,-80.84 790.55,-71.66\" fill=\"none\" stroke=\"black\"/>\n",
              "<polygon fill=\"black\" points=\"793.31,-73.84 797.52,-64.12 788.17,-69.09 793.31,-73.84\" stroke=\"black\"/>\n",
              "</g>\n",
              "<!-- 10 -->\n",
              "<g class=\"node\" id=\"node11\">\n",
              "<title>10</title>\n",
              "<polygon fill=\"#fce5f2\" points=\"1418.81,-178 1173.73,-178 1173.73,-100 1418.81,-100 1418.81,-178\" stroke=\"black\"/>\n",
              "<text font-family=\"Times,serif\" font-size=\"14.00\" text-anchor=\"middle\" x=\"1296.27\" y=\"-162.8\">Port Code &lt;= 2605.0</text>\n",
              "<text font-family=\"Times,serif\" font-size=\"14.00\" text-anchor=\"middle\" x=\"1296.27\" y=\"-148.8\">entropy = 2.419</text>\n",
              "<text font-family=\"Times,serif\" font-size=\"14.00\" text-anchor=\"middle\" x=\"1296.27\" y=\"-134.8\">samples = 6195</text>\n",
              "<text font-family=\"Times,serif\" font-size=\"14.00\" text-anchor=\"middle\" x=\"1296.27\" y=\"-120.8\">value = [430, 758, 881, 770, 1364, 1992]</text>\n",
              "<text font-family=\"Times,serif\" font-size=\"14.00\" text-anchor=\"middle\" x=\"1296.27\" y=\"-106.8\">class = 5</text>\n",
              "</g>\n",
              "<!-- 9&#45;&gt;10 -->\n",
              "<g class=\"edge\" id=\"edge10\">\n",
              "<title>9-&gt;10</title>\n",
              "<path d=\"M1373.99,-213.77C1364.31,-204.58 1353.87,-194.68 1343.89,-185.2\" fill=\"none\" stroke=\"black\"/>\n",
              "<polygon fill=\"black\" points=\"1346.03,-182.4 1336.37,-178.06 1341.21,-187.48 1346.03,-182.4\" stroke=\"black\"/>\n",
              "</g>\n",
              "<!-- 13 -->\n",
              "<g class=\"node\" id=\"node14\">\n",
              "<title>13</title>\n",
              "<polygon fill=\"#f192c9\" points=\"1626.81,-178 1437.73,-178 1437.73,-100 1626.81,-100 1626.81,-178\" stroke=\"black\"/>\n",
              "<text font-family=\"Times,serif\" font-size=\"14.00\" text-anchor=\"middle\" x=\"1532.27\" y=\"-162.8\">Year &lt;= 2009.5</text>\n",
              "<text font-family=\"Times,serif\" font-size=\"14.00\" text-anchor=\"middle\" x=\"1532.27\" y=\"-148.8\">entropy = 1.469</text>\n",
              "<text font-family=\"Times,serif\" font-size=\"14.00\" text-anchor=\"middle\" x=\"1532.27\" y=\"-134.8\">samples = 685</text>\n",
              "<text font-family=\"Times,serif\" font-size=\"14.00\" text-anchor=\"middle\" x=\"1532.27\" y=\"-120.8\">value = [88, 128, 35, 0, 0, 434]</text>\n",
              "<text font-family=\"Times,serif\" font-size=\"14.00\" text-anchor=\"middle\" x=\"1532.27\" y=\"-106.8\">class = 5</text>\n",
              "</g>\n",
              "<!-- 9&#45;&gt;13 -->\n",
              "<g class=\"edge\" id=\"edge13\">\n",
              "<title>9-&gt;13</title>\n",
              "<path d=\"M1454.55,-213.77C1464.23,-204.58 1474.66,-194.68 1484.65,-185.2\" fill=\"none\" stroke=\"black\"/>\n",
              "<polygon fill=\"black\" points=\"1487.33,-187.48 1492.17,-178.06 1482.51,-182.4 1487.33,-187.48\" stroke=\"black\"/>\n",
              "</g>\n",
              "<!-- 11 -->\n",
              "<g class=\"node\" id=\"node12\">\n",
              "<title>11</title>\n",
              "<polygon fill=\"#fbdfef\" points=\"1187.81,-64 942.73,-64 942.73,0 1187.81,0 1187.81,-64\" stroke=\"black\"/>\n",
              "<text font-family=\"Times,serif\" font-size=\"14.00\" text-anchor=\"middle\" x=\"1065.27\" y=\"-48.8\">entropy = 2.346</text>\n",
              "<text font-family=\"Times,serif\" font-size=\"14.00\" text-anchor=\"middle\" x=\"1065.27\" y=\"-34.8\">samples = 5626</text>\n",
              "<text font-family=\"Times,serif\" font-size=\"14.00\" text-anchor=\"middle\" x=\"1065.27\" y=\"-20.8\">value = [292, 621, 800, 640, 1281, 1992]</text>\n",
              "<text font-family=\"Times,serif\" font-size=\"14.00\" text-anchor=\"middle\" x=\"1065.27\" y=\"-6.8\">class = 5</text>\n",
              "</g>\n",
              "<!-- 10&#45;&gt;11 -->\n",
              "<g class=\"edge\" id=\"edge11\">\n",
              "<title>10-&gt;11</title>\n",
              "<path d=\"M1212.55,-99.94C1189.74,-89.58 1165.13,-78.39 1142.69,-68.19\" fill=\"none\" stroke=\"black\"/>\n",
              "<polygon fill=\"black\" points=\"1144.1,-64.99 1133.55,-64.04 1141.2,-71.36 1144.1,-64.99\" stroke=\"black\"/>\n",
              "</g>\n",
              "<!-- 12 -->\n",
              "<g class=\"node\" id=\"node13\">\n",
              "<title>12</title>\n",
              "<polygon fill=\"#ffffff\" points=\"1409.81,-64 1206.73,-64 1206.73,0 1409.81,0 1409.81,-64\" stroke=\"black\"/>\n",
              "<text font-family=\"Times,serif\" font-size=\"14.00\" text-anchor=\"middle\" x=\"1308.27\" y=\"-48.8\">entropy = 2.282</text>\n",
              "<text font-family=\"Times,serif\" font-size=\"14.00\" text-anchor=\"middle\" x=\"1308.27\" y=\"-34.8\">samples = 569</text>\n",
              "<text font-family=\"Times,serif\" font-size=\"14.00\" text-anchor=\"middle\" x=\"1308.27\" y=\"-20.8\">value = [138, 137, 81, 130, 83, 0]</text>\n",
              "<text font-family=\"Times,serif\" font-size=\"14.00\" text-anchor=\"middle\" x=\"1308.27\" y=\"-6.8\">class = 0</text>\n",
              "</g>\n",
              "<!-- 10&#45;&gt;12 -->\n",
              "<g class=\"edge\" id=\"edge12\">\n",
              "<title>10-&gt;12</title>\n",
              "<path d=\"M1300.63,-99.8C1301.59,-91.46 1302.6,-82.6 1303.57,-74.15\" fill=\"none\" stroke=\"black\"/>\n",
              "<polygon fill=\"black\" points=\"1307.05,-74.45 1304.71,-64.12 1300.1,-73.66 1307.05,-74.45\" stroke=\"black\"/>\n",
              "</g>\n",
              "<!-- 14 -->\n",
              "<g class=\"node\" id=\"node15\">\n",
              "<title>14</title>\n",
              "<polygon fill=\"#f29acd\" points=\"1610.31,-64 1428.23,-64 1428.23,0 1610.31,0 1610.31,-64\" stroke=\"black\"/>\n",
              "<text font-family=\"Times,serif\" font-size=\"14.00\" text-anchor=\"middle\" x=\"1519.27\" y=\"-48.8\">entropy = 1.562</text>\n",
              "<text font-family=\"Times,serif\" font-size=\"14.00\" text-anchor=\"middle\" x=\"1519.27\" y=\"-34.8\">samples = 430</text>\n",
              "<text font-family=\"Times,serif\" font-size=\"14.00\" text-anchor=\"middle\" x=\"1519.27\" y=\"-20.8\">value = [53, 82, 35, 0, 0, 260]</text>\n",
              "<text font-family=\"Times,serif\" font-size=\"14.00\" text-anchor=\"middle\" x=\"1519.27\" y=\"-6.8\">class = 5</text>\n",
              "</g>\n",
              "<!-- 13&#45;&gt;14 -->\n",
              "<g class=\"edge\" id=\"edge14\">\n",
              "<title>13-&gt;14</title>\n",
              "<path d=\"M1527.54,-99.8C1526.51,-91.46 1525.41,-82.6 1524.36,-74.15\" fill=\"none\" stroke=\"black\"/>\n",
              "<polygon fill=\"black\" points=\"1527.82,-73.61 1523.12,-64.12 1520.88,-74.47 1527.82,-73.61\" stroke=\"black\"/>\n",
              "</g>\n",
              "<!-- 15 -->\n",
              "<g class=\"node\" id=\"node16\">\n",
              "<title>15</title>\n",
              "<polygon fill=\"#ef86c3\" points=\"1803.81,-64 1628.73,-64 1628.73,0 1803.81,0 1803.81,-64\" stroke=\"black\"/>\n",
              "<text font-family=\"Times,serif\" font-size=\"14.00\" text-anchor=\"middle\" x=\"1716.27\" y=\"-48.8\">entropy = 1.215</text>\n",
              "<text font-family=\"Times,serif\" font-size=\"14.00\" text-anchor=\"middle\" x=\"1716.27\" y=\"-34.8\">samples = 255</text>\n",
              "<text font-family=\"Times,serif\" font-size=\"14.00\" text-anchor=\"middle\" x=\"1716.27\" y=\"-20.8\">value = [35, 46, 0, 0, 0, 174]</text>\n",
              "<text font-family=\"Times,serif\" font-size=\"14.00\" text-anchor=\"middle\" x=\"1716.27\" y=\"-6.8\">class = 5</text>\n",
              "</g>\n",
              "<!-- 13&#45;&gt;15 -->\n",
              "<g class=\"edge\" id=\"edge15\">\n",
              "<title>13-&gt;15</title>\n",
              "<path d=\"M1598.96,-99.94C1616.56,-89.9 1635.51,-79.09 1652.93,-69.15\" fill=\"none\" stroke=\"black\"/>\n",
              "<polygon fill=\"black\" points=\"1654.93,-72.03 1661.88,-64.04 1651.46,-65.95 1654.93,-72.03\" stroke=\"black\"/>\n",
              "</g>\n",
              "<!-- 17 -->\n",
              "<g class=\"node\" id=\"node18\">\n",
              "<title>17</title>\n",
              "<polygon fill=\"#f7fdee\" points=\"2433.81,-292 2160.73,-292 2160.73,-214 2433.81,-214 2433.81,-292\" stroke=\"black\"/>\n",
              "<text font-family=\"Times,serif\" font-size=\"14.00\" text-anchor=\"middle\" x=\"2297.27\" y=\"-276.8\">Port Code &lt;= 111.0</text>\n",
              "<text font-family=\"Times,serif\" font-size=\"14.00\" text-anchor=\"middle\" x=\"2297.27\" y=\"-262.8\">entropy = 2.533</text>\n",
              "<text font-family=\"Times,serif\" font-size=\"14.00\" text-anchor=\"middle\" x=\"2297.27\" y=\"-248.8\">samples = 24261</text>\n",
              "<text font-family=\"Times,serif\" font-size=\"14.00\" text-anchor=\"middle\" x=\"2297.27\" y=\"-234.8\">value = [3420, 6249, 3257, 3897, 4573, 2865]</text>\n",
              "<text font-family=\"Times,serif\" font-size=\"14.00\" text-anchor=\"middle\" x=\"2297.27\" y=\"-220.8\">class = 1</text>\n",
              "</g>\n",
              "<!-- 16&#45;&gt;17 -->\n",
              "<g class=\"edge\" id=\"edge17\">\n",
              "<title>16-&gt;17</title>\n",
              "<path d=\"M2297.27,-327.77C2297.27,-319.57 2297.27,-310.8 2297.27,-302.28\" fill=\"none\" stroke=\"black\"/>\n",
              "<polygon fill=\"black\" points=\"2300.77,-302.06 2297.27,-292.06 2293.77,-302.06 2300.77,-302.06\" stroke=\"black\"/>\n",
              "</g>\n",
              "<!-- 24 -->\n",
              "<g class=\"node\" id=\"node25\">\n",
              "<title>24</title>\n",
              "<polygon fill=\"#ffffff\" points=\"3263.81,-292 2990.73,-292 2990.73,-214 3263.81,-214 3263.81,-292\" stroke=\"black\"/>\n",
              "<text font-family=\"Times,serif\" font-size=\"14.00\" text-anchor=\"middle\" x=\"3127.27\" y=\"-276.8\">Port Code &lt;= 3517.0</text>\n",
              "<text font-family=\"Times,serif\" font-size=\"14.00\" text-anchor=\"middle\" x=\"3127.27\" y=\"-262.8\">entropy = 2.436</text>\n",
              "<text font-family=\"Times,serif\" font-size=\"14.00\" text-anchor=\"middle\" x=\"3127.27\" y=\"-248.8\">samples = 27007</text>\n",
              "<text font-family=\"Times,serif\" font-size=\"14.00\" text-anchor=\"middle\" x=\"3127.27\" y=\"-234.8\">value = [6326, 4196, 6370, 5454, 3609, 1052]</text>\n",
              "<text font-family=\"Times,serif\" font-size=\"14.00\" text-anchor=\"middle\" x=\"3127.27\" y=\"-220.8\">class = 2</text>\n",
              "</g>\n",
              "<!-- 16&#45;&gt;24 -->\n",
              "<g class=\"edge\" id=\"edge24\">\n",
              "<title>16-&gt;24</title>\n",
              "<path d=\"M2437.6,-347.06C2588.45,-326.71 2827.18,-294.49 2980.48,-273.81\" fill=\"none\" stroke=\"black\"/>\n",
              "<polygon fill=\"black\" points=\"2981.01,-277.27 2990.45,-272.46 2980.07,-270.33 2981.01,-277.27\" stroke=\"black\"/>\n",
              "</g>\n",
              "<!-- 18 -->\n",
              "<g class=\"node\" id=\"node19\">\n",
              "<title>18</title>\n",
              "<polygon fill=\"#f0fbe0\" points=\"2280.81,-178 2035.73,-178 2035.73,-100 2280.81,-100 2280.81,-178\" stroke=\"black\"/>\n",
              "<text font-family=\"Times,serif\" font-size=\"14.00\" text-anchor=\"middle\" x=\"2158.27\" y=\"-162.8\">Port Code &lt;= 102.0</text>\n",
              "<text font-family=\"Times,serif\" font-size=\"14.00\" text-anchor=\"middle\" x=\"2158.27\" y=\"-148.8\">entropy = 2.305</text>\n",
              "<text font-family=\"Times,serif\" font-size=\"14.00\" text-anchor=\"middle\" x=\"2158.27\" y=\"-134.8\">samples = 5780</text>\n",
              "<text font-family=\"Times,serif\" font-size=\"14.00\" text-anchor=\"middle\" x=\"2158.27\" y=\"-120.8\">value = [805, 2046, 924, 373, 1356, 276]</text>\n",
              "<text font-family=\"Times,serif\" font-size=\"14.00\" text-anchor=\"middle\" x=\"2158.27\" y=\"-106.8\">class = 1</text>\n",
              "</g>\n",
              "<!-- 17&#45;&gt;18 -->\n",
              "<g class=\"edge\" id=\"edge18\">\n",
              "<title>17-&gt;18</title>\n",
              "<path d=\"M2249.82,-213.77C2238.08,-204.31 2225.4,-194.09 2213.33,-184.37\" fill=\"none\" stroke=\"black\"/>\n",
              "<polygon fill=\"black\" points=\"2215.48,-181.61 2205.5,-178.06 2211.09,-187.06 2215.48,-181.61\" stroke=\"black\"/>\n",
              "</g>\n",
              "<!-- 21 -->\n",
              "<g class=\"node\" id=\"node22\">\n",
              "<title>21</title>\n",
              "<polygon fill=\"#fbfef6\" points=\"2572.81,-178 2299.73,-178 2299.73,-100 2572.81,-100 2572.81,-178\" stroke=\"black\"/>\n",
              "<text font-family=\"Times,serif\" font-size=\"14.00\" text-anchor=\"middle\" x=\"2436.27\" y=\"-162.8\">Port Code &lt;= 3009.5</text>\n",
              "<text font-family=\"Times,serif\" font-size=\"14.00\" text-anchor=\"middle\" x=\"2436.27\" y=\"-148.8\">entropy = 2.554</text>\n",
              "<text font-family=\"Times,serif\" font-size=\"14.00\" text-anchor=\"middle\" x=\"2436.27\" y=\"-134.8\">samples = 18481</text>\n",
              "<text font-family=\"Times,serif\" font-size=\"14.00\" text-anchor=\"middle\" x=\"2436.27\" y=\"-120.8\">value = [2615, 4203, 2333, 3524, 3217, 2589]</text>\n",
              "<text font-family=\"Times,serif\" font-size=\"14.00\" text-anchor=\"middle\" x=\"2436.27\" y=\"-106.8\">class = 1</text>\n",
              "</g>\n",
              "<!-- 17&#45;&gt;21 -->\n",
              "<g class=\"edge\" id=\"edge21\">\n",
              "<title>17-&gt;21</title>\n",
              "<path d=\"M2344.72,-213.77C2356.46,-204.31 2369.14,-194.09 2381.21,-184.37\" fill=\"none\" stroke=\"black\"/>\n",
              "<polygon fill=\"black\" points=\"2383.44,-187.06 2389.04,-178.06 2379.05,-181.61 2383.44,-187.06\" stroke=\"black\"/>\n",
              "</g>\n",
              "<!-- 19 -->\n",
              "<g class=\"node\" id=\"node20\">\n",
              "<title>19</title>\n",
              "<polygon fill=\"#fae5d5\" points=\"2018.29,-64 1822.24,-64 1822.24,0 2018.29,0 2018.29,-64\" stroke=\"black\"/>\n",
              "<text font-family=\"Times,serif\" font-size=\"14.00\" text-anchor=\"middle\" x=\"1920.27\" y=\"-48.8\">entropy = 1.83</text>\n",
              "<text font-family=\"Times,serif\" font-size=\"14.00\" text-anchor=\"middle\" x=\"1920.27\" y=\"-34.8\">samples = 350</text>\n",
              "<text font-family=\"Times,serif\" font-size=\"14.00\" text-anchor=\"middle\" x=\"1920.27\" y=\"-20.8\">value = [162, 13, 41, 112, 22, 0]</text>\n",
              "<text font-family=\"Times,serif\" font-size=\"14.00\" text-anchor=\"middle\" x=\"1920.27\" y=\"-6.8\">class = 0</text>\n",
              "</g>\n",
              "<!-- 18&#45;&gt;19 -->\n",
              "<g class=\"edge\" id=\"edge19\">\n",
              "<title>18-&gt;19</title>\n",
              "<path d=\"M2072.01,-99.94C2048.51,-89.58 2023.16,-78.39 2000.04,-68.19\" fill=\"none\" stroke=\"black\"/>\n",
              "<polygon fill=\"black\" points=\"2001.18,-64.87 1990.62,-64.04 1998.35,-71.27 2001.18,-64.87\" stroke=\"black\"/>\n",
              "</g>\n",
              "<!-- 20 -->\n",
              "<g class=\"node\" id=\"node21\">\n",
              "<title>20</title>\n",
              "<polygon fill=\"#eefbdd\" points=\"2281.81,-64 2036.73,-64 2036.73,0 2281.81,0 2281.81,-64\" stroke=\"black\"/>\n",
              "<text font-family=\"Times,serif\" font-size=\"14.00\" text-anchor=\"middle\" x=\"2159.27\" y=\"-48.8\">entropy = 2.248</text>\n",
              "<text font-family=\"Times,serif\" font-size=\"14.00\" text-anchor=\"middle\" x=\"2159.27\" y=\"-34.8\">samples = 5430</text>\n",
              "<text font-family=\"Times,serif\" font-size=\"14.00\" text-anchor=\"middle\" x=\"2159.27\" y=\"-20.8\">value = [643, 2033, 883, 261, 1334, 276]</text>\n",
              "<text font-family=\"Times,serif\" font-size=\"14.00\" text-anchor=\"middle\" x=\"2159.27\" y=\"-6.8\">class = 1</text>\n",
              "</g>\n",
              "<!-- 18&#45;&gt;20 -->\n",
              "<g class=\"edge\" id=\"edge20\">\n",
              "<title>18-&gt;20</title>\n",
              "<path d=\"M2158.63,-99.8C2158.71,-91.46 2158.8,-82.6 2158.88,-74.15\" fill=\"none\" stroke=\"black\"/>\n",
              "<polygon fill=\"black\" points=\"2162.38,-74.15 2158.97,-64.12 2155.38,-74.08 2162.38,-74.15\" stroke=\"black\"/>\n",
              "</g>\n",
              "<!-- 22 -->\n",
              "<g class=\"node\" id=\"node23\">\n",
              "<title>22</title>\n",
              "<polygon fill=\"#fefdff\" points=\"2572.28,-64 2300.26,-64 2300.26,0 2572.28,0 2572.28,-64\" stroke=\"black\"/>\n",
              "<text font-family=\"Times,serif\" font-size=\"14.00\" text-anchor=\"middle\" x=\"2436.27\" y=\"-48.8\">entropy = 2.535</text>\n",
              "<text font-family=\"Times,serif\" font-size=\"14.00\" text-anchor=\"middle\" x=\"2436.27\" y=\"-34.8\">samples = 11968</text>\n",
              "<text font-family=\"Times,serif\" font-size=\"14.00\" text-anchor=\"middle\" x=\"2436.27\" y=\"-20.8\">value = [1424, 2382, 1183, 2396, 2470, 2113]</text>\n",
              "<text font-family=\"Times,serif\" font-size=\"14.00\" text-anchor=\"middle\" x=\"2436.27\" y=\"-6.8\">class = 4</text>\n",
              "</g>\n",
              "<!-- 21&#45;&gt;22 -->\n",
              "<g class=\"edge\" id=\"edge22\">\n",
              "<title>21-&gt;22</title>\n",
              "<path d=\"M2436.27,-99.8C2436.27,-91.46 2436.27,-82.6 2436.27,-74.15\" fill=\"none\" stroke=\"black\"/>\n",
              "<polygon fill=\"black\" points=\"2439.77,-74.12 2436.27,-64.12 2432.77,-74.12 2439.77,-74.12\" stroke=\"black\"/>\n",
              "</g>\n",
              "<!-- 23 -->\n",
              "<g class=\"node\" id=\"node24\">\n",
              "<title>23</title>\n",
              "<polygon fill=\"#f3fce8\" points=\"2848.27,-64 2590.27,-64 2590.27,0 2848.27,0 2848.27,-64\" stroke=\"black\"/>\n",
              "<text font-family=\"Times,serif\" font-size=\"14.00\" text-anchor=\"middle\" x=\"2719.27\" y=\"-48.8\">entropy = 2.476</text>\n",
              "<text font-family=\"Times,serif\" font-size=\"14.00\" text-anchor=\"middle\" x=\"2719.27\" y=\"-34.8\">samples = 6513</text>\n",
              "<text font-family=\"Times,serif\" font-size=\"14.00\" text-anchor=\"middle\" x=\"2719.27\" y=\"-20.8\">value = [1191, 1821, 1150, 1128, 747, 476]</text>\n",
              "<text font-family=\"Times,serif\" font-size=\"14.00\" text-anchor=\"middle\" x=\"2719.27\" y=\"-6.8\">class = 1</text>\n",
              "</g>\n",
              "<!-- 21&#45;&gt;23 -->\n",
              "<g class=\"edge\" id=\"edge23\">\n",
              "<title>21-&gt;23</title>\n",
              "<path d=\"M2538.84,-99.94C2567.28,-89.39 2598,-77.99 2625.88,-67.65\" fill=\"none\" stroke=\"black\"/>\n",
              "<polygon fill=\"black\" points=\"2627.46,-70.8 2635.62,-64.04 2625.03,-64.23 2627.46,-70.8\" stroke=\"black\"/>\n",
              "</g>\n",
              "<!-- 25 -->\n",
              "<g class=\"node\" id=\"node26\">\n",
              "<title>25</title>\n",
              "<polygon fill=\"#fefbf9\" points=\"3260.31,-178 2994.23,-178 2994.23,-100 3260.31,-100 3260.31,-178\" stroke=\"black\"/>\n",
              "<text font-family=\"Times,serif\" font-size=\"14.00\" text-anchor=\"middle\" x=\"3127.27\" y=\"-162.8\">Port Code &lt;= 3403.5</text>\n",
              "<text font-family=\"Times,serif\" font-size=\"14.00\" text-anchor=\"middle\" x=\"3127.27\" y=\"-148.8\">entropy = 2.318</text>\n",
              "<text font-family=\"Times,serif\" font-size=\"14.00\" text-anchor=\"middle\" x=\"3127.27\" y=\"-134.8\">samples = 23277</text>\n",
              "<text font-family=\"Times,serif\" font-size=\"14.00\" text-anchor=\"middle\" x=\"3127.27\" y=\"-120.8\">value = [5999, 3979, 5433, 4774, 2964, 128]</text>\n",
              "<text font-family=\"Times,serif\" font-size=\"14.00\" text-anchor=\"middle\" x=\"3127.27\" y=\"-106.8\">class = 0</text>\n",
              "</g>\n",
              "<!-- 24&#45;&gt;25 -->\n",
              "<g class=\"edge\" id=\"edge25\">\n",
              "<title>24-&gt;25</title>\n",
              "<path d=\"M3127.27,-213.77C3127.27,-205.57 3127.27,-196.8 3127.27,-188.28\" fill=\"none\" stroke=\"black\"/>\n",
              "<polygon fill=\"black\" points=\"3130.77,-188.06 3127.27,-178.06 3123.77,-188.06 3130.77,-188.06\" stroke=\"black\"/>\n",
              "</g>\n",
              "<!-- 28 -->\n",
              "<g class=\"node\" id=\"node29\">\n",
              "<title>28</title>\n",
              "<polygon fill=\"#fefffe\" points=\"3638.81,-178 3407.73,-178 3407.73,-100 3638.81,-100 3638.81,-178\" stroke=\"black\"/>\n",
              "<text font-family=\"Times,serif\" font-size=\"14.00\" text-anchor=\"middle\" x=\"3523.27\" y=\"-162.8\">Port Code &lt;= 3608.5</text>\n",
              "<text font-family=\"Times,serif\" font-size=\"14.00\" text-anchor=\"middle\" x=\"3523.27\" y=\"-148.8\">entropy = 2.431</text>\n",
              "<text font-family=\"Times,serif\" font-size=\"14.00\" text-anchor=\"middle\" x=\"3523.27\" y=\"-134.8\">samples = 3730</text>\n",
              "<text font-family=\"Times,serif\" font-size=\"14.00\" text-anchor=\"middle\" x=\"3523.27\" y=\"-120.8\">value = [327, 217, 937, 680, 645, 924]</text>\n",
              "<text font-family=\"Times,serif\" font-size=\"14.00\" text-anchor=\"middle\" x=\"3523.27\" y=\"-106.8\">class = 2</text>\n",
              "</g>\n",
              "<!-- 24&#45;&gt;28 -->\n",
              "<g class=\"edge\" id=\"edge28\">\n",
              "<title>24-&gt;28</title>\n",
              "<path d=\"M3261.89,-213.93C3305.87,-201.49 3354.52,-187.73 3397.8,-175.48\" fill=\"none\" stroke=\"black\"/>\n",
              "<polygon fill=\"black\" points=\"3398.86,-178.82 3407.53,-172.73 3396.95,-172.09 3398.86,-178.82\" stroke=\"black\"/>\n",
              "</g>\n",
              "<!-- 26 -->\n",
              "<g class=\"node\" id=\"node27\">\n",
              "<title>26</title>\n",
              "<polygon fill=\"#effdf5\" points=\"3132.31,-64 2866.23,-64 2866.23,0 3132.31,0 3132.31,-64\" stroke=\"black\"/>\n",
              "<text font-family=\"Times,serif\" font-size=\"14.00\" text-anchor=\"middle\" x=\"2999.27\" y=\"-48.8\">entropy = 2.343</text>\n",
              "<text font-family=\"Times,serif\" font-size=\"14.00\" text-anchor=\"middle\" x=\"2999.27\" y=\"-34.8\">samples = 12597</text>\n",
              "<text font-family=\"Times,serif\" font-size=\"14.00\" text-anchor=\"middle\" x=\"2999.27\" y=\"-20.8\">value = [2716, 2361, 3502, 1929, 1962, 127]</text>\n",
              "<text font-family=\"Times,serif\" font-size=\"14.00\" text-anchor=\"middle\" x=\"2999.27\" y=\"-6.8\">class = 2</text>\n",
              "</g>\n",
              "<!-- 25&#45;&gt;26 -->\n",
              "<g class=\"edge\" id=\"edge26\">\n",
              "<title>25-&gt;26</title>\n",
              "<path d=\"M3080.7,-99.8C3069.08,-90.27 3056.64,-80.06 3045.06,-70.56\" fill=\"none\" stroke=\"black\"/>\n",
              "<polygon fill=\"black\" points=\"3047.15,-67.75 3037.2,-64.12 3042.71,-73.17 3047.15,-67.75\" stroke=\"black\"/>\n",
              "</g>\n",
              "<!-- 27 -->\n",
              "<g class=\"node\" id=\"node28\">\n",
              "<title>27</title>\n",
              "<polygon fill=\"#fef8f4\" points=\"3403.31,-64 3151.23,-64 3151.23,0 3403.31,0 3403.31,-64\" stroke=\"black\"/>\n",
              "<text font-family=\"Times,serif\" font-size=\"14.00\" text-anchor=\"middle\" x=\"3277.27\" y=\"-48.8\">entropy = 2.212</text>\n",
              "<text font-family=\"Times,serif\" font-size=\"14.00\" text-anchor=\"middle\" x=\"3277.27\" y=\"-34.8\">samples = 10680</text>\n",
              "<text font-family=\"Times,serif\" font-size=\"14.00\" text-anchor=\"middle\" x=\"3277.27\" y=\"-20.8\">value = [3283, 1618, 1931, 2845, 1002, 1]</text>\n",
              "<text font-family=\"Times,serif\" font-size=\"14.00\" text-anchor=\"middle\" x=\"3277.27\" y=\"-6.8\">class = 0</text>\n",
              "</g>\n",
              "<!-- 25&#45;&gt;27 -->\n",
              "<g class=\"edge\" id=\"edge27\">\n",
              "<title>25-&gt;27</title>\n",
              "<path d=\"M3181.85,-99.8C3195.72,-90.08 3210.6,-79.67 3224.39,-70.01\" fill=\"none\" stroke=\"black\"/>\n",
              "<polygon fill=\"black\" points=\"3226.63,-72.72 3232.82,-64.12 3222.62,-66.98 3226.63,-72.72\" stroke=\"black\"/>\n",
              "</g>\n",
              "<!-- 29 -->\n",
              "<g class=\"node\" id=\"node30\">\n",
              "<title>29</title>\n",
              "<polygon fill=\"#aff4cc\" points=\"3624.81,-64 3421.73,-64 3421.73,0 3624.81,0 3624.81,-64\" stroke=\"black\"/>\n",
              "<text font-family=\"Times,serif\" font-size=\"14.00\" text-anchor=\"middle\" x=\"3523.27\" y=\"-48.8\">entropy = 1.832</text>\n",
              "<text font-family=\"Times,serif\" font-size=\"14.00\" text-anchor=\"middle\" x=\"3523.27\" y=\"-34.8\">samples = 894</text>\n",
              "<text font-family=\"Times,serif\" font-size=\"14.00\" text-anchor=\"middle\" x=\"3523.27\" y=\"-20.8\">value = [0, 27, 466, 175, 71, 155]</text>\n",
              "<text font-family=\"Times,serif\" font-size=\"14.00\" text-anchor=\"middle\" x=\"3523.27\" y=\"-6.8\">class = 2</text>\n",
              "</g>\n",
              "<!-- 28&#45;&gt;29 -->\n",
              "<g class=\"edge\" id=\"edge29\">\n",
              "<title>28-&gt;29</title>\n",
              "<path d=\"M3523.27,-99.8C3523.27,-91.46 3523.27,-82.6 3523.27,-74.15\" fill=\"none\" stroke=\"black\"/>\n",
              "<polygon fill=\"black\" points=\"3526.77,-74.12 3523.27,-64.12 3519.77,-74.12 3526.77,-74.12\" stroke=\"black\"/>\n",
              "</g>\n",
              "<!-- 30 -->\n",
              "<g class=\"node\" id=\"node31\">\n",
              "<title>30</title>\n",
              "<polygon fill=\"#fdeef7\" points=\"3874.81,-64 3643.73,-64 3643.73,0 3874.81,0 3874.81,-64\" stroke=\"black\"/>\n",
              "<text font-family=\"Times,serif\" font-size=\"14.00\" text-anchor=\"middle\" x=\"3759.27\" y=\"-48.8\">entropy = 2.471</text>\n",
              "<text font-family=\"Times,serif\" font-size=\"14.00\" text-anchor=\"middle\" x=\"3759.27\" y=\"-34.8\">samples = 2836</text>\n",
              "<text font-family=\"Times,serif\" font-size=\"14.00\" text-anchor=\"middle\" x=\"3759.27\" y=\"-20.8\">value = [327, 190, 471, 505, 574, 769]</text>\n",
              "<text font-family=\"Times,serif\" font-size=\"14.00\" text-anchor=\"middle\" x=\"3759.27\" y=\"-6.8\">class = 5</text>\n",
              "</g>\n",
              "<!-- 28&#45;&gt;30 -->\n",
              "<g class=\"edge\" id=\"edge30\">\n",
              "<title>28-&gt;30</title>\n",
              "<path d=\"M3608.8,-99.94C3632.11,-89.58 3657.24,-78.39 3680.17,-68.19\" fill=\"none\" stroke=\"black\"/>\n",
              "<polygon fill=\"black\" points=\"3681.8,-71.3 3689.51,-64.04 3678.95,-64.9 3681.8,-71.3\" stroke=\"black\"/>\n",
              "</g>\n",
              "</g>\n",
              "</svg>"
            ]
          },
          "metadata": {}
        }
      ],
      "execution_count": 93,
      "metadata": {
        "collapsed": false,
        "outputHidden": false,
        "inputHidden": false
      }
    },
    {
      "cell_type": "code",
      "source": [
        "import matplotlib.pyplot as plt\n",
        "import seaborn as sns\n",
        "%matplotlib inline\n",
        "# Creating a bar plot\n",
        "sns.barplot(x=X_train.columns, y=clf.feature_importances_)\n",
        "# Add labels to your graph\n",
        "plt.xlabel('Feature Importance Score')\n",
        "plt.ylabel('Features')\n",
        "plt.title(\"Visualizing Important Features\")\n",
        "plt.legend()\n",
        "plt.show()"
      ],
      "outputs": [
        {
          "output_type": "stream",
          "name": "stderr",
          "text": [
            "No handles with labels found to put in legend.\n"
          ]
        },
        {
          "output_type": "display_data",
          "data": {
            "text/plain": [
              "<Figure size 432x288 with 1 Axes>"
            ],
            "image/png": "[encoded data removed]"
          },
          "metadata": {
            "needs_background": "light"
          }
        }
      ],
      "execution_count": 95,
      "metadata": {
        "collapsed": false,
        "outputHidden": false,
        "inputHidden": false
      }
    },
    {
      "cell_type": "code",
      "source": [],
      "outputs": [],
      "execution_count": null,
      "metadata": {
        "collapsed": false,
        "outputHidden": false,
        "inputHidden": false
      }
    }
  ],
  "metadata": {
    "kernel_info": {
      "name": "python3"
    },
    "language_info": {
      "name": "python",
      "version": "3.7.3",
      "mimetype": "text/x-python",
      "codemirror_mode": {
        "name": "ipython",
        "version": 3
      },
      "pygments_lexer": "ipython3",
      "nbconvert_exporter": "python",
      "file_extension": ".py"
    },
    "kernelspec": {
      "name": "python3",
      "language": "python",
      "display_name": "Python 3"
    },
    "nteract": {
      "version": "0.15.0"
    }
  },
  "nbformat": 4,
  "nbformat_minor": 0
}