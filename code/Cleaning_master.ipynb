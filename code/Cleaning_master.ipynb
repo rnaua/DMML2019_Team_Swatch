{
 "cells": [
  {
   "cell_type": "markdown",
   "metadata": {},
   "source": [
    "# Cleaning Master\n",
    "\n",
    "### Cleaning \"Border_Crossing_Entry_Data.zip\""
   ]
  },
  {
   "cell_type": "code",
   "execution_count": 6,
   "metadata": {
    "colab": {},
    "colab_type": "code",
    "id": "aq9G7SGmWoTq"
   },
   "outputs": [],
   "source": [
    "# load helpful packages \n",
    "import pandas as pd # data processing\n",
    "import numpy as np # linear algebra"
   ]
  },
  {
   "cell_type": "markdown",
   "metadata": {},
   "source": [
    "Let's first import the data and let's see what the dataset is like"
   ]
  },
  {
   "cell_type": "code",
   "execution_count": 7,
   "metadata": {
    "colab": {
     "base_uri": "https://localhost:8080/",
     "height": 392
    },
    "colab_type": "code",
    "id": "YDEsiaRnOgXm",
    "outputId": "e4987fe2-c48c-4fbd-98e4-b33c8f36c2bb"
   },
   "outputs": [
    {
     "data": {
      "text/html": [
       "<div>\n",
       "<style scoped>\n",
       "    .dataframe tbody tr th:only-of-type {\n",
       "        vertical-align: middle;\n",
       "    }\n",
       "\n",
       "    .dataframe tbody tr th {\n",
       "        vertical-align: top;\n",
       "    }\n",
       "\n",
       "    .dataframe thead th {\n",
       "        text-align: right;\n",
       "    }\n",
       "</style>\n",
       "<table border=\"1\" class=\"dataframe\">\n",
       "  <thead>\n",
       "    <tr style=\"text-align: right;\">\n",
       "      <th></th>\n",
       "      <th>Port Name</th>\n",
       "      <th>State</th>\n",
       "      <th>Port Code</th>\n",
       "      <th>Border</th>\n",
       "      <th>Date</th>\n",
       "      <th>Measure</th>\n",
       "      <th>Value</th>\n",
       "    </tr>\n",
       "  </thead>\n",
       "  <tbody>\n",
       "    <tr>\n",
       "      <th>0</th>\n",
       "      <td>Warroad</td>\n",
       "      <td>Minnesota</td>\n",
       "      <td>3423</td>\n",
       "      <td>US-Canada Border</td>\n",
       "      <td>06/01/2019 12:00:00 AM</td>\n",
       "      <td>Truck Containers Full</td>\n",
       "      <td>133</td>\n",
       "    </tr>\n",
       "    <tr>\n",
       "      <th>1</th>\n",
       "      <td>Warroad</td>\n",
       "      <td>Minnesota</td>\n",
       "      <td>3423</td>\n",
       "      <td>US-Canada Border</td>\n",
       "      <td>06/01/2019 12:00:00 AM</td>\n",
       "      <td>Truck Containers Empty</td>\n",
       "      <td>298</td>\n",
       "    </tr>\n",
       "    <tr>\n",
       "      <th>2</th>\n",
       "      <td>Warroad</td>\n",
       "      <td>Minnesota</td>\n",
       "      <td>3423</td>\n",
       "      <td>US-Canada Border</td>\n",
       "      <td>06/01/2019 12:00:00 AM</td>\n",
       "      <td>Personal Vehicles</td>\n",
       "      <td>10383</td>\n",
       "    </tr>\n",
       "    <tr>\n",
       "      <th>3</th>\n",
       "      <td>Warroad</td>\n",
       "      <td>Minnesota</td>\n",
       "      <td>3423</td>\n",
       "      <td>US-Canada Border</td>\n",
       "      <td>06/01/2019 12:00:00 AM</td>\n",
       "      <td>Personal Vehicle Passengers</td>\n",
       "      <td>19459</td>\n",
       "    </tr>\n",
       "    <tr>\n",
       "      <th>4</th>\n",
       "      <td>Warroad</td>\n",
       "      <td>Minnesota</td>\n",
       "      <td>3423</td>\n",
       "      <td>US-Canada Border</td>\n",
       "      <td>06/01/2019 12:00:00 AM</td>\n",
       "      <td>Pedestrians</td>\n",
       "      <td>2</td>\n",
       "    </tr>\n",
       "    <tr>\n",
       "      <th>5</th>\n",
       "      <td>Warroad</td>\n",
       "      <td>Minnesota</td>\n",
       "      <td>3423</td>\n",
       "      <td>US-Canada Border</td>\n",
       "      <td>06/01/2019 12:00:00 AM</td>\n",
       "      <td>Buses</td>\n",
       "      <td>3</td>\n",
       "    </tr>\n",
       "    <tr>\n",
       "      <th>6</th>\n",
       "      <td>Warroad</td>\n",
       "      <td>Minnesota</td>\n",
       "      <td>3423</td>\n",
       "      <td>US-Canada Border</td>\n",
       "      <td>06/01/2019 12:00:00 AM</td>\n",
       "      <td>Bus Passengers</td>\n",
       "      <td>63</td>\n",
       "    </tr>\n",
       "    <tr>\n",
       "      <th>7</th>\n",
       "      <td>Roseau</td>\n",
       "      <td>Minnesota</td>\n",
       "      <td>3426</td>\n",
       "      <td>US-Canada Border</td>\n",
       "      <td>06/01/2019 12:00:00 AM</td>\n",
       "      <td>Trucks</td>\n",
       "      <td>290</td>\n",
       "    </tr>\n",
       "    <tr>\n",
       "      <th>8</th>\n",
       "      <td>Roseau</td>\n",
       "      <td>Minnesota</td>\n",
       "      <td>3426</td>\n",
       "      <td>US-Canada Border</td>\n",
       "      <td>06/01/2019 12:00:00 AM</td>\n",
       "      <td>Truck Containers Full</td>\n",
       "      <td>110</td>\n",
       "    </tr>\n",
       "    <tr>\n",
       "      <th>9</th>\n",
       "      <td>Roseau</td>\n",
       "      <td>Minnesota</td>\n",
       "      <td>3426</td>\n",
       "      <td>US-Canada Border</td>\n",
       "      <td>06/01/2019 12:00:00 AM</td>\n",
       "      <td>Truck Containers Empty</td>\n",
       "      <td>182</td>\n",
       "    </tr>\n",
       "    <tr>\n",
       "      <th>10</th>\n",
       "      <td>Roseau</td>\n",
       "      <td>Minnesota</td>\n",
       "      <td>3426</td>\n",
       "      <td>US-Canada Border</td>\n",
       "      <td>06/01/2019 12:00:00 AM</td>\n",
       "      <td>Personal Vehicles</td>\n",
       "      <td>3964</td>\n",
       "    </tr>\n",
       "    <tr>\n",
       "      <th>11</th>\n",
       "      <td>Roseau</td>\n",
       "      <td>Minnesota</td>\n",
       "      <td>3426</td>\n",
       "      <td>US-Canada Border</td>\n",
       "      <td>06/01/2019 12:00:00 AM</td>\n",
       "      <td>Personal Vehicle Passengers</td>\n",
       "      <td>7385</td>\n",
       "    </tr>\n",
       "    <tr>\n",
       "      <th>12</th>\n",
       "      <td>Roseau</td>\n",
       "      <td>Minnesota</td>\n",
       "      <td>3426</td>\n",
       "      <td>US-Canada Border</td>\n",
       "      <td>06/01/2019 12:00:00 AM</td>\n",
       "      <td>Buses</td>\n",
       "      <td>4</td>\n",
       "    </tr>\n",
       "    <tr>\n",
       "      <th>13</th>\n",
       "      <td>Roseau</td>\n",
       "      <td>Minnesota</td>\n",
       "      <td>3426</td>\n",
       "      <td>US-Canada Border</td>\n",
       "      <td>06/01/2019 12:00:00 AM</td>\n",
       "      <td>Bus Passengers</td>\n",
       "      <td>118</td>\n",
       "    </tr>\n",
       "    <tr>\n",
       "      <th>14</th>\n",
       "      <td>Detroit</td>\n",
       "      <td>Michigan</td>\n",
       "      <td>3801</td>\n",
       "      <td>US-Canada Border</td>\n",
       "      <td>06/01/2019 12:00:00 AM</td>\n",
       "      <td>Personal Vehicle Passengers</td>\n",
       "      <td>599521</td>\n",
       "    </tr>\n",
       "    <tr>\n",
       "      <th>15</th>\n",
       "      <td>Detroit</td>\n",
       "      <td>Michigan</td>\n",
       "      <td>3801</td>\n",
       "      <td>US-Canada Border</td>\n",
       "      <td>06/01/2019 12:00:00 AM</td>\n",
       "      <td>Buses</td>\n",
       "      <td>615</td>\n",
       "    </tr>\n",
       "    <tr>\n",
       "      <th>16</th>\n",
       "      <td>Detroit</td>\n",
       "      <td>Michigan</td>\n",
       "      <td>3801</td>\n",
       "      <td>US-Canada Border</td>\n",
       "      <td>06/01/2019 12:00:00 AM</td>\n",
       "      <td>Bus Passengers</td>\n",
       "      <td>6274</td>\n",
       "    </tr>\n",
       "    <tr>\n",
       "      <th>17</th>\n",
       "      <td>Del Rio</td>\n",
       "      <td>Texas</td>\n",
       "      <td>2302</td>\n",
       "      <td>US-Mexico Border</td>\n",
       "      <td>06/01/2019 12:00:00 AM</td>\n",
       "      <td>Pedestrians</td>\n",
       "      <td>14898</td>\n",
       "    </tr>\n",
       "    <tr>\n",
       "      <th>18</th>\n",
       "      <td>Del Rio</td>\n",
       "      <td>Texas</td>\n",
       "      <td>2302</td>\n",
       "      <td>US-Mexico Border</td>\n",
       "      <td>06/01/2019 12:00:00 AM</td>\n",
       "      <td>Personal Vehicles</td>\n",
       "      <td>123068</td>\n",
       "    </tr>\n",
       "    <tr>\n",
       "      <th>19</th>\n",
       "      <td>Del Rio</td>\n",
       "      <td>Texas</td>\n",
       "      <td>2302</td>\n",
       "      <td>US-Mexico Border</td>\n",
       "      <td>06/01/2019 12:00:00 AM</td>\n",
       "      <td>Personal Vehicle Passengers</td>\n",
       "      <td>238721</td>\n",
       "    </tr>\n",
       "    <tr>\n",
       "      <th>20</th>\n",
       "      <td>Anacortes</td>\n",
       "      <td>Washington</td>\n",
       "      <td>3010</td>\n",
       "      <td>US-Canada Border</td>\n",
       "      <td>06/01/2019 12:00:00 AM</td>\n",
       "      <td>Personal Vehicles</td>\n",
       "      <td>3438</td>\n",
       "    </tr>\n",
       "    <tr>\n",
       "      <th>21</th>\n",
       "      <td>Anacortes</td>\n",
       "      <td>Washington</td>\n",
       "      <td>3010</td>\n",
       "      <td>US-Canada Border</td>\n",
       "      <td>06/01/2019 12:00:00 AM</td>\n",
       "      <td>Personal Vehicle Passengers</td>\n",
       "      <td>8348</td>\n",
       "    </tr>\n",
       "    <tr>\n",
       "      <th>22</th>\n",
       "      <td>Sumas</td>\n",
       "      <td>Washington</td>\n",
       "      <td>3009</td>\n",
       "      <td>US-Canada Border</td>\n",
       "      <td>06/01/2019 12:00:00 AM</td>\n",
       "      <td>Trucks</td>\n",
       "      <td>13337</td>\n",
       "    </tr>\n",
       "    <tr>\n",
       "      <th>23</th>\n",
       "      <td>Sumas</td>\n",
       "      <td>Washington</td>\n",
       "      <td>3009</td>\n",
       "      <td>US-Canada Border</td>\n",
       "      <td>06/01/2019 12:00:00 AM</td>\n",
       "      <td>Truck Containers Full</td>\n",
       "      <td>10799</td>\n",
       "    </tr>\n",
       "    <tr>\n",
       "      <th>24</th>\n",
       "      <td>Sumas</td>\n",
       "      <td>Washington</td>\n",
       "      <td>3009</td>\n",
       "      <td>US-Canada Border</td>\n",
       "      <td>06/01/2019 12:00:00 AM</td>\n",
       "      <td>Truck Containers Empty</td>\n",
       "      <td>3390</td>\n",
       "    </tr>\n",
       "    <tr>\n",
       "      <th>25</th>\n",
       "      <td>Sumas</td>\n",
       "      <td>Washington</td>\n",
       "      <td>3009</td>\n",
       "      <td>US-Canada Border</td>\n",
       "      <td>06/01/2019 12:00:00 AM</td>\n",
       "      <td>Trains</td>\n",
       "      <td>10</td>\n",
       "    </tr>\n",
       "    <tr>\n",
       "      <th>26</th>\n",
       "      <td>Sumas</td>\n",
       "      <td>Washington</td>\n",
       "      <td>3009</td>\n",
       "      <td>US-Canada Border</td>\n",
       "      <td>06/01/2019 12:00:00 AM</td>\n",
       "      <td>Train Passengers</td>\n",
       "      <td>30</td>\n",
       "    </tr>\n",
       "    <tr>\n",
       "      <th>27</th>\n",
       "      <td>Sumas</td>\n",
       "      <td>Washington</td>\n",
       "      <td>3009</td>\n",
       "      <td>US-Canada Border</td>\n",
       "      <td>06/01/2019 12:00:00 AM</td>\n",
       "      <td>Rail Containers Full</td>\n",
       "      <td>98</td>\n",
       "    </tr>\n",
       "    <tr>\n",
       "      <th>28</th>\n",
       "      <td>Sumas</td>\n",
       "      <td>Washington</td>\n",
       "      <td>3009</td>\n",
       "      <td>US-Canada Border</td>\n",
       "      <td>06/01/2019 12:00:00 AM</td>\n",
       "      <td>Rail Containers Empty</td>\n",
       "      <td>246</td>\n",
       "    </tr>\n",
       "    <tr>\n",
       "      <th>29</th>\n",
       "      <td>Sumas</td>\n",
       "      <td>Washington</td>\n",
       "      <td>3009</td>\n",
       "      <td>US-Canada Border</td>\n",
       "      <td>06/01/2019 12:00:00 AM</td>\n",
       "      <td>Personal Vehicles</td>\n",
       "      <td>77972</td>\n",
       "    </tr>\n",
       "    <tr>\n",
       "      <th>...</th>\n",
       "      <td>...</td>\n",
       "      <td>...</td>\n",
       "      <td>...</td>\n",
       "      <td>...</td>\n",
       "      <td>...</td>\n",
       "      <td>...</td>\n",
       "      <td>...</td>\n",
       "    </tr>\n",
       "    <tr>\n",
       "      <th>349142</th>\n",
       "      <td>San Ysidro</td>\n",
       "      <td>California</td>\n",
       "      <td>2504</td>\n",
       "      <td>US-Mexico Border</td>\n",
       "      <td>01/01/1996 12:00:00 AM</td>\n",
       "      <td>Rail Containers Full</td>\n",
       "      <td>0</td>\n",
       "    </tr>\n",
       "    <tr>\n",
       "      <th>349143</th>\n",
       "      <td>Santa Teresa</td>\n",
       "      <td>New Mexico</td>\n",
       "      <td>2408</td>\n",
       "      <td>US-Mexico Border</td>\n",
       "      <td>01/01/1996 12:00:00 AM</td>\n",
       "      <td>Personal Vehicles</td>\n",
       "      <td>4719</td>\n",
       "    </tr>\n",
       "    <tr>\n",
       "      <th>349144</th>\n",
       "      <td>Dunseith</td>\n",
       "      <td>North Dakota</td>\n",
       "      <td>3422</td>\n",
       "      <td>US-Canada Border</td>\n",
       "      <td>01/01/1996 12:00:00 AM</td>\n",
       "      <td>Trucks</td>\n",
       "      <td>1573</td>\n",
       "    </tr>\n",
       "    <tr>\n",
       "      <th>349145</th>\n",
       "      <td>Sault Sainte Marie</td>\n",
       "      <td>Michigan</td>\n",
       "      <td>3803</td>\n",
       "      <td>US-Canada Border</td>\n",
       "      <td>01/01/1996 12:00:00 AM</td>\n",
       "      <td>Bus Passengers</td>\n",
       "      <td>9020</td>\n",
       "    </tr>\n",
       "    <tr>\n",
       "      <th>349146</th>\n",
       "      <td>Sherwood</td>\n",
       "      <td>North Dakota</td>\n",
       "      <td>3414</td>\n",
       "      <td>US-Canada Border</td>\n",
       "      <td>01/01/1996 12:00:00 AM</td>\n",
       "      <td>Truck Containers Empty</td>\n",
       "      <td>22</td>\n",
       "    </tr>\n",
       "    <tr>\n",
       "      <th>349147</th>\n",
       "      <td>Sherwood</td>\n",
       "      <td>North Dakota</td>\n",
       "      <td>3414</td>\n",
       "      <td>US-Canada Border</td>\n",
       "      <td>01/01/1996 12:00:00 AM</td>\n",
       "      <td>Trains</td>\n",
       "      <td>0</td>\n",
       "    </tr>\n",
       "    <tr>\n",
       "      <th>349148</th>\n",
       "      <td>Hannah</td>\n",
       "      <td>North Dakota</td>\n",
       "      <td>3408</td>\n",
       "      <td>US-Canada Border</td>\n",
       "      <td>01/01/1996 12:00:00 AM</td>\n",
       "      <td>Trains</td>\n",
       "      <td>0</td>\n",
       "    </tr>\n",
       "    <tr>\n",
       "      <th>349149</th>\n",
       "      <td>Boundary</td>\n",
       "      <td>Washington</td>\n",
       "      <td>3015</td>\n",
       "      <td>US-Canada Border</td>\n",
       "      <td>01/01/1996 12:00:00 AM</td>\n",
       "      <td>Pedestrians</td>\n",
       "      <td>0</td>\n",
       "    </tr>\n",
       "    <tr>\n",
       "      <th>349150</th>\n",
       "      <td>Presidio</td>\n",
       "      <td>Texas</td>\n",
       "      <td>2403</td>\n",
       "      <td>US-Mexico Border</td>\n",
       "      <td>01/01/1996 12:00:00 AM</td>\n",
       "      <td>Pedestrians</td>\n",
       "      <td>645</td>\n",
       "    </tr>\n",
       "    <tr>\n",
       "      <th>349151</th>\n",
       "      <td>Fortuna</td>\n",
       "      <td>North Dakota</td>\n",
       "      <td>3417</td>\n",
       "      <td>US-Canada Border</td>\n",
       "      <td>01/01/1996 12:00:00 AM</td>\n",
       "      <td>Bus Passengers</td>\n",
       "      <td>568</td>\n",
       "    </tr>\n",
       "    <tr>\n",
       "      <th>349152</th>\n",
       "      <td>Grand Portage</td>\n",
       "      <td>Minnesota</td>\n",
       "      <td>3613</td>\n",
       "      <td>US-Canada Border</td>\n",
       "      <td>01/01/1996 12:00:00 AM</td>\n",
       "      <td>Truck Containers Full</td>\n",
       "      <td>976</td>\n",
       "    </tr>\n",
       "    <tr>\n",
       "      <th>349153</th>\n",
       "      <td>St. John</td>\n",
       "      <td>North Dakota</td>\n",
       "      <td>3405</td>\n",
       "      <td>US-Canada Border</td>\n",
       "      <td>01/01/1996 12:00:00 AM</td>\n",
       "      <td>Personal Vehicle Passengers</td>\n",
       "      <td>3278</td>\n",
       "    </tr>\n",
       "    <tr>\n",
       "      <th>349154</th>\n",
       "      <td>Portland</td>\n",
       "      <td>Maine</td>\n",
       "      <td>101</td>\n",
       "      <td>US-Canada Border</td>\n",
       "      <td>01/01/1996 12:00:00 AM</td>\n",
       "      <td>Trucks</td>\n",
       "      <td>0</td>\n",
       "    </tr>\n",
       "    <tr>\n",
       "      <th>349155</th>\n",
       "      <td>Fort Kent</td>\n",
       "      <td>Maine</td>\n",
       "      <td>110</td>\n",
       "      <td>US-Canada Border</td>\n",
       "      <td>01/01/1996 12:00:00 AM</td>\n",
       "      <td>Trains</td>\n",
       "      <td>0</td>\n",
       "    </tr>\n",
       "    <tr>\n",
       "      <th>349156</th>\n",
       "      <td>Van Buren</td>\n",
       "      <td>Maine</td>\n",
       "      <td>108</td>\n",
       "      <td>US-Canada Border</td>\n",
       "      <td>01/01/1996 12:00:00 AM</td>\n",
       "      <td>Rail Containers Empty</td>\n",
       "      <td>0</td>\n",
       "    </tr>\n",
       "    <tr>\n",
       "      <th>349157</th>\n",
       "      <td>Ogdensburg</td>\n",
       "      <td>New York</td>\n",
       "      <td>701</td>\n",
       "      <td>US-Canada Border</td>\n",
       "      <td>01/01/1996 12:00:00 AM</td>\n",
       "      <td>Pedestrians</td>\n",
       "      <td>0</td>\n",
       "    </tr>\n",
       "    <tr>\n",
       "      <th>349158</th>\n",
       "      <td>Ambrose</td>\n",
       "      <td>North Dakota</td>\n",
       "      <td>3410</td>\n",
       "      <td>US-Canada Border</td>\n",
       "      <td>01/01/1996 12:00:00 AM</td>\n",
       "      <td>Trains</td>\n",
       "      <td>0</td>\n",
       "    </tr>\n",
       "    <tr>\n",
       "      <th>349159</th>\n",
       "      <td>Van Buren</td>\n",
       "      <td>Maine</td>\n",
       "      <td>108</td>\n",
       "      <td>US-Canada Border</td>\n",
       "      <td>01/01/1996 12:00:00 AM</td>\n",
       "      <td>Personal Vehicles</td>\n",
       "      <td>30862</td>\n",
       "    </tr>\n",
       "    <tr>\n",
       "      <th>349160</th>\n",
       "      <td>Whitetail</td>\n",
       "      <td>Montana</td>\n",
       "      <td>3312</td>\n",
       "      <td>US-Canada Border</td>\n",
       "      <td>01/01/1996 12:00:00 AM</td>\n",
       "      <td>Truck Containers Empty</td>\n",
       "      <td>0</td>\n",
       "    </tr>\n",
       "    <tr>\n",
       "      <th>349161</th>\n",
       "      <td>Point Roberts</td>\n",
       "      <td>Washington</td>\n",
       "      <td>3017</td>\n",
       "      <td>US-Canada Border</td>\n",
       "      <td>01/01/1996 12:00:00 AM</td>\n",
       "      <td>Rail Containers Empty</td>\n",
       "      <td>0</td>\n",
       "    </tr>\n",
       "    <tr>\n",
       "      <th>349162</th>\n",
       "      <td>Antler</td>\n",
       "      <td>North Dakota</td>\n",
       "      <td>3413</td>\n",
       "      <td>US-Canada Border</td>\n",
       "      <td>01/01/1996 12:00:00 AM</td>\n",
       "      <td>Personal Vehicle Passengers</td>\n",
       "      <td>1576</td>\n",
       "    </tr>\n",
       "    <tr>\n",
       "      <th>349163</th>\n",
       "      <td>Tecate</td>\n",
       "      <td>California</td>\n",
       "      <td>2505</td>\n",
       "      <td>US-Mexico Border</td>\n",
       "      <td>01/01/1996 12:00:00 AM</td>\n",
       "      <td>Trucks</td>\n",
       "      <td>3228</td>\n",
       "    </tr>\n",
       "    <tr>\n",
       "      <th>349164</th>\n",
       "      <td>Calais</td>\n",
       "      <td>Maine</td>\n",
       "      <td>115</td>\n",
       "      <td>US-Canada Border</td>\n",
       "      <td>01/01/1996 12:00:00 AM</td>\n",
       "      <td>Trucks</td>\n",
       "      <td>8955</td>\n",
       "    </tr>\n",
       "    <tr>\n",
       "      <th>349165</th>\n",
       "      <td>Carbury</td>\n",
       "      <td>North Dakota</td>\n",
       "      <td>3421</td>\n",
       "      <td>US-Canada Border</td>\n",
       "      <td>01/01/1996 12:00:00 AM</td>\n",
       "      <td>Truck Containers Empty</td>\n",
       "      <td>0</td>\n",
       "    </tr>\n",
       "    <tr>\n",
       "      <th>349166</th>\n",
       "      <td>Skagway</td>\n",
       "      <td>Alaska</td>\n",
       "      <td>3103</td>\n",
       "      <td>US-Canada Border</td>\n",
       "      <td>01/01/1996 12:00:00 AM</td>\n",
       "      <td>Buses</td>\n",
       "      <td>3</td>\n",
       "    </tr>\n",
       "    <tr>\n",
       "      <th>349167</th>\n",
       "      <td>Detroit</td>\n",
       "      <td>Michigan</td>\n",
       "      <td>3801</td>\n",
       "      <td>US-Canada Border</td>\n",
       "      <td>06/01/2019 12:00:00 AM</td>\n",
       "      <td>Train Passengers</td>\n",
       "      <td>486</td>\n",
       "    </tr>\n",
       "    <tr>\n",
       "      <th>349168</th>\n",
       "      <td>Detroit</td>\n",
       "      <td>Michigan</td>\n",
       "      <td>3801</td>\n",
       "      <td>US-Canada Border</td>\n",
       "      <td>06/01/2019 12:00:00 AM</td>\n",
       "      <td>Trains</td>\n",
       "      <td>155</td>\n",
       "    </tr>\n",
       "    <tr>\n",
       "      <th>349169</th>\n",
       "      <td>Fort Kent</td>\n",
       "      <td>Maine</td>\n",
       "      <td>110</td>\n",
       "      <td>US-Canada Border</td>\n",
       "      <td>06/01/2019 12:00:00 AM</td>\n",
       "      <td>Pedestrians</td>\n",
       "      <td>101</td>\n",
       "    </tr>\n",
       "    <tr>\n",
       "      <th>349170</th>\n",
       "      <td>Roma</td>\n",
       "      <td>Texas</td>\n",
       "      <td>2310</td>\n",
       "      <td>US-Mexico Border</td>\n",
       "      <td>06/01/2019 12:00:00 AM</td>\n",
       "      <td>Pedestrians</td>\n",
       "      <td>22414</td>\n",
       "    </tr>\n",
       "    <tr>\n",
       "      <th>349171</th>\n",
       "      <td>Santa Teresa</td>\n",
       "      <td>New Mexico</td>\n",
       "      <td>2408</td>\n",
       "      <td>US-Mexico Border</td>\n",
       "      <td>06/01/2019 12:00:00 AM</td>\n",
       "      <td>Pedestrians</td>\n",
       "      <td>16846</td>\n",
       "    </tr>\n",
       "  </tbody>\n",
       "</table>\n",
       "<p>349172 rows × 7 columns</p>\n",
       "</div>"
      ],
      "text/plain": [
       "                 Port Name         State  Port Code            Border  \\\n",
       "0                  Warroad     Minnesota       3423  US-Canada Border   \n",
       "1                  Warroad     Minnesota       3423  US-Canada Border   \n",
       "2                  Warroad     Minnesota       3423  US-Canada Border   \n",
       "3                  Warroad     Minnesota       3423  US-Canada Border   \n",
       "4                  Warroad     Minnesota       3423  US-Canada Border   \n",
       "5                  Warroad     Minnesota       3423  US-Canada Border   \n",
       "6                  Warroad     Minnesota       3423  US-Canada Border   \n",
       "7                   Roseau     Minnesota       3426  US-Canada Border   \n",
       "8                   Roseau     Minnesota       3426  US-Canada Border   \n",
       "9                   Roseau     Minnesota       3426  US-Canada Border   \n",
       "10                  Roseau     Minnesota       3426  US-Canada Border   \n",
       "11                  Roseau     Minnesota       3426  US-Canada Border   \n",
       "12                  Roseau     Minnesota       3426  US-Canada Border   \n",
       "13                  Roseau     Minnesota       3426  US-Canada Border   \n",
       "14                 Detroit      Michigan       3801  US-Canada Border   \n",
       "15                 Detroit      Michigan       3801  US-Canada Border   \n",
       "16                 Detroit      Michigan       3801  US-Canada Border   \n",
       "17                 Del Rio         Texas       2302  US-Mexico Border   \n",
       "18                 Del Rio         Texas       2302  US-Mexico Border   \n",
       "19                 Del Rio         Texas       2302  US-Mexico Border   \n",
       "20               Anacortes    Washington       3010  US-Canada Border   \n",
       "21               Anacortes    Washington       3010  US-Canada Border   \n",
       "22                   Sumas    Washington       3009  US-Canada Border   \n",
       "23                   Sumas    Washington       3009  US-Canada Border   \n",
       "24                   Sumas    Washington       3009  US-Canada Border   \n",
       "25                   Sumas    Washington       3009  US-Canada Border   \n",
       "26                   Sumas    Washington       3009  US-Canada Border   \n",
       "27                   Sumas    Washington       3009  US-Canada Border   \n",
       "28                   Sumas    Washington       3009  US-Canada Border   \n",
       "29                   Sumas    Washington       3009  US-Canada Border   \n",
       "...                    ...           ...        ...               ...   \n",
       "349142          San Ysidro    California       2504  US-Mexico Border   \n",
       "349143        Santa Teresa    New Mexico       2408  US-Mexico Border   \n",
       "349144            Dunseith  North Dakota       3422  US-Canada Border   \n",
       "349145  Sault Sainte Marie      Michigan       3803  US-Canada Border   \n",
       "349146            Sherwood  North Dakota       3414  US-Canada Border   \n",
       "349147            Sherwood  North Dakota       3414  US-Canada Border   \n",
       "349148              Hannah  North Dakota       3408  US-Canada Border   \n",
       "349149            Boundary    Washington       3015  US-Canada Border   \n",
       "349150            Presidio         Texas       2403  US-Mexico Border   \n",
       "349151             Fortuna  North Dakota       3417  US-Canada Border   \n",
       "349152       Grand Portage     Minnesota       3613  US-Canada Border   \n",
       "349153            St. John  North Dakota       3405  US-Canada Border   \n",
       "349154            Portland         Maine        101  US-Canada Border   \n",
       "349155           Fort Kent         Maine        110  US-Canada Border   \n",
       "349156           Van Buren         Maine        108  US-Canada Border   \n",
       "349157          Ogdensburg      New York        701  US-Canada Border   \n",
       "349158             Ambrose  North Dakota       3410  US-Canada Border   \n",
       "349159           Van Buren         Maine        108  US-Canada Border   \n",
       "349160           Whitetail       Montana       3312  US-Canada Border   \n",
       "349161       Point Roberts    Washington       3017  US-Canada Border   \n",
       "349162              Antler  North Dakota       3413  US-Canada Border   \n",
       "349163              Tecate    California       2505  US-Mexico Border   \n",
       "349164              Calais         Maine        115  US-Canada Border   \n",
       "349165             Carbury  North Dakota       3421  US-Canada Border   \n",
       "349166             Skagway        Alaska       3103  US-Canada Border   \n",
       "349167             Detroit      Michigan       3801  US-Canada Border   \n",
       "349168             Detroit      Michigan       3801  US-Canada Border   \n",
       "349169           Fort Kent         Maine        110  US-Canada Border   \n",
       "349170                Roma         Texas       2310  US-Mexico Border   \n",
       "349171        Santa Teresa    New Mexico       2408  US-Mexico Border   \n",
       "\n",
       "                          Date                      Measure   Value  \n",
       "0       06/01/2019 12:00:00 AM        Truck Containers Full     133  \n",
       "1       06/01/2019 12:00:00 AM       Truck Containers Empty     298  \n",
       "2       06/01/2019 12:00:00 AM            Personal Vehicles   10383  \n",
       "3       06/01/2019 12:00:00 AM  Personal Vehicle Passengers   19459  \n",
       "4       06/01/2019 12:00:00 AM                  Pedestrians       2  \n",
       "5       06/01/2019 12:00:00 AM                        Buses       3  \n",
       "6       06/01/2019 12:00:00 AM               Bus Passengers      63  \n",
       "7       06/01/2019 12:00:00 AM                       Trucks     290  \n",
       "8       06/01/2019 12:00:00 AM        Truck Containers Full     110  \n",
       "9       06/01/2019 12:00:00 AM       Truck Containers Empty     182  \n",
       "10      06/01/2019 12:00:00 AM            Personal Vehicles    3964  \n",
       "11      06/01/2019 12:00:00 AM  Personal Vehicle Passengers    7385  \n",
       "12      06/01/2019 12:00:00 AM                        Buses       4  \n",
       "13      06/01/2019 12:00:00 AM               Bus Passengers     118  \n",
       "14      06/01/2019 12:00:00 AM  Personal Vehicle Passengers  599521  \n",
       "15      06/01/2019 12:00:00 AM                        Buses     615  \n",
       "16      06/01/2019 12:00:00 AM               Bus Passengers    6274  \n",
       "17      06/01/2019 12:00:00 AM                  Pedestrians   14898  \n",
       "18      06/01/2019 12:00:00 AM            Personal Vehicles  123068  \n",
       "19      06/01/2019 12:00:00 AM  Personal Vehicle Passengers  238721  \n",
       "20      06/01/2019 12:00:00 AM            Personal Vehicles    3438  \n",
       "21      06/01/2019 12:00:00 AM  Personal Vehicle Passengers    8348  \n",
       "22      06/01/2019 12:00:00 AM                       Trucks   13337  \n",
       "23      06/01/2019 12:00:00 AM        Truck Containers Full   10799  \n",
       "24      06/01/2019 12:00:00 AM       Truck Containers Empty    3390  \n",
       "25      06/01/2019 12:00:00 AM                       Trains      10  \n",
       "26      06/01/2019 12:00:00 AM             Train Passengers      30  \n",
       "27      06/01/2019 12:00:00 AM         Rail Containers Full      98  \n",
       "28      06/01/2019 12:00:00 AM        Rail Containers Empty     246  \n",
       "29      06/01/2019 12:00:00 AM            Personal Vehicles   77972  \n",
       "...                        ...                          ...     ...  \n",
       "349142  01/01/1996 12:00:00 AM         Rail Containers Full       0  \n",
       "349143  01/01/1996 12:00:00 AM            Personal Vehicles    4719  \n",
       "349144  01/01/1996 12:00:00 AM                       Trucks    1573  \n",
       "349145  01/01/1996 12:00:00 AM               Bus Passengers    9020  \n",
       "349146  01/01/1996 12:00:00 AM       Truck Containers Empty      22  \n",
       "349147  01/01/1996 12:00:00 AM                       Trains       0  \n",
       "349148  01/01/1996 12:00:00 AM                       Trains       0  \n",
       "349149  01/01/1996 12:00:00 AM                  Pedestrians       0  \n",
       "349150  01/01/1996 12:00:00 AM                  Pedestrians     645  \n",
       "349151  01/01/1996 12:00:00 AM               Bus Passengers     568  \n",
       "349152  01/01/1996 12:00:00 AM        Truck Containers Full     976  \n",
       "349153  01/01/1996 12:00:00 AM  Personal Vehicle Passengers    3278  \n",
       "349154  01/01/1996 12:00:00 AM                       Trucks       0  \n",
       "349155  01/01/1996 12:00:00 AM                       Trains       0  \n",
       "349156  01/01/1996 12:00:00 AM        Rail Containers Empty       0  \n",
       "349157  01/01/1996 12:00:00 AM                  Pedestrians       0  \n",
       "349158  01/01/1996 12:00:00 AM                       Trains       0  \n",
       "349159  01/01/1996 12:00:00 AM            Personal Vehicles   30862  \n",
       "349160  01/01/1996 12:00:00 AM       Truck Containers Empty       0  \n",
       "349161  01/01/1996 12:00:00 AM        Rail Containers Empty       0  \n",
       "349162  01/01/1996 12:00:00 AM  Personal Vehicle Passengers    1576  \n",
       "349163  01/01/1996 12:00:00 AM                       Trucks    3228  \n",
       "349164  01/01/1996 12:00:00 AM                       Trucks    8955  \n",
       "349165  01/01/1996 12:00:00 AM       Truck Containers Empty       0  \n",
       "349166  01/01/1996 12:00:00 AM                        Buses       3  \n",
       "349167  06/01/2019 12:00:00 AM             Train Passengers     486  \n",
       "349168  06/01/2019 12:00:00 AM                       Trains     155  \n",
       "349169  06/01/2019 12:00:00 AM                  Pedestrians     101  \n",
       "349170  06/01/2019 12:00:00 AM                  Pedestrians   22414  \n",
       "349171  06/01/2019 12:00:00 AM                  Pedestrians   16846  \n",
       "\n",
       "[349172 rows x 7 columns]"
      ]
     },
     "execution_count": 7,
     "metadata": {},
     "output_type": "execute_result"
    }
   ],
   "source": [
    "# load dataset\n",
    "df=pd.read_csv(\"../data/Border_Crossing_Entry_Data.zip\")\n",
    "# df = pd.read_csv(\"../data/data_with_position.zip\") to be delated\n",
    "# \"each row has a counting (\"Value\") for the crossing method (\"Measure\")\"\n",
    "df"
   ]
  },
  {
   "cell_type": "code",
   "execution_count": null,
   "metadata": {},
   "outputs": [],
   "source": []
  },
  {
   "cell_type": "markdown",
   "metadata": {},
   "source": [
    "Now we look at the data structure"
   ]
  },
  {
   "cell_type": "code",
   "execution_count": 3,
   "metadata": {
    "colab": {},
    "colab_type": "code",
    "id": "Wy_y14ZQOi0n"
   },
   "outputs": [
    {
     "data": {
      "text/plain": [
       "Port Name    object\n",
       "State        object\n",
       "Port Code     int64\n",
       "Border       object\n",
       "Date         object\n",
       "Measure      object\n",
       "Value         int64\n",
       "dtype: object"
      ]
     },
     "execution_count": 3,
     "metadata": {},
     "output_type": "execute_result"
    }
   ],
   "source": [
    "# check data types of features\n",
    "df.dtypes"
   ]
  },
  {
   "cell_type": "markdown",
   "metadata": {},
   "source": [
    "We see that the data types need some reformating"
   ]
  },
  {
   "cell_type": "code",
   "execution_count": 8,
   "metadata": {
    "colab": {},
    "colab_type": "code",
    "id": "tkdZWdt-Okjc"
   },
   "outputs": [
    {
     "data": {
      "text/plain": [
       "Port Name            object\n",
       "State                object\n",
       "Port Code             int64\n",
       "Border               object\n",
       "Date         datetime64[ns]\n",
       "Measure              object\n",
       "Value                 int64\n",
       "dtype: object"
      ]
     },
     "execution_count": 8,
     "metadata": {},
     "output_type": "execute_result"
    }
   ],
   "source": [
    "# convert 'Date' to date format\n",
    "df['Date'] = pd.to_datetime(df['Date'])\n",
    "# recheck data type of 'Date'\n",
    "df.dtypes"
   ]
  },
  {
   "cell_type": "code",
   "execution_count": 5,
   "metadata": {
    "inputHidden": false,
    "outputHidden": false
   },
   "outputs": [],
   "source": [
    "# check if 2 possible values for 'Border'?\n",
    "# check years included in dataset?"
   ]
  },
  {
   "cell_type": "code",
   "execution_count": 6,
   "metadata": {
    "colab": {},
    "colab_type": "code",
    "id": "6aMecpN7Ol3N"
   },
   "outputs": [
    {
     "data": {
      "text/html": [
       "<div>\n",
       "<style scoped>\n",
       "    .dataframe tbody tr th:only-of-type {\n",
       "        vertical-align: middle;\n",
       "    }\n",
       "\n",
       "    .dataframe tbody tr th {\n",
       "        vertical-align: top;\n",
       "    }\n",
       "\n",
       "    .dataframe thead th {\n",
       "        text-align: right;\n",
       "    }\n",
       "</style>\n",
       "<table border=\"1\" class=\"dataframe\">\n",
       "  <thead>\n",
       "    <tr style=\"text-align: right;\">\n",
       "      <th></th>\n",
       "      <th>Port Name</th>\n",
       "      <th>State</th>\n",
       "      <th>Port Code</th>\n",
       "      <th>Border</th>\n",
       "      <th>Date</th>\n",
       "      <th>Measure</th>\n",
       "      <th>Value</th>\n",
       "    </tr>\n",
       "  </thead>\n",
       "  <tbody>\n",
       "    <tr>\n",
       "      <th>0</th>\n",
       "      <td>Warroad</td>\n",
       "      <td>Minnesota</td>\n",
       "      <td>3423</td>\n",
       "      <td>US-Canada Border</td>\n",
       "      <td>2019-06-01</td>\n",
       "      <td>Truck Containers Full</td>\n",
       "      <td>133</td>\n",
       "    </tr>\n",
       "    <tr>\n",
       "      <th>1</th>\n",
       "      <td>Warroad</td>\n",
       "      <td>Minnesota</td>\n",
       "      <td>3423</td>\n",
       "      <td>US-Canada Border</td>\n",
       "      <td>2019-06-01</td>\n",
       "      <td>Truck Containers Empty</td>\n",
       "      <td>298</td>\n",
       "    </tr>\n",
       "    <tr>\n",
       "      <th>2</th>\n",
       "      <td>Warroad</td>\n",
       "      <td>Minnesota</td>\n",
       "      <td>3423</td>\n",
       "      <td>US-Canada Border</td>\n",
       "      <td>2019-06-01</td>\n",
       "      <td>Personal Vehicles</td>\n",
       "      <td>10383</td>\n",
       "    </tr>\n",
       "    <tr>\n",
       "      <th>3</th>\n",
       "      <td>Warroad</td>\n",
       "      <td>Minnesota</td>\n",
       "      <td>3423</td>\n",
       "      <td>US-Canada Border</td>\n",
       "      <td>2019-06-01</td>\n",
       "      <td>Personal Vehicle Passengers</td>\n",
       "      <td>19459</td>\n",
       "    </tr>\n",
       "    <tr>\n",
       "      <th>4</th>\n",
       "      <td>Warroad</td>\n",
       "      <td>Minnesota</td>\n",
       "      <td>3423</td>\n",
       "      <td>US-Canada Border</td>\n",
       "      <td>2019-06-01</td>\n",
       "      <td>Pedestrians</td>\n",
       "      <td>2</td>\n",
       "    </tr>\n",
       "  </tbody>\n",
       "</table>\n",
       "</div>"
      ],
      "text/plain": [
       "  Port Name      State  Port Code            Border       Date  \\\n",
       "0   Warroad  Minnesota       3423  US-Canada Border 2019-06-01   \n",
       "1   Warroad  Minnesota       3423  US-Canada Border 2019-06-01   \n",
       "2   Warroad  Minnesota       3423  US-Canada Border 2019-06-01   \n",
       "3   Warroad  Minnesota       3423  US-Canada Border 2019-06-01   \n",
       "4   Warroad  Minnesota       3423  US-Canada Border 2019-06-01   \n",
       "\n",
       "                       Measure  Value  \n",
       "0        Truck Containers Full    133  \n",
       "1       Truck Containers Empty    298  \n",
       "2            Personal Vehicles  10383  \n",
       "3  Personal Vehicle Passengers  19459  \n",
       "4                  Pedestrians      2  "
      ]
     },
     "execution_count": 6,
     "metadata": {},
     "output_type": "execute_result"
    }
   ],
   "source": [
    "df.head()"
   ]
  },
  {
   "cell_type": "code",
   "execution_count": 9,
   "metadata": {
    "colab": {},
    "colab_type": "code",
    "id": "tmvDwDO7Opeh"
   },
   "outputs": [
    {
     "data": {
      "text/plain": [
       "Port Name    False\n",
       "State        False\n",
       "Port Code    False\n",
       "Border       False\n",
       "Date         False\n",
       "Measure      False\n",
       "Value        False\n",
       "dtype: bool"
      ]
     },
     "execution_count": 9,
     "metadata": {},
     "output_type": "execute_result"
    }
   ],
   "source": [
    "# Look for missing values\n",
    "df.isnull().any()"
   ]
  },
  {
   "cell_type": "markdown",
   "metadata": {},
   "source": [
    "We don't have any missing values. Now let's check the number of different values in each columns"
   ]
  },
  {
   "cell_type": "code",
   "execution_count": 10,
   "metadata": {
    "inputHidden": false,
    "outputHidden": false
   },
   "outputs": [
    {
     "name": "stdout",
     "output_type": "stream",
     "text": [
      "Attribute Values\n",
      "Port Name 116\n",
      "State 15\n",
      "Port Code 117\n",
      "Border 2\n",
      "Date 282\n",
      "Measure 12\n",
      "Value 53725\n"
     ]
    }
   ],
   "source": [
    "print('Attribute '+ 'Values')\n",
    "for i in df.columns:\n",
    "    print( i,len(df.loc[:,i].unique()) )"
   ]
  },
  {
   "cell_type": "code",
   "execution_count": 11,
   "metadata": {
    "colab": {},
    "colab_type": "code",
    "id": "iL78G5_sOri4"
   },
   "outputs": [
    {
     "name": "stdout",
     "output_type": "stream",
     "text": [
      "port names : 116\n",
      "port codes : 117\n"
     ]
    }
   ],
   "source": [
    "# check if number of unique elements in \"Port Code\" and \"Port Name\" equal \n",
    "print('port names : {}' .format(len(df['Port Name'].unique())))\n",
    "print('port codes : {}' .format(len(df['Port Code'].unique())))"
   ]
  },
  {
   "cell_type": "markdown",
   "metadata": {},
   "source": [
    "We see that there are one more port code than port name so we have to fix that."
   ]
  },
  {
   "cell_type": "code",
   "execution_count": 12,
   "metadata": {
    "colab": {},
    "colab_type": "code",
    "id": "BnqPRuiLOtMW"
   },
   "outputs": [
    {
     "data": {
      "text/html": [
       "<div>\n",
       "<style scoped>\n",
       "    .dataframe tbody tr th:only-of-type {\n",
       "        vertical-align: middle;\n",
       "    }\n",
       "\n",
       "    .dataframe tbody tr th {\n",
       "        vertical-align: top;\n",
       "    }\n",
       "\n",
       "    .dataframe thead th {\n",
       "        text-align: right;\n",
       "    }\n",
       "</style>\n",
       "<table border=\"1\" class=\"dataframe\">\n",
       "  <thead>\n",
       "    <tr style=\"text-align: right;\">\n",
       "      <th></th>\n",
       "      <th>Port Code</th>\n",
       "      <th>Port Name</th>\n",
       "    </tr>\n",
       "  </thead>\n",
       "  <tbody>\n",
       "    <tr>\n",
       "      <th>525</th>\n",
       "      <td>3302</td>\n",
       "      <td>Eastport</td>\n",
       "    </tr>\n",
       "    <tr>\n",
       "      <th>562</th>\n",
       "      <td>103</td>\n",
       "      <td>Eastport</td>\n",
       "    </tr>\n",
       "  </tbody>\n",
       "</table>\n",
       "</div>"
      ],
      "text/plain": [
       "     Port Code Port Name\n",
       "525       3302  Eastport\n",
       "562        103  Eastport"
      ]
     },
     "execution_count": 12,
     "metadata": {},
     "output_type": "execute_result"
    }
   ],
   "source": [
    "ports = df[['Port Code','Port Name']].drop_duplicates()\n",
    "ports[ports['Port Name'].duplicated(keep=False)]"
   ]
  },
  {
   "cell_type": "code",
   "execution_count": 13,
   "metadata": {
    "colab": {},
    "colab_type": "code",
    "id": "n7SQpZ9tOvA6"
   },
   "outputs": [
    {
     "data": {
      "text/html": [
       "<div>\n",
       "<style scoped>\n",
       "    .dataframe tbody tr th:only-of-type {\n",
       "        vertical-align: middle;\n",
       "    }\n",
       "\n",
       "    .dataframe tbody tr th {\n",
       "        vertical-align: top;\n",
       "    }\n",
       "\n",
       "    .dataframe thead th {\n",
       "        text-align: right;\n",
       "    }\n",
       "</style>\n",
       "<table border=\"1\" class=\"dataframe\">\n",
       "  <thead>\n",
       "    <tr style=\"text-align: right;\">\n",
       "      <th></th>\n",
       "      <th>Port Name</th>\n",
       "      <th>State</th>\n",
       "      <th>Port Code</th>\n",
       "      <th>Border</th>\n",
       "      <th>Date</th>\n",
       "      <th>Measure</th>\n",
       "      <th>Value</th>\n",
       "    </tr>\n",
       "  </thead>\n",
       "  <tbody>\n",
       "    <tr>\n",
       "      <th>525</th>\n",
       "      <td>Eastport</td>\n",
       "      <td>Idaho</td>\n",
       "      <td>3302</td>\n",
       "      <td>US-Canada Border</td>\n",
       "      <td>2019-06-01</td>\n",
       "      <td>Bus Passengers</td>\n",
       "      <td>43</td>\n",
       "    </tr>\n",
       "    <tr>\n",
       "      <th>562</th>\n",
       "      <td>Eastport</td>\n",
       "      <td>Maine</td>\n",
       "      <td>103</td>\n",
       "      <td>US-Canada Border</td>\n",
       "      <td>2019-06-01</td>\n",
       "      <td>Bus Passengers</td>\n",
       "      <td>179</td>\n",
       "    </tr>\n",
       "  </tbody>\n",
       "</table>\n",
       "</div>"
      ],
      "text/plain": [
       "    Port Name  State  Port Code            Border       Date         Measure  \\\n",
       "525  Eastport  Idaho       3302  US-Canada Border 2019-06-01  Bus Passengers   \n",
       "562  Eastport  Maine        103  US-Canada Border 2019-06-01  Bus Passengers   \n",
       "\n",
       "     Value  \n",
       "525     43  \n",
       "562    179  "
      ]
     },
     "execution_count": 13,
     "metadata": {},
     "output_type": "execute_result"
    }
   ],
   "source": [
    "df.loc[df['Port Name'] == 'Eastport'].drop_duplicates(['Port Code'], keep='first')"
   ]
  },
  {
   "cell_type": "markdown",
   "metadata": {},
   "source": [
    "It is because there are 2 ports with the same name in different state so we will fix that by changing the port names"
   ]
  },
  {
   "cell_type": "code",
   "execution_count": 14,
   "metadata": {
    "colab": {},
    "colab_type": "code",
    "id": "EJ7N2oVZOxKP"
   },
   "outputs": [
    {
     "data": {
      "text/html": [
       "<div>\n",
       "<style scoped>\n",
       "    .dataframe tbody tr th:only-of-type {\n",
       "        vertical-align: middle;\n",
       "    }\n",
       "\n",
       "    .dataframe tbody tr th {\n",
       "        vertical-align: top;\n",
       "    }\n",
       "\n",
       "    .dataframe thead th {\n",
       "        text-align: right;\n",
       "    }\n",
       "</style>\n",
       "<table border=\"1\" class=\"dataframe\">\n",
       "  <thead>\n",
       "    <tr style=\"text-align: right;\">\n",
       "      <th></th>\n",
       "      <th>Port Name</th>\n",
       "      <th>State</th>\n",
       "      <th>Port Code</th>\n",
       "      <th>Border</th>\n",
       "      <th>Date</th>\n",
       "      <th>Measure</th>\n",
       "      <th>Value</th>\n",
       "    </tr>\n",
       "  </thead>\n",
       "  <tbody>\n",
       "    <tr>\n",
       "      <th>525</th>\n",
       "      <td>Eastport_ID</td>\n",
       "      <td>Idaho</td>\n",
       "      <td>3302</td>\n",
       "      <td>US-Canada Border</td>\n",
       "      <td>2019-06-01</td>\n",
       "      <td>Bus Passengers</td>\n",
       "      <td>43</td>\n",
       "    </tr>\n",
       "    <tr>\n",
       "      <th>562</th>\n",
       "      <td>Eastport_MA</td>\n",
       "      <td>Maine</td>\n",
       "      <td>103</td>\n",
       "      <td>US-Canada Border</td>\n",
       "      <td>2019-06-01</td>\n",
       "      <td>Bus Passengers</td>\n",
       "      <td>179</td>\n",
       "    </tr>\n",
       "  </tbody>\n",
       "</table>\n",
       "</div>"
      ],
      "text/plain": [
       "       Port Name  State  Port Code            Border       Date  \\\n",
       "525  Eastport_ID  Idaho       3302  US-Canada Border 2019-06-01   \n",
       "562  Eastport_MA  Maine        103  US-Canada Border 2019-06-01   \n",
       "\n",
       "            Measure  Value  \n",
       "525  Bus Passengers     43  \n",
       "562  Bus Passengers    179  "
      ]
     },
     "execution_count": 14,
     "metadata": {},
     "output_type": "execute_result"
    }
   ],
   "source": [
    "# change 'Port Name' of Eastport Idaho and Eastport Maine\n",
    "df.loc[(df['Port Name'] == 'Eastport') & (df['State'] == 'Idaho'), 'Port Name'] = 'Eastport_ID'\n",
    "df.loc[(df['Port Name'] == 'Eastport') & (df['State'] == 'Maine'), 'Port Name'] = 'Eastport_MA'\n",
    "df.loc[(df['Port Code'] == 3302) | (df['Port Code'] == 103)].drop_duplicates(['Port Code'], keep='first')"
   ]
  },
  {
   "cell_type": "code",
   "execution_count": 15,
   "metadata": {
    "colab": {},
    "colab_type": "code",
    "id": "-k-tEW-VOy8O"
   },
   "outputs": [
    {
     "name": "stdout",
     "output_type": "stream",
     "text": [
      "port names : 117\n",
      "port codes : 117\n"
     ]
    }
   ],
   "source": [
    "# recheck if number of unique elements in \"Port Code\" and \"Port Name\" equal \n",
    "print('port names : {}' .format(len(df['Port Name'].unique())))\n",
    "print('port codes : {}' .format(len(df['Port Code'].unique())))"
   ]
  },
  {
   "cell_type": "markdown",
   "metadata": {},
   "source": [
    "## Adding Positions to \"Border_Crossing_Entry_Data.zip\""
   ]
  },
  {
   "cell_type": "code",
   "execution_count": 17,
   "metadata": {
    "inputHidden": false,
    "outputHidden": false
   },
   "outputs": [
    {
     "ename": "ModuleNotFoundError",
     "evalue": "No module named 'geopy'",
     "output_type": "error",
     "traceback": [
      "\u001b[0;31m---------------------------------------------------------------------------\u001b[0m",
      "\u001b[0;31mModuleNotFoundError\u001b[0m                       Traceback (most recent call last)",
      "\u001b[0;32m<ipython-input-17-5f69d3e8449e>\u001b[0m in \u001b[0;36m<module>\u001b[0;34m\u001b[0m\n\u001b[0;32m----> 1\u001b[0;31m \u001b[0;32mfrom\u001b[0m \u001b[0mgeopy\u001b[0m\u001b[0;34m.\u001b[0m\u001b[0mgeocoders\u001b[0m \u001b[0;32mimport\u001b[0m \u001b[0mNominatim\u001b[0m\u001b[0;34m\u001b[0m\u001b[0;34m\u001b[0m\u001b[0m\n\u001b[0m",
      "\u001b[0;31mModuleNotFoundError\u001b[0m: No module named 'geopy'"
     ]
    }
   ],
   "source": [
    "from geopy.geocoders import Nominatim"
   ]
  },
  {
   "cell_type": "code",
   "execution_count": null,
   "metadata": {
    "inputHidden": false,
    "outputHidden": false
   },
   "outputs": [],
   "source": [
    "import pandas as pd"
   ]
  },
  {
   "cell_type": "code",
   "execution_count": null,
   "metadata": {
    "inputHidden": false,
    "outputHidden": false
   },
   "outputs": [],
   "source": [
    "data.head()"
   ]
  },
  {
   "cell_type": "markdown",
   "metadata": {},
   "source": [
    "We'll add a new column with coordoonates of the ports. These coordoonates will allow to plot the port on a map.\n",
    "\n",
    "We create a new locator with geopy"
   ]
  },
  {
   "cell_type": "code",
   "execution_count": null,
   "metadata": {
    "inputHidden": false,
    "outputHidden": false
   },
   "outputs": [],
   "source": [
    "locator = Nominatim(user_agent=\"myGeocoder\")"
   ]
  },
  {
   "cell_type": "code",
   "execution_count": null,
   "metadata": {
    "inputHidden": false,
    "outputHidden": false
   },
   "outputs": [],
   "source": [
    "nom = Nominatim(user_agent=\"myGeocoder\",timeout=2)"
   ]
  },
  {
   "cell_type": "markdown",
   "metadata": {},
   "source": [
    "Create an array with all the names of the port\n",
    "and add \",USA\" at the end of every port names to make sure to find the one in the USA."
   ]
  },
  {
   "cell_type": "code",
   "execution_count": null,
   "metadata": {
    "inputHidden": false,
    "outputHidden": false
   },
   "outputs": [],
   "source": [
    "lieux = data['Port Name'].map(lambda x : x).unique()\n",
    "lieux = lieux + \",USA\"\n",
    "#lieux"
   ]
  },
  {
   "cell_type": "markdown",
   "metadata": {},
   "source": [
    "Find the geocode of every port and store them in a dictionnary."
   ]
  },
  {
   "cell_type": "code",
   "execution_count": null,
   "metadata": {
    "inputHidden": false,
    "outputHidden": false
   },
   "outputs": [],
   "source": [
    "coordoonates = {}\n",
    "\n",
    "def do_geocode(address):\n",
    "    try:\n",
    "        return nom.geocode(address)\n",
    "    except:\n",
    "        return do_geocode(address)\n",
    "    \n",
    "for lieu in lieux:\n",
    "    coordoonates[lieu] = do_geocode(lieu)\n",
    "    #print(do_geocode(lieu))"
   ]
  },
  {
   "cell_type": "code",
   "execution_count": null,
   "metadata": {
    "inputHidden": false,
    "outputHidden": false
   },
   "outputs": [],
   "source": [
    "#print(coordoonates)"
   ]
  },
  {
   "cell_type": "markdown",
   "metadata": {},
   "source": [
    "Compute a new dictionnary with the exact name of the port (whitout USA at the end) and the coordoonates."
   ]
  },
  {
   "cell_type": "code",
   "execution_count": null,
   "metadata": {
    "inputHidden": false,
    "outputHidden": false
   },
   "outputs": [],
   "source": [
    "portAndCoordoonates = {}\n",
    "for key in coordoonates:\n",
    "    if coordoonates[key] is None:\n",
    "        portAndCoordoonates[key[:-4]] = None\n",
    "    else:\n",
    "        portAndCoordoonates[key[:-4]] = (coordoonates[key].latitude,coordoonates[key].longitude)\n",
    "#print(portAndCoordoonates)"
   ]
  },
  {
   "cell_type": "markdown",
   "metadata": {},
   "source": [
    "Check missing values in the ports coordoonates"
   ]
  },
  {
   "cell_type": "code",
   "execution_count": null,
   "metadata": {
    "inputHidden": false,
    "outputHidden": false
   },
   "outputs": [],
   "source": [
    "missings = []\n",
    "for key in portAndCoordoonates:\n",
    "    if portAndCoordoonates[key] is None:\n",
    "        missings.append(key)\n",
    "print(missings)"
   ]
  },
  {
   "cell_type": "markdown",
   "metadata": {},
   "source": [
    "We see that these 5 ports have no coordoonates. We'll add them manually."
   ]
  },
  {
   "cell_type": "code",
   "execution_count": null,
   "metadata": {
    "inputHidden": false,
    "outputHidden": false
   },
   "outputs": [],
   "source": [
    "portAndCoordoonates['Blaine']  = do_geocode(\"Blaine, Washington\")\n",
    "portAndCoordoonates['International Falls-Ranier'] = do_geocode(\"International Falls,USA\")\n",
    "portAndCoordoonates['Dalton Cache'] = do_geocode(\"Pleasant Camp\")\n",
    "portAndCoordoonates['Van Buren'] = (\"47.16207\",\"-67.94271\")\n",
    "portAndCoordoonates['Turner'] = (\"48.84361\",\"108.40599\")"
   ]
  },
  {
   "cell_type": "markdown",
   "metadata": {},
   "source": [
    "Add the Coordoonates to the data as a new column"
   ]
  },
  {
   "cell_type": "code",
   "execution_count": null,
   "metadata": {
    "inputHidden": false,
    "outputHidden": false
   },
   "outputs": [],
   "source": [
    "data[\"position\"] = data['Port Name'].apply(lambda loc:portAndCoordoonates[loc])"
   ]
  },
  {
   "cell_type": "code",
   "execution_count": null,
   "metadata": {
    "inputHidden": false,
    "outputHidden": false
   },
   "outputs": [],
   "source": [
    "data.head()"
   ]
  },
  {
   "cell_type": "markdown",
   "metadata": {},
   "source": [
    "Check if data are still missing"
   ]
  },
  {
   "cell_type": "code",
   "execution_count": null,
   "metadata": {
    "inputHidden": false,
    "outputHidden": false
   },
   "outputs": [],
   "source": [
    "data.isnull().sum()"
   ]
  },
  {
   "cell_type": "markdown",
   "metadata": {},
   "source": [
    "Export the data with the position"
   ]
  },
  {
   "cell_type": "code",
   "execution_count": null,
   "metadata": {
    "inputHidden": false,
    "outputHidden": false
   },
   "outputs": [],
   "source": [
    "export_csv = data.to_csv (r'/Users/Arnaud/Desktop/data_with_position.csv', index = None, header=True) #Don't forget to add '.csv' at the end of the path"
   ]
  },
  {
   "cell_type": "markdown",
   "metadata": {},
   "source": [
    "## Cleaning \"data_with_position.zip\""
   ]
  },
  {
   "cell_type": "markdown",
   "metadata": {},
   "source": [
    "The problem is now solved. Let's export the cleaned dataset:"
   ]
  },
  {
   "cell_type": "code",
   "execution_count": 16,
   "metadata": {
    "inputHidden": false,
    "outputHidden": false
   },
   "outputs": [],
   "source": [
    "export_csv = df.to_csv (r'../../DataWithLocationCleaned.csv', index = None, header=True)"
   ]
  }
 ],
 "metadata": {
  "colab": {
   "name": "Cleaning.ipynb",
   "provenance": []
  },
  "kernel_info": {
   "name": "python3"
  },
  "kernelspec": {
   "display_name": "Python 3",
   "language": "python",
   "name": "python3"
  },
  "language_info": {
   "codemirror_mode": {
    "name": "ipython",
    "version": 3
   },
   "file_extension": ".py",
   "mimetype": "text/x-python",
   "name": "python",
   "nbconvert_exporter": "python",
   "pygments_lexer": "ipython3",
   "version": "3.7.3"
  },
  "nteract": {
   "version": "0.15.0"
  }
 },
 "nbformat": 4,
 "nbformat_minor": 1
}
