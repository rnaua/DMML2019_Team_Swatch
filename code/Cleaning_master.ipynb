{
  "cells": [
    {
      "cell_type": "markdown",
      "source": [
        "# Cleaning Master\n",
        "\n",
        "### Cleaning \"Border_Crossing_Entry_Data.zip\""
      ],
      "metadata": {}
    },
    {
      "cell_type": "code",
      "source": [
        "# load helpful packages \n",
        "import pandas as pd # data processing\n",
        "import numpy as np # linear algebra"
      ],
      "outputs": [],
      "execution_count": 1,
      "metadata": {
        "id": "aq9G7SGmWoTq",
        "colab_type": "code",
        "colab": {}
      }
    },
    {
      "cell_type": "markdown",
      "source": [
        "Let's first import the data and let's see what the dataset is like"
      ],
      "metadata": {}
    },
    {
      "cell_type": "code",
      "source": [
        "# load dataset\n",
        "df=pd.read_csv(\"/Users/tanjamarkotic/Desktop/Border_Crossing_Entry_Data.csv\")\n",
        "# df = pd.read_csv(\"../data/data_with_position.zip\") to be delated\n",
        "# \"each row has a counting (\"Value\") for the crossing method (\"Measure\")\"\n",
        "df.head()"
      ],
      "outputs": [
        {
          "output_type": "execute_result",
          "execution_count": 2,
          "data": {
            "text/plain": [
              "  Port Name      State  Port Code            Border                    Date  \\\n",
              "0   Warroad  Minnesota       3423  US-Canada Border  06/01/2019 12:00:00 AM   \n",
              "1   Warroad  Minnesota       3423  US-Canada Border  06/01/2019 12:00:00 AM   \n",
              "2   Warroad  Minnesota       3423  US-Canada Border  06/01/2019 12:00:00 AM   \n",
              "3   Warroad  Minnesota       3423  US-Canada Border  06/01/2019 12:00:00 AM   \n",
              "4   Warroad  Minnesota       3423  US-Canada Border  06/01/2019 12:00:00 AM   \n",
              "\n",
              "                       Measure  Value  \n",
              "0        Truck Containers Full    133  \n",
              "1       Truck Containers Empty    298  \n",
              "2            Personal Vehicles  10383  \n",
              "3  Personal Vehicle Passengers  19459  \n",
              "4                  Pedestrians      2  "
            ],
            "text/html": [
              "<div>\n",
              "<style scoped>\n",
              "    .dataframe tbody tr th:only-of-type {\n",
              "        vertical-align: middle;\n",
              "    }\n",
              "\n",
              "    .dataframe tbody tr th {\n",
              "        vertical-align: top;\n",
              "    }\n",
              "\n",
              "    .dataframe thead th {\n",
              "        text-align: right;\n",
              "    }\n",
              "</style>\n",
              "<table border=\"1\" class=\"dataframe\">\n",
              "  <thead>\n",
              "    <tr style=\"text-align: right;\">\n",
              "      <th></th>\n",
              "      <th>Port Name</th>\n",
              "      <th>State</th>\n",
              "      <th>Port Code</th>\n",
              "      <th>Border</th>\n",
              "      <th>Date</th>\n",
              "      <th>Measure</th>\n",
              "      <th>Value</th>\n",
              "    </tr>\n",
              "  </thead>\n",
              "  <tbody>\n",
              "    <tr>\n",
              "      <th>0</th>\n",
              "      <td>Warroad</td>\n",
              "      <td>Minnesota</td>\n",
              "      <td>3423</td>\n",
              "      <td>US-Canada Border</td>\n",
              "      <td>06/01/2019 12:00:00 AM</td>\n",
              "      <td>Truck Containers Full</td>\n",
              "      <td>133</td>\n",
              "    </tr>\n",
              "    <tr>\n",
              "      <th>1</th>\n",
              "      <td>Warroad</td>\n",
              "      <td>Minnesota</td>\n",
              "      <td>3423</td>\n",
              "      <td>US-Canada Border</td>\n",
              "      <td>06/01/2019 12:00:00 AM</td>\n",
              "      <td>Truck Containers Empty</td>\n",
              "      <td>298</td>\n",
              "    </tr>\n",
              "    <tr>\n",
              "      <th>2</th>\n",
              "      <td>Warroad</td>\n",
              "      <td>Minnesota</td>\n",
              "      <td>3423</td>\n",
              "      <td>US-Canada Border</td>\n",
              "      <td>06/01/2019 12:00:00 AM</td>\n",
              "      <td>Personal Vehicles</td>\n",
              "      <td>10383</td>\n",
              "    </tr>\n",
              "    <tr>\n",
              "      <th>3</th>\n",
              "      <td>Warroad</td>\n",
              "      <td>Minnesota</td>\n",
              "      <td>3423</td>\n",
              "      <td>US-Canada Border</td>\n",
              "      <td>06/01/2019 12:00:00 AM</td>\n",
              "      <td>Personal Vehicle Passengers</td>\n",
              "      <td>19459</td>\n",
              "    </tr>\n",
              "    <tr>\n",
              "      <th>4</th>\n",
              "      <td>Warroad</td>\n",
              "      <td>Minnesota</td>\n",
              "      <td>3423</td>\n",
              "      <td>US-Canada Border</td>\n",
              "      <td>06/01/2019 12:00:00 AM</td>\n",
              "      <td>Pedestrians</td>\n",
              "      <td>2</td>\n",
              "    </tr>\n",
              "  </tbody>\n",
              "</table>\n",
              "</div>"
            ]
          },
          "metadata": {}
        }
      ],
      "execution_count": 2,
      "metadata": {
        "id": "YDEsiaRnOgXm",
        "colab_type": "code",
        "colab": {
          "base_uri": "https://localhost:8080/",
          "height": 392
        },
        "outputId": "e4987fe2-c48c-4fbd-98e4-b33c8f36c2bb"
      }
    },
    {
      "cell_type": "markdown",
      "source": [
        "Now we look at the data structure"
      ],
      "metadata": {}
    },
    {
      "cell_type": "code",
      "source": [
        "# check data types of features\n",
        "df.dtypes"
      ],
      "outputs": [
        {
          "output_type": "execute_result",
          "execution_count": 3,
          "data": {
            "text/plain": [
              "Port Name    object\n",
              "State        object\n",
              "Port Code     int64\n",
              "Border       object\n",
              "Date         object\n",
              "Measure      object\n",
              "Value         int64\n",
              "dtype: object"
            ]
          },
          "metadata": {}
        }
      ],
      "execution_count": 3,
      "metadata": {
        "id": "Wy_y14ZQOi0n",
        "colab_type": "code",
        "colab": {}
      }
    },
    {
      "cell_type": "markdown",
      "source": [
        "We see that the data types need some reformating"
      ],
      "metadata": {}
    },
    {
      "cell_type": "code",
      "source": [
        "# convert 'Date' to date format\n",
        "df['Date'] = pd.to_datetime(df['Date'])\n",
        "# recheck data type of 'Date'\n",
        "df.dtypes"
      ],
      "outputs": [
        {
          "output_type": "execute_result",
          "execution_count": 8,
          "data": {
            "text/plain": [
              "Port Name            object\n",
              "State                object\n",
              "Port Code             int64\n",
              "Border               object\n",
              "Date         datetime64[ns]\n",
              "Measure              object\n",
              "Value                 int64\n",
              "dtype: object"
            ]
          },
          "metadata": {}
        }
      ],
      "execution_count": 8,
      "metadata": {
        "id": "tkdZWdt-Okjc",
        "colab_type": "code",
        "colab": {}
      }
    },
    {
      "cell_type": "code",
      "source": [
        "# check if 2 possible values for 'Border'?\n",
        "# check years included in dataset?"
      ],
      "outputs": [],
      "execution_count": 5,
      "metadata": {
        "collapsed": false,
        "outputHidden": false,
        "inputHidden": false
      }
    },
    {
      "cell_type": "code",
      "source": [
        "df.head()"
      ],
      "outputs": [
        {
          "output_type": "execute_result",
          "execution_count": 6,
          "data": {
            "text/plain": [
              "  Port Name      State  Port Code            Border       Date  \\\n",
              "0   Warroad  Minnesota       3423  US-Canada Border 2019-06-01   \n",
              "1   Warroad  Minnesota       3423  US-Canada Border 2019-06-01   \n",
              "2   Warroad  Minnesota       3423  US-Canada Border 2019-06-01   \n",
              "3   Warroad  Minnesota       3423  US-Canada Border 2019-06-01   \n",
              "4   Warroad  Minnesota       3423  US-Canada Border 2019-06-01   \n",
              "\n",
              "                       Measure  Value  \n",
              "0        Truck Containers Full    133  \n",
              "1       Truck Containers Empty    298  \n",
              "2            Personal Vehicles  10383  \n",
              "3  Personal Vehicle Passengers  19459  \n",
              "4                  Pedestrians      2  "
            ],
            "text/html": [
              "<div>\n",
              "<style scoped>\n",
              "    .dataframe tbody tr th:only-of-type {\n",
              "        vertical-align: middle;\n",
              "    }\n",
              "\n",
              "    .dataframe tbody tr th {\n",
              "        vertical-align: top;\n",
              "    }\n",
              "\n",
              "    .dataframe thead th {\n",
              "        text-align: right;\n",
              "    }\n",
              "</style>\n",
              "<table border=\"1\" class=\"dataframe\">\n",
              "  <thead>\n",
              "    <tr style=\"text-align: right;\">\n",
              "      <th></th>\n",
              "      <th>Port Name</th>\n",
              "      <th>State</th>\n",
              "      <th>Port Code</th>\n",
              "      <th>Border</th>\n",
              "      <th>Date</th>\n",
              "      <th>Measure</th>\n",
              "      <th>Value</th>\n",
              "    </tr>\n",
              "  </thead>\n",
              "  <tbody>\n",
              "    <tr>\n",
              "      <th>0</th>\n",
              "      <td>Warroad</td>\n",
              "      <td>Minnesota</td>\n",
              "      <td>3423</td>\n",
              "      <td>US-Canada Border</td>\n",
              "      <td>2019-06-01</td>\n",
              "      <td>Truck Containers Full</td>\n",
              "      <td>133</td>\n",
              "    </tr>\n",
              "    <tr>\n",
              "      <th>1</th>\n",
              "      <td>Warroad</td>\n",
              "      <td>Minnesota</td>\n",
              "      <td>3423</td>\n",
              "      <td>US-Canada Border</td>\n",
              "      <td>2019-06-01</td>\n",
              "      <td>Truck Containers Empty</td>\n",
              "      <td>298</td>\n",
              "    </tr>\n",
              "    <tr>\n",
              "      <th>2</th>\n",
              "      <td>Warroad</td>\n",
              "      <td>Minnesota</td>\n",
              "      <td>3423</td>\n",
              "      <td>US-Canada Border</td>\n",
              "      <td>2019-06-01</td>\n",
              "      <td>Personal Vehicles</td>\n",
              "      <td>10383</td>\n",
              "    </tr>\n",
              "    <tr>\n",
              "      <th>3</th>\n",
              "      <td>Warroad</td>\n",
              "      <td>Minnesota</td>\n",
              "      <td>3423</td>\n",
              "      <td>US-Canada Border</td>\n",
              "      <td>2019-06-01</td>\n",
              "      <td>Personal Vehicle Passengers</td>\n",
              "      <td>19459</td>\n",
              "    </tr>\n",
              "    <tr>\n",
              "      <th>4</th>\n",
              "      <td>Warroad</td>\n",
              "      <td>Minnesota</td>\n",
              "      <td>3423</td>\n",
              "      <td>US-Canada Border</td>\n",
              "      <td>2019-06-01</td>\n",
              "      <td>Pedestrians</td>\n",
              "      <td>2</td>\n",
              "    </tr>\n",
              "  </tbody>\n",
              "</table>\n",
              "</div>"
            ]
          },
          "metadata": {}
        }
      ],
      "execution_count": 6,
      "metadata": {
        "id": "6aMecpN7Ol3N",
        "colab_type": "code",
        "colab": {}
      }
    },
    {
      "cell_type": "code",
      "source": [
        "# Look for missing values\n",
        "df.isnull().any()"
      ],
      "outputs": [
        {
          "output_type": "execute_result",
          "execution_count": 9,
          "data": {
            "text/plain": [
              "Port Name    False\n",
              "State        False\n",
              "Port Code    False\n",
              "Border       False\n",
              "Date         False\n",
              "Measure      False\n",
              "Value        False\n",
              "dtype: bool"
            ]
          },
          "metadata": {}
        }
      ],
      "execution_count": 9,
      "metadata": {
        "id": "tmvDwDO7Opeh",
        "colab_type": "code",
        "colab": {}
      }
    },
    {
      "cell_type": "markdown",
      "source": [
        "We don't have any missing values. Now let's check the number of different values in each columns"
      ],
      "metadata": {}
    },
    {
      "cell_type": "code",
      "source": [
        "print('Attribute '+ 'Values')\n",
        "for i in df.columns:\n",
        "    print( i,len(df.loc[:,i].unique()) )"
      ],
      "outputs": [
        {
          "output_type": "stream",
          "name": "stdout",
          "text": [
            "Attribute Values\n",
            "Port Name 116\n",
            "State 15\n",
            "Port Code 117\n",
            "Border 2\n",
            "Date 282\n",
            "Measure 12\n",
            "Value 53725\n"
          ]
        }
      ],
      "execution_count": 10,
      "metadata": {
        "collapsed": false,
        "outputHidden": false,
        "inputHidden": false
      }
    },
    {
      "cell_type": "code",
      "source": [
        "# check if number of unique elements in \"Port Code\" and \"Port Name\" equal \n",
        "print('port names : {}' .format(len(df['Port Name'].unique())))\n",
        "print('port codes : {}' .format(len(df['Port Code'].unique())))"
      ],
      "outputs": [
        {
          "output_type": "stream",
          "name": "stdout",
          "text": [
            "port names : 116\n",
            "port codes : 117\n"
          ]
        }
      ],
      "execution_count": 11,
      "metadata": {
        "id": "iL78G5_sOri4",
        "colab_type": "code",
        "colab": {}
      }
    },
    {
      "cell_type": "markdown",
      "source": [
        "We see that there are one more port code than port name so we have to fix that."
      ],
      "metadata": {}
    },
    {
      "cell_type": "code",
      "source": [
        "ports = df[['Port Code','Port Name']].drop_duplicates()\n",
        "ports[ports['Port Name'].duplicated(keep=False)]"
      ],
      "outputs": [
        {
          "output_type": "execute_result",
          "execution_count": 12,
          "data": {
            "text/plain": [
              "     Port Code Port Name\n",
              "525       3302  Eastport\n",
              "562        103  Eastport"
            ],
            "text/html": [
              "<div>\n",
              "<style scoped>\n",
              "    .dataframe tbody tr th:only-of-type {\n",
              "        vertical-align: middle;\n",
              "    }\n",
              "\n",
              "    .dataframe tbody tr th {\n",
              "        vertical-align: top;\n",
              "    }\n",
              "\n",
              "    .dataframe thead th {\n",
              "        text-align: right;\n",
              "    }\n",
              "</style>\n",
              "<table border=\"1\" class=\"dataframe\">\n",
              "  <thead>\n",
              "    <tr style=\"text-align: right;\">\n",
              "      <th></th>\n",
              "      <th>Port Code</th>\n",
              "      <th>Port Name</th>\n",
              "    </tr>\n",
              "  </thead>\n",
              "  <tbody>\n",
              "    <tr>\n",
              "      <th>525</th>\n",
              "      <td>3302</td>\n",
              "      <td>Eastport</td>\n",
              "    </tr>\n",
              "    <tr>\n",
              "      <th>562</th>\n",
              "      <td>103</td>\n",
              "      <td>Eastport</td>\n",
              "    </tr>\n",
              "  </tbody>\n",
              "</table>\n",
              "</div>"
            ]
          },
          "metadata": {}
        }
      ],
      "execution_count": 12,
      "metadata": {
        "id": "BnqPRuiLOtMW",
        "colab_type": "code",
        "colab": {}
      }
    },
    {
      "cell_type": "code",
      "source": [
        "df.loc[df['Port Name'] == 'Eastport'].drop_duplicates(['Port Code'], keep='first')"
      ],
      "outputs": [
        {
          "output_type": "execute_result",
          "execution_count": 13,
          "data": {
            "text/plain": [
              "    Port Name  State  Port Code            Border       Date         Measure  \\\n",
              "525  Eastport  Idaho       3302  US-Canada Border 2019-06-01  Bus Passengers   \n",
              "562  Eastport  Maine        103  US-Canada Border 2019-06-01  Bus Passengers   \n",
              "\n",
              "     Value  \n",
              "525     43  \n",
              "562    179  "
            ],
            "text/html": [
              "<div>\n",
              "<style scoped>\n",
              "    .dataframe tbody tr th:only-of-type {\n",
              "        vertical-align: middle;\n",
              "    }\n",
              "\n",
              "    .dataframe tbody tr th {\n",
              "        vertical-align: top;\n",
              "    }\n",
              "\n",
              "    .dataframe thead th {\n",
              "        text-align: right;\n",
              "    }\n",
              "</style>\n",
              "<table border=\"1\" class=\"dataframe\">\n",
              "  <thead>\n",
              "    <tr style=\"text-align: right;\">\n",
              "      <th></th>\n",
              "      <th>Port Name</th>\n",
              "      <th>State</th>\n",
              "      <th>Port Code</th>\n",
              "      <th>Border</th>\n",
              "      <th>Date</th>\n",
              "      <th>Measure</th>\n",
              "      <th>Value</th>\n",
              "    </tr>\n",
              "  </thead>\n",
              "  <tbody>\n",
              "    <tr>\n",
              "      <th>525</th>\n",
              "      <td>Eastport</td>\n",
              "      <td>Idaho</td>\n",
              "      <td>3302</td>\n",
              "      <td>US-Canada Border</td>\n",
              "      <td>2019-06-01</td>\n",
              "      <td>Bus Passengers</td>\n",
              "      <td>43</td>\n",
              "    </tr>\n",
              "    <tr>\n",
              "      <th>562</th>\n",
              "      <td>Eastport</td>\n",
              "      <td>Maine</td>\n",
              "      <td>103</td>\n",
              "      <td>US-Canada Border</td>\n",
              "      <td>2019-06-01</td>\n",
              "      <td>Bus Passengers</td>\n",
              "      <td>179</td>\n",
              "    </tr>\n",
              "  </tbody>\n",
              "</table>\n",
              "</div>"
            ]
          },
          "metadata": {}
        }
      ],
      "execution_count": 13,
      "metadata": {
        "id": "n7SQpZ9tOvA6",
        "colab_type": "code",
        "colab": {}
      }
    },
    {
      "cell_type": "markdown",
      "source": [
        "It is because there are 2 ports with the same name in different state so we will fix that by changing the port names"
      ],
      "metadata": {}
    },
    {
      "cell_type": "code",
      "source": [
        "# change 'Port Name' of Eastport Idaho and Eastport Maine\n",
        "df.loc[(df['Port Name'] == 'Eastport') & (df['State'] == 'Idaho'), 'Port Name'] = 'Eastport_ID'\n",
        "df.loc[(df['Port Name'] == 'Eastport') & (df['State'] == 'Maine'), 'Port Name'] = 'Eastport_MA'\n",
        "df.loc[(df['Port Code'] == 3302) | (df['Port Code'] == 103)].drop_duplicates(['Port Code'], keep='first')"
      ],
      "outputs": [
        {
          "output_type": "execute_result",
          "execution_count": 14,
          "data": {
            "text/plain": [
              "       Port Name  State  Port Code            Border       Date  \\\n",
              "525  Eastport_ID  Idaho       3302  US-Canada Border 2019-06-01   \n",
              "562  Eastport_MA  Maine        103  US-Canada Border 2019-06-01   \n",
              "\n",
              "            Measure  Value  \n",
              "525  Bus Passengers     43  \n",
              "562  Bus Passengers    179  "
            ],
            "text/html": [
              "<div>\n",
              "<style scoped>\n",
              "    .dataframe tbody tr th:only-of-type {\n",
              "        vertical-align: middle;\n",
              "    }\n",
              "\n",
              "    .dataframe tbody tr th {\n",
              "        vertical-align: top;\n",
              "    }\n",
              "\n",
              "    .dataframe thead th {\n",
              "        text-align: right;\n",
              "    }\n",
              "</style>\n",
              "<table border=\"1\" class=\"dataframe\">\n",
              "  <thead>\n",
              "    <tr style=\"text-align: right;\">\n",
              "      <th></th>\n",
              "      <th>Port Name</th>\n",
              "      <th>State</th>\n",
              "      <th>Port Code</th>\n",
              "      <th>Border</th>\n",
              "      <th>Date</th>\n",
              "      <th>Measure</th>\n",
              "      <th>Value</th>\n",
              "    </tr>\n",
              "  </thead>\n",
              "  <tbody>\n",
              "    <tr>\n",
              "      <th>525</th>\n",
              "      <td>Eastport_ID</td>\n",
              "      <td>Idaho</td>\n",
              "      <td>3302</td>\n",
              "      <td>US-Canada Border</td>\n",
              "      <td>2019-06-01</td>\n",
              "      <td>Bus Passengers</td>\n",
              "      <td>43</td>\n",
              "    </tr>\n",
              "    <tr>\n",
              "      <th>562</th>\n",
              "      <td>Eastport_MA</td>\n",
              "      <td>Maine</td>\n",
              "      <td>103</td>\n",
              "      <td>US-Canada Border</td>\n",
              "      <td>2019-06-01</td>\n",
              "      <td>Bus Passengers</td>\n",
              "      <td>179</td>\n",
              "    </tr>\n",
              "  </tbody>\n",
              "</table>\n",
              "</div>"
            ]
          },
          "metadata": {}
        }
      ],
      "execution_count": 14,
      "metadata": {
        "id": "EJ7N2oVZOxKP",
        "colab_type": "code",
        "colab": {}
      }
    },
    {
      "cell_type": "code",
      "source": [
        "# recheck if number of unique elements in \"Port Code\" and \"Port Name\" equal \n",
        "print('port names : {}' .format(len(df['Port Name'].unique())))\n",
        "print('port codes : {}' .format(len(df['Port Code'].unique())))"
      ],
      "outputs": [
        {
          "output_type": "stream",
          "name": "stdout",
          "text": [
            "port names : 117\n",
            "port codes : 117\n"
          ]
        }
      ],
      "execution_count": 15,
      "metadata": {
        "id": "-k-tEW-VOy8O",
        "colab_type": "code",
        "colab": {}
      }
    },
    {
      "cell_type": "markdown",
      "source": [
        "## Adding Positions to \"Border_Crossing_Entry_Data.zip\""
      ],
      "metadata": {}
    },
    {
      "cell_type": "code",
      "source": [
        "from geopy.geocoders import Nominatim"
      ],
      "outputs": [
        {
          "output_type": "error",
          "ename": "ModuleNotFoundError",
          "evalue": "No module named 'geopy'",
          "traceback": [
            "\u001b[0;31m---------------------------------------------------------------------------\u001b[0m",
            "\u001b[0;31mModuleNotFoundError\u001b[0m                       Traceback (most recent call last)",
            "\u001b[0;32m<ipython-input-17-5f69d3e8449e>\u001b[0m in \u001b[0;36m<module>\u001b[0;34m\u001b[0m\n\u001b[0;32m----> 1\u001b[0;31m \u001b[0;32mfrom\u001b[0m \u001b[0mgeopy\u001b[0m\u001b[0;34m.\u001b[0m\u001b[0mgeocoders\u001b[0m \u001b[0;32mimport\u001b[0m \u001b[0mNominatim\u001b[0m\u001b[0;34m\u001b[0m\u001b[0;34m\u001b[0m\u001b[0m\n\u001b[0m",
            "\u001b[0;31mModuleNotFoundError\u001b[0m: No module named 'geopy'"
          ]
        }
      ],
      "execution_count": 17,
      "metadata": {
        "collapsed": false,
        "outputHidden": false,
        "inputHidden": false
      }
    },
    {
      "cell_type": "code",
      "source": [
        "import pandas as pd"
      ],
      "outputs": [],
      "execution_count": null,
      "metadata": {
        "collapsed": false,
        "outputHidden": false,
        "inputHidden": false
      }
    },
    {
      "cell_type": "code",
      "source": [
        "data.head()"
      ],
      "outputs": [],
      "execution_count": null,
      "metadata": {
        "collapsed": false,
        "outputHidden": false,
        "inputHidden": false
      }
    },
    {
      "cell_type": "markdown",
      "source": [
        "We'll add a new column with coordoonates of the ports. These coordoonates will allow to plot the port on a map.\n",
        "\n",
        "We create a new locator with geopy"
      ],
      "metadata": {}
    },
    {
      "cell_type": "code",
      "source": [
        "locator = Nominatim(user_agent=\"myGeocoder\")"
      ],
      "outputs": [],
      "execution_count": null,
      "metadata": {
        "collapsed": false,
        "outputHidden": false,
        "inputHidden": false
      }
    },
    {
      "cell_type": "code",
      "source": [
        "nom = Nominatim(user_agent=\"myGeocoder\",timeout=2)"
      ],
      "outputs": [],
      "execution_count": null,
      "metadata": {
        "collapsed": false,
        "outputHidden": false,
        "inputHidden": false
      }
    },
    {
      "cell_type": "markdown",
      "source": [
        "Create an array with all the names of the port\n",
        "and add \",USA\" at the end of every port names to make sure to find the one in the USA."
      ],
      "metadata": {}
    },
    {
      "cell_type": "code",
      "source": [
        "lieux = data['Port Name'].map(lambda x : x).unique()\n",
        "lieux = lieux + \",USA\"\n",
        "#lieux"
      ],
      "outputs": [],
      "execution_count": null,
      "metadata": {
        "collapsed": false,
        "outputHidden": false,
        "inputHidden": false
      }
    },
    {
      "cell_type": "markdown",
      "source": [
        "Find the geocode of every port and store them in a dictionnary."
      ],
      "metadata": {}
    },
    {
      "cell_type": "code",
      "source": [
        "coordoonates = {}\n",
        "\n",
        "def do_geocode(address):\n",
        "    try:\n",
        "        return nom.geocode(address)\n",
        "    except:\n",
        "        return do_geocode(address)\n",
        "    \n",
        "for lieu in lieux:\n",
        "    coordoonates[lieu] = do_geocode(lieu)\n",
        "    #print(do_geocode(lieu))"
      ],
      "outputs": [],
      "execution_count": null,
      "metadata": {
        "collapsed": false,
        "outputHidden": false,
        "inputHidden": false
      }
    },
    {
      "cell_type": "code",
      "source": [
        "#print(coordoonates)"
      ],
      "outputs": [],
      "execution_count": null,
      "metadata": {
        "collapsed": false,
        "outputHidden": false,
        "inputHidden": false
      }
    },
    {
      "cell_type": "markdown",
      "source": [
        "Compute a new dictionnary with the exact name of the port (whitout USA at the end) and the coordoonates."
      ],
      "metadata": {}
    },
    {
      "cell_type": "code",
      "source": [
        "portAndCoordoonates = {}\n",
        "for key in coordoonates:\n",
        "    if coordoonates[key] is None:\n",
        "        portAndCoordoonates[key[:-4]] = None\n",
        "    else:\n",
        "        portAndCoordoonates[key[:-4]] = (coordoonates[key].latitude,coordoonates[key].longitude)\n",
        "#print(portAndCoordoonates)"
      ],
      "outputs": [],
      "execution_count": null,
      "metadata": {
        "collapsed": false,
        "outputHidden": false,
        "inputHidden": false
      }
    },
    {
      "cell_type": "markdown",
      "source": [
        "Check missing values in the ports coordoonates"
      ],
      "metadata": {}
    },
    {
      "cell_type": "code",
      "source": [
        "missings = []\n",
        "for key in portAndCoordoonates:\n",
        "    if portAndCoordoonates[key] is None:\n",
        "        missings.append(key)\n",
        "print(missings)"
      ],
      "outputs": [],
      "execution_count": null,
      "metadata": {
        "collapsed": false,
        "outputHidden": false,
        "inputHidden": false
      }
    },
    {
      "cell_type": "markdown",
      "source": [
        "We see that these 5 ports have no coordoonates. We'll add them manually."
      ],
      "metadata": {}
    },
    {
      "cell_type": "code",
      "source": [
        "portAndCoordoonates['Blaine']  = do_geocode(\"Blaine, Washington\")\n",
        "portAndCoordoonates['International Falls-Ranier'] = do_geocode(\"International Falls,USA\")\n",
        "portAndCoordoonates['Dalton Cache'] = do_geocode(\"Pleasant Camp\")\n",
        "portAndCoordoonates['Van Buren'] = (\"47.16207\",\"-67.94271\")\n",
        "portAndCoordoonates['Turner'] = (\"48.84361\",\"108.40599\")"
      ],
      "outputs": [],
      "execution_count": null,
      "metadata": {
        "collapsed": false,
        "outputHidden": false,
        "inputHidden": false
      }
    },
    {
      "cell_type": "markdown",
      "source": [
        "Add the Coordoonates to the data as a new column"
      ],
      "metadata": {}
    },
    {
      "cell_type": "code",
      "source": [
        "data[\"position\"] = data['Port Name'].apply(lambda loc:portAndCoordoonates[loc])"
      ],
      "outputs": [],
      "execution_count": null,
      "metadata": {
        "collapsed": false,
        "outputHidden": false,
        "inputHidden": false
      }
    },
    {
      "cell_type": "code",
      "source": [
        "data.head()"
      ],
      "outputs": [],
      "execution_count": null,
      "metadata": {
        "collapsed": false,
        "outputHidden": false,
        "inputHidden": false
      }
    },
    {
      "cell_type": "markdown",
      "source": [
        "Check if data are still missing"
      ],
      "metadata": {}
    },
    {
      "cell_type": "code",
      "source": [
        "data.isnull().sum()"
      ],
      "outputs": [],
      "execution_count": null,
      "metadata": {
        "collapsed": false,
        "outputHidden": false,
        "inputHidden": false
      }
    },
    {
      "cell_type": "markdown",
      "source": [
        "Export the data with the position"
      ],
      "metadata": {}
    },
    {
      "cell_type": "code",
      "source": [
        "export_csv = data.to_csv (r'/Users/Arnaud/Desktop/data_with_position.csv', index = None, header=True) #Don't forget to add '.csv' at the end of the path"
      ],
      "outputs": [],
      "execution_count": null,
      "metadata": {
        "collapsed": false,
        "outputHidden": false,
        "inputHidden": false
      }
    },
    {
      "cell_type": "markdown",
      "source": [
        "## Cleaning \"data_with_position.zip\""
      ],
      "metadata": {}
    },
    {
      "cell_type": "markdown",
      "source": [
        "The problem is now solved. Let's export the cleaned dataset:"
      ],
      "metadata": {}
    },
    {
      "cell_type": "code",
      "source": [
        "export_csv = df.to_csv (r'../../DataWithLocationCleaned.csv', index = None, header=True)"
      ],
      "outputs": [],
      "execution_count": 16,
      "metadata": {
        "collapsed": false,
        "outputHidden": false,
        "inputHidden": false
      }
    }
  ],
  "metadata": {
    "colab": {
      "name": "Cleaning.ipynb",
      "provenance": []
    },
    "kernelspec": {
      "name": "python3",
      "language": "python",
      "display_name": "Python 3"
    },
    "kernel_info": {
      "name": "python3"
    },
    "language_info": {
      "name": "python",
      "version": "3.7.3",
      "mimetype": "text/x-python",
      "codemirror_mode": {
        "name": "ipython",
        "version": 3
      },
      "pygments_lexer": "ipython3",
      "nbconvert_exporter": "python",
      "file_extension": ".py"
    },
    "nteract": {
      "version": "0.15.0"
    }
  },
  "nbformat": 4,
  "nbformat_minor": 0
}