{
  "cells": [
    {
      "cell_type": "markdown",
      "source": [
        "# Cleaning Master\n",
        "\n",
        "### Cleaning \"Border_Crossing_Entry_Data.zip\""
      ],
      "metadata": {}
    },
    {
      "cell_type": "code",
      "source": [
        "# load helpful packages \n",
        "import pandas as pd # data processing\n",
        "import numpy as np # linear algebra"
      ],
      "outputs": [],
      "execution_count": 6,
      "metadata": {
        "colab": {},
        "colab_type": "code",
        "id": "aq9G7SGmWoTq"
      }
    },
    {
      "cell_type": "markdown",
      "source": [
        "Let's first import the data and let's see what the dataset is like"
      ],
      "metadata": {}
    },
    {
      "cell_type": "code",
      "source": [
        "# load dataset\n",
        "df=pd.read_csv(\"../data/Border_Crossing_Entry_Data.zip\")\n",
        "# df = pd.read_csv(\"../data/data_with_position.zip\") to be delated\n",
        "# \"each row has a counting (\"Value\") for the crossing method (\"Measure\")\"\n",
        "df.head()"
      ],
      "outputs": [
        {
          "output_type": "execute_result",
          "execution_count": 7,
          "data": {
            "text/html": [
              "<div>\n",
              "<style scoped>\n",
              "    .dataframe tbody tr th:only-of-type {\n",
              "        vertical-align: middle;\n",
              "    }\n",
              "\n",
              "    .dataframe tbody tr th {\n",
              "        vertical-align: top;\n",
              "    }\n",
              "\n",
              "    .dataframe thead th {\n",
              "        text-align: right;\n",
              "    }\n",
              "</style>\n",
              "<table border=\"1\" class=\"dataframe\">\n",
              "  <thead>\n",
              "    <tr style=\"text-align: right;\">\n",
              "      <th></th>\n",
              "      <th>Port Name</th>\n",
              "      <th>State</th>\n",
              "      <th>Port Code</th>\n",
              "      <th>Border</th>\n",
              "      <th>Date</th>\n",
              "      <th>Measure</th>\n",
              "      <th>Value</th>\n",
              "    </tr>\n",
              "  </thead>\n",
              "  <tbody>\n",
              "    <tr>\n",
              "      <th>0</th>\n",
              "      <td>Warroad</td>\n",
              "      <td>Minnesota</td>\n",
              "      <td>3423</td>\n",
              "      <td>US-Canada Border</td>\n",
              "      <td>06/01/2019 12:00:00 AM</td>\n",
              "      <td>Truck Containers Full</td>\n",
              "      <td>133</td>\n",
              "    </tr>\n",
              "    <tr>\n",
              "      <th>1</th>\n",
              "      <td>Warroad</td>\n",
              "      <td>Minnesota</td>\n",
              "      <td>3423</td>\n",
              "      <td>US-Canada Border</td>\n",
              "      <td>06/01/2019 12:00:00 AM</td>\n",
              "      <td>Truck Containers Empty</td>\n",
              "      <td>298</td>\n",
              "    </tr>\n",
              "    <tr>\n",
              "      <th>2</th>\n",
              "      <td>Warroad</td>\n",
              "      <td>Minnesota</td>\n",
              "      <td>3423</td>\n",
              "      <td>US-Canada Border</td>\n",
              "      <td>06/01/2019 12:00:00 AM</td>\n",
              "      <td>Personal Vehicles</td>\n",
              "      <td>10383</td>\n",
              "    </tr>\n",
              "    <tr>\n",
              "      <th>3</th>\n",
              "      <td>Warroad</td>\n",
              "      <td>Minnesota</td>\n",
              "      <td>3423</td>\n",
              "      <td>US-Canada Border</td>\n",
              "      <td>06/01/2019 12:00:00 AM</td>\n",
              "      <td>Personal Vehicle Passengers</td>\n",
              "      <td>19459</td>\n",
              "    </tr>\n",
              "    <tr>\n",
              "      <th>4</th>\n",
              "      <td>Warroad</td>\n",
              "      <td>Minnesota</td>\n",
              "      <td>3423</td>\n",
              "      <td>US-Canada Border</td>\n",
              "      <td>06/01/2019 12:00:00 AM</td>\n",
              "      <td>Pedestrians</td>\n",
              "      <td>2</td>\n",
              "    </tr>\n",
              "  </tbody>\n",
              "</table>\n",
              "</div>"
            ],
            "text/plain": [
              "  Port Name      State  Port Code            Border                    Date  \\\n",
              "0   Warroad  Minnesota       3423  US-Canada Border  06/01/2019 12:00:00 AM   \n",
              "1   Warroad  Minnesota       3423  US-Canada Border  06/01/2019 12:00:00 AM   \n",
              "2   Warroad  Minnesota       3423  US-Canada Border  06/01/2019 12:00:00 AM   \n",
              "3   Warroad  Minnesota       3423  US-Canada Border  06/01/2019 12:00:00 AM   \n",
              "4   Warroad  Minnesota       3423  US-Canada Border  06/01/2019 12:00:00 AM   \n",
              "\n",
              "                       Measure  Value  \n",
              "0        Truck Containers Full    133  \n",
              "1       Truck Containers Empty    298  \n",
              "2            Personal Vehicles  10383  \n",
              "3  Personal Vehicle Passengers  19459  \n",
              "4                  Pedestrians      2  "
            ]
          },
          "metadata": {}
        }
      ],
      "execution_count": 7,
      "metadata": {
        "colab": {
          "base_uri": "https://localhost:8080/",
          "height": 392
        },
        "colab_type": "code",
        "id": "YDEsiaRnOgXm",
        "outputId": "e4987fe2-c48c-4fbd-98e4-b33c8f36c2bb"
      }
    },
    {
      "cell_type": "markdown",
      "source": [
        "Now we'll take look at the data structure"
      ],
      "metadata": {}
    },
    {
      "cell_type": "code",
      "source": [
        "# check data types of features\n",
        "df.dtypes"
      ],
      "outputs": [
        {
          "output_type": "execute_result",
          "execution_count": 8,
          "data": {
            "text/plain": [
              "Port Name    object\n",
              "State        object\n",
              "Port Code     int64\n",
              "Border       object\n",
              "Date         object\n",
              "Measure      object\n",
              "Value         int64\n",
              "dtype: object"
            ]
          },
          "metadata": {}
        }
      ],
      "execution_count": 8,
      "metadata": {
        "colab": {},
        "colab_type": "code",
        "id": "Wy_y14ZQOi0n"
      }
    },
    {
      "cell_type": "markdown",
      "source": [
        "We see that the data types need some reformating"
      ],
      "metadata": {}
    },
    {
      "cell_type": "code",
      "source": [
        "# convert 'Date' to date format\n",
        "df['Date'] = pd.to_datetime(df['Date'])\n",
        "# recheck data type of 'Date'\n",
        "df.dtypes"
      ],
      "outputs": [
        {
          "output_type": "execute_result",
          "execution_count": 9,
          "data": {
            "text/plain": [
              "Port Name            object\n",
              "State                object\n",
              "Port Code             int64\n",
              "Border               object\n",
              "Date         datetime64[ns]\n",
              "Measure              object\n",
              "Value                 int64\n",
              "dtype: object"
            ]
          },
          "metadata": {}
        }
      ],
      "execution_count": 9,
      "metadata": {
        "colab": {},
        "colab_type": "code",
        "id": "tkdZWdt-Okjc"
      }
    },
    {
      "cell_type": "code",
      "source": [
        "df.head()"
      ],
      "outputs": [
        {
          "output_type": "execute_result",
          "execution_count": 10,
          "data": {
            "text/html": [
              "<div>\n",
              "<style scoped>\n",
              "    .dataframe tbody tr th:only-of-type {\n",
              "        vertical-align: middle;\n",
              "    }\n",
              "\n",
              "    .dataframe tbody tr th {\n",
              "        vertical-align: top;\n",
              "    }\n",
              "\n",
              "    .dataframe thead th {\n",
              "        text-align: right;\n",
              "    }\n",
              "</style>\n",
              "<table border=\"1\" class=\"dataframe\">\n",
              "  <thead>\n",
              "    <tr style=\"text-align: right;\">\n",
              "      <th></th>\n",
              "      <th>Port Name</th>\n",
              "      <th>State</th>\n",
              "      <th>Port Code</th>\n",
              "      <th>Border</th>\n",
              "      <th>Date</th>\n",
              "      <th>Measure</th>\n",
              "      <th>Value</th>\n",
              "    </tr>\n",
              "  </thead>\n",
              "  <tbody>\n",
              "    <tr>\n",
              "      <th>0</th>\n",
              "      <td>Warroad</td>\n",
              "      <td>Minnesota</td>\n",
              "      <td>3423</td>\n",
              "      <td>US-Canada Border</td>\n",
              "      <td>2019-06-01</td>\n",
              "      <td>Truck Containers Full</td>\n",
              "      <td>133</td>\n",
              "    </tr>\n",
              "    <tr>\n",
              "      <th>1</th>\n",
              "      <td>Warroad</td>\n",
              "      <td>Minnesota</td>\n",
              "      <td>3423</td>\n",
              "      <td>US-Canada Border</td>\n",
              "      <td>2019-06-01</td>\n",
              "      <td>Truck Containers Empty</td>\n",
              "      <td>298</td>\n",
              "    </tr>\n",
              "    <tr>\n",
              "      <th>2</th>\n",
              "      <td>Warroad</td>\n",
              "      <td>Minnesota</td>\n",
              "      <td>3423</td>\n",
              "      <td>US-Canada Border</td>\n",
              "      <td>2019-06-01</td>\n",
              "      <td>Personal Vehicles</td>\n",
              "      <td>10383</td>\n",
              "    </tr>\n",
              "    <tr>\n",
              "      <th>3</th>\n",
              "      <td>Warroad</td>\n",
              "      <td>Minnesota</td>\n",
              "      <td>3423</td>\n",
              "      <td>US-Canada Border</td>\n",
              "      <td>2019-06-01</td>\n",
              "      <td>Personal Vehicle Passengers</td>\n",
              "      <td>19459</td>\n",
              "    </tr>\n",
              "    <tr>\n",
              "      <th>4</th>\n",
              "      <td>Warroad</td>\n",
              "      <td>Minnesota</td>\n",
              "      <td>3423</td>\n",
              "      <td>US-Canada Border</td>\n",
              "      <td>2019-06-01</td>\n",
              "      <td>Pedestrians</td>\n",
              "      <td>2</td>\n",
              "    </tr>\n",
              "  </tbody>\n",
              "</table>\n",
              "</div>"
            ],
            "text/plain": [
              "  Port Name      State  Port Code            Border       Date  \\\n",
              "0   Warroad  Minnesota       3423  US-Canada Border 2019-06-01   \n",
              "1   Warroad  Minnesota       3423  US-Canada Border 2019-06-01   \n",
              "2   Warroad  Minnesota       3423  US-Canada Border 2019-06-01   \n",
              "3   Warroad  Minnesota       3423  US-Canada Border 2019-06-01   \n",
              "4   Warroad  Minnesota       3423  US-Canada Border 2019-06-01   \n",
              "\n",
              "                       Measure  Value  \n",
              "0        Truck Containers Full    133  \n",
              "1       Truck Containers Empty    298  \n",
              "2            Personal Vehicles  10383  \n",
              "3  Personal Vehicle Passengers  19459  \n",
              "4                  Pedestrians      2  "
            ]
          },
          "metadata": {}
        }
      ],
      "execution_count": 10,
      "metadata": {
        "colab": {},
        "colab_type": "code",
        "id": "6aMecpN7Ol3N"
      }
    },
    {
      "cell_type": "code",
      "source": [
        "# Look for missing values\n",
        "df.isnull().any()"
      ],
      "outputs": [
        {
          "output_type": "execute_result",
          "execution_count": 11,
          "data": {
            "text/plain": [
              "Port Name    False\n",
              "State        False\n",
              "Port Code    False\n",
              "Border       False\n",
              "Date         False\n",
              "Measure      False\n",
              "Value        False\n",
              "dtype: bool"
            ]
          },
          "metadata": {}
        }
      ],
      "execution_count": 11,
      "metadata": {
        "colab": {},
        "colab_type": "code",
        "id": "tmvDwDO7Opeh"
      }
    },
    {
      "cell_type": "markdown",
      "source": [
        "We don't have any missing values. Now let's check the number of different values in each columns"
      ],
      "metadata": {}
    },
    {
      "cell_type": "code",
      "source": [
        "print('Attribute '+ 'Values')\n",
        "for i in df.columns:\n",
        "    print( i,len(df.loc[:,i].unique()) )"
      ],
      "outputs": [
        {
          "output_type": "stream",
          "name": "stdout",
          "text": [
            "Attribute Values\n",
            "Port Name 116\n",
            "State 15\n",
            "Port Code 117\n",
            "Border 2\n",
            "Date 282\n",
            "Measure 12\n",
            "Value 53725\n"
          ]
        }
      ],
      "execution_count": 12,
      "metadata": {
        "inputHidden": false,
        "outputHidden": false
      }
    },
    {
      "cell_type": "code",
      "source": [
        "# check if number of unique elements in \"Port Code\" and \"Port Name\" equal \n",
        "print('port names : {}' .format(len(df['Port Name'].unique())))\n",
        "print('port codes : {}' .format(len(df['Port Code'].unique())))"
      ],
      "outputs": [
        {
          "output_type": "stream",
          "name": "stdout",
          "text": [
            "port names : 116\n",
            "port codes : 117\n"
          ]
        }
      ],
      "execution_count": 13,
      "metadata": {
        "colab": {},
        "colab_type": "code",
        "id": "iL78G5_sOri4"
      }
    },
    {
      "cell_type": "markdown",
      "source": [
        "We see that there are one more port code than port name so we have to fix that."
      ],
      "metadata": {}
    },
    {
      "cell_type": "code",
      "source": [
        "ports = df[['Port Code','Port Name']].drop_duplicates()\n",
        "ports[ports['Port Name'].duplicated(keep=False)]"
      ],
      "outputs": [
        {
          "output_type": "execute_result",
          "execution_count": 14,
          "data": {
            "text/html": [
              "<div>\n",
              "<style scoped>\n",
              "    .dataframe tbody tr th:only-of-type {\n",
              "        vertical-align: middle;\n",
              "    }\n",
              "\n",
              "    .dataframe tbody tr th {\n",
              "        vertical-align: top;\n",
              "    }\n",
              "\n",
              "    .dataframe thead th {\n",
              "        text-align: right;\n",
              "    }\n",
              "</style>\n",
              "<table border=\"1\" class=\"dataframe\">\n",
              "  <thead>\n",
              "    <tr style=\"text-align: right;\">\n",
              "      <th></th>\n",
              "      <th>Port Code</th>\n",
              "      <th>Port Name</th>\n",
              "    </tr>\n",
              "  </thead>\n",
              "  <tbody>\n",
              "    <tr>\n",
              "      <th>525</th>\n",
              "      <td>3302</td>\n",
              "      <td>Eastport</td>\n",
              "    </tr>\n",
              "    <tr>\n",
              "      <th>562</th>\n",
              "      <td>103</td>\n",
              "      <td>Eastport</td>\n",
              "    </tr>\n",
              "  </tbody>\n",
              "</table>\n",
              "</div>"
            ],
            "text/plain": [
              "     Port Code Port Name\n",
              "525       3302  Eastport\n",
              "562        103  Eastport"
            ]
          },
          "metadata": {}
        }
      ],
      "execution_count": 14,
      "metadata": {
        "colab": {},
        "colab_type": "code",
        "id": "BnqPRuiLOtMW"
      }
    },
    {
      "cell_type": "code",
      "source": [
        "df.loc[df['Port Name'] == 'Eastport'].drop_duplicates(['Port Code'], keep='first')"
      ],
      "outputs": [
        {
          "output_type": "execute_result",
          "execution_count": 15,
          "data": {
            "text/html": [
              "<div>\n",
              "<style scoped>\n",
              "    .dataframe tbody tr th:only-of-type {\n",
              "        vertical-align: middle;\n",
              "    }\n",
              "\n",
              "    .dataframe tbody tr th {\n",
              "        vertical-align: top;\n",
              "    }\n",
              "\n",
              "    .dataframe thead th {\n",
              "        text-align: right;\n",
              "    }\n",
              "</style>\n",
              "<table border=\"1\" class=\"dataframe\">\n",
              "  <thead>\n",
              "    <tr style=\"text-align: right;\">\n",
              "      <th></th>\n",
              "      <th>Port Name</th>\n",
              "      <th>State</th>\n",
              "      <th>Port Code</th>\n",
              "      <th>Border</th>\n",
              "      <th>Date</th>\n",
              "      <th>Measure</th>\n",
              "      <th>Value</th>\n",
              "    </tr>\n",
              "  </thead>\n",
              "  <tbody>\n",
              "    <tr>\n",
              "      <th>525</th>\n",
              "      <td>Eastport</td>\n",
              "      <td>Idaho</td>\n",
              "      <td>3302</td>\n",
              "      <td>US-Canada Border</td>\n",
              "      <td>2019-06-01</td>\n",
              "      <td>Bus Passengers</td>\n",
              "      <td>43</td>\n",
              "    </tr>\n",
              "    <tr>\n",
              "      <th>562</th>\n",
              "      <td>Eastport</td>\n",
              "      <td>Maine</td>\n",
              "      <td>103</td>\n",
              "      <td>US-Canada Border</td>\n",
              "      <td>2019-06-01</td>\n",
              "      <td>Bus Passengers</td>\n",
              "      <td>179</td>\n",
              "    </tr>\n",
              "  </tbody>\n",
              "</table>\n",
              "</div>"
            ],
            "text/plain": [
              "    Port Name  State  Port Code            Border       Date         Measure  \\\n",
              "525  Eastport  Idaho       3302  US-Canada Border 2019-06-01  Bus Passengers   \n",
              "562  Eastport  Maine        103  US-Canada Border 2019-06-01  Bus Passengers   \n",
              "\n",
              "     Value  \n",
              "525     43  \n",
              "562    179  "
            ]
          },
          "metadata": {}
        }
      ],
      "execution_count": 15,
      "metadata": {
        "colab": {},
        "colab_type": "code",
        "id": "n7SQpZ9tOvA6"
      }
    },
    {
      "cell_type": "markdown",
      "source": [
        "It is because there are 2 ports with the same name in different state so we will fix that by changing the port names"
      ],
      "metadata": {}
    },
    {
      "cell_type": "code",
      "source": [
        "# change 'Port Name' of Eastport Idaho and Eastport Maine\n",
        "df.loc[(df['Port Name'] == 'Eastport') & (df['State'] == 'Idaho'), 'Port Name'] = 'Eastport_ID'\n",
        "df.loc[(df['Port Name'] == 'Eastport') & (df['State'] == 'Maine'), 'Port Name'] = 'Eastport_MA'\n",
        "df.loc[(df['Port Code'] == 3302) | (df['Port Code'] == 103)].drop_duplicates(['Port Code'], keep='first')"
      ],
      "outputs": [
        {
          "output_type": "execute_result",
          "execution_count": 16,
          "data": {
            "text/html": [
              "<div>\n",
              "<style scoped>\n",
              "    .dataframe tbody tr th:only-of-type {\n",
              "        vertical-align: middle;\n",
              "    }\n",
              "\n",
              "    .dataframe tbody tr th {\n",
              "        vertical-align: top;\n",
              "    }\n",
              "\n",
              "    .dataframe thead th {\n",
              "        text-align: right;\n",
              "    }\n",
              "</style>\n",
              "<table border=\"1\" class=\"dataframe\">\n",
              "  <thead>\n",
              "    <tr style=\"text-align: right;\">\n",
              "      <th></th>\n",
              "      <th>Port Name</th>\n",
              "      <th>State</th>\n",
              "      <th>Port Code</th>\n",
              "      <th>Border</th>\n",
              "      <th>Date</th>\n",
              "      <th>Measure</th>\n",
              "      <th>Value</th>\n",
              "    </tr>\n",
              "  </thead>\n",
              "  <tbody>\n",
              "    <tr>\n",
              "      <th>525</th>\n",
              "      <td>Eastport_ID</td>\n",
              "      <td>Idaho</td>\n",
              "      <td>3302</td>\n",
              "      <td>US-Canada Border</td>\n",
              "      <td>2019-06-01</td>\n",
              "      <td>Bus Passengers</td>\n",
              "      <td>43</td>\n",
              "    </tr>\n",
              "    <tr>\n",
              "      <th>562</th>\n",
              "      <td>Eastport_MA</td>\n",
              "      <td>Maine</td>\n",
              "      <td>103</td>\n",
              "      <td>US-Canada Border</td>\n",
              "      <td>2019-06-01</td>\n",
              "      <td>Bus Passengers</td>\n",
              "      <td>179</td>\n",
              "    </tr>\n",
              "  </tbody>\n",
              "</table>\n",
              "</div>"
            ],
            "text/plain": [
              "       Port Name  State  Port Code            Border       Date  \\\n",
              "525  Eastport_ID  Idaho       3302  US-Canada Border 2019-06-01   \n",
              "562  Eastport_MA  Maine        103  US-Canada Border 2019-06-01   \n",
              "\n",
              "            Measure  Value  \n",
              "525  Bus Passengers     43  \n",
              "562  Bus Passengers    179  "
            ]
          },
          "metadata": {}
        }
      ],
      "execution_count": 16,
      "metadata": {
        "colab": {},
        "colab_type": "code",
        "id": "EJ7N2oVZOxKP"
      }
    },
    {
      "cell_type": "code",
      "source": [
        "# recheck if number of unique elements in \"Port Code\" and \"Port Name\" equal \n",
        "print('port names : {}' .format(len(df['Port Name'].unique())))\n",
        "print('port codes : {}' .format(len(df['Port Code'].unique())))"
      ],
      "outputs": [
        {
          "output_type": "stream",
          "name": "stdout",
          "text": [
            "port names : 117\n",
            "port codes : 117\n"
          ]
        }
      ],
      "execution_count": 17,
      "metadata": {
        "colab": {},
        "colab_type": "code",
        "id": "-k-tEW-VOy8O"
      }
    },
    {
      "cell_type": "markdown",
      "source": [
        "The problem is now solved."
      ],
      "metadata": {}
    },
    {
      "cell_type": "markdown",
      "source": [
        "We will now add 2 columns for the Year and Month extracted from the date column. It will be used later on in the EDA."
      ],
      "metadata": {}
    },
    {
      "cell_type": "code",
      "source": [
        "df['Date'] = pd.to_datetime(df['Date'])\n",
        "df['Year'] = df['Date'].apply(lambda x : x.year)\n",
        "month_mapper = {1:'Jan', 2:'Feb', 3:'Mar', 4:'Apr', 5:'May', 6:'Jun'\n",
        "               ,7:'Jul', 8:'Aug', 9:'Sep' ,10:'Oct', 11:'Nov', 12:'Dec'}\n",
        "df['Month'] = df['Date'].apply(lambda x : x.month).map(month_mapper)\n",
        "del month_mapper"
      ],
      "outputs": [],
      "execution_count": 18,
      "metadata": {}
    },
    {
      "cell_type": "code",
      "source": [
        "df.head()"
      ],
      "outputs": [
        {
          "output_type": "execute_result",
          "execution_count": 19,
          "data": {
            "text/html": [
              "<div>\n",
              "<style scoped>\n",
              "    .dataframe tbody tr th:only-of-type {\n",
              "        vertical-align: middle;\n",
              "    }\n",
              "\n",
              "    .dataframe tbody tr th {\n",
              "        vertical-align: top;\n",
              "    }\n",
              "\n",
              "    .dataframe thead th {\n",
              "        text-align: right;\n",
              "    }\n",
              "</style>\n",
              "<table border=\"1\" class=\"dataframe\">\n",
              "  <thead>\n",
              "    <tr style=\"text-align: right;\">\n",
              "      <th></th>\n",
              "      <th>Port Name</th>\n",
              "      <th>State</th>\n",
              "      <th>Port Code</th>\n",
              "      <th>Border</th>\n",
              "      <th>Date</th>\n",
              "      <th>Measure</th>\n",
              "      <th>Value</th>\n",
              "      <th>Year</th>\n",
              "      <th>Month</th>\n",
              "    </tr>\n",
              "  </thead>\n",
              "  <tbody>\n",
              "    <tr>\n",
              "      <th>0</th>\n",
              "      <td>Warroad</td>\n",
              "      <td>Minnesota</td>\n",
              "      <td>3423</td>\n",
              "      <td>US-Canada Border</td>\n",
              "      <td>2019-06-01</td>\n",
              "      <td>Truck Containers Full</td>\n",
              "      <td>133</td>\n",
              "      <td>2019</td>\n",
              "      <td>Jun</td>\n",
              "    </tr>\n",
              "    <tr>\n",
              "      <th>1</th>\n",
              "      <td>Warroad</td>\n",
              "      <td>Minnesota</td>\n",
              "      <td>3423</td>\n",
              "      <td>US-Canada Border</td>\n",
              "      <td>2019-06-01</td>\n",
              "      <td>Truck Containers Empty</td>\n",
              "      <td>298</td>\n",
              "      <td>2019</td>\n",
              "      <td>Jun</td>\n",
              "    </tr>\n",
              "    <tr>\n",
              "      <th>2</th>\n",
              "      <td>Warroad</td>\n",
              "      <td>Minnesota</td>\n",
              "      <td>3423</td>\n",
              "      <td>US-Canada Border</td>\n",
              "      <td>2019-06-01</td>\n",
              "      <td>Personal Vehicles</td>\n",
              "      <td>10383</td>\n",
              "      <td>2019</td>\n",
              "      <td>Jun</td>\n",
              "    </tr>\n",
              "    <tr>\n",
              "      <th>3</th>\n",
              "      <td>Warroad</td>\n",
              "      <td>Minnesota</td>\n",
              "      <td>3423</td>\n",
              "      <td>US-Canada Border</td>\n",
              "      <td>2019-06-01</td>\n",
              "      <td>Personal Vehicle Passengers</td>\n",
              "      <td>19459</td>\n",
              "      <td>2019</td>\n",
              "      <td>Jun</td>\n",
              "    </tr>\n",
              "    <tr>\n",
              "      <th>4</th>\n",
              "      <td>Warroad</td>\n",
              "      <td>Minnesota</td>\n",
              "      <td>3423</td>\n",
              "      <td>US-Canada Border</td>\n",
              "      <td>2019-06-01</td>\n",
              "      <td>Pedestrians</td>\n",
              "      <td>2</td>\n",
              "      <td>2019</td>\n",
              "      <td>Jun</td>\n",
              "    </tr>\n",
              "  </tbody>\n",
              "</table>\n",
              "</div>"
            ],
            "text/plain": [
              "  Port Name      State  Port Code            Border       Date  \\\n",
              "0   Warroad  Minnesota       3423  US-Canada Border 2019-06-01   \n",
              "1   Warroad  Minnesota       3423  US-Canada Border 2019-06-01   \n",
              "2   Warroad  Minnesota       3423  US-Canada Border 2019-06-01   \n",
              "3   Warroad  Minnesota       3423  US-Canada Border 2019-06-01   \n",
              "4   Warroad  Minnesota       3423  US-Canada Border 2019-06-01   \n",
              "\n",
              "                       Measure  Value  Year Month  \n",
              "0        Truck Containers Full    133  2019   Jun  \n",
              "1       Truck Containers Empty    298  2019   Jun  \n",
              "2            Personal Vehicles  10383  2019   Jun  \n",
              "3  Personal Vehicle Passengers  19459  2019   Jun  \n",
              "4                  Pedestrians      2  2019   Jun  "
            ]
          },
          "metadata": {}
        }
      ],
      "execution_count": 19,
      "metadata": {}
    },
    {
      "cell_type": "markdown",
      "source": [
        "## Adding Positions to \"Border_Crossing_Entry_Data.zip\""
      ],
      "metadata": {}
    },
    {
      "cell_type": "markdown",
      "source": [
        "We will now add positions of the different crossing points to the dataset."
      ],
      "metadata": {}
    },
    {
      "cell_type": "code",
      "source": [
        "from geopy.geocoders import Nominatim"
      ],
      "outputs": [],
      "execution_count": 20,
      "metadata": {
        "inputHidden": false,
        "outputHidden": false
      }
    },
    {
      "cell_type": "code",
      "source": [
        "df.head()"
      ],
      "outputs": [
        {
          "output_type": "execute_result",
          "execution_count": 21,
          "data": {
            "text/html": [
              "<div>\n",
              "<style scoped>\n",
              "    .dataframe tbody tr th:only-of-type {\n",
              "        vertical-align: middle;\n",
              "    }\n",
              "\n",
              "    .dataframe tbody tr th {\n",
              "        vertical-align: top;\n",
              "    }\n",
              "\n",
              "    .dataframe thead th {\n",
              "        text-align: right;\n",
              "    }\n",
              "</style>\n",
              "<table border=\"1\" class=\"dataframe\">\n",
              "  <thead>\n",
              "    <tr style=\"text-align: right;\">\n",
              "      <th></th>\n",
              "      <th>Port Name</th>\n",
              "      <th>State</th>\n",
              "      <th>Port Code</th>\n",
              "      <th>Border</th>\n",
              "      <th>Date</th>\n",
              "      <th>Measure</th>\n",
              "      <th>Value</th>\n",
              "      <th>Year</th>\n",
              "      <th>Month</th>\n",
              "    </tr>\n",
              "  </thead>\n",
              "  <tbody>\n",
              "    <tr>\n",
              "      <th>0</th>\n",
              "      <td>Warroad</td>\n",
              "      <td>Minnesota</td>\n",
              "      <td>3423</td>\n",
              "      <td>US-Canada Border</td>\n",
              "      <td>2019-06-01</td>\n",
              "      <td>Truck Containers Full</td>\n",
              "      <td>133</td>\n",
              "      <td>2019</td>\n",
              "      <td>Jun</td>\n",
              "    </tr>\n",
              "    <tr>\n",
              "      <th>1</th>\n",
              "      <td>Warroad</td>\n",
              "      <td>Minnesota</td>\n",
              "      <td>3423</td>\n",
              "      <td>US-Canada Border</td>\n",
              "      <td>2019-06-01</td>\n",
              "      <td>Truck Containers Empty</td>\n",
              "      <td>298</td>\n",
              "      <td>2019</td>\n",
              "      <td>Jun</td>\n",
              "    </tr>\n",
              "    <tr>\n",
              "      <th>2</th>\n",
              "      <td>Warroad</td>\n",
              "      <td>Minnesota</td>\n",
              "      <td>3423</td>\n",
              "      <td>US-Canada Border</td>\n",
              "      <td>2019-06-01</td>\n",
              "      <td>Personal Vehicles</td>\n",
              "      <td>10383</td>\n",
              "      <td>2019</td>\n",
              "      <td>Jun</td>\n",
              "    </tr>\n",
              "    <tr>\n",
              "      <th>3</th>\n",
              "      <td>Warroad</td>\n",
              "      <td>Minnesota</td>\n",
              "      <td>3423</td>\n",
              "      <td>US-Canada Border</td>\n",
              "      <td>2019-06-01</td>\n",
              "      <td>Personal Vehicle Passengers</td>\n",
              "      <td>19459</td>\n",
              "      <td>2019</td>\n",
              "      <td>Jun</td>\n",
              "    </tr>\n",
              "    <tr>\n",
              "      <th>4</th>\n",
              "      <td>Warroad</td>\n",
              "      <td>Minnesota</td>\n",
              "      <td>3423</td>\n",
              "      <td>US-Canada Border</td>\n",
              "      <td>2019-06-01</td>\n",
              "      <td>Pedestrians</td>\n",
              "      <td>2</td>\n",
              "      <td>2019</td>\n",
              "      <td>Jun</td>\n",
              "    </tr>\n",
              "  </tbody>\n",
              "</table>\n",
              "</div>"
            ],
            "text/plain": [
              "  Port Name      State  Port Code            Border       Date  \\\n",
              "0   Warroad  Minnesota       3423  US-Canada Border 2019-06-01   \n",
              "1   Warroad  Minnesota       3423  US-Canada Border 2019-06-01   \n",
              "2   Warroad  Minnesota       3423  US-Canada Border 2019-06-01   \n",
              "3   Warroad  Minnesota       3423  US-Canada Border 2019-06-01   \n",
              "4   Warroad  Minnesota       3423  US-Canada Border 2019-06-01   \n",
              "\n",
              "                       Measure  Value  Year Month  \n",
              "0        Truck Containers Full    133  2019   Jun  \n",
              "1       Truck Containers Empty    298  2019   Jun  \n",
              "2            Personal Vehicles  10383  2019   Jun  \n",
              "3  Personal Vehicle Passengers  19459  2019   Jun  \n",
              "4                  Pedestrians      2  2019   Jun  "
            ]
          },
          "metadata": {}
        }
      ],
      "execution_count": 21,
      "metadata": {
        "inputHidden": false,
        "outputHidden": false
      }
    },
    {
      "cell_type": "markdown",
      "source": [
        "We'll add a new column with coordinates of the ports. These coordinates will allow to plot the ports on a map.\n",
        "\n",
        "We create a new locator with geopy:"
      ],
      "metadata": {}
    },
    {
      "cell_type": "code",
      "source": [
        "locator = Nominatim(user_agent=\"myGeocoder\")"
      ],
      "outputs": [],
      "execution_count": 22,
      "metadata": {
        "inputHidden": false,
        "outputHidden": false
      }
    },
    {
      "cell_type": "code",
      "source": [
        "nom = Nominatim(user_agent=\"myGeocoder\",timeout=2)"
      ],
      "outputs": [],
      "execution_count": 23,
      "metadata": {
        "inputHidden": false,
        "outputHidden": false
      }
    },
    {
      "cell_type": "markdown",
      "source": [
        "We create an array with all the names of the ports\n",
        "and add \",USA\" at the end of every port name to make sure to find we the right one in the USA."
      ],
      "metadata": {}
    },
    {
      "cell_type": "code",
      "source": [
        "df['Port_state'] = df['Port Name'] + \",\" + df['State']\n",
        "lieux = df['Port_state'].map(lambda x : x).unique()\n",
        "lieux = lieux + \",USA\"\n",
        "#lieux"
      ],
      "outputs": [],
      "execution_count": 24,
      "metadata": {
        "inputHidden": false,
        "outputHidden": false
      }
    },
    {
      "cell_type": "markdown",
      "source": [
        "We find the geocode of every port and store them in a dictionnary."
      ],
      "metadata": {}
    },
    {
      "cell_type": "code",
      "source": [
        "coordinates = {}\n",
        "\n",
        "def do_geocode(address):\n",
        "    try:\n",
        "        return nom.geocode(address)\n",
        "    except:\n",
        "        return do_geocode(address)\n",
        "    \n",
        "for lieu in lieux:\n",
        "    coordinates[lieu] = do_geocode(lieu)\n",
        "    #print(do_geocode(lieu))"
      ],
      "outputs": [],
      "execution_count": 25,
      "metadata": {
        "inputHidden": false,
        "outputHidden": false
      }
    },
    {
      "cell_type": "markdown",
      "source": [
        "We compute a new dictionnary with the exact name of the ports (whitout USA at the end) and the coordinates."
      ],
      "metadata": {}
    },
    {
      "cell_type": "code",
      "source": [
        "portAndCoordinates = {}\n",
        "for key in coordinates:\n",
        "    k = key.split(',', 1)[0]\n",
        "    if coordinates[key] is None:\n",
        "        portAndCoordinates[k] = None\n",
        "    else:\n",
        "        portAndCoordinates[k] = (coordinates[key].latitude,coordinates[key].longitude)"
      ],
      "outputs": [],
      "execution_count": 26,
      "metadata": {
        "inputHidden": false,
        "outputHidden": false
      }
    },
    {
      "cell_type": "markdown",
      "source": [
        "We now look for missing values in the ports coordinates"
      ],
      "metadata": {}
    },
    {
      "cell_type": "code",
      "source": [
        "missings = []\n",
        "for key in portAndCoordinates:\n",
        "    if portAndCoordinates[key] is None:\n",
        "        missings.append(key)\n",
        "print(missings)"
      ],
      "outputs": [
        {
          "output_type": "stream",
          "name": "stdout",
          "text": [
            "['International Falls-Ranier', 'Dalton Cache', 'Eastport_ID', 'Eastport_MA']\n"
          ]
        }
      ],
      "execution_count": 27,
      "metadata": {
        "inputHidden": false,
        "outputHidden": false
      }
    },
    {
      "cell_type": "markdown",
      "source": [
        "We see that these 5 ports have no coordinates. We'll add them manually."
      ],
      "metadata": {}
    },
    {
      "cell_type": "code",
      "source": [
        "portAndCoordinates['International Falls-Ranier'] = (48.614892, -93.352057)\n",
        "portAndCoordinates['Dalton Cache'] = (59.470921, -136.419291)\n",
        "portAndCoordinates['Eastport_MA'] = (44.911752, -66.985965)\n",
        "portAndCoordinates['Eastport_ID'] = (48.999904,-116.180196)"
      ],
      "outputs": [],
      "execution_count": 28,
      "metadata": {
        "inputHidden": false,
        "outputHidden": false
      }
    },
    {
      "cell_type": "markdown",
      "source": [
        "We add the coordinates to the data as a new column"
      ],
      "metadata": {}
    },
    {
      "cell_type": "code",
      "source": [
        "df[\"position\"] = df['Port Name'].apply(lambda loc:portAndCoordinates[loc])"
      ],
      "outputs": [],
      "execution_count": 29,
      "metadata": {
        "inputHidden": false,
        "outputHidden": false
      }
    },
    {
      "cell_type": "code",
      "source": [
        "df.head() "
      ],
      "outputs": [
        {
          "output_type": "execute_result",
          "execution_count": 30,
          "data": {
            "text/html": [
              "<div>\n",
              "<style scoped>\n",
              "    .dataframe tbody tr th:only-of-type {\n",
              "        vertical-align: middle;\n",
              "    }\n",
              "\n",
              "    .dataframe tbody tr th {\n",
              "        vertical-align: top;\n",
              "    }\n",
              "\n",
              "    .dataframe thead th {\n",
              "        text-align: right;\n",
              "    }\n",
              "</style>\n",
              "<table border=\"1\" class=\"dataframe\">\n",
              "  <thead>\n",
              "    <tr style=\"text-align: right;\">\n",
              "      <th></th>\n",
              "      <th>Port Name</th>\n",
              "      <th>State</th>\n",
              "      <th>Port Code</th>\n",
              "      <th>Border</th>\n",
              "      <th>Date</th>\n",
              "      <th>Measure</th>\n",
              "      <th>Value</th>\n",
              "      <th>Year</th>\n",
              "      <th>Month</th>\n",
              "      <th>Port_state</th>\n",
              "      <th>position</th>\n",
              "    </tr>\n",
              "  </thead>\n",
              "  <tbody>\n",
              "    <tr>\n",
              "      <th>0</th>\n",
              "      <td>Warroad</td>\n",
              "      <td>Minnesota</td>\n",
              "      <td>3423</td>\n",
              "      <td>US-Canada Border</td>\n",
              "      <td>2019-06-01</td>\n",
              "      <td>Truck Containers Full</td>\n",
              "      <td>133</td>\n",
              "      <td>2019</td>\n",
              "      <td>Jun</td>\n",
              "      <td>Warroad,Minnesota</td>\n",
              "      <td>(48.905266, -95.314404)</td>\n",
              "    </tr>\n",
              "    <tr>\n",
              "      <th>1</th>\n",
              "      <td>Warroad</td>\n",
              "      <td>Minnesota</td>\n",
              "      <td>3423</td>\n",
              "      <td>US-Canada Border</td>\n",
              "      <td>2019-06-01</td>\n",
              "      <td>Truck Containers Empty</td>\n",
              "      <td>298</td>\n",
              "      <td>2019</td>\n",
              "      <td>Jun</td>\n",
              "      <td>Warroad,Minnesota</td>\n",
              "      <td>(48.905266, -95.314404)</td>\n",
              "    </tr>\n",
              "    <tr>\n",
              "      <th>2</th>\n",
              "      <td>Warroad</td>\n",
              "      <td>Minnesota</td>\n",
              "      <td>3423</td>\n",
              "      <td>US-Canada Border</td>\n",
              "      <td>2019-06-01</td>\n",
              "      <td>Personal Vehicles</td>\n",
              "      <td>10383</td>\n",
              "      <td>2019</td>\n",
              "      <td>Jun</td>\n",
              "      <td>Warroad,Minnesota</td>\n",
              "      <td>(48.905266, -95.314404)</td>\n",
              "    </tr>\n",
              "    <tr>\n",
              "      <th>3</th>\n",
              "      <td>Warroad</td>\n",
              "      <td>Minnesota</td>\n",
              "      <td>3423</td>\n",
              "      <td>US-Canada Border</td>\n",
              "      <td>2019-06-01</td>\n",
              "      <td>Personal Vehicle Passengers</td>\n",
              "      <td>19459</td>\n",
              "      <td>2019</td>\n",
              "      <td>Jun</td>\n",
              "      <td>Warroad,Minnesota</td>\n",
              "      <td>(48.905266, -95.314404)</td>\n",
              "    </tr>\n",
              "    <tr>\n",
              "      <th>4</th>\n",
              "      <td>Warroad</td>\n",
              "      <td>Minnesota</td>\n",
              "      <td>3423</td>\n",
              "      <td>US-Canada Border</td>\n",
              "      <td>2019-06-01</td>\n",
              "      <td>Pedestrians</td>\n",
              "      <td>2</td>\n",
              "      <td>2019</td>\n",
              "      <td>Jun</td>\n",
              "      <td>Warroad,Minnesota</td>\n",
              "      <td>(48.905266, -95.314404)</td>\n",
              "    </tr>\n",
              "  </tbody>\n",
              "</table>\n",
              "</div>"
            ],
            "text/plain": [
              "  Port Name      State  Port Code            Border       Date  \\\n",
              "0   Warroad  Minnesota       3423  US-Canada Border 2019-06-01   \n",
              "1   Warroad  Minnesota       3423  US-Canada Border 2019-06-01   \n",
              "2   Warroad  Minnesota       3423  US-Canada Border 2019-06-01   \n",
              "3   Warroad  Minnesota       3423  US-Canada Border 2019-06-01   \n",
              "4   Warroad  Minnesota       3423  US-Canada Border 2019-06-01   \n",
              "\n",
              "                       Measure  Value  Year Month         Port_state  \\\n",
              "0        Truck Containers Full    133  2019   Jun  Warroad,Minnesota   \n",
              "1       Truck Containers Empty    298  2019   Jun  Warroad,Minnesota   \n",
              "2            Personal Vehicles  10383  2019   Jun  Warroad,Minnesota   \n",
              "3  Personal Vehicle Passengers  19459  2019   Jun  Warroad,Minnesota   \n",
              "4                  Pedestrians      2  2019   Jun  Warroad,Minnesota   \n",
              "\n",
              "                  position  \n",
              "0  (48.905266, -95.314404)  \n",
              "1  (48.905266, -95.314404)  \n",
              "2  (48.905266, -95.314404)  \n",
              "3  (48.905266, -95.314404)  \n",
              "4  (48.905266, -95.314404)  "
            ]
          },
          "metadata": {}
        }
      ],
      "execution_count": 30,
      "metadata": {
        "inputHidden": false,
        "outputHidden": false
      }
    },
    {
      "cell_type": "code",
      "source": [
        "df = df.drop(columns='Port_state')"
      ],
      "outputs": [],
      "execution_count": 31,
      "metadata": {}
    },
    {
      "cell_type": "code",
      "source": [
        "df['Month'] = df['Date'].dt.month\n",
        "df.head()"
      ],
      "outputs": [
        {
          "output_type": "execute_result",
          "execution_count": 32,
          "data": {
            "text/html": [
              "<div>\n",
              "<style scoped>\n",
              "    .dataframe tbody tr th:only-of-type {\n",
              "        vertical-align: middle;\n",
              "    }\n",
              "\n",
              "    .dataframe tbody tr th {\n",
              "        vertical-align: top;\n",
              "    }\n",
              "\n",
              "    .dataframe thead th {\n",
              "        text-align: right;\n",
              "    }\n",
              "</style>\n",
              "<table border=\"1\" class=\"dataframe\">\n",
              "  <thead>\n",
              "    <tr style=\"text-align: right;\">\n",
              "      <th></th>\n",
              "      <th>Port Name</th>\n",
              "      <th>State</th>\n",
              "      <th>Port Code</th>\n",
              "      <th>Border</th>\n",
              "      <th>Date</th>\n",
              "      <th>Measure</th>\n",
              "      <th>Value</th>\n",
              "      <th>Year</th>\n",
              "      <th>Month</th>\n",
              "      <th>position</th>\n",
              "    </tr>\n",
              "  </thead>\n",
              "  <tbody>\n",
              "    <tr>\n",
              "      <th>0</th>\n",
              "      <td>Warroad</td>\n",
              "      <td>Minnesota</td>\n",
              "      <td>3423</td>\n",
              "      <td>US-Canada Border</td>\n",
              "      <td>2019-06-01</td>\n",
              "      <td>Truck Containers Full</td>\n",
              "      <td>133</td>\n",
              "      <td>2019</td>\n",
              "      <td>6</td>\n",
              "      <td>(48.905266, -95.314404)</td>\n",
              "    </tr>\n",
              "    <tr>\n",
              "      <th>1</th>\n",
              "      <td>Warroad</td>\n",
              "      <td>Minnesota</td>\n",
              "      <td>3423</td>\n",
              "      <td>US-Canada Border</td>\n",
              "      <td>2019-06-01</td>\n",
              "      <td>Truck Containers Empty</td>\n",
              "      <td>298</td>\n",
              "      <td>2019</td>\n",
              "      <td>6</td>\n",
              "      <td>(48.905266, -95.314404)</td>\n",
              "    </tr>\n",
              "    <tr>\n",
              "      <th>2</th>\n",
              "      <td>Warroad</td>\n",
              "      <td>Minnesota</td>\n",
              "      <td>3423</td>\n",
              "      <td>US-Canada Border</td>\n",
              "      <td>2019-06-01</td>\n",
              "      <td>Personal Vehicles</td>\n",
              "      <td>10383</td>\n",
              "      <td>2019</td>\n",
              "      <td>6</td>\n",
              "      <td>(48.905266, -95.314404)</td>\n",
              "    </tr>\n",
              "    <tr>\n",
              "      <th>3</th>\n",
              "      <td>Warroad</td>\n",
              "      <td>Minnesota</td>\n",
              "      <td>3423</td>\n",
              "      <td>US-Canada Border</td>\n",
              "      <td>2019-06-01</td>\n",
              "      <td>Personal Vehicle Passengers</td>\n",
              "      <td>19459</td>\n",
              "      <td>2019</td>\n",
              "      <td>6</td>\n",
              "      <td>(48.905266, -95.314404)</td>\n",
              "    </tr>\n",
              "    <tr>\n",
              "      <th>4</th>\n",
              "      <td>Warroad</td>\n",
              "      <td>Minnesota</td>\n",
              "      <td>3423</td>\n",
              "      <td>US-Canada Border</td>\n",
              "      <td>2019-06-01</td>\n",
              "      <td>Pedestrians</td>\n",
              "      <td>2</td>\n",
              "      <td>2019</td>\n",
              "      <td>6</td>\n",
              "      <td>(48.905266, -95.314404)</td>\n",
              "    </tr>\n",
              "  </tbody>\n",
              "</table>\n",
              "</div>"
            ],
            "text/plain": [
              "  Port Name      State  Port Code            Border       Date  \\\n",
              "0   Warroad  Minnesota       3423  US-Canada Border 2019-06-01   \n",
              "1   Warroad  Minnesota       3423  US-Canada Border 2019-06-01   \n",
              "2   Warroad  Minnesota       3423  US-Canada Border 2019-06-01   \n",
              "3   Warroad  Minnesota       3423  US-Canada Border 2019-06-01   \n",
              "4   Warroad  Minnesota       3423  US-Canada Border 2019-06-01   \n",
              "\n",
              "                       Measure  Value  Year  Month                 position  \n",
              "0        Truck Containers Full    133  2019      6  (48.905266, -95.314404)  \n",
              "1       Truck Containers Empty    298  2019      6  (48.905266, -95.314404)  \n",
              "2            Personal Vehicles  10383  2019      6  (48.905266, -95.314404)  \n",
              "3  Personal Vehicle Passengers  19459  2019      6  (48.905266, -95.314404)  \n",
              "4                  Pedestrians      2  2019      6  (48.905266, -95.314404)  "
            ]
          },
          "metadata": {}
        }
      ],
      "execution_count": 32,
      "metadata": {}
    },
    {
      "cell_type": "markdown",
      "source": [
        "We check if data are still missing"
      ],
      "metadata": {}
    },
    {
      "cell_type": "code",
      "source": [
        "df.isnull().sum()"
      ],
      "outputs": [
        {
          "output_type": "execute_result",
          "execution_count": 33,
          "data": {
            "text/plain": [
              "Port Name    0\n",
              "State        0\n",
              "Port Code    0\n",
              "Border       0\n",
              "Date         0\n",
              "Measure      0\n",
              "Value        0\n",
              "Year         0\n",
              "Month        0\n",
              "position     0\n",
              "dtype: int64"
            ]
          },
          "metadata": {}
        }
      ],
      "execution_count": 33,
      "metadata": {
        "inputHidden": false,
        "outputHidden": false
      }
    },
    {
      "cell_type": "markdown",
      "source": [
        "Now the we cleaned the dataset and added the positions we will export it:"
      ],
      "metadata": {}
    },
    {
      "cell_type": "code",
      "source": [
        "export_csv = df.to_csv (r'../data/DataWithLocationCleaned.csv.gz', compression='gzip',index = None, header=True)"
      ],
      "outputs": [],
      "execution_count": 34,
      "metadata": {
        "inputHidden": false,
        "outputHidden": false
      }
    }
  ],
  "metadata": {
    "colab": {
      "name": "Cleaning.ipynb",
      "provenance": []
    },
    "kernel_info": {
      "name": "python3"
    },
    "kernelspec": {
      "name": "python3",
      "language": "python",
      "display_name": "Python 3"
    },
    "language_info": {
      "name": "python",
      "version": "3.7.3",
      "mimetype": "text/x-python",
      "codemirror_mode": {
        "name": "ipython",
        "version": 3
      },
      "pygments_lexer": "ipython3",
      "nbconvert_exporter": "python",
      "file_extension": ".py"
    },
    "nteract": {
      "version": "0.15.0"
    }
  },
  "nbformat": 4,
  "nbformat_minor": 1
}