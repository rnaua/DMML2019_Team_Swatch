{
  "cells": [
    {
      "cell_type": "markdown",
      "source": [
        "### Alvin's cleaning data"
      ],
      "metadata": {}
    },
    {
      "cell_type": "code",
      "source": [
        "# load helpful packages \n",
        "import pandas as pd # data processing\n",
        "import numpy as np # linear algebra"
      ],
      "outputs": [],
      "execution_count": 1,
      "metadata": {
        "id": "aq9G7SGmWoTq",
        "colab_type": "code",
        "colab": {}
      }
    },
    {
      "cell_type": "code",
      "source": [
        "# load dataset\n",
        "df=pd.read_csv(\"/Users/tanjamarkotic/Desktop/Border_Crossing_Entry_Data.csv\")\n",
        "# \"each row has a counting (\"Value\") for the crossing method (\"Measure\")\"\n",
        "df.head()"
      ],
      "outputs": [
        {
          "output_type": "execute_result",
          "execution_count": 2,
          "data": {
            "text/plain": [
              "  Port Name      State  Port Code            Border                    Date  \\\n",
              "0   Warroad  Minnesota       3423  US-Canada Border  06/01/2019 12:00:00 AM   \n",
              "1   Warroad  Minnesota       3423  US-Canada Border  06/01/2019 12:00:00 AM   \n",
              "2   Warroad  Minnesota       3423  US-Canada Border  06/01/2019 12:00:00 AM   \n",
              "3   Warroad  Minnesota       3423  US-Canada Border  06/01/2019 12:00:00 AM   \n",
              "4   Warroad  Minnesota       3423  US-Canada Border  06/01/2019 12:00:00 AM   \n",
              "\n",
              "                       Measure  Value  \n",
              "0        Truck Containers Full    133  \n",
              "1       Truck Containers Empty    298  \n",
              "2            Personal Vehicles  10383  \n",
              "3  Personal Vehicle Passengers  19459  \n",
              "4                  Pedestrians      2  "
            ],
            "text/html": [
              "<div>\n",
              "<style scoped>\n",
              "    .dataframe tbody tr th:only-of-type {\n",
              "        vertical-align: middle;\n",
              "    }\n",
              "\n",
              "    .dataframe tbody tr th {\n",
              "        vertical-align: top;\n",
              "    }\n",
              "\n",
              "    .dataframe thead th {\n",
              "        text-align: right;\n",
              "    }\n",
              "</style>\n",
              "<table border=\"1\" class=\"dataframe\">\n",
              "  <thead>\n",
              "    <tr style=\"text-align: right;\">\n",
              "      <th></th>\n",
              "      <th>Port Name</th>\n",
              "      <th>State</th>\n",
              "      <th>Port Code</th>\n",
              "      <th>Border</th>\n",
              "      <th>Date</th>\n",
              "      <th>Measure</th>\n",
              "      <th>Value</th>\n",
              "    </tr>\n",
              "  </thead>\n",
              "  <tbody>\n",
              "    <tr>\n",
              "      <th>0</th>\n",
              "      <td>Warroad</td>\n",
              "      <td>Minnesota</td>\n",
              "      <td>3423</td>\n",
              "      <td>US-Canada Border</td>\n",
              "      <td>06/01/2019 12:00:00 AM</td>\n",
              "      <td>Truck Containers Full</td>\n",
              "      <td>133</td>\n",
              "    </tr>\n",
              "    <tr>\n",
              "      <th>1</th>\n",
              "      <td>Warroad</td>\n",
              "      <td>Minnesota</td>\n",
              "      <td>3423</td>\n",
              "      <td>US-Canada Border</td>\n",
              "      <td>06/01/2019 12:00:00 AM</td>\n",
              "      <td>Truck Containers Empty</td>\n",
              "      <td>298</td>\n",
              "    </tr>\n",
              "    <tr>\n",
              "      <th>2</th>\n",
              "      <td>Warroad</td>\n",
              "      <td>Minnesota</td>\n",
              "      <td>3423</td>\n",
              "      <td>US-Canada Border</td>\n",
              "      <td>06/01/2019 12:00:00 AM</td>\n",
              "      <td>Personal Vehicles</td>\n",
              "      <td>10383</td>\n",
              "    </tr>\n",
              "    <tr>\n",
              "      <th>3</th>\n",
              "      <td>Warroad</td>\n",
              "      <td>Minnesota</td>\n",
              "      <td>3423</td>\n",
              "      <td>US-Canada Border</td>\n",
              "      <td>06/01/2019 12:00:00 AM</td>\n",
              "      <td>Personal Vehicle Passengers</td>\n",
              "      <td>19459</td>\n",
              "    </tr>\n",
              "    <tr>\n",
              "      <th>4</th>\n",
              "      <td>Warroad</td>\n",
              "      <td>Minnesota</td>\n",
              "      <td>3423</td>\n",
              "      <td>US-Canada Border</td>\n",
              "      <td>06/01/2019 12:00:00 AM</td>\n",
              "      <td>Pedestrians</td>\n",
              "      <td>2</td>\n",
              "    </tr>\n",
              "  </tbody>\n",
              "</table>\n",
              "</div>"
            ]
          },
          "metadata": {}
        }
      ],
      "execution_count": 2,
      "metadata": {
        "id": "YDEsiaRnOgXm",
        "colab_type": "code",
        "colab": {
          "base_uri": "https://localhost:8080/",
          "height": 392
        },
        "outputId": "e4987fe2-c48c-4fbd-98e4-b33c8f36c2bb"
      }
    },
    {
      "cell_type": "code",
      "source": [
        "# check data types of features\n",
        "df.dtypes"
      ],
      "outputs": [
        {
          "output_type": "execute_result",
          "execution_count": 3,
          "data": {
            "text/plain": [
              "Port Name    object\n",
              "State        object\n",
              "Port Code     int64\n",
              "Border       object\n",
              "Date         object\n",
              "Measure      object\n",
              "Value         int64\n",
              "dtype: object"
            ]
          },
          "metadata": {}
        }
      ],
      "execution_count": 3,
      "metadata": {
        "id": "Wy_y14ZQOi0n",
        "colab_type": "code",
        "colab": {}
      }
    },
    {
      "cell_type": "code",
      "source": [
        "# convert 'Date' to date format\n",
        "df['Date'] = pd.to_datetime(df['Date'])\n",
        "# recheck data type of 'Date'\n",
        "df.dtypes"
      ],
      "outputs": [],
      "execution_count": null,
      "metadata": {
        "id": "tkdZWdt-Okjc",
        "colab_type": "code",
        "colab": {}
      }
    },
    {
      "cell_type": "code",
      "source": [
        "# check if 2 possible values for 'Border'?\n",
        "# check years included in dataset?"
      ],
      "outputs": [],
      "execution_count": null,
      "metadata": {
        "collapsed": false,
        "outputHidden": false,
        "inputHidden": false
      }
    },
    {
      "cell_type": "code",
      "source": [
        "df.head()"
      ],
      "outputs": [],
      "execution_count": null,
      "metadata": {
        "id": "6aMecpN7Ol3N",
        "colab_type": "code",
        "colab": {}
      }
    },
    {
      "cell_type": "code",
      "source": [
        "# Look for missing values\n",
        "df.isnull().any()"
      ],
      "outputs": [],
      "execution_count": 0,
      "metadata": {
        "id": "tmvDwDO7Opeh",
        "colab_type": "code",
        "colab": {}
      }
    },
    {
      "cell_type": "code",
      "source": [
        "# check if number of unique elements in \"Port Code\" and \"Port Name\" equal \n",
        "print('port names : {}' .format(len(df['Port Name'].unique())))\n",
        "print('port codes : {}' .format(len(df['Port Code'].unique())))"
      ],
      "outputs": [],
      "execution_count": 0,
      "metadata": {
        "id": "iL78G5_sOri4",
        "colab_type": "code",
        "colab": {}
      }
    },
    {
      "cell_type": "code",
      "source": [
        "ports = df[['Port Code','Port Name']].drop_duplicates()\n",
        "ports[ports['Port Name'].duplicated(keep=False)]"
      ],
      "outputs": [],
      "execution_count": 0,
      "metadata": {
        "id": "BnqPRuiLOtMW",
        "colab_type": "code",
        "colab": {}
      }
    },
    {
      "cell_type": "code",
      "source": [
        "df.loc[df['Port Name'] == 'Eastport'].drop_duplicates(['Port Code'], keep='first')"
      ],
      "outputs": [],
      "execution_count": 0,
      "metadata": {
        "id": "n7SQpZ9tOvA6",
        "colab_type": "code",
        "colab": {}
      }
    },
    {
      "cell_type": "code",
      "source": [
        "# change 'Port Name' of Eastport Idaho and Eastport Maine\n",
        "df.loc[(df['Port Name'] == 'Eastport') & (df['State'] == 'Idaho'), 'Port Name'] = 'Eastport_ID'\n",
        "df.loc[(df['Port Name'] == 'Eastport') & (df['State'] == 'Maine'), 'Port Name'] = 'Eastport_MA'\n",
        "df.loc[(df['Port Code'] == 3302) | (df['Port Code'] == 103)].drop_duplicates(['Port Code'], keep='first')"
      ],
      "outputs": [],
      "execution_count": 0,
      "metadata": {
        "id": "EJ7N2oVZOxKP",
        "colab_type": "code",
        "colab": {}
      }
    },
    {
      "cell_type": "code",
      "source": [
        "# recheck if number of unique elements in \"Port Code\" and \"Port Name\" equal \n",
        "print('port names : {}' .format(len(df['Port Name'].unique())))\n",
        "print('port codes : {}' .format(len(df['Port Code'].unique())))"
      ],
      "outputs": [],
      "execution_count": 0,
      "metadata": {
        "id": "-k-tEW-VOy8O",
        "colab_type": "code",
        "colab": {}
      }
    },
    {
      "cell_type": "markdown",
      "source": [
        "### EDA\n",
        "Careful on:\n",
        "- \"Among the 'Measure' types, 'Personal Vehicle Passengers', 'Bus Passengers','Pedestrians' and 'Train Passengers' count people, whereas the others count vehicles.\"\n",
        "- tableau avec selon Border, les measures et les différentes somme de value?\n",
        "- data from 1996 to 2019"
      ],
      "metadata": {}
    },
    {
      "cell_type": "code",
      "source": [
        "# check number of unique elements in 'Measure' \n",
        "print('Measure types : {}' .format(len(df['Measure'].unique())))\n",
        "df['Measure'].unique()"
      ],
      "outputs": [],
      "execution_count": null,
      "metadata": {
        "collapsed": false,
        "outputHidden": false,
        "inputHidden": false
      }
    },
    {
      "cell_type": "code",
      "source": [
        "# number of people or vehicles depending on the measure\n",
        "df_measure = df[['Measure','Value']].groupby('Measure').sum()\n",
        "df_measure"
      ],
      "outputs": [],
      "execution_count": null,
      "metadata": {
        "collapsed": false,
        "outputHidden": false,
        "inputHidden": false
      }
    },
    {
      "cell_type": "code",
      "source": [
        "# number of people or vehicles depending on border\n",
        "df_measure = df[['Border','Value']].groupby(['Border']).sum()\n",
        "df_measure"
      ],
      "outputs": [],
      "execution_count": null,
      "metadata": {
        "collapsed": false,
        "outputHidden": false,
        "inputHidden": false
      }
    },
    {
      "cell_type": "code",
      "source": [
        "# separate measure of people counting\n",
        "people = df[df['Measure'].isin(['Personal Vehicle Passengers', 'Bus Passengers','Pedestrians', 'Train Passengers'])]\n",
        "\n"
      ],
      "outputs": [],
      "execution_count": null,
      "metadata": {
        "collapsed": false,
        "outputHidden": false,
        "inputHidden": false
      }
    },
    {
      "cell_type": "code",
      "source": [
        "# number of people depending on border\n",
        "df_people = people[['Border','Value']].groupby('Border').sum()\n",
        "df_people"
      ],
      "outputs": [],
      "execution_count": null,
      "metadata": {
        "collapsed": false,
        "outputHidden": false,
        "inputHidden": false
      }
    },
    {
      "cell_type": "code",
      "source": [
        "# piechart?"
      ],
      "outputs": [],
      "execution_count": null,
      "metadata": {
        "collapsed": false,
        "outputHidden": false,
        "inputHidden": false
      }
    },
    {
      "cell_type": "code",
      "source": [
        "# consider people counting measure, sum value and set date as index\n",
        "df_date = people[['Date','Border','Value']].set_index('Date')\n",
        "# group by date and border\n",
        "df_date = df_date.groupby(['Date', 'Border']).sum()\n",
        "df_date.head(10)\n",
        "\n"
      ],
      "outputs": [],
      "execution_count": null,
      "metadata": {
        "collapsed": false,
        "outputHidden": false,
        "inputHidden": false
      }
    },
    {
      "cell_type": "code",
      "source": [
        "# consider people counting measure, sum value and set date.year as index\n",
        "df_date_year = people[['Date','Border','Value']].set_index('Date')\n",
        "\n",
        "# group by date.year and border\n",
        "df_date_year = df_date_year.groupby([df_date_year.index.year, 'Border']).sum()\n",
        "df_date_year.head(10)"
      ],
      "outputs": [],
      "execution_count": null,
      "metadata": {
        "collapsed": false,
        "outputHidden": false,
        "inputHidden": false
      }
    },
    {
      "cell_type": "code",
      "source": [
        "# histogram? "
      ],
      "outputs": [],
      "execution_count": null,
      "metadata": {
        "collapsed": false,
        "outputHidden": false,
        "inputHidden": false
      }
    },
    {
      "cell_type": "code",
      "source": [
        "# consider people counting measure, sum values and set date as index\n",
        "df_dm = people[['Date','Measure','Value']].set_index('Date')\n",
        "\n",
        "# group by date.years and border\n",
        "df_dm = df_dm.groupby([df_dm.index.year,'Measure']).sum()\n",
        "df_dm.head(10)"
      ],
      "outputs": [],
      "execution_count": null,
      "metadata": {
        "collapsed": false,
        "outputHidden": false,
        "inputHidden": false
      }
    },
    {
      "cell_type": "code",
      "source": [
        "# histogram? \n",
        "# -> output 27"
      ],
      "outputs": [],
      "execution_count": null,
      "metadata": {
        "collapsed": false,
        "outputHidden": false,
        "inputHidden": false
      }
    }
  ],
  "metadata": {
    "colab": {
      "name": "Cleaning.ipynb",
      "provenance": []
    },
    "kernelspec": {
      "name": "python3",
      "language": "python",
      "display_name": "Python 3"
    },
    "kernel_info": {
      "name": "python3"
    },
    "language_info": {
      "name": "python",
      "version": "3.7.3",
      "mimetype": "text/x-python",
      "codemirror_mode": {
        "name": "ipython",
        "version": 3
      },
      "pygments_lexer": "ipython3",
      "nbconvert_exporter": "python",
      "file_extension": ".py"
    },
    "nteract": {
      "version": "0.15.0"
    }
  },
  "nbformat": 4,
  "nbformat_minor": 0
}