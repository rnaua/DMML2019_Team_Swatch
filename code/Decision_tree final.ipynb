{
  "cells": [
    {
      "cell_type": "markdown",
      "source": [
        "## Decision tree\n"
      ],
      "metadata": {}
    },
    {
      "cell_type": "code",
      "source": [
        "import pandas as pd"
      ],
      "outputs": [],
      "execution_count": 219,
      "metadata": {
        "inputHidden": false,
        "outputHidden": false
      }
    },
    {
      "cell_type": "code",
      "source": [
        "df= pd.read_csv(\"../Data/DataWithLocationCleaned.csv.gz\")"
      ],
      "outputs": [],
      "execution_count": 220,
      "metadata": {
        "inputHidden": false,
        "outputHidden": false
      }
    },
    {
      "cell_type": "code",
      "source": [
        "import matplotlib.pyplot as plt\n",
        "%matplotlib inline\n",
        "import numpy as np\n",
        "import pandas as pd\n",
        "import seaborn as sns\n",
        "sns.set_style(\"darkgrid\")\n",
        "from sklearn.tree import DecisionTreeClassifier\n",
        "from sklearn.preprocessing import LabelEncoder, OneHotEncoder"
      ],
      "outputs": [],
      "execution_count": 221,
      "metadata": {
        "inputHidden": false,
        "outputHidden": false
      }
    },
    {
      "cell_type": "code",
      "source": [
        "df.head()"
      ],
      "outputs": [
        {
          "output_type": "execute_result",
          "execution_count": 222,
          "data": {
            "text/plain": [
              "  Port Name      State  Port Code            Border        Date  \\\n",
              "0   Warroad  Minnesota       3423  US-Canada Border  2019-06-01   \n",
              "1   Warroad  Minnesota       3423  US-Canada Border  2019-06-01   \n",
              "2   Warroad  Minnesota       3423  US-Canada Border  2019-06-01   \n",
              "3   Warroad  Minnesota       3423  US-Canada Border  2019-06-01   \n",
              "4   Warroad  Minnesota       3423  US-Canada Border  2019-06-01   \n",
              "\n",
              "                       Measure  Value  Year  Month                 position  \n",
              "0        Truck Containers Full    133  2019      6  (48.905266, -95.314404)  \n",
              "1       Truck Containers Empty    298  2019      6  (48.905266, -95.314404)  \n",
              "2            Personal Vehicles  10383  2019      6  (48.905266, -95.314404)  \n",
              "3  Personal Vehicle Passengers  19459  2019      6  (48.905266, -95.314404)  \n",
              "4                  Pedestrians      2  2019      6  (48.905266, -95.314404)  "
            ],
            "text/html": [
              "<div>\n",
              "<style scoped>\n",
              "    .dataframe tbody tr th:only-of-type {\n",
              "        vertical-align: middle;\n",
              "    }\n",
              "\n",
              "    .dataframe tbody tr th {\n",
              "        vertical-align: top;\n",
              "    }\n",
              "\n",
              "    .dataframe thead th {\n",
              "        text-align: right;\n",
              "    }\n",
              "</style>\n",
              "<table border=\"1\" class=\"dataframe\">\n",
              "  <thead>\n",
              "    <tr style=\"text-align: right;\">\n",
              "      <th></th>\n",
              "      <th>Port Name</th>\n",
              "      <th>State</th>\n",
              "      <th>Port Code</th>\n",
              "      <th>Border</th>\n",
              "      <th>Date</th>\n",
              "      <th>Measure</th>\n",
              "      <th>Value</th>\n",
              "      <th>Year</th>\n",
              "      <th>Month</th>\n",
              "      <th>position</th>\n",
              "    </tr>\n",
              "  </thead>\n",
              "  <tbody>\n",
              "    <tr>\n",
              "      <th>0</th>\n",
              "      <td>Warroad</td>\n",
              "      <td>Minnesota</td>\n",
              "      <td>3423</td>\n",
              "      <td>US-Canada Border</td>\n",
              "      <td>2019-06-01</td>\n",
              "      <td>Truck Containers Full</td>\n",
              "      <td>133</td>\n",
              "      <td>2019</td>\n",
              "      <td>6</td>\n",
              "      <td>(48.905266, -95.314404)</td>\n",
              "    </tr>\n",
              "    <tr>\n",
              "      <th>1</th>\n",
              "      <td>Warroad</td>\n",
              "      <td>Minnesota</td>\n",
              "      <td>3423</td>\n",
              "      <td>US-Canada Border</td>\n",
              "      <td>2019-06-01</td>\n",
              "      <td>Truck Containers Empty</td>\n",
              "      <td>298</td>\n",
              "      <td>2019</td>\n",
              "      <td>6</td>\n",
              "      <td>(48.905266, -95.314404)</td>\n",
              "    </tr>\n",
              "    <tr>\n",
              "      <th>2</th>\n",
              "      <td>Warroad</td>\n",
              "      <td>Minnesota</td>\n",
              "      <td>3423</td>\n",
              "      <td>US-Canada Border</td>\n",
              "      <td>2019-06-01</td>\n",
              "      <td>Personal Vehicles</td>\n",
              "      <td>10383</td>\n",
              "      <td>2019</td>\n",
              "      <td>6</td>\n",
              "      <td>(48.905266, -95.314404)</td>\n",
              "    </tr>\n",
              "    <tr>\n",
              "      <th>3</th>\n",
              "      <td>Warroad</td>\n",
              "      <td>Minnesota</td>\n",
              "      <td>3423</td>\n",
              "      <td>US-Canada Border</td>\n",
              "      <td>2019-06-01</td>\n",
              "      <td>Personal Vehicle Passengers</td>\n",
              "      <td>19459</td>\n",
              "      <td>2019</td>\n",
              "      <td>6</td>\n",
              "      <td>(48.905266, -95.314404)</td>\n",
              "    </tr>\n",
              "    <tr>\n",
              "      <th>4</th>\n",
              "      <td>Warroad</td>\n",
              "      <td>Minnesota</td>\n",
              "      <td>3423</td>\n",
              "      <td>US-Canada Border</td>\n",
              "      <td>2019-06-01</td>\n",
              "      <td>Pedestrians</td>\n",
              "      <td>2</td>\n",
              "      <td>2019</td>\n",
              "      <td>6</td>\n",
              "      <td>(48.905266, -95.314404)</td>\n",
              "    </tr>\n",
              "  </tbody>\n",
              "</table>\n",
              "</div>"
            ]
          },
          "metadata": {}
        }
      ],
      "execution_count": 222,
      "metadata": {
        "inputHidden": false,
        "outputHidden": false
      }
    },
    {
      "cell_type": "code",
      "source": [
        "# correct Date types \n",
        "df['Date'] = pd.to_datetime(df['Date'])\n",
        "df.dtypes\n"
      ],
      "outputs": [
        {
          "output_type": "execute_result",
          "execution_count": 223,
          "data": {
            "text/plain": [
              "Port Name            object\n",
              "State                object\n",
              "Port Code             int64\n",
              "Border               object\n",
              "Date         datetime64[ns]\n",
              "Measure              object\n",
              "Value                 int64\n",
              "Year                  int64\n",
              "Month                 int64\n",
              "position             object\n",
              "dtype: object"
            ]
          },
          "metadata": {}
        }
      ],
      "execution_count": 223,
      "metadata": {
        "inputHidden": false,
        "outputHidden": false
      }
    },
    {
      "cell_type": "code",
      "source": [
        "# Add lagitude and longitude to be consistant with Arnaud\n",
        "# Create one dataFrame for persons \n",
        "def getlat(x):\n",
        "    lat = x.partition(',')[0][1:]\n",
        "    if lat[0] == \"'\":\n",
        "        lat = lat[1:-1]\n",
        "    return lat\n",
        "\n",
        "def getlong(x):\n",
        "    lat = x.partition(',')[2]\n",
        "    if lat[1] == \"'\":\n",
        "        lat = lat[2:-2]\n",
        "    else:\n",
        "        lat = lat[1:-1]\n",
        "    return lat\n",
        "\n",
        "df['latitude'] = df['position'].apply(lambda x: getlat(x))\n",
        "df['longitude'] = df['position'].apply(lambda x: getlong(x))\n"
      ],
      "outputs": [],
      "execution_count": 224,
      "metadata": {
        "collapsed": false,
        "outputHidden": false,
        "inputHidden": false
      }
    },
    {
      "cell_type": "code",
      "source": [
        "\n",
        "persons = df[df['Measure'].isin(['Bus Passengers','Pedestrians','Personal Vehicle Passengers','Train Passengers'])].reset_index().drop(columns=['index'])\n",
        "\n",
        "persons.shape\n"
      ],
      "outputs": [
        {
          "output_type": "execute_result",
          "execution_count": 225,
          "data": {
            "text/plain": [
              "(116131, 12)"
            ]
          },
          "metadata": {}
        }
      ],
      "execution_count": 225,
      "metadata": {
        "inputHidden": false,
        "outputHidden": false
      }
    },
    {
      "cell_type": "code",
      "source": [
        "#just a plus\n",
        "# NOT RELEVANT but maybe for Arnaud on the map\n",
        "persons.groupby(['Port Name']).sum().sort_values(['Value'],ascending=False).head()\n",
        "\n"
      ],
      "outputs": [
        {
          "output_type": "execute_result",
          "execution_count": 226,
          "data": {
            "text/plain": [
              "            Port Code      Value     Year  Month\n",
              "Port Name                                       \n",
              "San Ysidro    2736872  820753587  2193570   7033\n",
              "El Paso       2709456  813405376  2264184   7260\n",
              "Laredo        2518272  435119695  2193570   7033\n",
              "Hidalgo       2519365  406092835  2193570   7033\n",
              "Calexico      2648174  401463611  2122956   6806"
            ],
            "text/html": [
              "<div>\n",
              "<style scoped>\n",
              "    .dataframe tbody tr th:only-of-type {\n",
              "        vertical-align: middle;\n",
              "    }\n",
              "\n",
              "    .dataframe tbody tr th {\n",
              "        vertical-align: top;\n",
              "    }\n",
              "\n",
              "    .dataframe thead th {\n",
              "        text-align: right;\n",
              "    }\n",
              "</style>\n",
              "<table border=\"1\" class=\"dataframe\">\n",
              "  <thead>\n",
              "    <tr style=\"text-align: right;\">\n",
              "      <th></th>\n",
              "      <th>Port Code</th>\n",
              "      <th>Value</th>\n",
              "      <th>Year</th>\n",
              "      <th>Month</th>\n",
              "    </tr>\n",
              "    <tr>\n",
              "      <th>Port Name</th>\n",
              "      <th></th>\n",
              "      <th></th>\n",
              "      <th></th>\n",
              "      <th></th>\n",
              "    </tr>\n",
              "  </thead>\n",
              "  <tbody>\n",
              "    <tr>\n",
              "      <th>San Ysidro</th>\n",
              "      <td>2736872</td>\n",
              "      <td>820753587</td>\n",
              "      <td>2193570</td>\n",
              "      <td>7033</td>\n",
              "    </tr>\n",
              "    <tr>\n",
              "      <th>El Paso</th>\n",
              "      <td>2709456</td>\n",
              "      <td>813405376</td>\n",
              "      <td>2264184</td>\n",
              "      <td>7260</td>\n",
              "    </tr>\n",
              "    <tr>\n",
              "      <th>Laredo</th>\n",
              "      <td>2518272</td>\n",
              "      <td>435119695</td>\n",
              "      <td>2193570</td>\n",
              "      <td>7033</td>\n",
              "    </tr>\n",
              "    <tr>\n",
              "      <th>Hidalgo</th>\n",
              "      <td>2519365</td>\n",
              "      <td>406092835</td>\n",
              "      <td>2193570</td>\n",
              "      <td>7033</td>\n",
              "    </tr>\n",
              "    <tr>\n",
              "      <th>Calexico</th>\n",
              "      <td>2648174</td>\n",
              "      <td>401463611</td>\n",
              "      <td>2122956</td>\n",
              "      <td>6806</td>\n",
              "    </tr>\n",
              "  </tbody>\n",
              "</table>\n",
              "</div>"
            ]
          },
          "metadata": {}
        }
      ],
      "execution_count": 226,
      "metadata": {
        "inputHidden": false,
        "outputHidden": false
      }
    },
    {
      "cell_type": "code",
      "source": [
        "# just testing\n",
        "# NOT RELEVANT\n",
        "persons.isnull().sum()"
      ],
      "outputs": [
        {
          "output_type": "execute_result",
          "execution_count": 227,
          "data": {
            "text/plain": [
              "Port Name    0\n",
              "State        0\n",
              "Port Code    0\n",
              "Border       0\n",
              "Date         0\n",
              "Measure      0\n",
              "Value        0\n",
              "Year         0\n",
              "Month        0\n",
              "position     0\n",
              "latitude     0\n",
              "longitude    0\n",
              "dtype: int64"
            ]
          },
          "metadata": {}
        }
      ],
      "execution_count": 227,
      "metadata": {
        "inputHidden": false,
        "outputHidden": false
      }
    },
    {
      "cell_type": "code",
      "source": [
        "# just checking values...\n",
        "# NOT RELEVANT\n",
        "persons['Value'].describe()"
      ],
      "outputs": [
        {
          "output_type": "execute_result",
          "execution_count": 228,
          "data": {
            "text/plain": [
              "count    1.161310e+05\n",
              "mean     5.778344e+04\n",
              "std      2.366958e+05\n",
              "min      0.000000e+00\n",
              "25%      0.000000e+00\n",
              "50%      1.560000e+02\n",
              "75%      6.943000e+03\n",
              "max      4.447374e+06\n",
              "Name: Value, dtype: float64"
            ]
          },
          "metadata": {}
        }
      ],
      "execution_count": 228,
      "metadata": {
        "inputHidden": false,
        "outputHidden": false
      }
    },
    {
      "cell_type": "code",
      "source": [
        "nozero = persons[persons['Value'] != 0]\n",
        "nozero.shape"
      ],
      "outputs": [
        {
          "output_type": "execute_result",
          "execution_count": 229,
          "data": {
            "text/plain": [
              "(75624, 12)"
            ]
          },
          "metadata": {}
        }
      ],
      "execution_count": 229,
      "metadata": {
        "collapsed": false,
        "outputHidden": false,
        "inputHidden": false
      }
    },
    {
      "cell_type": "code",
      "source": [
        "nozero['quant'] = pd.qcut(nozero['Value'],q = 8, duplicates = 'drop')\n",
        "print(\"intervalls for y:\")\n",
        "print(nozero['quant'].value_counts())\n",
        "print()\n",
        "le = LabelEncoder()\n",
        "nozero['y'] = le.fit_transform(nozero[\"quant\"])"
      ],
      "outputs": [
        {
          "output_type": "stream",
          "name": "stderr",
          "text": [
            "//anaconda3/lib/python3.7/site-packages/ipykernel_launcher.py:1: SettingWithCopyWarning: \n",
            "A value is trying to be set on a copy of a slice from a DataFrame.\n",
            "Try using .loc[row_indexer,col_indexer] = value instead\n",
            "\n",
            "See the caveats in the documentation: http://pandas.pydata.org/pandas-docs/stable/indexing.html#indexing-view-versus-copy\n",
            "  \"\"\"Entry point for launching an IPython kernel.\n",
            "//anaconda3/lib/python3.7/site-packages/ipykernel_launcher.py:6: SettingWithCopyWarning: \n",
            "A value is trying to be set on a copy of a slice from a DataFrame.\n",
            "Try using .loc[row_indexer,col_indexer] = value instead\n",
            "\n",
            "See the caveats in the documentation: http://pandas.pydata.org/pandas-docs/stable/indexing.html#indexing-view-versus-copy\n",
            "  \n"
          ]
        },
        {
          "output_type": "stream",
          "name": "stdout",
          "text": [
            "intervalls for y:\n",
            "(0.999, 45.0]              9567\n",
            "(142958.375, 4447374.0]    9453\n",
            "(32053.0, 142958.375]      9453\n",
            "(7484.0, 32053.0]          9452\n",
            "(740.0, 2394.0]            9452\n",
            "(2394.0, 7484.0]           9451\n",
            "(190.0, 740.0]             9450\n",
            "(45.0, 190.0]              9346\n",
            "Name: quant, dtype: int64\n",
            "\n"
          ]
        }
      ],
      "execution_count": 230,
      "metadata": {
        "collapsed": false,
        "outputHidden": false,
        "inputHidden": false
      }
    },
    {
      "cell_type": "code",
      "source": [
        "# check categories...\n",
        "# NOT RELEVANT\n",
        "nozero.sort_values(['Value'],ascending=False).head()"
      ],
      "outputs": [
        {
          "output_type": "execute_result",
          "execution_count": 231,
          "data": {
            "text/plain": [
              "      Port Name  State  Port Code            Border       Date  \\\n",
              "90369   El Paso  Texas       2402  US-Mexico Border 2001-03-01   \n",
              "93325   El Paso  Texas       2402  US-Mexico Border 2000-08-01   \n",
              "90890   El Paso  Texas       2402  US-Mexico Border 2001-02-01   \n",
              "90034   El Paso  Texas       2402  US-Mexico Border 2001-04-01   \n",
              "93966   El Paso  Texas       2402  US-Mexico Border 2000-06-01   \n",
              "\n",
              "                           Measure    Value  Year  Month  \\\n",
              "90369  Personal Vehicle Passengers  4447374  2001      3   \n",
              "93325  Personal Vehicle Passengers  4291774  2000      8   \n",
              "90890  Personal Vehicle Passengers  4281175  2001      2   \n",
              "90034  Personal Vehicle Passengers  4252128  2001      4   \n",
              "93966  Personal Vehicle Passengers  4235244  2000      6   \n",
              "\n",
              "                        position    latitude    longitude  \\\n",
              "90369  (31.7600372, -106.487287)  31.7600372  -106.487287   \n",
              "93325  (31.7600372, -106.487287)  31.7600372  -106.487287   \n",
              "90890  (31.7600372, -106.487287)  31.7600372  -106.487287   \n",
              "90034  (31.7600372, -106.487287)  31.7600372  -106.487287   \n",
              "93966  (31.7600372, -106.487287)  31.7600372  -106.487287   \n",
              "\n",
              "                         quant  y  \n",
              "90369  (142958.375, 4447374.0]  7  \n",
              "93325  (142958.375, 4447374.0]  7  \n",
              "90890  (142958.375, 4447374.0]  7  \n",
              "90034  (142958.375, 4447374.0]  7  \n",
              "93966  (142958.375, 4447374.0]  7  "
            ],
            "text/html": [
              "<div>\n",
              "<style scoped>\n",
              "    .dataframe tbody tr th:only-of-type {\n",
              "        vertical-align: middle;\n",
              "    }\n",
              "\n",
              "    .dataframe tbody tr th {\n",
              "        vertical-align: top;\n",
              "    }\n",
              "\n",
              "    .dataframe thead th {\n",
              "        text-align: right;\n",
              "    }\n",
              "</style>\n",
              "<table border=\"1\" class=\"dataframe\">\n",
              "  <thead>\n",
              "    <tr style=\"text-align: right;\">\n",
              "      <th></th>\n",
              "      <th>Port Name</th>\n",
              "      <th>State</th>\n",
              "      <th>Port Code</th>\n",
              "      <th>Border</th>\n",
              "      <th>Date</th>\n",
              "      <th>Measure</th>\n",
              "      <th>Value</th>\n",
              "      <th>Year</th>\n",
              "      <th>Month</th>\n",
              "      <th>position</th>\n",
              "      <th>latitude</th>\n",
              "      <th>longitude</th>\n",
              "      <th>quant</th>\n",
              "      <th>y</th>\n",
              "    </tr>\n",
              "  </thead>\n",
              "  <tbody>\n",
              "    <tr>\n",
              "      <th>90369</th>\n",
              "      <td>El Paso</td>\n",
              "      <td>Texas</td>\n",
              "      <td>2402</td>\n",
              "      <td>US-Mexico Border</td>\n",
              "      <td>2001-03-01</td>\n",
              "      <td>Personal Vehicle Passengers</td>\n",
              "      <td>4447374</td>\n",
              "      <td>2001</td>\n",
              "      <td>3</td>\n",
              "      <td>(31.7600372, -106.487287)</td>\n",
              "      <td>31.7600372</td>\n",
              "      <td>-106.487287</td>\n",
              "      <td>(142958.375, 4447374.0]</td>\n",
              "      <td>7</td>\n",
              "    </tr>\n",
              "    <tr>\n",
              "      <th>93325</th>\n",
              "      <td>El Paso</td>\n",
              "      <td>Texas</td>\n",
              "      <td>2402</td>\n",
              "      <td>US-Mexico Border</td>\n",
              "      <td>2000-08-01</td>\n",
              "      <td>Personal Vehicle Passengers</td>\n",
              "      <td>4291774</td>\n",
              "      <td>2000</td>\n",
              "      <td>8</td>\n",
              "      <td>(31.7600372, -106.487287)</td>\n",
              "      <td>31.7600372</td>\n",
              "      <td>-106.487287</td>\n",
              "      <td>(142958.375, 4447374.0]</td>\n",
              "      <td>7</td>\n",
              "    </tr>\n",
              "    <tr>\n",
              "      <th>90890</th>\n",
              "      <td>El Paso</td>\n",
              "      <td>Texas</td>\n",
              "      <td>2402</td>\n",
              "      <td>US-Mexico Border</td>\n",
              "      <td>2001-02-01</td>\n",
              "      <td>Personal Vehicle Passengers</td>\n",
              "      <td>4281175</td>\n",
              "      <td>2001</td>\n",
              "      <td>2</td>\n",
              "      <td>(31.7600372, -106.487287)</td>\n",
              "      <td>31.7600372</td>\n",
              "      <td>-106.487287</td>\n",
              "      <td>(142958.375, 4447374.0]</td>\n",
              "      <td>7</td>\n",
              "    </tr>\n",
              "    <tr>\n",
              "      <th>90034</th>\n",
              "      <td>El Paso</td>\n",
              "      <td>Texas</td>\n",
              "      <td>2402</td>\n",
              "      <td>US-Mexico Border</td>\n",
              "      <td>2001-04-01</td>\n",
              "      <td>Personal Vehicle Passengers</td>\n",
              "      <td>4252128</td>\n",
              "      <td>2001</td>\n",
              "      <td>4</td>\n",
              "      <td>(31.7600372, -106.487287)</td>\n",
              "      <td>31.7600372</td>\n",
              "      <td>-106.487287</td>\n",
              "      <td>(142958.375, 4447374.0]</td>\n",
              "      <td>7</td>\n",
              "    </tr>\n",
              "    <tr>\n",
              "      <th>93966</th>\n",
              "      <td>El Paso</td>\n",
              "      <td>Texas</td>\n",
              "      <td>2402</td>\n",
              "      <td>US-Mexico Border</td>\n",
              "      <td>2000-06-01</td>\n",
              "      <td>Personal Vehicle Passengers</td>\n",
              "      <td>4235244</td>\n",
              "      <td>2000</td>\n",
              "      <td>6</td>\n",
              "      <td>(31.7600372, -106.487287)</td>\n",
              "      <td>31.7600372</td>\n",
              "      <td>-106.487287</td>\n",
              "      <td>(142958.375, 4447374.0]</td>\n",
              "      <td>7</td>\n",
              "    </tr>\n",
              "  </tbody>\n",
              "</table>\n",
              "</div>"
            ]
          },
          "metadata": {}
        }
      ],
      "execution_count": 231,
      "metadata": {
        "inputHidden": false,
        "outputHidden": false
      }
    },
    {
      "cell_type": "code",
      "source": [
        "# CONCLUSION ON WHY WE USED THOSE TECHNIQUES\n",
        "# observations de base totale dans persons: 116131\n",
        "# observations en enlevant les ports qui ont moins que 1100 VALUE: 10147 et 9 ports\n",
        "# observations en enlevant aléatoirement la moitié des données dans la première catégorie: 86870 \n"
      ],
      "outputs": [],
      "execution_count": 232,
      "metadata": {
        "collapsed": false,
        "outputHidden": false,
        "inputHidden": false
      }
    },
    {
      "cell_type": "code",
      "source": [
        "#features but possibly add lat, long, measure\n",
        "X = nozero[[\"Year\",\"Month\", \"Port Code\"]]\n",
        "y = nozero[\"y\"]\n",
        "X.shape"
      ],
      "outputs": [
        {
          "output_type": "execute_result",
          "execution_count": 268,
          "data": {
            "text/plain": [
              "(75624, 3)"
            ]
          },
          "metadata": {}
        }
      ],
      "execution_count": 268,
      "metadata": {
        "inputHidden": false,
        "outputHidden": false
      }
    },
    {
      "cell_type": "code",
      "source": [
        "X.isnull().sum()"
      ],
      "outputs": [
        {
          "output_type": "execute_result",
          "execution_count": 269,
          "data": {
            "text/plain": [
              "Year         0\n",
              "Month        0\n",
              "Port Code    0\n",
              "dtype: int64"
            ]
          },
          "metadata": {}
        }
      ],
      "execution_count": 269,
      "metadata": {
        "inputHidden": false,
        "outputHidden": false
      }
    },
    {
      "cell_type": "code",
      "source": [
        "X.head()"
      ],
      "outputs": [
        {
          "output_type": "execute_result",
          "execution_count": 270,
          "data": {
            "text/plain": [
              "   Year  Month  Port Code\n",
              "0  2019      6       3423\n",
              "1  2019      6       3423\n",
              "2  2019      6       3423\n",
              "3  2019      6       3426\n",
              "4  2019      6       3426"
            ],
            "text/html": [
              "<div>\n",
              "<style scoped>\n",
              "    .dataframe tbody tr th:only-of-type {\n",
              "        vertical-align: middle;\n",
              "    }\n",
              "\n",
              "    .dataframe tbody tr th {\n",
              "        vertical-align: top;\n",
              "    }\n",
              "\n",
              "    .dataframe thead th {\n",
              "        text-align: right;\n",
              "    }\n",
              "</style>\n",
              "<table border=\"1\" class=\"dataframe\">\n",
              "  <thead>\n",
              "    <tr style=\"text-align: right;\">\n",
              "      <th></th>\n",
              "      <th>Year</th>\n",
              "      <th>Month</th>\n",
              "      <th>Port Code</th>\n",
              "    </tr>\n",
              "  </thead>\n",
              "  <tbody>\n",
              "    <tr>\n",
              "      <th>0</th>\n",
              "      <td>2019</td>\n",
              "      <td>6</td>\n",
              "      <td>3423</td>\n",
              "    </tr>\n",
              "    <tr>\n",
              "      <th>1</th>\n",
              "      <td>2019</td>\n",
              "      <td>6</td>\n",
              "      <td>3423</td>\n",
              "    </tr>\n",
              "    <tr>\n",
              "      <th>2</th>\n",
              "      <td>2019</td>\n",
              "      <td>6</td>\n",
              "      <td>3423</td>\n",
              "    </tr>\n",
              "    <tr>\n",
              "      <th>3</th>\n",
              "      <td>2019</td>\n",
              "      <td>6</td>\n",
              "      <td>3426</td>\n",
              "    </tr>\n",
              "    <tr>\n",
              "      <th>4</th>\n",
              "      <td>2019</td>\n",
              "      <td>6</td>\n",
              "      <td>3426</td>\n",
              "    </tr>\n",
              "  </tbody>\n",
              "</table>\n",
              "</div>"
            ]
          },
          "metadata": {}
        }
      ],
      "execution_count": 270,
      "metadata": {
        "inputHidden": false,
        "outputHidden": false
      }
    },
    {
      "cell_type": "code",
      "source": [
        "y = y.astype('int')\n",
        "y.head()\n"
      ],
      "outputs": [
        {
          "output_type": "execute_result",
          "execution_count": 271,
          "data": {
            "text/plain": [
              "0    5\n",
              "1    0\n",
              "2    1\n",
              "3    4\n",
              "4    1\n",
              "Name: y, dtype: int64"
            ]
          },
          "metadata": {}
        }
      ],
      "execution_count": 271,
      "metadata": {
        "inputHidden": false,
        "outputHidden": false
      }
    },
    {
      "cell_type": "code",
      "source": [
        "y.shape"
      ],
      "outputs": [
        {
          "output_type": "execute_result",
          "execution_count": 272,
          "data": {
            "text/plain": [
              "(75624,)"
            ]
          },
          "metadata": {}
        }
      ],
      "execution_count": 272,
      "metadata": {
        "collapsed": false,
        "outputHidden": false,
        "inputHidden": false
      }
    },
    {
      "cell_type": "code",
      "source": [
        "nozero.shape"
      ],
      "outputs": [
        {
          "output_type": "execute_result",
          "execution_count": 273,
          "data": {
            "text/plain": [
              "(75624, 14)"
            ]
          },
          "metadata": {}
        }
      ],
      "execution_count": 273,
      "metadata": {
        "collapsed": false,
        "outputHidden": false,
        "inputHidden": false
      }
    },
    {
      "cell_type": "code",
      "source": [
        "nozero.reset_index().head(10)"
      ],
      "outputs": [
        {
          "output_type": "execute_result",
          "execution_count": 274,
          "data": {
            "text/plain": [
              "   index  Port Name       State  Port Code            Border       Date  \\\n",
              "0      0    Warroad   Minnesota       3423  US-Canada Border 2019-06-01   \n",
              "1      1    Warroad   Minnesota       3423  US-Canada Border 2019-06-01   \n",
              "2      2    Warroad   Minnesota       3423  US-Canada Border 2019-06-01   \n",
              "3      3     Roseau   Minnesota       3426  US-Canada Border 2019-06-01   \n",
              "4      4     Roseau   Minnesota       3426  US-Canada Border 2019-06-01   \n",
              "5      5    Detroit    Michigan       3801  US-Canada Border 2019-06-01   \n",
              "6      6    Detroit    Michigan       3801  US-Canada Border 2019-06-01   \n",
              "7      7    Del Rio       Texas       2302  US-Mexico Border 2019-06-01   \n",
              "8      8    Del Rio       Texas       2302  US-Mexico Border 2019-06-01   \n",
              "9      9  Anacortes  Washington       3010  US-Canada Border 2019-06-01   \n",
              "\n",
              "                       Measure   Value  Year  Month  \\\n",
              "0  Personal Vehicle Passengers   19459  2019      6   \n",
              "1                  Pedestrians       2  2019      6   \n",
              "2               Bus Passengers      63  2019      6   \n",
              "3  Personal Vehicle Passengers    7385  2019      6   \n",
              "4               Bus Passengers     118  2019      6   \n",
              "5  Personal Vehicle Passengers  599521  2019      6   \n",
              "6               Bus Passengers    6274  2019      6   \n",
              "7                  Pedestrians   14898  2019      6   \n",
              "8  Personal Vehicle Passengers  238721  2019      6   \n",
              "9  Personal Vehicle Passengers    8348  2019      6   \n",
              "\n",
              "                     position    latitude     longitude  \\\n",
              "0     (48.905266, -95.314404)   48.905266    -95.314404   \n",
              "1     (48.905266, -95.314404)   48.905266    -95.314404   \n",
              "2     (48.905266, -95.314404)   48.905266    -95.314404   \n",
              "3   (48.7710371, -95.7697882)  48.7710371   -95.7697882   \n",
              "4   (48.7710371, -95.7697882)  48.7710371   -95.7697882   \n",
              "5   (42.3315509, -83.0466403)  42.3315509   -83.0466403   \n",
              "6   (42.3315509, -83.0466403)  42.3315509   -83.0466403   \n",
              "7   (29.3627296, -100.896761)  29.3627296   -100.896761   \n",
              "8   (29.3627296, -100.896761)  29.3627296   -100.896761   \n",
              "9  (48.5020123, -122.6237356)  48.5020123  -122.6237356   \n",
              "\n",
              "                     quant  y  \n",
              "0        (7484.0, 32053.0]  5  \n",
              "1            (0.999, 45.0]  0  \n",
              "2            (45.0, 190.0]  1  \n",
              "3         (2394.0, 7484.0]  4  \n",
              "4            (45.0, 190.0]  1  \n",
              "5  (142958.375, 4447374.0]  7  \n",
              "6         (2394.0, 7484.0]  4  \n",
              "7        (7484.0, 32053.0]  5  \n",
              "8  (142958.375, 4447374.0]  7  \n",
              "9        (7484.0, 32053.0]  5  "
            ],
            "text/html": [
              "<div>\n",
              "<style scoped>\n",
              "    .dataframe tbody tr th:only-of-type {\n",
              "        vertical-align: middle;\n",
              "    }\n",
              "\n",
              "    .dataframe tbody tr th {\n",
              "        vertical-align: top;\n",
              "    }\n",
              "\n",
              "    .dataframe thead th {\n",
              "        text-align: right;\n",
              "    }\n",
              "</style>\n",
              "<table border=\"1\" class=\"dataframe\">\n",
              "  <thead>\n",
              "    <tr style=\"text-align: right;\">\n",
              "      <th></th>\n",
              "      <th>index</th>\n",
              "      <th>Port Name</th>\n",
              "      <th>State</th>\n",
              "      <th>Port Code</th>\n",
              "      <th>Border</th>\n",
              "      <th>Date</th>\n",
              "      <th>Measure</th>\n",
              "      <th>Value</th>\n",
              "      <th>Year</th>\n",
              "      <th>Month</th>\n",
              "      <th>position</th>\n",
              "      <th>latitude</th>\n",
              "      <th>longitude</th>\n",
              "      <th>quant</th>\n",
              "      <th>y</th>\n",
              "    </tr>\n",
              "  </thead>\n",
              "  <tbody>\n",
              "    <tr>\n",
              "      <th>0</th>\n",
              "      <td>0</td>\n",
              "      <td>Warroad</td>\n",
              "      <td>Minnesota</td>\n",
              "      <td>3423</td>\n",
              "      <td>US-Canada Border</td>\n",
              "      <td>2019-06-01</td>\n",
              "      <td>Personal Vehicle Passengers</td>\n",
              "      <td>19459</td>\n",
              "      <td>2019</td>\n",
              "      <td>6</td>\n",
              "      <td>(48.905266, -95.314404)</td>\n",
              "      <td>48.905266</td>\n",
              "      <td>-95.314404</td>\n",
              "      <td>(7484.0, 32053.0]</td>\n",
              "      <td>5</td>\n",
              "    </tr>\n",
              "    <tr>\n",
              "      <th>1</th>\n",
              "      <td>1</td>\n",
              "      <td>Warroad</td>\n",
              "      <td>Minnesota</td>\n",
              "      <td>3423</td>\n",
              "      <td>US-Canada Border</td>\n",
              "      <td>2019-06-01</td>\n",
              "      <td>Pedestrians</td>\n",
              "      <td>2</td>\n",
              "      <td>2019</td>\n",
              "      <td>6</td>\n",
              "      <td>(48.905266, -95.314404)</td>\n",
              "      <td>48.905266</td>\n",
              "      <td>-95.314404</td>\n",
              "      <td>(0.999, 45.0]</td>\n",
              "      <td>0</td>\n",
              "    </tr>\n",
              "    <tr>\n",
              "      <th>2</th>\n",
              "      <td>2</td>\n",
              "      <td>Warroad</td>\n",
              "      <td>Minnesota</td>\n",
              "      <td>3423</td>\n",
              "      <td>US-Canada Border</td>\n",
              "      <td>2019-06-01</td>\n",
              "      <td>Bus Passengers</td>\n",
              "      <td>63</td>\n",
              "      <td>2019</td>\n",
              "      <td>6</td>\n",
              "      <td>(48.905266, -95.314404)</td>\n",
              "      <td>48.905266</td>\n",
              "      <td>-95.314404</td>\n",
              "      <td>(45.0, 190.0]</td>\n",
              "      <td>1</td>\n",
              "    </tr>\n",
              "    <tr>\n",
              "      <th>3</th>\n",
              "      <td>3</td>\n",
              "      <td>Roseau</td>\n",
              "      <td>Minnesota</td>\n",
              "      <td>3426</td>\n",
              "      <td>US-Canada Border</td>\n",
              "      <td>2019-06-01</td>\n",
              "      <td>Personal Vehicle Passengers</td>\n",
              "      <td>7385</td>\n",
              "      <td>2019</td>\n",
              "      <td>6</td>\n",
              "      <td>(48.7710371, -95.7697882)</td>\n",
              "      <td>48.7710371</td>\n",
              "      <td>-95.7697882</td>\n",
              "      <td>(2394.0, 7484.0]</td>\n",
              "      <td>4</td>\n",
              "    </tr>\n",
              "    <tr>\n",
              "      <th>4</th>\n",
              "      <td>4</td>\n",
              "      <td>Roseau</td>\n",
              "      <td>Minnesota</td>\n",
              "      <td>3426</td>\n",
              "      <td>US-Canada Border</td>\n",
              "      <td>2019-06-01</td>\n",
              "      <td>Bus Passengers</td>\n",
              "      <td>118</td>\n",
              "      <td>2019</td>\n",
              "      <td>6</td>\n",
              "      <td>(48.7710371, -95.7697882)</td>\n",
              "      <td>48.7710371</td>\n",
              "      <td>-95.7697882</td>\n",
              "      <td>(45.0, 190.0]</td>\n",
              "      <td>1</td>\n",
              "    </tr>\n",
              "    <tr>\n",
              "      <th>5</th>\n",
              "      <td>5</td>\n",
              "      <td>Detroit</td>\n",
              "      <td>Michigan</td>\n",
              "      <td>3801</td>\n",
              "      <td>US-Canada Border</td>\n",
              "      <td>2019-06-01</td>\n",
              "      <td>Personal Vehicle Passengers</td>\n",
              "      <td>599521</td>\n",
              "      <td>2019</td>\n",
              "      <td>6</td>\n",
              "      <td>(42.3315509, -83.0466403)</td>\n",
              "      <td>42.3315509</td>\n",
              "      <td>-83.0466403</td>\n",
              "      <td>(142958.375, 4447374.0]</td>\n",
              "      <td>7</td>\n",
              "    </tr>\n",
              "    <tr>\n",
              "      <th>6</th>\n",
              "      <td>6</td>\n",
              "      <td>Detroit</td>\n",
              "      <td>Michigan</td>\n",
              "      <td>3801</td>\n",
              "      <td>US-Canada Border</td>\n",
              "      <td>2019-06-01</td>\n",
              "      <td>Bus Passengers</td>\n",
              "      <td>6274</td>\n",
              "      <td>2019</td>\n",
              "      <td>6</td>\n",
              "      <td>(42.3315509, -83.0466403)</td>\n",
              "      <td>42.3315509</td>\n",
              "      <td>-83.0466403</td>\n",
              "      <td>(2394.0, 7484.0]</td>\n",
              "      <td>4</td>\n",
              "    </tr>\n",
              "    <tr>\n",
              "      <th>7</th>\n",
              "      <td>7</td>\n",
              "      <td>Del Rio</td>\n",
              "      <td>Texas</td>\n",
              "      <td>2302</td>\n",
              "      <td>US-Mexico Border</td>\n",
              "      <td>2019-06-01</td>\n",
              "      <td>Pedestrians</td>\n",
              "      <td>14898</td>\n",
              "      <td>2019</td>\n",
              "      <td>6</td>\n",
              "      <td>(29.3627296, -100.896761)</td>\n",
              "      <td>29.3627296</td>\n",
              "      <td>-100.896761</td>\n",
              "      <td>(7484.0, 32053.0]</td>\n",
              "      <td>5</td>\n",
              "    </tr>\n",
              "    <tr>\n",
              "      <th>8</th>\n",
              "      <td>8</td>\n",
              "      <td>Del Rio</td>\n",
              "      <td>Texas</td>\n",
              "      <td>2302</td>\n",
              "      <td>US-Mexico Border</td>\n",
              "      <td>2019-06-01</td>\n",
              "      <td>Personal Vehicle Passengers</td>\n",
              "      <td>238721</td>\n",
              "      <td>2019</td>\n",
              "      <td>6</td>\n",
              "      <td>(29.3627296, -100.896761)</td>\n",
              "      <td>29.3627296</td>\n",
              "      <td>-100.896761</td>\n",
              "      <td>(142958.375, 4447374.0]</td>\n",
              "      <td>7</td>\n",
              "    </tr>\n",
              "    <tr>\n",
              "      <th>9</th>\n",
              "      <td>9</td>\n",
              "      <td>Anacortes</td>\n",
              "      <td>Washington</td>\n",
              "      <td>3010</td>\n",
              "      <td>US-Canada Border</td>\n",
              "      <td>2019-06-01</td>\n",
              "      <td>Personal Vehicle Passengers</td>\n",
              "      <td>8348</td>\n",
              "      <td>2019</td>\n",
              "      <td>6</td>\n",
              "      <td>(48.5020123, -122.6237356)</td>\n",
              "      <td>48.5020123</td>\n",
              "      <td>-122.6237356</td>\n",
              "      <td>(7484.0, 32053.0]</td>\n",
              "      <td>5</td>\n",
              "    </tr>\n",
              "  </tbody>\n",
              "</table>\n",
              "</div>"
            ]
          },
          "metadata": {}
        }
      ],
      "execution_count": 274,
      "metadata": {
        "collapsed": false,
        "outputHidden": false,
        "inputHidden": false
      }
    },
    {
      "cell_type": "code",
      "source": [
        "# one-hot encoding for Border\n",
        "one_hot = OneHotEncoder(categories=\"auto\")\n",
        "cat_to_onehot = one_hot.fit_transform(nozero[[\"Border\"]]).toarray()\n",
        "cat_to_onehot = pd.DataFrame(cat_to_onehot)\n",
        "cat_to_onehot.shape\n",
        "cat_to_onehot = cat_to_onehot.rename(columns={0: \"Canada Border\", 1: \"Mexico Border\"})"
      ],
      "outputs": [],
      "execution_count": 275,
      "metadata": {
        "inputHidden": false,
        "outputHidden": false
      }
    },
    {
      "cell_type": "code",
      "source": [
        "# one-hot encoding for Measure\n",
        "one_hot1 = OneHotEncoder(categories=\"auto\")\n",
        "cat_to_onehot1 = one_hot1.fit_transform(nozero[[\"Measure\"]]).toarray()\n",
        "cat_to_onehot1 = pd.DataFrame(cat_to_onehot1)\n",
        "cat_to_onehot1.shape\n",
        "cat_to_onehot1 = cat_to_onehot1.rename(columns={0: \"Bus Passengers\", 1: \"Pedestrians\",2: \"Personal Vehicle Passengers\", 3: \"Train Passengers\"})"
      ],
      "outputs": [],
      "execution_count": 276,
      "metadata": {
        "collapsed": false,
        "outputHidden": false,
        "inputHidden": false
      }
    },
    {
      "cell_type": "code",
      "source": [
        "# one-hot encoding for State\n",
        "one_hot2 = OneHotEncoder(categories=\"auto\")\n",
        "cat_to_onehot2 = one_hot2.fit_transform(nozero[[\"State\"]]).toarray()\n",
        "cat_to_onehot2 = pd.DataFrame(cat_to_onehot2)\n",
        "cat_to_onehot2.shape\n",
        "cat_to_onehot2 = cat_to_onehot2.rename(columns={5: \"Michigan\", 9: \"New York\"})"
      ],
      "outputs": [],
      "execution_count": 277,
      "metadata": {
        "collapsed": false,
        "outputHidden": false,
        "inputHidden": false
      }
    },
    {
      "cell_type": "code",
      "source": [
        "OH_list = [X.reset_index(drop=True),cat_to_onehot.reset_index(drop=True),cat_to_onehot1.reset_index(drop=True), cat_to_onehot2.reset_index(drop=True)]"
      ],
      "outputs": [],
      "execution_count": 278,
      "metadata": {
        "collapsed": false,
        "outputHidden": false,
        "inputHidden": false
      }
    },
    {
      "cell_type": "code",
      "source": [
        "X = pd.concat((OH_list), axis=1, join='inner')\n",
        "\n",
        "X.shape"
      ],
      "outputs": [
        {
          "output_type": "execute_result",
          "execution_count": 279,
          "data": {
            "text/plain": [
              "(75624, 23)"
            ]
          },
          "metadata": {}
        }
      ],
      "execution_count": 279,
      "metadata": {
        "inputHidden": false,
        "outputHidden": false
      }
    },
    {
      "cell_type": "code",
      "source": [
        "X.isnull().sum()"
      ],
      "outputs": [
        {
          "output_type": "execute_result",
          "execution_count": 280,
          "data": {
            "text/plain": [
              "Year                           0\n",
              "Month                          0\n",
              "Port Code                      0\n",
              "Canada Border                  0\n",
              "Mexico Border                  0\n",
              "Bus Passengers                 0\n",
              "Pedestrians                    0\n",
              "Personal Vehicle Passengers    0\n",
              "Train Passengers               0\n",
              "0                              0\n",
              "1                              0\n",
              "2                              0\n",
              "3                              0\n",
              "4                              0\n",
              "Michigan                       0\n",
              "6                              0\n",
              "7                              0\n",
              "8                              0\n",
              "New York                       0\n",
              "10                             0\n",
              "11                             0\n",
              "12                             0\n",
              "13                             0\n",
              "dtype: int64"
            ]
          },
          "metadata": {}
        }
      ],
      "execution_count": 280,
      "metadata": {
        "inputHidden": false,
        "outputHidden": false
      }
    },
    {
      "cell_type": "code",
      "source": [
        "#X = X.rename(columns={0: \"Canada Border\", 1: \"Mexico Border\"})\n",
        "#X.head()\n"
      ],
      "outputs": [],
      "execution_count": 281,
      "metadata": {
        "inputHidden": false,
        "outputHidden": false
      }
    },
    {
      "cell_type": "code",
      "source": [
        "from sklearn.model_selection import train_test_split\n",
        "X_train, X_test, y_train, y_test = train_test_split(X, y, test_size=0.2, random_state=72)"
      ],
      "outputs": [],
      "execution_count": 282,
      "metadata": {
        "inputHidden": false,
        "outputHidden": false
      }
    },
    {
      "cell_type": "code",
      "source": [
        "clf = DecisionTreeClassifier(criterion='entropy')"
      ],
      "outputs": [],
      "execution_count": 283,
      "metadata": {
        "inputHidden": false,
        "outputHidden": false
      }
    },
    {
      "cell_type": "code",
      "source": [
        "clf.fit(X_train, y_train)"
      ],
      "outputs": [
        {
          "output_type": "execute_result",
          "execution_count": 284,
          "data": {
            "text/plain": [
              "DecisionTreeClassifier(class_weight=None, criterion='entropy', max_depth=None,\n",
              "                       max_features=None, max_leaf_nodes=None,\n",
              "                       min_impurity_decrease=0.0, min_impurity_split=None,\n",
              "                       min_samples_leaf=1, min_samples_split=2,\n",
              "                       min_weight_fraction_leaf=0.0, presort=False,\n",
              "                       random_state=None, splitter='best')"
            ]
          },
          "metadata": {}
        }
      ],
      "execution_count": 284,
      "metadata": {
        "inputHidden": false,
        "outputHidden": false
      }
    },
    {
      "cell_type": "code",
      "source": [
        "# test accuracy\n",
        "clf.score(X_test,y_test)"
      ],
      "outputs": [
        {
          "output_type": "execute_result",
          "execution_count": 285,
          "data": {
            "text/plain": [
              "0.8427107438016529"
            ]
          },
          "metadata": {}
        }
      ],
      "execution_count": 285,
      "metadata": {
        "inputHidden": false,
        "outputHidden": false
      }
    },
    {
      "cell_type": "code",
      "source": [
        "# depth of the decision tree\n",
        "clf.get_depth()"
      ],
      "outputs": [
        {
          "output_type": "execute_result",
          "execution_count": 286,
          "data": {
            "text/plain": [
              "31"
            ]
          },
          "metadata": {}
        }
      ],
      "execution_count": 286,
      "metadata": {
        "inputHidden": false,
        "outputHidden": false
      }
    },
    {
      "cell_type": "markdown",
      "source": [
        "Tuning depth of the tree:"
      ],
      "metadata": {}
    },
    {
      "cell_type": "code",
      "source": [
        "scores = []\n",
        "for d in range(1, 21):\n",
        "    clf = DecisionTreeClassifier(criterion='entropy', max_depth=d)\n",
        "    clf.fit(X_train, y_train)\n",
        "    scores.append(clf.score(X_test, y_test))"
      ],
      "outputs": [],
      "execution_count": 287,
      "metadata": {
        "inputHidden": false,
        "outputHidden": false
      }
    },
    {
      "cell_type": "code",
      "source": [
        "plt.plot(scores)\n",
        "plt.ylabel('accuracy', fontsize=15)\n",
        "plt.xlabel('depth', fontsize=15)"
      ],
      "outputs": [
        {
          "output_type": "execute_result",
          "execution_count": 288,
          "data": {
            "text/plain": [
              "Text(0.5, 0, 'depth')"
            ]
          },
          "metadata": {}
        },
        {
          "output_type": "display_data",
          "data": {
            "text/plain": [
              "<Figure size 432x288 with 1 Axes>"
            ],
            "image/png": "[encoded data removed]"
          },
          "metadata": {
            "needs_background": "light"
          }
        }
      ],
      "execution_count": 288,
      "metadata": {
        "inputHidden": false,
        "outputHidden": false
      }
    },
    {
      "cell_type": "code",
      "source": [
        "# best depth\n",
        "np.argmax(scores)"
      ],
      "outputs": [
        {
          "output_type": "execute_result",
          "execution_count": 289,
          "data": {
            "text/plain": [
              "17"
            ]
          },
          "metadata": {}
        }
      ],
      "execution_count": 289,
      "metadata": {
        "inputHidden": false,
        "outputHidden": false
      }
    },
    {
      "cell_type": "markdown",
      "source": [
        "Feature importance"
      ],
      "metadata": {}
    },
    {
      "cell_type": "code",
      "source": [
        "# feature importances for best classifier\n",
        "clf = DecisionTreeClassifier(criterion='entropy', max_depth=4)\n",
        "clf.fit(X_train, y_train)\n",
        "clf.feature_importances_"
      ],
      "outputs": [
        {
          "output_type": "execute_result",
          "execution_count": 290,
          "data": {
            "text/plain": [
              "array([0.        , 0.        , 0.34122781, 0.        , 0.15645587,\n",
              "       0.        , 0.11001497, 0.31489358, 0.02520479, 0.        ,\n",
              "       0.        , 0.        , 0.        , 0.        , 0.01182105,\n",
              "       0.        , 0.        , 0.        , 0.04038194, 0.        ,\n",
              "       0.        , 0.        , 0.        ])"
            ]
          },
          "metadata": {}
        }
      ],
      "execution_count": 290,
      "metadata": {
        "inputHidden": false,
        "outputHidden": false
      }
    },
    {
      "cell_type": "code",
      "source": [
        "sorted(zip(X_train.columns, clf.feature_importances_), key=lambda x: x[1], reverse=True)"
      ],
      "outputs": [
        {
          "output_type": "execute_result",
          "execution_count": 291,
          "data": {
            "text/plain": [
              "[('Port Code', 0.3412278061938924),\n",
              " ('Personal Vehicle Passengers', 0.31489357972080084),\n",
              " ('Mexico Border', 0.15645587215588516),\n",
              " ('Pedestrians', 0.11001497143236277),\n",
              " ('New York', 0.04038193512339265),\n",
              " ('Train Passengers', 0.025204785886919368),\n",
              " ('Michigan', 0.011821049486746798),\n",
              " ('Year', 0.0),\n",
              " ('Month', 0.0),\n",
              " ('Canada Border', 0.0),\n",
              " ('Bus Passengers', 0.0),\n",
              " (0, 0.0),\n",
              " (1, 0.0),\n",
              " (2, 0.0),\n",
              " (3, 0.0),\n",
              " (4, 0.0),\n",
              " (6, 0.0),\n",
              " (7, 0.0),\n",
              " (8, 0.0),\n",
              " (10, 0.0),\n",
              " (11, 0.0),\n",
              " (12, 0.0),\n",
              " (13, 0.0)]"
            ]
          },
          "metadata": {}
        }
      ],
      "execution_count": 291,
      "metadata": {
        "inputHidden": false,
        "outputHidden": false
      }
    },
    {
      "cell_type": "markdown",
      "source": [
        "Visualizing the decision tree"
      ],
      "metadata": {}
    },
    {
      "cell_type": "code",
      "source": [
        "#!pip install pydotplus\n",
        "#!pip install graphviz"
      ],
      "outputs": [],
      "execution_count": 292,
      "metadata": {
        "inputHidden": false,
        "outputHidden": false
      }
    },
    {
      "cell_type": "code",
      "source": [
        "from sklearn.externals.six import StringIO  \n",
        "from IPython.display import Image  \n",
        "from sklearn.tree import export_graphviz\n",
        "import pydotplus\n",
        "from IPython.display import SVG\n",
        "from graphviz import Source\n",
        "from IPython.display import display\n",
        "\n",
        "graph = Source(export_graphviz(clf, out_file=None\n",
        "   , feature_names=X_train.columns, class_names=['0','1','2','3','4','5','6','7'] \n",
        "   , filled = True))\n",
        "display(SVG(graph.pipe(format='svg')))"
      ],
      "outputs": [
        {
          "output_type": "display_data",
          "data": {
            "text/plain": [
              "<IPython.core.display.SVG object>"
            ],
            "image/svg+xml": [
              "<svg height=\"528pt\" viewBox=\"0.00 0.00 4308.78 528.00\" width=\"4309pt\" xmlns=\"http://www.w3.org/2000/svg\" xmlns:xlink=\"http://www.w3.org/1999/xlink\">\n",
              "<g class=\"graph\" id=\"graph0\" transform=\"scale(1 1) rotate(0) translate(4 524)\">\n",
              "<title>Tree</title>\n",
              "<polygon fill=\"white\" points=\"-4,4 -4,-524 4304.78,-524 4304.78,4 -4,4\" stroke=\"transparent\"/>\n",
              "<!-- 0 -->\n",
              "<g class=\"node\" id=\"node1\">\n",
              "<title>0</title>\n",
              "<polygon fill=\"#ffffff\" points=\"2395.81,-520 2052.73,-520 2052.73,-442 2395.81,-442 2395.81,-520\" stroke=\"black\"/>\n",
              "<text font-family=\"Times,serif\" font-size=\"14.00\" text-anchor=\"middle\" x=\"2224.27\" y=\"-504.8\">Personal Vehicle Passengers &lt;= 0.5</text>\n",
              "<text font-family=\"Times,serif\" font-size=\"14.00\" text-anchor=\"middle\" x=\"2224.27\" y=\"-490.8\">entropy = 3.0</text>\n",
              "<text font-family=\"Times,serif\" font-size=\"14.00\" text-anchor=\"middle\" x=\"2224.27\" y=\"-476.8\">samples = 60499</text>\n",
              "<text font-family=\"Times,serif\" font-size=\"14.00\" text-anchor=\"middle\" x=\"2224.27\" y=\"-462.8\">value = [7738, 7472, 7503, 7559, 7555, 7631, 7496, 7545]</text>\n",
              "<text font-family=\"Times,serif\" font-size=\"14.00\" text-anchor=\"middle\" x=\"2224.27\" y=\"-448.8\">class = 0</text>\n",
              "</g>\n",
              "<!-- 1 -->\n",
              "<g class=\"node\" id=\"node2\">\n",
              "<title>1</title>\n",
              "<polygon fill=\"#fefcfb\" points=\"1884.81,-406 1541.73,-406 1541.73,-328 1884.81,-328 1884.81,-406\" stroke=\"black\"/>\n",
              "<text font-family=\"Times,serif\" font-size=\"14.00\" text-anchor=\"middle\" x=\"1713.27\" y=\"-390.8\">Mexico Border &lt;= 0.5</text>\n",
              "<text font-family=\"Times,serif\" font-size=\"14.00\" text-anchor=\"middle\" x=\"1713.27\" y=\"-376.8\">entropy = 2.847</text>\n",
              "<text font-family=\"Times,serif\" font-size=\"14.00\" text-anchor=\"middle\" x=\"1713.27\" y=\"-362.8\">samples = 36644</text>\n",
              "<text font-family=\"Times,serif\" font-size=\"14.00\" text-anchor=\"middle\" x=\"1713.27\" y=\"-348.8\">value = [7723, 7099, 6464, 4385, 3715, 3030, 2235, 1993]</text>\n",
              "<text font-family=\"Times,serif\" font-size=\"14.00\" text-anchor=\"middle\" x=\"1713.27\" y=\"-334.8\">class = 0</text>\n",
              "</g>\n",
              "<!-- 0&#45;&gt;1 -->\n",
              "<g class=\"edge\" id=\"edge1\">\n",
              "<title>0-&gt;1</title>\n",
              "<path d=\"M2052.69,-442.39C2001.89,-431.26 1946.11,-419.03 1894.71,-407.77\" fill=\"none\" stroke=\"black\"/>\n",
              "<polygon fill=\"black\" points=\"1895.35,-404.32 1884.83,-405.6 1893.85,-411.16 1895.35,-404.32\" stroke=\"black\"/>\n",
              "<text font-family=\"Times,serif\" font-size=\"14.00\" text-anchor=\"middle\" x=\"1898.31\" y=\"-422.45\">True</text>\n",
              "</g>\n",
              "<!-- 16 -->\n",
              "<g class=\"node\" id=\"node17\">\n",
              "<title>16</title>\n",
              "<polygon fill=\"#fffcfd\" points=\"2908.31,-406 2586.23,-406 2586.23,-328 2908.31,-328 2908.31,-406\" stroke=\"black\"/>\n",
              "<text font-family=\"Times,serif\" font-size=\"14.00\" text-anchor=\"middle\" x=\"2747.27\" y=\"-390.8\">Port Code &lt;= 3009.5</text>\n",
              "<text font-family=\"Times,serif\" font-size=\"14.00\" text-anchor=\"middle\" x=\"2747.27\" y=\"-376.8\">entropy = 2.537</text>\n",
              "<text font-family=\"Times,serif\" font-size=\"14.00\" text-anchor=\"middle\" x=\"2747.27\" y=\"-362.8\">samples = 23855</text>\n",
              "<text font-family=\"Times,serif\" font-size=\"14.00\" text-anchor=\"middle\" x=\"2747.27\" y=\"-348.8\">value = [15, 373, 1039, 3174, 3840, 4601, 5261, 5552]</text>\n",
              "<text font-family=\"Times,serif\" font-size=\"14.00\" text-anchor=\"middle\" x=\"2747.27\" y=\"-334.8\">class = 7</text>\n",
              "</g>\n",
              "<!-- 0&#45;&gt;16 -->\n",
              "<g class=\"edge\" id=\"edge16\">\n",
              "<title>0-&gt;16</title>\n",
              "<path d=\"M2395.88,-443.25C2453.73,-430.86 2518.27,-417.04 2576.09,-404.66\" fill=\"none\" stroke=\"black\"/>\n",
              "<polygon fill=\"black\" points=\"2577.01,-408.04 2586.06,-402.52 2575.55,-401.19 2577.01,-408.04\" stroke=\"black\"/>\n",
              "<text font-family=\"Times,serif\" font-size=\"14.00\" text-anchor=\"middle\" x=\"2572.47\" y=\"-419.31\">False</text>\n",
              "</g>\n",
              "<!-- 2 -->\n",
              "<g class=\"node\" id=\"node3\">\n",
              "<title>2</title>\n",
              "<polygon fill=\"#fefaf7\" points=\"1068.29,-292 746.24,-292 746.24,-214 1068.29,-214 1068.29,-292\" stroke=\"black\"/>\n",
              "<text font-family=\"Times,serif\" font-size=\"14.00\" text-anchor=\"middle\" x=\"907.27\" y=\"-276.8\">Pedestrians &lt;= 0.5</text>\n",
              "<text font-family=\"Times,serif\" font-size=\"14.00\" text-anchor=\"middle\" x=\"907.27\" y=\"-262.8\">entropy = 2.493</text>\n",
              "<text font-family=\"Times,serif\" font-size=\"14.00\" text-anchor=\"middle\" x=\"907.27\" y=\"-248.8\">samples = 25661</text>\n",
              "<text font-family=\"Times,serif\" font-size=\"14.00\" text-anchor=\"middle\" x=\"907.27\" y=\"-234.8\">value = [7083, 6299, 5074, 3059, 2388, 1190, 522, 46]</text>\n",
              "<text font-family=\"Times,serif\" font-size=\"14.00\" text-anchor=\"middle\" x=\"907.27\" y=\"-220.8\">class = 0</text>\n",
              "</g>\n",
              "<!-- 1&#45;&gt;2 -->\n",
              "<g class=\"edge\" id=\"edge2\">\n",
              "<title>1-&gt;2</title>\n",
              "<path d=\"M1541.35,-342.11C1404.8,-323.14 1214.78,-296.73 1078.43,-277.78\" fill=\"none\" stroke=\"black\"/>\n",
              "<polygon fill=\"black\" points=\"1078.68,-274.29 1068.29,-276.38 1077.71,-281.22 1078.68,-274.29\" stroke=\"black\"/>\n",
              "</g>\n",
              "<!-- 9 -->\n",
              "<g class=\"node\" id=\"node10\">\n",
              "<title>9</title>\n",
              "<polygon fill=\"#fffdfd\" points=\"1877.81,-292 1548.73,-292 1548.73,-214 1877.81,-214 1877.81,-292\" stroke=\"black\"/>\n",
              "<text font-family=\"Times,serif\" font-size=\"14.00\" text-anchor=\"middle\" x=\"1713.27\" y=\"-276.8\">Pedestrians &lt;= 0.5</text>\n",
              "<text font-family=\"Times,serif\" font-size=\"14.00\" text-anchor=\"middle\" x=\"1713.27\" y=\"-262.8\">entropy = 2.921</text>\n",
              "<text font-family=\"Times,serif\" font-size=\"14.00\" text-anchor=\"middle\" x=\"1713.27\" y=\"-248.8\">samples = 10983</text>\n",
              "<text font-family=\"Times,serif\" font-size=\"14.00\" text-anchor=\"middle\" x=\"1713.27\" y=\"-234.8\">value = [640, 800, 1390, 1326, 1327, 1840, 1713, 1947]</text>\n",
              "<text font-family=\"Times,serif\" font-size=\"14.00\" text-anchor=\"middle\" x=\"1713.27\" y=\"-220.8\">class = 7</text>\n",
              "</g>\n",
              "<!-- 1&#45;&gt;9 -->\n",
              "<g class=\"edge\" id=\"edge9\">\n",
              "<title>1-&gt;9</title>\n",
              "<path d=\"M1713.27,-327.77C1713.27,-319.57 1713.27,-310.8 1713.27,-302.28\" fill=\"none\" stroke=\"black\"/>\n",
              "<polygon fill=\"black\" points=\"1716.77,-302.06 1713.27,-292.06 1709.77,-302.06 1716.77,-302.06\" stroke=\"black\"/>\n",
              "</g>\n",
              "<!-- 3 -->\n",
              "<g class=\"node\" id=\"node4\">\n",
              "<title>3</title>\n",
              "<polygon fill=\"#fcfef5\" points=\"624.29,-178 302.24,-178 302.24,-100 624.29,-100 624.29,-178\" stroke=\"black\"/>\n",
              "<text font-family=\"Times,serif\" font-size=\"14.00\" text-anchor=\"middle\" x=\"463.27\" y=\"-162.8\">New York &lt;= 0.5</text>\n",
              "<text font-family=\"Times,serif\" font-size=\"14.00\" text-anchor=\"middle\" x=\"463.27\" y=\"-148.8\">entropy = 2.569</text>\n",
              "<text font-family=\"Times,serif\" font-size=\"14.00\" text-anchor=\"middle\" x=\"463.27\" y=\"-134.8\">samples = 17088</text>\n",
              "<text font-family=\"Times,serif\" font-size=\"14.00\" text-anchor=\"middle\" x=\"463.27\" y=\"-120.8\">value = [2923, 4609, 3980, 2112, 1926, 1047, 448, 43]</text>\n",
              "<text font-family=\"Times,serif\" font-size=\"14.00\" text-anchor=\"middle\" x=\"463.27\" y=\"-106.8\">class = 1</text>\n",
              "</g>\n",
              "<!-- 2&#45;&gt;3 -->\n",
              "<g class=\"edge\" id=\"edge3\">\n",
              "<title>2-&gt;3</title>\n",
              "<path d=\"M756.33,-213.93C713.68,-203.17 667.11,-191.42 623.91,-180.52\" fill=\"none\" stroke=\"black\"/>\n",
              "<polygon fill=\"black\" points=\"624.72,-177.12 614.17,-178.06 623.01,-183.9 624.72,-177.12\" stroke=\"black\"/>\n",
              "</g>\n",
              "<!-- 6 -->\n",
              "<g class=\"node\" id=\"node7\">\n",
              "<title>6</title>\n",
              "<polygon fill=\"#f6d2b8\" points=\"1050.81,-178 763.73,-178 763.73,-100 1050.81,-100 1050.81,-178\" stroke=\"black\"/>\n",
              "<text font-family=\"Times,serif\" font-size=\"14.00\" text-anchor=\"middle\" x=\"907.27\" y=\"-162.8\">New York &lt;= 0.5</text>\n",
              "<text font-family=\"Times,serif\" font-size=\"14.00\" text-anchor=\"middle\" x=\"907.27\" y=\"-148.8\">entropy = 2.087</text>\n",
              "<text font-family=\"Times,serif\" font-size=\"14.00\" text-anchor=\"middle\" x=\"907.27\" y=\"-134.8\">samples = 8573</text>\n",
              "<text font-family=\"Times,serif\" font-size=\"14.00\" text-anchor=\"middle\" x=\"907.27\" y=\"-120.8\">value = [4160, 1690, 1094, 947, 462, 143, 74, 3]</text>\n",
              "<text font-family=\"Times,serif\" font-size=\"14.00\" text-anchor=\"middle\" x=\"907.27\" y=\"-106.8\">class = 0</text>\n",
              "</g>\n",
              "<!-- 2&#45;&gt;6 -->\n",
              "<g class=\"edge\" id=\"edge6\">\n",
              "<title>2-&gt;6</title>\n",
              "<path d=\"M907.27,-213.77C907.27,-205.57 907.27,-196.8 907.27,-188.28\" fill=\"none\" stroke=\"black\"/>\n",
              "<polygon fill=\"black\" points=\"910.77,-188.06 907.27,-178.06 903.77,-188.06 910.77,-188.06\" stroke=\"black\"/>\n",
              "</g>\n",
              "<!-- 4 -->\n",
              "<g class=\"node\" id=\"node5\">\n",
              "<title>4</title>\n",
              "<polygon fill=\"#fcfef6\" points=\"308.31,-64 0.23,-64 0.23,0 308.31,0 308.31,-64\" stroke=\"black\"/>\n",
              "<text font-family=\"Times,serif\" font-size=\"14.00\" text-anchor=\"middle\" x=\"154.27\" y=\"-48.8\">entropy = 2.461</text>\n",
              "<text font-family=\"Times,serif\" font-size=\"14.00\" text-anchor=\"middle\" x=\"154.27\" y=\"-34.8\">samples = 15208</text>\n",
              "<text font-family=\"Times,serif\" font-size=\"14.00\" text-anchor=\"middle\" x=\"154.27\" y=\"-20.8\">value = [2899, 4331, 3788, 1822, 1365, 771, 231, 1]</text>\n",
              "<text font-family=\"Times,serif\" font-size=\"14.00\" text-anchor=\"middle\" x=\"154.27\" y=\"-6.8\">class = 1</text>\n",
              "</g>\n",
              "<!-- 3&#45;&gt;4 -->\n",
              "<g class=\"edge\" id=\"edge4\">\n",
              "<title>3-&gt;4</title>\n",
              "<path d=\"M351.28,-99.94C319.95,-89.3 286.1,-77.8 255.44,-67.38\" fill=\"none\" stroke=\"black\"/>\n",
              "<polygon fill=\"black\" points=\"256.2,-63.94 245.6,-64.04 253.94,-70.57 256.2,-63.94\" stroke=\"black\"/>\n",
              "</g>\n",
              "<!-- 5 -->\n",
              "<g class=\"node\" id=\"node6\">\n",
              "<title>5</title>\n",
              "<polygon fill=\"#ddeefb\" points=\"599.81,-64 326.73,-64 326.73,0 599.81,0 599.81,-64\" stroke=\"black\"/>\n",
              "<text font-family=\"Times,serif\" font-size=\"14.00\" text-anchor=\"middle\" x=\"463.27\" y=\"-48.8\">entropy = 2.649</text>\n",
              "<text font-family=\"Times,serif\" font-size=\"14.00\" text-anchor=\"middle\" x=\"463.27\" y=\"-34.8\">samples = 1880</text>\n",
              "<text font-family=\"Times,serif\" font-size=\"14.00\" text-anchor=\"middle\" x=\"463.27\" y=\"-20.8\">value = [24, 278, 192, 290, 561, 276, 217, 42]</text>\n",
              "<text font-family=\"Times,serif\" font-size=\"14.00\" text-anchor=\"middle\" x=\"463.27\" y=\"-6.8\">class = 4</text>\n",
              "</g>\n",
              "<!-- 3&#45;&gt;5 -->\n",
              "<g class=\"edge\" id=\"edge5\">\n",
              "<title>3-&gt;5</title>\n",
              "<path d=\"M463.27,-99.8C463.27,-91.46 463.27,-82.6 463.27,-74.15\" fill=\"none\" stroke=\"black\"/>\n",
              "<polygon fill=\"black\" points=\"466.77,-74.12 463.27,-64.12 459.77,-74.12 466.77,-74.12\" stroke=\"black\"/>\n",
              "</g>\n",
              "<!-- 7 -->\n",
              "<g class=\"node\" id=\"node8\">\n",
              "<title>7</title>\n",
              "<polygon fill=\"#f5d1b6\" points=\"884.31,-64 618.23,-64 618.23,0 884.31,0 884.31,-64\" stroke=\"black\"/>\n",
              "<text font-family=\"Times,serif\" font-size=\"14.00\" text-anchor=\"middle\" x=\"751.27\" y=\"-48.8\">entropy = 1.975</text>\n",
              "<text font-family=\"Times,serif\" font-size=\"14.00\" text-anchor=\"middle\" x=\"751.27\" y=\"-34.8\">samples = 7673</text>\n",
              "<text font-family=\"Times,serif\" font-size=\"14.00\" text-anchor=\"middle\" x=\"751.27\" y=\"-20.8\">value = [3785, 1521, 978, 929, 435, 25, 0, 0]</text>\n",
              "<text font-family=\"Times,serif\" font-size=\"14.00\" text-anchor=\"middle\" x=\"751.27\" y=\"-6.8\">class = 0</text>\n",
              "</g>\n",
              "<!-- 6&#45;&gt;7 -->\n",
              "<g class=\"edge\" id=\"edge7\">\n",
              "<title>6-&gt;7</title>\n",
              "<path d=\"M850.51,-99.8C835.94,-89.99 820.31,-79.47 805.86,-69.74\" fill=\"none\" stroke=\"black\"/>\n",
              "<polygon fill=\"black\" points=\"807.75,-66.8 797.5,-64.12 803.84,-72.6 807.75,-66.8\" stroke=\"black\"/>\n",
              "</g>\n",
              "<!-- 8 -->\n",
              "<g class=\"node\" id=\"node9\">\n",
              "<title>8</title>\n",
              "<polygon fill=\"#f8dbc7\" points=\"1153.78,-64 902.76,-64 902.76,0 1153.78,0 1153.78,-64\" stroke=\"black\"/>\n",
              "<text font-family=\"Times,serif\" font-size=\"14.00\" text-anchor=\"middle\" x=\"1028.27\" y=\"-48.8\">entropy = 2.333</text>\n",
              "<text font-family=\"Times,serif\" font-size=\"14.00\" text-anchor=\"middle\" x=\"1028.27\" y=\"-34.8\">samples = 900</text>\n",
              "<text font-family=\"Times,serif\" font-size=\"14.00\" text-anchor=\"middle\" x=\"1028.27\" y=\"-20.8\">value = [375, 169, 116, 18, 27, 118, 74, 3]</text>\n",
              "<text font-family=\"Times,serif\" font-size=\"14.00\" text-anchor=\"middle\" x=\"1028.27\" y=\"-6.8\">class = 0</text>\n",
              "</g>\n",
              "<!-- 6&#45;&gt;8 -->\n",
              "<g class=\"edge\" id=\"edge8\">\n",
              "<title>6-&gt;8</title>\n",
              "<path d=\"M951.29,-99.8C962.17,-90.36 973.81,-80.25 984.67,-70.84\" fill=\"none\" stroke=\"black\"/>\n",
              "<polygon fill=\"black\" points=\"987.15,-73.31 992.41,-64.12 982.56,-68.03 987.15,-73.31\" stroke=\"black\"/>\n",
              "</g>\n",
              "<!-- 10 -->\n",
              "<g class=\"node\" id=\"node11\">\n",
              "<title>10</title>\n",
              "<polygon fill=\"#f3fdf2\" points=\"1699.31,-178 1419.23,-178 1419.23,-100 1699.31,-100 1699.31,-178\" stroke=\"black\"/>\n",
              "<text font-family=\"Times,serif\" font-size=\"14.00\" text-anchor=\"middle\" x=\"1559.27\" y=\"-162.8\">Train Passengers &lt;= 0.5</text>\n",
              "<text font-family=\"Times,serif\" font-size=\"14.00\" text-anchor=\"middle\" x=\"1559.27\" y=\"-148.8\">entropy = 2.747</text>\n",
              "<text font-family=\"Times,serif\" font-size=\"14.00\" text-anchor=\"middle\" x=\"1559.27\" y=\"-134.8\">samples = 5369</text>\n",
              "<text font-family=\"Times,serif\" font-size=\"14.00\" text-anchor=\"middle\" x=\"1559.27\" y=\"-120.8\">value = [606, 620, 1240, 960, 548, 838, 553, 4]</text>\n",
              "<text font-family=\"Times,serif\" font-size=\"14.00\" text-anchor=\"middle\" x=\"1559.27\" y=\"-106.8\">class = 2</text>\n",
              "</g>\n",
              "<!-- 9&#45;&gt;10 -->\n",
              "<g class=\"edge\" id=\"edge10\">\n",
              "<title>9-&gt;10</title>\n",
              "<path d=\"M1660.7,-213.77C1647.57,-204.22 1633.38,-193.9 1619.89,-184.09\" fill=\"none\" stroke=\"black\"/>\n",
              "<polygon fill=\"black\" points=\"1621.74,-181.11 1611.6,-178.06 1617.63,-186.77 1621.74,-181.11\" stroke=\"black\"/>\n",
              "</g>\n",
              "<!-- 13 -->\n",
              "<g class=\"node\" id=\"node14\">\n",
              "<title>13</title>\n",
              "<polygon fill=\"#fadce6\" points=\"2018.79,-178 1717.74,-178 1717.74,-100 2018.79,-100 2018.79,-178\" stroke=\"black\"/>\n",
              "<text font-family=\"Times,serif\" font-size=\"14.00\" text-anchor=\"middle\" x=\"1868.27\" y=\"-162.8\">Port Code &lt;= 2603.5</text>\n",
              "<text font-family=\"Times,serif\" font-size=\"14.00\" text-anchor=\"middle\" x=\"1868.27\" y=\"-148.8\">entropy = 2.439</text>\n",
              "<text font-family=\"Times,serif\" font-size=\"14.00\" text-anchor=\"middle\" x=\"1868.27\" y=\"-134.8\">samples = 5614</text>\n",
              "<text font-family=\"Times,serif\" font-size=\"14.00\" text-anchor=\"middle\" x=\"1868.27\" y=\"-120.8\">value = [34, 180, 150, 366, 779, 1002, 1160, 1943]</text>\n",
              "<text font-family=\"Times,serif\" font-size=\"14.00\" text-anchor=\"middle\" x=\"1868.27\" y=\"-106.8\">class = 7</text>\n",
              "</g>\n",
              "<!-- 9&#45;&gt;13 -->\n",
              "<g class=\"edge\" id=\"edge13\">\n",
              "<title>9-&gt;13</title>\n",
              "<path d=\"M1766.18,-213.77C1779.4,-204.22 1793.68,-193.9 1807.25,-184.09\" fill=\"none\" stroke=\"black\"/>\n",
              "<polygon fill=\"black\" points=\"1809.54,-186.75 1815.6,-178.06 1805.44,-181.08 1809.54,-186.75\" stroke=\"black\"/>\n",
              "</g>\n",
              "<!-- 11 -->\n",
              "<g class=\"node\" id=\"node12\">\n",
              "<title>11</title>\n",
              "<polygon fill=\"#fcfffe\" points=\"1445.81,-64 1172.73,-64 1172.73,0 1445.81,0 1445.81,-64\" stroke=\"black\"/>\n",
              "<text font-family=\"Times,serif\" font-size=\"14.00\" text-anchor=\"middle\" x=\"1309.27\" y=\"-48.8\">entropy = 2.686</text>\n",
              "<text font-family=\"Times,serif\" font-size=\"14.00\" text-anchor=\"middle\" x=\"1309.27\" y=\"-34.8\">samples = 4306</text>\n",
              "<text font-family=\"Times,serif\" font-size=\"14.00\" text-anchor=\"middle\" x=\"1309.27\" y=\"-20.8\">value = [210, 375, 862, 916, 548, 838, 553, 4]</text>\n",
              "<text font-family=\"Times,serif\" font-size=\"14.00\" text-anchor=\"middle\" x=\"1309.27\" y=\"-6.8\">class = 3</text>\n",
              "</g>\n",
              "<!-- 10&#45;&gt;11 -->\n",
              "<g class=\"edge\" id=\"edge11\">\n",
              "<title>10-&gt;11</title>\n",
              "<path d=\"M1468.66,-99.94C1443.75,-89.48 1416.87,-78.19 1392.41,-67.92\" fill=\"none\" stroke=\"black\"/>\n",
              "<polygon fill=\"black\" points=\"1393.74,-64.68 1383.16,-64.04 1391.03,-71.13 1393.74,-64.68\" stroke=\"black\"/>\n",
              "</g>\n",
              "<!-- 12 -->\n",
              "<g class=\"node\" id=\"node13\">\n",
              "<title>12</title>\n",
              "<polygon fill=\"#fefcfa\" points=\"1688.31,-64 1464.23,-64 1464.23,0 1688.31,0 1688.31,-64\" stroke=\"black\"/>\n",
              "<text font-family=\"Times,serif\" font-size=\"14.00\" text-anchor=\"middle\" x=\"1576.27\" y=\"-48.8\">entropy = 1.739</text>\n",
              "<text font-family=\"Times,serif\" font-size=\"14.00\" text-anchor=\"middle\" x=\"1576.27\" y=\"-34.8\">samples = 1063</text>\n",
              "<text font-family=\"Times,serif\" font-size=\"14.00\" text-anchor=\"middle\" x=\"1576.27\" y=\"-20.8\">value = [396, 245, 378, 44, 0, 0, 0, 0]</text>\n",
              "<text font-family=\"Times,serif\" font-size=\"14.00\" text-anchor=\"middle\" x=\"1576.27\" y=\"-6.8\">class = 0</text>\n",
              "</g>\n",
              "<!-- 10&#45;&gt;12 -->\n",
              "<g class=\"edge\" id=\"edge12\">\n",
              "<title>10-&gt;12</title>\n",
              "<path d=\"M1565.45,-99.8C1566.8,-91.46 1568.24,-82.6 1569.61,-74.15\" fill=\"none\" stroke=\"black\"/>\n",
              "<polygon fill=\"black\" points=\"1573.09,-74.55 1571.23,-64.12 1566.18,-73.43 1573.09,-74.55\" stroke=\"black\"/>\n",
              "</g>\n",
              "<!-- 14 -->\n",
              "<g class=\"node\" id=\"node15\">\n",
              "<title>14</title>\n",
              "<polygon fill=\"#fcecf1\" points=\"1993.79,-64 1706.74,-64 1706.74,0 1993.79,0 1993.79,-64\" stroke=\"black\"/>\n",
              "<text font-family=\"Times,serif\" font-size=\"14.00\" text-anchor=\"middle\" x=\"1850.27\" y=\"-48.8\">entropy = 2.358</text>\n",
              "<text font-family=\"Times,serif\" font-size=\"14.00\" text-anchor=\"middle\" x=\"1850.27\" y=\"-34.8\">samples = 4949</text>\n",
              "<text font-family=\"Times,serif\" font-size=\"14.00\" text-anchor=\"middle\" x=\"1850.27\" y=\"-20.8\">value = [10, 41, 92, 366, 779, 1002, 1143, 1516]</text>\n",
              "<text font-family=\"Times,serif\" font-size=\"14.00\" text-anchor=\"middle\" x=\"1850.27\" y=\"-6.8\">class = 7</text>\n",
              "</g>\n",
              "<!-- 13&#45;&gt;14 -->\n",
              "<g class=\"edge\" id=\"edge14\">\n",
              "<title>13-&gt;14</title>\n",
              "<path d=\"M1861.72,-99.8C1860.29,-91.46 1858.77,-82.6 1857.32,-74.15\" fill=\"none\" stroke=\"black\"/>\n",
              "<polygon fill=\"black\" points=\"1860.74,-73.38 1855.6,-64.12 1853.84,-74.56 1860.74,-73.38\" stroke=\"black\"/>\n",
              "</g>\n",
              "<!-- 15 -->\n",
              "<g class=\"node\" id=\"node16\">\n",
              "<title>15</title>\n",
              "<polygon fill=\"#f193b2\" points=\"2236.31,-64 2012.23,-64 2012.23,0 2236.31,0 2236.31,-64\" stroke=\"black\"/>\n",
              "<text font-family=\"Times,serif\" font-size=\"14.00\" text-anchor=\"middle\" x=\"2124.27\" y=\"-48.8\">entropy = 1.498</text>\n",
              "<text font-family=\"Times,serif\" font-size=\"14.00\" text-anchor=\"middle\" x=\"2124.27\" y=\"-34.8\">samples = 665</text>\n",
              "<text font-family=\"Times,serif\" font-size=\"14.00\" text-anchor=\"middle\" x=\"2124.27\" y=\"-20.8\">value = [24, 139, 58, 0, 0, 0, 17, 427]</text>\n",
              "<text font-family=\"Times,serif\" font-size=\"14.00\" text-anchor=\"middle\" x=\"2124.27\" y=\"-6.8\">class = 7</text>\n",
              "</g>\n",
              "<!-- 13&#45;&gt;15 -->\n",
              "<g class=\"edge\" id=\"edge15\">\n",
              "<title>13-&gt;15</title>\n",
              "<path d=\"M1961.05,-99.94C1986.56,-89.48 2014.08,-78.19 2039.13,-67.92\" fill=\"none\" stroke=\"black\"/>\n",
              "<polygon fill=\"black\" points=\"2040.68,-71.07 2048.6,-64.04 2038.02,-64.59 2040.68,-71.07\" stroke=\"black\"/>\n",
              "</g>\n",
              "<!-- 17 -->\n",
              "<g class=\"node\" id=\"node18\">\n",
              "<title>17</title>\n",
              "<polygon fill=\"#fbdde7\" points=\"2880.29,-292 2614.24,-292 2614.24,-214 2880.29,-214 2880.29,-292\" stroke=\"black\"/>\n",
              "<text font-family=\"Times,serif\" font-size=\"14.00\" text-anchor=\"middle\" x=\"2747.27\" y=\"-276.8\">Port Code &lt;= 702.5</text>\n",
              "<text font-family=\"Times,serif\" font-size=\"14.00\" text-anchor=\"middle\" x=\"2747.27\" y=\"-262.8\">entropy = 1.811</text>\n",
              "<text font-family=\"Times,serif\" font-size=\"14.00\" text-anchor=\"middle\" x=\"2747.27\" y=\"-248.8\">samples = 11222</text>\n",
              "<text font-family=\"Times,serif\" font-size=\"14.00\" text-anchor=\"middle\" x=\"2747.27\" y=\"-234.8\">value = [2, 5, 7, 112, 675, 1950, 3586, 4885]</text>\n",
              "<text font-family=\"Times,serif\" font-size=\"14.00\" text-anchor=\"middle\" x=\"2747.27\" y=\"-220.8\">class = 7</text>\n",
              "</g>\n",
              "<!-- 16&#45;&gt;17 -->\n",
              "<g class=\"edge\" id=\"edge17\">\n",
              "<title>16-&gt;17</title>\n",
              "<path d=\"M2747.27,-327.77C2747.27,-319.57 2747.27,-310.8 2747.27,-302.28\" fill=\"none\" stroke=\"black\"/>\n",
              "<polygon fill=\"black\" points=\"2750.77,-302.06 2747.27,-292.06 2743.77,-302.06 2750.77,-302.06\" stroke=\"black\"/>\n",
              "</g>\n",
              "<!-- 24 -->\n",
              "<g class=\"node\" id=\"node25\">\n",
              "<title>24</title>\n",
              "<polygon fill=\"#fdfeff\" points=\"3716.81,-292 3401.73,-292 3401.73,-214 3716.81,-214 3716.81,-292\" stroke=\"black\"/>\n",
              "<text font-family=\"Times,serif\" font-size=\"14.00\" text-anchor=\"middle\" x=\"3559.27\" y=\"-276.8\">Port Code &lt;= 3517.0</text>\n",
              "<text font-family=\"Times,serif\" font-size=\"14.00\" text-anchor=\"middle\" x=\"3559.27\" y=\"-262.8\">entropy = 2.533</text>\n",
              "<text font-family=\"Times,serif\" font-size=\"14.00\" text-anchor=\"middle\" x=\"3559.27\" y=\"-248.8\">samples = 12633</text>\n",
              "<text font-family=\"Times,serif\" font-size=\"14.00\" text-anchor=\"middle\" x=\"3559.27\" y=\"-234.8\">value = [13, 368, 1032, 3062, 3165, 2651, 1675, 667]</text>\n",
              "<text font-family=\"Times,serif\" font-size=\"14.00\" text-anchor=\"middle\" x=\"3559.27\" y=\"-220.8\">class = 4</text>\n",
              "</g>\n",
              "<!-- 16&#45;&gt;24 -->\n",
              "<g class=\"edge\" id=\"edge24\">\n",
              "<title>16-&gt;24</title>\n",
              "<path d=\"M2908.66,-343.74C3048.46,-324.46 3249.93,-296.67 3391.54,-277.13\" fill=\"none\" stroke=\"black\"/>\n",
              "<polygon fill=\"black\" points=\"3392.2,-280.58 3401.63,-275.74 3391.25,-273.64 3392.2,-280.58\" stroke=\"black\"/>\n",
              "</g>\n",
              "<!-- 18 -->\n",
              "<g class=\"node\" id=\"node19\">\n",
              "<title>18</title>\n",
              "<polygon fill=\"#faf9fe\" points=\"2738.31,-178 2486.23,-178 2486.23,-100 2738.31,-100 2738.31,-178\" stroke=\"black\"/>\n",
              "<text font-family=\"Times,serif\" font-size=\"14.00\" text-anchor=\"middle\" x=\"2612.27\" y=\"-162.8\">Port Code &lt;= 211.5</text>\n",
              "<text font-family=\"Times,serif\" font-size=\"14.00\" text-anchor=\"middle\" x=\"2612.27\" y=\"-148.8\">entropy = 1.752</text>\n",
              "<text font-family=\"Times,serif\" font-size=\"14.00\" text-anchor=\"middle\" x=\"2612.27\" y=\"-134.8\">samples = 3805</text>\n",
              "<text font-family=\"Times,serif\" font-size=\"14.00\" text-anchor=\"middle\" x=\"2612.27\" y=\"-120.8\">value = [0, 4, 5, 56, 445, 1584, 1513, 198]</text>\n",
              "<text font-family=\"Times,serif\" font-size=\"14.00\" text-anchor=\"middle\" x=\"2612.27\" y=\"-106.8\">class = 5</text>\n",
              "</g>\n",
              "<!-- 17&#45;&gt;18 -->\n",
              "<g class=\"edge\" id=\"edge18\">\n",
              "<title>17-&gt;18</title>\n",
              "<path d=\"M2701.19,-213.77C2689.89,-204.4 2677.7,-194.29 2666.08,-184.64\" fill=\"none\" stroke=\"black\"/>\n",
              "<polygon fill=\"black\" points=\"2668.07,-181.75 2658.14,-178.06 2663.6,-187.14 2668.07,-181.75\" stroke=\"black\"/>\n",
              "</g>\n",
              "<!-- 21 -->\n",
              "<g class=\"node\" id=\"node22\">\n",
              "<title>21</title>\n",
              "<polygon fill=\"#f29eba\" points=\"3009.31,-178 2757.23,-178 2757.23,-100 3009.31,-100 3009.31,-178\" stroke=\"black\"/>\n",
              "<text font-family=\"Times,serif\" font-size=\"14.00\" text-anchor=\"middle\" x=\"2883.27\" y=\"-162.8\">Port Code &lt;= 2605.0</text>\n",
              "<text font-family=\"Times,serif\" font-size=\"14.00\" text-anchor=\"middle\" x=\"2883.27\" y=\"-148.8\">entropy = 1.363</text>\n",
              "<text font-family=\"Times,serif\" font-size=\"14.00\" text-anchor=\"middle\" x=\"2883.27\" y=\"-134.8\">samples = 7417</text>\n",
              "<text font-family=\"Times,serif\" font-size=\"14.00\" text-anchor=\"middle\" x=\"2883.27\" y=\"-120.8\">value = [2, 1, 2, 56, 230, 366, 2073, 4687]</text>\n",
              "<text font-family=\"Times,serif\" font-size=\"14.00\" text-anchor=\"middle\" x=\"2883.27\" y=\"-106.8\">class = 7</text>\n",
              "</g>\n",
              "<!-- 17&#45;&gt;21 -->\n",
              "<g class=\"edge\" id=\"edge21\">\n",
              "<title>17-&gt;21</title>\n",
              "<path d=\"M2793.69,-213.77C2805.07,-204.4 2817.35,-194.29 2829.06,-184.64\" fill=\"none\" stroke=\"black\"/>\n",
              "<polygon fill=\"black\" points=\"2831.56,-187.12 2837.05,-178.06 2827.11,-181.71 2831.56,-187.12\" stroke=\"black\"/>\n",
              "</g>\n",
              "<!-- 19 -->\n",
              "<g class=\"node\" id=\"node20\">\n",
              "<title>19</title>\n",
              "<polygon fill=\"#ded8fa\" points=\"2506.29,-64 2254.24,-64 2254.24,0 2506.29,0 2506.29,-64\" stroke=\"black\"/>\n",
              "<text font-family=\"Times,serif\" font-size=\"14.00\" text-anchor=\"middle\" x=\"2380.27\" y=\"-48.8\">entropy = 1.773</text>\n",
              "<text font-family=\"Times,serif\" font-size=\"14.00\" text-anchor=\"middle\" x=\"2380.27\" y=\"-34.8\">samples = 3390</text>\n",
              "<text font-family=\"Times,serif\" font-size=\"14.00\" text-anchor=\"middle\" x=\"2380.27\" y=\"-20.8\">value = [0, 4, 5, 56, 445, 1574, 1128, 178]</text>\n",
              "<text font-family=\"Times,serif\" font-size=\"14.00\" text-anchor=\"middle\" x=\"2380.27\" y=\"-6.8\">class = 5</text>\n",
              "</g>\n",
              "<!-- 18&#45;&gt;19 -->\n",
              "<g class=\"edge\" id=\"edge19\">\n",
              "<title>18-&gt;19</title>\n",
              "<path d=\"M2528.18,-99.94C2505.27,-89.58 2480.57,-78.39 2458.02,-68.19\" fill=\"none\" stroke=\"black\"/>\n",
              "<polygon fill=\"black\" points=\"2459.4,-64.97 2448.84,-64.04 2456.51,-71.35 2459.4,-64.97\" stroke=\"black\"/>\n",
              "</g>\n",
              "<!-- 20 -->\n",
              "<g class=\"node\" id=\"node21\">\n",
              "<title>20</title>\n",
              "<polygon fill=\"#da48e7\" points=\"2727.81,-64 2524.73,-64 2524.73,0 2727.81,0 2727.81,-64\" stroke=\"black\"/>\n",
              "<text font-family=\"Times,serif\" font-size=\"14.00\" text-anchor=\"middle\" x=\"2626.27\" y=\"-48.8\">entropy = 0.441</text>\n",
              "<text font-family=\"Times,serif\" font-size=\"14.00\" text-anchor=\"middle\" x=\"2626.27\" y=\"-34.8\">samples = 415</text>\n",
              "<text font-family=\"Times,serif\" font-size=\"14.00\" text-anchor=\"middle\" x=\"2626.27\" y=\"-20.8\">value = [0, 0, 0, 0, 0, 10, 385, 20]</text>\n",
              "<text font-family=\"Times,serif\" font-size=\"14.00\" text-anchor=\"middle\" x=\"2626.27\" y=\"-6.8\">class = 6</text>\n",
              "</g>\n",
              "<!-- 18&#45;&gt;20 -->\n",
              "<g class=\"edge\" id=\"edge20\">\n",
              "<title>18-&gt;20</title>\n",
              "<path d=\"M2617.36,-99.8C2618.47,-91.46 2619.66,-82.6 2620.78,-74.15\" fill=\"none\" stroke=\"black\"/>\n",
              "<polygon fill=\"black\" points=\"2624.27,-74.49 2622.12,-64.12 2617.33,-73.57 2624.27,-74.49\" stroke=\"black\"/>\n",
              "</g>\n",
              "<!-- 22 -->\n",
              "<g class=\"node\" id=\"node23\">\n",
              "<title>22</title>\n",
              "<polygon fill=\"#f29db9\" points=\"2991.81,-64 2746.73,-64 2746.73,0 2991.81,0 2991.81,-64\" stroke=\"black\"/>\n",
              "<text font-family=\"Times,serif\" font-size=\"14.00\" text-anchor=\"middle\" x=\"2869.27\" y=\"-48.8\">entropy = 1.164</text>\n",
              "<text font-family=\"Times,serif\" font-size=\"14.00\" text-anchor=\"middle\" x=\"2869.27\" y=\"-34.8\">samples = 6370</text>\n",
              "<text font-family=\"Times,serif\" font-size=\"14.00\" text-anchor=\"middle\" x=\"2869.27\" y=\"-20.8\">value = [2, 0, 2, 26, 37, 197, 1959, 4147]</text>\n",
              "<text font-family=\"Times,serif\" font-size=\"14.00\" text-anchor=\"middle\" x=\"2869.27\" y=\"-6.8\">class = 7</text>\n",
              "</g>\n",
              "<!-- 21&#45;&gt;22 -->\n",
              "<g class=\"edge\" id=\"edge22\">\n",
              "<title>21-&gt;22</title>\n",
              "<path d=\"M2878.17,-99.8C2877.06,-91.46 2875.88,-82.6 2874.76,-74.15\" fill=\"none\" stroke=\"black\"/>\n",
              "<polygon fill=\"black\" points=\"2878.21,-73.57 2873.42,-64.12 2871.27,-74.49 2878.21,-73.57\" stroke=\"black\"/>\n",
              "</g>\n",
              "<!-- 23 -->\n",
              "<g class=\"node\" id=\"node24\">\n",
              "<title>23</title>\n",
              "<polygon fill=\"#f4afc6\" points=\"3248.29,-64 3010.24,-64 3010.24,0 3248.29,0 3248.29,-64\" stroke=\"black\"/>\n",
              "<text font-family=\"Times,serif\" font-size=\"14.00\" text-anchor=\"middle\" x=\"3129.27\" y=\"-48.8\">entropy = 1.872</text>\n",
              "<text font-family=\"Times,serif\" font-size=\"14.00\" text-anchor=\"middle\" x=\"3129.27\" y=\"-34.8\">samples = 1047</text>\n",
              "<text font-family=\"Times,serif\" font-size=\"14.00\" text-anchor=\"middle\" x=\"3129.27\" y=\"-20.8\">value = [0, 1, 0, 30, 193, 169, 114, 540]</text>\n",
              "<text font-family=\"Times,serif\" font-size=\"14.00\" text-anchor=\"middle\" x=\"3129.27\" y=\"-6.8\">class = 7</text>\n",
              "</g>\n",
              "<!-- 21&#45;&gt;23 -->\n",
              "<g class=\"edge\" id=\"edge23\">\n",
              "<title>21-&gt;23</title>\n",
              "<path d=\"M2972.43,-99.94C2996.83,-89.53 3023.15,-78.29 3047.14,-68.06\" fill=\"none\" stroke=\"black\"/>\n",
              "<polygon fill=\"black\" points=\"3048.73,-71.18 3056.56,-64.04 3045.99,-64.74 3048.73,-71.18\" stroke=\"black\"/>\n",
              "</g>\n",
              "<!-- 25 -->\n",
              "<g class=\"node\" id=\"node26\">\n",
              "<title>25</title>\n",
              "<polygon fill=\"#fdfeff\" points=\"3713.29,-178 3405.24,-178 3405.24,-100 3713.29,-100 3713.29,-178\" stroke=\"black\"/>\n",
              "<text font-family=\"Times,serif\" font-size=\"14.00\" text-anchor=\"middle\" x=\"3559.27\" y=\"-162.8\">Port Code &lt;= 3403.5</text>\n",
              "<text font-family=\"Times,serif\" font-size=\"14.00\" text-anchor=\"middle\" x=\"3559.27\" y=\"-148.8\">entropy = 2.376</text>\n",
              "<text font-family=\"Times,serif\" font-size=\"14.00\" text-anchor=\"middle\" x=\"3559.27\" y=\"-134.8\">samples = 11493</text>\n",
              "<text font-family=\"Times,serif\" font-size=\"14.00\" text-anchor=\"middle\" x=\"3559.27\" y=\"-120.8\">value = [13, 368, 1032, 3061, 3165, 2587, 1186, 81]</text>\n",
              "<text font-family=\"Times,serif\" font-size=\"14.00\" text-anchor=\"middle\" x=\"3559.27\" y=\"-106.8\">class = 4</text>\n",
              "</g>\n",
              "<!-- 24&#45;&gt;25 -->\n",
              "<g class=\"edge\" id=\"edge25\">\n",
              "<title>24-&gt;25</title>\n",
              "<path d=\"M3559.27,-213.77C3559.27,-205.57 3559.27,-196.8 3559.27,-188.28\" fill=\"none\" stroke=\"black\"/>\n",
              "<polygon fill=\"black\" points=\"3562.77,-188.06 3559.27,-178.06 3555.77,-188.06 3562.77,-188.06\" stroke=\"black\"/>\n",
              "</g>\n",
              "<!-- 28 -->\n",
              "<g class=\"node\" id=\"node29\">\n",
              "<title>28</title>\n",
              "<polygon fill=\"#fbe1ea\" points=\"4083.31,-178 3873.23,-178 3873.23,-100 4083.31,-100 4083.31,-178\" stroke=\"black\"/>\n",
              "<text font-family=\"Times,serif\" font-size=\"14.00\" text-anchor=\"middle\" x=\"3978.27\" y=\"-162.8\">Michigan &lt;= 0.5</text>\n",
              "<text font-family=\"Times,serif\" font-size=\"14.00\" text-anchor=\"middle\" x=\"3978.27\" y=\"-148.8\">entropy = 1.259</text>\n",
              "<text font-family=\"Times,serif\" font-size=\"14.00\" text-anchor=\"middle\" x=\"3978.27\" y=\"-134.8\">samples = 1140</text>\n",
              "<text font-family=\"Times,serif\" font-size=\"14.00\" text-anchor=\"middle\" x=\"3978.27\" y=\"-120.8\">value = [0, 0, 0, 1, 0, 64, 489, 586]</text>\n",
              "<text font-family=\"Times,serif\" font-size=\"14.00\" text-anchor=\"middle\" x=\"3978.27\" y=\"-106.8\">class = 7</text>\n",
              "</g>\n",
              "<!-- 24&#45;&gt;28 -->\n",
              "<g class=\"edge\" id=\"edge28\">\n",
              "<title>24-&gt;28</title>\n",
              "<path d=\"M3701.71,-213.93C3754.31,-199.87 3813.22,-184.12 3863.1,-170.78\" fill=\"none\" stroke=\"black\"/>\n",
              "<polygon fill=\"black\" points=\"3864.2,-174.11 3872.96,-168.15 3862.39,-167.35 3864.2,-174.11\" stroke=\"black\"/>\n",
              "</g>\n",
              "<!-- 26 -->\n",
              "<g class=\"node\" id=\"node27\">\n",
              "<title>26</title>\n",
              "<polygon fill=\"#f6f5fe\" points=\"3567.81,-64 3266.73,-64 3266.73,0 3567.81,0 3567.81,-64\" stroke=\"black\"/>\n",
              "<text font-family=\"Times,serif\" font-size=\"14.00\" text-anchor=\"middle\" x=\"3417.27\" y=\"-48.8\">entropy = 2.473</text>\n",
              "<text font-family=\"Times,serif\" font-size=\"14.00\" text-anchor=\"middle\" x=\"3417.27\" y=\"-34.8\">samples = 6813</text>\n",
              "<text font-family=\"Times,serif\" font-size=\"14.00\" text-anchor=\"middle\" x=\"3417.27\" y=\"-20.8\">value = [13, 253, 648, 1421, 1536, 1810, 1051, 81]</text>\n",
              "<text font-family=\"Times,serif\" font-size=\"14.00\" text-anchor=\"middle\" x=\"3417.27\" y=\"-6.8\">class = 5</text>\n",
              "</g>\n",
              "<!-- 25&#45;&gt;26 -->\n",
              "<g class=\"edge\" id=\"edge26\">\n",
              "<title>25-&gt;26</title>\n",
              "<path d=\"M3507.6,-99.8C3494.59,-90.18 3480.64,-79.86 3467.7,-70.29\" fill=\"none\" stroke=\"black\"/>\n",
              "<polygon fill=\"black\" points=\"3469.47,-67.25 3459.35,-64.12 3465.31,-72.88 3469.47,-67.25\" stroke=\"black\"/>\n",
              "</g>\n",
              "<!-- 27 -->\n",
              "<g class=\"node\" id=\"node28\">\n",
              "<title>27</title>\n",
              "<polygon fill=\"#feffff\" points=\"3858.79,-64 3585.74,-64 3585.74,0 3858.79,0 3858.79,-64\" stroke=\"black\"/>\n",
              "<text font-family=\"Times,serif\" font-size=\"14.00\" text-anchor=\"middle\" x=\"3722.27\" y=\"-48.8\">entropy = 2.065</text>\n",
              "<text font-family=\"Times,serif\" font-size=\"14.00\" text-anchor=\"middle\" x=\"3722.27\" y=\"-34.8\">samples = 4680</text>\n",
              "<text font-family=\"Times,serif\" font-size=\"14.00\" text-anchor=\"middle\" x=\"3722.27\" y=\"-20.8\">value = [0, 115, 384, 1640, 1629, 777, 135, 0]</text>\n",
              "<text font-family=\"Times,serif\" font-size=\"14.00\" text-anchor=\"middle\" x=\"3722.27\" y=\"-6.8\">class = 3</text>\n",
              "</g>\n",
              "<!-- 25&#45;&gt;27 -->\n",
              "<g class=\"edge\" id=\"edge27\">\n",
              "<title>25-&gt;27</title>\n",
              "<path d=\"M3618.58,-99.8C3633.79,-89.99 3650.13,-79.47 3665.23,-69.74\" fill=\"none\" stroke=\"black\"/>\n",
              "<polygon fill=\"black\" points=\"3667.45,-72.47 3673.96,-64.12 3663.66,-66.59 3667.45,-72.47\" stroke=\"black\"/>\n",
              "</g>\n",
              "<!-- 29 -->\n",
              "<g class=\"node\" id=\"node30\">\n",
              "<title>29</title>\n",
              "<polygon fill=\"#df61ea\" points=\"4079.81,-64 3876.73,-64 3876.73,0 4079.81,0 4079.81,-64\" stroke=\"black\"/>\n",
              "<text font-family=\"Times,serif\" font-size=\"14.00\" text-anchor=\"middle\" x=\"3978.27\" y=\"-48.8\">entropy = 0.808</text>\n",
              "<text font-family=\"Times,serif\" font-size=\"14.00\" text-anchor=\"middle\" x=\"3978.27\" y=\"-34.8\">samples = 456</text>\n",
              "<text font-family=\"Times,serif\" font-size=\"14.00\" text-anchor=\"middle\" x=\"3978.27\" y=\"-20.8\">value = [0, 0, 0, 1, 0, 64, 376, 15]</text>\n",
              "<text font-family=\"Times,serif\" font-size=\"14.00\" text-anchor=\"middle\" x=\"3978.27\" y=\"-6.8\">class = 6</text>\n",
              "</g>\n",
              "<!-- 28&#45;&gt;29 -->\n",
              "<g class=\"edge\" id=\"edge29\">\n",
              "<title>28-&gt;29</title>\n",
              "<path d=\"M3978.27,-99.8C3978.27,-91.46 3978.27,-82.6 3978.27,-74.15\" fill=\"none\" stroke=\"black\"/>\n",
              "<polygon fill=\"black\" points=\"3981.77,-74.12 3978.27,-64.12 3974.77,-74.12 3981.77,-74.12\" stroke=\"black\"/>\n",
              "</g>\n",
              "<!-- 30 -->\n",
              "<g class=\"node\" id=\"node31\">\n",
              "<title>30</title>\n",
              "<polygon fill=\"#ea608e\" points=\"4300.79,-64 4097.74,-64 4097.74,0 4300.79,0 4300.79,-64\" stroke=\"black\"/>\n",
              "<text font-family=\"Times,serif\" font-size=\"14.00\" text-anchor=\"middle\" x=\"4199.27\" y=\"-48.8\">entropy = 0.647</text>\n",
              "<text font-family=\"Times,serif\" font-size=\"14.00\" text-anchor=\"middle\" x=\"4199.27\" y=\"-34.8\">samples = 684</text>\n",
              "<text font-family=\"Times,serif\" font-size=\"14.00\" text-anchor=\"middle\" x=\"4199.27\" y=\"-20.8\">value = [0, 0, 0, 0, 0, 0, 113, 571]</text>\n",
              "<text font-family=\"Times,serif\" font-size=\"14.00\" text-anchor=\"middle\" x=\"4199.27\" y=\"-6.8\">class = 7</text>\n",
              "</g>\n",
              "<!-- 28&#45;&gt;30 -->\n",
              "<g class=\"edge\" id=\"edge30\">\n",
              "<title>28-&gt;30</title>\n",
              "<path d=\"M4058.37,-99.94C4080.09,-89.62 4103.52,-78.49 4124.91,-68.33\" fill=\"none\" stroke=\"black\"/>\n",
              "<polygon fill=\"black\" points=\"4126.42,-71.49 4133.95,-64.04 4123.41,-65.17 4126.42,-71.49\" stroke=\"black\"/>\n",
              "</g>\n",
              "</g>\n",
              "</svg>"
            ]
          },
          "metadata": {}
        }
      ],
      "execution_count": 293,
      "metadata": {
        "inputHidden": false,
        "outputHidden": false
      }
    },
    {
      "cell_type": "code",
      "source": [
        "import matplotlib.pyplot as plt\n",
        "import seaborn as sns\n",
        "%matplotlib inline\n",
        "# Creating a bar plot\n",
        "sns.barplot(x=X_train.columns, y=clf.feature_importances_)\n",
        "# Add labels to your graph\n",
        "plt.xlabel('Feature Importance Score')\n",
        "plt.ylabel('Features')\n",
        "plt.title(\"Visualizing Important Features\")\n",
        "plt.legend()\n",
        "plt.xticks(rotation=90)\n",
        "plt.show()\n",
        "\n",
        "\n"
      ],
      "outputs": [
        {
          "output_type": "stream",
          "name": "stderr",
          "text": [
            "No handles with labels found to put in legend.\n"
          ]
        },
        {
          "output_type": "display_data",
          "data": {
            "text/plain": [
              "<Figure size 432x288 with 1 Axes>"
            ],
            "image/png": "[encoded data removed]"
          },
          "metadata": {
            "needs_background": "light"
          }
        }
      ],
      "execution_count": 294,
      "metadata": {
        "collapsed": false,
        "outputHidden": false,
        "inputHidden": false
      }
    },
    {
      "cell_type": "code",
      "source": [
        "# AVANT!\n",
        "# NOT RELEVANT\n",
        "#[('Port Code', 0.8211952279698288),\n",
        "#('Canada Border', 0.08627330116334954),\n",
        "#('Year', 0.0731548912786358),\n",
        "#('Month', 0.019376579588185828),\n",
        "#('Mexico Border', 0.0)]"
      ],
      "outputs": [],
      "execution_count": 295,
      "metadata": {
        "collapsed": false,
        "outputHidden": false,
        "inputHidden": false
      }
    },
    {
      "cell_type": "code",
      "source": [],
      "outputs": [],
      "execution_count": null,
      "metadata": {
        "collapsed": false,
        "outputHidden": false,
        "inputHidden": false
      }
    }
  ],
  "metadata": {
    "kernel_info": {
      "name": "python3"
    },
    "kernelspec": {
      "name": "python3",
      "language": "python",
      "display_name": "Python 3"
    },
    "language_info": {
      "name": "python",
      "version": "3.7.3",
      "mimetype": "text/x-python",
      "codemirror_mode": {
        "name": "ipython",
        "version": 3
      },
      "pygments_lexer": "ipython3",
      "nbconvert_exporter": "python",
      "file_extension": ".py"
    },
    "nteract": {
      "version": "0.15.0"
    }
  },
  "nbformat": 4,
  "nbformat_minor": 1
}