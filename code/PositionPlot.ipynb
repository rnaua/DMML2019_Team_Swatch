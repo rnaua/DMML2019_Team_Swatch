{
 "cells": [
  {
   "cell_type": "code",
   "execution_count": 10,
   "metadata": {},
   "outputs": [],
   "source": [
    "import pandas as pd\n",
    "import matplotlib.pyplot as plt\n",
    "import datetime as dt \n",
    "from sklearn.linear_model import LinearRegression"
   ]
  },
  {
   "cell_type": "code",
   "execution_count": 15,
   "metadata": {
    "scrolled": true
   },
   "outputs": [
    {
     "data": {
      "text/html": [
       "<div>\n",
       "<style scoped>\n",
       "    .dataframe tbody tr th:only-of-type {\n",
       "        vertical-align: middle;\n",
       "    }\n",
       "\n",
       "    .dataframe tbody tr th {\n",
       "        vertical-align: top;\n",
       "    }\n",
       "\n",
       "    .dataframe thead th {\n",
       "        text-align: right;\n",
       "    }\n",
       "</style>\n",
       "<table border=\"1\" class=\"dataframe\">\n",
       "  <thead>\n",
       "    <tr style=\"text-align: right;\">\n",
       "      <th></th>\n",
       "      <th>Port Name</th>\n",
       "      <th>State</th>\n",
       "      <th>Port Code</th>\n",
       "      <th>Border</th>\n",
       "      <th>Date</th>\n",
       "      <th>Measure</th>\n",
       "      <th>Value</th>\n",
       "      <th>Year</th>\n",
       "      <th>Month</th>\n",
       "      <th>position</th>\n",
       "    </tr>\n",
       "  </thead>\n",
       "  <tbody>\n",
       "    <tr>\n",
       "      <th>0</th>\n",
       "      <td>Warroad</td>\n",
       "      <td>Minnesota</td>\n",
       "      <td>3423</td>\n",
       "      <td>US-Canada Border</td>\n",
       "      <td>2019-06-01</td>\n",
       "      <td>Truck Containers Full</td>\n",
       "      <td>133</td>\n",
       "      <td>2019</td>\n",
       "      <td>6</td>\n",
       "      <td>(48.905266, -95.314404)</td>\n",
       "    </tr>\n",
       "    <tr>\n",
       "      <th>1</th>\n",
       "      <td>Warroad</td>\n",
       "      <td>Minnesota</td>\n",
       "      <td>3423</td>\n",
       "      <td>US-Canada Border</td>\n",
       "      <td>2019-06-01</td>\n",
       "      <td>Truck Containers Empty</td>\n",
       "      <td>298</td>\n",
       "      <td>2019</td>\n",
       "      <td>6</td>\n",
       "      <td>(48.905266, -95.314404)</td>\n",
       "    </tr>\n",
       "    <tr>\n",
       "      <th>2</th>\n",
       "      <td>Warroad</td>\n",
       "      <td>Minnesota</td>\n",
       "      <td>3423</td>\n",
       "      <td>US-Canada Border</td>\n",
       "      <td>2019-06-01</td>\n",
       "      <td>Personal Vehicles</td>\n",
       "      <td>10383</td>\n",
       "      <td>2019</td>\n",
       "      <td>6</td>\n",
       "      <td>(48.905266, -95.314404)</td>\n",
       "    </tr>\n",
       "    <tr>\n",
       "      <th>3</th>\n",
       "      <td>Warroad</td>\n",
       "      <td>Minnesota</td>\n",
       "      <td>3423</td>\n",
       "      <td>US-Canada Border</td>\n",
       "      <td>2019-06-01</td>\n",
       "      <td>Personal Vehicle Passengers</td>\n",
       "      <td>19459</td>\n",
       "      <td>2019</td>\n",
       "      <td>6</td>\n",
       "      <td>(48.905266, -95.314404)</td>\n",
       "    </tr>\n",
       "    <tr>\n",
       "      <th>4</th>\n",
       "      <td>Warroad</td>\n",
       "      <td>Minnesota</td>\n",
       "      <td>3423</td>\n",
       "      <td>US-Canada Border</td>\n",
       "      <td>2019-06-01</td>\n",
       "      <td>Pedestrians</td>\n",
       "      <td>2</td>\n",
       "      <td>2019</td>\n",
       "      <td>6</td>\n",
       "      <td>(48.905266, -95.314404)</td>\n",
       "    </tr>\n",
       "  </tbody>\n",
       "</table>\n",
       "</div>"
      ],
      "text/plain": [
       "  Port Name      State  Port Code            Border        Date  \\\n",
       "0   Warroad  Minnesota       3423  US-Canada Border  2019-06-01   \n",
       "1   Warroad  Minnesota       3423  US-Canada Border  2019-06-01   \n",
       "2   Warroad  Minnesota       3423  US-Canada Border  2019-06-01   \n",
       "3   Warroad  Minnesota       3423  US-Canada Border  2019-06-01   \n",
       "4   Warroad  Minnesota       3423  US-Canada Border  2019-06-01   \n",
       "\n",
       "                       Measure  Value  Year  Month                 position  \n",
       "0        Truck Containers Full    133  2019      6  (48.905266, -95.314404)  \n",
       "1       Truck Containers Empty    298  2019      6  (48.905266, -95.314404)  \n",
       "2            Personal Vehicles  10383  2019      6  (48.905266, -95.314404)  \n",
       "3  Personal Vehicle Passengers  19459  2019      6  (48.905266, -95.314404)  \n",
       "4                  Pedestrians      2  2019      6  (48.905266, -95.314404)  "
      ]
     },
     "execution_count": 15,
     "metadata": {},
     "output_type": "execute_result"
    }
   ],
   "source": [
    "data = pd.read_csv(\"../data/DataWithLocationCleaned.csv.gz\")\n",
    "data.head()"
   ]
  },
  {
   "cell_type": "code",
   "execution_count": 16,
   "metadata": {},
   "outputs": [
    {
     "data": {
      "text/html": [
       "<div>\n",
       "<style scoped>\n",
       "    .dataframe tbody tr th:only-of-type {\n",
       "        vertical-align: middle;\n",
       "    }\n",
       "\n",
       "    .dataframe tbody tr th {\n",
       "        vertical-align: top;\n",
       "    }\n",
       "\n",
       "    .dataframe thead th {\n",
       "        text-align: right;\n",
       "    }\n",
       "</style>\n",
       "<table border=\"1\" class=\"dataframe\">\n",
       "  <thead>\n",
       "    <tr style=\"text-align: right;\">\n",
       "      <th></th>\n",
       "      <th>Port Name</th>\n",
       "      <th>State</th>\n",
       "      <th>Port Code</th>\n",
       "      <th>Border</th>\n",
       "      <th>Date</th>\n",
       "      <th>Measure</th>\n",
       "      <th>Value</th>\n",
       "      <th>Year</th>\n",
       "      <th>Month</th>\n",
       "      <th>position</th>\n",
       "    </tr>\n",
       "  </thead>\n",
       "  <tbody>\n",
       "    <tr>\n",
       "      <th>0</th>\n",
       "      <td>Warroad</td>\n",
       "      <td>Minnesota</td>\n",
       "      <td>3423</td>\n",
       "      <td>US-Canada Border</td>\n",
       "      <td>2019-06-01</td>\n",
       "      <td>Personal Vehicle Passengers</td>\n",
       "      <td>19459</td>\n",
       "      <td>2019</td>\n",
       "      <td>6</td>\n",
       "      <td>(48.905266, -95.314404)</td>\n",
       "    </tr>\n",
       "    <tr>\n",
       "      <th>1</th>\n",
       "      <td>Warroad</td>\n",
       "      <td>Minnesota</td>\n",
       "      <td>3423</td>\n",
       "      <td>US-Canada Border</td>\n",
       "      <td>2019-06-01</td>\n",
       "      <td>Pedestrians</td>\n",
       "      <td>2</td>\n",
       "      <td>2019</td>\n",
       "      <td>6</td>\n",
       "      <td>(48.905266, -95.314404)</td>\n",
       "    </tr>\n",
       "    <tr>\n",
       "      <th>2</th>\n",
       "      <td>Warroad</td>\n",
       "      <td>Minnesota</td>\n",
       "      <td>3423</td>\n",
       "      <td>US-Canada Border</td>\n",
       "      <td>2019-06-01</td>\n",
       "      <td>Bus Passengers</td>\n",
       "      <td>63</td>\n",
       "      <td>2019</td>\n",
       "      <td>6</td>\n",
       "      <td>(48.905266, -95.314404)</td>\n",
       "    </tr>\n",
       "    <tr>\n",
       "      <th>3</th>\n",
       "      <td>Roseau</td>\n",
       "      <td>Minnesota</td>\n",
       "      <td>3426</td>\n",
       "      <td>US-Canada Border</td>\n",
       "      <td>2019-06-01</td>\n",
       "      <td>Personal Vehicle Passengers</td>\n",
       "      <td>7385</td>\n",
       "      <td>2019</td>\n",
       "      <td>6</td>\n",
       "      <td>(48.7710371, -95.7697882)</td>\n",
       "    </tr>\n",
       "    <tr>\n",
       "      <th>4</th>\n",
       "      <td>Roseau</td>\n",
       "      <td>Minnesota</td>\n",
       "      <td>3426</td>\n",
       "      <td>US-Canada Border</td>\n",
       "      <td>2019-06-01</td>\n",
       "      <td>Bus Passengers</td>\n",
       "      <td>118</td>\n",
       "      <td>2019</td>\n",
       "      <td>6</td>\n",
       "      <td>(48.7710371, -95.7697882)</td>\n",
       "    </tr>\n",
       "  </tbody>\n",
       "</table>\n",
       "</div>"
      ],
      "text/plain": [
       "  Port Name      State  Port Code            Border        Date  \\\n",
       "0   Warroad  Minnesota       3423  US-Canada Border  2019-06-01   \n",
       "1   Warroad  Minnesota       3423  US-Canada Border  2019-06-01   \n",
       "2   Warroad  Minnesota       3423  US-Canada Border  2019-06-01   \n",
       "3    Roseau  Minnesota       3426  US-Canada Border  2019-06-01   \n",
       "4    Roseau  Minnesota       3426  US-Canada Border  2019-06-01   \n",
       "\n",
       "                       Measure  Value  Year  Month                   position  \n",
       "0  Personal Vehicle Passengers  19459  2019      6    (48.905266, -95.314404)  \n",
       "1                  Pedestrians      2  2019      6    (48.905266, -95.314404)  \n",
       "2               Bus Passengers     63  2019      6    (48.905266, -95.314404)  \n",
       "3  Personal Vehicle Passengers   7385  2019      6  (48.7710371, -95.7697882)  \n",
       "4               Bus Passengers    118  2019      6  (48.7710371, -95.7697882)  "
      ]
     },
     "execution_count": 16,
     "metadata": {},
     "output_type": "execute_result"
    }
   ],
   "source": [
    "persons = data[data['Measure'].isin(['Bus Passengers','Pedestrians','Personal Vehicle Passengers','Train Passengers'])].reset_index().drop(columns=['index'])\n",
    "persons.head()"
   ]
  },
  {
   "cell_type": "code",
   "execution_count": 17,
   "metadata": {},
   "outputs": [
    {
     "data": {
      "text/html": [
       "<div>\n",
       "<style scoped>\n",
       "    .dataframe tbody tr th:only-of-type {\n",
       "        vertical-align: middle;\n",
       "    }\n",
       "\n",
       "    .dataframe tbody tr th {\n",
       "        vertical-align: top;\n",
       "    }\n",
       "\n",
       "    .dataframe thead th {\n",
       "        text-align: right;\n",
       "    }\n",
       "</style>\n",
       "<table border=\"1\" class=\"dataframe\">\n",
       "  <thead>\n",
       "    <tr style=\"text-align: right;\">\n",
       "      <th></th>\n",
       "      <th>position</th>\n",
       "      <th>Value</th>\n",
       "    </tr>\n",
       "  </thead>\n",
       "  <tbody>\n",
       "    <tr>\n",
       "      <th>0</th>\n",
       "      <td>('44.911752', '-66.985965')</td>\n",
       "      <td>4179922</td>\n",
       "    </tr>\n",
       "    <tr>\n",
       "      <th>1</th>\n",
       "      <td>('48.999904', '-116.180196')</td>\n",
       "      <td>5224679</td>\n",
       "    </tr>\n",
       "    <tr>\n",
       "      <th>2</th>\n",
       "      <td>(25.9140256, -97.4890856)</td>\n",
       "      <td>369145766</td>\n",
       "    </tr>\n",
       "    <tr>\n",
       "      <th>3</th>\n",
       "      <td>(26.0922991, -97.9572242)</td>\n",
       "      <td>85353154</td>\n",
       "    </tr>\n",
       "    <tr>\n",
       "      <th>4</th>\n",
       "      <td>(26.3530256, -98.216445)</td>\n",
       "      <td>406092835</td>\n",
       "    </tr>\n",
       "  </tbody>\n",
       "</table>\n",
       "</div>"
      ],
      "text/plain": [
       "                       position      Value\n",
       "0   ('44.911752', '-66.985965')    4179922\n",
       "1  ('48.999904', '-116.180196')    5224679\n",
       "2     (25.9140256, -97.4890856)  369145766\n",
       "3     (26.0922991, -97.9572242)   85353154\n",
       "4      (26.3530256, -98.216445)  406092835"
      ]
     },
     "execution_count": 17,
     "metadata": {},
     "output_type": "execute_result"
    }
   ],
   "source": [
    "persons_location = persons[['position','Value']].groupby('position').sum().reset_index()\n",
    "persons_location.head()"
   ]
  },
  {
   "cell_type": "code",
   "execution_count": 18,
   "metadata": {
    "scrolled": true
   },
   "outputs": [
    {
     "data": {
      "application/vnd.plotly.v1+json": {
       "config": {
        "plotlyServerURL": "https://plot.ly"
       },
       "data": [
        {
         "lat": [
          "44.911752",
          "48.999904",
          "25.9140256",
          "26.0922991",
          "26.3530256",
          "26.3827771",
          "26.4070669",
          "27.5199841",
          "28.7091433",
          "29.1921092",
          "29.3627296",
          "29.9883766",
          "31.3402134",
          "31.342529",
          "31.46223",
          "31.471341",
          "31.4887016",
          "31.7600372",
          "31.8303365",
          "31.8559384",
          "31.8819798",
          "32.4934395",
          "32.54831535",
          "32.5520013",
          "32.560058",
          "32.5833711",
          "32.6753413",
          "32.6790572",
          "32.7248173",
          "35.9128415",
          "42.3315509",
          "42.9815877",
          "43.0761171",
          "43.6610277",
          "44.125494",
          "44.336127",
          "44.3864565",
          "44.694285",
          "44.881314",
          "44.928106",
          "44.979486",
          "44.982541",
          "44.9953505",
          "45.00042985",
          "45.008759",
          "45.0094923",
          "45.189032",
          "45.5634002",
          "45.6239358",
          "46.1251286",
          "46.427919",
          "46.490586",
          "46.7698261",
          "46.9034922",
          "46.908998",
          "47.0070211",
          "47.157506",
          "47.258728",
          "47.355571",
          "47.963776",
          "48.118146",
          "48.4346971",
          "48.4736934",
          "48.5020123",
          "48.5342662",
          "48.7124408",
          "48.7530787",
          "48.7710371",
          "48.792086",
          "48.813057",
          "48.8456288",
          "48.857088",
          "48.8582488",
          "48.8636212",
          "48.8764172",
          "48.888919",
          "48.8908464",
          "48.8956798",
          "48.905266",
          "48.9083386",
          "48.909464",
          "48.9107543",
          "48.923328",
          "48.9376147",
          "48.9444517",
          "48.94584",
          "48.9466041",
          "48.9521858",
          "48.9539222",
          "48.9600187",
          "48.9670097",
          "48.9708532",
          "48.9716708",
          "48.9779945",
          "48.9831558",
          "48.9853824",
          "48.9861027",
          "48.9881108",
          "48.9923978",
          "48.9933527",
          "48.9950874",
          "48.9958637",
          "48.9970672",
          "48.9975828",
          "48.9982855",
          "48.998612",
          "48.9987931",
          "48.998839",
          "48.9991329",
          "48.9996344",
          "55.3430696",
          "59.6226362",
          "62.66607",
          "nternational Falls",
          "leasant Camp"
         ],
         "locationmode": "USA-states",
         "lon": [
          "-66.985965",
          "-116.180196",
          "-97.4890856",
          "-97.9572242",
          "-98.216445",
          "-98.8205251",
          "-99.0055462",
          "-99.4953764",
          "-100.4995214",
          "-102.9485706",
          "-100.896761",
          "-104.2336552",
          "-110.9360818",
          "-109.936355674705",
          "-109.59394273101",
          "-106.151947",
          "-111.5420505",
          "-106.487287",
          "-107.6385256",
          "-106.6391577",
          "-112.8153361",
          "-114.7737551",
          "-116.974398450271",
          "-117.0430813",
          "-116.9361338",
          "-116.6285217",
          "-115.3887997",
          "-115.498703",
          "-114.7248614",
          "-96.8039141",
          "-83.0466403",
          "-82.440466",
          "-78.9928794",
          "-70.2548596",
          "-76.3304640631677",
          "-75.917931",
          "-68.2118570811003",
          "-75.486374",
          "-74.2656165",
          "-74.892082",
          "-73.1054065",
          "-73.377564",
          "-72.6731285931857",
          "-72.1064356198873",
          "-71.5067925",
          "-71.7961053",
          "-67.2781424",
          "-67.429721",
          "-70.2545117",
          "-67.8407944",
          "-67.844009",
          "-84.359269",
          "-67.8345688",
          "-96.7971257256983",
          "-67.826157",
          "-112.4546302",
          "-67.935333",
          "-68.589706",
          "-68.321915",
          "-89.6848121",
          "-123.4307413",
          "-112.6945072",
          "-118.4834362",
          "-122.6237356",
          "-123.0171242",
          "-94.600171",
          "-97.5532833",
          "-95.7697882",
          "-105.419948",
          "-100.060968",
          "-108.4048141",
          "-106.407904",
          "-96.8045602",
          "-117.3718881",
          "-104.5802366",
          "-103.008794",
          "-100.5445928",
          "-105.163013",
          "-95.314404",
          "-111.2530312",
          "-101.020712",
          "-103.7752713",
          "-97.918148",
          "-119.4361687",
          "-99.7109743",
          "-98.995961",
          "-122.4569315",
          "-99.3807545",
          "-103.4826921",
          "-101.632661",
          "-119.6407335",
          "-101.2823803",
          "-98.6917884",
          "-95.9428151",
          "-117.6371945",
          "-123.077974",
          "-97.5548",
          "-122.7435757",
          "-118.5080824",
          "-107.8323167",
          "-122.269080593315",
          "-102.5496127",
          "-111.9625745",
          "-112.788762",
          "-116.4979886",
          "-98.3648321",
          "-118.2241779",
          "-97.204893",
          "-115.0565577",
          "-117.8310975",
          "-131.6466819",
          "-135.4094368",
          "-141.141890269798",
          "Koochiching County, Minnesota, United State",
          "Skagway, Unorganized Borough, Alaska, United State"
         ],
         "marker": {
          "color": "crimson",
          "line": {
           "color": "rgb(23,203,40)",
           "width": 0.5
          },
          "size": [
           8.359844,
           10.449358,
           738.291532,
           170.706308,
           812.18567,
           80.42433,
           136.796068,
           870.23939,
           357.07261,
           0.11188,
           187.473706,
           78.983142,
           615.779562,
           41.404294,
           236.997368,
           57.79658,
           3.262672,
           1626.810752,
           50.684586,
           42.17857,
           51.695134,
           390.975136,
           4.689396,
           1641.507174,
           586.626348,
           126.760944,
           295.793376,
           802.927222,
           120.74263,
           1.033048,
           552.920844,
           198.815428,
           706.920938,
           1.580476,
           0.459208,
           75.216032,
           0.37968,
           30.242434,
           16.848452,
           98.105344,
           50.5235,
           142.093434,
           11.16497,
           62.41633,
           6.994516,
           6.210878,
           97.556548,
           4.272158,
           16.741054,
           33.213508,
           7.000202,
           111.341924,
           15.20834,
           1.876676,
           3.68212,
           0.191742,
           22.277134,
           19.342898,
           48.343494,
           26.089162,
           4.24013,
           14.843998,
           0.945016,
           2.339466,
           0.26535,
           18.091218,
           33.806294,
           3.781128,
           0.535982,
           7.087368,
           0.774324,
           0.396062,
           2.867422,
           2.984852,
           3.120566,
           2.815836,
           1.269254,
           0.212604,
           12.687522,
           0.074938,
           1.087006,
           1.196736,
           3.517938,
           23.869818,
           2.188794,
           0.552006,
           60.8169,
           1.099146,
           0.278092,
           1.623308,
           0.709416,
           1.038846,
           0.375318,
           0.542302,
           4.137794,
           75.762716,
           4.04542,
           367.894092,
           4.635972,
           0.633984,
           86.338434,
           10.223978,
           27.887546,
           2.518648,
           11.863708,
           1.278936,
           4.801696,
           1.839198,
           13.018704,
           4.234568,
           0.234996,
           14.082432,
           5.635924,
           49.121096,
           1.884704
          ],
          "sizemode": "area"
         },
         "text": [
          "Eastport_MA<br>Crossings: 4.179922 million",
          "Eastport_ID<br>Crossings: 5.224679 million",
          "Brownsville<br>Crossings: 369.145766 million",
          "Progreso<br>Crossings: 85.353154 million",
          "Hidalgo<br>Crossings: 406.092835 million",
          "Rio Grande City<br>Crossings: 40.212165 million",
          "Roma<br>Crossings: 68.398034 million",
          "Laredo<br>Crossings: 435.119695 million",
          "Eagle Pass<br>Crossings: 178.536305 million",
          "Boquillas<br>Crossings: 0.05594 million",
          "Del Rio<br>Crossings: 93.736853 million",
          "Presidio<br>Crossings: 39.491571 million",
          "Nogales<br>Crossings: 307.889781 million",
          "Naco<br>Crossings: 20.702147 million",
          "Douglas<br>Crossings: 118.498684 million",
          "Tornillo-Fabens<br>Crossings: 28.89829 million",
          "Sasabe<br>Crossings: 1.631336 million",
          "El Paso<br>Crossings: 813.405376 million",
          "Columbus<br>Crossings: 25.342293 million",
          "Santa Teresa<br>Crossings: 21.089285 million",
          "Lukeville<br>Crossings: 25.847567 million",
          "San Luis<br>Crossings: 195.487568 million",
          "Cross Border Xpress<br>Crossings: 2.344698 million",
          "San Ysidro<br>Crossings: 820.753587 million",
          "Otay Mesa<br>Crossings: 293.313174 million",
          "Tecate<br>Crossings: 63.380472 million",
          "Calexico East<br>Crossings: 147.896688 million",
          "Calexico<br>Crossings: 401.463611 million",
          "Andrade<br>Crossings: 60.371315 million",
          "Wildhorse<br>Crossings: 0.516524 million",
          "Detroit<br>Crossings: 276.460422 million",
          "Port Huron<br>Crossings: 99.407714 million",
          "Buffalo-Niagara Falls<br>Crossings: 353.460469 million",
          "Portland<br>Crossings: 0.790238 million",
          "Cape Vincent<br>Crossings: 0.229604 million",
          "Alexandria Bay<br>Crossings: 37.608016 million",
          "Bar Harbor<br>Crossings: 0.18984 million",
          "Ogdensburg<br>Crossings: 15.121217 million",
          "Trout River<br>Crossings: 8.424226 million",
          "Massena<br>Crossings: 49.052672 million",
          "Highgate Springs-Alburg<br>Crossings: 25.26175 million",
          "Champlain-Rouses Point<br>Crossings: 71.046717 million",
          "Richford<br>Crossings: 5.582485 million",
          "Derby Line<br>Crossings: 31.208165 million",
          "Beecher Falls<br>Crossings: 3.497258 million",
          "Norton<br>Crossings: 3.105439 million",
          "Calais<br>Crossings: 48.778274 million",
          "Vanceboro<br>Crossings: 2.136079 million",
          "Jackman<br>Crossings: 8.370527 million",
          "Houlton<br>Crossings: 16.606754 million",
          "Bridgewater<br>Crossings: 3.500101 million",
          "Sault Sainte Marie<br>Crossings: 55.670962 million",
          "Fort Fairfield<br>Crossings: 7.60417 million",
          "Northgate<br>Crossings: 0.938338 million",
          "Limestone<br>Crossings: 1.84106 million",
          "Willow Creek<br>Crossings: 0.095871 million",
          "Van Buren<br>Crossings: 11.138567 million",
          "Fort Kent<br>Crossings: 9.671449 million",
          "Madawaska<br>Crossings: 24.171747 million",
          "Grand Portage<br>Crossings: 13.044581 million",
          "Port Angeles<br>Crossings: 2.120065 million",
          "Piegan<br>Crossings: 7.421999 million",
          "Ferry<br>Crossings: 0.472508 million",
          "Anacortes<br>Crossings: 1.169733 million",
          "Friday Harbor<br>Crossings: 0.132675 million",
          "Baudette<br>Crossings: 9.045609 million",
          "Pembina<br>Crossings: 16.903147 million",
          "Roseau<br>Crossings: 1.890564 million",
          "Scobey<br>Crossings: 0.267991 million",
          "Dunseith<br>Crossings: 3.543684 million",
          "Turner<br>Crossings: 0.387162 million",
          "Opheim<br>Crossings: 0.198031 million",
          "Lancaster<br>Crossings: 1.433711 million",
          "Metaline Falls<br>Crossings: 1.492426 million",
          "Raymond<br>Crossings: 1.560283 million",
          "Noonan<br>Crossings: 1.407918 million",
          "Carbury<br>Crossings: 0.634627 million",
          "Whitetail<br>Crossings: 0.106302 million",
          "Warroad<br>Crossings: 6.343761 million",
          "Whitlash<br>Crossings: 0.037469 million",
          "Westhope<br>Crossings: 0.543503 million",
          "Fortuna<br>Crossings: 0.598368 million",
          "Walhalla<br>Crossings: 1.758969 million",
          "Oroville<br>Crossings: 11.934909 million",
          "St. John<br>Crossings: 1.094397 million",
          "Sarles<br>Crossings: 0.276003 million",
          "Lynden<br>Crossings: 30.40845 million",
          "Hansboro<br>Crossings: 0.549573 million",
          "Ambrose<br>Crossings: 0.139046 million",
          "Sherwood<br>Crossings: 0.811654 million",
          "Nighthawk<br>Crossings: 0.354708 million",
          "Antler<br>Crossings: 0.519423 million",
          "Hannah<br>Crossings: 0.187659 million",
          "Pinecreek<br>Crossings: 0.271151 million",
          "Boundary<br>Crossings: 2.068897 million",
          "Point Roberts<br>Crossings: 37.881358 million",
          "Neche<br>Crossings: 2.02271 million",
          "Blaine<br>Crossings: 183.947046 million",
          "Danville<br>Crossings: 2.317986 million",
          "Morgan<br>Crossings: 0.316992 million",
          "Sumas<br>Crossings: 43.169217 million",
          "Portal<br>Crossings: 5.111989 million",
          "Sweetgrass<br>Crossings: 13.943773 million",
          "Del Bonita<br>Crossings: 1.259324 million",
          "Porthill<br>Crossings: 5.931854 million",
          "Maida<br>Crossings: 0.639468 million",
          "Laurier<br>Crossings: 2.400848 million",
          "Noyes<br>Crossings: 0.919599 million",
          "Roosville<br>Crossings: 6.509352 million",
          "Frontier<br>Crossings: 2.117284 million",
          "Ketchikan<br>Crossings: 0.117498 million",
          "Skagway<br>Crossings: 7.041216 million",
          "Alcan<br>Crossings: 2.817962 million",
          "International Falls-Ranier<br>Crossings: 24.560548 million",
          "Dalton Cache<br>Crossings: 0.942352 million"
         ],
         "type": "scattergeo"
        }
       ],
       "layout": {
        "geo": {
         "landcolor": "rgb(217, 217, 217)",
         "scope": "usa"
        },
        "showlegend": false,
        "template": {
         "data": {
          "bar": [
           {
            "error_x": {
             "color": "#2a3f5f"
            },
            "error_y": {
             "color": "#2a3f5f"
            },
            "marker": {
             "line": {
              "color": "#E5ECF6",
              "width": 0.5
             }
            },
            "type": "bar"
           }
          ],
          "barpolar": [
           {
            "marker": {
             "line": {
              "color": "#E5ECF6",
              "width": 0.5
             }
            },
            "type": "barpolar"
           }
          ],
          "carpet": [
           {
            "aaxis": {
             "endlinecolor": "#2a3f5f",
             "gridcolor": "white",
             "linecolor": "white",
             "minorgridcolor": "white",
             "startlinecolor": "#2a3f5f"
            },
            "baxis": {
             "endlinecolor": "#2a3f5f",
             "gridcolor": "white",
             "linecolor": "white",
             "minorgridcolor": "white",
             "startlinecolor": "#2a3f5f"
            },
            "type": "carpet"
           }
          ],
          "choropleth": [
           {
            "colorbar": {
             "outlinewidth": 0,
             "ticks": ""
            },
            "type": "choropleth"
           }
          ],
          "contour": [
           {
            "colorbar": {
             "outlinewidth": 0,
             "ticks": ""
            },
            "colorscale": [
             [
              0,
              "#0d0887"
             ],
             [
              0.1111111111111111,
              "#46039f"
             ],
             [
              0.2222222222222222,
              "#7201a8"
             ],
             [
              0.3333333333333333,
              "#9c179e"
             ],
             [
              0.4444444444444444,
              "#bd3786"
             ],
             [
              0.5555555555555556,
              "#d8576b"
             ],
             [
              0.6666666666666666,
              "#ed7953"
             ],
             [
              0.7777777777777778,
              "#fb9f3a"
             ],
             [
              0.8888888888888888,
              "#fdca26"
             ],
             [
              1,
              "#f0f921"
             ]
            ],
            "type": "contour"
           }
          ],
          "contourcarpet": [
           {
            "colorbar": {
             "outlinewidth": 0,
             "ticks": ""
            },
            "type": "contourcarpet"
           }
          ],
          "heatmap": [
           {
            "colorbar": {
             "outlinewidth": 0,
             "ticks": ""
            },
            "colorscale": [
             [
              0,
              "#0d0887"
             ],
             [
              0.1111111111111111,
              "#46039f"
             ],
             [
              0.2222222222222222,
              "#7201a8"
             ],
             [
              0.3333333333333333,
              "#9c179e"
             ],
             [
              0.4444444444444444,
              "#bd3786"
             ],
             [
              0.5555555555555556,
              "#d8576b"
             ],
             [
              0.6666666666666666,
              "#ed7953"
             ],
             [
              0.7777777777777778,
              "#fb9f3a"
             ],
             [
              0.8888888888888888,
              "#fdca26"
             ],
             [
              1,
              "#f0f921"
             ]
            ],
            "type": "heatmap"
           }
          ],
          "heatmapgl": [
           {
            "colorbar": {
             "outlinewidth": 0,
             "ticks": ""
            },
            "colorscale": [
             [
              0,
              "#0d0887"
             ],
             [
              0.1111111111111111,
              "#46039f"
             ],
             [
              0.2222222222222222,
              "#7201a8"
             ],
             [
              0.3333333333333333,
              "#9c179e"
             ],
             [
              0.4444444444444444,
              "#bd3786"
             ],
             [
              0.5555555555555556,
              "#d8576b"
             ],
             [
              0.6666666666666666,
              "#ed7953"
             ],
             [
              0.7777777777777778,
              "#fb9f3a"
             ],
             [
              0.8888888888888888,
              "#fdca26"
             ],
             [
              1,
              "#f0f921"
             ]
            ],
            "type": "heatmapgl"
           }
          ],
          "histogram": [
           {
            "marker": {
             "colorbar": {
              "outlinewidth": 0,
              "ticks": ""
             }
            },
            "type": "histogram"
           }
          ],
          "histogram2d": [
           {
            "colorbar": {
             "outlinewidth": 0,
             "ticks": ""
            },
            "colorscale": [
             [
              0,
              "#0d0887"
             ],
             [
              0.1111111111111111,
              "#46039f"
             ],
             [
              0.2222222222222222,
              "#7201a8"
             ],
             [
              0.3333333333333333,
              "#9c179e"
             ],
             [
              0.4444444444444444,
              "#bd3786"
             ],
             [
              0.5555555555555556,
              "#d8576b"
             ],
             [
              0.6666666666666666,
              "#ed7953"
             ],
             [
              0.7777777777777778,
              "#fb9f3a"
             ],
             [
              0.8888888888888888,
              "#fdca26"
             ],
             [
              1,
              "#f0f921"
             ]
            ],
            "type": "histogram2d"
           }
          ],
          "histogram2dcontour": [
           {
            "colorbar": {
             "outlinewidth": 0,
             "ticks": ""
            },
            "colorscale": [
             [
              0,
              "#0d0887"
             ],
             [
              0.1111111111111111,
              "#46039f"
             ],
             [
              0.2222222222222222,
              "#7201a8"
             ],
             [
              0.3333333333333333,
              "#9c179e"
             ],
             [
              0.4444444444444444,
              "#bd3786"
             ],
             [
              0.5555555555555556,
              "#d8576b"
             ],
             [
              0.6666666666666666,
              "#ed7953"
             ],
             [
              0.7777777777777778,
              "#fb9f3a"
             ],
             [
              0.8888888888888888,
              "#fdca26"
             ],
             [
              1,
              "#f0f921"
             ]
            ],
            "type": "histogram2dcontour"
           }
          ],
          "mesh3d": [
           {
            "colorbar": {
             "outlinewidth": 0,
             "ticks": ""
            },
            "type": "mesh3d"
           }
          ],
          "parcoords": [
           {
            "line": {
             "colorbar": {
              "outlinewidth": 0,
              "ticks": ""
             }
            },
            "type": "parcoords"
           }
          ],
          "pie": [
           {
            "automargin": true,
            "type": "pie"
           }
          ],
          "scatter": [
           {
            "marker": {
             "colorbar": {
              "outlinewidth": 0,
              "ticks": ""
             }
            },
            "type": "scatter"
           }
          ],
          "scatter3d": [
           {
            "line": {
             "colorbar": {
              "outlinewidth": 0,
              "ticks": ""
             }
            },
            "marker": {
             "colorbar": {
              "outlinewidth": 0,
              "ticks": ""
             }
            },
            "type": "scatter3d"
           }
          ],
          "scattercarpet": [
           {
            "marker": {
             "colorbar": {
              "outlinewidth": 0,
              "ticks": ""
             }
            },
            "type": "scattercarpet"
           }
          ],
          "scattergeo": [
           {
            "marker": {
             "colorbar": {
              "outlinewidth": 0,
              "ticks": ""
             }
            },
            "type": "scattergeo"
           }
          ],
          "scattergl": [
           {
            "marker": {
             "colorbar": {
              "outlinewidth": 0,
              "ticks": ""
             }
            },
            "type": "scattergl"
           }
          ],
          "scattermapbox": [
           {
            "marker": {
             "colorbar": {
              "outlinewidth": 0,
              "ticks": ""
             }
            },
            "type": "scattermapbox"
           }
          ],
          "scatterpolar": [
           {
            "marker": {
             "colorbar": {
              "outlinewidth": 0,
              "ticks": ""
             }
            },
            "type": "scatterpolar"
           }
          ],
          "scatterpolargl": [
           {
            "marker": {
             "colorbar": {
              "outlinewidth": 0,
              "ticks": ""
             }
            },
            "type": "scatterpolargl"
           }
          ],
          "scatterternary": [
           {
            "marker": {
             "colorbar": {
              "outlinewidth": 0,
              "ticks": ""
             }
            },
            "type": "scatterternary"
           }
          ],
          "surface": [
           {
            "colorbar": {
             "outlinewidth": 0,
             "ticks": ""
            },
            "colorscale": [
             [
              0,
              "#0d0887"
             ],
             [
              0.1111111111111111,
              "#46039f"
             ],
             [
              0.2222222222222222,
              "#7201a8"
             ],
             [
              0.3333333333333333,
              "#9c179e"
             ],
             [
              0.4444444444444444,
              "#bd3786"
             ],
             [
              0.5555555555555556,
              "#d8576b"
             ],
             [
              0.6666666666666666,
              "#ed7953"
             ],
             [
              0.7777777777777778,
              "#fb9f3a"
             ],
             [
              0.8888888888888888,
              "#fdca26"
             ],
             [
              1,
              "#f0f921"
             ]
            ],
            "type": "surface"
           }
          ],
          "table": [
           {
            "cells": {
             "fill": {
              "color": "#EBF0F8"
             },
             "line": {
              "color": "white"
             }
            },
            "header": {
             "fill": {
              "color": "#C8D4E3"
             },
             "line": {
              "color": "white"
             }
            },
            "type": "table"
           }
          ]
         },
         "layout": {
          "annotationdefaults": {
           "arrowcolor": "#2a3f5f",
           "arrowhead": 0,
           "arrowwidth": 1
          },
          "coloraxis": {
           "colorbar": {
            "outlinewidth": 0,
            "ticks": ""
           }
          },
          "colorscale": {
           "diverging": [
            [
             0,
             "#8e0152"
            ],
            [
             0.1,
             "#c51b7d"
            ],
            [
             0.2,
             "#de77ae"
            ],
            [
             0.3,
             "#f1b6da"
            ],
            [
             0.4,
             "#fde0ef"
            ],
            [
             0.5,
             "#f7f7f7"
            ],
            [
             0.6,
             "#e6f5d0"
            ],
            [
             0.7,
             "#b8e186"
            ],
            [
             0.8,
             "#7fbc41"
            ],
            [
             0.9,
             "#4d9221"
            ],
            [
             1,
             "#276419"
            ]
           ],
           "sequential": [
            [
             0,
             "#0d0887"
            ],
            [
             0.1111111111111111,
             "#46039f"
            ],
            [
             0.2222222222222222,
             "#7201a8"
            ],
            [
             0.3333333333333333,
             "#9c179e"
            ],
            [
             0.4444444444444444,
             "#bd3786"
            ],
            [
             0.5555555555555556,
             "#d8576b"
            ],
            [
             0.6666666666666666,
             "#ed7953"
            ],
            [
             0.7777777777777778,
             "#fb9f3a"
            ],
            [
             0.8888888888888888,
             "#fdca26"
            ],
            [
             1,
             "#f0f921"
            ]
           ],
           "sequentialminus": [
            [
             0,
             "#0d0887"
            ],
            [
             0.1111111111111111,
             "#46039f"
            ],
            [
             0.2222222222222222,
             "#7201a8"
            ],
            [
             0.3333333333333333,
             "#9c179e"
            ],
            [
             0.4444444444444444,
             "#bd3786"
            ],
            [
             0.5555555555555556,
             "#d8576b"
            ],
            [
             0.6666666666666666,
             "#ed7953"
            ],
            [
             0.7777777777777778,
             "#fb9f3a"
            ],
            [
             0.8888888888888888,
             "#fdca26"
            ],
            [
             1,
             "#f0f921"
            ]
           ]
          },
          "colorway": [
           "#636efa",
           "#EF553B",
           "#00cc96",
           "#ab63fa",
           "#FFA15A",
           "#19d3f3",
           "#FF6692",
           "#B6E880",
           "#FF97FF",
           "#FECB52"
          ],
          "font": {
           "color": "#2a3f5f"
          },
          "geo": {
           "bgcolor": "white",
           "lakecolor": "white",
           "landcolor": "#E5ECF6",
           "showlakes": true,
           "showland": true,
           "subunitcolor": "white"
          },
          "hoverlabel": {
           "align": "left"
          },
          "hovermode": "closest",
          "mapbox": {
           "style": "light"
          },
          "paper_bgcolor": "white",
          "plot_bgcolor": "#E5ECF6",
          "polar": {
           "angularaxis": {
            "gridcolor": "white",
            "linecolor": "white",
            "ticks": ""
           },
           "bgcolor": "#E5ECF6",
           "radialaxis": {
            "gridcolor": "white",
            "linecolor": "white",
            "ticks": ""
           }
          },
          "scene": {
           "xaxis": {
            "backgroundcolor": "#E5ECF6",
            "gridcolor": "white",
            "gridwidth": 2,
            "linecolor": "white",
            "showbackground": true,
            "ticks": "",
            "zerolinecolor": "white"
           },
           "yaxis": {
            "backgroundcolor": "#E5ECF6",
            "gridcolor": "white",
            "gridwidth": 2,
            "linecolor": "white",
            "showbackground": true,
            "ticks": "",
            "zerolinecolor": "white"
           },
           "zaxis": {
            "backgroundcolor": "#E5ECF6",
            "gridcolor": "white",
            "gridwidth": 2,
            "linecolor": "white",
            "showbackground": true,
            "ticks": "",
            "zerolinecolor": "white"
           }
          },
          "shapedefaults": {
           "line": {
            "color": "#2a3f5f"
           }
          },
          "ternary": {
           "aaxis": {
            "gridcolor": "white",
            "linecolor": "white",
            "ticks": ""
           },
           "baxis": {
            "gridcolor": "white",
            "linecolor": "white",
            "ticks": ""
           },
           "bgcolor": "#E5ECF6",
           "caxis": {
            "gridcolor": "white",
            "linecolor": "white",
            "ticks": ""
           }
          },
          "title": {
           "x": 0.05
          },
          "xaxis": {
           "automargin": true,
           "gridcolor": "white",
           "linecolor": "white",
           "ticks": "",
           "title": {
            "standoff": 15
           },
           "zerolinecolor": "white",
           "zerolinewidth": 2
          },
          "yaxis": {
           "automargin": true,
           "gridcolor": "white",
           "linecolor": "white",
           "ticks": "",
           "title": {
            "standoff": 15
           },
           "zerolinecolor": "white",
           "zerolinewidth": 2
          }
         }
        },
        "title": {
         "text": "US Borders, total inbound persons since 1996<br>(Click legend to toggle traces)"
        }
       }
      },
      "text/html": [
       "<div>\n",
       "        \n",
       "        \n",
       "            <div id=\"6bd63fa8-3c21-46ce-a8bc-b19546eadf7e\" class=\"plotly-graph-div\" style=\"height:525px; width:100%;\"></div>\n",
       "            <script type=\"text/javascript\">\n",
       "                require([\"plotly\"], function(Plotly) {\n",
       "                    window.PLOTLYENV=window.PLOTLYENV || {};\n",
       "                    \n",
       "                if (document.getElementById(\"6bd63fa8-3c21-46ce-a8bc-b19546eadf7e\")) {\n",
       "                    Plotly.newPlot(\n",
       "                        '6bd63fa8-3c21-46ce-a8bc-b19546eadf7e',\n",
       "                        [{\"lat\": [\"44.911752\", \"48.999904\", \"25.9140256\", \"26.0922991\", \"26.3530256\", \"26.3827771\", \"26.4070669\", \"27.5199841\", \"28.7091433\", \"29.1921092\", \"29.3627296\", \"29.9883766\", \"31.3402134\", \"31.342529\", \"31.46223\", \"31.471341\", \"31.4887016\", \"31.7600372\", \"31.8303365\", \"31.8559384\", \"31.8819798\", \"32.4934395\", \"32.54831535\", \"32.5520013\", \"32.560058\", \"32.5833711\", \"32.6753413\", \"32.6790572\", \"32.7248173\", \"35.9128415\", \"42.3315509\", \"42.9815877\", \"43.0761171\", \"43.6610277\", \"44.125494\", \"44.336127\", \"44.3864565\", \"44.694285\", \"44.881314\", \"44.928106\", \"44.979486\", \"44.982541\", \"44.9953505\", \"45.00042985\", \"45.008759\", \"45.0094923\", \"45.189032\", \"45.5634002\", \"45.6239358\", \"46.1251286\", \"46.427919\", \"46.490586\", \"46.7698261\", \"46.9034922\", \"46.908998\", \"47.0070211\", \"47.157506\", \"47.258728\", \"47.355571\", \"47.963776\", \"48.118146\", \"48.4346971\", \"48.4736934\", \"48.5020123\", \"48.5342662\", \"48.7124408\", \"48.7530787\", \"48.7710371\", \"48.792086\", \"48.813057\", \"48.8456288\", \"48.857088\", \"48.8582488\", \"48.8636212\", \"48.8764172\", \"48.888919\", \"48.8908464\", \"48.8956798\", \"48.905266\", \"48.9083386\", \"48.909464\", \"48.9107543\", \"48.923328\", \"48.9376147\", \"48.9444517\", \"48.94584\", \"48.9466041\", \"48.9521858\", \"48.9539222\", \"48.9600187\", \"48.9670097\", \"48.9708532\", \"48.9716708\", \"48.9779945\", \"48.9831558\", \"48.9853824\", \"48.9861027\", \"48.9881108\", \"48.9923978\", \"48.9933527\", \"48.9950874\", \"48.9958637\", \"48.9970672\", \"48.9975828\", \"48.9982855\", \"48.998612\", \"48.9987931\", \"48.998839\", \"48.9991329\", \"48.9996344\", \"55.3430696\", \"59.6226362\", \"62.66607\", \"nternational Falls\", \"leasant Camp\"], \"locationmode\": \"USA-states\", \"lon\": [\"-66.985965\", \"-116.180196\", \"-97.4890856\", \"-97.9572242\", \"-98.216445\", \"-98.8205251\", \"-99.0055462\", \"-99.4953764\", \"-100.4995214\", \"-102.9485706\", \"-100.896761\", \"-104.2336552\", \"-110.9360818\", \"-109.936355674705\", \"-109.59394273101\", \"-106.151947\", \"-111.5420505\", \"-106.487287\", \"-107.6385256\", \"-106.6391577\", \"-112.8153361\", \"-114.7737551\", \"-116.974398450271\", \"-117.0430813\", \"-116.9361338\", \"-116.6285217\", \"-115.3887997\", \"-115.498703\", \"-114.7248614\", \"-96.8039141\", \"-83.0466403\", \"-82.440466\", \"-78.9928794\", \"-70.2548596\", \"-76.3304640631677\", \"-75.917931\", \"-68.2118570811003\", \"-75.486374\", \"-74.2656165\", \"-74.892082\", \"-73.1054065\", \"-73.377564\", \"-72.6731285931857\", \"-72.1064356198873\", \"-71.5067925\", \"-71.7961053\", \"-67.2781424\", \"-67.429721\", \"-70.2545117\", \"-67.8407944\", \"-67.844009\", \"-84.359269\", \"-67.8345688\", \"-96.7971257256983\", \"-67.826157\", \"-112.4546302\", \"-67.935333\", \"-68.589706\", \"-68.321915\", \"-89.6848121\", \"-123.4307413\", \"-112.6945072\", \"-118.4834362\", \"-122.6237356\", \"-123.0171242\", \"-94.600171\", \"-97.5532833\", \"-95.7697882\", \"-105.419948\", \"-100.060968\", \"-108.4048141\", \"-106.407904\", \"-96.8045602\", \"-117.3718881\", \"-104.5802366\", \"-103.008794\", \"-100.5445928\", \"-105.163013\", \"-95.314404\", \"-111.2530312\", \"-101.020712\", \"-103.7752713\", \"-97.918148\", \"-119.4361687\", \"-99.7109743\", \"-98.995961\", \"-122.4569315\", \"-99.3807545\", \"-103.4826921\", \"-101.632661\", \"-119.6407335\", \"-101.2823803\", \"-98.6917884\", \"-95.9428151\", \"-117.6371945\", \"-123.077974\", \"-97.5548\", \"-122.7435757\", \"-118.5080824\", \"-107.8323167\", \"-122.269080593315\", \"-102.5496127\", \"-111.9625745\", \"-112.788762\", \"-116.4979886\", \"-98.3648321\", \"-118.2241779\", \"-97.204893\", \"-115.0565577\", \"-117.8310975\", \"-131.6466819\", \"-135.4094368\", \"-141.141890269798\", \"Koochiching County, Minnesota, United State\", \"Skagway, Unorganized Borough, Alaska, United State\"], \"marker\": {\"color\": \"crimson\", \"line\": {\"color\": \"rgb(23,203,40)\", \"width\": 0.5}, \"size\": [8.359844, 10.449358, 738.291532, 170.706308, 812.18567, 80.42433, 136.796068, 870.23939, 357.07261, 0.11188, 187.473706, 78.983142, 615.779562, 41.404294, 236.997368, 57.79658, 3.262672, 1626.810752, 50.684586, 42.17857, 51.695134, 390.975136, 4.689396, 1641.507174, 586.626348, 126.760944, 295.793376, 802.927222, 120.74263, 1.033048, 552.920844, 198.815428, 706.920938, 1.580476, 0.459208, 75.216032, 0.37968, 30.242434, 16.848452, 98.105344, 50.5235, 142.093434, 11.16497, 62.41633, 6.994516, 6.210878, 97.556548, 4.272158, 16.741054, 33.213508, 7.000202, 111.341924, 15.20834, 1.876676, 3.68212, 0.191742, 22.277134, 19.342898, 48.343494, 26.089162, 4.24013, 14.843998, 0.945016, 2.339466, 0.26535, 18.091218, 33.806294, 3.781128, 0.535982, 7.087368, 0.774324, 0.396062, 2.867422, 2.984852, 3.120566, 2.815836, 1.269254, 0.212604, 12.687522, 0.074938, 1.087006, 1.196736, 3.517938, 23.869818, 2.188794, 0.552006, 60.8169, 1.099146, 0.278092, 1.623308, 0.709416, 1.038846, 0.375318, 0.542302, 4.137794, 75.762716, 4.04542, 367.894092, 4.635972, 0.633984, 86.338434, 10.223978, 27.887546, 2.518648, 11.863708, 1.278936, 4.801696, 1.839198, 13.018704, 4.234568, 0.234996, 14.082432, 5.635924, 49.121096, 1.884704], \"sizemode\": \"area\"}, \"text\": [\"Eastport_MA<br>Crossings: 4.179922 million\", \"Eastport_ID<br>Crossings: 5.224679 million\", \"Brownsville<br>Crossings: 369.145766 million\", \"Progreso<br>Crossings: 85.353154 million\", \"Hidalgo<br>Crossings: 406.092835 million\", \"Rio Grande City<br>Crossings: 40.212165 million\", \"Roma<br>Crossings: 68.398034 million\", \"Laredo<br>Crossings: 435.119695 million\", \"Eagle Pass<br>Crossings: 178.536305 million\", \"Boquillas<br>Crossings: 0.05594 million\", \"Del Rio<br>Crossings: 93.736853 million\", \"Presidio<br>Crossings: 39.491571 million\", \"Nogales<br>Crossings: 307.889781 million\", \"Naco<br>Crossings: 20.702147 million\", \"Douglas<br>Crossings: 118.498684 million\", \"Tornillo-Fabens<br>Crossings: 28.89829 million\", \"Sasabe<br>Crossings: 1.631336 million\", \"El Paso<br>Crossings: 813.405376 million\", \"Columbus<br>Crossings: 25.342293 million\", \"Santa Teresa<br>Crossings: 21.089285 million\", \"Lukeville<br>Crossings: 25.847567 million\", \"San Luis<br>Crossings: 195.487568 million\", \"Cross Border Xpress<br>Crossings: 2.344698 million\", \"San Ysidro<br>Crossings: 820.753587 million\", \"Otay Mesa<br>Crossings: 293.313174 million\", \"Tecate<br>Crossings: 63.380472 million\", \"Calexico East<br>Crossings: 147.896688 million\", \"Calexico<br>Crossings: 401.463611 million\", \"Andrade<br>Crossings: 60.371315 million\", \"Wildhorse<br>Crossings: 0.516524 million\", \"Detroit<br>Crossings: 276.460422 million\", \"Port Huron<br>Crossings: 99.407714 million\", \"Buffalo-Niagara Falls<br>Crossings: 353.460469 million\", \"Portland<br>Crossings: 0.790238 million\", \"Cape Vincent<br>Crossings: 0.229604 million\", \"Alexandria Bay<br>Crossings: 37.608016 million\", \"Bar Harbor<br>Crossings: 0.18984 million\", \"Ogdensburg<br>Crossings: 15.121217 million\", \"Trout River<br>Crossings: 8.424226 million\", \"Massena<br>Crossings: 49.052672 million\", \"Highgate Springs-Alburg<br>Crossings: 25.26175 million\", \"Champlain-Rouses Point<br>Crossings: 71.046717 million\", \"Richford<br>Crossings: 5.582485 million\", \"Derby Line<br>Crossings: 31.208165 million\", \"Beecher Falls<br>Crossings: 3.497258 million\", \"Norton<br>Crossings: 3.105439 million\", \"Calais<br>Crossings: 48.778274 million\", \"Vanceboro<br>Crossings: 2.136079 million\", \"Jackman<br>Crossings: 8.370527 million\", \"Houlton<br>Crossings: 16.606754 million\", \"Bridgewater<br>Crossings: 3.500101 million\", \"Sault Sainte Marie<br>Crossings: 55.670962 million\", \"Fort Fairfield<br>Crossings: 7.60417 million\", \"Northgate<br>Crossings: 0.938338 million\", \"Limestone<br>Crossings: 1.84106 million\", \"Willow Creek<br>Crossings: 0.095871 million\", \"Van Buren<br>Crossings: 11.138567 million\", \"Fort Kent<br>Crossings: 9.671449 million\", \"Madawaska<br>Crossings: 24.171747 million\", \"Grand Portage<br>Crossings: 13.044581 million\", \"Port Angeles<br>Crossings: 2.120065 million\", \"Piegan<br>Crossings: 7.421999 million\", \"Ferry<br>Crossings: 0.472508 million\", \"Anacortes<br>Crossings: 1.169733 million\", \"Friday Harbor<br>Crossings: 0.132675 million\", \"Baudette<br>Crossings: 9.045609 million\", \"Pembina<br>Crossings: 16.903147 million\", \"Roseau<br>Crossings: 1.890564 million\", \"Scobey<br>Crossings: 0.267991 million\", \"Dunseith<br>Crossings: 3.543684 million\", \"Turner<br>Crossings: 0.387162 million\", \"Opheim<br>Crossings: 0.198031 million\", \"Lancaster<br>Crossings: 1.433711 million\", \"Metaline Falls<br>Crossings: 1.492426 million\", \"Raymond<br>Crossings: 1.560283 million\", \"Noonan<br>Crossings: 1.407918 million\", \"Carbury<br>Crossings: 0.634627 million\", \"Whitetail<br>Crossings: 0.106302 million\", \"Warroad<br>Crossings: 6.343761 million\", \"Whitlash<br>Crossings: 0.037469 million\", \"Westhope<br>Crossings: 0.543503 million\", \"Fortuna<br>Crossings: 0.598368 million\", \"Walhalla<br>Crossings: 1.758969 million\", \"Oroville<br>Crossings: 11.934909 million\", \"St. John<br>Crossings: 1.094397 million\", \"Sarles<br>Crossings: 0.276003 million\", \"Lynden<br>Crossings: 30.40845 million\", \"Hansboro<br>Crossings: 0.549573 million\", \"Ambrose<br>Crossings: 0.139046 million\", \"Sherwood<br>Crossings: 0.811654 million\", \"Nighthawk<br>Crossings: 0.354708 million\", \"Antler<br>Crossings: 0.519423 million\", \"Hannah<br>Crossings: 0.187659 million\", \"Pinecreek<br>Crossings: 0.271151 million\", \"Boundary<br>Crossings: 2.068897 million\", \"Point Roberts<br>Crossings: 37.881358 million\", \"Neche<br>Crossings: 2.02271 million\", \"Blaine<br>Crossings: 183.947046 million\", \"Danville<br>Crossings: 2.317986 million\", \"Morgan<br>Crossings: 0.316992 million\", \"Sumas<br>Crossings: 43.169217 million\", \"Portal<br>Crossings: 5.111989 million\", \"Sweetgrass<br>Crossings: 13.943773 million\", \"Del Bonita<br>Crossings: 1.259324 million\", \"Porthill<br>Crossings: 5.931854 million\", \"Maida<br>Crossings: 0.639468 million\", \"Laurier<br>Crossings: 2.400848 million\", \"Noyes<br>Crossings: 0.919599 million\", \"Roosville<br>Crossings: 6.509352 million\", \"Frontier<br>Crossings: 2.117284 million\", \"Ketchikan<br>Crossings: 0.117498 million\", \"Skagway<br>Crossings: 7.041216 million\", \"Alcan<br>Crossings: 2.817962 million\", \"International Falls-Ranier<br>Crossings: 24.560548 million\", \"Dalton Cache<br>Crossings: 0.942352 million\"], \"type\": \"scattergeo\"}],\n",
       "                        {\"geo\": {\"landcolor\": \"rgb(217, 217, 217)\", \"scope\": \"usa\"}, \"showlegend\": false, \"template\": {\"data\": {\"bar\": [{\"error_x\": {\"color\": \"#2a3f5f\"}, \"error_y\": {\"color\": \"#2a3f5f\"}, \"marker\": {\"line\": {\"color\": \"#E5ECF6\", \"width\": 0.5}}, \"type\": \"bar\"}], \"barpolar\": [{\"marker\": {\"line\": {\"color\": \"#E5ECF6\", \"width\": 0.5}}, \"type\": \"barpolar\"}], \"carpet\": [{\"aaxis\": {\"endlinecolor\": \"#2a3f5f\", \"gridcolor\": \"white\", \"linecolor\": \"white\", \"minorgridcolor\": \"white\", \"startlinecolor\": \"#2a3f5f\"}, \"baxis\": {\"endlinecolor\": \"#2a3f5f\", \"gridcolor\": \"white\", \"linecolor\": \"white\", \"minorgridcolor\": \"white\", \"startlinecolor\": \"#2a3f5f\"}, \"type\": \"carpet\"}], \"choropleth\": [{\"colorbar\": {\"outlinewidth\": 0, \"ticks\": \"\"}, \"type\": \"choropleth\"}], \"contour\": [{\"colorbar\": {\"outlinewidth\": 0, \"ticks\": \"\"}, \"colorscale\": [[0.0, \"#0d0887\"], [0.1111111111111111, \"#46039f\"], [0.2222222222222222, \"#7201a8\"], [0.3333333333333333, \"#9c179e\"], [0.4444444444444444, \"#bd3786\"], [0.5555555555555556, \"#d8576b\"], [0.6666666666666666, \"#ed7953\"], [0.7777777777777778, \"#fb9f3a\"], [0.8888888888888888, \"#fdca26\"], [1.0, \"#f0f921\"]], \"type\": \"contour\"}], \"contourcarpet\": [{\"colorbar\": {\"outlinewidth\": 0, \"ticks\": \"\"}, \"type\": \"contourcarpet\"}], \"heatmap\": [{\"colorbar\": {\"outlinewidth\": 0, \"ticks\": \"\"}, \"colorscale\": [[0.0, \"#0d0887\"], [0.1111111111111111, \"#46039f\"], [0.2222222222222222, \"#7201a8\"], [0.3333333333333333, \"#9c179e\"], [0.4444444444444444, \"#bd3786\"], [0.5555555555555556, \"#d8576b\"], [0.6666666666666666, \"#ed7953\"], [0.7777777777777778, \"#fb9f3a\"], [0.8888888888888888, \"#fdca26\"], [1.0, \"#f0f921\"]], \"type\": \"heatmap\"}], \"heatmapgl\": [{\"colorbar\": {\"outlinewidth\": 0, \"ticks\": \"\"}, \"colorscale\": [[0.0, \"#0d0887\"], [0.1111111111111111, \"#46039f\"], [0.2222222222222222, \"#7201a8\"], [0.3333333333333333, \"#9c179e\"], [0.4444444444444444, \"#bd3786\"], [0.5555555555555556, \"#d8576b\"], [0.6666666666666666, \"#ed7953\"], [0.7777777777777778, \"#fb9f3a\"], [0.8888888888888888, \"#fdca26\"], [1.0, \"#f0f921\"]], \"type\": \"heatmapgl\"}], \"histogram\": [{\"marker\": {\"colorbar\": {\"outlinewidth\": 0, \"ticks\": \"\"}}, \"type\": \"histogram\"}], \"histogram2d\": [{\"colorbar\": {\"outlinewidth\": 0, \"ticks\": \"\"}, \"colorscale\": [[0.0, \"#0d0887\"], [0.1111111111111111, \"#46039f\"], [0.2222222222222222, \"#7201a8\"], [0.3333333333333333, \"#9c179e\"], [0.4444444444444444, \"#bd3786\"], [0.5555555555555556, \"#d8576b\"], [0.6666666666666666, \"#ed7953\"], [0.7777777777777778, \"#fb9f3a\"], [0.8888888888888888, \"#fdca26\"], [1.0, \"#f0f921\"]], \"type\": \"histogram2d\"}], \"histogram2dcontour\": [{\"colorbar\": {\"outlinewidth\": 0, \"ticks\": \"\"}, \"colorscale\": [[0.0, \"#0d0887\"], [0.1111111111111111, \"#46039f\"], [0.2222222222222222, \"#7201a8\"], [0.3333333333333333, \"#9c179e\"], [0.4444444444444444, \"#bd3786\"], [0.5555555555555556, \"#d8576b\"], [0.6666666666666666, \"#ed7953\"], [0.7777777777777778, \"#fb9f3a\"], [0.8888888888888888, \"#fdca26\"], [1.0, \"#f0f921\"]], \"type\": \"histogram2dcontour\"}], \"mesh3d\": [{\"colorbar\": {\"outlinewidth\": 0, \"ticks\": \"\"}, \"type\": \"mesh3d\"}], \"parcoords\": [{\"line\": {\"colorbar\": {\"outlinewidth\": 0, \"ticks\": \"\"}}, \"type\": \"parcoords\"}], \"pie\": [{\"automargin\": true, \"type\": \"pie\"}], \"scatter\": [{\"marker\": {\"colorbar\": {\"outlinewidth\": 0, \"ticks\": \"\"}}, \"type\": \"scatter\"}], \"scatter3d\": [{\"line\": {\"colorbar\": {\"outlinewidth\": 0, \"ticks\": \"\"}}, \"marker\": {\"colorbar\": {\"outlinewidth\": 0, \"ticks\": \"\"}}, \"type\": \"scatter3d\"}], \"scattercarpet\": [{\"marker\": {\"colorbar\": {\"outlinewidth\": 0, \"ticks\": \"\"}}, \"type\": \"scattercarpet\"}], \"scattergeo\": [{\"marker\": {\"colorbar\": {\"outlinewidth\": 0, \"ticks\": \"\"}}, \"type\": \"scattergeo\"}], \"scattergl\": [{\"marker\": {\"colorbar\": {\"outlinewidth\": 0, \"ticks\": \"\"}}, \"type\": \"scattergl\"}], \"scattermapbox\": [{\"marker\": {\"colorbar\": {\"outlinewidth\": 0, \"ticks\": \"\"}}, \"type\": \"scattermapbox\"}], \"scatterpolar\": [{\"marker\": {\"colorbar\": {\"outlinewidth\": 0, \"ticks\": \"\"}}, \"type\": \"scatterpolar\"}], \"scatterpolargl\": [{\"marker\": {\"colorbar\": {\"outlinewidth\": 0, \"ticks\": \"\"}}, \"type\": \"scatterpolargl\"}], \"scatterternary\": [{\"marker\": {\"colorbar\": {\"outlinewidth\": 0, \"ticks\": \"\"}}, \"type\": \"scatterternary\"}], \"surface\": [{\"colorbar\": {\"outlinewidth\": 0, \"ticks\": \"\"}, \"colorscale\": [[0.0, \"#0d0887\"], [0.1111111111111111, \"#46039f\"], [0.2222222222222222, \"#7201a8\"], [0.3333333333333333, \"#9c179e\"], [0.4444444444444444, \"#bd3786\"], [0.5555555555555556, \"#d8576b\"], [0.6666666666666666, \"#ed7953\"], [0.7777777777777778, \"#fb9f3a\"], [0.8888888888888888, \"#fdca26\"], [1.0, \"#f0f921\"]], \"type\": \"surface\"}], \"table\": [{\"cells\": {\"fill\": {\"color\": \"#EBF0F8\"}, \"line\": {\"color\": \"white\"}}, \"header\": {\"fill\": {\"color\": \"#C8D4E3\"}, \"line\": {\"color\": \"white\"}}, \"type\": \"table\"}]}, \"layout\": {\"annotationdefaults\": {\"arrowcolor\": \"#2a3f5f\", \"arrowhead\": 0, \"arrowwidth\": 1}, \"coloraxis\": {\"colorbar\": {\"outlinewidth\": 0, \"ticks\": \"\"}}, \"colorscale\": {\"diverging\": [[0, \"#8e0152\"], [0.1, \"#c51b7d\"], [0.2, \"#de77ae\"], [0.3, \"#f1b6da\"], [0.4, \"#fde0ef\"], [0.5, \"#f7f7f7\"], [0.6, \"#e6f5d0\"], [0.7, \"#b8e186\"], [0.8, \"#7fbc41\"], [0.9, \"#4d9221\"], [1, \"#276419\"]], \"sequential\": [[0.0, \"#0d0887\"], [0.1111111111111111, \"#46039f\"], [0.2222222222222222, \"#7201a8\"], [0.3333333333333333, \"#9c179e\"], [0.4444444444444444, \"#bd3786\"], [0.5555555555555556, \"#d8576b\"], [0.6666666666666666, \"#ed7953\"], [0.7777777777777778, \"#fb9f3a\"], [0.8888888888888888, \"#fdca26\"], [1.0, \"#f0f921\"]], \"sequentialminus\": [[0.0, \"#0d0887\"], [0.1111111111111111, \"#46039f\"], [0.2222222222222222, \"#7201a8\"], [0.3333333333333333, \"#9c179e\"], [0.4444444444444444, \"#bd3786\"], [0.5555555555555556, \"#d8576b\"], [0.6666666666666666, \"#ed7953\"], [0.7777777777777778, \"#fb9f3a\"], [0.8888888888888888, \"#fdca26\"], [1.0, \"#f0f921\"]]}, \"colorway\": [\"#636efa\", \"#EF553B\", \"#00cc96\", \"#ab63fa\", \"#FFA15A\", \"#19d3f3\", \"#FF6692\", \"#B6E880\", \"#FF97FF\", \"#FECB52\"], \"font\": {\"color\": \"#2a3f5f\"}, \"geo\": {\"bgcolor\": \"white\", \"lakecolor\": \"white\", \"landcolor\": \"#E5ECF6\", \"showlakes\": true, \"showland\": true, \"subunitcolor\": \"white\"}, \"hoverlabel\": {\"align\": \"left\"}, \"hovermode\": \"closest\", \"mapbox\": {\"style\": \"light\"}, \"paper_bgcolor\": \"white\", \"plot_bgcolor\": \"#E5ECF6\", \"polar\": {\"angularaxis\": {\"gridcolor\": \"white\", \"linecolor\": \"white\", \"ticks\": \"\"}, \"bgcolor\": \"#E5ECF6\", \"radialaxis\": {\"gridcolor\": \"white\", \"linecolor\": \"white\", \"ticks\": \"\"}}, \"scene\": {\"xaxis\": {\"backgroundcolor\": \"#E5ECF6\", \"gridcolor\": \"white\", \"gridwidth\": 2, \"linecolor\": \"white\", \"showbackground\": true, \"ticks\": \"\", \"zerolinecolor\": \"white\"}, \"yaxis\": {\"backgroundcolor\": \"#E5ECF6\", \"gridcolor\": \"white\", \"gridwidth\": 2, \"linecolor\": \"white\", \"showbackground\": true, \"ticks\": \"\", \"zerolinecolor\": \"white\"}, \"zaxis\": {\"backgroundcolor\": \"#E5ECF6\", \"gridcolor\": \"white\", \"gridwidth\": 2, \"linecolor\": \"white\", \"showbackground\": true, \"ticks\": \"\", \"zerolinecolor\": \"white\"}}, \"shapedefaults\": {\"line\": {\"color\": \"#2a3f5f\"}}, \"ternary\": {\"aaxis\": {\"gridcolor\": \"white\", \"linecolor\": \"white\", \"ticks\": \"\"}, \"baxis\": {\"gridcolor\": \"white\", \"linecolor\": \"white\", \"ticks\": \"\"}, \"bgcolor\": \"#E5ECF6\", \"caxis\": {\"gridcolor\": \"white\", \"linecolor\": \"white\", \"ticks\": \"\"}}, \"title\": {\"x\": 0.05}, \"xaxis\": {\"automargin\": true, \"gridcolor\": \"white\", \"linecolor\": \"white\", \"ticks\": \"\", \"title\": {\"standoff\": 15}, \"zerolinecolor\": \"white\", \"zerolinewidth\": 2}, \"yaxis\": {\"automargin\": true, \"gridcolor\": \"white\", \"linecolor\": \"white\", \"ticks\": \"\", \"title\": {\"standoff\": 15}, \"zerolinecolor\": \"white\", \"zerolinewidth\": 2}}}, \"title\": {\"text\": \"US Borders, total inbound persons since 1996<br>(Click legend to toggle traces)\"}},\n",
       "                        {\"responsive\": true}\n",
       "                    ).then(function(){\n",
       "                            \n",
       "var gd = document.getElementById('6bd63fa8-3c21-46ce-a8bc-b19546eadf7e');\n",
       "var x = new MutationObserver(function (mutations, observer) {{\n",
       "        var display = window.getComputedStyle(gd).display;\n",
       "        if (!display || display === 'none') {{\n",
       "            console.log([gd, 'removed!']);\n",
       "            Plotly.purge(gd);\n",
       "            observer.disconnect();\n",
       "        }}\n",
       "}});\n",
       "\n",
       "// Listen for the removal of the full notebook cells\n",
       "var notebookContainer = gd.closest('#notebook-container');\n",
       "if (notebookContainer) {{\n",
       "    x.observe(notebookContainer, {childList: true});\n",
       "}}\n",
       "\n",
       "// Listen for the clearing of the current output cell\n",
       "var outputEl = gd.closest('.output');\n",
       "if (outputEl) {{\n",
       "    x.observe(outputEl, {childList: true});\n",
       "}}\n",
       "\n",
       "                        })\n",
       "                };\n",
       "                });\n",
       "            </script>\n",
       "        </div>"
      ]
     },
     "metadata": {},
     "output_type": "display_data"
    }
   ],
   "source": [
    "### Plotly for interactive plots\n",
    "import plotly.express as px\n",
    "import plotly.graph_objects as go\n",
    "\n",
    "def getlat(x):\n",
    "    lat = x.partition(',')[0][1:]\n",
    "    if lat[0] == \"'\":\n",
    "        lat = lat[1:-1]\n",
    "    return lat\n",
    "\n",
    "def getlong(x):\n",
    "    lat = x.partition(',')[2]\n",
    "    if lat[1] == \"'\":\n",
    "        lat = lat[2:-2]\n",
    "    else:\n",
    "        lat = lat[1:-1]\n",
    "    return lat\n",
    "\n",
    "persons_location['latitude'] = persons_location['position'].apply(lambda x: getlat(x))\n",
    "persons_location['longitude'] = persons_location['position'].apply(lambda x: getlong(x))\n",
    "\n",
    "ps = data[['Port Name','position']].drop_duplicates().set_index('position')\n",
    "persons_location['Ports'] = persons_location.position.apply(lambda x : ', '.join(ps.loc[x].values.flatten()))\n",
    "persons_location['text'] = persons_location['Ports'] + '<br>Crossings: ' + (persons_location['Value']/1e6).astype(str)+' million'\n",
    "\n",
    "color = \"crimson\"\n",
    "scale = 500000\n",
    "\n",
    "fig = go.Figure()\n",
    "fig.add_trace(go.Scattergeo(\n",
    "    locationmode = 'USA-states',\n",
    "    lon = persons_location['longitude'],\n",
    "    lat = persons_location['latitude'],\n",
    "    text = persons_location['text'],\n",
    "    marker = dict(\n",
    "        size = persons_location['Value']/scale,\n",
    "        color = color,\n",
    "        line_color='rgb(23,203,40)',\n",
    "        line_width=0.5,\n",
    "        sizemode = 'area')))\n",
    "\n",
    "fig.update_layout(\n",
    "        title_text = 'US Borders, total inbound persons since 1996<br>(Click legend to toggle traces)',\n",
    "        showlegend = False,\n",
    "        geo = dict(\n",
    "            scope = 'usa',\n",
    "            landcolor = 'rgb(217, 217, 217)',\n",
    "        )\n",
    "    )\n",
    "\n",
    "fig.show()"
   ]
  },
  {
   "cell_type": "code",
   "execution_count": null,
   "metadata": {},
   "outputs": [],
   "source": []
  }
 ],
 "metadata": {
  "kernelspec": {
   "display_name": "Python 3",
   "language": "python",
   "name": "python3"
  },
  "language_info": {
   "codemirror_mode": {
    "name": "ipython",
    "version": 3
   },
   "file_extension": ".py",
   "mimetype": "text/x-python",
   "name": "python",
   "nbconvert_exporter": "python",
   "pygments_lexer": "ipython3",
   "version": "3.7.3"
  }
 },
 "nbformat": 4,
 "nbformat_minor": 2
}
