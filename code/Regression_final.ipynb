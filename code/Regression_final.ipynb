{
 "cells": [
  {
   "cell_type": "code",
   "execution_count": 82,
   "metadata": {},
   "outputs": [],
   "source": [
    "import pandas as pd\n",
    "import matplotlib.pyplot as plt\n",
    "import datetime as dt \n",
    "from sklearn.preprocessing import LabelEncoder, OneHotEncoder\n",
    "from sklearn.model_selection import train_test_split\n",
    "from sklearn.linear_model import LogisticRegressionCV\n",
    "import warnings\n",
    "warnings.filterwarnings(\"ignore\", category=FutureWarning)"
   ]
  },
  {
   "cell_type": "code",
   "execution_count": 83,
   "metadata": {},
   "outputs": [],
   "source": [
    "data = pd.read_csv(\"../data/DataWithLocationCleaned.csv.gz\")\n",
    "df = data.copy()"
   ]
  },
  {
   "cell_type": "code",
   "execution_count": 90,
   "metadata": {},
   "outputs": [],
   "source": [
    "df['Date'] = pd.to_datetime(df['Date'])\n",
    "df['Month'] = df['Date'].dt.month"
   ]
  },
  {
   "cell_type": "code",
   "execution_count": 91,
   "metadata": {},
   "outputs": [
    {
     "data": {
      "text/html": [
       "<div>\n",
       "<style scoped>\n",
       "    .dataframe tbody tr th:only-of-type {\n",
       "        vertical-align: middle;\n",
       "    }\n",
       "\n",
       "    .dataframe tbody tr th {\n",
       "        vertical-align: top;\n",
       "    }\n",
       "\n",
       "    .dataframe thead th {\n",
       "        text-align: right;\n",
       "    }\n",
       "</style>\n",
       "<table border=\"1\" class=\"dataframe\">\n",
       "  <thead>\n",
       "    <tr style=\"text-align: right;\">\n",
       "      <th></th>\n",
       "      <th>Port Name</th>\n",
       "      <th>State</th>\n",
       "      <th>Port Code</th>\n",
       "      <th>Border</th>\n",
       "      <th>Date</th>\n",
       "      <th>Measure</th>\n",
       "      <th>Value</th>\n",
       "      <th>Year</th>\n",
       "      <th>Month</th>\n",
       "      <th>position</th>\n",
       "    </tr>\n",
       "  </thead>\n",
       "  <tbody>\n",
       "    <tr>\n",
       "      <th>0</th>\n",
       "      <td>Warroad</td>\n",
       "      <td>Minnesota</td>\n",
       "      <td>3423</td>\n",
       "      <td>US-Canada Border</td>\n",
       "      <td>2019-06-01</td>\n",
       "      <td>Personal Vehicle Passengers</td>\n",
       "      <td>19459</td>\n",
       "      <td>2019</td>\n",
       "      <td>6</td>\n",
       "      <td>(48.905266, -95.314404)</td>\n",
       "    </tr>\n",
       "    <tr>\n",
       "      <th>1</th>\n",
       "      <td>Warroad</td>\n",
       "      <td>Minnesota</td>\n",
       "      <td>3423</td>\n",
       "      <td>US-Canada Border</td>\n",
       "      <td>2019-06-01</td>\n",
       "      <td>Pedestrians</td>\n",
       "      <td>2</td>\n",
       "      <td>2019</td>\n",
       "      <td>6</td>\n",
       "      <td>(48.905266, -95.314404)</td>\n",
       "    </tr>\n",
       "    <tr>\n",
       "      <th>2</th>\n",
       "      <td>Warroad</td>\n",
       "      <td>Minnesota</td>\n",
       "      <td>3423</td>\n",
       "      <td>US-Canada Border</td>\n",
       "      <td>2019-06-01</td>\n",
       "      <td>Bus Passengers</td>\n",
       "      <td>63</td>\n",
       "      <td>2019</td>\n",
       "      <td>6</td>\n",
       "      <td>(48.905266, -95.314404)</td>\n",
       "    </tr>\n",
       "    <tr>\n",
       "      <th>3</th>\n",
       "      <td>Roseau</td>\n",
       "      <td>Minnesota</td>\n",
       "      <td>3426</td>\n",
       "      <td>US-Canada Border</td>\n",
       "      <td>2019-06-01</td>\n",
       "      <td>Personal Vehicle Passengers</td>\n",
       "      <td>7385</td>\n",
       "      <td>2019</td>\n",
       "      <td>6</td>\n",
       "      <td>(48.7710371, -95.7697882)</td>\n",
       "    </tr>\n",
       "    <tr>\n",
       "      <th>4</th>\n",
       "      <td>Roseau</td>\n",
       "      <td>Minnesota</td>\n",
       "      <td>3426</td>\n",
       "      <td>US-Canada Border</td>\n",
       "      <td>2019-06-01</td>\n",
       "      <td>Bus Passengers</td>\n",
       "      <td>118</td>\n",
       "      <td>2019</td>\n",
       "      <td>6</td>\n",
       "      <td>(48.7710371, -95.7697882)</td>\n",
       "    </tr>\n",
       "  </tbody>\n",
       "</table>\n",
       "</div>"
      ],
      "text/plain": [
       "  Port Name      State  Port Code            Border       Date  \\\n",
       "0   Warroad  Minnesota       3423  US-Canada Border 2019-06-01   \n",
       "1   Warroad  Minnesota       3423  US-Canada Border 2019-06-01   \n",
       "2   Warroad  Minnesota       3423  US-Canada Border 2019-06-01   \n",
       "3    Roseau  Minnesota       3426  US-Canada Border 2019-06-01   \n",
       "4    Roseau  Minnesota       3426  US-Canada Border 2019-06-01   \n",
       "\n",
       "                       Measure  Value  Year  Month                   position  \n",
       "0  Personal Vehicle Passengers  19459  2019      6    (48.905266, -95.314404)  \n",
       "1                  Pedestrians      2  2019      6    (48.905266, -95.314404)  \n",
       "2               Bus Passengers     63  2019      6    (48.905266, -95.314404)  \n",
       "3  Personal Vehicle Passengers   7385  2019      6  (48.7710371, -95.7697882)  \n",
       "4               Bus Passengers    118  2019      6  (48.7710371, -95.7697882)  "
      ]
     },
     "execution_count": 91,
     "metadata": {},
     "output_type": "execute_result"
    }
   ],
   "source": [
    "df = df[df['Measure'].isin(['Bus Passengers','Pedestrians','Personal Vehicle Passengers','Train Passengers'])].reset_index().drop(columns=['index'])\n",
    "df.head()"
   ]
  },
  {
   "cell_type": "code",
   "execution_count": 92,
   "metadata": {},
   "outputs": [
    {
     "data": {
      "application/vnd.plotly.v1+json": {
       "config": {
        "plotlyServerURL": "https://plot.ly"
       },
       "data": [
        {
         "lat": [
          "44.911752",
          "47.16207",
          "48.84361",
          "48.999904",
          "18.3355244",
          "25.8553739",
          "25.9140256",
          "26.0922991",
          "26.3530256",
          "26.3827771",
          "26.4070669",
          "27.5199841",
          "28.7091433",
          "29.3627296",
          "29.9883766",
          "30.418363",
          "31.3402134",
          "31.342529",
          "31.471341",
          "31.4887016",
          "31.7600372",
          "31.7720329",
          "31.8819798",
          "32.4934395",
          "32.54831535",
          "32.5520013",
          "32.560058",
          "32.5833711",
          "32.6753413",
          "32.6790572",
          "32.7248173",
          "33.2289775",
          "34.8150907",
          "34.8342463",
          "35.3084953",
          "35.9128415",
          "36.1533504",
          "36.6421951",
          "38.2153479",
          "39.25679175",
          "39.3547118",
          "39.5137752",
          "39.7062265",
          "39.7628415",
          "39.7944702",
          "39.9622601",
          "40.03813",
          "40.0473326",
          "40.125222",
          "40.5520473",
          "40.597407",
          "40.7672819",
          "41.1592302",
          "41.2541538",
          "41.5018331",
          "41.9903787",
          "42.3315509",
          "42.9815877",
          "43.0361961",
          "43.0761171",
          "44.125494",
          "44.336127",
          "44.3864565",
          "44.694285",
          "44.982541",
          "44.9953505",
          "45.00042985",
          "45.008759",
          "45.189032",
          "45.5202471",
          "46.1251286",
          "46.490586",
          "46.7698261",
          "47.258728",
          "47.355571",
          "47.963776",
          "48.118146",
          "48.4346971",
          "48.4736934",
          "48.5020123",
          "48.5342662",
          "48.7124408",
          "48.7530787",
          "48.7710371",
          "48.7846346",
          "48.792086",
          "48.813057",
          "48.857088",
          "48.8636212",
          "48.888919",
          "48.8908464",
          "48.905266",
          "48.9083386",
          "48.909464",
          "48.923328",
          "48.94584",
          "48.9466041",
          "48.9521858",
          "48.9708532",
          "48.9853824",
          "48.9861027",
          "48.9950874",
          "48.9975828",
          "48.9982855",
          "48.998612",
          "48.9987931",
          "48.998839",
          "48.9991329",
          "55.3430696",
          "59.6226362",
          "61.7724991",
          "62.66607",
          "laine",
          "nternational Falls",
          "leasant Camp"
         ],
         "locationmode": "USA-states",
         "lon": [
          "-66.985965",
          "-67.94271",
          "108.40599",
          "-116.180196",
          "-64.7549846644977",
          "-80.193103",
          "-97.4890856",
          "-97.9572242",
          "-98.216445",
          "-98.8205251",
          "-99.0055462",
          "-99.4953764",
          "-100.4995214",
          "-100.896761",
          "-104.2336552",
          "-81.709894",
          "-110.9360818",
          "-109.936355674705",
          "-106.151947",
          "-111.5420505",
          "-106.487287",
          "-110.2281323",
          "-112.8153361",
          "-114.7737551",
          "-116.974398450271",
          "-117.0430813",
          "-116.9361338",
          "-116.6285217",
          "-115.3887997",
          "-115.498703",
          "-114.7248614",
          "-105.5558186",
          "-92.2243153",
          "-86.9901321",
          "-77.1541195",
          "-96.8039141",
          "-106.6794817",
          "-114.540263",
          "-85.6402383",
          "-84.5898822999136",
          "-105.1694349",
          "-121.556359",
          "-90.190335",
          "-88.2170516",
          "-99.9100033",
          "-83.0007065",
          "-76.3056686",
          "-104.9649339",
          "-87.6304614",
          "-100.4230266",
          "-124.156034",
          "-78.0975086",
          "-79.0586474",
          "-94.7683113",
          "-120.981359",
          "-70.9750426",
          "-83.0466403",
          "-82.440466",
          "-71.1833951",
          "-78.9928794",
          "-76.3304640631677",
          "-75.917931",
          "-68.2118570811003",
          "-75.486374",
          "-73.377564",
          "-72.6731285931857",
          "-72.1064356198873",
          "-71.5067925",
          "-67.2781424",
          "-122.6741949",
          "-67.8407944",
          "-84.359269",
          "-67.8345688",
          "-68.589706",
          "-68.321915",
          "-89.6848121",
          "-123.4307413",
          "-112.6945072",
          "-118.4834362",
          "-122.6237356",
          "-123.0171242",
          "-94.600171",
          "-97.5532833",
          "-95.7697882",
          "-116.4339511",
          "-105.419948",
          "-100.060968",
          "-106.407904",
          "-117.3718881",
          "-103.008794",
          "-100.5445928",
          "-95.314404",
          "-111.2530312",
          "-101.020712",
          "-97.918148",
          "-98.995961",
          "-122.4569315",
          "-99.3807545",
          "-101.2823803",
          "-123.077974",
          "-97.5548",
          "-122.269080593315",
          "-112.788762",
          "-116.4979886",
          "-98.3648321",
          "-118.2241779",
          "-97.204893",
          "-115.0565577",
          "-131.6466819",
          "-135.4094368",
          "-149.918556",
          "-141.141890269798",
          "Whatcom County, Washington, United States of Americ",
          "Koochiching County, Minnesota, United State",
          "Skagway, Unorganized Borough, Alaska, United State"
         ],
         "marker": {
          "color": "crimson",
          "line": {
           "color": "rgb(40,40,40)",
           "width": 0.5
          },
          "size": [
           8.359844,
           22.277134,
           0.774324,
           10.449358,
           2.188794,
           10.223978,
           738.291532,
           170.706308,
           812.18567,
           80.42433,
           136.796068,
           870.23939,
           357.07261,
           187.473706,
           78.983142,
           16.848452,
           615.779562,
           41.404294,
           57.79658,
           3.262672,
           1626.810752,
           0.11188,
           51.695134,
           390.975136,
           4.689396,
           1641.507174,
           586.626348,
           126.760944,
           295.793376,
           802.927222,
           120.74263,
           0.212604,
           1.623308,
           3.68212,
           4.272158,
           1.033048,
           42.17857,
           16.741054,
           50.5235,
           1.876676,
           0.709416,
           23.869818,
           0.633984,
           236.997368,
           6.210878,
           50.684586,
           2.867422,
           27.887546,
           4.635972,
           4.234568,
           1.196736,
           0.375318,
           0.542302,
           98.105344,
           0.278092,
           7.000202,
           552.920844,
           198.815428,
           3.120566,
           706.920938,
           0.459208,
           75.216032,
           0.37968,
           30.242434,
           142.093434,
           11.16497,
           62.41633,
           6.994516,
           97.556548,
           1.580476,
           33.213508,
           111.341924,
           15.20834,
           19.342898,
           48.343494,
           26.089162,
           4.24013,
           14.843998,
           0.945016,
           2.339466,
           0.26535,
           18.091218,
           33.806294,
           3.781128,
           4.137794,
           0.535982,
           7.087368,
           0.396062,
           2.984852,
           2.815836,
           1.269254,
           12.687522,
           0.074938,
           1.087006,
           3.517938,
           0.552006,
           60.8169,
           1.099146,
           1.038846,
           75.762716,
           4.04542,
           86.338434,
           2.518648,
           11.863708,
           1.278936,
           4.801696,
           1.839198,
           13.018704,
           0.234996,
           14.082432,
           0.191742,
           5.635924,
           367.894092,
           49.121096,
           1.884704
          ],
          "sizemode": "area"
         },
         "text": [
          "Eastport_MA<br>Crossings: 4.179922 million",
          "Van Buren<br>Crossings: 11.138567 million",
          "Turner<br>Crossings: 0.387162 million",
          "Eastport_ID<br>Crossings: 5.224679 million",
          "St. John<br>Crossings: 1.094397 million",
          "Portal<br>Crossings: 5.111989 million",
          "Brownsville<br>Crossings: 369.145766 million",
          "Progreso<br>Crossings: 85.353154 million",
          "Hidalgo<br>Crossings: 406.092835 million",
          "Rio Grande City<br>Crossings: 40.212165 million",
          "Roma<br>Crossings: 68.398034 million",
          "Laredo<br>Crossings: 435.119695 million",
          "Eagle Pass<br>Crossings: 178.536305 million",
          "Del Rio<br>Crossings: 93.736853 million",
          "Presidio<br>Crossings: 39.491571 million",
          "Trout River<br>Crossings: 8.424226 million",
          "Nogales<br>Crossings: 307.889781 million",
          "Naco<br>Crossings: 20.702147 million",
          "Tornillo-Fabens<br>Crossings: 28.89829 million",
          "Sasabe<br>Crossings: 1.631336 million",
          "El Paso<br>Crossings: 813.405376 million",
          "Boquillas<br>Crossings: 0.05594 million",
          "Lukeville<br>Crossings: 25.847567 million",
          "San Luis<br>Crossings: 195.487568 million",
          "Cross Border Xpress<br>Crossings: 2.344698 million",
          "San Ysidro<br>Crossings: 820.753587 million",
          "Otay Mesa<br>Crossings: 293.313174 million",
          "Tecate<br>Crossings: 63.380472 million",
          "Calexico East<br>Crossings: 147.896688 million",
          "Calexico<br>Crossings: 401.463611 million",
          "Andrade<br>Crossings: 60.371315 million",
          "Whitetail<br>Crossings: 0.106302 million",
          "Sherwood<br>Crossings: 0.811654 million",
          "Limestone<br>Crossings: 1.84106 million",
          "Vanceboro<br>Crossings: 2.136079 million",
          "Wildhorse<br>Crossings: 0.516524 million",
          "Santa Teresa<br>Crossings: 21.089285 million",
          "Jackman<br>Crossings: 8.370527 million",
          "Highgate Springs-Alburg<br>Crossings: 25.26175 million",
          "Northgate<br>Crossings: 0.938338 million",
          "Nighthawk<br>Crossings: 0.354708 million",
          "Oroville<br>Crossings: 11.934909 million",
          "Morgan<br>Crossings: 0.316992 million",
          "Douglas<br>Crossings: 118.498684 million",
          "Norton<br>Crossings: 3.105439 million",
          "Columbus<br>Crossings: 25.342293 million",
          "Lancaster<br>Crossings: 1.433711 million",
          "Sweetgrass<br>Crossings: 13.943773 million",
          "Danville<br>Crossings: 2.317986 million",
          "Frontier<br>Crossings: 2.117284 million",
          "Fortuna<br>Crossings: 0.598368 million",
          "Hannah<br>Crossings: 0.187659 million",
          "Pinecreek<br>Crossings: 0.271151 million",
          "Massena<br>Crossings: 49.052672 million",
          "Ambrose<br>Crossings: 0.139046 million",
          "Bridgewater<br>Crossings: 3.500101 million",
          "Detroit<br>Crossings: 276.460422 million",
          "Port Huron<br>Crossings: 99.407714 million",
          "Raymond<br>Crossings: 1.560283 million",
          "Buffalo-Niagara Falls<br>Crossings: 353.460469 million",
          "Cape Vincent<br>Crossings: 0.229604 million",
          "Alexandria Bay<br>Crossings: 37.608016 million",
          "Bar Harbor<br>Crossings: 0.18984 million",
          "Ogdensburg<br>Crossings: 15.121217 million",
          "Champlain-Rouses Point<br>Crossings: 71.046717 million",
          "Richford<br>Crossings: 5.582485 million",
          "Derby Line<br>Crossings: 31.208165 million",
          "Beecher Falls<br>Crossings: 3.497258 million",
          "Calais<br>Crossings: 48.778274 million",
          "Portland<br>Crossings: 0.790238 million",
          "Houlton<br>Crossings: 16.606754 million",
          "Sault Sainte Marie<br>Crossings: 55.670962 million",
          "Fort Fairfield<br>Crossings: 7.60417 million",
          "Fort Kent<br>Crossings: 9.671449 million",
          "Madawaska<br>Crossings: 24.171747 million",
          "Grand Portage<br>Crossings: 13.044581 million",
          "Port Angeles<br>Crossings: 2.120065 million",
          "Piegan<br>Crossings: 7.421999 million",
          "Ferry<br>Crossings: 0.472508 million",
          "Anacortes<br>Crossings: 1.169733 million",
          "Friday Harbor<br>Crossings: 0.132675 million",
          "Baudette<br>Crossings: 9.045609 million",
          "Pembina<br>Crossings: 16.903147 million",
          "Roseau<br>Crossings: 1.890564 million",
          "Boundary<br>Crossings: 2.068897 million",
          "Scobey<br>Crossings: 0.267991 million",
          "Dunseith<br>Crossings: 3.543684 million",
          "Opheim<br>Crossings: 0.198031 million",
          "Metaline Falls<br>Crossings: 1.492426 million",
          "Noonan<br>Crossings: 1.407918 million",
          "Carbury<br>Crossings: 0.634627 million",
          "Warroad<br>Crossings: 6.343761 million",
          "Whitlash<br>Crossings: 0.037469 million",
          "Westhope<br>Crossings: 0.543503 million",
          "Walhalla<br>Crossings: 1.758969 million",
          "Sarles<br>Crossings: 0.276003 million",
          "Lynden<br>Crossings: 30.40845 million",
          "Hansboro<br>Crossings: 0.549573 million",
          "Antler<br>Crossings: 0.519423 million",
          "Point Roberts<br>Crossings: 37.881358 million",
          "Neche<br>Crossings: 2.02271 million",
          "Sumas<br>Crossings: 43.169217 million",
          "Del Bonita<br>Crossings: 1.259324 million",
          "Porthill<br>Crossings: 5.931854 million",
          "Maida<br>Crossings: 0.639468 million",
          "Laurier<br>Crossings: 2.400848 million",
          "Noyes<br>Crossings: 0.919599 million",
          "Roosville<br>Crossings: 6.509352 million",
          "Ketchikan<br>Crossings: 0.117498 million",
          "Skagway<br>Crossings: 7.041216 million",
          "Willow Creek<br>Crossings: 0.095871 million",
          "Alcan<br>Crossings: 2.817962 million",
          "Blaine<br>Crossings: 183.947046 million",
          "International Falls-Ranier<br>Crossings: 24.560548 million",
          "Dalton Cache<br>Crossings: 0.942352 million"
         ],
         "type": "scattergeo"
        }
       ],
       "layout": {
        "geo": {
         "landcolor": "rgb(217, 217, 217)",
         "scope": "usa"
        },
        "showlegend": false,
        "template": {
         "data": {
          "bar": [
           {
            "error_x": {
             "color": "#2a3f5f"
            },
            "error_y": {
             "color": "#2a3f5f"
            },
            "marker": {
             "line": {
              "color": "#E5ECF6",
              "width": 0.5
             }
            },
            "type": "bar"
           }
          ],
          "barpolar": [
           {
            "marker": {
             "line": {
              "color": "#E5ECF6",
              "width": 0.5
             }
            },
            "type": "barpolar"
           }
          ],
          "carpet": [
           {
            "aaxis": {
             "endlinecolor": "#2a3f5f",
             "gridcolor": "white",
             "linecolor": "white",
             "minorgridcolor": "white",
             "startlinecolor": "#2a3f5f"
            },
            "baxis": {
             "endlinecolor": "#2a3f5f",
             "gridcolor": "white",
             "linecolor": "white",
             "minorgridcolor": "white",
             "startlinecolor": "#2a3f5f"
            },
            "type": "carpet"
           }
          ],
          "choropleth": [
           {
            "colorbar": {
             "outlinewidth": 0,
             "ticks": ""
            },
            "type": "choropleth"
           }
          ],
          "contour": [
           {
            "colorbar": {
             "outlinewidth": 0,
             "ticks": ""
            },
            "colorscale": [
             [
              0,
              "#0d0887"
             ],
             [
              0.1111111111111111,
              "#46039f"
             ],
             [
              0.2222222222222222,
              "#7201a8"
             ],
             [
              0.3333333333333333,
              "#9c179e"
             ],
             [
              0.4444444444444444,
              "#bd3786"
             ],
             [
              0.5555555555555556,
              "#d8576b"
             ],
             [
              0.6666666666666666,
              "#ed7953"
             ],
             [
              0.7777777777777778,
              "#fb9f3a"
             ],
             [
              0.8888888888888888,
              "#fdca26"
             ],
             [
              1,
              "#f0f921"
             ]
            ],
            "type": "contour"
           }
          ],
          "contourcarpet": [
           {
            "colorbar": {
             "outlinewidth": 0,
             "ticks": ""
            },
            "type": "contourcarpet"
           }
          ],
          "heatmap": [
           {
            "colorbar": {
             "outlinewidth": 0,
             "ticks": ""
            },
            "colorscale": [
             [
              0,
              "#0d0887"
             ],
             [
              0.1111111111111111,
              "#46039f"
             ],
             [
              0.2222222222222222,
              "#7201a8"
             ],
             [
              0.3333333333333333,
              "#9c179e"
             ],
             [
              0.4444444444444444,
              "#bd3786"
             ],
             [
              0.5555555555555556,
              "#d8576b"
             ],
             [
              0.6666666666666666,
              "#ed7953"
             ],
             [
              0.7777777777777778,
              "#fb9f3a"
             ],
             [
              0.8888888888888888,
              "#fdca26"
             ],
             [
              1,
              "#f0f921"
             ]
            ],
            "type": "heatmap"
           }
          ],
          "heatmapgl": [
           {
            "colorbar": {
             "outlinewidth": 0,
             "ticks": ""
            },
            "colorscale": [
             [
              0,
              "#0d0887"
             ],
             [
              0.1111111111111111,
              "#46039f"
             ],
             [
              0.2222222222222222,
              "#7201a8"
             ],
             [
              0.3333333333333333,
              "#9c179e"
             ],
             [
              0.4444444444444444,
              "#bd3786"
             ],
             [
              0.5555555555555556,
              "#d8576b"
             ],
             [
              0.6666666666666666,
              "#ed7953"
             ],
             [
              0.7777777777777778,
              "#fb9f3a"
             ],
             [
              0.8888888888888888,
              "#fdca26"
             ],
             [
              1,
              "#f0f921"
             ]
            ],
            "type": "heatmapgl"
           }
          ],
          "histogram": [
           {
            "marker": {
             "colorbar": {
              "outlinewidth": 0,
              "ticks": ""
             }
            },
            "type": "histogram"
           }
          ],
          "histogram2d": [
           {
            "colorbar": {
             "outlinewidth": 0,
             "ticks": ""
            },
            "colorscale": [
             [
              0,
              "#0d0887"
             ],
             [
              0.1111111111111111,
              "#46039f"
             ],
             [
              0.2222222222222222,
              "#7201a8"
             ],
             [
              0.3333333333333333,
              "#9c179e"
             ],
             [
              0.4444444444444444,
              "#bd3786"
             ],
             [
              0.5555555555555556,
              "#d8576b"
             ],
             [
              0.6666666666666666,
              "#ed7953"
             ],
             [
              0.7777777777777778,
              "#fb9f3a"
             ],
             [
              0.8888888888888888,
              "#fdca26"
             ],
             [
              1,
              "#f0f921"
             ]
            ],
            "type": "histogram2d"
           }
          ],
          "histogram2dcontour": [
           {
            "colorbar": {
             "outlinewidth": 0,
             "ticks": ""
            },
            "colorscale": [
             [
              0,
              "#0d0887"
             ],
             [
              0.1111111111111111,
              "#46039f"
             ],
             [
              0.2222222222222222,
              "#7201a8"
             ],
             [
              0.3333333333333333,
              "#9c179e"
             ],
             [
              0.4444444444444444,
              "#bd3786"
             ],
             [
              0.5555555555555556,
              "#d8576b"
             ],
             [
              0.6666666666666666,
              "#ed7953"
             ],
             [
              0.7777777777777778,
              "#fb9f3a"
             ],
             [
              0.8888888888888888,
              "#fdca26"
             ],
             [
              1,
              "#f0f921"
             ]
            ],
            "type": "histogram2dcontour"
           }
          ],
          "mesh3d": [
           {
            "colorbar": {
             "outlinewidth": 0,
             "ticks": ""
            },
            "type": "mesh3d"
           }
          ],
          "parcoords": [
           {
            "line": {
             "colorbar": {
              "outlinewidth": 0,
              "ticks": ""
             }
            },
            "type": "parcoords"
           }
          ],
          "pie": [
           {
            "automargin": true,
            "type": "pie"
           }
          ],
          "scatter": [
           {
            "marker": {
             "colorbar": {
              "outlinewidth": 0,
              "ticks": ""
             }
            },
            "type": "scatter"
           }
          ],
          "scatter3d": [
           {
            "line": {
             "colorbar": {
              "outlinewidth": 0,
              "ticks": ""
             }
            },
            "marker": {
             "colorbar": {
              "outlinewidth": 0,
              "ticks": ""
             }
            },
            "type": "scatter3d"
           }
          ],
          "scattercarpet": [
           {
            "marker": {
             "colorbar": {
              "outlinewidth": 0,
              "ticks": ""
             }
            },
            "type": "scattercarpet"
           }
          ],
          "scattergeo": [
           {
            "marker": {
             "colorbar": {
              "outlinewidth": 0,
              "ticks": ""
             }
            },
            "type": "scattergeo"
           }
          ],
          "scattergl": [
           {
            "marker": {
             "colorbar": {
              "outlinewidth": 0,
              "ticks": ""
             }
            },
            "type": "scattergl"
           }
          ],
          "scattermapbox": [
           {
            "marker": {
             "colorbar": {
              "outlinewidth": 0,
              "ticks": ""
             }
            },
            "type": "scattermapbox"
           }
          ],
          "scatterpolar": [
           {
            "marker": {
             "colorbar": {
              "outlinewidth": 0,
              "ticks": ""
             }
            },
            "type": "scatterpolar"
           }
          ],
          "scatterpolargl": [
           {
            "marker": {
             "colorbar": {
              "outlinewidth": 0,
              "ticks": ""
             }
            },
            "type": "scatterpolargl"
           }
          ],
          "scatterternary": [
           {
            "marker": {
             "colorbar": {
              "outlinewidth": 0,
              "ticks": ""
             }
            },
            "type": "scatterternary"
           }
          ],
          "surface": [
           {
            "colorbar": {
             "outlinewidth": 0,
             "ticks": ""
            },
            "colorscale": [
             [
              0,
              "#0d0887"
             ],
             [
              0.1111111111111111,
              "#46039f"
             ],
             [
              0.2222222222222222,
              "#7201a8"
             ],
             [
              0.3333333333333333,
              "#9c179e"
             ],
             [
              0.4444444444444444,
              "#bd3786"
             ],
             [
              0.5555555555555556,
              "#d8576b"
             ],
             [
              0.6666666666666666,
              "#ed7953"
             ],
             [
              0.7777777777777778,
              "#fb9f3a"
             ],
             [
              0.8888888888888888,
              "#fdca26"
             ],
             [
              1,
              "#f0f921"
             ]
            ],
            "type": "surface"
           }
          ],
          "table": [
           {
            "cells": {
             "fill": {
              "color": "#EBF0F8"
             },
             "line": {
              "color": "white"
             }
            },
            "header": {
             "fill": {
              "color": "#C8D4E3"
             },
             "line": {
              "color": "white"
             }
            },
            "type": "table"
           }
          ]
         },
         "layout": {
          "annotationdefaults": {
           "arrowcolor": "#2a3f5f",
           "arrowhead": 0,
           "arrowwidth": 1
          },
          "coloraxis": {
           "colorbar": {
            "outlinewidth": 0,
            "ticks": ""
           }
          },
          "colorscale": {
           "diverging": [
            [
             0,
             "#8e0152"
            ],
            [
             0.1,
             "#c51b7d"
            ],
            [
             0.2,
             "#de77ae"
            ],
            [
             0.3,
             "#f1b6da"
            ],
            [
             0.4,
             "#fde0ef"
            ],
            [
             0.5,
             "#f7f7f7"
            ],
            [
             0.6,
             "#e6f5d0"
            ],
            [
             0.7,
             "#b8e186"
            ],
            [
             0.8,
             "#7fbc41"
            ],
            [
             0.9,
             "#4d9221"
            ],
            [
             1,
             "#276419"
            ]
           ],
           "sequential": [
            [
             0,
             "#0d0887"
            ],
            [
             0.1111111111111111,
             "#46039f"
            ],
            [
             0.2222222222222222,
             "#7201a8"
            ],
            [
             0.3333333333333333,
             "#9c179e"
            ],
            [
             0.4444444444444444,
             "#bd3786"
            ],
            [
             0.5555555555555556,
             "#d8576b"
            ],
            [
             0.6666666666666666,
             "#ed7953"
            ],
            [
             0.7777777777777778,
             "#fb9f3a"
            ],
            [
             0.8888888888888888,
             "#fdca26"
            ],
            [
             1,
             "#f0f921"
            ]
           ],
           "sequentialminus": [
            [
             0,
             "#0d0887"
            ],
            [
             0.1111111111111111,
             "#46039f"
            ],
            [
             0.2222222222222222,
             "#7201a8"
            ],
            [
             0.3333333333333333,
             "#9c179e"
            ],
            [
             0.4444444444444444,
             "#bd3786"
            ],
            [
             0.5555555555555556,
             "#d8576b"
            ],
            [
             0.6666666666666666,
             "#ed7953"
            ],
            [
             0.7777777777777778,
             "#fb9f3a"
            ],
            [
             0.8888888888888888,
             "#fdca26"
            ],
            [
             1,
             "#f0f921"
            ]
           ]
          },
          "colorway": [
           "#636efa",
           "#EF553B",
           "#00cc96",
           "#ab63fa",
           "#FFA15A",
           "#19d3f3",
           "#FF6692",
           "#B6E880",
           "#FF97FF",
           "#FECB52"
          ],
          "font": {
           "color": "#2a3f5f"
          },
          "geo": {
           "bgcolor": "white",
           "lakecolor": "white",
           "landcolor": "#E5ECF6",
           "showlakes": true,
           "showland": true,
           "subunitcolor": "white"
          },
          "hoverlabel": {
           "align": "left"
          },
          "hovermode": "closest",
          "mapbox": {
           "style": "light"
          },
          "paper_bgcolor": "white",
          "plot_bgcolor": "#E5ECF6",
          "polar": {
           "angularaxis": {
            "gridcolor": "white",
            "linecolor": "white",
            "ticks": ""
           },
           "bgcolor": "#E5ECF6",
           "radialaxis": {
            "gridcolor": "white",
            "linecolor": "white",
            "ticks": ""
           }
          },
          "scene": {
           "xaxis": {
            "backgroundcolor": "#E5ECF6",
            "gridcolor": "white",
            "gridwidth": 2,
            "linecolor": "white",
            "showbackground": true,
            "ticks": "",
            "zerolinecolor": "white"
           },
           "yaxis": {
            "backgroundcolor": "#E5ECF6",
            "gridcolor": "white",
            "gridwidth": 2,
            "linecolor": "white",
            "showbackground": true,
            "ticks": "",
            "zerolinecolor": "white"
           },
           "zaxis": {
            "backgroundcolor": "#E5ECF6",
            "gridcolor": "white",
            "gridwidth": 2,
            "linecolor": "white",
            "showbackground": true,
            "ticks": "",
            "zerolinecolor": "white"
           }
          },
          "shapedefaults": {
           "line": {
            "color": "#2a3f5f"
           }
          },
          "ternary": {
           "aaxis": {
            "gridcolor": "white",
            "linecolor": "white",
            "ticks": ""
           },
           "baxis": {
            "gridcolor": "white",
            "linecolor": "white",
            "ticks": ""
           },
           "bgcolor": "#E5ECF6",
           "caxis": {
            "gridcolor": "white",
            "linecolor": "white",
            "ticks": ""
           }
          },
          "title": {
           "x": 0.05
          },
          "xaxis": {
           "automargin": true,
           "gridcolor": "white",
           "linecolor": "white",
           "ticks": "",
           "title": {
            "standoff": 15
           },
           "zerolinecolor": "white",
           "zerolinewidth": 2
          },
          "yaxis": {
           "automargin": true,
           "gridcolor": "white",
           "linecolor": "white",
           "ticks": "",
           "title": {
            "standoff": 15
           },
           "zerolinecolor": "white",
           "zerolinewidth": 2
          }
         }
        },
        "title": {
         "text": "US Borders, total inbound persons since 1996<br>(Click legend to toggle traces)"
        }
       }
      },
      "text/html": [
       "<div>\n",
       "        \n",
       "        \n",
       "            <div id=\"10bd2bf7-3904-4974-b61c-babf7234577c\" class=\"plotly-graph-div\" style=\"height:525px; width:100%;\"></div>\n",
       "            <script type=\"text/javascript\">\n",
       "                require([\"plotly\"], function(Plotly) {\n",
       "                    window.PLOTLYENV=window.PLOTLYENV || {};\n",
       "                    \n",
       "                if (document.getElementById(\"10bd2bf7-3904-4974-b61c-babf7234577c\")) {\n",
       "                    Plotly.newPlot(\n",
       "                        '10bd2bf7-3904-4974-b61c-babf7234577c',\n",
       "                        [{\"lat\": [\"44.911752\", \"47.16207\", \"48.84361\", \"48.999904\", \"18.3355244\", \"25.8553739\", \"25.9140256\", \"26.0922991\", \"26.3530256\", \"26.3827771\", \"26.4070669\", \"27.5199841\", \"28.7091433\", \"29.3627296\", \"29.9883766\", \"30.418363\", \"31.3402134\", \"31.342529\", \"31.471341\", \"31.4887016\", \"31.7600372\", \"31.7720329\", \"31.8819798\", \"32.4934395\", \"32.54831535\", \"32.5520013\", \"32.560058\", \"32.5833711\", \"32.6753413\", \"32.6790572\", \"32.7248173\", \"33.2289775\", \"34.8150907\", \"34.8342463\", \"35.3084953\", \"35.9128415\", \"36.1533504\", \"36.6421951\", \"38.2153479\", \"39.25679175\", \"39.3547118\", \"39.5137752\", \"39.7062265\", \"39.7628415\", \"39.7944702\", \"39.9622601\", \"40.03813\", \"40.0473326\", \"40.125222\", \"40.5520473\", \"40.597407\", \"40.7672819\", \"41.1592302\", \"41.2541538\", \"41.5018331\", \"41.9903787\", \"42.3315509\", \"42.9815877\", \"43.0361961\", \"43.0761171\", \"44.125494\", \"44.336127\", \"44.3864565\", \"44.694285\", \"44.982541\", \"44.9953505\", \"45.00042985\", \"45.008759\", \"45.189032\", \"45.5202471\", \"46.1251286\", \"46.490586\", \"46.7698261\", \"47.258728\", \"47.355571\", \"47.963776\", \"48.118146\", \"48.4346971\", \"48.4736934\", \"48.5020123\", \"48.5342662\", \"48.7124408\", \"48.7530787\", \"48.7710371\", \"48.7846346\", \"48.792086\", \"48.813057\", \"48.857088\", \"48.8636212\", \"48.888919\", \"48.8908464\", \"48.905266\", \"48.9083386\", \"48.909464\", \"48.923328\", \"48.94584\", \"48.9466041\", \"48.9521858\", \"48.9708532\", \"48.9853824\", \"48.9861027\", \"48.9950874\", \"48.9975828\", \"48.9982855\", \"48.998612\", \"48.9987931\", \"48.998839\", \"48.9991329\", \"55.3430696\", \"59.6226362\", \"61.7724991\", \"62.66607\", \"laine\", \"nternational Falls\", \"leasant Camp\"], \"locationmode\": \"USA-states\", \"lon\": [\"-66.985965\", \"-67.94271\", \"108.40599\", \"-116.180196\", \"-64.7549846644977\", \"-80.193103\", \"-97.4890856\", \"-97.9572242\", \"-98.216445\", \"-98.8205251\", \"-99.0055462\", \"-99.4953764\", \"-100.4995214\", \"-100.896761\", \"-104.2336552\", \"-81.709894\", \"-110.9360818\", \"-109.936355674705\", \"-106.151947\", \"-111.5420505\", \"-106.487287\", \"-110.2281323\", \"-112.8153361\", \"-114.7737551\", \"-116.974398450271\", \"-117.0430813\", \"-116.9361338\", \"-116.6285217\", \"-115.3887997\", \"-115.498703\", \"-114.7248614\", \"-105.5558186\", \"-92.2243153\", \"-86.9901321\", \"-77.1541195\", \"-96.8039141\", \"-106.6794817\", \"-114.540263\", \"-85.6402383\", \"-84.5898822999136\", \"-105.1694349\", \"-121.556359\", \"-90.190335\", \"-88.2170516\", \"-99.9100033\", \"-83.0007065\", \"-76.3056686\", \"-104.9649339\", \"-87.6304614\", \"-100.4230266\", \"-124.156034\", \"-78.0975086\", \"-79.0586474\", \"-94.7683113\", \"-120.981359\", \"-70.9750426\", \"-83.0466403\", \"-82.440466\", \"-71.1833951\", \"-78.9928794\", \"-76.3304640631677\", \"-75.917931\", \"-68.2118570811003\", \"-75.486374\", \"-73.377564\", \"-72.6731285931857\", \"-72.1064356198873\", \"-71.5067925\", \"-67.2781424\", \"-122.6741949\", \"-67.8407944\", \"-84.359269\", \"-67.8345688\", \"-68.589706\", \"-68.321915\", \"-89.6848121\", \"-123.4307413\", \"-112.6945072\", \"-118.4834362\", \"-122.6237356\", \"-123.0171242\", \"-94.600171\", \"-97.5532833\", \"-95.7697882\", \"-116.4339511\", \"-105.419948\", \"-100.060968\", \"-106.407904\", \"-117.3718881\", \"-103.008794\", \"-100.5445928\", \"-95.314404\", \"-111.2530312\", \"-101.020712\", \"-97.918148\", \"-98.995961\", \"-122.4569315\", \"-99.3807545\", \"-101.2823803\", \"-123.077974\", \"-97.5548\", \"-122.269080593315\", \"-112.788762\", \"-116.4979886\", \"-98.3648321\", \"-118.2241779\", \"-97.204893\", \"-115.0565577\", \"-131.6466819\", \"-135.4094368\", \"-149.918556\", \"-141.141890269798\", \"Whatcom County, Washington, United States of Americ\", \"Koochiching County, Minnesota, United State\", \"Skagway, Unorganized Borough, Alaska, United State\"], \"marker\": {\"color\": \"crimson\", \"line\": {\"color\": \"rgb(40,40,40)\", \"width\": 0.5}, \"size\": [8.359844, 22.277134, 0.774324, 10.449358, 2.188794, 10.223978, 738.291532, 170.706308, 812.18567, 80.42433, 136.796068, 870.23939, 357.07261, 187.473706, 78.983142, 16.848452, 615.779562, 41.404294, 57.79658, 3.262672, 1626.810752, 0.11188, 51.695134, 390.975136, 4.689396, 1641.507174, 586.626348, 126.760944, 295.793376, 802.927222, 120.74263, 0.212604, 1.623308, 3.68212, 4.272158, 1.033048, 42.17857, 16.741054, 50.5235, 1.876676, 0.709416, 23.869818, 0.633984, 236.997368, 6.210878, 50.684586, 2.867422, 27.887546, 4.635972, 4.234568, 1.196736, 0.375318, 0.542302, 98.105344, 0.278092, 7.000202, 552.920844, 198.815428, 3.120566, 706.920938, 0.459208, 75.216032, 0.37968, 30.242434, 142.093434, 11.16497, 62.41633, 6.994516, 97.556548, 1.580476, 33.213508, 111.341924, 15.20834, 19.342898, 48.343494, 26.089162, 4.24013, 14.843998, 0.945016, 2.339466, 0.26535, 18.091218, 33.806294, 3.781128, 4.137794, 0.535982, 7.087368, 0.396062, 2.984852, 2.815836, 1.269254, 12.687522, 0.074938, 1.087006, 3.517938, 0.552006, 60.8169, 1.099146, 1.038846, 75.762716, 4.04542, 86.338434, 2.518648, 11.863708, 1.278936, 4.801696, 1.839198, 13.018704, 0.234996, 14.082432, 0.191742, 5.635924, 367.894092, 49.121096, 1.884704], \"sizemode\": \"area\"}, \"text\": [\"Eastport_MA<br>Crossings: 4.179922 million\", \"Van Buren<br>Crossings: 11.138567 million\", \"Turner<br>Crossings: 0.387162 million\", \"Eastport_ID<br>Crossings: 5.224679 million\", \"St. John<br>Crossings: 1.094397 million\", \"Portal<br>Crossings: 5.111989 million\", \"Brownsville<br>Crossings: 369.145766 million\", \"Progreso<br>Crossings: 85.353154 million\", \"Hidalgo<br>Crossings: 406.092835 million\", \"Rio Grande City<br>Crossings: 40.212165 million\", \"Roma<br>Crossings: 68.398034 million\", \"Laredo<br>Crossings: 435.119695 million\", \"Eagle Pass<br>Crossings: 178.536305 million\", \"Del Rio<br>Crossings: 93.736853 million\", \"Presidio<br>Crossings: 39.491571 million\", \"Trout River<br>Crossings: 8.424226 million\", \"Nogales<br>Crossings: 307.889781 million\", \"Naco<br>Crossings: 20.702147 million\", \"Tornillo-Fabens<br>Crossings: 28.89829 million\", \"Sasabe<br>Crossings: 1.631336 million\", \"El Paso<br>Crossings: 813.405376 million\", \"Boquillas<br>Crossings: 0.05594 million\", \"Lukeville<br>Crossings: 25.847567 million\", \"San Luis<br>Crossings: 195.487568 million\", \"Cross Border Xpress<br>Crossings: 2.344698 million\", \"San Ysidro<br>Crossings: 820.753587 million\", \"Otay Mesa<br>Crossings: 293.313174 million\", \"Tecate<br>Crossings: 63.380472 million\", \"Calexico East<br>Crossings: 147.896688 million\", \"Calexico<br>Crossings: 401.463611 million\", \"Andrade<br>Crossings: 60.371315 million\", \"Whitetail<br>Crossings: 0.106302 million\", \"Sherwood<br>Crossings: 0.811654 million\", \"Limestone<br>Crossings: 1.84106 million\", \"Vanceboro<br>Crossings: 2.136079 million\", \"Wildhorse<br>Crossings: 0.516524 million\", \"Santa Teresa<br>Crossings: 21.089285 million\", \"Jackman<br>Crossings: 8.370527 million\", \"Highgate Springs-Alburg<br>Crossings: 25.26175 million\", \"Northgate<br>Crossings: 0.938338 million\", \"Nighthawk<br>Crossings: 0.354708 million\", \"Oroville<br>Crossings: 11.934909 million\", \"Morgan<br>Crossings: 0.316992 million\", \"Douglas<br>Crossings: 118.498684 million\", \"Norton<br>Crossings: 3.105439 million\", \"Columbus<br>Crossings: 25.342293 million\", \"Lancaster<br>Crossings: 1.433711 million\", \"Sweetgrass<br>Crossings: 13.943773 million\", \"Danville<br>Crossings: 2.317986 million\", \"Frontier<br>Crossings: 2.117284 million\", \"Fortuna<br>Crossings: 0.598368 million\", \"Hannah<br>Crossings: 0.187659 million\", \"Pinecreek<br>Crossings: 0.271151 million\", \"Massena<br>Crossings: 49.052672 million\", \"Ambrose<br>Crossings: 0.139046 million\", \"Bridgewater<br>Crossings: 3.500101 million\", \"Detroit<br>Crossings: 276.460422 million\", \"Port Huron<br>Crossings: 99.407714 million\", \"Raymond<br>Crossings: 1.560283 million\", \"Buffalo-Niagara Falls<br>Crossings: 353.460469 million\", \"Cape Vincent<br>Crossings: 0.229604 million\", \"Alexandria Bay<br>Crossings: 37.608016 million\", \"Bar Harbor<br>Crossings: 0.18984 million\", \"Ogdensburg<br>Crossings: 15.121217 million\", \"Champlain-Rouses Point<br>Crossings: 71.046717 million\", \"Richford<br>Crossings: 5.582485 million\", \"Derby Line<br>Crossings: 31.208165 million\", \"Beecher Falls<br>Crossings: 3.497258 million\", \"Calais<br>Crossings: 48.778274 million\", \"Portland<br>Crossings: 0.790238 million\", \"Houlton<br>Crossings: 16.606754 million\", \"Sault Sainte Marie<br>Crossings: 55.670962 million\", \"Fort Fairfield<br>Crossings: 7.60417 million\", \"Fort Kent<br>Crossings: 9.671449 million\", \"Madawaska<br>Crossings: 24.171747 million\", \"Grand Portage<br>Crossings: 13.044581 million\", \"Port Angeles<br>Crossings: 2.120065 million\", \"Piegan<br>Crossings: 7.421999 million\", \"Ferry<br>Crossings: 0.472508 million\", \"Anacortes<br>Crossings: 1.169733 million\", \"Friday Harbor<br>Crossings: 0.132675 million\", \"Baudette<br>Crossings: 9.045609 million\", \"Pembina<br>Crossings: 16.903147 million\", \"Roseau<br>Crossings: 1.890564 million\", \"Boundary<br>Crossings: 2.068897 million\", \"Scobey<br>Crossings: 0.267991 million\", \"Dunseith<br>Crossings: 3.543684 million\", \"Opheim<br>Crossings: 0.198031 million\", \"Metaline Falls<br>Crossings: 1.492426 million\", \"Noonan<br>Crossings: 1.407918 million\", \"Carbury<br>Crossings: 0.634627 million\", \"Warroad<br>Crossings: 6.343761 million\", \"Whitlash<br>Crossings: 0.037469 million\", \"Westhope<br>Crossings: 0.543503 million\", \"Walhalla<br>Crossings: 1.758969 million\", \"Sarles<br>Crossings: 0.276003 million\", \"Lynden<br>Crossings: 30.40845 million\", \"Hansboro<br>Crossings: 0.549573 million\", \"Antler<br>Crossings: 0.519423 million\", \"Point Roberts<br>Crossings: 37.881358 million\", \"Neche<br>Crossings: 2.02271 million\", \"Sumas<br>Crossings: 43.169217 million\", \"Del Bonita<br>Crossings: 1.259324 million\", \"Porthill<br>Crossings: 5.931854 million\", \"Maida<br>Crossings: 0.639468 million\", \"Laurier<br>Crossings: 2.400848 million\", \"Noyes<br>Crossings: 0.919599 million\", \"Roosville<br>Crossings: 6.509352 million\", \"Ketchikan<br>Crossings: 0.117498 million\", \"Skagway<br>Crossings: 7.041216 million\", \"Willow Creek<br>Crossings: 0.095871 million\", \"Alcan<br>Crossings: 2.817962 million\", \"Blaine<br>Crossings: 183.947046 million\", \"International Falls-Ranier<br>Crossings: 24.560548 million\", \"Dalton Cache<br>Crossings: 0.942352 million\"], \"type\": \"scattergeo\"}],\n",
       "                        {\"geo\": {\"landcolor\": \"rgb(217, 217, 217)\", \"scope\": \"usa\"}, \"showlegend\": false, \"template\": {\"data\": {\"bar\": [{\"error_x\": {\"color\": \"#2a3f5f\"}, \"error_y\": {\"color\": \"#2a3f5f\"}, \"marker\": {\"line\": {\"color\": \"#E5ECF6\", \"width\": 0.5}}, \"type\": \"bar\"}], \"barpolar\": [{\"marker\": {\"line\": {\"color\": \"#E5ECF6\", \"width\": 0.5}}, \"type\": \"barpolar\"}], \"carpet\": [{\"aaxis\": {\"endlinecolor\": \"#2a3f5f\", \"gridcolor\": \"white\", \"linecolor\": \"white\", \"minorgridcolor\": \"white\", \"startlinecolor\": \"#2a3f5f\"}, \"baxis\": {\"endlinecolor\": \"#2a3f5f\", \"gridcolor\": \"white\", \"linecolor\": \"white\", \"minorgridcolor\": \"white\", \"startlinecolor\": \"#2a3f5f\"}, \"type\": \"carpet\"}], \"choropleth\": [{\"colorbar\": {\"outlinewidth\": 0, \"ticks\": \"\"}, \"type\": \"choropleth\"}], \"contour\": [{\"colorbar\": {\"outlinewidth\": 0, \"ticks\": \"\"}, \"colorscale\": [[0.0, \"#0d0887\"], [0.1111111111111111, \"#46039f\"], [0.2222222222222222, \"#7201a8\"], [0.3333333333333333, \"#9c179e\"], [0.4444444444444444, \"#bd3786\"], [0.5555555555555556, \"#d8576b\"], [0.6666666666666666, \"#ed7953\"], [0.7777777777777778, \"#fb9f3a\"], [0.8888888888888888, \"#fdca26\"], [1.0, \"#f0f921\"]], \"type\": \"contour\"}], \"contourcarpet\": [{\"colorbar\": {\"outlinewidth\": 0, \"ticks\": \"\"}, \"type\": \"contourcarpet\"}], \"heatmap\": [{\"colorbar\": {\"outlinewidth\": 0, \"ticks\": \"\"}, \"colorscale\": [[0.0, \"#0d0887\"], [0.1111111111111111, \"#46039f\"], [0.2222222222222222, \"#7201a8\"], [0.3333333333333333, \"#9c179e\"], [0.4444444444444444, \"#bd3786\"], [0.5555555555555556, \"#d8576b\"], [0.6666666666666666, \"#ed7953\"], [0.7777777777777778, \"#fb9f3a\"], [0.8888888888888888, \"#fdca26\"], [1.0, \"#f0f921\"]], \"type\": \"heatmap\"}], \"heatmapgl\": [{\"colorbar\": {\"outlinewidth\": 0, \"ticks\": \"\"}, \"colorscale\": [[0.0, \"#0d0887\"], [0.1111111111111111, \"#46039f\"], [0.2222222222222222, \"#7201a8\"], [0.3333333333333333, \"#9c179e\"], [0.4444444444444444, \"#bd3786\"], [0.5555555555555556, \"#d8576b\"], [0.6666666666666666, \"#ed7953\"], [0.7777777777777778, \"#fb9f3a\"], [0.8888888888888888, \"#fdca26\"], [1.0, \"#f0f921\"]], \"type\": \"heatmapgl\"}], \"histogram\": [{\"marker\": {\"colorbar\": {\"outlinewidth\": 0, \"ticks\": \"\"}}, \"type\": \"histogram\"}], \"histogram2d\": [{\"colorbar\": {\"outlinewidth\": 0, \"ticks\": \"\"}, \"colorscale\": [[0.0, \"#0d0887\"], [0.1111111111111111, \"#46039f\"], [0.2222222222222222, \"#7201a8\"], [0.3333333333333333, \"#9c179e\"], [0.4444444444444444, \"#bd3786\"], [0.5555555555555556, \"#d8576b\"], [0.6666666666666666, \"#ed7953\"], [0.7777777777777778, \"#fb9f3a\"], [0.8888888888888888, \"#fdca26\"], [1.0, \"#f0f921\"]], \"type\": \"histogram2d\"}], \"histogram2dcontour\": [{\"colorbar\": {\"outlinewidth\": 0, \"ticks\": \"\"}, \"colorscale\": [[0.0, \"#0d0887\"], [0.1111111111111111, \"#46039f\"], [0.2222222222222222, \"#7201a8\"], [0.3333333333333333, \"#9c179e\"], [0.4444444444444444, \"#bd3786\"], [0.5555555555555556, \"#d8576b\"], [0.6666666666666666, \"#ed7953\"], [0.7777777777777778, \"#fb9f3a\"], [0.8888888888888888, \"#fdca26\"], [1.0, \"#f0f921\"]], \"type\": \"histogram2dcontour\"}], \"mesh3d\": [{\"colorbar\": {\"outlinewidth\": 0, \"ticks\": \"\"}, \"type\": \"mesh3d\"}], \"parcoords\": [{\"line\": {\"colorbar\": {\"outlinewidth\": 0, \"ticks\": \"\"}}, \"type\": \"parcoords\"}], \"pie\": [{\"automargin\": true, \"type\": \"pie\"}], \"scatter\": [{\"marker\": {\"colorbar\": {\"outlinewidth\": 0, \"ticks\": \"\"}}, \"type\": \"scatter\"}], \"scatter3d\": [{\"line\": {\"colorbar\": {\"outlinewidth\": 0, \"ticks\": \"\"}}, \"marker\": {\"colorbar\": {\"outlinewidth\": 0, \"ticks\": \"\"}}, \"type\": \"scatter3d\"}], \"scattercarpet\": [{\"marker\": {\"colorbar\": {\"outlinewidth\": 0, \"ticks\": \"\"}}, \"type\": \"scattercarpet\"}], \"scattergeo\": [{\"marker\": {\"colorbar\": {\"outlinewidth\": 0, \"ticks\": \"\"}}, \"type\": \"scattergeo\"}], \"scattergl\": [{\"marker\": {\"colorbar\": {\"outlinewidth\": 0, \"ticks\": \"\"}}, \"type\": \"scattergl\"}], \"scattermapbox\": [{\"marker\": {\"colorbar\": {\"outlinewidth\": 0, \"ticks\": \"\"}}, \"type\": \"scattermapbox\"}], \"scatterpolar\": [{\"marker\": {\"colorbar\": {\"outlinewidth\": 0, \"ticks\": \"\"}}, \"type\": \"scatterpolar\"}], \"scatterpolargl\": [{\"marker\": {\"colorbar\": {\"outlinewidth\": 0, \"ticks\": \"\"}}, \"type\": \"scatterpolargl\"}], \"scatterternary\": [{\"marker\": {\"colorbar\": {\"outlinewidth\": 0, \"ticks\": \"\"}}, \"type\": \"scatterternary\"}], \"surface\": [{\"colorbar\": {\"outlinewidth\": 0, \"ticks\": \"\"}, \"colorscale\": [[0.0, \"#0d0887\"], [0.1111111111111111, \"#46039f\"], [0.2222222222222222, \"#7201a8\"], [0.3333333333333333, \"#9c179e\"], [0.4444444444444444, \"#bd3786\"], [0.5555555555555556, \"#d8576b\"], [0.6666666666666666, \"#ed7953\"], [0.7777777777777778, \"#fb9f3a\"], [0.8888888888888888, \"#fdca26\"], [1.0, \"#f0f921\"]], \"type\": \"surface\"}], \"table\": [{\"cells\": {\"fill\": {\"color\": \"#EBF0F8\"}, \"line\": {\"color\": \"white\"}}, \"header\": {\"fill\": {\"color\": \"#C8D4E3\"}, \"line\": {\"color\": \"white\"}}, \"type\": \"table\"}]}, \"layout\": {\"annotationdefaults\": {\"arrowcolor\": \"#2a3f5f\", \"arrowhead\": 0, \"arrowwidth\": 1}, \"coloraxis\": {\"colorbar\": {\"outlinewidth\": 0, \"ticks\": \"\"}}, \"colorscale\": {\"diverging\": [[0, \"#8e0152\"], [0.1, \"#c51b7d\"], [0.2, \"#de77ae\"], [0.3, \"#f1b6da\"], [0.4, \"#fde0ef\"], [0.5, \"#f7f7f7\"], [0.6, \"#e6f5d0\"], [0.7, \"#b8e186\"], [0.8, \"#7fbc41\"], [0.9, \"#4d9221\"], [1, \"#276419\"]], \"sequential\": [[0.0, \"#0d0887\"], [0.1111111111111111, \"#46039f\"], [0.2222222222222222, \"#7201a8\"], [0.3333333333333333, \"#9c179e\"], [0.4444444444444444, \"#bd3786\"], [0.5555555555555556, \"#d8576b\"], [0.6666666666666666, \"#ed7953\"], [0.7777777777777778, \"#fb9f3a\"], [0.8888888888888888, \"#fdca26\"], [1.0, \"#f0f921\"]], \"sequentialminus\": [[0.0, \"#0d0887\"], [0.1111111111111111, \"#46039f\"], [0.2222222222222222, \"#7201a8\"], [0.3333333333333333, \"#9c179e\"], [0.4444444444444444, \"#bd3786\"], [0.5555555555555556, \"#d8576b\"], [0.6666666666666666, \"#ed7953\"], [0.7777777777777778, \"#fb9f3a\"], [0.8888888888888888, \"#fdca26\"], [1.0, \"#f0f921\"]]}, \"colorway\": [\"#636efa\", \"#EF553B\", \"#00cc96\", \"#ab63fa\", \"#FFA15A\", \"#19d3f3\", \"#FF6692\", \"#B6E880\", \"#FF97FF\", \"#FECB52\"], \"font\": {\"color\": \"#2a3f5f\"}, \"geo\": {\"bgcolor\": \"white\", \"lakecolor\": \"white\", \"landcolor\": \"#E5ECF6\", \"showlakes\": true, \"showland\": true, \"subunitcolor\": \"white\"}, \"hoverlabel\": {\"align\": \"left\"}, \"hovermode\": \"closest\", \"mapbox\": {\"style\": \"light\"}, \"paper_bgcolor\": \"white\", \"plot_bgcolor\": \"#E5ECF6\", \"polar\": {\"angularaxis\": {\"gridcolor\": \"white\", \"linecolor\": \"white\", \"ticks\": \"\"}, \"bgcolor\": \"#E5ECF6\", \"radialaxis\": {\"gridcolor\": \"white\", \"linecolor\": \"white\", \"ticks\": \"\"}}, \"scene\": {\"xaxis\": {\"backgroundcolor\": \"#E5ECF6\", \"gridcolor\": \"white\", \"gridwidth\": 2, \"linecolor\": \"white\", \"showbackground\": true, \"ticks\": \"\", \"zerolinecolor\": \"white\"}, \"yaxis\": {\"backgroundcolor\": \"#E5ECF6\", \"gridcolor\": \"white\", \"gridwidth\": 2, \"linecolor\": \"white\", \"showbackground\": true, \"ticks\": \"\", \"zerolinecolor\": \"white\"}, \"zaxis\": {\"backgroundcolor\": \"#E5ECF6\", \"gridcolor\": \"white\", \"gridwidth\": 2, \"linecolor\": \"white\", \"showbackground\": true, \"ticks\": \"\", \"zerolinecolor\": \"white\"}}, \"shapedefaults\": {\"line\": {\"color\": \"#2a3f5f\"}}, \"ternary\": {\"aaxis\": {\"gridcolor\": \"white\", \"linecolor\": \"white\", \"ticks\": \"\"}, \"baxis\": {\"gridcolor\": \"white\", \"linecolor\": \"white\", \"ticks\": \"\"}, \"bgcolor\": \"#E5ECF6\", \"caxis\": {\"gridcolor\": \"white\", \"linecolor\": \"white\", \"ticks\": \"\"}}, \"title\": {\"x\": 0.05}, \"xaxis\": {\"automargin\": true, \"gridcolor\": \"white\", \"linecolor\": \"white\", \"ticks\": \"\", \"title\": {\"standoff\": 15}, \"zerolinecolor\": \"white\", \"zerolinewidth\": 2}, \"yaxis\": {\"automargin\": true, \"gridcolor\": \"white\", \"linecolor\": \"white\", \"ticks\": \"\", \"title\": {\"standoff\": 15}, \"zerolinecolor\": \"white\", \"zerolinewidth\": 2}}}, \"title\": {\"text\": \"US Borders, total inbound persons since 1996<br>(Click legend to toggle traces)\"}},\n",
       "                        {\"responsive\": true}\n",
       "                    ).then(function(){\n",
       "                            \n",
       "var gd = document.getElementById('10bd2bf7-3904-4974-b61c-babf7234577c');\n",
       "var x = new MutationObserver(function (mutations, observer) {{\n",
       "        var display = window.getComputedStyle(gd).display;\n",
       "        if (!display || display === 'none') {{\n",
       "            console.log([gd, 'removed!']);\n",
       "            Plotly.purge(gd);\n",
       "            observer.disconnect();\n",
       "        }}\n",
       "}});\n",
       "\n",
       "// Listen for the removal of the full notebook cells\n",
       "var notebookContainer = gd.closest('#notebook-container');\n",
       "if (notebookContainer) {{\n",
       "    x.observe(notebookContainer, {childList: true});\n",
       "}}\n",
       "\n",
       "// Listen for the clearing of the current output cell\n",
       "var outputEl = gd.closest('.output');\n",
       "if (outputEl) {{\n",
       "    x.observe(outputEl, {childList: true});\n",
       "}}\n",
       "\n",
       "                        })\n",
       "                };\n",
       "                });\n",
       "            </script>\n",
       "        </div>"
      ]
     },
     "metadata": {},
     "output_type": "display_data"
    }
   ],
   "source": [
    "## Plot the map of the USA with importance of ports.\n",
    "import plotly.express as px\n",
    "import plotly.graph_objects as go\n",
    "\n",
    "def getlat(x):\n",
    "    lat = x.partition(',')[0][1:]\n",
    "    if lat[0] == \"'\":\n",
    "        lat = lat[1:-1]\n",
    "    return lat\n",
    "\n",
    "def getlong(x):\n",
    "    lat = x.partition(',')[2]\n",
    "    if lat[1] == \"'\":\n",
    "        lat = lat[2:-2]\n",
    "    else:\n",
    "        lat = lat[1:-1]\n",
    "    return lat\n",
    "\n",
    "df = df[df['Measure'].isin(['Bus Passengers','Pedestrians','Personal Vehicle Passengers','Train Passengers'])].reset_index().drop(columns=['index'])\n",
    "\n",
    "persons_location = df[['position','Value']].groupby('position').sum().reset_index()\n",
    "persons_location['latitude'] = persons_location['position'].apply(lambda x: getlat(x))\n",
    "persons_location['longitude'] = persons_location['position'].apply(lambda x: getlong(x))\n",
    "\n",
    "ps = data[['Port Name','position']].drop_duplicates().set_index('position')\n",
    "persons_location['Ports'] = persons_location.position.apply(lambda x : ', '.join(ps.loc[x].values.flatten()))\n",
    "persons_location['text'] = persons_location['Ports'] + '<br>Crossings: ' + (persons_location['Value']/1e6).astype(str)+' million'\n",
    "\n",
    "color = \"crimson\"\n",
    "scale = 500000\n",
    "\n",
    "fig = go.Figure()\n",
    "fig.add_trace(go.Scattergeo(\n",
    "    locationmode = 'USA-states',\n",
    "    lon = persons_location['longitude'],\n",
    "    lat = persons_location['latitude'],\n",
    "    text = persons_location['text'],\n",
    "    marker = dict(\n",
    "        size = persons_location['Value']/scale,\n",
    "        color = color,\n",
    "        line_color='rgb(40,40,40)',\n",
    "        line_width=0.5,\n",
    "        sizemode = 'area')))\n",
    "\n",
    "fig.update_layout(\n",
    "        title_text = 'US Borders, total inbound persons since 1996<br>(Click legend to toggle traces)',\n",
    "        showlegend = False,\n",
    "        geo = dict(\n",
    "            scope = 'usa',\n",
    "            landcolor = 'rgb(217, 217, 217)',\n",
    "        )\n",
    "    )\n",
    "\n",
    "fig.show()"
   ]
  },
  {
   "cell_type": "code",
   "execution_count": 93,
   "metadata": {},
   "outputs": [],
   "source": [
    "def logistic(X,y):\n",
    "    X_train, X_test, y_train, y_test = train_test_split(X, y, test_size=0.2, random_state=42)\n",
    "    LR = LogisticRegressionCV(solver='lbfgs', cv=5, max_iter=1000)\n",
    "    LR.fit(X_train,y_train)\n",
    "    test_score = LR.score(X_test, y_test)\n",
    "    train_score = LR.score(X_train,y_train)\n",
    "    print(\"train_score :\",train_score,\"test_score =\",test_score)\n",
    "    return (train_score,test_score)\n",
    "\n",
    "def encodeOneHot(z,f,i):\n",
    "    test = z\n",
    "    test['quant'] = pd.qcut(test['Value'],q = i, duplicates = 'drop')\n",
    "    le = LabelEncoder()\n",
    "    y = le.fit_transform(test[\"quant\"])\n",
    "    one_hot = OneHotEncoder(categories=\"auto\")\n",
    "    if ('Measure' in f):\n",
    "        f.remove('Measure')\n",
    "        cat_to_onehot = one_hot.fit_transform(test[[\"Measure\"]]).toarray()\n",
    "        cat_to_onehot = pd.DataFrame(cat_to_onehot)\n",
    "        X = pd.concat((test[f],cat_to_onehot),axis=1)\n",
    "        logistic(X,y)\n",
    "    else :\n",
    "        X = test[f]\n",
    "        logistic(X,y)\n",
    "        \n",
    "def  computeLogistic(ports,f,i):\n",
    "    Zone = df[df['Port Name'].isin(ports)].reset_index(drop=True)\n",
    "    encodeOneHot(Zone,f,i)"
   ]
  },
  {
   "cell_type": "code",
   "execution_count": 94,
   "metadata": {},
   "outputs": [
    {
     "name": "stdout",
     "output_type": "stream",
     "text": [
      "train_score : 0.7972972972972973 test_score = 0.8\n"
     ]
    }
   ],
   "source": [
    "# Logistic regression on Zone3 (El paso + Hidalgo) with all features and 8 categories(intervals) for y\n",
    "computeLogistic(['El Paso','Hidalgo'],['Measure','Port Code','Month','Year'],8)"
   ]
  },
  {
   "cell_type": "code",
   "execution_count": 95,
   "metadata": {},
   "outputs": [
    {
     "name": "stdout",
     "output_type": "stream",
     "text": [
      "train_score : 0.7073170731707317 test_score = 0.672566371681416\n"
     ]
    }
   ],
   "source": [
    "computeLogistic(['El Paso'],['Measure','Port Code','Month','Year'],5)"
   ]
  },
  {
   "cell_type": "code",
   "execution_count": 96,
   "metadata": {},
   "outputs": [
    {
     "name": "stdout",
     "output_type": "stream",
     "text": [
      "train_score : 0.8146453089244852 test_score = 0.7442922374429224\n"
     ]
    }
   ],
   "source": [
    "computeLogistic(['Hidalgo'],['Measure','Port Code','Month','Year'],5)"
   ]
  },
  {
   "cell_type": "code",
   "execution_count": 97,
   "metadata": {},
   "outputs": [
    {
     "name": "stdout",
     "output_type": "stream",
     "text": [
      "train_score : 0.7482837528604119 test_score = 0.7168949771689498\n"
     ]
    }
   ],
   "source": [
    "computeLogistic(['Hidalgo'],['Measure','Month','Year','Year'],5)"
   ]
  },
  {
   "cell_type": "code",
   "execution_count": 98,
   "metadata": {},
   "outputs": [
    {
     "name": "stdout",
     "output_type": "stream",
     "text": [
      "for 2 categories :\n",
      "train_score : 0.9921171171171171 test_score = 0.9910112359550561\n",
      "for 3 categories :\n",
      "train_score : 0.8693693693693694 test_score = 0.8651685393258427\n",
      "for 4 categories :\n",
      "train_score : 0.956081081081081 test_score = 0.950561797752809\n",
      "for 5 categories :\n",
      "train_score : 0.8265765765765766 test_score = 0.8224719101123595\n",
      "for 6 categories :\n",
      "train_score : 0.6773648648648649 test_score = 0.6921348314606741\n",
      "for 7 categories :\n",
      "train_score : 0.7511261261261262 test_score = 0.7730337078651686\n",
      "for 8 categories :\n",
      "train_score : 0.7972972972972973 test_score = 0.8\n",
      "for 9 categories :\n",
      "train_score : 0.6182432432432432 test_score = 0.6112359550561798\n",
      "for 10 categories :\n",
      "train_score : 0.5957207207207207 test_score = 0.5910112359550562\n",
      "for 11 categories :\n",
      "train_score : 0.5444819819819819 test_score = 0.5438202247191011\n",
      "for 12 categories :\n",
      "train_score : 0.5518018018018018 test_score = 0.5348314606741573\n",
      "for 13 categories :\n",
      "train_score : 0.5720720720720721 test_score = 0.5550561797752809\n",
      "for 14 categories :\n",
      "train_score : 0.4864864864864865 test_score = 0.501123595505618\n"
     ]
    }
   ],
   "source": [
    "x = 2\n",
    "train_err = []\n",
    "test_err = []\n",
    "while (x<15):\n",
    "    print(\"for\",x,\"categories :\")\n",
    "    computeLogistic(['El Paso','Hidalgo'],['Measure','Port Code','Month','Year'],x)\n",
    "    x = x + 1"
   ]
  },
  {
   "cell_type": "markdown",
   "metadata": {},
   "source": [
    "As we increase the number of categories for y, the test_score decrease :\n",
    "    There is less luck to predict the correct category.\n",
    "    "
   ]
  },
  {
   "cell_type": "code",
   "execution_count": 93,
   "metadata": {},
   "outputs": [
    {
     "name": "stdout",
     "output_type": "stream",
     "text": [
      "Warroad\n",
      "train_score : 0.4046511627906977 test_score = 0.39814814814814814\n",
      "Roseau\n",
      "train_score : 0.7683073229291717 test_score = 0.8133971291866029\n",
      "Detroit\n",
      "train_score : 0.5601799775028121 test_score = 0.5739910313901345\n",
      "Del Rio\n",
      "train_score : 0.6179245283018868 test_score = 0.5943396226415094\n",
      "Anacortes\n",
      "train_score : 0.6714801444043321 test_score = 0.6906474820143885\n",
      "Sumas\n",
      "train_score : 0.3968957871396896 test_score = 0.336283185840708\n",
      "Port Angeles\n",
      "train_score : 0.7326388888888888 test_score = 0.7241379310344828\n",
      "Point Roberts\n",
      "train_score : 0.4954128440366973 test_score = 0.4931506849315068\n",
      "Oroville\n",
      "train_score : 0.6885057471264368 test_score = 0.6055045871559633\n",
      "Nighthawk\n",
      "train_score : 0.7463592233009708 test_score = 0.7378640776699029\n",
      "Metaline Falls\n",
      "train_score : 0.661271676300578 test_score = 0.6728110599078341\n",
      "Lynden\n",
      "train_score : 0.5103686635944701 test_score = 0.4541284403669725\n",
      "Laurier\n",
      "train_score : 0.4936998854524628 test_score = 0.4429223744292237\n",
      "Frontier\n",
      "train_score : 0.5355504587155964 test_score = 0.5642201834862385\n",
      "Friday Harbor\n",
      "train_score : 0.7893700787401575 test_score = 0.78125\n",
      "Ferry\n",
      "train_score : 0.6358173076923077 test_score = 0.5789473684210527\n",
      "Danville\n",
      "train_score : 0.36623067776456597 test_score = 0.4028436018957346\n",
      "Boundary\n",
      "train_score : 0.5261363636363636 test_score = 0.502262443438914\n",
      "Blaine\n",
      "train_score : 0.4862700228832952 test_score = 0.4474885844748858\n",
      "Richford\n",
      "train_score : 0.41540256709451573 test_score = 0.39069767441860465\n",
      "Norton\n",
      "train_score : 0.42709529276693453 test_score = 0.3853211009174312\n",
      "Highgate Springs-Alburg\n",
      "train_score : 0.6704805491990846 test_score = 0.680365296803653\n",
      "Derby Line\n",
      "train_score : 0.6716247139588101 test_score = 0.639269406392694\n",
      "Beecher Falls\n",
      "train_score : 0.501207729468599 test_score = 0.5\n",
      "Tornillo-Fabens\n",
      "train_score : 0.8546099290780141 test_score = 0.7924528301886793\n",
      "Roma\n",
      "train_score : 0.6022857142857143 test_score = 0.5753424657534246\n",
      "Rio Grande City\n",
      "train_score : 0.7304964539007093 test_score = 0.6839622641509434\n",
      "Progreso\n",
      "train_score : 0.624113475177305 test_score = 0.6084905660377359\n",
      "Presidio\n",
      "train_score : 0.7665903890160183 test_score = 0.7351598173515982\n",
      "Laredo\n",
      "train_score : 0.7906178489702517 test_score = 0.7534246575342466\n",
      "Hidalgo\n",
      "train_score : 0.782608695652174 test_score = 0.7488584474885844\n",
      "El Paso\n",
      "train_score : 0.647450110864745 test_score = 0.5486725663716814\n",
      "Eagle Pass\n",
      "train_score : 0.4588100686498856 test_score = 0.5296803652968036\n",
      "Brownsville\n",
      "train_score : 0.7093821510297483 test_score = 0.680365296803653\n",
      "Boquillas\n",
      "train_score : 0.6625 test_score = 0.6190476190476191\n",
      "Trout River\n",
      "train_score : 0.4 test_score = 0.3953488372093023\n",
      "Ogdensburg\n",
      "train_score : 0.7367178276269185 test_score = 0.7547169811320755\n",
      "Massena\n",
      "train_score : 0.6769759450171822 test_score = 0.6940639269406392\n",
      "Champlain-Rouses Point\n",
      "train_score : 0.5853658536585366 test_score = 0.584070796460177\n",
      "Cape Vincent\n",
      "train_score : 0.8758169934640523 test_score = 0.8701298701298701\n",
      "Buffalo-Niagara Falls\n",
      "train_score : 0.5011086474501109 test_score = 0.48672566371681414\n",
      "Alexandria Bay\n",
      "train_score : 0.7396449704142012 test_score = 0.7735849056603774\n",
      "Santa Teresa\n",
      "train_score : 0.5657142857142857 test_score = 0.4703196347031963\n",
      "Columbus\n",
      "train_score : 0.6624713958810069 test_score = 0.6484018264840182\n",
      "Westhope\n",
      "train_score : 0.8887530562347188 test_score = 0.8975609756097561\n",
      "Walhalla\n",
      "train_score : 0.8566265060240964 test_score = 0.8413461538461539\n",
      "St. John\n",
      "train_score : 0.7899159663865546 test_score = 0.7416267942583732\n",
      "Sherwood\n",
      "train_score : 0.7536407766990292 test_score = 0.7330097087378641\n",
      "Sarles\n",
      "train_score : 0.7700471698113207 test_score = 0.6713615023474179\n",
      "Portal\n",
      "train_score : 0.4190687361419069 test_score = 0.3938053097345133\n",
      "Pembina\n",
      "train_score : 0.7585812356979404 test_score = 0.730593607305936\n",
      "Pinecreek\n",
      "train_score : 0.7555012224938875 test_score = 0.7268292682926829\n",
      "Lancaster\n",
      "train_score : 0.6176991150442478 test_score = 0.6549295774647887\n",
      "International Falls-Ranier\n",
      "train_score : 0.4095449500554939 test_score = 0.37168141592920356\n",
      "Grand Portage\n",
      "train_score : 0.7230046948356808 test_score = 0.6915887850467289\n",
      "Dalton Cache\n",
      "train_score : 0.5417156286721504 test_score = 0.5915492957746479\n",
      "Ketchikan\n",
      "train_score : 0.5073529411764706 test_score = 0.4744525547445255\n",
      "Skagway\n",
      "train_score : 0.39060710194730813 test_score = 0.3561643835616438\n",
      "Douglas\n",
      "train_score : 0.5389016018306636 test_score = 0.4429223744292237\n",
      "Lukeville\n",
      "train_score : 0.5675057208237986 test_score = 0.502283105022831\n",
      "Naco\n",
      "train_score : 0.6519208381839348 test_score = 0.6139534883720931\n",
      "Nogales\n",
      "train_score : 0.6274944567627494 test_score = 0.6106194690265486\n",
      "San Luis\n",
      "train_score : 0.6109839816933639 test_score = 0.6164383561643836\n",
      "Sasabe\n",
      "train_score : 0.5823529411764706 test_score = 0.539906103286385\n",
      "Andrade\n",
      "train_score : 0.5106382978723404 test_score = 0.45754716981132076\n",
      "Calexico\n",
      "train_score : 0.6229314420803782 test_score = 0.6037735849056604\n",
      "Calexico East\n",
      "train_score : 0.28713968957871394 test_score = 0.2610619469026549\n",
      "Cross Border Xpress\n"
     ]
    },
    {
     "ename": "ValueError",
     "evalue": "n_splits=5 cannot be greater than the number of members in each class.",
     "output_type": "error",
     "traceback": [
      "\u001b[0;31m---------------------------------------------------------------------------\u001b[0m",
      "\u001b[0;31mValueError\u001b[0m                                Traceback (most recent call last)",
      "\u001b[0;32m<ipython-input-93-48e64803d260>\u001b[0m in \u001b[0;36m<module>\u001b[0;34m\u001b[0m\n\u001b[1;32m      1\u001b[0m \u001b[0;32mfor\u001b[0m \u001b[0mport\u001b[0m \u001b[0;32min\u001b[0m \u001b[0mports\u001b[0m\u001b[0;34m:\u001b[0m\u001b[0;34m\u001b[0m\u001b[0;34m\u001b[0m\u001b[0m\n\u001b[1;32m      2\u001b[0m     \u001b[0mprint\u001b[0m\u001b[0;34m(\u001b[0m\u001b[0mport\u001b[0m\u001b[0;34m)\u001b[0m\u001b[0;34m\u001b[0m\u001b[0;34m\u001b[0m\u001b[0m\n\u001b[0;32m----> 3\u001b[0;31m     \u001b[0mcomputeLogistic\u001b[0m\u001b[0;34m(\u001b[0m\u001b[0;34m[\u001b[0m\u001b[0mport\u001b[0m\u001b[0;34m]\u001b[0m\u001b[0;34m,\u001b[0m\u001b[0;34m[\u001b[0m\u001b[0;34m'Measure'\u001b[0m\u001b[0;34m,\u001b[0m\u001b[0;34m'Month'\u001b[0m\u001b[0;34m,\u001b[0m\u001b[0;34m'Year'\u001b[0m\u001b[0;34m,\u001b[0m\u001b[0;34m'Year'\u001b[0m\u001b[0;34m]\u001b[0m\u001b[0;34m,\u001b[0m\u001b[0;36m8\u001b[0m\u001b[0;34m)\u001b[0m\u001b[0;34m\u001b[0m\u001b[0;34m\u001b[0m\u001b[0m\n\u001b[0m",
      "\u001b[0;32m<ipython-input-75-68e023e92e92>\u001b[0m in \u001b[0;36mcomputeLogistic\u001b[0;34m(ports, f, i)\u001b[0m\n\u001b[1;32m     26\u001b[0m \u001b[0;32mdef\u001b[0m  \u001b[0mcomputeLogistic\u001b[0m\u001b[0;34m(\u001b[0m\u001b[0mports\u001b[0m\u001b[0;34m,\u001b[0m\u001b[0mf\u001b[0m\u001b[0;34m,\u001b[0m\u001b[0mi\u001b[0m\u001b[0;34m)\u001b[0m\u001b[0;34m:\u001b[0m\u001b[0;34m\u001b[0m\u001b[0;34m\u001b[0m\u001b[0m\n\u001b[1;32m     27\u001b[0m     \u001b[0mZone\u001b[0m \u001b[0;34m=\u001b[0m \u001b[0mdf\u001b[0m\u001b[0;34m[\u001b[0m\u001b[0mdf\u001b[0m\u001b[0;34m[\u001b[0m\u001b[0;34m'Port Name'\u001b[0m\u001b[0;34m]\u001b[0m\u001b[0;34m.\u001b[0m\u001b[0misin\u001b[0m\u001b[0;34m(\u001b[0m\u001b[0mports\u001b[0m\u001b[0;34m)\u001b[0m\u001b[0;34m]\u001b[0m\u001b[0;34m.\u001b[0m\u001b[0mreset_index\u001b[0m\u001b[0;34m(\u001b[0m\u001b[0mdrop\u001b[0m\u001b[0;34m=\u001b[0m\u001b[0;32mTrue\u001b[0m\u001b[0;34m)\u001b[0m\u001b[0;34m\u001b[0m\u001b[0;34m\u001b[0m\u001b[0m\n\u001b[0;32m---> 28\u001b[0;31m     \u001b[0mencode\u001b[0m\u001b[0;34m(\u001b[0m\u001b[0mZone\u001b[0m\u001b[0;34m,\u001b[0m\u001b[0mf\u001b[0m\u001b[0;34m,\u001b[0m\u001b[0mi\u001b[0m\u001b[0;34m)\u001b[0m\u001b[0;34m\u001b[0m\u001b[0;34m\u001b[0m\u001b[0m\n\u001b[0m",
      "\u001b[0;32m<ipython-input-75-68e023e92e92>\u001b[0m in \u001b[0;36mencode\u001b[0;34m(z, f, i)\u001b[0m\n\u001b[1;32m     19\u001b[0m         \u001b[0mcat_to_onehot\u001b[0m \u001b[0;34m=\u001b[0m \u001b[0mpd\u001b[0m\u001b[0;34m.\u001b[0m\u001b[0mDataFrame\u001b[0m\u001b[0;34m(\u001b[0m\u001b[0mcat_to_onehot\u001b[0m\u001b[0;34m)\u001b[0m\u001b[0;34m\u001b[0m\u001b[0;34m\u001b[0m\u001b[0m\n\u001b[1;32m     20\u001b[0m         \u001b[0mX\u001b[0m \u001b[0;34m=\u001b[0m \u001b[0mpd\u001b[0m\u001b[0;34m.\u001b[0m\u001b[0mconcat\u001b[0m\u001b[0;34m(\u001b[0m\u001b[0;34m(\u001b[0m\u001b[0mtest\u001b[0m\u001b[0;34m[\u001b[0m\u001b[0mf\u001b[0m\u001b[0;34m]\u001b[0m\u001b[0;34m,\u001b[0m\u001b[0mcat_to_onehot\u001b[0m\u001b[0;34m)\u001b[0m\u001b[0;34m,\u001b[0m\u001b[0maxis\u001b[0m\u001b[0;34m=\u001b[0m\u001b[0;36m1\u001b[0m\u001b[0;34m)\u001b[0m\u001b[0;34m\u001b[0m\u001b[0;34m\u001b[0m\u001b[0m\n\u001b[0;32m---> 21\u001b[0;31m         \u001b[0mlogistic\u001b[0m\u001b[0;34m(\u001b[0m\u001b[0mX\u001b[0m\u001b[0;34m,\u001b[0m\u001b[0my\u001b[0m\u001b[0;34m)\u001b[0m\u001b[0;34m\u001b[0m\u001b[0;34m\u001b[0m\u001b[0m\n\u001b[0m\u001b[1;32m     22\u001b[0m     \u001b[0;32melse\u001b[0m \u001b[0;34m:\u001b[0m\u001b[0;34m\u001b[0m\u001b[0;34m\u001b[0m\u001b[0m\n\u001b[1;32m     23\u001b[0m         \u001b[0mX\u001b[0m \u001b[0;34m=\u001b[0m \u001b[0mtest\u001b[0m\u001b[0;34m[\u001b[0m\u001b[0mf\u001b[0m\u001b[0;34m]\u001b[0m\u001b[0;34m\u001b[0m\u001b[0;34m\u001b[0m\u001b[0m\n",
      "\u001b[0;32m<ipython-input-75-68e023e92e92>\u001b[0m in \u001b[0;36mlogistic\u001b[0;34m(X, y)\u001b[0m\n\u001b[1;32m      2\u001b[0m     \u001b[0mX_train\u001b[0m\u001b[0;34m,\u001b[0m \u001b[0mX_test\u001b[0m\u001b[0;34m,\u001b[0m \u001b[0my_train\u001b[0m\u001b[0;34m,\u001b[0m \u001b[0my_test\u001b[0m \u001b[0;34m=\u001b[0m \u001b[0mtrain_test_split\u001b[0m\u001b[0;34m(\u001b[0m\u001b[0mX\u001b[0m\u001b[0;34m,\u001b[0m \u001b[0my\u001b[0m\u001b[0;34m,\u001b[0m \u001b[0mtest_size\u001b[0m\u001b[0;34m=\u001b[0m\u001b[0;36m0.2\u001b[0m\u001b[0;34m,\u001b[0m \u001b[0mrandom_state\u001b[0m\u001b[0;34m=\u001b[0m\u001b[0;36m42\u001b[0m\u001b[0;34m)\u001b[0m\u001b[0;34m\u001b[0m\u001b[0;34m\u001b[0m\u001b[0m\n\u001b[1;32m      3\u001b[0m     \u001b[0mLR\u001b[0m \u001b[0;34m=\u001b[0m \u001b[0mLogisticRegressionCV\u001b[0m\u001b[0;34m(\u001b[0m\u001b[0msolver\u001b[0m\u001b[0;34m=\u001b[0m\u001b[0;34m'lbfgs'\u001b[0m\u001b[0;34m,\u001b[0m \u001b[0mcv\u001b[0m\u001b[0;34m=\u001b[0m\u001b[0;36m5\u001b[0m\u001b[0;34m,\u001b[0m \u001b[0mmax_iter\u001b[0m\u001b[0;34m=\u001b[0m\u001b[0;36m1000\u001b[0m\u001b[0;34m)\u001b[0m\u001b[0;34m\u001b[0m\u001b[0;34m\u001b[0m\u001b[0m\n\u001b[0;32m----> 4\u001b[0;31m     \u001b[0mLR\u001b[0m\u001b[0;34m.\u001b[0m\u001b[0mfit\u001b[0m\u001b[0;34m(\u001b[0m\u001b[0mX_train\u001b[0m\u001b[0;34m,\u001b[0m\u001b[0my_train\u001b[0m\u001b[0;34m)\u001b[0m\u001b[0;34m\u001b[0m\u001b[0;34m\u001b[0m\u001b[0m\n\u001b[0m\u001b[1;32m      5\u001b[0m     \u001b[0mtest_score\u001b[0m \u001b[0;34m=\u001b[0m \u001b[0mLR\u001b[0m\u001b[0;34m.\u001b[0m\u001b[0mscore\u001b[0m\u001b[0;34m(\u001b[0m\u001b[0mX_test\u001b[0m\u001b[0;34m,\u001b[0m \u001b[0my_test\u001b[0m\u001b[0;34m)\u001b[0m\u001b[0;34m\u001b[0m\u001b[0;34m\u001b[0m\u001b[0m\n\u001b[1;32m      6\u001b[0m     \u001b[0mtrain_score\u001b[0m \u001b[0;34m=\u001b[0m \u001b[0mLR\u001b[0m\u001b[0;34m.\u001b[0m\u001b[0mscore\u001b[0m\u001b[0;34m(\u001b[0m\u001b[0mX_train\u001b[0m\u001b[0;34m,\u001b[0m\u001b[0my_train\u001b[0m\u001b[0;34m)\u001b[0m\u001b[0;34m\u001b[0m\u001b[0;34m\u001b[0m\u001b[0m\n",
      "\u001b[0;32m~/anaconda3/lib/python3.7/site-packages/sklearn/linear_model/logistic.py\u001b[0m in \u001b[0;36mfit\u001b[0;34m(self, X, y, sample_weight)\u001b[0m\n\u001b[1;32m   2028\u001b[0m         \u001b[0;31m# init cross-validation generator\u001b[0m\u001b[0;34m\u001b[0m\u001b[0;34m\u001b[0m\u001b[0;34m\u001b[0m\u001b[0m\n\u001b[1;32m   2029\u001b[0m         \u001b[0mcv\u001b[0m \u001b[0;34m=\u001b[0m \u001b[0mcheck_cv\u001b[0m\u001b[0;34m(\u001b[0m\u001b[0mself\u001b[0m\u001b[0;34m.\u001b[0m\u001b[0mcv\u001b[0m\u001b[0;34m,\u001b[0m \u001b[0my\u001b[0m\u001b[0;34m,\u001b[0m \u001b[0mclassifier\u001b[0m\u001b[0;34m=\u001b[0m\u001b[0;32mTrue\u001b[0m\u001b[0;34m)\u001b[0m\u001b[0;34m\u001b[0m\u001b[0;34m\u001b[0m\u001b[0m\n\u001b[0;32m-> 2030\u001b[0;31m         \u001b[0mfolds\u001b[0m \u001b[0;34m=\u001b[0m \u001b[0mlist\u001b[0m\u001b[0;34m(\u001b[0m\u001b[0mcv\u001b[0m\u001b[0;34m.\u001b[0m\u001b[0msplit\u001b[0m\u001b[0;34m(\u001b[0m\u001b[0mX\u001b[0m\u001b[0;34m,\u001b[0m \u001b[0my\u001b[0m\u001b[0;34m)\u001b[0m\u001b[0;34m)\u001b[0m\u001b[0;34m\u001b[0m\u001b[0;34m\u001b[0m\u001b[0m\n\u001b[0m\u001b[1;32m   2031\u001b[0m \u001b[0;34m\u001b[0m\u001b[0m\n\u001b[1;32m   2032\u001b[0m         \u001b[0;31m# Use the label encoded classes\u001b[0m\u001b[0;34m\u001b[0m\u001b[0;34m\u001b[0m\u001b[0;34m\u001b[0m\u001b[0m\n",
      "\u001b[0;32m~/anaconda3/lib/python3.7/site-packages/sklearn/model_selection/_split.py\u001b[0m in \u001b[0;36msplit\u001b[0;34m(self, X, y, groups)\u001b[0m\n\u001b[1;32m    333\u001b[0m                 .format(self.n_splits, n_samples))\n\u001b[1;32m    334\u001b[0m \u001b[0;34m\u001b[0m\u001b[0m\n\u001b[0;32m--> 335\u001b[0;31m         \u001b[0;32mfor\u001b[0m \u001b[0mtrain\u001b[0m\u001b[0;34m,\u001b[0m \u001b[0mtest\u001b[0m \u001b[0;32min\u001b[0m \u001b[0msuper\u001b[0m\u001b[0;34m(\u001b[0m\u001b[0;34m)\u001b[0m\u001b[0;34m.\u001b[0m\u001b[0msplit\u001b[0m\u001b[0;34m(\u001b[0m\u001b[0mX\u001b[0m\u001b[0;34m,\u001b[0m \u001b[0my\u001b[0m\u001b[0;34m,\u001b[0m \u001b[0mgroups\u001b[0m\u001b[0;34m)\u001b[0m\u001b[0;34m:\u001b[0m\u001b[0;34m\u001b[0m\u001b[0;34m\u001b[0m\u001b[0m\n\u001b[0m\u001b[1;32m    336\u001b[0m             \u001b[0;32myield\u001b[0m \u001b[0mtrain\u001b[0m\u001b[0;34m,\u001b[0m \u001b[0mtest\u001b[0m\u001b[0;34m\u001b[0m\u001b[0;34m\u001b[0m\u001b[0m\n\u001b[1;32m    337\u001b[0m \u001b[0;34m\u001b[0m\u001b[0m\n",
      "\u001b[0;32m~/anaconda3/lib/python3.7/site-packages/sklearn/model_selection/_split.py\u001b[0m in \u001b[0;36msplit\u001b[0;34m(self, X, y, groups)\u001b[0m\n\u001b[1;32m     87\u001b[0m         \u001b[0mX\u001b[0m\u001b[0;34m,\u001b[0m \u001b[0my\u001b[0m\u001b[0;34m,\u001b[0m \u001b[0mgroups\u001b[0m \u001b[0;34m=\u001b[0m \u001b[0mindexable\u001b[0m\u001b[0;34m(\u001b[0m\u001b[0mX\u001b[0m\u001b[0;34m,\u001b[0m \u001b[0my\u001b[0m\u001b[0;34m,\u001b[0m \u001b[0mgroups\u001b[0m\u001b[0;34m)\u001b[0m\u001b[0;34m\u001b[0m\u001b[0;34m\u001b[0m\u001b[0m\n\u001b[1;32m     88\u001b[0m         \u001b[0mindices\u001b[0m \u001b[0;34m=\u001b[0m \u001b[0mnp\u001b[0m\u001b[0;34m.\u001b[0m\u001b[0marange\u001b[0m\u001b[0;34m(\u001b[0m\u001b[0m_num_samples\u001b[0m\u001b[0;34m(\u001b[0m\u001b[0mX\u001b[0m\u001b[0;34m)\u001b[0m\u001b[0;34m)\u001b[0m\u001b[0;34m\u001b[0m\u001b[0;34m\u001b[0m\u001b[0m\n\u001b[0;32m---> 89\u001b[0;31m         \u001b[0;32mfor\u001b[0m \u001b[0mtest_index\u001b[0m \u001b[0;32min\u001b[0m \u001b[0mself\u001b[0m\u001b[0;34m.\u001b[0m\u001b[0m_iter_test_masks\u001b[0m\u001b[0;34m(\u001b[0m\u001b[0mX\u001b[0m\u001b[0;34m,\u001b[0m \u001b[0my\u001b[0m\u001b[0;34m,\u001b[0m \u001b[0mgroups\u001b[0m\u001b[0;34m)\u001b[0m\u001b[0;34m:\u001b[0m\u001b[0;34m\u001b[0m\u001b[0;34m\u001b[0m\u001b[0m\n\u001b[0m\u001b[1;32m     90\u001b[0m             \u001b[0mtrain_index\u001b[0m \u001b[0;34m=\u001b[0m \u001b[0mindices\u001b[0m\u001b[0;34m[\u001b[0m\u001b[0mnp\u001b[0m\u001b[0;34m.\u001b[0m\u001b[0mlogical_not\u001b[0m\u001b[0;34m(\u001b[0m\u001b[0mtest_index\u001b[0m\u001b[0;34m)\u001b[0m\u001b[0;34m]\u001b[0m\u001b[0;34m\u001b[0m\u001b[0;34m\u001b[0m\u001b[0m\n\u001b[1;32m     91\u001b[0m             \u001b[0mtest_index\u001b[0m \u001b[0;34m=\u001b[0m \u001b[0mindices\u001b[0m\u001b[0;34m[\u001b[0m\u001b[0mtest_index\u001b[0m\u001b[0;34m]\u001b[0m\u001b[0;34m\u001b[0m\u001b[0;34m\u001b[0m\u001b[0m\n",
      "\u001b[0;32m~/anaconda3/lib/python3.7/site-packages/sklearn/model_selection/_split.py\u001b[0m in \u001b[0;36m_iter_test_masks\u001b[0;34m(self, X, y, groups)\u001b[0m\n\u001b[1;32m    684\u001b[0m \u001b[0;34m\u001b[0m\u001b[0m\n\u001b[1;32m    685\u001b[0m     \u001b[0;32mdef\u001b[0m \u001b[0m_iter_test_masks\u001b[0m\u001b[0;34m(\u001b[0m\u001b[0mself\u001b[0m\u001b[0;34m,\u001b[0m \u001b[0mX\u001b[0m\u001b[0;34m,\u001b[0m \u001b[0my\u001b[0m\u001b[0;34m=\u001b[0m\u001b[0;32mNone\u001b[0m\u001b[0;34m,\u001b[0m \u001b[0mgroups\u001b[0m\u001b[0;34m=\u001b[0m\u001b[0;32mNone\u001b[0m\u001b[0;34m)\u001b[0m\u001b[0;34m:\u001b[0m\u001b[0;34m\u001b[0m\u001b[0;34m\u001b[0m\u001b[0m\n\u001b[0;32m--> 686\u001b[0;31m         \u001b[0mtest_folds\u001b[0m \u001b[0;34m=\u001b[0m \u001b[0mself\u001b[0m\u001b[0;34m.\u001b[0m\u001b[0m_make_test_folds\u001b[0m\u001b[0;34m(\u001b[0m\u001b[0mX\u001b[0m\u001b[0;34m,\u001b[0m \u001b[0my\u001b[0m\u001b[0;34m)\u001b[0m\u001b[0;34m\u001b[0m\u001b[0;34m\u001b[0m\u001b[0m\n\u001b[0m\u001b[1;32m    687\u001b[0m         \u001b[0;32mfor\u001b[0m \u001b[0mi\u001b[0m \u001b[0;32min\u001b[0m \u001b[0mrange\u001b[0m\u001b[0;34m(\u001b[0m\u001b[0mself\u001b[0m\u001b[0;34m.\u001b[0m\u001b[0mn_splits\u001b[0m\u001b[0;34m)\u001b[0m\u001b[0;34m:\u001b[0m\u001b[0;34m\u001b[0m\u001b[0;34m\u001b[0m\u001b[0m\n\u001b[1;32m    688\u001b[0m             \u001b[0;32myield\u001b[0m \u001b[0mtest_folds\u001b[0m \u001b[0;34m==\u001b[0m \u001b[0mi\u001b[0m\u001b[0;34m\u001b[0m\u001b[0;34m\u001b[0m\u001b[0m\n",
      "\u001b[0;32m~/anaconda3/lib/python3.7/site-packages/sklearn/model_selection/_split.py\u001b[0m in \u001b[0;36m_make_test_folds\u001b[0;34m(self, X, y)\u001b[0m\n\u001b[1;32m    649\u001b[0m             raise ValueError(\"n_splits=%d cannot be greater than the\"\n\u001b[1;32m    650\u001b[0m                              \u001b[0;34m\" number of members in each class.\"\u001b[0m\u001b[0;34m\u001b[0m\u001b[0;34m\u001b[0m\u001b[0m\n\u001b[0;32m--> 651\u001b[0;31m                              % (self.n_splits))\n\u001b[0m\u001b[1;32m    652\u001b[0m         \u001b[0;32mif\u001b[0m \u001b[0mself\u001b[0m\u001b[0;34m.\u001b[0m\u001b[0mn_splits\u001b[0m \u001b[0;34m>\u001b[0m \u001b[0mmin_groups\u001b[0m\u001b[0;34m:\u001b[0m\u001b[0;34m\u001b[0m\u001b[0;34m\u001b[0m\u001b[0m\n\u001b[1;32m    653\u001b[0m             warnings.warn((\"The least populated class in y has only %d\"\n",
      "\u001b[0;31mValueError\u001b[0m: n_splits=5 cannot be greater than the number of members in each class."
     ]
    }
   ],
   "source": [
    "for port in ports:\n",
    "    print(port)\n",
    "    print\n",
    "    computeLogistic([port],['Measure','Month','Year','Year'],8)"
   ]
  }
 ],
 "metadata": {
  "kernelspec": {
   "display_name": "Python 3",
   "language": "python",
   "name": "python3"
  },
  "language_info": {
   "codemirror_mode": {
    "name": "ipython",
    "version": 3
   },
   "file_extension": ".py",
   "mimetype": "text/x-python",
   "name": "python",
   "nbconvert_exporter": "python",
   "pygments_lexer": "ipython3",
   "version": "3.7.3"
  }
 },
 "nbformat": 4,
 "nbformat_minor": 2
}
