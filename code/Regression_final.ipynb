{
 "cells": [
  {
   "cell_type": "code",
   "execution_count": 194,
   "metadata": {},
   "outputs": [],
   "source": [
    "import pandas as pd\n",
    "import numpy as np\n",
    "import matplotlib.pyplot as plt\n",
    "import datetime as dt \n",
    "from itertools import combinations \n",
    "from sklearn.linear_model import LinearRegression\n",
    "from sklearn.preprocessing import LabelEncoder, OneHotEncoder\n",
    "from sklearn.model_selection import train_test_split\n",
    "from sklearn.linear_model import LogisticRegressionCV\n",
    "import warnings\n",
    "warnings.filterwarnings(\"ignore\", category=FutureWarning)"
   ]
  },
  {
   "cell_type": "code",
   "execution_count": 2,
   "metadata": {},
   "outputs": [],
   "source": [
    "data = pd.read_csv(\"../data/DataWithLocationCleaned.csv.gz\")\n",
    "df = data.copy()"
   ]
  },
  {
   "cell_type": "code",
   "execution_count": 3,
   "metadata": {},
   "outputs": [
    {
     "data": {
      "text/html": [
       "<div>\n",
       "<style scoped>\n",
       "    .dataframe tbody tr th:only-of-type {\n",
       "        vertical-align: middle;\n",
       "    }\n",
       "\n",
       "    .dataframe tbody tr th {\n",
       "        vertical-align: top;\n",
       "    }\n",
       "\n",
       "    .dataframe thead th {\n",
       "        text-align: right;\n",
       "    }\n",
       "</style>\n",
       "<table border=\"1\" class=\"dataframe\">\n",
       "  <thead>\n",
       "    <tr style=\"text-align: right;\">\n",
       "      <th></th>\n",
       "      <th>Port Name</th>\n",
       "      <th>State</th>\n",
       "      <th>Port Code</th>\n",
       "      <th>Border</th>\n",
       "      <th>Date</th>\n",
       "      <th>Measure</th>\n",
       "      <th>Value</th>\n",
       "      <th>Year</th>\n",
       "      <th>Month</th>\n",
       "      <th>position</th>\n",
       "      <th>latitude</th>\n",
       "      <th>longitude</th>\n",
       "    </tr>\n",
       "  </thead>\n",
       "  <tbody>\n",
       "    <tr>\n",
       "      <th>0</th>\n",
       "      <td>Warroad</td>\n",
       "      <td>Minnesota</td>\n",
       "      <td>3423</td>\n",
       "      <td>US-Canada Border</td>\n",
       "      <td>2019-06-01</td>\n",
       "      <td>Truck Containers Full</td>\n",
       "      <td>133</td>\n",
       "      <td>2019</td>\n",
       "      <td>6</td>\n",
       "      <td>(48.905266, -95.314404)</td>\n",
       "      <td>48.905266</td>\n",
       "      <td>-95.314404</td>\n",
       "    </tr>\n",
       "    <tr>\n",
       "      <th>1</th>\n",
       "      <td>Warroad</td>\n",
       "      <td>Minnesota</td>\n",
       "      <td>3423</td>\n",
       "      <td>US-Canada Border</td>\n",
       "      <td>2019-06-01</td>\n",
       "      <td>Truck Containers Empty</td>\n",
       "      <td>298</td>\n",
       "      <td>2019</td>\n",
       "      <td>6</td>\n",
       "      <td>(48.905266, -95.314404)</td>\n",
       "      <td>48.905266</td>\n",
       "      <td>-95.314404</td>\n",
       "    </tr>\n",
       "    <tr>\n",
       "      <th>2</th>\n",
       "      <td>Warroad</td>\n",
       "      <td>Minnesota</td>\n",
       "      <td>3423</td>\n",
       "      <td>US-Canada Border</td>\n",
       "      <td>2019-06-01</td>\n",
       "      <td>Personal Vehicles</td>\n",
       "      <td>10383</td>\n",
       "      <td>2019</td>\n",
       "      <td>6</td>\n",
       "      <td>(48.905266, -95.314404)</td>\n",
       "      <td>48.905266</td>\n",
       "      <td>-95.314404</td>\n",
       "    </tr>\n",
       "    <tr>\n",
       "      <th>3</th>\n",
       "      <td>Warroad</td>\n",
       "      <td>Minnesota</td>\n",
       "      <td>3423</td>\n",
       "      <td>US-Canada Border</td>\n",
       "      <td>2019-06-01</td>\n",
       "      <td>Personal Vehicle Passengers</td>\n",
       "      <td>19459</td>\n",
       "      <td>2019</td>\n",
       "      <td>6</td>\n",
       "      <td>(48.905266, -95.314404)</td>\n",
       "      <td>48.905266</td>\n",
       "      <td>-95.314404</td>\n",
       "    </tr>\n",
       "    <tr>\n",
       "      <th>4</th>\n",
       "      <td>Warroad</td>\n",
       "      <td>Minnesota</td>\n",
       "      <td>3423</td>\n",
       "      <td>US-Canada Border</td>\n",
       "      <td>2019-06-01</td>\n",
       "      <td>Pedestrians</td>\n",
       "      <td>2</td>\n",
       "      <td>2019</td>\n",
       "      <td>6</td>\n",
       "      <td>(48.905266, -95.314404)</td>\n",
       "      <td>48.905266</td>\n",
       "      <td>-95.314404</td>\n",
       "    </tr>\n",
       "  </tbody>\n",
       "</table>\n",
       "</div>"
      ],
      "text/plain": [
       "  Port Name      State  Port Code            Border        Date  \\\n",
       "0   Warroad  Minnesota       3423  US-Canada Border  2019-06-01   \n",
       "1   Warroad  Minnesota       3423  US-Canada Border  2019-06-01   \n",
       "2   Warroad  Minnesota       3423  US-Canada Border  2019-06-01   \n",
       "3   Warroad  Minnesota       3423  US-Canada Border  2019-06-01   \n",
       "4   Warroad  Minnesota       3423  US-Canada Border  2019-06-01   \n",
       "\n",
       "                       Measure  Value  Year  Month                 position  \\\n",
       "0        Truck Containers Full    133  2019      6  (48.905266, -95.314404)   \n",
       "1       Truck Containers Empty    298  2019      6  (48.905266, -95.314404)   \n",
       "2            Personal Vehicles  10383  2019      6  (48.905266, -95.314404)   \n",
       "3  Personal Vehicle Passengers  19459  2019      6  (48.905266, -95.314404)   \n",
       "4                  Pedestrians      2  2019      6  (48.905266, -95.314404)   \n",
       "\n",
       "    latitude   longitude  \n",
       "0  48.905266  -95.314404  \n",
       "1  48.905266  -95.314404  \n",
       "2  48.905266  -95.314404  \n",
       "3  48.905266  -95.314404  \n",
       "4  48.905266  -95.314404  "
      ]
     },
     "execution_count": 3,
     "metadata": {},
     "output_type": "execute_result"
    }
   ],
   "source": [
    "def getlat(x):\n",
    "    lat = x.partition(',')[0][1:]\n",
    "    if lat[0] == \"'\":\n",
    "        lat = lat[1:-1]\n",
    "    return lat\n",
    "\n",
    "def getlong(x):\n",
    "    lat = x.partition(',')[2]\n",
    "    if lat[1] == \"'\":\n",
    "        lat = lat[2:-2]\n",
    "    else:\n",
    "        lat = lat[1:-1]\n",
    "    return lat\n",
    "\n",
    "df['latitude'] = df['position'].apply(lambda x: getlat(x))\n",
    "df['longitude'] = df['position'].apply(lambda x: getlong(x))\n",
    "df.head()"
   ]
  },
  {
   "cell_type": "code",
   "execution_count": 19,
   "metadata": {},
   "outputs": [],
   "source": [
    "persons = df[df['Measure'].isin(['Bus Passengers','Pedestrians','Personal Vehicle Passengers','Train Passengers'])].reset_index().drop(columns=['index'])\n",
    "traffic = df[~df['Measure'].isin(['Bus Passengers','Pedestrians','Personal Vehicle Passengers','Train Passengers'])].reset_index().drop(columns=['index'])\n",
    "ports = df['Port Name'].unique()"
   ]
  },
  {
   "cell_type": "code",
   "execution_count": 28,
   "metadata": {},
   "outputs": [
    {
     "data": {
      "application/vnd.plotly.v1+json": {
       "config": {
        "plotlyServerURL": "https://plot.ly"
       },
       "data": [
        {
         "lat": [
          "25.9140256",
          "26.0922991",
          "26.3530256",
          "26.3827771",
          "26.4070669",
          "27.5199841",
          "28.7091433",
          "29.1921092",
          "29.3627296",
          "29.9883766",
          "31.3402134",
          "31.342529",
          "31.46223",
          "31.471341",
          "31.4887016",
          "31.7600372",
          "31.8303365",
          "31.8559384",
          "31.8819798",
          "32.4934395",
          "32.54831535",
          "32.5520013",
          "32.560058",
          "32.5833711",
          "32.6753413",
          "32.6790572",
          "32.7248173",
          "35.9128415",
          "41.4489397",
          "42.3315509",
          "42.6183675",
          "42.9815877",
          "43.0761171",
          "43.6610277",
          "44.125494",
          "44.336127",
          "44.3864565",
          "44.694285",
          "44.881314",
          "44.911752",
          "44.928106",
          "44.979486",
          "44.982541",
          "44.9953505",
          "45.00042985",
          "45.008759",
          "45.0094923",
          "45.189032",
          "45.5634002",
          "45.6239358",
          "46.1251286",
          "46.427919",
          "46.490586",
          "46.7698261",
          "46.9034922",
          "46.908998",
          "47.0070211",
          "47.157506",
          "47.258728",
          "47.355571",
          "47.963776",
          "48.118146",
          "48.4346971",
          "48.4736934",
          "48.5020123",
          "48.5342662",
          "48.614892",
          "48.7124408",
          "48.7530787",
          "48.7710371",
          "48.792086",
          "48.813057",
          "48.8456288",
          "48.857088",
          "48.8582488",
          "48.8636212",
          "48.8764172",
          "48.888919",
          "48.8908464",
          "48.8956798",
          "48.905266",
          "48.9083386",
          "48.909464",
          "48.9107543",
          "48.923328",
          "48.9376147",
          "48.9444517",
          "48.94584",
          "48.9466041",
          "48.9521858",
          "48.9539222",
          "48.9600187",
          "48.9670097",
          "48.9708532",
          "48.9716708",
          "48.9779945",
          "48.9831558",
          "48.9853824",
          "48.9861027",
          "48.9881108",
          "48.9923978",
          "48.9933527",
          "48.9950874",
          "48.9958637",
          "48.9970672",
          "48.9975828",
          "48.9982855",
          "48.998612",
          "48.9987931",
          "48.998839",
          "48.9991329",
          "48.9996344",
          "48.999904",
          "55.3430696",
          "59.470921",
          "59.6226362",
          "62.66607"
         ],
         "locationmode": "USA-states",
         "lon": [
          "-97.4890856",
          "-97.9572242",
          "-98.216445",
          "-98.8205251",
          "-99.0055462",
          "-99.4953764",
          "-100.4995214",
          "-102.9485706",
          "-100.896761",
          "-104.2336552",
          "-110.9360818",
          "-109.936355674705",
          "-109.59394273101",
          "-106.151947",
          "-111.5420505",
          "-106.487287",
          "-107.6385256",
          "-106.6391577",
          "-112.8153361",
          "-114.7737551",
          "-116.974398450271",
          "-117.0430813",
          "-116.9361338",
          "-116.6285217",
          "-115.3887997",
          "-115.498703",
          "-114.7248614",
          "-96.8039141",
          "-82.7079605",
          "-83.0466403",
          "-82.531018",
          "-82.440466",
          "-78.9928794",
          "-70.2548596",
          "-76.3304640631677",
          "-75.917931",
          "-68.2118570811003",
          "-75.486374",
          "-74.2656165",
          "-66.985965",
          "-74.892082",
          "-73.1054065",
          "-73.377564",
          "-72.6731285931857",
          "-72.1064356198873",
          "-71.5067925",
          "-71.7961053",
          "-67.2781424",
          "-67.429721",
          "-70.2545117",
          "-67.8407944",
          "-67.844009",
          "-84.359269",
          "-67.8345688",
          "-96.7971257256983",
          "-67.826157",
          "-112.4546302",
          "-67.935333",
          "-68.589706",
          "-68.321915",
          "-89.6848121",
          "-123.4307413",
          "-112.6945072",
          "-118.4834362",
          "-122.6237356",
          "-123.0171242",
          "-93.352057",
          "-94.600171",
          "-97.5532833",
          "-95.7697882",
          "-105.419948",
          "-100.060968",
          "-108.4048141",
          "-106.407904",
          "-96.8045602",
          "-117.3718881",
          "-104.5802366",
          "-103.008794",
          "-100.5445928",
          "-105.163013",
          "-95.314404",
          "-111.2530312",
          "-101.020712",
          "-103.7752713",
          "-97.918148",
          "-119.4361687",
          "-99.7109743",
          "-98.995961",
          "-122.4569315",
          "-99.3807545",
          "-103.4826921",
          "-101.632661",
          "-119.6407335",
          "-101.2823803",
          "-98.6917884",
          "-95.9428151",
          "-117.6371945",
          "-123.077974",
          "-97.5548",
          "-122.7435757",
          "-118.5080824",
          "-107.8323167",
          "-122.269080593315",
          "-102.5496127",
          "-111.9625745",
          "-112.788762",
          "-116.4979886",
          "-98.3648321",
          "-118.2241779",
          "-97.204893",
          "-115.0565577",
          "-117.8310975",
          "-116.180196",
          "-131.6466819",
          "-136.419291",
          "-135.4094368",
          "-141.141890269798"
         ],
         "marker": {
          "color": "crimson",
          "line": {
           "color": "rgb(20,20,20)",
           "width": 0.5
          },
          "size": [
           1042.855936,
           223.17102,
           1146.0902,
           108.5735,
           185.21904,
           1320.05349,
           515.248334,
           0.11188,
           271.228302,
           111.655528,
           809.627002,
           56.125912,
           325.241338,
           81.687628,
           4.672972,
           2321.573728,
           68.173524,
           63.922018,
           69.44569,
           527.047458,
           4.689396,
           2296.687324,
           911.597426,
           179.078204,
           462.481104,
           1053.36686,
           147.031632,
           1.611212,
           0.000812,
           975.481138,
           0.15282,
           379.523958,
           1094.639576,
           1.913668,
           0.643734,
           125.203722,
           0.495976,
           47.335192,
           28.227594,
           13.419398,
           148.40958,
           84.445312,
           224.328888,
           17.979316,
           103.619182,
           12.067156,
           12.448392,
           157.87369,
           7.752426,
           34.193068,
           57.26303,
           11.428172,
           164.66494,
           24.145778,
           3.650838,
           5.9785,
           0.28779,
           38.07092,
           31.730454,
           81.230524,
           39.811968,
           6.21664,
           20.401444,
           1.581136,
           3.257376,
           0.347952,
           90.784794,
           27.343406,
           68.682606,
           6.36459,
           0.88224,
           12.26468,
           1.18675,
           0.652806,
           4.49222,
           4.856192,
           5.967676,
           4.674134,
           1.922166,
           0.320184,
           19.913662,
           0.135904,
           2.13122,
           2.051318,
           6.361806,
           40.422172,
           3.176736,
           0.893532,
           94.186386,
           1.648726,
           0.421854,
           2.885788,
           1.087534,
           1.638958,
           0.570214,
           0.862046,
           7.025896,
           118.23135,
           7.24677,
           574.605186,
           7.611456,
           1.008666,
           138.907926,
           30.812332,
           52.527132,
           3.530544,
           18.885546,
           1.981974,
           8.157962,
           3.838786,
           20.832546,
           8.073634,
           23.567468,
           0.383256,
           2.850132,
           16.59004,
           8.597458
          ],
          "sizemode": "area"
         },
         "text": [
          "Brownsville<br>Crossings: 521.427968 million",
          "Progreso<br>Crossings: 111.58551 million",
          "Hidalgo<br>Crossings: 573.0451 million",
          "Rio Grande City<br>Crossings: 54.28675 million",
          "Roma<br>Crossings: 92.60952 million",
          "Laredo<br>Crossings: 660.026745 million",
          "Eagle Pass<br>Crossings: 257.624167 million",
          "Boquillas<br>Crossings: 0.05594 million",
          "Del Rio<br>Crossings: 135.614151 million",
          "Presidio<br>Crossings: 55.827764 million",
          "Nogales<br>Crossings: 404.813501 million",
          "Naco<br>Crossings: 28.062956 million",
          "Douglas<br>Crossings: 162.620669 million",
          "Tornillo-Fabens<br>Crossings: 40.843814 million",
          "Sasabe<br>Crossings: 2.336486 million",
          "El Paso<br>Crossings: 1160.786864 million",
          "Columbus<br>Crossings: 34.086762 million",
          "Santa Teresa<br>Crossings: 31.961009 million",
          "Lukeville<br>Crossings: 34.722845 million",
          "San Luis<br>Crossings: 263.523729 million",
          "Cross Border Xpress<br>Crossings: 2.344698 million",
          "San Ysidro<br>Crossings: 1148.343662 million",
          "Otay Mesa<br>Crossings: 455.798713 million",
          "Tecate<br>Crossings: 89.539102 million",
          "Calexico East<br>Crossings: 231.240552 million",
          "Calexico<br>Crossings: 526.68343 million",
          "Andrade<br>Crossings: 73.515816 million",
          "Wildhorse<br>Crossings: 0.805606 million",
          "Toledo-Sandusky<br>Crossings: 0.000406 million",
          "Detroit<br>Crossings: 487.740569 million",
          "Algonac<br>Crossings: 0.07641 million",
          "Port Huron<br>Crossings: 189.761979 million",
          "Buffalo-Niagara Falls<br>Crossings: 547.319788 million",
          "Portland<br>Crossings: 0.956834 million",
          "Cape Vincent<br>Crossings: 0.321867 million",
          "Alexandria Bay<br>Crossings: 62.601861 million",
          "Bar Harbor<br>Crossings: 0.247988 million",
          "Ogdensburg<br>Crossings: 23.667596 million",
          "Trout River<br>Crossings: 14.113797 million",
          "Eastport_MA<br>Crossings: 6.709699 million",
          "Massena<br>Crossings: 74.20479 million",
          "Highgate Springs-Alburg<br>Crossings: 42.222656 million",
          "Champlain-Rouses Point<br>Crossings: 112.164444 million",
          "Richford<br>Crossings: 8.989658 million",
          "Derby Line<br>Crossings: 51.809591 million",
          "Beecher Falls<br>Crossings: 6.033578 million",
          "Norton<br>Crossings: 6.224196 million",
          "Calais<br>Crossings: 78.936845 million",
          "Vanceboro<br>Crossings: 3.876213 million",
          "Jackman<br>Crossings: 17.096534 million",
          "Houlton<br>Crossings: 28.631515 million",
          "Bridgewater<br>Crossings: 5.714086 million",
          "Sault Sainte Marie<br>Crossings: 82.33247 million",
          "Fort Fairfield<br>Crossings: 12.072889 million",
          "Northgate<br>Crossings: 1.825419 million",
          "Limestone<br>Crossings: 2.98925 million",
          "Willow Creek<br>Crossings: 0.143895 million",
          "Van Buren<br>Crossings: 19.03546 million",
          "Fort Kent<br>Crossings: 15.865227 million",
          "Madawaska<br>Crossings: 40.615262 million",
          "Grand Portage<br>Crossings: 19.905984 million",
          "Port Angeles<br>Crossings: 3.10832 million",
          "Piegan<br>Crossings: 10.200722 million",
          "Ferry<br>Crossings: 0.790568 million",
          "Anacortes<br>Crossings: 1.628688 million",
          "Friday Harbor<br>Crossings: 0.173976 million",
          "International Falls-Ranier<br>Crossings: 45.392397 million",
          "Baudette<br>Crossings: 13.671703 million",
          "Pembina<br>Crossings: 34.341303 million",
          "Roseau<br>Crossings: 3.182295 million",
          "Scobey<br>Crossings: 0.44112 million",
          "Dunseith<br>Crossings: 6.13234 million",
          "Turner<br>Crossings: 0.593375 million",
          "Opheim<br>Crossings: 0.326403 million",
          "Lancaster<br>Crossings: 2.24611 million",
          "Metaline Falls<br>Crossings: 2.428096 million",
          "Raymond<br>Crossings: 2.983838 million",
          "Noonan<br>Crossings: 2.337067 million",
          "Carbury<br>Crossings: 0.961083 million",
          "Whitetail<br>Crossings: 0.160092 million",
          "Warroad<br>Crossings: 9.956831 million",
          "Whitlash<br>Crossings: 0.067952 million",
          "Westhope<br>Crossings: 1.06561 million",
          "Fortuna<br>Crossings: 1.025659 million",
          "Walhalla<br>Crossings: 3.180903 million",
          "Oroville<br>Crossings: 20.211086 million",
          "St. John<br>Crossings: 1.588368 million",
          "Sarles<br>Crossings: 0.446766 million",
          "Lynden<br>Crossings: 47.093193 million",
          "Hansboro<br>Crossings: 0.824363 million",
          "Ambrose<br>Crossings: 0.210927 million",
          "Sherwood<br>Crossings: 1.442894 million",
          "Nighthawk<br>Crossings: 0.543767 million",
          "Antler<br>Crossings: 0.819479 million",
          "Hannah<br>Crossings: 0.285107 million",
          "Pinecreek<br>Crossings: 0.431023 million",
          "Boundary<br>Crossings: 3.512948 million",
          "Point Roberts<br>Crossings: 59.115675 million",
          "Neche<br>Crossings: 3.623385 million",
          "Blaine<br>Crossings: 287.302593 million",
          "Danville<br>Crossings: 3.805728 million",
          "Morgan<br>Crossings: 0.504333 million",
          "Sumas<br>Crossings: 69.453963 million",
          "Portal<br>Crossings: 15.406166 million",
          "Sweetgrass<br>Crossings: 26.263566 million",
          "Del Bonita<br>Crossings: 1.765272 million",
          "Porthill<br>Crossings: 9.442773 million",
          "Maida<br>Crossings: 0.990987 million",
          "Laurier<br>Crossings: 4.078981 million",
          "Noyes<br>Crossings: 1.919393 million",
          "Roosville<br>Crossings: 10.416273 million",
          "Frontier<br>Crossings: 4.036817 million",
          "Eastport_ID<br>Crossings: 11.783734 million",
          "Ketchikan<br>Crossings: 0.191628 million",
          "Dalton Cache<br>Crossings: 1.425066 million",
          "Skagway<br>Crossings: 8.29502 million",
          "Alcan<br>Crossings: 4.298729 million"
         ],
         "type": "scattergeo"
        }
       ],
       "layout": {
        "geo": {
         "landcolor": "rgb(217, 217, 217)",
         "scope": "usa"
        },
        "showlegend": false,
        "template": {
         "data": {
          "bar": [
           {
            "error_x": {
             "color": "#2a3f5f"
            },
            "error_y": {
             "color": "#2a3f5f"
            },
            "marker": {
             "line": {
              "color": "#E5ECF6",
              "width": 0.5
             }
            },
            "type": "bar"
           }
          ],
          "barpolar": [
           {
            "marker": {
             "line": {
              "color": "#E5ECF6",
              "width": 0.5
             }
            },
            "type": "barpolar"
           }
          ],
          "carpet": [
           {
            "aaxis": {
             "endlinecolor": "#2a3f5f",
             "gridcolor": "white",
             "linecolor": "white",
             "minorgridcolor": "white",
             "startlinecolor": "#2a3f5f"
            },
            "baxis": {
             "endlinecolor": "#2a3f5f",
             "gridcolor": "white",
             "linecolor": "white",
             "minorgridcolor": "white",
             "startlinecolor": "#2a3f5f"
            },
            "type": "carpet"
           }
          ],
          "choropleth": [
           {
            "colorbar": {
             "outlinewidth": 0,
             "ticks": ""
            },
            "type": "choropleth"
           }
          ],
          "contour": [
           {
            "colorbar": {
             "outlinewidth": 0,
             "ticks": ""
            },
            "colorscale": [
             [
              0,
              "#0d0887"
             ],
             [
              0.1111111111111111,
              "#46039f"
             ],
             [
              0.2222222222222222,
              "#7201a8"
             ],
             [
              0.3333333333333333,
              "#9c179e"
             ],
             [
              0.4444444444444444,
              "#bd3786"
             ],
             [
              0.5555555555555556,
              "#d8576b"
             ],
             [
              0.6666666666666666,
              "#ed7953"
             ],
             [
              0.7777777777777778,
              "#fb9f3a"
             ],
             [
              0.8888888888888888,
              "#fdca26"
             ],
             [
              1,
              "#f0f921"
             ]
            ],
            "type": "contour"
           }
          ],
          "contourcarpet": [
           {
            "colorbar": {
             "outlinewidth": 0,
             "ticks": ""
            },
            "type": "contourcarpet"
           }
          ],
          "heatmap": [
           {
            "colorbar": {
             "outlinewidth": 0,
             "ticks": ""
            },
            "colorscale": [
             [
              0,
              "#0d0887"
             ],
             [
              0.1111111111111111,
              "#46039f"
             ],
             [
              0.2222222222222222,
              "#7201a8"
             ],
             [
              0.3333333333333333,
              "#9c179e"
             ],
             [
              0.4444444444444444,
              "#bd3786"
             ],
             [
              0.5555555555555556,
              "#d8576b"
             ],
             [
              0.6666666666666666,
              "#ed7953"
             ],
             [
              0.7777777777777778,
              "#fb9f3a"
             ],
             [
              0.8888888888888888,
              "#fdca26"
             ],
             [
              1,
              "#f0f921"
             ]
            ],
            "type": "heatmap"
           }
          ],
          "heatmapgl": [
           {
            "colorbar": {
             "outlinewidth": 0,
             "ticks": ""
            },
            "colorscale": [
             [
              0,
              "#0d0887"
             ],
             [
              0.1111111111111111,
              "#46039f"
             ],
             [
              0.2222222222222222,
              "#7201a8"
             ],
             [
              0.3333333333333333,
              "#9c179e"
             ],
             [
              0.4444444444444444,
              "#bd3786"
             ],
             [
              0.5555555555555556,
              "#d8576b"
             ],
             [
              0.6666666666666666,
              "#ed7953"
             ],
             [
              0.7777777777777778,
              "#fb9f3a"
             ],
             [
              0.8888888888888888,
              "#fdca26"
             ],
             [
              1,
              "#f0f921"
             ]
            ],
            "type": "heatmapgl"
           }
          ],
          "histogram": [
           {
            "marker": {
             "colorbar": {
              "outlinewidth": 0,
              "ticks": ""
             }
            },
            "type": "histogram"
           }
          ],
          "histogram2d": [
           {
            "colorbar": {
             "outlinewidth": 0,
             "ticks": ""
            },
            "colorscale": [
             [
              0,
              "#0d0887"
             ],
             [
              0.1111111111111111,
              "#46039f"
             ],
             [
              0.2222222222222222,
              "#7201a8"
             ],
             [
              0.3333333333333333,
              "#9c179e"
             ],
             [
              0.4444444444444444,
              "#bd3786"
             ],
             [
              0.5555555555555556,
              "#d8576b"
             ],
             [
              0.6666666666666666,
              "#ed7953"
             ],
             [
              0.7777777777777778,
              "#fb9f3a"
             ],
             [
              0.8888888888888888,
              "#fdca26"
             ],
             [
              1,
              "#f0f921"
             ]
            ],
            "type": "histogram2d"
           }
          ],
          "histogram2dcontour": [
           {
            "colorbar": {
             "outlinewidth": 0,
             "ticks": ""
            },
            "colorscale": [
             [
              0,
              "#0d0887"
             ],
             [
              0.1111111111111111,
              "#46039f"
             ],
             [
              0.2222222222222222,
              "#7201a8"
             ],
             [
              0.3333333333333333,
              "#9c179e"
             ],
             [
              0.4444444444444444,
              "#bd3786"
             ],
             [
              0.5555555555555556,
              "#d8576b"
             ],
             [
              0.6666666666666666,
              "#ed7953"
             ],
             [
              0.7777777777777778,
              "#fb9f3a"
             ],
             [
              0.8888888888888888,
              "#fdca26"
             ],
             [
              1,
              "#f0f921"
             ]
            ],
            "type": "histogram2dcontour"
           }
          ],
          "mesh3d": [
           {
            "colorbar": {
             "outlinewidth": 0,
             "ticks": ""
            },
            "type": "mesh3d"
           }
          ],
          "parcoords": [
           {
            "line": {
             "colorbar": {
              "outlinewidth": 0,
              "ticks": ""
             }
            },
            "type": "parcoords"
           }
          ],
          "pie": [
           {
            "automargin": true,
            "type": "pie"
           }
          ],
          "scatter": [
           {
            "marker": {
             "colorbar": {
              "outlinewidth": 0,
              "ticks": ""
             }
            },
            "type": "scatter"
           }
          ],
          "scatter3d": [
           {
            "line": {
             "colorbar": {
              "outlinewidth": 0,
              "ticks": ""
             }
            },
            "marker": {
             "colorbar": {
              "outlinewidth": 0,
              "ticks": ""
             }
            },
            "type": "scatter3d"
           }
          ],
          "scattercarpet": [
           {
            "marker": {
             "colorbar": {
              "outlinewidth": 0,
              "ticks": ""
             }
            },
            "type": "scattercarpet"
           }
          ],
          "scattergeo": [
           {
            "marker": {
             "colorbar": {
              "outlinewidth": 0,
              "ticks": ""
             }
            },
            "type": "scattergeo"
           }
          ],
          "scattergl": [
           {
            "marker": {
             "colorbar": {
              "outlinewidth": 0,
              "ticks": ""
             }
            },
            "type": "scattergl"
           }
          ],
          "scattermapbox": [
           {
            "marker": {
             "colorbar": {
              "outlinewidth": 0,
              "ticks": ""
             }
            },
            "type": "scattermapbox"
           }
          ],
          "scatterpolar": [
           {
            "marker": {
             "colorbar": {
              "outlinewidth": 0,
              "ticks": ""
             }
            },
            "type": "scatterpolar"
           }
          ],
          "scatterpolargl": [
           {
            "marker": {
             "colorbar": {
              "outlinewidth": 0,
              "ticks": ""
             }
            },
            "type": "scatterpolargl"
           }
          ],
          "scatterternary": [
           {
            "marker": {
             "colorbar": {
              "outlinewidth": 0,
              "ticks": ""
             }
            },
            "type": "scatterternary"
           }
          ],
          "surface": [
           {
            "colorbar": {
             "outlinewidth": 0,
             "ticks": ""
            },
            "colorscale": [
             [
              0,
              "#0d0887"
             ],
             [
              0.1111111111111111,
              "#46039f"
             ],
             [
              0.2222222222222222,
              "#7201a8"
             ],
             [
              0.3333333333333333,
              "#9c179e"
             ],
             [
              0.4444444444444444,
              "#bd3786"
             ],
             [
              0.5555555555555556,
              "#d8576b"
             ],
             [
              0.6666666666666666,
              "#ed7953"
             ],
             [
              0.7777777777777778,
              "#fb9f3a"
             ],
             [
              0.8888888888888888,
              "#fdca26"
             ],
             [
              1,
              "#f0f921"
             ]
            ],
            "type": "surface"
           }
          ],
          "table": [
           {
            "cells": {
             "fill": {
              "color": "#EBF0F8"
             },
             "line": {
              "color": "white"
             }
            },
            "header": {
             "fill": {
              "color": "#C8D4E3"
             },
             "line": {
              "color": "white"
             }
            },
            "type": "table"
           }
          ]
         },
         "layout": {
          "annotationdefaults": {
           "arrowcolor": "#2a3f5f",
           "arrowhead": 0,
           "arrowwidth": 1
          },
          "coloraxis": {
           "colorbar": {
            "outlinewidth": 0,
            "ticks": ""
           }
          },
          "colorscale": {
           "diverging": [
            [
             0,
             "#8e0152"
            ],
            [
             0.1,
             "#c51b7d"
            ],
            [
             0.2,
             "#de77ae"
            ],
            [
             0.3,
             "#f1b6da"
            ],
            [
             0.4,
             "#fde0ef"
            ],
            [
             0.5,
             "#f7f7f7"
            ],
            [
             0.6,
             "#e6f5d0"
            ],
            [
             0.7,
             "#b8e186"
            ],
            [
             0.8,
             "#7fbc41"
            ],
            [
             0.9,
             "#4d9221"
            ],
            [
             1,
             "#276419"
            ]
           ],
           "sequential": [
            [
             0,
             "#0d0887"
            ],
            [
             0.1111111111111111,
             "#46039f"
            ],
            [
             0.2222222222222222,
             "#7201a8"
            ],
            [
             0.3333333333333333,
             "#9c179e"
            ],
            [
             0.4444444444444444,
             "#bd3786"
            ],
            [
             0.5555555555555556,
             "#d8576b"
            ],
            [
             0.6666666666666666,
             "#ed7953"
            ],
            [
             0.7777777777777778,
             "#fb9f3a"
            ],
            [
             0.8888888888888888,
             "#fdca26"
            ],
            [
             1,
             "#f0f921"
            ]
           ],
           "sequentialminus": [
            [
             0,
             "#0d0887"
            ],
            [
             0.1111111111111111,
             "#46039f"
            ],
            [
             0.2222222222222222,
             "#7201a8"
            ],
            [
             0.3333333333333333,
             "#9c179e"
            ],
            [
             0.4444444444444444,
             "#bd3786"
            ],
            [
             0.5555555555555556,
             "#d8576b"
            ],
            [
             0.6666666666666666,
             "#ed7953"
            ],
            [
             0.7777777777777778,
             "#fb9f3a"
            ],
            [
             0.8888888888888888,
             "#fdca26"
            ],
            [
             1,
             "#f0f921"
            ]
           ]
          },
          "colorway": [
           "#636efa",
           "#EF553B",
           "#00cc96",
           "#ab63fa",
           "#FFA15A",
           "#19d3f3",
           "#FF6692",
           "#B6E880",
           "#FF97FF",
           "#FECB52"
          ],
          "font": {
           "color": "#2a3f5f"
          },
          "geo": {
           "bgcolor": "white",
           "lakecolor": "white",
           "landcolor": "#E5ECF6",
           "showlakes": true,
           "showland": true,
           "subunitcolor": "white"
          },
          "hoverlabel": {
           "align": "left"
          },
          "hovermode": "closest",
          "mapbox": {
           "style": "light"
          },
          "paper_bgcolor": "white",
          "plot_bgcolor": "#E5ECF6",
          "polar": {
           "angularaxis": {
            "gridcolor": "white",
            "linecolor": "white",
            "ticks": ""
           },
           "bgcolor": "#E5ECF6",
           "radialaxis": {
            "gridcolor": "white",
            "linecolor": "white",
            "ticks": ""
           }
          },
          "scene": {
           "xaxis": {
            "backgroundcolor": "#E5ECF6",
            "gridcolor": "white",
            "gridwidth": 2,
            "linecolor": "white",
            "showbackground": true,
            "ticks": "",
            "zerolinecolor": "white"
           },
           "yaxis": {
            "backgroundcolor": "#E5ECF6",
            "gridcolor": "white",
            "gridwidth": 2,
            "linecolor": "white",
            "showbackground": true,
            "ticks": "",
            "zerolinecolor": "white"
           },
           "zaxis": {
            "backgroundcolor": "#E5ECF6",
            "gridcolor": "white",
            "gridwidth": 2,
            "linecolor": "white",
            "showbackground": true,
            "ticks": "",
            "zerolinecolor": "white"
           }
          },
          "shapedefaults": {
           "line": {
            "color": "#2a3f5f"
           }
          },
          "ternary": {
           "aaxis": {
            "gridcolor": "white",
            "linecolor": "white",
            "ticks": ""
           },
           "baxis": {
            "gridcolor": "white",
            "linecolor": "white",
            "ticks": ""
           },
           "bgcolor": "#E5ECF6",
           "caxis": {
            "gridcolor": "white",
            "linecolor": "white",
            "ticks": ""
           }
          },
          "title": {
           "x": 0.05
          },
          "xaxis": {
           "automargin": true,
           "gridcolor": "white",
           "linecolor": "white",
           "ticks": "",
           "title": {
            "standoff": 15
           },
           "zerolinecolor": "white",
           "zerolinewidth": 2
          },
          "yaxis": {
           "automargin": true,
           "gridcolor": "white",
           "linecolor": "white",
           "ticks": "",
           "title": {
            "standoff": 15
           },
           "zerolinecolor": "white",
           "zerolinewidth": 2
          }
         }
        },
        "title": {
         "text": "US Borders, total inbound persons since 1996<br>(Click legend to toggle traces)"
        }
       }
      },
      "text/html": [
       "<div>\n",
       "        \n",
       "        \n",
       "            <div id=\"3159a6af-0c5e-422a-9e26-7ce3ce1fe4c8\" class=\"plotly-graph-div\" style=\"height:525px; width:100%;\"></div>\n",
       "            <script type=\"text/javascript\">\n",
       "                require([\"plotly\"], function(Plotly) {\n",
       "                    window.PLOTLYENV=window.PLOTLYENV || {};\n",
       "                    \n",
       "                if (document.getElementById(\"3159a6af-0c5e-422a-9e26-7ce3ce1fe4c8\")) {\n",
       "                    Plotly.newPlot(\n",
       "                        '3159a6af-0c5e-422a-9e26-7ce3ce1fe4c8',\n",
       "                        [{\"lat\": [\"25.9140256\", \"26.0922991\", \"26.3530256\", \"26.3827771\", \"26.4070669\", \"27.5199841\", \"28.7091433\", \"29.1921092\", \"29.3627296\", \"29.9883766\", \"31.3402134\", \"31.342529\", \"31.46223\", \"31.471341\", \"31.4887016\", \"31.7600372\", \"31.8303365\", \"31.8559384\", \"31.8819798\", \"32.4934395\", \"32.54831535\", \"32.5520013\", \"32.560058\", \"32.5833711\", \"32.6753413\", \"32.6790572\", \"32.7248173\", \"35.9128415\", \"41.4489397\", \"42.3315509\", \"42.6183675\", \"42.9815877\", \"43.0761171\", \"43.6610277\", \"44.125494\", \"44.336127\", \"44.3864565\", \"44.694285\", \"44.881314\", \"44.911752\", \"44.928106\", \"44.979486\", \"44.982541\", \"44.9953505\", \"45.00042985\", \"45.008759\", \"45.0094923\", \"45.189032\", \"45.5634002\", \"45.6239358\", \"46.1251286\", \"46.427919\", \"46.490586\", \"46.7698261\", \"46.9034922\", \"46.908998\", \"47.0070211\", \"47.157506\", \"47.258728\", \"47.355571\", \"47.963776\", \"48.118146\", \"48.4346971\", \"48.4736934\", \"48.5020123\", \"48.5342662\", \"48.614892\", \"48.7124408\", \"48.7530787\", \"48.7710371\", \"48.792086\", \"48.813057\", \"48.8456288\", \"48.857088\", \"48.8582488\", \"48.8636212\", \"48.8764172\", \"48.888919\", \"48.8908464\", \"48.8956798\", \"48.905266\", \"48.9083386\", \"48.909464\", \"48.9107543\", \"48.923328\", \"48.9376147\", \"48.9444517\", \"48.94584\", \"48.9466041\", \"48.9521858\", \"48.9539222\", \"48.9600187\", \"48.9670097\", \"48.9708532\", \"48.9716708\", \"48.9779945\", \"48.9831558\", \"48.9853824\", \"48.9861027\", \"48.9881108\", \"48.9923978\", \"48.9933527\", \"48.9950874\", \"48.9958637\", \"48.9970672\", \"48.9975828\", \"48.9982855\", \"48.998612\", \"48.9987931\", \"48.998839\", \"48.9991329\", \"48.9996344\", \"48.999904\", \"55.3430696\", \"59.470921\", \"59.6226362\", \"62.66607\"], \"locationmode\": \"USA-states\", \"lon\": [\"-97.4890856\", \"-97.9572242\", \"-98.216445\", \"-98.8205251\", \"-99.0055462\", \"-99.4953764\", \"-100.4995214\", \"-102.9485706\", \"-100.896761\", \"-104.2336552\", \"-110.9360818\", \"-109.936355674705\", \"-109.59394273101\", \"-106.151947\", \"-111.5420505\", \"-106.487287\", \"-107.6385256\", \"-106.6391577\", \"-112.8153361\", \"-114.7737551\", \"-116.974398450271\", \"-117.0430813\", \"-116.9361338\", \"-116.6285217\", \"-115.3887997\", \"-115.498703\", \"-114.7248614\", \"-96.8039141\", \"-82.7079605\", \"-83.0466403\", \"-82.531018\", \"-82.440466\", \"-78.9928794\", \"-70.2548596\", \"-76.3304640631677\", \"-75.917931\", \"-68.2118570811003\", \"-75.486374\", \"-74.2656165\", \"-66.985965\", \"-74.892082\", \"-73.1054065\", \"-73.377564\", \"-72.6731285931857\", \"-72.1064356198873\", \"-71.5067925\", \"-71.7961053\", \"-67.2781424\", \"-67.429721\", \"-70.2545117\", \"-67.8407944\", \"-67.844009\", \"-84.359269\", \"-67.8345688\", \"-96.7971257256983\", \"-67.826157\", \"-112.4546302\", \"-67.935333\", \"-68.589706\", \"-68.321915\", \"-89.6848121\", \"-123.4307413\", \"-112.6945072\", \"-118.4834362\", \"-122.6237356\", \"-123.0171242\", \"-93.352057\", \"-94.600171\", \"-97.5532833\", \"-95.7697882\", \"-105.419948\", \"-100.060968\", \"-108.4048141\", \"-106.407904\", \"-96.8045602\", \"-117.3718881\", \"-104.5802366\", \"-103.008794\", \"-100.5445928\", \"-105.163013\", \"-95.314404\", \"-111.2530312\", \"-101.020712\", \"-103.7752713\", \"-97.918148\", \"-119.4361687\", \"-99.7109743\", \"-98.995961\", \"-122.4569315\", \"-99.3807545\", \"-103.4826921\", \"-101.632661\", \"-119.6407335\", \"-101.2823803\", \"-98.6917884\", \"-95.9428151\", \"-117.6371945\", \"-123.077974\", \"-97.5548\", \"-122.7435757\", \"-118.5080824\", \"-107.8323167\", \"-122.269080593315\", \"-102.5496127\", \"-111.9625745\", \"-112.788762\", \"-116.4979886\", \"-98.3648321\", \"-118.2241779\", \"-97.204893\", \"-115.0565577\", \"-117.8310975\", \"-116.180196\", \"-131.6466819\", \"-136.419291\", \"-135.4094368\", \"-141.141890269798\"], \"marker\": {\"color\": \"crimson\", \"line\": {\"color\": \"rgb(20,20,20)\", \"width\": 0.5}, \"size\": [1042.855936, 223.17102, 1146.0902, 108.5735, 185.21904, 1320.05349, 515.248334, 0.11188, 271.228302, 111.655528, 809.627002, 56.125912, 325.241338, 81.687628, 4.672972, 2321.573728, 68.173524, 63.922018, 69.44569, 527.047458, 4.689396, 2296.687324, 911.597426, 179.078204, 462.481104, 1053.36686, 147.031632, 1.611212, 0.000812, 975.481138, 0.15282, 379.523958, 1094.639576, 1.913668, 0.643734, 125.203722, 0.495976, 47.335192, 28.227594, 13.419398, 148.40958, 84.445312, 224.328888, 17.979316, 103.619182, 12.067156, 12.448392, 157.87369, 7.752426, 34.193068, 57.26303, 11.428172, 164.66494, 24.145778, 3.650838, 5.9785, 0.28779, 38.07092, 31.730454, 81.230524, 39.811968, 6.21664, 20.401444, 1.581136, 3.257376, 0.347952, 90.784794, 27.343406, 68.682606, 6.36459, 0.88224, 12.26468, 1.18675, 0.652806, 4.49222, 4.856192, 5.967676, 4.674134, 1.922166, 0.320184, 19.913662, 0.135904, 2.13122, 2.051318, 6.361806, 40.422172, 3.176736, 0.893532, 94.186386, 1.648726, 0.421854, 2.885788, 1.087534, 1.638958, 0.570214, 0.862046, 7.025896, 118.23135, 7.24677, 574.605186, 7.611456, 1.008666, 138.907926, 30.812332, 52.527132, 3.530544, 18.885546, 1.981974, 8.157962, 3.838786, 20.832546, 8.073634, 23.567468, 0.383256, 2.850132, 16.59004, 8.597458], \"sizemode\": \"area\"}, \"text\": [\"Brownsville<br>Crossings: 521.427968 million\", \"Progreso<br>Crossings: 111.58551 million\", \"Hidalgo<br>Crossings: 573.0451 million\", \"Rio Grande City<br>Crossings: 54.28675 million\", \"Roma<br>Crossings: 92.60952 million\", \"Laredo<br>Crossings: 660.026745 million\", \"Eagle Pass<br>Crossings: 257.624167 million\", \"Boquillas<br>Crossings: 0.05594 million\", \"Del Rio<br>Crossings: 135.614151 million\", \"Presidio<br>Crossings: 55.827764 million\", \"Nogales<br>Crossings: 404.813501 million\", \"Naco<br>Crossings: 28.062956 million\", \"Douglas<br>Crossings: 162.620669 million\", \"Tornillo-Fabens<br>Crossings: 40.843814 million\", \"Sasabe<br>Crossings: 2.336486 million\", \"El Paso<br>Crossings: 1160.786864 million\", \"Columbus<br>Crossings: 34.086762 million\", \"Santa Teresa<br>Crossings: 31.961009 million\", \"Lukeville<br>Crossings: 34.722845 million\", \"San Luis<br>Crossings: 263.523729 million\", \"Cross Border Xpress<br>Crossings: 2.344698 million\", \"San Ysidro<br>Crossings: 1148.343662 million\", \"Otay Mesa<br>Crossings: 455.798713 million\", \"Tecate<br>Crossings: 89.539102 million\", \"Calexico East<br>Crossings: 231.240552 million\", \"Calexico<br>Crossings: 526.68343 million\", \"Andrade<br>Crossings: 73.515816 million\", \"Wildhorse<br>Crossings: 0.805606 million\", \"Toledo-Sandusky<br>Crossings: 0.000406 million\", \"Detroit<br>Crossings: 487.740569 million\", \"Algonac<br>Crossings: 0.07641 million\", \"Port Huron<br>Crossings: 189.761979 million\", \"Buffalo-Niagara Falls<br>Crossings: 547.319788 million\", \"Portland<br>Crossings: 0.956834 million\", \"Cape Vincent<br>Crossings: 0.321867 million\", \"Alexandria Bay<br>Crossings: 62.601861 million\", \"Bar Harbor<br>Crossings: 0.247988 million\", \"Ogdensburg<br>Crossings: 23.667596 million\", \"Trout River<br>Crossings: 14.113797 million\", \"Eastport_MA<br>Crossings: 6.709699 million\", \"Massena<br>Crossings: 74.20479 million\", \"Highgate Springs-Alburg<br>Crossings: 42.222656 million\", \"Champlain-Rouses Point<br>Crossings: 112.164444 million\", \"Richford<br>Crossings: 8.989658 million\", \"Derby Line<br>Crossings: 51.809591 million\", \"Beecher Falls<br>Crossings: 6.033578 million\", \"Norton<br>Crossings: 6.224196 million\", \"Calais<br>Crossings: 78.936845 million\", \"Vanceboro<br>Crossings: 3.876213 million\", \"Jackman<br>Crossings: 17.096534 million\", \"Houlton<br>Crossings: 28.631515 million\", \"Bridgewater<br>Crossings: 5.714086 million\", \"Sault Sainte Marie<br>Crossings: 82.33247 million\", \"Fort Fairfield<br>Crossings: 12.072889 million\", \"Northgate<br>Crossings: 1.825419 million\", \"Limestone<br>Crossings: 2.98925 million\", \"Willow Creek<br>Crossings: 0.143895 million\", \"Van Buren<br>Crossings: 19.03546 million\", \"Fort Kent<br>Crossings: 15.865227 million\", \"Madawaska<br>Crossings: 40.615262 million\", \"Grand Portage<br>Crossings: 19.905984 million\", \"Port Angeles<br>Crossings: 3.10832 million\", \"Piegan<br>Crossings: 10.200722 million\", \"Ferry<br>Crossings: 0.790568 million\", \"Anacortes<br>Crossings: 1.628688 million\", \"Friday Harbor<br>Crossings: 0.173976 million\", \"International Falls-Ranier<br>Crossings: 45.392397 million\", \"Baudette<br>Crossings: 13.671703 million\", \"Pembina<br>Crossings: 34.341303 million\", \"Roseau<br>Crossings: 3.182295 million\", \"Scobey<br>Crossings: 0.44112 million\", \"Dunseith<br>Crossings: 6.13234 million\", \"Turner<br>Crossings: 0.593375 million\", \"Opheim<br>Crossings: 0.326403 million\", \"Lancaster<br>Crossings: 2.24611 million\", \"Metaline Falls<br>Crossings: 2.428096 million\", \"Raymond<br>Crossings: 2.983838 million\", \"Noonan<br>Crossings: 2.337067 million\", \"Carbury<br>Crossings: 0.961083 million\", \"Whitetail<br>Crossings: 0.160092 million\", \"Warroad<br>Crossings: 9.956831 million\", \"Whitlash<br>Crossings: 0.067952 million\", \"Westhope<br>Crossings: 1.06561 million\", \"Fortuna<br>Crossings: 1.025659 million\", \"Walhalla<br>Crossings: 3.180903 million\", \"Oroville<br>Crossings: 20.211086 million\", \"St. John<br>Crossings: 1.588368 million\", \"Sarles<br>Crossings: 0.446766 million\", \"Lynden<br>Crossings: 47.093193 million\", \"Hansboro<br>Crossings: 0.824363 million\", \"Ambrose<br>Crossings: 0.210927 million\", \"Sherwood<br>Crossings: 1.442894 million\", \"Nighthawk<br>Crossings: 0.543767 million\", \"Antler<br>Crossings: 0.819479 million\", \"Hannah<br>Crossings: 0.285107 million\", \"Pinecreek<br>Crossings: 0.431023 million\", \"Boundary<br>Crossings: 3.512948 million\", \"Point Roberts<br>Crossings: 59.115675 million\", \"Neche<br>Crossings: 3.623385 million\", \"Blaine<br>Crossings: 287.302593 million\", \"Danville<br>Crossings: 3.805728 million\", \"Morgan<br>Crossings: 0.504333 million\", \"Sumas<br>Crossings: 69.453963 million\", \"Portal<br>Crossings: 15.406166 million\", \"Sweetgrass<br>Crossings: 26.263566 million\", \"Del Bonita<br>Crossings: 1.765272 million\", \"Porthill<br>Crossings: 9.442773 million\", \"Maida<br>Crossings: 0.990987 million\", \"Laurier<br>Crossings: 4.078981 million\", \"Noyes<br>Crossings: 1.919393 million\", \"Roosville<br>Crossings: 10.416273 million\", \"Frontier<br>Crossings: 4.036817 million\", \"Eastport_ID<br>Crossings: 11.783734 million\", \"Ketchikan<br>Crossings: 0.191628 million\", \"Dalton Cache<br>Crossings: 1.425066 million\", \"Skagway<br>Crossings: 8.29502 million\", \"Alcan<br>Crossings: 4.298729 million\"], \"type\": \"scattergeo\"}],\n",
       "                        {\"geo\": {\"landcolor\": \"rgb(217, 217, 217)\", \"scope\": \"usa\"}, \"showlegend\": false, \"template\": {\"data\": {\"bar\": [{\"error_x\": {\"color\": \"#2a3f5f\"}, \"error_y\": {\"color\": \"#2a3f5f\"}, \"marker\": {\"line\": {\"color\": \"#E5ECF6\", \"width\": 0.5}}, \"type\": \"bar\"}], \"barpolar\": [{\"marker\": {\"line\": {\"color\": \"#E5ECF6\", \"width\": 0.5}}, \"type\": \"barpolar\"}], \"carpet\": [{\"aaxis\": {\"endlinecolor\": \"#2a3f5f\", \"gridcolor\": \"white\", \"linecolor\": \"white\", \"minorgridcolor\": \"white\", \"startlinecolor\": \"#2a3f5f\"}, \"baxis\": {\"endlinecolor\": \"#2a3f5f\", \"gridcolor\": \"white\", \"linecolor\": \"white\", \"minorgridcolor\": \"white\", \"startlinecolor\": \"#2a3f5f\"}, \"type\": \"carpet\"}], \"choropleth\": [{\"colorbar\": {\"outlinewidth\": 0, \"ticks\": \"\"}, \"type\": \"choropleth\"}], \"contour\": [{\"colorbar\": {\"outlinewidth\": 0, \"ticks\": \"\"}, \"colorscale\": [[0.0, \"#0d0887\"], [0.1111111111111111, \"#46039f\"], [0.2222222222222222, \"#7201a8\"], [0.3333333333333333, \"#9c179e\"], [0.4444444444444444, \"#bd3786\"], [0.5555555555555556, \"#d8576b\"], [0.6666666666666666, \"#ed7953\"], [0.7777777777777778, \"#fb9f3a\"], [0.8888888888888888, \"#fdca26\"], [1.0, \"#f0f921\"]], \"type\": \"contour\"}], \"contourcarpet\": [{\"colorbar\": {\"outlinewidth\": 0, \"ticks\": \"\"}, \"type\": \"contourcarpet\"}], \"heatmap\": [{\"colorbar\": {\"outlinewidth\": 0, \"ticks\": \"\"}, \"colorscale\": [[0.0, \"#0d0887\"], [0.1111111111111111, \"#46039f\"], [0.2222222222222222, \"#7201a8\"], [0.3333333333333333, \"#9c179e\"], [0.4444444444444444, \"#bd3786\"], [0.5555555555555556, \"#d8576b\"], [0.6666666666666666, \"#ed7953\"], [0.7777777777777778, \"#fb9f3a\"], [0.8888888888888888, \"#fdca26\"], [1.0, \"#f0f921\"]], \"type\": \"heatmap\"}], \"heatmapgl\": [{\"colorbar\": {\"outlinewidth\": 0, \"ticks\": \"\"}, \"colorscale\": [[0.0, \"#0d0887\"], [0.1111111111111111, \"#46039f\"], [0.2222222222222222, \"#7201a8\"], [0.3333333333333333, \"#9c179e\"], [0.4444444444444444, \"#bd3786\"], [0.5555555555555556, \"#d8576b\"], [0.6666666666666666, \"#ed7953\"], [0.7777777777777778, \"#fb9f3a\"], [0.8888888888888888, \"#fdca26\"], [1.0, \"#f0f921\"]], \"type\": \"heatmapgl\"}], \"histogram\": [{\"marker\": {\"colorbar\": {\"outlinewidth\": 0, \"ticks\": \"\"}}, \"type\": \"histogram\"}], \"histogram2d\": [{\"colorbar\": {\"outlinewidth\": 0, \"ticks\": \"\"}, \"colorscale\": [[0.0, \"#0d0887\"], [0.1111111111111111, \"#46039f\"], [0.2222222222222222, \"#7201a8\"], [0.3333333333333333, \"#9c179e\"], [0.4444444444444444, \"#bd3786\"], [0.5555555555555556, \"#d8576b\"], [0.6666666666666666, \"#ed7953\"], [0.7777777777777778, \"#fb9f3a\"], [0.8888888888888888, \"#fdca26\"], [1.0, \"#f0f921\"]], \"type\": \"histogram2d\"}], \"histogram2dcontour\": [{\"colorbar\": {\"outlinewidth\": 0, \"ticks\": \"\"}, \"colorscale\": [[0.0, \"#0d0887\"], [0.1111111111111111, \"#46039f\"], [0.2222222222222222, \"#7201a8\"], [0.3333333333333333, \"#9c179e\"], [0.4444444444444444, \"#bd3786\"], [0.5555555555555556, \"#d8576b\"], [0.6666666666666666, \"#ed7953\"], [0.7777777777777778, \"#fb9f3a\"], [0.8888888888888888, \"#fdca26\"], [1.0, \"#f0f921\"]], \"type\": \"histogram2dcontour\"}], \"mesh3d\": [{\"colorbar\": {\"outlinewidth\": 0, \"ticks\": \"\"}, \"type\": \"mesh3d\"}], \"parcoords\": [{\"line\": {\"colorbar\": {\"outlinewidth\": 0, \"ticks\": \"\"}}, \"type\": \"parcoords\"}], \"pie\": [{\"automargin\": true, \"type\": \"pie\"}], \"scatter\": [{\"marker\": {\"colorbar\": {\"outlinewidth\": 0, \"ticks\": \"\"}}, \"type\": \"scatter\"}], \"scatter3d\": [{\"line\": {\"colorbar\": {\"outlinewidth\": 0, \"ticks\": \"\"}}, \"marker\": {\"colorbar\": {\"outlinewidth\": 0, \"ticks\": \"\"}}, \"type\": \"scatter3d\"}], \"scattercarpet\": [{\"marker\": {\"colorbar\": {\"outlinewidth\": 0, \"ticks\": \"\"}}, \"type\": \"scattercarpet\"}], \"scattergeo\": [{\"marker\": {\"colorbar\": {\"outlinewidth\": 0, \"ticks\": \"\"}}, \"type\": \"scattergeo\"}], \"scattergl\": [{\"marker\": {\"colorbar\": {\"outlinewidth\": 0, \"ticks\": \"\"}}, \"type\": \"scattergl\"}], \"scattermapbox\": [{\"marker\": {\"colorbar\": {\"outlinewidth\": 0, \"ticks\": \"\"}}, \"type\": \"scattermapbox\"}], \"scatterpolar\": [{\"marker\": {\"colorbar\": {\"outlinewidth\": 0, \"ticks\": \"\"}}, \"type\": \"scatterpolar\"}], \"scatterpolargl\": [{\"marker\": {\"colorbar\": {\"outlinewidth\": 0, \"ticks\": \"\"}}, \"type\": \"scatterpolargl\"}], \"scatterternary\": [{\"marker\": {\"colorbar\": {\"outlinewidth\": 0, \"ticks\": \"\"}}, \"type\": \"scatterternary\"}], \"surface\": [{\"colorbar\": {\"outlinewidth\": 0, \"ticks\": \"\"}, \"colorscale\": [[0.0, \"#0d0887\"], [0.1111111111111111, \"#46039f\"], [0.2222222222222222, \"#7201a8\"], [0.3333333333333333, \"#9c179e\"], [0.4444444444444444, \"#bd3786\"], [0.5555555555555556, \"#d8576b\"], [0.6666666666666666, \"#ed7953\"], [0.7777777777777778, \"#fb9f3a\"], [0.8888888888888888, \"#fdca26\"], [1.0, \"#f0f921\"]], \"type\": \"surface\"}], \"table\": [{\"cells\": {\"fill\": {\"color\": \"#EBF0F8\"}, \"line\": {\"color\": \"white\"}}, \"header\": {\"fill\": {\"color\": \"#C8D4E3\"}, \"line\": {\"color\": \"white\"}}, \"type\": \"table\"}]}, \"layout\": {\"annotationdefaults\": {\"arrowcolor\": \"#2a3f5f\", \"arrowhead\": 0, \"arrowwidth\": 1}, \"coloraxis\": {\"colorbar\": {\"outlinewidth\": 0, \"ticks\": \"\"}}, \"colorscale\": {\"diverging\": [[0, \"#8e0152\"], [0.1, \"#c51b7d\"], [0.2, \"#de77ae\"], [0.3, \"#f1b6da\"], [0.4, \"#fde0ef\"], [0.5, \"#f7f7f7\"], [0.6, \"#e6f5d0\"], [0.7, \"#b8e186\"], [0.8, \"#7fbc41\"], [0.9, \"#4d9221\"], [1, \"#276419\"]], \"sequential\": [[0.0, \"#0d0887\"], [0.1111111111111111, \"#46039f\"], [0.2222222222222222, \"#7201a8\"], [0.3333333333333333, \"#9c179e\"], [0.4444444444444444, \"#bd3786\"], [0.5555555555555556, \"#d8576b\"], [0.6666666666666666, \"#ed7953\"], [0.7777777777777778, \"#fb9f3a\"], [0.8888888888888888, \"#fdca26\"], [1.0, \"#f0f921\"]], \"sequentialminus\": [[0.0, \"#0d0887\"], [0.1111111111111111, \"#46039f\"], [0.2222222222222222, \"#7201a8\"], [0.3333333333333333, \"#9c179e\"], [0.4444444444444444, \"#bd3786\"], [0.5555555555555556, \"#d8576b\"], [0.6666666666666666, \"#ed7953\"], [0.7777777777777778, \"#fb9f3a\"], [0.8888888888888888, \"#fdca26\"], [1.0, \"#f0f921\"]]}, \"colorway\": [\"#636efa\", \"#EF553B\", \"#00cc96\", \"#ab63fa\", \"#FFA15A\", \"#19d3f3\", \"#FF6692\", \"#B6E880\", \"#FF97FF\", \"#FECB52\"], \"font\": {\"color\": \"#2a3f5f\"}, \"geo\": {\"bgcolor\": \"white\", \"lakecolor\": \"white\", \"landcolor\": \"#E5ECF6\", \"showlakes\": true, \"showland\": true, \"subunitcolor\": \"white\"}, \"hoverlabel\": {\"align\": \"left\"}, \"hovermode\": \"closest\", \"mapbox\": {\"style\": \"light\"}, \"paper_bgcolor\": \"white\", \"plot_bgcolor\": \"#E5ECF6\", \"polar\": {\"angularaxis\": {\"gridcolor\": \"white\", \"linecolor\": \"white\", \"ticks\": \"\"}, \"bgcolor\": \"#E5ECF6\", \"radialaxis\": {\"gridcolor\": \"white\", \"linecolor\": \"white\", \"ticks\": \"\"}}, \"scene\": {\"xaxis\": {\"backgroundcolor\": \"#E5ECF6\", \"gridcolor\": \"white\", \"gridwidth\": 2, \"linecolor\": \"white\", \"showbackground\": true, \"ticks\": \"\", \"zerolinecolor\": \"white\"}, \"yaxis\": {\"backgroundcolor\": \"#E5ECF6\", \"gridcolor\": \"white\", \"gridwidth\": 2, \"linecolor\": \"white\", \"showbackground\": true, \"ticks\": \"\", \"zerolinecolor\": \"white\"}, \"zaxis\": {\"backgroundcolor\": \"#E5ECF6\", \"gridcolor\": \"white\", \"gridwidth\": 2, \"linecolor\": \"white\", \"showbackground\": true, \"ticks\": \"\", \"zerolinecolor\": \"white\"}}, \"shapedefaults\": {\"line\": {\"color\": \"#2a3f5f\"}}, \"ternary\": {\"aaxis\": {\"gridcolor\": \"white\", \"linecolor\": \"white\", \"ticks\": \"\"}, \"baxis\": {\"gridcolor\": \"white\", \"linecolor\": \"white\", \"ticks\": \"\"}, \"bgcolor\": \"#E5ECF6\", \"caxis\": {\"gridcolor\": \"white\", \"linecolor\": \"white\", \"ticks\": \"\"}}, \"title\": {\"x\": 0.05}, \"xaxis\": {\"automargin\": true, \"gridcolor\": \"white\", \"linecolor\": \"white\", \"ticks\": \"\", \"title\": {\"standoff\": 15}, \"zerolinecolor\": \"white\", \"zerolinewidth\": 2}, \"yaxis\": {\"automargin\": true, \"gridcolor\": \"white\", \"linecolor\": \"white\", \"ticks\": \"\", \"title\": {\"standoff\": 15}, \"zerolinecolor\": \"white\", \"zerolinewidth\": 2}}}, \"title\": {\"text\": \"US Borders, total inbound persons since 1996<br>(Click legend to toggle traces)\"}},\n",
       "                        {\"responsive\": true}\n",
       "                    ).then(function(){\n",
       "                            \n",
       "var gd = document.getElementById('3159a6af-0c5e-422a-9e26-7ce3ce1fe4c8');\n",
       "var x = new MutationObserver(function (mutations, observer) {{\n",
       "        var display = window.getComputedStyle(gd).display;\n",
       "        if (!display || display === 'none') {{\n",
       "            console.log([gd, 'removed!']);\n",
       "            Plotly.purge(gd);\n",
       "            observer.disconnect();\n",
       "        }}\n",
       "}});\n",
       "\n",
       "// Listen for the removal of the full notebook cells\n",
       "var notebookContainer = gd.closest('#notebook-container');\n",
       "if (notebookContainer) {{\n",
       "    x.observe(notebookContainer, {childList: true});\n",
       "}}\n",
       "\n",
       "// Listen for the clearing of the current output cell\n",
       "var outputEl = gd.closest('.output');\n",
       "if (outputEl) {{\n",
       "    x.observe(outputEl, {childList: true});\n",
       "}}\n",
       "\n",
       "                        })\n",
       "                };\n",
       "                });\n",
       "            </script>\n",
       "        </div>"
      ]
     },
     "metadata": {},
     "output_type": "display_data"
    }
   ],
   "source": [
    "## Plot the map of the USA with importance of ports.\n",
    "import plotly.express as px\n",
    "import plotly.graph_objects as go\n",
    "\n",
    "\n",
    "def plotMap(data):\n",
    "    \n",
    "    persons_location = data[['position','Value']].groupby('position').sum().reset_index()\n",
    "\n",
    "    persons_location['latitude'] = persons_location['position'].apply(lambda x: getlat(x))\n",
    "    persons_location['longitude'] = persons_location['position'].apply(lambda x: getlong(x))\n",
    "\n",
    "    \n",
    "    ps = df[['Port Name','position']].drop_duplicates().set_index('position')\n",
    "    \n",
    "    persons_location['Ports'] = persons_location.position.apply(lambda x : ', '.join(ps.loc[x].values.flatten()))\n",
    "    persons_location['text'] = persons_location['Ports'] + '<br>Crossings: ' + (persons_location['Value']/1e6).astype(str)+' million'\n",
    "\n",
    "    color = \"crimson\"\n",
    "    scale = 500000\n",
    "    \n",
    "\n",
    "    fig = go.Figure()\n",
    "    fig.add_trace(go.Scattergeo(\n",
    "        locationmode = 'USA-states',\n",
    "        lon = persons_location['longitude'],\n",
    "        lat = persons_location['latitude'],\n",
    "        text = persons_location['text'],\n",
    "        marker = dict(\n",
    "            size = persons_location['Value']/scale,\n",
    "            color = color,\n",
    "            line_color='rgb(20,20,20)',\n",
    "            line_width=0.5,\n",
    "            sizemode = 'area')))\n",
    "\n",
    "    fig.update_layout(\n",
    "            title_text = 'US Borders, total inbound persons since 1996<br>(Click legend to toggle traces)',\n",
    "            showlegend = False,\n",
    "            geo = dict(\n",
    "                scope = 'usa',\n",
    "                landcolor = 'rgb(217, 217, 217)',\n",
    "            )\n",
    "        )\n",
    "\n",
    "    fig.show()\n",
    "    \n",
    "plotMap(df)"
   ]
  },
  {
   "cell_type": "markdown",
   "metadata": {},
   "source": [
    "# Logistic regression"
   ]
  },
  {
   "cell_type": "code",
   "execution_count": 209,
   "metadata": {},
   "outputs": [],
   "source": [
    "def logistic(X,y,baseRate):\n",
    "    X_train, X_test, y_train, y_test = train_test_split(X, y, test_size=0.2, random_state=42)\n",
    "    LR = LogisticRegressionCV(solver='lbfgs', cv=5, max_iter=1000)\n",
    "    LR.fit(X_train,y_train)\n",
    "    test_score = LR.score(X_test, y_test)\n",
    "    train_score = LR.score(X_train,y_train)\n",
    "    print(\"train_score :\",train_score,\"test_score =\",test_score)\n",
    "    return [test_score,baseRate]\n",
    "\n",
    "def encodeOneHot(z,f,i):\n",
    "    test = z\n",
    "    baseRate = pd.qcut(test['Value'],q = i, duplicates = 'drop').value_counts()\n",
    "    print(\"Base rate :\",baseRate.max()/baseRate.sum())\n",
    "    print()\n",
    "    test['quant'] = pd.qcut(test['Value'],q = i, duplicates = 'drop')\n",
    "    print(\"intervalls for y:\")\n",
    "    print(test['quant'].value_counts())\n",
    "    print()\n",
    "    le = LabelEncoder()\n",
    "    y = le.fit_transform(test[\"quant\"])\n",
    "    one_hot = OneHotEncoder(categories=\"auto\")\n",
    "    \n",
    "    if (('Measure' in f)&('State' in f)):\n",
    "        f.remove('Measure')\n",
    "        f.remove('State')\n",
    "        cat_to_onehot = one_hot.fit_transform(test[[\"Measure\",\"State\"]]).toarray()\n",
    "        cat_to_onehot = pd.DataFrame(cat_to_onehot)\n",
    "        X = pd.concat((test[f],cat_to_onehot),axis=1)\n",
    "        return logistic(X,y,baseRate.max()/baseRate.sum())\n",
    "    if ('Measure' in f):\n",
    "        f.remove('Measure')\n",
    "        cat_to_onehot = one_hot.fit_transform(test[[\"Measure\"]]).toarray()\n",
    "        cat_to_onehot = pd.DataFrame(cat_to_onehot)\n",
    "        X = pd.concat((test[f],cat_to_onehot),axis=1)\n",
    "        return logistic(X,y,baseRate.max()/baseRate.sum())\n",
    "    if ('State' in f):\n",
    "        f.remove('State')\n",
    "        cat_to_onehot = one_hot.fit_transform(test[[\"State\"]]).toarray()\n",
    "        cat_to_onehot = pd.DataFrame(cat_to_onehot)\n",
    "        X = pd.concat((test[f],cat_to_onehot),axis=1)\n",
    "        return logistic(X,y,baseRate.max()/baseRate.sum())\n",
    "    else :\n",
    "        X = test[f]\n",
    "        return logistic(X,y,baseRate)\n",
    "        \n",
    "def  computeLogistic(dataset,ports,f,i):\n",
    "    if (len(f) == 0):\n",
    "        return\n",
    "    Zone = dataset[dataset['Port Name'].isin(ports)].reset_index(drop=True)\n",
    "    return encodeOneHot(Zone,f,i)\n"
   ]
  },
  {
   "cell_type": "code",
   "execution_count": 16,
   "metadata": {},
   "outputs": [
    {
     "name": "stdout",
     "output_type": "stream",
     "text": [
      "Base rate : 0.37521622581421193\n",
      "\n",
      "intervalls for y:\n",
      "(-0.001, 4.0]            131015\n",
      "(4.0, 93.0]               43823\n",
      "(17529.25, 4447374.0]     43647\n",
      "(2518.0, 17529.25]        43644\n",
      "(565.0, 2518.0]           43606\n",
      "(93.0, 565.0]             43437\n",
      "Name: quant, dtype: int64\n",
      "\n",
      "train_score : 0.49514027858822857 test_score = 0.49528173551943866\n"
     ]
    }
   ],
   "source": [
    "#Logistic regression on all values(traffic + persons) and all features with 8 intervalls\n",
    "computeLogistic(df,ports,['Measure','Port Code','Month','Year','State','latitude','longitude'],8)"
   ]
  },
  {
   "cell_type": "code",
   "execution_count": 217,
   "metadata": {},
   "outputs": [
    {
     "name": "stdout",
     "output_type": "stream",
     "text": [
      "Base rate : 0.37627713578297384\n",
      "\n",
      "intervalls for y:\n",
      "(-0.001, 3.0]          87688\n",
      "(9453.0, 1744349.0]    29130\n",
      "(1622.0, 9453.0]       29121\n",
      "(421.0, 1622.0]        29116\n",
      "(74.0, 421.0]          29045\n",
      "(3.0, 74.0]            28941\n",
      "Name: quant, dtype: int64\n",
      "\n",
      "train_score : 0.4979080844490216 test_score = 0.49816559033663027\n"
     ]
    },
    {
     "data": {
      "text/plain": [
       "[0.49816559033663027, 0.37627713578297384]"
      ]
     },
     "execution_count": 217,
     "metadata": {},
     "output_type": "execute_result"
    }
   ],
   "source": [
    "#Logistic regression on Traffic and all features with 8 intervalls\n",
    "computeLogistic(traffic,ports,['Measure','Port Code','Month','Year','State','latitude','longitude'],8)"
   ]
  },
  {
   "cell_type": "code",
   "execution_count": 140,
   "metadata": {},
   "outputs": [
    {
     "name": "stdout",
     "output_type": "stream",
     "text": [
      "Base rate : 0.37606668331453275\n",
      "\n",
      "intervalls for y:\n",
      "(-0.001, 11.0]          43673\n",
      "(62918.0, 4447374.0]    14516\n",
      "(6943.0, 62918.0]       14516\n",
      "(1193.0, 6943.0]        14516\n",
      "(156.0, 1193.0]         14503\n",
      "(11.0, 156.0]           14407\n",
      "Name: quant, dtype: int64\n",
      "\n",
      "train_score : 0.5263174890209248 test_score = 0.5301588668360098\n"
     ]
    }
   ],
   "source": [
    "#Logistic regression on Persons and all features with 8 intervalls\n",
    "computeLogistic(persons,ports,['Measure','Port Code','Month','Year','State','latitude','longitude'],8)"
   ]
  },
  {
   "cell_type": "code",
   "execution_count": 128,
   "metadata": {},
   "outputs": [
    {
     "data": {
      "text/plain": [
       "<matplotlib.axes._subplots.AxesSubplot at 0x1a264d5908>"
      ]
     },
     "execution_count": 128,
     "metadata": {},
     "output_type": "execute_result"
    },
    {
     "data": {
      "image/png": "[encoded data removed]",
      "text/plain": [
       "<Figure size 432x288 with 1 Axes>"
      ]
     },
     "metadata": {
      "needs_background": "light"
     },
     "output_type": "display_data"
    }
   ],
   "source": [
    "persons['Value'].hist()"
   ]
  },
  {
   "cell_type": "code",
   "execution_count": 129,
   "metadata": {},
   "outputs": [
    {
     "data": {
      "text/plain": [
       "<matplotlib.axes._subplots.AxesSubplot at 0x1a2fa53d30>"
      ]
     },
     "execution_count": 129,
     "metadata": {},
     "output_type": "execute_result"
    },
    {
     "data": {
      "image/png": "[encoded data removed]",
      "text/plain": [
       "<Figure size 432x288 with 1 Axes>"
      ]
     },
     "metadata": {
      "needs_background": "light"
     },
     "output_type": "display_data"
    }
   ],
   "source": [
    "persons['Value'].hist(range=[0,10])"
   ]
  },
  {
   "cell_type": "code",
   "execution_count": 222,
   "metadata": {},
   "outputs": [
    {
     "name": "stdout",
     "output_type": "stream",
     "text": [
      "Total observations in persons: 116131\n",
      "Total of observation with value = 0: 40507\n",
      "Ratio null value / total observations 0.348804367481551 %\n"
     ]
    }
   ],
   "source": [
    "print(\"Total observations in persons:\",persons.shape[0])\n",
    "print(\"Total of observation with value = 0:\",persons[persons['Value']==0].shape[0])\n",
    "print(\"Ratio null value / total observations\",persons[persons['Value']==0].shape[0]/persons.shape[0],\"%\")\n"
   ]
  },
  {
   "cell_type": "markdown",
   "metadata": {},
   "source": [
    "As we have a lot of null values (0.34%), the dispersion of values and the number of intervals are biased. It is not possible to create 8 intervals if the 30% of the values are = 0. In addition, the baseRate will also be larger.\n",
    "\n",
    "To continue, we have decided to focus only on ports with FEW zero values. "
   ]
  },
  {
   "cell_type": "code",
   "execution_count": 224,
   "metadata": {},
   "outputs": [
    {
     "name": "stdout",
     "output_type": "stream",
     "text": [
      "number of ports :  9\n",
      "number of observations   10147\n",
      "ratio of null value / total observation :  0.006208731644821129\n",
      "Base rate : 0.12555435103971618\n",
      "\n",
      "intervalls for y:\n",
      "(104.0, 250.0]            1274\n",
      "(-0.001, 104.0]           1271\n",
      "(126679.25, 2523598.0]    1269\n",
      "(31294.5, 126679.25]      1268\n",
      "(8321.75, 31294.5]        1268\n",
      "(1756.0, 8321.75]         1268\n",
      "(600.0, 1756.0]           1265\n",
      "(250.0, 600.0]            1264\n",
      "Name: quant, dtype: int64\n",
      "\n",
      "train_score : 0.5796476530737957 test_score = 0.5926108374384237\n"
     ]
    },
    {
     "data": {
      "text/plain": [
       "[0.5926108374384237, 0.12555435103971618]"
      ]
     },
     "execution_count": 224,
     "metadata": {},
     "output_type": "execute_result"
    },
    {
     "data": {
      "image/png": "[encoded data removed]",
      "text/plain": [
       "<Figure size 432x288 with 1 Axes>"
      ]
     },
     "metadata": {
      "needs_background": "light"
     },
     "output_type": "display_data"
    }
   ],
   "source": [
    "#We create a list of \"goods\" port : these port will have more than 1100 values not equal to 0.\n",
    "goods = []\n",
    "for port in ports:\n",
    "    if (persons[(persons['Port Name'] == port) &(persons['Value'] != 0)].shape[0]>1100):\n",
    "        goods.append(port)\n",
    "print(\"number of ports : \",len(goods))\n",
    "print(\"number of observations  \",persons[persons['Port Name'].isin(goods)].shape[0])\n",
    "print(\"ratio of null value / total observation : \",persons[(persons['Port Name'].isin(goods))&(persons['Value'] == 0)].shape[0]/persons[persons['Port Name'].isin(goods)].shape[0])\n",
    "persons[persons['Port Name'].isin(goods)]['Value'].hist(range=[0,500])\n",
    "computeLogistic(persons,goods,['Measure','Port Code','Month','Year','State','longitude','latitude'],8)"
   ]
  },
  {
   "cell_type": "markdown",
   "metadata": {},
   "source": [
    "The histogram shows us a better dispersion of the value. The null value represent only 0.0062 of the total, which is way better. The BaseRate has also decreased. All this allows us to create intervals with the same number of samples."
   ]
  },
  {
   "cell_type": "code",
   "execution_count": 70,
   "metadata": {},
   "outputs": [],
   "source": [
    "#Train / test split lineary with dates\n",
    "#Stratify the data\n",
    "##create Map of the USA with test_score error <- BIAISééé\n",
    "\n"
   ]
  },
  {
   "cell_type": "code",
   "execution_count": 134,
   "metadata": {},
   "outputs": [
    {
     "data": {
      "text/html": [
       "<div>\n",
       "<style scoped>\n",
       "    .dataframe tbody tr th:only-of-type {\n",
       "        vertical-align: middle;\n",
       "    }\n",
       "\n",
       "    .dataframe tbody tr th {\n",
       "        vertical-align: top;\n",
       "    }\n",
       "\n",
       "    .dataframe thead th {\n",
       "        text-align: right;\n",
       "    }\n",
       "</style>\n",
       "<table border=\"1\" class=\"dataframe\">\n",
       "  <thead>\n",
       "    <tr style=\"text-align: right;\">\n",
       "      <th></th>\n",
       "      <th>Port Name</th>\n",
       "      <th>State</th>\n",
       "      <th>Port Code</th>\n",
       "      <th>Border</th>\n",
       "      <th>Date</th>\n",
       "      <th>Measure</th>\n",
       "      <th>Value</th>\n",
       "      <th>Year</th>\n",
       "      <th>Month</th>\n",
       "      <th>position</th>\n",
       "      <th>latitude</th>\n",
       "      <th>longitude</th>\n",
       "    </tr>\n",
       "  </thead>\n",
       "  <tbody>\n",
       "    <tr>\n",
       "      <th>0</th>\n",
       "      <td>Walhalla</td>\n",
       "      <td>North Dakota</td>\n",
       "      <td>3407</td>\n",
       "      <td>US-Canada Border</td>\n",
       "      <td>1996-01-01</td>\n",
       "      <td>Bus Passengers</td>\n",
       "      <td>19</td>\n",
       "      <td>1996</td>\n",
       "      <td>1</td>\n",
       "      <td>(48.923328, -97.918148)</td>\n",
       "      <td>48.923328</td>\n",
       "      <td>-97.918148</td>\n",
       "    </tr>\n",
       "    <tr>\n",
       "      <th>1</th>\n",
       "      <td>Piegan</td>\n",
       "      <td>Montana</td>\n",
       "      <td>3316</td>\n",
       "      <td>US-Canada Border</td>\n",
       "      <td>1996-01-01</td>\n",
       "      <td>Bus Passengers</td>\n",
       "      <td>46</td>\n",
       "      <td>1996</td>\n",
       "      <td>1</td>\n",
       "      <td>(48.4346971, -112.6945072)</td>\n",
       "      <td>48.4346971</td>\n",
       "      <td>-112.6945072</td>\n",
       "    </tr>\n",
       "    <tr>\n",
       "      <th>2</th>\n",
       "      <td>Antler</td>\n",
       "      <td>North Dakota</td>\n",
       "      <td>3413</td>\n",
       "      <td>US-Canada Border</td>\n",
       "      <td>1996-01-01</td>\n",
       "      <td>Personal Vehicle Passengers</td>\n",
       "      <td>1576</td>\n",
       "      <td>1996</td>\n",
       "      <td>1</td>\n",
       "      <td>(48.9708532, -101.2823803)</td>\n",
       "      <td>48.9708532</td>\n",
       "      <td>-101.2823803</td>\n",
       "    </tr>\n",
       "    <tr>\n",
       "      <th>3</th>\n",
       "      <td>Ogdensburg</td>\n",
       "      <td>New York</td>\n",
       "      <td>701</td>\n",
       "      <td>US-Canada Border</td>\n",
       "      <td>1996-01-01</td>\n",
       "      <td>Pedestrians</td>\n",
       "      <td>0</td>\n",
       "      <td>1996</td>\n",
       "      <td>1</td>\n",
       "      <td>(44.694285, -75.486374)</td>\n",
       "      <td>44.694285</td>\n",
       "      <td>-75.486374</td>\n",
       "    </tr>\n",
       "    <tr>\n",
       "      <th>4</th>\n",
       "      <td>St. John</td>\n",
       "      <td>North Dakota</td>\n",
       "      <td>3405</td>\n",
       "      <td>US-Canada Border</td>\n",
       "      <td>1996-01-01</td>\n",
       "      <td>Personal Vehicle Passengers</td>\n",
       "      <td>3278</td>\n",
       "      <td>1996</td>\n",
       "      <td>1</td>\n",
       "      <td>(48.9444517, -99.7109743)</td>\n",
       "      <td>48.9444517</td>\n",
       "      <td>-99.7109743</td>\n",
       "    </tr>\n",
       "  </tbody>\n",
       "</table>\n",
       "</div>"
      ],
      "text/plain": [
       "    Port Name         State  Port Code            Border        Date  \\\n",
       "0    Walhalla  North Dakota       3407  US-Canada Border  1996-01-01   \n",
       "1      Piegan       Montana       3316  US-Canada Border  1996-01-01   \n",
       "2      Antler  North Dakota       3413  US-Canada Border  1996-01-01   \n",
       "3  Ogdensburg      New York        701  US-Canada Border  1996-01-01   \n",
       "4    St. John  North Dakota       3405  US-Canada Border  1996-01-01   \n",
       "\n",
       "                       Measure  Value  Year  Month  \\\n",
       "0               Bus Passengers     19  1996      1   \n",
       "1               Bus Passengers     46  1996      1   \n",
       "2  Personal Vehicle Passengers   1576  1996      1   \n",
       "3                  Pedestrians      0  1996      1   \n",
       "4  Personal Vehicle Passengers   3278  1996      1   \n",
       "\n",
       "                     position    latitude     longitude  \n",
       "0     (48.923328, -97.918148)   48.923328    -97.918148  \n",
       "1  (48.4346971, -112.6945072)  48.4346971  -112.6945072  \n",
       "2  (48.9708532, -101.2823803)  48.9708532  -101.2823803  \n",
       "3     (44.694285, -75.486374)   44.694285    -75.486374  \n",
       "4   (48.9444517, -99.7109743)  48.9444517   -99.7109743  "
      ]
     },
     "execution_count": 134,
     "metadata": {},
     "output_type": "execute_result"
    }
   ],
   "source": [
    "persons = persons.sort_values(by=['Date']).reset_index(drop=True)\n",
    "persons.head()"
   ]
  },
  {
   "cell_type": "markdown",
   "metadata": {},
   "source": [
    "To go further, we try to apply models on each of the 9 ports selected above"
   ]
  },
  {
   "cell_type": "code",
   "execution_count": 225,
   "metadata": {},
   "outputs": [
    {
     "name": "stdout",
     "output_type": "stream",
     "text": [
      "Base rate : 0.13120567375886524\n",
      "\n",
      "intervalls for y:\n",
      "(78.0, 372.0]             148\n",
      "(-0.001, 78.0]            144\n",
      "(136553.375, 307761.0]    141\n",
      "(11205.75, 136553.375]    141\n",
      "(4365.75, 11205.75]       141\n",
      "(3250.0, 4365.75]         141\n",
      "(2188.625, 3250.0]        141\n",
      "(372.0, 2188.625]         131\n",
      "Name: quant, dtype: int64\n",
      "\n",
      "train_score : 0.5554323725055432 test_score = 0.5398230088495575\n",
      "Base rate : 0.125\n",
      "\n",
      "intervalls for y:\n",
      "(191824.5, 550685.0]    141\n",
      "(48494.75, 191824.5]    141\n",
      "(24992.5, 48494.75]     141\n",
      "(6138.5, 24992.5]       141\n",
      "(2724.875, 6138.5]      141\n",
      "(581.0, 2724.875]       141\n",
      "(155.875, 581.0]        141\n",
      "(-0.001, 155.875]       141\n",
      "Name: quant, dtype: int64\n",
      "\n",
      "train_score : 0.5920177383592018 test_score = 0.5929203539823009\n",
      "Base rate : 0.125\n",
      "\n",
      "intervalls for y:\n",
      "(1018693.875, 2523598.0]    141\n",
      "(314691.0, 1018693.875]     141\n",
      "(76280.75, 314691.0]        141\n",
      "(44584.0, 76280.75]         141\n",
      "(19083.625, 44584.0]        141\n",
      "(5289.25, 19083.625]        141\n",
      "(2433.25, 5289.25]          141\n",
      "(362.999, 2433.25]          141\n",
      "Name: quant, dtype: int64\n",
      "\n",
      "train_score : 0.606430155210643 test_score = 0.6017699115044248\n",
      "Base rate : 0.1276595744680851\n",
      "\n",
      "intervalls for y:\n",
      "(416.25, 483.0]         144\n",
      "(15113.875, 41536.0]    141\n",
      "(3515.25, 15113.875]    141\n",
      "(795.875, 3515.25]      141\n",
      "(577.0, 795.875]        141\n",
      "(304.875, 416.25]       141\n",
      "(43.999, 304.875]       141\n",
      "(483.0, 577.0]          138\n",
      "Name: quant, dtype: int64\n",
      "\n",
      "train_score : 0.4379157427937916 test_score = 0.36283185840707965\n",
      "Base rate : 0.1313220940550133\n",
      "\n",
      "intervalls for y:\n",
      "(429.75, 600.0]        148\n",
      "(81101.0, 217294.0]    141\n",
      "(5535.0, 81101.0]      141\n",
      "(1678.75, 5535.0]      141\n",
      "(-0.001, 429.75]       141\n",
      "(937.0, 1678.75]       140\n",
      "(684.0, 937.0]         139\n",
      "(600.0, 684.0]         136\n",
      "Name: quant, dtype: int64\n",
      "\n",
      "train_score : 0.4583795782463929 test_score = 0.4778761061946903\n",
      "Base rate : 0.13398402839396628\n",
      "\n",
      "intervalls for y:\n",
      "(-0.001, 38.0]            151\n",
      "(826016.75, 1252553.0]    141\n",
      "(421228.0, 826016.75]     141\n",
      "(144240.25, 421228.0]     141\n",
      "(15995.5, 45385.0]        141\n",
      "(325.5, 15995.5]          141\n",
      "(45385.0, 144240.25]      140\n",
      "(38.0, 325.5]             131\n",
      "Name: quant, dtype: int64\n",
      "\n",
      "train_score : 0.6736958934517203 test_score = 0.6504424778761062\n",
      "Base rate : 0.13587921847246892\n",
      "\n",
      "intervalls for y:\n",
      "(170.0, 200.0]          153\n",
      "(146.625, 170.0]        143\n",
      "(13532.875, 54394.0]    141\n",
      "(5257.75, 13532.875]    141\n",
      "(-0.001, 146.625]       141\n",
      "(465.5, 5257.75]        140\n",
      "(232.0, 465.5]          140\n",
      "(200.0, 232.0]          127\n",
      "Name: quant, dtype: int64\n",
      "\n",
      "train_score : 0.4288888888888889 test_score = 0.38495575221238937\n",
      "Base rate : 0.12688553682342502\n",
      "\n",
      "intervalls for y:\n",
      "(-0.001, 23.0]         143\n",
      "(70.5, 151.0]          142\n",
      "(23375.0, 122250.0]    141\n",
      "(3419.0, 23375.0]      141\n",
      "(541.25, 3419.0]       141\n",
      "(23.0, 42.0]           141\n",
      "(151.0, 541.25]        139\n",
      "(42.0, 70.5]           139\n",
      "Name: quant, dtype: int64\n",
      "\n",
      "train_score : 0.5271920088790233 test_score = 0.4424778761061947\n",
      "Base rate : 0.12854609929078015\n",
      "\n",
      "intervalls for y:\n",
      "(116.0, 180.0]           145\n",
      "(-0.001, 116.0]          144\n",
      "(45365.125, 106348.0]    141\n",
      "(4647.25, 45365.125]     141\n",
      "(1046.375, 4647.25]      141\n",
      "(524.0, 1046.375]        141\n",
      "(243.625, 524.0]         141\n",
      "(180.0, 243.625]         134\n",
      "Name: quant, dtype: int64\n",
      "\n",
      "train_score : 0.5609756097560976 test_score = 0.5088495575221239\n"
     ]
    }
   ],
   "source": [
    "error_good = []\n",
    "for good in goods:\n",
    "    error_good.append([good,computeLogistic(persons,[good],['Measure','Port Code','Month','Year','State','latitude','longitude'],8)])"
   ]
  },
  {
   "cell_type": "code",
   "execution_count": 226,
   "metadata": {},
   "outputs": [],
   "source": [
    "error_good_final = []\n",
    "for e in error_good:\n",
    "    error_good_final.append([e[0],e[1][0],e[1][1]])"
   ]
  },
  {
   "cell_type": "code",
   "execution_count": 227,
   "metadata": {},
   "outputs": [
    {
     "data": {
      "text/html": [
       "<div>\n",
       "<style scoped>\n",
       "    .dataframe tbody tr th:only-of-type {\n",
       "        vertical-align: middle;\n",
       "    }\n",
       "\n",
       "    .dataframe tbody tr th {\n",
       "        vertical-align: top;\n",
       "    }\n",
       "\n",
       "    .dataframe thead th {\n",
       "        text-align: right;\n",
       "    }\n",
       "</style>\n",
       "<table border=\"1\" class=\"dataframe\">\n",
       "  <thead>\n",
       "    <tr style=\"text-align: right;\">\n",
       "      <th></th>\n",
       "      <th>Test Score</th>\n",
       "      <th>Base Rate</th>\n",
       "    </tr>\n",
       "    <tr>\n",
       "      <th>Port Name</th>\n",
       "      <th></th>\n",
       "      <th></th>\n",
       "    </tr>\n",
       "  </thead>\n",
       "  <tbody>\n",
       "    <tr>\n",
       "      <th>Portal</th>\n",
       "      <td>0.362832</td>\n",
       "      <td>0.127660</td>\n",
       "    </tr>\n",
       "    <tr>\n",
       "      <th>Eastport_ID</th>\n",
       "      <td>0.384956</td>\n",
       "      <td>0.135879</td>\n",
       "    </tr>\n",
       "    <tr>\n",
       "      <th>Jackman</th>\n",
       "      <td>0.442478</td>\n",
       "      <td>0.126886</td>\n",
       "    </tr>\n",
       "    <tr>\n",
       "      <th>International Falls-Ranier</th>\n",
       "      <td>0.477876</td>\n",
       "      <td>0.131322</td>\n",
       "    </tr>\n",
       "    <tr>\n",
       "      <th>Sweetgrass</th>\n",
       "      <td>0.508850</td>\n",
       "      <td>0.128546</td>\n",
       "    </tr>\n",
       "    <tr>\n",
       "      <th>Sumas</th>\n",
       "      <td>0.539823</td>\n",
       "      <td>0.131206</td>\n",
       "    </tr>\n",
       "    <tr>\n",
       "      <th>Champlain-Rouses Point</th>\n",
       "      <td>0.592920</td>\n",
       "      <td>0.125000</td>\n",
       "    </tr>\n",
       "    <tr>\n",
       "      <th>Buffalo-Niagara Falls</th>\n",
       "      <td>0.601770</td>\n",
       "      <td>0.125000</td>\n",
       "    </tr>\n",
       "    <tr>\n",
       "      <th>Otay Mesa</th>\n",
       "      <td>0.650442</td>\n",
       "      <td>0.133984</td>\n",
       "    </tr>\n",
       "  </tbody>\n",
       "</table>\n",
       "</div>"
      ],
      "text/plain": [
       "                            Test Score  Base Rate\n",
       "Port Name                                        \n",
       "Portal                        0.362832   0.127660\n",
       "Eastport_ID                   0.384956   0.135879\n",
       "Jackman                       0.442478   0.126886\n",
       "International Falls-Ranier    0.477876   0.131322\n",
       "Sweetgrass                    0.508850   0.128546\n",
       "Sumas                         0.539823   0.131206\n",
       "Champlain-Rouses Point        0.592920   0.125000\n",
       "Buffalo-Niagara Falls         0.601770   0.125000\n",
       "Otay Mesa                     0.650442   0.133984"
      ]
     },
     "execution_count": 227,
     "metadata": {},
     "output_type": "execute_result"
    },
    {
     "data": {
      "image/png": "[encoded data removed]",
      "text/plain": [
       "<Figure size 432x288 with 1 Axes>"
      ]
     },
     "metadata": {
      "needs_background": "light"
     },
     "output_type": "display_data"
    }
   ],
   "source": [
    "best =  pd.DataFrame(data = error_good_final,columns = ['Port Name','Test Score','Base Rate'])\n",
    "best = best.set_index('Port Name')\n",
    "best['Test Score'].hist(bins = 11)\n",
    "best.sort_values(by=['Test Score'])"
   ]
  },
  {
   "cell_type": "markdown",
   "metadata": {},
   "source": [
    "Otay Mesa is the port with the less test_error in the non-biaised one. \n",
    "\n",
    "Let's find which variable influence the most the Value"
   ]
  },
  {
   "cell_type": "code",
   "execution_count": 229,
   "metadata": {},
   "outputs": [
    {
     "name": "stdout",
     "output_type": "stream",
     "text": [
      "Base rate : 0.13398402839396628\n",
      "\n",
      "intervalls for y:\n",
      "(-0.001, 38.0]            151\n",
      "(826016.75, 1252553.0]    141\n",
      "(421228.0, 826016.75]     141\n",
      "(144240.25, 421228.0]     141\n",
      "(15995.5, 45385.0]        141\n",
      "(325.5, 15995.5]          141\n",
      "(45385.0, 144240.25]      140\n",
      "(38.0, 325.5]             131\n",
      "Name: quant, dtype: int64\n",
      "\n",
      "train_score : 0.6725860155382908 test_score = 0.6327433628318584\n"
     ]
    },
    {
     "data": {
      "text/plain": [
       "[0.6327433628318584, 0.13398402839396628]"
      ]
     },
     "execution_count": 229,
     "metadata": {},
     "output_type": "execute_result"
    }
   ],
   "source": [
    "#Logitistic regression whith all features\n",
    "#N.b: Port Code, State, latitude and longitude should not have effect on the value because it's always the same values (one port)\n",
    "computeLogistic(persons,['Otay Mesa'],['Measure','Port Code','Month','Year','State','latitude','longitude'],8)"
   ]
  },
  {
   "cell_type": "code",
   "execution_count": 231,
   "metadata": {},
   "outputs": [
    {
     "name": "stdout",
     "output_type": "stream",
     "text": [
      "Base rate : 0.13398402839396628\n",
      "\n",
      "intervalls for y:\n",
      "(-0.001, 38.0]            151\n",
      "(826016.75, 1252553.0]    141\n",
      "(421228.0, 826016.75]     141\n",
      "(144240.25, 421228.0]     141\n",
      "(15995.5, 45385.0]        141\n",
      "(325.5, 15995.5]          141\n",
      "(45385.0, 144240.25]      140\n",
      "(38.0, 325.5]             131\n",
      "Name: quant, dtype: int64\n",
      "\n",
      "train_score : 0.1997780244173141 test_score = 0.18584070796460178\n"
     ]
    },
    {
     "data": {
      "text/plain": [
       "[0.18584070796460178, 0.13398402839396628]"
      ]
     },
     "execution_count": 231,
     "metadata": {},
     "output_type": "execute_result"
    }
   ],
   "source": [
    "#Logitistic regression whitout measure\n",
    "computeLogistic(persons,['Otay Mesa'],['Port Code','Month','Year','State','latitude','longitude'],8)"
   ]
  },
  {
   "cell_type": "markdown",
   "metadata": {},
   "source": [
    "It seems like that the measure is the main variable that can predict the value of crossing people to the border of Otay Mesa : the test score increase by almost 0,5 if we add measure to the regression"
   ]
  },
  {
   "cell_type": "markdown",
   "metadata": {},
   "source": [
    "# Test part"
   ]
  },
  {
   "cell_type": "code",
   "execution_count": 216,
   "metadata": {},
   "outputs": [
    {
     "data": {
      "text/plain": [
       "['Measure', 'Month', 'Year', 'Measure', 'Measure', 'Month', 'Measure']"
      ]
     },
     "execution_count": 216,
     "metadata": {},
     "output_type": "execute_result"
    }
   ],
   "source": [
    "test = ['Measure','Month','Year']\n",
    "final = []\n",
    "for L in range(0, len(test)+1):\n",
    "    for subset in combinations(test, L):\n",
    "        if (len(subset)!=0):\n",
    "            for i in range(0,len(subset))\n",
    "                final.append(subset[0])\n",
    "final\n",
    "#computeLogistic(persons,['Otay Mesa'],np.asarray(subset),8)"
   ]
  },
  {
   "cell_type": "markdown",
   "metadata": {},
   "source": [
    "# Linear Regression"
   ]
  },
  {
   "cell_type": "markdown",
   "metadata": {},
   "source": [
    "In order to make a linear regression, we have to manage to take the log of the y(Value)"
   ]
  },
  {
   "cell_type": "code",
   "execution_count": 93,
   "metadata": {},
   "outputs": [
    {
     "data": {
      "text/plain": [
       "<matplotlib.axes._subplots.AxesSubplot at 0x1a25d83e10>"
      ]
     },
     "execution_count": 93,
     "metadata": {},
     "output_type": "execute_result"
    },
    {
     "data": {
      "image/png": "[encoded data removed]",
      "text/plain": [
       "<Figure size 432x288 with 1 Axes>"
      ]
     },
     "metadata": {
      "needs_background": "light"
     },
     "output_type": "display_data"
    }
   ],
   "source": [
    "y = persons['Value']\n",
    "y.hist()"
   ]
  },
  {
   "cell_type": "code",
   "execution_count": 94,
   "metadata": {},
   "outputs": [],
   "source": [
    "y = np.log(persons['Value']+1)"
   ]
  },
  {
   "cell_type": "code",
   "execution_count": 95,
   "metadata": {},
   "outputs": [
    {
     "data": {
      "text/plain": [
       "<matplotlib.axes._subplots.AxesSubplot at 0x1a2b49eb38>"
      ]
     },
     "execution_count": 95,
     "metadata": {},
     "output_type": "execute_result"
    },
    {
     "data": {
      "image/png": "[encoded data removed]",
      "text/plain": [
       "<Figure size 432x288 with 1 Axes>"
      ]
     },
     "metadata": {
      "needs_background": "light"
     },
     "output_type": "display_data"
    }
   ],
   "source": [
    "y.hist()"
   ]
  },
  {
   "cell_type": "code",
   "execution_count": 119,
   "metadata": {},
   "outputs": [],
   "source": [
    "def linearRegression(f):\n",
    "    one_hot = OneHotEncoder(categories=\"auto\")\n",
    "    cat_to_onehot = 0\n",
    "    if (('Measure' in f)&('State' in f)):\n",
    "        f.remove('Measure')\n",
    "        f.remove('State')\n",
    "        cat_to_onehot = one_hot.fit_transform(persons[[\"Measure\",\"State\"]]).toarray()\n",
    "        cat_to_onehot = pd.DataFrame(cat_to_onehot)\n",
    "        X = persons[f]\n",
    "        X = pd.concat((X,cat_to_onehot),axis=1)\n",
    "        X_train, X_test, y_train, y_test = train_test_split(X, y, test_size=0.2, random_state=42)\n",
    "        iowa_model = LinearRegression()\n",
    "        iowa_model.fit(X_train,y_train)\n",
    "        test_score = iowa_model.score(X_test, y_test)\n",
    "        train_score = iowa_model.score(X_train,y_train)\n",
    "        return print(\"train_score :\",train_score,\"test_score =\",test_score)\n",
    "    if (('Measure' in f)):\n",
    "        f.remove('Measure')\n",
    "        cat_to_onehot = one_hot.fit_transform(persons[[\"Measure\"]]).toarray()\n",
    "        cat_to_onehot = pd.DataFrame(cat_to_onehot)\n",
    "        X = persons[f]\n",
    "        X = pd.concat((X,cat_to_onehot),axis=1)\n",
    "        X_train, X_test, y_train, y_test = train_test_split(X, y, test_size=0.2, random_state=42)\n",
    "        iowa_model = LinearRegression()\n",
    "        iowa_model.fit(X_train,y_train)\n",
    "        test_score = iowa_model.score(X_test, y_test)\n",
    "        train_score = iowa_model.score(X_train,y_train)\n",
    "        return print(\"train_score :\",train_score,\"test_score =\",test_score)\n",
    "    if (('State' in f)):\n",
    "        f.remove('State')\n",
    "        cat_to_onehot = one_hot.fit_transform(persons[[\"State\"]]).toarray()\n",
    "        cat_to_onehot = pd.DataFrame(cat_to_onehot)\n",
    "        X = persons[f]\n",
    "        X = pd.concat((X,cat_to_onehot),axis=1)\n",
    "        X_train, X_test, y_train, y_test = train_test_split(X, y, test_size=0.2, random_state=42)\n",
    "        iowa_model = LinearRegression()\n",
    "        iowa_model.fit(X_train,y_train)\n",
    "        test_score = iowa_model.score(X_test, y_test)\n",
    "        train_score = iowa_model.score(X_train,y_train)\n",
    "        return print(\"train_score :\",train_score,\"test_score =\",test_score)\n",
    "    else:\n",
    "        X = persons[f]\n",
    "        X_train, X_test, y_train, y_test = train_test_split(X, y, test_size=0.2, random_state=42)\n",
    "        iowa_model = LinearRegression()\n",
    "        iowa_model.fit(X_train,y_train)\n",
    "        test_score = iowa_model.score(X_test, y_test)\n",
    "        train_score = iowa_model.score(X_train,y_train)\n",
    "        return print(\"train_score :\",train_score,\"test_score =\",test_score)"
   ]
  },
  {
   "cell_type": "code",
   "execution_count": 120,
   "metadata": {},
   "outputs": [
    {
     "name": "stdout",
     "output_type": "stream",
     "text": [
      "train_score : 0.5513436790824084 test_score = 0.5476095105150889\n"
     ]
    }
   ],
   "source": [
    "linearRegression(['Port Code','Month','Year','latitude','longitude','Measure'])"
   ]
  },
  {
   "cell_type": "code",
   "execution_count": 121,
   "metadata": {},
   "outputs": [
    {
     "name": "stdout",
     "output_type": "stream",
     "text": [
      "train_score : 5.1143659171692946e-05 test_score = -5.077273833298257e-05\n"
     ]
    }
   ],
   "source": [
    "linearRegression(['Month'])"
   ]
  },
  {
   "cell_type": "code",
   "execution_count": 122,
   "metadata": {},
   "outputs": [
    {
     "name": "stdout",
     "output_type": "stream",
     "text": [
      "train_score : 0.001046010558412802 test_score = 4.569223230299624e-05\n"
     ]
    }
   ],
   "source": [
    "linearRegression(['Year'])"
   ]
  },
  {
   "cell_type": "code",
   "execution_count": 123,
   "metadata": {},
   "outputs": [
    {
     "name": "stdout",
     "output_type": "stream",
     "text": [
      "train_score : 0.00873590306661265 test_score = 0.007144077694610118\n"
     ]
    }
   ],
   "source": [
    "linearRegression(['Port Code'])"
   ]
  },
  {
   "cell_type": "code",
   "execution_count": 124,
   "metadata": {},
   "outputs": [
    {
     "name": "stdout",
     "output_type": "stream",
     "text": [
      "train_score : 0.10283460142788503 test_score = 0.09784357166525492\n"
     ]
    }
   ],
   "source": [
    "linearRegression(['latitude'])"
   ]
  },
  {
   "cell_type": "code",
   "execution_count": 125,
   "metadata": {},
   "outputs": [
    {
     "name": "stdout",
     "output_type": "stream",
     "text": [
      "train_score : 2.838675522565115e-05 test_score = -6.601288111007797e-05\n"
     ]
    }
   ],
   "source": [
    "linearRegression(['longitude'])"
   ]
  },
  {
   "cell_type": "code",
   "execution_count": 126,
   "metadata": {},
   "outputs": [
    {
     "name": "stdout",
     "output_type": "stream",
     "text": [
      "train_score : 0.15483684622743454 test_score = 0.14642965906152683\n"
     ]
    }
   ],
   "source": [
    "linearRegression(['State'])"
   ]
  },
  {
   "cell_type": "code",
   "execution_count": 127,
   "metadata": {},
   "outputs": [
    {
     "name": "stdout",
     "output_type": "stream",
     "text": [
      "train_score : 0.4431646622871242 test_score = 0.4408558053896519\n"
     ]
    }
   ],
   "source": [
    "linearRegression(['Measure'])"
   ]
  }
 ],
 "metadata": {
  "kernelspec": {
   "display_name": "Python 3",
   "language": "python",
   "name": "python3"
  },
  "language_info": {
   "codemirror_mode": {
    "name": "ipython",
    "version": 3
   },
   "file_extension": ".py",
   "mimetype": "text/x-python",
   "name": "python",
   "nbconvert_exporter": "python",
   "pygments_lexer": "ipython3",
   "version": "3.7.3"
  }
 },
 "nbformat": 4,
 "nbformat_minor": 2
}
