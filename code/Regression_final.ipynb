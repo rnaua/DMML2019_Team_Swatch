{
 "cells": [
  {
   "cell_type": "code",
   "execution_count": 1,
   "metadata": {},
   "outputs": [],
   "source": [
    "import pandas as pd\n",
    "import matplotlib.pyplot as plt\n",
    "import datetime as dt \n",
    "from sklearn.preprocessing import LabelEncoder, OneHotEncoder\n",
    "from sklearn.model_selection import train_test_split\n",
    "from sklearn.linear_model import LogisticRegressionCV\n",
    "import warnings\n",
    "warnings.filterwarnings(\"ignore\", category=FutureWarning)"
   ]
  },
  {
   "cell_type": "code",
   "execution_count": 76,
   "metadata": {},
   "outputs": [],
   "source": [
    "data = pd.read_csv(\"../data/DataWithLocationCleaned.zip\")\n",
    "df = data.copy()"
   ]
  },
  {
   "cell_type": "code",
   "execution_count": 77,
   "metadata": {},
   "outputs": [
    {
     "data": {
      "text/html": [
       "<div>\n",
       "<style scoped>\n",
       "    .dataframe tbody tr th:only-of-type {\n",
       "        vertical-align: middle;\n",
       "    }\n",
       "\n",
       "    .dataframe tbody tr th {\n",
       "        vertical-align: top;\n",
       "    }\n",
       "\n",
       "    .dataframe thead th {\n",
       "        text-align: right;\n",
       "    }\n",
       "</style>\n",
       "<table border=\"1\" class=\"dataframe\">\n",
       "  <thead>\n",
       "    <tr style=\"text-align: right;\">\n",
       "      <th></th>\n",
       "      <th>Port Name</th>\n",
       "      <th>State</th>\n",
       "      <th>Port Code</th>\n",
       "      <th>Border</th>\n",
       "      <th>Date</th>\n",
       "      <th>Measure</th>\n",
       "      <th>Value</th>\n",
       "      <th>position</th>\n",
       "      <th>Month</th>\n",
       "      <th>Year</th>\n",
       "    </tr>\n",
       "  </thead>\n",
       "  <tbody>\n",
       "    <tr>\n",
       "      <th>0</th>\n",
       "      <td>Warroad</td>\n",
       "      <td>Minnesota</td>\n",
       "      <td>3423</td>\n",
       "      <td>US-Canada Border</td>\n",
       "      <td>2019-06-01</td>\n",
       "      <td>Truck Containers Full</td>\n",
       "      <td>133</td>\n",
       "      <td>(48.905266, -95.314404)</td>\n",
       "      <td>6</td>\n",
       "      <td>2019</td>\n",
       "    </tr>\n",
       "    <tr>\n",
       "      <th>1</th>\n",
       "      <td>Warroad</td>\n",
       "      <td>Minnesota</td>\n",
       "      <td>3423</td>\n",
       "      <td>US-Canada Border</td>\n",
       "      <td>2019-06-01</td>\n",
       "      <td>Truck Containers Empty</td>\n",
       "      <td>298</td>\n",
       "      <td>(48.905266, -95.314404)</td>\n",
       "      <td>6</td>\n",
       "      <td>2019</td>\n",
       "    </tr>\n",
       "    <tr>\n",
       "      <th>2</th>\n",
       "      <td>Warroad</td>\n",
       "      <td>Minnesota</td>\n",
       "      <td>3423</td>\n",
       "      <td>US-Canada Border</td>\n",
       "      <td>2019-06-01</td>\n",
       "      <td>Personal Vehicles</td>\n",
       "      <td>10383</td>\n",
       "      <td>(48.905266, -95.314404)</td>\n",
       "      <td>6</td>\n",
       "      <td>2019</td>\n",
       "    </tr>\n",
       "    <tr>\n",
       "      <th>3</th>\n",
       "      <td>Warroad</td>\n",
       "      <td>Minnesota</td>\n",
       "      <td>3423</td>\n",
       "      <td>US-Canada Border</td>\n",
       "      <td>2019-06-01</td>\n",
       "      <td>Personal Vehicle Passengers</td>\n",
       "      <td>19459</td>\n",
       "      <td>(48.905266, -95.314404)</td>\n",
       "      <td>6</td>\n",
       "      <td>2019</td>\n",
       "    </tr>\n",
       "    <tr>\n",
       "      <th>4</th>\n",
       "      <td>Warroad</td>\n",
       "      <td>Minnesota</td>\n",
       "      <td>3423</td>\n",
       "      <td>US-Canada Border</td>\n",
       "      <td>2019-06-01</td>\n",
       "      <td>Pedestrians</td>\n",
       "      <td>2</td>\n",
       "      <td>(48.905266, -95.314404)</td>\n",
       "      <td>6</td>\n",
       "      <td>2019</td>\n",
       "    </tr>\n",
       "  </tbody>\n",
       "</table>\n",
       "</div>"
      ],
      "text/plain": [
       "  Port Name      State  Port Code            Border       Date  \\\n",
       "0   Warroad  Minnesota       3423  US-Canada Border 2019-06-01   \n",
       "1   Warroad  Minnesota       3423  US-Canada Border 2019-06-01   \n",
       "2   Warroad  Minnesota       3423  US-Canada Border 2019-06-01   \n",
       "3   Warroad  Minnesota       3423  US-Canada Border 2019-06-01   \n",
       "4   Warroad  Minnesota       3423  US-Canada Border 2019-06-01   \n",
       "\n",
       "                       Measure  Value                 position  Month  Year  \n",
       "0        Truck Containers Full    133  (48.905266, -95.314404)      6  2019  \n",
       "1       Truck Containers Empty    298  (48.905266, -95.314404)      6  2019  \n",
       "2            Personal Vehicles  10383  (48.905266, -95.314404)      6  2019  \n",
       "3  Personal Vehicle Passengers  19459  (48.905266, -95.314404)      6  2019  \n",
       "4                  Pedestrians      2  (48.905266, -95.314404)      6  2019  "
      ]
     },
     "execution_count": 77,
     "metadata": {},
     "output_type": "execute_result"
    }
   ],
   "source": [
    "df['Date'] = pd.to_datetime(df['Date'])\n",
    "df['Month'] = df['Date'].dt.month\n",
    "df['Year'] = df['Date'].dt.year\n",
    "df.head()"
   ]
  },
  {
   "cell_type": "code",
   "execution_count": 78,
   "metadata": {},
   "outputs": [
    {
     "data": {
      "application/vnd.plotly.v1+json": {
       "config": {
        "plotlyServerURL": "https://plot.ly"
       },
       "data": [
        {
         "lat": [
          "47.16207",
          "48.84361",
          "18.3355244",
          "25.9140256",
          "26.0922991",
          "26.3827771",
          "26.4070669",
          "27.5199841",
          "28.7091433",
          "29.2691257",
          "29.3627296",
          "29.5608984",
          "30.418363",
          "31.3402134",
          "31.342529",
          "31.471341",
          "31.4887016",
          "31.6195712",
          "31.7600372",
          "31.801493",
          "31.8819798",
          "32.4934395",
          "32.54831535",
          "32.5520013",
          "32.560058",
          "32.5833711",
          "32.6753413",
          "32.6790572",
          "32.7248173",
          "33.2289775",
          "34.7648176",
          "34.8150907",
          "34.8342463",
          "35.9128415",
          "36.6421951",
          "37.236659",
          "37.4534463",
          "37.6746526",
          "38.2153479",
          "39.25679175",
          "39.3547118",
          "39.5137752",
          "39.7062265",
          "39.7628415",
          "39.7944702",
          "39.9622601",
          "40.03813",
          "40.0473326",
          "40.125222",
          "40.5520473",
          "40.597407",
          "40.7672819",
          "40.8441033",
          "40.9395774",
          "41.1592302",
          "41.2541538",
          "41.5018331",
          "41.9903787",
          "42.3315509",
          "42.9815877",
          "43.0361961",
          "43.0761171",
          "44.125494",
          "44.336127",
          "44.3864565",
          "44.694285",
          "44.982541",
          "44.997339",
          "45.00042985",
          "45.008759",
          "45.189032",
          "45.5202471",
          "45.5634002",
          "46.1251286",
          "46.490586",
          "46.7698261",
          "47.258728",
          "47.355571",
          "47.963776",
          "48.118146",
          "48.4346971",
          "48.4736934",
          "48.5020123",
          "48.5342662",
          "48.712474",
          "48.7530787",
          "48.7710371",
          "48.7846346",
          "48.792086",
          "48.813057",
          "48.857088",
          "48.8636212",
          "48.8908464",
          "48.905266",
          "48.9083386",
          "48.909464",
          "48.94584",
          "48.9466041",
          "48.9521858",
          "48.9853824",
          "48.9861027",
          "48.9950874",
          "48.9975828",
          "48.9982855",
          "48.998612",
          "48.9987931",
          "48.998839",
          "48.9991329",
          "55.3430696",
          "59.4556265",
          "62.66607",
          "laine",
          "nternational Falls",
          "leasant Camp"
         ],
         "locationmode": "USA-states",
         "lon": [
          "-67.94271",
          "108.40599",
          "-64.7549846644977",
          "-97.4890856",
          "-97.9572242",
          "-98.8205251",
          "-99.0055462",
          "-99.4953764",
          "-100.4995214",
          "-98.9019727",
          "-100.896761",
          "-104.3716924",
          "-81.709894",
          "-110.9360818",
          "-109.936355674705",
          "-106.151947",
          "-111.5420505",
          "-111.0571462",
          "-106.487287",
          "-108.7598468",
          "-112.8153361",
          "-114.7737551",
          "-116.974398450271",
          "-117.0430813",
          "-116.9361338",
          "-116.6285217",
          "-115.3887997",
          "-115.498703",
          "-114.7248614",
          "-105.5558186",
          "-83.0640417",
          "-92.2243153",
          "-86.9901321",
          "-96.8039141",
          "-114.540263",
          "-121.7891188",
          "-81.6237191",
          "-119.7840681",
          "-85.6402383",
          "-84.5898822999136",
          "-105.1694349",
          "-121.556359",
          "-90.190335",
          "-88.2170516",
          "-99.9100033",
          "-83.0007065",
          "-76.3056686",
          "-104.9649339",
          "-87.6304614",
          "-100.4230266",
          "-124.156034",
          "-78.0975086",
          "-72.7200324802622",
          "-123.6314412",
          "-79.0586474",
          "-94.7683113",
          "-120.981359",
          "-70.9750426",
          "-83.0466403",
          "-82.440466",
          "-71.1833951",
          "-78.9928794",
          "-76.3304640631677",
          "-75.917931",
          "-68.2118570811003",
          "-75.486374",
          "-73.377564",
          "-72.671814",
          "-72.1064356198873",
          "-71.5067925",
          "-67.2781424",
          "-122.6741949",
          "-67.429721",
          "-67.8407944",
          "-84.359269",
          "-67.8345688",
          "-68.589706",
          "-68.321915",
          "-89.6848121",
          "-123.4307413",
          "-112.6945072",
          "-118.4834362",
          "-122.6237356",
          "-123.0171242",
          "-94.59993",
          "-97.5532833",
          "-95.7697882",
          "-116.4339511",
          "-105.419948",
          "-100.060968",
          "-106.407904",
          "-117.3718881",
          "-100.5445928",
          "-95.314404",
          "-111.2530312",
          "-101.020712",
          "-98.995961",
          "-122.4569315",
          "-99.3807545",
          "-123.077974",
          "-97.5548",
          "-122.269080593315",
          "-112.788762",
          "-116.4979886",
          "-98.3648321",
          "-118.2241779",
          "-97.204893",
          "-115.0565577",
          "-131.6466819",
          "-135.3117463",
          "-141.141890269798",
          "Whatcom County, Washington, United States of Americ",
          "Koochiching County, Minnesota, United State",
          "Skagway, Unorganized Borough, Alaska, United State"
         ],
         "marker": {
          "color": "crimson",
          "line": {
           "color": "rgb(40,40,40)",
           "width": 0.5
          },
          "size": [
           22.277134,
           0.774324,
           2.188794,
           738.291532,
           170.706308,
           80.42433,
           136.796068,
           870.23939,
           357.07261,
           2.815836,
           187.473706,
           78.983142,
           16.848452,
           615.779562,
           41.404294,
           57.79658,
           3.262672,
           0.11188,
           1626.810752,
           812.18567,
           51.695134,
           390.975136,
           4.689396,
           1641.507174,
           586.626348,
           126.760944,
           295.793376,
           802.927222,
           120.74263,
           0.212604,
           3.517938,
           1.623308,
           3.68212,
           1.033048,
           16.741054,
           42.17857,
           1.038846,
           10.223978,
           50.5235,
           1.876676,
           0.709416,
           23.869818,
           0.633984,
           236.997368,
           6.210878,
           50.684586,
           2.867422,
           27.887546,
           4.635972,
           4.234568,
           1.196736,
           0.375318,
           18.809202,
           0.191742,
           0.542302,
           98.105344,
           0.278092,
           7.000202,
           552.920844,
           198.815428,
           3.120566,
           706.920938,
           0.459208,
           75.216032,
           0.37968,
           30.242434,
           142.093434,
           11.16497,
           62.41633,
           6.994516,
           97.556548,
           1.580476,
           4.272158,
           33.213508,
           111.341924,
           15.20834,
           19.342898,
           48.343494,
           26.089162,
           4.24013,
           14.843998,
           0.945016,
           2.339466,
           0.26535,
           18.091218,
           33.806294,
           3.781128,
           4.137794,
           0.535982,
           7.087368,
           0.396062,
           2.984852,
           1.269254,
           12.687522,
           0.074938,
           1.087006,
           0.552006,
           60.8169,
           1.099146,
           75.762716,
           4.04542,
           86.338434,
           2.518648,
           11.863708,
           1.278936,
           4.801696,
           1.839198,
           13.018704,
           0.234996,
           14.082432,
           5.635924,
           367.894092,
           49.121096,
           1.884704
          ],
          "sizemode": "area"
         },
         "text": [
          "Van Buren<br>Crossings: 11.138567 million",
          "Turner<br>Crossings: 0.387162 million",
          "St. John<br>Crossings: 1.094397 million",
          "Brownsville<br>Crossings: 369.145766 million",
          "Progreso<br>Crossings: 85.353154 million",
          "Rio Grande City<br>Crossings: 40.212165 million",
          "Roma<br>Crossings: 68.398034 million",
          "Laredo<br>Crossings: 435.119695 million",
          "Eagle Pass<br>Crossings: 178.536305 million",
          "Noonan<br>Crossings: 1.407918 million",
          "Del Rio<br>Crossings: 93.736853 million",
          "Presidio<br>Crossings: 39.491571 million",
          "Trout River<br>Crossings: 8.424226 million",
          "Nogales<br>Crossings: 307.889781 million",
          "Naco<br>Crossings: 20.702147 million",
          "Tornillo-Fabens<br>Crossings: 28.89829 million",
          "Sasabe<br>Crossings: 1.631336 million",
          "Boquillas<br>Crossings: 0.05594 million",
          "El Paso<br>Crossings: 813.405376 million",
          "Hidalgo<br>Crossings: 406.092835 million",
          "Lukeville<br>Crossings: 25.847567 million",
          "San Luis<br>Crossings: 195.487568 million",
          "Cross Border Xpress<br>Crossings: 2.344698 million",
          "San Ysidro<br>Crossings: 820.753587 million",
          "Otay Mesa<br>Crossings: 293.313174 million",
          "Tecate<br>Crossings: 63.380472 million",
          "Calexico East<br>Crossings: 147.896688 million",
          "Calexico<br>Crossings: 401.463611 million",
          "Andrade<br>Crossings: 60.371315 million",
          "Whitetail<br>Crossings: 0.106302 million",
          "Walhalla<br>Crossings: 1.758969 million",
          "Sherwood<br>Crossings: 0.811654 million",
          "Limestone<br>Crossings: 1.84106 million",
          "Wildhorse<br>Crossings: 0.516524 million",
          "Jackman<br>Crossings: 8.370527 million",
          "Santa Teresa<br>Crossings: 21.089285 million",
          "Antler<br>Crossings: 0.519423 million",
          "Portal<br>Crossings: 5.111989 million",
          "Highgate Springs-Alburg<br>Crossings: 25.26175 million",
          "Northgate<br>Crossings: 0.938338 million",
          "Nighthawk<br>Crossings: 0.354708 million",
          "Oroville<br>Crossings: 11.934909 million",
          "Morgan<br>Crossings: 0.316992 million",
          "Douglas<br>Crossings: 118.498684 million",
          "Norton<br>Crossings: 3.105439 million",
          "Columbus<br>Crossings: 25.342293 million",
          "Lancaster<br>Crossings: 1.433711 million",
          "Sweetgrass<br>Crossings: 13.943773 million",
          "Danville<br>Crossings: 2.317986 million",
          "Frontier<br>Crossings: 2.117284 million",
          "Fortuna<br>Crossings: 0.598368 million",
          "Hannah<br>Crossings: 0.187659 million",
          "Eastport_ID, Eastport_MA<br>Crossings: 9.404601 million",
          "Willow Creek<br>Crossings: 0.095871 million",
          "Pinecreek<br>Crossings: 0.271151 million",
          "Massena<br>Crossings: 49.052672 million",
          "Ambrose<br>Crossings: 0.139046 million",
          "Bridgewater<br>Crossings: 3.500101 million",
          "Detroit<br>Crossings: 276.460422 million",
          "Port Huron<br>Crossings: 99.407714 million",
          "Raymond<br>Crossings: 1.560283 million",
          "Buffalo-Niagara Falls<br>Crossings: 353.460469 million",
          "Cape Vincent<br>Crossings: 0.229604 million",
          "Alexandria Bay<br>Crossings: 37.608016 million",
          "Bar Harbor<br>Crossings: 0.18984 million",
          "Ogdensburg<br>Crossings: 15.121217 million",
          "Champlain-Rouses Point<br>Crossings: 71.046717 million",
          "Richford<br>Crossings: 5.582485 million",
          "Derby Line<br>Crossings: 31.208165 million",
          "Beecher Falls<br>Crossings: 3.497258 million",
          "Calais<br>Crossings: 48.778274 million",
          "Portland<br>Crossings: 0.790238 million",
          "Vanceboro<br>Crossings: 2.136079 million",
          "Houlton<br>Crossings: 16.606754 million",
          "Sault Sainte Marie<br>Crossings: 55.670962 million",
          "Fort Fairfield<br>Crossings: 7.60417 million",
          "Fort Kent<br>Crossings: 9.671449 million",
          "Madawaska<br>Crossings: 24.171747 million",
          "Grand Portage<br>Crossings: 13.044581 million",
          "Port Angeles<br>Crossings: 2.120065 million",
          "Piegan<br>Crossings: 7.421999 million",
          "Ferry<br>Crossings: 0.472508 million",
          "Anacortes<br>Crossings: 1.169733 million",
          "Friday Harbor<br>Crossings: 0.132675 million",
          "Baudette<br>Crossings: 9.045609 million",
          "Pembina<br>Crossings: 16.903147 million",
          "Roseau<br>Crossings: 1.890564 million",
          "Boundary<br>Crossings: 2.068897 million",
          "Scobey<br>Crossings: 0.267991 million",
          "Dunseith<br>Crossings: 3.543684 million",
          "Opheim<br>Crossings: 0.198031 million",
          "Metaline Falls<br>Crossings: 1.492426 million",
          "Carbury<br>Crossings: 0.634627 million",
          "Warroad<br>Crossings: 6.343761 million",
          "Whitlash<br>Crossings: 0.037469 million",
          "Westhope<br>Crossings: 0.543503 million",
          "Sarles<br>Crossings: 0.276003 million",
          "Lynden<br>Crossings: 30.40845 million",
          "Hansboro<br>Crossings: 0.549573 million",
          "Point Roberts<br>Crossings: 37.881358 million",
          "Neche<br>Crossings: 2.02271 million",
          "Sumas<br>Crossings: 43.169217 million",
          "Del Bonita<br>Crossings: 1.259324 million",
          "Porthill<br>Crossings: 5.931854 million",
          "Maida<br>Crossings: 0.639468 million",
          "Laurier<br>Crossings: 2.400848 million",
          "Noyes<br>Crossings: 0.919599 million",
          "Roosville<br>Crossings: 6.509352 million",
          "Ketchikan<br>Crossings: 0.117498 million",
          "Skagway<br>Crossings: 7.041216 million",
          "Alcan<br>Crossings: 2.817962 million",
          "Blaine<br>Crossings: 183.947046 million",
          "International Falls-Ranier<br>Crossings: 24.560548 million",
          "Dalton Cache<br>Crossings: 0.942352 million"
         ],
         "type": "scattergeo"
        }
       ],
       "layout": {
        "geo": {
         "landcolor": "rgb(217, 217, 217)",
         "scope": "usa"
        },
        "showlegend": false,
        "template": {
         "data": {
          "bar": [
           {
            "error_x": {
             "color": "#2a3f5f"
            },
            "error_y": {
             "color": "#2a3f5f"
            },
            "marker": {
             "line": {
              "color": "#E5ECF6",
              "width": 0.5
             }
            },
            "type": "bar"
           }
          ],
          "barpolar": [
           {
            "marker": {
             "line": {
              "color": "#E5ECF6",
              "width": 0.5
             }
            },
            "type": "barpolar"
           }
          ],
          "carpet": [
           {
            "aaxis": {
             "endlinecolor": "#2a3f5f",
             "gridcolor": "white",
             "linecolor": "white",
             "minorgridcolor": "white",
             "startlinecolor": "#2a3f5f"
            },
            "baxis": {
             "endlinecolor": "#2a3f5f",
             "gridcolor": "white",
             "linecolor": "white",
             "minorgridcolor": "white",
             "startlinecolor": "#2a3f5f"
            },
            "type": "carpet"
           }
          ],
          "choropleth": [
           {
            "colorbar": {
             "outlinewidth": 0,
             "ticks": ""
            },
            "type": "choropleth"
           }
          ],
          "contour": [
           {
            "colorbar": {
             "outlinewidth": 0,
             "ticks": ""
            },
            "colorscale": [
             [
              0,
              "#0d0887"
             ],
             [
              0.1111111111111111,
              "#46039f"
             ],
             [
              0.2222222222222222,
              "#7201a8"
             ],
             [
              0.3333333333333333,
              "#9c179e"
             ],
             [
              0.4444444444444444,
              "#bd3786"
             ],
             [
              0.5555555555555556,
              "#d8576b"
             ],
             [
              0.6666666666666666,
              "#ed7953"
             ],
             [
              0.7777777777777778,
              "#fb9f3a"
             ],
             [
              0.8888888888888888,
              "#fdca26"
             ],
             [
              1,
              "#f0f921"
             ]
            ],
            "type": "contour"
           }
          ],
          "contourcarpet": [
           {
            "colorbar": {
             "outlinewidth": 0,
             "ticks": ""
            },
            "type": "contourcarpet"
           }
          ],
          "heatmap": [
           {
            "colorbar": {
             "outlinewidth": 0,
             "ticks": ""
            },
            "colorscale": [
             [
              0,
              "#0d0887"
             ],
             [
              0.1111111111111111,
              "#46039f"
             ],
             [
              0.2222222222222222,
              "#7201a8"
             ],
             [
              0.3333333333333333,
              "#9c179e"
             ],
             [
              0.4444444444444444,
              "#bd3786"
             ],
             [
              0.5555555555555556,
              "#d8576b"
             ],
             [
              0.6666666666666666,
              "#ed7953"
             ],
             [
              0.7777777777777778,
              "#fb9f3a"
             ],
             [
              0.8888888888888888,
              "#fdca26"
             ],
             [
              1,
              "#f0f921"
             ]
            ],
            "type": "heatmap"
           }
          ],
          "heatmapgl": [
           {
            "colorbar": {
             "outlinewidth": 0,
             "ticks": ""
            },
            "colorscale": [
             [
              0,
              "#0d0887"
             ],
             [
              0.1111111111111111,
              "#46039f"
             ],
             [
              0.2222222222222222,
              "#7201a8"
             ],
             [
              0.3333333333333333,
              "#9c179e"
             ],
             [
              0.4444444444444444,
              "#bd3786"
             ],
             [
              0.5555555555555556,
              "#d8576b"
             ],
             [
              0.6666666666666666,
              "#ed7953"
             ],
             [
              0.7777777777777778,
              "#fb9f3a"
             ],
             [
              0.8888888888888888,
              "#fdca26"
             ],
             [
              1,
              "#f0f921"
             ]
            ],
            "type": "heatmapgl"
           }
          ],
          "histogram": [
           {
            "marker": {
             "colorbar": {
              "outlinewidth": 0,
              "ticks": ""
             }
            },
            "type": "histogram"
           }
          ],
          "histogram2d": [
           {
            "colorbar": {
             "outlinewidth": 0,
             "ticks": ""
            },
            "colorscale": [
             [
              0,
              "#0d0887"
             ],
             [
              0.1111111111111111,
              "#46039f"
             ],
             [
              0.2222222222222222,
              "#7201a8"
             ],
             [
              0.3333333333333333,
              "#9c179e"
             ],
             [
              0.4444444444444444,
              "#bd3786"
             ],
             [
              0.5555555555555556,
              "#d8576b"
             ],
             [
              0.6666666666666666,
              "#ed7953"
             ],
             [
              0.7777777777777778,
              "#fb9f3a"
             ],
             [
              0.8888888888888888,
              "#fdca26"
             ],
             [
              1,
              "#f0f921"
             ]
            ],
            "type": "histogram2d"
           }
          ],
          "histogram2dcontour": [
           {
            "colorbar": {
             "outlinewidth": 0,
             "ticks": ""
            },
            "colorscale": [
             [
              0,
              "#0d0887"
             ],
             [
              0.1111111111111111,
              "#46039f"
             ],
             [
              0.2222222222222222,
              "#7201a8"
             ],
             [
              0.3333333333333333,
              "#9c179e"
             ],
             [
              0.4444444444444444,
              "#bd3786"
             ],
             [
              0.5555555555555556,
              "#d8576b"
             ],
             [
              0.6666666666666666,
              "#ed7953"
             ],
             [
              0.7777777777777778,
              "#fb9f3a"
             ],
             [
              0.8888888888888888,
              "#fdca26"
             ],
             [
              1,
              "#f0f921"
             ]
            ],
            "type": "histogram2dcontour"
           }
          ],
          "mesh3d": [
           {
            "colorbar": {
             "outlinewidth": 0,
             "ticks": ""
            },
            "type": "mesh3d"
           }
          ],
          "parcoords": [
           {
            "line": {
             "colorbar": {
              "outlinewidth": 0,
              "ticks": ""
             }
            },
            "type": "parcoords"
           }
          ],
          "pie": [
           {
            "automargin": true,
            "type": "pie"
           }
          ],
          "scatter": [
           {
            "marker": {
             "colorbar": {
              "outlinewidth": 0,
              "ticks": ""
             }
            },
            "type": "scatter"
           }
          ],
          "scatter3d": [
           {
            "line": {
             "colorbar": {
              "outlinewidth": 0,
              "ticks": ""
             }
            },
            "marker": {
             "colorbar": {
              "outlinewidth": 0,
              "ticks": ""
             }
            },
            "type": "scatter3d"
           }
          ],
          "scattercarpet": [
           {
            "marker": {
             "colorbar": {
              "outlinewidth": 0,
              "ticks": ""
             }
            },
            "type": "scattercarpet"
           }
          ],
          "scattergeo": [
           {
            "marker": {
             "colorbar": {
              "outlinewidth": 0,
              "ticks": ""
             }
            },
            "type": "scattergeo"
           }
          ],
          "scattergl": [
           {
            "marker": {
             "colorbar": {
              "outlinewidth": 0,
              "ticks": ""
             }
            },
            "type": "scattergl"
           }
          ],
          "scattermapbox": [
           {
            "marker": {
             "colorbar": {
              "outlinewidth": 0,
              "ticks": ""
             }
            },
            "type": "scattermapbox"
           }
          ],
          "scatterpolar": [
           {
            "marker": {
             "colorbar": {
              "outlinewidth": 0,
              "ticks": ""
             }
            },
            "type": "scatterpolar"
           }
          ],
          "scatterpolargl": [
           {
            "marker": {
             "colorbar": {
              "outlinewidth": 0,
              "ticks": ""
             }
            },
            "type": "scatterpolargl"
           }
          ],
          "scatterternary": [
           {
            "marker": {
             "colorbar": {
              "outlinewidth": 0,
              "ticks": ""
             }
            },
            "type": "scatterternary"
           }
          ],
          "surface": [
           {
            "colorbar": {
             "outlinewidth": 0,
             "ticks": ""
            },
            "colorscale": [
             [
              0,
              "#0d0887"
             ],
             [
              0.1111111111111111,
              "#46039f"
             ],
             [
              0.2222222222222222,
              "#7201a8"
             ],
             [
              0.3333333333333333,
              "#9c179e"
             ],
             [
              0.4444444444444444,
              "#bd3786"
             ],
             [
              0.5555555555555556,
              "#d8576b"
             ],
             [
              0.6666666666666666,
              "#ed7953"
             ],
             [
              0.7777777777777778,
              "#fb9f3a"
             ],
             [
              0.8888888888888888,
              "#fdca26"
             ],
             [
              1,
              "#f0f921"
             ]
            ],
            "type": "surface"
           }
          ],
          "table": [
           {
            "cells": {
             "fill": {
              "color": "#EBF0F8"
             },
             "line": {
              "color": "white"
             }
            },
            "header": {
             "fill": {
              "color": "#C8D4E3"
             },
             "line": {
              "color": "white"
             }
            },
            "type": "table"
           }
          ]
         },
         "layout": {
          "annotationdefaults": {
           "arrowcolor": "#2a3f5f",
           "arrowhead": 0,
           "arrowwidth": 1
          },
          "coloraxis": {
           "colorbar": {
            "outlinewidth": 0,
            "ticks": ""
           }
          },
          "colorscale": {
           "diverging": [
            [
             0,
             "#8e0152"
            ],
            [
             0.1,
             "#c51b7d"
            ],
            [
             0.2,
             "#de77ae"
            ],
            [
             0.3,
             "#f1b6da"
            ],
            [
             0.4,
             "#fde0ef"
            ],
            [
             0.5,
             "#f7f7f7"
            ],
            [
             0.6,
             "#e6f5d0"
            ],
            [
             0.7,
             "#b8e186"
            ],
            [
             0.8,
             "#7fbc41"
            ],
            [
             0.9,
             "#4d9221"
            ],
            [
             1,
             "#276419"
            ]
           ],
           "sequential": [
            [
             0,
             "#0d0887"
            ],
            [
             0.1111111111111111,
             "#46039f"
            ],
            [
             0.2222222222222222,
             "#7201a8"
            ],
            [
             0.3333333333333333,
             "#9c179e"
            ],
            [
             0.4444444444444444,
             "#bd3786"
            ],
            [
             0.5555555555555556,
             "#d8576b"
            ],
            [
             0.6666666666666666,
             "#ed7953"
            ],
            [
             0.7777777777777778,
             "#fb9f3a"
            ],
            [
             0.8888888888888888,
             "#fdca26"
            ],
            [
             1,
             "#f0f921"
            ]
           ],
           "sequentialminus": [
            [
             0,
             "#0d0887"
            ],
            [
             0.1111111111111111,
             "#46039f"
            ],
            [
             0.2222222222222222,
             "#7201a8"
            ],
            [
             0.3333333333333333,
             "#9c179e"
            ],
            [
             0.4444444444444444,
             "#bd3786"
            ],
            [
             0.5555555555555556,
             "#d8576b"
            ],
            [
             0.6666666666666666,
             "#ed7953"
            ],
            [
             0.7777777777777778,
             "#fb9f3a"
            ],
            [
             0.8888888888888888,
             "#fdca26"
            ],
            [
             1,
             "#f0f921"
            ]
           ]
          },
          "colorway": [
           "#636efa",
           "#EF553B",
           "#00cc96",
           "#ab63fa",
           "#FFA15A",
           "#19d3f3",
           "#FF6692",
           "#B6E880",
           "#FF97FF",
           "#FECB52"
          ],
          "font": {
           "color": "#2a3f5f"
          },
          "geo": {
           "bgcolor": "white",
           "lakecolor": "white",
           "landcolor": "#E5ECF6",
           "showlakes": true,
           "showland": true,
           "subunitcolor": "white"
          },
          "hoverlabel": {
           "align": "left"
          },
          "hovermode": "closest",
          "mapbox": {
           "style": "light"
          },
          "paper_bgcolor": "white",
          "plot_bgcolor": "#E5ECF6",
          "polar": {
           "angularaxis": {
            "gridcolor": "white",
            "linecolor": "white",
            "ticks": ""
           },
           "bgcolor": "#E5ECF6",
           "radialaxis": {
            "gridcolor": "white",
            "linecolor": "white",
            "ticks": ""
           }
          },
          "scene": {
           "xaxis": {
            "backgroundcolor": "#E5ECF6",
            "gridcolor": "white",
            "gridwidth": 2,
            "linecolor": "white",
            "showbackground": true,
            "ticks": "",
            "zerolinecolor": "white"
           },
           "yaxis": {
            "backgroundcolor": "#E5ECF6",
            "gridcolor": "white",
            "gridwidth": 2,
            "linecolor": "white",
            "showbackground": true,
            "ticks": "",
            "zerolinecolor": "white"
           },
           "zaxis": {
            "backgroundcolor": "#E5ECF6",
            "gridcolor": "white",
            "gridwidth": 2,
            "linecolor": "white",
            "showbackground": true,
            "ticks": "",
            "zerolinecolor": "white"
           }
          },
          "shapedefaults": {
           "line": {
            "color": "#2a3f5f"
           }
          },
          "ternary": {
           "aaxis": {
            "gridcolor": "white",
            "linecolor": "white",
            "ticks": ""
           },
           "baxis": {
            "gridcolor": "white",
            "linecolor": "white",
            "ticks": ""
           },
           "bgcolor": "#E5ECF6",
           "caxis": {
            "gridcolor": "white",
            "linecolor": "white",
            "ticks": ""
           }
          },
          "title": {
           "x": 0.05
          },
          "xaxis": {
           "automargin": true,
           "gridcolor": "white",
           "linecolor": "white",
           "ticks": "",
           "title": {
            "standoff": 15
           },
           "zerolinecolor": "white",
           "zerolinewidth": 2
          },
          "yaxis": {
           "automargin": true,
           "gridcolor": "white",
           "linecolor": "white",
           "ticks": "",
           "title": {
            "standoff": 15
           },
           "zerolinecolor": "white",
           "zerolinewidth": 2
          }
         }
        },
        "title": {
         "text": "US Borders, total inbound persons since 1996<br>(Click legend to toggle traces)"
        }
       }
      },
      "text/html": [
       "<div>\n",
       "        \n",
       "        \n",
       "            <div id=\"22af204e-0868-4ee0-96a1-3233092fb235\" class=\"plotly-graph-div\" style=\"height:525px; width:100%;\"></div>\n",
       "            <script type=\"text/javascript\">\n",
       "                require([\"plotly\"], function(Plotly) {\n",
       "                    window.PLOTLYENV=window.PLOTLYENV || {};\n",
       "                    \n",
       "                if (document.getElementById(\"22af204e-0868-4ee0-96a1-3233092fb235\")) {\n",
       "                    Plotly.newPlot(\n",
       "                        '22af204e-0868-4ee0-96a1-3233092fb235',\n",
       "                        [{\"lat\": [\"47.16207\", \"48.84361\", \"18.3355244\", \"25.9140256\", \"26.0922991\", \"26.3827771\", \"26.4070669\", \"27.5199841\", \"28.7091433\", \"29.2691257\", \"29.3627296\", \"29.5608984\", \"30.418363\", \"31.3402134\", \"31.342529\", \"31.471341\", \"31.4887016\", \"31.6195712\", \"31.7600372\", \"31.801493\", \"31.8819798\", \"32.4934395\", \"32.54831535\", \"32.5520013\", \"32.560058\", \"32.5833711\", \"32.6753413\", \"32.6790572\", \"32.7248173\", \"33.2289775\", \"34.7648176\", \"34.8150907\", \"34.8342463\", \"35.9128415\", \"36.6421951\", \"37.236659\", \"37.4534463\", \"37.6746526\", \"38.2153479\", \"39.25679175\", \"39.3547118\", \"39.5137752\", \"39.7062265\", \"39.7628415\", \"39.7944702\", \"39.9622601\", \"40.03813\", \"40.0473326\", \"40.125222\", \"40.5520473\", \"40.597407\", \"40.7672819\", \"40.8441033\", \"40.9395774\", \"41.1592302\", \"41.2541538\", \"41.5018331\", \"41.9903787\", \"42.3315509\", \"42.9815877\", \"43.0361961\", \"43.0761171\", \"44.125494\", \"44.336127\", \"44.3864565\", \"44.694285\", \"44.982541\", \"44.997339\", \"45.00042985\", \"45.008759\", \"45.189032\", \"45.5202471\", \"45.5634002\", \"46.1251286\", \"46.490586\", \"46.7698261\", \"47.258728\", \"47.355571\", \"47.963776\", \"48.118146\", \"48.4346971\", \"48.4736934\", \"48.5020123\", \"48.5342662\", \"48.712474\", \"48.7530787\", \"48.7710371\", \"48.7846346\", \"48.792086\", \"48.813057\", \"48.857088\", \"48.8636212\", \"48.8908464\", \"48.905266\", \"48.9083386\", \"48.909464\", \"48.94584\", \"48.9466041\", \"48.9521858\", \"48.9853824\", \"48.9861027\", \"48.9950874\", \"48.9975828\", \"48.9982855\", \"48.998612\", \"48.9987931\", \"48.998839\", \"48.9991329\", \"55.3430696\", \"59.4556265\", \"62.66607\", \"laine\", \"nternational Falls\", \"leasant Camp\"], \"locationmode\": \"USA-states\", \"lon\": [\"-67.94271\", \"108.40599\", \"-64.7549846644977\", \"-97.4890856\", \"-97.9572242\", \"-98.8205251\", \"-99.0055462\", \"-99.4953764\", \"-100.4995214\", \"-98.9019727\", \"-100.896761\", \"-104.3716924\", \"-81.709894\", \"-110.9360818\", \"-109.936355674705\", \"-106.151947\", \"-111.5420505\", \"-111.0571462\", \"-106.487287\", \"-108.7598468\", \"-112.8153361\", \"-114.7737551\", \"-116.974398450271\", \"-117.0430813\", \"-116.9361338\", \"-116.6285217\", \"-115.3887997\", \"-115.498703\", \"-114.7248614\", \"-105.5558186\", \"-83.0640417\", \"-92.2243153\", \"-86.9901321\", \"-96.8039141\", \"-114.540263\", \"-121.7891188\", \"-81.6237191\", \"-119.7840681\", \"-85.6402383\", \"-84.5898822999136\", \"-105.1694349\", \"-121.556359\", \"-90.190335\", \"-88.2170516\", \"-99.9100033\", \"-83.0007065\", \"-76.3056686\", \"-104.9649339\", \"-87.6304614\", \"-100.4230266\", \"-124.156034\", \"-78.0975086\", \"-72.7200324802622\", \"-123.6314412\", \"-79.0586474\", \"-94.7683113\", \"-120.981359\", \"-70.9750426\", \"-83.0466403\", \"-82.440466\", \"-71.1833951\", \"-78.9928794\", \"-76.3304640631677\", \"-75.917931\", \"-68.2118570811003\", \"-75.486374\", \"-73.377564\", \"-72.671814\", \"-72.1064356198873\", \"-71.5067925\", \"-67.2781424\", \"-122.6741949\", \"-67.429721\", \"-67.8407944\", \"-84.359269\", \"-67.8345688\", \"-68.589706\", \"-68.321915\", \"-89.6848121\", \"-123.4307413\", \"-112.6945072\", \"-118.4834362\", \"-122.6237356\", \"-123.0171242\", \"-94.59993\", \"-97.5532833\", \"-95.7697882\", \"-116.4339511\", \"-105.419948\", \"-100.060968\", \"-106.407904\", \"-117.3718881\", \"-100.5445928\", \"-95.314404\", \"-111.2530312\", \"-101.020712\", \"-98.995961\", \"-122.4569315\", \"-99.3807545\", \"-123.077974\", \"-97.5548\", \"-122.269080593315\", \"-112.788762\", \"-116.4979886\", \"-98.3648321\", \"-118.2241779\", \"-97.204893\", \"-115.0565577\", \"-131.6466819\", \"-135.3117463\", \"-141.141890269798\", \"Whatcom County, Washington, United States of Americ\", \"Koochiching County, Minnesota, United State\", \"Skagway, Unorganized Borough, Alaska, United State\"], \"marker\": {\"color\": \"crimson\", \"line\": {\"color\": \"rgb(40,40,40)\", \"width\": 0.5}, \"size\": [22.277134, 0.774324, 2.188794, 738.291532, 170.706308, 80.42433, 136.796068, 870.23939, 357.07261, 2.815836, 187.473706, 78.983142, 16.848452, 615.779562, 41.404294, 57.79658, 3.262672, 0.11188, 1626.810752, 812.18567, 51.695134, 390.975136, 4.689396, 1641.507174, 586.626348, 126.760944, 295.793376, 802.927222, 120.74263, 0.212604, 3.517938, 1.623308, 3.68212, 1.033048, 16.741054, 42.17857, 1.038846, 10.223978, 50.5235, 1.876676, 0.709416, 23.869818, 0.633984, 236.997368, 6.210878, 50.684586, 2.867422, 27.887546, 4.635972, 4.234568, 1.196736, 0.375318, 18.809202, 0.191742, 0.542302, 98.105344, 0.278092, 7.000202, 552.920844, 198.815428, 3.120566, 706.920938, 0.459208, 75.216032, 0.37968, 30.242434, 142.093434, 11.16497, 62.41633, 6.994516, 97.556548, 1.580476, 4.272158, 33.213508, 111.341924, 15.20834, 19.342898, 48.343494, 26.089162, 4.24013, 14.843998, 0.945016, 2.339466, 0.26535, 18.091218, 33.806294, 3.781128, 4.137794, 0.535982, 7.087368, 0.396062, 2.984852, 1.269254, 12.687522, 0.074938, 1.087006, 0.552006, 60.8169, 1.099146, 75.762716, 4.04542, 86.338434, 2.518648, 11.863708, 1.278936, 4.801696, 1.839198, 13.018704, 0.234996, 14.082432, 5.635924, 367.894092, 49.121096, 1.884704], \"sizemode\": \"area\"}, \"text\": [\"Van Buren<br>Crossings: 11.138567 million\", \"Turner<br>Crossings: 0.387162 million\", \"St. John<br>Crossings: 1.094397 million\", \"Brownsville<br>Crossings: 369.145766 million\", \"Progreso<br>Crossings: 85.353154 million\", \"Rio Grande City<br>Crossings: 40.212165 million\", \"Roma<br>Crossings: 68.398034 million\", \"Laredo<br>Crossings: 435.119695 million\", \"Eagle Pass<br>Crossings: 178.536305 million\", \"Noonan<br>Crossings: 1.407918 million\", \"Del Rio<br>Crossings: 93.736853 million\", \"Presidio<br>Crossings: 39.491571 million\", \"Trout River<br>Crossings: 8.424226 million\", \"Nogales<br>Crossings: 307.889781 million\", \"Naco<br>Crossings: 20.702147 million\", \"Tornillo-Fabens<br>Crossings: 28.89829 million\", \"Sasabe<br>Crossings: 1.631336 million\", \"Boquillas<br>Crossings: 0.05594 million\", \"El Paso<br>Crossings: 813.405376 million\", \"Hidalgo<br>Crossings: 406.092835 million\", \"Lukeville<br>Crossings: 25.847567 million\", \"San Luis<br>Crossings: 195.487568 million\", \"Cross Border Xpress<br>Crossings: 2.344698 million\", \"San Ysidro<br>Crossings: 820.753587 million\", \"Otay Mesa<br>Crossings: 293.313174 million\", \"Tecate<br>Crossings: 63.380472 million\", \"Calexico East<br>Crossings: 147.896688 million\", \"Calexico<br>Crossings: 401.463611 million\", \"Andrade<br>Crossings: 60.371315 million\", \"Whitetail<br>Crossings: 0.106302 million\", \"Walhalla<br>Crossings: 1.758969 million\", \"Sherwood<br>Crossings: 0.811654 million\", \"Limestone<br>Crossings: 1.84106 million\", \"Wildhorse<br>Crossings: 0.516524 million\", \"Jackman<br>Crossings: 8.370527 million\", \"Santa Teresa<br>Crossings: 21.089285 million\", \"Antler<br>Crossings: 0.519423 million\", \"Portal<br>Crossings: 5.111989 million\", \"Highgate Springs-Alburg<br>Crossings: 25.26175 million\", \"Northgate<br>Crossings: 0.938338 million\", \"Nighthawk<br>Crossings: 0.354708 million\", \"Oroville<br>Crossings: 11.934909 million\", \"Morgan<br>Crossings: 0.316992 million\", \"Douglas<br>Crossings: 118.498684 million\", \"Norton<br>Crossings: 3.105439 million\", \"Columbus<br>Crossings: 25.342293 million\", \"Lancaster<br>Crossings: 1.433711 million\", \"Sweetgrass<br>Crossings: 13.943773 million\", \"Danville<br>Crossings: 2.317986 million\", \"Frontier<br>Crossings: 2.117284 million\", \"Fortuna<br>Crossings: 0.598368 million\", \"Hannah<br>Crossings: 0.187659 million\", \"Eastport_ID, Eastport_MA<br>Crossings: 9.404601 million\", \"Willow Creek<br>Crossings: 0.095871 million\", \"Pinecreek<br>Crossings: 0.271151 million\", \"Massena<br>Crossings: 49.052672 million\", \"Ambrose<br>Crossings: 0.139046 million\", \"Bridgewater<br>Crossings: 3.500101 million\", \"Detroit<br>Crossings: 276.460422 million\", \"Port Huron<br>Crossings: 99.407714 million\", \"Raymond<br>Crossings: 1.560283 million\", \"Buffalo-Niagara Falls<br>Crossings: 353.460469 million\", \"Cape Vincent<br>Crossings: 0.229604 million\", \"Alexandria Bay<br>Crossings: 37.608016 million\", \"Bar Harbor<br>Crossings: 0.18984 million\", \"Ogdensburg<br>Crossings: 15.121217 million\", \"Champlain-Rouses Point<br>Crossings: 71.046717 million\", \"Richford<br>Crossings: 5.582485 million\", \"Derby Line<br>Crossings: 31.208165 million\", \"Beecher Falls<br>Crossings: 3.497258 million\", \"Calais<br>Crossings: 48.778274 million\", \"Portland<br>Crossings: 0.790238 million\", \"Vanceboro<br>Crossings: 2.136079 million\", \"Houlton<br>Crossings: 16.606754 million\", \"Sault Sainte Marie<br>Crossings: 55.670962 million\", \"Fort Fairfield<br>Crossings: 7.60417 million\", \"Fort Kent<br>Crossings: 9.671449 million\", \"Madawaska<br>Crossings: 24.171747 million\", \"Grand Portage<br>Crossings: 13.044581 million\", \"Port Angeles<br>Crossings: 2.120065 million\", \"Piegan<br>Crossings: 7.421999 million\", \"Ferry<br>Crossings: 0.472508 million\", \"Anacortes<br>Crossings: 1.169733 million\", \"Friday Harbor<br>Crossings: 0.132675 million\", \"Baudette<br>Crossings: 9.045609 million\", \"Pembina<br>Crossings: 16.903147 million\", \"Roseau<br>Crossings: 1.890564 million\", \"Boundary<br>Crossings: 2.068897 million\", \"Scobey<br>Crossings: 0.267991 million\", \"Dunseith<br>Crossings: 3.543684 million\", \"Opheim<br>Crossings: 0.198031 million\", \"Metaline Falls<br>Crossings: 1.492426 million\", \"Carbury<br>Crossings: 0.634627 million\", \"Warroad<br>Crossings: 6.343761 million\", \"Whitlash<br>Crossings: 0.037469 million\", \"Westhope<br>Crossings: 0.543503 million\", \"Sarles<br>Crossings: 0.276003 million\", \"Lynden<br>Crossings: 30.40845 million\", \"Hansboro<br>Crossings: 0.549573 million\", \"Point Roberts<br>Crossings: 37.881358 million\", \"Neche<br>Crossings: 2.02271 million\", \"Sumas<br>Crossings: 43.169217 million\", \"Del Bonita<br>Crossings: 1.259324 million\", \"Porthill<br>Crossings: 5.931854 million\", \"Maida<br>Crossings: 0.639468 million\", \"Laurier<br>Crossings: 2.400848 million\", \"Noyes<br>Crossings: 0.919599 million\", \"Roosville<br>Crossings: 6.509352 million\", \"Ketchikan<br>Crossings: 0.117498 million\", \"Skagway<br>Crossings: 7.041216 million\", \"Alcan<br>Crossings: 2.817962 million\", \"Blaine<br>Crossings: 183.947046 million\", \"International Falls-Ranier<br>Crossings: 24.560548 million\", \"Dalton Cache<br>Crossings: 0.942352 million\"], \"type\": \"scattergeo\"}],\n",
       "                        {\"geo\": {\"landcolor\": \"rgb(217, 217, 217)\", \"scope\": \"usa\"}, \"showlegend\": false, \"template\": {\"data\": {\"bar\": [{\"error_x\": {\"color\": \"#2a3f5f\"}, \"error_y\": {\"color\": \"#2a3f5f\"}, \"marker\": {\"line\": {\"color\": \"#E5ECF6\", \"width\": 0.5}}, \"type\": \"bar\"}], \"barpolar\": [{\"marker\": {\"line\": {\"color\": \"#E5ECF6\", \"width\": 0.5}}, \"type\": \"barpolar\"}], \"carpet\": [{\"aaxis\": {\"endlinecolor\": \"#2a3f5f\", \"gridcolor\": \"white\", \"linecolor\": \"white\", \"minorgridcolor\": \"white\", \"startlinecolor\": \"#2a3f5f\"}, \"baxis\": {\"endlinecolor\": \"#2a3f5f\", \"gridcolor\": \"white\", \"linecolor\": \"white\", \"minorgridcolor\": \"white\", \"startlinecolor\": \"#2a3f5f\"}, \"type\": \"carpet\"}], \"choropleth\": [{\"colorbar\": {\"outlinewidth\": 0, \"ticks\": \"\"}, \"type\": \"choropleth\"}], \"contour\": [{\"colorbar\": {\"outlinewidth\": 0, \"ticks\": \"\"}, \"colorscale\": [[0.0, \"#0d0887\"], [0.1111111111111111, \"#46039f\"], [0.2222222222222222, \"#7201a8\"], [0.3333333333333333, \"#9c179e\"], [0.4444444444444444, \"#bd3786\"], [0.5555555555555556, \"#d8576b\"], [0.6666666666666666, \"#ed7953\"], [0.7777777777777778, \"#fb9f3a\"], [0.8888888888888888, \"#fdca26\"], [1.0, \"#f0f921\"]], \"type\": \"contour\"}], \"contourcarpet\": [{\"colorbar\": {\"outlinewidth\": 0, \"ticks\": \"\"}, \"type\": \"contourcarpet\"}], \"heatmap\": [{\"colorbar\": {\"outlinewidth\": 0, \"ticks\": \"\"}, \"colorscale\": [[0.0, \"#0d0887\"], [0.1111111111111111, \"#46039f\"], [0.2222222222222222, \"#7201a8\"], [0.3333333333333333, \"#9c179e\"], [0.4444444444444444, \"#bd3786\"], [0.5555555555555556, \"#d8576b\"], [0.6666666666666666, \"#ed7953\"], [0.7777777777777778, \"#fb9f3a\"], [0.8888888888888888, \"#fdca26\"], [1.0, \"#f0f921\"]], \"type\": \"heatmap\"}], \"heatmapgl\": [{\"colorbar\": {\"outlinewidth\": 0, \"ticks\": \"\"}, \"colorscale\": [[0.0, \"#0d0887\"], [0.1111111111111111, \"#46039f\"], [0.2222222222222222, \"#7201a8\"], [0.3333333333333333, \"#9c179e\"], [0.4444444444444444, \"#bd3786\"], [0.5555555555555556, \"#d8576b\"], [0.6666666666666666, \"#ed7953\"], [0.7777777777777778, \"#fb9f3a\"], [0.8888888888888888, \"#fdca26\"], [1.0, \"#f0f921\"]], \"type\": \"heatmapgl\"}], \"histogram\": [{\"marker\": {\"colorbar\": {\"outlinewidth\": 0, \"ticks\": \"\"}}, \"type\": \"histogram\"}], \"histogram2d\": [{\"colorbar\": {\"outlinewidth\": 0, \"ticks\": \"\"}, \"colorscale\": [[0.0, \"#0d0887\"], [0.1111111111111111, \"#46039f\"], [0.2222222222222222, \"#7201a8\"], [0.3333333333333333, \"#9c179e\"], [0.4444444444444444, \"#bd3786\"], [0.5555555555555556, \"#d8576b\"], [0.6666666666666666, \"#ed7953\"], [0.7777777777777778, \"#fb9f3a\"], [0.8888888888888888, \"#fdca26\"], [1.0, \"#f0f921\"]], \"type\": \"histogram2d\"}], \"histogram2dcontour\": [{\"colorbar\": {\"outlinewidth\": 0, \"ticks\": \"\"}, \"colorscale\": [[0.0, \"#0d0887\"], [0.1111111111111111, \"#46039f\"], [0.2222222222222222, \"#7201a8\"], [0.3333333333333333, \"#9c179e\"], [0.4444444444444444, \"#bd3786\"], [0.5555555555555556, \"#d8576b\"], [0.6666666666666666, \"#ed7953\"], [0.7777777777777778, \"#fb9f3a\"], [0.8888888888888888, \"#fdca26\"], [1.0, \"#f0f921\"]], \"type\": \"histogram2dcontour\"}], \"mesh3d\": [{\"colorbar\": {\"outlinewidth\": 0, \"ticks\": \"\"}, \"type\": \"mesh3d\"}], \"parcoords\": [{\"line\": {\"colorbar\": {\"outlinewidth\": 0, \"ticks\": \"\"}}, \"type\": \"parcoords\"}], \"pie\": [{\"automargin\": true, \"type\": \"pie\"}], \"scatter\": [{\"marker\": {\"colorbar\": {\"outlinewidth\": 0, \"ticks\": \"\"}}, \"type\": \"scatter\"}], \"scatter3d\": [{\"line\": {\"colorbar\": {\"outlinewidth\": 0, \"ticks\": \"\"}}, \"marker\": {\"colorbar\": {\"outlinewidth\": 0, \"ticks\": \"\"}}, \"type\": \"scatter3d\"}], \"scattercarpet\": [{\"marker\": {\"colorbar\": {\"outlinewidth\": 0, \"ticks\": \"\"}}, \"type\": \"scattercarpet\"}], \"scattergeo\": [{\"marker\": {\"colorbar\": {\"outlinewidth\": 0, \"ticks\": \"\"}}, \"type\": \"scattergeo\"}], \"scattergl\": [{\"marker\": {\"colorbar\": {\"outlinewidth\": 0, \"ticks\": \"\"}}, \"type\": \"scattergl\"}], \"scattermapbox\": [{\"marker\": {\"colorbar\": {\"outlinewidth\": 0, \"ticks\": \"\"}}, \"type\": \"scattermapbox\"}], \"scatterpolar\": [{\"marker\": {\"colorbar\": {\"outlinewidth\": 0, \"ticks\": \"\"}}, \"type\": \"scatterpolar\"}], \"scatterpolargl\": [{\"marker\": {\"colorbar\": {\"outlinewidth\": 0, \"ticks\": \"\"}}, \"type\": \"scatterpolargl\"}], \"scatterternary\": [{\"marker\": {\"colorbar\": {\"outlinewidth\": 0, \"ticks\": \"\"}}, \"type\": \"scatterternary\"}], \"surface\": [{\"colorbar\": {\"outlinewidth\": 0, \"ticks\": \"\"}, \"colorscale\": [[0.0, \"#0d0887\"], [0.1111111111111111, \"#46039f\"], [0.2222222222222222, \"#7201a8\"], [0.3333333333333333, \"#9c179e\"], [0.4444444444444444, \"#bd3786\"], [0.5555555555555556, \"#d8576b\"], [0.6666666666666666, \"#ed7953\"], [0.7777777777777778, \"#fb9f3a\"], [0.8888888888888888, \"#fdca26\"], [1.0, \"#f0f921\"]], \"type\": \"surface\"}], \"table\": [{\"cells\": {\"fill\": {\"color\": \"#EBF0F8\"}, \"line\": {\"color\": \"white\"}}, \"header\": {\"fill\": {\"color\": \"#C8D4E3\"}, \"line\": {\"color\": \"white\"}}, \"type\": \"table\"}]}, \"layout\": {\"annotationdefaults\": {\"arrowcolor\": \"#2a3f5f\", \"arrowhead\": 0, \"arrowwidth\": 1}, \"coloraxis\": {\"colorbar\": {\"outlinewidth\": 0, \"ticks\": \"\"}}, \"colorscale\": {\"diverging\": [[0, \"#8e0152\"], [0.1, \"#c51b7d\"], [0.2, \"#de77ae\"], [0.3, \"#f1b6da\"], [0.4, \"#fde0ef\"], [0.5, \"#f7f7f7\"], [0.6, \"#e6f5d0\"], [0.7, \"#b8e186\"], [0.8, \"#7fbc41\"], [0.9, \"#4d9221\"], [1, \"#276419\"]], \"sequential\": [[0.0, \"#0d0887\"], [0.1111111111111111, \"#46039f\"], [0.2222222222222222, \"#7201a8\"], [0.3333333333333333, \"#9c179e\"], [0.4444444444444444, \"#bd3786\"], [0.5555555555555556, \"#d8576b\"], [0.6666666666666666, \"#ed7953\"], [0.7777777777777778, \"#fb9f3a\"], [0.8888888888888888, \"#fdca26\"], [1.0, \"#f0f921\"]], \"sequentialminus\": [[0.0, \"#0d0887\"], [0.1111111111111111, \"#46039f\"], [0.2222222222222222, \"#7201a8\"], [0.3333333333333333, \"#9c179e\"], [0.4444444444444444, \"#bd3786\"], [0.5555555555555556, \"#d8576b\"], [0.6666666666666666, \"#ed7953\"], [0.7777777777777778, \"#fb9f3a\"], [0.8888888888888888, \"#fdca26\"], [1.0, \"#f0f921\"]]}, \"colorway\": [\"#636efa\", \"#EF553B\", \"#00cc96\", \"#ab63fa\", \"#FFA15A\", \"#19d3f3\", \"#FF6692\", \"#B6E880\", \"#FF97FF\", \"#FECB52\"], \"font\": {\"color\": \"#2a3f5f\"}, \"geo\": {\"bgcolor\": \"white\", \"lakecolor\": \"white\", \"landcolor\": \"#E5ECF6\", \"showlakes\": true, \"showland\": true, \"subunitcolor\": \"white\"}, \"hoverlabel\": {\"align\": \"left\"}, \"hovermode\": \"closest\", \"mapbox\": {\"style\": \"light\"}, \"paper_bgcolor\": \"white\", \"plot_bgcolor\": \"#E5ECF6\", \"polar\": {\"angularaxis\": {\"gridcolor\": \"white\", \"linecolor\": \"white\", \"ticks\": \"\"}, \"bgcolor\": \"#E5ECF6\", \"radialaxis\": {\"gridcolor\": \"white\", \"linecolor\": \"white\", \"ticks\": \"\"}}, \"scene\": {\"xaxis\": {\"backgroundcolor\": \"#E5ECF6\", \"gridcolor\": \"white\", \"gridwidth\": 2, \"linecolor\": \"white\", \"showbackground\": true, \"ticks\": \"\", \"zerolinecolor\": \"white\"}, \"yaxis\": {\"backgroundcolor\": \"#E5ECF6\", \"gridcolor\": \"white\", \"gridwidth\": 2, \"linecolor\": \"white\", \"showbackground\": true, \"ticks\": \"\", \"zerolinecolor\": \"white\"}, \"zaxis\": {\"backgroundcolor\": \"#E5ECF6\", \"gridcolor\": \"white\", \"gridwidth\": 2, \"linecolor\": \"white\", \"showbackground\": true, \"ticks\": \"\", \"zerolinecolor\": \"white\"}}, \"shapedefaults\": {\"line\": {\"color\": \"#2a3f5f\"}}, \"ternary\": {\"aaxis\": {\"gridcolor\": \"white\", \"linecolor\": \"white\", \"ticks\": \"\"}, \"baxis\": {\"gridcolor\": \"white\", \"linecolor\": \"white\", \"ticks\": \"\"}, \"bgcolor\": \"#E5ECF6\", \"caxis\": {\"gridcolor\": \"white\", \"linecolor\": \"white\", \"ticks\": \"\"}}, \"title\": {\"x\": 0.05}, \"xaxis\": {\"automargin\": true, \"gridcolor\": \"white\", \"linecolor\": \"white\", \"ticks\": \"\", \"title\": {\"standoff\": 15}, \"zerolinecolor\": \"white\", \"zerolinewidth\": 2}, \"yaxis\": {\"automargin\": true, \"gridcolor\": \"white\", \"linecolor\": \"white\", \"ticks\": \"\", \"title\": {\"standoff\": 15}, \"zerolinecolor\": \"white\", \"zerolinewidth\": 2}}}, \"title\": {\"text\": \"US Borders, total inbound persons since 1996<br>(Click legend to toggle traces)\"}},\n",
       "                        {\"responsive\": true}\n",
       "                    ).then(function(){\n",
       "                            \n",
       "var gd = document.getElementById('22af204e-0868-4ee0-96a1-3233092fb235');\n",
       "var x = new MutationObserver(function (mutations, observer) {{\n",
       "        var display = window.getComputedStyle(gd).display;\n",
       "        if (!display || display === 'none') {{\n",
       "            console.log([gd, 'removed!']);\n",
       "            Plotly.purge(gd);\n",
       "            observer.disconnect();\n",
       "        }}\n",
       "}});\n",
       "\n",
       "// Listen for the removal of the full notebook cells\n",
       "var notebookContainer = gd.closest('#notebook-container');\n",
       "if (notebookContainer) {{\n",
       "    x.observe(notebookContainer, {childList: true});\n",
       "}}\n",
       "\n",
       "// Listen for the clearing of the current output cell\n",
       "var outputEl = gd.closest('.output');\n",
       "if (outputEl) {{\n",
       "    x.observe(outputEl, {childList: true});\n",
       "}}\n",
       "\n",
       "                        })\n",
       "                };\n",
       "                });\n",
       "            </script>\n",
       "        </div>"
      ]
     },
     "metadata": {},
     "output_type": "display_data"
    }
   ],
   "source": [
    "## Plot the map of the USA with importance of ports.\n",
    "import plotly.express as px\n",
    "import plotly.graph_objects as go\n",
    "\n",
    "def getlat(x):\n",
    "    lat = x.partition(',')[0][1:]\n",
    "    if lat[0] == \"'\":\n",
    "        lat = lat[1:-1]\n",
    "    return lat\n",
    "\n",
    "def getlong(x):\n",
    "    lat = x.partition(',')[2]\n",
    "    if lat[1] == \"'\":\n",
    "        lat = lat[2:-2]\n",
    "    else:\n",
    "        lat = lat[1:-1]\n",
    "    return lat\n",
    "\n",
    "df = df[df['Measure'].isin(['Bus Passengers','Pedestrians','Personal Vehicle Passengers','Train Passengers'])].reset_index().drop(columns=['index'])\n",
    "\n",
    "persons_location = df[['position','Value']].groupby('position').sum().reset_index()\n",
    "persons_location['latitude'] = persons_location['position'].apply(lambda x: getlat(x))\n",
    "persons_location['longitude'] = persons_location['position'].apply(lambda x: getlong(x))\n",
    "\n",
    "ps = data[['Port Name','position']].drop_duplicates().set_index('position')\n",
    "persons_location['Ports'] = persons_location.position.apply(lambda x : ', '.join(ps.loc[x].values.flatten()))\n",
    "persons_location['text'] = persons_location['Ports'] + '<br>Crossings: ' + (persons_location['Value']/1e6).astype(str)+' million'\n",
    "\n",
    "color = \"crimson\"\n",
    "scale = 500000\n",
    "\n",
    "fig = go.Figure()\n",
    "fig.add_trace(go.Scattergeo(\n",
    "    locationmode = 'USA-states',\n",
    "    lon = persons_location['longitude'],\n",
    "    lat = persons_location['latitude'],\n",
    "    text = persons_location['text'],\n",
    "    marker = dict(\n",
    "        size = persons_location['Value']/scale,\n",
    "        color = color,\n",
    "        line_color='rgb(40,40,40)',\n",
    "        line_width=0.5,\n",
    "        sizemode = 'area')))\n",
    "\n",
    "fig.update_layout(\n",
    "        title_text = 'US Borders, total inbound persons since 1996<br>(Click legend to toggle traces)',\n",
    "        showlegend = False,\n",
    "        geo = dict(\n",
    "            scope = 'usa',\n",
    "            landcolor = 'rgb(217, 217, 217)',\n",
    "        )\n",
    "    )\n",
    "\n",
    "fig.show()"
   ]
  },
  {
   "cell_type": "code",
   "execution_count": 97,
   "metadata": {},
   "outputs": [],
   "source": [
    "# We create 2 Zones\n",
    "# Zone 1 regroup the ports in the left of the map (US-Mexico)\n",
    "Zone1 = df[df['Port Name'].isin(['San Ysidro','Otay Mesa','Tecate','Calexico','Calexico East','San Luis','Andrade'])].reset_index(drop=True)\n",
    "# Zone 2 regroup all the ports for the US-Mexico ports\n",
    "Zone2 = df[df['Border'] == 'US-Mexico Border'].reset_index(drop=True)\n",
    "Zone3 = df[df['Port Name'].isin(['El Paso','Hidalgo'])].reset_index(drop=True)"
   ]
  },
  {
   "cell_type": "code",
   "execution_count": 98,
   "metadata": {},
   "outputs": [
    {
     "data": {
      "text/plain": [
       "7623"
      ]
     },
     "execution_count": 98,
     "metadata": {},
     "output_type": "execute_result"
    }
   ],
   "source": [
    "Zone1.shape[0]"
   ]
  },
  {
   "cell_type": "code",
   "execution_count": 99,
   "metadata": {},
   "outputs": [
    {
     "data": {
      "text/plain": [
       "27304"
      ]
     },
     "execution_count": 99,
     "metadata": {},
     "output_type": "execute_result"
    }
   ],
   "source": [
    "Zone2.shape[0]"
   ]
  },
  {
   "cell_type": "code",
   "execution_count": 100,
   "metadata": {},
   "outputs": [
    {
     "data": {
      "text/plain": [
       "2221"
      ]
     },
     "execution_count": 100,
     "metadata": {},
     "output_type": "execute_result"
    }
   ],
   "source": [
    "Zone3.shape[0]"
   ]
  },
  {
   "cell_type": "code",
   "execution_count": 135,
   "metadata": {},
   "outputs": [],
   "source": [
    "def logisitic(X,y):\n",
    "    X_train, X_test, y_train, y_test = train_test_split(X, y, test_size=0.2, random_state=42)\n",
    "    LR = LogisticRegressionCV(solver='lbfgs', cv=5, max_iter=1000)\n",
    "    LR.fit(X_train,y_train)\n",
    "    test_score = LR.score(X_test, y_test)\n",
    "    train_score = LR.score(X_train,y_train)\n",
    "    print(\"train_score :\",train_score,\"test_score =\",test_score)\n",
    "    \n",
    "def LogRegressionOneHot(z,f,i):\n",
    "    test = z\n",
    "    test['quant'] = pd.qcut(test['Value'],q = i, duplicates = 'drop')\n",
    "    le = LabelEncoder()\n",
    "    y = le.fit_transform(test[\"quant\"])\n",
    "    one_hot = OneHotEncoder(categories=\"auto\")\n",
    "    if ('Measure' in f):\n",
    "        f.remove('Measure')\n",
    "        cat_to_onehot = one_hot.fit_transform(test[[\"Measure\"]]).toarray()\n",
    "        cat_to_onehot = pd.DataFrame(cat_to_onehot)\n",
    "        X = pd.concat((test[f],cat_to_onehot),axis=1)\n",
    "        logRegressionOneHot(X,y)\n",
    "    else :\n",
    "        X = test[f]\n",
    "        logRegressionOneHot(X,y)"
   ]
  },
  {
   "cell_type": "code",
   "execution_count": 139,
   "metadata": {
    "scrolled": true
   },
   "outputs": [
    {
     "name": "stdout",
     "output_type": "stream",
     "text": [
      "train_score : 0.4850770744506396 test_score = 0.47475409836065574\n"
     ]
    }
   ],
   "source": [
    "# Logistic regression on Zone1 with only Measure as feature and 5 categories(intervals) for y\n",
    "LogRegressionOneHot(Zone1,['Measure'],5)"
   ]
  },
  {
   "cell_type": "code",
   "execution_count": 140,
   "metadata": {},
   "outputs": [
    {
     "name": "stdout",
     "output_type": "stream",
     "text": [
      "train_score : 0.20137750081994096 test_score = 0.19672131147540983\n"
     ]
    }
   ],
   "source": [
    "LogRegressionOneHot(Zone1,['Port Code'],5)"
   ]
  },
  {
   "cell_type": "code",
   "execution_count": 141,
   "metadata": {},
   "outputs": [
    {
     "name": "stdout",
     "output_type": "stream",
     "text": [
      "train_score : 0.20137750081994096 test_score = 0.19672131147540983\n"
     ]
    }
   ],
   "source": [
    "LogRegressionOneHot(Zone1,['Year'],5)"
   ]
  },
  {
   "cell_type": "markdown",
   "metadata": {},
   "source": [
    "As we have 5 intervalls there is 1/5 = 0,2 to predict the right category.\n",
    "So Year and Port Code doesn't influence our dependant variable if taking alone"
   ]
  },
  {
   "cell_type": "code",
   "execution_count": 145,
   "metadata": {},
   "outputs": [
    {
     "name": "stdout",
     "output_type": "stream",
     "text": [
      "train_score : 0.5126270908494588 test_score = 0.5140983606557377\n"
     ]
    }
   ],
   "source": [
    "LogRegressionOneHot(Zone1,['Measure','Port Code','Month','Year'],5)"
   ]
  },
  {
   "cell_type": "code",
   "execution_count": 148,
   "metadata": {},
   "outputs": [
    {
     "name": "stdout",
     "output_type": "stream",
     "text": [
      "train_score : 0.9135782223679895 test_score = 0.9186885245901639\n",
      "train_score : 0.7702525418169892 test_score = 0.7645901639344262\n",
      "train_score : 0.6566087241718597 test_score = 0.6675409836065573\n",
      "train_score : 0.5126270908494588 test_score = 0.5140983606557377\n",
      "train_score : 0.6190554280091833 test_score = 0.6347540983606558\n",
      "train_score : 0.4178419153820925 test_score = 0.42360655737704916\n",
      "train_score : 0.3935716628402755 test_score = 0.39934426229508196\n",
      "train_score : 0.3633978353558544 test_score = 0.37245901639344264\n",
      "train_score : 0.3581502131846507 test_score = 0.3534426229508197\n",
      "train_score : 0.37143325680551 test_score = 0.3704918032786885\n",
      "train_score : 0.3273204329288291 test_score = 0.33704918032786885\n",
      "train_score : 0.33781567727123646 test_score = 0.3298360655737705\n",
      "train_score : 0.30649393243686457 test_score = 0.2957377049180328\n"
     ]
    }
   ],
   "source": [
    "x = 2\n",
    "while (x<15):\n",
    "    LogRegressionOneHot(Zone1,['Measure','Port Code','Month','Year'],x)\n",
    "    x = x + 1"
   ]
  },
  {
   "cell_type": "markdown",
   "metadata": {},
   "source": [
    "As we increase the number of categories for y, the test_score decrease :\n",
    "    There is less luck to predict the correct category."
   ]
  },
  {
   "cell_type": "code",
   "execution_count": null,
   "metadata": {},
   "outputs": [],
   "source": [
    "#The year doesn't influence much our dependant variable.\n",
    "#The main influencer is the the measure.\n",
    "#The low test_score could be due to the little sample : ≈ 7000\n",
    "#We will try to increase the samples with all the US-MEXICO COAST"
   ]
  },
  {
   "cell_type": "code",
   "execution_count": null,
   "metadata": {},
   "outputs": [],
   "source": [
    "#Try differents Zones \n",
    "#Try differents regressions\n",
    "#Try differents categories (more category with less samples in)\n",
    "#Compare models"
   ]
  }
 ],
 "metadata": {
  "kernelspec": {
   "display_name": "Python 3",
   "language": "python",
   "name": "python3"
  },
  "language_info": {
   "codemirror_mode": {
    "name": "ipython",
    "version": 3
   },
   "file_extension": ".py",
   "mimetype": "text/x-python",
   "name": "python",
   "nbconvert_exporter": "python",
   "pygments_lexer": "ipython3",
   "version": "3.7.3"
  }
 },
 "nbformat": 4,
 "nbformat_minor": 2
}
