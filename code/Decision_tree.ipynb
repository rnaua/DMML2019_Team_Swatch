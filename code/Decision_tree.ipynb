{
  "cells": [
    {
      "cell_type": "markdown",
      "source": [
        "## Decision tree\n",
        "\n",
        "-> see LAB 7.1"
      ],
      "metadata": {}
    },
    {
      "cell_type": "code",
      "source": [
        "import pandas as pd"
      ],
      "outputs": [],
      "execution_count": 186,
      "metadata": {
        "inputHidden": false,
        "outputHidden": false
      }
    },
    {
      "cell_type": "code",
      "source": [
        "df= pd.read_csv(\"../Data/DataWithLocationCleaned.csv.gz\")"
      ],
      "outputs": [],
      "execution_count": 187,
      "metadata": {
        "inputHidden": false,
        "outputHidden": false
      }
    },
    {
      "cell_type": "code",
      "source": [
        "import matplotlib.pyplot as plt\n",
        "%matplotlib inline\n",
        "import numpy as np\n",
        "import pandas as pd\n",
        "import seaborn as sns\n",
        "sns.set_style(\"darkgrid\")\n",
        "from sklearn.tree import DecisionTreeClassifier\n",
        "from sklearn.preprocessing import LabelEncoder, OneHotEncoder"
      ],
      "outputs": [],
      "execution_count": 188,
      "metadata": {
        "inputHidden": false,
        "outputHidden": false
      }
    },
    {
      "cell_type": "code",
      "source": [
        "df.head()"
      ],
      "outputs": [
        {
          "output_type": "execute_result",
          "execution_count": 189,
          "data": {
            "text/plain": [
              "  Port Name      State  Port Code            Border        Date  \\\n",
              "0   Warroad  Minnesota       3423  US-Canada Border  2019-06-01   \n",
              "1   Warroad  Minnesota       3423  US-Canada Border  2019-06-01   \n",
              "2   Warroad  Minnesota       3423  US-Canada Border  2019-06-01   \n",
              "3   Warroad  Minnesota       3423  US-Canada Border  2019-06-01   \n",
              "4   Warroad  Minnesota       3423  US-Canada Border  2019-06-01   \n",
              "\n",
              "                       Measure  Value  Year  Month                 position  \n",
              "0        Truck Containers Full    133  2019      6  (48.905266, -95.314404)  \n",
              "1       Truck Containers Empty    298  2019      6  (48.905266, -95.314404)  \n",
              "2            Personal Vehicles  10383  2019      6  (48.905266, -95.314404)  \n",
              "3  Personal Vehicle Passengers  19459  2019      6  (48.905266, -95.314404)  \n",
              "4                  Pedestrians      2  2019      6  (48.905266, -95.314404)  "
            ],
            "text/html": [
              "<div>\n",
              "<style scoped>\n",
              "    .dataframe tbody tr th:only-of-type {\n",
              "        vertical-align: middle;\n",
              "    }\n",
              "\n",
              "    .dataframe tbody tr th {\n",
              "        vertical-align: top;\n",
              "    }\n",
              "\n",
              "    .dataframe thead th {\n",
              "        text-align: right;\n",
              "    }\n",
              "</style>\n",
              "<table border=\"1\" class=\"dataframe\">\n",
              "  <thead>\n",
              "    <tr style=\"text-align: right;\">\n",
              "      <th></th>\n",
              "      <th>Port Name</th>\n",
              "      <th>State</th>\n",
              "      <th>Port Code</th>\n",
              "      <th>Border</th>\n",
              "      <th>Date</th>\n",
              "      <th>Measure</th>\n",
              "      <th>Value</th>\n",
              "      <th>Year</th>\n",
              "      <th>Month</th>\n",
              "      <th>position</th>\n",
              "    </tr>\n",
              "  </thead>\n",
              "  <tbody>\n",
              "    <tr>\n",
              "      <th>0</th>\n",
              "      <td>Warroad</td>\n",
              "      <td>Minnesota</td>\n",
              "      <td>3423</td>\n",
              "      <td>US-Canada Border</td>\n",
              "      <td>2019-06-01</td>\n",
              "      <td>Truck Containers Full</td>\n",
              "      <td>133</td>\n",
              "      <td>2019</td>\n",
              "      <td>6</td>\n",
              "      <td>(48.905266, -95.314404)</td>\n",
              "    </tr>\n",
              "    <tr>\n",
              "      <th>1</th>\n",
              "      <td>Warroad</td>\n",
              "      <td>Minnesota</td>\n",
              "      <td>3423</td>\n",
              "      <td>US-Canada Border</td>\n",
              "      <td>2019-06-01</td>\n",
              "      <td>Truck Containers Empty</td>\n",
              "      <td>298</td>\n",
              "      <td>2019</td>\n",
              "      <td>6</td>\n",
              "      <td>(48.905266, -95.314404)</td>\n",
              "    </tr>\n",
              "    <tr>\n",
              "      <th>2</th>\n",
              "      <td>Warroad</td>\n",
              "      <td>Minnesota</td>\n",
              "      <td>3423</td>\n",
              "      <td>US-Canada Border</td>\n",
              "      <td>2019-06-01</td>\n",
              "      <td>Personal Vehicles</td>\n",
              "      <td>10383</td>\n",
              "      <td>2019</td>\n",
              "      <td>6</td>\n",
              "      <td>(48.905266, -95.314404)</td>\n",
              "    </tr>\n",
              "    <tr>\n",
              "      <th>3</th>\n",
              "      <td>Warroad</td>\n",
              "      <td>Minnesota</td>\n",
              "      <td>3423</td>\n",
              "      <td>US-Canada Border</td>\n",
              "      <td>2019-06-01</td>\n",
              "      <td>Personal Vehicle Passengers</td>\n",
              "      <td>19459</td>\n",
              "      <td>2019</td>\n",
              "      <td>6</td>\n",
              "      <td>(48.905266, -95.314404)</td>\n",
              "    </tr>\n",
              "    <tr>\n",
              "      <th>4</th>\n",
              "      <td>Warroad</td>\n",
              "      <td>Minnesota</td>\n",
              "      <td>3423</td>\n",
              "      <td>US-Canada Border</td>\n",
              "      <td>2019-06-01</td>\n",
              "      <td>Pedestrians</td>\n",
              "      <td>2</td>\n",
              "      <td>2019</td>\n",
              "      <td>6</td>\n",
              "      <td>(48.905266, -95.314404)</td>\n",
              "    </tr>\n",
              "  </tbody>\n",
              "</table>\n",
              "</div>"
            ]
          },
          "metadata": {}
        }
      ],
      "execution_count": 189,
      "metadata": {
        "inputHidden": false,
        "outputHidden": false
      }
    },
    {
      "cell_type": "code",
      "source": [
        "# checking types\n",
        "df.dtypes"
      ],
      "outputs": [
        {
          "output_type": "execute_result",
          "execution_count": 190,
          "data": {
            "text/plain": [
              "Port Name    object\n",
              "State        object\n",
              "Port Code     int64\n",
              "Border       object\n",
              "Date         object\n",
              "Measure      object\n",
              "Value         int64\n",
              "Year          int64\n",
              "Month         int64\n",
              "position     object\n",
              "dtype: object"
            ]
          },
          "metadata": {}
        }
      ],
      "execution_count": 190,
      "metadata": {
        "inputHidden": false,
        "outputHidden": false
      }
    },
    {
      "cell_type": "code",
      "source": [
        "# correct types and add columns longitude/latitude cleaned\n",
        "df['Date'] = pd.to_datetime(df['Date'])\n",
        "df.dtypes\n"
      ],
      "outputs": [
        {
          "output_type": "execute_result",
          "execution_count": 191,
          "data": {
            "text/plain": [
              "Port Name            object\n",
              "State                object\n",
              "Port Code             int64\n",
              "Border               object\n",
              "Date         datetime64[ns]\n",
              "Measure              object\n",
              "Value                 int64\n",
              "Year                  int64\n",
              "Month                 int64\n",
              "position             object\n",
              "dtype: object"
            ]
          },
          "metadata": {}
        }
      ],
      "execution_count": 191,
      "metadata": {
        "inputHidden": false,
        "outputHidden": false
      }
    },
    {
      "cell_type": "code",
      "source": [
        "df = df[df['Measure'].isin(['Bus Passengers','Pedestrians','Personal Vehicle Passengers','Train Passengers'])]\n",
        "df = df.reset_index(drop=True)\n",
        "df.shape\n"
      ],
      "outputs": [
        {
          "output_type": "execute_result",
          "execution_count": 192,
          "data": {
            "text/plain": [
              "(116131, 10)"
            ]
          },
          "metadata": {}
        }
      ],
      "execution_count": 192,
      "metadata": {
        "inputHidden": false,
        "outputHidden": false
      }
    },
    {
      "cell_type": "code",
      "source": [
        "df.groupby(['Port Name']).sum().sort_values(['Value'],ascending=False).head()\n",
        "\n"
      ],
      "outputs": [
        {
          "output_type": "execute_result",
          "execution_count": 193,
          "data": {
            "text/plain": [
              "            Port Code      Value     Year  Month\n",
              "Port Name                                       \n",
              "San Ysidro    2736872  820753587  2193570   7033\n",
              "El Paso       2709456  813405376  2264184   7260\n",
              "Laredo        2518272  435119695  2193570   7033\n",
              "Hidalgo       2519365  406092835  2193570   7033\n",
              "Calexico      2648174  401463611  2122956   6806"
            ],
            "text/html": [
              "<div>\n",
              "<style scoped>\n",
              "    .dataframe tbody tr th:only-of-type {\n",
              "        vertical-align: middle;\n",
              "    }\n",
              "\n",
              "    .dataframe tbody tr th {\n",
              "        vertical-align: top;\n",
              "    }\n",
              "\n",
              "    .dataframe thead th {\n",
              "        text-align: right;\n",
              "    }\n",
              "</style>\n",
              "<table border=\"1\" class=\"dataframe\">\n",
              "  <thead>\n",
              "    <tr style=\"text-align: right;\">\n",
              "      <th></th>\n",
              "      <th>Port Code</th>\n",
              "      <th>Value</th>\n",
              "      <th>Year</th>\n",
              "      <th>Month</th>\n",
              "    </tr>\n",
              "    <tr>\n",
              "      <th>Port Name</th>\n",
              "      <th></th>\n",
              "      <th></th>\n",
              "      <th></th>\n",
              "      <th></th>\n",
              "    </tr>\n",
              "  </thead>\n",
              "  <tbody>\n",
              "    <tr>\n",
              "      <th>San Ysidro</th>\n",
              "      <td>2736872</td>\n",
              "      <td>820753587</td>\n",
              "      <td>2193570</td>\n",
              "      <td>7033</td>\n",
              "    </tr>\n",
              "    <tr>\n",
              "      <th>El Paso</th>\n",
              "      <td>2709456</td>\n",
              "      <td>813405376</td>\n",
              "      <td>2264184</td>\n",
              "      <td>7260</td>\n",
              "    </tr>\n",
              "    <tr>\n",
              "      <th>Laredo</th>\n",
              "      <td>2518272</td>\n",
              "      <td>435119695</td>\n",
              "      <td>2193570</td>\n",
              "      <td>7033</td>\n",
              "    </tr>\n",
              "    <tr>\n",
              "      <th>Hidalgo</th>\n",
              "      <td>2519365</td>\n",
              "      <td>406092835</td>\n",
              "      <td>2193570</td>\n",
              "      <td>7033</td>\n",
              "    </tr>\n",
              "    <tr>\n",
              "      <th>Calexico</th>\n",
              "      <td>2648174</td>\n",
              "      <td>401463611</td>\n",
              "      <td>2122956</td>\n",
              "      <td>6806</td>\n",
              "    </tr>\n",
              "  </tbody>\n",
              "</table>\n",
              "</div>"
            ]
          },
          "metadata": {}
        }
      ],
      "execution_count": 193,
      "metadata": {
        "inputHidden": false,
        "outputHidden": false
      }
    },
    {
      "cell_type": "code",
      "source": [
        "df.shape"
      ],
      "outputs": [
        {
          "output_type": "execute_result",
          "execution_count": 194,
          "data": {
            "text/plain": [
              "(116131, 10)"
            ]
          },
          "metadata": {}
        }
      ],
      "execution_count": 194,
      "metadata": {
        "inputHidden": false,
        "outputHidden": false
      }
    },
    {
      "cell_type": "code",
      "source": [
        " df.isnull().sum()"
      ],
      "outputs": [
        {
          "output_type": "execute_result",
          "execution_count": 195,
          "data": {
            "text/plain": [
              "Port Name    0\n",
              "State        0\n",
              "Port Code    0\n",
              "Border       0\n",
              "Date         0\n",
              "Measure      0\n",
              "Value        0\n",
              "Year         0\n",
              "Month        0\n",
              "position     0\n",
              "dtype: int64"
            ]
          },
          "metadata": {}
        }
      ],
      "execution_count": 195,
      "metadata": {
        "inputHidden": false,
        "outputHidden": false
      }
    },
    {
      "cell_type": "code",
      "source": [
        "# check values...\n",
        "df['Value'].describe()"
      ],
      "outputs": [
        {
          "output_type": "execute_result",
          "execution_count": 196,
          "data": {
            "text/plain": [
              "count    1.161310e+05\n",
              "mean     5.778344e+04\n",
              "std      2.366958e+05\n",
              "min      0.000000e+00\n",
              "25%      0.000000e+00\n",
              "50%      1.560000e+02\n",
              "75%      6.943000e+03\n",
              "max      4.447374e+06\n",
              "Name: Value, dtype: float64"
            ]
          },
          "metadata": {}
        }
      ],
      "execution_count": 196,
      "metadata": {
        "inputHidden": false,
        "outputHidden": false
      }
    },
    {
      "cell_type": "code",
      "source": [
        "total = df.copy()"
      ],
      "outputs": [],
      "execution_count": 197,
      "metadata": {}
    },
    {
      "cell_type": "code",
      "source": [
        "#df['Value category'], bins = pd.cut(df.Value, retbins = True, right=False, labels = False, bins = 8)"
      ],
      "outputs": [],
      "execution_count": 198,
      "metadata": {
        "inputHidden": false,
        "outputHidden": false
      }
    },
    {
      "cell_type": "code",
      "source": [
        "total['quant'] = pd.qcut(df['Value'],q = 8, duplicates = 'drop')\n",
        "print(\"intervalls for y:\")\n",
        "print(total['quant'].value_counts())\n",
        "print()\n",
        "le = LabelEncoder()\n",
        "total['y'] = le.fit_transform(total[\"quant\"])"
      ],
      "outputs": [
        {
          "output_type": "stream",
          "name": "stdout",
          "text": [
            "intervalls for y:\n",
            "(-0.001, 11.0]          43673\n",
            "(62918.0, 4447374.0]    14516\n",
            "(6943.0, 62918.0]       14516\n",
            "(1193.0, 6943.0]        14516\n",
            "(156.0, 1193.0]         14503\n",
            "(11.0, 156.0]           14407\n",
            "Name: quant, dtype: int64\n",
            "\n"
          ]
        }
      ],
      "execution_count": 199,
      "metadata": {}
    },
    {
      "cell_type": "code",
      "source": [
        "#other option to get balanced classes by removing half of the observation in first interval\n",
        "#total = total.drop(total[total['y'] == 0].sample(frac=.67).index)"
      ],
      "outputs": [],
      "execution_count": 200,
      "metadata": {
        "inputHidden": false,
        "outputHidden": false
      }
    },
    {
      "cell_type": "code",
      "source": [
        "#total.shape"
      ],
      "outputs": [],
      "execution_count": 201,
      "metadata": {
        "collapsed": false,
        "outputHidden": false,
        "inputHidden": false
      }
    },
    {
      "cell_type": "code",
      "source": [
        "total['quant'].value_counts()"
      ],
      "outputs": [
        {
          "output_type": "execute_result",
          "execution_count": 202,
          "data": {
            "text/plain": [
              "(-0.001, 11.0]          43673\n",
              "(62918.0, 4447374.0]    14516\n",
              "(6943.0, 62918.0]       14516\n",
              "(1193.0, 6943.0]        14516\n",
              "(156.0, 1193.0]         14503\n",
              "(11.0, 156.0]           14407\n",
              "Name: quant, dtype: int64"
            ]
          },
          "metadata": {}
        }
      ],
      "execution_count": 202,
      "metadata": {
        "collapsed": false,
        "outputHidden": false,
        "inputHidden": false
      }
    },
    {
      "cell_type": "code",
      "source": [
        "# check categories...\n",
        "total.sort_values(['Value'],ascending=False).head()"
      ],
      "outputs": [
        {
          "output_type": "execute_result",
          "execution_count": 203,
          "data": {
            "text/plain": [
              "      Port Name  State  Port Code            Border       Date  \\\n",
              "90369   El Paso  Texas       2402  US-Mexico Border 2001-03-01   \n",
              "93325   El Paso  Texas       2402  US-Mexico Border 2000-08-01   \n",
              "90890   El Paso  Texas       2402  US-Mexico Border 2001-02-01   \n",
              "90034   El Paso  Texas       2402  US-Mexico Border 2001-04-01   \n",
              "93966   El Paso  Texas       2402  US-Mexico Border 2000-06-01   \n",
              "\n",
              "                           Measure    Value  Year  Month  \\\n",
              "90369  Personal Vehicle Passengers  4447374  2001      3   \n",
              "93325  Personal Vehicle Passengers  4291774  2000      8   \n",
              "90890  Personal Vehicle Passengers  4281175  2001      2   \n",
              "90034  Personal Vehicle Passengers  4252128  2001      4   \n",
              "93966  Personal Vehicle Passengers  4235244  2000      6   \n",
              "\n",
              "                        position                 quant  y  \n",
              "90369  (31.7600372, -106.487287)  (62918.0, 4447374.0]  5  \n",
              "93325  (31.7600372, -106.487287)  (62918.0, 4447374.0]  5  \n",
              "90890  (31.7600372, -106.487287)  (62918.0, 4447374.0]  5  \n",
              "90034  (31.7600372, -106.487287)  (62918.0, 4447374.0]  5  \n",
              "93966  (31.7600372, -106.487287)  (62918.0, 4447374.0]  5  "
            ],
            "text/html": [
              "<div>\n",
              "<style scoped>\n",
              "    .dataframe tbody tr th:only-of-type {\n",
              "        vertical-align: middle;\n",
              "    }\n",
              "\n",
              "    .dataframe tbody tr th {\n",
              "        vertical-align: top;\n",
              "    }\n",
              "\n",
              "    .dataframe thead th {\n",
              "        text-align: right;\n",
              "    }\n",
              "</style>\n",
              "<table border=\"1\" class=\"dataframe\">\n",
              "  <thead>\n",
              "    <tr style=\"text-align: right;\">\n",
              "      <th></th>\n",
              "      <th>Port Name</th>\n",
              "      <th>State</th>\n",
              "      <th>Port Code</th>\n",
              "      <th>Border</th>\n",
              "      <th>Date</th>\n",
              "      <th>Measure</th>\n",
              "      <th>Value</th>\n",
              "      <th>Year</th>\n",
              "      <th>Month</th>\n",
              "      <th>position</th>\n",
              "      <th>quant</th>\n",
              "      <th>y</th>\n",
              "    </tr>\n",
              "  </thead>\n",
              "  <tbody>\n",
              "    <tr>\n",
              "      <th>90369</th>\n",
              "      <td>El Paso</td>\n",
              "      <td>Texas</td>\n",
              "      <td>2402</td>\n",
              "      <td>US-Mexico Border</td>\n",
              "      <td>2001-03-01</td>\n",
              "      <td>Personal Vehicle Passengers</td>\n",
              "      <td>4447374</td>\n",
              "      <td>2001</td>\n",
              "      <td>3</td>\n",
              "      <td>(31.7600372, -106.487287)</td>\n",
              "      <td>(62918.0, 4447374.0]</td>\n",
              "      <td>5</td>\n",
              "    </tr>\n",
              "    <tr>\n",
              "      <th>93325</th>\n",
              "      <td>El Paso</td>\n",
              "      <td>Texas</td>\n",
              "      <td>2402</td>\n",
              "      <td>US-Mexico Border</td>\n",
              "      <td>2000-08-01</td>\n",
              "      <td>Personal Vehicle Passengers</td>\n",
              "      <td>4291774</td>\n",
              "      <td>2000</td>\n",
              "      <td>8</td>\n",
              "      <td>(31.7600372, -106.487287)</td>\n",
              "      <td>(62918.0, 4447374.0]</td>\n",
              "      <td>5</td>\n",
              "    </tr>\n",
              "    <tr>\n",
              "      <th>90890</th>\n",
              "      <td>El Paso</td>\n",
              "      <td>Texas</td>\n",
              "      <td>2402</td>\n",
              "      <td>US-Mexico Border</td>\n",
              "      <td>2001-02-01</td>\n",
              "      <td>Personal Vehicle Passengers</td>\n",
              "      <td>4281175</td>\n",
              "      <td>2001</td>\n",
              "      <td>2</td>\n",
              "      <td>(31.7600372, -106.487287)</td>\n",
              "      <td>(62918.0, 4447374.0]</td>\n",
              "      <td>5</td>\n",
              "    </tr>\n",
              "    <tr>\n",
              "      <th>90034</th>\n",
              "      <td>El Paso</td>\n",
              "      <td>Texas</td>\n",
              "      <td>2402</td>\n",
              "      <td>US-Mexico Border</td>\n",
              "      <td>2001-04-01</td>\n",
              "      <td>Personal Vehicle Passengers</td>\n",
              "      <td>4252128</td>\n",
              "      <td>2001</td>\n",
              "      <td>4</td>\n",
              "      <td>(31.7600372, -106.487287)</td>\n",
              "      <td>(62918.0, 4447374.0]</td>\n",
              "      <td>5</td>\n",
              "    </tr>\n",
              "    <tr>\n",
              "      <th>93966</th>\n",
              "      <td>El Paso</td>\n",
              "      <td>Texas</td>\n",
              "      <td>2402</td>\n",
              "      <td>US-Mexico Border</td>\n",
              "      <td>2000-06-01</td>\n",
              "      <td>Personal Vehicle Passengers</td>\n",
              "      <td>4235244</td>\n",
              "      <td>2000</td>\n",
              "      <td>6</td>\n",
              "      <td>(31.7600372, -106.487287)</td>\n",
              "      <td>(62918.0, 4447374.0]</td>\n",
              "      <td>5</td>\n",
              "    </tr>\n",
              "  </tbody>\n",
              "</table>\n",
              "</div>"
            ]
          },
          "metadata": {}
        }
      ],
      "execution_count": 203,
      "metadata": {
        "inputHidden": false,
        "outputHidden": false
      }
    },
    {
      "cell_type": "code",
      "source": [
        "total['y'].value_counts()"
      ],
      "outputs": [
        {
          "output_type": "execute_result",
          "execution_count": 204,
          "data": {
            "text/plain": [
              "0    43673\n",
              "5    14516\n",
              "4    14516\n",
              "3    14516\n",
              "2    14503\n",
              "1    14407\n",
              "Name: y, dtype: int64"
            ]
          },
          "metadata": {}
        }
      ],
      "execution_count": 204,
      "metadata": {
        "inputHidden": false,
        "outputHidden": false
      }
    },
    {
      "cell_type": "code",
      "source": [
        "ports = df['Port Name'].unique()\n",
        "goods = []\n",
        "for port in ports:\n",
        "    if (df[(df['Port Name'] == port) &(df['Value'] != 0)].shape[0]>1100):\n",
        "        goods.append(port)\n",
        "print(\"number of ports : \",len(goods))\n",
        "print(\"port names: \", goods)\n",
        "print(\"number of observations  \",df[df['Port Name'].isin(goods)].shape[0])\n"
      ],
      "outputs": [
        {
          "output_type": "stream",
          "name": "stdout",
          "text": [
            "number of ports :  9\n",
            "port names:  ['Sumas', 'Champlain-Rouses Point', 'Buffalo-Niagara Falls', 'Portal', 'International Falls-Ranier', 'Otay Mesa', 'Eastport_ID', 'Jackman', 'Sweetgrass']\n",
            "number of observations   10147\n"
          ]
        }
      ],
      "execution_count": 205,
      "metadata": {
        "inputHidden": false,
        "outputHidden": false
      }
    },
    {
      "cell_type": "markdown",
      "source": [
        "Il faut Recréer des intervalles après avoir séléctionner les bons ports."
      ],
      "metadata": {}
    },
    {
      "cell_type": "code",
      "source": [
        "goodDT = df[df['Port Name'].isin(goods)].reset_index(drop=True)\n",
        "#df[df['Port Name'].isin(goods)]['Value'].hist(range=[0,500])\n",
        "goodDT.shape"
      ],
      "outputs": [
        {
          "output_type": "execute_result",
          "execution_count": 206,
          "data": {
            "text/plain": [
              "(10147, 10)"
            ]
          },
          "metadata": {}
        }
      ],
      "execution_count": 206,
      "metadata": {
        "inputHidden": false,
        "outputHidden": false
      }
    },
    {
      "cell_type": "code",
      "source": [
        "goodDT['quant'] = pd.qcut(goodDT['Value'],q = 8, duplicates = 'drop')\n",
        "print(\"intervalls for y:\")\n",
        "print(goodDT['quant'].value_counts())\n",
        "print()\n",
        "le = LabelEncoder()\n",
        "goodDT['y'] = le.fit_transform(goodDT[\"quant\"])"
      ],
      "outputs": [
        {
          "output_type": "stream",
          "name": "stdout",
          "text": [
            "intervalls for y:\n",
            "(104.0, 250.0]            1274\n",
            "(-0.001, 104.0]           1271\n",
            "(126679.25, 2523598.0]    1269\n",
            "(31294.5, 126679.25]      1268\n",
            "(8321.75, 31294.5]        1268\n",
            "(1756.0, 8321.75]         1268\n",
            "(600.0, 1756.0]           1265\n",
            "(250.0, 600.0]            1264\n",
            "Name: quant, dtype: int64\n",
            "\n"
          ]
        }
      ],
      "execution_count": 207,
      "metadata": {}
    },
    {
      "cell_type": "code",
      "source": [
        "goodDT['y'].value_counts()"
      ],
      "outputs": [
        {
          "output_type": "execute_result",
          "execution_count": 208,
          "data": {
            "text/plain": [
              "1    1274\n",
              "0    1271\n",
              "7    1269\n",
              "6    1268\n",
              "5    1268\n",
              "4    1268\n",
              "3    1265\n",
              "2    1264\n",
              "Name: y, dtype: int64"
            ]
          },
          "metadata": {}
        }
      ],
      "execution_count": 208,
      "metadata": {
        "inputHidden": false,
        "outputHidden": false
      }
    },
    {
      "cell_type": "code",
      "source": [
        "#df['Value in millions'] = (df['Value']/1000000).apply(lambda x: '{:,.2f}'.format(x))"
      ],
      "outputs": [],
      "execution_count": 209,
      "metadata": {
        "inputHidden": false,
        "outputHidden": false
      }
    },
    {
      "cell_type": "code",
      "source": [
        "#features but possibly add lat, long, measure\n",
        "X = goodDT[[\"Year\",\"Month\", \"Port Code\"]]\n",
        "y = goodDT[\"y\"]\n",
        "X.shape"
      ],
      "outputs": [
        {
          "output_type": "execute_result",
          "execution_count": 210,
          "data": {
            "text/plain": [
              "(10147, 3)"
            ]
          },
          "metadata": {}
        }
      ],
      "execution_count": 210,
      "metadata": {
        "inputHidden": false,
        "outputHidden": false
      }
    },
    {
      "cell_type": "code",
      "source": [
        "X.isnull().sum()"
      ],
      "outputs": [
        {
          "output_type": "execute_result",
          "execution_count": 211,
          "data": {
            "text/plain": [
              "Year         0\n",
              "Month        0\n",
              "Port Code    0\n",
              "dtype: int64"
            ]
          },
          "metadata": {}
        }
      ],
      "execution_count": 211,
      "metadata": {
        "inputHidden": false,
        "outputHidden": false
      }
    },
    {
      "cell_type": "code",
      "source": [
        "X.head()"
      ],
      "outputs": [
        {
          "output_type": "execute_result",
          "execution_count": 212,
          "data": {
            "text/plain": [
              "   Year  Month  Port Code\n",
              "0  2019      6       3009\n",
              "1  2019      6       3009\n",
              "2  2019      6       3009\n",
              "3  2019      6       3009\n",
              "4  2019      6        712"
            ],
            "text/html": [
              "<div>\n",
              "<style scoped>\n",
              "    .dataframe tbody tr th:only-of-type {\n",
              "        vertical-align: middle;\n",
              "    }\n",
              "\n",
              "    .dataframe tbody tr th {\n",
              "        vertical-align: top;\n",
              "    }\n",
              "\n",
              "    .dataframe thead th {\n",
              "        text-align: right;\n",
              "    }\n",
              "</style>\n",
              "<table border=\"1\" class=\"dataframe\">\n",
              "  <thead>\n",
              "    <tr style=\"text-align: right;\">\n",
              "      <th></th>\n",
              "      <th>Year</th>\n",
              "      <th>Month</th>\n",
              "      <th>Port Code</th>\n",
              "    </tr>\n",
              "  </thead>\n",
              "  <tbody>\n",
              "    <tr>\n",
              "      <th>0</th>\n",
              "      <td>2019</td>\n",
              "      <td>6</td>\n",
              "      <td>3009</td>\n",
              "    </tr>\n",
              "    <tr>\n",
              "      <th>1</th>\n",
              "      <td>2019</td>\n",
              "      <td>6</td>\n",
              "      <td>3009</td>\n",
              "    </tr>\n",
              "    <tr>\n",
              "      <th>2</th>\n",
              "      <td>2019</td>\n",
              "      <td>6</td>\n",
              "      <td>3009</td>\n",
              "    </tr>\n",
              "    <tr>\n",
              "      <th>3</th>\n",
              "      <td>2019</td>\n",
              "      <td>6</td>\n",
              "      <td>3009</td>\n",
              "    </tr>\n",
              "    <tr>\n",
              "      <th>4</th>\n",
              "      <td>2019</td>\n",
              "      <td>6</td>\n",
              "      <td>712</td>\n",
              "    </tr>\n",
              "  </tbody>\n",
              "</table>\n",
              "</div>"
            ]
          },
          "metadata": {}
        }
      ],
      "execution_count": 212,
      "metadata": {
        "inputHidden": false,
        "outputHidden": false
      }
    },
    {
      "cell_type": "code",
      "source": [
        "y = y.astype('int')\n",
        "y.head()\n"
      ],
      "outputs": [
        {
          "output_type": "execute_result",
          "execution_count": 213,
          "data": {
            "text/plain": [
              "0    0\n",
              "1    7\n",
              "2    4\n",
              "3    2\n",
              "4    4\n",
              "Name: y, dtype: int64"
            ]
          },
          "metadata": {}
        }
      ],
      "execution_count": 213,
      "metadata": {
        "inputHidden": false,
        "outputHidden": false
      }
    },
    {
      "cell_type": "code",
      "source": [
        "# one-hot encoding for Border\n",
        "one_hot = OneHotEncoder(categories=\"auto\")\n",
        "cat_to_onehot = one_hot.fit_transform(goodDT[[\"Border\"]]).toarray()\n",
        "cat_to_onehot = pd.DataFrame(cat_to_onehot)\n",
        "cat_to_onehot.shape"
      ],
      "outputs": [
        {
          "output_type": "execute_result",
          "execution_count": 214,
          "data": {
            "text/plain": [
              "(10147, 2)"
            ]
          },
          "metadata": {}
        }
      ],
      "execution_count": 214,
      "metadata": {
        "inputHidden": false,
        "outputHidden": false
      }
    },
    {
      "cell_type": "code",
      "source": [
        "X = pd.concat((X, cat_to_onehot), axis=1, join='inner').reindex(goodDT.index)\n",
        "\n",
        "X.shape"
      ],
      "outputs": [
        {
          "output_type": "execute_result",
          "execution_count": 215,
          "data": {
            "text/plain": [
              "(10147, 5)"
            ]
          },
          "metadata": {}
        }
      ],
      "execution_count": 215,
      "metadata": {
        "inputHidden": false,
        "outputHidden": false
      }
    },
    {
      "cell_type": "code",
      "source": [
        "X.isnull().sum()"
      ],
      "outputs": [
        {
          "output_type": "execute_result",
          "execution_count": 216,
          "data": {
            "text/plain": [
              "Year         0\n",
              "Month        0\n",
              "Port Code    0\n",
              "0            0\n",
              "1            0\n",
              "dtype: int64"
            ]
          },
          "metadata": {}
        }
      ],
      "execution_count": 216,
      "metadata": {
        "inputHidden": false,
        "outputHidden": false
      }
    },
    {
      "cell_type": "code",
      "source": [
        "X = X.rename(columns={0: \"Canada Border\", 1: \"Mexico Border\"})\n",
        "X.head()\n"
      ],
      "outputs": [
        {
          "output_type": "execute_result",
          "execution_count": 217,
          "data": {
            "text/plain": [
              "   Year  Month  Port Code  Canada Border  Mexico Border\n",
              "0  2019      6       3009            1.0            0.0\n",
              "1  2019      6       3009            1.0            0.0\n",
              "2  2019      6       3009            1.0            0.0\n",
              "3  2019      6       3009            1.0            0.0\n",
              "4  2019      6        712            1.0            0.0"
            ],
            "text/html": [
              "<div>\n",
              "<style scoped>\n",
              "    .dataframe tbody tr th:only-of-type {\n",
              "        vertical-align: middle;\n",
              "    }\n",
              "\n",
              "    .dataframe tbody tr th {\n",
              "        vertical-align: top;\n",
              "    }\n",
              "\n",
              "    .dataframe thead th {\n",
              "        text-align: right;\n",
              "    }\n",
              "</style>\n",
              "<table border=\"1\" class=\"dataframe\">\n",
              "  <thead>\n",
              "    <tr style=\"text-align: right;\">\n",
              "      <th></th>\n",
              "      <th>Year</th>\n",
              "      <th>Month</th>\n",
              "      <th>Port Code</th>\n",
              "      <th>Canada Border</th>\n",
              "      <th>Mexico Border</th>\n",
              "    </tr>\n",
              "  </thead>\n",
              "  <tbody>\n",
              "    <tr>\n",
              "      <th>0</th>\n",
              "      <td>2019</td>\n",
              "      <td>6</td>\n",
              "      <td>3009</td>\n",
              "      <td>1.0</td>\n",
              "      <td>0.0</td>\n",
              "    </tr>\n",
              "    <tr>\n",
              "      <th>1</th>\n",
              "      <td>2019</td>\n",
              "      <td>6</td>\n",
              "      <td>3009</td>\n",
              "      <td>1.0</td>\n",
              "      <td>0.0</td>\n",
              "    </tr>\n",
              "    <tr>\n",
              "      <th>2</th>\n",
              "      <td>2019</td>\n",
              "      <td>6</td>\n",
              "      <td>3009</td>\n",
              "      <td>1.0</td>\n",
              "      <td>0.0</td>\n",
              "    </tr>\n",
              "    <tr>\n",
              "      <th>3</th>\n",
              "      <td>2019</td>\n",
              "      <td>6</td>\n",
              "      <td>3009</td>\n",
              "      <td>1.0</td>\n",
              "      <td>0.0</td>\n",
              "    </tr>\n",
              "    <tr>\n",
              "      <th>4</th>\n",
              "      <td>2019</td>\n",
              "      <td>6</td>\n",
              "      <td>712</td>\n",
              "      <td>1.0</td>\n",
              "      <td>0.0</td>\n",
              "    </tr>\n",
              "  </tbody>\n",
              "</table>\n",
              "</div>"
            ]
          },
          "metadata": {}
        }
      ],
      "execution_count": 217,
      "metadata": {
        "inputHidden": false,
        "outputHidden": false
      }
    },
    {
      "cell_type": "code",
      "source": [
        "from sklearn.model_selection import train_test_split\n",
        "X_train, X_test, y_train, y_test = train_test_split(X, y, test_size=0.2, random_state=72)"
      ],
      "outputs": [],
      "execution_count": 218,
      "metadata": {
        "inputHidden": false,
        "outputHidden": false
      }
    },
    {
      "cell_type": "code",
      "source": [
        "clf = DecisionTreeClassifier(criterion='entropy')"
      ],
      "outputs": [],
      "execution_count": 219,
      "metadata": {
        "inputHidden": false,
        "outputHidden": false
      }
    },
    {
      "cell_type": "code",
      "source": [
        "clf.fit(X_train, y_train)"
      ],
      "outputs": [
        {
          "output_type": "execute_result",
          "execution_count": 220,
          "data": {
            "text/plain": [
              "DecisionTreeClassifier(class_weight=None, criterion='entropy', max_depth=None,\n",
              "                       max_features=None, max_leaf_nodes=None,\n",
              "                       min_impurity_decrease=0.0, min_impurity_split=None,\n",
              "                       min_samples_leaf=1, min_samples_split=2,\n",
              "                       min_weight_fraction_leaf=0.0, presort=False,\n",
              "                       random_state=None, splitter='best')"
            ]
          },
          "metadata": {}
        }
      ],
      "execution_count": 220,
      "metadata": {
        "inputHidden": false,
        "outputHidden": false
      }
    },
    {
      "cell_type": "code",
      "source": [
        "# test accuracy\n",
        "clf.score(X_test,y_test)"
      ],
      "outputs": [
        {
          "output_type": "execute_result",
          "execution_count": 221,
          "data": {
            "text/plain": [
              "0.170935960591133"
            ]
          },
          "metadata": {}
        }
      ],
      "execution_count": 221,
      "metadata": {
        "inputHidden": false,
        "outputHidden": false
      }
    },
    {
      "cell_type": "code",
      "source": [
        "# depth of the decision tree\n",
        "clf.get_depth()"
      ],
      "outputs": [
        {
          "output_type": "execute_result",
          "execution_count": 222,
          "data": {
            "text/plain": [
              "20"
            ]
          },
          "metadata": {}
        }
      ],
      "execution_count": 222,
      "metadata": {
        "inputHidden": false,
        "outputHidden": false
      }
    },
    {
      "cell_type": "markdown",
      "source": [
        "Tuning depth of the tree:"
      ],
      "metadata": {}
    },
    {
      "cell_type": "code",
      "source": [
        "scores = []\n",
        "for d in range(1, 21):\n",
        "    clf = DecisionTreeClassifier(criterion='entropy', max_depth=d)\n",
        "    clf.fit(X_train, y_train)\n",
        "    scores.append(clf.score(X_test, y_test))"
      ],
      "outputs": [],
      "execution_count": 223,
      "metadata": {
        "inputHidden": false,
        "outputHidden": false
      }
    },
    {
      "cell_type": "code",
      "source": [
        "plt.plot(scores)\n",
        "plt.ylabel('accuracy', fontsize=15)\n",
        "plt.xlabel('depth', fontsize=15)"
      ],
      "outputs": [
        {
          "output_type": "execute_result",
          "execution_count": 224,
          "data": {
            "text/plain": [
              "Text(0.5, 0, 'depth')"
            ]
          },
          "metadata": {}
        },
        {
          "output_type": "display_data",
          "data": {
            "text/plain": [
              "<Figure size 432x288 with 1 Axes>"
            ],
            "image/png": "[encoded data removed]"
          },
          "metadata": {}
        }
      ],
      "execution_count": 224,
      "metadata": {
        "inputHidden": false,
        "outputHidden": false
      }
    },
    {
      "cell_type": "code",
      "source": [
        "# best depth\n",
        "np.argmax(scores)"
      ],
      "outputs": [
        {
          "output_type": "execute_result",
          "execution_count": 225,
          "data": {
            "text/plain": [
              "3"
            ]
          },
          "metadata": {}
        }
      ],
      "execution_count": 225,
      "metadata": {
        "inputHidden": false,
        "outputHidden": false
      }
    },
    {
      "cell_type": "markdown",
      "source": [
        "Feature importance"
      ],
      "metadata": {}
    },
    {
      "cell_type": "code",
      "source": [
        "# feature importances for best classifier\n",
        "clf = DecisionTreeClassifier(criterion='entropy', max_depth=4)\n",
        "clf.fit(X_train, y_train)\n",
        "clf.feature_importances_"
      ],
      "outputs": [
        {
          "output_type": "execute_result",
          "execution_count": 226,
          "data": {
            "text/plain": [
              "array([0.07315489, 0.01937658, 0.82119523, 0.        , 0.0862733 ])"
            ]
          },
          "metadata": {}
        }
      ],
      "execution_count": 226,
      "metadata": {
        "inputHidden": false,
        "outputHidden": false
      }
    },
    {
      "cell_type": "code",
      "source": [
        "sorted(zip(X_train.columns, clf.feature_importances_), key=lambda x: x[1], reverse=True)"
      ],
      "outputs": [
        {
          "output_type": "execute_result",
          "execution_count": 227,
          "data": {
            "text/plain": [
              "[('Port Code', 0.8211952279698288),\n",
              " ('Mexico Border', 0.08627330116334954),\n",
              " ('Year', 0.0731548912786358),\n",
              " ('Month', 0.019376579588185828),\n",
              " ('Canada Border', 0.0)]"
            ]
          },
          "metadata": {}
        }
      ],
      "execution_count": 227,
      "metadata": {
        "inputHidden": false,
        "outputHidden": false
      }
    },
    {
      "cell_type": "markdown",
      "source": [
        "Visualizing the decision tree"
      ],
      "metadata": {}
    },
    {
      "cell_type": "code",
      "source": [
        "!pip install pydotplus\n",
        "!pip install graphviz"
      ],
      "outputs": [
        {
          "output_type": "stream",
          "name": "stdout",
          "text": [
            "Collecting pydotplus\n",
            "\u001b[?25l  Downloading https://files.pythonhosted.org/packages/60/bf/62567830b700d9f6930e9ab6831d6ba256f7b0b730acb37278b0ccdffacf/pydotplus-2.0.2.tar.gz (278kB)\n",
            "\u001b[K     |████████████████████████████████| 286kB 2.7MB/s eta 0:00:01\n",
            "\u001b[?25hRequirement already satisfied: pyparsing>=2.0.1 in /anaconda3/lib/python3.7/site-packages (from pydotplus) (2.4.0)\n",
            "Building wheels for collected packages: pydotplus\n",
            "  Building wheel for pydotplus (setup.py) ... \u001b[?25l-\b \b\\\b \b|\b \b/\b \b-\b \b\\\b \bdone\n",
            "\u001b[?25h  Created wheel for pydotplus: filename=pydotplus-2.0.2-cp37-none-any.whl size=24568 sha256=546e23e0df5170d04e9f5d52e983d97e46d7ea759222346613e371dc6540699a\n",
            "  Stored in directory: /Users/tanjamarkotic/Library/Caches/pip/wheels/35/7b/ab/66fb7b2ac1f6df87475b09dc48e707b6e0de80a6d8444e3628\n",
            "Successfully built pydotplus\n",
            "Installing collected packages: pydotplus\n",
            "Successfully installed pydotplus-2.0.2\n",
            "Collecting graphviz\n",
            "  Downloading https://files.pythonhosted.org/packages/f5/74/dbed754c0abd63768d3a7a7b472da35b08ac442cf87d73d5850a6f32391e/graphviz-0.13.2-py2.py3-none-any.whl\n",
            "Installing collected packages: graphviz\n",
            "Successfully installed graphviz-0.13.2\n"
          ]
        }
      ],
      "execution_count": 275,
      "metadata": {
        "inputHidden": false,
        "outputHidden": false
      }
    },
    {
      "cell_type": "code",
      "source": [
        "from sklearn.externals.six import StringIO  \n",
        "from IPython.display import Image  \n",
        "from sklearn.tree import export_graphviz\n",
        "import pydotplus\n",
        "from IPython.display import SVG\n",
        "from graphviz import Source\n",
        "from IPython.display import display\n",
        "\n",
        "graph = Source(export_graphviz(clf, out_file=None\n",
        "   , feature_names=X_train.columns, class_names=['0','1','2','3','4','5','6','7'] \n",
        "   , filled = True))\n",
        "display(SVG(graph.pipe(format='svg')))"
      ],
      "outputs": [
        {
          "output_type": "display_data",
          "data": {
            "text/plain": [
              "<IPython.core.display.SVG object>"
            ],
            "image/svg+xml": [
              "<svg height=\"528pt\" viewBox=\"0.00 0.00 3819.78 528.00\" width=\"3820pt\" xmlns=\"http://www.w3.org/2000/svg\" xmlns:xlink=\"http://www.w3.org/1999/xlink\">\n",
              "<g class=\"graph\" id=\"graph0\" transform=\"scale(1 1) rotate(0) translate(4 524)\">\n",
              "<title>Tree</title>\n",
              "<polygon fill=\"white\" points=\"-4,4 -4,-524 3815.78,-524 3815.78,4 -4,4\" stroke=\"transparent\"/>\n",
              "<!-- 0 -->\n",
              "<g class=\"node\" id=\"node1\">\n",
              "<title>0</title>\n",
              "<polygon fill=\"#ffffff\" points=\"2088.31,-520 1759.23,-520 1759.23,-442 2088.31,-442 2088.31,-520\" stroke=\"black\"/>\n",
              "<text font-family=\"Times,serif\" font-size=\"14.00\" text-anchor=\"middle\" x=\"1923.77\" y=\"-504.8\">Port Code &lt;= 3155.5</text>\n",
              "<text font-family=\"Times,serif\" font-size=\"14.00\" text-anchor=\"middle\" x=\"1923.77\" y=\"-490.8\">entropy = 3.0</text>\n",
              "<text font-family=\"Times,serif\" font-size=\"14.00\" text-anchor=\"middle\" x=\"1923.77\" y=\"-476.8\">samples = 8117</text>\n",
              "<text font-family=\"Times,serif\" font-size=\"14.00\" text-anchor=\"middle\" x=\"1923.77\" y=\"-462.8\">value = [1004, 1040, 1016, 1013, 996, 1034, 1020, 994]</text>\n",
              "<text font-family=\"Times,serif\" font-size=\"14.00\" text-anchor=\"middle\" x=\"1923.77\" y=\"-448.8\">class = 1</text>\n",
              "</g>\n",
              "<!-- 1 -->\n",
              "<g class=\"node\" id=\"node2\">\n",
              "<title>1</title>\n",
              "<polygon fill=\"#fef7fa\" points=\"1569.31,-406 1282.23,-406 1282.23,-328 1569.31,-328 1569.31,-406\" stroke=\"black\"/>\n",
              "<text font-family=\"Times,serif\" font-size=\"14.00\" text-anchor=\"middle\" x=\"1425.77\" y=\"-390.8\">Port Code &lt;= 408.0</text>\n",
              "<text font-family=\"Times,serif\" font-size=\"14.00\" text-anchor=\"middle\" x=\"1425.77\" y=\"-376.8\">entropy = 2.802</text>\n",
              "<text font-family=\"Times,serif\" font-size=\"14.00\" text-anchor=\"middle\" x=\"1425.77\" y=\"-362.8\">samples = 4507</text>\n",
              "<text font-family=\"Times,serif\" font-size=\"14.00\" text-anchor=\"middle\" x=\"1425.77\" y=\"-348.8\">value = [818, 244, 204, 233, 825, 628, 587, 968]</text>\n",
              "<text font-family=\"Times,serif\" font-size=\"14.00\" text-anchor=\"middle\" x=\"1425.77\" y=\"-334.8\">class = 7</text>\n",
              "</g>\n",
              "<!-- 0&#45;&gt;1 -->\n",
              "<g class=\"edge\" id=\"edge1\">\n",
              "<title>0-&gt;1</title>\n",
              "<path d=\"M1758.98,-442.94C1701.01,-429.9 1636.15,-415.31 1579.16,-402.5\" fill=\"none\" stroke=\"black\"/>\n",
              "<polygon fill=\"black\" points=\"1579.88,-399.07 1569.35,-400.29 1578.34,-405.9 1579.88,-399.07\" stroke=\"black\"/>\n",
              "<text font-family=\"Times,serif\" font-size=\"14.00\" text-anchor=\"middle\" x=\"1582.72\" y=\"-417.22\">True</text>\n",
              "</g>\n",
              "<!-- 16 -->\n",
              "<g class=\"node\" id=\"node17\">\n",
              "<title>16</title>\n",
              "<polygon fill=\"#fefffe\" points=\"2574.81,-406 2294.73,-406 2294.73,-328 2574.81,-328 2574.81,-406\" stroke=\"black\"/>\n",
              "<text font-family=\"Times,serif\" font-size=\"14.00\" text-anchor=\"middle\" x=\"2434.77\" y=\"-390.8\">Port Code &lt;= 3503.5</text>\n",
              "<text font-family=\"Times,serif\" font-size=\"14.00\" text-anchor=\"middle\" x=\"2434.77\" y=\"-376.8\">entropy = 2.644</text>\n",
              "<text font-family=\"Times,serif\" font-size=\"14.00\" text-anchor=\"middle\" x=\"2434.77\" y=\"-362.8\">samples = 3610</text>\n",
              "<text font-family=\"Times,serif\" font-size=\"14.00\" text-anchor=\"middle\" x=\"2434.77\" y=\"-348.8\">value = [186, 796, 812, 780, 171, 406, 433, 26]</text>\n",
              "<text font-family=\"Times,serif\" font-size=\"14.00\" text-anchor=\"middle\" x=\"2434.77\" y=\"-334.8\">class = 2</text>\n",
              "</g>\n",
              "<!-- 0&#45;&gt;16 -->\n",
              "<g class=\"edge\" id=\"edge16\">\n",
              "<title>0-&gt;16</title>\n",
              "<path d=\"M2088.62,-443.87C2151.6,-430.06 2223.04,-414.41 2284.58,-400.92\" fill=\"none\" stroke=\"black\"/>\n",
              "<polygon fill=\"black\" points=\"2285.36,-404.33 2294.38,-398.77 2283.86,-397.49 2285.36,-404.33\" stroke=\"black\"/>\n",
              "<text font-family=\"Times,serif\" font-size=\"14.00\" text-anchor=\"middle\" x=\"2280.89\" y=\"-415.62\">False</text>\n",
              "</g>\n",
              "<!-- 2 -->\n",
              "<g class=\"node\" id=\"node3\">\n",
              "<title>2</title>\n",
              "<polygon fill=\"#f7d6bf\" points=\"801.31,-292 556.23,-292 556.23,-214 801.31,-214 801.31,-292\" stroke=\"black\"/>\n",
              "<text font-family=\"Times,serif\" font-size=\"14.00\" text-anchor=\"middle\" x=\"678.77\" y=\"-276.8\">Year &lt;= 2000.5</text>\n",
              "<text font-family=\"Times,serif\" font-size=\"14.00\" text-anchor=\"middle\" x=\"678.77\" y=\"-262.8\">entropy = 2.295</text>\n",
              "<text font-family=\"Times,serif\" font-size=\"14.00\" text-anchor=\"middle\" x=\"678.77\" y=\"-248.8\">samples = 904</text>\n",
              "<text font-family=\"Times,serif\" font-size=\"14.00\" text-anchor=\"middle\" x=\"678.77\" y=\"-234.8\">value = [402, 105, 78, 84, 14, 164, 57, 0]</text>\n",
              "<text font-family=\"Times,serif\" font-size=\"14.00\" text-anchor=\"middle\" x=\"678.77\" y=\"-220.8\">class = 0</text>\n",
              "</g>\n",
              "<!-- 1&#45;&gt;2 -->\n",
              "<g class=\"edge\" id=\"edge2\">\n",
              "<title>1-&gt;2</title>\n",
              "<path d=\"M1282.18,-344.47C1146.29,-324.1 943.94,-293.76 811.68,-273.93\" fill=\"none\" stroke=\"black\"/>\n",
              "<polygon fill=\"black\" points=\"811.89,-270.42 801.49,-272.4 810.86,-277.34 811.89,-270.42\" stroke=\"black\"/>\n",
              "</g>\n",
              "<!-- 9 -->\n",
              "<g class=\"node\" id=\"node10\">\n",
              "<title>9</title>\n",
              "<polygon fill=\"#fef4f7\" points=\"1569.29,-292 1282.24,-292 1282.24,-214 1569.29,-214 1569.29,-292\" stroke=\"black\"/>\n",
              "<text font-family=\"Times,serif\" font-size=\"14.00\" text-anchor=\"middle\" x=\"1425.77\" y=\"-276.8\">Mexico Border &lt;= 0.5</text>\n",
              "<text font-family=\"Times,serif\" font-size=\"14.00\" text-anchor=\"middle\" x=\"1425.77\" y=\"-262.8\">entropy = 2.681</text>\n",
              "<text font-family=\"Times,serif\" font-size=\"14.00\" text-anchor=\"middle\" x=\"1425.77\" y=\"-248.8\">samples = 3603</text>\n",
              "<text font-family=\"Times,serif\" font-size=\"14.00\" text-anchor=\"middle\" x=\"1425.77\" y=\"-234.8\">value = [416, 139, 126, 149, 811, 464, 530, 968]</text>\n",
              "<text font-family=\"Times,serif\" font-size=\"14.00\" text-anchor=\"middle\" x=\"1425.77\" y=\"-220.8\">class = 7</text>\n",
              "</g>\n",
              "<!-- 1&#45;&gt;9 -->\n",
              "<g class=\"edge\" id=\"edge9\">\n",
              "<title>1-&gt;9</title>\n",
              "<path d=\"M1425.77,-327.77C1425.77,-319.57 1425.77,-310.8 1425.77,-302.28\" fill=\"none\" stroke=\"black\"/>\n",
              "<polygon fill=\"black\" points=\"1429.27,-302.06 1425.77,-292.06 1422.27,-302.06 1429.27,-302.06\" stroke=\"black\"/>\n",
              "</g>\n",
              "<!-- 3 -->\n",
              "<g class=\"node\" id=\"node4\">\n",
              "<title>3</title>\n",
              "<polygon fill=\"#f5fadd\" points=\"438.79,-178 214.74,-178 214.74,-100 438.79,-100 438.79,-178\" stroke=\"black\"/>\n",
              "<text font-family=\"Times,serif\" font-size=\"14.00\" text-anchor=\"middle\" x=\"326.77\" y=\"-162.8\">Month &lt;= 10.5</text>\n",
              "<text font-family=\"Times,serif\" font-size=\"14.00\" text-anchor=\"middle\" x=\"326.77\" y=\"-148.8\">entropy = 2.56</text>\n",
              "<text font-family=\"Times,serif\" font-size=\"14.00\" text-anchor=\"middle\" x=\"326.77\" y=\"-134.8\">samples = 193</text>\n",
              "<text font-family=\"Times,serif\" font-size=\"14.00\" text-anchor=\"middle\" x=\"326.77\" y=\"-120.8\">value = [37, 64, 11, 25, 12, 26, 18, 0]</text>\n",
              "<text font-family=\"Times,serif\" font-size=\"14.00\" text-anchor=\"middle\" x=\"326.77\" y=\"-106.8\">class = 1</text>\n",
              "</g>\n",
              "<!-- 2&#45;&gt;3 -->\n",
              "<g class=\"edge\" id=\"edge3\">\n",
              "<title>2-&gt;3</title>\n",
              "<path d=\"M559.11,-213.93C523.58,-202.62 484.63,-190.23 448.95,-178.88\" fill=\"none\" stroke=\"black\"/>\n",
              "<polygon fill=\"black\" points=\"449.57,-175.4 438.98,-175.7 447.45,-182.07 449.57,-175.4\" stroke=\"black\"/>\n",
              "</g>\n",
              "<!-- 6 -->\n",
              "<g class=\"node\" id=\"node7\">\n",
              "<title>6</title>\n",
              "<polygon fill=\"#f5cdb1\" points=\"794.31,-178 563.23,-178 563.23,-100 794.31,-100 794.31,-178\" stroke=\"black\"/>\n",
              "<text font-family=\"Times,serif\" font-size=\"14.00\" text-anchor=\"middle\" x=\"678.77\" y=\"-162.8\">Month &lt;= 10.5</text>\n",
              "<text font-family=\"Times,serif\" font-size=\"14.00\" text-anchor=\"middle\" x=\"678.77\" y=\"-148.8\">entropy = 2.063</text>\n",
              "<text font-family=\"Times,serif\" font-size=\"14.00\" text-anchor=\"middle\" x=\"678.77\" y=\"-134.8\">samples = 711</text>\n",
              "<text font-family=\"Times,serif\" font-size=\"14.00\" text-anchor=\"middle\" x=\"678.77\" y=\"-120.8\">value = [365, 41, 67, 59, 2, 138, 39, 0]</text>\n",
              "<text font-family=\"Times,serif\" font-size=\"14.00\" text-anchor=\"middle\" x=\"678.77\" y=\"-106.8\">class = 0</text>\n",
              "</g>\n",
              "<!-- 2&#45;&gt;6 -->\n",
              "<g class=\"edge\" id=\"edge6\">\n",
              "<title>2-&gt;6</title>\n",
              "<path d=\"M678.77,-213.77C678.77,-205.57 678.77,-196.8 678.77,-188.28\" fill=\"none\" stroke=\"black\"/>\n",
              "<polygon fill=\"black\" points=\"682.27,-188.06 678.77,-178.06 675.27,-188.06 682.27,-188.06\" stroke=\"black\"/>\n",
              "</g>\n",
              "<!-- 4 -->\n",
              "<g class=\"node\" id=\"node5\">\n",
              "<title>4</title>\n",
              "<polygon fill=\"#f6fbe0\" points=\"217.31,-64 0.23,-64 0.23,0 217.31,0 217.31,-64\" stroke=\"black\"/>\n",
              "<text font-family=\"Times,serif\" font-size=\"14.00\" text-anchor=\"middle\" x=\"108.77\" y=\"-48.8\">entropy = 2.52</text>\n",
              "<text font-family=\"Times,serif\" font-size=\"14.00\" text-anchor=\"middle\" x=\"108.77\" y=\"-34.8\">samples = 159</text>\n",
              "<text font-family=\"Times,serif\" font-size=\"14.00\" text-anchor=\"middle\" x=\"108.77\" y=\"-20.8\">value = [32, 52, 4, 24, 12, 18, 17, 0]</text>\n",
              "<text font-family=\"Times,serif\" font-size=\"14.00\" text-anchor=\"middle\" x=\"108.77\" y=\"-6.8\">class = 1</text>\n",
              "</g>\n",
              "<!-- 3&#45;&gt;4 -->\n",
              "<g class=\"edge\" id=\"edge4\">\n",
              "<title>3-&gt;4</title>\n",
              "<path d=\"M247.76,-99.94C226.42,-89.67 203.43,-78.59 182.4,-68.46\" fill=\"none\" stroke=\"black\"/>\n",
              "<polygon fill=\"black\" points=\"183.73,-65.22 173.2,-64.04 180.69,-71.53 183.73,-65.22\" stroke=\"black\"/>\n",
              "</g>\n",
              "<!-- 5 -->\n",
              "<g class=\"node\" id=\"node6\">\n",
              "<title>5</title>\n",
              "<polygon fill=\"#f7fbe1\" points=\"417.81,-64 235.73,-64 235.73,0 417.81,0 417.81,-64\" stroke=\"black\"/>\n",
              "<text font-family=\"Times,serif\" font-size=\"14.00\" text-anchor=\"middle\" x=\"326.77\" y=\"-48.8\">entropy = 2.197</text>\n",
              "<text font-family=\"Times,serif\" font-size=\"14.00\" text-anchor=\"middle\" x=\"326.77\" y=\"-34.8\">samples = 34</text>\n",
              "<text font-family=\"Times,serif\" font-size=\"14.00\" text-anchor=\"middle\" x=\"326.77\" y=\"-20.8\">value = [5, 12, 7, 1, 0, 8, 1, 0]</text>\n",
              "<text font-family=\"Times,serif\" font-size=\"14.00\" text-anchor=\"middle\" x=\"326.77\" y=\"-6.8\">class = 1</text>\n",
              "</g>\n",
              "<!-- 3&#45;&gt;5 -->\n",
              "<g class=\"edge\" id=\"edge5\">\n",
              "<title>3-&gt;5</title>\n",
              "<path d=\"M326.77,-99.8C326.77,-91.46 326.77,-82.6 326.77,-74.15\" fill=\"none\" stroke=\"black\"/>\n",
              "<polygon fill=\"black\" points=\"330.27,-74.12 326.77,-64.12 323.27,-74.12 330.27,-74.12\" stroke=\"black\"/>\n",
              "</g>\n",
              "<!-- 7 -->\n",
              "<g class=\"node\" id=\"node8\">\n",
              "<title>7</title>\n",
              "<polygon fill=\"#f5cdb1\" points=\"667.31,-64 436.23,-64 436.23,0 667.31,0 667.31,-64\" stroke=\"black\"/>\n",
              "<text font-family=\"Times,serif\" font-size=\"14.00\" text-anchor=\"middle\" x=\"551.77\" y=\"-48.8\">entropy = 2.095</text>\n",
              "<text font-family=\"Times,serif\" font-size=\"14.00\" text-anchor=\"middle\" x=\"551.77\" y=\"-34.8\">samples = 592</text>\n",
              "<text font-family=\"Times,serif\" font-size=\"14.00\" text-anchor=\"middle\" x=\"551.77\" y=\"-20.8\">value = [298, 25, 63, 59, 2, 107, 38, 0]</text>\n",
              "<text font-family=\"Times,serif\" font-size=\"14.00\" text-anchor=\"middle\" x=\"551.77\" y=\"-6.8\">class = 0</text>\n",
              "</g>\n",
              "<!-- 6&#45;&gt;7 -->\n",
              "<g class=\"edge\" id=\"edge7\">\n",
              "<title>6-&gt;7</title>\n",
              "<path d=\"M632.56,-99.8C621.03,-90.27 608.69,-80.06 597.2,-70.56\" fill=\"none\" stroke=\"black\"/>\n",
              "<polygon fill=\"black\" points=\"599.34,-67.79 589.41,-64.12 594.88,-73.19 599.34,-67.79\" stroke=\"black\"/>\n",
              "</g>\n",
              "<!-- 8 -->\n",
              "<g class=\"node\" id=\"node9\">\n",
              "<title>8</title>\n",
              "<polygon fill=\"#f4cbae\" points=\"881.81,-64 685.73,-64 685.73,0 881.81,0 881.81,-64\" stroke=\"black\"/>\n",
              "<text font-family=\"Times,serif\" font-size=\"14.00\" text-anchor=\"middle\" x=\"783.77\" y=\"-48.8\">entropy = 1.584</text>\n",
              "<text font-family=\"Times,serif\" font-size=\"14.00\" text-anchor=\"middle\" x=\"783.77\" y=\"-34.8\">samples = 119</text>\n",
              "<text font-family=\"Times,serif\" font-size=\"14.00\" text-anchor=\"middle\" x=\"783.77\" y=\"-20.8\">value = [67, 16, 4, 0, 0, 31, 1, 0]</text>\n",
              "<text font-family=\"Times,serif\" font-size=\"14.00\" text-anchor=\"middle\" x=\"783.77\" y=\"-6.8\">class = 0</text>\n",
              "</g>\n",
              "<!-- 6&#45;&gt;8 -->\n",
              "<g class=\"edge\" id=\"edge8\">\n",
              "<title>6-&gt;8</title>\n",
              "<path d=\"M716.97,-99.8C726.23,-90.54 736.12,-80.65 745.38,-71.38\" fill=\"none\" stroke=\"black\"/>\n",
              "<polygon fill=\"black\" points=\"748.06,-73.66 752.65,-64.12 743.11,-68.71 748.06,-73.66\" stroke=\"black\"/>\n",
              "</g>\n",
              "<!-- 10 -->\n",
              "<g class=\"node\" id=\"node11\">\n",
              "<title>10</title>\n",
              "<polygon fill=\"#f0f7fd\" points=\"1429.31,-178 1142.23,-178 1142.23,-100 1429.31,-100 1429.31,-178\" stroke=\"black\"/>\n",
              "<text font-family=\"Times,serif\" font-size=\"14.00\" text-anchor=\"middle\" x=\"1285.77\" y=\"-162.8\">Port Code &lt;= 1955.0</text>\n",
              "<text font-family=\"Times,serif\" font-size=\"14.00\" text-anchor=\"middle\" x=\"1285.77\" y=\"-148.8\">entropy = 2.695</text>\n",
              "<text font-family=\"Times,serif\" font-size=\"14.00\" text-anchor=\"middle\" x=\"1285.77\" y=\"-134.8\">samples = 2707</text>\n",
              "<text font-family=\"Times,serif\" font-size=\"14.00\" text-anchor=\"middle\" x=\"1285.77\" y=\"-120.8\">value = [201, 139, 124, 148, 775, 295, 412, 613]</text>\n",
              "<text font-family=\"Times,serif\" font-size=\"14.00\" text-anchor=\"middle\" x=\"1285.77\" y=\"-106.8\">class = 4</text>\n",
              "</g>\n",
              "<!-- 9&#45;&gt;10 -->\n",
              "<g class=\"edge\" id=\"edge10\">\n",
              "<title>9-&gt;10</title>\n",
              "<path d=\"M1377.98,-213.77C1366.15,-204.31 1353.38,-194.09 1341.23,-184.37\" fill=\"none\" stroke=\"black\"/>\n",
              "<polygon fill=\"black\" points=\"1343.34,-181.57 1333.34,-178.06 1338.96,-187.04 1343.34,-181.57\" stroke=\"black\"/>\n",
              "</g>\n",
              "<!-- 13 -->\n",
              "<g class=\"node\" id=\"node14\">\n",
              "<title>13</title>\n",
              "<polygon fill=\"#fad6e2\" points=\"1685.79,-178 1447.74,-178 1447.74,-100 1685.79,-100 1685.79,-178\" stroke=\"black\"/>\n",
              "<text font-family=\"Times,serif\" font-size=\"14.00\" text-anchor=\"middle\" x=\"1566.77\" y=\"-162.8\">Year &lt;= 2007.5</text>\n",
              "<text font-family=\"Times,serif\" font-size=\"14.00\" text-anchor=\"middle\" x=\"1566.77\" y=\"-148.8\">entropy = 2.079</text>\n",
              "<text font-family=\"Times,serif\" font-size=\"14.00\" text-anchor=\"middle\" x=\"1566.77\" y=\"-134.8\">samples = 896</text>\n",
              "<text font-family=\"Times,serif\" font-size=\"14.00\" text-anchor=\"middle\" x=\"1566.77\" y=\"-120.8\">value = [215, 0, 2, 1, 36, 169, 118, 355]</text>\n",
              "<text font-family=\"Times,serif\" font-size=\"14.00\" text-anchor=\"middle\" x=\"1566.77\" y=\"-106.8\">class = 7</text>\n",
              "</g>\n",
              "<!-- 9&#45;&gt;13 -->\n",
              "<g class=\"edge\" id=\"edge13\">\n",
              "<title>9-&gt;13</title>\n",
              "<path d=\"M1473.9,-213.77C1485.81,-204.31 1498.67,-194.09 1510.91,-184.37\" fill=\"none\" stroke=\"black\"/>\n",
              "<polygon fill=\"black\" points=\"1513.2,-187.02 1518.86,-178.06 1508.85,-181.54 1513.2,-187.02\" stroke=\"black\"/>\n",
              "</g>\n",
              "<!-- 11 -->\n",
              "<g class=\"node\" id=\"node12\">\n",
              "<title>11</title>\n",
              "<polygon fill=\"#fef4f7\" points=\"1159.31,-64 900.23,-64 900.23,0 1159.31,0 1159.31,-64\" stroke=\"black\"/>\n",
              "<text font-family=\"Times,serif\" font-size=\"14.00\" text-anchor=\"middle\" x=\"1029.77\" y=\"-48.8\">entropy = 2.641</text>\n",
              "<text font-family=\"Times,serif\" font-size=\"14.00\" text-anchor=\"middle\" x=\"1029.77\" y=\"-34.8\">samples = 1796</text>\n",
              "<text font-family=\"Times,serif\" font-size=\"14.00\" text-anchor=\"middle\" x=\"1029.77\" y=\"-20.8\">value = [84, 75, 63, 90, 398, 287, 323, 476]</text>\n",
              "<text font-family=\"Times,serif\" font-size=\"14.00\" text-anchor=\"middle\" x=\"1029.77\" y=\"-6.8\">class = 7</text>\n",
              "</g>\n",
              "<!-- 10&#45;&gt;11 -->\n",
              "<g class=\"edge\" id=\"edge11\">\n",
              "<title>10-&gt;11</title>\n",
              "<path d=\"M1192.98,-99.94C1167.48,-89.48 1139.96,-78.19 1114.91,-67.92\" fill=\"none\" stroke=\"black\"/>\n",
              "<polygon fill=\"black\" points=\"1116.02,-64.59 1105.44,-64.04 1113.36,-71.07 1116.02,-64.59\" stroke=\"black\"/>\n",
              "</g>\n",
              "<!-- 12 -->\n",
              "<g class=\"node\" id=\"node13\">\n",
              "<title>12</title>\n",
              "<polygon fill=\"#c2e1f7\" points=\"1422.29,-64 1177.24,-64 1177.24,0 1422.29,0 1422.29,-64\" stroke=\"black\"/>\n",
              "<text font-family=\"Times,serif\" font-size=\"14.00\" text-anchor=\"middle\" x=\"1299.77\" y=\"-48.8\">entropy = 2.489</text>\n",
              "<text font-family=\"Times,serif\" font-size=\"14.00\" text-anchor=\"middle\" x=\"1299.77\" y=\"-34.8\">samples = 911</text>\n",
              "<text font-family=\"Times,serif\" font-size=\"14.00\" text-anchor=\"middle\" x=\"1299.77\" y=\"-20.8\">value = [117, 64, 61, 58, 377, 8, 89, 137]</text>\n",
              "<text font-family=\"Times,serif\" font-size=\"14.00\" text-anchor=\"middle\" x=\"1299.77\" y=\"-6.8\">class = 4</text>\n",
              "</g>\n",
              "<!-- 10&#45;&gt;12 -->\n",
              "<g class=\"edge\" id=\"edge12\">\n",
              "<title>10-&gt;12</title>\n",
              "<path d=\"M1290.86,-99.8C1291.97,-91.46 1293.16,-82.6 1294.28,-74.15\" fill=\"none\" stroke=\"black\"/>\n",
              "<polygon fill=\"black\" points=\"1297.77,-74.49 1295.62,-64.12 1290.83,-73.57 1297.77,-74.49\" stroke=\"black\"/>\n",
              "</g>\n",
              "<!-- 14 -->\n",
              "<g class=\"node\" id=\"node15\">\n",
              "<title>14</title>\n",
              "<polygon fill=\"#fdeff4\" points=\"1664.79,-64 1440.74,-64 1440.74,0 1664.79,0 1664.79,-64\" stroke=\"black\"/>\n",
              "<text font-family=\"Times,serif\" font-size=\"14.00\" text-anchor=\"middle\" x=\"1552.77\" y=\"-48.8\">entropy = 1.999</text>\n",
              "<text font-family=\"Times,serif\" font-size=\"14.00\" text-anchor=\"middle\" x=\"1552.77\" y=\"-34.8\">samples = 461</text>\n",
              "<text font-family=\"Times,serif\" font-size=\"14.00\" text-anchor=\"middle\" x=\"1552.77\" y=\"-20.8\">value = [107, 0, 0, 0, 1, 92, 117, 144]</text>\n",
              "<text font-family=\"Times,serif\" font-size=\"14.00\" text-anchor=\"middle\" x=\"1552.77\" y=\"-6.8\">class = 7</text>\n",
              "</g>\n",
              "<!-- 13&#45;&gt;14 -->\n",
              "<g class=\"edge\" id=\"edge14\">\n",
              "<title>13-&gt;14</title>\n",
              "<path d=\"M1561.67,-99.8C1560.56,-91.46 1559.38,-82.6 1558.26,-74.15\" fill=\"none\" stroke=\"black\"/>\n",
              "<polygon fill=\"black\" points=\"1561.71,-73.57 1556.92,-64.12 1554.77,-74.49 1561.71,-73.57\" stroke=\"black\"/>\n",
              "</g>\n",
              "<!-- 15 -->\n",
              "<g class=\"node\" id=\"node16\">\n",
              "<title>15</title>\n",
              "<polygon fill=\"#f7c1d3\" points=\"1900.29,-64 1683.24,-64 1683.24,0 1900.29,0 1900.29,-64\" stroke=\"black\"/>\n",
              "<text font-family=\"Times,serif\" font-size=\"14.00\" text-anchor=\"middle\" x=\"1791.77\" y=\"-48.8\">entropy = 1.816</text>\n",
              "<text font-family=\"Times,serif\" font-size=\"14.00\" text-anchor=\"middle\" x=\"1791.77\" y=\"-34.8\">samples = 435</text>\n",
              "<text font-family=\"Times,serif\" font-size=\"14.00\" text-anchor=\"middle\" x=\"1791.77\" y=\"-20.8\">value = [108, 0, 2, 1, 35, 77, 1, 211]</text>\n",
              "<text font-family=\"Times,serif\" font-size=\"14.00\" text-anchor=\"middle\" x=\"1791.77\" y=\"-6.8\">class = 7</text>\n",
              "</g>\n",
              "<!-- 13&#45;&gt;15 -->\n",
              "<g class=\"edge\" id=\"edge15\">\n",
              "<title>13-&gt;15</title>\n",
              "<path d=\"M1648.32,-99.94C1670.44,-89.62 1694.29,-78.49 1716.07,-68.33\" fill=\"none\" stroke=\"black\"/>\n",
              "<polygon fill=\"black\" points=\"1717.68,-71.44 1725.26,-64.04 1714.72,-65.09 1717.68,-71.44\" stroke=\"black\"/>\n",
              "</g>\n",
              "<!-- 17 -->\n",
              "<g class=\"node\" id=\"node18\">\n",
              "<title>17</title>\n",
              "<polygon fill=\"#fcfdf3\" points=\"2567.81,-292 2301.73,-292 2301.73,-214 2567.81,-214 2567.81,-292\" stroke=\"black\"/>\n",
              "<text font-family=\"Times,serif\" font-size=\"14.00\" text-anchor=\"middle\" x=\"2434.77\" y=\"-276.8\">Port Code &lt;= 3356.5</text>\n",
              "<text font-family=\"Times,serif\" font-size=\"14.00\" text-anchor=\"middle\" x=\"2434.77\" y=\"-262.8\">entropy = 2.53</text>\n",
              "<text font-family=\"Times,serif\" font-size=\"14.00\" text-anchor=\"middle\" x=\"2434.77\" y=\"-248.8\">samples = 2720</text>\n",
              "<text font-family=\"Times,serif\" font-size=\"14.00\" text-anchor=\"middle\" x=\"2434.77\" y=\"-234.8\">value = [169, 760, 636, 450, 72, 406, 227, 0]</text>\n",
              "<text font-family=\"Times,serif\" font-size=\"14.00\" text-anchor=\"middle\" x=\"2434.77\" y=\"-220.8\">class = 1</text>\n",
              "</g>\n",
              "<!-- 16&#45;&gt;17 -->\n",
              "<g class=\"edge\" id=\"edge17\">\n",
              "<title>16-&gt;17</title>\n",
              "<path d=\"M2434.77,-327.77C2434.77,-319.57 2434.77,-310.8 2434.77,-302.28\" fill=\"none\" stroke=\"black\"/>\n",
              "<polygon fill=\"black\" points=\"2438.27,-302.06 2434.77,-292.06 2431.27,-302.06 2438.27,-302.06\" stroke=\"black\"/>\n",
              "</g>\n",
              "<!-- 24 -->\n",
              "<g class=\"node\" id=\"node25\">\n",
              "<title>24</title>\n",
              "<polygon fill=\"#dbfaf0\" points=\"3250.31,-292 3005.23,-292 3005.23,-214 3250.31,-214 3250.31,-292\" stroke=\"black\"/>\n",
              "<text font-family=\"Times,serif\" font-size=\"14.00\" text-anchor=\"middle\" x=\"3127.77\" y=\"-276.8\">Year &lt;= 2006.5</text>\n",
              "<text font-family=\"Times,serif\" font-size=\"14.00\" text-anchor=\"middle\" x=\"3127.77\" y=\"-262.8\">entropy = 2.279</text>\n",
              "<text font-family=\"Times,serif\" font-size=\"14.00\" text-anchor=\"middle\" x=\"3127.77\" y=\"-248.8\">samples = 890</text>\n",
              "<text font-family=\"Times,serif\" font-size=\"14.00\" text-anchor=\"middle\" x=\"3127.77\" y=\"-234.8\">value = [17, 36, 176, 330, 99, 0, 206, 26]</text>\n",
              "<text font-family=\"Times,serif\" font-size=\"14.00\" text-anchor=\"middle\" x=\"3127.77\" y=\"-220.8\">class = 3</text>\n",
              "</g>\n",
              "<!-- 16&#45;&gt;24 -->\n",
              "<g class=\"edge\" id=\"edge24\">\n",
              "<title>16-&gt;24</title>\n",
              "<path d=\"M2575.01,-343.34C2697.72,-323.5 2874.71,-294.9 2995.11,-275.44\" fill=\"none\" stroke=\"black\"/>\n",
              "<polygon fill=\"black\" points=\"2995.82,-278.87 3005.13,-273.82 2994.7,-271.96 2995.82,-278.87\" stroke=\"black\"/>\n",
              "</g>\n",
              "<!-- 18 -->\n",
              "<g class=\"node\" id=\"node19\">\n",
              "<title>18</title>\n",
              "<polygon fill=\"#f0f8c9\" points=\"2434.81,-178 2168.73,-178 2168.73,-100 2434.81,-100 2434.81,-178\" stroke=\"black\"/>\n",
              "<text font-family=\"Times,serif\" font-size=\"14.00\" text-anchor=\"middle\" x=\"2301.77\" y=\"-162.8\">Port Code &lt;= 3306.0</text>\n",
              "<text font-family=\"Times,serif\" font-size=\"14.00\" text-anchor=\"middle\" x=\"2301.77\" y=\"-148.8\">entropy = 2.495</text>\n",
              "<text font-family=\"Times,serif\" font-size=\"14.00\" text-anchor=\"middle\" x=\"2301.77\" y=\"-134.8\">samples = 1832</text>\n",
              "<text font-family=\"Times,serif\" font-size=\"14.00\" text-anchor=\"middle\" x=\"2301.77\" y=\"-120.8\">value = [164, 686, 249, 261, 51, 198, 223, 0]</text>\n",
              "<text font-family=\"Times,serif\" font-size=\"14.00\" text-anchor=\"middle\" x=\"2301.77\" y=\"-106.8\">class = 1</text>\n",
              "</g>\n",
              "<!-- 17&#45;&gt;18 -->\n",
              "<g class=\"edge\" id=\"edge18\">\n",
              "<title>17-&gt;18</title>\n",
              "<path d=\"M2389.37,-213.77C2378.24,-204.4 2366.23,-194.29 2354.78,-184.64\" fill=\"none\" stroke=\"black\"/>\n",
              "<polygon fill=\"black\" points=\"2356.87,-181.82 2346.96,-178.06 2352.36,-187.18 2356.87,-181.82\" stroke=\"black\"/>\n",
              "</g>\n",
              "<!-- 21 -->\n",
              "<g class=\"node\" id=\"node22\">\n",
              "<title>21</title>\n",
              "<polygon fill=\"#cff8cb\" points=\"2684.31,-178 2453.23,-178 2453.23,-100 2684.31,-100 2684.31,-178\" stroke=\"black\"/>\n",
              "<text font-family=\"Times,serif\" font-size=\"14.00\" text-anchor=\"middle\" x=\"2568.77\" y=\"-162.8\">Year &lt;= 2008.5</text>\n",
              "<text font-family=\"Times,serif\" font-size=\"14.00\" text-anchor=\"middle\" x=\"2568.77\" y=\"-148.8\">entropy = 1.991</text>\n",
              "<text font-family=\"Times,serif\" font-size=\"14.00\" text-anchor=\"middle\" x=\"2568.77\" y=\"-134.8\">samples = 888</text>\n",
              "<text font-family=\"Times,serif\" font-size=\"14.00\" text-anchor=\"middle\" x=\"2568.77\" y=\"-120.8\">value = [5, 74, 387, 189, 21, 208, 4, 0]</text>\n",
              "<text font-family=\"Times,serif\" font-size=\"14.00\" text-anchor=\"middle\" x=\"2568.77\" y=\"-106.8\">class = 2</text>\n",
              "</g>\n",
              "<!-- 17&#45;&gt;21 -->\n",
              "<g class=\"edge\" id=\"edge21\">\n",
              "<title>17-&gt;21</title>\n",
              "<path d=\"M2480.51,-213.77C2491.72,-204.4 2503.82,-194.29 2515.35,-184.64\" fill=\"none\" stroke=\"black\"/>\n",
              "<polygon fill=\"black\" points=\"2517.81,-187.16 2523.23,-178.06 2513.32,-181.79 2517.81,-187.16\" stroke=\"black\"/>\n",
              "</g>\n",
              "<!-- 19 -->\n",
              "<g class=\"node\" id=\"node20\">\n",
              "<title>19</title>\n",
              "<polygon fill=\"#ecf6ba\" points=\"2163.29,-64 1918.24,-64 1918.24,0 2163.29,0 2163.29,-64\" stroke=\"black\"/>\n",
              "<text font-family=\"Times,serif\" font-size=\"14.00\" text-anchor=\"middle\" x=\"2040.77\" y=\"-48.8\">entropy = 2.232</text>\n",
              "<text font-family=\"Times,serif\" font-size=\"14.00\" text-anchor=\"middle\" x=\"2040.77\" y=\"-34.8\">samples = 935</text>\n",
              "<text font-family=\"Times,serif\" font-size=\"14.00\" text-anchor=\"middle\" x=\"2040.77\" y=\"-20.8\">value = [74, 436, 118, 79, 23, 172, 33, 0]</text>\n",
              "<text font-family=\"Times,serif\" font-size=\"14.00\" text-anchor=\"middle\" x=\"2040.77\" y=\"-6.8\">class = 1</text>\n",
              "</g>\n",
              "<!-- 18&#45;&gt;19 -->\n",
              "<g class=\"edge\" id=\"edge19\">\n",
              "<title>18-&gt;19</title>\n",
              "<path d=\"M2207.17,-99.94C2181.06,-89.44 2152.86,-78.09 2127.23,-67.78\" fill=\"none\" stroke=\"black\"/>\n",
              "<polygon fill=\"black\" points=\"2128.5,-64.52 2117.91,-64.04 2125.88,-71.01 2128.5,-64.52\" stroke=\"black\"/>\n",
              "</g>\n",
              "<!-- 20 -->\n",
              "<g class=\"node\" id=\"node21\">\n",
              "<title>20</title>\n",
              "<polygon fill=\"#fafdee\" points=\"2433.81,-64 2181.73,-64 2181.73,0 2433.81,0 2433.81,-64\" stroke=\"black\"/>\n",
              "<text font-family=\"Times,serif\" font-size=\"14.00\" text-anchor=\"middle\" x=\"2307.77\" y=\"-48.8\">entropy = 2.497</text>\n",
              "<text font-family=\"Times,serif\" font-size=\"14.00\" text-anchor=\"middle\" x=\"2307.77\" y=\"-34.8\">samples = 897</text>\n",
              "<text font-family=\"Times,serif\" font-size=\"14.00\" text-anchor=\"middle\" x=\"2307.77\" y=\"-20.8\">value = [90, 250, 131, 182, 28, 26, 190, 0]</text>\n",
              "<text font-family=\"Times,serif\" font-size=\"14.00\" text-anchor=\"middle\" x=\"2307.77\" y=\"-6.8\">class = 1</text>\n",
              "</g>\n",
              "<!-- 18&#45;&gt;20 -->\n",
              "<g class=\"edge\" id=\"edge20\">\n",
              "<title>18-&gt;20</title>\n",
              "<path d=\"M2303.95,-99.8C2304.43,-91.46 2304.93,-82.6 2305.42,-74.15\" fill=\"none\" stroke=\"black\"/>\n",
              "<polygon fill=\"black\" points=\"2308.91,-74.3 2305.99,-64.12 2301.93,-73.9 2308.91,-74.3\" stroke=\"black\"/>\n",
              "</g>\n",
              "<!-- 22 -->\n",
              "<g class=\"node\" id=\"node23\">\n",
              "<title>22</title>\n",
              "<polygon fill=\"#e5fbe3\" points=\"2675.79,-64 2451.74,-64 2451.74,0 2675.79,0 2675.79,-64\" stroke=\"black\"/>\n",
              "<text font-family=\"Times,serif\" font-size=\"14.00\" text-anchor=\"middle\" x=\"2563.77\" y=\"-48.8\">entropy = 1.861</text>\n",
              "<text font-family=\"Times,serif\" font-size=\"14.00\" text-anchor=\"middle\" x=\"2563.77\" y=\"-34.8\">samples = 490</text>\n",
              "<text font-family=\"Times,serif\" font-size=\"14.00\" text-anchor=\"middle\" x=\"2563.77\" y=\"-20.8\">value = [2, 8, 198, 149, 12, 117, 4, 0]</text>\n",
              "<text font-family=\"Times,serif\" font-size=\"14.00\" text-anchor=\"middle\" x=\"2563.77\" y=\"-6.8\">class = 2</text>\n",
              "</g>\n",
              "<!-- 21&#45;&gt;22 -->\n",
              "<g class=\"edge\" id=\"edge22\">\n",
              "<title>21-&gt;22</title>\n",
              "<path d=\"M2566.95,-99.8C2566.55,-91.46 2566.13,-82.6 2565.73,-74.15\" fill=\"none\" stroke=\"black\"/>\n",
              "<polygon fill=\"black\" points=\"2569.22,-73.94 2565.25,-64.12 2562.23,-74.27 2569.22,-73.94\" stroke=\"black\"/>\n",
              "</g>\n",
              "<!-- 23 -->\n",
              "<g class=\"node\" id=\"node24\">\n",
              "<title>23</title>\n",
              "<polygon fill=\"#c4f7c0\" points=\"2903.81,-64 2693.73,-64 2693.73,0 2903.81,0 2903.81,-64\" stroke=\"black\"/>\n",
              "<text font-family=\"Times,serif\" font-size=\"14.00\" text-anchor=\"middle\" x=\"2798.77\" y=\"-48.8\">entropy = 1.937</text>\n",
              "<text font-family=\"Times,serif\" font-size=\"14.00\" text-anchor=\"middle\" x=\"2798.77\" y=\"-34.8\">samples = 398</text>\n",
              "<text font-family=\"Times,serif\" font-size=\"14.00\" text-anchor=\"middle\" x=\"2798.77\" y=\"-20.8\">value = [3, 66, 189, 40, 9, 91, 0, 0]</text>\n",
              "<text font-family=\"Times,serif\" font-size=\"14.00\" text-anchor=\"middle\" x=\"2798.77\" y=\"-6.8\">class = 2</text>\n",
              "</g>\n",
              "<!-- 21&#45;&gt;23 -->\n",
              "<g class=\"edge\" id=\"edge23\">\n",
              "<title>21-&gt;23</title>\n",
              "<path d=\"M2652.13,-99.94C2674.84,-89.58 2699.34,-78.39 2721.68,-68.19\" fill=\"none\" stroke=\"black\"/>\n",
              "<polygon fill=\"black\" points=\"2723.14,-71.37 2730.79,-64.04 2720.24,-65 2723.14,-71.37\" stroke=\"black\"/>\n",
              "</g>\n",
              "<!-- 25 -->\n",
              "<g class=\"node\" id=\"node26\">\n",
              "<title>25</title>\n",
              "<polygon fill=\"#dcfaf0\" points=\"3243.31,-178 3012.23,-178 3012.23,-100 3243.31,-100 3243.31,-178\" stroke=\"black\"/>\n",
              "<text font-family=\"Times,serif\" font-size=\"14.00\" text-anchor=\"middle\" x=\"3127.77\" y=\"-162.8\">Month &lt;= 5.5</text>\n",
              "<text font-family=\"Times,serif\" font-size=\"14.00\" text-anchor=\"middle\" x=\"3127.77\" y=\"-148.8\">entropy = 2.445</text>\n",
              "<text font-family=\"Times,serif\" font-size=\"14.00\" text-anchor=\"middle\" x=\"3127.77\" y=\"-134.8\">samples = 423</text>\n",
              "<text font-family=\"Times,serif\" font-size=\"14.00\" text-anchor=\"middle\" x=\"3127.77\" y=\"-120.8\">value = [13, 18, 64, 142, 78, 0, 82, 26]</text>\n",
              "<text font-family=\"Times,serif\" font-size=\"14.00\" text-anchor=\"middle\" x=\"3127.77\" y=\"-106.8\">class = 3</text>\n",
              "</g>\n",
              "<!-- 24&#45;&gt;25 -->\n",
              "<g class=\"edge\" id=\"edge25\">\n",
              "<title>24-&gt;25</title>\n",
              "<path d=\"M3127.77,-213.77C3127.77,-205.57 3127.77,-196.8 3127.77,-188.28\" fill=\"none\" stroke=\"black\"/>\n",
              "<polygon fill=\"black\" points=\"3131.27,-188.06 3127.77,-178.06 3124.27,-188.06 3131.27,-188.06\" stroke=\"black\"/>\n",
              "</g>\n",
              "<!-- 28 -->\n",
              "<g class=\"node\" id=\"node29\">\n",
              "<title>28</title>\n",
              "<polygon fill=\"#dafaf0\" points=\"3597.29,-178 3366.24,-178 3366.24,-100 3597.29,-100 3597.29,-178\" stroke=\"black\"/>\n",
              "<text font-family=\"Times,serif\" font-size=\"14.00\" text-anchor=\"middle\" x=\"3481.77\" y=\"-162.8\">Month &lt;= 5.5</text>\n",
              "<text font-family=\"Times,serif\" font-size=\"14.00\" text-anchor=\"middle\" x=\"3481.77\" y=\"-148.8\">entropy = 1.972</text>\n",
              "<text font-family=\"Times,serif\" font-size=\"14.00\" text-anchor=\"middle\" x=\"3481.77\" y=\"-134.8\">samples = 467</text>\n",
              "<text font-family=\"Times,serif\" font-size=\"14.00\" text-anchor=\"middle\" x=\"3481.77\" y=\"-120.8\">value = [4, 18, 112, 188, 21, 0, 124, 0]</text>\n",
              "<text font-family=\"Times,serif\" font-size=\"14.00\" text-anchor=\"middle\" x=\"3481.77\" y=\"-106.8\">class = 3</text>\n",
              "</g>\n",
              "<!-- 24&#45;&gt;28 -->\n",
              "<g class=\"edge\" id=\"edge28\">\n",
              "<title>24-&gt;28</title>\n",
              "<path d=\"M3248.11,-213.93C3283.01,-202.88 3321.2,-190.8 3356.4,-179.66\" fill=\"none\" stroke=\"black\"/>\n",
              "<polygon fill=\"black\" points=\"3357.77,-182.9 3366.25,-176.55 3355.66,-176.23 3357.77,-182.9\" stroke=\"black\"/>\n",
              "</g>\n",
              "<!-- 26 -->\n",
              "<g class=\"node\" id=\"node27\">\n",
              "<title>26</title>\n",
              "<polygon fill=\"#e0fbf2\" points=\"3125.31,-64 2922.23,-64 2922.23,0 3125.31,0 3125.31,-64\" stroke=\"black\"/>\n",
              "<text font-family=\"Times,serif\" font-size=\"14.00\" text-anchor=\"middle\" x=\"3023.77\" y=\"-48.8\">entropy = 2.161</text>\n",
              "<text font-family=\"Times,serif\" font-size=\"14.00\" text-anchor=\"middle\" x=\"3023.77\" y=\"-34.8\">samples = 174</text>\n",
              "<text font-family=\"Times,serif\" font-size=\"14.00\" text-anchor=\"middle\" x=\"3023.77\" y=\"-20.8\">value = [6, 4, 34, 66, 17, 0, 46, 1]</text>\n",
              "<text font-family=\"Times,serif\" font-size=\"14.00\" text-anchor=\"middle\" x=\"3023.77\" y=\"-6.8\">class = 3</text>\n",
              "</g>\n",
              "<!-- 25&#45;&gt;26 -->\n",
              "<g class=\"edge\" id=\"edge26\">\n",
              "<title>25-&gt;26</title>\n",
              "<path d=\"M3089.93,-99.8C3080.76,-90.54 3070.96,-80.65 3061.79,-71.38\" fill=\"none\" stroke=\"black\"/>\n",
              "<polygon fill=\"black\" points=\"3064.11,-68.76 3054.59,-64.12 3059.14,-73.69 3064.11,-68.76\" stroke=\"black\"/>\n",
              "</g>\n",
              "<!-- 27 -->\n",
              "<g class=\"node\" id=\"node28\">\n",
              "<title>27</title>\n",
              "<polygon fill=\"#effdf8\" points=\"3361.31,-64 3144.23,-64 3144.23,0 3361.31,0 3361.31,-64\" stroke=\"black\"/>\n",
              "<text font-family=\"Times,serif\" font-size=\"14.00\" text-anchor=\"middle\" x=\"3252.77\" y=\"-48.8\">entropy = 2.502</text>\n",
              "<text font-family=\"Times,serif\" font-size=\"14.00\" text-anchor=\"middle\" x=\"3252.77\" y=\"-34.8\">samples = 249</text>\n",
              "<text font-family=\"Times,serif\" font-size=\"14.00\" text-anchor=\"middle\" x=\"3252.77\" y=\"-20.8\">value = [7, 14, 30, 76, 61, 0, 36, 25]</text>\n",
              "<text font-family=\"Times,serif\" font-size=\"14.00\" text-anchor=\"middle\" x=\"3252.77\" y=\"-6.8\">class = 3</text>\n",
              "</g>\n",
              "<!-- 25&#45;&gt;27 -->\n",
              "<g class=\"edge\" id=\"edge27\">\n",
              "<title>25-&gt;27</title>\n",
              "<path d=\"M3173.25,-99.8C3184.59,-90.27 3196.75,-80.06 3208.05,-70.56\" fill=\"none\" stroke=\"black\"/>\n",
              "<polygon fill=\"black\" points=\"3210.32,-73.23 3215.72,-64.12 3205.82,-67.87 3210.32,-73.23\" stroke=\"black\"/>\n",
              "</g>\n",
              "<!-- 29 -->\n",
              "<g class=\"node\" id=\"node30\">\n",
              "<title>29</title>\n",
              "<polygon fill=\"#edfdf8\" points=\"3583.31,-64 3380.23,-64 3380.23,0 3583.31,0 3583.31,-64\" stroke=\"black\"/>\n",
              "<text font-family=\"Times,serif\" font-size=\"14.00\" text-anchor=\"middle\" x=\"3481.77\" y=\"-48.8\">entropy = 1.924</text>\n",
              "<text font-family=\"Times,serif\" font-size=\"14.00\" text-anchor=\"middle\" x=\"3481.77\" y=\"-34.8\">samples = 206</text>\n",
              "<text font-family=\"Times,serif\" font-size=\"14.00\" text-anchor=\"middle\" x=\"3481.77\" y=\"-20.8\">value = [3, 12, 61, 74, 1, 0, 55, 0]</text>\n",
              "<text font-family=\"Times,serif\" font-size=\"14.00\" text-anchor=\"middle\" x=\"3481.77\" y=\"-6.8\">class = 3</text>\n",
              "</g>\n",
              "<!-- 28&#45;&gt;29 -->\n",
              "<g class=\"edge\" id=\"edge29\">\n",
              "<title>28-&gt;29</title>\n",
              "<path d=\"M3481.77,-99.8C3481.77,-91.46 3481.77,-82.6 3481.77,-74.15\" fill=\"none\" stroke=\"black\"/>\n",
              "<polygon fill=\"black\" points=\"3485.27,-74.12 3481.77,-64.12 3478.27,-74.12 3485.27,-74.12\" stroke=\"black\"/>\n",
              "</g>\n",
              "<!-- 30 -->\n",
              "<g class=\"node\" id=\"node31\">\n",
              "<title>30</title>\n",
              "<polygon fill=\"#d1f9ec\" points=\"3811.79,-64 3601.74,-64 3601.74,0 3811.79,0 3811.79,-64\" stroke=\"black\"/>\n",
              "<text font-family=\"Times,serif\" font-size=\"14.00\" text-anchor=\"middle\" x=\"3706.77\" y=\"-48.8\">entropy = 1.93</text>\n",
              "<text font-family=\"Times,serif\" font-size=\"14.00\" text-anchor=\"middle\" x=\"3706.77\" y=\"-34.8\">samples = 261</text>\n",
              "<text font-family=\"Times,serif\" font-size=\"14.00\" text-anchor=\"middle\" x=\"3706.77\" y=\"-20.8\">value = [1, 6, 51, 114, 20, 0, 69, 0]</text>\n",
              "<text font-family=\"Times,serif\" font-size=\"14.00\" text-anchor=\"middle\" x=\"3706.77\" y=\"-6.8\">class = 3</text>\n",
              "</g>\n",
              "<!-- 28&#45;&gt;30 -->\n",
              "<g class=\"edge\" id=\"edge30\">\n",
              "<title>28-&gt;30</title>\n",
              "<path d=\"M3563.32,-99.94C3585.44,-89.62 3609.29,-78.49 3631.07,-68.33\" fill=\"none\" stroke=\"black\"/>\n",
              "<polygon fill=\"black\" points=\"3632.68,-71.44 3640.26,-64.04 3629.72,-65.09 3632.68,-71.44\" stroke=\"black\"/>\n",
              "</g>\n",
              "</g>\n",
              "</svg>"
            ]
          },
          "metadata": {}
        }
      ],
      "execution_count": 228,
      "metadata": {
        "inputHidden": false,
        "outputHidden": false
      }
    },
    {
      "cell_type": "code",
      "source": [
        "#Import scikit-learn metrics module for accuracy calculation\n",
        "from sklearn import metrics\n",
        "# Model Accuracy, how often is the classifier correct?\n",
        "print(\"Accuracy:\",metrics.accuracy_score(y_test, y_pred))"
      ],
      "outputs": [
        {
          "output_type": "stream",
          "name": "stdout",
          "text": [
            "Accuracy: 0.15862068965517243\n"
          ]
        }
      ],
      "execution_count": 229,
      "metadata": {
        "collapsed": false,
        "outputHidden": false,
        "inputHidden": false
      }
    },
    {
      "cell_type": "code",
      "source": [
        "#make a prediction for a single item,\n",
        "clf.predict([[3, 5, 4, 2,0]])"
      ],
      "outputs": [
        {
          "output_type": "execute_result",
          "execution_count": 230,
          "data": {
            "text/plain": [
              "array([1])"
            ]
          },
          "metadata": {}
        }
      ],
      "execution_count": 230,
      "metadata": {
        "collapsed": false,
        "outputHidden": false,
        "inputHidden": false
      }
    },
    {
      "cell_type": "code",
      "source": [
        "import matplotlib.pyplot as plt\n",
        "import seaborn as sns\n",
        "%matplotlib inline\n",
        "# Creating a bar plot\n",
        "sns.barplot(x=X_train.columns, y=clf.feature_importances_)\n",
        "# Add labels to your graph\n",
        "plt.xlabel('Feature Importance Score')\n",
        "plt.ylabel('Features')\n",
        "plt.title(\"Visualizing Important Features\")\n",
        "plt.legend()\n",
        "plt.show()\n",
        "\n"
      ],
      "outputs": [
        {
          "output_type": "stream",
          "name": "stderr",
          "text": [
            "No handles with labels found to put in legend.\n"
          ]
        },
        {
          "output_type": "display_data",
          "data": {
            "text/plain": [
              "<Figure size 432x288 with 1 Axes>"
            ],
            "image/png": "[encoded data removed]"
          },
          "metadata": {
            "needs_background": "light"
          }
        }
      ],
      "execution_count": 231,
      "metadata": {
        "collapsed": false,
        "outputHidden": false,
        "inputHidden": false
      }
    },
    {
      "cell_type": "code",
      "source": [
        "#[('Port Code', 0.8211952279698288),\n",
        "#('Canada Border', 0.08627330116334954),\n",
        "#('Year', 0.0731548912786358),\n",
        "#('Month', 0.019376579588185828),\n",
        "#('Mexico Border', 0.0)]"
      ],
      "outputs": [],
      "execution_count": null,
      "metadata": {
        "collapsed": false,
        "outputHidden": false,
        "inputHidden": false
      }
    },
    {
      "cell_type": "code",
      "source": [],
      "outputs": [],
      "execution_count": null,
      "metadata": {
        "collapsed": false,
        "outputHidden": false,
        "inputHidden": false
      }
    }
  ],
  "metadata": {
    "kernel_info": {
      "name": "python3"
    },
    "kernelspec": {
      "name": "python3",
      "language": "python",
      "display_name": "Python 3"
    },
    "language_info": {
      "name": "python",
      "version": "3.7.3",
      "mimetype": "text/x-python",
      "codemirror_mode": {
        "name": "ipython",
        "version": 3
      },
      "pygments_lexer": "ipython3",
      "nbconvert_exporter": "python",
      "file_extension": ".py"
    },
    "nteract": {
      "version": "0.15.0"
    }
  },
  "nbformat": 4,
  "nbformat_minor": 1
}