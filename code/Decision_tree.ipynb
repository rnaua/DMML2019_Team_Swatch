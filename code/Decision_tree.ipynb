{
  "cells": [
    {
      "cell_type": "markdown",
      "source": [
        "## Decision tree\n",
        "\n",
        "-> see LAB 7.1"
      ],
      "metadata": {}
    },
    {
      "cell_type": "code",
      "source": [
        "import pandas as pd"
      ],
      "outputs": [],
      "execution_count": 233,
      "metadata": {
        "collapsed": false,
        "outputHidden": false,
        "inputHidden": false
      }
    },
    {
      "cell_type": "code",
      "source": [
        "df= pd.read_csv(\"/Users/tanjamarkotic/Desktop/DMML2019_Team_Swatch/data/DataWithLocationCleaned.csv.gz\")"
      ],
      "outputs": [],
      "execution_count": 234,
      "metadata": {
        "collapsed": false,
        "outputHidden": false,
        "inputHidden": false
      }
    },
    {
      "cell_type": "code",
      "source": [
        "import matplotlib.pyplot as plt\n",
        "%matplotlib inline\n",
        "import numpy as np\n",
        "import pandas as pd\n",
        "import seaborn as sns\n",
        "sns.set_style(\"darkgrid\")\n",
        "from sklearn.tree import DecisionTreeClassifier\n",
        "from sklearn.preprocessing import LabelEncoder, OneHotEncoder"
      ],
      "outputs": [],
      "execution_count": 235,
      "metadata": {
        "collapsed": false,
        "outputHidden": false,
        "inputHidden": false
      }
    },
    {
      "cell_type": "code",
      "source": [
        "df.head()"
      ],
      "outputs": [
        {
          "output_type": "execute_result",
          "execution_count": 236,
          "data": {
            "text/plain": [
              "  Port Name      State  Port Code            Border        Date  \\\n",
              "0   Warroad  Minnesota       3423  US-Canada Border  2019-06-01   \n",
              "1   Warroad  Minnesota       3423  US-Canada Border  2019-06-01   \n",
              "2   Warroad  Minnesota       3423  US-Canada Border  2019-06-01   \n",
              "3   Warroad  Minnesota       3423  US-Canada Border  2019-06-01   \n",
              "4   Warroad  Minnesota       3423  US-Canada Border  2019-06-01   \n",
              "\n",
              "                       Measure  Value  Year  Month                 position  \n",
              "0        Truck Containers Full    133  2019      6  (48.905266, -95.314404)  \n",
              "1       Truck Containers Empty    298  2019      6  (48.905266, -95.314404)  \n",
              "2            Personal Vehicles  10383  2019      6  (48.905266, -95.314404)  \n",
              "3  Personal Vehicle Passengers  19459  2019      6  (48.905266, -95.314404)  \n",
              "4                  Pedestrians      2  2019      6  (48.905266, -95.314404)  "
            ],
            "text/html": [
              "<div>\n",
              "<style scoped>\n",
              "    .dataframe tbody tr th:only-of-type {\n",
              "        vertical-align: middle;\n",
              "    }\n",
              "\n",
              "    .dataframe tbody tr th {\n",
              "        vertical-align: top;\n",
              "    }\n",
              "\n",
              "    .dataframe thead th {\n",
              "        text-align: right;\n",
              "    }\n",
              "</style>\n",
              "<table border=\"1\" class=\"dataframe\">\n",
              "  <thead>\n",
              "    <tr style=\"text-align: right;\">\n",
              "      <th></th>\n",
              "      <th>Port Name</th>\n",
              "      <th>State</th>\n",
              "      <th>Port Code</th>\n",
              "      <th>Border</th>\n",
              "      <th>Date</th>\n",
              "      <th>Measure</th>\n",
              "      <th>Value</th>\n",
              "      <th>Year</th>\n",
              "      <th>Month</th>\n",
              "      <th>position</th>\n",
              "    </tr>\n",
              "  </thead>\n",
              "  <tbody>\n",
              "    <tr>\n",
              "      <th>0</th>\n",
              "      <td>Warroad</td>\n",
              "      <td>Minnesota</td>\n",
              "      <td>3423</td>\n",
              "      <td>US-Canada Border</td>\n",
              "      <td>2019-06-01</td>\n",
              "      <td>Truck Containers Full</td>\n",
              "      <td>133</td>\n",
              "      <td>2019</td>\n",
              "      <td>6</td>\n",
              "      <td>(48.905266, -95.314404)</td>\n",
              "    </tr>\n",
              "    <tr>\n",
              "      <th>1</th>\n",
              "      <td>Warroad</td>\n",
              "      <td>Minnesota</td>\n",
              "      <td>3423</td>\n",
              "      <td>US-Canada Border</td>\n",
              "      <td>2019-06-01</td>\n",
              "      <td>Truck Containers Empty</td>\n",
              "      <td>298</td>\n",
              "      <td>2019</td>\n",
              "      <td>6</td>\n",
              "      <td>(48.905266, -95.314404)</td>\n",
              "    </tr>\n",
              "    <tr>\n",
              "      <th>2</th>\n",
              "      <td>Warroad</td>\n",
              "      <td>Minnesota</td>\n",
              "      <td>3423</td>\n",
              "      <td>US-Canada Border</td>\n",
              "      <td>2019-06-01</td>\n",
              "      <td>Personal Vehicles</td>\n",
              "      <td>10383</td>\n",
              "      <td>2019</td>\n",
              "      <td>6</td>\n",
              "      <td>(48.905266, -95.314404)</td>\n",
              "    </tr>\n",
              "    <tr>\n",
              "      <th>3</th>\n",
              "      <td>Warroad</td>\n",
              "      <td>Minnesota</td>\n",
              "      <td>3423</td>\n",
              "      <td>US-Canada Border</td>\n",
              "      <td>2019-06-01</td>\n",
              "      <td>Personal Vehicle Passengers</td>\n",
              "      <td>19459</td>\n",
              "      <td>2019</td>\n",
              "      <td>6</td>\n",
              "      <td>(48.905266, -95.314404)</td>\n",
              "    </tr>\n",
              "    <tr>\n",
              "      <th>4</th>\n",
              "      <td>Warroad</td>\n",
              "      <td>Minnesota</td>\n",
              "      <td>3423</td>\n",
              "      <td>US-Canada Border</td>\n",
              "      <td>2019-06-01</td>\n",
              "      <td>Pedestrians</td>\n",
              "      <td>2</td>\n",
              "      <td>2019</td>\n",
              "      <td>6</td>\n",
              "      <td>(48.905266, -95.314404)</td>\n",
              "    </tr>\n",
              "  </tbody>\n",
              "</table>\n",
              "</div>"
            ]
          },
          "metadata": {}
        }
      ],
      "execution_count": 236,
      "metadata": {
        "collapsed": false,
        "outputHidden": false,
        "inputHidden": false
      }
    },
    {
      "cell_type": "code",
      "source": [
        "# checking types\n",
        "df.dtypes"
      ],
      "outputs": [
        {
          "output_type": "execute_result",
          "execution_count": 237,
          "data": {
            "text/plain": [
              "Port Name    object\n",
              "State        object\n",
              "Port Code     int64\n",
              "Border       object\n",
              "Date         object\n",
              "Measure      object\n",
              "Value         int64\n",
              "Year          int64\n",
              "Month         int64\n",
              "position     object\n",
              "dtype: object"
            ]
          },
          "metadata": {}
        }
      ],
      "execution_count": 237,
      "metadata": {
        "collapsed": false,
        "outputHidden": false,
        "inputHidden": false
      }
    },
    {
      "cell_type": "code",
      "source": [
        "# correct types and add columns longitude/latitude cleaned\n",
        "df['Date'] = pd.to_datetime(df['Date'])\n",
        "df['position']=df['position'].str.replace(\" \", \"\").str.strip('(').str.strip(')')\n",
        "df['latitude']=df['position'].str.split(',').str[0].str.split('.').str[0]\n",
        "df['longitude']=df['position'].str.split(',').str[1].str.split('.').str[0]\n",
        "df['latitude'] = df['latitude'].replace(['InternationalFalls'], 48)\n",
        "df['latitude'] = df['latitude'].replace(['PleasantCamp'], 59)\n",
        "df['latitude'] = df['latitude'].replace(\"\\'48\", '48')\n",
        "df['latitude'] = df['latitude'].replace(\"\\'44\", '44')\n",
        "df['longitude'] = df['longitude'].replace('KoochichingCounty', '-93')\n",
        "df['longitude'] = df['longitude'].replace('Skagway', '-136')\n",
        "df['longitude'] = df['longitude'].replace('\\'-116', '-116')\n",
        "df['longitude'] = df['longitude'].replace('\\'-66', '-66')\n",
        "df['latitude'] = pd.to_numeric(df['latitude'])\n",
        "df['longitude'] = pd.to_numeric(df['longitude'])\n",
        "df.dtypes\n"
      ],
      "outputs": [
        {
          "output_type": "execute_result",
          "execution_count": 238,
          "data": {
            "text/plain": [
              "Port Name            object\n",
              "State                object\n",
              "Port Code             int64\n",
              "Border               object\n",
              "Date         datetime64[ns]\n",
              "Measure              object\n",
              "Value                 int64\n",
              "Year                  int64\n",
              "Month                 int64\n",
              "position             object\n",
              "latitude              int64\n",
              "longitude             int64\n",
              "dtype: object"
            ]
          },
          "metadata": {}
        }
      ],
      "execution_count": 238,
      "metadata": {
        "collapsed": false,
        "outputHidden": false,
        "inputHidden": false
      }
    },
    {
      "cell_type": "code",
      "source": [
        "df = df[df['Measure'].isin(['Bus Passengers','Pedestrians','Personal Vehicle Passengers','Train Passengers'])]\n",
        "df = df.reset_index(drop=True)\n",
        "df.shape\n"
      ],
      "outputs": [
        {
          "output_type": "execute_result",
          "execution_count": 239,
          "data": {
            "text/plain": [
              "(116131, 12)"
            ]
          },
          "metadata": {}
        }
      ],
      "execution_count": 239,
      "metadata": {
        "collapsed": false,
        "outputHidden": false,
        "inputHidden": false
      }
    },
    {
      "cell_type": "code",
      "source": [
        "df.groupby(['Port Name']).sum().sort_values(['Value'],\n",
        "                                            ascending=False).head()\n",
        "\n"
      ],
      "outputs": [
        {
          "output_type": "execute_result",
          "execution_count": 240,
          "data": {
            "text/plain": [
              "            Port Code      Value     Year  Month  latitude  longitude\n",
              "Port Name                                                            \n",
              "San Ysidro    2736872  820753587  2193570   7033     34976    -127881\n",
              "El Paso       2709456  813405376  2264184   7260     34968    -119568\n",
              "Laredo        2518272  435119695  2193570   7033     29511    -108207\n",
              "Hidalgo       2519365  406092835  2193570   7033     28418    -107114\n",
              "Calexico      2648174  401463611  2122956   6806     33856    -121670"
            ],
            "text/html": [
              "<div>\n",
              "<style scoped>\n",
              "    .dataframe tbody tr th:only-of-type {\n",
              "        vertical-align: middle;\n",
              "    }\n",
              "\n",
              "    .dataframe tbody tr th {\n",
              "        vertical-align: top;\n",
              "    }\n",
              "\n",
              "    .dataframe thead th {\n",
              "        text-align: right;\n",
              "    }\n",
              "</style>\n",
              "<table border=\"1\" class=\"dataframe\">\n",
              "  <thead>\n",
              "    <tr style=\"text-align: right;\">\n",
              "      <th></th>\n",
              "      <th>Port Code</th>\n",
              "      <th>Value</th>\n",
              "      <th>Year</th>\n",
              "      <th>Month</th>\n",
              "      <th>latitude</th>\n",
              "      <th>longitude</th>\n",
              "    </tr>\n",
              "    <tr>\n",
              "      <th>Port Name</th>\n",
              "      <th></th>\n",
              "      <th></th>\n",
              "      <th></th>\n",
              "      <th></th>\n",
              "      <th></th>\n",
              "      <th></th>\n",
              "    </tr>\n",
              "  </thead>\n",
              "  <tbody>\n",
              "    <tr>\n",
              "      <th>San Ysidro</th>\n",
              "      <td>2736872</td>\n",
              "      <td>820753587</td>\n",
              "      <td>2193570</td>\n",
              "      <td>7033</td>\n",
              "      <td>34976</td>\n",
              "      <td>-127881</td>\n",
              "    </tr>\n",
              "    <tr>\n",
              "      <th>El Paso</th>\n",
              "      <td>2709456</td>\n",
              "      <td>813405376</td>\n",
              "      <td>2264184</td>\n",
              "      <td>7260</td>\n",
              "      <td>34968</td>\n",
              "      <td>-119568</td>\n",
              "    </tr>\n",
              "    <tr>\n",
              "      <th>Laredo</th>\n",
              "      <td>2518272</td>\n",
              "      <td>435119695</td>\n",
              "      <td>2193570</td>\n",
              "      <td>7033</td>\n",
              "      <td>29511</td>\n",
              "      <td>-108207</td>\n",
              "    </tr>\n",
              "    <tr>\n",
              "      <th>Hidalgo</th>\n",
              "      <td>2519365</td>\n",
              "      <td>406092835</td>\n",
              "      <td>2193570</td>\n",
              "      <td>7033</td>\n",
              "      <td>28418</td>\n",
              "      <td>-107114</td>\n",
              "    </tr>\n",
              "    <tr>\n",
              "      <th>Calexico</th>\n",
              "      <td>2648174</td>\n",
              "      <td>401463611</td>\n",
              "      <td>2122956</td>\n",
              "      <td>6806</td>\n",
              "      <td>33856</td>\n",
              "      <td>-121670</td>\n",
              "    </tr>\n",
              "  </tbody>\n",
              "</table>\n",
              "</div>"
            ]
          },
          "metadata": {}
        }
      ],
      "execution_count": 240,
      "metadata": {
        "collapsed": false,
        "outputHidden": false,
        "inputHidden": false
      }
    },
    {
      "cell_type": "code",
      "source": [
        "df.shape"
      ],
      "outputs": [
        {
          "output_type": "execute_result",
          "execution_count": 241,
          "data": {
            "text/plain": [
              "(116131, 12)"
            ]
          },
          "metadata": {}
        }
      ],
      "execution_count": 241,
      "metadata": {
        "collapsed": false,
        "outputHidden": false,
        "inputHidden": false
      }
    },
    {
      "cell_type": "code",
      "source": [
        " df.isnull().sum()"
      ],
      "outputs": [
        {
          "output_type": "execute_result",
          "execution_count": 242,
          "data": {
            "text/plain": [
              "Port Name    0\n",
              "State        0\n",
              "Port Code    0\n",
              "Border       0\n",
              "Date         0\n",
              "Measure      0\n",
              "Value        0\n",
              "Year         0\n",
              "Month        0\n",
              "position     0\n",
              "latitude     0\n",
              "longitude    0\n",
              "dtype: int64"
            ]
          },
          "metadata": {}
        }
      ],
      "execution_count": 242,
      "metadata": {
        "collapsed": false,
        "outputHidden": false,
        "inputHidden": false
      }
    },
    {
      "cell_type": "code",
      "source": [
        "# check values...\n",
        "df['Value'].describe()"
      ],
      "outputs": [
        {
          "output_type": "execute_result",
          "execution_count": 243,
          "data": {
            "text/plain": [
              "count    1.161310e+05\n",
              "mean     5.778344e+04\n",
              "std      2.366958e+05\n",
              "min      0.000000e+00\n",
              "25%      0.000000e+00\n",
              "50%      1.560000e+02\n",
              "75%      6.943000e+03\n",
              "max      4.447374e+06\n",
              "Name: Value, dtype: float64"
            ]
          },
          "metadata": {}
        }
      ],
      "execution_count": 243,
      "metadata": {
        "collapsed": false,
        "outputHidden": false,
        "inputHidden": false
      }
    },
    {
      "cell_type": "code",
      "source": [
        "df['Value category'], bins = pd.cut(df.Value, retbins = True, right=False, labels = False, bins = 8)"
      ],
      "outputs": [],
      "execution_count": 244,
      "metadata": {
        "collapsed": false,
        "outputHidden": false,
        "inputHidden": false
      }
    },
    {
      "cell_type": "code",
      "source": [
        "bins"
      ],
      "outputs": [
        {
          "output_type": "execute_result",
          "execution_count": 245,
          "data": {
            "text/plain": [
              "array([      0.   ,  555921.75 , 1111843.5  , 1667765.25 , 2223687.   ,\n",
              "       2779608.75 , 3335530.5  , 3891452.25 , 4451821.374])"
            ]
          },
          "metadata": {}
        }
      ],
      "execution_count": 245,
      "metadata": {
        "collapsed": false,
        "outputHidden": false,
        "inputHidden": false
      }
    },
    {
      "cell_type": "code",
      "source": [
        "# check categories...\n",
        "df.sort_values(['Value'],ascending=False).head()"
      ],
      "outputs": [
        {
          "output_type": "execute_result",
          "execution_count": 246,
          "data": {
            "text/plain": [
              "      Port Name  State  Port Code            Border       Date  \\\n",
              "90369   El Paso  Texas       2402  US-Mexico Border 2001-03-01   \n",
              "93325   El Paso  Texas       2402  US-Mexico Border 2000-08-01   \n",
              "90890   El Paso  Texas       2402  US-Mexico Border 2001-02-01   \n",
              "90034   El Paso  Texas       2402  US-Mexico Border 2001-04-01   \n",
              "93966   El Paso  Texas       2402  US-Mexico Border 2000-06-01   \n",
              "\n",
              "                           Measure    Value  Year  Month  \\\n",
              "90369  Personal Vehicle Passengers  4447374  2001      3   \n",
              "93325  Personal Vehicle Passengers  4291774  2000      8   \n",
              "90890  Personal Vehicle Passengers  4281175  2001      2   \n",
              "90034  Personal Vehicle Passengers  4252128  2001      4   \n",
              "93966  Personal Vehicle Passengers  4235244  2000      6   \n",
              "\n",
              "                     position  latitude  longitude  Value category  \n",
              "90369  31.7600372,-106.487287        31       -106               7  \n",
              "93325  31.7600372,-106.487287        31       -106               7  \n",
              "90890  31.7600372,-106.487287        31       -106               7  \n",
              "90034  31.7600372,-106.487287        31       -106               7  \n",
              "93966  31.7600372,-106.487287        31       -106               7  "
            ],
            "text/html": [
              "<div>\n",
              "<style scoped>\n",
              "    .dataframe tbody tr th:only-of-type {\n",
              "        vertical-align: middle;\n",
              "    }\n",
              "\n",
              "    .dataframe tbody tr th {\n",
              "        vertical-align: top;\n",
              "    }\n",
              "\n",
              "    .dataframe thead th {\n",
              "        text-align: right;\n",
              "    }\n",
              "</style>\n",
              "<table border=\"1\" class=\"dataframe\">\n",
              "  <thead>\n",
              "    <tr style=\"text-align: right;\">\n",
              "      <th></th>\n",
              "      <th>Port Name</th>\n",
              "      <th>State</th>\n",
              "      <th>Port Code</th>\n",
              "      <th>Border</th>\n",
              "      <th>Date</th>\n",
              "      <th>Measure</th>\n",
              "      <th>Value</th>\n",
              "      <th>Year</th>\n",
              "      <th>Month</th>\n",
              "      <th>position</th>\n",
              "      <th>latitude</th>\n",
              "      <th>longitude</th>\n",
              "      <th>Value category</th>\n",
              "    </tr>\n",
              "  </thead>\n",
              "  <tbody>\n",
              "    <tr>\n",
              "      <th>90369</th>\n",
              "      <td>El Paso</td>\n",
              "      <td>Texas</td>\n",
              "      <td>2402</td>\n",
              "      <td>US-Mexico Border</td>\n",
              "      <td>2001-03-01</td>\n",
              "      <td>Personal Vehicle Passengers</td>\n",
              "      <td>4447374</td>\n",
              "      <td>2001</td>\n",
              "      <td>3</td>\n",
              "      <td>31.7600372,-106.487287</td>\n",
              "      <td>31</td>\n",
              "      <td>-106</td>\n",
              "      <td>7</td>\n",
              "    </tr>\n",
              "    <tr>\n",
              "      <th>93325</th>\n",
              "      <td>El Paso</td>\n",
              "      <td>Texas</td>\n",
              "      <td>2402</td>\n",
              "      <td>US-Mexico Border</td>\n",
              "      <td>2000-08-01</td>\n",
              "      <td>Personal Vehicle Passengers</td>\n",
              "      <td>4291774</td>\n",
              "      <td>2000</td>\n",
              "      <td>8</td>\n",
              "      <td>31.7600372,-106.487287</td>\n",
              "      <td>31</td>\n",
              "      <td>-106</td>\n",
              "      <td>7</td>\n",
              "    </tr>\n",
              "    <tr>\n",
              "      <th>90890</th>\n",
              "      <td>El Paso</td>\n",
              "      <td>Texas</td>\n",
              "      <td>2402</td>\n",
              "      <td>US-Mexico Border</td>\n",
              "      <td>2001-02-01</td>\n",
              "      <td>Personal Vehicle Passengers</td>\n",
              "      <td>4281175</td>\n",
              "      <td>2001</td>\n",
              "      <td>2</td>\n",
              "      <td>31.7600372,-106.487287</td>\n",
              "      <td>31</td>\n",
              "      <td>-106</td>\n",
              "      <td>7</td>\n",
              "    </tr>\n",
              "    <tr>\n",
              "      <th>90034</th>\n",
              "      <td>El Paso</td>\n",
              "      <td>Texas</td>\n",
              "      <td>2402</td>\n",
              "      <td>US-Mexico Border</td>\n",
              "      <td>2001-04-01</td>\n",
              "      <td>Personal Vehicle Passengers</td>\n",
              "      <td>4252128</td>\n",
              "      <td>2001</td>\n",
              "      <td>4</td>\n",
              "      <td>31.7600372,-106.487287</td>\n",
              "      <td>31</td>\n",
              "      <td>-106</td>\n",
              "      <td>7</td>\n",
              "    </tr>\n",
              "    <tr>\n",
              "      <th>93966</th>\n",
              "      <td>El Paso</td>\n",
              "      <td>Texas</td>\n",
              "      <td>2402</td>\n",
              "      <td>US-Mexico Border</td>\n",
              "      <td>2000-06-01</td>\n",
              "      <td>Personal Vehicle Passengers</td>\n",
              "      <td>4235244</td>\n",
              "      <td>2000</td>\n",
              "      <td>6</td>\n",
              "      <td>31.7600372,-106.487287</td>\n",
              "      <td>31</td>\n",
              "      <td>-106</td>\n",
              "      <td>7</td>\n",
              "    </tr>\n",
              "  </tbody>\n",
              "</table>\n",
              "</div>"
            ]
          },
          "metadata": {}
        }
      ],
      "execution_count": 246,
      "metadata": {
        "collapsed": false,
        "outputHidden": false,
        "inputHidden": false
      }
    },
    {
      "cell_type": "code",
      "source": [
        "df['Value category'].value_counts()"
      ],
      "outputs": [
        {
          "output_type": "execute_result",
          "execution_count": 247,
          "data": {
            "text/plain": [
              "0    112377\n",
              "1      2512\n",
              "2       635\n",
              "3       346\n",
              "4       127\n",
              "5        69\n",
              "6        45\n",
              "7        20\n",
              "Name: Value category, dtype: int64"
            ]
          },
          "metadata": {}
        }
      ],
      "execution_count": 247,
      "metadata": {
        "collapsed": false,
        "outputHidden": false,
        "inputHidden": false
      }
    },
    {
      "cell_type": "code",
      "source": [
        "ports = df['Port Name'].unique()\n",
        "goods = []\n",
        "for port in ports:\n",
        "    if (df[(df['Port Name'] == port) &(df['Value'] != 0)].shape[0]>1100):\n",
        "        goods.append(port)\n",
        "print(\"number of ports : \",len(goods))\n",
        "print(\"port names: \", goods)\n",
        "print(\"number of observations  \",df[df['Port Name'].isin(goods)].shape[0])\n"
      ],
      "outputs": [
        {
          "output_type": "stream",
          "name": "stdout",
          "text": [
            "number of ports :  9\n",
            "port names:  ['Sumas', 'Champlain-Rouses Point', 'Buffalo-Niagara Falls', 'Portal', 'International Falls-Ranier', 'Otay Mesa', 'Eastport_ID', 'Jackman', 'Sweetgrass']\n",
            "number of observations   10147\n"
          ]
        }
      ],
      "execution_count": 252,
      "metadata": {
        "collapsed": false,
        "outputHidden": false,
        "inputHidden": false
      }
    },
    {
      "cell_type": "code",
      "source": [
        "\n",
        "df = df[df['Port Name'].isin(goods)].reset_index(drop=True)\n",
        "#df[df['Port Name'].isin(goods)]['Value'].hist(range=[0,500])\n",
        "df.shape"
      ],
      "outputs": [
        {
          "output_type": "execute_result",
          "execution_count": 253,
          "data": {
            "text/plain": [
              "(10147, 13)"
            ]
          },
          "metadata": {}
        }
      ],
      "execution_count": 253,
      "metadata": {
        "collapsed": false,
        "outputHidden": false,
        "inputHidden": false
      }
    },
    {
      "cell_type": "code",
      "source": [
        "df['Value category'].value_counts()"
      ],
      "outputs": [
        {
          "output_type": "execute_result",
          "execution_count": 254,
          "data": {
            "text/plain": [
              "0    9592\n",
              "1     418\n",
              "2     109\n",
              "3      24\n",
              "4       4\n",
              "Name: Value category, dtype: int64"
            ]
          },
          "metadata": {}
        }
      ],
      "execution_count": 254,
      "metadata": {
        "collapsed": false,
        "outputHidden": false,
        "inputHidden": false
      }
    },
    {
      "cell_type": "code",
      "source": [
        "#df['Value in millions'] = (df['Value']/1000000).apply(lambda x: '{:,.2f}'.format(x))"
      ],
      "outputs": [],
      "execution_count": 165,
      "metadata": {
        "collapsed": false,
        "outputHidden": false,
        "inputHidden": false
      }
    },
    {
      "cell_type": "code",
      "source": [
        "#features but possibly add lat, long, measure\n",
        "X = df[[\"Year\",\"Month\", \"Port Code\"]]\n",
        "y = df[\"Value category\"]\n",
        "X.shape"
      ],
      "outputs": [
        {
          "output_type": "execute_result",
          "execution_count": 255,
          "data": {
            "text/plain": [
              "(10147, 3)"
            ]
          },
          "metadata": {}
        }
      ],
      "execution_count": 255,
      "metadata": {
        "collapsed": false,
        "outputHidden": false,
        "inputHidden": false
      }
    },
    {
      "cell_type": "code",
      "source": [
        "X.isnull().sum()"
      ],
      "outputs": [
        {
          "output_type": "execute_result",
          "execution_count": 256,
          "data": {
            "text/plain": [
              "Year         0\n",
              "Month        0\n",
              "Port Code    0\n",
              "dtype: int64"
            ]
          },
          "metadata": {}
        }
      ],
      "execution_count": 256,
      "metadata": {
        "collapsed": false,
        "outputHidden": false,
        "inputHidden": false
      }
    },
    {
      "cell_type": "code",
      "source": [
        "X.head()"
      ],
      "outputs": [
        {
          "output_type": "execute_result",
          "execution_count": 257,
          "data": {
            "text/plain": [
              "   Year  Month  Port Code\n",
              "0  2019      6       3009\n",
              "1  2019      6       3009\n",
              "2  2019      6       3009\n",
              "3  2019      6       3009\n",
              "4  2019      6        712"
            ],
            "text/html": [
              "<div>\n",
              "<style scoped>\n",
              "    .dataframe tbody tr th:only-of-type {\n",
              "        vertical-align: middle;\n",
              "    }\n",
              "\n",
              "    .dataframe tbody tr th {\n",
              "        vertical-align: top;\n",
              "    }\n",
              "\n",
              "    .dataframe thead th {\n",
              "        text-align: right;\n",
              "    }\n",
              "</style>\n",
              "<table border=\"1\" class=\"dataframe\">\n",
              "  <thead>\n",
              "    <tr style=\"text-align: right;\">\n",
              "      <th></th>\n",
              "      <th>Year</th>\n",
              "      <th>Month</th>\n",
              "      <th>Port Code</th>\n",
              "    </tr>\n",
              "  </thead>\n",
              "  <tbody>\n",
              "    <tr>\n",
              "      <th>0</th>\n",
              "      <td>2019</td>\n",
              "      <td>6</td>\n",
              "      <td>3009</td>\n",
              "    </tr>\n",
              "    <tr>\n",
              "      <th>1</th>\n",
              "      <td>2019</td>\n",
              "      <td>6</td>\n",
              "      <td>3009</td>\n",
              "    </tr>\n",
              "    <tr>\n",
              "      <th>2</th>\n",
              "      <td>2019</td>\n",
              "      <td>6</td>\n",
              "      <td>3009</td>\n",
              "    </tr>\n",
              "    <tr>\n",
              "      <th>3</th>\n",
              "      <td>2019</td>\n",
              "      <td>6</td>\n",
              "      <td>3009</td>\n",
              "    </tr>\n",
              "    <tr>\n",
              "      <th>4</th>\n",
              "      <td>2019</td>\n",
              "      <td>6</td>\n",
              "      <td>712</td>\n",
              "    </tr>\n",
              "  </tbody>\n",
              "</table>\n",
              "</div>"
            ]
          },
          "metadata": {}
        }
      ],
      "execution_count": 257,
      "metadata": {
        "collapsed": false,
        "outputHidden": false,
        "inputHidden": false
      }
    },
    {
      "cell_type": "code",
      "source": [
        "y = y.astype('int')\n",
        "y.head()\n"
      ],
      "outputs": [
        {
          "output_type": "execute_result",
          "execution_count": 259,
          "data": {
            "text/plain": [
              "0    0\n",
              "1    0\n",
              "2    0\n",
              "3    0\n",
              "4    0\n",
              "Name: Value category, dtype: int64"
            ]
          },
          "metadata": {}
        }
      ],
      "execution_count": 259,
      "metadata": {
        "collapsed": false,
        "outputHidden": false,
        "inputHidden": false
      }
    },
    {
      "cell_type": "code",
      "source": [
        "# one-hot encoding for Border\n",
        "one_hot = OneHotEncoder(categories=\"auto\")\n",
        "cat_to_onehot = one_hot.fit_transform(df[[\"Border\"]]).toarray()\n",
        "cat_to_onehot = pd.DataFrame(cat_to_onehot)\n",
        "cat_to_onehot.shape"
      ],
      "outputs": [
        {
          "output_type": "execute_result",
          "execution_count": 260,
          "data": {
            "text/plain": [
              "(10147, 2)"
            ]
          },
          "metadata": {}
        }
      ],
      "execution_count": 260,
      "metadata": {
        "collapsed": false,
        "outputHidden": false,
        "inputHidden": false
      }
    },
    {
      "cell_type": "code",
      "source": [
        "X = pd.concat((X, cat_to_onehot), axis=1, join='inner').reindex(df.index)\n",
        "\n",
        "X.shape"
      ],
      "outputs": [
        {
          "output_type": "execute_result",
          "execution_count": 261,
          "data": {
            "text/plain": [
              "(10147, 5)"
            ]
          },
          "metadata": {}
        }
      ],
      "execution_count": 261,
      "metadata": {
        "collapsed": false,
        "outputHidden": false,
        "inputHidden": false
      }
    },
    {
      "cell_type": "code",
      "source": [
        "X.isnull().sum()"
      ],
      "outputs": [
        {
          "output_type": "execute_result",
          "execution_count": 262,
          "data": {
            "text/plain": [
              "Year         0\n",
              "Month        0\n",
              "Port Code    0\n",
              "0            0\n",
              "1            0\n",
              "dtype: int64"
            ]
          },
          "metadata": {}
        }
      ],
      "execution_count": 262,
      "metadata": {
        "collapsed": false,
        "outputHidden": false,
        "inputHidden": false
      }
    },
    {
      "cell_type": "code",
      "source": [
        "X= X.astype('int')\n"
      ],
      "outputs": [],
      "execution_count": 263,
      "metadata": {
        "collapsed": false,
        "outputHidden": false,
        "inputHidden": false
      }
    },
    {
      "cell_type": "code",
      "source": [
        "X.head()"
      ],
      "outputs": [
        {
          "output_type": "execute_result",
          "execution_count": 264,
          "data": {
            "text/plain": [
              "   Year  Month  Port Code  0  1\n",
              "0  2019      6       3009  1  0\n",
              "1  2019      6       3009  1  0\n",
              "2  2019      6       3009  1  0\n",
              "3  2019      6       3009  1  0\n",
              "4  2019      6        712  1  0"
            ],
            "text/html": [
              "<div>\n",
              "<style scoped>\n",
              "    .dataframe tbody tr th:only-of-type {\n",
              "        vertical-align: middle;\n",
              "    }\n",
              "\n",
              "    .dataframe tbody tr th {\n",
              "        vertical-align: top;\n",
              "    }\n",
              "\n",
              "    .dataframe thead th {\n",
              "        text-align: right;\n",
              "    }\n",
              "</style>\n",
              "<table border=\"1\" class=\"dataframe\">\n",
              "  <thead>\n",
              "    <tr style=\"text-align: right;\">\n",
              "      <th></th>\n",
              "      <th>Year</th>\n",
              "      <th>Month</th>\n",
              "      <th>Port Code</th>\n",
              "      <th>0</th>\n",
              "      <th>1</th>\n",
              "    </tr>\n",
              "  </thead>\n",
              "  <tbody>\n",
              "    <tr>\n",
              "      <th>0</th>\n",
              "      <td>2019</td>\n",
              "      <td>6</td>\n",
              "      <td>3009</td>\n",
              "      <td>1</td>\n",
              "      <td>0</td>\n",
              "    </tr>\n",
              "    <tr>\n",
              "      <th>1</th>\n",
              "      <td>2019</td>\n",
              "      <td>6</td>\n",
              "      <td>3009</td>\n",
              "      <td>1</td>\n",
              "      <td>0</td>\n",
              "    </tr>\n",
              "    <tr>\n",
              "      <th>2</th>\n",
              "      <td>2019</td>\n",
              "      <td>6</td>\n",
              "      <td>3009</td>\n",
              "      <td>1</td>\n",
              "      <td>0</td>\n",
              "    </tr>\n",
              "    <tr>\n",
              "      <th>3</th>\n",
              "      <td>2019</td>\n",
              "      <td>6</td>\n",
              "      <td>3009</td>\n",
              "      <td>1</td>\n",
              "      <td>0</td>\n",
              "    </tr>\n",
              "    <tr>\n",
              "      <th>4</th>\n",
              "      <td>2019</td>\n",
              "      <td>6</td>\n",
              "      <td>712</td>\n",
              "      <td>1</td>\n",
              "      <td>0</td>\n",
              "    </tr>\n",
              "  </tbody>\n",
              "</table>\n",
              "</div>"
            ]
          },
          "metadata": {}
        }
      ],
      "execution_count": 264,
      "metadata": {
        "collapsed": false,
        "outputHidden": false,
        "inputHidden": false
      }
    },
    {
      "cell_type": "code",
      "source": [
        "from sklearn.model_selection import train_test_split\n",
        "X_train, X_test, y_train, y_test = train_test_split(X, y, test_size=0.2, random_state=72)"
      ],
      "outputs": [],
      "execution_count": 265,
      "metadata": {
        "collapsed": false,
        "outputHidden": false,
        "inputHidden": false
      }
    },
    {
      "cell_type": "code",
      "source": [
        "clf = DecisionTreeClassifier(criterion='entropy')"
      ],
      "outputs": [],
      "execution_count": 266,
      "metadata": {
        "collapsed": false,
        "outputHidden": false,
        "inputHidden": false
      }
    },
    {
      "cell_type": "code",
      "source": [
        "clf.fit(X_train, y_train)"
      ],
      "outputs": [
        {
          "output_type": "execute_result",
          "execution_count": 267,
          "data": {
            "text/plain": [
              "DecisionTreeClassifier(class_weight=None, criterion='entropy', max_depth=None,\n",
              "                       max_features=None, max_leaf_nodes=None,\n",
              "                       min_impurity_decrease=0.0, min_impurity_split=None,\n",
              "                       min_samples_leaf=1, min_samples_split=2,\n",
              "                       min_weight_fraction_leaf=0.0, presort=False,\n",
              "                       random_state=None, splitter='best')"
            ]
          },
          "metadata": {}
        }
      ],
      "execution_count": 267,
      "metadata": {
        "collapsed": false,
        "outputHidden": false,
        "inputHidden": false
      }
    },
    {
      "cell_type": "code",
      "source": [
        "# test accuracy\n",
        "clf.score(X_test,y_test)"
      ],
      "outputs": [
        {
          "output_type": "execute_result",
          "execution_count": 268,
          "data": {
            "text/plain": [
              "0.9315270935960591"
            ]
          },
          "metadata": {}
        }
      ],
      "execution_count": 268,
      "metadata": {
        "collapsed": false,
        "outputHidden": false,
        "inputHidden": false
      }
    },
    {
      "cell_type": "code",
      "source": [
        "# depth of the decision tree\n",
        "clf.get_depth()"
      ],
      "outputs": [
        {
          "output_type": "execute_result",
          "execution_count": 269,
          "data": {
            "text/plain": [
              "16"
            ]
          },
          "metadata": {}
        }
      ],
      "execution_count": 269,
      "metadata": {
        "collapsed": false,
        "outputHidden": false,
        "inputHidden": false
      }
    },
    {
      "cell_type": "markdown",
      "source": [
        "Tuning depth of the tree:"
      ],
      "metadata": {}
    },
    {
      "cell_type": "code",
      "source": [
        "scores = []\n",
        "for d in range(1, 21):\n",
        "    clf = DecisionTreeClassifier(criterion='entropy', max_depth=d)\n",
        "    clf.fit(X_train, y_train)\n",
        "    scores.append(clf.score(X_test, y_test))"
      ],
      "outputs": [],
      "execution_count": 270,
      "metadata": {
        "collapsed": false,
        "outputHidden": false,
        "inputHidden": false
      }
    },
    {
      "cell_type": "code",
      "source": [
        "plt.plot(scores)\n",
        "plt.ylabel('accuracy', fontsize=15)\n",
        "plt.xlabel('depth', fontsize=15)"
      ],
      "outputs": [
        {
          "output_type": "execute_result",
          "execution_count": 271,
          "data": {
            "text/plain": [
              "Text(0.5, 0, 'depth')"
            ]
          },
          "metadata": {}
        },
        {
          "output_type": "display_data",
          "data": {
            "text/plain": [
              "<Figure size 432x288 with 1 Axes>"
            ],
            "image/png": "[encoded data removed]"
          },
          "metadata": {}
        }
      ],
      "execution_count": 271,
      "metadata": {
        "collapsed": false,
        "outputHidden": false,
        "inputHidden": false
      }
    },
    {
      "cell_type": "code",
      "source": [
        "# best depth\n",
        "np.argmax(scores)"
      ],
      "outputs": [
        {
          "output_type": "execute_result",
          "execution_count": 272,
          "data": {
            "text/plain": [
              "0"
            ]
          },
          "metadata": {}
        }
      ],
      "execution_count": 272,
      "metadata": {
        "collapsed": false,
        "outputHidden": false,
        "inputHidden": false
      }
    },
    {
      "cell_type": "markdown",
      "source": [
        "Feature importance"
      ],
      "metadata": {}
    },
    {
      "cell_type": "code",
      "source": [
        "# feature importances for best classifier\n",
        "clf = DecisionTreeClassifier(criterion='entropy', max_depth=4)\n",
        "clf.fit(X_train, y_train)\n",
        "clf.feature_importances_"
      ],
      "outputs": [
        {
          "output_type": "execute_result",
          "execution_count": 273,
          "data": {
            "text/plain": [
              "array([0.04629746, 0.        , 0.95370254, 0.        , 0.        ])"
            ]
          },
          "metadata": {}
        }
      ],
      "execution_count": 273,
      "metadata": {
        "collapsed": false,
        "outputHidden": false,
        "inputHidden": false
      }
    },
    {
      "cell_type": "code",
      "source": [
        "sorted(zip(X_train.columns, clf.feature_importances_), key=lambda x: x[1], reverse=True)"
      ],
      "outputs": [
        {
          "output_type": "execute_result",
          "execution_count": 274,
          "data": {
            "text/plain": [
              "[('Port Code', 0.9537025440169418),\n",
              " ('Year', 0.04629745598305822),\n",
              " ('Month', 0.0),\n",
              " (0, 0.0),\n",
              " (1, 0.0)]"
            ]
          },
          "metadata": {}
        }
      ],
      "execution_count": 274,
      "metadata": {
        "collapsed": false,
        "outputHidden": false,
        "inputHidden": false
      }
    },
    {
      "cell_type": "markdown",
      "source": [
        "Visualizing the decision tree"
      ],
      "metadata": {}
    },
    {
      "cell_type": "code",
      "source": [
        "!pip install pydotplus\n",
        "!pip install graphviz"
      ],
      "outputs": [
        {
          "output_type": "stream",
          "name": "stdout",
          "text": [
            "Collecting pydotplus\n",
            "\u001b[?25l  Downloading https://files.pythonhosted.org/packages/60/bf/62567830b700d9f6930e9ab6831d6ba256f7b0b730acb37278b0ccdffacf/pydotplus-2.0.2.tar.gz (278kB)\n",
            "\u001b[K     |████████████████████████████████| 286kB 2.7MB/s eta 0:00:01\n",
            "\u001b[?25hRequirement already satisfied: pyparsing>=2.0.1 in /anaconda3/lib/python3.7/site-packages (from pydotplus) (2.4.0)\n",
            "Building wheels for collected packages: pydotplus\n",
            "  Building wheel for pydotplus (setup.py) ... \u001b[?25l-\b \b\\\b \b|\b \b/\b \b-\b \b\\\b \bdone\n",
            "\u001b[?25h  Created wheel for pydotplus: filename=pydotplus-2.0.2-cp37-none-any.whl size=24568 sha256=546e23e0df5170d04e9f5d52e983d97e46d7ea759222346613e371dc6540699a\n",
            "  Stored in directory: /Users/tanjamarkotic/Library/Caches/pip/wheels/35/7b/ab/66fb7b2ac1f6df87475b09dc48e707b6e0de80a6d8444e3628\n",
            "Successfully built pydotplus\n",
            "Installing collected packages: pydotplus\n",
            "Successfully installed pydotplus-2.0.2\n",
            "Collecting graphviz\n",
            "  Downloading https://files.pythonhosted.org/packages/f5/74/dbed754c0abd63768d3a7a7b472da35b08ac442cf87d73d5850a6f32391e/graphviz-0.13.2-py2.py3-none-any.whl\n",
            "Installing collected packages: graphviz\n",
            "Successfully installed graphviz-0.13.2\n"
          ]
        }
      ],
      "execution_count": 275,
      "metadata": {
        "collapsed": false,
        "outputHidden": false,
        "inputHidden": false
      }
    },
    {
      "cell_type": "code",
      "source": [
        "from sklearn.externals.six import StringIO  \n",
        "from IPython.display import Image  \n",
        "from sklearn.tree import export_graphviz\n",
        "import pydotplus\n",
        "from IPython.display import SVG\n",
        "from graphviz import Source\n",
        "from IPython.display import display\n",
        "\n",
        "graph = Source(export_graphviz(clf, out_file=None\n",
        "   , feature_names=X_train.columns, class_names=['No', 'Yes'] \n",
        "   , filled = True))\n",
        "display(SVG(graph.pipe(format='svg')))"
      ],
      "outputs": [
        {
          "output_type": "error",
          "ename": "ExecutableNotFound",
          "evalue": "failed to execute ['dot', '-Tsvg'], make sure the Graphviz executables are on your systems' PATH",
          "traceback": [
            "\u001b[0;31m---------------------------------------------------------------------------\u001b[0m",
            "\u001b[0;31mFileNotFoundError\u001b[0m                         Traceback (most recent call last)",
            "\u001b[0;32m//anaconda3/lib/python3.7/site-packages/graphviz/backend.py\u001b[0m in \u001b[0;36mrun\u001b[0;34m(cmd, input, capture_output, check, quiet, **kwargs)\u001b[0m\n\u001b[1;32m    158\u001b[0m     \u001b[0;32mtry\u001b[0m\u001b[0;34m:\u001b[0m\u001b[0;34m\u001b[0m\u001b[0;34m\u001b[0m\u001b[0m\n\u001b[0;32m--> 159\u001b[0;31m         \u001b[0mproc\u001b[0m \u001b[0;34m=\u001b[0m \u001b[0msubprocess\u001b[0m\u001b[0;34m.\u001b[0m\u001b[0mPopen\u001b[0m\u001b[0;34m(\u001b[0m\u001b[0mcmd\u001b[0m\u001b[0;34m,\u001b[0m \u001b[0mstartupinfo\u001b[0m\u001b[0;34m=\u001b[0m\u001b[0mget_startupinfo\u001b[0m\u001b[0;34m(\u001b[0m\u001b[0;34m)\u001b[0m\u001b[0;34m,\u001b[0m \u001b[0;34m**\u001b[0m\u001b[0mkwargs\u001b[0m\u001b[0;34m)\u001b[0m\u001b[0;34m\u001b[0m\u001b[0;34m\u001b[0m\u001b[0m\n\u001b[0m\u001b[1;32m    160\u001b[0m     \u001b[0;32mexcept\u001b[0m \u001b[0mOSError\u001b[0m \u001b[0;32mas\u001b[0m \u001b[0me\u001b[0m\u001b[0;34m:\u001b[0m\u001b[0;34m\u001b[0m\u001b[0;34m\u001b[0m\u001b[0m\n",
            "\u001b[0;32m//anaconda3/lib/python3.7/subprocess.py\u001b[0m in \u001b[0;36m__init__\u001b[0;34m(self, args, bufsize, executable, stdin, stdout, stderr, preexec_fn, close_fds, shell, cwd, env, universal_newlines, startupinfo, creationflags, restore_signals, start_new_session, pass_fds, encoding, errors, text)\u001b[0m\n\u001b[1;32m    774\u001b[0m                                 \u001b[0merrread\u001b[0m\u001b[0;34m,\u001b[0m \u001b[0merrwrite\u001b[0m\u001b[0;34m,\u001b[0m\u001b[0;34m\u001b[0m\u001b[0;34m\u001b[0m\u001b[0m\n\u001b[0;32m--> 775\u001b[0;31m                                 restore_signals, start_new_session)\n\u001b[0m\u001b[1;32m    776\u001b[0m         \u001b[0;32mexcept\u001b[0m\u001b[0;34m:\u001b[0m\u001b[0;34m\u001b[0m\u001b[0;34m\u001b[0m\u001b[0m\n",
            "\u001b[0;32m//anaconda3/lib/python3.7/subprocess.py\u001b[0m in \u001b[0;36m_execute_child\u001b[0;34m(self, args, executable, preexec_fn, close_fds, pass_fds, cwd, env, startupinfo, creationflags, shell, p2cread, p2cwrite, c2pread, c2pwrite, errread, errwrite, restore_signals, start_new_session)\u001b[0m\n\u001b[1;32m   1521\u001b[0m                             \u001b[0merr_msg\u001b[0m \u001b[0;34m+=\u001b[0m \u001b[0;34m': '\u001b[0m \u001b[0;34m+\u001b[0m \u001b[0mrepr\u001b[0m\u001b[0;34m(\u001b[0m\u001b[0merr_filename\u001b[0m\u001b[0;34m)\u001b[0m\u001b[0;34m\u001b[0m\u001b[0;34m\u001b[0m\u001b[0m\n\u001b[0;32m-> 1522\u001b[0;31m                     \u001b[0;32mraise\u001b[0m \u001b[0mchild_exception_type\u001b[0m\u001b[0;34m(\u001b[0m\u001b[0merrno_num\u001b[0m\u001b[0;34m,\u001b[0m \u001b[0merr_msg\u001b[0m\u001b[0;34m,\u001b[0m \u001b[0merr_filename\u001b[0m\u001b[0;34m)\u001b[0m\u001b[0;34m\u001b[0m\u001b[0;34m\u001b[0m\u001b[0m\n\u001b[0m\u001b[1;32m   1523\u001b[0m                 \u001b[0;32mraise\u001b[0m \u001b[0mchild_exception_type\u001b[0m\u001b[0;34m(\u001b[0m\u001b[0merr_msg\u001b[0m\u001b[0;34m)\u001b[0m\u001b[0;34m\u001b[0m\u001b[0;34m\u001b[0m\u001b[0m\n",
            "\u001b[0;31mFileNotFoundError\u001b[0m: [Errno 2] No such file or directory: 'dot': 'dot'",
            "\nDuring handling of the above exception, another exception occurred:\n",
            "\u001b[0;31mExecutableNotFound\u001b[0m                        Traceback (most recent call last)",
            "\u001b[0;32m<ipython-input-277-7bde95a6eb59>\u001b[0m in \u001b[0;36m<module>\u001b[0;34m\u001b[0m\n\u001b[1;32m     10\u001b[0m    \u001b[0;34m,\u001b[0m \u001b[0mfeature_names\u001b[0m\u001b[0;34m=\u001b[0m\u001b[0mX_train\u001b[0m\u001b[0;34m.\u001b[0m\u001b[0mcolumns\u001b[0m\u001b[0;34m,\u001b[0m \u001b[0mclass_names\u001b[0m\u001b[0;34m=\u001b[0m\u001b[0;34m[\u001b[0m\u001b[0;34m'No'\u001b[0m\u001b[0;34m,\u001b[0m \u001b[0;34m'Yes'\u001b[0m\u001b[0;34m]\u001b[0m\u001b[0;34m\u001b[0m\u001b[0;34m\u001b[0m\u001b[0m\n\u001b[1;32m     11\u001b[0m    , filled = True))\n\u001b[0;32m---> 12\u001b[0;31m \u001b[0mdisplay\u001b[0m\u001b[0;34m(\u001b[0m\u001b[0mSVG\u001b[0m\u001b[0;34m(\u001b[0m\u001b[0mgraph\u001b[0m\u001b[0;34m.\u001b[0m\u001b[0mpipe\u001b[0m\u001b[0;34m(\u001b[0m\u001b[0mformat\u001b[0m\u001b[0;34m=\u001b[0m\u001b[0;34m'svg'\u001b[0m\u001b[0;34m)\u001b[0m\u001b[0;34m)\u001b[0m\u001b[0;34m)\u001b[0m\u001b[0;34m\u001b[0m\u001b[0;34m\u001b[0m\u001b[0m\n\u001b[0m",
            "\u001b[0;32m//anaconda3/lib/python3.7/site-packages/graphviz/files.py\u001b[0m in \u001b[0;36mpipe\u001b[0;34m(self, format, renderer, formatter, quiet)\u001b[0m\n\u001b[1;32m    136\u001b[0m         out = backend.pipe(self._engine, format, data,\n\u001b[1;32m    137\u001b[0m                            \u001b[0mrenderer\u001b[0m\u001b[0;34m=\u001b[0m\u001b[0mrenderer\u001b[0m\u001b[0;34m,\u001b[0m \u001b[0mformatter\u001b[0m\u001b[0;34m=\u001b[0m\u001b[0mformatter\u001b[0m\u001b[0;34m,\u001b[0m\u001b[0;34m\u001b[0m\u001b[0;34m\u001b[0m\u001b[0m\n\u001b[0;32m--> 138\u001b[0;31m                            quiet=quiet)\n\u001b[0m\u001b[1;32m    139\u001b[0m \u001b[0;34m\u001b[0m\u001b[0m\n\u001b[1;32m    140\u001b[0m         \u001b[0;32mreturn\u001b[0m \u001b[0mout\u001b[0m\u001b[0;34m\u001b[0m\u001b[0;34m\u001b[0m\u001b[0m\n",
            "\u001b[0;32m//anaconda3/lib/python3.7/site-packages/graphviz/backend.py\u001b[0m in \u001b[0;36mpipe\u001b[0;34m(engine, format, data, renderer, formatter, quiet)\u001b[0m\n\u001b[1;32m    227\u001b[0m     \"\"\"\n\u001b[1;32m    228\u001b[0m     \u001b[0mcmd\u001b[0m\u001b[0;34m,\u001b[0m \u001b[0m_\u001b[0m \u001b[0;34m=\u001b[0m \u001b[0mcommand\u001b[0m\u001b[0;34m(\u001b[0m\u001b[0mengine\u001b[0m\u001b[0;34m,\u001b[0m \u001b[0mformat\u001b[0m\u001b[0;34m,\u001b[0m \u001b[0;32mNone\u001b[0m\u001b[0;34m,\u001b[0m \u001b[0mrenderer\u001b[0m\u001b[0;34m,\u001b[0m \u001b[0mformatter\u001b[0m\u001b[0;34m)\u001b[0m\u001b[0;34m\u001b[0m\u001b[0;34m\u001b[0m\u001b[0m\n\u001b[0;32m--> 229\u001b[0;31m     \u001b[0mout\u001b[0m\u001b[0;34m,\u001b[0m \u001b[0m_\u001b[0m \u001b[0;34m=\u001b[0m \u001b[0mrun\u001b[0m\u001b[0;34m(\u001b[0m\u001b[0mcmd\u001b[0m\u001b[0;34m,\u001b[0m \u001b[0minput\u001b[0m\u001b[0;34m=\u001b[0m\u001b[0mdata\u001b[0m\u001b[0;34m,\u001b[0m \u001b[0mcapture_output\u001b[0m\u001b[0;34m=\u001b[0m\u001b[0;32mTrue\u001b[0m\u001b[0;34m,\u001b[0m \u001b[0mcheck\u001b[0m\u001b[0;34m=\u001b[0m\u001b[0;32mTrue\u001b[0m\u001b[0;34m,\u001b[0m \u001b[0mquiet\u001b[0m\u001b[0;34m=\u001b[0m\u001b[0mquiet\u001b[0m\u001b[0;34m)\u001b[0m\u001b[0;34m\u001b[0m\u001b[0;34m\u001b[0m\u001b[0m\n\u001b[0m\u001b[1;32m    230\u001b[0m     \u001b[0;32mreturn\u001b[0m \u001b[0mout\u001b[0m\u001b[0;34m\u001b[0m\u001b[0;34m\u001b[0m\u001b[0m\n\u001b[1;32m    231\u001b[0m \u001b[0;34m\u001b[0m\u001b[0m\n",
            "\u001b[0;32m//anaconda3/lib/python3.7/site-packages/graphviz/backend.py\u001b[0m in \u001b[0;36mrun\u001b[0;34m(cmd, input, capture_output, check, quiet, **kwargs)\u001b[0m\n\u001b[1;32m    160\u001b[0m     \u001b[0;32mexcept\u001b[0m \u001b[0mOSError\u001b[0m \u001b[0;32mas\u001b[0m \u001b[0me\u001b[0m\u001b[0;34m:\u001b[0m\u001b[0;34m\u001b[0m\u001b[0;34m\u001b[0m\u001b[0m\n\u001b[1;32m    161\u001b[0m         \u001b[0;32mif\u001b[0m \u001b[0me\u001b[0m\u001b[0;34m.\u001b[0m\u001b[0merrno\u001b[0m \u001b[0;34m==\u001b[0m \u001b[0merrno\u001b[0m\u001b[0;34m.\u001b[0m\u001b[0mENOENT\u001b[0m\u001b[0;34m:\u001b[0m\u001b[0;34m\u001b[0m\u001b[0;34m\u001b[0m\u001b[0m\n\u001b[0;32m--> 162\u001b[0;31m             \u001b[0;32mraise\u001b[0m \u001b[0mExecutableNotFound\u001b[0m\u001b[0;34m(\u001b[0m\u001b[0mcmd\u001b[0m\u001b[0;34m)\u001b[0m\u001b[0;34m\u001b[0m\u001b[0;34m\u001b[0m\u001b[0m\n\u001b[0m\u001b[1;32m    163\u001b[0m         \u001b[0;32melse\u001b[0m\u001b[0;34m:\u001b[0m\u001b[0;34m\u001b[0m\u001b[0;34m\u001b[0m\u001b[0m\n\u001b[1;32m    164\u001b[0m             \u001b[0;32mraise\u001b[0m\u001b[0;34m\u001b[0m\u001b[0;34m\u001b[0m\u001b[0m\n",
            "\u001b[0;31mExecutableNotFound\u001b[0m: failed to execute ['dot', '-Tsvg'], make sure the Graphviz executables are on your systems' PATH"
          ]
        }
      ],
      "execution_count": 277,
      "metadata": {
        "collapsed": false,
        "outputHidden": false,
        "inputHidden": false
      }
    },
    {
      "cell_type": "code",
      "source": [],
      "outputs": [],
      "execution_count": null,
      "metadata": {
        "collapsed": false,
        "outputHidden": false,
        "inputHidden": false
      }
    }
  ],
  "metadata": {
    "kernel_info": {
      "name": "python3"
    },
    "language_info": {
      "name": "python",
      "version": "3.7.3",
      "mimetype": "text/x-python",
      "codemirror_mode": {
        "name": "ipython",
        "version": 3
      },
      "pygments_lexer": "ipython3",
      "nbconvert_exporter": "python",
      "file_extension": ".py"
    },
    "kernelspec": {
      "name": "python3",
      "language": "python",
      "display_name": "Python 3"
    },
    "nteract": {
      "version": "0.15.0"
    }
  },
  "nbformat": 4,
  "nbformat_minor": 0
}