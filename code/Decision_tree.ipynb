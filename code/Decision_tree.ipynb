{
  "cells": [
    {
      "cell_type": "markdown",
      "source": [
        "## Decision tree\n",
        "\n",
        "-> see LAB 7.1"
      ],
      "metadata": {}
    },
    {
      "cell_type": "code",
      "source": [
        "import pandas as pd"
      ],
      "outputs": [],
      "execution_count": 1,
      "metadata": {
        "inputHidden": false,
        "outputHidden": false
      }
    },
    {
      "cell_type": "code",
      "source": [
        "df= pd.read_csv(\"../Data/DataWithLocationCleaned.csv.gz\")"
      ],
      "outputs": [],
      "execution_count": 2,
      "metadata": {
        "inputHidden": false,
        "outputHidden": false
      }
    },
    {
      "cell_type": "code",
      "source": [
        "import matplotlib.pyplot as plt\n",
        "%matplotlib inline\n",
        "import numpy as np\n",
        "import pandas as pd\n",
        "import seaborn as sns\n",
        "sns.set_style(\"darkgrid\")\n",
        "from sklearn.tree import DecisionTreeClassifier\n",
        "from sklearn.preprocessing import LabelEncoder, OneHotEncoder"
      ],
      "outputs": [],
      "execution_count": 3,
      "metadata": {
        "inputHidden": false,
        "outputHidden": false
      }
    },
    {
      "cell_type": "code",
      "source": [
        "df.head()"
      ],
      "outputs": [
        {
          "output_type": "execute_result",
          "execution_count": 4,
          "data": {
            "text/plain": [
              "  Port Name      State  Port Code            Border        Date  \\\n",
              "0   Warroad  Minnesota       3423  US-Canada Border  2019-06-01   \n",
              "1   Warroad  Minnesota       3423  US-Canada Border  2019-06-01   \n",
              "2   Warroad  Minnesota       3423  US-Canada Border  2019-06-01   \n",
              "3   Warroad  Minnesota       3423  US-Canada Border  2019-06-01   \n",
              "4   Warroad  Minnesota       3423  US-Canada Border  2019-06-01   \n",
              "\n",
              "                       Measure  Value  Year  Month                 position  \n",
              "0        Truck Containers Full    133  2019      6  (48.905266, -95.314404)  \n",
              "1       Truck Containers Empty    298  2019      6  (48.905266, -95.314404)  \n",
              "2            Personal Vehicles  10383  2019      6  (48.905266, -95.314404)  \n",
              "3  Personal Vehicle Passengers  19459  2019      6  (48.905266, -95.314404)  \n",
              "4                  Pedestrians      2  2019      6  (48.905266, -95.314404)  "
            ],
            "text/html": [
              "<div>\n",
              "<style scoped>\n",
              "    .dataframe tbody tr th:only-of-type {\n",
              "        vertical-align: middle;\n",
              "    }\n",
              "\n",
              "    .dataframe tbody tr th {\n",
              "        vertical-align: top;\n",
              "    }\n",
              "\n",
              "    .dataframe thead th {\n",
              "        text-align: right;\n",
              "    }\n",
              "</style>\n",
              "<table border=\"1\" class=\"dataframe\">\n",
              "  <thead>\n",
              "    <tr style=\"text-align: right;\">\n",
              "      <th></th>\n",
              "      <th>Port Name</th>\n",
              "      <th>State</th>\n",
              "      <th>Port Code</th>\n",
              "      <th>Border</th>\n",
              "      <th>Date</th>\n",
              "      <th>Measure</th>\n",
              "      <th>Value</th>\n",
              "      <th>Year</th>\n",
              "      <th>Month</th>\n",
              "      <th>position</th>\n",
              "    </tr>\n",
              "  </thead>\n",
              "  <tbody>\n",
              "    <tr>\n",
              "      <th>0</th>\n",
              "      <td>Warroad</td>\n",
              "      <td>Minnesota</td>\n",
              "      <td>3423</td>\n",
              "      <td>US-Canada Border</td>\n",
              "      <td>2019-06-01</td>\n",
              "      <td>Truck Containers Full</td>\n",
              "      <td>133</td>\n",
              "      <td>2019</td>\n",
              "      <td>6</td>\n",
              "      <td>(48.905266, -95.314404)</td>\n",
              "    </tr>\n",
              "    <tr>\n",
              "      <th>1</th>\n",
              "      <td>Warroad</td>\n",
              "      <td>Minnesota</td>\n",
              "      <td>3423</td>\n",
              "      <td>US-Canada Border</td>\n",
              "      <td>2019-06-01</td>\n",
              "      <td>Truck Containers Empty</td>\n",
              "      <td>298</td>\n",
              "      <td>2019</td>\n",
              "      <td>6</td>\n",
              "      <td>(48.905266, -95.314404)</td>\n",
              "    </tr>\n",
              "    <tr>\n",
              "      <th>2</th>\n",
              "      <td>Warroad</td>\n",
              "      <td>Minnesota</td>\n",
              "      <td>3423</td>\n",
              "      <td>US-Canada Border</td>\n",
              "      <td>2019-06-01</td>\n",
              "      <td>Personal Vehicles</td>\n",
              "      <td>10383</td>\n",
              "      <td>2019</td>\n",
              "      <td>6</td>\n",
              "      <td>(48.905266, -95.314404)</td>\n",
              "    </tr>\n",
              "    <tr>\n",
              "      <th>3</th>\n",
              "      <td>Warroad</td>\n",
              "      <td>Minnesota</td>\n",
              "      <td>3423</td>\n",
              "      <td>US-Canada Border</td>\n",
              "      <td>2019-06-01</td>\n",
              "      <td>Personal Vehicle Passengers</td>\n",
              "      <td>19459</td>\n",
              "      <td>2019</td>\n",
              "      <td>6</td>\n",
              "      <td>(48.905266, -95.314404)</td>\n",
              "    </tr>\n",
              "    <tr>\n",
              "      <th>4</th>\n",
              "      <td>Warroad</td>\n",
              "      <td>Minnesota</td>\n",
              "      <td>3423</td>\n",
              "      <td>US-Canada Border</td>\n",
              "      <td>2019-06-01</td>\n",
              "      <td>Pedestrians</td>\n",
              "      <td>2</td>\n",
              "      <td>2019</td>\n",
              "      <td>6</td>\n",
              "      <td>(48.905266, -95.314404)</td>\n",
              "    </tr>\n",
              "  </tbody>\n",
              "</table>\n",
              "</div>"
            ]
          },
          "metadata": {}
        }
      ],
      "execution_count": 4,
      "metadata": {
        "inputHidden": false,
        "outputHidden": false
      }
    },
    {
      "cell_type": "code",
      "source": [
        "# checking types\n",
        "df.dtypes"
      ],
      "outputs": [
        {
          "output_type": "execute_result",
          "execution_count": 5,
          "data": {
            "text/plain": [
              "Port Name    object\n",
              "State        object\n",
              "Port Code     int64\n",
              "Border       object\n",
              "Date         object\n",
              "Measure      object\n",
              "Value         int64\n",
              "Year          int64\n",
              "Month         int64\n",
              "position     object\n",
              "dtype: object"
            ]
          },
          "metadata": {}
        }
      ],
      "execution_count": 5,
      "metadata": {
        "inputHidden": false,
        "outputHidden": false
      }
    },
    {
      "cell_type": "code",
      "source": [
        "# correct types and add columns longitude/latitude cleaned\n",
        "df['Date'] = pd.to_datetime(df['Date'])\n",
        "df.dtypes\n"
      ],
      "outputs": [
        {
          "output_type": "execute_result",
          "execution_count": 6,
          "data": {
            "text/plain": [
              "Port Name            object\n",
              "State                object\n",
              "Port Code             int64\n",
              "Border               object\n",
              "Date         datetime64[ns]\n",
              "Measure              object\n",
              "Value                 int64\n",
              "Year                  int64\n",
              "Month                 int64\n",
              "position             object\n",
              "dtype: object"
            ]
          },
          "metadata": {}
        }
      ],
      "execution_count": 6,
      "metadata": {
        "inputHidden": false,
        "outputHidden": false
      }
    },
    {
      "cell_type": "code",
      "source": [
        "df = df[df['Measure'].isin(['Bus Passengers','Pedestrians','Personal Vehicle Passengers','Train Passengers'])]\n",
        "df = df.reset_index(drop=True)\n",
        "df.shape\n"
      ],
      "outputs": [
        {
          "output_type": "execute_result",
          "execution_count": 7,
          "data": {
            "text/plain": [
              "(116131, 10)"
            ]
          },
          "metadata": {}
        }
      ],
      "execution_count": 7,
      "metadata": {
        "inputHidden": false,
        "outputHidden": false
      }
    },
    {
      "cell_type": "code",
      "source": [
        "df.groupby(['Port Name']).sum().sort_values(['Value'],ascending=False).head()\n",
        "\n"
      ],
      "outputs": [
        {
          "output_type": "execute_result",
          "execution_count": 8,
          "data": {
            "text/plain": [
              "            Port Code      Value     Year  Month\n",
              "Port Name                                       \n",
              "San Ysidro    2736872  820753587  2193570   7033\n",
              "El Paso       2709456  813405376  2264184   7260\n",
              "Laredo        2518272  435119695  2193570   7033\n",
              "Hidalgo       2519365  406092835  2193570   7033\n",
              "Calexico      2648174  401463611  2122956   6806"
            ],
            "text/html": [
              "<div>\n",
              "<style scoped>\n",
              "    .dataframe tbody tr th:only-of-type {\n",
              "        vertical-align: middle;\n",
              "    }\n",
              "\n",
              "    .dataframe tbody tr th {\n",
              "        vertical-align: top;\n",
              "    }\n",
              "\n",
              "    .dataframe thead th {\n",
              "        text-align: right;\n",
              "    }\n",
              "</style>\n",
              "<table border=\"1\" class=\"dataframe\">\n",
              "  <thead>\n",
              "    <tr style=\"text-align: right;\">\n",
              "      <th></th>\n",
              "      <th>Port Code</th>\n",
              "      <th>Value</th>\n",
              "      <th>Year</th>\n",
              "      <th>Month</th>\n",
              "    </tr>\n",
              "    <tr>\n",
              "      <th>Port Name</th>\n",
              "      <th></th>\n",
              "      <th></th>\n",
              "      <th></th>\n",
              "      <th></th>\n",
              "    </tr>\n",
              "  </thead>\n",
              "  <tbody>\n",
              "    <tr>\n",
              "      <th>San Ysidro</th>\n",
              "      <td>2736872</td>\n",
              "      <td>820753587</td>\n",
              "      <td>2193570</td>\n",
              "      <td>7033</td>\n",
              "    </tr>\n",
              "    <tr>\n",
              "      <th>El Paso</th>\n",
              "      <td>2709456</td>\n",
              "      <td>813405376</td>\n",
              "      <td>2264184</td>\n",
              "      <td>7260</td>\n",
              "    </tr>\n",
              "    <tr>\n",
              "      <th>Laredo</th>\n",
              "      <td>2518272</td>\n",
              "      <td>435119695</td>\n",
              "      <td>2193570</td>\n",
              "      <td>7033</td>\n",
              "    </tr>\n",
              "    <tr>\n",
              "      <th>Hidalgo</th>\n",
              "      <td>2519365</td>\n",
              "      <td>406092835</td>\n",
              "      <td>2193570</td>\n",
              "      <td>7033</td>\n",
              "    </tr>\n",
              "    <tr>\n",
              "      <th>Calexico</th>\n",
              "      <td>2648174</td>\n",
              "      <td>401463611</td>\n",
              "      <td>2122956</td>\n",
              "      <td>6806</td>\n",
              "    </tr>\n",
              "  </tbody>\n",
              "</table>\n",
              "</div>"
            ]
          },
          "metadata": {}
        }
      ],
      "execution_count": 8,
      "metadata": {
        "inputHidden": false,
        "outputHidden": false
      }
    },
    {
      "cell_type": "code",
      "source": [
        "df.shape"
      ],
      "outputs": [
        {
          "output_type": "execute_result",
          "execution_count": 9,
          "data": {
            "text/plain": [
              "(116131, 10)"
            ]
          },
          "metadata": {}
        }
      ],
      "execution_count": 9,
      "metadata": {
        "inputHidden": false,
        "outputHidden": false
      }
    },
    {
      "cell_type": "code",
      "source": [
        " df.isnull().sum()"
      ],
      "outputs": [
        {
          "output_type": "execute_result",
          "execution_count": 10,
          "data": {
            "text/plain": [
              "Port Name    0\n",
              "State        0\n",
              "Port Code    0\n",
              "Border       0\n",
              "Date         0\n",
              "Measure      0\n",
              "Value        0\n",
              "Year         0\n",
              "Month        0\n",
              "position     0\n",
              "dtype: int64"
            ]
          },
          "metadata": {}
        }
      ],
      "execution_count": 10,
      "metadata": {
        "inputHidden": false,
        "outputHidden": false
      }
    },
    {
      "cell_type": "code",
      "source": [
        "# check values...\n",
        "df['Value'].describe()"
      ],
      "outputs": [
        {
          "output_type": "execute_result",
          "execution_count": 11,
          "data": {
            "text/plain": [
              "count    1.161310e+05\n",
              "mean     5.778344e+04\n",
              "std      2.366958e+05\n",
              "min      0.000000e+00\n",
              "25%      0.000000e+00\n",
              "50%      1.560000e+02\n",
              "75%      6.943000e+03\n",
              "max      4.447374e+06\n",
              "Name: Value, dtype: float64"
            ]
          },
          "metadata": {}
        }
      ],
      "execution_count": 11,
      "metadata": {
        "inputHidden": false,
        "outputHidden": false
      }
    },
    {
      "cell_type": "code",
      "source": [
        "total = df.copy()"
      ],
      "outputs": [],
      "execution_count": 12,
      "metadata": {}
    },
    {
      "cell_type": "code",
      "source": [
        "#df['Value category'], bins = pd.cut(df.Value, retbins = True, right=False, labels = False, bins = 8)"
      ],
      "outputs": [],
      "execution_count": 13,
      "metadata": {
        "inputHidden": false,
        "outputHidden": false
      }
    },
    {
      "cell_type": "code",
      "source": [
        "total['quant'] = pd.qcut(df['Value'],q = 8, duplicates = 'drop')\n",
        "print(\"intervalls for y:\")\n",
        "print(total['quant'].value_counts())\n",
        "print()\n",
        "le = LabelEncoder()\n",
        "total['y'] = le.fit_transform(total[\"quant\"])"
      ],
      "outputs": [
        {
          "output_type": "stream",
          "name": "stdout",
          "text": [
            "intervalls for y:\n",
            "(-0.001, 11.0]          43673\n",
            "(62918.0, 4447374.0]    14516\n",
            "(6943.0, 62918.0]       14516\n",
            "(1193.0, 6943.0]        14516\n",
            "(156.0, 1193.0]         14503\n",
            "(11.0, 156.0]           14407\n",
            "Name: quant, dtype: int64\n",
            "\n"
          ]
        }
      ],
      "execution_count": 14,
      "metadata": {}
    },
    {
      "cell_type": "code",
      "source": [
        "#bins"
      ],
      "outputs": [],
      "execution_count": 15,
      "metadata": {
        "inputHidden": false,
        "outputHidden": false
      }
    },
    {
      "cell_type": "code",
      "source": [
        "# check categories...\n",
        "total.sort_values(['Value'],ascending=False).head()"
      ],
      "outputs": [
        {
          "output_type": "execute_result",
          "execution_count": 16,
          "data": {
            "text/plain": [
              "      Port Name  State  Port Code            Border       Date  \\\n",
              "90369   El Paso  Texas       2402  US-Mexico Border 2001-03-01   \n",
              "93325   El Paso  Texas       2402  US-Mexico Border 2000-08-01   \n",
              "90890   El Paso  Texas       2402  US-Mexico Border 2001-02-01   \n",
              "90034   El Paso  Texas       2402  US-Mexico Border 2001-04-01   \n",
              "93966   El Paso  Texas       2402  US-Mexico Border 2000-06-01   \n",
              "\n",
              "                           Measure    Value  Year  Month  \\\n",
              "90369  Personal Vehicle Passengers  4447374  2001      3   \n",
              "93325  Personal Vehicle Passengers  4291774  2000      8   \n",
              "90890  Personal Vehicle Passengers  4281175  2001      2   \n",
              "90034  Personal Vehicle Passengers  4252128  2001      4   \n",
              "93966  Personal Vehicle Passengers  4235244  2000      6   \n",
              "\n",
              "                        position                 quant  y  \n",
              "90369  (31.7600372, -106.487287)  (62918.0, 4447374.0]  5  \n",
              "93325  (31.7600372, -106.487287)  (62918.0, 4447374.0]  5  \n",
              "90890  (31.7600372, -106.487287)  (62918.0, 4447374.0]  5  \n",
              "90034  (31.7600372, -106.487287)  (62918.0, 4447374.0]  5  \n",
              "93966  (31.7600372, -106.487287)  (62918.0, 4447374.0]  5  "
            ],
            "text/html": [
              "<div>\n",
              "<style scoped>\n",
              "    .dataframe tbody tr th:only-of-type {\n",
              "        vertical-align: middle;\n",
              "    }\n",
              "\n",
              "    .dataframe tbody tr th {\n",
              "        vertical-align: top;\n",
              "    }\n",
              "\n",
              "    .dataframe thead th {\n",
              "        text-align: right;\n",
              "    }\n",
              "</style>\n",
              "<table border=\"1\" class=\"dataframe\">\n",
              "  <thead>\n",
              "    <tr style=\"text-align: right;\">\n",
              "      <th></th>\n",
              "      <th>Port Name</th>\n",
              "      <th>State</th>\n",
              "      <th>Port Code</th>\n",
              "      <th>Border</th>\n",
              "      <th>Date</th>\n",
              "      <th>Measure</th>\n",
              "      <th>Value</th>\n",
              "      <th>Year</th>\n",
              "      <th>Month</th>\n",
              "      <th>position</th>\n",
              "      <th>quant</th>\n",
              "      <th>y</th>\n",
              "    </tr>\n",
              "  </thead>\n",
              "  <tbody>\n",
              "    <tr>\n",
              "      <th>90369</th>\n",
              "      <td>El Paso</td>\n",
              "      <td>Texas</td>\n",
              "      <td>2402</td>\n",
              "      <td>US-Mexico Border</td>\n",
              "      <td>2001-03-01</td>\n",
              "      <td>Personal Vehicle Passengers</td>\n",
              "      <td>4447374</td>\n",
              "      <td>2001</td>\n",
              "      <td>3</td>\n",
              "      <td>(31.7600372, -106.487287)</td>\n",
              "      <td>(62918.0, 4447374.0]</td>\n",
              "      <td>5</td>\n",
              "    </tr>\n",
              "    <tr>\n",
              "      <th>93325</th>\n",
              "      <td>El Paso</td>\n",
              "      <td>Texas</td>\n",
              "      <td>2402</td>\n",
              "      <td>US-Mexico Border</td>\n",
              "      <td>2000-08-01</td>\n",
              "      <td>Personal Vehicle Passengers</td>\n",
              "      <td>4291774</td>\n",
              "      <td>2000</td>\n",
              "      <td>8</td>\n",
              "      <td>(31.7600372, -106.487287)</td>\n",
              "      <td>(62918.0, 4447374.0]</td>\n",
              "      <td>5</td>\n",
              "    </tr>\n",
              "    <tr>\n",
              "      <th>90890</th>\n",
              "      <td>El Paso</td>\n",
              "      <td>Texas</td>\n",
              "      <td>2402</td>\n",
              "      <td>US-Mexico Border</td>\n",
              "      <td>2001-02-01</td>\n",
              "      <td>Personal Vehicle Passengers</td>\n",
              "      <td>4281175</td>\n",
              "      <td>2001</td>\n",
              "      <td>2</td>\n",
              "      <td>(31.7600372, -106.487287)</td>\n",
              "      <td>(62918.0, 4447374.0]</td>\n",
              "      <td>5</td>\n",
              "    </tr>\n",
              "    <tr>\n",
              "      <th>90034</th>\n",
              "      <td>El Paso</td>\n",
              "      <td>Texas</td>\n",
              "      <td>2402</td>\n",
              "      <td>US-Mexico Border</td>\n",
              "      <td>2001-04-01</td>\n",
              "      <td>Personal Vehicle Passengers</td>\n",
              "      <td>4252128</td>\n",
              "      <td>2001</td>\n",
              "      <td>4</td>\n",
              "      <td>(31.7600372, -106.487287)</td>\n",
              "      <td>(62918.0, 4447374.0]</td>\n",
              "      <td>5</td>\n",
              "    </tr>\n",
              "    <tr>\n",
              "      <th>93966</th>\n",
              "      <td>El Paso</td>\n",
              "      <td>Texas</td>\n",
              "      <td>2402</td>\n",
              "      <td>US-Mexico Border</td>\n",
              "      <td>2000-06-01</td>\n",
              "      <td>Personal Vehicle Passengers</td>\n",
              "      <td>4235244</td>\n",
              "      <td>2000</td>\n",
              "      <td>6</td>\n",
              "      <td>(31.7600372, -106.487287)</td>\n",
              "      <td>(62918.0, 4447374.0]</td>\n",
              "      <td>5</td>\n",
              "    </tr>\n",
              "  </tbody>\n",
              "</table>\n",
              "</div>"
            ]
          },
          "metadata": {}
        }
      ],
      "execution_count": 16,
      "metadata": {
        "inputHidden": false,
        "outputHidden": false
      }
    },
    {
      "cell_type": "code",
      "source": [
        "total['y'].value_counts()"
      ],
      "outputs": [
        {
          "output_type": "execute_result",
          "execution_count": 17,
          "data": {
            "text/plain": [
              "0    43673\n",
              "5    14516\n",
              "4    14516\n",
              "3    14516\n",
              "2    14503\n",
              "1    14407\n",
              "Name: y, dtype: int64"
            ]
          },
          "metadata": {}
        }
      ],
      "execution_count": 17,
      "metadata": {
        "inputHidden": false,
        "outputHidden": false
      }
    },
    {
      "cell_type": "code",
      "source": [
        "ports = df['Port Name'].unique()\n",
        "goods = []\n",
        "for port in ports:\n",
        "    if (df[(df['Port Name'] == port) &(df['Value'] != 0)].shape[0]>1100):\n",
        "        goods.append(port)\n",
        "print(\"number of ports : \",len(goods))\n",
        "print(\"port names: \", goods)\n",
        "print(\"number of observations  \",df[df['Port Name'].isin(goods)].shape[0])\n"
      ],
      "outputs": [
        {
          "output_type": "stream",
          "name": "stdout",
          "text": [
            "number of ports :  9\n",
            "port names:  ['Sumas', 'Champlain-Rouses Point', 'Buffalo-Niagara Falls', 'Portal', 'International Falls-Ranier', 'Otay Mesa', 'Eastport_ID', 'Jackman', 'Sweetgrass']\n",
            "number of observations   10147\n"
          ]
        }
      ],
      "execution_count": 18,
      "metadata": {
        "inputHidden": false,
        "outputHidden": false
      }
    },
    {
      "cell_type": "markdown",
      "source": [
        "Il faut Recréer des intervalles après avoir séléctionner les bons ports."
      ],
      "metadata": {}
    },
    {
      "cell_type": "code",
      "source": [
        "goodDT = df[df['Port Name'].isin(goods)].reset_index(drop=True)\n",
        "#df[df['Port Name'].isin(goods)]['Value'].hist(range=[0,500])\n",
        "goodDT.shape"
      ],
      "outputs": [
        {
          "output_type": "execute_result",
          "execution_count": 19,
          "data": {
            "text/plain": [
              "(10147, 10)"
            ]
          },
          "metadata": {}
        }
      ],
      "execution_count": 19,
      "metadata": {
        "inputHidden": false,
        "outputHidden": false
      }
    },
    {
      "cell_type": "code",
      "source": [
        "goodDT['quant'] = pd.qcut(goodDT['Value'],q = 8, duplicates = 'drop')\n",
        "print(\"intervalls for y:\")\n",
        "print(goodDT['quant'].value_counts())\n",
        "print()\n",
        "le = LabelEncoder()\n",
        "goodDT['y'] = le.fit_transform(goodDT[\"quant\"])"
      ],
      "outputs": [
        {
          "output_type": "stream",
          "name": "stdout",
          "text": [
            "intervalls for y:\n",
            "(104.0, 250.0]            1274\n",
            "(-0.001, 104.0]           1271\n",
            "(126679.25, 2523598.0]    1269\n",
            "(31294.5, 126679.25]      1268\n",
            "(8321.75, 31294.5]        1268\n",
            "(1756.0, 8321.75]         1268\n",
            "(600.0, 1756.0]           1265\n",
            "(250.0, 600.0]            1264\n",
            "Name: quant, dtype: int64\n",
            "\n"
          ]
        }
      ],
      "execution_count": 20,
      "metadata": {}
    },
    {
      "cell_type": "code",
      "source": [
        "goodDT['y'].value_counts()"
      ],
      "outputs": [
        {
          "output_type": "execute_result",
          "execution_count": 21,
          "data": {
            "text/plain": [
              "1    1274\n",
              "0    1271\n",
              "7    1269\n",
              "6    1268\n",
              "5    1268\n",
              "4    1268\n",
              "3    1265\n",
              "2    1264\n",
              "Name: y, dtype: int64"
            ]
          },
          "metadata": {}
        }
      ],
      "execution_count": 21,
      "metadata": {
        "inputHidden": false,
        "outputHidden": false
      }
    },
    {
      "cell_type": "code",
      "source": [
        "#df['Value in millions'] = (df['Value']/1000000).apply(lambda x: '{:,.2f}'.format(x))"
      ],
      "outputs": [],
      "execution_count": 22,
      "metadata": {
        "inputHidden": false,
        "outputHidden": false
      }
    },
    {
      "cell_type": "code",
      "source": [
        "#features but possibly add lat, long, measure\n",
        "X = total[[\"Year\",\"Month\", \"Port Code\"]]\n",
        "y = total[\"y\"]\n",
        "X.shape"
      ],
      "outputs": [
        {
          "output_type": "execute_result",
          "execution_count": 23,
          "data": {
            "text/plain": [
              "(116131, 3)"
            ]
          },
          "metadata": {}
        }
      ],
      "execution_count": 23,
      "metadata": {
        "inputHidden": false,
        "outputHidden": false
      }
    },
    {
      "cell_type": "code",
      "source": [
        "X.isnull().sum()"
      ],
      "outputs": [
        {
          "output_type": "execute_result",
          "execution_count": 24,
          "data": {
            "text/plain": [
              "Year         0\n",
              "Month        0\n",
              "Port Code    0\n",
              "dtype: int64"
            ]
          },
          "metadata": {}
        }
      ],
      "execution_count": 24,
      "metadata": {
        "inputHidden": false,
        "outputHidden": false
      }
    },
    {
      "cell_type": "code",
      "source": [
        "X.head()"
      ],
      "outputs": [
        {
          "output_type": "execute_result",
          "execution_count": 25,
          "data": {
            "text/plain": [
              "   Year  Month  Port Code\n",
              "0  2019      6       3423\n",
              "1  2019      6       3423\n",
              "2  2019      6       3423\n",
              "3  2019      6       3426\n",
              "4  2019      6       3426"
            ],
            "text/html": [
              "<div>\n",
              "<style scoped>\n",
              "    .dataframe tbody tr th:only-of-type {\n",
              "        vertical-align: middle;\n",
              "    }\n",
              "\n",
              "    .dataframe tbody tr th {\n",
              "        vertical-align: top;\n",
              "    }\n",
              "\n",
              "    .dataframe thead th {\n",
              "        text-align: right;\n",
              "    }\n",
              "</style>\n",
              "<table border=\"1\" class=\"dataframe\">\n",
              "  <thead>\n",
              "    <tr style=\"text-align: right;\">\n",
              "      <th></th>\n",
              "      <th>Year</th>\n",
              "      <th>Month</th>\n",
              "      <th>Port Code</th>\n",
              "    </tr>\n",
              "  </thead>\n",
              "  <tbody>\n",
              "    <tr>\n",
              "      <th>0</th>\n",
              "      <td>2019</td>\n",
              "      <td>6</td>\n",
              "      <td>3423</td>\n",
              "    </tr>\n",
              "    <tr>\n",
              "      <th>1</th>\n",
              "      <td>2019</td>\n",
              "      <td>6</td>\n",
              "      <td>3423</td>\n",
              "    </tr>\n",
              "    <tr>\n",
              "      <th>2</th>\n",
              "      <td>2019</td>\n",
              "      <td>6</td>\n",
              "      <td>3423</td>\n",
              "    </tr>\n",
              "    <tr>\n",
              "      <th>3</th>\n",
              "      <td>2019</td>\n",
              "      <td>6</td>\n",
              "      <td>3426</td>\n",
              "    </tr>\n",
              "    <tr>\n",
              "      <th>4</th>\n",
              "      <td>2019</td>\n",
              "      <td>6</td>\n",
              "      <td>3426</td>\n",
              "    </tr>\n",
              "  </tbody>\n",
              "</table>\n",
              "</div>"
            ]
          },
          "metadata": {}
        }
      ],
      "execution_count": 25,
      "metadata": {
        "inputHidden": false,
        "outputHidden": false
      }
    },
    {
      "cell_type": "code",
      "source": [
        "y = y.astype('int')\n",
        "y.head()\n"
      ],
      "outputs": [
        {
          "output_type": "execute_result",
          "execution_count": 26,
          "data": {
            "text/plain": [
              "0    4\n",
              "1    0\n",
              "2    1\n",
              "3    4\n",
              "4    1\n",
              "Name: y, dtype: int64"
            ]
          },
          "metadata": {}
        }
      ],
      "execution_count": 26,
      "metadata": {
        "inputHidden": false,
        "outputHidden": false
      }
    },
    {
      "cell_type": "code",
      "source": [
        "# one-hot encoding for Border\n",
        "one_hot = OneHotEncoder(categories=\"auto\")\n",
        "cat_to_onehot = one_hot.fit_transform(df[[\"Border\"]]).toarray()\n",
        "cat_to_onehot = pd.DataFrame(cat_to_onehot)\n",
        "cat_to_onehot.shape"
      ],
      "outputs": [
        {
          "output_type": "execute_result",
          "execution_count": 27,
          "data": {
            "text/plain": [
              "(116131, 2)"
            ]
          },
          "metadata": {}
        }
      ],
      "execution_count": 27,
      "metadata": {
        "inputHidden": false,
        "outputHidden": false
      }
    },
    {
      "cell_type": "code",
      "source": [
        "X = pd.concat((X, cat_to_onehot), axis=1, join='inner').reindex(df.index)\n",
        "\n",
        "X.shape"
      ],
      "outputs": [
        {
          "output_type": "execute_result",
          "execution_count": 28,
          "data": {
            "text/plain": [
              "(116131, 5)"
            ]
          },
          "metadata": {}
        }
      ],
      "execution_count": 28,
      "metadata": {
        "inputHidden": false,
        "outputHidden": false
      }
    },
    {
      "cell_type": "code",
      "source": [
        "X.isnull().sum()"
      ],
      "outputs": [
        {
          "output_type": "execute_result",
          "execution_count": 29,
          "data": {
            "text/plain": [
              "Year         0\n",
              "Month        0\n",
              "Port Code    0\n",
              "0            0\n",
              "1            0\n",
              "dtype: int64"
            ]
          },
          "metadata": {}
        }
      ],
      "execution_count": 29,
      "metadata": {
        "inputHidden": false,
        "outputHidden": false
      }
    },
    {
      "cell_type": "code",
      "source": [
        "X.head()"
      ],
      "outputs": [
        {
          "output_type": "execute_result",
          "execution_count": 30,
          "data": {
            "text/plain": [
              "   Year  Month  Port Code    0    1\n",
              "0  2019      6       3423  1.0  0.0\n",
              "1  2019      6       3423  1.0  0.0\n",
              "2  2019      6       3423  1.0  0.0\n",
              "3  2019      6       3426  1.0  0.0\n",
              "4  2019      6       3426  1.0  0.0"
            ],
            "text/html": [
              "<div>\n",
              "<style scoped>\n",
              "    .dataframe tbody tr th:only-of-type {\n",
              "        vertical-align: middle;\n",
              "    }\n",
              "\n",
              "    .dataframe tbody tr th {\n",
              "        vertical-align: top;\n",
              "    }\n",
              "\n",
              "    .dataframe thead th {\n",
              "        text-align: right;\n",
              "    }\n",
              "</style>\n",
              "<table border=\"1\" class=\"dataframe\">\n",
              "  <thead>\n",
              "    <tr style=\"text-align: right;\">\n",
              "      <th></th>\n",
              "      <th>Year</th>\n",
              "      <th>Month</th>\n",
              "      <th>Port Code</th>\n",
              "      <th>0</th>\n",
              "      <th>1</th>\n",
              "    </tr>\n",
              "  </thead>\n",
              "  <tbody>\n",
              "    <tr>\n",
              "      <th>0</th>\n",
              "      <td>2019</td>\n",
              "      <td>6</td>\n",
              "      <td>3423</td>\n",
              "      <td>1.0</td>\n",
              "      <td>0.0</td>\n",
              "    </tr>\n",
              "    <tr>\n",
              "      <th>1</th>\n",
              "      <td>2019</td>\n",
              "      <td>6</td>\n",
              "      <td>3423</td>\n",
              "      <td>1.0</td>\n",
              "      <td>0.0</td>\n",
              "    </tr>\n",
              "    <tr>\n",
              "      <th>2</th>\n",
              "      <td>2019</td>\n",
              "      <td>6</td>\n",
              "      <td>3423</td>\n",
              "      <td>1.0</td>\n",
              "      <td>0.0</td>\n",
              "    </tr>\n",
              "    <tr>\n",
              "      <th>3</th>\n",
              "      <td>2019</td>\n",
              "      <td>6</td>\n",
              "      <td>3426</td>\n",
              "      <td>1.0</td>\n",
              "      <td>0.0</td>\n",
              "    </tr>\n",
              "    <tr>\n",
              "      <th>4</th>\n",
              "      <td>2019</td>\n",
              "      <td>6</td>\n",
              "      <td>3426</td>\n",
              "      <td>1.0</td>\n",
              "      <td>0.0</td>\n",
              "    </tr>\n",
              "  </tbody>\n",
              "</table>\n",
              "</div>"
            ]
          },
          "metadata": {}
        }
      ],
      "execution_count": 30,
      "metadata": {
        "inputHidden": false,
        "outputHidden": false
      }
    },
    {
      "cell_type": "code",
      "source": [
        "from sklearn.model_selection import train_test_split\n",
        "X_train, X_test, y_train, y_test = train_test_split(X, y, test_size=0.2, random_state=72)"
      ],
      "outputs": [],
      "execution_count": 31,
      "metadata": {
        "inputHidden": false,
        "outputHidden": false
      }
    },
    {
      "cell_type": "code",
      "source": [
        "clf = DecisionTreeClassifier(criterion='entropy')"
      ],
      "outputs": [],
      "execution_count": 32,
      "metadata": {
        "inputHidden": false,
        "outputHidden": false
      }
    },
    {
      "cell_type": "code",
      "source": [
        "clf.fit(X_train, y_train)"
      ],
      "outputs": [
        {
          "output_type": "execute_result",
          "execution_count": 33,
          "data": {
            "text/plain": [
              "DecisionTreeClassifier(class_weight=None, criterion='entropy', max_depth=None,\n",
              "                       max_features=None, max_leaf_nodes=None,\n",
              "                       min_impurity_decrease=0.0, min_impurity_split=None,\n",
              "                       min_samples_leaf=1, min_samples_split=2,\n",
              "                       min_weight_fraction_leaf=0.0, presort=False,\n",
              "                       random_state=None, splitter='best')"
            ]
          },
          "metadata": {}
        }
      ],
      "execution_count": 33,
      "metadata": {
        "inputHidden": false,
        "outputHidden": false
      }
    },
    {
      "cell_type": "code",
      "source": [
        "# test accuracy\n",
        "clf.score(X_test,y_test)"
      ],
      "outputs": [
        {
          "output_type": "execute_result",
          "execution_count": 34,
          "data": {
            "text/plain": [
              "0.33607439617686313"
            ]
          },
          "metadata": {}
        }
      ],
      "execution_count": 34,
      "metadata": {
        "inputHidden": false,
        "outputHidden": false
      }
    },
    {
      "cell_type": "code",
      "source": [
        "# depth of the decision tree\n",
        "clf.get_depth()"
      ],
      "outputs": [
        {
          "output_type": "execute_result",
          "execution_count": 35,
          "data": {
            "text/plain": [
              "29"
            ]
          },
          "metadata": {}
        }
      ],
      "execution_count": 35,
      "metadata": {
        "inputHidden": false,
        "outputHidden": false
      }
    },
    {
      "cell_type": "markdown",
      "source": [
        "Tuning depth of the tree:"
      ],
      "metadata": {}
    },
    {
      "cell_type": "code",
      "source": [
        "scores = []\n",
        "for d in range(1, 21):\n",
        "    clf = DecisionTreeClassifier(criterion='entropy', max_depth=d)\n",
        "    clf.fit(X_train, y_train)\n",
        "    scores.append(clf.score(X_test, y_test))"
      ],
      "outputs": [],
      "execution_count": 36,
      "metadata": {
        "inputHidden": false,
        "outputHidden": false
      }
    },
    {
      "cell_type": "code",
      "source": [
        "plt.plot(scores)\n",
        "plt.ylabel('accuracy', fontsize=15)\n",
        "plt.xlabel('depth', fontsize=15)"
      ],
      "outputs": [
        {
          "output_type": "execute_result",
          "execution_count": 37,
          "data": {
            "text/plain": [
              "Text(0.5, 0, 'depth')"
            ]
          },
          "metadata": {}
        },
        {
          "output_type": "display_data",
          "data": {
            "text/plain": [
              "<Figure size 432x288 with 1 Axes>"
            ],
            "image/png": "[encoded data removed]"
          },
          "metadata": {
            "needs_background": "light"
          }
        }
      ],
      "execution_count": 37,
      "metadata": {
        "inputHidden": false,
        "outputHidden": false
      }
    },
    {
      "cell_type": "code",
      "source": [
        "# best depth\n",
        "np.argmax(scores)"
      ],
      "outputs": [
        {
          "output_type": "execute_result",
          "execution_count": 38,
          "data": {
            "text/plain": [
              "9"
            ]
          },
          "metadata": {}
        }
      ],
      "execution_count": 38,
      "metadata": {
        "inputHidden": false,
        "outputHidden": false
      }
    },
    {
      "cell_type": "markdown",
      "source": [
        "Feature importance"
      ],
      "metadata": {}
    },
    {
      "cell_type": "code",
      "source": [
        "# feature importances for best classifier\n",
        "clf = DecisionTreeClassifier(criterion='entropy', max_depth=4)\n",
        "clf.fit(X_train, y_train)\n",
        "clf.feature_importances_"
      ],
      "outputs": [
        {
          "output_type": "execute_result",
          "execution_count": 39,
          "data": {
            "text/plain": [
              "array([0.07998255, 0.        , 0.52719529, 0.        , 0.39282216])"
            ]
          },
          "metadata": {}
        }
      ],
      "execution_count": 39,
      "metadata": {
        "inputHidden": false,
        "outputHidden": false
      }
    },
    {
      "cell_type": "code",
      "source": [
        "sorted(zip(X_train.columns, clf.feature_importances_), key=lambda x: x[1], reverse=True)"
      ],
      "outputs": [
        {
          "output_type": "execute_result",
          "execution_count": 40,
          "data": {
            "text/plain": [
              "[('Port Code', 0.5271952949333532),\n",
              " (1, 0.3928221564834843),\n",
              " ('Year', 0.0799825485831626),\n",
              " ('Month', 0.0),\n",
              " (0, 0.0)]"
            ]
          },
          "metadata": {}
        }
      ],
      "execution_count": 40,
      "metadata": {
        "inputHidden": false,
        "outputHidden": false
      }
    },
    {
      "cell_type": "markdown",
      "source": [
        "Visualizing the decision tree"
      ],
      "metadata": {}
    },
    {
      "cell_type": "code",
      "source": [
        "!pip install pydotplus\n",
        "!pip install graphviz"
      ],
      "outputs": [
        {
          "output_type": "stream",
          "name": "stdout",
          "text": [
            "Collecting pydotplus\n",
            "\u001b[?25l  Downloading https://files.pythonhosted.org/packages/60/bf/62567830b700d9f6930e9ab6831d6ba256f7b0b730acb37278b0ccdffacf/pydotplus-2.0.2.tar.gz (278kB)\n",
            "\u001b[K     |████████████████████████████████| 286kB 2.7MB/s eta 0:00:01\n",
            "\u001b[?25hRequirement already satisfied: pyparsing>=2.0.1 in /anaconda3/lib/python3.7/site-packages (from pydotplus) (2.4.0)\n",
            "Building wheels for collected packages: pydotplus\n",
            "  Building wheel for pydotplus (setup.py) ... \u001b[?25l-\b \b\\\b \b|\b \b/\b \b-\b \b\\\b \bdone\n",
            "\u001b[?25h  Created wheel for pydotplus: filename=pydotplus-2.0.2-cp37-none-any.whl size=24568 sha256=546e23e0df5170d04e9f5d52e983d97e46d7ea759222346613e371dc6540699a\n",
            "  Stored in directory: /Users/tanjamarkotic/Library/Caches/pip/wheels/35/7b/ab/66fb7b2ac1f6df87475b09dc48e707b6e0de80a6d8444e3628\n",
            "Successfully built pydotplus\n",
            "Installing collected packages: pydotplus\n",
            "Successfully installed pydotplus-2.0.2\n",
            "Collecting graphviz\n",
            "  Downloading https://files.pythonhosted.org/packages/f5/74/dbed754c0abd63768d3a7a7b472da35b08ac442cf87d73d5850a6f32391e/graphviz-0.13.2-py2.py3-none-any.whl\n",
            "Installing collected packages: graphviz\n",
            "Successfully installed graphviz-0.13.2\n"
          ]
        }
      ],
      "execution_count": 275,
      "metadata": {
        "inputHidden": false,
        "outputHidden": false
      }
    },
    {
      "cell_type": "code",
      "source": [
        "from sklearn.externals.six import StringIO  \n",
        "from IPython.display import Image  \n",
        "from sklearn.tree import export_graphviz\n",
        "import pydotplus\n",
        "from IPython.display import SVG\n",
        "from graphviz import Source\n",
        "from IPython.display import display\n",
        "\n",
        "graph = Source(export_graphviz(clf, out_file=None\n",
        "   , feature_names=X_train.columns, class_names=['0','1','2','3','4','5','6','7'] \n",
        "   , filled = True))\n",
        "display(SVG(graph.pipe(format='svg')))"
      ],
      "outputs": [
        {
          "output_type": "display_data",
          "data": {
            "text/plain": [
              "<IPython.core.display.SVG object>"
            ],
            "image/svg+xml": [
              "<svg height=\"528pt\" viewBox=\"0.00 0.00 3938.78 528.00\" width=\"3939pt\" xmlns=\"http://www.w3.org/2000/svg\" xmlns:xlink=\"http://www.w3.org/1999/xlink\">\n",
              "<g class=\"graph\" id=\"graph0\" transform=\"scale(1 1) rotate(0) translate(4 524)\">\n",
              "<title>Tree</title>\n",
              "<polygon fill=\"white\" points=\"-4,4 -4,-524 3934.78,-524 3934.78,4 -4,4\" stroke=\"transparent\"/>\n",
              "<!-- 0 -->\n",
              "<g class=\"node\" id=\"node1\">\n",
              "<title>0</title>\n",
              "<polygon fill=\"#f8dbc7\" points=\"2223.97,-520 1911.05,-520 1911.05,-442 2223.97,-442 2223.97,-520\" stroke=\"black\"/>\n",
              "<text font-family=\"Times,serif\" font-size=\"14.00\" text-anchor=\"middle\" x=\"2067.51\" y=\"-504.8\">1 &lt;= 0.5</text>\n",
              "<text font-family=\"Times,serif\" font-size=\"14.00\" text-anchor=\"middle\" x=\"2067.51\" y=\"-490.8\">entropy = 2.406</text>\n",
              "<text font-family=\"Times,serif\" font-size=\"14.00\" text-anchor=\"middle\" x=\"2067.51\" y=\"-476.8\">samples = 92904</text>\n",
              "<text font-family=\"Times,serif\" font-size=\"14.00\" text-anchor=\"middle\" x=\"2067.51\" y=\"-462.8\">value = [34811, 11634, 11632, 11578, 11603, 11646]</text>\n",
              "<text font-family=\"Times,serif\" font-size=\"14.00\" text-anchor=\"middle\" x=\"2067.51\" y=\"-448.8\">class = 0</text>\n",
              "</g>\n",
              "<!-- 1 -->\n",
              "<g class=\"node\" id=\"node2\">\n",
              "<title>1</title>\n",
              "<polygon fill=\"#f7d8c1\" points=\"1739.05,-406 1451.97,-406 1451.97,-328 1739.05,-328 1739.05,-406\" stroke=\"black\"/>\n",
              "<text font-family=\"Times,serif\" font-size=\"14.00\" text-anchor=\"middle\" x=\"1595.51\" y=\"-390.8\">Port Code &lt;= 3024.0</text>\n",
              "<text font-family=\"Times,serif\" font-size=\"14.00\" text-anchor=\"middle\" x=\"1595.51\" y=\"-376.8\">entropy = 2.3</text>\n",
              "<text font-family=\"Times,serif\" font-size=\"14.00\" text-anchor=\"middle\" x=\"1595.51\" y=\"-362.8\">samples = 71049</text>\n",
              "<text font-family=\"Times,serif\" font-size=\"14.00\" text-anchor=\"middle\" x=\"1595.51\" y=\"-348.8\">value = [29445, 10479, 9647, 9364, 8200, 3914]</text>\n",
              "<text font-family=\"Times,serif\" font-size=\"14.00\" text-anchor=\"middle\" x=\"1595.51\" y=\"-334.8\">class = 0</text>\n",
              "</g>\n",
              "<!-- 0&#45;&gt;1 -->\n",
              "<g class=\"edge\" id=\"edge1\">\n",
              "<title>0-&gt;1</title>\n",
              "<path d=\"M1911,-442.86C1858.94,-430.51 1801.04,-416.77 1749.2,-404.47\" fill=\"none\" stroke=\"black\"/>\n",
              "<polygon fill=\"black\" points=\"1749.79,-401.01 1739.25,-402.11 1748.17,-407.82 1749.79,-401.01\" stroke=\"black\"/>\n",
              "<text font-family=\"Times,serif\" font-size=\"14.00\" text-anchor=\"middle\" x=\"1752.37\" y=\"-419.19\">True</text>\n",
              "</g>\n",
              "<!-- 16 -->\n",
              "<g class=\"node\" id=\"node17\">\n",
              "<title>16</title>\n",
              "<polygon fill=\"#fbe3f1\" points=\"2708.04,-406 2434.99,-406 2434.99,-328 2708.04,-328 2708.04,-406\" stroke=\"black\"/>\n",
              "<text font-family=\"Times,serif\" font-size=\"14.00\" text-anchor=\"middle\" x=\"2571.51\" y=\"-390.8\">Port Code &lt;= 2504.5</text>\n",
              "<text font-family=\"Times,serif\" font-size=\"14.00\" text-anchor=\"middle\" x=\"2571.51\" y=\"-376.8\">entropy = 2.319</text>\n",
              "<text font-family=\"Times,serif\" font-size=\"14.00\" text-anchor=\"middle\" x=\"2571.51\" y=\"-362.8\">samples = 21855</text>\n",
              "<text font-family=\"Times,serif\" font-size=\"14.00\" text-anchor=\"middle\" x=\"2571.51\" y=\"-348.8\">value = [5366, 1155, 1985, 2214, 3403, 7732]</text>\n",
              "<text font-family=\"Times,serif\" font-size=\"14.00\" text-anchor=\"middle\" x=\"2571.51\" y=\"-334.8\">class = 5</text>\n",
              "</g>\n",
              "<!-- 0&#45;&gt;16 -->\n",
              "<g class=\"edge\" id=\"edge16\">\n",
              "<title>0-&gt;16</title>\n",
              "<path d=\"M2223.87,-445.25C2287.94,-431.02 2361.68,-414.63 2424.72,-400.62\" fill=\"none\" stroke=\"black\"/>\n",
              "<polygon fill=\"black\" points=\"2425.74,-403.98 2434.74,-398.39 2424.22,-397.15 2425.74,-403.98\" stroke=\"black\"/>\n",
              "<text font-family=\"Times,serif\" font-size=\"14.00\" text-anchor=\"middle\" x=\"2421.32\" y=\"-415.28\">False</text>\n",
              "</g>\n",
              "<!-- 2 -->\n",
              "<g class=\"node\" id=\"node3\">\n",
              "<title>2</title>\n",
              "<polygon fill=\"#fbeade\" points=\"944.55,-292 664.47,-292 664.47,-214 944.55,-214 944.55,-292\" stroke=\"black\"/>\n",
              "<text font-family=\"Times,serif\" font-size=\"14.00\" text-anchor=\"middle\" x=\"804.51\" y=\"-276.8\">Port Code &lt;= 207.5</text>\n",
              "<text font-family=\"Times,serif\" font-size=\"14.00\" text-anchor=\"middle\" x=\"804.51\" y=\"-262.8\">entropy = 2.431</text>\n",
              "<text font-family=\"Times,serif\" font-size=\"14.00\" text-anchor=\"middle\" x=\"804.51\" y=\"-248.8\">samples = 31207</text>\n",
              "<text font-family=\"Times,serif\" font-size=\"14.00\" text-anchor=\"middle\" x=\"804.51\" y=\"-234.8\">value = [10350, 6242, 3264, 3892, 4582, 2877]</text>\n",
              "<text font-family=\"Times,serif\" font-size=\"14.00\" text-anchor=\"middle\" x=\"804.51\" y=\"-220.8\">class = 0</text>\n",
              "</g>\n",
              "<!-- 1&#45;&gt;2 -->\n",
              "<g class=\"edge\" id=\"edge2\">\n",
              "<title>1-&gt;2</title>\n",
              "<path d=\"M1451.81,-345.65C1311.21,-325.74 1097.92,-295.54 955.03,-275.31\" fill=\"none\" stroke=\"black\"/>\n",
              "<polygon fill=\"black\" points=\"955.25,-271.81 944.86,-273.87 954.27,-278.74 955.25,-271.81\" stroke=\"black\"/>\n",
              "</g>\n",
              "<!-- 9 -->\n",
              "<g class=\"node\" id=\"node10\">\n",
              "<title>9</title>\n",
              "<polygon fill=\"#f5cfb4\" points=\"1735.55,-292 1455.47,-292 1455.47,-214 1735.55,-214 1735.55,-292\" stroke=\"black\"/>\n",
              "<text font-family=\"Times,serif\" font-size=\"14.00\" text-anchor=\"middle\" x=\"1595.51\" y=\"-276.8\">Port Code &lt;= 3517.0</text>\n",
              "<text font-family=\"Times,serif\" font-size=\"14.00\" text-anchor=\"middle\" x=\"1595.51\" y=\"-262.8\">entropy = 2.12</text>\n",
              "<text font-family=\"Times,serif\" font-size=\"14.00\" text-anchor=\"middle\" x=\"1595.51\" y=\"-248.8\">samples = 39842</text>\n",
              "<text font-family=\"Times,serif\" font-size=\"14.00\" text-anchor=\"middle\" x=\"1595.51\" y=\"-234.8\">value = [19095, 4237, 6383, 5472, 3618, 1037]</text>\n",
              "<text font-family=\"Times,serif\" font-size=\"14.00\" text-anchor=\"middle\" x=\"1595.51\" y=\"-220.8\">class = 0</text>\n",
              "</g>\n",
              "<!-- 1&#45;&gt;9 -->\n",
              "<g class=\"edge\" id=\"edge9\">\n",
              "<title>1-&gt;9</title>\n",
              "<path d=\"M1595.51,-327.77C1595.51,-319.57 1595.51,-310.8 1595.51,-302.28\" fill=\"none\" stroke=\"black\"/>\n",
              "<polygon fill=\"black\" points=\"1599.01,-302.06 1595.51,-292.06 1592.01,-302.06 1599.01,-302.06\" stroke=\"black\"/>\n",
              "</g>\n",
              "<!-- 3 -->\n",
              "<g class=\"node\" id=\"node4\">\n",
              "<title>3</title>\n",
              "<polygon fill=\"#fae9dc\" points=\"519.05,-178 259.97,-178 259.97,-100 519.05,-100 519.05,-178\" stroke=\"black\"/>\n",
              "<text font-family=\"Times,serif\" font-size=\"14.00\" text-anchor=\"middle\" x=\"389.51\" y=\"-162.8\">Port Code &lt;= 116.5</text>\n",
              "<text font-family=\"Times,serif\" font-size=\"14.00\" text-anchor=\"middle\" x=\"389.51\" y=\"-148.8\">entropy = 2.273</text>\n",
              "<text font-family=\"Times,serif\" font-size=\"14.00\" text-anchor=\"middle\" x=\"389.51\" y=\"-134.8\">samples = 11882</text>\n",
              "<text font-family=\"Times,serif\" font-size=\"14.00\" text-anchor=\"middle\" x=\"389.51\" y=\"-120.8\">value = [4383, 2785, 1321, 868, 2046, 479]</text>\n",
              "<text font-family=\"Times,serif\" font-size=\"14.00\" text-anchor=\"middle\" x=\"389.51\" y=\"-106.8\">class = 0</text>\n",
              "</g>\n",
              "<!-- 2&#45;&gt;3 -->\n",
              "<g class=\"edge\" id=\"edge3\">\n",
              "<title>2-&gt;3</title>\n",
              "<path d=\"M664.3,-214.16C620.67,-202.39 572.59,-189.41 529.01,-177.65\" fill=\"none\" stroke=\"black\"/>\n",
              "<polygon fill=\"black\" points=\"529.77,-174.23 519.21,-175 527.95,-180.99 529.77,-174.23\" stroke=\"black\"/>\n",
              "</g>\n",
              "<!-- 6 -->\n",
              "<g class=\"node\" id=\"node7\">\n",
              "<title>6</title>\n",
              "<polygon fill=\"#fbebe0\" points=\"941.05,-178 667.97,-178 667.97,-100 941.05,-100 941.05,-178\" stroke=\"black\"/>\n",
              "<text font-family=\"Times,serif\" font-size=\"14.00\" text-anchor=\"middle\" x=\"804.51\" y=\"-162.8\">Port Code &lt;= 3009.5</text>\n",
              "<text font-family=\"Times,serif\" font-size=\"14.00\" text-anchor=\"middle\" x=\"804.51\" y=\"-148.8\">entropy = 2.478</text>\n",
              "<text font-family=\"Times,serif\" font-size=\"14.00\" text-anchor=\"middle\" x=\"804.51\" y=\"-134.8\">samples = 19325</text>\n",
              "<text font-family=\"Times,serif\" font-size=\"14.00\" text-anchor=\"middle\" x=\"804.51\" y=\"-120.8\">value = [5967, 3457, 1943, 3024, 2536, 2398]</text>\n",
              "<text font-family=\"Times,serif\" font-size=\"14.00\" text-anchor=\"middle\" x=\"804.51\" y=\"-106.8\">class = 0</text>\n",
              "</g>\n",
              "<!-- 2&#45;&gt;6 -->\n",
              "<g class=\"edge\" id=\"edge6\">\n",
              "<title>2-&gt;6</title>\n",
              "<path d=\"M804.51,-213.77C804.51,-205.57 804.51,-196.8 804.51,-188.28\" fill=\"none\" stroke=\"black\"/>\n",
              "<polygon fill=\"black\" points=\"808.01,-188.06 804.51,-178.06 801.01,-188.06 808.01,-188.06\" stroke=\"black\"/>\n",
              "</g>\n",
              "<!-- 4 -->\n",
              "<g class=\"node\" id=\"node5\">\n",
              "<title>4</title>\n",
              "<polygon fill=\"#fdf4ee\" points=\"259.04,-64 -0.01,-64 -0.01,0 259.04,0 259.04,-64\" stroke=\"black\"/>\n",
              "<text font-family=\"Times,serif\" font-size=\"14.00\" text-anchor=\"middle\" x=\"129.51\" y=\"-48.8\">entropy = 2.352</text>\n",
              "<text font-family=\"Times,serif\" font-size=\"14.00\" text-anchor=\"middle\" x=\"129.51\" y=\"-34.8\">samples = 8571</text>\n",
              "<text font-family=\"Times,serif\" font-size=\"14.00\" text-anchor=\"middle\" x=\"129.51\" y=\"-20.8\">value = [2734, 2199, 1148, 634, 1377, 479]</text>\n",
              "<text font-family=\"Times,serif\" font-size=\"14.00\" text-anchor=\"middle\" x=\"129.51\" y=\"-6.8\">class = 0</text>\n",
              "</g>\n",
              "<!-- 3&#45;&gt;4 -->\n",
              "<g class=\"edge\" id=\"edge4\">\n",
              "<title>3-&gt;4</title>\n",
              "<path d=\"M295.28,-99.94C269.26,-89.44 241.17,-78.09 215.64,-67.78\" fill=\"none\" stroke=\"black\"/>\n",
              "<polygon fill=\"black\" points=\"216.94,-64.53 206.36,-64.04 214.32,-71.03 216.94,-64.53\" stroke=\"black\"/>\n",
              "</g>\n",
              "<!-- 5 -->\n",
              "<g class=\"node\" id=\"node6\">\n",
              "<title>5</title>\n",
              "<polygon fill=\"#f5d0b6\" points=\"501.55,-64 277.47,-64 277.47,0 501.55,0 501.55,-64\" stroke=\"black\"/>\n",
              "<text font-family=\"Times,serif\" font-size=\"14.00\" text-anchor=\"middle\" x=\"389.51\" y=\"-48.8\">entropy = 1.902</text>\n",
              "<text font-family=\"Times,serif\" font-size=\"14.00\" text-anchor=\"middle\" x=\"389.51\" y=\"-34.8\">samples = 3311</text>\n",
              "<text font-family=\"Times,serif\" font-size=\"14.00\" text-anchor=\"middle\" x=\"389.51\" y=\"-20.8\">value = [1649, 586, 173, 234, 669, 0]</text>\n",
              "<text font-family=\"Times,serif\" font-size=\"14.00\" text-anchor=\"middle\" x=\"389.51\" y=\"-6.8\">class = 0</text>\n",
              "</g>\n",
              "<!-- 3&#45;&gt;5 -->\n",
              "<g class=\"edge\" id=\"edge5\">\n",
              "<title>3-&gt;5</title>\n",
              "<path d=\"M389.51,-99.8C389.51,-91.46 389.51,-82.6 389.51,-74.15\" fill=\"none\" stroke=\"black\"/>\n",
              "<polygon fill=\"black\" points=\"393.01,-74.12 389.51,-64.12 386.01,-74.12 393.01,-74.12\" stroke=\"black\"/>\n",
              "</g>\n",
              "<!-- 7 -->\n",
              "<g class=\"node\" id=\"node8\">\n",
              "<title>7</title>\n",
              "<polygon fill=\"#fdf7f3\" points=\"786.55,-64 520.47,-64 520.47,0 786.55,0 786.55,-64\" stroke=\"black\"/>\n",
              "<text font-family=\"Times,serif\" font-size=\"14.00\" text-anchor=\"middle\" x=\"653.51\" y=\"-48.8\">entropy = 2.521</text>\n",
              "<text font-family=\"Times,serif\" font-size=\"14.00\" text-anchor=\"middle\" x=\"653.51\" y=\"-34.8\">samples = 10486</text>\n",
              "<text font-family=\"Times,serif\" font-size=\"14.00\" text-anchor=\"middle\" x=\"653.51\" y=\"-20.8\">value = [2446, 1638, 796, 1902, 1785, 1919]</text>\n",
              "<text font-family=\"Times,serif\" font-size=\"14.00\" text-anchor=\"middle\" x=\"653.51\" y=\"-6.8\">class = 0</text>\n",
              "</g>\n",
              "<!-- 6&#45;&gt;7 -->\n",
              "<g class=\"edge\" id=\"edge7\">\n",
              "<title>6-&gt;7</title>\n",
              "<path d=\"M749.57,-99.8C735.6,-90.08 720.62,-79.67 706.74,-70.01\" fill=\"none\" stroke=\"black\"/>\n",
              "<polygon fill=\"black\" points=\"708.47,-66.95 698.26,-64.12 704.47,-72.7 708.47,-66.95\" stroke=\"black\"/>\n",
              "</g>\n",
              "<!-- 8 -->\n",
              "<g class=\"node\" id=\"node9\">\n",
              "<title>8</title>\n",
              "<polygon fill=\"#f9e0cf\" points=\"1063.52,-64 805.5,-64 805.5,0 1063.52,0 1063.52,-64\" stroke=\"black\"/>\n",
              "<text font-family=\"Times,serif\" font-size=\"14.00\" text-anchor=\"middle\" x=\"934.51\" y=\"-48.8\">entropy = 2.289</text>\n",
              "<text font-family=\"Times,serif\" font-size=\"14.00\" text-anchor=\"middle\" x=\"934.51\" y=\"-34.8\">samples = 8839</text>\n",
              "<text font-family=\"Times,serif\" font-size=\"14.00\" text-anchor=\"middle\" x=\"934.51\" y=\"-20.8\">value = [3521, 1819, 1147, 1122, 751, 479]</text>\n",
              "<text font-family=\"Times,serif\" font-size=\"14.00\" text-anchor=\"middle\" x=\"934.51\" y=\"-6.8\">class = 0</text>\n",
              "</g>\n",
              "<!-- 6&#45;&gt;8 -->\n",
              "<g class=\"edge\" id=\"edge8\">\n",
              "<title>6-&gt;8</title>\n",
              "<path d=\"M851.81,-99.8C863.61,-90.27 876.25,-80.06 888.01,-70.56\" fill=\"none\" stroke=\"black\"/>\n",
              "<polygon fill=\"black\" points=\"890.41,-73.12 895.99,-64.12 886.01,-67.68 890.41,-73.12\" stroke=\"black\"/>\n",
              "</g>\n",
              "<!-- 10 -->\n",
              "<g class=\"node\" id=\"node11\">\n",
              "<title>10</title>\n",
              "<polygon fill=\"#f4caab\" points=\"1597.05,-178 1323.97,-178 1323.97,-100 1597.05,-100 1597.05,-178\" stroke=\"black\"/>\n",
              "<text font-family=\"Times,serif\" font-size=\"14.00\" text-anchor=\"middle\" x=\"1460.51\" y=\"-162.8\">Year &lt;= 2016.5</text>\n",
              "<text font-family=\"Times,serif\" font-size=\"14.00\" text-anchor=\"middle\" x=\"1460.51\" y=\"-148.8\">entropy = 1.984</text>\n",
              "<text font-family=\"Times,serif\" font-size=\"14.00\" text-anchor=\"middle\" x=\"1460.51\" y=\"-134.8\">samples = 35499</text>\n",
              "<text font-family=\"Times,serif\" font-size=\"14.00\" text-anchor=\"middle\" x=\"1460.51\" y=\"-120.8\">value = [18136, 4032, 5446, 4773, 2989, 123]</text>\n",
              "<text font-family=\"Times,serif\" font-size=\"14.00\" text-anchor=\"middle\" x=\"1460.51\" y=\"-106.8\">class = 0</text>\n",
              "</g>\n",
              "<!-- 9&#45;&gt;10 -->\n",
              "<g class=\"edge\" id=\"edge10\">\n",
              "<title>9-&gt;10</title>\n",
              "<path d=\"M1549.43,-213.77C1538.14,-204.4 1525.95,-194.29 1514.32,-184.64\" fill=\"none\" stroke=\"black\"/>\n",
              "<polygon fill=\"black\" points=\"1516.32,-181.75 1506.39,-178.06 1511.85,-187.14 1516.32,-181.75\" stroke=\"black\"/>\n",
              "</g>\n",
              "<!-- 13 -->\n",
              "<g class=\"node\" id=\"node14\">\n",
              "<title>13</title>\n",
              "<polygon fill=\"#fffefe\" points=\"1847.05,-178 1615.97,-178 1615.97,-100 1847.05,-100 1847.05,-178\" stroke=\"black\"/>\n",
              "<text font-family=\"Times,serif\" font-size=\"14.00\" text-anchor=\"middle\" x=\"1731.51\" y=\"-162.8\">Port Code &lt;= 3608.5</text>\n",
              "<text font-family=\"Times,serif\" font-size=\"14.00\" text-anchor=\"middle\" x=\"1731.51\" y=\"-148.8\">entropy = 2.468</text>\n",
              "<text font-family=\"Times,serif\" font-size=\"14.00\" text-anchor=\"middle\" x=\"1731.51\" y=\"-134.8\">samples = 4343</text>\n",
              "<text font-family=\"Times,serif\" font-size=\"14.00\" text-anchor=\"middle\" x=\"1731.51\" y=\"-120.8\">value = [959, 205, 937, 699, 629, 914]</text>\n",
              "<text font-family=\"Times,serif\" font-size=\"14.00\" text-anchor=\"middle\" x=\"1731.51\" y=\"-106.8\">class = 0</text>\n",
              "</g>\n",
              "<!-- 9&#45;&gt;13 -->\n",
              "<g class=\"edge\" id=\"edge13\">\n",
              "<title>9-&gt;13</title>\n",
              "<path d=\"M1641.94,-213.77C1653.31,-204.4 1665.59,-194.29 1677.3,-184.64\" fill=\"none\" stroke=\"black\"/>\n",
              "<polygon fill=\"black\" points=\"1679.8,-187.12 1685.3,-178.06 1675.35,-181.71 1679.8,-187.12\" stroke=\"black\"/>\n",
              "</g>\n",
              "<!-- 11 -->\n",
              "<g class=\"node\" id=\"node12\">\n",
              "<title>11</title>\n",
              "<polygon fill=\"#f3c5a5\" points=\"1355.04,-64 1081.99,-64 1081.99,0 1355.04,0 1355.04,-64\" stroke=\"black\"/>\n",
              "<text font-family=\"Times,serif\" font-size=\"14.00\" text-anchor=\"middle\" x=\"1218.51\" y=\"-48.8\">entropy = 1.931</text>\n",
              "<text font-family=\"Times,serif\" font-size=\"14.00\" text-anchor=\"middle\" x=\"1218.51\" y=\"-34.8\">samples = 33604</text>\n",
              "<text font-family=\"Times,serif\" font-size=\"14.00\" text-anchor=\"middle\" x=\"1218.51\" y=\"-20.8\">value = [18020, 3550, 4910, 4305, 2701, 118]</text>\n",
              "<text font-family=\"Times,serif\" font-size=\"14.00\" text-anchor=\"middle\" x=\"1218.51\" y=\"-6.8\">class = 0</text>\n",
              "</g>\n",
              "<!-- 10&#45;&gt;11 -->\n",
              "<g class=\"edge\" id=\"edge11\">\n",
              "<title>10-&gt;11</title>\n",
              "<path d=\"M1372.8,-99.94C1348.8,-89.53 1322.9,-78.29 1299.31,-68.06\" fill=\"none\" stroke=\"black\"/>\n",
              "<polygon fill=\"black\" points=\"1300.61,-64.81 1290.04,-64.04 1297.82,-71.23 1300.61,-64.81\" stroke=\"black\"/>\n",
              "</g>\n",
              "<!-- 12 -->\n",
              "<g class=\"node\" id=\"node13\">\n",
              "<title>12</title>\n",
              "<polygon fill=\"#f7fefa\" points=\"1590.04,-64 1372.99,-64 1372.99,0 1590.04,0 1590.04,-64\" stroke=\"black\"/>\n",
              "<text font-family=\"Times,serif\" font-size=\"14.00\" text-anchor=\"middle\" x=\"1481.51\" y=\"-48.8\">entropy = 2.198</text>\n",
              "<text font-family=\"Times,serif\" font-size=\"14.00\" text-anchor=\"middle\" x=\"1481.51\" y=\"-34.8\">samples = 1895</text>\n",
              "<text font-family=\"Times,serif\" font-size=\"14.00\" text-anchor=\"middle\" x=\"1481.51\" y=\"-20.8\">value = [116, 482, 536, 468, 288, 5]</text>\n",
              "<text font-family=\"Times,serif\" font-size=\"14.00\" text-anchor=\"middle\" x=\"1481.51\" y=\"-6.8\">class = 2</text>\n",
              "</g>\n",
              "<!-- 10&#45;&gt;12 -->\n",
              "<g class=\"edge\" id=\"edge12\">\n",
              "<title>10-&gt;12</title>\n",
              "<path d=\"M1468.15,-99.8C1469.82,-91.46 1471.59,-82.6 1473.28,-74.15\" fill=\"none\" stroke=\"black\"/>\n",
              "<polygon fill=\"black\" points=\"1476.76,-74.61 1475.29,-64.12 1469.9,-73.24 1476.76,-74.61\" stroke=\"black\"/>\n",
              "</g>\n",
              "<!-- 14 -->\n",
              "<g class=\"node\" id=\"node15\">\n",
              "<title>14</title>\n",
              "<polygon fill=\"#aef4cb\" points=\"1811.05,-64 1607.97,-64 1607.97,0 1811.05,0 1811.05,-64\" stroke=\"black\"/>\n",
              "<text font-family=\"Times,serif\" font-size=\"14.00\" text-anchor=\"middle\" x=\"1709.51\" y=\"-48.8\">entropy = 1.833</text>\n",
              "<text font-family=\"Times,serif\" font-size=\"14.00\" text-anchor=\"middle\" x=\"1709.51\" y=\"-34.8\">samples = 894</text>\n",
              "<text font-family=\"Times,serif\" font-size=\"14.00\" text-anchor=\"middle\" x=\"1709.51\" y=\"-20.8\">value = [3, 21, 471, 177, 75, 147]</text>\n",
              "<text font-family=\"Times,serif\" font-size=\"14.00\" text-anchor=\"middle\" x=\"1709.51\" y=\"-6.8\">class = 2</text>\n",
              "</g>\n",
              "<!-- 13&#45;&gt;14 -->\n",
              "<g class=\"edge\" id=\"edge14\">\n",
              "<title>13-&gt;14</title>\n",
              "<path d=\"M1723.51,-99.8C1721.76,-91.46 1719.9,-82.6 1718.13,-74.15\" fill=\"none\" stroke=\"black\"/>\n",
              "<polygon fill=\"black\" points=\"1721.51,-73.19 1716.03,-64.12 1714.66,-74.62 1721.51,-73.19\" stroke=\"black\"/>\n",
              "</g>\n",
              "<!-- 15 -->\n",
              "<g class=\"node\" id=\"node16\">\n",
              "<title>15</title>\n",
              "<polygon fill=\"#fdf6f1\" points=\"2061.05,-64 1829.97,-64 1829.97,0 2061.05,0 2061.05,-64\" stroke=\"black\"/>\n",
              "<text font-family=\"Times,serif\" font-size=\"14.00\" text-anchor=\"middle\" x=\"1945.51\" y=\"-48.8\">entropy = 2.447</text>\n",
              "<text font-family=\"Times,serif\" font-size=\"14.00\" text-anchor=\"middle\" x=\"1945.51\" y=\"-34.8\">samples = 3449</text>\n",
              "<text font-family=\"Times,serif\" font-size=\"14.00\" text-anchor=\"middle\" x=\"1945.51\" y=\"-20.8\">value = [956, 184, 466, 522, 554, 767]</text>\n",
              "<text font-family=\"Times,serif\" font-size=\"14.00\" text-anchor=\"middle\" x=\"1945.51\" y=\"-6.8\">class = 0</text>\n",
              "</g>\n",
              "<!-- 13&#45;&gt;15 -->\n",
              "<g class=\"edge\" id=\"edge15\">\n",
              "<title>13-&gt;15</title>\n",
              "<path d=\"M1809.07,-99.94C1830.02,-89.67 1852.59,-78.59 1873.23,-68.46\" fill=\"none\" stroke=\"black\"/>\n",
              "<polygon fill=\"black\" points=\"1874.82,-71.58 1882.26,-64.04 1871.74,-65.3 1874.82,-71.58\" stroke=\"black\"/>\n",
              "</g>\n",
              "<!-- 17 -->\n",
              "<g class=\"node\" id=\"node18\">\n",
              "<title>17</title>\n",
              "<polygon fill=\"#fbe1f0\" points=\"2704.55,-292 2438.47,-292 2438.47,-214 2704.55,-214 2704.55,-292\" stroke=\"black\"/>\n",
              "<text font-family=\"Times,serif\" font-size=\"14.00\" text-anchor=\"middle\" x=\"2571.51\" y=\"-276.8\">Year &lt;= 2016.5</text>\n",
              "<text font-family=\"Times,serif\" font-size=\"14.00\" text-anchor=\"middle\" x=\"2571.51\" y=\"-262.8\">entropy = 2.178</text>\n",
              "<text font-family=\"Times,serif\" font-size=\"14.00\" text-anchor=\"middle\" x=\"2571.51\" y=\"-248.8\">samples = 13975</text>\n",
              "<text font-family=\"Times,serif\" font-size=\"14.00\" text-anchor=\"middle\" x=\"2571.51\" y=\"-234.8\">value = [3805, 255, 1092, 1421, 2070, 5332]</text>\n",
              "<text font-family=\"Times,serif\" font-size=\"14.00\" text-anchor=\"middle\" x=\"2571.51\" y=\"-220.8\">class = 5</text>\n",
              "</g>\n",
              "<!-- 16&#45;&gt;17 -->\n",
              "<g class=\"edge\" id=\"edge17\">\n",
              "<title>16-&gt;17</title>\n",
              "<path d=\"M2571.51,-327.77C2571.51,-319.57 2571.51,-310.8 2571.51,-302.28\" fill=\"none\" stroke=\"black\"/>\n",
              "<polygon fill=\"black\" points=\"2575.01,-302.06 2571.51,-292.06 2568.01,-302.06 2575.01,-302.06\" stroke=\"black\"/>\n",
              "</g>\n",
              "<!-- 24 -->\n",
              "<g class=\"node\" id=\"node25\">\n",
              "<title>24</title>\n",
              "<polygon fill=\"#fce5f2\" points=\"3350.55,-292 3098.47,-292 3098.47,-214 3350.55,-214 3350.55,-292\" stroke=\"black\"/>\n",
              "<text font-family=\"Times,serif\" font-size=\"14.00\" text-anchor=\"middle\" x=\"3224.51\" y=\"-276.8\">Port Code &lt;= 2591.5</text>\n",
              "<text font-family=\"Times,serif\" font-size=\"14.00\" text-anchor=\"middle\" x=\"3224.51\" y=\"-262.8\">entropy = 2.466</text>\n",
              "<text font-family=\"Times,serif\" font-size=\"14.00\" text-anchor=\"middle\" x=\"3224.51\" y=\"-248.8\">samples = 7880</text>\n",
              "<text font-family=\"Times,serif\" font-size=\"14.00\" text-anchor=\"middle\" x=\"3224.51\" y=\"-234.8\">value = [1561, 900, 893, 793, 1333, 2400]</text>\n",
              "<text font-family=\"Times,serif\" font-size=\"14.00\" text-anchor=\"middle\" x=\"3224.51\" y=\"-220.8\">class = 5</text>\n",
              "</g>\n",
              "<!-- 16&#45;&gt;24 -->\n",
              "<g class=\"edge\" id=\"edge24\">\n",
              "<title>16-&gt;24</title>\n",
              "<path d=\"M2708.4,-342.52C2820.03,-323.37 2976.92,-296.47 3088.35,-277.35\" fill=\"none\" stroke=\"black\"/>\n",
              "<polygon fill=\"black\" points=\"3089.05,-280.78 3098.32,-275.64 3087.87,-273.89 3089.05,-280.78\" stroke=\"black\"/>\n",
              "</g>\n",
              "<!-- 18 -->\n",
              "<g class=\"node\" id=\"node19\">\n",
              "<title>18</title>\n",
              "<polygon fill=\"#fceaf5\" points=\"2575.05,-178 2315.97,-178 2315.97,-100 2575.05,-100 2575.05,-178\" stroke=\"black\"/>\n",
              "<text font-family=\"Times,serif\" font-size=\"14.00\" text-anchor=\"middle\" x=\"2445.51\" y=\"-162.8\">Port Code &lt;= 2456.0</text>\n",
              "<text font-family=\"Times,serif\" font-size=\"14.00\" text-anchor=\"middle\" x=\"2445.51\" y=\"-148.8\">entropy = 2.171</text>\n",
              "<text font-family=\"Times,serif\" font-size=\"14.00\" text-anchor=\"middle\" x=\"2445.51\" y=\"-134.8\">samples = 12909</text>\n",
              "<text font-family=\"Times,serif\" font-size=\"14.00\" text-anchor=\"middle\" x=\"2445.51\" y=\"-120.8\">value = [3805, 244, 987, 1259, 1851, 4763]</text>\n",
              "<text font-family=\"Times,serif\" font-size=\"14.00\" text-anchor=\"middle\" x=\"2445.51\" y=\"-106.8\">class = 5</text>\n",
              "</g>\n",
              "<!-- 17&#45;&gt;18 -->\n",
              "<g class=\"edge\" id=\"edge18\">\n",
              "<title>17-&gt;18</title>\n",
              "<path d=\"M2528.5,-213.77C2518.06,-204.49 2506.8,-194.48 2496.05,-184.92\" fill=\"none\" stroke=\"black\"/>\n",
              "<polygon fill=\"black\" points=\"2498.13,-182.09 2488.33,-178.06 2493.48,-187.32 2498.13,-182.09\" stroke=\"black\"/>\n",
              "</g>\n",
              "<!-- 21 -->\n",
              "<g class=\"node\" id=\"node22\">\n",
              "<title>21</title>\n",
              "<polygon fill=\"#f4add7\" points=\"2803.54,-178 2593.49,-178 2593.49,-100 2803.54,-100 2803.54,-178\" stroke=\"black\"/>\n",
              "<text font-family=\"Times,serif\" font-size=\"14.00\" text-anchor=\"middle\" x=\"2698.51\" y=\"-162.8\">Port Code &lt;= 2309.5</text>\n",
              "<text font-family=\"Times,serif\" font-size=\"14.00\" text-anchor=\"middle\" x=\"2698.51\" y=\"-148.8\">entropy = 1.763</text>\n",
              "<text font-family=\"Times,serif\" font-size=\"14.00\" text-anchor=\"middle\" x=\"2698.51\" y=\"-134.8\">samples = 1066</text>\n",
              "<text font-family=\"Times,serif\" font-size=\"14.00\" text-anchor=\"middle\" x=\"2698.51\" y=\"-120.8\">value = [0, 11, 105, 162, 219, 569]</text>\n",
              "<text font-family=\"Times,serif\" font-size=\"14.00\" text-anchor=\"middle\" x=\"2698.51\" y=\"-106.8\">class = 5</text>\n",
              "</g>\n",
              "<!-- 17&#45;&gt;21 -->\n",
              "<g class=\"edge\" id=\"edge21\">\n",
              "<title>17-&gt;21</title>\n",
              "<path d=\"M2614.86,-213.77C2625.39,-204.49 2636.73,-194.48 2647.57,-184.92\" fill=\"none\" stroke=\"black\"/>\n",
              "<polygon fill=\"black\" points=\"2650.17,-187.3 2655.36,-178.06 2645.54,-182.05 2650.17,-187.3\" stroke=\"black\"/>\n",
              "</g>\n",
              "<!-- 19 -->\n",
              "<g class=\"node\" id=\"node20\">\n",
              "<title>19</title>\n",
              "<polygon fill=\"#fdf0f7\" points=\"2337.52,-64 2079.5,-64 2079.5,0 2337.52,0 2337.52,-64\" stroke=\"black\"/>\n",
              "<text font-family=\"Times,serif\" font-size=\"14.00\" text-anchor=\"middle\" x=\"2208.51\" y=\"-48.8\">entropy = 2.24</text>\n",
              "<text font-family=\"Times,serif\" font-size=\"14.00\" text-anchor=\"middle\" x=\"2208.51\" y=\"-34.8\">samples = 10493</text>\n",
              "<text font-family=\"Times,serif\" font-size=\"14.00\" text-anchor=\"middle\" x=\"2208.51\" y=\"-20.8\">value = [2967, 206, 911, 1174, 1691, 3544]</text>\n",
              "<text font-family=\"Times,serif\" font-size=\"14.00\" text-anchor=\"middle\" x=\"2208.51\" y=\"-6.8\">class = 5</text>\n",
              "</g>\n",
              "<!-- 18&#45;&gt;19 -->\n",
              "<g class=\"edge\" id=\"edge19\">\n",
              "<title>18-&gt;19</title>\n",
              "<path d=\"M2359.61,-99.94C2336.21,-89.58 2310.97,-78.39 2287.94,-68.19\" fill=\"none\" stroke=\"black\"/>\n",
              "<polygon fill=\"black\" points=\"2289.12,-64.89 2278.56,-64.04 2286.29,-71.29 2289.12,-64.89\" stroke=\"black\"/>\n",
              "</g>\n",
              "<!-- 20 -->\n",
              "<g class=\"node\" id=\"node21\">\n",
              "<title>20</title>\n",
              "<polygon fill=\"#f9cfe7\" points=\"2573.05,-64 2355.97,-64 2355.97,0 2573.05,0 2573.05,-64\" stroke=\"black\"/>\n",
              "<text font-family=\"Times,serif\" font-size=\"14.00\" text-anchor=\"middle\" x=\"2464.51\" y=\"-48.8\">entropy = 1.708</text>\n",
              "<text font-family=\"Times,serif\" font-size=\"14.00\" text-anchor=\"middle\" x=\"2464.51\" y=\"-34.8\">samples = 2416</text>\n",
              "<text font-family=\"Times,serif\" font-size=\"14.00\" text-anchor=\"middle\" x=\"2464.51\" y=\"-20.8\">value = [838, 38, 76, 85, 160, 1219]</text>\n",
              "<text font-family=\"Times,serif\" font-size=\"14.00\" text-anchor=\"middle\" x=\"2464.51\" y=\"-6.8\">class = 5</text>\n",
              "</g>\n",
              "<!-- 18&#45;&gt;20 -->\n",
              "<g class=\"edge\" id=\"edge20\">\n",
              "<title>18-&gt;20</title>\n",
              "<path d=\"M2452.43,-99.8C2453.93,-91.46 2455.54,-82.6 2457.07,-74.15\" fill=\"none\" stroke=\"black\"/>\n",
              "<polygon fill=\"black\" points=\"2460.54,-74.58 2458.88,-64.12 2453.66,-73.33 2460.54,-74.58\" stroke=\"black\"/>\n",
              "</g>\n",
              "<!-- 22 -->\n",
              "<g class=\"node\" id=\"node23\">\n",
              "<title>22</title>\n",
              "<polygon fill=\"#ef86c3\" points=\"2767.05,-64 2591.97,-64 2591.97,0 2767.05,0 2767.05,-64\" stroke=\"black\"/>\n",
              "<text font-family=\"Times,serif\" font-size=\"14.00\" text-anchor=\"middle\" x=\"2679.51\" y=\"-48.8\">entropy = 1.272</text>\n",
              "<text font-family=\"Times,serif\" font-size=\"14.00\" text-anchor=\"middle\" x=\"2679.51\" y=\"-34.8\">samples = 438</text>\n",
              "<text font-family=\"Times,serif\" font-size=\"14.00\" text-anchor=\"middle\" x=\"2679.51\" y=\"-20.8\">value = [0, 1, 1, 69, 72, 295]</text>\n",
              "<text font-family=\"Times,serif\" font-size=\"14.00\" text-anchor=\"middle\" x=\"2679.51\" y=\"-6.8\">class = 5</text>\n",
              "</g>\n",
              "<!-- 21&#45;&gt;22 -->\n",
              "<g class=\"edge\" id=\"edge22\">\n",
              "<title>21-&gt;22</title>\n",
              "<path d=\"M2691.6,-99.8C2690.09,-91.46 2688.49,-82.6 2686.96,-74.15\" fill=\"none\" stroke=\"black\"/>\n",
              "<polygon fill=\"black\" points=\"2690.37,-73.33 2685.14,-64.12 2683.48,-74.58 2690.37,-73.33\" stroke=\"black\"/>\n",
              "</g>\n",
              "<!-- 23 -->\n",
              "<g class=\"node\" id=\"node24\">\n",
              "<title>23</title>\n",
              "<polygon fill=\"#f8cbe5\" points=\"2989.05,-64 2785.97,-64 2785.97,0 2989.05,0 2989.05,-64\" stroke=\"black\"/>\n",
              "<text font-family=\"Times,serif\" font-size=\"14.00\" text-anchor=\"middle\" x=\"2887.51\" y=\"-48.8\">entropy = 1.945</text>\n",
              "<text font-family=\"Times,serif\" font-size=\"14.00\" text-anchor=\"middle\" x=\"2887.51\" y=\"-34.8\">samples = 628</text>\n",
              "<text font-family=\"Times,serif\" font-size=\"14.00\" text-anchor=\"middle\" x=\"2887.51\" y=\"-20.8\">value = [0, 10, 104, 93, 147, 274]</text>\n",
              "<text font-family=\"Times,serif\" font-size=\"14.00\" text-anchor=\"middle\" x=\"2887.51\" y=\"-6.8\">class = 5</text>\n",
              "</g>\n",
              "<!-- 21&#45;&gt;23 -->\n",
              "<g class=\"edge\" id=\"edge23\">\n",
              "<title>21-&gt;23</title>\n",
              "<path d=\"M2767.01,-99.94C2785.09,-89.9 2804.55,-79.09 2822.45,-69.15\" fill=\"none\" stroke=\"black\"/>\n",
              "<polygon fill=\"black\" points=\"2824.61,-71.95 2831.65,-64.04 2821.21,-65.83 2824.61,-71.95\" stroke=\"black\"/>\n",
              "</g>\n",
              "<!-- 25 -->\n",
              "<g class=\"node\" id=\"node26\">\n",
              "<title>25</title>\n",
              "<polygon fill=\"#fbe2f0\" points=\"3340.05,-178 3108.97,-178 3108.97,-100 3340.05,-100 3340.05,-178\" stroke=\"black\"/>\n",
              "<text font-family=\"Times,serif\" font-size=\"14.00\" text-anchor=\"middle\" x=\"3224.51\" y=\"-162.8\">Port Code &lt;= 2505.5</text>\n",
              "<text font-family=\"Times,serif\" font-size=\"14.00\" text-anchor=\"middle\" x=\"3224.51\" y=\"-148.8\">entropy = 2.354</text>\n",
              "<text font-family=\"Times,serif\" font-size=\"14.00\" text-anchor=\"middle\" x=\"3224.51\" y=\"-134.8\">samples = 2686</text>\n",
              "<text font-family=\"Times,serif\" font-size=\"14.00\" text-anchor=\"middle\" x=\"3224.51\" y=\"-120.8\">value = [162, 538, 334, 185, 577, 890]</text>\n",
              "<text font-family=\"Times,serif\" font-size=\"14.00\" text-anchor=\"middle\" x=\"3224.51\" y=\"-106.8\">class = 5</text>\n",
              "</g>\n",
              "<!-- 24&#45;&gt;25 -->\n",
              "<g class=\"edge\" id=\"edge25\">\n",
              "<title>24-&gt;25</title>\n",
              "<path d=\"M3224.51,-213.77C3224.51,-205.57 3224.51,-196.8 3224.51,-188.28\" fill=\"none\" stroke=\"black\"/>\n",
              "<polygon fill=\"black\" points=\"3228.01,-188.06 3224.51,-178.06 3221.01,-188.06 3228.01,-188.06\" stroke=\"black\"/>\n",
              "</g>\n",
              "<!-- 28 -->\n",
              "<g class=\"node\" id=\"node29\">\n",
              "<title>28</title>\n",
              "<polygon fill=\"#fef9fc\" points=\"3716.05,-178 3470.97,-178 3470.97,-100 3716.05,-100 3716.05,-178\" stroke=\"black\"/>\n",
              "<text font-family=\"Times,serif\" font-size=\"14.00\" text-anchor=\"middle\" x=\"3593.51\" y=\"-162.8\">Port Code &lt;= 2607.0</text>\n",
              "<text font-family=\"Times,serif\" font-size=\"14.00\" text-anchor=\"middle\" x=\"3593.51\" y=\"-148.8\">entropy = 2.409</text>\n",
              "<text font-family=\"Times,serif\" font-size=\"14.00\" text-anchor=\"middle\" x=\"3593.51\" y=\"-134.8\">samples = 5194</text>\n",
              "<text font-family=\"Times,serif\" font-size=\"14.00\" text-anchor=\"middle\" x=\"3593.51\" y=\"-120.8\">value = [1399, 362, 559, 608, 756, 1510]</text>\n",
              "<text font-family=\"Times,serif\" font-size=\"14.00\" text-anchor=\"middle\" x=\"3593.51\" y=\"-106.8\">class = 5</text>\n",
              "</g>\n",
              "<!-- 24&#45;&gt;28 -->\n",
              "<g class=\"edge\" id=\"edge28\">\n",
              "<title>24-&gt;28</title>\n",
              "<path d=\"M3349.95,-213.93C3385.82,-203.04 3425.01,-191.14 3461.27,-180.14\" fill=\"none\" stroke=\"black\"/>\n",
              "<polygon fill=\"black\" points=\"3462.37,-183.46 3470.92,-177.21 3460.33,-176.77 3462.37,-183.46\" stroke=\"black\"/>\n",
              "</g>\n",
              "<!-- 26 -->\n",
              "<g class=\"node\" id=\"node27\">\n",
              "<title>26</title>\n",
              "<polygon fill=\"#fefafd\" points=\"3217.54,-64 3007.49,-64 3007.49,0 3217.54,0 3217.54,-64\" stroke=\"black\"/>\n",
              "<text font-family=\"Times,serif\" font-size=\"14.00\" text-anchor=\"middle\" x=\"3112.51\" y=\"-48.8\">entropy = 2.21</text>\n",
              "<text font-family=\"Times,serif\" font-size=\"14.00\" text-anchor=\"middle\" x=\"3112.51\" y=\"-34.8\">samples = 856</text>\n",
              "<text font-family=\"Times,serif\" font-size=\"14.00\" text-anchor=\"middle\" x=\"3112.51\" y=\"-20.8\">value = [110, 59, 240, 6, 187, 254]</text>\n",
              "<text font-family=\"Times,serif\" font-size=\"14.00\" text-anchor=\"middle\" x=\"3112.51\" y=\"-6.8\">class = 5</text>\n",
              "</g>\n",
              "<!-- 25&#45;&gt;26 -->\n",
              "<g class=\"edge\" id=\"edge26\">\n",
              "<title>25-&gt;26</title>\n",
              "<path d=\"M3183.76,-99.8C3173.79,-90.45 3163.13,-80.45 3153.16,-71.11\" fill=\"none\" stroke=\"black\"/>\n",
              "<polygon fill=\"black\" points=\"3155.39,-68.4 3145.7,-64.12 3150.61,-73.51 3155.39,-68.4\" stroke=\"black\"/>\n",
              "</g>\n",
              "<!-- 27 -->\n",
              "<g class=\"node\" id=\"node28\">\n",
              "<title>27</title>\n",
              "<polygon fill=\"#fce8f4\" points=\"3453.05,-64 3235.97,-64 3235.97,0 3453.05,0 3453.05,-64\" stroke=\"black\"/>\n",
              "<text font-family=\"Times,serif\" font-size=\"14.00\" text-anchor=\"middle\" x=\"3344.51\" y=\"-48.8\">entropy = 2.205</text>\n",
              "<text font-family=\"Times,serif\" font-size=\"14.00\" text-anchor=\"middle\" x=\"3344.51\" y=\"-34.8\">samples = 1830</text>\n",
              "<text font-family=\"Times,serif\" font-size=\"14.00\" text-anchor=\"middle\" x=\"3344.51\" y=\"-20.8\">value = [52, 479, 94, 179, 390, 636]</text>\n",
              "<text font-family=\"Times,serif\" font-size=\"14.00\" text-anchor=\"middle\" x=\"3344.51\" y=\"-6.8\">class = 5</text>\n",
              "</g>\n",
              "<!-- 25&#45;&gt;27 -->\n",
              "<g class=\"edge\" id=\"edge27\">\n",
              "<title>25-&gt;27</title>\n",
              "<path d=\"M3268.17,-99.8C3278.96,-90.36 3290.51,-80.25 3301.27,-70.84\" fill=\"none\" stroke=\"black\"/>\n",
              "<polygon fill=\"black\" points=\"3303.73,-73.34 3308.95,-64.12 3299.12,-68.07 3303.73,-73.34\" stroke=\"black\"/>\n",
              "</g>\n",
              "<!-- 29 -->\n",
              "<g class=\"node\" id=\"node30\">\n",
              "<title>29</title>\n",
              "<polygon fill=\"#fffdfc\" points=\"3716.04,-64 3470.99,-64 3470.99,0 3716.04,0 3716.04,-64\" stroke=\"black\"/>\n",
              "<text font-family=\"Times,serif\" font-size=\"14.00\" text-anchor=\"middle\" x=\"3593.51\" y=\"-48.8\">entropy = 2.437</text>\n",
              "<text font-family=\"Times,serif\" font-size=\"14.00\" text-anchor=\"middle\" x=\"3593.51\" y=\"-34.8\">samples = 4322</text>\n",
              "<text font-family=\"Times,serif\" font-size=\"14.00\" text-anchor=\"middle\" x=\"3593.51\" y=\"-20.8\">value = [1131, 231, 522, 608, 756, 1074]</text>\n",
              "<text font-family=\"Times,serif\" font-size=\"14.00\" text-anchor=\"middle\" x=\"3593.51\" y=\"-6.8\">class = 0</text>\n",
              "</g>\n",
              "<!-- 28&#45;&gt;29 -->\n",
              "<g class=\"edge\" id=\"edge29\">\n",
              "<title>28-&gt;29</title>\n",
              "<path d=\"M3593.51,-99.8C3593.51,-91.46 3593.51,-82.6 3593.51,-74.15\" fill=\"none\" stroke=\"black\"/>\n",
              "<polygon fill=\"black\" points=\"3597.01,-74.12 3593.51,-64.12 3590.01,-74.12 3597.01,-74.12\" stroke=\"black\"/>\n",
              "</g>\n",
              "<!-- 30 -->\n",
              "<g class=\"node\" id=\"node31\">\n",
              "<title>30</title>\n",
              "<polygon fill=\"#f8c8e4\" points=\"3930.55,-64 3734.47,-64 3734.47,0 3930.55,0 3930.55,-64\" stroke=\"black\"/>\n",
              "<text font-family=\"Times,serif\" font-size=\"14.00\" text-anchor=\"middle\" x=\"3832.51\" y=\"-48.8\">entropy = 1.627</text>\n",
              "<text font-family=\"Times,serif\" font-size=\"14.00\" text-anchor=\"middle\" x=\"3832.51\" y=\"-34.8\">samples = 872</text>\n",
              "<text font-family=\"Times,serif\" font-size=\"14.00\" text-anchor=\"middle\" x=\"3832.51\" y=\"-20.8\">value = [268, 131, 37, 0, 0, 436]</text>\n",
              "<text font-family=\"Times,serif\" font-size=\"14.00\" text-anchor=\"middle\" x=\"3832.51\" y=\"-6.8\">class = 5</text>\n",
              "</g>\n",
              "<!-- 28&#45;&gt;30 -->\n",
              "<g class=\"edge\" id=\"edge30\">\n",
              "<title>28-&gt;30</title>\n",
              "<path d=\"M3680.13,-99.94C3703.73,-89.58 3729.19,-78.39 3752.41,-68.19\" fill=\"none\" stroke=\"black\"/>\n",
              "<polygon fill=\"black\" points=\"3754.12,-71.26 3761.87,-64.04 3751.31,-64.85 3754.12,-71.26\" stroke=\"black\"/>\n",
              "</g>\n",
              "</g>\n",
              "</svg>"
            ]
          },
          "metadata": {}
        }
      ],
      "execution_count": 44,
      "metadata": {
        "inputHidden": false,
        "outputHidden": false
      }
    },
    {
      "cell_type": "code",
      "source": [],
      "outputs": [],
      "execution_count": null,
      "metadata": {
        "inputHidden": false,
        "outputHidden": false
      }
    }
  ],
  "metadata": {
    "kernel_info": {
      "name": "python3"
    },
    "kernelspec": {
      "name": "python3",
      "language": "python",
      "display_name": "Python 3"
    },
    "language_info": {
      "name": "python",
      "version": "3.7.3",
      "mimetype": "text/x-python",
      "codemirror_mode": {
        "name": "ipython",
        "version": 3
      },
      "pygments_lexer": "ipython3",
      "nbconvert_exporter": "python",
      "file_extension": ".py"
    },
    "nteract": {
      "version": "0.15.0"
    }
  },
  "nbformat": 4,
  "nbformat_minor": 1
}