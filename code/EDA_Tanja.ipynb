{
  "cells": [
    {
      "cell_type": "markdown",
      "source": [
        "### EDA_Tanja\n",
        "Careful on:\n",
        "- \"Among the 'Measure' types, 'Personal Vehicle Passengers', 'Bus Passengers','Pedestrians' and 'Train Passengers' count people, whereas the others count vehicles.\"\n",
        "- tableau avec selon Border, les measures et les différentes somme de value?\n",
        "- data from 1996 to 2019"
      ],
      "metadata": {}
    },
    {
      "cell_type": "code",
      "source": [
        "# load cleaned data with positions\n",
        "df = pd.read_csv(\"../data/DataWithLocationCleaned.zip\")"
      ],
      "outputs": [],
      "execution_count": null,
      "metadata": {
        "collapsed": false,
        "outputHidden": false,
        "inputHidden": false
      }
    },
    {
      "cell_type": "code",
      "source": [
        "# import libraries\n",
        "import pandas as pd\n",
        "import numpy as np"
      ],
      "outputs": [],
      "execution_count": null,
      "metadata": {
        "collapsed": false,
        "outputHidden": false,
        "inputHidden": false
      }
    },
    {
      "cell_type": "code",
      "source": [
        "# check number of unique elements in 'Measure' \n",
        "print('Measure types : {}' .format(len(df['Measure'].unique())))\n",
        "df['Measure'].unique()"
      ],
      "outputs": [],
      "execution_count": null,
      "metadata": {
        "collapsed": false,
        "outputHidden": false,
        "inputHidden": false
      }
    },
    {
      "cell_type": "code",
      "source": [
        "# number of people or vehicles depending on the measure\n",
        "df_measure = df[['Measure','Value']].groupby('Measure').sum()\n",
        "df_measure"
      ],
      "outputs": [],
      "execution_count": null,
      "metadata": {
        "collapsed": false,
        "outputHidden": false,
        "inputHidden": false
      }
    },
    {
      "cell_type": "code",
      "source": [
        "# number of people or vehicles depending on border\n",
        "df_measure = df[['Border','Value']].groupby(['Border']).sum()\n",
        "df_measure"
      ],
      "outputs": [],
      "execution_count": null,
      "metadata": {
        "collapsed": false,
        "outputHidden": false,
        "inputHidden": false
      }
    },
    {
      "cell_type": "code",
      "source": [
        "# separate measure of people counting\n",
        "people = df[df['Measure'].isin(['Personal Vehicle Passengers', 'Bus Passengers','Pedestrians', 'Train Passengers'])]\n"
      ],
      "outputs": [],
      "execution_count": null,
      "metadata": {
        "collapsed": false,
        "outputHidden": false,
        "inputHidden": false
      }
    },
    {
      "cell_type": "code",
      "source": [
        "# number of people depending on border\n",
        "df_people = people[['Border','Value']].groupby('Border').sum()\n",
        "df_people"
      ],
      "outputs": [],
      "execution_count": null,
      "metadata": {
        "collapsed": false,
        "outputHidden": false,
        "inputHidden": false
      }
    },
    {
      "cell_type": "code",
      "source": [
        "# piechart?"
      ],
      "outputs": [],
      "execution_count": null,
      "metadata": {
        "collapsed": false,
        "outputHidden": false,
        "inputHidden": false
      }
    },
    {
      "cell_type": "code",
      "source": [
        "# consider people counting measure, sum value and set date as index\n",
        "df_date = people[['Date','Border','Value']].set_index('Date')\n",
        "# group by date and border\n",
        "df_date = df_date.groupby(['Date', 'Border']).sum()\n",
        "df_date.head(10)"
      ],
      "outputs": [],
      "execution_count": null,
      "metadata": {
        "collapsed": false,
        "outputHidden": false,
        "inputHidden": false
      }
    },
    {
      "cell_type": "code",
      "source": [
        "# consider people counting measure, sum value and set date.year as index\n",
        "df_date_year = people[['Date','Border','Value']].set_index('Date')\n",
        "\n",
        "# group by date.year and border\n",
        "df_date_year = df_date_year.groupby([df_date_year.index.year, 'Border']).sum()\n",
        "df_date_year.head(10)"
      ],
      "outputs": [],
      "execution_count": null,
      "metadata": {
        "collapsed": false,
        "outputHidden": false,
        "inputHidden": false
      }
    },
    {
      "cell_type": "code",
      "source": [
        "# histogram? "
      ],
      "outputs": [],
      "execution_count": null,
      "metadata": {
        "collapsed": false,
        "outputHidden": false,
        "inputHidden": false
      }
    },
    {
      "cell_type": "code",
      "source": [
        "# consider people counting measure, sum values and set date as index\n",
        "df_dm = people[['Date','Measure','Value']].set_index('Date')\n",
        "\n",
        "# group by date.years and border\n",
        "df_dm = df_dm.groupby([df_dm.index.year,'Measure']).sum()\n",
        "df_dm.head(10)"
      ],
      "outputs": [],
      "execution_count": null,
      "metadata": {
        "collapsed": false,
        "outputHidden": false,
        "inputHidden": false
      }
    },
    {
      "cell_type": "code",
      "source": [
        "# histogram? \n",
        "# -> output 27"
      ],
      "outputs": [],
      "execution_count": null,
      "metadata": {
        "collapsed": false,
        "outputHidden": false,
        "inputHidden": false
      }
    }
  ],
  "metadata": {
    "kernel_info": {
      "name": "python3"
    },
    "language_info": {
      "name": "python",
      "version": "3.7.3",
      "mimetype": "text/x-python",
      "codemirror_mode": {
        "name": "ipython",
        "version": 3
      },
      "pygments_lexer": "ipython3",
      "nbconvert_exporter": "python",
      "file_extension": ".py"
    },
    "kernelspec": {
      "name": "python3",
      "language": "python",
      "display_name": "Python 3"
    },
    "nteract": {
      "version": "0.15.0"
    }
  },
  "nbformat": 4,
  "nbformat_minor": 0
}