{
  "cells": [
    {
      "cell_type": "markdown",
      "source": [
        "# Machine Learning\n",
        "\n",
        "First of all, let's import all the modules that we will use. "
      ],
      "metadata": {}
    },
    {
      "cell_type": "code",
      "source": [
        "##Imports needed plugins\n",
        "\n",
        "import pandas as pd\n",
        "import itertools\n",
        "import numpy as np\n",
        "import matplotlib.pyplot as plt\n",
        "import datetime as dt \n",
        "import plotly.express as px\n",
        "import plotly.graph_objects as go\n",
        "import warnings\n",
        "import seaborn as sns\n",
        "import pydotplus\n",
        "\n",
        "from sklearn.tree import DecisionTreeClassifier\n",
        "from sklearn.ensemble import RandomForestClassifier\n",
        "from sklearn.metrics import confusion_matrix\n",
        "from sklearn.linear_model import LinearRegression\n",
        "from sklearn.preprocessing import LabelEncoder, OneHotEncoder\n",
        "from sklearn.model_selection import train_test_split\n",
        "from sklearn.linear_model import LogisticRegressionCV\n",
        "from sklearn.metrics import recall_score\n",
        "from sklearn.externals.six import StringIO  \n",
        "from IPython.display import Image \n",
        "from sklearn.tree import export_graphviz\n",
        "from IPython.display import SVG\n",
        "from graphviz import Source\n",
        "from IPython.display import display\n",
        "\n",
        "#!pip install pydotplus\n",
        "#!pip install graphviz\n",
        "\n",
        "sns.set_style(\"darkgrid\")\n",
        "warnings.filterwarnings(\"ignore\")"
      ],
      "outputs": [
        {
          "output_type": "stream",
          "name": "stderr",
          "text": [
            "//anaconda3/lib/python3.7/site-packages/sklearn/externals/six.py:31: DeprecationWarning:\n",
            "\n",
            "The module is deprecated in version 0.21 and will be removed in version 0.23 since we've dropped support for Python 2.7. Please rely on the official version of six (https://pypi.org/project/six/).\n",
            "\n"
          ]
        }
      ],
      "execution_count": 1,
      "metadata": {}
    },
    {
      "cell_type": "markdown",
      "source": [
        "We import now the dataset and display it."
      ],
      "metadata": {}
    },
    {
      "cell_type": "code",
      "source": [
        "# Import the data\n",
        "data = pd.read_csv(\"../data/DataWithLocationCleaned.csv.gz\")\n",
        "# correct Date types \n",
        "data['Date'] = pd.to_datetime(data['Date'])\n",
        "df = data.copy()\n",
        "df.head()\n",
        "\n"
      ],
      "outputs": [
        {
          "output_type": "execute_result",
          "execution_count": 67,
          "data": {
            "text/plain": [
              "  Port Name      State  Port Code            Border       Date  \\\n",
              "0   Warroad  Minnesota       3423  US-Canada Border 2019-06-01   \n",
              "1   Warroad  Minnesota       3423  US-Canada Border 2019-06-01   \n",
              "2   Warroad  Minnesota       3423  US-Canada Border 2019-06-01   \n",
              "3   Warroad  Minnesota       3423  US-Canada Border 2019-06-01   \n",
              "4   Warroad  Minnesota       3423  US-Canada Border 2019-06-01   \n",
              "\n",
              "                       Measure  Value  Year  Month                 position  \n",
              "0        Truck Containers Full    133  2019      6  (48.905266, -95.314404)  \n",
              "1       Truck Containers Empty    298  2019      6  (48.905266, -95.314404)  \n",
              "2            Personal Vehicles  10383  2019      6  (48.905266, -95.314404)  \n",
              "3  Personal Vehicle Passengers  19459  2019      6  (48.905266, -95.314404)  \n",
              "4                  Pedestrians      2  2019      6  (48.905266, -95.314404)  "
            ],
            "text/html": [
              "<div>\n",
              "<style scoped>\n",
              "    .dataframe tbody tr th:only-of-type {\n",
              "        vertical-align: middle;\n",
              "    }\n",
              "\n",
              "    .dataframe tbody tr th {\n",
              "        vertical-align: top;\n",
              "    }\n",
              "\n",
              "    .dataframe thead th {\n",
              "        text-align: right;\n",
              "    }\n",
              "</style>\n",
              "<table border=\"1\" class=\"dataframe\">\n",
              "  <thead>\n",
              "    <tr style=\"text-align: right;\">\n",
              "      <th></th>\n",
              "      <th>Port Name</th>\n",
              "      <th>State</th>\n",
              "      <th>Port Code</th>\n",
              "      <th>Border</th>\n",
              "      <th>Date</th>\n",
              "      <th>Measure</th>\n",
              "      <th>Value</th>\n",
              "      <th>Year</th>\n",
              "      <th>Month</th>\n",
              "      <th>position</th>\n",
              "    </tr>\n",
              "  </thead>\n",
              "  <tbody>\n",
              "    <tr>\n",
              "      <th>0</th>\n",
              "      <td>Warroad</td>\n",
              "      <td>Minnesota</td>\n",
              "      <td>3423</td>\n",
              "      <td>US-Canada Border</td>\n",
              "      <td>2019-06-01</td>\n",
              "      <td>Truck Containers Full</td>\n",
              "      <td>133</td>\n",
              "      <td>2019</td>\n",
              "      <td>6</td>\n",
              "      <td>(48.905266, -95.314404)</td>\n",
              "    </tr>\n",
              "    <tr>\n",
              "      <th>1</th>\n",
              "      <td>Warroad</td>\n",
              "      <td>Minnesota</td>\n",
              "      <td>3423</td>\n",
              "      <td>US-Canada Border</td>\n",
              "      <td>2019-06-01</td>\n",
              "      <td>Truck Containers Empty</td>\n",
              "      <td>298</td>\n",
              "      <td>2019</td>\n",
              "      <td>6</td>\n",
              "      <td>(48.905266, -95.314404)</td>\n",
              "    </tr>\n",
              "    <tr>\n",
              "      <th>2</th>\n",
              "      <td>Warroad</td>\n",
              "      <td>Minnesota</td>\n",
              "      <td>3423</td>\n",
              "      <td>US-Canada Border</td>\n",
              "      <td>2019-06-01</td>\n",
              "      <td>Personal Vehicles</td>\n",
              "      <td>10383</td>\n",
              "      <td>2019</td>\n",
              "      <td>6</td>\n",
              "      <td>(48.905266, -95.314404)</td>\n",
              "    </tr>\n",
              "    <tr>\n",
              "      <th>3</th>\n",
              "      <td>Warroad</td>\n",
              "      <td>Minnesota</td>\n",
              "      <td>3423</td>\n",
              "      <td>US-Canada Border</td>\n",
              "      <td>2019-06-01</td>\n",
              "      <td>Personal Vehicle Passengers</td>\n",
              "      <td>19459</td>\n",
              "      <td>2019</td>\n",
              "      <td>6</td>\n",
              "      <td>(48.905266, -95.314404)</td>\n",
              "    </tr>\n",
              "    <tr>\n",
              "      <th>4</th>\n",
              "      <td>Warroad</td>\n",
              "      <td>Minnesota</td>\n",
              "      <td>3423</td>\n",
              "      <td>US-Canada Border</td>\n",
              "      <td>2019-06-01</td>\n",
              "      <td>Pedestrians</td>\n",
              "      <td>2</td>\n",
              "      <td>2019</td>\n",
              "      <td>6</td>\n",
              "      <td>(48.905266, -95.314404)</td>\n",
              "    </tr>\n",
              "  </tbody>\n",
              "</table>\n",
              "</div>"
            ]
          },
          "metadata": {}
        }
      ],
      "execution_count": 67,
      "metadata": {}
    },
    {
      "cell_type": "markdown",
      "source": [
        "We create 2 separate dataframes, one for the people's counting measures and one for the traffic's counting measures."
      ],
      "metadata": {}
    },
    {
      "cell_type": "code",
      "source": [
        "# Add lagitude and longitude\n",
        "# Create one dataFrame for persons and one only for traffic\n",
        "def getlat(x):\n",
        "    lat = x.partition(',')[0][1:]\n",
        "    if lat[0] == \"'\":\n",
        "        lat = lat[1:-1]\n",
        "    return lat\n",
        "\n",
        "def getlong(x):\n",
        "    lat = x.partition(',')[2]\n",
        "    if lat[1] == \"'\":\n",
        "        lat = lat[2:-2]\n",
        "    else:\n",
        "        lat = lat[1:-1]\n",
        "    return lat\n",
        "\n",
        "df['latitude'] = df['position'].apply(lambda x: getlat(x))\n",
        "df['longitude'] = df['position'].apply(lambda x: getlong(x))\n",
        "persons = df[df['Measure'].isin(['Bus Passengers','Pedestrians','Personal Vehicle Passengers','Train Passengers'])].reset_index().drop(columns=['index'])\n",
        "nozero = persons[persons['Value'] != 0]\n",
        "ports = df['Port Name'].unique()\n",
        "nozero.head()"
      ],
      "outputs": [
        {
          "output_type": "execute_result",
          "execution_count": 4,
          "data": {
            "text/plain": [
              "  Port Name      State  Port Code            Border        Date  \\\n",
              "0   Warroad  Minnesota       3423  US-Canada Border  2019-06-01   \n",
              "1   Warroad  Minnesota       3423  US-Canada Border  2019-06-01   \n",
              "2   Warroad  Minnesota       3423  US-Canada Border  2019-06-01   \n",
              "3    Roseau  Minnesota       3426  US-Canada Border  2019-06-01   \n",
              "4    Roseau  Minnesota       3426  US-Canada Border  2019-06-01   \n",
              "\n",
              "                       Measure  Value  Year  Month                   position  \\\n",
              "0  Personal Vehicle Passengers  19459  2019      6    (48.905266, -95.314404)   \n",
              "1                  Pedestrians      2  2019      6    (48.905266, -95.314404)   \n",
              "2               Bus Passengers     63  2019      6    (48.905266, -95.314404)   \n",
              "3  Personal Vehicle Passengers   7385  2019      6  (48.7710371, -95.7697882)   \n",
              "4               Bus Passengers    118  2019      6  (48.7710371, -95.7697882)   \n",
              "\n",
              "     latitude    longitude  \n",
              "0   48.905266   -95.314404  \n",
              "1   48.905266   -95.314404  \n",
              "2   48.905266   -95.314404  \n",
              "3  48.7710371  -95.7697882  \n",
              "4  48.7710371  -95.7697882  "
            ],
            "text/html": [
              "<div>\n",
              "<style scoped>\n",
              "    .dataframe tbody tr th:only-of-type {\n",
              "        vertical-align: middle;\n",
              "    }\n",
              "\n",
              "    .dataframe tbody tr th {\n",
              "        vertical-align: top;\n",
              "    }\n",
              "\n",
              "    .dataframe thead th {\n",
              "        text-align: right;\n",
              "    }\n",
              "</style>\n",
              "<table border=\"1\" class=\"dataframe\">\n",
              "  <thead>\n",
              "    <tr style=\"text-align: right;\">\n",
              "      <th></th>\n",
              "      <th>Port Name</th>\n",
              "      <th>State</th>\n",
              "      <th>Port Code</th>\n",
              "      <th>Border</th>\n",
              "      <th>Date</th>\n",
              "      <th>Measure</th>\n",
              "      <th>Value</th>\n",
              "      <th>Year</th>\n",
              "      <th>Month</th>\n",
              "      <th>position</th>\n",
              "      <th>latitude</th>\n",
              "      <th>longitude</th>\n",
              "    </tr>\n",
              "  </thead>\n",
              "  <tbody>\n",
              "    <tr>\n",
              "      <th>0</th>\n",
              "      <td>Warroad</td>\n",
              "      <td>Minnesota</td>\n",
              "      <td>3423</td>\n",
              "      <td>US-Canada Border</td>\n",
              "      <td>2019-06-01</td>\n",
              "      <td>Personal Vehicle Passengers</td>\n",
              "      <td>19459</td>\n",
              "      <td>2019</td>\n",
              "      <td>6</td>\n",
              "      <td>(48.905266, -95.314404)</td>\n",
              "      <td>48.905266</td>\n",
              "      <td>-95.314404</td>\n",
              "    </tr>\n",
              "    <tr>\n",
              "      <th>1</th>\n",
              "      <td>Warroad</td>\n",
              "      <td>Minnesota</td>\n",
              "      <td>3423</td>\n",
              "      <td>US-Canada Border</td>\n",
              "      <td>2019-06-01</td>\n",
              "      <td>Pedestrians</td>\n",
              "      <td>2</td>\n",
              "      <td>2019</td>\n",
              "      <td>6</td>\n",
              "      <td>(48.905266, -95.314404)</td>\n",
              "      <td>48.905266</td>\n",
              "      <td>-95.314404</td>\n",
              "    </tr>\n",
              "    <tr>\n",
              "      <th>2</th>\n",
              "      <td>Warroad</td>\n",
              "      <td>Minnesota</td>\n",
              "      <td>3423</td>\n",
              "      <td>US-Canada Border</td>\n",
              "      <td>2019-06-01</td>\n",
              "      <td>Bus Passengers</td>\n",
              "      <td>63</td>\n",
              "      <td>2019</td>\n",
              "      <td>6</td>\n",
              "      <td>(48.905266, -95.314404)</td>\n",
              "      <td>48.905266</td>\n",
              "      <td>-95.314404</td>\n",
              "    </tr>\n",
              "    <tr>\n",
              "      <th>3</th>\n",
              "      <td>Roseau</td>\n",
              "      <td>Minnesota</td>\n",
              "      <td>3426</td>\n",
              "      <td>US-Canada Border</td>\n",
              "      <td>2019-06-01</td>\n",
              "      <td>Personal Vehicle Passengers</td>\n",
              "      <td>7385</td>\n",
              "      <td>2019</td>\n",
              "      <td>6</td>\n",
              "      <td>(48.7710371, -95.7697882)</td>\n",
              "      <td>48.7710371</td>\n",
              "      <td>-95.7697882</td>\n",
              "    </tr>\n",
              "    <tr>\n",
              "      <th>4</th>\n",
              "      <td>Roseau</td>\n",
              "      <td>Minnesota</td>\n",
              "      <td>3426</td>\n",
              "      <td>US-Canada Border</td>\n",
              "      <td>2019-06-01</td>\n",
              "      <td>Bus Passengers</td>\n",
              "      <td>118</td>\n",
              "      <td>2019</td>\n",
              "      <td>6</td>\n",
              "      <td>(48.7710371, -95.7697882)</td>\n",
              "      <td>48.7710371</td>\n",
              "      <td>-95.7697882</td>\n",
              "    </tr>\n",
              "  </tbody>\n",
              "</table>\n",
              "</div>"
            ]
          },
          "metadata": {}
        }
      ],
      "execution_count": 4,
      "metadata": {}
    },
    {
      "cell_type": "markdown",
      "source": [
        "We create a list of unique ports."
      ],
      "metadata": {}
    },
    {
      "cell_type": "code",
      "source": [
        "# Create a list of ports\n",
        "ports = nozero['Port Name'].unique()\n",
        "ports"
      ],
      "outputs": [
        {
          "output_type": "execute_result",
          "execution_count": 5,
          "data": {
            "text/plain": [
              "array(['Warroad', 'Roseau', 'Detroit', 'Del Rio', 'Anacortes', 'Sumas',\n",
              "       'Port Angeles', 'Point Roberts', 'Oroville', 'Nighthawk',\n",
              "       'Metaline Falls', 'Lynden', 'Laurier', 'Frontier', 'Friday Harbor',\n",
              "       'Ferry', 'Danville', 'Boundary', 'Blaine', 'Richford', 'Norton',\n",
              "       'Highgate Springs-Alburg', 'Derby Line', 'Beecher Falls',\n",
              "       'Tornillo-Fabens', 'Roma', 'Rio Grande City', 'Progreso',\n",
              "       'Presidio', 'Laredo', 'Hidalgo', 'El Paso', 'Eagle Pass',\n",
              "       'Brownsville', 'Boquillas', 'Trout River', 'Ogdensburg', 'Massena',\n",
              "       'Champlain-Rouses Point', 'Cape Vincent', 'Buffalo-Niagara Falls',\n",
              "       'Alexandria Bay', 'Santa Teresa', 'Columbus', 'Westhope',\n",
              "       'Walhalla', 'St. John', 'Sherwood', 'Sarles', 'Portal', 'Pembina',\n",
              "       'Pinecreek', 'Lancaster', 'International Falls-Ranier',\n",
              "       'Grand Portage', 'Dalton Cache', 'Ketchikan', 'Skagway', 'Douglas',\n",
              "       'Lukeville', 'Naco', 'Nogales', 'San Luis', 'Sasabe', 'Andrade',\n",
              "       'Calexico', 'Calexico East', 'Cross Border Xpress', 'Otay Mesa',\n",
              "       'San Ysidro', 'Tecate', 'Eastport_ID', 'Porthill', 'Bridgewater',\n",
              "       'Calais', 'Eastport_MA', 'Fort Fairfield', 'Fort Kent', 'Houlton',\n",
              "       'Jackman', 'Limestone', 'Madawaska', 'Van Buren', 'Vanceboro',\n",
              "       'Port Huron', 'Sault Sainte Marie', 'Baudette', 'Northgate',\n",
              "       'Noonan', 'Neche', 'Maida', 'Hansboro', 'Hannah', 'Fortuna',\n",
              "       'Dunseith', 'Carbury', 'Antler', 'Ambrose', 'Willow Creek',\n",
              "       'Wildhorse', 'Whitlash', 'Turner', 'Sweetgrass', 'Scobey',\n",
              "       'Roosville', 'Alcan', 'Raymond', 'Piegan', 'Opheim', 'Morgan',\n",
              "       'Del Bonita', 'Portland', 'Whitetail', 'Bar Harbor', 'Noyes'],\n",
              "      dtype=object)"
            ]
          },
          "metadata": {}
        }
      ],
      "execution_count": 5,
      "metadata": {
        "collapsed": false,
        "outputHidden": false,
        "inputHidden": false
      }
    },
    {
      "cell_type": "markdown",
      "source": [
        "Now that we have the data ready, we will work on different regression techniques.\n"
      ],
      "metadata": {}
    },
    {
      "cell_type": "markdown",
      "source": [
        "# Logistic regression\n",
        "\n",
        "Let's first define some functions in order to use them later on.\n"
      ],
      "metadata": {}
    },
    {
      "cell_type": "code",
      "source": [
        "def logistic(X,y,baseRate):\n",
        "    X_train, X_test, y_train, y_test = train_test_split(X, y, test_size=0.2, random_state=42)\n",
        "    LR = LogisticRegressionCV(solver='lbfgs', cv=5, max_iter=1000)\n",
        "    LR.fit(X_train,y_train)\n",
        "    test_score = LR.score(X_test, y_test)\n",
        "    train_score = LR.score(X_train,y_train)\n",
        "    print(\"train_score :\",train_score,\"test_score =\",test_score)\n",
        "    return [train_score,test_score,confusion_matrix(y_train, LR.predict(X_train)),baseRate]\n",
        "\n",
        "def encodeOneHot(z,f,i):\n",
        "    test = z\n",
        "    baseRate = pd.qcut(test['Value'],q = i, duplicates = 'drop').value_counts()\n",
        "    print(\"Base rate :\",baseRate.max()/baseRate.sum())\n",
        "    print()\n",
        "    test['quant'] = pd.qcut(test['Value'],q = i, duplicates = 'drop')\n",
        "    print(i, \" intervals for y:\")\n",
        "    print(test['quant'].value_counts())\n",
        "    print()\n",
        "    le = LabelEncoder()\n",
        "    y = le.fit_transform(test[\"quant\"])\n",
        "    y.shape\n",
        "    one_hot = OneHotEncoder(categories=\"auto\")\n",
        "    categoricals = []\n",
        "    features = f.copy()\n",
        "    for feature in f:\n",
        "        if feature in ['Measure','State','Border']:\n",
        "            categoricals.append(feature)\n",
        "            features.remove(feature)\n",
        "              \n",
        "    cat_to_onehot = one_hot.fit_transform(test[categoricals]).toarray()\n",
        "    cat_to_onehot = pd.DataFrame(cat_to_onehot)\n",
        "    X = pd.concat((test[features].reset_index(drop=True),cat_to_onehot.reset_index(drop=True)),axis=1)\n",
        "    return logistic(X,y,baseRate.max()/baseRate.sum())\n",
        "\n",
        "def  computeLogistic(dataset,ports,f,i):\n",
        "    if (len(f) == 0):\n",
        "        return\n",
        "    Zone = dataset[dataset['Port Name'].isin(ports)].reset_index(drop=True)\n",
        "    return encodeOneHot(Zone,f,i)\n"
      ],
      "outputs": [],
      "execution_count": 7,
      "metadata": {}
    },
    {
      "cell_type": "markdown",
      "source": [
        "### Find a good number of intervals\n",
        "\n",
        "We test which number of intervals is the best to use in order to compute logistic regression. We try numbers between 2 and 9, because of the lack of computing power on our machine and the time required to finish the execution.\n"
      ],
      "metadata": {}
    },
    {
      "cell_type": "code",
      "source": [
        "test = []\n",
        "for i in range(2,10):\n",
        "    test.append([i,computeLogistic(nozero,ports,['Measure','Port Code','State','latitude','longitude'],i)])"
      ],
      "outputs": [
        {
          "output_type": "stream",
          "name": "stdout",
          "text": [
            "Base rate : 0.5000396699460489\n",
            "\n",
            "2  intervals for y:\n",
            "(0.999, 2394.0]        37815\n",
            "(2394.0, 4447374.0]    37809\n",
            "Name: quant, dtype: int64\n",
            "\n",
            "train_score : 0.8219144118084596 test_score = 0.8216859504132231\n",
            "Base rate : 0.3335977996403258\n",
            "\n",
            "3  intervals for y:\n",
            "(0.999, 501.0]            25228\n",
            "(11238.333, 4447374.0]    25208\n",
            "(501.0, 11238.333]        25188\n",
            "Name: quant, dtype: int64\n",
            "\n",
            "train_score : 0.6876807881122002 test_score = 0.691107438016529\n",
            "Base rate : 0.2500925632074474\n",
            "\n",
            "4  intervals for y:\n",
            "(0.999, 190.0]          18913\n",
            "(32053.0, 4447374.0]    18906\n",
            "(2394.0, 32053.0]       18903\n",
            "(190.0, 2394.0]         18902\n",
            "Name: quant, dtype: int64\n",
            "\n",
            "train_score : 0.5725053306666226 test_score = 0.5818181818181818\n",
            "Base rate : 0.20034645086216016\n",
            "\n",
            "5  intervals for y:\n",
            "(0.999, 103.0]          15151\n",
            "(57873.4, 4447374.0]    15125\n",
            "(6087.8, 57873.4]       15125\n",
            "(948.0, 6087.8]         15118\n",
            "(103.0, 948.0]          15105\n",
            "Name: quant, dtype: int64\n",
            "\n",
            "train_score : 0.5242731284814625 test_score = 0.5268099173553719\n",
            "Base rate : 0.16703691949645616\n",
            "\n",
            "6  intervals for y:\n",
            "(0.999, 68.0]           12632\n",
            "(84647.0, 4447374.0]    12604\n",
            "(11238.333, 84647.0]    12604\n",
            "(2394.0, 11238.333]     12601\n",
            "(68.0, 501.0]           12596\n",
            "(501.0, 2394.0]         12587\n",
            "Name: quant, dtype: int64\n",
            "\n",
            "train_score : 0.46094976776475644 test_score = 0.46261157024793387\n",
            "Base rate : 0.14404157410345922\n",
            "\n",
            "7  intervals for y:\n",
            "(0.999, 54.0]              10893\n",
            "(114406.857, 4447374.0]    10804\n",
            "(20888.857, 114406.857]    10803\n",
            "(4713.429, 20888.857]      10803\n",
            "(1243.0, 4713.429]         10802\n",
            "(288.0, 1243.0]            10788\n",
            "(54.0, 288.0]              10731\n",
            "Name: quant, dtype: int64\n",
            "\n",
            "train_score : 0.405130663316749 test_score = 0.40826446280991735\n",
            "Base rate : 0.12650745794985718\n",
            "\n",
            "8  intervals for y:\n",
            "(0.999, 45.0]              9567\n",
            "(142958.375, 4447374.0]    9453\n",
            "(32053.0, 142958.375]      9453\n",
            "(7484.0, 32053.0]          9452\n",
            "(740.0, 2394.0]            9452\n",
            "(2394.0, 7484.0]           9451\n",
            "(190.0, 740.0]             9450\n",
            "(45.0, 190.0]              9346\n",
            "Name: quant, dtype: int64\n",
            "\n",
            "train_score : 0.38083274103704196 test_score = 0.38783471074380166\n",
            "Base rate : 0.11221305405691315\n",
            "\n",
            "9  intervals for y:\n",
            "(0.999, 39.0]              8486\n",
            "(173084.889, 4447374.0]    8403\n",
            "(45657.556, 173084.889]    8403\n",
            "(4075.778, 11238.333]      8403\n",
            "(11238.333, 45657.556]     8402\n",
            "(1437.0, 4075.778]         8398\n",
            "(140.0, 501.0]             8392\n",
            "(501.0, 1437.0]            8387\n",
            "(39.0, 140.0]              8350\n",
            "Name: quant, dtype: int64\n",
            "\n",
            "train_score : 0.3437412188631217 test_score = 0.343603305785124\n"
          ]
        }
      ],
      "execution_count": 8,
      "metadata": {}
    },
    {
      "cell_type": "code",
      "source": [
        "intervalls_testError = []\n",
        "for i in range(0,len(test)):\n",
        "    intervalls_testError.append([test[i][0],test[i][1][0],test[i][1][1],test[i][1][3]])\n",
        "print(intervalls_testError)"
      ],
      "outputs": [
        {
          "output_type": "stream",
          "name": "stdout",
          "text": [
            "[[2, 0.8219144118084596, 0.8216859504132231, 0.5000396699460489], [3, 0.6876807881122002, 0.691107438016529, 0.3335977996403258], [4, 0.5725053306666226, 0.5818181818181818, 0.2500925632074474], [5, 0.5242731284814625, 0.5268099173553719, 0.20034645086216016], [6, 0.46094976776475644, 0.46261157024793387, 0.16703691949645616], [7, 0.405130663316749, 0.40826446280991735, 0.14404157410345922], [8, 0.38083274103704196, 0.38783471074380166, 0.12650745794985718], [9, 0.3437412188631217, 0.343603305785124, 0.11221305405691315]]\n"
          ]
        }
      ],
      "execution_count": 16,
      "metadata": {}
    },
    {
      "cell_type": "code",
      "source": [
        "intervalls_testError = pd.DataFrame(intervalls_testError)\n",
        "intervalls_testError = intervalls_testError.rename(columns={0:\"intervalls\",1: \"train_error\",2:\"testerror\",3:\"baserate\"})\n",
        "intervalls_testError['diff'] = intervalls_testError['testerror']-intervalls_testError['baserate']\n",
        "intervalls_testError"
      ],
      "outputs": [
        {
          "output_type": "execute_result",
          "execution_count": 17,
          "data": {
            "text/plain": [
              "   intervalls  train_error  testerror  baserate      diff\n",
              "0           2     0.821914   0.821686  0.500040  0.321646\n",
              "1           3     0.687681   0.691107  0.333598  0.357510\n",
              "2           4     0.572505   0.581818  0.250093  0.331726\n",
              "3           5     0.524273   0.526810  0.200346  0.326463\n",
              "4           6     0.460950   0.462612  0.167037  0.295575\n",
              "5           7     0.405131   0.408264  0.144042  0.264223\n",
              "6           8     0.380833   0.387835  0.126507  0.261327\n",
              "7           9     0.343741   0.343603  0.112213  0.231390"
            ],
            "text/html": [
              "<div>\n",
              "<style scoped>\n",
              "    .dataframe tbody tr th:only-of-type {\n",
              "        vertical-align: middle;\n",
              "    }\n",
              "\n",
              "    .dataframe tbody tr th {\n",
              "        vertical-align: top;\n",
              "    }\n",
              "\n",
              "    .dataframe thead th {\n",
              "        text-align: right;\n",
              "    }\n",
              "</style>\n",
              "<table border=\"1\" class=\"dataframe\">\n",
              "  <thead>\n",
              "    <tr style=\"text-align: right;\">\n",
              "      <th></th>\n",
              "      <th>intervalls</th>\n",
              "      <th>train_error</th>\n",
              "      <th>testerror</th>\n",
              "      <th>baserate</th>\n",
              "      <th>diff</th>\n",
              "    </tr>\n",
              "  </thead>\n",
              "  <tbody>\n",
              "    <tr>\n",
              "      <th>0</th>\n",
              "      <td>2</td>\n",
              "      <td>0.821914</td>\n",
              "      <td>0.821686</td>\n",
              "      <td>0.500040</td>\n",
              "      <td>0.321646</td>\n",
              "    </tr>\n",
              "    <tr>\n",
              "      <th>1</th>\n",
              "      <td>3</td>\n",
              "      <td>0.687681</td>\n",
              "      <td>0.691107</td>\n",
              "      <td>0.333598</td>\n",
              "      <td>0.357510</td>\n",
              "    </tr>\n",
              "    <tr>\n",
              "      <th>2</th>\n",
              "      <td>4</td>\n",
              "      <td>0.572505</td>\n",
              "      <td>0.581818</td>\n",
              "      <td>0.250093</td>\n",
              "      <td>0.331726</td>\n",
              "    </tr>\n",
              "    <tr>\n",
              "      <th>3</th>\n",
              "      <td>5</td>\n",
              "      <td>0.524273</td>\n",
              "      <td>0.526810</td>\n",
              "      <td>0.200346</td>\n",
              "      <td>0.326463</td>\n",
              "    </tr>\n",
              "    <tr>\n",
              "      <th>4</th>\n",
              "      <td>6</td>\n",
              "      <td>0.460950</td>\n",
              "      <td>0.462612</td>\n",
              "      <td>0.167037</td>\n",
              "      <td>0.295575</td>\n",
              "    </tr>\n",
              "    <tr>\n",
              "      <th>5</th>\n",
              "      <td>7</td>\n",
              "      <td>0.405131</td>\n",
              "      <td>0.408264</td>\n",
              "      <td>0.144042</td>\n",
              "      <td>0.264223</td>\n",
              "    </tr>\n",
              "    <tr>\n",
              "      <th>6</th>\n",
              "      <td>8</td>\n",
              "      <td>0.380833</td>\n",
              "      <td>0.387835</td>\n",
              "      <td>0.126507</td>\n",
              "      <td>0.261327</td>\n",
              "    </tr>\n",
              "    <tr>\n",
              "      <th>7</th>\n",
              "      <td>9</td>\n",
              "      <td>0.343741</td>\n",
              "      <td>0.343603</td>\n",
              "      <td>0.112213</td>\n",
              "      <td>0.231390</td>\n",
              "    </tr>\n",
              "  </tbody>\n",
              "</table>\n",
              "</div>"
            ]
          },
          "metadata": {}
        }
      ],
      "execution_count": 17,
      "metadata": {}
    },
    {
      "cell_type": "markdown",
      "source": [
        "We plot now our results on a graph to better visualise them.\n",
        "\n",
        "Just a qick little reminder:\n",
        "\n",
        "- Base rate:\n",
        "\n",
        "   - calculation: size of the biggest interval/ total number of observations\n",
        "\n",
        "   - the goal of the base rate is to be slightly better than a random guess \n",
        "if intervals are balanced\n",
        "\n",
        "- Train error:\n",
        "\n",
        "    - precision of our model on the train sample\n",
        "\n",
        "- Test error:\n",
        "\n",
        "    - precision of our model on the test sample\n"
      ],
      "metadata": {}
    },
    {
      "cell_type": "code",
      "source": [
        "intervalls_testError.plot(x=\"intervalls\", y=[\"baserate\",\"testerror\",\"diff\"])"
      ],
      "outputs": [
        {
          "output_type": "execute_result",
          "execution_count": 18,
          "data": {
            "text/plain": [
              "<matplotlib.axes._subplots.AxesSubplot at 0x1a3281f9e8>"
            ]
          },
          "metadata": {}
        },
        {
          "output_type": "display_data",
          "data": {
            "text/plain": [
              "<Figure size 432x288 with 1 Axes>"
            ],
            "image/png": "[encoded data removed]"
          },
          "metadata": {
            "needs_background": "light"
          }
        }
      ],
      "execution_count": 18,
      "metadata": {}
    },
    {
      "cell_type": "markdown",
      "source": [
        "We can see that having 5 intervals is a good compromise. The performance is acceptable and the number of observations in each interval sufficient.\n",
        "\n",
        "The main goal was here to observe the difference between the base rate and the test error. Ideally, we should have taken an interval bigger than 5 where the test error was at the lowest point, but the running time would have been to long. \n"
      ],
      "metadata": {}
    },
    {
      "cell_type": "markdown",
      "source": [
        "### Find the best combination of parameters\n",
        "\n",
        "Now that we know that using 5 intervals gives us the best results, we have to find which combination of parameters gives us the best prediction.\n"
      ],
      "metadata": {}
    },
    {
      "cell_type": "code",
      "source": [
        "L1 = computeLogistic(nozero,ports,['Measure'],5)"
      ],
      "outputs": [
        {
          "output_type": "stream",
          "name": "stdout",
          "text": [
            "Base rate : 0.20034645086216016\n",
            "\n",
            "5  intervals for y:\n",
            "(0.999, 103.0]          15151\n",
            "(57873.4, 4447374.0]    15125\n",
            "(6087.8, 57873.4]       15125\n",
            "(948.0, 6087.8]         15118\n",
            "(103.0, 948.0]          15105\n",
            "Name: quant, dtype: int64\n",
            "\n",
            "train_score : 0.36977470701995074 test_score = 0.3703801652892562\n"
          ]
        }
      ],
      "execution_count": 19,
      "metadata": {}
    },
    {
      "cell_type": "code",
      "source": [
        "L2 = computeLogistic(nozero,ports,['Port Code'],5)"
      ],
      "outputs": [
        {
          "output_type": "stream",
          "name": "stdout",
          "text": [
            "Base rate : 0.20034645086216016\n",
            "\n",
            "5  intervals for y:\n",
            "(0.999, 103.0]          15151\n",
            "(57873.4, 4447374.0]    15125\n",
            "(6087.8, 57873.4]       15125\n",
            "(948.0, 6087.8]         15118\n",
            "(103.0, 948.0]          15105\n",
            "Name: quant, dtype: int64\n",
            "\n",
            "train_score : 0.245888361791104 test_score = 0.23735537190082645\n"
          ]
        }
      ],
      "execution_count": 20,
      "metadata": {
        "scrolled": true
      }
    },
    {
      "cell_type": "code",
      "source": [
        "L3 = computeLogistic(nozero,ports,['Measure','Port Code'],5)"
      ],
      "outputs": [
        {
          "output_type": "stream",
          "name": "stdout",
          "text": [
            "Base rate : 0.20034645086216016\n",
            "\n",
            "5  intervals for y:\n",
            "(0.999, 103.0]          15151\n",
            "(57873.4, 4447374.0]    15125\n",
            "(6087.8, 57873.4]       15125\n",
            "(948.0, 6087.8]         15118\n",
            "(103.0, 948.0]          15105\n",
            "Name: quant, dtype: int64\n",
            "\n",
            "train_score : 0.44347840460172894 test_score = 0.4432396694214876\n"
          ]
        }
      ],
      "execution_count": 21,
      "metadata": {}
    },
    {
      "cell_type": "code",
      "source": [
        "L4 = computeLogistic(nozero,ports,['Measure','Port Code','Month'],5)"
      ],
      "outputs": [
        {
          "output_type": "stream",
          "name": "stdout",
          "text": [
            "Base rate : 0.20034645086216016\n",
            "\n",
            "5  intervals for y:\n",
            "(0.999, 103.0]          15151\n",
            "(57873.4, 4447374.0]    15125\n",
            "(6087.8, 57873.4]       15125\n",
            "(948.0, 6087.8]         15118\n",
            "(103.0, 948.0]          15105\n",
            "Name: quant, dtype: int64\n",
            "\n",
            "train_score : 0.44362716739119656 test_score = 0.44502479338842976\n"
          ]
        }
      ],
      "execution_count": 22,
      "metadata": {}
    },
    {
      "cell_type": "code",
      "source": [
        "L5 = computeLogistic(nozero,ports,['Measure','Port Code','Year'],5)\n"
      ],
      "outputs": [
        {
          "output_type": "stream",
          "name": "stdout",
          "text": [
            "Base rate : 0.20034645086216016\n",
            "\n",
            "5  intervals for y:\n",
            "(0.999, 103.0]          15151\n",
            "(57873.4, 4447374.0]    15125\n",
            "(6087.8, 57873.4]       15125\n",
            "(948.0, 6087.8]         15118\n",
            "(103.0, 948.0]          15105\n",
            "Name: quant, dtype: int64\n",
            "\n",
            "train_score : 0.45207358799319 test_score = 0.45269421487603306\n"
          ]
        }
      ],
      "execution_count": 23,
      "metadata": {}
    },
    {
      "cell_type": "code",
      "source": [
        "L6 = computeLogistic(nozero,ports,['Measure','Port Code','Year','Month'],5)"
      ],
      "outputs": [
        {
          "output_type": "stream",
          "name": "stdout",
          "text": [
            "Base rate : 0.20034645086216016\n",
            "\n",
            "5  intervals for y:\n",
            "(0.999, 103.0]          15151\n",
            "(57873.4, 4447374.0]    15125\n",
            "(6087.8, 57873.4]       15125\n",
            "(948.0, 6087.8]         15118\n",
            "(103.0, 948.0]          15105\n",
            "Name: quant, dtype: int64\n",
            "\n",
            "train_score : 0.4442387477478967 test_score = 0.44469421487603306\n"
          ]
        }
      ],
      "execution_count": 24,
      "metadata": {}
    },
    {
      "cell_type": "code",
      "source": [
        "L7 = computeLogistic(nozero,ports,['Measure','Port Code','State'],5)"
      ],
      "outputs": [
        {
          "output_type": "stream",
          "name": "stdout",
          "text": [
            "Base rate : 0.20034645086216016\n",
            "\n",
            "5  intervals for y:\n",
            "(0.999, 103.0]          15151\n",
            "(57873.4, 4447374.0]    15125\n",
            "(6087.8, 57873.4]       15125\n",
            "(948.0, 6087.8]         15118\n",
            "(103.0, 948.0]          15105\n",
            "Name: quant, dtype: int64\n",
            "\n",
            "train_score : 0.5192151936395643 test_score = 0.5215206611570248\n"
          ]
        }
      ],
      "execution_count": 25,
      "metadata": {}
    },
    {
      "cell_type": "code",
      "source": [
        "L8 = computeLogistic(nozero,ports,['Measure','Port Code','State','latitude'],5)"
      ],
      "outputs": [
        {
          "output_type": "stream",
          "name": "stdout",
          "text": [
            "Base rate : 0.20034645086216016\n",
            "\n",
            "5  intervals for y:\n",
            "(0.999, 103.0]          15151\n",
            "(57873.4, 4447374.0]    15125\n",
            "(6087.8, 57873.4]       15125\n",
            "(948.0, 6087.8]         15118\n",
            "(103.0, 948.0]          15105\n",
            "Name: quant, dtype: int64\n",
            "\n",
            "train_score : 0.5241574240896544 test_score = 0.5265454545454545\n"
          ]
        }
      ],
      "execution_count": 26,
      "metadata": {}
    },
    {
      "cell_type": "code",
      "source": [
        "L9 = computeLogistic(nozero,ports,['Measure','Port Code','State','latitude','longitude'],5)"
      ],
      "outputs": [
        {
          "output_type": "stream",
          "name": "stdout",
          "text": [
            "Base rate : 0.20034645086216016\n",
            "\n",
            "5  intervals for y:\n",
            "(0.999, 103.0]          15151\n",
            "(57873.4, 4447374.0]    15125\n",
            "(6087.8, 57873.4]       15125\n",
            "(948.0, 6087.8]         15118\n",
            "(103.0, 948.0]          15105\n",
            "Name: quant, dtype: int64\n",
            "\n",
            "train_score : 0.5242731284814625 test_score = 0.5268099173553719\n"
          ]
        }
      ],
      "execution_count": 27,
      "metadata": {}
    },
    {
      "cell_type": "code",
      "source": [
        "L10 = computeLogistic(nozero,ports,['Measure','Port Code','State','latitude','longitude','Border'],5)"
      ],
      "outputs": [
        {
          "output_type": "stream",
          "name": "stdout",
          "text": [
            "Base rate : 0.20034645086216016\n",
            "\n",
            "5  intervals for y:\n",
            "(0.999, 103.0]          15151\n",
            "(57873.4, 4447374.0]    15125\n",
            "(6087.8, 57873.4]       15125\n",
            "(948.0, 6087.8]         15118\n",
            "(103.0, 948.0]          15105\n",
            "Name: quant, dtype: int64\n",
            "\n",
            "train_score : 0.5279591398204929 test_score = 0.5302479338842975\n"
          ]
        }
      ],
      "execution_count": 28,
      "metadata": {}
    },
    {
      "cell_type": "code",
      "source": [
        "L11 = computeLogistic(nozero,ports,['Measure','Port Code','State','Year','latitude','longitude'],5)"
      ],
      "outputs": [
        {
          "output_type": "stream",
          "name": "stdout",
          "text": [
            "Base rate : 0.20034645086216016\n",
            "\n",
            "5  intervals for y:\n",
            "(0.999, 103.0]          15151\n",
            "(57873.4, 4447374.0]    15125\n",
            "(6087.8, 57873.4]       15125\n",
            "(948.0, 6087.8]         15118\n",
            "(103.0, 948.0]          15105\n",
            "Name: quant, dtype: int64\n",
            "\n",
            "train_score : 0.5219425114464702 test_score = 0.5254214876033058\n"
          ]
        }
      ],
      "execution_count": 29,
      "metadata": {}
    },
    {
      "cell_type": "code",
      "source": [
        "L12 = computeLogistic(nozero.sort_values(by=['Date']).reset_index(drop=True),ports,['Measure','Port Code','State','latitude','longitude','Border'],5)"
      ],
      "outputs": [
        {
          "output_type": "stream",
          "name": "stdout",
          "text": [
            "Base rate : 0.20034645086216016\n",
            "\n",
            "5  intervals for y:\n",
            "(0.999, 103.0]          15151\n",
            "(57873.4, 4447374.0]    15125\n",
            "(6087.8, 57873.4]       15125\n",
            "(948.0, 6087.8]         15118\n",
            "(103.0, 948.0]          15105\n",
            "Name: quant, dtype: int64\n",
            "\n",
            "train_score : 0.5171986313823369 test_score = 0.5261487603305786\n"
          ]
        }
      ],
      "execution_count": 30,
      "metadata": {}
    },
    {
      "cell_type": "markdown",
      "source": [
        " The best combination (L10) of parameters is 'Measure', 'Port Code', 'State', 'latitude', 'longitude', 'Border' and has a test score of 0.53. So, these parameters explain our model's predictions the best."
      ],
      "metadata": {}
    },
    {
      "cell_type": "markdown",
      "source": [
        "Sorting the values by date helps to improve our model only by 1%. The date has probably an impact only on a few periods related to some external events. So, the general trend is relatively not impacted by those few events.\n",
        "\n",
        "We can now plot the confusion matrix for L10:\n"
      ],
      "metadata": {}
    },
    {
      "cell_type": "code",
      "source": [
        "#Plot the confusion matrix for l10\n",
        "L10[2]"
      ],
      "outputs": [
        {
          "output_type": "execute_result",
          "execution_count": 31,
          "data": {
            "text/plain": [
              "array([[ 8946,  2749,   107,   136,   127],\n",
              "       [ 4087,  5353,  1655,   578,   422],\n",
              "       [ 2825,  1757,  4348,  1186,  2036],\n",
              "       [  894,   821,  3621,  2723,  4062],\n",
              "       [   39,   125,   451,   880, 10571]])"
            ]
          },
          "metadata": {}
        }
      ],
      "execution_count": 31,
      "metadata": {}
    },
    {
      "cell_type": "code",
      "source": [
        "plt.subplots(figsize=(9,7))\n",
        "sns.heatmap(L10[2], annot=True,fmt='g',linewidths=5)"
      ],
      "outputs": [
        {
          "output_type": "execute_result",
          "execution_count": 32,
          "data": {
            "text/plain": [
              "<matplotlib.axes._subplots.AxesSubplot at 0x1a2a03f4e0>"
            ]
          },
          "metadata": {}
        },
        {
          "output_type": "display_data",
          "data": {
            "text/plain": [
              "<Figure size 648x504 with 2 Axes>"
            ],
            "image/png": "[encoded data removed]"
          },
          "metadata": {
            "needs_background": "light"
          }
        }
      ],
      "execution_count": 32,
      "metadata": {}
    },
    {
      "cell_type": "markdown",
      "source": [
        "### Logistic regression on ports\n",
        "\n",
        "Let's now perform a logistic regression on a single port at a time. In order to make sure that we have enough data for the regression, we will only keep the ports that have more than 800 values not equal to 0.\n"
      ],
      "metadata": {}
    },
    {
      "cell_type": "code",
      "source": [
        "#We create a list of \"good\" ports : these ports will have more than 800 values not equal to 0.\n",
        "error_port= []\n",
        "for port in ports:\n",
        "    if (nozero[(nozero['Port Name'] == port)].shape[0]>800):\n",
        "        error_port.append([port,computeLogistic(nozero,[port],['Measure','Port Code','State','latitude','longitude','Border'],5)])"
      ],
      "outputs": [
        {
          "output_type": "stream",
          "name": "stdout",
          "text": [
            "Base rate : 0.20039486673247778\n",
            "\n",
            "5  intervals for y:\n",
            "(14014.0, 49762.0]    203\n",
            "(500.8, 1297.6]       203\n",
            "(0.999, 88.4]         203\n",
            "(1297.6, 14014.0]     202\n",
            "(88.4, 500.8]         202\n",
            "Name: quant, dtype: int64\n",
            "\n",
            "train_score : 0.6493827160493827 test_score = 0.6896551724137931\n",
            "Base rate : 0.2\n",
            "\n",
            "5  intervals for y:\n",
            "(650030.8, 2473401.0]    173\n",
            "(74705.0, 650030.8]      173\n",
            "(16619.6, 74705.0]       173\n",
            "(917.4, 16619.6]         173\n",
            "(359.999, 917.4]         173\n",
            "Name: quant, dtype: int64\n",
            "\n",
            "train_score : 0.6213872832369942 test_score = 0.6242774566473989\n",
            "Base rate : 0.2\n",
            "\n",
            "5  intervals for y:\n",
            "(110083.2, 307761.0]    224\n",
            "(4109.4, 110083.2]      224\n",
            "(2459.4, 4109.4]        224\n",
            "(305.4, 2459.4]         224\n",
            "(2.999, 305.4]          224\n",
            "Name: quant, dtype: int64\n",
            "\n",
            "train_score : 0.6004464285714286 test_score = 0.5848214285714286\n",
            "Base rate : 0.200734394124847\n",
            "\n",
            "5  intervals for y:\n",
            "(118028.4, 1507021.0]    164\n",
            "(1465.6, 2250.0]         164\n",
            "(3.999, 939.2]           164\n",
            "(939.2, 1465.6]          163\n",
            "(2250.0, 118028.4]       162\n",
            "Name: quant, dtype: int64\n",
            "\n",
            "train_score : 0.40735068912710565 test_score = 0.3780487804878049\n",
            "Base rate : 0.20169082125603865\n",
            "\n",
            "5  intervals for y:\n",
            "(1.999, 81.0]         167\n",
            "(34216.6, 90973.0]    166\n",
            "(472.8, 1986.4]       166\n",
            "(1986.4, 34216.6]     165\n",
            "(81.0, 472.8]         164\n",
            "Name: quant, dtype: int64\n",
            "\n",
            "train_score : 0.5906344410876133 test_score = 0.6204819277108434\n",
            "Base rate : 0.2018348623853211\n",
            "\n",
            "5  intervals for y:\n",
            "(18.0, 45.0]         198\n",
            "(0.999, 18.0]        197\n",
            "(5934.0, 24225.0]    196\n",
            "(174.0, 5934.0]      196\n",
            "(45.0, 174.0]        194\n",
            "Name: quant, dtype: int64\n",
            "\n",
            "train_score : 0.5102040816326531 test_score = 0.5177664974619289\n",
            "Base rate : 0.20047449584816132\n",
            "\n",
            "5  intervals for y:\n",
            "(6716.6, 12796.0]    169\n",
            "(154.0, 462.0]       169\n",
            "(15.4, 154.0]        169\n",
            "(0.999, 15.4]        169\n",
            "(462.0, 6716.6]      167\n",
            "Name: quant, dtype: int64\n",
            "\n",
            "train_score : 0.712166172106825 test_score = 0.7337278106508875\n",
            "Base rate : 0.20103092783505155\n",
            "\n",
            "5  intervals for y:\n",
            "(109.999, 3061.0]        195\n",
            "(507620.0, 1208445.0]    194\n",
            "(30249.0, 507620.0]      194\n",
            "(9302.4, 30249.0]        194\n",
            "(3061.0, 9302.4]         193\n",
            "Name: quant, dtype: int64\n",
            "\n",
            "train_score : 0.7036082474226805 test_score = 0.634020618556701\n",
            "Base rate : 0.20217391304347826\n",
            "\n",
            "5  intervals for y:\n",
            "(0.999, 34.0]         186\n",
            "(16045.8, 45092.0]    184\n",
            "(524.4, 16045.8]      184\n",
            "(34.0, 75.0]          184\n",
            "(75.0, 524.4]         182\n",
            "Name: quant, dtype: int64\n",
            "\n",
            "train_score : 0.5 test_score = 0.5380434782608695\n",
            "Base rate : 0.20235546038543897\n",
            "\n",
            "5  intervals for y:\n",
            "(0.999, 33.0]        189\n",
            "(7797.2, 37884.0]    187\n",
            "(33.0, 54.0]         187\n",
            "(106.0, 7797.2]      186\n",
            "(54.0, 106.0]        185\n",
            "Name: quant, dtype: int64\n",
            "\n",
            "train_score : 0.5153949129852744 test_score = 0.4919786096256685\n",
            "Base rate : 0.21192758253461128\n",
            "\n",
            "5  intervals for y:\n",
            "(1.999, 56.0]          199\n",
            "(62708.8, 194875.0]    188\n",
            "(8202.0, 62708.8]      188\n",
            "(70.2, 8202.0]         187\n",
            "(56.0, 70.2]           177\n",
            "Name: quant, dtype: int64\n",
            "\n",
            "train_score : 0.6884154460719041 test_score = 0.6808510638297872\n",
            "Base rate : 0.2007125890736342\n",
            "\n",
            "5  intervals for y:\n",
            "(88774.0, 286101.0]    169\n",
            "(2.999, 509.2]         169\n",
            "(7412.2, 88774.0]      168\n",
            "(3050.8, 7412.2]       168\n",
            "(509.2, 3050.8]        168\n",
            "Name: quant, dtype: int64\n",
            "\n",
            "train_score : 0.5988112927191679 test_score = 0.6094674556213018\n",
            "Base rate : 0.20070838252656434\n",
            "\n",
            "5  intervals for y:\n",
            "(141409.4, 443797.0]    170\n",
            "(132.999, 3269.4]       170\n",
            "(33269.4, 141409.4]     169\n",
            "(19767.4, 33269.4]      169\n",
            "(3269.4, 19767.4]       169\n",
            "Name: quant, dtype: int64\n",
            "\n",
            "train_score : 0.6011816838995568 test_score = 0.6\n",
            "Base rate : 0.20449438202247192\n",
            "\n",
            "5  intervals for y:\n",
            "(0.999, 350.0]          182\n",
            "(126540.6, 305945.0]    178\n",
            "(6329.8, 126540.6]      178\n",
            "(1245.0, 6329.8]        177\n",
            "(350.0, 1245.0]         175\n",
            "Name: quant, dtype: int64\n",
            "\n",
            "train_score : 0.6039325842696629 test_score = 0.5561797752808989\n",
            "Base rate : 0.2\n",
            "\n",
            "5  intervals for y:\n",
            "(988571.4, 2024496.0]    169\n",
            "(406080.2, 988571.4]     169\n",
            "(277004.6, 406080.2]     169\n",
            "(70506.2, 277004.6]      169\n",
            "(13910.999, 70506.2]     169\n",
            "Name: quant, dtype: int64\n",
            "\n",
            "train_score : 0.5961538461538461 test_score = 0.6094674556213018\n",
            "Base rate : 0.20094562647754138\n",
            "\n",
            "5  intervals for y:\n",
            "(1749.999, 44340.0]      170\n",
            "(943719.0, 2805201.0]    169\n",
            "(207469.0, 943719.0]     169\n",
            "(161314.0, 207469.0]     169\n",
            "(44340.0, 161314.0]      169\n",
            "Name: quant, dtype: int64\n",
            "\n",
            "train_score : 0.6183431952662722 test_score = 0.5294117647058824\n",
            "Base rate : 0.20039100684261973\n",
            "\n",
            "5  intervals for y:\n",
            "(1629945.4, 4447374.0]    205\n",
            "(36076.2, 595876.2]       205\n",
            "(0.999, 9551.4]           205\n",
            "(595876.2, 1629945.4]     204\n",
            "(9551.4, 36076.2]         204\n",
            "Name: quant, dtype: int64\n",
            "\n",
            "train_score : 0.726161369193154 test_score = 0.7170731707317073\n",
            "Base rate : 0.20159680638722555\n",
            "\n",
            "5  intervals for y:\n",
            "(56.999, 612.0]         202\n",
            "(472493.0, 929284.0]    201\n",
            "(61310.2, 472493.0]     200\n",
            "(2884.4, 61310.2]       200\n",
            "(612.0, 2884.4]         199\n",
            "Name: quant, dtype: int64\n",
            "\n",
            "train_score : 0.6754057428214731 test_score = 0.7014925373134329\n",
            "Base rate : 0.2007042253521127\n",
            "\n",
            "5  intervals for y:\n",
            "(888526.8, 1768766.0]    171\n",
            "(76.999, 5120.6]         171\n",
            "(270732.4, 888526.8]     170\n",
            "(192063.0, 270732.4]     170\n",
            "(5120.6, 192063.0]       170\n",
            "Name: quant, dtype: int64\n",
            "\n",
            "train_score : 0.6079295154185022 test_score = 0.5730994152046783\n",
            "Base rate : 0.21271393643031786\n",
            "\n",
            "5  intervals for y:\n",
            "(69.0, 104.0]         174\n",
            "(1.999, 69.0]         165\n",
            "(24543.8, 78621.0]    164\n",
            "(208.2, 24543.8]      163\n",
            "(104.0, 208.2]        152\n",
            "Name: quant, dtype: int64\n",
            "\n",
            "train_score : 0.5474006116207951 test_score = 0.5548780487804879\n",
            "Base rate : 0.20217917675544794\n",
            "\n",
            "5  intervals for y:\n",
            "(0.999, 21.0]           167\n",
            "(145412.0, 371405.0]    165\n",
            "(7202.0, 145412.0]      165\n",
            "(2470.0, 7202.0]        165\n",
            "(21.0, 2470.0]          164\n",
            "Name: quant, dtype: int64\n",
            "\n",
            "train_score : 0.6045454545454545 test_score = 0.5903614457831325\n",
            "Base rate : 0.20089686098654708\n",
            "\n",
            "5  intervals for y:\n",
            "(3.999, 304.0]          224\n",
            "(146493.8, 550685.0]    223\n",
            "(22781.6, 146493.8]     223\n",
            "(3135.6, 22781.6]       223\n",
            "(304.0, 3135.6]         222\n",
            "Name: quant, dtype: int64\n",
            "\n",
            "train_score : 0.6995515695067265 test_score = 0.7130044843049327\n",
            "Base rate : 0.20035460992907803\n",
            "\n",
            "5  intervals for y:\n",
            "(822124.4, 2523598.0]    226\n",
            "(24471.4, 68399.8]       226\n",
            "(362.999, 3538.4]        226\n",
            "(68399.8, 822124.4]      225\n",
            "(3538.4, 24471.4]        225\n",
            "Name: quant, dtype: int64\n",
            "\n",
            "train_score : 0.6574279379157428 test_score = 0.6283185840707964\n",
            "Base rate : 0.20074812967581046\n",
            "\n",
            "5  intervals for y:\n",
            "(68957.6, 156527.0]    161\n",
            "(0.999, 215.4]         161\n",
            "(9785.0, 68957.6]      160\n",
            "(1023.8, 9785.0]       160\n",
            "(215.4, 1023.8]        160\n",
            "Name: quant, dtype: int64\n",
            "\n",
            "train_score : 0.4539781591263651 test_score = 0.45962732919254656\n",
            "Base rate : 0.2017220172201722\n",
            "\n",
            "5  intervals for y:\n",
            "(9.999, 1524.0]        164\n",
            "(60614.8, 148151.0]    163\n",
            "(16137.8, 24376.0]     163\n",
            "(24376.0, 60614.8]     162\n",
            "(1524.0, 16137.8]      161\n",
            "Name: quant, dtype: int64\n",
            "\n",
            "train_score : 0.5984615384615385 test_score = 0.6073619631901841\n",
            "Base rate : 0.20212765957446807\n",
            "\n",
            "5  intervals for y:\n",
            "(381.0, 495.0]        228\n",
            "(43.999, 381.0]       227\n",
            "(10714.4, 41536.0]    226\n",
            "(727.4, 10714.4]      225\n",
            "(495.0, 727.4]        222\n",
            "Name: quant, dtype: int64\n",
            "\n",
            "train_score : 0.4611973392461197 test_score = 0.48672566371681414\n",
            "Base rate : 0.201246660730187\n",
            "\n",
            "5  intervals for y:\n",
            "(18.999, 562.0]        226\n",
            "(54103.2, 217294.0]    225\n",
            "(711.8, 1528.2]        225\n",
            "(1528.2, 54103.2]      224\n",
            "(562.0, 711.8]         223\n",
            "Name: quant, dtype: int64\n",
            "\n",
            "train_score : 0.6224944320712695 test_score = 0.6266666666666667\n",
            "Base rate : 0.20047449584816132\n",
            "\n",
            "5  intervals for y:\n",
            "(273003.4, 787244.0]    169\n",
            "(52237.8, 92570.0]      169\n",
            "(269.999, 1758.4]       169\n",
            "(92570.0, 273003.4]     168\n",
            "(1758.4, 52237.8]       168\n",
            "Name: quant, dtype: int64\n",
            "\n",
            "train_score : 0.6038575667655787 test_score = 0.591715976331361\n",
            "Base rate : 0.2011904761904762\n",
            "\n",
            "5  intervals for y:\n",
            "(27.999, 858.0]        169\n",
            "(76690.4, 159352.0]    168\n",
            "(8953.0, 76690.4]      168\n",
            "(4229.4, 8953.0]       168\n",
            "(858.0, 4229.4]        167\n",
            "Name: quant, dtype: int64\n",
            "\n",
            "train_score : 0.5714285714285714 test_score = 0.5833333333333334\n",
            "Base rate : 0.20222634508348794\n",
            "\n",
            "5  intervals for y:\n",
            "(9.999, 300.0]           218\n",
            "(611223.4, 1895352.0]    216\n",
            "(15157.8, 353870.0]      216\n",
            "(353870.0, 611223.4]     215\n",
            "(300.0, 15157.8]         213\n",
            "Name: quant, dtype: int64\n",
            "\n",
            "train_score : 0.6682134570765661 test_score = 0.6620370370370371\n",
            "Base rate : 0.20024721878862795\n",
            "\n",
            "5  intervals for y:\n",
            "(460055.6, 797199.0]    162\n",
            "(259895.8, 460055.6]    162\n",
            "(101.6, 180451.6]       162\n",
            "(0.999, 101.6]          162\n",
            "(180451.6, 259895.8]    161\n",
            "Name: quant, dtype: int64\n",
            "\n",
            "train_score : 0.6058732612055642 test_score = 0.5740740740740741\n",
            "Base rate : 0.20884289746001883\n",
            "\n",
            "5  intervals for y:\n",
            "(15.999, 133.0]         222\n",
            "(459547.4, 898363.0]    213\n",
            "(983.2, 8768.0]         213\n",
            "(8768.0, 459547.4]      212\n",
            "(133.0, 983.2]          203\n",
            "Name: quant, dtype: int64\n",
            "\n",
            "train_score : 0.5823529411764706 test_score = 0.568075117370892\n",
            "Base rate : 0.21422222222222223\n",
            "\n",
            "5  intervals for y:\n",
            "(5.999, 42.0]            241\n",
            "(686050.8, 1252553.0]    225\n",
            "(127240.2, 686050.8]     225\n",
            "(18992.2, 127240.2]      225\n",
            "(42.0, 18992.2]          209\n",
            "Name: quant, dtype: int64\n",
            "\n",
            "train_score : 0.7133333333333334 test_score = 0.7155555555555555\n",
            "Base rate : 0.20024875621890548\n",
            "\n",
            "5  intervals for y:\n",
            "(2097779.0, 3755585.0]    161\n",
            "(744292.8, 2097779.0]     161\n",
            "(69681.0, 569282.0]       161\n",
            "(3738.999, 69681.0]       161\n",
            "(569282.0, 744292.8]      160\n",
            "Name: quant, dtype: int64\n",
            "\n",
            "train_score : 0.6080870917573873 test_score = 0.5652173913043478\n",
            "Base rate : 0.20062047569803515\n",
            "\n",
            "5  intervals for y:\n",
            "(146798.0, 342450.0]    194\n",
            "(0.999, 374.6]          194\n",
            "(47149.8, 146798.0]     193\n",
            "(1049.6, 47149.8]       193\n",
            "(374.6, 1049.6]         193\n",
            "Name: quant, dtype: int64\n",
            "\n",
            "train_score : 0.6442432082794308 test_score = 0.6701030927835051\n",
            "Base rate : 0.20216606498194944\n",
            "\n",
            "5  intervals for y:\n",
            "(0.999, 160.0]       224\n",
            "(9260.2, 54394.0]    222\n",
            "(205.8, 414.0]       222\n",
            "(414.0, 9260.2]      221\n",
            "(160.0, 205.8]       219\n",
            "Name: quant, dtype: int64\n",
            "\n",
            "train_score : 0.5124153498871332 test_score = 0.5135135135135135\n",
            "Base rate : 0.20059288537549408\n",
            "\n",
            "5  intervals for y:\n",
            "(113415.0, 394999.0]    203\n",
            "(1057.4, 2910.0]        203\n",
            "(3.999, 237.6]          203\n",
            "(237.6, 1057.4]         202\n",
            "(2910.0, 113415.0]      201\n",
            "Name: quant, dtype: int64\n",
            "\n",
            "train_score : 0.5822002472187886 test_score = 0.5024630541871922\n",
            "Base rate : 0.20454545454545456\n",
            "\n",
            "5  intervals for y:\n",
            "(0.999, 24.0]          171\n",
            "(50567.0, 164064.0]    167\n",
            "(1068.0, 50567.0]      167\n",
            "(345.0, 1068.0]        167\n",
            "(24.0, 345.0]          164\n",
            "Name: quant, dtype: int64\n",
            "\n",
            "train_score : 0.5898203592814372 test_score = 0.6607142857142857\n",
            "Base rate : 0.2077338129496403\n",
            "\n",
            "5  intervals for y:\n",
            "(0.999, 36.0]          231\n",
            "(13393.6, 122250.0]    223\n",
            "(443.6, 13393.6]       222\n",
            "(88.4, 443.6]          222\n",
            "(36.0, 88.4]           214\n",
            "Name: quant, dtype: int64\n",
            "\n",
            "train_score : 0.4544431946006749 test_score = 0.45739910313901344\n",
            "Base rate : 0.20216606498194944\n",
            "\n",
            "5  intervals for y:\n",
            "(84.0, 220.0]          168\n",
            "(0.999, 84.0]          167\n",
            "(77015.0, 180613.0]    166\n",
            "(1110.0, 77015.0]      166\n",
            "(220.0, 1110.0]        164\n",
            "Name: quant, dtype: int64\n",
            "\n",
            "train_score : 0.40512048192771083 test_score = 0.3772455089820359\n",
            "Base rate : 0.20504731861198738\n",
            "\n",
            "5  intervals for y:\n",
            "(42.0, 75.0]          195\n",
            "(0.999, 42.0]         193\n",
            "(30335.0, 89650.0]    190\n",
            "(252.0, 30335.0]      190\n",
            "(75.0, 252.0]         183\n",
            "Name: quant, dtype: int64\n",
            "\n",
            "train_score : 0.5092105263157894 test_score = 0.5497382198952879\n",
            "Base rate : 0.20588235294117646\n",
            "\n",
            "5  intervals for y:\n",
            "(28.4, 48.0]         189\n",
            "(76.2, 5599.0]       184\n",
            "(0.999, 28.4]        184\n",
            "(5599.0, 35176.0]    183\n",
            "(48.0, 76.2]         178\n",
            "Name: quant, dtype: int64\n",
            "\n",
            "train_score : 0.4032697547683924 test_score = 0.3858695652173913\n",
            "Base rate : 0.2013888888888889\n",
            "\n",
            "5  intervals for y:\n",
            "(43.999, 1239.0]        174\n",
            "(289806.0, 922461.0]    173\n",
            "(10509.8, 289806.0]     173\n",
            "(4505.2, 10509.8]       172\n",
            "(1239.0, 4505.2]        172\n",
            "Name: quant, dtype: int64\n",
            "\n",
            "train_score : 0.5991316931982634 test_score = 0.5433526011560693\n",
            "Base rate : 0.21445497630331753\n",
            "\n",
            "5  intervals for y:\n",
            "(26.999, 93.0]          181\n",
            "(130785.6, 709612.0]    169\n",
            "(12816.0, 130785.6]     169\n",
            "(3081.4, 12816.0]       168\n",
            "(93.0, 3081.4]          157\n",
            "Name: quant, dtype: int64\n",
            "\n",
            "train_score : 0.605925925925926 test_score = 0.6449704142011834\n",
            "Base rate : 0.20092592592592592\n",
            "\n",
            "5  intervals for y:\n",
            "(196.0, 466.0]        217\n",
            "(75.8, 196.0]         217\n",
            "(23658.0, 52956.0]    216\n",
            "(0.999, 75.8]         216\n",
            "(466.0, 23658.0]      214\n",
            "Name: quant, dtype: int64\n",
            "\n",
            "train_score : 0.5428240740740741 test_score = 0.5694444444444444\n",
            "Base rate : 0.2008888888888889\n",
            "\n",
            "5  intervals for y:\n",
            "(0.999, 165.0]         226\n",
            "(33265.2, 106348.0]    225\n",
            "(933.4, 33265.2]       225\n",
            "(275.8, 933.4]         225\n",
            "(165.0, 275.8]         224\n",
            "Name: quant, dtype: int64\n",
            "\n",
            "train_score : 0.4922222222222222 test_score = 0.48444444444444446\n",
            "Base rate : 0.2\n",
            "\n",
            "5  intervals for y:\n",
            "(17839.8, 59961.0]    166\n",
            "(595.8, 17839.8]      166\n",
            "(148.6, 595.8]        166\n",
            "(52.8, 148.6]         166\n",
            "(0.999, 52.8]         166\n",
            "Name: quant, dtype: int64\n",
            "\n",
            "train_score : 0.5120481927710844 test_score = 0.5060240963855421\n"
          ]
        }
      ],
      "execution_count": 33,
      "metadata": {}
    },
    {
      "cell_type": "code",
      "source": [
        "port_localisation = []\n",
        "for i in range(0,len(error_port)):\n",
        "    port_localisation.append([error_port[i][0],error_port[i][1][0],error_port[i][1][1]])"
      ],
      "outputs": [],
      "execution_count": 34,
      "metadata": {}
    },
    {
      "cell_type": "markdown",
      "source": [
        "We can now plot the test score of each \"good\" port on the map of the USA."
      ],
      "metadata": {}
    },
    {
      "cell_type": "code",
      "source": [
        "port_localisation =  pd.DataFrame(data = port_localisation,columns = ['Port Name','Train Score','Test Score'])\n",
        "ps = nozero[['Port Name','latitude']].drop_duplicates().set_index('Port Name')\n",
        "port_localisation['latitude'] = port_localisation['Port Name'].apply(lambda x : ', '.join(ps.loc[x].values.flatten()))\n",
        "ps = nozero[['Port Name','longitude']].drop_duplicates().set_index('Port Name')\n",
        "port_localisation['longitude'] = port_localisation['Port Name'].apply(lambda x : ', '.join(ps.loc[x].values.flatten()))\n",
        "port_localisation['text'] = port_localisation['Port Name'] + '<br>Test Score: ' + (port_localisation['Test Score']).astype(str)\n",
        "\n",
        "\n",
        "\n",
        "fig = go.Figure(data=go.Scattergeo(\n",
        "        locationmode = 'USA-states',\n",
        "        lon = port_localisation['longitude'],\n",
        "        lat = port_localisation['latitude'],\n",
        "        text = port_localisation['text'],\n",
        "        mode = 'markers',\n",
        "        marker = dict(\n",
        "            size = 10,\n",
        "            opacity = 0.8,\n",
        "            reversescale = True,\n",
        "            autocolorscale = False,\n",
        "            symbol = 'square',\n",
        "            line = dict(\n",
        "                width=1,\n",
        "                color='rgba(102, 102, 102)'\n",
        "            ),\n",
        "            colorscale = 'Reds',\n",
        "            cmin = 0,\n",
        "            color = port_localisation['Test Score'],\n",
        "            cmax = port_localisation['Test Score'].max(),\n",
        "            colorbar_title=\"Test_score\"\n",
        "        )))\n",
        "\n",
        "fig.update_layout(\n",
        "        title = 'Test score per port ',\n",
        "        geo = dict(\n",
        "            scope='usa',\n",
        "            projection_type='albers usa',\n",
        "            showland = True,\n",
        "            landcolor = \"rgb(250, 250, 250)\",\n",
        "            subunitcolor = \"rgb(217, 217, 217)\",\n",
        "            countrycolor = \"rgb(217, 217, 217)\",\n",
        "            countrywidth = 0.5,\n",
        "            subunitwidth = 0.5\n",
        "        ),\n",
        "    )\n",
        "fig.show()"
      ],
      "outputs": [
        {
          "output_type": "display_data",
          "data": {
            "application/vnd.plotly.v1+json": {
              "config": {
                "plotlyServerURL": "https://plot.ly"
              },
              "data": [
                {
                  "lat": [
                    "48.905266",
                    "42.3315509",
                    "48.9950874",
                    "48.9853824",
                    "48.9376147",
                    "48.9987931",
                    "48.9996344",
                    "48.9881108",
                    "44.9953505",
                    "45.0094923",
                    "44.979486",
                    "45.00042985",
                    "26.4070669",
                    "29.9883766",
                    "27.5199841",
                    "26.3530256",
                    "31.7600372",
                    "28.7091433",
                    "25.9140256",
                    "44.881314",
                    "44.928106",
                    "44.982541",
                    "43.0761171",
                    "31.8559384",
                    "31.8303365",
                    "48.9958637",
                    "48.614892",
                    "31.46223",
                    "31.8819798",
                    "31.3402134",
                    "32.4934395",
                    "32.6753413",
                    "32.560058",
                    "32.5520013",
                    "32.5833711",
                    "48.999904",
                    "45.189032",
                    "46.1251286",
                    "45.6239358",
                    "47.355571",
                    "47.157506",
                    "45.5634002",
                    "42.9815877",
                    "46.490586",
                    "48.7124408",
                    "48.9970672",
                    "48.9991329"
                  ],
                  "locationmode": "USA-states",
                  "lon": [
                    "-95.314404",
                    "-83.0466403",
                    "-122.269080593315",
                    "-123.077974",
                    "-119.4361687",
                    "-118.2241779",
                    "-117.8310975",
                    "-122.7435757",
                    "-72.6731285931857",
                    "-71.7961053",
                    "-73.1054065",
                    "-72.1064356198873",
                    "-99.0055462",
                    "-104.2336552",
                    "-99.4953764",
                    "-98.216445",
                    "-106.487287",
                    "-100.4995214",
                    "-97.4890856",
                    "-74.2656165",
                    "-74.892082",
                    "-73.377564",
                    "-78.9928794",
                    "-106.6391577",
                    "-107.6385256",
                    "-102.5496127",
                    "-93.352057",
                    "-109.59394273101",
                    "-112.8153361",
                    "-110.9360818",
                    "-114.7737551",
                    "-115.3887997",
                    "-116.9361338",
                    "-117.0430813",
                    "-116.6285217",
                    "-116.180196",
                    "-67.2781424",
                    "-67.8407944",
                    "-70.2545117",
                    "-68.321915",
                    "-67.935333",
                    "-67.429721",
                    "-82.440466",
                    "-84.359269",
                    "-94.600171",
                    "-111.9625745",
                    "-115.0565577"
                  ],
                  "marker": {
                    "autocolorscale": false,
                    "cmax": 0.7337278106508875,
                    "cmin": 0,
                    "color": [
                      0.6896551724137931,
                      0.6242774566473989,
                      0.5848214285714286,
                      0.3780487804878049,
                      0.6204819277108434,
                      0.5177664974619289,
                      0.7337278106508875,
                      0.634020618556701,
                      0.5380434782608695,
                      0.4919786096256685,
                      0.6808510638297872,
                      0.6094674556213018,
                      0.6,
                      0.5561797752808989,
                      0.6094674556213018,
                      0.5294117647058824,
                      0.7170731707317073,
                      0.7014925373134329,
                      0.5730994152046783,
                      0.5548780487804879,
                      0.5903614457831325,
                      0.7130044843049327,
                      0.6283185840707964,
                      0.45962732919254656,
                      0.6073619631901841,
                      0.48672566371681414,
                      0.6266666666666667,
                      0.591715976331361,
                      0.5833333333333334,
                      0.6620370370370371,
                      0.5740740740740741,
                      0.568075117370892,
                      0.7155555555555555,
                      0.5652173913043478,
                      0.6701030927835051,
                      0.5135135135135135,
                      0.5024630541871922,
                      0.6607142857142857,
                      0.45739910313901344,
                      0.3772455089820359,
                      0.5497382198952879,
                      0.3858695652173913,
                      0.5433526011560693,
                      0.6449704142011834,
                      0.5694444444444444,
                      0.48444444444444446,
                      0.5060240963855421
                    ],
                    "colorbar": {
                      "title": {
                        "text": "Test_score"
                      }
                    },
                    "colorscale": [
                      [
                        0,
                        "rgb(255,245,240)"
                      ],
                      [
                        0.125,
                        "rgb(254,224,210)"
                      ],
                      [
                        0.25,
                        "rgb(252,187,161)"
                      ],
                      [
                        0.375,
                        "rgb(252,146,114)"
                      ],
                      [
                        0.5,
                        "rgb(251,106,74)"
                      ],
                      [
                        0.625,
                        "rgb(239,59,44)"
                      ],
                      [
                        0.75,
                        "rgb(203,24,29)"
                      ],
                      [
                        0.875,
                        "rgb(165,15,21)"
                      ],
                      [
                        1,
                        "rgb(103,0,13)"
                      ]
                    ],
                    "line": {
                      "color": "rgba(102, 102, 102)",
                      "width": 1
                    },
                    "opacity": 0.8,
                    "reversescale": true,
                    "size": 10,
                    "symbol": "square"
                  },
                  "mode": "markers",
                  "text": [
                    "Warroad<br>Test Score: 0.6896551724137931",
                    "Detroit<br>Test Score: 0.6242774566473989",
                    "Sumas<br>Test Score: 0.5848214285714286",
                    "Point Roberts<br>Test Score: 0.3780487804878049",
                    "Oroville<br>Test Score: 0.6204819277108434",
                    "Laurier<br>Test Score: 0.5177664974619289",
                    "Frontier<br>Test Score: 0.7337278106508875",
                    "Blaine<br>Test Score: 0.634020618556701",
                    "Richford<br>Test Score: 0.5380434782608695",
                    "Norton<br>Test Score: 0.4919786096256685",
                    "Highgate Springs-Alburg<br>Test Score: 0.6808510638297872",
                    "Derby Line<br>Test Score: 0.6094674556213018",
                    "Roma<br>Test Score: 0.6",
                    "Presidio<br>Test Score: 0.5561797752808989",
                    "Laredo<br>Test Score: 0.6094674556213018",
                    "Hidalgo<br>Test Score: 0.5294117647058824",
                    "El Paso<br>Test Score: 0.7170731707317073",
                    "Eagle Pass<br>Test Score: 0.7014925373134329",
                    "Brownsville<br>Test Score: 0.5730994152046783",
                    "Trout River<br>Test Score: 0.5548780487804879",
                    "Massena<br>Test Score: 0.5903614457831325",
                    "Champlain-Rouses Point<br>Test Score: 0.7130044843049327",
                    "Buffalo-Niagara Falls<br>Test Score: 0.6283185840707964",
                    "Santa Teresa<br>Test Score: 0.45962732919254656",
                    "Columbus<br>Test Score: 0.6073619631901841",
                    "Portal<br>Test Score: 0.48672566371681414",
                    "International Falls-Ranier<br>Test Score: 0.6266666666666667",
                    "Douglas<br>Test Score: 0.591715976331361",
                    "Lukeville<br>Test Score: 0.5833333333333334",
                    "Nogales<br>Test Score: 0.6620370370370371",
                    "San Luis<br>Test Score: 0.5740740740740741",
                    "Calexico East<br>Test Score: 0.568075117370892",
                    "Otay Mesa<br>Test Score: 0.7155555555555555",
                    "San Ysidro<br>Test Score: 0.5652173913043478",
                    "Tecate<br>Test Score: 0.6701030927835051",
                    "Eastport_ID<br>Test Score: 0.5135135135135135",
                    "Calais<br>Test Score: 0.5024630541871922",
                    "Houlton<br>Test Score: 0.6607142857142857",
                    "Jackman<br>Test Score: 0.45739910313901344",
                    "Madawaska<br>Test Score: 0.3772455089820359",
                    "Van Buren<br>Test Score: 0.5497382198952879",
                    "Vanceboro<br>Test Score: 0.3858695652173913",
                    "Port Huron<br>Test Score: 0.5433526011560693",
                    "Sault Sainte Marie<br>Test Score: 0.6449704142011834",
                    "Baudette<br>Test Score: 0.5694444444444444",
                    "Sweetgrass<br>Test Score: 0.48444444444444446",
                    "Roosville<br>Test Score: 0.5060240963855421"
                  ],
                  "type": "scattergeo"
                }
              ],
              "layout": {
                "geo": {
                  "countrycolor": "rgb(217, 217, 217)",
                  "countrywidth": 0.5,
                  "landcolor": "rgb(250, 250, 250)",
                  "projection": {
                    "type": "albers usa"
                  },
                  "scope": "usa",
                  "showland": true,
                  "subunitcolor": "rgb(217, 217, 217)",
                  "subunitwidth": 0.5
                },
                "template": {
                  "data": {
                    "bar": [
                      {
                        "error_x": {
                          "color": "#2a3f5f"
                        },
                        "error_y": {
                          "color": "#2a3f5f"
                        },
                        "marker": {
                          "line": {
                            "color": "#E5ECF6",
                            "width": 0.5
                          }
                        },
                        "type": "bar"
                      }
                    ],
                    "barpolar": [
                      {
                        "marker": {
                          "line": {
                            "color": "#E5ECF6",
                            "width": 0.5
                          }
                        },
                        "type": "barpolar"
                      }
                    ],
                    "carpet": [
                      {
                        "aaxis": {
                          "endlinecolor": "#2a3f5f",
                          "gridcolor": "white",
                          "linecolor": "white",
                          "minorgridcolor": "white",
                          "startlinecolor": "#2a3f5f"
                        },
                        "baxis": {
                          "endlinecolor": "#2a3f5f",
                          "gridcolor": "white",
                          "linecolor": "white",
                          "minorgridcolor": "white",
                          "startlinecolor": "#2a3f5f"
                        },
                        "type": "carpet"
                      }
                    ],
                    "choropleth": [
                      {
                        "colorbar": {
                          "outlinewidth": 0,
                          "ticks": ""
                        },
                        "type": "choropleth"
                      }
                    ],
                    "contour": [
                      {
                        "colorbar": {
                          "outlinewidth": 0,
                          "ticks": ""
                        },
                        "colorscale": [
                          [
                            0,
                            "#0d0887"
                          ],
                          [
                            0.1111111111111111,
                            "#46039f"
                          ],
                          [
                            0.2222222222222222,
                            "#7201a8"
                          ],
                          [
                            0.3333333333333333,
                            "#9c179e"
                          ],
                          [
                            0.4444444444444444,
                            "#bd3786"
                          ],
                          [
                            0.5555555555555556,
                            "#d8576b"
                          ],
                          [
                            0.6666666666666666,
                            "#ed7953"
                          ],
                          [
                            0.7777777777777778,
                            "#fb9f3a"
                          ],
                          [
                            0.8888888888888888,
                            "#fdca26"
                          ],
                          [
                            1,
                            "#f0f921"
                          ]
                        ],
                        "type": "contour"
                      }
                    ],
                    "contourcarpet": [
                      {
                        "colorbar": {
                          "outlinewidth": 0,
                          "ticks": ""
                        },
                        "type": "contourcarpet"
                      }
                    ],
                    "heatmap": [
                      {
                        "colorbar": {
                          "outlinewidth": 0,
                          "ticks": ""
                        },
                        "colorscale": [
                          [
                            0,
                            "#0d0887"
                          ],
                          [
                            0.1111111111111111,
                            "#46039f"
                          ],
                          [
                            0.2222222222222222,
                            "#7201a8"
                          ],
                          [
                            0.3333333333333333,
                            "#9c179e"
                          ],
                          [
                            0.4444444444444444,
                            "#bd3786"
                          ],
                          [
                            0.5555555555555556,
                            "#d8576b"
                          ],
                          [
                            0.6666666666666666,
                            "#ed7953"
                          ],
                          [
                            0.7777777777777778,
                            "#fb9f3a"
                          ],
                          [
                            0.8888888888888888,
                            "#fdca26"
                          ],
                          [
                            1,
                            "#f0f921"
                          ]
                        ],
                        "type": "heatmap"
                      }
                    ],
                    "heatmapgl": [
                      {
                        "colorbar": {
                          "outlinewidth": 0,
                          "ticks": ""
                        },
                        "colorscale": [
                          [
                            0,
                            "#0d0887"
                          ],
                          [
                            0.1111111111111111,
                            "#46039f"
                          ],
                          [
                            0.2222222222222222,
                            "#7201a8"
                          ],
                          [
                            0.3333333333333333,
                            "#9c179e"
                          ],
                          [
                            0.4444444444444444,
                            "#bd3786"
                          ],
                          [
                            0.5555555555555556,
                            "#d8576b"
                          ],
                          [
                            0.6666666666666666,
                            "#ed7953"
                          ],
                          [
                            0.7777777777777778,
                            "#fb9f3a"
                          ],
                          [
                            0.8888888888888888,
                            "#fdca26"
                          ],
                          [
                            1,
                            "#f0f921"
                          ]
                        ],
                        "type": "heatmapgl"
                      }
                    ],
                    "histogram": [
                      {
                        "marker": {
                          "colorbar": {
                            "outlinewidth": 0,
                            "ticks": ""
                          }
                        },
                        "type": "histogram"
                      }
                    ],
                    "histogram2d": [
                      {
                        "colorbar": {
                          "outlinewidth": 0,
                          "ticks": ""
                        },
                        "colorscale": [
                          [
                            0,
                            "#0d0887"
                          ],
                          [
                            0.1111111111111111,
                            "#46039f"
                          ],
                          [
                            0.2222222222222222,
                            "#7201a8"
                          ],
                          [
                            0.3333333333333333,
                            "#9c179e"
                          ],
                          [
                            0.4444444444444444,
                            "#bd3786"
                          ],
                          [
                            0.5555555555555556,
                            "#d8576b"
                          ],
                          [
                            0.6666666666666666,
                            "#ed7953"
                          ],
                          [
                            0.7777777777777778,
                            "#fb9f3a"
                          ],
                          [
                            0.8888888888888888,
                            "#fdca26"
                          ],
                          [
                            1,
                            "#f0f921"
                          ]
                        ],
                        "type": "histogram2d"
                      }
                    ],
                    "histogram2dcontour": [
                      {
                        "colorbar": {
                          "outlinewidth": 0,
                          "ticks": ""
                        },
                        "colorscale": [
                          [
                            0,
                            "#0d0887"
                          ],
                          [
                            0.1111111111111111,
                            "#46039f"
                          ],
                          [
                            0.2222222222222222,
                            "#7201a8"
                          ],
                          [
                            0.3333333333333333,
                            "#9c179e"
                          ],
                          [
                            0.4444444444444444,
                            "#bd3786"
                          ],
                          [
                            0.5555555555555556,
                            "#d8576b"
                          ],
                          [
                            0.6666666666666666,
                            "#ed7953"
                          ],
                          [
                            0.7777777777777778,
                            "#fb9f3a"
                          ],
                          [
                            0.8888888888888888,
                            "#fdca26"
                          ],
                          [
                            1,
                            "#f0f921"
                          ]
                        ],
                        "type": "histogram2dcontour"
                      }
                    ],
                    "mesh3d": [
                      {
                        "colorbar": {
                          "outlinewidth": 0,
                          "ticks": ""
                        },
                        "type": "mesh3d"
                      }
                    ],
                    "parcoords": [
                      {
                        "line": {
                          "colorbar": {
                            "outlinewidth": 0,
                            "ticks": ""
                          }
                        },
                        "type": "parcoords"
                      }
                    ],
                    "pie": [
                      {
                        "automargin": true,
                        "type": "pie"
                      }
                    ],
                    "scatter": [
                      {
                        "marker": {
                          "colorbar": {
                            "outlinewidth": 0,
                            "ticks": ""
                          }
                        },
                        "type": "scatter"
                      }
                    ],
                    "scatter3d": [
                      {
                        "line": {
                          "colorbar": {
                            "outlinewidth": 0,
                            "ticks": ""
                          }
                        },
                        "marker": {
                          "colorbar": {
                            "outlinewidth": 0,
                            "ticks": ""
                          }
                        },
                        "type": "scatter3d"
                      }
                    ],
                    "scattercarpet": [
                      {
                        "marker": {
                          "colorbar": {
                            "outlinewidth": 0,
                            "ticks": ""
                          }
                        },
                        "type": "scattercarpet"
                      }
                    ],
                    "scattergeo": [
                      {
                        "marker": {
                          "colorbar": {
                            "outlinewidth": 0,
                            "ticks": ""
                          }
                        },
                        "type": "scattergeo"
                      }
                    ],
                    "scattergl": [
                      {
                        "marker": {
                          "colorbar": {
                            "outlinewidth": 0,
                            "ticks": ""
                          }
                        },
                        "type": "scattergl"
                      }
                    ],
                    "scattermapbox": [
                      {
                        "marker": {
                          "colorbar": {
                            "outlinewidth": 0,
                            "ticks": ""
                          }
                        },
                        "type": "scattermapbox"
                      }
                    ],
                    "scatterpolar": [
                      {
                        "marker": {
                          "colorbar": {
                            "outlinewidth": 0,
                            "ticks": ""
                          }
                        },
                        "type": "scatterpolar"
                      }
                    ],
                    "scatterpolargl": [
                      {
                        "marker": {
                          "colorbar": {
                            "outlinewidth": 0,
                            "ticks": ""
                          }
                        },
                        "type": "scatterpolargl"
                      }
                    ],
                    "scatterternary": [
                      {
                        "marker": {
                          "colorbar": {
                            "outlinewidth": 0,
                            "ticks": ""
                          }
                        },
                        "type": "scatterternary"
                      }
                    ],
                    "surface": [
                      {
                        "colorbar": {
                          "outlinewidth": 0,
                          "ticks": ""
                        },
                        "colorscale": [
                          [
                            0,
                            "#0d0887"
                          ],
                          [
                            0.1111111111111111,
                            "#46039f"
                          ],
                          [
                            0.2222222222222222,
                            "#7201a8"
                          ],
                          [
                            0.3333333333333333,
                            "#9c179e"
                          ],
                          [
                            0.4444444444444444,
                            "#bd3786"
                          ],
                          [
                            0.5555555555555556,
                            "#d8576b"
                          ],
                          [
                            0.6666666666666666,
                            "#ed7953"
                          ],
                          [
                            0.7777777777777778,
                            "#fb9f3a"
                          ],
                          [
                            0.8888888888888888,
                            "#fdca26"
                          ],
                          [
                            1,
                            "#f0f921"
                          ]
                        ],
                        "type": "surface"
                      }
                    ],
                    "table": [
                      {
                        "cells": {
                          "fill": {
                            "color": "#EBF0F8"
                          },
                          "line": {
                            "color": "white"
                          }
                        },
                        "header": {
                          "fill": {
                            "color": "#C8D4E3"
                          },
                          "line": {
                            "color": "white"
                          }
                        },
                        "type": "table"
                      }
                    ]
                  },
                  "layout": {
                    "annotationdefaults": {
                      "arrowcolor": "#2a3f5f",
                      "arrowhead": 0,
                      "arrowwidth": 1
                    },
                    "coloraxis": {
                      "colorbar": {
                        "outlinewidth": 0,
                        "ticks": ""
                      }
                    },
                    "colorscale": {
                      "diverging": [
                        [
                          0,
                          "#8e0152"
                        ],
                        [
                          0.1,
                          "#c51b7d"
                        ],
                        [
                          0.2,
                          "#de77ae"
                        ],
                        [
                          0.3,
                          "#f1b6da"
                        ],
                        [
                          0.4,
                          "#fde0ef"
                        ],
                        [
                          0.5,
                          "#f7f7f7"
                        ],
                        [
                          0.6,
                          "#e6f5d0"
                        ],
                        [
                          0.7,
                          "#b8e186"
                        ],
                        [
                          0.8,
                          "#7fbc41"
                        ],
                        [
                          0.9,
                          "#4d9221"
                        ],
                        [
                          1,
                          "#276419"
                        ]
                      ],
                      "sequential": [
                        [
                          0,
                          "#0d0887"
                        ],
                        [
                          0.1111111111111111,
                          "#46039f"
                        ],
                        [
                          0.2222222222222222,
                          "#7201a8"
                        ],
                        [
                          0.3333333333333333,
                          "#9c179e"
                        ],
                        [
                          0.4444444444444444,
                          "#bd3786"
                        ],
                        [
                          0.5555555555555556,
                          "#d8576b"
                        ],
                        [
                          0.6666666666666666,
                          "#ed7953"
                        ],
                        [
                          0.7777777777777778,
                          "#fb9f3a"
                        ],
                        [
                          0.8888888888888888,
                          "#fdca26"
                        ],
                        [
                          1,
                          "#f0f921"
                        ]
                      ],
                      "sequentialminus": [
                        [
                          0,
                          "#0d0887"
                        ],
                        [
                          0.1111111111111111,
                          "#46039f"
                        ],
                        [
                          0.2222222222222222,
                          "#7201a8"
                        ],
                        [
                          0.3333333333333333,
                          "#9c179e"
                        ],
                        [
                          0.4444444444444444,
                          "#bd3786"
                        ],
                        [
                          0.5555555555555556,
                          "#d8576b"
                        ],
                        [
                          0.6666666666666666,
                          "#ed7953"
                        ],
                        [
                          0.7777777777777778,
                          "#fb9f3a"
                        ],
                        [
                          0.8888888888888888,
                          "#fdca26"
                        ],
                        [
                          1,
                          "#f0f921"
                        ]
                      ]
                    },
                    "colorway": [
                      "#636efa",
                      "#EF553B",
                      "#00cc96",
                      "#ab63fa",
                      "#FFA15A",
                      "#19d3f3",
                      "#FF6692",
                      "#B6E880",
                      "#FF97FF",
                      "#FECB52"
                    ],
                    "font": {
                      "color": "#2a3f5f"
                    },
                    "geo": {
                      "bgcolor": "white",
                      "lakecolor": "white",
                      "landcolor": "#E5ECF6",
                      "showlakes": true,
                      "showland": true,
                      "subunitcolor": "white"
                    },
                    "hoverlabel": {
                      "align": "left"
                    },
                    "hovermode": "closest",
                    "mapbox": {
                      "style": "light"
                    },
                    "paper_bgcolor": "white",
                    "plot_bgcolor": "#E5ECF6",
                    "polar": {
                      "angularaxis": {
                        "gridcolor": "white",
                        "linecolor": "white",
                        "ticks": ""
                      },
                      "bgcolor": "#E5ECF6",
                      "radialaxis": {
                        "gridcolor": "white",
                        "linecolor": "white",
                        "ticks": ""
                      }
                    },
                    "scene": {
                      "xaxis": {
                        "backgroundcolor": "#E5ECF6",
                        "gridcolor": "white",
                        "gridwidth": 2,
                        "linecolor": "white",
                        "showbackground": true,
                        "ticks": "",
                        "zerolinecolor": "white"
                      },
                      "yaxis": {
                        "backgroundcolor": "#E5ECF6",
                        "gridcolor": "white",
                        "gridwidth": 2,
                        "linecolor": "white",
                        "showbackground": true,
                        "ticks": "",
                        "zerolinecolor": "white"
                      },
                      "zaxis": {
                        "backgroundcolor": "#E5ECF6",
                        "gridcolor": "white",
                        "gridwidth": 2,
                        "linecolor": "white",
                        "showbackground": true,
                        "ticks": "",
                        "zerolinecolor": "white"
                      }
                    },
                    "shapedefaults": {
                      "line": {
                        "color": "#2a3f5f"
                      }
                    },
                    "ternary": {
                      "aaxis": {
                        "gridcolor": "white",
                        "linecolor": "white",
                        "ticks": ""
                      },
                      "baxis": {
                        "gridcolor": "white",
                        "linecolor": "white",
                        "ticks": ""
                      },
                      "bgcolor": "#E5ECF6",
                      "caxis": {
                        "gridcolor": "white",
                        "linecolor": "white",
                        "ticks": ""
                      }
                    },
                    "title": {
                      "x": 0.05
                    },
                    "xaxis": {
                      "automargin": true,
                      "gridcolor": "white",
                      "linecolor": "white",
                      "ticks": "",
                      "title": {
                        "standoff": 15
                      },
                      "zerolinecolor": "white",
                      "zerolinewidth": 2
                    },
                    "yaxis": {
                      "automargin": true,
                      "gridcolor": "white",
                      "linecolor": "white",
                      "ticks": "",
                      "title": {
                        "standoff": 15
                      },
                      "zerolinecolor": "white",
                      "zerolinewidth": 2
                    }
                  }
                },
                "title": {
                  "text": "Test score per port "
                }
              }
            },
            "text/html": [
              "<div>\n",
              "        \n",
              "        \n",
              "            <div id=\"126b9124-3fc2-4d3d-9ac2-2ab57fcf5ed8\" class=\"plotly-graph-div\" style=\"height:525px; width:100%;\"></div>\n",
              "            <script type=\"text/javascript\">\n",
              "                require([\"plotly\"], function(Plotly) {\n",
              "                    window.PLOTLYENV=window.PLOTLYENV || {};\n",
              "                    \n",
              "                if (document.getElementById(\"126b9124-3fc2-4d3d-9ac2-2ab57fcf5ed8\")) {\n",
              "                    Plotly.newPlot(\n",
              "                        '126b9124-3fc2-4d3d-9ac2-2ab57fcf5ed8',\n",
              "                        [{\"lat\": [\"48.905266\", \"42.3315509\", \"48.9950874\", \"48.9853824\", \"48.9376147\", \"48.9987931\", \"48.9996344\", \"48.9881108\", \"44.9953505\", \"45.0094923\", \"44.979486\", \"45.00042985\", \"26.4070669\", \"29.9883766\", \"27.5199841\", \"26.3530256\", \"31.7600372\", \"28.7091433\", \"25.9140256\", \"44.881314\", \"44.928106\", \"44.982541\", \"43.0761171\", \"31.8559384\", \"31.8303365\", \"48.9958637\", \"48.614892\", \"31.46223\", \"31.8819798\", \"31.3402134\", \"32.4934395\", \"32.6753413\", \"32.560058\", \"32.5520013\", \"32.5833711\", \"48.999904\", \"45.189032\", \"46.1251286\", \"45.6239358\", \"47.355571\", \"47.157506\", \"45.5634002\", \"42.9815877\", \"46.490586\", \"48.7124408\", \"48.9970672\", \"48.9991329\"], \"locationmode\": \"USA-states\", \"lon\": [\"-95.314404\", \"-83.0466403\", \"-122.269080593315\", \"-123.077974\", \"-119.4361687\", \"-118.2241779\", \"-117.8310975\", \"-122.7435757\", \"-72.6731285931857\", \"-71.7961053\", \"-73.1054065\", \"-72.1064356198873\", \"-99.0055462\", \"-104.2336552\", \"-99.4953764\", \"-98.216445\", \"-106.487287\", \"-100.4995214\", \"-97.4890856\", \"-74.2656165\", \"-74.892082\", \"-73.377564\", \"-78.9928794\", \"-106.6391577\", \"-107.6385256\", \"-102.5496127\", \"-93.352057\", \"-109.59394273101\", \"-112.8153361\", \"-110.9360818\", \"-114.7737551\", \"-115.3887997\", \"-116.9361338\", \"-117.0430813\", \"-116.6285217\", \"-116.180196\", \"-67.2781424\", \"-67.8407944\", \"-70.2545117\", \"-68.321915\", \"-67.935333\", \"-67.429721\", \"-82.440466\", \"-84.359269\", \"-94.600171\", \"-111.9625745\", \"-115.0565577\"], \"marker\": {\"autocolorscale\": false, \"cmax\": 0.7337278106508875, \"cmin\": 0, \"color\": [0.6896551724137931, 0.6242774566473989, 0.5848214285714286, 0.3780487804878049, 0.6204819277108434, 0.5177664974619289, 0.7337278106508875, 0.634020618556701, 0.5380434782608695, 0.4919786096256685, 0.6808510638297872, 0.6094674556213018, 0.6, 0.5561797752808989, 0.6094674556213018, 0.5294117647058824, 0.7170731707317073, 0.7014925373134329, 0.5730994152046783, 0.5548780487804879, 0.5903614457831325, 0.7130044843049327, 0.6283185840707964, 0.45962732919254656, 0.6073619631901841, 0.48672566371681414, 0.6266666666666667, 0.591715976331361, 0.5833333333333334, 0.6620370370370371, 0.5740740740740741, 0.568075117370892, 0.7155555555555555, 0.5652173913043478, 0.6701030927835051, 0.5135135135135135, 0.5024630541871922, 0.6607142857142857, 0.45739910313901344, 0.3772455089820359, 0.5497382198952879, 0.3858695652173913, 0.5433526011560693, 0.6449704142011834, 0.5694444444444444, 0.48444444444444446, 0.5060240963855421], \"colorbar\": {\"title\": {\"text\": \"Test_score\"}}, \"colorscale\": [[0.0, \"rgb(255,245,240)\"], [0.125, \"rgb(254,224,210)\"], [0.25, \"rgb(252,187,161)\"], [0.375, \"rgb(252,146,114)\"], [0.5, \"rgb(251,106,74)\"], [0.625, \"rgb(239,59,44)\"], [0.75, \"rgb(203,24,29)\"], [0.875, \"rgb(165,15,21)\"], [1.0, \"rgb(103,0,13)\"]], \"line\": {\"color\": \"rgba(102, 102, 102)\", \"width\": 1}, \"opacity\": 0.8, \"reversescale\": true, \"size\": 10, \"symbol\": \"square\"}, \"mode\": \"markers\", \"text\": [\"Warroad<br>Test Score: 0.6896551724137931\", \"Detroit<br>Test Score: 0.6242774566473989\", \"Sumas<br>Test Score: 0.5848214285714286\", \"Point Roberts<br>Test Score: 0.3780487804878049\", \"Oroville<br>Test Score: 0.6204819277108434\", \"Laurier<br>Test Score: 0.5177664974619289\", \"Frontier<br>Test Score: 0.7337278106508875\", \"Blaine<br>Test Score: 0.634020618556701\", \"Richford<br>Test Score: 0.5380434782608695\", \"Norton<br>Test Score: 0.4919786096256685\", \"Highgate Springs-Alburg<br>Test Score: 0.6808510638297872\", \"Derby Line<br>Test Score: 0.6094674556213018\", \"Roma<br>Test Score: 0.6\", \"Presidio<br>Test Score: 0.5561797752808989\", \"Laredo<br>Test Score: 0.6094674556213018\", \"Hidalgo<br>Test Score: 0.5294117647058824\", \"El Paso<br>Test Score: 0.7170731707317073\", \"Eagle Pass<br>Test Score: 0.7014925373134329\", \"Brownsville<br>Test Score: 0.5730994152046783\", \"Trout River<br>Test Score: 0.5548780487804879\", \"Massena<br>Test Score: 0.5903614457831325\", \"Champlain-Rouses Point<br>Test Score: 0.7130044843049327\", \"Buffalo-Niagara Falls<br>Test Score: 0.6283185840707964\", \"Santa Teresa<br>Test Score: 0.45962732919254656\", \"Columbus<br>Test Score: 0.6073619631901841\", \"Portal<br>Test Score: 0.48672566371681414\", \"International Falls-Ranier<br>Test Score: 0.6266666666666667\", \"Douglas<br>Test Score: 0.591715976331361\", \"Lukeville<br>Test Score: 0.5833333333333334\", \"Nogales<br>Test Score: 0.6620370370370371\", \"San Luis<br>Test Score: 0.5740740740740741\", \"Calexico East<br>Test Score: 0.568075117370892\", \"Otay Mesa<br>Test Score: 0.7155555555555555\", \"San Ysidro<br>Test Score: 0.5652173913043478\", \"Tecate<br>Test Score: 0.6701030927835051\", \"Eastport_ID<br>Test Score: 0.5135135135135135\", \"Calais<br>Test Score: 0.5024630541871922\", \"Houlton<br>Test Score: 0.6607142857142857\", \"Jackman<br>Test Score: 0.45739910313901344\", \"Madawaska<br>Test Score: 0.3772455089820359\", \"Van Buren<br>Test Score: 0.5497382198952879\", \"Vanceboro<br>Test Score: 0.3858695652173913\", \"Port Huron<br>Test Score: 0.5433526011560693\", \"Sault Sainte Marie<br>Test Score: 0.6449704142011834\", \"Baudette<br>Test Score: 0.5694444444444444\", \"Sweetgrass<br>Test Score: 0.48444444444444446\", \"Roosville<br>Test Score: 0.5060240963855421\"], \"type\": \"scattergeo\"}],\n",
              "                        {\"geo\": {\"countrycolor\": \"rgb(217, 217, 217)\", \"countrywidth\": 0.5, \"landcolor\": \"rgb(250, 250, 250)\", \"projection\": {\"type\": \"albers usa\"}, \"scope\": \"usa\", \"showland\": true, \"subunitcolor\": \"rgb(217, 217, 217)\", \"subunitwidth\": 0.5}, \"template\": {\"data\": {\"bar\": [{\"error_x\": {\"color\": \"#2a3f5f\"}, \"error_y\": {\"color\": \"#2a3f5f\"}, \"marker\": {\"line\": {\"color\": \"#E5ECF6\", \"width\": 0.5}}, \"type\": \"bar\"}], \"barpolar\": [{\"marker\": {\"line\": {\"color\": \"#E5ECF6\", \"width\": 0.5}}, \"type\": \"barpolar\"}], \"carpet\": [{\"aaxis\": {\"endlinecolor\": \"#2a3f5f\", \"gridcolor\": \"white\", \"linecolor\": \"white\", \"minorgridcolor\": \"white\", \"startlinecolor\": \"#2a3f5f\"}, \"baxis\": {\"endlinecolor\": \"#2a3f5f\", \"gridcolor\": \"white\", \"linecolor\": \"white\", \"minorgridcolor\": \"white\", \"startlinecolor\": \"#2a3f5f\"}, \"type\": \"carpet\"}], \"choropleth\": [{\"colorbar\": {\"outlinewidth\": 0, \"ticks\": \"\"}, \"type\": \"choropleth\"}], \"contour\": [{\"colorbar\": {\"outlinewidth\": 0, \"ticks\": \"\"}, \"colorscale\": [[0.0, \"#0d0887\"], [0.1111111111111111, \"#46039f\"], [0.2222222222222222, \"#7201a8\"], [0.3333333333333333, \"#9c179e\"], [0.4444444444444444, \"#bd3786\"], [0.5555555555555556, \"#d8576b\"], [0.6666666666666666, \"#ed7953\"], [0.7777777777777778, \"#fb9f3a\"], [0.8888888888888888, \"#fdca26\"], [1.0, \"#f0f921\"]], \"type\": \"contour\"}], \"contourcarpet\": [{\"colorbar\": {\"outlinewidth\": 0, \"ticks\": \"\"}, \"type\": \"contourcarpet\"}], \"heatmap\": [{\"colorbar\": {\"outlinewidth\": 0, \"ticks\": \"\"}, \"colorscale\": [[0.0, \"#0d0887\"], [0.1111111111111111, \"#46039f\"], [0.2222222222222222, \"#7201a8\"], [0.3333333333333333, \"#9c179e\"], [0.4444444444444444, \"#bd3786\"], [0.5555555555555556, \"#d8576b\"], [0.6666666666666666, \"#ed7953\"], [0.7777777777777778, \"#fb9f3a\"], [0.8888888888888888, \"#fdca26\"], [1.0, \"#f0f921\"]], \"type\": \"heatmap\"}], \"heatmapgl\": [{\"colorbar\": {\"outlinewidth\": 0, \"ticks\": \"\"}, \"colorscale\": [[0.0, \"#0d0887\"], [0.1111111111111111, \"#46039f\"], [0.2222222222222222, \"#7201a8\"], [0.3333333333333333, \"#9c179e\"], [0.4444444444444444, \"#bd3786\"], [0.5555555555555556, \"#d8576b\"], [0.6666666666666666, \"#ed7953\"], [0.7777777777777778, \"#fb9f3a\"], [0.8888888888888888, \"#fdca26\"], [1.0, \"#f0f921\"]], \"type\": \"heatmapgl\"}], \"histogram\": [{\"marker\": {\"colorbar\": {\"outlinewidth\": 0, \"ticks\": \"\"}}, \"type\": \"histogram\"}], \"histogram2d\": [{\"colorbar\": {\"outlinewidth\": 0, \"ticks\": \"\"}, \"colorscale\": [[0.0, \"#0d0887\"], [0.1111111111111111, \"#46039f\"], [0.2222222222222222, \"#7201a8\"], [0.3333333333333333, \"#9c179e\"], [0.4444444444444444, \"#bd3786\"], [0.5555555555555556, \"#d8576b\"], [0.6666666666666666, \"#ed7953\"], [0.7777777777777778, \"#fb9f3a\"], [0.8888888888888888, \"#fdca26\"], [1.0, \"#f0f921\"]], \"type\": \"histogram2d\"}], \"histogram2dcontour\": [{\"colorbar\": {\"outlinewidth\": 0, \"ticks\": \"\"}, \"colorscale\": [[0.0, \"#0d0887\"], [0.1111111111111111, \"#46039f\"], [0.2222222222222222, \"#7201a8\"], [0.3333333333333333, \"#9c179e\"], [0.4444444444444444, \"#bd3786\"], [0.5555555555555556, \"#d8576b\"], [0.6666666666666666, \"#ed7953\"], [0.7777777777777778, \"#fb9f3a\"], [0.8888888888888888, \"#fdca26\"], [1.0, \"#f0f921\"]], \"type\": \"histogram2dcontour\"}], \"mesh3d\": [{\"colorbar\": {\"outlinewidth\": 0, \"ticks\": \"\"}, \"type\": \"mesh3d\"}], \"parcoords\": [{\"line\": {\"colorbar\": {\"outlinewidth\": 0, \"ticks\": \"\"}}, \"type\": \"parcoords\"}], \"pie\": [{\"automargin\": true, \"type\": \"pie\"}], \"scatter\": [{\"marker\": {\"colorbar\": {\"outlinewidth\": 0, \"ticks\": \"\"}}, \"type\": \"scatter\"}], \"scatter3d\": [{\"line\": {\"colorbar\": {\"outlinewidth\": 0, \"ticks\": \"\"}}, \"marker\": {\"colorbar\": {\"outlinewidth\": 0, \"ticks\": \"\"}}, \"type\": \"scatter3d\"}], \"scattercarpet\": [{\"marker\": {\"colorbar\": {\"outlinewidth\": 0, \"ticks\": \"\"}}, \"type\": \"scattercarpet\"}], \"scattergeo\": [{\"marker\": {\"colorbar\": {\"outlinewidth\": 0, \"ticks\": \"\"}}, \"type\": \"scattergeo\"}], \"scattergl\": [{\"marker\": {\"colorbar\": {\"outlinewidth\": 0, \"ticks\": \"\"}}, \"type\": \"scattergl\"}], \"scattermapbox\": [{\"marker\": {\"colorbar\": {\"outlinewidth\": 0, \"ticks\": \"\"}}, \"type\": \"scattermapbox\"}], \"scatterpolar\": [{\"marker\": {\"colorbar\": {\"outlinewidth\": 0, \"ticks\": \"\"}}, \"type\": \"scatterpolar\"}], \"scatterpolargl\": [{\"marker\": {\"colorbar\": {\"outlinewidth\": 0, \"ticks\": \"\"}}, \"type\": \"scatterpolargl\"}], \"scatterternary\": [{\"marker\": {\"colorbar\": {\"outlinewidth\": 0, \"ticks\": \"\"}}, \"type\": \"scatterternary\"}], \"surface\": [{\"colorbar\": {\"outlinewidth\": 0, \"ticks\": \"\"}, \"colorscale\": [[0.0, \"#0d0887\"], [0.1111111111111111, \"#46039f\"], [0.2222222222222222, \"#7201a8\"], [0.3333333333333333, \"#9c179e\"], [0.4444444444444444, \"#bd3786\"], [0.5555555555555556, \"#d8576b\"], [0.6666666666666666, \"#ed7953\"], [0.7777777777777778, \"#fb9f3a\"], [0.8888888888888888, \"#fdca26\"], [1.0, \"#f0f921\"]], \"type\": \"surface\"}], \"table\": [{\"cells\": {\"fill\": {\"color\": \"#EBF0F8\"}, \"line\": {\"color\": \"white\"}}, \"header\": {\"fill\": {\"color\": \"#C8D4E3\"}, \"line\": {\"color\": \"white\"}}, \"type\": \"table\"}]}, \"layout\": {\"annotationdefaults\": {\"arrowcolor\": \"#2a3f5f\", \"arrowhead\": 0, \"arrowwidth\": 1}, \"coloraxis\": {\"colorbar\": {\"outlinewidth\": 0, \"ticks\": \"\"}}, \"colorscale\": {\"diverging\": [[0, \"#8e0152\"], [0.1, \"#c51b7d\"], [0.2, \"#de77ae\"], [0.3, \"#f1b6da\"], [0.4, \"#fde0ef\"], [0.5, \"#f7f7f7\"], [0.6, \"#e6f5d0\"], [0.7, \"#b8e186\"], [0.8, \"#7fbc41\"], [0.9, \"#4d9221\"], [1, \"#276419\"]], \"sequential\": [[0.0, \"#0d0887\"], [0.1111111111111111, \"#46039f\"], [0.2222222222222222, \"#7201a8\"], [0.3333333333333333, \"#9c179e\"], [0.4444444444444444, \"#bd3786\"], [0.5555555555555556, \"#d8576b\"], [0.6666666666666666, \"#ed7953\"], [0.7777777777777778, \"#fb9f3a\"], [0.8888888888888888, \"#fdca26\"], [1.0, \"#f0f921\"]], \"sequentialminus\": [[0.0, \"#0d0887\"], [0.1111111111111111, \"#46039f\"], [0.2222222222222222, \"#7201a8\"], [0.3333333333333333, \"#9c179e\"], [0.4444444444444444, \"#bd3786\"], [0.5555555555555556, \"#d8576b\"], [0.6666666666666666, \"#ed7953\"], [0.7777777777777778, \"#fb9f3a\"], [0.8888888888888888, \"#fdca26\"], [1.0, \"#f0f921\"]]}, \"colorway\": [\"#636efa\", \"#EF553B\", \"#00cc96\", \"#ab63fa\", \"#FFA15A\", \"#19d3f3\", \"#FF6692\", \"#B6E880\", \"#FF97FF\", \"#FECB52\"], \"font\": {\"color\": \"#2a3f5f\"}, \"geo\": {\"bgcolor\": \"white\", \"lakecolor\": \"white\", \"landcolor\": \"#E5ECF6\", \"showlakes\": true, \"showland\": true, \"subunitcolor\": \"white\"}, \"hoverlabel\": {\"align\": \"left\"}, \"hovermode\": \"closest\", \"mapbox\": {\"style\": \"light\"}, \"paper_bgcolor\": \"white\", \"plot_bgcolor\": \"#E5ECF6\", \"polar\": {\"angularaxis\": {\"gridcolor\": \"white\", \"linecolor\": \"white\", \"ticks\": \"\"}, \"bgcolor\": \"#E5ECF6\", \"radialaxis\": {\"gridcolor\": \"white\", \"linecolor\": \"white\", \"ticks\": \"\"}}, \"scene\": {\"xaxis\": {\"backgroundcolor\": \"#E5ECF6\", \"gridcolor\": \"white\", \"gridwidth\": 2, \"linecolor\": \"white\", \"showbackground\": true, \"ticks\": \"\", \"zerolinecolor\": \"white\"}, \"yaxis\": {\"backgroundcolor\": \"#E5ECF6\", \"gridcolor\": \"white\", \"gridwidth\": 2, \"linecolor\": \"white\", \"showbackground\": true, \"ticks\": \"\", \"zerolinecolor\": \"white\"}, \"zaxis\": {\"backgroundcolor\": \"#E5ECF6\", \"gridcolor\": \"white\", \"gridwidth\": 2, \"linecolor\": \"white\", \"showbackground\": true, \"ticks\": \"\", \"zerolinecolor\": \"white\"}}, \"shapedefaults\": {\"line\": {\"color\": \"#2a3f5f\"}}, \"ternary\": {\"aaxis\": {\"gridcolor\": \"white\", \"linecolor\": \"white\", \"ticks\": \"\"}, \"baxis\": {\"gridcolor\": \"white\", \"linecolor\": \"white\", \"ticks\": \"\"}, \"bgcolor\": \"#E5ECF6\", \"caxis\": {\"gridcolor\": \"white\", \"linecolor\": \"white\", \"ticks\": \"\"}}, \"title\": {\"x\": 0.05}, \"xaxis\": {\"automargin\": true, \"gridcolor\": \"white\", \"linecolor\": \"white\", \"ticks\": \"\", \"title\": {\"standoff\": 15}, \"zerolinecolor\": \"white\", \"zerolinewidth\": 2}, \"yaxis\": {\"automargin\": true, \"gridcolor\": \"white\", \"linecolor\": \"white\", \"ticks\": \"\", \"title\": {\"standoff\": 15}, \"zerolinecolor\": \"white\", \"zerolinewidth\": 2}}}, \"title\": {\"text\": \"Test score per port \"}},\n",
              "                        {\"responsive\": true}\n",
              "                    ).then(function(){\n",
              "                            \n",
              "var gd = document.getElementById('126b9124-3fc2-4d3d-9ac2-2ab57fcf5ed8');\n",
              "var x = new MutationObserver(function (mutations, observer) {{\n",
              "        var display = window.getComputedStyle(gd).display;\n",
              "        if (!display || display === 'none') {{\n",
              "            console.log([gd, 'removed!']);\n",
              "            Plotly.purge(gd);\n",
              "            observer.disconnect();\n",
              "        }}\n",
              "}});\n",
              "\n",
              "// Listen for the removal of the full notebook cells\n",
              "var notebookContainer = gd.closest('#notebook-container');\n",
              "if (notebookContainer) {{\n",
              "    x.observe(notebookContainer, {childList: true});\n",
              "}}\n",
              "\n",
              "// Listen for the clearing of the current output cell\n",
              "var outputEl = gd.closest('.output');\n",
              "if (outputEl) {{\n",
              "    x.observe(outputEl, {childList: true});\n",
              "}}\n",
              "\n",
              "                        })\n",
              "                };\n",
              "                });\n",
              "            </script>\n",
              "        </div>"
            ]
          },
          "metadata": {}
        }
      ],
      "execution_count": 36,
      "metadata": {}
    },
    {
      "cell_type": "markdown",
      "source": [
        "The ports that are represented with white boxes have the highest test scores. So, our model is really performant for predicting the value intervals on these ports. "
      ],
      "metadata": {}
    },
    {
      "cell_type": "markdown",
      "source": [
        "# Linear Regression"
      ],
      "metadata": {}
    },
    {
      "cell_type": "markdown",
      "source": [
        "In the logistic regression, we've tried to predict categories of intervals. With the linear regression, we will try to predict the exact value.\n",
        "\n",
        "So, here, we create a linear regression with the logValue of y. "
      ],
      "metadata": {}
    },
    {
      "cell_type": "code",
      "source": [
        "y = np.log(nozero['Value'])"
      ],
      "outputs": [],
      "execution_count": 37,
      "metadata": {}
    },
    {
      "cell_type": "code",
      "source": [
        "y.head()"
      ],
      "outputs": [
        {
          "output_type": "execute_result",
          "execution_count": 38,
          "data": {
            "text/plain": [
              "0    9.876065\n",
              "1    0.693147\n",
              "2    4.143135\n",
              "3    8.907206\n",
              "4    4.770685\n",
              "Name: Value, dtype: float64"
            ]
          },
          "metadata": {}
        }
      ],
      "execution_count": 38,
      "metadata": {
        "inputHidden": false,
        "outputHidden": false
      }
    },
    {
      "cell_type": "code",
      "source": [
        "y.hist()"
      ],
      "outputs": [
        {
          "output_type": "execute_result",
          "execution_count": 39,
          "data": {
            "text/plain": [
              "<matplotlib.axes._subplots.AxesSubplot at 0x1a33a00e48>"
            ]
          },
          "metadata": {}
        },
        {
          "output_type": "display_data",
          "data": {
            "text/plain": [
              "<Figure size 432x288 with 1 Axes>"
            ],
            "image/png": "[encoded data removed]"
          },
          "metadata": {
            "needs_background": "light"
          }
        }
      ],
      "execution_count": 39,
      "metadata": {
        "scrolled": true
      }
    },
    {
      "cell_type": "code",
      "source": [
        "def linear(X,y):\n",
        "    X_train, X_test, y_train, y_test = train_test_split(X, y, test_size=0.2, random_state=42)\n",
        "    iowa_model = LinearRegression()\n",
        "    iowa_model.fit(X_train,y_train)\n",
        "    test_score = iowa_model.score(X_test, y_test)\n",
        "    train_score = iowa_model.score(X_train,y_train)\n",
        "    #print(\"train_score :\",train_score,\"test_score =\",test_score)\n",
        "    return test_score\n",
        "    \n",
        "def linearRegression(f):\n",
        "    one_hot = OneHotEncoder(categories=\"auto\")\n",
        "    categoricals = []\n",
        "    features = f.copy()\n",
        "    for feature in f:\n",
        "        if feature in ['Measure','State','Border']:\n",
        "            categoricals.append(feature)\n",
        "            features.remove(feature)\n",
        "    cat_to_onehot = one_hot.fit_transform(nozero[categoricals]).toarray()\n",
        "    cat_to_onehot = pd.DataFrame(cat_to_onehot)\n",
        "    X = pd.concat((nozero[features].reset_index(drop=True),cat_to_onehot.reset_index(drop=True)),axis=1)\n",
        "    \n",
        "    return linear(X,y)"
      ],
      "outputs": [],
      "execution_count": 64,
      "metadata": {}
    },
    {
      "cell_type": "markdown",
      "source": [
        "We want now to see which combination of features shows the best results. "
      ],
      "metadata": {}
    },
    {
      "cell_type": "code",
      "source": [
        "f = ['Measure','Port Code','State','latitude','longitude','Border','Year','Month']\n",
        "def computelinReg(f):\n",
        "    listcomb = []\n",
        "    Regrtestsore = {}\n",
        "    for i in range(len(f)+1):\n",
        "        for combination in itertools.combinations(f, i): \n",
        "            listcomb.append(combination)\n",
        "    \n",
        "    listcomb.pop(0)\n",
        "    for i in range(len(listcomb)):\n",
        "        Regrtestsore.update({listcomb[i]: linearRegression(list(listcomb[i]))})\n",
        "        #print(listcomb[i])\n",
        "    \n",
        "    key_max = max(Regrtestsore, key=Regrtestsore.get)\n",
        "    print(key_max, Regrtestsore[key_max])\n",
        "    \n",
        "    return key_max\n",
        "                            \n",
        "        "
      ],
      "outputs": [],
      "execution_count": 65,
      "metadata": {
        "inputHidden": false,
        "outputHidden": false
      }
    },
    {
      "cell_type": "code",
      "source": [
        "computelinReg(f)"
      ],
      "outputs": [
        {
          "output_type": "stream",
          "name": "stdout",
          "text": [
            "('Measure', 'Port Code', 'State', 'latitude', 'longitude', 'Border', 'Year') 0.6240081257053474\n"
          ]
        },
        {
          "output_type": "execute_result",
          "execution_count": 66,
          "data": {
            "text/plain": [
              "('Measure', 'Port Code', 'State', 'latitude', 'longitude', 'Border', 'Year')"
            ]
          },
          "metadata": {}
        }
      ],
      "execution_count": 66,
      "metadata": {
        "inputHidden": false,
        "outputHidden": false
      }
    },
    {
      "cell_type": "markdown",
      "source": [
        "We can see that the best predicting features are slightly different than in the logistic regression.\n",
        "\n",
        "BEFORE: \n",
        "\n",
        "The best combination of parameters was 'Measure', 'Port Code', 'State', 'latitude', 'longitude', 'Border' for a test score of 0.53. \n",
        "\n",
        "NOW:\n",
        "\n",
        "The best combination of parameters is 'Measure', 'Port Code', 'State', 'latitude', 'longitude', 'Border', 'Year' for a test score of 0.624.\n",
        "\n",
        "If we print all possible combinations, we can see that the previous best combination in logistic regression has here in linear regression a test score of 0.622.\n"
      ],
      "metadata": {}
    },
    {
      "cell_type": "markdown",
      "source": [
        "Because the logistic regression is more performant at predicting categorical dependant variables like yes or no, here, our linear regression shows better results in comparison with our logistic regression."
      ],
      "metadata": {}
    },
    {
      "cell_type": "markdown",
      "source": [
        "# Decision Tree\n",
        "\n",
        "We will now try to do a decision tree in order to compare it later with a random forest. "
      ],
      "metadata": {}
    },
    {
      "cell_type": "markdown",
      "source": [
        "A little quick reminder on why we use the nozero dataframe:\n",
        "\n",
        "- Total number of observations in the persons dataframe: 116131\n",
        "\n",
        "- Total number of observations in the persons dataframe whithout the ports containing less than 1100 values: 10147 et 9 ports\n",
        "\n",
        "- Total number of observations in the persons dataframe whithout half of the observations in the first interval: 86870 \n",
        "\n",
        "- Total number of observations in the nozero dataframe: 75624\n",
        "\n",
        "So, to find a good compromise between the number of observations and the interpretation possibilities, we decided to focus on the nozero database.\n"
      ],
      "metadata": {}
    },
    {
      "cell_type": "code",
      "source": [
        "nozero['quant'] = pd.qcut(nozero['Value'],q = 5, duplicates = 'drop')\n",
        "print(\"intervalls for y:\")\n",
        "print(nozero['quant'].value_counts())\n",
        "print()\n",
        "le = LabelEncoder()\n",
        "nozero['y'] = le.fit_transform(nozero[\"quant\"])"
      ],
      "outputs": [
        {
          "output_type": "stream",
          "name": "stdout",
          "text": [
            "intervalls for y:\n",
            "(0.999, 103.0]          15151\n",
            "(57873.4, 4447374.0]    15125\n",
            "(6087.8, 57873.4]       15125\n",
            "(948.0, 6087.8]         15118\n",
            "(103.0, 948.0]          15105\n",
            "Name: quant, dtype: int64\n",
            "\n"
          ]
        }
      ],
      "execution_count": 223,
      "metadata": {
        "collapsed": false,
        "outputHidden": false,
        "inputHidden": false
      }
    },
    {
      "cell_type": "code",
      "source": [
        "nozero.reset_index().head()"
      ],
      "outputs": [
        {
          "output_type": "execute_result",
          "execution_count": 224,
          "data": {
            "text/plain": [
              "   index Port Name      State  Port Code            Border        Date  \\\n",
              "0      0   Warroad  Minnesota       3423  US-Canada Border  2019-06-01   \n",
              "1      1   Warroad  Minnesota       3423  US-Canada Border  2019-06-01   \n",
              "2      2   Warroad  Minnesota       3423  US-Canada Border  2019-06-01   \n",
              "3      3    Roseau  Minnesota       3426  US-Canada Border  2019-06-01   \n",
              "4      4    Roseau  Minnesota       3426  US-Canada Border  2019-06-01   \n",
              "\n",
              "                       Measure  Value  Year  Month                   position  \\\n",
              "0  Personal Vehicle Passengers  19459  2019      6    (48.905266, -95.314404)   \n",
              "1                  Pedestrians      2  2019      6    (48.905266, -95.314404)   \n",
              "2               Bus Passengers     63  2019      6    (48.905266, -95.314404)   \n",
              "3  Personal Vehicle Passengers   7385  2019      6  (48.7710371, -95.7697882)   \n",
              "4               Bus Passengers    118  2019      6  (48.7710371, -95.7697882)   \n",
              "\n",
              "     latitude    longitude              quant  y  \n",
              "0   48.905266   -95.314404  (6087.8, 57873.4]  3  \n",
              "1   48.905266   -95.314404     (0.999, 103.0]  0  \n",
              "2   48.905266   -95.314404     (0.999, 103.0]  0  \n",
              "3  48.7710371  -95.7697882  (6087.8, 57873.4]  3  \n",
              "4  48.7710371  -95.7697882     (103.0, 948.0]  1  "
            ],
            "text/html": [
              "<div>\n",
              "<style scoped>\n",
              "    .dataframe tbody tr th:only-of-type {\n",
              "        vertical-align: middle;\n",
              "    }\n",
              "\n",
              "    .dataframe tbody tr th {\n",
              "        vertical-align: top;\n",
              "    }\n",
              "\n",
              "    .dataframe thead th {\n",
              "        text-align: right;\n",
              "    }\n",
              "</style>\n",
              "<table border=\"1\" class=\"dataframe\">\n",
              "  <thead>\n",
              "    <tr style=\"text-align: right;\">\n",
              "      <th></th>\n",
              "      <th>index</th>\n",
              "      <th>Port Name</th>\n",
              "      <th>State</th>\n",
              "      <th>Port Code</th>\n",
              "      <th>Border</th>\n",
              "      <th>Date</th>\n",
              "      <th>Measure</th>\n",
              "      <th>Value</th>\n",
              "      <th>Year</th>\n",
              "      <th>Month</th>\n",
              "      <th>position</th>\n",
              "      <th>latitude</th>\n",
              "      <th>longitude</th>\n",
              "      <th>quant</th>\n",
              "      <th>y</th>\n",
              "    </tr>\n",
              "  </thead>\n",
              "  <tbody>\n",
              "    <tr>\n",
              "      <th>0</th>\n",
              "      <td>0</td>\n",
              "      <td>Warroad</td>\n",
              "      <td>Minnesota</td>\n",
              "      <td>3423</td>\n",
              "      <td>US-Canada Border</td>\n",
              "      <td>2019-06-01</td>\n",
              "      <td>Personal Vehicle Passengers</td>\n",
              "      <td>19459</td>\n",
              "      <td>2019</td>\n",
              "      <td>6</td>\n",
              "      <td>(48.905266, -95.314404)</td>\n",
              "      <td>48.905266</td>\n",
              "      <td>-95.314404</td>\n",
              "      <td>(6087.8, 57873.4]</td>\n",
              "      <td>3</td>\n",
              "    </tr>\n",
              "    <tr>\n",
              "      <th>1</th>\n",
              "      <td>1</td>\n",
              "      <td>Warroad</td>\n",
              "      <td>Minnesota</td>\n",
              "      <td>3423</td>\n",
              "      <td>US-Canada Border</td>\n",
              "      <td>2019-06-01</td>\n",
              "      <td>Pedestrians</td>\n",
              "      <td>2</td>\n",
              "      <td>2019</td>\n",
              "      <td>6</td>\n",
              "      <td>(48.905266, -95.314404)</td>\n",
              "      <td>48.905266</td>\n",
              "      <td>-95.314404</td>\n",
              "      <td>(0.999, 103.0]</td>\n",
              "      <td>0</td>\n",
              "    </tr>\n",
              "    <tr>\n",
              "      <th>2</th>\n",
              "      <td>2</td>\n",
              "      <td>Warroad</td>\n",
              "      <td>Minnesota</td>\n",
              "      <td>3423</td>\n",
              "      <td>US-Canada Border</td>\n",
              "      <td>2019-06-01</td>\n",
              "      <td>Bus Passengers</td>\n",
              "      <td>63</td>\n",
              "      <td>2019</td>\n",
              "      <td>6</td>\n",
              "      <td>(48.905266, -95.314404)</td>\n",
              "      <td>48.905266</td>\n",
              "      <td>-95.314404</td>\n",
              "      <td>(0.999, 103.0]</td>\n",
              "      <td>0</td>\n",
              "    </tr>\n",
              "    <tr>\n",
              "      <th>3</th>\n",
              "      <td>3</td>\n",
              "      <td>Roseau</td>\n",
              "      <td>Minnesota</td>\n",
              "      <td>3426</td>\n",
              "      <td>US-Canada Border</td>\n",
              "      <td>2019-06-01</td>\n",
              "      <td>Personal Vehicle Passengers</td>\n",
              "      <td>7385</td>\n",
              "      <td>2019</td>\n",
              "      <td>6</td>\n",
              "      <td>(48.7710371, -95.7697882)</td>\n",
              "      <td>48.7710371</td>\n",
              "      <td>-95.7697882</td>\n",
              "      <td>(6087.8, 57873.4]</td>\n",
              "      <td>3</td>\n",
              "    </tr>\n",
              "    <tr>\n",
              "      <th>4</th>\n",
              "      <td>4</td>\n",
              "      <td>Roseau</td>\n",
              "      <td>Minnesota</td>\n",
              "      <td>3426</td>\n",
              "      <td>US-Canada Border</td>\n",
              "      <td>2019-06-01</td>\n",
              "      <td>Bus Passengers</td>\n",
              "      <td>118</td>\n",
              "      <td>2019</td>\n",
              "      <td>6</td>\n",
              "      <td>(48.7710371, -95.7697882)</td>\n",
              "      <td>48.7710371</td>\n",
              "      <td>-95.7697882</td>\n",
              "      <td>(103.0, 948.0]</td>\n",
              "      <td>1</td>\n",
              "    </tr>\n",
              "  </tbody>\n",
              "</table>\n",
              "</div>"
            ]
          },
          "metadata": {}
        }
      ],
      "execution_count": 224,
      "metadata": {
        "collapsed": false,
        "outputHidden": false,
        "inputHidden": false
      }
    },
    {
      "cell_type": "code",
      "source": [
        "X = nozero[[\"Year\",\"Month\", \"Port Code\"]]\n",
        "y = nozero[\"y\"]"
      ],
      "outputs": [],
      "execution_count": 225,
      "metadata": {}
    },
    {
      "cell_type": "code",
      "source": [
        "# one-hot encoding for Border\n",
        "one_hot = OneHotEncoder(categories=\"auto\")\n",
        "cat_to_onehot = one_hot.fit_transform(nozero[[\"Border\"]]).toarray()\n",
        "cat_to_onehot = pd.DataFrame(cat_to_onehot)\n",
        "cat_to_onehot.shape\n",
        "cat_to_onehot = cat_to_onehot.rename(columns={0: \"Canada Border\", 1: \"Mexico Border\"})"
      ],
      "outputs": [],
      "execution_count": 226,
      "metadata": {}
    },
    {
      "cell_type": "code",
      "source": [
        "# one-hot encoding for Measure\n",
        "one_hot1 = OneHotEncoder(categories=\"auto\")\n",
        "cat_to_onehot1 = one_hot1.fit_transform(nozero[[\"Measure\"]]).toarray()\n",
        "cat_to_onehot1 = pd.DataFrame(cat_to_onehot1)\n",
        "cat_to_onehot1.shape\n",
        "cat_to_onehot1 = cat_to_onehot1.rename(columns={0: \"Bus Passengers\", 1: \"Pedestrians\",2: \"Personal Vehicle Passengers\", 3: \"Train Passengers\"})"
      ],
      "outputs": [],
      "execution_count": 227,
      "metadata": {}
    },
    {
      "cell_type": "code",
      "source": [
        "# one-hot encoding for State\n",
        "one_hot2 = OneHotEncoder(categories=\"auto\")\n",
        "cat_to_onehot2 = one_hot2.fit_transform(nozero[[\"State\"]]).toarray()\n",
        "cat_to_onehot2 = pd.DataFrame(cat_to_onehot2)\n",
        "cat_to_onehot2.shape\n",
        "# cat_to_onehot2 = cat_to_onehot2.rename(columns={0:\"Alaska\", 1:\"Arizona\",2: \"California\",3:\"Idaho\", 4: \"Maine\", 5: \"Michigan\", 6:\"Minnesota\", 7: \"Montana\", 8: \"New Mexico\", 9: \"New York\",10: \"North Dakota\", 11: \"Texas\", 12: \"Vermont\", 13: \"Washington\"})"
      ],
      "outputs": [
        {
          "output_type": "execute_result",
          "execution_count": 228,
          "data": {
            "text/plain": [
              "(75624, 14)"
            ]
          },
          "metadata": {}
        }
      ],
      "execution_count": 228,
      "metadata": {}
    },
    {
      "cell_type": "code",
      "source": [
        "OH_list = [X.reset_index(drop=True),cat_to_onehot.reset_index(drop=True),cat_to_onehot1.reset_index(drop=True), cat_to_onehot2.reset_index(drop=True)]"
      ],
      "outputs": [],
      "execution_count": 229,
      "metadata": {}
    },
    {
      "cell_type": "code",
      "source": [
        "X = pd.concat((OH_list), axis=1, join='inner')\n",
        "\n",
        "X.shape"
      ],
      "outputs": [
        {
          "output_type": "execute_result",
          "execution_count": 230,
          "data": {
            "text/plain": [
              "(75624, 23)"
            ]
          },
          "metadata": {}
        }
      ],
      "execution_count": 230,
      "metadata": {}
    },
    {
      "cell_type": "code",
      "source": [
        "from sklearn.model_selection import train_test_split\n",
        "X_train, X_test, y_train, y_test = train_test_split(X, y, test_size=0.2, random_state=72)"
      ],
      "outputs": [],
      "execution_count": 231,
      "metadata": {}
    },
    {
      "cell_type": "code",
      "source": [
        "clf = DecisionTreeClassifier(criterion='entropy')"
      ],
      "outputs": [],
      "execution_count": 232,
      "metadata": {}
    },
    {
      "cell_type": "code",
      "source": [
        "clf.fit(X_train, y_train)"
      ],
      "outputs": [
        {
          "output_type": "execute_result",
          "execution_count": 233,
          "data": {
            "text/plain": [
              "DecisionTreeClassifier(class_weight=None, criterion='entropy', max_depth=None,\n",
              "                       max_features=None, max_leaf_nodes=None,\n",
              "                       min_impurity_decrease=0.0, min_impurity_split=None,\n",
              "                       min_samples_leaf=1, min_samples_split=2,\n",
              "                       min_weight_fraction_leaf=0.0, presort=False,\n",
              "                       random_state=None, splitter='best')"
            ]
          },
          "metadata": {}
        }
      ],
      "execution_count": 233,
      "metadata": {}
    },
    {
      "cell_type": "code",
      "source": [
        "# test accuracy\n",
        "clf.score(X_test,y_test)"
      ],
      "outputs": [
        {
          "output_type": "execute_result",
          "execution_count": 234,
          "data": {
            "text/plain": [
              "0.9041983471074381"
            ]
          },
          "metadata": {}
        }
      ],
      "execution_count": 234,
      "metadata": {}
    },
    {
      "cell_type": "markdown",
      "source": [
        "With a decision tree, we managed to find a better test score than in the logistic or linear regression. This could come from certain features having a way bigger importance in the prediction and the decision tree will start by these features to split the data more effectivly leading to better prediction overall."
      ],
      "metadata": {}
    },
    {
      "cell_type": "code",
      "source": [
        "# depth of the decision tree\n",
        "clf.get_depth()"
      ],
      "outputs": [
        {
          "output_type": "execute_result",
          "execution_count": 235,
          "data": {
            "text/plain": [
              "30"
            ]
          },
          "metadata": {}
        }
      ],
      "execution_count": 235,
      "metadata": {}
    },
    {
      "cell_type": "code",
      "source": [
        "# tuning depth of the tree\n",
        "scores = []\n",
        "for d in range(1, 21):\n",
        "    clf = DecisionTreeClassifier(criterion='entropy', max_depth=d)\n",
        "    clf.fit(X_train, y_train)\n",
        "    scores.append(clf.score(X_test, y_test))"
      ],
      "outputs": [],
      "execution_count": 236,
      "metadata": {}
    },
    {
      "cell_type": "code",
      "source": [
        "plt.plot(scores)\n",
        "plt.ylabel('accuracy', fontsize=15)\n",
        "plt.xlabel('depth', fontsize=15)"
      ],
      "outputs": [
        {
          "output_type": "execute_result",
          "execution_count": 237,
          "data": {
            "text/plain": [
              "Text(0.5, 0, 'depth')"
            ]
          },
          "metadata": {}
        },
        {
          "output_type": "display_data",
          "data": {
            "text/plain": [
              "<Figure size 432x288 with 1 Axes>"
            ],
            "image/png": "[encoded data removed]"
          },
          "metadata": {
            "needs_background": "light"
          }
        }
      ],
      "execution_count": 237,
      "metadata": {}
    },
    {
      "cell_type": "markdown",
      "source": [
        "As expected the deeper the decision tree is, the more accurate it will be. But on the other hand, it might be more prone to overfit the data as we will see with the random forest.  "
      ],
      "metadata": {}
    },
    {
      "cell_type": "code",
      "source": [
        "# best depth\n",
        "np.argmax(scores)"
      ],
      "outputs": [
        {
          "output_type": "execute_result",
          "execution_count": 238,
          "data": {
            "text/plain": [
              "17"
            ]
          },
          "metadata": {}
        }
      ],
      "execution_count": 238,
      "metadata": {}
    },
    {
      "cell_type": "markdown",
      "source": [
        "### Features' importance"
      ],
      "metadata": {}
    },
    {
      "cell_type": "code",
      "source": [
        "# feature importances for best classifier\n",
        "clf = DecisionTreeClassifier(criterion='entropy', max_depth=4)\n",
        "clf.fit(X_train, y_train)\n",
        "clf.feature_importances_\n",
        "sorted(zip(X_train.columns, clf.feature_importances_), key=lambda x: x[1], reverse=True)"
      ],
      "outputs": [
        {
          "output_type": "execute_result",
          "execution_count": 239,
          "data": {
            "text/plain": [
              "[('Port Code', 0.3749024727355527),\n",
              " ('Personal Vehicle Passengers', 0.33102827176972716),\n",
              " ('Mexico Border', 0.1673436317537384),\n",
              " ('Pedestrians', 0.0610157283675087),\n",
              " ('Bus Passengers', 0.032515370918425074),\n",
              " ('Train Passengers', 0.02517893409591569),\n",
              " (6, 0.00801559035913217),\n",
              " ('Year', 0.0),\n",
              " ('Month', 0.0),\n",
              " ('Canada Border', 0.0),\n",
              " (0, 0.0),\n",
              " (1, 0.0),\n",
              " (2, 0.0),\n",
              " (3, 0.0),\n",
              " (4, 0.0),\n",
              " (5, 0.0),\n",
              " (7, 0.0),\n",
              " (8, 0.0),\n",
              " (9, 0.0),\n",
              " (10, 0.0),\n",
              " (11, 0.0),\n",
              " (12, 0.0),\n",
              " (13, 0.0)]"
            ]
          },
          "metadata": {}
        }
      ],
      "execution_count": 239,
      "metadata": {}
    },
    {
      "cell_type": "code",
      "source": [
        "# visualizing the decision tree\n",
        "graph = Source(export_graphviz(clf, out_file=None\n",
        "   , feature_names=X_train.columns, class_names=['0','1','2','3','4','5','6','7'] \n",
        "   , filled = True))\n",
        "display(SVG(graph.pipe(format='svg')))"
      ],
      "outputs": [
        {
          "output_type": "display_data",
          "data": {
            "text/plain": [
              "<IPython.core.display.SVG object>"
            ],
            "image/svg+xml": [
              "<svg height=\"528pt\" viewBox=\"0.00 0.00 3305.54 528.00\" width=\"3306pt\" xmlns=\"http://www.w3.org/2000/svg\" xmlns:xlink=\"http://www.w3.org/1999/xlink\">\n",
              "<g class=\"graph\" id=\"graph0\" transform=\"scale(1 1) rotate(0) translate(4 524)\">\n",
              "<title>Tree</title>\n",
              "<polygon fill=\"white\" points=\"-4,4 -4,-524 3301.54,-524 3301.54,4 -4,4\" stroke=\"transparent\"/>\n",
              "<!-- 0 -->\n",
              "<g class=\"node\" id=\"node1\">\n",
              "<title>0</title>\n",
              "<polygon fill=\"#ffffff\" points=\"1859.31,-520 1586.23,-520 1586.23,-442 1859.31,-442 1859.31,-520\" stroke=\"black\"/>\n",
              "<text font-family=\"Times,serif\" font-size=\"14.00\" text-anchor=\"middle\" x=\"1722.77\" y=\"-504.8\">Personal Vehicle Passengers &lt;= 0.5</text>\n",
              "<text font-family=\"Times,serif\" font-size=\"14.00\" text-anchor=\"middle\" x=\"1722.77\" y=\"-490.8\">entropy = 2.322</text>\n",
              "<text font-family=\"Times,serif\" font-size=\"14.00\" text-anchor=\"middle\" x=\"1722.77\" y=\"-476.8\">samples = 60499</text>\n",
              "<text font-family=\"Times,serif\" font-size=\"14.00\" text-anchor=\"middle\" x=\"1722.77\" y=\"-462.8\">value = [12225, 12001, 12076, 12143, 12054]</text>\n",
              "<text font-family=\"Times,serif\" font-size=\"14.00\" text-anchor=\"middle\" x=\"1722.77\" y=\"-448.8\">class = 0</text>\n",
              "</g>\n",
              "<!-- 1 -->\n",
              "<g class=\"node\" id=\"node2\">\n",
              "<title>1</title>\n",
              "<polygon fill=\"#fdf6f0\" points=\"1449.81,-406 1197.73,-406 1197.73,-328 1449.81,-328 1449.81,-406\" stroke=\"black\"/>\n",
              "<text font-family=\"Times,serif\" font-size=\"14.00\" text-anchor=\"middle\" x=\"1323.77\" y=\"-390.8\">Mexico Border &lt;= 0.5</text>\n",
              "<text font-family=\"Times,serif\" font-size=\"14.00\" text-anchor=\"middle\" x=\"1323.77\" y=\"-376.8\">entropy = 2.17</text>\n",
              "<text font-family=\"Times,serif\" font-size=\"14.00\" text-anchor=\"middle\" x=\"1323.77\" y=\"-362.8\">samples = 36644</text>\n",
              "<text font-family=\"Times,serif\" font-size=\"14.00\" text-anchor=\"middle\" x=\"1323.77\" y=\"-348.8\">value = [12108, 10166, 6503, 4667, 3200]</text>\n",
              "<text font-family=\"Times,serif\" font-size=\"14.00\" text-anchor=\"middle\" x=\"1323.77\" y=\"-334.8\">class = 0</text>\n",
              "</g>\n",
              "<!-- 0&#45;&gt;1 -->\n",
              "<g class=\"edge\" id=\"edge1\">\n",
              "<title>0-&gt;1</title>\n",
              "<path d=\"M1587.13,-441.93C1546.03,-430.39 1500.89,-417.72 1459.77,-406.18\" fill=\"none\" stroke=\"black\"/>\n",
              "<polygon fill=\"black\" points=\"1460.53,-402.75 1449.96,-403.42 1458.64,-409.49 1460.53,-402.75\" stroke=\"black\"/>\n",
              "<text font-family=\"Times,serif\" font-size=\"14.00\" text-anchor=\"middle\" x=\"1462.2\" y=\"-421.02\">True</text>\n",
              "</g>\n",
              "<!-- 16 -->\n",
              "<g class=\"node\" id=\"node17\">\n",
              "<title>16</title>\n",
              "<polygon fill=\"#fdeefa\" points=\"2236.29,-406 2005.24,-406 2005.24,-328 2236.29,-328 2236.29,-406\" stroke=\"black\"/>\n",
              "<text font-family=\"Times,serif\" font-size=\"14.00\" text-anchor=\"middle\" x=\"2120.77\" y=\"-390.8\">Port Code &lt;= 3009.5</text>\n",
              "<text font-family=\"Times,serif\" font-size=\"14.00\" text-anchor=\"middle\" x=\"2120.77\" y=\"-376.8\">entropy = 1.868</text>\n",
              "<text font-family=\"Times,serif\" font-size=\"14.00\" text-anchor=\"middle\" x=\"2120.77\" y=\"-362.8\">samples = 23855</text>\n",
              "<text font-family=\"Times,serif\" font-size=\"14.00\" text-anchor=\"middle\" x=\"2120.77\" y=\"-348.8\">value = [117, 1835, 5573, 7476, 8854]</text>\n",
              "<text font-family=\"Times,serif\" font-size=\"14.00\" text-anchor=\"middle\" x=\"2120.77\" y=\"-334.8\">class = 4</text>\n",
              "</g>\n",
              "<!-- 0&#45;&gt;16 -->\n",
              "<g class=\"edge\" id=\"edge16\">\n",
              "<title>0-&gt;16</title>\n",
              "<path d=\"M1858.07,-441.93C1902.48,-429.43 1951.63,-415.6 1995.29,-403.31\" fill=\"none\" stroke=\"black\"/>\n",
              "<polygon fill=\"black\" points=\"1996.42,-406.63 2005.09,-400.55 1994.52,-399.89 1996.42,-406.63\" stroke=\"black\"/>\n",
              "<text font-family=\"Times,serif\" font-size=\"14.00\" text-anchor=\"middle\" x=\"1992.87\" y=\"-418.16\">False</text>\n",
              "</g>\n",
              "<!-- 2 -->\n",
              "<g class=\"node\" id=\"node3\">\n",
              "<title>2</title>\n",
              "<polygon fill=\"#fae9dd\" points=\"801.28,-292 564.26,-292 564.26,-214 801.28,-214 801.28,-292\" stroke=\"black\"/>\n",
              "<text font-family=\"Times,serif\" font-size=\"14.00\" text-anchor=\"middle\" x=\"682.77\" y=\"-276.8\">Bus Passengers &lt;= 0.5</text>\n",
              "<text font-family=\"Times,serif\" font-size=\"14.00\" text-anchor=\"middle\" x=\"682.77\" y=\"-262.8\">entropy = 1.817</text>\n",
              "<text font-family=\"Times,serif\" font-size=\"14.00\" text-anchor=\"middle\" x=\"682.77\" y=\"-248.8\">samples = 25661</text>\n",
              "<text font-family=\"Times,serif\" font-size=\"14.00\" text-anchor=\"middle\" x=\"682.77\" y=\"-234.8\">value = [11137, 8096, 4373, 1805, 250]</text>\n",
              "<text font-family=\"Times,serif\" font-size=\"14.00\" text-anchor=\"middle\" x=\"682.77\" y=\"-220.8\">class = 0</text>\n",
              "</g>\n",
              "<!-- 1&#45;&gt;2 -->\n",
              "<g class=\"edge\" id=\"edge2\">\n",
              "<title>1-&gt;2</title>\n",
              "<path d=\"M1197.51,-343.94C1085.9,-324.44 923.82,-296.12 811.48,-276.49\" fill=\"none\" stroke=\"black\"/>\n",
              "<polygon fill=\"black\" points=\"811.9,-273.01 801.45,-274.74 810.69,-279.91 811.9,-273.01\" stroke=\"black\"/>\n",
              "</g>\n",
              "<!-- 9 -->\n",
              "<g class=\"node\" id=\"node10\">\n",
              "<title>9</title>\n",
              "<polygon fill=\"#fffdfe\" points=\"1439.31,-292 1208.23,-292 1208.23,-214 1439.31,-214 1439.31,-292\" stroke=\"black\"/>\n",
              "<text font-family=\"Times,serif\" font-size=\"14.00\" text-anchor=\"middle\" x=\"1323.77\" y=\"-276.8\">Pedestrians &lt;= 0.5</text>\n",
              "<text font-family=\"Times,serif\" font-size=\"14.00\" text-anchor=\"middle\" x=\"1323.77\" y=\"-262.8\">entropy = 2.237</text>\n",
              "<text font-family=\"Times,serif\" font-size=\"14.00\" text-anchor=\"middle\" x=\"1323.77\" y=\"-248.8\">samples = 10983</text>\n",
              "<text font-family=\"Times,serif\" font-size=\"14.00\" text-anchor=\"middle\" x=\"1323.77\" y=\"-234.8\">value = [971, 2070, 2130, 2862, 2950]</text>\n",
              "<text font-family=\"Times,serif\" font-size=\"14.00\" text-anchor=\"middle\" x=\"1323.77\" y=\"-220.8\">class = 4</text>\n",
              "</g>\n",
              "<!-- 1&#45;&gt;9 -->\n",
              "<g class=\"edge\" id=\"edge9\">\n",
              "<title>1-&gt;9</title>\n",
              "<path d=\"M1323.77,-327.77C1323.77,-319.57 1323.77,-310.8 1323.77,-302.28\" fill=\"none\" stroke=\"black\"/>\n",
              "<polygon fill=\"black\" points=\"1327.27,-302.06 1323.77,-292.06 1320.27,-302.06 1327.27,-302.06\" stroke=\"black\"/>\n",
              "</g>\n",
              "<!-- 3 -->\n",
              "<g class=\"node\" id=\"node4\">\n",
              "<title>3</title>\n",
              "<polygon fill=\"#f6d1b7\" points=\"442.31,-178 225.23,-178 225.23,-100 442.31,-100 442.31,-178\" stroke=\"black\"/>\n",
              "<text font-family=\"Times,serif\" font-size=\"14.00\" text-anchor=\"middle\" x=\"333.77\" y=\"-162.8\">Port Code &lt;= 3301.5</text>\n",
              "<text font-family=\"Times,serif\" font-size=\"14.00\" text-anchor=\"middle\" x=\"333.77\" y=\"-148.8\">entropy = 1.549</text>\n",
              "<text font-family=\"Times,serif\" font-size=\"14.00\" text-anchor=\"middle\" x=\"333.77\" y=\"-134.8\">samples = 14030</text>\n",
              "<text font-family=\"Times,serif\" font-size=\"14.00\" text-anchor=\"middle\" x=\"333.77\" y=\"-120.8\">value = [7647, 4003, 1975, 380, 25]</text>\n",
              "<text font-family=\"Times,serif\" font-size=\"14.00\" text-anchor=\"middle\" x=\"333.77\" y=\"-106.8\">class = 0</text>\n",
              "</g>\n",
              "<!-- 2&#45;&gt;3 -->\n",
              "<g class=\"edge\" id=\"edge3\">\n",
              "<title>2-&gt;3</title>\n",
              "<path d=\"M564.13,-213.93C527.94,-202.31 488.16,-189.55 452,-177.94\" fill=\"none\" stroke=\"black\"/>\n",
              "<polygon fill=\"black\" points=\"452.99,-174.58 442.4,-174.86 450.85,-181.25 452.99,-174.58\" stroke=\"black\"/>\n",
              "</g>\n",
              "<!-- 6 -->\n",
              "<g class=\"node\" id=\"node7\">\n",
              "<title>6</title>\n",
              "<polygon fill=\"#f5fdf0\" points=\"798.31,-178 567.23,-178 567.23,-100 798.31,-100 798.31,-178\" stroke=\"black\"/>\n",
              "<text font-family=\"Times,serif\" font-size=\"14.00\" text-anchor=\"middle\" x=\"682.77\" y=\"-162.8\">Port Code &lt;= 3608.5</text>\n",
              "<text font-family=\"Times,serif\" font-size=\"14.00\" text-anchor=\"middle\" x=\"682.77\" y=\"-148.8\">entropy = 2.002</text>\n",
              "<text font-family=\"Times,serif\" font-size=\"14.00\" text-anchor=\"middle\" x=\"682.77\" y=\"-134.8\">samples = 11631</text>\n",
              "<text font-family=\"Times,serif\" font-size=\"14.00\" text-anchor=\"middle\" x=\"682.77\" y=\"-120.8\">value = [3490, 4093, 2398, 1425, 225]</text>\n",
              "<text font-family=\"Times,serif\" font-size=\"14.00\" text-anchor=\"middle\" x=\"682.77\" y=\"-106.8\">class = 1</text>\n",
              "</g>\n",
              "<!-- 2&#45;&gt;6 -->\n",
              "<g class=\"edge\" id=\"edge6\">\n",
              "<title>2-&gt;6</title>\n",
              "<path d=\"M682.77,-213.77C682.77,-205.57 682.77,-196.8 682.77,-188.28\" fill=\"none\" stroke=\"black\"/>\n",
              "<polygon fill=\"black\" points=\"686.27,-188.06 682.77,-178.06 679.27,-188.06 686.27,-188.06\" stroke=\"black\"/>\n",
              "</g>\n",
              "<!-- 4 -->\n",
              "<g class=\"node\" id=\"node5\">\n",
              "<title>4</title>\n",
              "<polygon fill=\"#f0b990\" points=\"217.31,-64 0.23,-64 0.23,0 217.31,0 217.31,-64\" stroke=\"black\"/>\n",
              "<text font-family=\"Times,serif\" font-size=\"14.00\" text-anchor=\"middle\" x=\"108.77\" y=\"-48.8\">entropy = 1.477</text>\n",
              "<text font-family=\"Times,serif\" font-size=\"14.00\" text-anchor=\"middle\" x=\"108.77\" y=\"-34.8\">samples = 9461</text>\n",
              "<text font-family=\"Times,serif\" font-size=\"14.00\" text-anchor=\"middle\" x=\"108.77\" y=\"-20.8\">value = [5975, 1536, 1560, 365, 25]</text>\n",
              "<text font-family=\"Times,serif\" font-size=\"14.00\" text-anchor=\"middle\" x=\"108.77\" y=\"-6.8\">class = 0</text>\n",
              "</g>\n",
              "<!-- 3&#45;&gt;4 -->\n",
              "<g class=\"edge\" id=\"edge4\">\n",
              "<title>3-&gt;4</title>\n",
              "<path d=\"M252.22,-99.94C230.1,-89.62 206.25,-78.49 184.47,-68.33\" fill=\"none\" stroke=\"black\"/>\n",
              "<polygon fill=\"black\" points=\"185.82,-65.09 175.27,-64.04 182.85,-71.44 185.82,-65.09\" stroke=\"black\"/>\n",
              "</g>\n",
              "<!-- 5 -->\n",
              "<g class=\"node\" id=\"node6\">\n",
              "<title>5</title>\n",
              "<polygon fill=\"#dbf8c9\" points=\"431.81,-64 235.73,-64 235.73,0 431.81,0 431.81,-64\" stroke=\"black\"/>\n",
              "<text font-family=\"Times,serif\" font-size=\"14.00\" text-anchor=\"middle\" x=\"333.77\" y=\"-48.8\">entropy = 1.352</text>\n",
              "<text font-family=\"Times,serif\" font-size=\"14.00\" text-anchor=\"middle\" x=\"333.77\" y=\"-34.8\">samples = 4569</text>\n",
              "<text font-family=\"Times,serif\" font-size=\"14.00\" text-anchor=\"middle\" x=\"333.77\" y=\"-20.8\">value = [1672, 2467, 415, 15, 0]</text>\n",
              "<text font-family=\"Times,serif\" font-size=\"14.00\" text-anchor=\"middle\" x=\"333.77\" y=\"-6.8\">class = 1</text>\n",
              "</g>\n",
              "<!-- 3&#45;&gt;5 -->\n",
              "<g class=\"edge\" id=\"edge5\">\n",
              "<title>3-&gt;5</title>\n",
              "<path d=\"M333.77,-99.8C333.77,-91.46 333.77,-82.6 333.77,-74.15\" fill=\"none\" stroke=\"black\"/>\n",
              "<polygon fill=\"black\" points=\"337.27,-74.12 333.77,-64.12 330.27,-74.12 337.27,-74.12\" stroke=\"black\"/>\n",
              "</g>\n",
              "<!-- 7 -->\n",
              "<g class=\"node\" id=\"node8\">\n",
              "<title>7</title>\n",
              "<polygon fill=\"#f5fdf0\" points=\"681.31,-64 450.23,-64 450.23,0 681.31,0 681.31,-64\" stroke=\"black\"/>\n",
              "<text font-family=\"Times,serif\" font-size=\"14.00\" text-anchor=\"middle\" x=\"565.77\" y=\"-48.8\">entropy = 1.92</text>\n",
              "<text font-family=\"Times,serif\" font-size=\"14.00\" text-anchor=\"middle\" x=\"565.77\" y=\"-34.8\">samples = 10733</text>\n",
              "<text font-family=\"Times,serif\" font-size=\"14.00\" text-anchor=\"middle\" x=\"565.77\" y=\"-20.8\">value = [3490, 4054, 2000, 1043, 146]</text>\n",
              "<text font-family=\"Times,serif\" font-size=\"14.00\" text-anchor=\"middle\" x=\"565.77\" y=\"-6.8\">class = 1</text>\n",
              "</g>\n",
              "<!-- 6&#45;&gt;7 -->\n",
              "<g class=\"edge\" id=\"edge7\">\n",
              "<title>6-&gt;7</title>\n",
              "<path d=\"M640.2,-99.8C629.68,-90.36 618.42,-80.25 607.93,-70.84\" fill=\"none\" stroke=\"black\"/>\n",
              "<polygon fill=\"black\" points=\"610.22,-68.19 600.44,-64.12 605.55,-73.4 610.22,-68.19\" stroke=\"black\"/>\n",
              "</g>\n",
              "<!-- 8 -->\n",
              "<g class=\"node\" id=\"node9\">\n",
              "<title>8</title>\n",
              "<polygon fill=\"#f9fefd\" points=\"875.31,-64 700.23,-64 700.23,0 875.31,0 875.31,-64\" stroke=\"black\"/>\n",
              "<text font-family=\"Times,serif\" font-size=\"14.00\" text-anchor=\"middle\" x=\"787.77\" y=\"-48.8\">entropy = 1.55</text>\n",
              "<text font-family=\"Times,serif\" font-size=\"14.00\" text-anchor=\"middle\" x=\"787.77\" y=\"-34.8\">samples = 898</text>\n",
              "<text font-family=\"Times,serif\" font-size=\"14.00\" text-anchor=\"middle\" x=\"787.77\" y=\"-20.8\">value = [0, 39, 398, 382, 79]</text>\n",
              "<text font-family=\"Times,serif\" font-size=\"14.00\" text-anchor=\"middle\" x=\"787.77\" y=\"-6.8\">class = 2</text>\n",
              "</g>\n",
              "<!-- 6&#45;&gt;8 -->\n",
              "<g class=\"edge\" id=\"edge8\">\n",
              "<title>6-&gt;8</title>\n",
              "<path d=\"M720.97,-99.8C730.23,-90.54 740.12,-80.65 749.38,-71.38\" fill=\"none\" stroke=\"black\"/>\n",
              "<polygon fill=\"black\" points=\"752.06,-73.66 756.65,-64.12 747.11,-68.71 752.06,-73.66\" stroke=\"black\"/>\n",
              "</g>\n",
              "<!-- 10 -->\n",
              "<g class=\"node\" id=\"node11\">\n",
              "<title>10</title>\n",
              "<polygon fill=\"#edfbe4\" points=\"1316.79,-178 1092.74,-178 1092.74,-100 1316.79,-100 1316.79,-178\" stroke=\"black\"/>\n",
              "<text font-family=\"Times,serif\" font-size=\"14.00\" text-anchor=\"middle\" x=\"1204.77\" y=\"-162.8\">Train Passengers &lt;= 0.5</text>\n",
              "<text font-family=\"Times,serif\" font-size=\"14.00\" text-anchor=\"middle\" x=\"1204.77\" y=\"-148.8\">entropy = 2.152</text>\n",
              "<text font-family=\"Times,serif\" font-size=\"14.00\" text-anchor=\"middle\" x=\"1204.77\" y=\"-134.8\">samples = 5369</text>\n",
              "<text font-family=\"Times,serif\" font-size=\"14.00\" text-anchor=\"middle\" x=\"1204.77\" y=\"-120.8\">value = [845, 1813, 1254, 1147, 310]</text>\n",
              "<text font-family=\"Times,serif\" font-size=\"14.00\" text-anchor=\"middle\" x=\"1204.77\" y=\"-106.8\">class = 1</text>\n",
              "</g>\n",
              "<!-- 9&#45;&gt;10 -->\n",
              "<g class=\"edge\" id=\"edge10\">\n",
              "<title>9-&gt;10</title>\n",
              "<path d=\"M1283.15,-213.77C1273.29,-204.49 1262.65,-194.48 1252.5,-184.92\" fill=\"none\" stroke=\"black\"/>\n",
              "<polygon fill=\"black\" points=\"1254.89,-182.36 1245.21,-178.06 1250.09,-187.46 1254.89,-182.36\" stroke=\"black\"/>\n",
              "</g>\n",
              "<!-- 13 -->\n",
              "<g class=\"node\" id=\"node14\">\n",
              "<title>13</title>\n",
              "<polygon fill=\"#f9d0f0\" points=\"1552.31,-178 1335.23,-178 1335.23,-100 1552.31,-100 1552.31,-178\" stroke=\"black\"/>\n",
              "<text font-family=\"Times,serif\" font-size=\"14.00\" text-anchor=\"middle\" x=\"1443.77\" y=\"-162.8\">Port Code &lt;= 2603.5</text>\n",
              "<text font-family=\"Times,serif\" font-size=\"14.00\" text-anchor=\"middle\" x=\"1443.77\" y=\"-148.8\">entropy = 1.779</text>\n",
              "<text font-family=\"Times,serif\" font-size=\"14.00\" text-anchor=\"middle\" x=\"1443.77\" y=\"-134.8\">samples = 5614</text>\n",
              "<text font-family=\"Times,serif\" font-size=\"14.00\" text-anchor=\"middle\" x=\"1443.77\" y=\"-120.8\">value = [126, 257, 876, 1715, 2640]</text>\n",
              "<text font-family=\"Times,serif\" font-size=\"14.00\" text-anchor=\"middle\" x=\"1443.77\" y=\"-106.8\">class = 4</text>\n",
              "</g>\n",
              "<!-- 9&#45;&gt;13 -->\n",
              "<g class=\"edge\" id=\"edge13\">\n",
              "<title>9-&gt;13</title>\n",
              "<path d=\"M1364.73,-213.77C1374.67,-204.49 1385.4,-194.48 1395.64,-184.92\" fill=\"none\" stroke=\"black\"/>\n",
              "<polygon fill=\"black\" points=\"1398.07,-187.44 1402.99,-178.06 1393.29,-182.32 1398.07,-187.44\" stroke=\"black\"/>\n",
              "</g>\n",
              "<!-- 11 -->\n",
              "<g class=\"node\" id=\"node12\">\n",
              "<title>11</title>\n",
              "<polygon fill=\"#feffff\" points=\"1117.79,-64 893.74,-64 893.74,0 1117.79,0 1117.79,-64\" stroke=\"black\"/>\n",
              "<text font-family=\"Times,serif\" font-size=\"14.00\" text-anchor=\"middle\" x=\"1005.77\" y=\"-48.8\">entropy = 2.126</text>\n",
              "<text font-family=\"Times,serif\" font-size=\"14.00\" text-anchor=\"middle\" x=\"1005.77\" y=\"-34.8\">samples = 4306</text>\n",
              "<text font-family=\"Times,serif\" font-size=\"14.00\" text-anchor=\"middle\" x=\"1005.77\" y=\"-20.8\">value = [385, 1225, 1239, 1147, 310]</text>\n",
              "<text font-family=\"Times,serif\" font-size=\"14.00\" text-anchor=\"middle\" x=\"1005.77\" y=\"-6.8\">class = 2</text>\n",
              "</g>\n",
              "<!-- 10&#45;&gt;11 -->\n",
              "<g class=\"edge\" id=\"edge11\">\n",
              "<title>10-&gt;11</title>\n",
              "<path d=\"M1132.64,-99.94C1113.34,-89.76 1092.55,-78.79 1073.5,-68.74\" fill=\"none\" stroke=\"black\"/>\n",
              "<polygon fill=\"black\" points=\"1075.07,-65.61 1064.59,-64.04 1071.8,-71.8 1075.07,-65.61\" stroke=\"black\"/>\n",
              "</g>\n",
              "<!-- 12 -->\n",
              "<g class=\"node\" id=\"node13\">\n",
              "<title>12</title>\n",
              "<polygon fill=\"#e3f9d5\" points=\"1303.81,-64 1135.73,-64 1135.73,0 1303.81,0 1303.81,-64\" stroke=\"black\"/>\n",
              "<text font-family=\"Times,serif\" font-size=\"14.00\" text-anchor=\"middle\" x=\"1219.77\" y=\"-48.8\">entropy = 1.082</text>\n",
              "<text font-family=\"Times,serif\" font-size=\"14.00\" text-anchor=\"middle\" x=\"1219.77\" y=\"-34.8\">samples = 1063</text>\n",
              "<text font-family=\"Times,serif\" font-size=\"14.00\" text-anchor=\"middle\" x=\"1219.77\" y=\"-20.8\">value = [460, 588, 15, 0, 0]</text>\n",
              "<text font-family=\"Times,serif\" font-size=\"14.00\" text-anchor=\"middle\" x=\"1219.77\" y=\"-6.8\">class = 1</text>\n",
              "</g>\n",
              "<!-- 10&#45;&gt;12 -->\n",
              "<g class=\"edge\" id=\"edge12\">\n",
              "<title>10-&gt;12</title>\n",
              "<path d=\"M1210.23,-99.8C1211.42,-91.46 1212.68,-82.6 1213.89,-74.15\" fill=\"none\" stroke=\"black\"/>\n",
              "<polygon fill=\"black\" points=\"1217.37,-74.51 1215.32,-64.12 1210.44,-73.52 1217.37,-74.51\" stroke=\"black\"/>\n",
              "</g>\n",
              "<!-- 14 -->\n",
              "<g class=\"node\" id=\"node15\">\n",
              "<title>14</title>\n",
              "<polygon fill=\"#fbe2f6\" points=\"1532.81,-64 1322.73,-64 1322.73,0 1532.81,0 1532.81,-64\" stroke=\"black\"/>\n",
              "<text font-family=\"Times,serif\" font-size=\"14.00\" text-anchor=\"middle\" x=\"1427.77\" y=\"-48.8\">entropy = 1.673</text>\n",
              "<text font-family=\"Times,serif\" font-size=\"14.00\" text-anchor=\"middle\" x=\"1427.77\" y=\"-34.8\">samples = 4949</text>\n",
              "<text font-family=\"Times,serif\" font-size=\"14.00\" text-anchor=\"middle\" x=\"1427.77\" y=\"-20.8\">value = [24, 138, 876, 1715, 2196]</text>\n",
              "<text font-family=\"Times,serif\" font-size=\"14.00\" text-anchor=\"middle\" x=\"1427.77\" y=\"-6.8\">class = 4</text>\n",
              "</g>\n",
              "<!-- 13&#45;&gt;14 -->\n",
              "<g class=\"edge\" id=\"edge14\">\n",
              "<title>13-&gt;14</title>\n",
              "<path d=\"M1437.95,-99.8C1436.68,-91.46 1435.33,-82.6 1434.04,-74.15\" fill=\"none\" stroke=\"black\"/>\n",
              "<polygon fill=\"black\" points=\"1437.48,-73.48 1432.51,-64.12 1430.56,-74.53 1437.48,-73.48\" stroke=\"black\"/>\n",
              "</g>\n",
              "<!-- 15 -->\n",
              "<g class=\"node\" id=\"node16\">\n",
              "<title>15</title>\n",
              "<polygon fill=\"#f089da\" points=\"1726.29,-64 1551.24,-64 1551.24,0 1726.29,0 1726.29,-64\" stroke=\"black\"/>\n",
              "<text font-family=\"Times,serif\" font-size=\"14.00\" text-anchor=\"middle\" x=\"1638.77\" y=\"-48.8\">entropy = 1.248</text>\n",
              "<text font-family=\"Times,serif\" font-size=\"14.00\" text-anchor=\"middle\" x=\"1638.77\" y=\"-34.8\">samples = 665</text>\n",
              "<text font-family=\"Times,serif\" font-size=\"14.00\" text-anchor=\"middle\" x=\"1638.77\" y=\"-20.8\">value = [102, 119, 0, 0, 444]</text>\n",
              "<text font-family=\"Times,serif\" font-size=\"14.00\" text-anchor=\"middle\" x=\"1638.77\" y=\"-6.8\">class = 4</text>\n",
              "</g>\n",
              "<!-- 13&#45;&gt;15 -->\n",
              "<g class=\"edge\" id=\"edge15\">\n",
              "<title>13-&gt;15</title>\n",
              "<path d=\"M1514.44,-99.94C1533.27,-89.81 1553.55,-78.89 1572.15,-68.87\" fill=\"none\" stroke=\"black\"/>\n",
              "<polygon fill=\"black\" points=\"1573.99,-71.86 1581.13,-64.04 1570.67,-65.69 1573.99,-71.86\" stroke=\"black\"/>\n",
              "</g>\n",
              "<!-- 17 -->\n",
              "<g class=\"node\" id=\"node18\">\n",
              "<title>17</title>\n",
              "<polygon fill=\"#f29adf\" points=\"2218.79,-292 2022.74,-292 2022.74,-214 2218.79,-214 2218.79,-292\" stroke=\"black\"/>\n",
              "<text font-family=\"Times,serif\" font-size=\"14.00\" text-anchor=\"middle\" x=\"2120.77\" y=\"-276.8\">Port Code &lt;= 702.5</text>\n",
              "<text font-family=\"Times,serif\" font-size=\"14.00\" text-anchor=\"middle\" x=\"2120.77\" y=\"-262.8\">entropy = 1.158</text>\n",
              "<text font-family=\"Times,serif\" font-size=\"14.00\" text-anchor=\"middle\" x=\"2120.77\" y=\"-248.8\">samples = 11222</text>\n",
              "<text font-family=\"Times,serif\" font-size=\"14.00\" text-anchor=\"middle\" x=\"2120.77\" y=\"-234.8\">value = [3, 11, 593, 3291, 7324]</text>\n",
              "<text font-family=\"Times,serif\" font-size=\"14.00\" text-anchor=\"middle\" x=\"2120.77\" y=\"-220.8\">class = 4</text>\n",
              "</g>\n",
              "<!-- 16&#45;&gt;17 -->\n",
              "<g class=\"edge\" id=\"edge17\">\n",
              "<title>16-&gt;17</title>\n",
              "<path d=\"M2120.77,-327.77C2120.77,-319.57 2120.77,-310.8 2120.77,-302.28\" fill=\"none\" stroke=\"black\"/>\n",
              "<polygon fill=\"black\" points=\"2124.27,-302.06 2120.77,-292.06 2117.27,-302.06 2124.27,-302.06\" stroke=\"black\"/>\n",
              "</g>\n",
              "<!-- 24 -->\n",
              "<g class=\"node\" id=\"node25\">\n",
              "<title>24</title>\n",
              "<polygon fill=\"#ecfdfa\" points=\"2847.29,-292 2616.24,-292 2616.24,-214 2847.29,-214 2847.29,-292\" stroke=\"black\"/>\n",
              "<text font-family=\"Times,serif\" font-size=\"14.00\" text-anchor=\"middle\" x=\"2731.77\" y=\"-276.8\">Port Code &lt;= 3517.0</text>\n",
              "<text font-family=\"Times,serif\" font-size=\"14.00\" text-anchor=\"middle\" x=\"2731.77\" y=\"-262.8\">entropy = 1.891</text>\n",
              "<text font-family=\"Times,serif\" font-size=\"14.00\" text-anchor=\"middle\" x=\"2731.77\" y=\"-248.8\">samples = 12633</text>\n",
              "<text font-family=\"Times,serif\" font-size=\"14.00\" text-anchor=\"middle\" x=\"2731.77\" y=\"-234.8\">value = [114, 1824, 4980, 4185, 1530]</text>\n",
              "<text font-family=\"Times,serif\" font-size=\"14.00\" text-anchor=\"middle\" x=\"2731.77\" y=\"-220.8\">class = 2</text>\n",
              "</g>\n",
              "<!-- 16&#45;&gt;24 -->\n",
              "<g class=\"edge\" id=\"edge24\">\n",
              "<title>16-&gt;24</title>\n",
              "<path d=\"M2236.41,-344.8C2341.92,-325.46 2497.5,-296.94 2606.05,-277.04\" fill=\"none\" stroke=\"black\"/>\n",
              "<polygon fill=\"black\" points=\"2606.88,-280.45 2616.08,-275.21 2605.61,-273.57 2606.88,-280.45\" stroke=\"black\"/>\n",
              "</g>\n",
              "<!-- 18 -->\n",
              "<g class=\"node\" id=\"node19\">\n",
              "<title>18</title>\n",
              "<polygon fill=\"#9c9af2\" points=\"2111.81,-178 1929.73,-178 1929.73,-100 2111.81,-100 2111.81,-178\" stroke=\"black\"/>\n",
              "<text font-family=\"Times,serif\" font-size=\"14.00\" text-anchor=\"middle\" x=\"2020.77\" y=\"-162.8\">Port Code &lt;= 105.5</text>\n",
              "<text font-family=\"Times,serif\" font-size=\"14.00\" text-anchor=\"middle\" x=\"2020.77\" y=\"-148.8\">entropy = 1.269</text>\n",
              "<text font-family=\"Times,serif\" font-size=\"14.00\" text-anchor=\"middle\" x=\"2020.77\" y=\"-134.8\">samples = 3805</text>\n",
              "<text font-family=\"Times,serif\" font-size=\"14.00\" text-anchor=\"middle\" x=\"2020.77\" y=\"-120.8\">value = [1, 8, 371, 2428, 997]</text>\n",
              "<text font-family=\"Times,serif\" font-size=\"14.00\" text-anchor=\"middle\" x=\"2020.77\" y=\"-106.8\">class = 3</text>\n",
              "</g>\n",
              "<!-- 17&#45;&gt;18 -->\n",
              "<g class=\"edge\" id=\"edge18\">\n",
              "<title>17-&gt;18</title>\n",
              "<path d=\"M2086.63,-213.77C2078.59,-204.76 2069.93,-195.06 2061.62,-185.76\" fill=\"none\" stroke=\"black\"/>\n",
              "<polygon fill=\"black\" points=\"2064.02,-183.19 2054.75,-178.06 2058.8,-187.85 2064.02,-183.19\" stroke=\"black\"/>\n",
              "</g>\n",
              "<!-- 21 -->\n",
              "<g class=\"node\" id=\"node22\">\n",
              "<title>21</title>\n",
              "<polygon fill=\"#e95aca\" points=\"2312.81,-178 2130.73,-178 2130.73,-100 2312.81,-100 2312.81,-178\" stroke=\"black\"/>\n",
              "<text font-family=\"Times,serif\" font-size=\"14.00\" text-anchor=\"middle\" x=\"2221.77\" y=\"-162.8\">Port Code &lt;= 2605.0</text>\n",
              "<text font-family=\"Times,serif\" font-size=\"14.00\" text-anchor=\"middle\" x=\"2221.77\" y=\"-148.8\">entropy = 0.716</text>\n",
              "<text font-family=\"Times,serif\" font-size=\"14.00\" text-anchor=\"middle\" x=\"2221.77\" y=\"-134.8\">samples = 7417</text>\n",
              "<text font-family=\"Times,serif\" font-size=\"14.00\" text-anchor=\"middle\" x=\"2221.77\" y=\"-120.8\">value = [2, 3, 222, 863, 6327]</text>\n",
              "<text font-family=\"Times,serif\" font-size=\"14.00\" text-anchor=\"middle\" x=\"2221.77\" y=\"-106.8\">class = 4</text>\n",
              "</g>\n",
              "<!-- 17&#45;&gt;21 -->\n",
              "<g class=\"edge\" id=\"edge21\">\n",
              "<title>17-&gt;21</title>\n",
              "<path d=\"M2155.24,-213.77C2163.37,-204.76 2172.11,-195.06 2180.5,-185.76\" fill=\"none\" stroke=\"black\"/>\n",
              "<polygon fill=\"black\" points=\"2183.35,-187.83 2187.45,-178.06 2178.15,-183.14 2183.35,-187.83\" stroke=\"black\"/>\n",
              "</g>\n",
              "<!-- 19 -->\n",
              "<g class=\"node\" id=\"node20\">\n",
              "<title>19</title>\n",
              "<polygon fill=\"#7b79ed\" points=\"1912.81,-64 1744.73,-64 1744.73,0 1912.81,0 1912.81,-64\" stroke=\"black\"/>\n",
              "<text font-family=\"Times,serif\" font-size=\"14.00\" text-anchor=\"middle\" x=\"1828.77\" y=\"-48.8\">entropy = 1.052</text>\n",
              "<text font-family=\"Times,serif\" font-size=\"14.00\" text-anchor=\"middle\" x=\"1828.77\" y=\"-34.8\">samples = 661</text>\n",
              "<text font-family=\"Times,serif\" font-size=\"14.00\" text-anchor=\"middle\" x=\"1828.77\" y=\"-20.8\">value = [1, 5, 135, 491, 29]</text>\n",
              "<text font-family=\"Times,serif\" font-size=\"14.00\" text-anchor=\"middle\" x=\"1828.77\" y=\"-6.8\">class = 3</text>\n",
              "</g>\n",
              "<!-- 18&#45;&gt;19 -->\n",
              "<g class=\"edge\" id=\"edge19\">\n",
              "<title>18-&gt;19</title>\n",
              "<path d=\"M1951.18,-99.94C1932.64,-89.81 1912.68,-78.89 1894.36,-68.87\" fill=\"none\" stroke=\"black\"/>\n",
              "<polygon fill=\"black\" points=\"1895.97,-65.76 1885.52,-64.04 1892.61,-71.9 1895.97,-65.76\" stroke=\"black\"/>\n",
              "</g>\n",
              "<!-- 20 -->\n",
              "<g class=\"node\" id=\"node21\">\n",
              "<title>20</title>\n",
              "<polygon fill=\"#a8a7f3\" points=\"2113.81,-64 1931.73,-64 1931.73,0 2113.81,0 2113.81,-64\" stroke=\"black\"/>\n",
              "<text font-family=\"Times,serif\" font-size=\"14.00\" text-anchor=\"middle\" x=\"2022.77\" y=\"-48.8\">entropy = 1.244</text>\n",
              "<text font-family=\"Times,serif\" font-size=\"14.00\" text-anchor=\"middle\" x=\"2022.77\" y=\"-34.8\">samples = 3144</text>\n",
              "<text font-family=\"Times,serif\" font-size=\"14.00\" text-anchor=\"middle\" x=\"2022.77\" y=\"-20.8\">value = [0, 3, 236, 1937, 968]</text>\n",
              "<text font-family=\"Times,serif\" font-size=\"14.00\" text-anchor=\"middle\" x=\"2022.77\" y=\"-6.8\">class = 3</text>\n",
              "</g>\n",
              "<!-- 18&#45;&gt;20 -->\n",
              "<g class=\"edge\" id=\"edge20\">\n",
              "<title>18-&gt;20</title>\n",
              "<path d=\"M2021.5,-99.8C2021.66,-91.46 2021.82,-82.6 2021.98,-74.15\" fill=\"none\" stroke=\"black\"/>\n",
              "<polygon fill=\"black\" points=\"2025.48,-74.18 2022.18,-64.12 2018.49,-74.05 2025.48,-74.18\" stroke=\"black\"/>\n",
              "</g>\n",
              "<!-- 22 -->\n",
              "<g class=\"node\" id=\"node23\">\n",
              "<title>22</title>\n",
              "<polygon fill=\"#e851c8\" points=\"2307.31,-64 2132.23,-64 2132.23,0 2307.31,0 2307.31,-64\" stroke=\"black\"/>\n",
              "<text font-family=\"Times,serif\" font-size=\"14.00\" text-anchor=\"middle\" x=\"2219.77\" y=\"-48.8\">entropy = 0.548</text>\n",
              "<text font-family=\"Times,serif\" font-size=\"14.00\" text-anchor=\"middle\" x=\"2219.77\" y=\"-34.8\">samples = 6370</text>\n",
              "<text font-family=\"Times,serif\" font-size=\"14.00\" text-anchor=\"middle\" x=\"2219.77\" y=\"-20.8\">value = [2, 2, 55, 638, 5673]</text>\n",
              "<text font-family=\"Times,serif\" font-size=\"14.00\" text-anchor=\"middle\" x=\"2219.77\" y=\"-6.8\">class = 4</text>\n",
              "</g>\n",
              "<!-- 21&#45;&gt;22 -->\n",
              "<g class=\"edge\" id=\"edge22\">\n",
              "<title>21-&gt;22</title>\n",
              "<path d=\"M2221.04,-99.8C2220.88,-91.46 2220.71,-82.6 2220.55,-74.15\" fill=\"none\" stroke=\"black\"/>\n",
              "<polygon fill=\"black\" points=\"2224.05,-74.05 2220.36,-64.12 2217.05,-74.18 2224.05,-74.05\" stroke=\"black\"/>\n",
              "</g>\n",
              "<!-- 23 -->\n",
              "<g class=\"node\" id=\"node24\">\n",
              "<title>23</title>\n",
              "<polygon fill=\"#f198de\" points=\"2501.31,-64 2326.23,-64 2326.23,0 2501.31,0 2501.31,-64\" stroke=\"black\"/>\n",
              "<text font-family=\"Times,serif\" font-size=\"14.00\" text-anchor=\"middle\" x=\"2413.77\" y=\"-48.8\">entropy = 1.333</text>\n",
              "<text font-family=\"Times,serif\" font-size=\"14.00\" text-anchor=\"middle\" x=\"2413.77\" y=\"-34.8\">samples = 1047</text>\n",
              "<text font-family=\"Times,serif\" font-size=\"14.00\" text-anchor=\"middle\" x=\"2413.77\" y=\"-20.8\">value = [0, 1, 167, 225, 654]</text>\n",
              "<text font-family=\"Times,serif\" font-size=\"14.00\" text-anchor=\"middle\" x=\"2413.77\" y=\"-6.8\">class = 4</text>\n",
              "</g>\n",
              "<!-- 21&#45;&gt;23 -->\n",
              "<g class=\"edge\" id=\"edge23\">\n",
              "<title>21-&gt;23</title>\n",
              "<path d=\"M2291.36,-99.94C2309.89,-89.81 2329.86,-78.89 2348.17,-68.87\" fill=\"none\" stroke=\"black\"/>\n",
              "<polygon fill=\"black\" points=\"2349.92,-71.9 2357.02,-64.04 2346.56,-65.76 2349.92,-71.9\" stroke=\"black\"/>\n",
              "</g>\n",
              "<!-- 25 -->\n",
              "<g class=\"node\" id=\"node26\">\n",
              "<title>25</title>\n",
              "<polygon fill=\"#e4fbf7\" points=\"2843.79,-178 2619.74,-178 2619.74,-100 2843.79,-100 2843.79,-178\" stroke=\"black\"/>\n",
              "<text font-family=\"Times,serif\" font-size=\"14.00\" text-anchor=\"middle\" x=\"2731.77\" y=\"-162.8\">Port Code &lt;= 3404.5</text>\n",
              "<text font-family=\"Times,serif\" font-size=\"14.00\" text-anchor=\"middle\" x=\"2731.77\" y=\"-148.8\">entropy = 1.77</text>\n",
              "<text font-family=\"Times,serif\" font-size=\"14.00\" text-anchor=\"middle\" x=\"2731.77\" y=\"-134.8\">samples = 11493</text>\n",
              "<text font-family=\"Times,serif\" font-size=\"14.00\" text-anchor=\"middle\" x=\"2731.77\" y=\"-120.8\">value = [114, 1823, 4980, 3943, 633]</text>\n",
              "<text font-family=\"Times,serif\" font-size=\"14.00\" text-anchor=\"middle\" x=\"2731.77\" y=\"-106.8\">class = 2</text>\n",
              "</g>\n",
              "<!-- 24&#45;&gt;25 -->\n",
              "<g class=\"edge\" id=\"edge25\">\n",
              "<title>24-&gt;25</title>\n",
              "<path d=\"M2731.77,-213.77C2731.77,-205.57 2731.77,-196.8 2731.77,-188.28\" fill=\"none\" stroke=\"black\"/>\n",
              "<polygon fill=\"black\" points=\"2735.27,-188.06 2731.77,-178.06 2728.27,-188.06 2735.27,-188.06\" stroke=\"black\"/>\n",
              "</g>\n",
              "<!-- 28 -->\n",
              "<g class=\"node\" id=\"node29\">\n",
              "<title>28</title>\n",
              "<polygon fill=\"#ec6fd1\" points=\"3124.31,-178 2963.23,-178 2963.23,-100 3124.31,-100 3124.31,-178\" stroke=\"black\"/>\n",
              "<text font-family=\"Times,serif\" font-size=\"14.00\" text-anchor=\"middle\" x=\"3043.77\" y=\"-162.8\">6 &lt;= 0.5</text>\n",
              "<text font-family=\"Times,serif\" font-size=\"14.00\" text-anchor=\"middle\" x=\"3043.77\" y=\"-148.8\">entropy = 0.756</text>\n",
              "<text font-family=\"Times,serif\" font-size=\"14.00\" text-anchor=\"middle\" x=\"3043.77\" y=\"-134.8\">samples = 1140</text>\n",
              "<text font-family=\"Times,serif\" font-size=\"14.00\" text-anchor=\"middle\" x=\"3043.77\" y=\"-120.8\">value = [0, 1, 0, 242, 897]</text>\n",
              "<text font-family=\"Times,serif\" font-size=\"14.00\" text-anchor=\"middle\" x=\"3043.77\" y=\"-106.8\">class = 4</text>\n",
              "</g>\n",
              "<!-- 24&#45;&gt;28 -->\n",
              "<g class=\"edge\" id=\"edge28\">\n",
              "<title>24-&gt;28</title>\n",
              "<path d=\"M2837.83,-213.93C2875.46,-200.42 2917.41,-185.36 2953.58,-172.37\" fill=\"none\" stroke=\"black\"/>\n",
              "<polygon fill=\"black\" points=\"2954.91,-175.62 2963.14,-168.95 2952.54,-169.03 2954.91,-175.62\" stroke=\"black\"/>\n",
              "</g>\n",
              "<!-- 26 -->\n",
              "<g class=\"node\" id=\"node27\">\n",
              "<title>26</title>\n",
              "<polygon fill=\"#e7e7fc\" points=\"2743.79,-64 2519.74,-64 2519.74,0 2743.79,0 2743.79,-64\" stroke=\"black\"/>\n",
              "<text font-family=\"Times,serif\" font-size=\"14.00\" text-anchor=\"middle\" x=\"2631.77\" y=\"-48.8\">entropy = 1.884</text>\n",
              "<text font-family=\"Times,serif\" font-size=\"14.00\" text-anchor=\"middle\" x=\"2631.77\" y=\"-34.8\">samples = 7043</text>\n",
              "<text font-family=\"Times,serif\" font-size=\"14.00\" text-anchor=\"middle\" x=\"2631.77\" y=\"-20.8\">value = [106, 1148, 2286, 2871, 632]</text>\n",
              "<text font-family=\"Times,serif\" font-size=\"14.00\" text-anchor=\"middle\" x=\"2631.77\" y=\"-6.8\">class = 3</text>\n",
              "</g>\n",
              "<!-- 25&#45;&gt;26 -->\n",
              "<g class=\"edge\" id=\"edge26\">\n",
              "<title>25-&gt;26</title>\n",
              "<path d=\"M2695.38,-99.8C2686.57,-90.54 2677.15,-80.65 2668.33,-71.38\" fill=\"none\" stroke=\"black\"/>\n",
              "<polygon fill=\"black\" points=\"2670.84,-68.94 2661.4,-64.12 2665.77,-73.77 2670.84,-68.94\" stroke=\"black\"/>\n",
              "</g>\n",
              "<!-- 27 -->\n",
              "<g class=\"node\" id=\"node28\">\n",
              "<title>27</title>\n",
              "<polygon fill=\"#a0f3e3\" points=\"2951.31,-64 2762.23,-64 2762.23,0 2951.31,0 2951.31,-64\" stroke=\"black\"/>\n",
              "<text font-family=\"Times,serif\" font-size=\"14.00\" text-anchor=\"middle\" x=\"2856.77\" y=\"-48.8\">entropy = 1.365</text>\n",
              "<text font-family=\"Times,serif\" font-size=\"14.00\" text-anchor=\"middle\" x=\"2856.77\" y=\"-34.8\">samples = 4450</text>\n",
              "<text font-family=\"Times,serif\" font-size=\"14.00\" text-anchor=\"middle\" x=\"2856.77\" y=\"-20.8\">value = [8, 675, 2694, 1072, 1]</text>\n",
              "<text font-family=\"Times,serif\" font-size=\"14.00\" text-anchor=\"middle\" x=\"2856.77\" y=\"-6.8\">class = 2</text>\n",
              "</g>\n",
              "<!-- 25&#45;&gt;27 -->\n",
              "<g class=\"edge\" id=\"edge27\">\n",
              "<title>25-&gt;27</title>\n",
              "<path d=\"M2777.25,-99.8C2788.59,-90.27 2800.75,-80.06 2812.05,-70.56\" fill=\"none\" stroke=\"black\"/>\n",
              "<polygon fill=\"black\" points=\"2814.32,-73.23 2819.72,-64.12 2809.82,-67.87 2814.32,-73.23\" stroke=\"black\"/>\n",
              "</g>\n",
              "<!-- 29 -->\n",
              "<g class=\"node\" id=\"node30\">\n",
              "<title>29</title>\n",
              "<polygon fill=\"#e539c0\" points=\"3117.31,-64 2970.23,-64 2970.23,0 3117.31,0 3117.31,-64\" stroke=\"black\"/>\n",
              "<text font-family=\"Times,serif\" font-size=\"14.00\" text-anchor=\"middle\" x=\"3043.77\" y=\"-48.8\">entropy = 0.0</text>\n",
              "<text font-family=\"Times,serif\" font-size=\"14.00\" text-anchor=\"middle\" x=\"3043.77\" y=\"-34.8\">samples = 684</text>\n",
              "<text font-family=\"Times,serif\" font-size=\"14.00\" text-anchor=\"middle\" x=\"3043.77\" y=\"-20.8\">value = [0, 0, 0, 0, 684]</text>\n",
              "<text font-family=\"Times,serif\" font-size=\"14.00\" text-anchor=\"middle\" x=\"3043.77\" y=\"-6.8\">class = 4</text>\n",
              "</g>\n",
              "<!-- 28&#45;&gt;29 -->\n",
              "<g class=\"edge\" id=\"edge29\">\n",
              "<title>28-&gt;29</title>\n",
              "<path d=\"M3043.77,-99.8C3043.77,-91.46 3043.77,-82.6 3043.77,-74.15\" fill=\"none\" stroke=\"black\"/>\n",
              "<polygon fill=\"black\" points=\"3047.27,-74.12 3043.77,-64.12 3040.27,-74.12 3047.27,-74.12\" stroke=\"black\"/>\n",
              "</g>\n",
              "<!-- 30 -->\n",
              "<g class=\"node\" id=\"node31\">\n",
              "<title>30</title>\n",
              "<polygon fill=\"#e8e7fc\" points=\"3297.31,-64 3136.23,-64 3136.23,0 3297.31,0 3297.31,-64\" stroke=\"black\"/>\n",
              "<text font-family=\"Times,serif\" font-size=\"14.00\" text-anchor=\"middle\" x=\"3216.77\" y=\"-48.8\">entropy = 1.017</text>\n",
              "<text font-family=\"Times,serif\" font-size=\"14.00\" text-anchor=\"middle\" x=\"3216.77\" y=\"-34.8\">samples = 456</text>\n",
              "<text font-family=\"Times,serif\" font-size=\"14.00\" text-anchor=\"middle\" x=\"3216.77\" y=\"-20.8\">value = [0, 1, 0, 242, 213]</text>\n",
              "<text font-family=\"Times,serif\" font-size=\"14.00\" text-anchor=\"middle\" x=\"3216.77\" y=\"-6.8\">class = 3</text>\n",
              "</g>\n",
              "<!-- 28&#45;&gt;30 -->\n",
              "<g class=\"edge\" id=\"edge30\">\n",
              "<title>28-&gt;30</title>\n",
              "<path d=\"M3106.71,-99.8C3123.02,-89.9 3140.53,-79.27 3156.68,-69.47\" fill=\"none\" stroke=\"black\"/>\n",
              "<polygon fill=\"black\" points=\"3158.77,-72.3 3165.5,-64.12 3155.13,-66.31 3158.77,-72.3\" stroke=\"black\"/>\n",
              "</g>\n",
              "</g>\n",
              "</svg>"
            ]
          },
          "metadata": {}
        }
      ],
      "execution_count": 240,
      "metadata": {}
    },
    {
      "cell_type": "code",
      "source": [
        "# Creating a bar plot\n",
        "sns.barplot(x=X_train.columns, y=clf.feature_importances_)\n",
        "# Add labels to your graph\n",
        "plt.xlabel('Feature Importance Score')\n",
        "plt.ylabel('Features')\n",
        "plt.title(\"Visualizing Important Features\")\n",
        "plt.legend()\n",
        "plt.xticks(rotation=90)\n",
        "plt.show()"
      ],
      "outputs": [
        {
          "output_type": "stream",
          "name": "stderr",
          "text": [
            "No handles with labels found to put in legend.\n"
          ]
        },
        {
          "output_type": "display_data",
          "data": {
            "text/plain": [
              "<Figure size 432x288 with 1 Axes>"
            ],
            "image/png": "[encoded data removed]"
          },
          "metadata": {
            "needs_background": "light"
          }
        }
      ],
      "execution_count": 241,
      "metadata": {}
    },
    {
      "cell_type": "markdown",
      "source": [
        "# Random forest classifier\n",
        "\n",
        "As we said decision tree are prone to overfit so we will use a similar but different model called the random forest. Their ability to limit overfitting without impacting to much the error is why they are such important models. They limit the effects of a bias."
      ],
      "metadata": {}
    },
    {
      "cell_type": "code",
      "source": [
        "rfc = RandomForestClassifier(n_jobs=2, random_state=0)"
      ],
      "outputs": [],
      "execution_count": 242,
      "metadata": {}
    },
    {
      "cell_type": "code",
      "source": [
        "rfc.fit(X_train, y_train)"
      ],
      "outputs": [
        {
          "output_type": "execute_result",
          "execution_count": 243,
          "data": {
            "text/plain": [
              "RandomForestClassifier(bootstrap=True, class_weight=None, criterion='gini',\n",
              "                       max_depth=None, max_features='auto', max_leaf_nodes=None,\n",
              "                       min_impurity_decrease=0.0, min_impurity_split=None,\n",
              "                       min_samples_leaf=1, min_samples_split=2,\n",
              "                       min_weight_fraction_leaf=0.0, n_estimators=10, n_jobs=2,\n",
              "                       oob_score=False, random_state=0, verbose=0,\n",
              "                       warm_start=False)"
            ]
          },
          "metadata": {}
        }
      ],
      "execution_count": 243,
      "metadata": {}
    },
    {
      "cell_type": "code",
      "source": [
        "rfc.score(X_test,y_test)"
      ],
      "outputs": [
        {
          "output_type": "execute_result",
          "execution_count": 244,
          "data": {
            "text/plain": [
              "0.893090909090909"
            ]
          },
          "metadata": {}
        }
      ],
      "execution_count": 244,
      "metadata": {}
    },
    {
      "cell_type": "markdown",
      "source": [
        "We can see that the score is a little worse than for a decision tree, proof that in the decison tree model there was some overfitting."
      ],
      "metadata": {}
    },
    {
      "cell_type": "code",
      "source": [
        "sorted(zip(X_train.columns, rfc.feature_importances_), key=lambda x: x[1], reverse=True)"
      ],
      "outputs": [
        {
          "output_type": "execute_result",
          "execution_count": 245,
          "data": {
            "text/plain": [
              "[('Port Code', 0.4399086101334686),\n",
              " ('Year', 0.14689729134397372),\n",
              " ('Month', 0.0974111720451845),\n",
              " ('Personal Vehicle Passengers', 0.08868019275716067),\n",
              " ('Bus Passengers', 0.03220873041092499),\n",
              " ('Pedestrians', 0.03107844596246976),\n",
              " ('Train Passengers', 0.027008881788209434),\n",
              " ('Canada Border', 0.02287208022318652),\n",
              " ('Mexico Border', 0.022311236246783293),\n",
              " (10, 0.011555015886963988),\n",
              " (9, 0.010335073353366314),\n",
              " (11, 0.010193806445955139),\n",
              " (5, 0.008741889161948133),\n",
              " (4, 0.0078028749799887),\n",
              " (3, 0.007199171326554736),\n",
              " (6, 0.005840272590361634),\n",
              " (13, 0.005730938030543984),\n",
              " (7, 0.005137837003052604),\n",
              " (2, 0.0051334259642887),\n",
              " (12, 0.0049785204194128865),\n",
              " (0, 0.0034354232291621467),\n",
              " (8, 0.0028717880268458408),\n",
              " (1, 0.002667322670193698)]"
            ]
          },
          "metadata": {}
        }
      ],
      "execution_count": 245,
      "metadata": {}
    },
    {
      "cell_type": "code",
      "source": [
        "sns.barplot(x=rfc.feature_importances_,y=X_train.columns)\n",
        "# Add labels to your graph\n",
        "plt.xlabel('Feature Importance Score')\n",
        "plt.ylabel('Features')\n",
        "plt.title(\"Visualizing Important Features\")\n",
        "plt.legend()\n",
        "plt.xticks(rotation=90)\n",
        "plt.show()"
      ],
      "outputs": [
        {
          "output_type": "stream",
          "name": "stderr",
          "text": [
            "No handles with labels found to put in legend.\n"
          ]
        },
        {
          "output_type": "display_data",
          "data": {
            "text/plain": [
              "<Figure size 432x288 with 1 Axes>"
            ],
            "image/png": "[encoded data removed]"
          },
          "metadata": {
            "needs_background": "light"
          }
        }
      ],
      "execution_count": 246,
      "metadata": {}
    },
    {
      "cell_type": "markdown",
      "source": [
        "Like we had in the decision tree, 'Port Code' is the most important feature. But the second one, is different since this model gives way more importance to the temporality in the dataset. The decison tree might have overfitted on the 'Personal Vehicle Passengers' feature since it is the most represented one in a lot of ports. Here the random forest mitigates this effect."
      ],
      "metadata": {}
    },
    {
      "cell_type": "markdown",
      "source": [
        "# Results overview"
      ],
      "metadata": {}
    },
    {
      "cell_type": "code",
      "source": [
        "results = [[\"Logistic Regression\",0.54],[\"Linear Regression\",0.62],[\"Decision Tree\",0.84],[\"Random Forest\",0.81]]\n",
        "results = pd.DataFrame(results)\n",
        "results = results.rename(columns={0:\"model\",1: \"test_error\"})\n",
        "results"
      ],
      "outputs": [
        {
          "output_type": "execute_result",
          "execution_count": 5,
          "data": {
            "text/plain": [
              "                 model  test_error\n",
              "0  Logistic Regression        0.54\n",
              "1    Linear Regression        0.62\n",
              "2        Decision Tree        0.84\n",
              "3        Random Forest        0.81"
            ],
            "text/html": [
              "<div>\n",
              "<style scoped>\n",
              "    .dataframe tbody tr th:only-of-type {\n",
              "        vertical-align: middle;\n",
              "    }\n",
              "\n",
              "    .dataframe tbody tr th {\n",
              "        vertical-align: top;\n",
              "    }\n",
              "\n",
              "    .dataframe thead th {\n",
              "        text-align: right;\n",
              "    }\n",
              "</style>\n",
              "<table border=\"1\" class=\"dataframe\">\n",
              "  <thead>\n",
              "    <tr style=\"text-align: right;\">\n",
              "      <th></th>\n",
              "      <th>model</th>\n",
              "      <th>test_error</th>\n",
              "    </tr>\n",
              "  </thead>\n",
              "  <tbody>\n",
              "    <tr>\n",
              "      <th>0</th>\n",
              "      <td>Logistic Regression</td>\n",
              "      <td>0.54</td>\n",
              "    </tr>\n",
              "    <tr>\n",
              "      <th>1</th>\n",
              "      <td>Linear Regression</td>\n",
              "      <td>0.62</td>\n",
              "    </tr>\n",
              "    <tr>\n",
              "      <th>2</th>\n",
              "      <td>Decision Tree</td>\n",
              "      <td>0.84</td>\n",
              "    </tr>\n",
              "    <tr>\n",
              "      <th>3</th>\n",
              "      <td>Random Forest</td>\n",
              "      <td>0.81</td>\n",
              "    </tr>\n",
              "  </tbody>\n",
              "</table>\n",
              "</div>"
            ]
          },
          "metadata": {}
        }
      ],
      "execution_count": 5,
      "metadata": {
        "collapsed": false,
        "outputHidden": false,
        "inputHidden": false
      }
    },
    {
      "cell_type": "code",
      "source": [
        "sns.barplot(x=\"model\", y=\"test_error\", data=results)\n",
        "plt.xticks(rotation=30)"
      ],
      "outputs": [
        {
          "output_type": "execute_result",
          "execution_count": 6,
          "data": {
            "text/plain": [
              "(array([0, 1, 2, 3]), <a list of 4 Text xticklabel objects>)"
            ]
          },
          "metadata": {}
        },
        {
          "output_type": "display_data",
          "data": {
            "text/plain": [
              "<Figure size 432x288 with 1 Axes>"
            ],
            "image/png": "[encoded data removed]"
          },
          "metadata": {
            "needs_background": "light"
          }
        }
      ],
      "execution_count": 6,
      "metadata": {
        "collapsed": false,
        "outputHidden": false,
        "inputHidden": false
      }
    }
  ],
  "metadata": {
    "kernel_info": {
      "name": "python3"
    },
    "kernelspec": {
      "name": "python3",
      "language": "python",
      "display_name": "Python 3"
    },
    "language_info": {
      "name": "python",
      "version": "3.7.3",
      "mimetype": "text/x-python",
      "codemirror_mode": {
        "name": "ipython",
        "version": 3
      },
      "pygments_lexer": "ipython3",
      "nbconvert_exporter": "python",
      "file_extension": ".py"
    },
    "nteract": {
      "version": "0.15.0"
    }
  },
  "nbformat": 4,
  "nbformat_minor": 2
}