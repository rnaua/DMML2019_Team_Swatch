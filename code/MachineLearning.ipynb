{
 "cells": [
  {
   "cell_type": "code",
   "execution_count": 5,
   "metadata": {},
   "outputs": [],
   "source": [
    "##Imports needed plugins\n",
    "\n",
    "import pandas as pd\n",
    "import numpy as np\n",
    "import matplotlib.pyplot as plt\n",
    "import datetime as dt \n",
    "import plotly.express as px\n",
    "import plotly.graph_objects as go\n",
    "from sklearn.metrics import confusion_matrix\n",
    "from itertools import combinations \n",
    "from sklearn.linear_model import LinearRegression\n",
    "from sklearn.preprocessing import LabelEncoder, OneHotEncoder\n",
    "from sklearn.model_selection import train_test_split\n",
    "from sklearn.linear_model import LogisticRegressionCV\n",
    "from sklearn.metrics import recall_score\n",
    "import warnings\n",
    "import seaborn as sns\n",
    "warnings.filterwarnings(\"ignore\", category=FutureWarning)"
   ]
  },
  {
   "cell_type": "code",
   "execution_count": 10,
   "metadata": {},
   "outputs": [],
   "source": [
    "# Import the data\n",
    "data = pd.read_csv(\"../data/DataWithLocationCleaned.csv.gz\")\n",
    "df = data.copy()"
   ]
  },
  {
   "cell_type": "code",
   "execution_count": 11,
   "metadata": {},
   "outputs": [
    {
     "data": {
      "text/html": [
       "<div>\n",
       "<style scoped>\n",
       "    .dataframe tbody tr th:only-of-type {\n",
       "        vertical-align: middle;\n",
       "    }\n",
       "\n",
       "    .dataframe tbody tr th {\n",
       "        vertical-align: top;\n",
       "    }\n",
       "\n",
       "    .dataframe thead th {\n",
       "        text-align: right;\n",
       "    }\n",
       "</style>\n",
       "<table border=\"1\" class=\"dataframe\">\n",
       "  <thead>\n",
       "    <tr style=\"text-align: right;\">\n",
       "      <th></th>\n",
       "      <th>Port Name</th>\n",
       "      <th>State</th>\n",
       "      <th>Port Code</th>\n",
       "      <th>Border</th>\n",
       "      <th>Date</th>\n",
       "      <th>Measure</th>\n",
       "      <th>Value</th>\n",
       "      <th>Year</th>\n",
       "      <th>Month</th>\n",
       "      <th>position</th>\n",
       "      <th>latitude</th>\n",
       "      <th>longitude</th>\n",
       "    </tr>\n",
       "  </thead>\n",
       "  <tbody>\n",
       "    <tr>\n",
       "      <th>0</th>\n",
       "      <td>Warroad</td>\n",
       "      <td>Minnesota</td>\n",
       "      <td>3423</td>\n",
       "      <td>US-Canada Border</td>\n",
       "      <td>2019-06-01</td>\n",
       "      <td>Personal Vehicle Passengers</td>\n",
       "      <td>19459</td>\n",
       "      <td>2019</td>\n",
       "      <td>6</td>\n",
       "      <td>(48.905266, -95.314404)</td>\n",
       "      <td>48.905266</td>\n",
       "      <td>-95.314404</td>\n",
       "    </tr>\n",
       "    <tr>\n",
       "      <th>1</th>\n",
       "      <td>Warroad</td>\n",
       "      <td>Minnesota</td>\n",
       "      <td>3423</td>\n",
       "      <td>US-Canada Border</td>\n",
       "      <td>2019-06-01</td>\n",
       "      <td>Pedestrians</td>\n",
       "      <td>2</td>\n",
       "      <td>2019</td>\n",
       "      <td>6</td>\n",
       "      <td>(48.905266, -95.314404)</td>\n",
       "      <td>48.905266</td>\n",
       "      <td>-95.314404</td>\n",
       "    </tr>\n",
       "    <tr>\n",
       "      <th>2</th>\n",
       "      <td>Warroad</td>\n",
       "      <td>Minnesota</td>\n",
       "      <td>3423</td>\n",
       "      <td>US-Canada Border</td>\n",
       "      <td>2019-06-01</td>\n",
       "      <td>Bus Passengers</td>\n",
       "      <td>63</td>\n",
       "      <td>2019</td>\n",
       "      <td>6</td>\n",
       "      <td>(48.905266, -95.314404)</td>\n",
       "      <td>48.905266</td>\n",
       "      <td>-95.314404</td>\n",
       "    </tr>\n",
       "    <tr>\n",
       "      <th>3</th>\n",
       "      <td>Roseau</td>\n",
       "      <td>Minnesota</td>\n",
       "      <td>3426</td>\n",
       "      <td>US-Canada Border</td>\n",
       "      <td>2019-06-01</td>\n",
       "      <td>Personal Vehicle Passengers</td>\n",
       "      <td>7385</td>\n",
       "      <td>2019</td>\n",
       "      <td>6</td>\n",
       "      <td>(48.7710371, -95.7697882)</td>\n",
       "      <td>48.7710371</td>\n",
       "      <td>-95.7697882</td>\n",
       "    </tr>\n",
       "    <tr>\n",
       "      <th>4</th>\n",
       "      <td>Roseau</td>\n",
       "      <td>Minnesota</td>\n",
       "      <td>3426</td>\n",
       "      <td>US-Canada Border</td>\n",
       "      <td>2019-06-01</td>\n",
       "      <td>Bus Passengers</td>\n",
       "      <td>118</td>\n",
       "      <td>2019</td>\n",
       "      <td>6</td>\n",
       "      <td>(48.7710371, -95.7697882)</td>\n",
       "      <td>48.7710371</td>\n",
       "      <td>-95.7697882</td>\n",
       "    </tr>\n",
       "  </tbody>\n",
       "</table>\n",
       "</div>"
      ],
      "text/plain": [
       "  Port Name      State  Port Code            Border        Date  \\\n",
       "0   Warroad  Minnesota       3423  US-Canada Border  2019-06-01   \n",
       "1   Warroad  Minnesota       3423  US-Canada Border  2019-06-01   \n",
       "2   Warroad  Minnesota       3423  US-Canada Border  2019-06-01   \n",
       "3    Roseau  Minnesota       3426  US-Canada Border  2019-06-01   \n",
       "4    Roseau  Minnesota       3426  US-Canada Border  2019-06-01   \n",
       "\n",
       "                       Measure  Value  Year  Month                   position  \\\n",
       "0  Personal Vehicle Passengers  19459  2019      6    (48.905266, -95.314404)   \n",
       "1                  Pedestrians      2  2019      6    (48.905266, -95.314404)   \n",
       "2               Bus Passengers     63  2019      6    (48.905266, -95.314404)   \n",
       "3  Personal Vehicle Passengers   7385  2019      6  (48.7710371, -95.7697882)   \n",
       "4               Bus Passengers    118  2019      6  (48.7710371, -95.7697882)   \n",
       "\n",
       "     latitude    longitude  \n",
       "0   48.905266   -95.314404  \n",
       "1   48.905266   -95.314404  \n",
       "2   48.905266   -95.314404  \n",
       "3  48.7710371  -95.7697882  \n",
       "4  48.7710371  -95.7697882  "
      ]
     },
     "execution_count": 11,
     "metadata": {},
     "output_type": "execute_result"
    }
   ],
   "source": [
    "# Add lagitude and longitude\n",
    "# Create one dataFrame for persons and one only for traffic\n",
    "def getlat(x):\n",
    "    lat = x.partition(',')[0][1:]\n",
    "    if lat[0] == \"'\":\n",
    "        lat = lat[1:-1]\n",
    "    return lat\n",
    "\n",
    "def getlong(x):\n",
    "    lat = x.partition(',')[2]\n",
    "    if lat[1] == \"'\":\n",
    "        lat = lat[2:-2]\n",
    "    else:\n",
    "        lat = lat[1:-1]\n",
    "    return lat\n",
    "\n",
    "df['latitude'] = df['position'].apply(lambda x: getlat(x))\n",
    "df['longitude'] = df['position'].apply(lambda x: getlong(x))\n",
    "persons = df[df['Measure'].isin(['Bus Passengers','Pedestrians','Personal Vehicle Passengers','Train Passengers'])].reset_index().drop(columns=['index'])\n",
    "traffic = df[~df['Measure'].isin(['Bus Passengers','Pedestrians','Personal Vehicle Passengers','Train Passengers'])].reset_index().drop(columns=['index'])\n",
    "nozero = persons[persons['Value'] != 0]\n",
    "ports = df['Port Name'].unique()\n",
    "persons.head()"
   ]
  },
  {
   "cell_type": "markdown",
   "metadata": {},
   "source": [
    "# Logistic regression"
   ]
  },
  {
   "cell_type": "code",
   "execution_count": 12,
   "metadata": {},
   "outputs": [],
   "source": [
    "def logistic(X,y,baseRate):\n",
    "    X_train, X_test, y_train, y_test = train_test_split(X, y, test_size=0.2, random_state=42)\n",
    "    LR = LogisticRegressionCV(solver='lbfgs', cv=5, max_iter=1000)\n",
    "    LR.fit(X_train,y_train)\n",
    "    test_score = LR.score(X_test, y_test)\n",
    "    train_score = LR.score(X_train,y_train)\n",
    "    print(\"train_score :\",train_score,\"test_score =\",test_score)\n",
    "    return [train_score,test_score,confusion_matrix(y_train, LR.predict(X_train)),baseRate]\n",
    "\n",
    "def encodeOneHot(z,f,i):\n",
    "    test = z\n",
    "    baseRate = pd.qcut(test['Value'],q = i, duplicates = 'drop').value_counts()\n",
    "    print(\"Base rate :\",baseRate.max()/baseRate.sum())\n",
    "    print()\n",
    "    test['quant'] = pd.qcut(test['Value'],q = i, duplicates = 'drop')\n",
    "    print(\"intervalls for y:\")\n",
    "    print(test['quant'].value_counts())\n",
    "    print()\n",
    "    le = LabelEncoder()\n",
    "    y = le.fit_transform(test[\"quant\"])\n",
    "    one_hot = OneHotEncoder(categories=\"auto\")\n",
    "    \n",
    "    categoricals = []\n",
    "    for feature in f:\n",
    "        if feature in ['Measure','State','Border']:\n",
    "            f.remove(feature)\n",
    "            categoricals.append(feature)\n",
    "            \n",
    "    cat_to_onehot = one_hot.fit_transform(test[categoricals]).toarray()\n",
    "    cat_to_onehot = pd.DataFrame(cat_to_onehot)\n",
    "    X = pd.concat((test[f],cat_to_onehot),axis=1)\n",
    "    return logistic(X,y,baseRate.max()/baseRate.sum())\n",
    "\n",
    "def  computeLogistic(dataset,ports,f,i):\n",
    "    if (len(f) == 0):\n",
    "        return\n",
    "    Zone = dataset[dataset['Port Name'].isin(ports)].reset_index(drop=True)\n",
    "    return encodeOneHot(Zone,f,i)\n"
   ]
  },
  {
   "cell_type": "code",
   "execution_count": 8,
   "metadata": {},
   "outputs": [
    {
     "name": "stdout",
     "output_type": "stream",
     "text": [
      "Base rate : 0.37606668331453275\n",
      "\n",
      "intervalls for y:\n",
      "(-0.001, 11.0]          43673\n",
      "(62918.0, 4447374.0]    14516\n",
      "(6943.0, 62918.0]       14516\n",
      "(1193.0, 6943.0]        14516\n",
      "(156.0, 1193.0]         14503\n",
      "(11.0, 156.0]           14407\n",
      "Name: quant, dtype: int64\n",
      "\n",
      "train_score : 0.5278028933092225 test_score = 0.5279631463383132\n"
     ]
    }
   ],
   "source": [
    "#Logistic regression on persons with all variables\n",
    "persons_logistic = computeLogistic(persons,ports,['Measure','Port Code','Month','Year','State','latitude','longitude','Border'],8),"
   ]
  },
  {
   "cell_type": "markdown",
   "metadata": {},
   "source": [
    "We can see that the intervalls are biaised. So the results are not relevant. \n",
    "\n",
    "As we have seen in our EDA, we'll take only non-null values."
   ]
  },
  {
   "cell_type": "markdown",
   "metadata": {},
   "source": [
    "## Find a good number of intervalls"
   ]
  },
  {
   "cell_type": "code",
   "execution_count": 30,
   "metadata": {},
   "outputs": [
    {
     "name": "stdout",
     "output_type": "stream",
     "text": [
      "Base rate : 0.5000396699460489\n",
      "\n",
      "intervalls for y:\n",
      "(0.999, 2394.0]        37815\n",
      "(2394.0, 4447374.0]    37809\n",
      "Name: quant, dtype: int64\n",
      "\n",
      "train_score : 0.8240301492586655 test_score = 0.8186446280991736\n",
      "Base rate : 0.3335977996403258\n",
      "\n",
      "intervalls for y:\n",
      "(0.999, 501.0]            25228\n",
      "(11238.333, 4447374.0]    25208\n",
      "(501.0, 11238.333]        25188\n",
      "Name: quant, dtype: int64\n",
      "\n",
      "train_score : 0.6949205771996231 test_score = 0.6955371900826446\n",
      "Base rate : 0.2500925632074474\n",
      "\n",
      "intervalls for y:\n",
      "(0.999, 190.0]          18913\n",
      "(32053.0, 4447374.0]    18906\n",
      "(2394.0, 32053.0]       18903\n",
      "(190.0, 2394.0]         18902\n",
      "Name: quant, dtype: int64\n",
      "\n",
      "train_score : 0.5718276335146035 test_score = 0.5843966942148761\n",
      "Base rate : 0.20034645086216016\n",
      "\n",
      "intervalls for y:\n",
      "(0.999, 103.0]          15151\n",
      "(57873.4, 4447374.0]    15125\n",
      "(6087.8, 57873.4]       15125\n",
      "(948.0, 6087.8]         15118\n",
      "(103.0, 948.0]          15105\n",
      "Name: quant, dtype: int64\n",
      "\n",
      "train_score : 0.5208019967272186 test_score = 0.5289256198347108\n",
      "Base rate : 0.16703691949645616\n",
      "\n",
      "intervalls for y:\n",
      "(0.999, 68.0]           12632\n",
      "(84647.0, 4447374.0]    12604\n",
      "(11238.333, 84647.0]    12604\n",
      "(2394.0, 11238.333]     12601\n",
      "(68.0, 501.0]           12596\n",
      "(501.0, 2394.0]         12587\n",
      "Name: quant, dtype: int64\n",
      "\n",
      "train_score : 0.46418949073538407 test_score = 0.47206611570247936\n",
      "Base rate : 0.14404157410345922\n",
      "\n",
      "intervalls for y:\n",
      "(0.999, 54.0]              10893\n",
      "(114406.857, 4447374.0]    10804\n",
      "(20888.857, 114406.857]    10803\n",
      "(4713.429, 20888.857]      10803\n",
      "(1243.0, 4713.429]         10802\n",
      "(288.0, 1243.0]            10788\n",
      "(54.0, 288.0]              10731\n",
      "Name: quant, dtype: int64\n",
      "\n",
      "train_score : 0.40281657548058647 test_score = 0.40826446280991735\n",
      "Base rate : 0.12650745794985718\n",
      "\n",
      "intervalls for y:\n",
      "(0.999, 45.0]              9567\n",
      "(142958.375, 4447374.0]    9453\n",
      "(32053.0, 142958.375]      9453\n",
      "(7484.0, 32053.0]          9452\n",
      "(740.0, 2394.0]            9452\n",
      "(2394.0, 7484.0]           9451\n",
      "(190.0, 740.0]             9450\n",
      "(45.0, 190.0]              9346\n",
      "Name: quant, dtype: int64\n",
      "\n",
      "train_score : 0.3822873105340584 test_score = 0.39404958677685953\n",
      "Base rate : 0.11221305405691315\n",
      "\n",
      "intervalls for y:\n",
      "(0.999, 39.0]              8486\n",
      "(173084.889, 4447374.0]    8403\n",
      "(45657.556, 173084.889]    8403\n",
      "(4075.778, 11238.333]      8403\n",
      "(11238.333, 45657.556]     8402\n",
      "(1437.0, 4075.778]         8398\n",
      "(140.0, 501.0]             8392\n",
      "(501.0, 1437.0]            8387\n",
      "(39.0, 140.0]              8350\n",
      "Name: quant, dtype: int64\n",
      "\n",
      "train_score : 0.34703052943023854 test_score = 0.3504793388429752\n"
     ]
    }
   ],
   "source": [
    "test = []\n",
    "for i in range(2,10):\n",
    "    test.append([i,computeLogistic(nozero,ports,['Measure','Port Code','State','latitude','longitude'],i)])"
   ]
  },
  {
   "cell_type": "code",
   "execution_count": 43,
   "metadata": {},
   "outputs": [
    {
     "name": "stdout",
     "output_type": "stream",
     "text": [
      "[[2, 0.8240301492586655, 0.8186446280991736, 0.5000396699460489], [3, 0.6949205771996231, 0.6955371900826446, 0.3335977996403258], [4, 0.5718276335146035, 0.5843966942148761, 0.2500925632074474], [5, 0.5208019967272186, 0.5289256198347108, 0.20034645086216016], [6, 0.46418949073538407, 0.47206611570247936, 0.16703691949645616], [7, 0.40281657548058647, 0.40826446280991735, 0.14404157410345922], [8, 0.3822873105340584, 0.39404958677685953, 0.12650745794985718], [9, 0.34703052943023854, 0.3504793388429752, 0.11221305405691315]]\n"
     ]
    }
   ],
   "source": [
    "intervalls_testError = []\n",
    "for i in range(0,len(test)):\n",
    "    intervalls_testError.append([test[i][0],test[i][1][0],test[i][1][1],test[i][1][3]])\n",
    "print(intervalls_testError)"
   ]
  },
  {
   "cell_type": "code",
   "execution_count": 47,
   "metadata": {},
   "outputs": [
    {
     "data": {
      "text/html": [
       "<div>\n",
       "<style scoped>\n",
       "    .dataframe tbody tr th:only-of-type {\n",
       "        vertical-align: middle;\n",
       "    }\n",
       "\n",
       "    .dataframe tbody tr th {\n",
       "        vertical-align: top;\n",
       "    }\n",
       "\n",
       "    .dataframe thead th {\n",
       "        text-align: right;\n",
       "    }\n",
       "</style>\n",
       "<table border=\"1\" class=\"dataframe\">\n",
       "  <thead>\n",
       "    <tr style=\"text-align: right;\">\n",
       "      <th></th>\n",
       "      <th>intervalls</th>\n",
       "      <th>train_error</th>\n",
       "      <th>testerror</th>\n",
       "      <th>baserate</th>\n",
       "      <th>diff</th>\n",
       "    </tr>\n",
       "  </thead>\n",
       "  <tbody>\n",
       "    <tr>\n",
       "      <th>0</th>\n",
       "      <td>2</td>\n",
       "      <td>0.824030</td>\n",
       "      <td>0.818645</td>\n",
       "      <td>0.500040</td>\n",
       "      <td>0.318605</td>\n",
       "    </tr>\n",
       "    <tr>\n",
       "      <th>1</th>\n",
       "      <td>3</td>\n",
       "      <td>0.694921</td>\n",
       "      <td>0.695537</td>\n",
       "      <td>0.333598</td>\n",
       "      <td>0.361939</td>\n",
       "    </tr>\n",
       "    <tr>\n",
       "      <th>2</th>\n",
       "      <td>4</td>\n",
       "      <td>0.571828</td>\n",
       "      <td>0.584397</td>\n",
       "      <td>0.250093</td>\n",
       "      <td>0.334304</td>\n",
       "    </tr>\n",
       "    <tr>\n",
       "      <th>3</th>\n",
       "      <td>5</td>\n",
       "      <td>0.520802</td>\n",
       "      <td>0.528926</td>\n",
       "      <td>0.200346</td>\n",
       "      <td>0.328579</td>\n",
       "    </tr>\n",
       "    <tr>\n",
       "      <th>4</th>\n",
       "      <td>6</td>\n",
       "      <td>0.464189</td>\n",
       "      <td>0.472066</td>\n",
       "      <td>0.167037</td>\n",
       "      <td>0.305029</td>\n",
       "    </tr>\n",
       "    <tr>\n",
       "      <th>5</th>\n",
       "      <td>7</td>\n",
       "      <td>0.402817</td>\n",
       "      <td>0.408264</td>\n",
       "      <td>0.144042</td>\n",
       "      <td>0.264223</td>\n",
       "    </tr>\n",
       "    <tr>\n",
       "      <th>6</th>\n",
       "      <td>8</td>\n",
       "      <td>0.382287</td>\n",
       "      <td>0.394050</td>\n",
       "      <td>0.126507</td>\n",
       "      <td>0.267542</td>\n",
       "    </tr>\n",
       "    <tr>\n",
       "      <th>7</th>\n",
       "      <td>9</td>\n",
       "      <td>0.347031</td>\n",
       "      <td>0.350479</td>\n",
       "      <td>0.112213</td>\n",
       "      <td>0.238266</td>\n",
       "    </tr>\n",
       "  </tbody>\n",
       "</table>\n",
       "</div>"
      ],
      "text/plain": [
       "   intervalls  train_error  testerror  baserate      diff\n",
       "0           2     0.824030   0.818645  0.500040  0.318605\n",
       "1           3     0.694921   0.695537  0.333598  0.361939\n",
       "2           4     0.571828   0.584397  0.250093  0.334304\n",
       "3           5     0.520802   0.528926  0.200346  0.328579\n",
       "4           6     0.464189   0.472066  0.167037  0.305029\n",
       "5           7     0.402817   0.408264  0.144042  0.264223\n",
       "6           8     0.382287   0.394050  0.126507  0.267542\n",
       "7           9     0.347031   0.350479  0.112213  0.238266"
      ]
     },
     "execution_count": 47,
     "metadata": {},
     "output_type": "execute_result"
    }
   ],
   "source": [
    "intervalls_testError = pd.DataFrame(intervalls_testError)\n",
    "intervalls_testError = intervalls_testError.rename(columns={0:\"intervalls\",1: \"train_error\",2:\"testerror\",3:\"baserate\"})\n",
    "intervalls_testError['diff'] = intervalls_testError['testerror']-intervalls_testError['baserate']\n",
    "intervalls_testError"
   ]
  },
  {
   "cell_type": "code",
   "execution_count": 48,
   "metadata": {},
   "outputs": [
    {
     "data": {
      "text/plain": [
       "<matplotlib.axes._subplots.AxesSubplot at 0x11aebdbe0>"
      ]
     },
     "execution_count": 48,
     "metadata": {},
     "output_type": "execute_result"
    },
    {
     "data": {
      "image/png": "[encoded data removed]",
      "text/plain": [
       "<Figure size 432x288 with 1 Axes>"
      ]
     },
     "metadata": {
      "needs_background": "light"
     },
     "output_type": "display_data"
    }
   ],
   "source": [
    "intervalls_testError.plot(x=\"intervalls\", y=[\"baserate\",\"testerror\",\"diff\"])"
   ]
  },
  {
   "cell_type": "markdown",
   "metadata": {},
   "source": [
    "Intervall = 5 is a good compromise between performance and sufficient number of observations in an intervall."
   ]
  },
  {
   "cell_type": "markdown",
   "metadata": {},
   "source": [
    "## Find the best combinations of parameters"
   ]
  },
  {
   "cell_type": "code",
   "execution_count": 52,
   "metadata": {},
   "outputs": [
    {
     "name": "stdout",
     "output_type": "stream",
     "text": [
      "Base rate : 0.20034645086216016\n",
      "\n",
      "intervalls for y:\n",
      "(0.999, 103.0]          15151\n",
      "(57873.4, 4447374.0]    15125\n",
      "(6087.8, 57873.4]       15125\n",
      "(948.0, 6087.8]         15118\n",
      "(103.0, 948.0]          15105\n",
      "Name: quant, dtype: int64\n",
      "\n",
      "train_score : 0.36977470701995074 test_score = 0.3703801652892562\n"
     ]
    }
   ],
   "source": [
    "L1 = computeLogistic(nozero,ports,['Measure'],5)"
   ]
  },
  {
   "cell_type": "code",
   "execution_count": 53,
   "metadata": {
    "scrolled": true
   },
   "outputs": [
    {
     "name": "stdout",
     "output_type": "stream",
     "text": [
      "Base rate : 0.20034645086216016\n",
      "\n",
      "intervalls for y:\n",
      "(0.999, 103.0]          15151\n",
      "(57873.4, 4447374.0]    15125\n",
      "(6087.8, 57873.4]       15125\n",
      "(948.0, 6087.8]         15118\n",
      "(103.0, 948.0]          15105\n",
      "Name: quant, dtype: int64\n",
      "\n",
      "train_score : 0.245888361791104 test_score = 0.23735537190082645\n"
     ]
    }
   ],
   "source": [
    "L2 = computeLogistic(nozero,ports,['Port Code'],5)"
   ]
  },
  {
   "cell_type": "code",
   "execution_count": 54,
   "metadata": {},
   "outputs": [
    {
     "name": "stdout",
     "output_type": "stream",
     "text": [
      "Base rate : 0.20034645086216016\n",
      "\n",
      "intervalls for y:\n",
      "(0.999, 103.0]          15151\n",
      "(57873.4, 4447374.0]    15125\n",
      "(6087.8, 57873.4]       15125\n",
      "(948.0, 6087.8]         15118\n",
      "(103.0, 948.0]          15105\n",
      "Name: quant, dtype: int64\n",
      "\n",
      "train_score : 0.44347840460172894 test_score = 0.4432396694214876\n"
     ]
    }
   ],
   "source": [
    "L3 = computeLogistic(nozero,ports,['Measure','Port Code'],5)"
   ]
  },
  {
   "cell_type": "code",
   "execution_count": 56,
   "metadata": {},
   "outputs": [
    {
     "name": "stdout",
     "output_type": "stream",
     "text": [
      "Base rate : 0.20034645086216016\n",
      "\n",
      "intervalls for y:\n",
      "(0.999, 103.0]          15151\n",
      "(57873.4, 4447374.0]    15125\n",
      "(6087.8, 57873.4]       15125\n",
      "(948.0, 6087.8]         15118\n",
      "(103.0, 948.0]          15105\n",
      "Name: quant, dtype: int64\n",
      "\n",
      "train_score : 0.44362716739119656 test_score = 0.44502479338842976\n"
     ]
    }
   ],
   "source": [
    "L4 = computeLogistic(nozero,ports,['Measure','Port Code','Month'],5)"
   ]
  },
  {
   "cell_type": "code",
   "execution_count": 57,
   "metadata": {},
   "outputs": [
    {
     "name": "stdout",
     "output_type": "stream",
     "text": [
      "Base rate : 0.20034645086216016\n",
      "\n",
      "intervalls for y:\n",
      "(0.999, 103.0]          15151\n",
      "(57873.4, 4447374.0]    15125\n",
      "(6087.8, 57873.4]       15125\n",
      "(948.0, 6087.8]         15118\n",
      "(103.0, 948.0]          15105\n",
      "Name: quant, dtype: int64\n",
      "\n",
      "train_score : 0.45207358799319 test_score = 0.45269421487603306\n"
     ]
    }
   ],
   "source": [
    "L5 = computeLogistic(nozero,ports,['Measure','Port Code','Year'],5)\n"
   ]
  },
  {
   "cell_type": "code",
   "execution_count": 58,
   "metadata": {},
   "outputs": [
    {
     "name": "stdout",
     "output_type": "stream",
     "text": [
      "Base rate : 0.20034645086216016\n",
      "\n",
      "intervalls for y:\n",
      "(0.999, 103.0]          15151\n",
      "(57873.4, 4447374.0]    15125\n",
      "(6087.8, 57873.4]       15125\n",
      "(948.0, 6087.8]         15118\n",
      "(103.0, 948.0]          15105\n",
      "Name: quant, dtype: int64\n",
      "\n",
      "train_score : 0.4442387477478967 test_score = 0.44469421487603306\n"
     ]
    }
   ],
   "source": [
    "L6 = computeLogistic(nozero,ports,['Measure','Port Code','Year','Month'],5)"
   ]
  },
  {
   "cell_type": "code",
   "execution_count": 59,
   "metadata": {},
   "outputs": [
    {
     "name": "stdout",
     "output_type": "stream",
     "text": [
      "Base rate : 0.20034645086216016\n",
      "\n",
      "intervalls for y:\n",
      "(0.999, 103.0]          15151\n",
      "(57873.4, 4447374.0]    15125\n",
      "(6087.8, 57873.4]       15125\n",
      "(948.0, 6087.8]         15118\n",
      "(103.0, 948.0]          15105\n",
      "Name: quant, dtype: int64\n",
      "\n",
      "train_score : 0.5192151936395643 test_score = 0.5215206611570248\n"
     ]
    }
   ],
   "source": [
    "L7 = computeLogistic(nozero,ports,['Measure','Port Code','State'],5)"
   ]
  },
  {
   "cell_type": "code",
   "execution_count": 60,
   "metadata": {},
   "outputs": [
    {
     "name": "stdout",
     "output_type": "stream",
     "text": [
      "Base rate : 0.20034645086216016\n",
      "\n",
      "intervalls for y:\n",
      "(0.999, 103.0]          15151\n",
      "(57873.4, 4447374.0]    15125\n",
      "(6087.8, 57873.4]       15125\n",
      "(948.0, 6087.8]         15118\n",
      "(103.0, 948.0]          15105\n",
      "Name: quant, dtype: int64\n",
      "\n",
      "train_score : 0.5241574240896544 test_score = 0.5265454545454545\n"
     ]
    }
   ],
   "source": [
    "L8 = computeLogistic(nozero,ports,['Measure','Port Code','State','latitude'],5)"
   ]
  },
  {
   "cell_type": "code",
   "execution_count": 61,
   "metadata": {},
   "outputs": [
    {
     "name": "stdout",
     "output_type": "stream",
     "text": [
      "Base rate : 0.20034645086216016\n",
      "\n",
      "intervalls for y:\n",
      "(0.999, 103.0]          15151\n",
      "(57873.4, 4447374.0]    15125\n",
      "(6087.8, 57873.4]       15125\n",
      "(948.0, 6087.8]         15118\n",
      "(103.0, 948.0]          15105\n",
      "Name: quant, dtype: int64\n",
      "\n",
      "train_score : 0.5242731284814625 test_score = 0.5268099173553719\n"
     ]
    }
   ],
   "source": [
    "L9 = computeLogistic(nozero,ports,['Measure','Port Code','State','latitude','longitude'],5)"
   ]
  },
  {
   "cell_type": "code",
   "execution_count": 62,
   "metadata": {},
   "outputs": [
    {
     "name": "stdout",
     "output_type": "stream",
     "text": [
      "Base rate : 0.20034645086216016\n",
      "\n",
      "intervalls for y:\n",
      "(0.999, 103.0]          15151\n",
      "(57873.4, 4447374.0]    15125\n",
      "(6087.8, 57873.4]       15125\n",
      "(948.0, 6087.8]         15118\n",
      "(103.0, 948.0]          15105\n",
      "Name: quant, dtype: int64\n",
      "\n",
      "train_score : 0.5279591398204929 test_score = 0.5302479338842975\n"
     ]
    }
   ],
   "source": [
    "L10 = computeLogistic(nozero,ports,['Measure','Port Code','State','latitude','longitude','Border'],5)"
   ]
  },
  {
   "cell_type": "code",
   "execution_count": 63,
   "metadata": {},
   "outputs": [
    {
     "name": "stdout",
     "output_type": "stream",
     "text": [
      "Base rate : 0.20034645086216016\n",
      "\n",
      "intervalls for y:\n",
      "(0.999, 103.0]          15151\n",
      "(57873.4, 4447374.0]    15125\n",
      "(6087.8, 57873.4]       15125\n",
      "(948.0, 6087.8]         15118\n",
      "(103.0, 948.0]          15105\n",
      "Name: quant, dtype: int64\n",
      "\n",
      "train_score : 0.5219425114464702 test_score = 0.5254214876033058\n"
     ]
    }
   ],
   "source": [
    "L11 = computeLogistic(nozero,ports,['Measure','Port Code','State','Year','latitude','longitude'],5)"
   ]
  },
  {
   "cell_type": "markdown",
   "metadata": {},
   "source": [
    "The best combinations (L10) of parameters are ['Measure','Port Code','State','latitude','longitude','Border'] for a test score of 0.53\n"
   ]
  },
  {
   "cell_type": "code",
   "execution_count": 64,
   "metadata": {},
   "outputs": [
    {
     "name": "stdout",
     "output_type": "stream",
     "text": [
      "Base rate : 0.20034645086216016\n",
      "\n",
      "intervalls for y:\n",
      "(0.999, 103.0]          15151\n",
      "(57873.4, 4447374.0]    15125\n",
      "(6087.8, 57873.4]       15125\n",
      "(948.0, 6087.8]         15118\n",
      "(103.0, 948.0]          15105\n",
      "Name: quant, dtype: int64\n",
      "\n",
      "train_score : 0.5171986313823369 test_score = 0.5261487603305786\n"
     ]
    }
   ],
   "source": [
    "L12 = computeLogistic(nozero.sort_values(by=['Date']).reset_index(drop=True),ports,['Measure','Port Code','State','latitude','longitude','Border'],5)"
   ]
  },
  {
   "cell_type": "markdown",
   "metadata": {},
   "source": [
    "If we sort the values by Date that doesn't help to improve our test score"
   ]
  },
  {
   "cell_type": "code",
   "execution_count": 84,
   "metadata": {},
   "outputs": [
    {
     "data": {
      "text/plain": [
       "array([[ 8946,  2749,   107,   136,   127],\n",
       "       [ 4087,  5353,  1655,   578,   422],\n",
       "       [ 2825,  1757,  4348,  1186,  2036],\n",
       "       [  894,   821,  3621,  2723,  4062],\n",
       "       [   39,   125,   451,   880, 10571]])"
      ]
     },
     "execution_count": 84,
     "metadata": {},
     "output_type": "execute_result"
    }
   ],
   "source": [
    "#Plot the confusion matrix for l10\n",
    "L10[2]"
   ]
  },
  {
   "cell_type": "markdown",
   "metadata": {},
   "source": [
    "## Logistic regression on ports"
   ]
  },
  {
   "cell_type": "code",
   "execution_count": 13,
   "metadata": {},
   "outputs": [
    {
     "name": "stdout",
     "output_type": "stream",
     "text": [
      "Base rate : 0.20039486673247778\n",
      "\n",
      "intervalls for y:\n",
      "(14014.0, 49762.0]    203\n",
      "(500.8, 1297.6]       203\n",
      "(0.999, 88.4]         203\n",
      "(1297.6, 14014.0]     202\n",
      "(88.4, 500.8]         202\n",
      "Name: quant, dtype: int64\n",
      "\n",
      "train_score : 0.6851851851851852 test_score = 0.6699507389162561\n",
      "Base rate : 0.2\n",
      "\n",
      "intervalls for y:\n",
      "(650030.8, 2473401.0]    173\n",
      "(74705.0, 650030.8]      173\n",
      "(16619.6, 74705.0]       173\n",
      "(917.4, 16619.6]         173\n",
      "(359.999, 917.4]         173\n",
      "Name: quant, dtype: int64\n",
      "\n",
      "train_score : 0.8005780346820809 test_score = 0.8034682080924855\n",
      "Base rate : 0.2\n",
      "\n",
      "intervalls for y:\n",
      "(110083.2, 307761.0]    224\n",
      "(4109.4, 110083.2]      224\n",
      "(2459.4, 4109.4]        224\n",
      "(305.4, 2459.4]         224\n",
      "(2.999, 305.4]          224\n",
      "Name: quant, dtype: int64\n",
      "\n",
      "train_score : 0.625 test_score = 0.6383928571428571\n",
      "Base rate : 0.200734394124847\n",
      "\n",
      "intervalls for y:\n",
      "(118028.4, 1507021.0]    164\n",
      "(1465.6, 2250.0]         164\n",
      "(3.999, 939.2]           164\n",
      "(939.2, 1465.6]          163\n",
      "(2250.0, 118028.4]       162\n",
      "Name: quant, dtype: int64\n",
      "\n",
      "train_score : 0.4563552833078101 test_score = 0.3780487804878049\n",
      "Base rate : 0.20169082125603865\n",
      "\n",
      "intervalls for y:\n",
      "(1.999, 81.0]         167\n",
      "(34216.6, 90973.0]    166\n",
      "(472.8, 1986.4]       166\n",
      "(1986.4, 34216.6]     165\n",
      "(81.0, 472.8]         164\n",
      "Name: quant, dtype: int64\n",
      "\n",
      "train_score : 0.6329305135951662 test_score = 0.5903614457831325\n",
      "Base rate : 0.2018348623853211\n",
      "\n",
      "intervalls for y:\n",
      "(18.0, 45.0]         198\n",
      "(0.999, 18.0]        197\n",
      "(5934.0, 24225.0]    196\n",
      "(174.0, 5934.0]      196\n",
      "(45.0, 174.0]        194\n",
      "Name: quant, dtype: int64\n",
      "\n",
      "train_score : 0.6033163265306123 test_score = 0.5786802030456852\n",
      "Base rate : 0.20047449584816132\n",
      "\n",
      "intervalls for y:\n",
      "(6716.6, 12796.0]    169\n",
      "(154.0, 462.0]       169\n",
      "(15.4, 154.0]        169\n",
      "(0.999, 15.4]        169\n",
      "(462.0, 6716.6]      167\n",
      "Name: quant, dtype: int64\n",
      "\n",
      "train_score : 0.712166172106825 test_score = 0.7337278106508875\n",
      "Base rate : 0.20103092783505155\n",
      "\n",
      "intervalls for y:\n",
      "(109.999, 3061.0]        195\n",
      "(507620.0, 1208445.0]    194\n",
      "(30249.0, 507620.0]      194\n",
      "(9302.4, 30249.0]        194\n",
      "(3061.0, 9302.4]         193\n",
      "Name: quant, dtype: int64\n",
      "\n",
      "train_score : 0.7139175257731959 test_score = 0.654639175257732\n",
      "Base rate : 0.20217391304347826\n",
      "\n",
      "intervalls for y:\n",
      "(0.999, 34.0]         186\n",
      "(16045.8, 45092.0]    184\n",
      "(524.4, 16045.8]      184\n",
      "(34.0, 75.0]          184\n",
      "(75.0, 524.4]         182\n",
      "Name: quant, dtype: int64\n",
      "\n",
      "train_score : 0.6059782608695652 test_score = 0.625\n",
      "Base rate : 0.20235546038543897\n",
      "\n",
      "intervalls for y:\n",
      "(0.999, 33.0]        189\n",
      "(7797.2, 37884.0]    187\n",
      "(33.0, 54.0]         187\n",
      "(106.0, 7797.2]      186\n",
      "(54.0, 106.0]        185\n",
      "Name: quant, dtype: int64\n",
      "\n",
      "train_score : 0.6894243641231593 test_score = 0.6203208556149733\n",
      "Base rate : 0.21192758253461128\n",
      "\n",
      "intervalls for y:\n",
      "(1.999, 56.0]          199\n",
      "(62708.8, 194875.0]    188\n",
      "(8202.0, 62708.8]      188\n",
      "(70.2, 8202.0]         187\n",
      "(56.0, 70.2]           177\n",
      "Name: quant, dtype: int64\n",
      "\n",
      "train_score : 0.7043941411451398 test_score = 0.7127659574468085\n",
      "Base rate : 0.2007125890736342\n",
      "\n",
      "intervalls for y:\n",
      "(88774.0, 286101.0]    169\n",
      "(2.999, 509.2]         169\n",
      "(7412.2, 88774.0]      168\n",
      "(3050.8, 7412.2]       168\n",
      "(509.2, 3050.8]        168\n",
      "Name: quant, dtype: int64\n",
      "\n",
      "train_score : 0.7860326894502229 test_score = 0.7514792899408284\n",
      "Base rate : 0.20070838252656434\n",
      "\n",
      "intervalls for y:\n",
      "(141409.4, 443797.0]    170\n",
      "(132.999, 3269.4]       170\n",
      "(33269.4, 141409.4]     169\n",
      "(19767.4, 33269.4]      169\n",
      "(3269.4, 19767.4]       169\n",
      "Name: quant, dtype: int64\n",
      "\n",
      "train_score : 0.8212703101920237 test_score = 0.8\n",
      "Base rate : 0.20449438202247192\n",
      "\n",
      "intervalls for y:\n",
      "(0.999, 350.0]          182\n",
      "(126540.6, 305945.0]    178\n",
      "(6329.8, 126540.6]      178\n",
      "(1245.0, 6329.8]        177\n",
      "(350.0, 1245.0]         175\n",
      "Name: quant, dtype: int64\n",
      "\n",
      "train_score : 0.776685393258427 test_score = 0.7696629213483146\n",
      "Base rate : 0.2\n",
      "\n",
      "intervalls for y:\n",
      "(988571.4, 2024496.0]    169\n",
      "(406080.2, 988571.4]     169\n",
      "(277004.6, 406080.2]     169\n",
      "(70506.2, 277004.6]      169\n",
      "(13910.999, 70506.2]     169\n",
      "Name: quant, dtype: int64\n",
      "\n",
      "train_score : 0.7204142011834319 test_score = 0.7751479289940828\n",
      "Base rate : 0.20094562647754138\n",
      "\n",
      "intervalls for y:\n",
      "(1749.999, 44340.0]      170\n",
      "(943719.0, 2805201.0]    169\n",
      "(207469.0, 943719.0]     169\n",
      "(161314.0, 207469.0]     169\n",
      "(44340.0, 161314.0]      169\n",
      "Name: quant, dtype: int64\n",
      "\n",
      "train_score : 0.834319526627219 test_score = 0.7764705882352941\n",
      "Base rate : 0.20039100684261973\n",
      "\n",
      "intervalls for y:\n",
      "(1629945.4, 4447374.0]    205\n",
      "(36076.2, 595876.2]       205\n",
      "(0.999, 9551.4]           205\n",
      "(595876.2, 1629945.4]     204\n",
      "(9551.4, 36076.2]         204\n",
      "Name: quant, dtype: int64\n",
      "\n",
      "train_score : 0.7444987775061125 test_score = 0.7219512195121951\n",
      "Base rate : 0.20159680638722555\n",
      "\n",
      "intervalls for y:\n",
      "(56.999, 612.0]         202\n",
      "(472493.0, 929284.0]    201\n",
      "(61310.2, 472493.0]     200\n",
      "(2884.4, 61310.2]       200\n",
      "(612.0, 2884.4]         199\n",
      "Name: quant, dtype: int64\n",
      "\n",
      "train_score : 0.7865168539325843 test_score = 0.7860696517412935\n",
      "Base rate : 0.2007042253521127\n",
      "\n",
      "intervalls for y:\n",
      "(888526.8, 1768766.0]    171\n",
      "(76.999, 5120.6]         171\n",
      "(270732.4, 888526.8]     170\n",
      "(192063.0, 270732.4]     170\n",
      "(5120.6, 192063.0]       170\n",
      "Name: quant, dtype: int64\n",
      "\n",
      "train_score : 0.7841409691629956 test_score = 0.7953216374269005\n",
      "Base rate : 0.21271393643031786\n",
      "\n",
      "intervalls for y:\n",
      "(69.0, 104.0]         174\n",
      "(1.999, 69.0]         165\n",
      "(24543.8, 78621.0]    164\n",
      "(208.2, 24543.8]      163\n",
      "(104.0, 208.2]        152\n",
      "Name: quant, dtype: int64\n",
      "\n",
      "train_score : 0.6253822629969419 test_score = 0.6463414634146342\n",
      "Base rate : 0.20217917675544794\n",
      "\n",
      "intervalls for y:\n",
      "(0.999, 21.0]           167\n",
      "(145412.0, 371405.0]    165\n",
      "(7202.0, 145412.0]      165\n",
      "(2470.0, 7202.0]        165\n",
      "(21.0, 2470.0]          164\n",
      "Name: quant, dtype: int64\n",
      "\n",
      "train_score : 0.7227272727272728 test_score = 0.6746987951807228\n",
      "Base rate : 0.20089686098654708\n",
      "\n",
      "intervalls for y:\n",
      "(3.999, 304.0]          224\n",
      "(146493.8, 550685.0]    223\n",
      "(22781.6, 146493.8]     223\n",
      "(3135.6, 22781.6]       223\n",
      "(304.0, 3135.6]         222\n",
      "Name: quant, dtype: int64\n",
      "\n",
      "train_score : 0.6995515695067265 test_score = 0.7130044843049327\n",
      "Base rate : 0.20035460992907803\n",
      "\n",
      "intervalls for y:\n",
      "(822124.4, 2523598.0]    226\n",
      "(24471.4, 68399.8]       226\n",
      "(362.999, 3538.4]        226\n",
      "(68399.8, 822124.4]      225\n",
      "(3538.4, 24471.4]        225\n",
      "Name: quant, dtype: int64\n",
      "\n",
      "train_score : 0.7084257206208425 test_score = 0.668141592920354\n",
      "Base rate : 0.20074812967581046\n",
      "\n",
      "intervalls for y:\n",
      "(68957.6, 156527.0]    161\n",
      "(0.999, 215.4]         161\n",
      "(9785.0, 68957.6]      160\n",
      "(1023.8, 9785.0]       160\n",
      "(215.4, 1023.8]        160\n",
      "Name: quant, dtype: int64\n",
      "\n",
      "train_score : 0.5179407176287052 test_score = 0.5031055900621118\n",
      "Base rate : 0.2017220172201722\n",
      "\n",
      "intervalls for y:\n",
      "(9.999, 1524.0]        164\n",
      "(60614.8, 148151.0]    163\n",
      "(16137.8, 24376.0]     163\n",
      "(24376.0, 60614.8]     162\n",
      "(1524.0, 16137.8]      161\n",
      "Name: quant, dtype: int64\n",
      "\n",
      "train_score : 0.6276923076923077 test_score = 0.6257668711656442\n",
      "Base rate : 0.20212765957446807\n",
      "\n",
      "intervalls for y:\n",
      "(381.0, 495.0]        228\n",
      "(43.999, 381.0]       227\n",
      "(10714.4, 41536.0]    226\n",
      "(727.4, 10714.4]      225\n",
      "(495.0, 727.4]        222\n",
      "Name: quant, dtype: int64\n",
      "\n",
      "train_score : 0.5454545454545454 test_score = 0.5442477876106194\n",
      "Base rate : 0.201246660730187\n",
      "\n",
      "intervalls for y:\n",
      "(18.999, 562.0]        226\n",
      "(54103.2, 217294.0]    225\n",
      "(711.8, 1528.2]        225\n",
      "(1528.2, 54103.2]      224\n",
      "(562.0, 711.8]         223\n",
      "Name: quant, dtype: int64\n",
      "\n",
      "train_score : 0.6224944320712695 test_score = 0.6266666666666667\n",
      "Base rate : 0.20047449584816132\n",
      "\n",
      "intervalls for y:\n",
      "(273003.4, 787244.0]    169\n",
      "(52237.8, 92570.0]      169\n",
      "(269.999, 1758.4]       169\n",
      "(92570.0, 273003.4]     168\n",
      "(1758.4, 52237.8]       168\n",
      "Name: quant, dtype: int64\n",
      "\n",
      "train_score : 0.7195845697329377 test_score = 0.6982248520710059\n",
      "Base rate : 0.2011904761904762\n",
      "\n",
      "intervalls for y:\n",
      "(27.999, 858.0]        169\n",
      "(76690.4, 159352.0]    168\n",
      "(8953.0, 76690.4]      168\n",
      "(4229.4, 8953.0]       168\n",
      "(858.0, 4229.4]        167\n",
      "Name: quant, dtype: int64\n",
      "\n",
      "train_score : 0.6324404761904762 test_score = 0.6071428571428571\n",
      "Base rate : 0.20222634508348794\n",
      "\n",
      "intervalls for y:\n",
      "(9.999, 300.0]           218\n",
      "(611223.4, 1895352.0]    216\n",
      "(15157.8, 353870.0]      216\n",
      "(353870.0, 611223.4]     215\n",
      "(300.0, 15157.8]         213\n",
      "Name: quant, dtype: int64\n",
      "\n"
     ]
    },
    {
     "name": "stdout",
     "output_type": "stream",
     "text": [
      "train_score : 0.7691415313225058 test_score = 0.8055555555555556\n",
      "Base rate : 0.20024721878862795\n",
      "\n",
      "intervalls for y:\n",
      "(460055.6, 797199.0]    162\n",
      "(259895.8, 460055.6]    162\n",
      "(101.6, 180451.6]       162\n",
      "(0.999, 101.6]          162\n",
      "(180451.6, 259895.8]    161\n",
      "Name: quant, dtype: int64\n",
      "\n",
      "train_score : 0.58887171561051 test_score = 0.5802469135802469\n",
      "Base rate : 0.20884289746001883\n",
      "\n",
      "intervalls for y:\n",
      "(15.999, 133.0]         222\n",
      "(459547.4, 898363.0]    213\n",
      "(983.2, 8768.0]         213\n",
      "(8768.0, 459547.4]      212\n",
      "(133.0, 983.2]          203\n",
      "Name: quant, dtype: int64\n",
      "\n",
      "train_score : 0.6517647058823529 test_score = 0.6572769953051644\n",
      "Base rate : 0.21422222222222223\n",
      "\n",
      "intervalls for y:\n",
      "(5.999, 42.0]            241\n",
      "(686050.8, 1252553.0]    225\n",
      "(127240.2, 686050.8]     225\n",
      "(18992.2, 127240.2]      225\n",
      "(42.0, 18992.2]          209\n",
      "Name: quant, dtype: int64\n",
      "\n",
      "train_score : 0.7988888888888889 test_score = 0.7866666666666666\n",
      "Base rate : 0.20024875621890548\n",
      "\n",
      "intervalls for y:\n",
      "(2097779.0, 3755585.0]    161\n",
      "(744292.8, 2097779.0]     161\n",
      "(69681.0, 569282.0]       161\n",
      "(3738.999, 69681.0]       161\n",
      "(569282.0, 744292.8]      160\n",
      "Name: quant, dtype: int64\n",
      "\n",
      "train_score : 0.7589424572317263 test_score = 0.7142857142857143\n",
      "Base rate : 0.20062047569803515\n",
      "\n",
      "intervalls for y:\n",
      "(146798.0, 342450.0]    194\n",
      "(0.999, 374.6]          194\n",
      "(47149.8, 146798.0]     193\n",
      "(1049.6, 47149.8]       193\n",
      "(374.6, 1049.6]         193\n",
      "Name: quant, dtype: int64\n",
      "\n",
      "train_score : 0.741267787839586 test_score = 0.7577319587628866\n",
      "Base rate : 0.20216606498194944\n",
      "\n",
      "intervalls for y:\n",
      "(0.999, 160.0]       224\n",
      "(9260.2, 54394.0]    222\n",
      "(205.8, 414.0]       222\n",
      "(414.0, 9260.2]      221\n",
      "(160.0, 205.8]       219\n",
      "Name: quant, dtype: int64\n",
      "\n",
      "train_score : 0.5677200902934537 test_score = 0.5585585585585585\n",
      "Base rate : 0.20059288537549408\n",
      "\n",
      "intervalls for y:\n",
      "(113415.0, 394999.0]    203\n",
      "(1057.4, 2910.0]        203\n",
      "(3.999, 237.6]          203\n",
      "(237.6, 1057.4]         202\n",
      "(2910.0, 113415.0]      201\n",
      "Name: quant, dtype: int64\n",
      "\n",
      "train_score : 0.6019777503090235 test_score = 0.5467980295566502\n",
      "Base rate : 0.20454545454545456\n",
      "\n",
      "intervalls for y:\n",
      "(0.999, 24.0]          171\n",
      "(50567.0, 164064.0]    167\n",
      "(1068.0, 50567.0]      167\n",
      "(345.0, 1068.0]        167\n",
      "(24.0, 345.0]          164\n",
      "Name: quant, dtype: int64\n",
      "\n",
      "train_score : 0.6377245508982036 test_score = 0.6607142857142857\n",
      "Base rate : 0.2077338129496403\n",
      "\n",
      "intervalls for y:\n",
      "(0.999, 36.0]          231\n",
      "(13393.6, 122250.0]    223\n",
      "(443.6, 13393.6]       222\n",
      "(88.4, 443.6]          222\n",
      "(36.0, 88.4]           214\n",
      "Name: quant, dtype: int64\n",
      "\n",
      "train_score : 0.6276715410573678 test_score = 0.6502242152466368\n",
      "Base rate : 0.20216606498194944\n",
      "\n",
      "intervalls for y:\n",
      "(84.0, 220.0]          168\n",
      "(0.999, 84.0]          167\n",
      "(77015.0, 180613.0]    166\n",
      "(1110.0, 77015.0]      166\n",
      "(220.0, 1110.0]        164\n",
      "Name: quant, dtype: int64\n",
      "\n",
      "train_score : 0.641566265060241 test_score = 0.6047904191616766\n",
      "Base rate : 0.20504731861198738\n",
      "\n",
      "intervalls for y:\n",
      "(42.0, 75.0]          195\n",
      "(0.999, 42.0]         193\n",
      "(30335.0, 89650.0]    190\n",
      "(252.0, 30335.0]      190\n",
      "(75.0, 252.0]         183\n",
      "Name: quant, dtype: int64\n",
      "\n",
      "train_score : 0.45526315789473687 test_score = 0.43455497382198954\n",
      "Base rate : 0.20588235294117646\n",
      "\n",
      "intervalls for y:\n",
      "(28.4, 48.0]         189\n",
      "(76.2, 5599.0]       184\n",
      "(0.999, 28.4]        184\n",
      "(5599.0, 35176.0]    183\n",
      "(48.0, 76.2]         178\n",
      "Name: quant, dtype: int64\n",
      "\n",
      "train_score : 0.6008174386920981 test_score = 0.5597826086956522\n",
      "Base rate : 0.2013888888888889\n",
      "\n",
      "intervalls for y:\n",
      "(43.999, 1239.0]        174\n",
      "(289806.0, 922461.0]    173\n",
      "(10509.8, 289806.0]     173\n",
      "(4505.2, 10509.8]       172\n",
      "(1239.0, 4505.2]        172\n",
      "Name: quant, dtype: int64\n",
      "\n",
      "train_score : 0.7192474674384949 test_score = 0.6994219653179191\n",
      "Base rate : 0.21445497630331753\n",
      "\n",
      "intervalls for y:\n",
      "(26.999, 93.0]          181\n",
      "(130785.6, 709612.0]    169\n",
      "(12816.0, 130785.6]     169\n",
      "(3081.4, 12816.0]       168\n",
      "(93.0, 3081.4]          157\n",
      "Name: quant, dtype: int64\n",
      "\n",
      "train_score : 0.7081481481481482 test_score = 0.7337278106508875\n",
      "Base rate : 0.20092592592592592\n",
      "\n",
      "intervalls for y:\n",
      "(196.0, 466.0]        217\n",
      "(75.8, 196.0]         217\n",
      "(23658.0, 52956.0]    216\n",
      "(0.999, 75.8]         216\n",
      "(466.0, 23658.0]      214\n",
      "Name: quant, dtype: int64\n",
      "\n",
      "train_score : 0.5335648148148148 test_score = 0.5694444444444444\n",
      "Base rate : 0.2008888888888889\n",
      "\n",
      "intervalls for y:\n",
      "(0.999, 165.0]         226\n",
      "(33265.2, 106348.0]    225\n",
      "(933.4, 33265.2]       225\n",
      "(275.8, 933.4]         225\n",
      "(165.0, 275.8]         224\n",
      "Name: quant, dtype: int64\n",
      "\n",
      "train_score : 0.6688888888888889 test_score = 0.6888888888888889\n",
      "Base rate : 0.2\n",
      "\n",
      "intervalls for y:\n",
      "(17839.8, 59961.0]    166\n",
      "(595.8, 17839.8]      166\n",
      "(148.6, 595.8]        166\n",
      "(52.8, 148.6]         166\n",
      "(0.999, 52.8]         166\n",
      "Name: quant, dtype: int64\n",
      "\n",
      "train_score : 0.6400602409638554 test_score = 0.6204819277108434\n"
     ]
    }
   ],
   "source": [
    "#We create a list of \"goods\" port : these port will have more than 800 values not equal to 0.\n",
    "error_port= []\n",
    "for port in ports:\n",
    "    if (nozero[(nozero['Port Name'] == port)].shape[0]>800):\n",
    "        error_port.append([port,computeLogistic(nozero,[port],['Measure','Port Code','State','latitude','Year','Month','longitude','Border'],5)])"
   ]
  },
  {
   "cell_type": "code",
   "execution_count": 14,
   "metadata": {},
   "outputs": [],
   "source": [
    "port_localisation = []\n",
    "for i in range(0,len(error_port)):\n",
    "    port_localisation.append([error_port[i][0],error_port[i][1][0],error_port[i][1][1]])"
   ]
  },
  {
   "cell_type": "markdown",
   "metadata": {},
   "source": [
    "Plot the test_score of every of these ports on the map of the USA"
   ]
  },
  {
   "cell_type": "code",
   "execution_count": 26,
   "metadata": {},
   "outputs": [
    {
     "data": {
      "application/vnd.plotly.v1+json": {
       "config": {
        "plotlyServerURL": "https://plot.ly"
       },
       "data": [
        {
         "lat": [
          "48.905266",
          "42.3315509",
          "48.9950874",
          "48.9853824",
          "48.9376147",
          "48.9987931",
          "48.9996344",
          "48.9881108",
          "44.9953505",
          "45.0094923",
          "44.979486",
          "45.00042985",
          "26.4070669",
          "29.9883766",
          "27.5199841",
          "26.3530256",
          "31.7600372",
          "28.7091433",
          "25.9140256",
          "44.881314",
          "44.928106",
          "44.982541",
          "43.0761171",
          "31.8559384",
          "31.8303365",
          "48.9958637",
          "48.614892",
          "31.46223",
          "31.8819798",
          "31.3402134",
          "32.4934395",
          "32.6753413",
          "32.560058",
          "32.5520013",
          "32.5833711",
          "48.999904",
          "45.189032",
          "46.1251286",
          "45.6239358",
          "47.355571",
          "47.157506",
          "45.5634002",
          "42.9815877",
          "46.490586",
          "48.7124408",
          "48.9970672",
          "48.9991329"
         ],
         "locationmode": "USA-states",
         "lon": [
          "-95.314404",
          "-83.0466403",
          "-122.269080593315",
          "-123.077974",
          "-119.4361687",
          "-118.2241779",
          "-117.8310975",
          "-122.7435757",
          "-72.6731285931857",
          "-71.7961053",
          "-73.1054065",
          "-72.1064356198873",
          "-99.0055462",
          "-104.2336552",
          "-99.4953764",
          "-98.216445",
          "-106.487287",
          "-100.4995214",
          "-97.4890856",
          "-74.2656165",
          "-74.892082",
          "-73.377564",
          "-78.9928794",
          "-106.6391577",
          "-107.6385256",
          "-102.5496127",
          "-93.352057",
          "-109.59394273101",
          "-112.8153361",
          "-110.9360818",
          "-114.7737551",
          "-115.3887997",
          "-116.9361338",
          "-117.0430813",
          "-116.6285217",
          "-116.180196",
          "-67.2781424",
          "-67.8407944",
          "-70.2545117",
          "-68.321915",
          "-67.935333",
          "-67.429721",
          "-82.440466",
          "-84.359269",
          "-94.600171",
          "-111.9625745",
          "-115.0565577"
         ],
         "marker": {
          "autocolorscale": false,
          "cmax": 0.8055555555555556,
          "cmin": 0,
          "color": [
           0.6699507389162561,
           0.8034682080924855,
           0.6383928571428571,
           0.3780487804878049,
           0.5903614457831325,
           0.5786802030456852,
           0.7337278106508875,
           0.654639175257732,
           0.625,
           0.6203208556149733,
           0.7127659574468085,
           0.7514792899408284,
           0.8,
           0.7696629213483146,
           0.7751479289940828,
           0.7764705882352941,
           0.7219512195121951,
           0.7860696517412935,
           0.7953216374269005,
           0.6463414634146342,
           0.6746987951807228,
           0.7130044843049327,
           0.668141592920354,
           0.5031055900621118,
           0.6257668711656442,
           0.5442477876106194,
           0.6266666666666667,
           0.6982248520710059,
           0.6071428571428571,
           0.8055555555555556,
           0.5802469135802469,
           0.6572769953051644,
           0.7866666666666666,
           0.7142857142857143,
           0.7577319587628866,
           0.5585585585585585,
           0.5467980295566502,
           0.6607142857142857,
           0.6502242152466368,
           0.6047904191616766,
           0.43455497382198954,
           0.5597826086956522,
           0.6994219653179191,
           0.7337278106508875,
           0.5694444444444444,
           0.6888888888888889,
           0.6204819277108434
          ],
          "colorbar": {
           "title": {
            "text": "Incoming flights<br>February 2011"
           }
          },
          "colorscale": [
           [
            0,
            "rgb(247,252,245)"
           ],
           [
            0.125,
            "rgb(229,245,224)"
           ],
           [
            0.25,
            "rgb(199,233,192)"
           ],
           [
            0.375,
            "rgb(161,217,155)"
           ],
           [
            0.5,
            "rgb(116,196,118)"
           ],
           [
            0.625,
            "rgb(65,171,93)"
           ],
           [
            0.75,
            "rgb(35,139,69)"
           ],
           [
            0.875,
            "rgb(0,109,44)"
           ],
           [
            1,
            "rgb(0,68,27)"
           ]
          ],
          "line": {
           "color": "rgba(102, 102, 102)",
           "width": 1
          },
          "opacity": 0.8,
          "reversescale": true,
          "size": 10,
          "symbol": "square"
         },
         "mode": "markers",
         "text": [
          "Warroad<br>Test Score: 0.6699507389162561",
          "Detroit<br>Test Score: 0.8034682080924855",
          "Sumas<br>Test Score: 0.6383928571428571",
          "Point Roberts<br>Test Score: 0.3780487804878049",
          "Oroville<br>Test Score: 0.5903614457831325",
          "Laurier<br>Test Score: 0.5786802030456852",
          "Frontier<br>Test Score: 0.7337278106508875",
          "Blaine<br>Test Score: 0.654639175257732",
          "Richford<br>Test Score: 0.625",
          "Norton<br>Test Score: 0.6203208556149733",
          "Highgate Springs-Alburg<br>Test Score: 0.7127659574468085",
          "Derby Line<br>Test Score: 0.7514792899408284",
          "Roma<br>Test Score: 0.8",
          "Presidio<br>Test Score: 0.7696629213483146",
          "Laredo<br>Test Score: 0.7751479289940828",
          "Hidalgo<br>Test Score: 0.7764705882352941",
          "El Paso<br>Test Score: 0.7219512195121951",
          "Eagle Pass<br>Test Score: 0.7860696517412935",
          "Brownsville<br>Test Score: 0.7953216374269005",
          "Trout River<br>Test Score: 0.6463414634146342",
          "Massena<br>Test Score: 0.6746987951807228",
          "Champlain-Rouses Point<br>Test Score: 0.7130044843049327",
          "Buffalo-Niagara Falls<br>Test Score: 0.668141592920354",
          "Santa Teresa<br>Test Score: 0.5031055900621118",
          "Columbus<br>Test Score: 0.6257668711656442",
          "Portal<br>Test Score: 0.5442477876106194",
          "International Falls-Ranier<br>Test Score: 0.6266666666666667",
          "Douglas<br>Test Score: 0.6982248520710059",
          "Lukeville<br>Test Score: 0.6071428571428571",
          "Nogales<br>Test Score: 0.8055555555555556",
          "San Luis<br>Test Score: 0.5802469135802469",
          "Calexico East<br>Test Score: 0.6572769953051644",
          "Otay Mesa<br>Test Score: 0.7866666666666666",
          "San Ysidro<br>Test Score: 0.7142857142857143",
          "Tecate<br>Test Score: 0.7577319587628866",
          "Eastport_ID<br>Test Score: 0.5585585585585585",
          "Calais<br>Test Score: 0.5467980295566502",
          "Houlton<br>Test Score: 0.6607142857142857",
          "Jackman<br>Test Score: 0.6502242152466368",
          "Madawaska<br>Test Score: 0.6047904191616766",
          "Van Buren<br>Test Score: 0.43455497382198954",
          "Vanceboro<br>Test Score: 0.5597826086956522",
          "Port Huron<br>Test Score: 0.6994219653179191",
          "Sault Sainte Marie<br>Test Score: 0.7337278106508875",
          "Baudette<br>Test Score: 0.5694444444444444",
          "Sweetgrass<br>Test Score: 0.6888888888888889",
          "Roosville<br>Test Score: 0.6204819277108434"
         ],
         "type": "scattergeo"
        }
       ],
       "layout": {
        "geo": {
         "countrycolor": "rgb(217, 217, 217)",
         "countrywidth": 0.5,
         "landcolor": "rgb(250, 250, 250)",
         "projection": {
          "type": "albers usa"
         },
         "scope": "usa",
         "showland": true,
         "subunitcolor": "rgb(217, 217, 217)",
         "subunitwidth": 0.5
        },
        "template": {
         "data": {
          "bar": [
           {
            "error_x": {
             "color": "#2a3f5f"
            },
            "error_y": {
             "color": "#2a3f5f"
            },
            "marker": {
             "line": {
              "color": "#E5ECF6",
              "width": 0.5
             }
            },
            "type": "bar"
           }
          ],
          "barpolar": [
           {
            "marker": {
             "line": {
              "color": "#E5ECF6",
              "width": 0.5
             }
            },
            "type": "barpolar"
           }
          ],
          "carpet": [
           {
            "aaxis": {
             "endlinecolor": "#2a3f5f",
             "gridcolor": "white",
             "linecolor": "white",
             "minorgridcolor": "white",
             "startlinecolor": "#2a3f5f"
            },
            "baxis": {
             "endlinecolor": "#2a3f5f",
             "gridcolor": "white",
             "linecolor": "white",
             "minorgridcolor": "white",
             "startlinecolor": "#2a3f5f"
            },
            "type": "carpet"
           }
          ],
          "choropleth": [
           {
            "colorbar": {
             "outlinewidth": 0,
             "ticks": ""
            },
            "type": "choropleth"
           }
          ],
          "contour": [
           {
            "colorbar": {
             "outlinewidth": 0,
             "ticks": ""
            },
            "colorscale": [
             [
              0,
              "#0d0887"
             ],
             [
              0.1111111111111111,
              "#46039f"
             ],
             [
              0.2222222222222222,
              "#7201a8"
             ],
             [
              0.3333333333333333,
              "#9c179e"
             ],
             [
              0.4444444444444444,
              "#bd3786"
             ],
             [
              0.5555555555555556,
              "#d8576b"
             ],
             [
              0.6666666666666666,
              "#ed7953"
             ],
             [
              0.7777777777777778,
              "#fb9f3a"
             ],
             [
              0.8888888888888888,
              "#fdca26"
             ],
             [
              1,
              "#f0f921"
             ]
            ],
            "type": "contour"
           }
          ],
          "contourcarpet": [
           {
            "colorbar": {
             "outlinewidth": 0,
             "ticks": ""
            },
            "type": "contourcarpet"
           }
          ],
          "heatmap": [
           {
            "colorbar": {
             "outlinewidth": 0,
             "ticks": ""
            },
            "colorscale": [
             [
              0,
              "#0d0887"
             ],
             [
              0.1111111111111111,
              "#46039f"
             ],
             [
              0.2222222222222222,
              "#7201a8"
             ],
             [
              0.3333333333333333,
              "#9c179e"
             ],
             [
              0.4444444444444444,
              "#bd3786"
             ],
             [
              0.5555555555555556,
              "#d8576b"
             ],
             [
              0.6666666666666666,
              "#ed7953"
             ],
             [
              0.7777777777777778,
              "#fb9f3a"
             ],
             [
              0.8888888888888888,
              "#fdca26"
             ],
             [
              1,
              "#f0f921"
             ]
            ],
            "type": "heatmap"
           }
          ],
          "heatmapgl": [
           {
            "colorbar": {
             "outlinewidth": 0,
             "ticks": ""
            },
            "colorscale": [
             [
              0,
              "#0d0887"
             ],
             [
              0.1111111111111111,
              "#46039f"
             ],
             [
              0.2222222222222222,
              "#7201a8"
             ],
             [
              0.3333333333333333,
              "#9c179e"
             ],
             [
              0.4444444444444444,
              "#bd3786"
             ],
             [
              0.5555555555555556,
              "#d8576b"
             ],
             [
              0.6666666666666666,
              "#ed7953"
             ],
             [
              0.7777777777777778,
              "#fb9f3a"
             ],
             [
              0.8888888888888888,
              "#fdca26"
             ],
             [
              1,
              "#f0f921"
             ]
            ],
            "type": "heatmapgl"
           }
          ],
          "histogram": [
           {
            "marker": {
             "colorbar": {
              "outlinewidth": 0,
              "ticks": ""
             }
            },
            "type": "histogram"
           }
          ],
          "histogram2d": [
           {
            "colorbar": {
             "outlinewidth": 0,
             "ticks": ""
            },
            "colorscale": [
             [
              0,
              "#0d0887"
             ],
             [
              0.1111111111111111,
              "#46039f"
             ],
             [
              0.2222222222222222,
              "#7201a8"
             ],
             [
              0.3333333333333333,
              "#9c179e"
             ],
             [
              0.4444444444444444,
              "#bd3786"
             ],
             [
              0.5555555555555556,
              "#d8576b"
             ],
             [
              0.6666666666666666,
              "#ed7953"
             ],
             [
              0.7777777777777778,
              "#fb9f3a"
             ],
             [
              0.8888888888888888,
              "#fdca26"
             ],
             [
              1,
              "#f0f921"
             ]
            ],
            "type": "histogram2d"
           }
          ],
          "histogram2dcontour": [
           {
            "colorbar": {
             "outlinewidth": 0,
             "ticks": ""
            },
            "colorscale": [
             [
              0,
              "#0d0887"
             ],
             [
              0.1111111111111111,
              "#46039f"
             ],
             [
              0.2222222222222222,
              "#7201a8"
             ],
             [
              0.3333333333333333,
              "#9c179e"
             ],
             [
              0.4444444444444444,
              "#bd3786"
             ],
             [
              0.5555555555555556,
              "#d8576b"
             ],
             [
              0.6666666666666666,
              "#ed7953"
             ],
             [
              0.7777777777777778,
              "#fb9f3a"
             ],
             [
              0.8888888888888888,
              "#fdca26"
             ],
             [
              1,
              "#f0f921"
             ]
            ],
            "type": "histogram2dcontour"
           }
          ],
          "mesh3d": [
           {
            "colorbar": {
             "outlinewidth": 0,
             "ticks": ""
            },
            "type": "mesh3d"
           }
          ],
          "parcoords": [
           {
            "line": {
             "colorbar": {
              "outlinewidth": 0,
              "ticks": ""
             }
            },
            "type": "parcoords"
           }
          ],
          "pie": [
           {
            "automargin": true,
            "type": "pie"
           }
          ],
          "scatter": [
           {
            "marker": {
             "colorbar": {
              "outlinewidth": 0,
              "ticks": ""
             }
            },
            "type": "scatter"
           }
          ],
          "scatter3d": [
           {
            "line": {
             "colorbar": {
              "outlinewidth": 0,
              "ticks": ""
             }
            },
            "marker": {
             "colorbar": {
              "outlinewidth": 0,
              "ticks": ""
             }
            },
            "type": "scatter3d"
           }
          ],
          "scattercarpet": [
           {
            "marker": {
             "colorbar": {
              "outlinewidth": 0,
              "ticks": ""
             }
            },
            "type": "scattercarpet"
           }
          ],
          "scattergeo": [
           {
            "marker": {
             "colorbar": {
              "outlinewidth": 0,
              "ticks": ""
             }
            },
            "type": "scattergeo"
           }
          ],
          "scattergl": [
           {
            "marker": {
             "colorbar": {
              "outlinewidth": 0,
              "ticks": ""
             }
            },
            "type": "scattergl"
           }
          ],
          "scattermapbox": [
           {
            "marker": {
             "colorbar": {
              "outlinewidth": 0,
              "ticks": ""
             }
            },
            "type": "scattermapbox"
           }
          ],
          "scatterpolar": [
           {
            "marker": {
             "colorbar": {
              "outlinewidth": 0,
              "ticks": ""
             }
            },
            "type": "scatterpolar"
           }
          ],
          "scatterpolargl": [
           {
            "marker": {
             "colorbar": {
              "outlinewidth": 0,
              "ticks": ""
             }
            },
            "type": "scatterpolargl"
           }
          ],
          "scatterternary": [
           {
            "marker": {
             "colorbar": {
              "outlinewidth": 0,
              "ticks": ""
             }
            },
            "type": "scatterternary"
           }
          ],
          "surface": [
           {
            "colorbar": {
             "outlinewidth": 0,
             "ticks": ""
            },
            "colorscale": [
             [
              0,
              "#0d0887"
             ],
             [
              0.1111111111111111,
              "#46039f"
             ],
             [
              0.2222222222222222,
              "#7201a8"
             ],
             [
              0.3333333333333333,
              "#9c179e"
             ],
             [
              0.4444444444444444,
              "#bd3786"
             ],
             [
              0.5555555555555556,
              "#d8576b"
             ],
             [
              0.6666666666666666,
              "#ed7953"
             ],
             [
              0.7777777777777778,
              "#fb9f3a"
             ],
             [
              0.8888888888888888,
              "#fdca26"
             ],
             [
              1,
              "#f0f921"
             ]
            ],
            "type": "surface"
           }
          ],
          "table": [
           {
            "cells": {
             "fill": {
              "color": "#EBF0F8"
             },
             "line": {
              "color": "white"
             }
            },
            "header": {
             "fill": {
              "color": "#C8D4E3"
             },
             "line": {
              "color": "white"
             }
            },
            "type": "table"
           }
          ]
         },
         "layout": {
          "annotationdefaults": {
           "arrowcolor": "#2a3f5f",
           "arrowhead": 0,
           "arrowwidth": 1
          },
          "coloraxis": {
           "colorbar": {
            "outlinewidth": 0,
            "ticks": ""
           }
          },
          "colorscale": {
           "diverging": [
            [
             0,
             "#8e0152"
            ],
            [
             0.1,
             "#c51b7d"
            ],
            [
             0.2,
             "#de77ae"
            ],
            [
             0.3,
             "#f1b6da"
            ],
            [
             0.4,
             "#fde0ef"
            ],
            [
             0.5,
             "#f7f7f7"
            ],
            [
             0.6,
             "#e6f5d0"
            ],
            [
             0.7,
             "#b8e186"
            ],
            [
             0.8,
             "#7fbc41"
            ],
            [
             0.9,
             "#4d9221"
            ],
            [
             1,
             "#276419"
            ]
           ],
           "sequential": [
            [
             0,
             "#0d0887"
            ],
            [
             0.1111111111111111,
             "#46039f"
            ],
            [
             0.2222222222222222,
             "#7201a8"
            ],
            [
             0.3333333333333333,
             "#9c179e"
            ],
            [
             0.4444444444444444,
             "#bd3786"
            ],
            [
             0.5555555555555556,
             "#d8576b"
            ],
            [
             0.6666666666666666,
             "#ed7953"
            ],
            [
             0.7777777777777778,
             "#fb9f3a"
            ],
            [
             0.8888888888888888,
             "#fdca26"
            ],
            [
             1,
             "#f0f921"
            ]
           ],
           "sequentialminus": [
            [
             0,
             "#0d0887"
            ],
            [
             0.1111111111111111,
             "#46039f"
            ],
            [
             0.2222222222222222,
             "#7201a8"
            ],
            [
             0.3333333333333333,
             "#9c179e"
            ],
            [
             0.4444444444444444,
             "#bd3786"
            ],
            [
             0.5555555555555556,
             "#d8576b"
            ],
            [
             0.6666666666666666,
             "#ed7953"
            ],
            [
             0.7777777777777778,
             "#fb9f3a"
            ],
            [
             0.8888888888888888,
             "#fdca26"
            ],
            [
             1,
             "#f0f921"
            ]
           ]
          },
          "colorway": [
           "#636efa",
           "#EF553B",
           "#00cc96",
           "#ab63fa",
           "#FFA15A",
           "#19d3f3",
           "#FF6692",
           "#B6E880",
           "#FF97FF",
           "#FECB52"
          ],
          "font": {
           "color": "#2a3f5f"
          },
          "geo": {
           "bgcolor": "white",
           "lakecolor": "white",
           "landcolor": "#E5ECF6",
           "showlakes": true,
           "showland": true,
           "subunitcolor": "white"
          },
          "hoverlabel": {
           "align": "left"
          },
          "hovermode": "closest",
          "mapbox": {
           "style": "light"
          },
          "paper_bgcolor": "white",
          "plot_bgcolor": "#E5ECF6",
          "polar": {
           "angularaxis": {
            "gridcolor": "white",
            "linecolor": "white",
            "ticks": ""
           },
           "bgcolor": "#E5ECF6",
           "radialaxis": {
            "gridcolor": "white",
            "linecolor": "white",
            "ticks": ""
           }
          },
          "scene": {
           "xaxis": {
            "backgroundcolor": "#E5ECF6",
            "gridcolor": "white",
            "gridwidth": 2,
            "linecolor": "white",
            "showbackground": true,
            "ticks": "",
            "zerolinecolor": "white"
           },
           "yaxis": {
            "backgroundcolor": "#E5ECF6",
            "gridcolor": "white",
            "gridwidth": 2,
            "linecolor": "white",
            "showbackground": true,
            "ticks": "",
            "zerolinecolor": "white"
           },
           "zaxis": {
            "backgroundcolor": "#E5ECF6",
            "gridcolor": "white",
            "gridwidth": 2,
            "linecolor": "white",
            "showbackground": true,
            "ticks": "",
            "zerolinecolor": "white"
           }
          },
          "shapedefaults": {
           "line": {
            "color": "#2a3f5f"
           }
          },
          "ternary": {
           "aaxis": {
            "gridcolor": "white",
            "linecolor": "white",
            "ticks": ""
           },
           "baxis": {
            "gridcolor": "white",
            "linecolor": "white",
            "ticks": ""
           },
           "bgcolor": "#E5ECF6",
           "caxis": {
            "gridcolor": "white",
            "linecolor": "white",
            "ticks": ""
           }
          },
          "title": {
           "x": 0.05
          },
          "xaxis": {
           "automargin": true,
           "gridcolor": "white",
           "linecolor": "white",
           "ticks": "",
           "title": {
            "standoff": 15
           },
           "zerolinecolor": "white",
           "zerolinewidth": 2
          },
          "yaxis": {
           "automargin": true,
           "gridcolor": "white",
           "linecolor": "white",
           "ticks": "",
           "title": {
            "standoff": 15
           },
           "zerolinecolor": "white",
           "zerolinewidth": 2
          }
         }
        },
        "title": {
         "text": "Most trafficked US airports<br>(Hover for airport names)"
        }
       }
      },
      "text/html": [
       "<div>\n",
       "        \n",
       "        \n",
       "            <div id=\"96ee828d-b142-4116-b6eb-2fccd0ee3126\" class=\"plotly-graph-div\" style=\"height:525px; width:100%;\"></div>\n",
       "            <script type=\"text/javascript\">\n",
       "                require([\"plotly\"], function(Plotly) {\n",
       "                    window.PLOTLYENV=window.PLOTLYENV || {};\n",
       "                    \n",
       "                if (document.getElementById(\"96ee828d-b142-4116-b6eb-2fccd0ee3126\")) {\n",
       "                    Plotly.newPlot(\n",
       "                        '96ee828d-b142-4116-b6eb-2fccd0ee3126',\n",
       "                        [{\"lat\": [\"48.905266\", \"42.3315509\", \"48.9950874\", \"48.9853824\", \"48.9376147\", \"48.9987931\", \"48.9996344\", \"48.9881108\", \"44.9953505\", \"45.0094923\", \"44.979486\", \"45.00042985\", \"26.4070669\", \"29.9883766\", \"27.5199841\", \"26.3530256\", \"31.7600372\", \"28.7091433\", \"25.9140256\", \"44.881314\", \"44.928106\", \"44.982541\", \"43.0761171\", \"31.8559384\", \"31.8303365\", \"48.9958637\", \"48.614892\", \"31.46223\", \"31.8819798\", \"31.3402134\", \"32.4934395\", \"32.6753413\", \"32.560058\", \"32.5520013\", \"32.5833711\", \"48.999904\", \"45.189032\", \"46.1251286\", \"45.6239358\", \"47.355571\", \"47.157506\", \"45.5634002\", \"42.9815877\", \"46.490586\", \"48.7124408\", \"48.9970672\", \"48.9991329\"], \"locationmode\": \"USA-states\", \"lon\": [\"-95.314404\", \"-83.0466403\", \"-122.269080593315\", \"-123.077974\", \"-119.4361687\", \"-118.2241779\", \"-117.8310975\", \"-122.7435757\", \"-72.6731285931857\", \"-71.7961053\", \"-73.1054065\", \"-72.1064356198873\", \"-99.0055462\", \"-104.2336552\", \"-99.4953764\", \"-98.216445\", \"-106.487287\", \"-100.4995214\", \"-97.4890856\", \"-74.2656165\", \"-74.892082\", \"-73.377564\", \"-78.9928794\", \"-106.6391577\", \"-107.6385256\", \"-102.5496127\", \"-93.352057\", \"-109.59394273101\", \"-112.8153361\", \"-110.9360818\", \"-114.7737551\", \"-115.3887997\", \"-116.9361338\", \"-117.0430813\", \"-116.6285217\", \"-116.180196\", \"-67.2781424\", \"-67.8407944\", \"-70.2545117\", \"-68.321915\", \"-67.935333\", \"-67.429721\", \"-82.440466\", \"-84.359269\", \"-94.600171\", \"-111.9625745\", \"-115.0565577\"], \"marker\": {\"autocolorscale\": false, \"cmax\": 0.8055555555555556, \"cmin\": 0, \"color\": [0.6699507389162561, 0.8034682080924855, 0.6383928571428571, 0.3780487804878049, 0.5903614457831325, 0.5786802030456852, 0.7337278106508875, 0.654639175257732, 0.625, 0.6203208556149733, 0.7127659574468085, 0.7514792899408284, 0.8, 0.7696629213483146, 0.7751479289940828, 0.7764705882352941, 0.7219512195121951, 0.7860696517412935, 0.7953216374269005, 0.6463414634146342, 0.6746987951807228, 0.7130044843049327, 0.668141592920354, 0.5031055900621118, 0.6257668711656442, 0.5442477876106194, 0.6266666666666667, 0.6982248520710059, 0.6071428571428571, 0.8055555555555556, 0.5802469135802469, 0.6572769953051644, 0.7866666666666666, 0.7142857142857143, 0.7577319587628866, 0.5585585585585585, 0.5467980295566502, 0.6607142857142857, 0.6502242152466368, 0.6047904191616766, 0.43455497382198954, 0.5597826086956522, 0.6994219653179191, 0.7337278106508875, 0.5694444444444444, 0.6888888888888889, 0.6204819277108434], \"colorbar\": {\"title\": {\"text\": \"Incoming flights<br>February 2011\"}}, \"colorscale\": [[0.0, \"rgb(247,252,245)\"], [0.125, \"rgb(229,245,224)\"], [0.25, \"rgb(199,233,192)\"], [0.375, \"rgb(161,217,155)\"], [0.5, \"rgb(116,196,118)\"], [0.625, \"rgb(65,171,93)\"], [0.75, \"rgb(35,139,69)\"], [0.875, \"rgb(0,109,44)\"], [1.0, \"rgb(0,68,27)\"]], \"line\": {\"color\": \"rgba(102, 102, 102)\", \"width\": 1}, \"opacity\": 0.8, \"reversescale\": true, \"size\": 10, \"symbol\": \"square\"}, \"mode\": \"markers\", \"text\": [\"Warroad<br>Test Score: 0.6699507389162561\", \"Detroit<br>Test Score: 0.8034682080924855\", \"Sumas<br>Test Score: 0.6383928571428571\", \"Point Roberts<br>Test Score: 0.3780487804878049\", \"Oroville<br>Test Score: 0.5903614457831325\", \"Laurier<br>Test Score: 0.5786802030456852\", \"Frontier<br>Test Score: 0.7337278106508875\", \"Blaine<br>Test Score: 0.654639175257732\", \"Richford<br>Test Score: 0.625\", \"Norton<br>Test Score: 0.6203208556149733\", \"Highgate Springs-Alburg<br>Test Score: 0.7127659574468085\", \"Derby Line<br>Test Score: 0.7514792899408284\", \"Roma<br>Test Score: 0.8\", \"Presidio<br>Test Score: 0.7696629213483146\", \"Laredo<br>Test Score: 0.7751479289940828\", \"Hidalgo<br>Test Score: 0.7764705882352941\", \"El Paso<br>Test Score: 0.7219512195121951\", \"Eagle Pass<br>Test Score: 0.7860696517412935\", \"Brownsville<br>Test Score: 0.7953216374269005\", \"Trout River<br>Test Score: 0.6463414634146342\", \"Massena<br>Test Score: 0.6746987951807228\", \"Champlain-Rouses Point<br>Test Score: 0.7130044843049327\", \"Buffalo-Niagara Falls<br>Test Score: 0.668141592920354\", \"Santa Teresa<br>Test Score: 0.5031055900621118\", \"Columbus<br>Test Score: 0.6257668711656442\", \"Portal<br>Test Score: 0.5442477876106194\", \"International Falls-Ranier<br>Test Score: 0.6266666666666667\", \"Douglas<br>Test Score: 0.6982248520710059\", \"Lukeville<br>Test Score: 0.6071428571428571\", \"Nogales<br>Test Score: 0.8055555555555556\", \"San Luis<br>Test Score: 0.5802469135802469\", \"Calexico East<br>Test Score: 0.6572769953051644\", \"Otay Mesa<br>Test Score: 0.7866666666666666\", \"San Ysidro<br>Test Score: 0.7142857142857143\", \"Tecate<br>Test Score: 0.7577319587628866\", \"Eastport_ID<br>Test Score: 0.5585585585585585\", \"Calais<br>Test Score: 0.5467980295566502\", \"Houlton<br>Test Score: 0.6607142857142857\", \"Jackman<br>Test Score: 0.6502242152466368\", \"Madawaska<br>Test Score: 0.6047904191616766\", \"Van Buren<br>Test Score: 0.43455497382198954\", \"Vanceboro<br>Test Score: 0.5597826086956522\", \"Port Huron<br>Test Score: 0.6994219653179191\", \"Sault Sainte Marie<br>Test Score: 0.7337278106508875\", \"Baudette<br>Test Score: 0.5694444444444444\", \"Sweetgrass<br>Test Score: 0.6888888888888889\", \"Roosville<br>Test Score: 0.6204819277108434\"], \"type\": \"scattergeo\"}],\n",
       "                        {\"geo\": {\"countrycolor\": \"rgb(217, 217, 217)\", \"countrywidth\": 0.5, \"landcolor\": \"rgb(250, 250, 250)\", \"projection\": {\"type\": \"albers usa\"}, \"scope\": \"usa\", \"showland\": true, \"subunitcolor\": \"rgb(217, 217, 217)\", \"subunitwidth\": 0.5}, \"template\": {\"data\": {\"bar\": [{\"error_x\": {\"color\": \"#2a3f5f\"}, \"error_y\": {\"color\": \"#2a3f5f\"}, \"marker\": {\"line\": {\"color\": \"#E5ECF6\", \"width\": 0.5}}, \"type\": \"bar\"}], \"barpolar\": [{\"marker\": {\"line\": {\"color\": \"#E5ECF6\", \"width\": 0.5}}, \"type\": \"barpolar\"}], \"carpet\": [{\"aaxis\": {\"endlinecolor\": \"#2a3f5f\", \"gridcolor\": \"white\", \"linecolor\": \"white\", \"minorgridcolor\": \"white\", \"startlinecolor\": \"#2a3f5f\"}, \"baxis\": {\"endlinecolor\": \"#2a3f5f\", \"gridcolor\": \"white\", \"linecolor\": \"white\", \"minorgridcolor\": \"white\", \"startlinecolor\": \"#2a3f5f\"}, \"type\": \"carpet\"}], \"choropleth\": [{\"colorbar\": {\"outlinewidth\": 0, \"ticks\": \"\"}, \"type\": \"choropleth\"}], \"contour\": [{\"colorbar\": {\"outlinewidth\": 0, \"ticks\": \"\"}, \"colorscale\": [[0.0, \"#0d0887\"], [0.1111111111111111, \"#46039f\"], [0.2222222222222222, \"#7201a8\"], [0.3333333333333333, \"#9c179e\"], [0.4444444444444444, \"#bd3786\"], [0.5555555555555556, \"#d8576b\"], [0.6666666666666666, \"#ed7953\"], [0.7777777777777778, \"#fb9f3a\"], [0.8888888888888888, \"#fdca26\"], [1.0, \"#f0f921\"]], \"type\": \"contour\"}], \"contourcarpet\": [{\"colorbar\": {\"outlinewidth\": 0, \"ticks\": \"\"}, \"type\": \"contourcarpet\"}], \"heatmap\": [{\"colorbar\": {\"outlinewidth\": 0, \"ticks\": \"\"}, \"colorscale\": [[0.0, \"#0d0887\"], [0.1111111111111111, \"#46039f\"], [0.2222222222222222, \"#7201a8\"], [0.3333333333333333, \"#9c179e\"], [0.4444444444444444, \"#bd3786\"], [0.5555555555555556, \"#d8576b\"], [0.6666666666666666, \"#ed7953\"], [0.7777777777777778, \"#fb9f3a\"], [0.8888888888888888, \"#fdca26\"], [1.0, \"#f0f921\"]], \"type\": \"heatmap\"}], \"heatmapgl\": [{\"colorbar\": {\"outlinewidth\": 0, \"ticks\": \"\"}, \"colorscale\": [[0.0, \"#0d0887\"], [0.1111111111111111, \"#46039f\"], [0.2222222222222222, \"#7201a8\"], [0.3333333333333333, \"#9c179e\"], [0.4444444444444444, \"#bd3786\"], [0.5555555555555556, \"#d8576b\"], [0.6666666666666666, \"#ed7953\"], [0.7777777777777778, \"#fb9f3a\"], [0.8888888888888888, \"#fdca26\"], [1.0, \"#f0f921\"]], \"type\": \"heatmapgl\"}], \"histogram\": [{\"marker\": {\"colorbar\": {\"outlinewidth\": 0, \"ticks\": \"\"}}, \"type\": \"histogram\"}], \"histogram2d\": [{\"colorbar\": {\"outlinewidth\": 0, \"ticks\": \"\"}, \"colorscale\": [[0.0, \"#0d0887\"], [0.1111111111111111, \"#46039f\"], [0.2222222222222222, \"#7201a8\"], [0.3333333333333333, \"#9c179e\"], [0.4444444444444444, \"#bd3786\"], [0.5555555555555556, \"#d8576b\"], [0.6666666666666666, \"#ed7953\"], [0.7777777777777778, \"#fb9f3a\"], [0.8888888888888888, \"#fdca26\"], [1.0, \"#f0f921\"]], \"type\": \"histogram2d\"}], \"histogram2dcontour\": [{\"colorbar\": {\"outlinewidth\": 0, \"ticks\": \"\"}, \"colorscale\": [[0.0, \"#0d0887\"], [0.1111111111111111, \"#46039f\"], [0.2222222222222222, \"#7201a8\"], [0.3333333333333333, \"#9c179e\"], [0.4444444444444444, \"#bd3786\"], [0.5555555555555556, \"#d8576b\"], [0.6666666666666666, \"#ed7953\"], [0.7777777777777778, \"#fb9f3a\"], [0.8888888888888888, \"#fdca26\"], [1.0, \"#f0f921\"]], \"type\": \"histogram2dcontour\"}], \"mesh3d\": [{\"colorbar\": {\"outlinewidth\": 0, \"ticks\": \"\"}, \"type\": \"mesh3d\"}], \"parcoords\": [{\"line\": {\"colorbar\": {\"outlinewidth\": 0, \"ticks\": \"\"}}, \"type\": \"parcoords\"}], \"pie\": [{\"automargin\": true, \"type\": \"pie\"}], \"scatter\": [{\"marker\": {\"colorbar\": {\"outlinewidth\": 0, \"ticks\": \"\"}}, \"type\": \"scatter\"}], \"scatter3d\": [{\"line\": {\"colorbar\": {\"outlinewidth\": 0, \"ticks\": \"\"}}, \"marker\": {\"colorbar\": {\"outlinewidth\": 0, \"ticks\": \"\"}}, \"type\": \"scatter3d\"}], \"scattercarpet\": [{\"marker\": {\"colorbar\": {\"outlinewidth\": 0, \"ticks\": \"\"}}, \"type\": \"scattercarpet\"}], \"scattergeo\": [{\"marker\": {\"colorbar\": {\"outlinewidth\": 0, \"ticks\": \"\"}}, \"type\": \"scattergeo\"}], \"scattergl\": [{\"marker\": {\"colorbar\": {\"outlinewidth\": 0, \"ticks\": \"\"}}, \"type\": \"scattergl\"}], \"scattermapbox\": [{\"marker\": {\"colorbar\": {\"outlinewidth\": 0, \"ticks\": \"\"}}, \"type\": \"scattermapbox\"}], \"scatterpolar\": [{\"marker\": {\"colorbar\": {\"outlinewidth\": 0, \"ticks\": \"\"}}, \"type\": \"scatterpolar\"}], \"scatterpolargl\": [{\"marker\": {\"colorbar\": {\"outlinewidth\": 0, \"ticks\": \"\"}}, \"type\": \"scatterpolargl\"}], \"scatterternary\": [{\"marker\": {\"colorbar\": {\"outlinewidth\": 0, \"ticks\": \"\"}}, \"type\": \"scatterternary\"}], \"surface\": [{\"colorbar\": {\"outlinewidth\": 0, \"ticks\": \"\"}, \"colorscale\": [[0.0, \"#0d0887\"], [0.1111111111111111, \"#46039f\"], [0.2222222222222222, \"#7201a8\"], [0.3333333333333333, \"#9c179e\"], [0.4444444444444444, \"#bd3786\"], [0.5555555555555556, \"#d8576b\"], [0.6666666666666666, \"#ed7953\"], [0.7777777777777778, \"#fb9f3a\"], [0.8888888888888888, \"#fdca26\"], [1.0, \"#f0f921\"]], \"type\": \"surface\"}], \"table\": [{\"cells\": {\"fill\": {\"color\": \"#EBF0F8\"}, \"line\": {\"color\": \"white\"}}, \"header\": {\"fill\": {\"color\": \"#C8D4E3\"}, \"line\": {\"color\": \"white\"}}, \"type\": \"table\"}]}, \"layout\": {\"annotationdefaults\": {\"arrowcolor\": \"#2a3f5f\", \"arrowhead\": 0, \"arrowwidth\": 1}, \"coloraxis\": {\"colorbar\": {\"outlinewidth\": 0, \"ticks\": \"\"}}, \"colorscale\": {\"diverging\": [[0, \"#8e0152\"], [0.1, \"#c51b7d\"], [0.2, \"#de77ae\"], [0.3, \"#f1b6da\"], [0.4, \"#fde0ef\"], [0.5, \"#f7f7f7\"], [0.6, \"#e6f5d0\"], [0.7, \"#b8e186\"], [0.8, \"#7fbc41\"], [0.9, \"#4d9221\"], [1, \"#276419\"]], \"sequential\": [[0.0, \"#0d0887\"], [0.1111111111111111, \"#46039f\"], [0.2222222222222222, \"#7201a8\"], [0.3333333333333333, \"#9c179e\"], [0.4444444444444444, \"#bd3786\"], [0.5555555555555556, \"#d8576b\"], [0.6666666666666666, \"#ed7953\"], [0.7777777777777778, \"#fb9f3a\"], [0.8888888888888888, \"#fdca26\"], [1.0, \"#f0f921\"]], \"sequentialminus\": [[0.0, \"#0d0887\"], [0.1111111111111111, \"#46039f\"], [0.2222222222222222, \"#7201a8\"], [0.3333333333333333, \"#9c179e\"], [0.4444444444444444, \"#bd3786\"], [0.5555555555555556, \"#d8576b\"], [0.6666666666666666, \"#ed7953\"], [0.7777777777777778, \"#fb9f3a\"], [0.8888888888888888, \"#fdca26\"], [1.0, \"#f0f921\"]]}, \"colorway\": [\"#636efa\", \"#EF553B\", \"#00cc96\", \"#ab63fa\", \"#FFA15A\", \"#19d3f3\", \"#FF6692\", \"#B6E880\", \"#FF97FF\", \"#FECB52\"], \"font\": {\"color\": \"#2a3f5f\"}, \"geo\": {\"bgcolor\": \"white\", \"lakecolor\": \"white\", \"landcolor\": \"#E5ECF6\", \"showlakes\": true, \"showland\": true, \"subunitcolor\": \"white\"}, \"hoverlabel\": {\"align\": \"left\"}, \"hovermode\": \"closest\", \"mapbox\": {\"style\": \"light\"}, \"paper_bgcolor\": \"white\", \"plot_bgcolor\": \"#E5ECF6\", \"polar\": {\"angularaxis\": {\"gridcolor\": \"white\", \"linecolor\": \"white\", \"ticks\": \"\"}, \"bgcolor\": \"#E5ECF6\", \"radialaxis\": {\"gridcolor\": \"white\", \"linecolor\": \"white\", \"ticks\": \"\"}}, \"scene\": {\"xaxis\": {\"backgroundcolor\": \"#E5ECF6\", \"gridcolor\": \"white\", \"gridwidth\": 2, \"linecolor\": \"white\", \"showbackground\": true, \"ticks\": \"\", \"zerolinecolor\": \"white\"}, \"yaxis\": {\"backgroundcolor\": \"#E5ECF6\", \"gridcolor\": \"white\", \"gridwidth\": 2, \"linecolor\": \"white\", \"showbackground\": true, \"ticks\": \"\", \"zerolinecolor\": \"white\"}, \"zaxis\": {\"backgroundcolor\": \"#E5ECF6\", \"gridcolor\": \"white\", \"gridwidth\": 2, \"linecolor\": \"white\", \"showbackground\": true, \"ticks\": \"\", \"zerolinecolor\": \"white\"}}, \"shapedefaults\": {\"line\": {\"color\": \"#2a3f5f\"}}, \"ternary\": {\"aaxis\": {\"gridcolor\": \"white\", \"linecolor\": \"white\", \"ticks\": \"\"}, \"baxis\": {\"gridcolor\": \"white\", \"linecolor\": \"white\", \"ticks\": \"\"}, \"bgcolor\": \"#E5ECF6\", \"caxis\": {\"gridcolor\": \"white\", \"linecolor\": \"white\", \"ticks\": \"\"}}, \"title\": {\"x\": 0.05}, \"xaxis\": {\"automargin\": true, \"gridcolor\": \"white\", \"linecolor\": \"white\", \"ticks\": \"\", \"title\": {\"standoff\": 15}, \"zerolinecolor\": \"white\", \"zerolinewidth\": 2}, \"yaxis\": {\"automargin\": true, \"gridcolor\": \"white\", \"linecolor\": \"white\", \"ticks\": \"\", \"title\": {\"standoff\": 15}, \"zerolinecolor\": \"white\", \"zerolinewidth\": 2}}}, \"title\": {\"text\": \"Most trafficked US airports<br>(Hover for airport names)\"}},\n",
       "                        {\"responsive\": true}\n",
       "                    ).then(function(){\n",
       "                            \n",
       "var gd = document.getElementById('96ee828d-b142-4116-b6eb-2fccd0ee3126');\n",
       "var x = new MutationObserver(function (mutations, observer) {{\n",
       "        var display = window.getComputedStyle(gd).display;\n",
       "        if (!display || display === 'none') {{\n",
       "            console.log([gd, 'removed!']);\n",
       "            Plotly.purge(gd);\n",
       "            observer.disconnect();\n",
       "        }}\n",
       "}});\n",
       "\n",
       "// Listen for the removal of the full notebook cells\n",
       "var notebookContainer = gd.closest('#notebook-container');\n",
       "if (notebookContainer) {{\n",
       "    x.observe(notebookContainer, {childList: true});\n",
       "}}\n",
       "\n",
       "// Listen for the clearing of the current output cell\n",
       "var outputEl = gd.closest('.output');\n",
       "if (outputEl) {{\n",
       "    x.observe(outputEl, {childList: true});\n",
       "}}\n",
       "\n",
       "                        })\n",
       "                };\n",
       "                });\n",
       "            </script>\n",
       "        </div>"
      ]
     },
     "metadata": {},
     "output_type": "display_data"
    }
   ],
   "source": [
    "port_localisation =  pd.DataFrame(data = port_localisation,columns = ['Port Name','Train Score','Test Score'])\n",
    "ps = nozero[['Port Name','latitude']].drop_duplicates().set_index('Port Name')\n",
    "port_localisation['latitude'] = port_localisation['Port Name'].apply(lambda x : ', '.join(ps.loc[x].values.flatten()))\n",
    "ps = nozero[['Port Name','longitude']].drop_duplicates().set_index('Port Name')\n",
    "port_localisation['longitude'] = port_localisation['Port Name'].apply(lambda x : ', '.join(ps.loc[x].values.flatten()))\n",
    "port_localisation['text'] = port_localisation['Port Name'] + '<br>Test Score: ' + (port_localisation['Test Score']).astype(str)\n",
    "\n",
    "\n",
    "\n",
    "fig = go.Figure(data=go.Scattergeo(\n",
    "        locationmode = 'USA-states',\n",
    "        lon = port_localisation['longitude'],\n",
    "        lat = port_localisation['latitude'],\n",
    "        text = port_localisation['text'],\n",
    "        mode = 'markers',\n",
    "        marker = dict(\n",
    "            size = 10,\n",
    "            opacity = 0.8,\n",
    "            reversescale = True,\n",
    "            autocolorscale = False,\n",
    "            symbol = 'square',\n",
    "            line = dict(\n",
    "                width=1,\n",
    "                color='rgba(102, 102, 102)'\n",
    "            ),\n",
    "            colorscale = 'Greens',\n",
    "            cmin = 0,\n",
    "            color = port_localisation['Test Score'],\n",
    "            cmax = port_localisation['Test Score'].max(),\n",
    "            colorbar_title=\"Incoming flights<br>February 2011\"\n",
    "        )))\n",
    "\n",
    "fig.update_layout(\n",
    "        title = 'Most trafficked US airports<br>(Hover for airport names)',\n",
    "        geo = dict(\n",
    "            scope='usa',\n",
    "            projection_type='albers usa',\n",
    "            showland = True,\n",
    "            landcolor = \"rgb(250, 250, 250)\",\n",
    "            subunitcolor = \"rgb(217, 217, 217)\",\n",
    "            countrycolor = \"rgb(217, 217, 217)\",\n",
    "            countrywidth = 0.5,\n",
    "            subunitwidth = 0.5\n",
    "        ),\n",
    "    )\n",
    "fig.show()"
   ]
  },
  {
   "cell_type": "markdown",
   "metadata": {},
   "source": [
    "# Linear Regression"
   ]
  },
  {
   "cell_type": "markdown",
   "metadata": {},
   "source": [
    "TO DO : Create a linear regression with the logValue for y. (see notebook linear_regression)"
   ]
  },
  {
   "cell_type": "code",
   "execution_count": 51,
   "metadata": {},
   "outputs": [],
   "source": [
    "y = np.log(nozero['Value']+1)"
   ]
  },
  {
   "cell_type": "code",
   "execution_count": 52,
   "metadata": {},
   "outputs": [
    {
     "data": {
      "text/plain": [
       "<matplotlib.axes._subplots.AxesSubplot at 0x1a2aea6f60>"
      ]
     },
     "execution_count": 52,
     "metadata": {},
     "output_type": "execute_result"
    },
    {
     "data": {
      "image/png": "[encoded data removed]",
      "text/plain": [
       "<Figure size 432x288 with 1 Axes>"
      ]
     },
     "metadata": {
      "needs_background": "light"
     },
     "output_type": "display_data"
    }
   ],
   "source": [
    "y.hist()"
   ]
  },
  {
   "cell_type": "code",
   "execution_count": 25,
   "metadata": {},
   "outputs": [
    {
     "name": "stdout",
     "output_type": "stream",
     "text": [
      "train_score : 0.0 test_score = -0.008303422707893748\n"
     ]
    }
   ],
   "source": [
    "X_train, X_test, y_train, y_test = train_test_split(El_Paso[['longitude']], y, test_size=0.2, random_state=42)\n",
    "iowa_model = LinearRegression()\n",
    "iowa_model.fit(X_train,y_train)\n",
    "test_score = iowa_model.score(X_test, y_test)\n",
    "train_score = iowa_model.score(X_train,y_train)\n",
    "print(\"train_score :\",train_score,\"test_score =\",test_score)"
   ]
  },
  {
   "cell_type": "code",
   "execution_count": 26,
   "metadata": {},
   "outputs": [],
   "source": [
    "El_Paso = nozero[nozero['Port Name']== 'El Paso']"
   ]
  },
  {
   "cell_type": "code",
   "execution_count": null,
   "metadata": {},
   "outputs": [],
   "source": []
  }
 ],
 "metadata": {
  "kernelspec": {
   "display_name": "Python 3",
   "language": "python",
   "name": "python3"
  },
  "language_info": {
   "codemirror_mode": {
    "name": "ipython",
    "version": 3
   },
   "file_extension": ".py",
   "mimetype": "text/x-python",
   "name": "python",
   "nbconvert_exporter": "python",
   "pygments_lexer": "ipython3",
   "version": "3.7.3"
  }
 },
 "nbformat": 4,
 "nbformat_minor": 2
}
